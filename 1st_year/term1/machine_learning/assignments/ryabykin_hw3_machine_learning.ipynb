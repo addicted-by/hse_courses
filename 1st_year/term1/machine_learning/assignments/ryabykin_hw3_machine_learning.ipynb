{
  "cells": [
    {
      "cell_type": "markdown",
      "metadata": {
        "id": "fc5aIKvyyOkG"
      },
      "source": [
        "За последнее домашнее задание можно набрать 50 баллов – *таким образом, можно набрать до 5 дополнительных баллов*, которые могут помочь добрать где-либо ранее потерянные баллы, если есть такая необходимость.\n",
        "\n",
        "**Дедлайн – 24 декабря, 23:59**. *Крайне приветствуется* сдача в ранний срок – работа будет проверена практически сразу (в рабочие часы) и студенту будет выставлены итоговые баллы**\n",
        "\n",
        "\n",
        "---\n",
        "\n"
      ]
    },
    {
      "cell_type": "markdown",
      "metadata": {
        "id": "9B4ww11_Wdw5"
      },
      "source": [
        "**1.** (5 баллов) Вы разработали модель, которая страдает низким смещением и высокой дисперсией. Как Вы думаете, какой метод/алгоритм можно в таком случае применить и почему? "
      ]
    },
    {
      "attachments": {},
      "cell_type": "markdown",
      "metadata": {},
      "source": [
        "Низкий ``bias`` и высокий ``variance`` свидетельствуют о переобучении модели. Чтобы решить эту проблему можно использовать/поменять регуляризацию (чтобы ограничить обучаемые параметры), упростить модель (уменьшить количество обучаемых параметров модели) или расширить датасет."
      ]
    },
    {
      "cell_type": "markdown",
      "metadata": {
        "id": "ZWtaoeHFWeAA"
      },
      "source": [
        "**2.** (5 баллов) У Вас есть датафрейм `df_baguettes`, содержащий список цен на французские багеты. Но оказалось, что в этом датафрейме отсутствуют многие значения в столбце цен. По крайней мере несколько багетов имеют цену в столбце.\n",
        "Напишите функцию `median_baguettes`, которая вычисляет медианную цену выбранных французских багетов вместо отсутствующих значений. "
      ]
    },
    {
      "cell_type": "code",
      "execution_count": 48,
      "metadata": {},
      "outputs": [],
      "source": [
        "import pandas as pd\n",
        "import math\n",
        "import numpy as np"
      ]
    },
    {
      "cell_type": "code",
      "execution_count": 28,
      "metadata": {},
      "outputs": [],
      "source": [
        "import pandas as pd\n",
        "def median_baguettes(df:pd.DataFrame, column:str = None) -> float:\n",
        "    \"\"\"\n",
        "    Compute the median value for pandas dataframe column.\n",
        "\n",
        "    ### Inputs: \n",
        "    - df: The pandas dataframe;\n",
        "    - column: string name of pandas dataframe column.\n",
        "\n",
        "    ### Return:\n",
        "    -  median: float value of median for column of pandas dataframe.\n",
        "    \"\"\"\n",
        "    values = [value for value in df[column].values if not math.isnan(value)]\n",
        "    values.sort()\n",
        "    n = len(values)\n",
        "    if n % 2:\n",
        "        median = values[n // 2]\n",
        "    else: \n",
        "        median = (values[n // 2] + values[n // 2 - 1]) / 2\n",
        "    return median"
      ]
    },
    {
      "cell_type": "code",
      "execution_count": 39,
      "metadata": {},
      "outputs": [
        {
          "data": {
            "text/html": [
              "<div>\n",
              "<style scoped>\n",
              "    .dataframe tbody tr th:only-of-type {\n",
              "        vertical-align: middle;\n",
              "    }\n",
              "\n",
              "    .dataframe tbody tr th {\n",
              "        vertical-align: top;\n",
              "    }\n",
              "\n",
              "    .dataframe thead th {\n",
              "        text-align: right;\n",
              "    }\n",
              "</style>\n",
              "<table border=\"1\" class=\"dataframe\">\n",
              "  <thead>\n",
              "    <tr style=\"text-align: right;\">\n",
              "      <th></th>\n",
              "      <th>price</th>\n",
              "    </tr>\n",
              "  </thead>\n",
              "  <tbody>\n",
              "    <tr>\n",
              "      <th>0</th>\n",
              "      <td>10.0</td>\n",
              "    </tr>\n",
              "    <tr>\n",
              "      <th>6</th>\n",
              "      <td>NaN</td>\n",
              "    </tr>\n",
              "    <tr>\n",
              "      <th>2</th>\n",
              "      <td>NaN</td>\n",
              "    </tr>\n",
              "  </tbody>\n",
              "</table>\n",
              "</div>"
            ],
            "text/plain": [
              "   price\n",
              "0   10.0\n",
              "6    NaN\n",
              "2    NaN"
            ]
          },
          "execution_count": 39,
          "metadata": {},
          "output_type": "execute_result"
        }
      ],
      "source": [
        "data = {\"price\": [10, None, None, 15, None, None, None, None, None]}\n",
        "\n",
        "df = pd.DataFrame(data)\n",
        "df.sample(3)"
      ]
    },
    {
      "cell_type": "code",
      "execution_count": 47,
      "metadata": {},
      "outputs": [
        {
          "data": {
            "text/plain": [
              "(12.5, 12.5)"
            ]
          },
          "execution_count": 47,
          "metadata": {},
          "output_type": "execute_result"
        }
      ],
      "source": [
        "df.price.median(), median_baguettes(df, 'price')"
      ]
    },
    {
      "cell_type": "code",
      "execution_count": 42,
      "metadata": {},
      "outputs": [],
      "source": [
        "df1 = df.copy()\n",
        "df.fillna(median_baguettes(df, \"price\"), inplace=True)\n",
        "df1.price.fillna(df1.price.median(), inplace=True)"
      ]
    },
    {
      "cell_type": "code",
      "execution_count": 50,
      "metadata": {},
      "outputs": [],
      "source": [
        "assert np.array_equal(\n",
        "    df.price.values,\n",
        "    df1.price.values\n",
        "), 'Values filled by handcrafted and pandas median implementations are different!'"
      ]
    },
    {
      "cell_type": "markdown",
      "metadata": {
        "id": "o4vriMdTZrpW"
      },
      "source": [
        "**3.** (5 баллов) Предположим, что у Вас есть набор данных как с непрерывными, так и с категориальными переменными. Какие методы кластеризации не помогут достичь высокого качества построенной модели при описанной ситуации с данными и почему? И какие методы кластеризации Вы бы использовали? "
      ]
    },
    {
      "attachments": {},
      "cell_type": "markdown",
      "metadata": {},
      "source": [
        "Классические методы кластеризации, использующие, например, Евклидово расстояние, здесь абсолютно точно бесполезны. Возможно применение нетипичных расстояний, например, обобщение Махалонобиса или Gower расстояние. Алгоритмы ``KMeans``, как и ``GMM`` (расщепление смеси распределений) в этом случае всё равно не подойдут, потому что используют среднее арифметическое (в случае ``KMeans``) и статистики (мат ожидание, дисперсию ``GMM``), что даже для приведенных выше метрик лишено смысла.\n",
        "Можно использовать метод аггломеративной иерархической кластеризации с приведенными метриками, ``DBSCAN`` или ``KPrototypes``. Если не прибегать к новым методам и метрикам, то можно обойтись OneHotEncoding и PCA, после чего воспользоваться классическими методами. "
      ]
    },
    {
      "attachments": {},
      "cell_type": "markdown",
      "metadata": {
        "id": "SKfQdhKceSY-"
      },
      "source": [
        "**4.** Предположим, что перед Вами стоит задача: построить модель машинного обучения для прогнозирования заполняемости отеля в любую дату.\n",
        "\n",
        "\n",
        "*   (2.5 баллов) Какие данные Вы бы использовали для обучения вашей модели? \n",
        "*   (10 баллов со скелетом кода, 5 баллов с письменным описанием) Какую бы модель Вы разработали? \n",
        "*   (2.5 баллов) Как бы Вы оценивали качество модели? \n"
      ]
    },
    {
      "attachments": {},
      "cell_type": "markdown",
      "metadata": {},
      "source": [
        "1) Потенциальные данные: \n",
        "* Сезонность\n",
        "* День недели\n",
        "* Расположение (удаленность от центра)\n",
        "* Средняя стоимость номера\n",
        "* Число комнат\n",
        "* Вместимость комнат (общая)\n",
        "* Вместимость комнат (средняя)\n",
        "* Рейтинг отеля\n",
        "* Крупные мероприятия (например, бинарный признак, есть ли мероприятия с посещаемостью > 100K человек)\n",
        "* Предлагаемые услуги (ресторан, парковка, бассейн)"
      ]
    },
    {
      "attachments": {},
      "cell_type": "markdown",
      "metadata": {},
      "source": [
        "2) Можно подходить как со стороны временных рядов (тогда можно выбрать модели, например, ARIMA, LSTM (любая другая реккурентная сеть)), так и с помощью классических моделей, вплоть до линейной регресии:\n",
        "\n",
        "```python\n",
        "from sklearn.preprocessing import OneHotEncoder, StandardScaler\n",
        "from sklearn.linear_model import Ridge\n",
        "from sklearn.model_selection import cross_val_score, GridSearchCV\n",
        "\n",
        "pipe = make_pipeline(OneHotEncoder(), StandardScaler(), Ridge())\n",
        "\n",
        "parameters = [ {'ridge__alpha': np.arange(0, 0.2, 0.01) } ]\n",
        "\n",
        "from sklearn.metrics import make_scorer\n",
        "scoring_func = make_scorer(mean_squared_error)\n",
        "grid_search = GridSearchCV(estimator=ridge_pipe, \n",
        "                           param_grid=parameters,\n",
        "                           scoring=scoring_func,\n",
        "                           cv=10)\n",
        "grid_search = grid_search.fit(X_train, y_train)\n",
        "``` "
      ]
    },
    {
      "attachments": {},
      "cell_type": "markdown",
      "metadata": {},
      "source": [
        "Оценка: ``MSE``, ``MAE``"
      ]
    },
    {
      "cell_type": "markdown",
      "metadata": {
        "id": "cm4nAmkycnfc"
      },
      "source": [
        "**5.** (10 баллов) У Вас есть строка, напоминающая объявление списка словарей. Не используя Pandas, напишите функцию `read_split_from_str`, которая:\n",
        "\n",
        "*   Читает данные и кодирует их как список словарей (данные можно сгенерировать случайно при помощи numpy, например);\n",
        "*   Разделяет данные на два списка: train и test в соотношении 70:30 и, соответственно, возвращает список `[training_set,testing_set]`. \n",
        "\n",
        "Пример входных данных:\n",
        "\n",
        "`list_of_dict_string = \"[{'x': 0, 'y': 4}, {'x': 20, 'y': 104}, {'x': 128, 'y': 212}]\"`\n",
        "\n",
        "Пример выходных данных:\n",
        "\n",
        "```\n",
        "def read_split_from_str(list_of_dict_string) \n",
        "    [\n",
        "    [{'x': 0, 'y': 4}, {'x': 20, 'y': 104}],\n",
        "    [{'x': 128, 'y': 212}]\n",
        "    ]\n",
        "```\n",
        "\n"
      ]
    },
    {
      "cell_type": "code",
      "execution_count": 54,
      "metadata": {},
      "outputs": [],
      "source": [
        "import ast\n",
        "list_of_dict_string = \"[{'x': 0, 'y': 4}, {'x': 20, 'y': 104}, {'x': 128, 'y': 212}]\"\n",
        "\n",
        "def read_split_from_str(list_of_dict_string: str, p: float=0.7) -> list[list[dict]]:\n",
        "    \n",
        "    data = ast.literal_eval(list_of_dict_string)\n",
        "    border = int(p * len(data))\n",
        "    return [data[:border], data[border:]]"
      ]
    },
    {
      "cell_type": "code",
      "execution_count": 55,
      "metadata": {},
      "outputs": [
        {
          "data": {
            "text/plain": [
              "[[{'x': 0, 'y': 4}, {'x': 20, 'y': 104}], [{'x': 128, 'y': 212}]]"
            ]
          },
          "execution_count": 55,
          "metadata": {},
          "output_type": "execute_result"
        }
      ],
      "source": [
        "read_split_from_str(list_of_dict_string=list_of_dict_string)"
      ]
    },
    {
      "cell_type": "markdown",
      "metadata": {
        "id": "W2NbvSMrdvZY"
      },
      "source": [
        "**6.** (10 баллов) Разработайте модель классификации k-ближайших соседей не используя scikit-learn, соблюдая некоторые условия: \n",
        "\n",
        "\n",
        "*   В качестве метрики близости использовано евклидово расстояние;\n",
        "*   Модель обратаывает датафреймы произвольного количества строк/столбцов."
      ]
    },
    {
      "cell_type": "code",
      "execution_count": 1,
      "metadata": {},
      "outputs": [],
      "source": [
        "import numpy.typing as npt\n",
        "\n",
        "class KNeighborsClassifier:\n",
        "    def __init__(self, k=5) -> None:\n",
        "        \"\"\"\n",
        "        ### Inputs:\n",
        "        - k: The number of nearest neighbors that vote for the predicted labels.\n",
        "        \"\"\"\n",
        "        self.k = k\n",
        "\n",
        "    def fit(self, X_train: npt.ArrayLike, y_train: npt.ArrayLike) -> None:\n",
        "        \"\"\"\n",
        "        Train the classifier. For k-nearest neighbors this is merely\n",
        "        memorizing the training data.\n",
        "\n",
        "        ### Inputs:\n",
        "        - X: A numpy array of shape (num_train, D) containing the training data\n",
        "          consisting of num_train samples each of dimension D.\n",
        "        - y: A numpy array of shape (N,) containing the training labels, where\n",
        "             y[i] is the label for X[i].\n",
        "        \"\"\"\n",
        "        self.X_train = X_train\n",
        "        self.y_train = y_train\n",
        "    \n",
        "    def predict(self, X: npt.ArrayLike, mode:str=\"matrix\") -> npt.ArrayLike:\n",
        "        \"\"\"\n",
        "        Predict labels for test data using this classifier.\n",
        "        \n",
        "        ### Inputs:\n",
        "        - X: A numpy array of shape (num_test, D) containing test data consisting\n",
        "             of num_test samples each of dimension D.\n",
        "        - mode: Determines which implementation to use to compute distances\n",
        "          between training points and testing points.\n",
        "        ### Returns:\n",
        "        - y: A numpy array of shape (num_test,) containing predicted labels for the\n",
        "          test data, where y[i] is the predicted label for the test point X[i].\n",
        "        \"\"\"\n",
        "        if mode == \"matrix\":\n",
        "            dists = self.__l2_matrix(X=X)\n",
        "        elif mode == \"explicit\":\n",
        "            dists = self.__l2_distance(X=X)\n",
        "        else:\n",
        "            ValueError(f\"Invalid value {mode} for mode\")\n",
        "        return self.__predict_labels(dists=dists)\n",
        "\n",
        "\n",
        "    def __l2_matrix(self, X: npt.ArrayLike) -> npt.ArrayLike:\n",
        "        \"\"\"\n",
        "        Compute the distance between each test point in X and each training point\n",
        "        in self.X_train using matrix multiplication.\n",
        "        \"\"\"\n",
        "        return np.sqrt(-2 * X @ self.X_train.T + \n",
        "            np.sum(X ** 2, axis=1, keepdims=True) +\n",
        "            np.sum(self.X_train ** 2, axis=1, keepdims=True).T)\n",
        "\n",
        "\n",
        "    def __l2_distance(self, X: npt.ArrayLike) -> npt.ArrayLike:\n",
        "        \"\"\"\n",
        "        Compute the distance between each test point in X and each training point\n",
        "        in self.X_train using an explicit formula of the euclidian metric.\n",
        "        Input / Output: Same as compute_distances_two_loops\n",
        "        \"\"\"\n",
        "        num_test = X.shape[0]\n",
        "        num_train = self.X_train.shape[0]\n",
        "        dists = np.zeros((num_test, num_train))\n",
        "        for i in range(num_test):\n",
        "            dists[i, :] = np.sqrt(np.sum((X[i] - self.X_train)**2, axis=1))\n",
        "        return dists\n",
        "\n",
        "    def __predict_labels(self, dists: npt.ArrayLike) -> npt.ArrayLike:\n",
        "        \"\"\"\n",
        "        Given a matrix of distances between test points and training points,\n",
        "        predict a label for each test point.\n",
        "\n",
        "        ### Inputs:\n",
        "        - dists: A numpy array of shape (num_test, num_train) where dists[i, j]\n",
        "          gives the distance betwen the ith test point and the jth training point.\n",
        "        ### Returns:\n",
        "        - y: A numpy array of shape (num_test,) containing predicted labels for the\n",
        "          test data, where y[i] is the predicted label for the test point X[i].\n",
        "        \"\"\"\n",
        "        num_test = dists.shape[0]\n",
        "        y_pred = np.zeros(num_test)\n",
        "        for i in range(num_test):\n",
        "            closest_y = self.y_train[np.argsort(dists[i])[:self.k]]\n",
        "            y_pred[i] = np.bincount(closest_y).argmax()\n",
        "        return y_pred"
      ]
    },
    {
      "attachments": {},
      "cell_type": "markdown",
      "metadata": {},
      "source": [
        "Проверка"
      ]
    },
    {
      "cell_type": "code",
      "execution_count": 2,
      "metadata": {},
      "outputs": [],
      "source": [
        "from sklearn import datasets\n",
        "dataset = datasets.load_digits()\n",
        "test_border = 100\n",
        "X_train, y_train = dataset.data[test_border:], dataset.target[test_border:]\n",
        "X_test, y_test = dataset.data[:test_border], dataset.target[:test_border]"
      ]
    },
    {
      "cell_type": "code",
      "execution_count": 56,
      "metadata": {},
      "outputs": [],
      "source": [
        "clf = KNeighborsClassifier()\n",
        "clf.fit(X_train, y_train)\n",
        "preds1 = clf.predict(X_test)\n",
        "preds2 = clf.predict(X_test, mode=\"explicit\")"
      ]
    },
    {
      "cell_type": "code",
      "execution_count": 57,
      "metadata": {},
      "outputs": [
        {
          "name": "stdout",
          "output_type": "stream",
          "text": [
            "Obtained accuracy score for KNN with matrix multiplication:  0.93 \n",
            "Accuracy score with explicit formula of euclidian metric 0.93\n"
          ]
        }
      ],
      "source": [
        "from sklearn.metrics import accuracy_score\n",
        "print(\"Obtained accuracy score for KNN with matrix multiplication: \", accuracy_score(preds1, y_test),\n",
        "      \"\\nAccuracy score with explicit formula of euclidian metric\", accuracy_score(preds2, y_test))"
      ]
    },
    {
      "cell_type": "code",
      "execution_count": 6,
      "metadata": {},
      "outputs": [],
      "source": [
        "from sklearn.neighbors import KNeighborsClassifier as KNN_sklearn\n",
        "\n",
        "clf = KNN_sklearn()\n",
        "clf.fit(X_train, y_train)"
      ]
    },
    {
      "cell_type": "code",
      "execution_count": 10,
      "metadata": {},
      "outputs": [
        {
          "name": "stdout",
          "output_type": "stream",
          "text": [
            "Accuracy score for sklearn implementation 0.93\n"
          ]
        }
      ],
      "source": [
        "assert np.array_equal(\n",
        "    clf.predict(X_test),\n",
        "    preds1\n",
        "), 'Labels predicted by handcrafted and sklearn kNN implementations are different!'\n",
        "\n",
        "assert np.array_equal(\n",
        "    clf.predict(X_test),\n",
        "    preds2\n",
        "), 'Labels predicted by handcrafted and sklearn kNN implementations are different!'\n",
        "\n",
        "print(\"Accuracy score for sklearn implementation\", accuracy_score(clf.predict(X_test), y_test))"
      ]
    }
  ],
  "metadata": {
    "colab": {
      "provenance": []
    },
    "kernelspec": {
      "display_name": "Python 3",
      "language": "python",
      "name": "python3"
    },
    "language_info": {
      "codemirror_mode": {
        "name": "ipython",
        "version": 3
      },
      "file_extension": ".py",
      "mimetype": "text/x-python",
      "name": "python",
      "nbconvert_exporter": "python",
      "pygments_lexer": "ipython3",
      "version": "3.10.8"
    },
    "vscode": {
      "interpreter": {
        "hash": "7abe41bf88626c8179a12d706309ac1665b0164ec3bd4c11d7418ed9f0904ed3"
      }
    }
  },
  "nbformat": 4,
  "nbformat_minor": 0
}
