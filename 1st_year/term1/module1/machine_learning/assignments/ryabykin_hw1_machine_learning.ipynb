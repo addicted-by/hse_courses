{
  "cells": [
    {
      "cell_type": "markdown",
      "metadata": {
        "id": "QkLMu9vfYCHH"
      },
      "source": [
        "# Домашнее задание №1 \n",
        "\n",
        "## Рябыкин Алексей\n",
        "\n",
        "<a name=\"content\"></a>\n",
        "### Оглавление\n",
        " \n",
        "* [Задача 1.](#step1)\n",
        "\n",
        "* [Задача 2.](#step2)\n",
        "\n",
        "* [Задача 3.](#step3)\n"
      ]
    },
    {
      "cell_type": "markdown",
      "metadata": {
        "id": "hxz9B-QKYDQQ"
      },
      "source": [
        "Дата выдачи: 21.09 \n",
        "\n",
        "Мягкий дедлайн: 1.10 \n",
        "\n",
        "Жесткий дедлайн: 6.10\n",
        "\n",
        "Сдавать домашнее задание после жесткого дедлайна нельзя. \n",
        "Максимально допустимая оценка за работу - 5 баллов. \n"
      ]
    },
    {
      "cell_type": "code",
      "execution_count": 8,
      "metadata": {
        "id": "fz7ck34WDkC0"
      },
      "outputs": [],
      "source": [
        "import numpy as np"
      ]
    },
    {
      "cell_type": "markdown",
      "metadata": {
        "id": "w1he_hqBYDam"
      },
      "source": [
        "<a name=\"step1\"></a>\n",
        "**Задача 1** \n",
        "\n",
        "[К оглавлению](#content)\n",
        "\n",
        "Подсчитать произведение ненулевых элементов на диагонали прямоугольной матрицы.\n",
        "Например, для \n",
        "\n",
        "`x = np.array([[1, 0, 1], [2, 0, 2], [3, 0, 3], [4, 4, 4]])` ответ – 3."
      ]
    },
    {
      "cell_type": "code",
      "execution_count": 9,
      "metadata": {
        "id": "XKM7tWQtDkC1"
      },
      "outputs": [],
      "source": [
        "def non_zero_diag_prod(a: np.ndarray) -> float:\n",
        "    '''\n",
        "    Return the result of product of non-zero elements on the np.array's diagonal\n",
        "    '''\n",
        "    diag = np.diagonal(a)\n",
        "    return np.prod(diag, where=diag!=0)"
      ]
    },
    {
      "cell_type": "code",
      "execution_count": 3,
      "metadata": {
        "id": "YXcxdRHaDkC1"
      },
      "outputs": [],
      "source": [
        "x = np.array([[1, 0, 1], [2, 0, 2], [3, 0, 3], [4, 4, 4]])\n",
        "\n",
        "assert non_zero_diag_prod()"
      ]
    },
    {
      "cell_type": "markdown",
      "metadata": {
        "id": "XrsHmf0zaD3x"
      },
      "source": [
        "<a name = \"step2\"></a>\n",
        "**Задача 2**\n",
        "\n",
        "[К оглавлению](#content)\n",
        "\n",
        "Даны два вектора x и y. Проверить, задают ли они одно и то же мультимножество.\n",
        "Например, для \n",
        "\n",
        "`x = np.array([1, 2, 2, 4]), y = np.array([4, 2, 1, 2])` ответ – True."
      ]
    },
    {
      "cell_type": "code",
      "execution_count": 4,
      "metadata": {
        "id": "XHhADGWbDkC1"
      },
      "outputs": [],
      "source": [
        "def is_same_multiset(x: np.ndarray, y: np.ndarray) -> bool:\n",
        "    '''\n",
        "    Check if the two given array define the same multiset\n",
        "    '''\n",
        "    (x_unique, x_counts) = np.unique(x, return_counts=True)\n",
        "    (y_unique, y_counts) = np.unique(y, return_counts=True)\n",
        "    \n",
        "    if ((x_unique.shape == y_unique.shape) or \n",
        "        (np.all(x_unique == y_unique) or \n",
        "            np.all(x_counts == y_counts))):\n",
        "        return True\n",
        "        \n",
        "    return False"
      ]
    },
    {
      "cell_type": "code",
      "execution_count": 5,
      "metadata": {
        "id": "u8zj08oWDkC2"
      },
      "outputs": [],
      "source": [
        "x = np.array([1, 2, 2, 4])\n",
        "y = np.array([4, 2, 1, 2])\n",
        "\n",
        "assert is_same_multiset(x, y) == True"
      ]
    },
    {
      "cell_type": "markdown",
      "metadata": {
        "id": "dIzR8U_Ka3Pr"
      },
      "source": [
        "<a name = \"step3\"></a>\n",
        "**Задача 3**\n",
        "\n",
        "[К оглавлению](#content)\n",
        "\n",
        "Найти максимальный элемент в векторе x среди элементов, перед которыми стоит нулевой.\n",
        "Например, для \n",
        "\n",
        "`x = np.array([6, 2, 0, 3, 0, 0, 5, 7, 0])` ответ – 5."
      ]
    },
    {
      "cell_type": "code",
      "execution_count": 6,
      "metadata": {
        "id": "87nRGisUDkC2"
      },
      "outputs": [],
      "source": [
        "def max_after_zero(x: np.ndarray) -> float:\n",
        "    '''\n",
        "    Find the maximum element in the vector x among the elements preceded by zero.\n",
        "    '''\n",
        "    reduced_zeros = (x == 0)[:-1]\n",
        "    return np.take(x[1:], np.where(reduced_zeros)).max()"
      ]
    },
    {
      "cell_type": "code",
      "execution_count": 7,
      "metadata": {
        "id": "BC6AY-CtDkC2"
      },
      "outputs": [],
      "source": [
        "x = np.array([6, 2, 0, 3, 0, 0, 5, 7, 0])\n",
        "x2 = np.array([2, 0, 4, 0, 7, 9, 8, 0])\n",
        "assert max_after_zero(x) == 5\n",
        "assert max_after_zero(x2) == 7"
      ]
    },
    {
      "cell_type": "code",
      "execution_count": null,
      "metadata": {
        "id": "ExwG2_xVDkC2"
      },
      "outputs": [],
      "source": []
    }
  ],
  "metadata": {
    "colab": {
      "provenance": []
    },
    "kernelspec": {
      "display_name": "Python 3.9.13 64-bit",
      "language": "python",
      "name": "python3"
    },
    "language_info": {
      "codemirror_mode": {
        "name": "ipython",
        "version": 3
      },
      "file_extension": ".py",
      "mimetype": "text/x-python",
      "name": "python",
      "nbconvert_exporter": "python",
      "pygments_lexer": "ipython3",
      "version": "3.9.13"
    },
    "vscode": {
      "interpreter": {
        "hash": "3a2646dfc33b98734cd77dd23b04a9bc32096c26eadccf953f4761437d2407b2"
      }
    }
  },
  "nbformat": 4,
  "nbformat_minor": 0
}
