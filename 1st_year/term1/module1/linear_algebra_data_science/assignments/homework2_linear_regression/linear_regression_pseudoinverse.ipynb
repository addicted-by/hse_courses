{
 "cells": [
  {
   "cell_type": "markdown",
   "metadata": {},
   "source": [
    "# Linear Algebra for Data Science\n",
    "## Homework 2\n",
    "----\n",
    "## Content\n",
    "\n"
   ]
  },
  {
   "cell_type": "markdown",
   "metadata": {},
   "source": [
    "Installing dependencies"
   ]
  },
  {
   "cell_type": "code",
   "execution_count": 3,
   "metadata": {},
   "outputs": [],
   "source": [
    "import numpy as np\n",
    "import pandas as pd\n",
    "from numpy.linalg import svd, pinv\n",
    "from sklearn.linear_model import LinearRegression\n",
    "\n",
    "%load_ext autoreload\n",
    "%autoreload 2\n",
    "\n",
    "from scrapper import *\n",
    "from utils import *"
   ]
  },
  {
   "cell_type": "code",
   "execution_count": 4,
   "metadata": {},
   "outputs": [],
   "source": [
    "import os\n",
    "DATA_PATH = \"./data/\"\n",
    "GISMETEO_DATA_PATH = os.path.join(DATA_PATH, 'gismeteo.csv')\n",
    "BITCOIN_DATA_PATH = os.path.join(DATA_PATH, \"bitcoin.csv\")"
   ]
  },
  {
   "cell_type": "markdown",
   "metadata": {},
   "source": [
    "### Task 1"
   ]
  },
  {
   "cell_type": "markdown",
   "metadata": {},
   "source": [
    "#### Scrapper part"
   ]
  },
  {
   "cell_type": "code",
   "execution_count": null,
   "metadata": {},
   "outputs": [],
   "source": []
  },
  {
   "cell_type": "code",
   "execution_count": 16,
   "metadata": {},
   "outputs": [
    {
     "name": "stdout",
     "output_type": "stream",
     "text": [
      "Predicted temperature: 11.85714285714286\n"
     ]
    }
   ],
   "source": [
    "dataframe = pd.read_csv(GISMETEO_DATA_PATH, index_col=0)\n",
    "ones = np.ones(dataframe.index.shape, dtype=int)\n",
    "\n",
    "X = np.column_stack((np.array(dataframe.index), ones))\n",
    "y = np.array(dataframe.temperature)#.reshape((8,1))\n",
    "\n",
    "solver = Pseudosolution()\n",
    "solver.fit(X, y)\n",
    "solver.predict(23, 'temperature')"
   ]
  },
  {
   "cell_type": "markdown",
   "metadata": {},
   "source": [
    "### Task 2"
   ]
  },
  {
   "cell_type": "markdown",
   "metadata": {},
   "source": [
    "#### Scrapper part"
   ]
  },
  {
   "cell_type": "code",
   "execution_count": null,
   "metadata": {},
   "outputs": [],
   "source": []
  },
  {
   "cell_type": "code",
   "execution_count": 19,
   "metadata": {},
   "outputs": [
    {
     "name": "stdout",
     "output_type": "stream",
     "text": [
      "Predicted bitcoin_cost: 18780.717857142856\n"
     ]
    }
   ],
   "source": [
    "dataframe = pd.read_csv(BITCOIN_DATA_PATH, index_col=0)\n",
    "ones = np.ones(dataframe.index.shape, dtype=int)\n",
    "\n",
    "X = np.column_stack((np.array(dataframe.index), ones))\n",
    "y = np.array(dataframe.bitcoin_cost)#.reshape((8,1))\n",
    "\n",
    "solver = Pseudosolution()\n",
    "solver.fit(X, y)\n",
    "solver.predict(23, 'bitcoin_cost')"
   ]
  },
  {
   "cell_type": "code",
   "execution_count": null,
   "metadata": {},
   "outputs": [],
   "source": []
  }
 ],
 "metadata": {
  "kernelspec": {
   "display_name": "Python 3.9.13 64-bit",
   "language": "python",
   "name": "python3"
  },
  "language_info": {
   "codemirror_mode": {
    "name": "ipython",
    "version": 3
   },
   "file_extension": ".py",
   "mimetype": "text/x-python",
   "name": "python",
   "nbconvert_exporter": "python",
   "pygments_lexer": "ipython3",
   "version": "3.9.13"
  },
  "orig_nbformat": 4,
  "vscode": {
   "interpreter": {
    "hash": "3a2646dfc33b98734cd77dd23b04a9bc32096c26eadccf953f4761437d2407b2"
   }
  }
 },
 "nbformat": 4,
 "nbformat_minor": 2
}
