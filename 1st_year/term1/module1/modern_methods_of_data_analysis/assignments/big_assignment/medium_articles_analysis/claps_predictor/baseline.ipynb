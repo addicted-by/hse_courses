{
 "cells": [
  {
   "cell_type": "markdown",
   "metadata": {},
   "source": [
    "# Medium claps predictor"
   ]
  },
  {
   "cell_type": "markdown",
   "metadata": {},
   "source": [
    "## Idea"
   ]
  },
  {
   "cell_type": "markdown",
   "metadata": {},
   "source": []
  },
  {
   "cell_type": "code",
   "execution_count": 1,
   "metadata": {},
   "outputs": [],
   "source": [
    "import os\n",
    "# import torch \n",
    "# import torchtext\n",
    "import matplotlib.pyplot as plt\n",
    "import matplotlib.colors as mcolors\n",
    "import random\n",
    "import numpy as np\n",
    "%matplotlib inline"
   ]
  },
  {
   "cell_type": "code",
   "execution_count": 2,
   "metadata": {},
   "outputs": [],
   "source": [
    "# # За детерминизм!\n",
    "# SEED = 0xDEAD\n",
    "# random.seed(SEED)\n",
    "# np.random.seed(SEED)\n",
    "# torch.random.manual_seed(SEED)\n",
    "# torch.cuda.random.manual_seed_all(SEED)"
   ]
  },
  {
   "cell_type": "code",
   "execution_count": 3,
   "metadata": {},
   "outputs": [],
   "source": [
    "import pandas as pd"
   ]
  },
  {
   "cell_type": "code",
   "execution_count": 4,
   "metadata": {},
   "outputs": [
    {
     "data": {
      "text/plain": [
       "True"
      ]
     },
     "execution_count": 4,
     "metadata": {},
     "output_type": "execute_result"
    }
   ],
   "source": [
    "# torch.cuda.is_available()"
   ]
  },
  {
   "cell_type": "markdown",
   "metadata": {},
   "source": [
    "## Data Preparation"
   ]
  },
  {
   "cell_type": "code",
   "execution_count": 331,
   "metadata": {},
   "outputs": [],
   "source": [
    "DATA_PATH = './data/'\n",
    "TRAIN_PATH = os.path.join(DATA_PATH, 'articles_train.csv')\n",
    "TEST_PATH = os.path.join(DATA_PATH, 'articles_test.csv')"
   ]
  },
  {
   "cell_type": "code",
   "execution_count": 332,
   "metadata": {},
   "outputs": [],
   "source": [
    "train_data = pd.read_csv(TRAIN_PATH, index_col='id')"
   ]
  },
  {
   "cell_type": "code",
   "execution_count": 465,
   "metadata": {},
   "outputs": [
    {
     "data": {
      "text/html": [
       "<div>\n",
       "<style scoped>\n",
       "    .dataframe tbody tr th:only-of-type {\n",
       "        vertical-align: middle;\n",
       "    }\n",
       "\n",
       "    .dataframe tbody tr th {\n",
       "        vertical-align: top;\n",
       "    }\n",
       "\n",
       "    .dataframe thead th {\n",
       "        text-align: right;\n",
       "    }\n",
       "</style>\n",
       "<table border=\"1\" class=\"dataframe\">\n",
       "  <thead>\n",
       "    <tr style=\"text-align: right;\">\n",
       "      <th></th>\n",
       "      <th>author</th>\n",
       "      <th>reading_time</th>\n",
       "      <th>link</th>\n",
       "      <th>title</th>\n",
       "      <th>text</th>\n",
       "      <th>claps</th>\n",
       "    </tr>\n",
       "    <tr>\n",
       "      <th>id</th>\n",
       "      <th></th>\n",
       "      <th></th>\n",
       "      <th></th>\n",
       "      <th></th>\n",
       "      <th></th>\n",
       "      <th></th>\n",
       "    </tr>\n",
       "  </thead>\n",
       "  <tbody>\n",
       "    <tr>\n",
       "      <th>0</th>\n",
       "      <td>Joseph Rocca</td>\n",
       "      <td>23</td>\n",
       "      <td>https://towardsdatascience.com/understanding-v...</td>\n",
       "      <td>Understanding Variational Autoencoders (VAEs) ...</td>\n",
       "      <td>Towards Data Science\\nSep 24, 2019\\nThis post ...</td>\n",
       "      <td>8300.0</td>\n",
       "    </tr>\n",
       "    <tr>\n",
       "      <th>1</th>\n",
       "      <td>Guido Vivaldi</td>\n",
       "      <td>6</td>\n",
       "      <td>https://towardsdatascience.com/using-mixed-eff...</td>\n",
       "      <td>Using Mixed-Effects Models For Linear Regressi...</td>\n",
       "      <td>Towards Data Science\\nMay 17, 2019\\nMixed-effe...</td>\n",
       "      <td>336.0</td>\n",
       "    </tr>\n",
       "    <tr>\n",
       "      <th>2</th>\n",
       "      <td>Jerry Chen</td>\n",
       "      <td>11</td>\n",
       "      <td>https://news.greylock.com/the-new-moats-53f61a...</td>\n",
       "      <td>The New Moats. Why Systems of IntelligenceTM a...</td>\n",
       "      <td>Greylock Perspectives\\nApr 24, 2017\\nTo build ...</td>\n",
       "      <td>3500.0</td>\n",
       "    </tr>\n",
       "  </tbody>\n",
       "</table>\n",
       "</div>"
      ],
      "text/plain": [
       "           author  reading_time  \\\n",
       "id                                \n",
       "0    Joseph Rocca            23   \n",
       "1   Guido Vivaldi             6   \n",
       "2      Jerry Chen            11   \n",
       "\n",
       "                                                 link  \\\n",
       "id                                                      \n",
       "0   https://towardsdatascience.com/understanding-v...   \n",
       "1   https://towardsdatascience.com/using-mixed-eff...   \n",
       "2   https://news.greylock.com/the-new-moats-53f61a...   \n",
       "\n",
       "                                                title  \\\n",
       "id                                                      \n",
       "0   Understanding Variational Autoencoders (VAEs) ...   \n",
       "1   Using Mixed-Effects Models For Linear Regressi...   \n",
       "2   The New Moats. Why Systems of IntelligenceTM a...   \n",
       "\n",
       "                                                 text   claps  \n",
       "id                                                             \n",
       "0   Towards Data Science\\nSep 24, 2019\\nThis post ...  8300.0  \n",
       "1   Towards Data Science\\nMay 17, 2019\\nMixed-effe...   336.0  \n",
       "2   Greylock Perspectives\\nApr 24, 2017\\nTo build ...  3500.0  "
      ]
     },
     "execution_count": 465,
     "metadata": {},
     "output_type": "execute_result"
    }
   ],
   "source": [
    "train_data.sample(3)"
   ]
  },
  {
   "cell_type": "code",
   "execution_count": 8,
   "metadata": {},
   "outputs": [],
   "source": [
    "num_cols = ['reading_time', 'claps']\n",
    "cat_cols = ['author', 'link', 'title', 'text']"
   ]
  },
  {
   "cell_type": "code",
   "execution_count": 9,
   "metadata": {},
   "outputs": [
    {
     "data": {
      "text/html": [
       "<div>\n",
       "<style scoped>\n",
       "    .dataframe tbody tr th:only-of-type {\n",
       "        vertical-align: middle;\n",
       "    }\n",
       "\n",
       "    .dataframe tbody tr th {\n",
       "        vertical-align: top;\n",
       "    }\n",
       "\n",
       "    .dataframe thead th {\n",
       "        text-align: right;\n",
       "    }\n",
       "</style>\n",
       "<table border=\"1\" class=\"dataframe\">\n",
       "  <thead>\n",
       "    <tr style=\"text-align: right;\">\n",
       "      <th></th>\n",
       "      <th>reading_time</th>\n",
       "      <th>claps</th>\n",
       "    </tr>\n",
       "  </thead>\n",
       "  <tbody>\n",
       "    <tr>\n",
       "      <th>count</th>\n",
       "      <td>3756.000000</td>\n",
       "      <td>3756.000000</td>\n",
       "    </tr>\n",
       "    <tr>\n",
       "      <th>mean</th>\n",
       "      <td>8.130192</td>\n",
       "      <td>1449.118477</td>\n",
       "    </tr>\n",
       "    <tr>\n",
       "      <th>std</th>\n",
       "      <td>6.259317</td>\n",
       "      <td>4736.590527</td>\n",
       "    </tr>\n",
       "    <tr>\n",
       "      <th>min</th>\n",
       "      <td>1.000000</td>\n",
       "      <td>0.000000</td>\n",
       "    </tr>\n",
       "    <tr>\n",
       "      <th>25%</th>\n",
       "      <td>5.000000</td>\n",
       "      <td>48.000000</td>\n",
       "    </tr>\n",
       "    <tr>\n",
       "      <th>50%</th>\n",
       "      <td>7.000000</td>\n",
       "      <td>231.000000</td>\n",
       "    </tr>\n",
       "    <tr>\n",
       "      <th>75%</th>\n",
       "      <td>10.000000</td>\n",
       "      <td>942.750000</td>\n",
       "    </tr>\n",
       "    <tr>\n",
       "      <th>max</th>\n",
       "      <td>149.000000</td>\n",
       "      <td>86000.000000</td>\n",
       "    </tr>\n",
       "  </tbody>\n",
       "</table>\n",
       "</div>"
      ],
      "text/plain": [
       "       reading_time         claps\n",
       "count   3756.000000   3756.000000\n",
       "mean       8.130192   1449.118477\n",
       "std        6.259317   4736.590527\n",
       "min        1.000000      0.000000\n",
       "25%        5.000000     48.000000\n",
       "50%        7.000000    231.000000\n",
       "75%       10.000000    942.750000\n",
       "max      149.000000  86000.000000"
      ]
     },
     "execution_count": 9,
     "metadata": {},
     "output_type": "execute_result"
    }
   ],
   "source": [
    "train_data[num_cols].describe()"
   ]
  },
  {
   "cell_type": "code",
   "execution_count": 10,
   "metadata": {},
   "outputs": [
    {
     "data": {
      "image/png": "[encoded data removed]",
      "text/plain": [
       "<Figure size 1440x360 with 2 Axes>"
      ]
     },
     "metadata": {
      "needs_background": "light"
     },
     "output_type": "display_data"
    }
   ],
   "source": [
    "fig, ax = plt.subplots(nrows=1, ncols=len(num_cols), figsize=(20,5))\n",
    "fig.suptitle('Ящики с усами для числовых признаков', fontsize=16)\n",
    "for i in range(len(num_cols)):\n",
    "    ax[i].boxplot(train_data[num_cols[i]])\n",
    "    ax[i].set_title(num_cols[i])\n",
    "plt.show()"
   ]
  },
  {
   "cell_type": "code",
   "execution_count": 11,
   "metadata": {},
   "outputs": [
    {
     "data": {
      "text/plain": [
       "Jan Schultink        26\n",
       "Susan Li             21\n",
       "Renu Khandelwal      20\n",
       "Synced               20\n",
       "Charlie Kufs         18\n",
       "                     ..\n",
       "Merve Elif Saraç     1\n",
       "Purit Punyawiwat      1\n",
       "Dickson Wu            1\n",
       "Malhar                1\n",
       "Neha Tripathi         1\n",
       "Name: author, Length: 2176, dtype: int64"
      ]
     },
     "execution_count": 11,
     "metadata": {},
     "output_type": "execute_result"
    }
   ],
   "source": [
    "train_data.author.value_counts()"
   ]
  },
  {
   "cell_type": "markdown",
   "metadata": {},
   "source": [
    "## Feature Engineering"
   ]
  },
  {
   "cell_type": "code",
   "execution_count": 26,
   "metadata": {},
   "outputs": [],
   "source": [
    "\n",
    "# ! title clastering (maybe topic modeling LDA)\n",
    "# ! link parser (some sites are more popular than another)\n",
    "# ? text parser (only text without titles/dates...)\n",
    "# ! link scrapper (img per 1000 words, image sizes, count of words)\n",
    "# ! catboost, lgbm, ridge, random_forest"
   ]
  },
  {
   "cell_type": "code",
   "execution_count": 3,
   "metadata": {},
   "outputs": [],
   "source": [
    "import requests\n",
    "import re\n",
    "import time\n",
    "import pandas as pd\n",
    "import numpy as np\n",
    "import datetime\n",
    "from bs4 import BeautifulSoup\n",
    "from selenium import webdriver\n",
    "from selenium.webdriver.common.keys import Keys\n",
    "\n",
    "def is_English(s):\n",
    "    try:\n",
    "        s.encode(encoding='utf-8').decode('ascii')\n",
    "    except UnicodeDecodeError:\n",
    "        return False\n",
    "    else:\n",
    "        return True\n",
    "\n",
    "def clean_string(a_string):\n",
    "    new_string = re.sub(r'‘|’|\"|—|“|”|,', '', a_string).strip()\n",
    "    new_string = re.sub(r'–', ' ', new_string)\n",
    "    #new_string = re.sub(r'é', 'e', new_string)\n",
    "    return new_string\n",
    "\n",
    "def filter_string(a_string):\n",
    "    if a_string == '.':\n",
    "        return False\n",
    "    elif a_string == '':\n",
    "        return False\n",
    "    else:\n",
    "        return True"
   ]
  },
  {
   "cell_type": "code",
   "execution_count": 567,
   "metadata": {},
   "outputs": [],
   "source": [
    "import re\n",
    "\n",
    "class ArticleScraper():\n",
    "    \"\"\"\n",
    "    Scrapes all data for an article.\n",
    "    \"\"\"\n",
    "    def __init__(self):\n",
    "        self.scraper_class = 'ArticleScraper' \n",
    "\n",
    "    \n",
    "    def get_title(self, soup):\n",
    "        try:\n",
    "            title = soup.find('h1').text\n",
    "            return title\n",
    "        \n",
    "        except:\n",
    "            print(\"Couldn't get title from article.\")\n",
    "\n",
    "    \n",
    "    def get_subtitle(self, soup):\n",
    "        try:\n",
    "            return soup.find('section').find('h2').text\n",
    "        except:\n",
    "            print(\"Couldn't get subtitle from article.\")\n",
    "\n",
    "\n",
    "    def get_publication(self, soup):\n",
    "        try:\n",
    "            for div in soup.find_all(\"div\"):\n",
    "                if div.text == 'Published in':\n",
    "                    try:\n",
    "                        return div.next_element.next_element.next_element.find('p').text\n",
    "                    except:\n",
    "                        continue\n",
    "        except:\n",
    "            print(\"Couldn't get publication type from article.\")\n",
    "\n",
    "\n",
    "    def get_author(self, soup):\n",
    "        try:\n",
    "            return soup.find('h2', class_=r\"pw-author-name\").text\n",
    "        except:\n",
    "            print(\"Couldn't get author from article.\") \n",
    "\n",
    "\n",
    "    def get_reading_time(self, soup):\n",
    "        try:\n",
    "            return int(soup.find('div', class_=r\"pw-reading-time\").text.split()[0])\n",
    "        except:\n",
    "            print(\"Couldn't get reading time from article.\")\n",
    "\n",
    "\n",
    "    def get_date(self, soup):\n",
    "        try:\n",
    "            date_string = soup.find('p', class_=r\"pw-published-date\").text \n",
    "            return datetime.datetime.strptime(date_string, '%b %d, %Y').strftime('%d/%m/%Y')\n",
    "        except:\n",
    "            print(\"Couldn't get date from article.\") \n",
    "\n",
    "    def get_followers(self, soup):\n",
    "        # try:\n",
    "        #     link = soup.find('div', class_=r\"pw-author\").find('a').get('href')\n",
    "        #     if link[0] == '/':\n",
    "        #         driver.get('https://medium.com' + link)\n",
    "        #     else:\n",
    "        #         driver.get(link)\n",
    "        #     time.sleep(3)\n",
    "        #     new_soup = BeautifulSoup(driver.page_source, 'lxml')\n",
    "        # except:\n",
    "        #     print(\"Can't go to user's account\")\n",
    "        # try:\n",
    "        #     link = new_soup.find_all('a', {'role': 'tab'})[-1].get('href')\n",
    "        #     if link[0] == '/':\n",
    "        #         driver.get('https://medium.com' + link)\n",
    "        #     else:\n",
    "        #         driver.get(link)\n",
    "        #     time.sleep(3)\n",
    "        #     new_soup = BeautifulSoup(driver.page_source, 'lxml')\n",
    "        #     # for button in soup.find_all('button'):\n",
    "            #     if 'Followers' in button.text or 'followers' in button.text:\n",
    "            #         fol_string = button.text.split()[0]\n",
    "            # tens = {'K': 10e2, 'M': 10e5, 'B': 10e8, 'k': 10e2, 'm': 10e5, 'b': 10e8}\n",
    "            # if (fol_string[-1] != 'K' and fol_string[-1] != 'M' \n",
    "            #             and fol_string[-1] != 'k' and fol_string[-1] != 'm'\n",
    "            #             and fol_string[-1] != 'b' and fol_string[-1] != 'B'):\n",
    "            #             return int(fol_string)\n",
    "            # f = lambda x: int(float(x[:-1])*tens[x[-1]])\n",
    "            # return f(fol_string)\n",
    "        try:\n",
    "            for button in soup.find_all('button'):\n",
    "                if 'Followers' in button.text or 'followers' in button.text:\n",
    "                    fol_string = button.text.split()[0]\n",
    "            tens = {'K': 10e2, 'M': 10e5, 'B': 10e8, 'k': 10e2, 'm': 10e5, 'b': 10e8}\n",
    "            if (fol_string[-1] != 'K' and fol_string[-1] != 'M' \n",
    "                        and fol_string[-1] != 'k' and fol_string[-1] != 'm'\n",
    "                        and fol_string[-1] != 'b' and fol_string[-1] != 'B'):\n",
    "                        return int(fol_string)\n",
    "            f = lambda x: int(float(x[:-1])*tens[x[-1]])\n",
    "            return f(fol_string)\n",
    "        except:\n",
    "            print(\"Can't go to the followers info\")    \n",
    "\n",
    "    \n",
    "    def get_mean_size(self, soup):\n",
    "        try:\n",
    "            pics = soup.find('section').find_all('img')#, width=True, height=True)\n",
    "            sums = (0,0)\n",
    "            for pic in pics:\n",
    "                url = pic.get('src')\n",
    "                im = Image.open(requests.get(url, stream=True).raw)\n",
    "                sums = tuple(map(sum, zip(sums, im.size)))\n",
    "            mean = tuple(ti//len(pics) for ti in sums)\n",
    "            if len(pics) == 0:\n",
    "                return (0,0)\n",
    "            return mean\n",
    "        except:\n",
    "            print(\"Can't get image's sizes\")\n",
    "         \n",
    "\n",
    "    def count_figures(self, soup):\n",
    "        try:\n",
    "            return len(soup.find('section').find_all('img'))\n",
    "        except:\n",
    "            print(\"Can't get amount of pictures\")\n",
    "\n",
    "    def get_pure_text(self, soup):\n",
    "        try:\n",
    "            pure_text = ''\n",
    "            for unparsed in soup.find('section').find_all('p'):\n",
    "                pure_text += unparsed.text\n",
    "            return pure_text\n",
    "        except:\n",
    "            print(\"Can't get pure text\")\n",
    "    \n",
    "    \n",
    "    def count_words(self, soup):\n",
    "        try:\n",
    "           pure_text = self.get_pure_text(soup=soup)\n",
    "           return len(pure_text.split())\n",
    "        except:\n",
    "            print(\"Can't get words count from the article\")\n",
    "\n",
    "    \n",
    "    def count_lists(self, soup):\n",
    "        try:\n",
    "            return len(soup.find('section').find_all('ol')) + len(soup.find('section').find_all('ul'))\n",
    "        except:\n",
    "            print(\"Can't get lists count\")\n",
    "    \n",
    "    def bold_text_count(self, soup):\n",
    "        try:\n",
    "            return len(soup.find('section').find_all('strong'))\n",
    "        except:\n",
    "            print(\"Can't get bold text count\")\n",
    "    \n",
    "\n",
    "    def get_blockquotes(self, soup):\n",
    "        try:\n",
    "            notes = []\n",
    "            blockquotes = soup.find_all('blockquote')\n",
    "            for blockquote in blockquotes:\n",
    "                notes.append(blockquote.text)\n",
    "            return notes\n",
    "        except:\n",
    "            print(\"Couldn't get notes from article.\")\n",
    "\n",
    "\n",
    "    def italic_text_count(self, soup):\n",
    "        try:\n",
    "            return len(soup.find('section').find_all('em'))\n",
    "        except:\n",
    "            print(\"Can't get italic text count\")\n",
    "\n",
    "    def count_vids(self, soup):\n",
    "        try:\n",
    "            yt_vids = []\n",
    "            article_soup = soup.find('article')\n",
    "            for figure in article_soup.find_all('figure'):\n",
    "                yt_soup = figure.find('iframe', src=re.compile('.*youtube.*'))\n",
    "                if yt_soup == None:\n",
    "                    continue\n",
    "                else:\n",
    "                    yt_vids.append(yt_soup)\n",
    "                    \n",
    "            return len(yt_vids)\n",
    "                    \n",
    "        except:\n",
    "            print(\"Couldn't get YouTube videos.\") \n",
    "    \n",
    "\n",
    "    def count_gists(self, soup):\n",
    "        try:\n",
    "            gists = []\n",
    "            article_soup = soup.find('article')\n",
    "            for fig in article_soup.find_all('figure'):\n",
    "                gist_soup = fig.find('iframe', title=re.compile('.*\\.py'))\n",
    "                if gist_soup == None:\n",
    "                    continue\n",
    "                else:\n",
    "                    gists.append(gist_soup)\n",
    "            return len(gists)\n",
    "        except:\n",
    "            print(\"Couldn't get count of gists.\") \n",
    "\n",
    "\n",
    "    def count_links(self, soup):\n",
    "        try:\n",
    "            links = []\n",
    "            for a in soup.find('section').find_all('a'):\n",
    "                link = a.get('href')\n",
    "                if link != None:\n",
    "                    links.append(link)\n",
    "            return len(links)\n",
    "        except:\n",
    "            print(\"Couldn't get amount of links.\") \n",
    "\n",
    "    def count_code_chunks(self, soup):\n",
    "        try:\n",
    "            return len(soup.find_all('pre'))\n",
    "        except:\n",
    "            print(\"Couldn't get amount of code chunks from article.\")\n",
    "\n",
    "    def scrape(self, soup):\n",
    "        im_size = self.get_mean_size(soup)\n",
    "        if im_size == None:\n",
    "            im_size = (None, None)\n",
    "        article_data = {\n",
    "            \"title\": self.get_title(soup),\n",
    "            \"publication\": self.get_publication(soup),\n",
    "            #\"subtitle\": self.get_subtitle(soup),\n",
    "            \"author\": self.get_author(soup),\n",
    "            \"followers\": self.get_followers(soup),\n",
    "            \"reading_time\": self.get_reading_time(soup),\n",
    "            \"n_words\": self.count_words(soup),\n",
    "            \"pure_text\": self.get_pure_text(soup),\n",
    "            #\"blockquotes\": self.get_blockquotes(soup),\n",
    "            \"date\": self.get_date(soup),\n",
    "            \"n_code_chunks\": self.count_code_chunks(soup),\n",
    "            \"bold_text_count\": self.bold_text_count(soup),\n",
    "            \"italic_text_count\": self.italic_text_count(soup),\n",
    "            \"mean_image_width\": im_size[0],\n",
    "            \"mean_image_height\": im_size[1],\n",
    "            \"n_images\": self.count_figures(soup),\n",
    "            \"n_lists\": self.count_lists(soup),\n",
    "            #\"n_gists\": self.count_gists(soup),\n",
    "            \"n_vids\": self.count_vids(soup),\n",
    "            \"n_links\": self.count_links(soup)\n",
    "        }\n",
    "        '''\n",
    "        # !'bold_text_count',\n",
    "        # !'count_code_chunks',\n",
    "        # !'count_figures',\n",
    "        # !'count_gists',\n",
    "        # !'count_links',\n",
    "        # !'count_lists',\n",
    "        # !'count_vids',\n",
    "        # !'count_words',\n",
    "        # !'get_author',\n",
    "        # !'get_blockquotes',\n",
    "        # ! 'get_date',\n",
    "        # !'get_followers',\n",
    "        # !'get_mean_size',\n",
    "        # !'get_publication',\n",
    "        # !'get_pure_text',\n",
    "        # !'get_reading_time',\n",
    "        # !'get_subtitle',\n",
    "        # !'get_title',\n",
    "        # !'italic_text_count',\n",
    "        '''\n",
    "            \n",
    "        return(article_data)"
   ]
  },
  {
   "cell_type": "code",
   "execution_count": 568,
   "metadata": {},
   "outputs": [],
   "source": [
    "cols = ['title', 'publication', #'subtitle', \n",
    "                    'author', 'followers', 'reading_time',\n",
    "                     'n_words', 'pure_text',\n",
    "                      'date', 'n_code_chunks', 'bold_text_count',\n",
    "                       'italic_text_count', 'mean_image_width', \n",
    "                       'mean_image_height','n_images', 'n_lists', #'n_gists',\n",
    "                        'n_vids',  'n_links']"
   ]
  },
  {
   "cell_type": "code",
   "execution_count": 569,
   "metadata": {},
   "outputs": [],
   "source": [
    "cols += list(['idx'])"
   ]
  },
  {
   "cell_type": "code",
   "execution_count": 570,
   "metadata": {},
   "outputs": [],
   "source": [
    "page_urls = train_data.link.values"
   ]
  },
  {
   "cell_type": "code",
   "execution_count": 571,
   "metadata": {},
   "outputs": [],
   "source": [
    "from selenium import webdriver\n",
    "from selenium.webdriver.common.by import By\n",
    "import time\n",
    "import cv2\n",
    "from tqdm import tqdm, tqdm_notebook\n",
    "import lxml\n",
    "from PIL import Image\n",
    "from langdetect import detect"
   ]
  },
  {
   "cell_type": "code",
   "execution_count": 572,
   "metadata": {},
   "outputs": [],
   "source": [
    "from selenium.webdriver.edge.options import Options\n",
    "\n",
    "options = Options()\n",
    "options.add_argument(\"--headless\")"
   ]
  },
  {
   "cell_type": "code",
   "execution_count": 587,
   "metadata": {},
   "outputs": [],
   "source": [
    "def scrape_page(link, options):\n",
    "    page_url = link\n",
    "\n",
    "    driver = webdriver.Edge(options=options)\n",
    "    try:\n",
    "        driver.get(page_url)\n",
    "    except:\n",
    "        print('Time out')\n",
    "        return {\n",
    "            \"title\": None,\n",
    "            \"publication\": None,\n",
    "            #\"subtitle\": self.get_subtitle(soup),\n",
    "            \"author\": None,\n",
    "            \"followers\": None,\n",
    "            \"reading_time\": None,\n",
    "            \"n_words\": None,\n",
    "            \"pure_text\": None,\n",
    "            #\"blockquotes\": self.get_blockquotes(soup),\n",
    "            \"date\": None,\n",
    "            \"n_code_chunks\": None,\n",
    "            \"bold_text_count\": None,\n",
    "            \"italic_text_count\": None,\n",
    "            \"mean_image_width\": None,\n",
    "            \"mean_image_height\": None,\n",
    "            \"n_images\": None,\n",
    "            \"n_lists\": None,\n",
    "            #\"n_gists\": self.count_gists(soup),\n",
    "            \"n_vids\": None,\n",
    "            \"n_links\": None\n",
    "        }\n",
    "    time.sleep(0.1)\n",
    "    soup = BeautifulSoup(driver.page_source, 'lxml')\n",
    "    article_scrapper = ArticleScraper()\n",
    "    return article_scrapper.scrape(soup=soup)"
   ]
  },
  {
   "cell_type": "code",
   "execution_count": 574,
   "metadata": {},
   "outputs": [],
   "source": [
    "df=pd.DataFrame(columns=cols).set_index('idx')"
   ]
  },
  {
   "cell_type": "code",
   "execution_count": 588,
   "metadata": {},
   "outputs": [],
   "source": [
    "with tqdm(page_urls[:289], unit=\"page\") as tepoch:\n",
    "    for idx, page_url in enumerate(tepoch):\n",
    "        # driver = webdriver.Edge()\n",
    "        # driver.get(page_url)\n",
    "        # time.sleep(0.5)\n",
    "        # soup = BeautifulSoup(driver.page_source, 'lxml')\n",
    "        # article_scrapper = ArticleScraper()\n",
    "        df_ = scrape_page(page_url, options)\n",
    "        df_['idx'] = idx\n",
    "        df_ = pd.DataFrame([df_]).set_index('idx')\n",
    "        df = pd.concat([df, df_])"
   ]
  },
  {
   "cell_type": "code",
   "execution_count": 590,
   "metadata": {},
   "outputs": [],
   "source": [
    "import time"
   ]
  },
  {
   "cell_type": "code",
   "execution_count": 592,
   "metadata": {},
   "outputs": [
    {
     "name": "stderr",
     "output_type": "stream",
     "text": [
      "  0%|          | 10/3466 [02:04<12:00:06, 12.50s/page]"
     ]
    },
    {
     "name": "stdout",
     "output_type": "stream",
     "text": [
      "Can't go to the followers info\n"
     ]
    },
    {
     "name": "stderr",
     "output_type": "stream",
     "text": [
      "  1%|          | 19/3466 [03:52<11:55:31, 12.45s/page]"
     ]
    },
    {
     "name": "stdout",
     "output_type": "stream",
     "text": [
      "Can't get image's sizes\n"
     ]
    },
    {
     "name": "stderr",
     "output_type": "stream",
     "text": [
      "  1%|          | 41/3466 [08:24<10:18:55, 10.84s/page]"
     ]
    },
    {
     "name": "stdout",
     "output_type": "stream",
     "text": [
      "Couldn't get title from article.\n"
     ]
    },
    {
     "name": "stderr",
     "output_type": "stream",
     "text": [
      "  1%|▏         | 51/3466 [10:18<11:01:54, 11.63s/page]"
     ]
    },
    {
     "name": "stdout",
     "output_type": "stream",
     "text": [
      "Can't get image's sizes\n"
     ]
    },
    {
     "name": "stderr",
     "output_type": "stream",
     "text": [
      "  2%|▏         | 64/3466 [13:09<14:31:23, 15.37s/page]"
     ]
    },
    {
     "name": "stdout",
     "output_type": "stream",
     "text": [
      "Couldn't get title from article.\n"
     ]
    },
    {
     "name": "stderr",
     "output_type": "stream",
     "text": [
      "  2%|▏         | 66/3466 [13:32<12:45:50, 13.51s/page]"
     ]
    },
    {
     "name": "stdout",
     "output_type": "stream",
     "text": [
      "Can't get image's sizes\n",
      "Couldn't get title from article.\n"
     ]
    },
    {
     "name": "stderr",
     "output_type": "stream",
     "text": [
      "  2%|▏         | 83/3466 [16:31<9:26:46, 10.05s/page] "
     ]
    },
    {
     "name": "stdout",
     "output_type": "stream",
     "text": [
      "Can't get image's sizes\n"
     ]
    },
    {
     "name": "stderr",
     "output_type": "stream",
     "text": [
      "  3%|▎         | 89/3466 [17:37<9:51:25, 10.51s/page] "
     ]
    },
    {
     "name": "stdout",
     "output_type": "stream",
     "text": [
      "Can't get image's sizes\n"
     ]
    },
    {
     "name": "stderr",
     "output_type": "stream",
     "text": [
      "  4%|▎         | 123/3466 [24:18<15:37:43, 16.83s/page]"
     ]
    },
    {
     "name": "stdout",
     "output_type": "stream",
     "text": [
      "Can't get image's sizes\n"
     ]
    },
    {
     "name": "stderr",
     "output_type": "stream",
     "text": [
      "  4%|▍         | 139/3466 [27:58<15:24:17, 16.67s/page]"
     ]
    },
    {
     "name": "stdout",
     "output_type": "stream",
     "text": [
      "Can't get image's sizes\n"
     ]
    },
    {
     "name": "stderr",
     "output_type": "stream",
     "text": [
      "  4%|▍         | 143/3466 [29:06<16:56:56, 18.36s/page]"
     ]
    },
    {
     "name": "stdout",
     "output_type": "stream",
     "text": [
      "Can't get image's sizes\n"
     ]
    },
    {
     "name": "stderr",
     "output_type": "stream",
     "text": [
      "  5%|▌         | 176/3466 [35:23<10:21:04, 11.33s/page]"
     ]
    },
    {
     "name": "stdout",
     "output_type": "stream",
     "text": [
      "Can't get image's sizes\n"
     ]
    },
    {
     "name": "stderr",
     "output_type": "stream",
     "text": [
      "  5%|▌         | 186/3466 [37:13<10:47:07, 11.84s/page]"
     ]
    },
    {
     "name": "stdout",
     "output_type": "stream",
     "text": [
      "Can't get image's sizes\n",
      "Couldn't get title from article.\n",
      "Can't go to the followers info\n",
      "Couldn't get reading time from article.\n",
      "Couldn't get date from article.\n",
      "Couldn't get YouTube videos.\n"
     ]
    },
    {
     "name": "stderr",
     "output_type": "stream",
     "text": [
      "  5%|▌         | 187/3466 [37:24<10:33:17, 11.59s/page]"
     ]
    },
    {
     "name": "stdout",
     "output_type": "stream",
     "text": [
      "Can't get image's sizes\n",
      "Couldn't get title from article.\n",
      "Can't go to the followers info\n",
      "Couldn't get reading time from article.\n",
      "Couldn't get date from article.\n",
      "Couldn't get YouTube videos.\n"
     ]
    },
    {
     "name": "stderr",
     "output_type": "stream",
     "text": [
      "  5%|▌         | 188/3466 [37:39<11:13:55, 12.34s/page]"
     ]
    },
    {
     "name": "stdout",
     "output_type": "stream",
     "text": [
      "Can't get image's sizes\n",
      "Couldn't get title from article.\n",
      "Can't go to the followers info\n",
      "Couldn't get reading time from article.\n",
      "Couldn't get date from article.\n",
      "Couldn't get YouTube videos.\n"
     ]
    },
    {
     "name": "stderr",
     "output_type": "stream",
     "text": [
      "  5%|▌         | 190/3466 [38:06<11:50:20, 13.01s/page]"
     ]
    },
    {
     "name": "stdout",
     "output_type": "stream",
     "text": [
      "Can't get image's sizes\n",
      "Couldn't get title from article.\n",
      "Can't go to the followers info\n",
      "Couldn't get reading time from article.\n",
      "Couldn't get date from article.\n",
      "Couldn't get YouTube videos.\n"
     ]
    },
    {
     "name": "stderr",
     "output_type": "stream",
     "text": [
      "  6%|▌         | 192/3466 [38:28<10:36:49, 11.67s/page]"
     ]
    },
    {
     "name": "stdout",
     "output_type": "stream",
     "text": [
      "Can't get image's sizes\n",
      "Couldn't get title from article.\n",
      "Couldn't get title from article.\n",
      "Can't go to the followers info\n",
      "Couldn't get reading time from article.\n",
      "Can't get pure text\n",
      "Can't get words count from the article\n",
      "Can't get pure text\n",
      "Couldn't get date from article.\n",
      "Can't get bold text count\n",
      "Can't get italic text count\n",
      "Can't get amount of pictures\n",
      "Can't get lists count\n",
      "Couldn't get YouTube videos.\n",
      "Couldn't get amount of links.\n"
     ]
    },
    {
     "name": "stderr",
     "output_type": "stream",
     "text": [
      "  6%|▌         | 193/3466 [38:42<11:16:14, 12.40s/page]"
     ]
    },
    {
     "name": "stdout",
     "output_type": "stream",
     "text": [
      "Can't get image's sizes\n",
      "Couldn't get title from article.\n",
      "Couldn't get title from article.\n",
      "Can't go to the followers info\n",
      "Couldn't get reading time from article.\n",
      "Can't get pure text\n",
      "Can't get words count from the article\n",
      "Can't get pure text\n",
      "Couldn't get date from article.\n",
      "Can't get bold text count\n",
      "Can't get italic text count\n",
      "Can't get amount of pictures\n",
      "Can't get lists count\n",
      "Couldn't get YouTube videos.\n",
      "Couldn't get amount of links.\n"
     ]
    },
    {
     "name": "stderr",
     "output_type": "stream",
     "text": [
      "  6%|▌         | 194/3466 [38:58<12:11:30, 13.41s/page]"
     ]
    },
    {
     "name": "stdout",
     "output_type": "stream",
     "text": [
      "Can't get image's sizes\n",
      "Couldn't get title from article.\n",
      "Couldn't get reading time from article.\n",
      "Can't get pure text\n",
      "Can't get words count from the article\n",
      "Can't get pure text\n",
      "Couldn't get date from article.\n",
      "Can't get bold text count\n",
      "Can't get italic text count\n",
      "Can't get amount of pictures\n",
      "Can't get lists count\n",
      "Couldn't get YouTube videos.\n",
      "Couldn't get amount of links.\n"
     ]
    },
    {
     "name": "stderr",
     "output_type": "stream",
     "text": [
      "  6%|▌         | 216/3466 [43:27<11:08:26, 12.34s/page]"
     ]
    },
    {
     "name": "stdout",
     "output_type": "stream",
     "text": [
      "Can't get image's sizes\n"
     ]
    },
    {
     "name": "stderr",
     "output_type": "stream",
     "text": [
      "  6%|▋         | 218/3466 [43:49<10:28:41, 11.61s/page]"
     ]
    },
    {
     "name": "stdout",
     "output_type": "stream",
     "text": [
      "Can't get image's sizes\n"
     ]
    },
    {
     "name": "stderr",
     "output_type": "stream",
     "text": [
      "  7%|▋         | 244/3466 [49:49<11:16:37, 12.60s/page]"
     ]
    },
    {
     "name": "stdout",
     "output_type": "stream",
     "text": [
      "Can't get image's sizes\n"
     ]
    },
    {
     "name": "stderr",
     "output_type": "stream",
     "text": [
      "  7%|▋         | 255/3466 [52:28<12:08:53, 13.62s/page]"
     ]
    },
    {
     "name": "stdout",
     "output_type": "stream",
     "text": [
      "Couldn't get title from article.\n"
     ]
    },
    {
     "name": "stderr",
     "output_type": "stream",
     "text": [
      "  8%|▊         | 264/3466 [55:11<13:33:49, 15.25s/page]"
     ]
    },
    {
     "name": "stdout",
     "output_type": "stream",
     "text": [
      "Can't get image's sizes\n"
     ]
    },
    {
     "name": "stderr",
     "output_type": "stream",
     "text": [
      "  8%|▊         | 269/3466 [56:10<11:03:40, 12.46s/page]"
     ]
    },
    {
     "name": "stdout",
     "output_type": "stream",
     "text": [
      "Can't get image's sizes\n"
     ]
    },
    {
     "name": "stderr",
     "output_type": "stream",
     "text": [
      "  8%|▊         | 276/3466 [57:57<15:33:13, 17.55s/page]"
     ]
    },
    {
     "name": "stdout",
     "output_type": "stream",
     "text": [
      "Can't get image's sizes\n"
     ]
    },
    {
     "name": "stderr",
     "output_type": "stream",
     "text": [
      "  8%|▊         | 282/3466 [59:32<13:50:11, 15.64s/page]"
     ]
    },
    {
     "name": "stdout",
     "output_type": "stream",
     "text": [
      "Can't get image's sizes\n"
     ]
    },
    {
     "name": "stderr",
     "output_type": "stream",
     "text": [
      "  8%|▊         | 287/3466 [1:00:46<11:15:46, 12.75s/page]"
     ]
    },
    {
     "name": "stdout",
     "output_type": "stream",
     "text": [
      "Can't get image's sizes\n"
     ]
    },
    {
     "name": "stderr",
     "output_type": "stream",
     "text": [
      "  8%|▊         | 293/3466 [1:02:15<12:03:35, 13.68s/page]"
     ]
    },
    {
     "name": "stdout",
     "output_type": "stream",
     "text": [
      "Can't get image's sizes\n"
     ]
    },
    {
     "name": "stderr",
     "output_type": "stream",
     "text": [
      "  9%|▊         | 299/3466 [1:03:19<9:51:38, 11.21s/page] "
     ]
    },
    {
     "name": "stdout",
     "output_type": "stream",
     "text": [
      "Can't get image's sizes\n"
     ]
    },
    {
     "name": "stderr",
     "output_type": "stream",
     "text": [
      "  9%|▊         | 300/3466 [1:03:27<8:50:34, 10.05s/page]"
     ]
    },
    {
     "name": "stdout",
     "output_type": "stream",
     "text": [
      "Can't get image's sizes\n"
     ]
    },
    {
     "name": "stderr",
     "output_type": "stream",
     "text": [
      "  9%|▉         | 307/3466 [1:04:50<11:06:53, 12.67s/page]"
     ]
    },
    {
     "name": "stdout",
     "output_type": "stream",
     "text": [
      "Can't get image's sizes\n"
     ]
    },
    {
     "name": "stderr",
     "output_type": "stream",
     "text": [
      "  9%|▉         | 311/3466 [1:05:32<9:41:06, 11.05s/page] "
     ]
    },
    {
     "name": "stdout",
     "output_type": "stream",
     "text": [
      "Can't get image's sizes\n"
     ]
    },
    {
     "name": "stderr",
     "output_type": "stream",
     "text": [
      "  9%|▉         | 320/3466 [1:07:12<9:58:58, 11.42s/page] "
     ]
    },
    {
     "name": "stdout",
     "output_type": "stream",
     "text": [
      "Can't go to the followers info\n"
     ]
    },
    {
     "name": "stderr",
     "output_type": "stream",
     "text": [
      "  9%|▉         | 321/3466 [1:07:22<9:36:01, 10.99s/page]"
     ]
    },
    {
     "name": "stdout",
     "output_type": "stream",
     "text": [
      "Can't get image's sizes\n"
     ]
    },
    {
     "name": "stderr",
     "output_type": "stream",
     "text": [
      " 10%|▉         | 330/3466 [1:09:09<10:23:53, 11.94s/page]"
     ]
    },
    {
     "name": "stdout",
     "output_type": "stream",
     "text": [
      "Can't get image's sizes\n"
     ]
    },
    {
     "name": "stderr",
     "output_type": "stream",
     "text": [
      " 10%|█         | 348/3466 [1:13:13<17:29:54, 20.20s/page]"
     ]
    },
    {
     "name": "stdout",
     "output_type": "stream",
     "text": [
      "Can't get image's sizes\n"
     ]
    },
    {
     "name": "stderr",
     "output_type": "stream",
     "text": [
      " 10%|█         | 353/3466 [1:15:16<19:28:46, 22.53s/page]"
     ]
    },
    {
     "name": "stdout",
     "output_type": "stream",
     "text": [
      "Can't get image's sizes\n"
     ]
    },
    {
     "name": "stderr",
     "output_type": "stream",
     "text": [
      " 11%|█         | 364/3466 [1:17:59<15:50:11, 18.38s/page]"
     ]
    },
    {
     "name": "stdout",
     "output_type": "stream",
     "text": [
      "Can't get image's sizes\n"
     ]
    },
    {
     "name": "stderr",
     "output_type": "stream",
     "text": [
      " 11%|█         | 370/3466 [1:18:58<9:04:54, 10.56s/page] "
     ]
    },
    {
     "name": "stdout",
     "output_type": "stream",
     "text": [
      "Can't get image's sizes\n"
     ]
    },
    {
     "name": "stderr",
     "output_type": "stream",
     "text": [
      " 11%|█         | 376/3466 [1:20:34<11:39:28, 13.58s/page]"
     ]
    },
    {
     "name": "stdout",
     "output_type": "stream",
     "text": [
      "Can't go to the followers info\n"
     ]
    },
    {
     "name": "stderr",
     "output_type": "stream",
     "text": [
      " 11%|█         | 386/3466 [1:22:46<14:03:40, 16.44s/page]"
     ]
    },
    {
     "name": "stdout",
     "output_type": "stream",
     "text": [
      "Can't get image's sizes\n"
     ]
    },
    {
     "name": "stderr",
     "output_type": "stream",
     "text": [
      " 12%|█▏        | 400/3466 [1:25:57<14:43:03, 17.28s/page]"
     ]
    },
    {
     "name": "stdout",
     "output_type": "stream",
     "text": [
      "Can't get image's sizes\n"
     ]
    },
    {
     "name": "stderr",
     "output_type": "stream",
     "text": [
      " 12%|█▏        | 424/3466 [1:31:49<10:23:28, 12.30s/page]"
     ]
    },
    {
     "name": "stdout",
     "output_type": "stream",
     "text": [
      "Can't get image's sizes\n"
     ]
    },
    {
     "name": "stderr",
     "output_type": "stream",
     "text": [
      " 13%|█▎        | 439/3466 [1:34:59<9:30:45, 11.31s/page] "
     ]
    },
    {
     "name": "stdout",
     "output_type": "stream",
     "text": [
      "Can't get image's sizes\n"
     ]
    },
    {
     "name": "stderr",
     "output_type": "stream",
     "text": [
      " 13%|█▎        | 458/3466 [1:39:04<11:20:53, 13.58s/page]"
     ]
    },
    {
     "name": "stdout",
     "output_type": "stream",
     "text": [
      "Can't get image's sizes\n"
     ]
    },
    {
     "name": "stderr",
     "output_type": "stream",
     "text": [
      " 13%|█▎        | 459/3466 [1:39:16<10:44:36, 12.86s/page]"
     ]
    },
    {
     "name": "stdout",
     "output_type": "stream",
     "text": [
      "Can't get image's sizes\n"
     ]
    },
    {
     "name": "stderr",
     "output_type": "stream",
     "text": [
      " 14%|█▍        | 481/3466 [1:45:02<17:17:04, 20.85s/page]"
     ]
    },
    {
     "name": "stdout",
     "output_type": "stream",
     "text": [
      "Can't get image's sizes\n"
     ]
    },
    {
     "name": "stderr",
     "output_type": "stream",
     "text": [
      " 14%|█▍        | 485/3466 [1:46:03<13:06:47, 15.84s/page]"
     ]
    },
    {
     "name": "stdout",
     "output_type": "stream",
     "text": [
      "Can't get image's sizes\n"
     ]
    },
    {
     "name": "stderr",
     "output_type": "stream",
     "text": [
      " 14%|█▍        | 489/3466 [1:46:55<11:43:59, 14.19s/page]"
     ]
    },
    {
     "name": "stdout",
     "output_type": "stream",
     "text": [
      "Can't go to the followers info\n"
     ]
    },
    {
     "name": "stderr",
     "output_type": "stream",
     "text": [
      " 14%|█▍        | 492/3466 [1:47:34<10:27:39, 12.66s/page]"
     ]
    },
    {
     "name": "stdout",
     "output_type": "stream",
     "text": [
      "Can't go to the followers info\n"
     ]
    },
    {
     "name": "stderr",
     "output_type": "stream",
     "text": [
      " 14%|█▍        | 494/3466 [1:48:14<13:59:47, 16.95s/page]"
     ]
    },
    {
     "name": "stdout",
     "output_type": "stream",
     "text": [
      "Can't get image's sizes\n"
     ]
    },
    {
     "name": "stderr",
     "output_type": "stream",
     "text": [
      " 15%|█▍        | 515/3466 [1:52:52<11:22:01, 13.87s/page]"
     ]
    },
    {
     "name": "stdout",
     "output_type": "stream",
     "text": [
      "Can't get image's sizes\n"
     ]
    },
    {
     "name": "stderr",
     "output_type": "stream",
     "text": [
      " 16%|█▌        | 538/3466 [1:58:00<9:15:44, 11.39s/page] "
     ]
    },
    {
     "name": "stdout",
     "output_type": "stream",
     "text": [
      "Can't get image's sizes\n",
      "Couldn't get title from article.\n",
      "Couldn't get title from article.\n",
      "Can't go to the followers info\n",
      "Couldn't get reading time from article.\n",
      "Couldn't get date from article.\n",
      "Couldn't get YouTube videos.\n"
     ]
    },
    {
     "name": "stderr",
     "output_type": "stream",
     "text": [
      " 16%|█▌        | 541/3466 [1:58:25<7:56:26,  9.77s/page]"
     ]
    },
    {
     "name": "stdout",
     "output_type": "stream",
     "text": [
      "Can't get image's sizes\n"
     ]
    },
    {
     "name": "stderr",
     "output_type": "stream",
     "text": [
      " 16%|█▌        | 553/3466 [2:00:41<9:36:47, 11.88s/page] "
     ]
    },
    {
     "name": "stdout",
     "output_type": "stream",
     "text": [
      "Can't get image's sizes\n"
     ]
    },
    {
     "name": "stderr",
     "output_type": "stream",
     "text": [
      " 16%|█▋        | 564/3466 [2:02:57<9:53:04, 12.26s/page] "
     ]
    },
    {
     "name": "stdout",
     "output_type": "stream",
     "text": [
      "Can't get image's sizes\n"
     ]
    },
    {
     "name": "stderr",
     "output_type": "stream",
     "text": [
      " 17%|█▋        | 589/3466 [2:07:47<8:47:35, 11.00s/page] "
     ]
    },
    {
     "name": "stdout",
     "output_type": "stream",
     "text": [
      "Can't get image's sizes\n"
     ]
    },
    {
     "name": "stderr",
     "output_type": "stream",
     "text": [
      " 17%|█▋        | 595/3466 [2:09:06<12:17:37, 15.42s/page]"
     ]
    },
    {
     "name": "stdout",
     "output_type": "stream",
     "text": [
      "Can't get image's sizes\n",
      "Can't get image's sizes\n"
     ]
    },
    {
     "name": "stderr",
     "output_type": "stream",
     "text": [
      " 18%|█▊        | 615/3466 [2:12:42<8:48:09, 11.12s/page] "
     ]
    },
    {
     "name": "stdout",
     "output_type": "stream",
     "text": [
      "Can't get image's sizes\n",
      "Couldn't get title from article.\n",
      "Couldn't get title from article.\n",
      "Can't go to the followers info\n",
      "Couldn't get reading time from article.\n",
      "Couldn't get date from article.\n",
      "Couldn't get YouTube videos.\n"
     ]
    },
    {
     "name": "stderr",
     "output_type": "stream",
     "text": [
      " 18%|█▊        | 627/3466 [2:14:52<8:18:27, 10.53s/page]"
     ]
    },
    {
     "name": "stdout",
     "output_type": "stream",
     "text": [
      "Can't get image's sizes\n"
     ]
    },
    {
     "name": "stderr",
     "output_type": "stream",
     "text": [
      " 18%|█▊        | 633/3466 [2:16:29<12:36:23, 16.02s/page]"
     ]
    },
    {
     "name": "stdout",
     "output_type": "stream",
     "text": [
      "Can't get image's sizes\n"
     ]
    },
    {
     "name": "stderr",
     "output_type": "stream",
     "text": [
      " 18%|█▊        | 636/3466 [2:17:17<13:27:57, 17.13s/page]"
     ]
    },
    {
     "name": "stdout",
     "output_type": "stream",
     "text": [
      "Can't get image's sizes\n"
     ]
    },
    {
     "name": "stderr",
     "output_type": "stream",
     "text": [
      " 19%|█▉        | 654/3466 [2:20:30<8:03:02, 10.31s/page] "
     ]
    },
    {
     "name": "stdout",
     "output_type": "stream",
     "text": [
      "Can't get image's sizes\n"
     ]
    },
    {
     "name": "stderr",
     "output_type": "stream",
     "text": [
      " 19%|█▉        | 662/3466 [2:21:54<8:21:09, 10.72s/page]"
     ]
    },
    {
     "name": "stdout",
     "output_type": "stream",
     "text": [
      "Couldn't get title from article.\n"
     ]
    },
    {
     "name": "stderr",
     "output_type": "stream",
     "text": [
      " 19%|█▉        | 664/3466 [2:22:32<12:25:22, 15.96s/page]"
     ]
    },
    {
     "name": "stdout",
     "output_type": "stream",
     "text": [
      "Can't get image's sizes\n"
     ]
    },
    {
     "name": "stderr",
     "output_type": "stream",
     "text": [
      " 19%|█▉        | 668/3466 [2:23:36<13:21:16, 17.18s/page]"
     ]
    },
    {
     "name": "stdout",
     "output_type": "stream",
     "text": [
      "Can't get image's sizes\n"
     ]
    },
    {
     "name": "stderr",
     "output_type": "stream",
     "text": [
      " 20%|█▉        | 691/3466 [2:28:12<8:52:14, 11.51s/page] "
     ]
    },
    {
     "name": "stdout",
     "output_type": "stream",
     "text": [
      "Can't get image's sizes\n"
     ]
    },
    {
     "name": "stderr",
     "output_type": "stream",
     "text": [
      " 20%|██        | 704/3466 [2:30:41<11:47:11, 15.36s/page]"
     ]
    },
    {
     "name": "stdout",
     "output_type": "stream",
     "text": [
      "Can't get image's sizes\n"
     ]
    },
    {
     "name": "stderr",
     "output_type": "stream",
     "text": [
      " 21%|██        | 719/3466 [2:34:01<10:47:50, 14.15s/page]"
     ]
    },
    {
     "name": "stdout",
     "output_type": "stream",
     "text": [
      "Couldn't get title from article.\n"
     ]
    },
    {
     "name": "stderr",
     "output_type": "stream",
     "text": [
      " 21%|██        | 725/3466 [2:35:11<11:00:09, 14.45s/page]"
     ]
    },
    {
     "name": "stdout",
     "output_type": "stream",
     "text": [
      "Can't get image's sizes\n"
     ]
    },
    {
     "name": "stderr",
     "output_type": "stream",
     "text": [
      " 21%|██        | 736/3466 [2:37:43<12:32:26, 16.54s/page]"
     ]
    },
    {
     "name": "stdout",
     "output_type": "stream",
     "text": [
      "Can't get image's sizes\n",
      "Can't get image's sizes\n"
     ]
    },
    {
     "name": "stderr",
     "output_type": "stream",
     "text": [
      " 21%|██▏       | 737/3466 [2:38:37<21:09:45, 27.92s/page]"
     ]
    },
    {
     "name": "stdout",
     "output_type": "stream",
     "text": [
      "Can't get image's sizes\n"
     ]
    },
    {
     "name": "stderr",
     "output_type": "stream",
     "text": [
      " 21%|██▏       | 743/3466 [2:39:39<9:26:56, 12.49s/page] "
     ]
    },
    {
     "name": "stdout",
     "output_type": "stream",
     "text": [
      "Can't get image's sizes\n"
     ]
    },
    {
     "name": "stderr",
     "output_type": "stream",
     "text": [
      " 22%|██▏       | 749/3466 [2:40:43<8:31:13, 11.29s/page]"
     ]
    },
    {
     "name": "stdout",
     "output_type": "stream",
     "text": [
      "Can't get image's sizes\n",
      "Couldn't get title from article.\n"
     ]
    },
    {
     "name": "stderr",
     "output_type": "stream",
     "text": [
      " 22%|██▏       | 777/3466 [2:46:08<9:58:51, 13.36s/page] "
     ]
    },
    {
     "name": "stdout",
     "output_type": "stream",
     "text": [
      "Can't get image's sizes\n"
     ]
    },
    {
     "name": "stderr",
     "output_type": "stream",
     "text": [
      " 22%|██▏       | 779/3466 [2:46:27<8:27:54, 11.34s/page]"
     ]
    },
    {
     "name": "stdout",
     "output_type": "stream",
     "text": [
      "Can't get image's sizes\n"
     ]
    },
    {
     "name": "stderr",
     "output_type": "stream",
     "text": [
      " 23%|██▎       | 796/3466 [2:50:13<12:08:18, 16.37s/page]"
     ]
    },
    {
     "name": "stdout",
     "output_type": "stream",
     "text": [
      "Can't get image's sizes\n"
     ]
    },
    {
     "name": "stderr",
     "output_type": "stream",
     "text": [
      " 23%|██▎       | 802/3466 [2:51:42<10:06:22, 13.66s/page]"
     ]
    },
    {
     "name": "stdout",
     "output_type": "stream",
     "text": [
      "Can't get image's sizes\n"
     ]
    },
    {
     "name": "stderr",
     "output_type": "stream",
     "text": [
      " 23%|██▎       | 805/3466 [2:52:14<8:57:41, 12.12s/page] "
     ]
    },
    {
     "name": "stdout",
     "output_type": "stream",
     "text": [
      "Can't get image's sizes\n"
     ]
    },
    {
     "name": "stderr",
     "output_type": "stream",
     "text": [
      " 24%|██▍       | 833/3466 [2:57:19<5:53:03,  8.05s/page] "
     ]
    },
    {
     "name": "stdout",
     "output_type": "stream",
     "text": [
      "Can't go to the followers info\n"
     ]
    },
    {
     "name": "stderr",
     "output_type": "stream",
     "text": [
      " 24%|██▍       | 838/3466 [2:58:11<7:18:06, 10.00s/page]"
     ]
    },
    {
     "name": "stdout",
     "output_type": "stream",
     "text": [
      "Can't get image's sizes\n"
     ]
    },
    {
     "name": "stderr",
     "output_type": "stream",
     "text": [
      " 24%|██▍       | 844/3466 [2:59:12<7:49:11, 10.74s/page]"
     ]
    },
    {
     "name": "stdout",
     "output_type": "stream",
     "text": [
      "Can't get image's sizes\n"
     ]
    },
    {
     "name": "stderr",
     "output_type": "stream",
     "text": [
      " 25%|██▍       | 850/3466 [3:00:31<11:28:23, 15.79s/page]"
     ]
    },
    {
     "name": "stdout",
     "output_type": "stream",
     "text": [
      "Can't get image's sizes\n"
     ]
    },
    {
     "name": "stderr",
     "output_type": "stream",
     "text": [
      " 25%|██▍       | 857/3466 [3:02:01<11:23:27, 15.72s/page]"
     ]
    },
    {
     "name": "stdout",
     "output_type": "stream",
     "text": [
      "Can't get image's sizes\n"
     ]
    },
    {
     "name": "stderr",
     "output_type": "stream",
     "text": [
      " 25%|██▍       | 858/3466 [3:02:13<10:43:08, 14.80s/page]"
     ]
    },
    {
     "name": "stdout",
     "output_type": "stream",
     "text": [
      "Can't get image's sizes\n"
     ]
    },
    {
     "name": "stderr",
     "output_type": "stream",
     "text": [
      " 25%|██▍       | 859/3466 [3:02:21<9:15:43, 12.79s/page] "
     ]
    },
    {
     "name": "stdout",
     "output_type": "stream",
     "text": [
      "Can't get image's sizes\n"
     ]
    },
    {
     "name": "stderr",
     "output_type": "stream",
     "text": [
      " 25%|██▌       | 873/3466 [3:05:31<8:52:35, 12.32s/page] "
     ]
    },
    {
     "name": "stdout",
     "output_type": "stream",
     "text": [
      "Can't get image's sizes\n",
      "Couldn't get title from article.\n"
     ]
    },
    {
     "name": "stderr",
     "output_type": "stream",
     "text": [
      " 25%|██▌       | 877/3466 [3:06:26<11:15:09, 15.65s/page]"
     ]
    },
    {
     "name": "stdout",
     "output_type": "stream",
     "text": [
      "Can't get image's sizes\n"
     ]
    },
    {
     "name": "stderr",
     "output_type": "stream",
     "text": [
      " 25%|██▌       | 879/3466 [3:06:54<10:23:17, 14.46s/page]"
     ]
    },
    {
     "name": "stdout",
     "output_type": "stream",
     "text": [
      "Can't get image's sizes\n"
     ]
    },
    {
     "name": "stderr",
     "output_type": "stream",
     "text": [
      " 25%|██▌       | 882/3466 [3:07:25<8:27:59, 11.80s/page] "
     ]
    },
    {
     "name": "stdout",
     "output_type": "stream",
     "text": [
      "Can't get image's sizes\n",
      "Couldn't get title from article.\n"
     ]
    },
    {
     "name": "stderr",
     "output_type": "stream",
     "text": [
      " 26%|██▌       | 906/3466 [3:11:56<11:33:15, 16.25s/page]"
     ]
    },
    {
     "name": "stdout",
     "output_type": "stream",
     "text": [
      "Can't get image's sizes\n"
     ]
    },
    {
     "name": "stderr",
     "output_type": "stream",
     "text": [
      " 26%|██▋       | 912/3466 [3:13:01<8:06:57, 11.44s/page] "
     ]
    },
    {
     "name": "stdout",
     "output_type": "stream",
     "text": [
      "Can't get image's sizes\n"
     ]
    },
    {
     "name": "stderr",
     "output_type": "stream",
     "text": [
      " 27%|██▋       | 921/3466 [3:14:50<10:47:55, 15.28s/page]"
     ]
    },
    {
     "name": "stdout",
     "output_type": "stream",
     "text": [
      "Can't get image's sizes\n"
     ]
    },
    {
     "name": "stderr",
     "output_type": "stream",
     "text": [
      " 28%|██▊       | 954/3466 [3:20:25<7:42:10, 11.04s/page] "
     ]
    },
    {
     "name": "stdout",
     "output_type": "stream",
     "text": [
      "Can't get image's sizes\n"
     ]
    },
    {
     "name": "stderr",
     "output_type": "stream",
     "text": [
      " 28%|██▊       | 974/3466 [3:24:02<7:11:42, 10.39s/page]"
     ]
    },
    {
     "name": "stdout",
     "output_type": "stream",
     "text": [
      "Can't get image's sizes\n"
     ]
    },
    {
     "name": "stderr",
     "output_type": "stream",
     "text": [
      " 28%|██▊       | 979/3466 [3:25:30<14:12:12, 20.56s/page]"
     ]
    },
    {
     "name": "stdout",
     "output_type": "stream",
     "text": [
      "Can't get image's sizes\n"
     ]
    },
    {
     "name": "stderr",
     "output_type": "stream",
     "text": [
      " 28%|██▊       | 987/3466 [3:26:55<7:54:23, 11.48s/page] "
     ]
    },
    {
     "name": "stdout",
     "output_type": "stream",
     "text": [
      "Can't get image's sizes\n",
      "Couldn't get title from article.\n"
     ]
    },
    {
     "name": "stderr",
     "output_type": "stream",
     "text": [
      " 29%|██▊       | 990/3466 [3:27:23<6:55:47, 10.08s/page]"
     ]
    },
    {
     "name": "stdout",
     "output_type": "stream",
     "text": [
      "Can't get image's sizes\n"
     ]
    },
    {
     "name": "stderr",
     "output_type": "stream",
     "text": [
      " 29%|██▉       | 998/3466 [3:29:09<11:37:15, 16.95s/page]"
     ]
    },
    {
     "name": "stdout",
     "output_type": "stream",
     "text": [
      "Can't get image's sizes\n"
     ]
    },
    {
     "name": "stderr",
     "output_type": "stream",
     "text": [
      " 29%|██▉       | 1006/3466 [3:30:43<7:55:13, 11.59s/page] "
     ]
    },
    {
     "name": "stdout",
     "output_type": "stream",
     "text": [
      "Can't get image's sizes\n"
     ]
    },
    {
     "name": "stderr",
     "output_type": "stream",
     "text": [
      " 29%|██▉       | 1014/3466 [3:32:03<6:23:46,  9.39s/page]"
     ]
    },
    {
     "name": "stdout",
     "output_type": "stream",
     "text": [
      "Can't get image's sizes\n",
      "Couldn't get title from article.\n"
     ]
    },
    {
     "name": "stderr",
     "output_type": "stream",
     "text": [
      " 29%|██▉       | 1015/3466 [3:32:10<5:57:39,  8.76s/page]"
     ]
    },
    {
     "name": "stdout",
     "output_type": "stream",
     "text": [
      "Can't get image's sizes\n"
     ]
    },
    {
     "name": "stderr",
     "output_type": "stream",
     "text": [
      " 29%|██▉       | 1018/3466 [3:32:47<7:33:35, 11.12s/page]"
     ]
    },
    {
     "name": "stdout",
     "output_type": "stream",
     "text": [
      "Can't get image's sizes\n"
     ]
    },
    {
     "name": "stderr",
     "output_type": "stream",
     "text": [
      " 29%|██▉       | 1020/3466 [3:33:03<6:36:56,  9.74s/page]"
     ]
    },
    {
     "name": "stdout",
     "output_type": "stream",
     "text": [
      "Can't get image's sizes\n"
     ]
    },
    {
     "name": "stderr",
     "output_type": "stream",
     "text": [
      " 30%|██▉       | 1035/3466 [3:35:45<7:43:14, 11.43s/page]"
     ]
    },
    {
     "name": "stdout",
     "output_type": "stream",
     "text": [
      "Can't get image's sizes\n"
     ]
    },
    {
     "name": "stderr",
     "output_type": "stream",
     "text": [
      " 30%|██▉       | 1039/3466 [3:36:39<10:20:44, 15.35s/page]"
     ]
    },
    {
     "name": "stdout",
     "output_type": "stream",
     "text": [
      "Can't get image's sizes\n"
     ]
    },
    {
     "name": "stderr",
     "output_type": "stream",
     "text": [
      " 30%|███       | 1045/3466 [3:37:49<8:10:23, 12.15s/page] "
     ]
    },
    {
     "name": "stdout",
     "output_type": "stream",
     "text": [
      "Can't get image's sizes\n"
     ]
    },
    {
     "name": "stderr",
     "output_type": "stream",
     "text": [
      " 30%|███       | 1051/3466 [3:38:48<7:25:01, 11.06s/page]"
     ]
    },
    {
     "name": "stdout",
     "output_type": "stream",
     "text": [
      "Can't get image's sizes\n"
     ]
    },
    {
     "name": "stderr",
     "output_type": "stream",
     "text": [
      " 31%|███       | 1061/3466 [3:40:45<8:04:41, 12.09s/page]"
     ]
    },
    {
     "name": "stdout",
     "output_type": "stream",
     "text": [
      "Can't get image's sizes\n"
     ]
    },
    {
     "name": "stderr",
     "output_type": "stream",
     "text": [
      " 31%|███       | 1069/3466 [3:42:36<8:59:01, 13.49s/page] "
     ]
    },
    {
     "name": "stdout",
     "output_type": "stream",
     "text": [
      "Can't get image's sizes\n"
     ]
    },
    {
     "name": "stderr",
     "output_type": "stream",
     "text": [
      " 31%|███       | 1071/3466 [3:42:55<7:45:37, 11.67s/page]"
     ]
    },
    {
     "name": "stdout",
     "output_type": "stream",
     "text": [
      "Can't get image's sizes\n"
     ]
    },
    {
     "name": "stderr",
     "output_type": "stream",
     "text": [
      " 31%|███       | 1083/3466 [3:44:59<7:15:16, 10.96s/page]"
     ]
    },
    {
     "name": "stdout",
     "output_type": "stream",
     "text": [
      "Can't get image's sizes\n"
     ]
    },
    {
     "name": "stderr",
     "output_type": "stream",
     "text": [
      " 32%|███▏      | 1098/3466 [3:47:54<10:22:43, 15.78s/page]"
     ]
    },
    {
     "name": "stdout",
     "output_type": "stream",
     "text": [
      "Can't get image's sizes\n"
     ]
    },
    {
     "name": "stderr",
     "output_type": "stream",
     "text": [
      " 32%|███▏      | 1101/3466 [3:48:27<8:08:02, 12.38s/page] "
     ]
    },
    {
     "name": "stdout",
     "output_type": "stream",
     "text": [
      "Can't get image's sizes\n"
     ]
    },
    {
     "name": "stderr",
     "output_type": "stream",
     "text": [
      " 32%|███▏      | 1110/3466 [3:50:28<8:44:50, 13.37s/page] "
     ]
    },
    {
     "name": "stdout",
     "output_type": "stream",
     "text": [
      "Can't get image's sizes\n"
     ]
    },
    {
     "name": "stderr",
     "output_type": "stream",
     "text": [
      " 32%|███▏      | 1121/3466 [3:52:46<8:23:58, 12.90s/page] "
     ]
    },
    {
     "name": "stdout",
     "output_type": "stream",
     "text": [
      "Can't get image's sizes\n"
     ]
    },
    {
     "name": "stderr",
     "output_type": "stream",
     "text": [
      " 32%|███▏      | 1124/3466 [3:53:48<13:31:30, 20.79s/page]"
     ]
    },
    {
     "name": "stdout",
     "output_type": "stream",
     "text": [
      "Can't get image's sizes\n"
     ]
    },
    {
     "name": "stderr",
     "output_type": "stream",
     "text": [
      " 33%|███▎      | 1141/3466 [3:56:51<6:22:28,  9.87s/page] "
     ]
    },
    {
     "name": "stdout",
     "output_type": "stream",
     "text": [
      "Can't get image's sizes\n",
      "Couldn't get title from article.\n"
     ]
    },
    {
     "name": "stderr",
     "output_type": "stream",
     "text": [
      " 34%|███▍      | 1171/3466 [4:02:53<11:03:12, 17.34s/page]"
     ]
    },
    {
     "name": "stdout",
     "output_type": "stream",
     "text": [
      "Can't get image's sizes\n"
     ]
    },
    {
     "name": "stderr",
     "output_type": "stream",
     "text": [
      " 34%|███▍      | 1192/3466 [4:06:49<7:05:07, 11.22s/page] "
     ]
    },
    {
     "name": "stdout",
     "output_type": "stream",
     "text": [
      "Can't get image's sizes\n"
     ]
    },
    {
     "name": "stderr",
     "output_type": "stream",
     "text": [
      " 34%|███▍      | 1194/3466 [4:07:05<6:09:36,  9.76s/page]"
     ]
    },
    {
     "name": "stdout",
     "output_type": "stream",
     "text": [
      "Can't get image's sizes\n"
     ]
    },
    {
     "name": "stderr",
     "output_type": "stream",
     "text": [
      " 35%|███▌      | 1218/3466 [4:11:37<6:29:32, 10.40s/page]"
     ]
    },
    {
     "name": "stdout",
     "output_type": "stream",
     "text": [
      "Can't get image's sizes\n",
      "Couldn't get title from article.\n"
     ]
    },
    {
     "name": "stderr",
     "output_type": "stream",
     "text": [
      " 35%|███▌      | 1224/3466 [4:12:58<8:14:40, 13.24s/page] "
     ]
    },
    {
     "name": "stdout",
     "output_type": "stream",
     "text": [
      "Can't go to the followers info\n"
     ]
    },
    {
     "name": "stderr",
     "output_type": "stream",
     "text": [
      " 36%|███▌      | 1233/3466 [4:14:44<6:57:52, 11.23s/page]"
     ]
    },
    {
     "name": "stdout",
     "output_type": "stream",
     "text": [
      "Can't get image's sizes\n"
     ]
    },
    {
     "name": "stderr",
     "output_type": "stream",
     "text": [
      " 36%|███▋      | 1263/3466 [4:20:56<9:41:17, 15.83s/page]"
     ]
    },
    {
     "name": "stdout",
     "output_type": "stream",
     "text": [
      "Couldn't get title from article.\n"
     ]
    },
    {
     "name": "stderr",
     "output_type": "stream",
     "text": [
      " 37%|███▋      | 1284/3466 [4:25:20<10:02:36, 16.57s/page]"
     ]
    },
    {
     "name": "stdout",
     "output_type": "stream",
     "text": [
      "Can't get image's sizes\n"
     ]
    },
    {
     "name": "stderr",
     "output_type": "stream",
     "text": [
      " 37%|███▋      | 1295/3466 [4:27:33<7:29:36, 12.43s/page] "
     ]
    },
    {
     "name": "stdout",
     "output_type": "stream",
     "text": [
      "Can't get image's sizes\n",
      "Can't go to the followers info\n"
     ]
    },
    {
     "name": "stderr",
     "output_type": "stream",
     "text": [
      " 38%|███▊      | 1320/3466 [4:32:23<8:11:03, 13.73s/page]"
     ]
    },
    {
     "name": "stdout",
     "output_type": "stream",
     "text": [
      "Couldn't get title from article.\n"
     ]
    },
    {
     "name": "stderr",
     "output_type": "stream",
     "text": [
      " 38%|███▊      | 1325/3466 [4:33:14<6:32:13, 10.99s/page]"
     ]
    },
    {
     "name": "stdout",
     "output_type": "stream",
     "text": [
      "Can't get image's sizes\n"
     ]
    },
    {
     "name": "stderr",
     "output_type": "stream",
     "text": [
      " 39%|███▉      | 1350/3466 [4:37:30<6:36:08, 11.23s/page]"
     ]
    },
    {
     "name": "stdout",
     "output_type": "stream",
     "text": [
      "Can't get image's sizes\n"
     ]
    },
    {
     "name": "stderr",
     "output_type": "stream",
     "text": [
      " 39%|███▉      | 1357/3466 [4:38:56<7:11:47, 12.28s/page]"
     ]
    },
    {
     "name": "stdout",
     "output_type": "stream",
     "text": [
      "Can't get image's sizes\n"
     ]
    },
    {
     "name": "stderr",
     "output_type": "stream",
     "text": [
      " 40%|███▉      | 1372/3466 [4:41:42<6:53:07, 11.84s/page]"
     ]
    },
    {
     "name": "stdout",
     "output_type": "stream",
     "text": [
      "Can't get image's sizes\n"
     ]
    },
    {
     "name": "stderr",
     "output_type": "stream",
     "text": [
      " 40%|███▉      | 1381/3466 [4:43:34<6:09:56, 10.65s/page]"
     ]
    },
    {
     "name": "stdout",
     "output_type": "stream",
     "text": [
      "Can't go to the followers info\n"
     ]
    },
    {
     "name": "stderr",
     "output_type": "stream",
     "text": [
      " 40%|████      | 1401/3466 [4:48:04<10:57:27, 19.10s/page]"
     ]
    },
    {
     "name": "stdout",
     "output_type": "stream",
     "text": [
      "Can't get image's sizes\n"
     ]
    },
    {
     "name": "stderr",
     "output_type": "stream",
     "text": [
      " 41%|████      | 1406/3466 [4:49:03<7:09:54, 12.52s/page] "
     ]
    },
    {
     "name": "stdout",
     "output_type": "stream",
     "text": [
      "Can't get image's sizes\n"
     ]
    },
    {
     "name": "stderr",
     "output_type": "stream",
     "text": [
      " 41%|████      | 1409/3466 [4:49:39<7:14:11, 12.66s/page]"
     ]
    },
    {
     "name": "stdout",
     "output_type": "stream",
     "text": [
      "Can't get image's sizes\n"
     ]
    },
    {
     "name": "stderr",
     "output_type": "stream",
     "text": [
      " 41%|████      | 1418/3466 [4:51:18<5:56:37, 10.45s/page]"
     ]
    },
    {
     "name": "stdout",
     "output_type": "stream",
     "text": [
      "Can't get image's sizes\n"
     ]
    },
    {
     "name": "stderr",
     "output_type": "stream",
     "text": [
      " 41%|████      | 1421/3466 [4:51:49<6:05:19, 10.72s/page]"
     ]
    },
    {
     "name": "stdout",
     "output_type": "stream",
     "text": [
      "Can't get image's sizes\n"
     ]
    },
    {
     "name": "stderr",
     "output_type": "stream",
     "text": [
      " 41%|████      | 1423/3466 [4:52:23<8:25:03, 14.83s/page]"
     ]
    },
    {
     "name": "stdout",
     "output_type": "stream",
     "text": [
      "Can't get image's sizes\n"
     ]
    },
    {
     "name": "stderr",
     "output_type": "stream",
     "text": [
      " 41%|████▏     | 1436/3466 [4:54:45<5:21:34,  9.50s/page]"
     ]
    },
    {
     "name": "stdout",
     "output_type": "stream",
     "text": [
      "Can't go to the followers info\n"
     ]
    },
    {
     "name": "stderr",
     "output_type": "stream",
     "text": [
      " 42%|████▏     | 1457/3466 [4:58:22<6:18:36, 11.31s/page]"
     ]
    },
    {
     "name": "stdout",
     "output_type": "stream",
     "text": [
      "Can't get image's sizes\n"
     ]
    },
    {
     "name": "stderr",
     "output_type": "stream",
     "text": [
      " 42%|████▏     | 1458/3466 [4:58:29<5:37:48, 10.09s/page]"
     ]
    },
    {
     "name": "stdout",
     "output_type": "stream",
     "text": [
      "Can't get image's sizes\n"
     ]
    },
    {
     "name": "stderr",
     "output_type": "stream",
     "text": [
      " 42%|████▏     | 1470/3466 [5:00:36<8:05:36, 14.60s/page]"
     ]
    },
    {
     "name": "stdout",
     "output_type": "stream",
     "text": [
      "Can't get image's sizes\n"
     ]
    },
    {
     "name": "stderr",
     "output_type": "stream",
     "text": [
      " 42%|████▏     | 1472/3466 [5:00:58<6:58:27, 12.59s/page]"
     ]
    },
    {
     "name": "stdout",
     "output_type": "stream",
     "text": [
      "Couldn't get title from article.\n"
     ]
    },
    {
     "name": "stderr",
     "output_type": "stream",
     "text": [
      " 43%|████▎     | 1477/3466 [5:02:29<10:32:55, 19.09s/page]"
     ]
    },
    {
     "name": "stdout",
     "output_type": "stream",
     "text": [
      "Can't get image's sizes\n"
     ]
    },
    {
     "name": "stderr",
     "output_type": "stream",
     "text": [
      " 43%|████▎     | 1478/3466 [5:03:00<12:32:48, 22.72s/page]"
     ]
    },
    {
     "name": "stdout",
     "output_type": "stream",
     "text": [
      "Can't get image's sizes\n"
     ]
    },
    {
     "name": "stderr",
     "output_type": "stream",
     "text": [
      " 43%|████▎     | 1491/3466 [5:05:43<9:00:42, 16.43s/page] "
     ]
    },
    {
     "name": "stdout",
     "output_type": "stream",
     "text": [
      "Can't get image's sizes\n"
     ]
    },
    {
     "name": "stderr",
     "output_type": "stream",
     "text": [
      " 43%|████▎     | 1492/3466 [5:05:57<8:34:52, 15.65s/page]"
     ]
    },
    {
     "name": "stdout",
     "output_type": "stream",
     "text": [
      "Can't get image's sizes\n"
     ]
    },
    {
     "name": "stderr",
     "output_type": "stream",
     "text": [
      " 43%|████▎     | 1497/3466 [5:07:14<7:28:39, 13.67s/page] "
     ]
    },
    {
     "name": "stdout",
     "output_type": "stream",
     "text": [
      "Can't get image's sizes\n"
     ]
    },
    {
     "name": "stderr",
     "output_type": "stream",
     "text": [
      " 43%|████▎     | 1505/3466 [5:08:49<6:23:48, 11.74s/page]"
     ]
    },
    {
     "name": "stdout",
     "output_type": "stream",
     "text": [
      "Can't go to the followers info\n"
     ]
    },
    {
     "name": "stderr",
     "output_type": "stream",
     "text": [
      " 44%|████▎     | 1511/3466 [5:09:59<7:49:41, 14.42s/page]"
     ]
    },
    {
     "name": "stdout",
     "output_type": "stream",
     "text": [
      "Can't get image's sizes\n",
      "Can't get image's sizes\n"
     ]
    },
    {
     "name": "stderr",
     "output_type": "stream",
     "text": [
      " 44%|████▍     | 1520/3466 [5:12:00<9:15:57, 17.14s/page]"
     ]
    },
    {
     "name": "stdout",
     "output_type": "stream",
     "text": [
      "Can't get image's sizes\n"
     ]
    },
    {
     "name": "stderr",
     "output_type": "stream",
     "text": [
      " 44%|████▍     | 1523/3466 [5:12:29<6:21:17, 11.77s/page]"
     ]
    },
    {
     "name": "stdout",
     "output_type": "stream",
     "text": [
      "Can't get image's sizes\n"
     ]
    },
    {
     "name": "stderr",
     "output_type": "stream",
     "text": [
      " 44%|████▍     | 1540/3466 [5:15:28<5:39:25, 10.57s/page]"
     ]
    },
    {
     "name": "stdout",
     "output_type": "stream",
     "text": [
      "Can't get image's sizes\n"
     ]
    },
    {
     "name": "stderr",
     "output_type": "stream",
     "text": [
      " 45%|████▍     | 1548/3466 [5:17:01<6:05:58, 11.45s/page]"
     ]
    },
    {
     "name": "stdout",
     "output_type": "stream",
     "text": [
      "Can't get image's sizes\n"
     ]
    },
    {
     "name": "stderr",
     "output_type": "stream",
     "text": [
      " 45%|████▍     | 1554/3466 [5:18:20<8:16:17, 15.57s/page]"
     ]
    },
    {
     "name": "stdout",
     "output_type": "stream",
     "text": [
      "Can't get image's sizes\n"
     ]
    },
    {
     "name": "stderr",
     "output_type": "stream",
     "text": [
      " 45%|████▌     | 1574/3466 [5:22:17<7:19:54, 13.95s/page]"
     ]
    },
    {
     "name": "stdout",
     "output_type": "stream",
     "text": [
      "Can't get image's sizes\n"
     ]
    },
    {
     "name": "stderr",
     "output_type": "stream",
     "text": [
      " 45%|████▌     | 1576/3466 [5:22:37<6:20:12, 12.07s/page]"
     ]
    },
    {
     "name": "stdout",
     "output_type": "stream",
     "text": [
      "Can't get image's sizes\n"
     ]
    },
    {
     "name": "stderr",
     "output_type": "stream",
     "text": [
      " 46%|████▌     | 1596/3466 [5:26:24<6:03:47, 11.67s/page]"
     ]
    },
    {
     "name": "stdout",
     "output_type": "stream",
     "text": [
      "Can't get image's sizes\n"
     ]
    },
    {
     "name": "stderr",
     "output_type": "stream",
     "text": [
      " 46%|████▋     | 1610/3466 [5:29:06<8:11:29, 15.89s/page]"
     ]
    },
    {
     "name": "stdout",
     "output_type": "stream",
     "text": [
      "Can't get image's sizes\n"
     ]
    },
    {
     "name": "stderr",
     "output_type": "stream",
     "text": [
      " 47%|████▋     | 1612/3466 [5:29:31<7:13:23, 14.03s/page]"
     ]
    },
    {
     "name": "stdout",
     "output_type": "stream",
     "text": [
      "Can't go to the followers info\n"
     ]
    },
    {
     "name": "stderr",
     "output_type": "stream",
     "text": [
      " 47%|████▋     | 1617/3466 [5:30:35<6:44:33, 13.13s/page]"
     ]
    },
    {
     "name": "stdout",
     "output_type": "stream",
     "text": [
      "Can't get image's sizes\n"
     ]
    },
    {
     "name": "stderr",
     "output_type": "stream",
     "text": [
      " 47%|████▋     | 1619/3466 [5:30:51<5:20:34, 10.41s/page]"
     ]
    },
    {
     "name": "stdout",
     "output_type": "stream",
     "text": [
      "Can't get image's sizes\n"
     ]
    },
    {
     "name": "stderr",
     "output_type": "stream",
     "text": [
      " 47%|████▋     | 1622/3466 [5:31:51<7:38:56, 14.93s/page]"
     ]
    },
    {
     "name": "stdout",
     "output_type": "stream",
     "text": [
      "Can't get image's sizes\n"
     ]
    },
    {
     "name": "stderr",
     "output_type": "stream",
     "text": [
      " 47%|████▋     | 1628/3466 [5:32:58<6:04:25, 11.90s/page]"
     ]
    },
    {
     "name": "stdout",
     "output_type": "stream",
     "text": [
      "Can't get image's sizes\n"
     ]
    },
    {
     "name": "stderr",
     "output_type": "stream",
     "text": [
      " 47%|████▋     | 1635/3466 [5:34:14<5:40:52, 11.17s/page]"
     ]
    },
    {
     "name": "stdout",
     "output_type": "stream",
     "text": [
      "Can't get image's sizes\n"
     ]
    },
    {
     "name": "stderr",
     "output_type": "stream",
     "text": [
      " 48%|████▊     | 1653/3466 [5:38:30<8:33:01, 16.98s/page]"
     ]
    },
    {
     "name": "stdout",
     "output_type": "stream",
     "text": [
      "Can't get image's sizes\n"
     ]
    },
    {
     "name": "stderr",
     "output_type": "stream",
     "text": [
      " 48%|████▊     | 1656/3466 [5:39:07<6:45:27, 13.44s/page]"
     ]
    },
    {
     "name": "stdout",
     "output_type": "stream",
     "text": [
      "Can't get image's sizes\n"
     ]
    },
    {
     "name": "stderr",
     "output_type": "stream",
     "text": [
      " 48%|████▊     | 1659/3466 [5:39:51<7:54:20, 15.75s/page]"
     ]
    },
    {
     "name": "stdout",
     "output_type": "stream",
     "text": [
      "Can't get image's sizes\n"
     ]
    },
    {
     "name": "stderr",
     "output_type": "stream",
     "text": [
      " 48%|████▊     | 1662/3466 [5:40:51<9:50:41, 19.65s/page]"
     ]
    },
    {
     "name": "stdout",
     "output_type": "stream",
     "text": [
      "Can't get image's sizes\n",
      "Can't get image's sizes\n"
     ]
    },
    {
     "name": "stderr",
     "output_type": "stream",
     "text": [
      " 48%|████▊     | 1673/3466 [5:42:39<4:38:24,  9.32s/page]"
     ]
    },
    {
     "name": "stdout",
     "output_type": "stream",
     "text": [
      "Can't get image's sizes\n"
     ]
    },
    {
     "name": "stderr",
     "output_type": "stream",
     "text": [
      " 48%|████▊     | 1674/3466 [5:42:47<4:28:23,  8.99s/page]"
     ]
    },
    {
     "name": "stdout",
     "output_type": "stream",
     "text": [
      "Time out\n"
     ]
    },
    {
     "name": "stderr",
     "output_type": "stream",
     "text": [
      " 48%|████▊     | 1678/3466 [5:44:09<7:16:01, 14.63s/page] "
     ]
    },
    {
     "name": "stdout",
     "output_type": "stream",
     "text": [
      "Can't go to the followers info\n"
     ]
    },
    {
     "name": "stderr",
     "output_type": "stream",
     "text": [
      " 49%|████▊     | 1683/3466 [5:45:04<5:52:12, 11.85s/page]"
     ]
    },
    {
     "name": "stdout",
     "output_type": "stream",
     "text": [
      "Couldn't get title from article.\n"
     ]
    },
    {
     "name": "stderr",
     "output_type": "stream",
     "text": [
      " 49%|████▊     | 1686/3466 [5:45:39<6:01:15, 12.18s/page]"
     ]
    },
    {
     "name": "stdout",
     "output_type": "stream",
     "text": [
      "Couldn't get title from article.\n"
     ]
    },
    {
     "name": "stderr",
     "output_type": "stream",
     "text": [
      " 49%|████▉     | 1697/3466 [5:48:21<8:46:30, 17.86s/page]"
     ]
    },
    {
     "name": "stdout",
     "output_type": "stream",
     "text": [
      "Can't get image's sizes\n"
     ]
    },
    {
     "name": "stderr",
     "output_type": "stream",
     "text": [
      " 49%|████▉     | 1701/3466 [5:49:26<7:32:46, 15.39s/page] "
     ]
    },
    {
     "name": "stdout",
     "output_type": "stream",
     "text": [
      "Can't get image's sizes\n"
     ]
    },
    {
     "name": "stderr",
     "output_type": "stream",
     "text": [
      " 50%|████▉     | 1718/3466 [5:52:41<5:08:02, 10.57s/page]"
     ]
    },
    {
     "name": "stdout",
     "output_type": "stream",
     "text": [
      "Can't go to the followers info\n"
     ]
    },
    {
     "name": "stderr",
     "output_type": "stream",
     "text": [
      " 50%|████▉     | 1727/3466 [5:54:24<6:48:11, 14.08s/page]"
     ]
    },
    {
     "name": "stdout",
     "output_type": "stream",
     "text": [
      "Can't get image's sizes\n",
      "Can't get image's sizes\n"
     ]
    },
    {
     "name": "stderr",
     "output_type": "stream",
     "text": [
      " 50%|█████     | 1738/3466 [5:56:33<5:43:19, 11.92s/page]"
     ]
    },
    {
     "name": "stdout",
     "output_type": "stream",
     "text": [
      "Can't get image's sizes\n",
      "Can't go to the followers info\n"
     ]
    },
    {
     "name": "stderr",
     "output_type": "stream",
     "text": [
      " 50%|█████     | 1742/3466 [5:57:20<5:52:56, 12.28s/page]"
     ]
    },
    {
     "name": "stdout",
     "output_type": "stream",
     "text": [
      "Can't get image's sizes\n"
     ]
    },
    {
     "name": "stderr",
     "output_type": "stream",
     "text": [
      " 50%|█████     | 1746/3466 [5:58:18<7:38:27, 15.99s/page]"
     ]
    },
    {
     "name": "stdout",
     "output_type": "stream",
     "text": [
      "Can't get image's sizes\n"
     ]
    },
    {
     "name": "stderr",
     "output_type": "stream",
     "text": [
      " 51%|█████     | 1768/3466 [6:03:16<7:37:24, 16.16s/page] "
     ]
    },
    {
     "name": "stdout",
     "output_type": "stream",
     "text": [
      "Can't get image's sizes\n"
     ]
    },
    {
     "name": "stderr",
     "output_type": "stream",
     "text": [
      " 51%|█████     | 1770/3466 [6:03:57<8:52:57, 18.85s/page]"
     ]
    },
    {
     "name": "stdout",
     "output_type": "stream",
     "text": [
      "Can't get image's sizes\n"
     ]
    },
    {
     "name": "stderr",
     "output_type": "stream",
     "text": [
      " 51%|█████     | 1776/3466 [6:05:10<5:29:58, 11.72s/page]"
     ]
    },
    {
     "name": "stdout",
     "output_type": "stream",
     "text": [
      "Can't get image's sizes\n"
     ]
    },
    {
     "name": "stderr",
     "output_type": "stream",
     "text": [
      " 52%|█████▏    | 1790/3466 [6:07:39<4:57:46, 10.66s/page]"
     ]
    },
    {
     "name": "stdout",
     "output_type": "stream",
     "text": [
      "Can't get image's sizes\n"
     ]
    },
    {
     "name": "stderr",
     "output_type": "stream",
     "text": [
      " 52%|█████▏    | 1794/3466 [6:08:36<7:12:13, 15.51s/page]"
     ]
    },
    {
     "name": "stdout",
     "output_type": "stream",
     "text": [
      "Can't get image's sizes\n"
     ]
    },
    {
     "name": "stderr",
     "output_type": "stream",
     "text": [
      " 52%|█████▏    | 1809/3466 [6:11:48<7:28:00, 16.22s/page]"
     ]
    },
    {
     "name": "stdout",
     "output_type": "stream",
     "text": [
      "Can't get image's sizes\n"
     ]
    },
    {
     "name": "stderr",
     "output_type": "stream",
     "text": [
      " 53%|█████▎    | 1820/3466 [6:13:41<4:43:10, 10.32s/page]"
     ]
    },
    {
     "name": "stdout",
     "output_type": "stream",
     "text": [
      "Can't get image's sizes\n"
     ]
    },
    {
     "name": "stderr",
     "output_type": "stream",
     "text": [
      " 53%|█████▎    | 1821/3466 [6:13:49<4:19:04,  9.45s/page]"
     ]
    },
    {
     "name": "stdout",
     "output_type": "stream",
     "text": [
      "Can't get image's sizes\n"
     ]
    },
    {
     "name": "stderr",
     "output_type": "stream",
     "text": [
      " 53%|█████▎    | 1826/3466 [6:14:41<4:59:36, 10.96s/page]"
     ]
    },
    {
     "name": "stdout",
     "output_type": "stream",
     "text": [
      "Can't get image's sizes\n"
     ]
    },
    {
     "name": "stderr",
     "output_type": "stream",
     "text": [
      " 53%|█████▎    | 1845/3466 [6:18:02<4:41:45, 10.43s/page]"
     ]
    },
    {
     "name": "stdout",
     "output_type": "stream",
     "text": [
      "Can't get image's sizes\n"
     ]
    },
    {
     "name": "stderr",
     "output_type": "stream",
     "text": [
      " 54%|█████▍    | 1869/3466 [6:22:46<7:14:38, 16.33s/page]"
     ]
    },
    {
     "name": "stdout",
     "output_type": "stream",
     "text": [
      "Can't get image's sizes\n"
     ]
    },
    {
     "name": "stderr",
     "output_type": "stream",
     "text": [
      " 54%|█████▍    | 1882/3466 [6:25:21<4:45:17, 10.81s/page]"
     ]
    },
    {
     "name": "stdout",
     "output_type": "stream",
     "text": [
      "Can't get image's sizes\n"
     ]
    },
    {
     "name": "stderr",
     "output_type": "stream",
     "text": [
      " 54%|█████▍    | 1883/3466 [6:25:28<4:16:06,  9.71s/page]"
     ]
    },
    {
     "name": "stdout",
     "output_type": "stream",
     "text": [
      "Can't get image's sizes\n"
     ]
    },
    {
     "name": "stderr",
     "output_type": "stream",
     "text": [
      " 54%|█████▍    | 1885/3466 [6:26:30<9:02:44, 20.60s/page]"
     ]
    },
    {
     "name": "stdout",
     "output_type": "stream",
     "text": [
      "Can't get image's sizes\n"
     ]
    },
    {
     "name": "stderr",
     "output_type": "stream",
     "text": [
      " 55%|█████▌    | 1922/3466 [6:33:45<4:23:37, 10.24s/page]"
     ]
    },
    {
     "name": "stdout",
     "output_type": "stream",
     "text": [
      "Can't get image's sizes\n"
     ]
    },
    {
     "name": "stderr",
     "output_type": "stream",
     "text": [
      " 56%|█████▌    | 1940/3466 [6:37:11<4:56:13, 11.65s/page]"
     ]
    },
    {
     "name": "stdout",
     "output_type": "stream",
     "text": [
      "Can't get image's sizes\n"
     ]
    },
    {
     "name": "stderr",
     "output_type": "stream",
     "text": [
      " 56%|█████▌    | 1941/3466 [6:37:18<4:23:28, 10.37s/page]"
     ]
    },
    {
     "name": "stdout",
     "output_type": "stream",
     "text": [
      "Can't go to the followers info\n"
     ]
    },
    {
     "name": "stderr",
     "output_type": "stream",
     "text": [
      " 56%|█████▋    | 1952/3466 [6:39:15<4:43:58, 11.25s/page]"
     ]
    },
    {
     "name": "stdout",
     "output_type": "stream",
     "text": [
      "Can't get image's sizes\n"
     ]
    },
    {
     "name": "stderr",
     "output_type": "stream",
     "text": [
      " 56%|█████▋    | 1954/3466 [6:39:32<4:04:26,  9.70s/page]"
     ]
    },
    {
     "name": "stdout",
     "output_type": "stream",
     "text": [
      "Can't get image's sizes\n"
     ]
    },
    {
     "name": "stderr",
     "output_type": "stream",
     "text": [
      " 57%|█████▋    | 1966/3466 [6:42:24<7:18:50, 17.55s/page]"
     ]
    },
    {
     "name": "stdout",
     "output_type": "stream",
     "text": [
      "Can't get image's sizes\n",
      "Time out\n"
     ]
    },
    {
     "name": "stderr",
     "output_type": "stream",
     "text": [
      " 57%|█████▋    | 1973/3466 [6:44:21<5:13:57, 12.62s/page] "
     ]
    },
    {
     "name": "stdout",
     "output_type": "stream",
     "text": [
      "Can't get image's sizes\n"
     ]
    },
    {
     "name": "stderr",
     "output_type": "stream",
     "text": [
      " 57%|█████▋    | 1974/3466 [6:44:29<4:35:43, 11.09s/page]"
     ]
    },
    {
     "name": "stdout",
     "output_type": "stream",
     "text": [
      "Can't get image's sizes\n"
     ]
    },
    {
     "name": "stderr",
     "output_type": "stream",
     "text": [
      " 57%|█████▋    | 1980/3466 [6:45:23<3:53:10,  9.41s/page]"
     ]
    },
    {
     "name": "stdout",
     "output_type": "stream",
     "text": [
      "Can't go to the followers info\n"
     ]
    },
    {
     "name": "stderr",
     "output_type": "stream",
     "text": [
      " 57%|█████▋    | 1991/3466 [6:47:43<5:43:47, 13.98s/page]"
     ]
    },
    {
     "name": "stdout",
     "output_type": "stream",
     "text": [
      "Can't get image's sizes\n",
      "Couldn't get title from article.\n",
      "Couldn't get title from article.\n",
      "Can't go to the followers info\n",
      "Couldn't get reading time from article.\n",
      "Couldn't get date from article.\n",
      "Couldn't get YouTube videos.\n"
     ]
    },
    {
     "name": "stderr",
     "output_type": "stream",
     "text": [
      " 58%|█████▊    | 1995/3466 [6:48:24<4:51:58, 11.91s/page]"
     ]
    },
    {
     "name": "stdout",
     "output_type": "stream",
     "text": [
      "Can't get image's sizes\n"
     ]
    },
    {
     "name": "stderr",
     "output_type": "stream",
     "text": [
      " 58%|█████▊    | 2005/3466 [6:50:01<3:44:16,  9.21s/page]"
     ]
    },
    {
     "name": "stdout",
     "output_type": "stream",
     "text": [
      "Can't get image's sizes\n"
     ]
    },
    {
     "name": "stderr",
     "output_type": "stream",
     "text": [
      " 58%|█████▊    | 2008/3466 [6:50:31<4:04:08, 10.05s/page]"
     ]
    },
    {
     "name": "stdout",
     "output_type": "stream",
     "text": [
      "Can't get image's sizes\n"
     ]
    },
    {
     "name": "stderr",
     "output_type": "stream",
     "text": [
      " 58%|█████▊    | 2009/3466 [6:51:02<6:39:23, 16.45s/page]"
     ]
    },
    {
     "name": "stdout",
     "output_type": "stream",
     "text": [
      "Can't get image's sizes\n"
     ]
    },
    {
     "name": "stderr",
     "output_type": "stream",
     "text": [
      " 59%|█████▊    | 2032/3466 [6:55:23<3:56:06,  9.88s/page]"
     ]
    },
    {
     "name": "stdout",
     "output_type": "stream",
     "text": [
      "Can't get image's sizes\n"
     ]
    },
    {
     "name": "stderr",
     "output_type": "stream",
     "text": [
      " 59%|█████▉    | 2041/3466 [6:56:59<4:09:40, 10.51s/page]"
     ]
    },
    {
     "name": "stdout",
     "output_type": "stream",
     "text": [
      "Can't get image's sizes\n"
     ]
    },
    {
     "name": "stderr",
     "output_type": "stream",
     "text": [
      " 59%|█████▉    | 2043/3466 [6:57:17<3:53:26,  9.84s/page]"
     ]
    },
    {
     "name": "stdout",
     "output_type": "stream",
     "text": [
      "Can't go to the followers info\n"
     ]
    },
    {
     "name": "stderr",
     "output_type": "stream",
     "text": [
      " 59%|█████▉    | 2045/3466 [6:57:58<6:27:03, 16.34s/page]"
     ]
    },
    {
     "name": "stdout",
     "output_type": "stream",
     "text": [
      "Can't get image's sizes\n"
     ]
    },
    {
     "name": "stderr",
     "output_type": "stream",
     "text": [
      " 59%|█████▉    | 2052/3466 [6:59:14<4:19:10, 11.00s/page]"
     ]
    },
    {
     "name": "stdout",
     "output_type": "stream",
     "text": [
      "Can't get image's sizes\n"
     ]
    },
    {
     "name": "stderr",
     "output_type": "stream",
     "text": [
      " 59%|█████▉    | 2059/3466 [7:00:28<3:58:48, 10.18s/page]"
     ]
    },
    {
     "name": "stdout",
     "output_type": "stream",
     "text": [
      "Can't get image's sizes\n"
     ]
    },
    {
     "name": "stderr",
     "output_type": "stream",
     "text": [
      " 59%|█████▉    | 2062/3466 [7:00:54<3:38:10,  9.32s/page]"
     ]
    },
    {
     "name": "stdout",
     "output_type": "stream",
     "text": [
      "Can't get image's sizes\n"
     ]
    },
    {
     "name": "stderr",
     "output_type": "stream",
     "text": [
      " 60%|█████▉    | 2075/3466 [7:03:12<4:18:25, 11.15s/page]"
     ]
    },
    {
     "name": "stdout",
     "output_type": "stream",
     "text": [
      "Can't get image's sizes\n"
     ]
    },
    {
     "name": "stderr",
     "output_type": "stream",
     "text": [
      " 60%|█████▉    | 2077/3466 [7:03:33<4:11:30, 10.86s/page]"
     ]
    },
    {
     "name": "stdout",
     "output_type": "stream",
     "text": [
      "Can't get image's sizes\n"
     ]
    },
    {
     "name": "stderr",
     "output_type": "stream",
     "text": [
      " 60%|██████    | 2081/3466 [7:04:09<3:38:45,  9.48s/page]"
     ]
    },
    {
     "name": "stdout",
     "output_type": "stream",
     "text": [
      "Can't get image's sizes\n"
     ]
    },
    {
     "name": "stderr",
     "output_type": "stream",
     "text": [
      " 60%|██████    | 2094/3466 [7:06:40<5:12:23, 13.66s/page]"
     ]
    },
    {
     "name": "stdout",
     "output_type": "stream",
     "text": [
      "Can't get image's sizes\n"
     ]
    },
    {
     "name": "stderr",
     "output_type": "stream",
     "text": [
      " 61%|██████    | 2114/3466 [7:10:44<6:20:42, 16.90s/page]"
     ]
    },
    {
     "name": "stdout",
     "output_type": "stream",
     "text": [
      "Can't get image's sizes\n"
     ]
    },
    {
     "name": "stderr",
     "output_type": "stream",
     "text": [
      " 61%|██████▏   | 2130/3466 [7:14:00<4:09:09, 11.19s/page]"
     ]
    },
    {
     "name": "stdout",
     "output_type": "stream",
     "text": [
      "Can't get image's sizes\n"
     ]
    },
    {
     "name": "stderr",
     "output_type": "stream",
     "text": [
      " 62%|██████▏   | 2145/3466 [7:16:50<3:53:54, 10.62s/page]"
     ]
    },
    {
     "name": "stdout",
     "output_type": "stream",
     "text": [
      "Couldn't get title from article.\n"
     ]
    },
    {
     "name": "stderr",
     "output_type": "stream",
     "text": [
      " 62%|██████▏   | 2164/3466 [7:20:15<4:04:11, 11.25s/page]"
     ]
    },
    {
     "name": "stdout",
     "output_type": "stream",
     "text": [
      "Can't get image's sizes\n"
     ]
    },
    {
     "name": "stderr",
     "output_type": "stream",
     "text": [
      " 63%|██████▎   | 2172/3466 [7:21:35<3:49:30, 10.64s/page]"
     ]
    },
    {
     "name": "stdout",
     "output_type": "stream",
     "text": [
      "Can't go to the followers info\n"
     ]
    },
    {
     "name": "stderr",
     "output_type": "stream",
     "text": [
      " 63%|██████▎   | 2174/3466 [7:22:15<5:40:58, 15.83s/page]"
     ]
    },
    {
     "name": "stdout",
     "output_type": "stream",
     "text": [
      "Can't get image's sizes\n"
     ]
    },
    {
     "name": "stderr",
     "output_type": "stream",
     "text": [
      " 63%|██████▎   | 2179/3466 [7:23:31<6:10:04, 17.25s/page]"
     ]
    },
    {
     "name": "stdout",
     "output_type": "stream",
     "text": [
      "Can't get image's sizes\n"
     ]
    },
    {
     "name": "stderr",
     "output_type": "stream",
     "text": [
      " 63%|██████▎   | 2182/3466 [7:24:07<4:37:17, 12.96s/page]"
     ]
    },
    {
     "name": "stdout",
     "output_type": "stream",
     "text": [
      "Can't get image's sizes\n"
     ]
    },
    {
     "name": "stderr",
     "output_type": "stream",
     "text": [
      " 63%|██████▎   | 2200/3466 [7:27:38<4:39:26, 13.24s/page]"
     ]
    },
    {
     "name": "stdout",
     "output_type": "stream",
     "text": [
      "Can't get image's sizes\n"
     ]
    },
    {
     "name": "stderr",
     "output_type": "stream",
     "text": [
      " 65%|██████▍   | 2248/3466 [7:36:57<5:52:05, 17.34s/page]"
     ]
    },
    {
     "name": "stdout",
     "output_type": "stream",
     "text": [
      "Can't get image's sizes\n"
     ]
    },
    {
     "name": "stderr",
     "output_type": "stream",
     "text": [
      " 65%|██████▌   | 2257/3466 [7:38:55<5:29:39, 16.36s/page]"
     ]
    },
    {
     "name": "stdout",
     "output_type": "stream",
     "text": [
      "Can't get image's sizes\n",
      "Can't get image's sizes\n"
     ]
    },
    {
     "name": "stderr",
     "output_type": "stream",
     "text": [
      " 66%|██████▌   | 2278/3466 [7:43:03<3:43:36, 11.29s/page]"
     ]
    },
    {
     "name": "stdout",
     "output_type": "stream",
     "text": [
      "Can't get image's sizes\n"
     ]
    },
    {
     "name": "stderr",
     "output_type": "stream",
     "text": [
      " 66%|██████▌   | 2285/3466 [7:44:45<3:48:57, 11.63s/page]"
     ]
    },
    {
     "name": "stdout",
     "output_type": "stream",
     "text": [
      "Can't get image's sizes\n"
     ]
    },
    {
     "name": "stderr",
     "output_type": "stream",
     "text": [
      " 66%|██████▌   | 2290/3466 [7:45:47<4:50:20, 14.81s/page]"
     ]
    },
    {
     "name": "stdout",
     "output_type": "stream",
     "text": [
      "Can't get image's sizes\n"
     ]
    },
    {
     "name": "stderr",
     "output_type": "stream",
     "text": [
      " 66%|██████▋   | 2301/3466 [7:48:11<4:04:00, 12.57s/page]"
     ]
    },
    {
     "name": "stdout",
     "output_type": "stream",
     "text": [
      "Can't get image's sizes\n"
     ]
    },
    {
     "name": "stderr",
     "output_type": "stream",
     "text": [
      " 68%|██████▊   | 2345/3466 [7:56:15<3:13:51, 10.38s/page]"
     ]
    },
    {
     "name": "stdout",
     "output_type": "stream",
     "text": [
      "Can't get image's sizes\n"
     ]
    },
    {
     "name": "stderr",
     "output_type": "stream",
     "text": [
      " 68%|██████▊   | 2358/3466 [7:58:50<5:14:17, 17.02s/page]"
     ]
    },
    {
     "name": "stdout",
     "output_type": "stream",
     "text": [
      "Can't get image's sizes\n"
     ]
    },
    {
     "name": "stderr",
     "output_type": "stream",
     "text": [
      " 68%|██████▊   | 2368/3466 [8:01:13<5:05:48, 16.71s/page]"
     ]
    },
    {
     "name": "stdout",
     "output_type": "stream",
     "text": [
      "Can't get image's sizes\n"
     ]
    },
    {
     "name": "stderr",
     "output_type": "stream",
     "text": [
      " 69%|██████▉   | 2384/3466 [8:04:16<3:28:45, 11.58s/page]"
     ]
    },
    {
     "name": "stdout",
     "output_type": "stream",
     "text": [
      "Couldn't get title from article.\n"
     ]
    },
    {
     "name": "stderr",
     "output_type": "stream",
     "text": [
      " 69%|██████▉   | 2391/3466 [8:05:44<3:53:21, 13.02s/page]"
     ]
    },
    {
     "name": "stdout",
     "output_type": "stream",
     "text": [
      "Can't go to the followers info\n"
     ]
    },
    {
     "name": "stderr",
     "output_type": "stream",
     "text": [
      " 69%|██████▉   | 2394/3466 [8:06:43<5:22:22, 18.04s/page]"
     ]
    },
    {
     "name": "stdout",
     "output_type": "stream",
     "text": [
      "Can't get image's sizes\n"
     ]
    },
    {
     "name": "stderr",
     "output_type": "stream",
     "text": [
      " 69%|██████▉   | 2395/3466 [8:07:14<6:35:07, 22.14s/page]"
     ]
    },
    {
     "name": "stdout",
     "output_type": "stream",
     "text": [
      "Can't get image's sizes\n"
     ]
    },
    {
     "name": "stderr",
     "output_type": "stream",
     "text": [
      " 69%|██████▉   | 2399/3466 [8:07:57<3:51:43, 13.03s/page]"
     ]
    },
    {
     "name": "stdout",
     "output_type": "stream",
     "text": [
      "Can't get image's sizes\n"
     ]
    },
    {
     "name": "stderr",
     "output_type": "stream",
     "text": [
      " 70%|██████▉   | 2414/3466 [8:10:19<3:02:33, 10.41s/page]"
     ]
    },
    {
     "name": "stdout",
     "output_type": "stream",
     "text": [
      "Can't get image's sizes\n"
     ]
    },
    {
     "name": "stderr",
     "output_type": "stream",
     "text": [
      " 70%|██████▉   | 2421/3466 [8:11:42<3:35:44, 12.39s/page]"
     ]
    },
    {
     "name": "stdout",
     "output_type": "stream",
     "text": [
      "Can't get image's sizes\n"
     ]
    },
    {
     "name": "stderr",
     "output_type": "stream",
     "text": [
      " 70%|██████▉   | 2426/3466 [8:12:57<4:09:02, 14.37s/page]"
     ]
    },
    {
     "name": "stdout",
     "output_type": "stream",
     "text": [
      "Can't get image's sizes\n"
     ]
    },
    {
     "name": "stderr",
     "output_type": "stream",
     "text": [
      " 70%|███████   | 2433/3466 [8:14:00<2:48:33,  9.79s/page]"
     ]
    },
    {
     "name": "stdout",
     "output_type": "stream",
     "text": [
      "Can't get image's sizes\n"
     ]
    },
    {
     "name": "stderr",
     "output_type": "stream",
     "text": [
      " 70%|███████   | 2440/3466 [8:15:17<3:14:59, 11.40s/page]"
     ]
    },
    {
     "name": "stdout",
     "output_type": "stream",
     "text": [
      "Can't get image's sizes\n"
     ]
    },
    {
     "name": "stderr",
     "output_type": "stream",
     "text": [
      " 71%|███████   | 2446/3466 [8:16:20<3:11:48, 11.28s/page]"
     ]
    },
    {
     "name": "stdout",
     "output_type": "stream",
     "text": [
      "Can't get image's sizes\n"
     ]
    },
    {
     "name": "stderr",
     "output_type": "stream",
     "text": [
      " 71%|███████   | 2449/3466 [8:16:51<3:02:32, 10.77s/page]"
     ]
    },
    {
     "name": "stdout",
     "output_type": "stream",
     "text": [
      "Can't get image's sizes\n"
     ]
    },
    {
     "name": "stderr",
     "output_type": "stream",
     "text": [
      " 71%|███████   | 2455/3466 [8:17:53<2:58:53, 10.62s/page]"
     ]
    },
    {
     "name": "stdout",
     "output_type": "stream",
     "text": [
      "Can't get image's sizes\n"
     ]
    },
    {
     "name": "stderr",
     "output_type": "stream",
     "text": [
      " 71%|███████   | 2460/3466 [8:19:12<3:37:20, 12.96s/page]"
     ]
    },
    {
     "name": "stdout",
     "output_type": "stream",
     "text": [
      "Can't go to the followers info\n"
     ]
    },
    {
     "name": "stderr",
     "output_type": "stream",
     "text": [
      " 71%|███████   | 2464/3466 [8:20:05<4:00:12, 14.38s/page]"
     ]
    },
    {
     "name": "stdout",
     "output_type": "stream",
     "text": [
      "Can't get image's sizes\n"
     ]
    },
    {
     "name": "stderr",
     "output_type": "stream",
     "text": [
      " 71%|███████▏  | 2470/3466 [8:21:11<3:24:43, 12.33s/page]"
     ]
    },
    {
     "name": "stdout",
     "output_type": "stream",
     "text": [
      "Can't go to the followers info\n"
     ]
    },
    {
     "name": "stderr",
     "output_type": "stream",
     "text": [
      " 71%|███████▏  | 2473/3466 [8:21:53<3:45:50, 13.65s/page]"
     ]
    },
    {
     "name": "stdout",
     "output_type": "stream",
     "text": [
      "Can't get image's sizes\n"
     ]
    },
    {
     "name": "stderr",
     "output_type": "stream",
     "text": [
      " 72%|███████▏  | 2484/3466 [8:24:36<3:19:36, 12.20s/page]"
     ]
    },
    {
     "name": "stdout",
     "output_type": "stream",
     "text": [
      "Can't get image's sizes\n"
     ]
    },
    {
     "name": "stderr",
     "output_type": "stream",
     "text": [
      " 72%|███████▏  | 2485/3466 [8:24:48<3:14:19, 11.89s/page]"
     ]
    },
    {
     "name": "stdout",
     "output_type": "stream",
     "text": [
      "Can't go to the followers info\n"
     ]
    },
    {
     "name": "stderr",
     "output_type": "stream",
     "text": [
      " 72%|███████▏  | 2491/3466 [8:26:02<4:06:21, 15.16s/page]"
     ]
    },
    {
     "name": "stdout",
     "output_type": "stream",
     "text": [
      "Can't get image's sizes\n"
     ]
    },
    {
     "name": "stderr",
     "output_type": "stream",
     "text": [
      " 72%|███████▏  | 2492/3466 [8:26:21<4:24:19, 16.28s/page]"
     ]
    },
    {
     "name": "stdout",
     "output_type": "stream",
     "text": [
      "Can't get image's sizes\n"
     ]
    },
    {
     "name": "stderr",
     "output_type": "stream",
     "text": [
      " 72%|███████▏  | 2493/3466 [8:26:28<3:40:48, 13.62s/page]"
     ]
    },
    {
     "name": "stdout",
     "output_type": "stream",
     "text": [
      "Can't get image's sizes\n",
      "Couldn't get title from article.\n"
     ]
    },
    {
     "name": "stderr",
     "output_type": "stream",
     "text": [
      " 72%|███████▏  | 2510/3466 [8:29:30<2:36:58,  9.85s/page]"
     ]
    },
    {
     "name": "stdout",
     "output_type": "stream",
     "text": [
      "Can't get image's sizes\n"
     ]
    },
    {
     "name": "stderr",
     "output_type": "stream",
     "text": [
      " 73%|███████▎  | 2523/3466 [8:31:44<2:52:31, 10.98s/page]"
     ]
    },
    {
     "name": "stdout",
     "output_type": "stream",
     "text": [
      "Can't get image's sizes\n"
     ]
    },
    {
     "name": "stderr",
     "output_type": "stream",
     "text": [
      " 73%|███████▎  | 2527/3466 [8:32:33<3:19:19, 12.74s/page]"
     ]
    },
    {
     "name": "stdout",
     "output_type": "stream",
     "text": [
      "Can't go to the followers info\n"
     ]
    },
    {
     "name": "stderr",
     "output_type": "stream",
     "text": [
      " 73%|███████▎  | 2530/3466 [8:33:07<3:10:33, 12.21s/page]"
     ]
    },
    {
     "name": "stdout",
     "output_type": "stream",
     "text": [
      "Can't get image's sizes\n"
     ]
    },
    {
     "name": "stderr",
     "output_type": "stream",
     "text": [
      " 73%|███████▎  | 2545/3466 [8:36:39<4:20:28, 16.97s/page]"
     ]
    },
    {
     "name": "stdout",
     "output_type": "stream",
     "text": [
      "Can't get image's sizes\n",
      "Can't get image's sizes\n"
     ]
    },
    {
     "name": "stderr",
     "output_type": "stream",
     "text": [
      " 74%|███████▍  | 2567/3466 [8:41:30<3:09:01, 12.62s/page]"
     ]
    },
    {
     "name": "stdout",
     "output_type": "stream",
     "text": [
      "Can't go to the followers info\n",
      "Couldn't get date from article.\n"
     ]
    },
    {
     "name": "stderr",
     "output_type": "stream",
     "text": [
      " 75%|███████▌  | 2608/3466 [8:49:20<2:41:55, 11.32s/page]"
     ]
    },
    {
     "name": "stdout",
     "output_type": "stream",
     "text": [
      "Can't get image's sizes\n"
     ]
    },
    {
     "name": "stderr",
     "output_type": "stream",
     "text": [
      " 75%|███████▌  | 2616/3466 [8:50:45<2:41:57, 11.43s/page]"
     ]
    },
    {
     "name": "stdout",
     "output_type": "stream",
     "text": [
      "Can't get image's sizes\n"
     ]
    },
    {
     "name": "stderr",
     "output_type": "stream",
     "text": [
      " 76%|███████▌  | 2634/3466 [8:54:04<2:30:28, 10.85s/page]"
     ]
    },
    {
     "name": "stdout",
     "output_type": "stream",
     "text": [
      "Can't go to the followers info\n"
     ]
    },
    {
     "name": "stderr",
     "output_type": "stream",
     "text": [
      " 76%|███████▌  | 2635/3466 [8:54:11<2:15:28,  9.78s/page]"
     ]
    },
    {
     "name": "stdout",
     "output_type": "stream",
     "text": [
      "Can't get image's sizes\n"
     ]
    },
    {
     "name": "stderr",
     "output_type": "stream",
     "text": [
      " 77%|███████▋  | 2676/3466 [9:01:57<2:20:42, 10.69s/page]"
     ]
    },
    {
     "name": "stdout",
     "output_type": "stream",
     "text": [
      "Can't get image's sizes\n"
     ]
    },
    {
     "name": "stderr",
     "output_type": "stream",
     "text": [
      " 77%|███████▋  | 2679/3466 [9:02:25<2:09:50,  9.90s/page]"
     ]
    },
    {
     "name": "stdout",
     "output_type": "stream",
     "text": [
      "Can't get image's sizes\n"
     ]
    },
    {
     "name": "stderr",
     "output_type": "stream",
     "text": [
      " 77%|███████▋  | 2680/3466 [9:02:34<2:06:06,  9.63s/page]"
     ]
    },
    {
     "name": "stdout",
     "output_type": "stream",
     "text": [
      "Can't go to the followers info\n"
     ]
    },
    {
     "name": "stderr",
     "output_type": "stream",
     "text": [
      " 78%|███████▊  | 2698/3466 [9:05:44<2:03:04,  9.62s/page]"
     ]
    },
    {
     "name": "stdout",
     "output_type": "stream",
     "text": [
      "Can't get image's sizes\n"
     ]
    },
    {
     "name": "stderr",
     "output_type": "stream",
     "text": [
      " 78%|███████▊  | 2699/3466 [9:05:52<1:58:37,  9.28s/page]"
     ]
    },
    {
     "name": "stdout",
     "output_type": "stream",
     "text": [
      "Can't go to the followers info\n"
     ]
    },
    {
     "name": "stderr",
     "output_type": "stream",
     "text": [
      " 78%|███████▊  | 2700/3466 [9:06:06<2:17:19, 10.76s/page]"
     ]
    },
    {
     "name": "stdout",
     "output_type": "stream",
     "text": [
      "Can't get image's sizes\n",
      "Couldn't get date from article.\n"
     ]
    },
    {
     "name": "stderr",
     "output_type": "stream",
     "text": [
      " 78%|███████▊  | 2707/3466 [9:07:38<2:41:00, 12.73s/page]"
     ]
    },
    {
     "name": "stdout",
     "output_type": "stream",
     "text": [
      "Can't get image's sizes\n"
     ]
    },
    {
     "name": "stderr",
     "output_type": "stream",
     "text": [
      " 78%|███████▊  | 2711/3466 [9:08:46<2:59:16, 14.25s/page]"
     ]
    },
    {
     "name": "stdout",
     "output_type": "stream",
     "text": [
      "Can't get image's sizes\n"
     ]
    },
    {
     "name": "stderr",
     "output_type": "stream",
     "text": [
      " 78%|███████▊  | 2712/3466 [9:08:53<2:31:16, 12.04s/page]"
     ]
    },
    {
     "name": "stdout",
     "output_type": "stream",
     "text": [
      "Can't get image's sizes\n"
     ]
    },
    {
     "name": "stderr",
     "output_type": "stream",
     "text": [
      " 78%|███████▊  | 2718/3466 [9:09:50<2:07:08, 10.20s/page]"
     ]
    },
    {
     "name": "stdout",
     "output_type": "stream",
     "text": [
      "Can't get image's sizes\n"
     ]
    },
    {
     "name": "stderr",
     "output_type": "stream",
     "text": [
      " 79%|███████▊  | 2728/3466 [9:11:35<2:09:46, 10.55s/page]"
     ]
    },
    {
     "name": "stdout",
     "output_type": "stream",
     "text": [
      "Can't get image's sizes\n",
      "Couldn't get title from article.\n",
      "Couldn't get title from article.\n",
      "Can't go to the followers info\n",
      "Couldn't get reading time from article.\n",
      "Couldn't get date from article.\n",
      "Couldn't get YouTube videos.\n"
     ]
    },
    {
     "name": "stderr",
     "output_type": "stream",
     "text": [
      " 79%|███████▉  | 2743/3466 [9:14:49<3:25:45, 17.08s/page]"
     ]
    },
    {
     "name": "stdout",
     "output_type": "stream",
     "text": [
      "Can't get image's sizes\n"
     ]
    },
    {
     "name": "stderr",
     "output_type": "stream",
     "text": [
      " 79%|███████▉  | 2744/3466 [9:15:24<4:31:28, 22.56s/page]"
     ]
    },
    {
     "name": "stdout",
     "output_type": "stream",
     "text": [
      "Can't get image's sizes\n"
     ]
    },
    {
     "name": "stderr",
     "output_type": "stream",
     "text": [
      " 79%|███████▉  | 2749/3466 [9:16:32<3:07:29, 15.69s/page]"
     ]
    },
    {
     "name": "stdout",
     "output_type": "stream",
     "text": [
      "Can't get image's sizes\n",
      "Couldn't get title from article.\n"
     ]
    },
    {
     "name": "stderr",
     "output_type": "stream",
     "text": [
      " 80%|███████▉  | 2762/3466 [9:19:12<2:23:33, 12.23s/page]"
     ]
    },
    {
     "name": "stdout",
     "output_type": "stream",
     "text": [
      "Can't get image's sizes\n"
     ]
    },
    {
     "name": "stderr",
     "output_type": "stream",
     "text": [
      " 80%|███████▉  | 2767/3466 [9:20:28<3:24:29, 17.55s/page]"
     ]
    },
    {
     "name": "stdout",
     "output_type": "stream",
     "text": [
      "Can't get image's sizes\n"
     ]
    },
    {
     "name": "stderr",
     "output_type": "stream",
     "text": [
      " 80%|███████▉  | 2772/3466 [9:21:34<2:41:56, 14.00s/page]"
     ]
    },
    {
     "name": "stdout",
     "output_type": "stream",
     "text": [
      "Can't get image's sizes\n"
     ]
    },
    {
     "name": "stderr",
     "output_type": "stream",
     "text": [
      " 81%|████████  | 2792/3466 [9:25:20<1:49:11,  9.72s/page]"
     ]
    },
    {
     "name": "stdout",
     "output_type": "stream",
     "text": [
      "Can't get image's sizes\n"
     ]
    },
    {
     "name": "stderr",
     "output_type": "stream",
     "text": [
      " 81%|████████  | 2798/3466 [9:26:37<2:19:27, 12.53s/page]"
     ]
    },
    {
     "name": "stdout",
     "output_type": "stream",
     "text": [
      "Can't get image's sizes\n"
     ]
    },
    {
     "name": "stderr",
     "output_type": "stream",
     "text": [
      " 81%|████████  | 2803/3466 [9:27:34<2:08:36, 11.64s/page]"
     ]
    },
    {
     "name": "stdout",
     "output_type": "stream",
     "text": [
      "Time out\n"
     ]
    },
    {
     "name": "stderr",
     "output_type": "stream",
     "text": [
      " 81%|████████  | 2811/3466 [9:30:05<3:23:01, 18.60s/page]"
     ]
    },
    {
     "name": "stdout",
     "output_type": "stream",
     "text": [
      "Can't get image's sizes\n",
      "Can't go to the followers info\n"
     ]
    },
    {
     "name": "stderr",
     "output_type": "stream",
     "text": [
      " 81%|████████▏ | 2820/3466 [9:32:00<3:10:37, 17.71s/page]"
     ]
    },
    {
     "name": "stdout",
     "output_type": "stream",
     "text": [
      "Can't get image's sizes\n"
     ]
    },
    {
     "name": "stderr",
     "output_type": "stream",
     "text": [
      " 82%|████████▏ | 2837/3466 [9:35:19<1:59:35, 11.41s/page]"
     ]
    },
    {
     "name": "stdout",
     "output_type": "stream",
     "text": [
      "Can't get image's sizes\n"
     ]
    },
    {
     "name": "stderr",
     "output_type": "stream",
     "text": [
      " 82%|████████▏ | 2839/3466 [9:35:43<2:03:31, 11.82s/page]"
     ]
    },
    {
     "name": "stdout",
     "output_type": "stream",
     "text": [
      "Can't get image's sizes\n"
     ]
    },
    {
     "name": "stderr",
     "output_type": "stream",
     "text": [
      " 82%|████████▏ | 2856/3466 [9:39:58<3:07:15, 18.42s/page]"
     ]
    },
    {
     "name": "stdout",
     "output_type": "stream",
     "text": [
      "Can't get image's sizes\n"
     ]
    },
    {
     "name": "stderr",
     "output_type": "stream",
     "text": [
      " 83%|████████▎ | 2863/3466 [9:41:13<1:50:26, 10.99s/page]"
     ]
    },
    {
     "name": "stdout",
     "output_type": "stream",
     "text": [
      "Can't get image's sizes\n"
     ]
    },
    {
     "name": "stderr",
     "output_type": "stream",
     "text": [
      " 83%|████████▎ | 2866/3466 [9:41:40<1:37:16,  9.73s/page]"
     ]
    },
    {
     "name": "stdout",
     "output_type": "stream",
     "text": [
      "Can't go to the followers info\n"
     ]
    },
    {
     "name": "stderr",
     "output_type": "stream",
     "text": [
      " 83%|████████▎ | 2885/3466 [9:45:39<2:36:33, 16.17s/page]"
     ]
    },
    {
     "name": "stdout",
     "output_type": "stream",
     "text": [
      "Can't get image's sizes\n"
     ]
    },
    {
     "name": "stderr",
     "output_type": "stream",
     "text": [
      " 84%|████████▍ | 2903/3466 [9:49:25<1:46:25, 11.34s/page]"
     ]
    },
    {
     "name": "stdout",
     "output_type": "stream",
     "text": [
      "Couldn't get title from article.\n",
      "Can't go to the followers info\n"
     ]
    },
    {
     "name": "stderr",
     "output_type": "stream",
     "text": [
      " 84%|████████▍ | 2922/3466 [9:53:26<2:34:32, 17.04s/page]"
     ]
    },
    {
     "name": "stdout",
     "output_type": "stream",
     "text": [
      "Can't get image's sizes\n"
     ]
    },
    {
     "name": "stderr",
     "output_type": "stream",
     "text": [
      " 84%|████████▍ | 2927/3466 [9:54:37<2:05:58, 14.02s/page]"
     ]
    },
    {
     "name": "stdout",
     "output_type": "stream",
     "text": [
      "Can't get image's sizes\n"
     ]
    },
    {
     "name": "stderr",
     "output_type": "stream",
     "text": [
      " 85%|████████▍ | 2930/3466 [9:55:03<1:35:08, 10.65s/page]"
     ]
    },
    {
     "name": "stdout",
     "output_type": "stream",
     "text": [
      "Can't get image's sizes\n"
     ]
    },
    {
     "name": "stderr",
     "output_type": "stream",
     "text": [
      " 85%|████████▍ | 2932/3466 [9:55:25<1:34:59, 10.67s/page]"
     ]
    },
    {
     "name": "stdout",
     "output_type": "stream",
     "text": [
      "Can't get image's sizes\n"
     ]
    },
    {
     "name": "stderr",
     "output_type": "stream",
     "text": [
      " 85%|████████▌ | 2951/3466 [9:59:30<1:46:57, 12.46s/page]"
     ]
    },
    {
     "name": "stdout",
     "output_type": "stream",
     "text": [
      "Can't go to the followers info\n"
     ]
    },
    {
     "name": "stderr",
     "output_type": "stream",
     "text": [
      " 85%|████████▌ | 2957/3466 [10:00:45<1:49:28, 12.90s/page]"
     ]
    },
    {
     "name": "stdout",
     "output_type": "stream",
     "text": [
      "Can't get image's sizes\n"
     ]
    },
    {
     "name": "stderr",
     "output_type": "stream",
     "text": [
      " 86%|████████▌ | 2966/3466 [10:02:35<1:38:55, 11.87s/page]"
     ]
    },
    {
     "name": "stdout",
     "output_type": "stream",
     "text": [
      "Can't get image's sizes\n"
     ]
    },
    {
     "name": "stderr",
     "output_type": "stream",
     "text": [
      " 86%|████████▌ | 2972/3466 [10:04:00<1:59:50, 14.56s/page]"
     ]
    },
    {
     "name": "stdout",
     "output_type": "stream",
     "text": [
      "Can't get image's sizes\n"
     ]
    },
    {
     "name": "stderr",
     "output_type": "stream",
     "text": [
      " 86%|████████▋ | 2998/3466 [10:09:45<1:53:02, 14.49s/page]"
     ]
    },
    {
     "name": "stdout",
     "output_type": "stream",
     "text": [
      "Can't get image's sizes\n"
     ]
    },
    {
     "name": "stderr",
     "output_type": "stream",
     "text": [
      " 87%|████████▋ | 3009/3466 [10:12:12<1:53:45, 14.93s/page]"
     ]
    },
    {
     "name": "stdout",
     "output_type": "stream",
     "text": [
      "Can't get image's sizes\n",
      "Couldn't get title from article.\n"
     ]
    },
    {
     "name": "stderr",
     "output_type": "stream",
     "text": [
      " 87%|████████▋ | 3021/3466 [10:15:21<2:25:46, 19.65s/page]"
     ]
    },
    {
     "name": "stdout",
     "output_type": "stream",
     "text": [
      "Can't get image's sizes\n"
     ]
    },
    {
     "name": "stderr",
     "output_type": "stream",
     "text": [
      " 87%|████████▋ | 3023/3466 [10:16:15<2:56:13, 23.87s/page]"
     ]
    },
    {
     "name": "stdout",
     "output_type": "stream",
     "text": [
      "Can't get image's sizes\n"
     ]
    },
    {
     "name": "stderr",
     "output_type": "stream",
     "text": [
      " 87%|████████▋ | 3027/3466 [10:17:16<2:01:44, 16.64s/page]"
     ]
    },
    {
     "name": "stdout",
     "output_type": "stream",
     "text": [
      "Can't get image's sizes\n",
      "Can't go to the followers info\n"
     ]
    },
    {
     "name": "stderr",
     "output_type": "stream",
     "text": [
      " 88%|████████▊ | 3035/3466 [10:19:06<1:46:23, 14.81s/page]"
     ]
    },
    {
     "name": "stdout",
     "output_type": "stream",
     "text": [
      "Couldn't get title from article.\n"
     ]
    },
    {
     "name": "stderr",
     "output_type": "stream",
     "text": [
      " 88%|████████▊ | 3062/3466 [10:25:02<1:33:22, 13.87s/page]"
     ]
    },
    {
     "name": "stdout",
     "output_type": "stream",
     "text": [
      "Couldn't get title from article.\n"
     ]
    },
    {
     "name": "stderr",
     "output_type": "stream",
     "text": [
      " 88%|████████▊ | 3065/3466 [10:25:53<1:56:33, 17.44s/page]"
     ]
    },
    {
     "name": "stdout",
     "output_type": "stream",
     "text": [
      "Can't get image's sizes\n",
      "Time out\n"
     ]
    },
    {
     "name": "stderr",
     "output_type": "stream",
     "text": [
      " 89%|████████▊ | 3068/3466 [10:31:21<6:15:36, 56.62s/page]  "
     ]
    },
    {
     "name": "stdout",
     "output_type": "stream",
     "text": [
      "Can't get image's sizes\n"
     ]
    },
    {
     "name": "stderr",
     "output_type": "stream",
     "text": [
      " 89%|████████▉ | 3079/3466 [10:33:56<1:56:54, 18.13s/page]"
     ]
    },
    {
     "name": "stdout",
     "output_type": "stream",
     "text": [
      "Can't get image's sizes\n"
     ]
    },
    {
     "name": "stderr",
     "output_type": "stream",
     "text": [
      " 89%|████████▉ | 3091/3466 [10:36:48<1:19:07, 12.66s/page]"
     ]
    },
    {
     "name": "stdout",
     "output_type": "stream",
     "text": [
      "Can't get image's sizes\n"
     ]
    },
    {
     "name": "stderr",
     "output_type": "stream",
     "text": [
      " 89%|████████▉ | 3099/3466 [10:38:19<1:12:57, 11.93s/page]"
     ]
    },
    {
     "name": "stdout",
     "output_type": "stream",
     "text": [
      "Couldn't get title from article.\n"
     ]
    },
    {
     "name": "stderr",
     "output_type": "stream",
     "text": [
      " 90%|████████▉ | 3106/3466 [10:39:49<1:12:27, 12.08s/page]"
     ]
    },
    {
     "name": "stdout",
     "output_type": "stream",
     "text": [
      "Can't get image's sizes\n"
     ]
    },
    {
     "name": "stderr",
     "output_type": "stream",
     "text": [
      " 90%|████████▉ | 3116/3466 [10:42:17<1:11:36, 12.28s/page]"
     ]
    },
    {
     "name": "stdout",
     "output_type": "stream",
     "text": [
      "Can't go to the followers info\n"
     ]
    },
    {
     "name": "stderr",
     "output_type": "stream",
     "text": [
      " 90%|█████████ | 3128/3466 [10:45:06<1:44:12, 18.50s/page]"
     ]
    },
    {
     "name": "stdout",
     "output_type": "stream",
     "text": [
      "Can't get image's sizes\n"
     ]
    },
    {
     "name": "stderr",
     "output_type": "stream",
     "text": [
      " 90%|█████████ | 3133/3466 [10:46:14<1:18:47, 14.20s/page]"
     ]
    },
    {
     "name": "stdout",
     "output_type": "stream",
     "text": [
      "Can't get image's sizes\n"
     ]
    },
    {
     "name": "stderr",
     "output_type": "stream",
     "text": [
      " 91%|█████████ | 3139/3466 [10:47:24<1:07:08, 12.32s/page]"
     ]
    },
    {
     "name": "stdout",
     "output_type": "stream",
     "text": [
      "Can't get image's sizes\n"
     ]
    },
    {
     "name": "stderr",
     "output_type": "stream",
     "text": [
      " 91%|█████████ | 3148/3466 [10:49:27<1:14:51, 14.13s/page]"
     ]
    },
    {
     "name": "stdout",
     "output_type": "stream",
     "text": [
      "Can't get image's sizes\n"
     ]
    },
    {
     "name": "stderr",
     "output_type": "stream",
     "text": [
      " 91%|█████████▏| 3165/3466 [10:53:14<1:06:33, 13.27s/page]"
     ]
    },
    {
     "name": "stdout",
     "output_type": "stream",
     "text": [
      "Can't get image's sizes\n",
      "Couldn't get title from article.\n",
      "Couldn't get title from article.\n",
      "Can't go to the followers info\n",
      "Couldn't get reading time from article.\n",
      "Couldn't get date from article.\n",
      "Couldn't get YouTube videos.\n"
     ]
    },
    {
     "name": "stderr",
     "output_type": "stream",
     "text": [
      " 92%|█████████▏| 3206/3466 [11:02:34<1:15:01, 17.31s/page]"
     ]
    },
    {
     "name": "stdout",
     "output_type": "stream",
     "text": [
      "Can't get image's sizes\n"
     ]
    },
    {
     "name": "stderr",
     "output_type": "stream",
     "text": [
      " 93%|█████████▎| 3217/3466 [11:05:03<53:38, 12.92s/page]  "
     ]
    },
    {
     "name": "stdout",
     "output_type": "stream",
     "text": [
      "Can't get image's sizes\n"
     ]
    },
    {
     "name": "stderr",
     "output_type": "stream",
     "text": [
      " 93%|█████████▎| 3223/3466 [11:06:19<50:31, 12.48s/page]"
     ]
    },
    {
     "name": "stdout",
     "output_type": "stream",
     "text": [
      "Couldn't get title from article.\n"
     ]
    },
    {
     "name": "stderr",
     "output_type": "stream",
     "text": [
      " 93%|█████████▎| 3235/3466 [11:09:14<56:45, 14.74s/page]  "
     ]
    },
    {
     "name": "stdout",
     "output_type": "stream",
     "text": [
      "Can't get image's sizes\n"
     ]
    },
    {
     "name": "stderr",
     "output_type": "stream",
     "text": [
      " 93%|█████████▎| 3237/3466 [11:09:54<1:09:44, 18.27s/page]"
     ]
    },
    {
     "name": "stdout",
     "output_type": "stream",
     "text": [
      "Can't get image's sizes\n"
     ]
    },
    {
     "name": "stderr",
     "output_type": "stream",
     "text": [
      " 94%|█████████▎| 3247/3466 [11:12:12<51:01, 13.98s/page]  "
     ]
    },
    {
     "name": "stdout",
     "output_type": "stream",
     "text": [
      "Can't get image's sizes\n"
     ]
    },
    {
     "name": "stderr",
     "output_type": "stream",
     "text": [
      " 94%|█████████▍| 3253/3466 [11:14:01<53:41, 15.12s/page]  "
     ]
    },
    {
     "name": "stdout",
     "output_type": "stream",
     "text": [
      "Can't get image's sizes\n"
     ]
    },
    {
     "name": "stderr",
     "output_type": "stream",
     "text": [
      " 94%|█████████▍| 3260/3466 [11:15:25<44:06, 12.85s/page]"
     ]
    },
    {
     "name": "stdout",
     "output_type": "stream",
     "text": [
      "Can't get image's sizes\n"
     ]
    },
    {
     "name": "stderr",
     "output_type": "stream",
     "text": [
      " 94%|█████████▍| 3262/3466 [11:16:11<1:03:29, 18.67s/page]"
     ]
    },
    {
     "name": "stdout",
     "output_type": "stream",
     "text": [
      "Can't get image's sizes\n"
     ]
    },
    {
     "name": "stderr",
     "output_type": "stream",
     "text": [
      " 94%|█████████▍| 3274/3466 [11:19:20<1:02:14, 19.45s/page]"
     ]
    },
    {
     "name": "stdout",
     "output_type": "stream",
     "text": [
      "Can't get image's sizes\n"
     ]
    },
    {
     "name": "stderr",
     "output_type": "stream",
     "text": [
      " 95%|█████████▍| 3278/3466 [11:20:28<52:39, 16.80s/page]  "
     ]
    },
    {
     "name": "stdout",
     "output_type": "stream",
     "text": [
      "Can't get image's sizes\n"
     ]
    },
    {
     "name": "stderr",
     "output_type": "stream",
     "text": [
      " 95%|█████████▍| 3291/3466 [11:23:29<46:18, 15.88s/page]"
     ]
    },
    {
     "name": "stdout",
     "output_type": "stream",
     "text": [
      "Can't get image's sizes\n",
      "Couldn't get title from article.\n",
      "Couldn't get title from article.\n",
      "Can't go to the followers info\n",
      "Couldn't get reading time from article.\n",
      "Couldn't get date from article.\n",
      "Couldn't get YouTube videos.\n"
     ]
    },
    {
     "name": "stderr",
     "output_type": "stream",
     "text": [
      " 95%|█████████▌| 3293/3466 [11:23:54<41:50, 14.51s/page]"
     ]
    },
    {
     "name": "stdout",
     "output_type": "stream",
     "text": [
      "Can't go to the followers info\n"
     ]
    },
    {
     "name": "stderr",
     "output_type": "stream",
     "text": [
      " 95%|█████████▌| 3296/3466 [11:24:28<35:42, 12.61s/page]"
     ]
    },
    {
     "name": "stdout",
     "output_type": "stream",
     "text": [
      "Can't get image's sizes\n"
     ]
    },
    {
     "name": "stderr",
     "output_type": "stream",
     "text": [
      " 95%|█████████▌| 3304/3466 [11:26:39<38:35, 14.30s/page]"
     ]
    },
    {
     "name": "stdout",
     "output_type": "stream",
     "text": [
      "Can't get image's sizes\n"
     ]
    },
    {
     "name": "stderr",
     "output_type": "stream",
     "text": [
      " 96%|█████████▌| 3313/3466 [11:28:50<42:23, 16.62s/page]"
     ]
    },
    {
     "name": "stdout",
     "output_type": "stream",
     "text": [
      "Can't get image's sizes\n"
     ]
    },
    {
     "name": "stderr",
     "output_type": "stream",
     "text": [
      " 96%|█████████▌| 3322/3466 [11:31:17<49:50, 20.77s/page]"
     ]
    },
    {
     "name": "stdout",
     "output_type": "stream",
     "text": [
      "Can't get image's sizes\n"
     ]
    },
    {
     "name": "stderr",
     "output_type": "stream",
     "text": [
      " 96%|█████████▌| 3333/3466 [11:34:11<40:47, 18.40s/page]"
     ]
    },
    {
     "name": "stdout",
     "output_type": "stream",
     "text": [
      "Can't get image's sizes\n"
     ]
    },
    {
     "name": "stderr",
     "output_type": "stream",
     "text": [
      " 96%|█████████▋| 3343/3466 [11:36:55<35:10, 17.16s/page]"
     ]
    },
    {
     "name": "stdout",
     "output_type": "stream",
     "text": [
      "Can't get image's sizes\n"
     ]
    },
    {
     "name": "stderr",
     "output_type": "stream",
     "text": [
      " 97%|█████████▋| 3355/3466 [11:39:42<27:06, 14.66s/page]"
     ]
    },
    {
     "name": "stdout",
     "output_type": "stream",
     "text": [
      "Couldn't get date from article.\n"
     ]
    },
    {
     "name": "stderr",
     "output_type": "stream",
     "text": [
      " 97%|█████████▋| 3357/3466 [11:40:14<26:58, 14.85s/page]"
     ]
    },
    {
     "name": "stdout",
     "output_type": "stream",
     "text": [
      "Can't get image's sizes\n"
     ]
    },
    {
     "name": "stderr",
     "output_type": "stream",
     "text": [
      " 97%|█████████▋| 3370/3466 [11:43:29<22:16, 13.92s/page]"
     ]
    },
    {
     "name": "stdout",
     "output_type": "stream",
     "text": [
      "Can't get image's sizes\n"
     ]
    },
    {
     "name": "stderr",
     "output_type": "stream",
     "text": [
      " 97%|█████████▋| 3376/3466 [11:44:44<18:43, 12.48s/page]"
     ]
    },
    {
     "name": "stdout",
     "output_type": "stream",
     "text": [
      "Can't get image's sizes\n"
     ]
    },
    {
     "name": "stderr",
     "output_type": "stream",
     "text": [
      " 97%|█████████▋| 3379/3466 [11:45:23<19:28, 13.44s/page]"
     ]
    },
    {
     "name": "stdout",
     "output_type": "stream",
     "text": [
      "Can't get image's sizes\n"
     ]
    },
    {
     "name": "stderr",
     "output_type": "stream",
     "text": [
      " 98%|█████████▊| 3389/3466 [11:48:04<21:05, 16.43s/page]"
     ]
    },
    {
     "name": "stdout",
     "output_type": "stream",
     "text": [
      "Can't get image's sizes\n"
     ]
    },
    {
     "name": "stderr",
     "output_type": "stream",
     "text": [
      " 98%|█████████▊| 3396/3466 [11:49:40<17:07, 14.67s/page]"
     ]
    },
    {
     "name": "stdout",
     "output_type": "stream",
     "text": [
      "Can't get image's sizes\n"
     ]
    },
    {
     "name": "stderr",
     "output_type": "stream",
     "text": [
      " 98%|█████████▊| 3407/3466 [11:52:08<13:48, 14.04s/page]"
     ]
    },
    {
     "name": "stdout",
     "output_type": "stream",
     "text": [
      "Can't get image's sizes\n"
     ]
    },
    {
     "name": "stderr",
     "output_type": "stream",
     "text": [
      " 98%|█████████▊| 3409/3466 [11:52:40<14:14, 14.99s/page]"
     ]
    },
    {
     "name": "stdout",
     "output_type": "stream",
     "text": [
      "Can't get image's sizes\n"
     ]
    },
    {
     "name": "stderr",
     "output_type": "stream",
     "text": [
      " 98%|█████████▊| 3410/3466 [11:52:52<13:09, 14.11s/page]"
     ]
    },
    {
     "name": "stdout",
     "output_type": "stream",
     "text": [
      "Can't get image's sizes\n"
     ]
    },
    {
     "name": "stderr",
     "output_type": "stream",
     "text": [
      " 99%|█████████▉| 3428/3466 [11:57:04<09:34, 15.12s/page]"
     ]
    },
    {
     "name": "stdout",
     "output_type": "stream",
     "text": [
      "Can't get image's sizes\n"
     ]
    },
    {
     "name": "stderr",
     "output_type": "stream",
     "text": [
      " 99%|█████████▉| 3435/3466 [11:59:12<08:02, 15.56s/page]"
     ]
    },
    {
     "name": "stdout",
     "output_type": "stream",
     "text": [
      "Can't get image's sizes\n"
     ]
    },
    {
     "name": "stderr",
     "output_type": "stream",
     "text": [
      " 99%|█████████▉| 3436/3466 [11:59:22<06:56, 13.87s/page]"
     ]
    },
    {
     "name": "stdout",
     "output_type": "stream",
     "text": [
      "Can't get image's sizes\n"
     ]
    },
    {
     "name": "stderr",
     "output_type": "stream",
     "text": [
      " 99%|█████████▉| 3448/3466 [12:01:59<03:34, 11.91s/page]"
     ]
    },
    {
     "name": "stdout",
     "output_type": "stream",
     "text": [
      "Can't go to the followers info\n"
     ]
    },
    {
     "name": "stderr",
     "output_type": "stream",
     "text": [
      "100%|█████████▉| 3464/3466 [12:05:28<00:22, 11.47s/page]"
     ]
    },
    {
     "name": "stdout",
     "output_type": "stream",
     "text": [
      "Can't get image's sizes\n"
     ]
    },
    {
     "name": "stderr",
     "output_type": "stream",
     "text": [
      "100%|██████████| 3466/3466 [12:06:17<00:00, 12.57s/page]\n"
     ]
    }
   ],
   "source": [
    "with tqdm(page_urls[290:], unit=\"page\") as tepoch:\n",
    "    for idx, page_url in enumerate(tepoch):\n",
    "\n",
    "        # driver = webdriver.Edge()\n",
    "        # driver.get(page_url)\n",
    "        # time.sleep(0.5)\n",
    "        # soup = BeautifulSoup(driver.page_source, 'lxml')\n",
    "        # article_scrapper = ArticleScraper()\n",
    "        df_ = scrape_page(page_url, options)\n",
    "        df_['idx'] = idx+290\n",
    "        df_ = pd.DataFrame([df_]).set_index('idx')\n",
    "        df = pd.concat([df, df_])"
   ]
  },
  {
   "cell_type": "code",
   "execution_count": 594,
   "metadata": {},
   "outputs": [
    {
     "data": {
      "text/plain": [
       "(3756, 3756)"
      ]
     },
     "execution_count": 594,
     "metadata": {},
     "output_type": "execute_result"
    }
   ],
   "source": [
    "len(df), len(train_data)"
   ]
  },
  {
   "cell_type": "code",
   "execution_count": 595,
   "metadata": {},
   "outputs": [
    {
     "data": {
      "text/html": [
       "<div>\n",
       "<style scoped>\n",
       "    .dataframe tbody tr th:only-of-type {\n",
       "        vertical-align: middle;\n",
       "    }\n",
       "\n",
       "    .dataframe tbody tr th {\n",
       "        vertical-align: top;\n",
       "    }\n",
       "\n",
       "    .dataframe thead th {\n",
       "        text-align: right;\n",
       "    }\n",
       "</style>\n",
       "<table border=\"1\" class=\"dataframe\">\n",
       "  <thead>\n",
       "    <tr style=\"text-align: right;\">\n",
       "      <th></th>\n",
       "      <th>title</th>\n",
       "      <th>publication</th>\n",
       "      <th>author</th>\n",
       "      <th>followers</th>\n",
       "      <th>reading_time</th>\n",
       "      <th>n_words</th>\n",
       "      <th>pure_text</th>\n",
       "      <th>date</th>\n",
       "      <th>n_code_chunks</th>\n",
       "      <th>bold_text_count</th>\n",
       "      <th>italic_text_count</th>\n",
       "      <th>mean_image_width</th>\n",
       "      <th>mean_image_height</th>\n",
       "      <th>n_images</th>\n",
       "      <th>n_lists</th>\n",
       "      <th>n_vids</th>\n",
       "      <th>n_links</th>\n",
       "    </tr>\n",
       "    <tr>\n",
       "      <th>idx</th>\n",
       "      <th></th>\n",
       "      <th></th>\n",
       "      <th></th>\n",
       "      <th></th>\n",
       "      <th></th>\n",
       "      <th></th>\n",
       "      <th></th>\n",
       "      <th></th>\n",
       "      <th></th>\n",
       "      <th></th>\n",
       "      <th></th>\n",
       "      <th></th>\n",
       "      <th></th>\n",
       "      <th></th>\n",
       "      <th></th>\n",
       "      <th></th>\n",
       "      <th></th>\n",
       "    </tr>\n",
       "  </thead>\n",
       "  <tbody>\n",
       "    <tr>\n",
       "      <th>0</th>\n",
       "      <td>Understanding Variational Autoencoders (VAEs)</td>\n",
       "      <td>Towards Data Science</td>\n",
       "      <td>Joseph Rocca</td>\n",
       "      <td>3700</td>\n",
       "      <td>23</td>\n",
       "      <td>4892</td>\n",
       "      <td>This post was co-written with In the last few ...</td>\n",
       "      <td>24/09/2019</td>\n",
       "      <td>0</td>\n",
       "      <td>35</td>\n",
       "      <td>1</td>\n",
       "      <td>1150</td>\n",
       "      <td>426</td>\n",
       "      <td>30</td>\n",
       "      <td>3</td>\n",
       "      <td>0</td>\n",
       "      <td>14</td>\n",
       "    </tr>\n",
       "    <tr>\n",
       "      <th>1</th>\n",
       "      <td>Using Mixed-Effects Models For Linear Regression</td>\n",
       "      <td>Towards Data Science</td>\n",
       "      <td>Guido Vivaldi</td>\n",
       "      <td>256</td>\n",
       "      <td>6</td>\n",
       "      <td>889</td>\n",
       "      <td>Mixed-effects regression models are a powerful...</td>\n",
       "      <td>18/05/2019</td>\n",
       "      <td>9</td>\n",
       "      <td>6</td>\n",
       "      <td>1</td>\n",
       "      <td>516</td>\n",
       "      <td>304</td>\n",
       "      <td>13</td>\n",
       "      <td>1</td>\n",
       "      <td>0</td>\n",
       "      <td>5</td>\n",
       "    </tr>\n",
       "    <tr>\n",
       "      <th>2</th>\n",
       "      <td>The New Moats</td>\n",
       "      <td>Greylock Perspectives</td>\n",
       "      <td>Jerry Chen</td>\n",
       "      <td>4700</td>\n",
       "      <td>11</td>\n",
       "      <td>2217</td>\n",
       "      <td>To build a sustainable and profitable business...</td>\n",
       "      <td>24/04/2017</td>\n",
       "      <td>0</td>\n",
       "      <td>5</td>\n",
       "      <td>27</td>\n",
       "      <td>994</td>\n",
       "      <td>582</td>\n",
       "      <td>6</td>\n",
       "      <td>2</td>\n",
       "      <td>0</td>\n",
       "      <td>24</td>\n",
       "    </tr>\n",
       "    <tr>\n",
       "      <th>3</th>\n",
       "      <td>Region of Interest Pooling</td>\n",
       "      <td>Towards Data Science</td>\n",
       "      <td>Sambasivarao. K</td>\n",
       "      <td>239</td>\n",
       "      <td>4</td>\n",
       "      <td>523</td>\n",
       "      <td>The major hurdle for going from image classifi...</td>\n",
       "      <td>22/04/2019</td>\n",
       "      <td>4</td>\n",
       "      <td>5</td>\n",
       "      <td>0</td>\n",
       "      <td>753</td>\n",
       "      <td>512</td>\n",
       "      <td>2</td>\n",
       "      <td>2</td>\n",
       "      <td>0</td>\n",
       "      <td>3</td>\n",
       "    </tr>\n",
       "    <tr>\n",
       "      <th>4</th>\n",
       "      <td>Modern Gaussian Process Regression</td>\n",
       "      <td>Towards Data Science</td>\n",
       "      <td>Ryan Sander</td>\n",
       "      <td>173</td>\n",
       "      <td>10</td>\n",
       "      <td>1433</td>\n",
       "      <td>Ever wonder how you can create non-parametric ...</td>\n",
       "      <td>24/03/2021</td>\n",
       "      <td>2</td>\n",
       "      <td>96</td>\n",
       "      <td>15</td>\n",
       "      <td>657</td>\n",
       "      <td>291</td>\n",
       "      <td>14</td>\n",
       "      <td>4</td>\n",
       "      <td>0</td>\n",
       "      <td>35</td>\n",
       "    </tr>\n",
       "  </tbody>\n",
       "</table>\n",
       "</div>"
      ],
      "text/plain": [
       "                                                title            publication  \\\n",
       "idx                                                                            \n",
       "0       Understanding Variational Autoencoders (VAEs)   Towards Data Science   \n",
       "1    Using Mixed-Effects Models For Linear Regression   Towards Data Science   \n",
       "2                                       The New Moats  Greylock Perspectives   \n",
       "3                          Region of Interest Pooling   Towards Data Science   \n",
       "4                  Modern Gaussian Process Regression   Towards Data Science   \n",
       "\n",
       "              author followers reading_time n_words  \\\n",
       "idx                                                   \n",
       "0       Joseph Rocca      3700           23    4892   \n",
       "1      Guido Vivaldi       256            6     889   \n",
       "2         Jerry Chen      4700           11    2217   \n",
       "3    Sambasivarao. K       239            4     523   \n",
       "4        Ryan Sander       173           10    1433   \n",
       "\n",
       "                                             pure_text        date  \\\n",
       "idx                                                                  \n",
       "0    This post was co-written with In the last few ...  24/09/2019   \n",
       "1    Mixed-effects regression models are a powerful...  18/05/2019   \n",
       "2    To build a sustainable and profitable business...  24/04/2017   \n",
       "3    The major hurdle for going from image classifi...  22/04/2019   \n",
       "4    Ever wonder how you can create non-parametric ...  24/03/2021   \n",
       "\n",
       "    n_code_chunks bold_text_count italic_text_count mean_image_width  \\\n",
       "idx                                                                    \n",
       "0               0              35                 1             1150   \n",
       "1               9               6                 1              516   \n",
       "2               0               5                27              994   \n",
       "3               4               5                 0              753   \n",
       "4               2              96                15              657   \n",
       "\n",
       "    mean_image_height n_images n_lists n_vids n_links  \n",
       "idx                                                    \n",
       "0                 426       30       3      0      14  \n",
       "1                 304       13       1      0       5  \n",
       "2                 582        6       2      0      24  \n",
       "3                 512        2       2      0       3  \n",
       "4                 291       14       4      0      35  "
      ]
     },
     "execution_count": 595,
     "metadata": {},
     "output_type": "execute_result"
    }
   ],
   "source": [
    "df.head()"
   ]
  },
  {
   "cell_type": "code",
   "execution_count": 597,
   "metadata": {},
   "outputs": [
    {
     "data": {
      "text/html": [
       "<div>\n",
       "<style scoped>\n",
       "    .dataframe tbody tr th:only-of-type {\n",
       "        vertical-align: middle;\n",
       "    }\n",
       "\n",
       "    .dataframe tbody tr th {\n",
       "        vertical-align: top;\n",
       "    }\n",
       "\n",
       "    .dataframe thead th {\n",
       "        text-align: right;\n",
       "    }\n",
       "</style>\n",
       "<table border=\"1\" class=\"dataframe\">\n",
       "  <thead>\n",
       "    <tr style=\"text-align: right;\">\n",
       "      <th></th>\n",
       "      <th>author</th>\n",
       "      <th>reading_time</th>\n",
       "      <th>link</th>\n",
       "      <th>title</th>\n",
       "      <th>text</th>\n",
       "      <th>claps</th>\n",
       "    </tr>\n",
       "    <tr>\n",
       "      <th>id</th>\n",
       "      <th></th>\n",
       "      <th></th>\n",
       "      <th></th>\n",
       "      <th></th>\n",
       "      <th></th>\n",
       "      <th></th>\n",
       "    </tr>\n",
       "  </thead>\n",
       "  <tbody>\n",
       "    <tr>\n",
       "      <th>0</th>\n",
       "      <td>Joseph Rocca</td>\n",
       "      <td>23</td>\n",
       "      <td>https://towardsdatascience.com/understanding-v...</td>\n",
       "      <td>Understanding Variational Autoencoders (VAEs) ...</td>\n",
       "      <td>Towards Data Science\\nSep 24, 2019\\nThis post ...</td>\n",
       "      <td>8300.0</td>\n",
       "    </tr>\n",
       "    <tr>\n",
       "      <th>1</th>\n",
       "      <td>Guido Vivaldi</td>\n",
       "      <td>6</td>\n",
       "      <td>https://towardsdatascience.com/using-mixed-eff...</td>\n",
       "      <td>Using Mixed-Effects Models For Linear Regressi...</td>\n",
       "      <td>Towards Data Science\\nMay 17, 2019\\nMixed-effe...</td>\n",
       "      <td>336.0</td>\n",
       "    </tr>\n",
       "    <tr>\n",
       "      <th>2</th>\n",
       "      <td>Jerry Chen</td>\n",
       "      <td>11</td>\n",
       "      <td>https://news.greylock.com/the-new-moats-53f61a...</td>\n",
       "      <td>The New Moats. Why Systems of IntelligenceTM a...</td>\n",
       "      <td>Greylock Perspectives\\nApr 24, 2017\\nTo build ...</td>\n",
       "      <td>3500.0</td>\n",
       "    </tr>\n",
       "    <tr>\n",
       "      <th>3</th>\n",
       "      <td>Sambasivarao. K</td>\n",
       "      <td>4</td>\n",
       "      <td>https://towardsdatascience.com/region-of-inter...</td>\n",
       "      <td>Region of Interest Pooling. A Technique which ...</td>\n",
       "      <td>Towards Data Science\\nApr 22, 2019\\nThe major ...</td>\n",
       "      <td>334.0</td>\n",
       "    </tr>\n",
       "    <tr>\n",
       "      <th>4</th>\n",
       "      <td>Ryan Sander</td>\n",
       "      <td>10</td>\n",
       "      <td>https://towardsdatascience.com/modern-gaussian...</td>\n",
       "      <td>Modern Gaussian Process Regression | by Ryan S...</td>\n",
       "      <td>Towards Data Science\\nMar 24, 2021\\nEver wonde...</td>\n",
       "      <td>128.0</td>\n",
       "    </tr>\n",
       "  </tbody>\n",
       "</table>\n",
       "</div>"
      ],
      "text/plain": [
       "             author  reading_time  \\\n",
       "id                                  \n",
       "0      Joseph Rocca            23   \n",
       "1     Guido Vivaldi             6   \n",
       "2        Jerry Chen            11   \n",
       "3   Sambasivarao. K             4   \n",
       "4       Ryan Sander            10   \n",
       "\n",
       "                                                 link  \\\n",
       "id                                                      \n",
       "0   https://towardsdatascience.com/understanding-v...   \n",
       "1   https://towardsdatascience.com/using-mixed-eff...   \n",
       "2   https://news.greylock.com/the-new-moats-53f61a...   \n",
       "3   https://towardsdatascience.com/region-of-inter...   \n",
       "4   https://towardsdatascience.com/modern-gaussian...   \n",
       "\n",
       "                                                title  \\\n",
       "id                                                      \n",
       "0   Understanding Variational Autoencoders (VAEs) ...   \n",
       "1   Using Mixed-Effects Models For Linear Regressi...   \n",
       "2   The New Moats. Why Systems of IntelligenceTM a...   \n",
       "3   Region of Interest Pooling. A Technique which ...   \n",
       "4   Modern Gaussian Process Regression | by Ryan S...   \n",
       "\n",
       "                                                 text   claps  \n",
       "id                                                             \n",
       "0   Towards Data Science\\nSep 24, 2019\\nThis post ...  8300.0  \n",
       "1   Towards Data Science\\nMay 17, 2019\\nMixed-effe...   336.0  \n",
       "2   Greylock Perspectives\\nApr 24, 2017\\nTo build ...  3500.0  \n",
       "3   Towards Data Science\\nApr 22, 2019\\nThe major ...   334.0  \n",
       "4   Towards Data Science\\nMar 24, 2021\\nEver wonde...   128.0  "
      ]
     },
     "execution_count": 597,
     "metadata": {},
     "output_type": "execute_result"
    }
   ],
   "source": [
    "train_data.head()"
   ]
  },
  {
   "cell_type": "code",
   "execution_count": 598,
   "metadata": {},
   "outputs": [
    {
     "data": {
      "text/html": [
       "<div>\n",
       "<style scoped>\n",
       "    .dataframe tbody tr th:only-of-type {\n",
       "        vertical-align: middle;\n",
       "    }\n",
       "\n",
       "    .dataframe tbody tr th {\n",
       "        vertical-align: top;\n",
       "    }\n",
       "\n",
       "    .dataframe thead th {\n",
       "        text-align: right;\n",
       "    }\n",
       "</style>\n",
       "<table border=\"1\" class=\"dataframe\">\n",
       "  <thead>\n",
       "    <tr style=\"text-align: right;\">\n",
       "      <th></th>\n",
       "      <th>title</th>\n",
       "      <th>publication</th>\n",
       "      <th>author</th>\n",
       "      <th>followers</th>\n",
       "      <th>reading_time</th>\n",
       "      <th>n_words</th>\n",
       "      <th>pure_text</th>\n",
       "      <th>date</th>\n",
       "      <th>n_code_chunks</th>\n",
       "      <th>bold_text_count</th>\n",
       "      <th>italic_text_count</th>\n",
       "      <th>mean_image_width</th>\n",
       "      <th>mean_image_height</th>\n",
       "      <th>n_images</th>\n",
       "      <th>n_lists</th>\n",
       "      <th>n_vids</th>\n",
       "      <th>n_links</th>\n",
       "    </tr>\n",
       "    <tr>\n",
       "      <th>idx</th>\n",
       "      <th></th>\n",
       "      <th></th>\n",
       "      <th></th>\n",
       "      <th></th>\n",
       "      <th></th>\n",
       "      <th></th>\n",
       "      <th></th>\n",
       "      <th></th>\n",
       "      <th></th>\n",
       "      <th></th>\n",
       "      <th></th>\n",
       "      <th></th>\n",
       "      <th></th>\n",
       "      <th></th>\n",
       "      <th></th>\n",
       "      <th></th>\n",
       "      <th></th>\n",
       "    </tr>\n",
       "  </thead>\n",
       "  <tbody>\n",
       "    <tr>\n",
       "      <th>3751</th>\n",
       "      <td>Nerves: “Gold Month of Exchanges” — listed on ...</td>\n",
       "      <td>Nerves Foundation</td>\n",
       "      <td>Nerves Foundation</td>\n",
       "      <td>1800</td>\n",
       "      <td>1</td>\n",
       "      <td>153</td>\n",
       "      <td>Dear Nervesians,Today is probably a special da...</td>\n",
       "      <td>21/09/2018</td>\n",
       "      <td>0</td>\n",
       "      <td>9</td>\n",
       "      <td>28</td>\n",
       "      <td>1400</td>\n",
       "      <td>716</td>\n",
       "      <td>1</td>\n",
       "      <td>0</td>\n",
       "      <td>0</td>\n",
       "      <td>9</td>\n",
       "    </tr>\n",
       "    <tr>\n",
       "      <th>3752</th>\n",
       "      <td>An introduction to ConvLSTM</td>\n",
       "      <td>Neuronio</td>\n",
       "      <td>Alexandre Xavier</td>\n",
       "      <td>124</td>\n",
       "      <td>6</td>\n",
       "      <td>1009</td>\n",
       "      <td>Note: a Portuguese version of this article is ...</td>\n",
       "      <td>25/03/2019</td>\n",
       "      <td>0</td>\n",
       "      <td>21</td>\n",
       "      <td>0</td>\n",
       "      <td>859</td>\n",
       "      <td>631</td>\n",
       "      <td>4</td>\n",
       "      <td>3</td>\n",
       "      <td>0</td>\n",
       "      <td>11</td>\n",
       "    </tr>\n",
       "    <tr>\n",
       "      <th>3753</th>\n",
       "      <td>Automatic Text Summarization Made Simple with ...</td>\n",
       "      <td>luisfredgs</td>\n",
       "      <td>Luís Gonçalves</td>\n",
       "      <td>317</td>\n",
       "      <td>4</td>\n",
       "      <td>632</td>\n",
       "      <td>Summarization condenses a longer document into...</td>\n",
       "      <td>19/04/2020</td>\n",
       "      <td>7</td>\n",
       "      <td>1</td>\n",
       "      <td>2</td>\n",
       "      <td>700</td>\n",
       "      <td>405</td>\n",
       "      <td>1</td>\n",
       "      <td>1</td>\n",
       "      <td>0</td>\n",
       "      <td>4</td>\n",
       "    </tr>\n",
       "    <tr>\n",
       "      <th>3754</th>\n",
       "      <td>Multinomial Naive Bayes Classifier for Text An...</td>\n",
       "      <td>Towards Data Science</td>\n",
       "      <td>Syed Sadat Nazrul</td>\n",
       "      <td>2700</td>\n",
       "      <td>7</td>\n",
       "      <td>399</td>\n",
       "      <td>One of the most popular applications of machin...</td>\n",
       "      <td>09/04/2018</td>\n",
       "      <td>10</td>\n",
       "      <td>88</td>\n",
       "      <td>48</td>\n",
       "      <td>None</td>\n",
       "      <td>None</td>\n",
       "      <td>17</td>\n",
       "      <td>0</td>\n",
       "      <td>0</td>\n",
       "      <td>1</td>\n",
       "    </tr>\n",
       "    <tr>\n",
       "      <th>3755</th>\n",
       "      <td>Dropping Out Is Not Sexy!</td>\n",
       "      <td>None</td>\n",
       "      <td>Neha Tripathi</td>\n",
       "      <td>11</td>\n",
       "      <td>4</td>\n",
       "      <td>743</td>\n",
       "      <td>Hey,I am Neha, I dropped out of the MPhil prog...</td>\n",
       "      <td>27/06/2021</td>\n",
       "      <td>0</td>\n",
       "      <td>0</td>\n",
       "      <td>2</td>\n",
       "      <td>1400</td>\n",
       "      <td>1866</td>\n",
       "      <td>1</td>\n",
       "      <td>0</td>\n",
       "      <td>0</td>\n",
       "      <td>0</td>\n",
       "    </tr>\n",
       "  </tbody>\n",
       "</table>\n",
       "</div>"
      ],
      "text/plain": [
       "                                                  title           publication  \\\n",
       "idx                                                                             \n",
       "3751  Nerves: “Gold Month of Exchanges” — listed on ...     Nerves Foundation   \n",
       "3752                        An introduction to ConvLSTM              Neuronio   \n",
       "3753  Automatic Text Summarization Made Simple with ...            luisfredgs   \n",
       "3754  Multinomial Naive Bayes Classifier for Text An...  Towards Data Science   \n",
       "3755                          Dropping Out Is Not Sexy!                  None   \n",
       "\n",
       "                 author followers reading_time n_words  \\\n",
       "idx                                                      \n",
       "3751  Nerves Foundation      1800            1     153   \n",
       "3752   Alexandre Xavier       124            6    1009   \n",
       "3753     Luís Gonçalves       317            4     632   \n",
       "3754  Syed Sadat Nazrul      2700            7     399   \n",
       "3755      Neha Tripathi        11            4     743   \n",
       "\n",
       "                                              pure_text        date  \\\n",
       "idx                                                                   \n",
       "3751  Dear Nervesians,Today is probably a special da...  21/09/2018   \n",
       "3752  Note: a Portuguese version of this article is ...  25/03/2019   \n",
       "3753  Summarization condenses a longer document into...  19/04/2020   \n",
       "3754  One of the most popular applications of machin...  09/04/2018   \n",
       "3755  Hey,I am Neha, I dropped out of the MPhil prog...  27/06/2021   \n",
       "\n",
       "     n_code_chunks bold_text_count italic_text_count mean_image_width  \\\n",
       "idx                                                                     \n",
       "3751             0               9                28             1400   \n",
       "3752             0              21                 0              859   \n",
       "3753             7               1                 2              700   \n",
       "3754            10              88                48             None   \n",
       "3755             0               0                 2             1400   \n",
       "\n",
       "     mean_image_height n_images n_lists n_vids n_links  \n",
       "idx                                                     \n",
       "3751               716        1       0      0       9  \n",
       "3752               631        4       3      0      11  \n",
       "3753               405        1       1      0       4  \n",
       "3754              None       17       0      0       1  \n",
       "3755              1866        1       0      0       0  "
      ]
     },
     "execution_count": 598,
     "metadata": {},
     "output_type": "execute_result"
    }
   ],
   "source": [
    "df.tail()"
   ]
  },
  {
   "cell_type": "code",
   "execution_count": 599,
   "metadata": {},
   "outputs": [
    {
     "data": {
      "text/html": [
       "<div>\n",
       "<style scoped>\n",
       "    .dataframe tbody tr th:only-of-type {\n",
       "        vertical-align: middle;\n",
       "    }\n",
       "\n",
       "    .dataframe tbody tr th {\n",
       "        vertical-align: top;\n",
       "    }\n",
       "\n",
       "    .dataframe thead th {\n",
       "        text-align: right;\n",
       "    }\n",
       "</style>\n",
       "<table border=\"1\" class=\"dataframe\">\n",
       "  <thead>\n",
       "    <tr style=\"text-align: right;\">\n",
       "      <th></th>\n",
       "      <th>author</th>\n",
       "      <th>reading_time</th>\n",
       "      <th>link</th>\n",
       "      <th>title</th>\n",
       "      <th>text</th>\n",
       "      <th>claps</th>\n",
       "    </tr>\n",
       "    <tr>\n",
       "      <th>id</th>\n",
       "      <th></th>\n",
       "      <th></th>\n",
       "      <th></th>\n",
       "      <th></th>\n",
       "      <th></th>\n",
       "      <th></th>\n",
       "    </tr>\n",
       "  </thead>\n",
       "  <tbody>\n",
       "    <tr>\n",
       "      <th>3751</th>\n",
       "      <td>Nerves Foundation</td>\n",
       "      <td>1</td>\n",
       "      <td>https://medium.com/nerves-foundation/nerves-go...</td>\n",
       "      <td>Nerves: “Gold Month of Exchanges” — listed on ...</td>\n",
       "      <td>Nerves Foundation\\nSep 21, 2018\\nDear Nervesia...</td>\n",
       "      <td>169.0</td>\n",
       "    </tr>\n",
       "    <tr>\n",
       "      <th>3752</th>\n",
       "      <td>Alexandre Xavier</td>\n",
       "      <td>6</td>\n",
       "      <td>https://medium.com/neuronio/an-introduction-to...</td>\n",
       "      <td>An introduction to ConvLSTM. Nowadays it is qu...</td>\n",
       "      <td>Neuronio\\nMar 25, 2019\\nNote: a Portuguese ver...</td>\n",
       "      <td>768.0</td>\n",
       "    </tr>\n",
       "    <tr>\n",
       "      <th>3753</th>\n",
       "      <td>Luís Gonçalves</td>\n",
       "      <td>4</td>\n",
       "      <td>https://medium.com/luisfredgs/automatic-text-s...</td>\n",
       "      <td>Automatic Text Summarization Made Simple | lui...</td>\n",
       "      <td>luisfredgs\\nApr 19, 2020\\nSummarization conden...</td>\n",
       "      <td>144.0</td>\n",
       "    </tr>\n",
       "    <tr>\n",
       "      <th>3754</th>\n",
       "      <td>Syed Sadat Nazrul</td>\n",
       "      <td>7</td>\n",
       "      <td>https://towardsdatascience.com/multinomial-nai...</td>\n",
       "      <td>Multinomial Naive Bayes Classifier for Text An...</td>\n",
       "      <td>Towards Data Science\\nApr 9, 2018\\nOne of the ...</td>\n",
       "      <td>523.0</td>\n",
       "    </tr>\n",
       "    <tr>\n",
       "      <th>3755</th>\n",
       "      <td>Neha Tripathi</td>\n",
       "      <td>4</td>\n",
       "      <td>https://medium.com/@nehatripathii/dropping-out...</td>\n",
       "      <td>Dropping Out Is Not Sexy!. Hey, | by Neha Trip...</td>\n",
       "      <td>Jun 27, 2021\\nHey,\\nI am Neha, I dropped out o...</td>\n",
       "      <td>62.0</td>\n",
       "    </tr>\n",
       "  </tbody>\n",
       "</table>\n",
       "</div>"
      ],
      "text/plain": [
       "                 author  reading_time  \\\n",
       "id                                      \n",
       "3751  Nerves Foundation             1   \n",
       "3752   Alexandre Xavier             6   \n",
       "3753   Luís Gonçalves             4   \n",
       "3754  Syed Sadat Nazrul             7   \n",
       "3755      Neha Tripathi             4   \n",
       "\n",
       "                                                   link  \\\n",
       "id                                                        \n",
       "3751  https://medium.com/nerves-foundation/nerves-go...   \n",
       "3752  https://medium.com/neuronio/an-introduction-to...   \n",
       "3753  https://medium.com/luisfredgs/automatic-text-s...   \n",
       "3754  https://towardsdatascience.com/multinomial-nai...   \n",
       "3755  https://medium.com/@nehatripathii/dropping-out...   \n",
       "\n",
       "                                                  title  \\\n",
       "id                                                        \n",
       "3751  Nerves: “Gold Month of Exchanges” — listed on ...   \n",
       "3752  An introduction to ConvLSTM. Nowadays it is qu...   \n",
       "3753  Automatic Text Summarization Made Simple | lui...   \n",
       "3754  Multinomial Naive Bayes Classifier for Text An...   \n",
       "3755  Dropping Out Is Not Sexy!. Hey, | by Neha Trip...   \n",
       "\n",
       "                                                   text  claps  \n",
       "id                                                              \n",
       "3751  Nerves Foundation\\nSep 21, 2018\\nDear Nervesia...  169.0  \n",
       "3752  Neuronio\\nMar 25, 2019\\nNote: a Portuguese ver...  768.0  \n",
       "3753  luisfredgs\\nApr 19, 2020\\nSummarization conden...  144.0  \n",
       "3754  Towards Data Science\\nApr 9, 2018\\nOne of the ...  523.0  \n",
       "3755  Jun 27, 2021\\nHey,\\nI am Neha, I dropped out o...   62.0  "
      ]
     },
     "execution_count": 599,
     "metadata": {},
     "output_type": "execute_result"
    }
   ],
   "source": [
    "train_data.tail()"
   ]
  },
  {
   "cell_type": "code",
   "execution_count": 600,
   "metadata": {},
   "outputs": [],
   "source": [
    "df['target'] = train_data['claps']"
   ]
  },
  {
   "cell_type": "code",
   "execution_count": 602,
   "metadata": {},
   "outputs": [
    {
     "data": {
      "text/html": [
       "<div>\n",
       "<style scoped>\n",
       "    .dataframe tbody tr th:only-of-type {\n",
       "        vertical-align: middle;\n",
       "    }\n",
       "\n",
       "    .dataframe tbody tr th {\n",
       "        vertical-align: top;\n",
       "    }\n",
       "\n",
       "    .dataframe thead th {\n",
       "        text-align: right;\n",
       "    }\n",
       "</style>\n",
       "<table border=\"1\" class=\"dataframe\">\n",
       "  <thead>\n",
       "    <tr style=\"text-align: right;\">\n",
       "      <th></th>\n",
       "      <th>title</th>\n",
       "      <th>publication</th>\n",
       "      <th>author</th>\n",
       "      <th>followers</th>\n",
       "      <th>reading_time</th>\n",
       "      <th>n_words</th>\n",
       "      <th>pure_text</th>\n",
       "      <th>date</th>\n",
       "      <th>n_code_chunks</th>\n",
       "      <th>bold_text_count</th>\n",
       "      <th>italic_text_count</th>\n",
       "      <th>mean_image_width</th>\n",
       "      <th>mean_image_height</th>\n",
       "      <th>n_images</th>\n",
       "      <th>n_lists</th>\n",
       "      <th>n_vids</th>\n",
       "      <th>n_links</th>\n",
       "      <th>target</th>\n",
       "    </tr>\n",
       "    <tr>\n",
       "      <th>idx</th>\n",
       "      <th></th>\n",
       "      <th></th>\n",
       "      <th></th>\n",
       "      <th></th>\n",
       "      <th></th>\n",
       "      <th></th>\n",
       "      <th></th>\n",
       "      <th></th>\n",
       "      <th></th>\n",
       "      <th></th>\n",
       "      <th></th>\n",
       "      <th></th>\n",
       "      <th></th>\n",
       "      <th></th>\n",
       "      <th></th>\n",
       "      <th></th>\n",
       "      <th></th>\n",
       "      <th></th>\n",
       "    </tr>\n",
       "  </thead>\n",
       "  <tbody>\n",
       "    <tr>\n",
       "      <th>3751</th>\n",
       "      <td>Nerves: “Gold Month of Exchanges” — listed on ...</td>\n",
       "      <td>Nerves Foundation</td>\n",
       "      <td>Nerves Foundation</td>\n",
       "      <td>1800</td>\n",
       "      <td>1</td>\n",
       "      <td>153</td>\n",
       "      <td>Dear Nervesians,Today is probably a special da...</td>\n",
       "      <td>21/09/2018</td>\n",
       "      <td>0</td>\n",
       "      <td>9</td>\n",
       "      <td>28</td>\n",
       "      <td>1400</td>\n",
       "      <td>716</td>\n",
       "      <td>1</td>\n",
       "      <td>0</td>\n",
       "      <td>0</td>\n",
       "      <td>9</td>\n",
       "      <td>169.0</td>\n",
       "    </tr>\n",
       "    <tr>\n",
       "      <th>3752</th>\n",
       "      <td>An introduction to ConvLSTM</td>\n",
       "      <td>Neuronio</td>\n",
       "      <td>Alexandre Xavier</td>\n",
       "      <td>124</td>\n",
       "      <td>6</td>\n",
       "      <td>1009</td>\n",
       "      <td>Note: a Portuguese version of this article is ...</td>\n",
       "      <td>25/03/2019</td>\n",
       "      <td>0</td>\n",
       "      <td>21</td>\n",
       "      <td>0</td>\n",
       "      <td>859</td>\n",
       "      <td>631</td>\n",
       "      <td>4</td>\n",
       "      <td>3</td>\n",
       "      <td>0</td>\n",
       "      <td>11</td>\n",
       "      <td>768.0</td>\n",
       "    </tr>\n",
       "    <tr>\n",
       "      <th>3753</th>\n",
       "      <td>Automatic Text Summarization Made Simple with ...</td>\n",
       "      <td>luisfredgs</td>\n",
       "      <td>Luís Gonçalves</td>\n",
       "      <td>317</td>\n",
       "      <td>4</td>\n",
       "      <td>632</td>\n",
       "      <td>Summarization condenses a longer document into...</td>\n",
       "      <td>19/04/2020</td>\n",
       "      <td>7</td>\n",
       "      <td>1</td>\n",
       "      <td>2</td>\n",
       "      <td>700</td>\n",
       "      <td>405</td>\n",
       "      <td>1</td>\n",
       "      <td>1</td>\n",
       "      <td>0</td>\n",
       "      <td>4</td>\n",
       "      <td>144.0</td>\n",
       "    </tr>\n",
       "    <tr>\n",
       "      <th>3754</th>\n",
       "      <td>Multinomial Naive Bayes Classifier for Text An...</td>\n",
       "      <td>Towards Data Science</td>\n",
       "      <td>Syed Sadat Nazrul</td>\n",
       "      <td>2700</td>\n",
       "      <td>7</td>\n",
       "      <td>399</td>\n",
       "      <td>One of the most popular applications of machin...</td>\n",
       "      <td>09/04/2018</td>\n",
       "      <td>10</td>\n",
       "      <td>88</td>\n",
       "      <td>48</td>\n",
       "      <td>None</td>\n",
       "      <td>None</td>\n",
       "      <td>17</td>\n",
       "      <td>0</td>\n",
       "      <td>0</td>\n",
       "      <td>1</td>\n",
       "      <td>523.0</td>\n",
       "    </tr>\n",
       "    <tr>\n",
       "      <th>3755</th>\n",
       "      <td>Dropping Out Is Not Sexy!</td>\n",
       "      <td>None</td>\n",
       "      <td>Neha Tripathi</td>\n",
       "      <td>11</td>\n",
       "      <td>4</td>\n",
       "      <td>743</td>\n",
       "      <td>Hey,I am Neha, I dropped out of the MPhil prog...</td>\n",
       "      <td>27/06/2021</td>\n",
       "      <td>0</td>\n",
       "      <td>0</td>\n",
       "      <td>2</td>\n",
       "      <td>1400</td>\n",
       "      <td>1866</td>\n",
       "      <td>1</td>\n",
       "      <td>0</td>\n",
       "      <td>0</td>\n",
       "      <td>0</td>\n",
       "      <td>62.0</td>\n",
       "    </tr>\n",
       "  </tbody>\n",
       "</table>\n",
       "</div>"
      ],
      "text/plain": [
       "                                                  title           publication  \\\n",
       "idx                                                                             \n",
       "3751  Nerves: “Gold Month of Exchanges” — listed on ...     Nerves Foundation   \n",
       "3752                        An introduction to ConvLSTM              Neuronio   \n",
       "3753  Automatic Text Summarization Made Simple with ...            luisfredgs   \n",
       "3754  Multinomial Naive Bayes Classifier for Text An...  Towards Data Science   \n",
       "3755                          Dropping Out Is Not Sexy!                  None   \n",
       "\n",
       "                 author followers reading_time n_words  \\\n",
       "idx                                                      \n",
       "3751  Nerves Foundation      1800            1     153   \n",
       "3752   Alexandre Xavier       124            6    1009   \n",
       "3753     Luís Gonçalves       317            4     632   \n",
       "3754  Syed Sadat Nazrul      2700            7     399   \n",
       "3755      Neha Tripathi        11            4     743   \n",
       "\n",
       "                                              pure_text        date  \\\n",
       "idx                                                                   \n",
       "3751  Dear Nervesians,Today is probably a special da...  21/09/2018   \n",
       "3752  Note: a Portuguese version of this article is ...  25/03/2019   \n",
       "3753  Summarization condenses a longer document into...  19/04/2020   \n",
       "3754  One of the most popular applications of machin...  09/04/2018   \n",
       "3755  Hey,I am Neha, I dropped out of the MPhil prog...  27/06/2021   \n",
       "\n",
       "     n_code_chunks bold_text_count italic_text_count mean_image_width  \\\n",
       "idx                                                                     \n",
       "3751             0               9                28             1400   \n",
       "3752             0              21                 0              859   \n",
       "3753             7               1                 2              700   \n",
       "3754            10              88                48             None   \n",
       "3755             0               0                 2             1400   \n",
       "\n",
       "     mean_image_height n_images n_lists n_vids n_links  target  \n",
       "idx                                                             \n",
       "3751               716        1       0      0       9   169.0  \n",
       "3752               631        4       3      0      11   768.0  \n",
       "3753               405        1       1      0       4   144.0  \n",
       "3754              None       17       0      0       1   523.0  \n",
       "3755              1866        1       0      0       0    62.0  "
      ]
     },
     "execution_count": 602,
     "metadata": {},
     "output_type": "execute_result"
    }
   ],
   "source": [
    "df.tail()"
   ]
  },
  {
   "cell_type": "code",
   "execution_count": null,
   "metadata": {},
   "outputs": [],
   "source": [
    "df.to_csv('train_noise.csv')"
   ]
  },
  {
   "cell_type": "code",
   "execution_count": 458,
   "metadata": {},
   "outputs": [
    {
     "name": "stdout",
     "output_type": "stream",
     "text": [
      "Sorry\n"
     ]
    }
   ],
   "source": [
    "languages = []\n",
    "\n",
    "for text in df.pure_text:\n",
    "    try:\n",
    "        languages.append(detect(text[:50]))\n",
    "    except:\n",
    "        print('Sorry')\n",
    "        languages.append(None)"
   ]
  },
  {
   "cell_type": "code",
   "execution_count": 461,
   "metadata": {},
   "outputs": [],
   "source": [
    "df['language'] = languages"
   ]
  },
  {
   "cell_type": "code",
   "execution_count": 464,
   "metadata": {},
   "outputs": [
    {
     "data": {
      "text/html": [
       "<div>\n",
       "<style scoped>\n",
       "    .dataframe tbody tr th:only-of-type {\n",
       "        vertical-align: middle;\n",
       "    }\n",
       "\n",
       "    .dataframe tbody tr th {\n",
       "        vertical-align: top;\n",
       "    }\n",
       "\n",
       "    .dataframe thead th {\n",
       "        text-align: right;\n",
       "    }\n",
       "</style>\n",
       "<table border=\"1\" class=\"dataframe\">\n",
       "  <thead>\n",
       "    <tr style=\"text-align: right;\">\n",
       "      <th></th>\n",
       "      <th>title</th>\n",
       "      <th>publication</th>\n",
       "      <th>author</th>\n",
       "      <th>followers</th>\n",
       "      <th>reading_time</th>\n",
       "      <th>n_words</th>\n",
       "      <th>pure_text</th>\n",
       "      <th>date</th>\n",
       "      <th>n_code_chunks</th>\n",
       "      <th>bold_text_count</th>\n",
       "      <th>italic_text_count</th>\n",
       "      <th>mean_image_size</th>\n",
       "      <th>n_images</th>\n",
       "      <th>n_lists</th>\n",
       "      <th>n_vids</th>\n",
       "      <th>n_links</th>\n",
       "      <th>language</th>\n",
       "    </tr>\n",
       "    <tr>\n",
       "      <th>idx</th>\n",
       "      <th></th>\n",
       "      <th></th>\n",
       "      <th></th>\n",
       "      <th></th>\n",
       "      <th></th>\n",
       "      <th></th>\n",
       "      <th></th>\n",
       "      <th></th>\n",
       "      <th></th>\n",
       "      <th></th>\n",
       "      <th></th>\n",
       "      <th></th>\n",
       "      <th></th>\n",
       "      <th></th>\n",
       "      <th></th>\n",
       "      <th></th>\n",
       "      <th></th>\n",
       "    </tr>\n",
       "  </thead>\n",
       "  <tbody>\n",
       "    <tr>\n",
       "      <th>158</th>\n",
       "      <td>Creating and training a U-Net model with PyTor...</td>\n",
       "      <td>Towards Data Science</td>\n",
       "      <td>Johannes Schmidt</td>\n",
       "      <td>157</td>\n",
       "      <td>10</td>\n",
       "      <td>1921</td>\n",
       "      <td>In this series (4 parts) we will perform seman...</td>\n",
       "      <td>02/12/2020</td>\n",
       "      <td>6</td>\n",
       "      <td>3</td>\n",
       "      <td>2</td>\n",
       "      <td>(673, 397)</td>\n",
       "      <td>5</td>\n",
       "      <td>2</td>\n",
       "      <td>0</td>\n",
       "      <td>23</td>\n",
       "      <td>en</td>\n",
       "    </tr>\n",
       "    <tr>\n",
       "      <th>118</th>\n",
       "      <td>Convolutions and Backpropagations</td>\n",
       "      <td>None</td>\n",
       "      <td>Pavithra Solai</td>\n",
       "      <td>None</td>\n",
       "      <td>8</td>\n",
       "      <td>1197</td>\n",
       "      <td>Ever since AlexNet won the ImageNet competitio...</td>\n",
       "      <td>19/03/2018</td>\n",
       "      <td>0</td>\n",
       "      <td>79</td>\n",
       "      <td>34</td>\n",
       "      <td>(654, 448)</td>\n",
       "      <td>29</td>\n",
       "      <td>1</td>\n",
       "      <td>0</td>\n",
       "      <td>4</td>\n",
       "      <td>en</td>\n",
       "    </tr>\n",
       "  </tbody>\n",
       "</table>\n",
       "</div>"
      ],
      "text/plain": [
       "                                                 title           publication  \\\n",
       "idx                                                                            \n",
       "158  Creating and training a U-Net model with PyTor...  Towards Data Science   \n",
       "118                  Convolutions and Backpropagations                  None   \n",
       "\n",
       "               author followers reading_time n_words  \\\n",
       "idx                                                    \n",
       "158  Johannes Schmidt       157           10    1921   \n",
       "118    Pavithra Solai      None            8    1197   \n",
       "\n",
       "                                             pure_text        date  \\\n",
       "idx                                                                  \n",
       "158  In this series (4 parts) we will perform seman...  02/12/2020   \n",
       "118  Ever since AlexNet won the ImageNet competitio...  19/03/2018   \n",
       "\n",
       "    n_code_chunks bold_text_count italic_text_count mean_image_size n_images  \\\n",
       "idx                                                                            \n",
       "158             6               3                 2      (673, 397)        5   \n",
       "118             0              79                34      (654, 448)       29   \n",
       "\n",
       "    n_lists n_vids n_links language  \n",
       "idx                                  \n",
       "158       2      0      23       en  \n",
       "118       1      0       4       en  "
      ]
     },
     "execution_count": 464,
     "metadata": {},
     "output_type": "execute_result"
    }
   ],
   "source": [
    "df.sample(2)"
   ]
  },
  {
   "cell_type": "code",
   "execution_count": 491,
   "metadata": {},
   "outputs": [],
   "source": [
    "# df['target'] = train_data['claps']"
   ]
  },
  {
   "cell_type": "code",
   "execution_count": 474,
   "metadata": {},
   "outputs": [],
   "source": [
    "df.to_csv('new_features_test.csv')"
   ]
  },
  {
   "cell_type": "code",
   "execution_count": 582,
   "metadata": {},
   "outputs": [
    {
     "ename": "WebDriverException",
     "evalue": "Message: unknown error: cannot determine loading status\nfrom disconnected: received Inspector.detached event\n  (Session info: MicrosoftEdge=100.0.1185.44)\nStacktrace:\nBacktrace:\n\tMicrosoft::Applications::Events::EventProperties::unpack [0x00007FF70C849542+24834]\n\tMicrosoft::Applications::Events::time_ticks_t::time_ticks_t [0x00007FF70C786B42+523426]\n\tOrdinal0 [0x00007FF70C2813B5+660405]\n\tOrdinal0 [0x00007FF70C26E744+583492]\n\tOrdinal0 [0x00007FF70C26E0C9+581833]\n\tOrdinal0 [0x00007FF70C26D57E+578942]\n\tOrdinal0 [0x00007FF70C26C2C0+574144]\n\tOrdinal0 [0x00007FF70C26C843+575555]\n\tOrdinal0 [0x00007FF70C27AC5B+633947]\n\tOrdinal0 [0x00007FF70C26DEF1+581361]\n\tOrdinal0 [0x00007FF70C26EC37+584759]\n\tOrdinal0 [0x00007FF70C26E18F+582031]\n\tOrdinal0 [0x00007FF70C26D57E+578942]\n\tOrdinal0 [0x00007FF70C26C2C0+574144]\n\tOrdinal0 [0x00007FF70C26C67C+575100]\n\tOrdinal0 [0x00007FF70C282EE0+667360]\n\tOrdinal0 [0x00007FF70C2ECF02+1101570]\n\tOrdinal0 [0x00007FF70C2D7D9A+1015194]\n\tOrdinal0 [0x00007FF70C2EC467+1098855]\n\tOrdinal0 [0x00007FF70C2D7BB3+1014707]\n\tOrdinal0 [0x00007FF70C2AEAE0+846560]\n\tOrdinal0 [0x00007FF70C2AFED8+851672]\n\tMicrosoft::Applications::Events::EventProperty::to_string [0x00007FF70C44AAF8+846504]\n\tMicrosoft::Applications::Events::EventProperty::EventProperty [0x00007FF70C53B0A1+36529]\n\tMicrosoft::Applications::Events::EventProperty::EventProperty [0x00007FF70C53E3C2+49618]\n\tMicrosoft::Applications::Events::EventProperty::to_string [0x00007FF70C383976+31014]\n\tMicrosoft::Applications::Events::time_ticks_t::time_ticks_t [0x00007FF70C78DAC1+551969]\n\tMicrosoft::Applications::Events::time_ticks_t::time_ticks_t [0x00007FF70C7925D4+571188]\n\tMicrosoft::Applications::Events::time_ticks_t::time_ticks_t [0x00007FF70C79272D+571533]\n\tMicrosoft::Applications::Events::time_ticks_t::time_ticks_t [0x00007FF70C79B85E+608702]\n\tBaseThreadInitThunk [0x00007FFA28CF54E0+16]\n\tRtlUserThreadStart [0x00007FFA2A64485B+43]\n",
     "output_type": "error",
     "traceback": [
      "\u001b[1;31m---------------------------------------------------------------------------\u001b[0m",
      "\u001b[1;31mWebDriverException\u001b[0m                        Traceback (most recent call last)",
      "\u001b[1;32mc:\\Users\\Aleksey\\Documents\\[important]hackatons\\[a]ru_code\\championship\\claps_predictor\\baseline.ipynb Cell 36'\u001b[0m in \u001b[0;36m<module>\u001b[1;34m\u001b[0m\n\u001b[0;32m      <a href='vscode-notebook-cell:/c%3A/Users/Aleksey/Documents/%5Bimportant%5Dhackatons/%5Ba%5Dru_code/championship/claps_predictor/baseline.ipynb#ch0000020?line=2'>3</a>\u001b[0m page_url \u001b[39m=\u001b[39m train_data\u001b[39m.\u001b[39miloc[\u001b[39m289\u001b[39m]\u001b[39m.\u001b[39mlink\n\u001b[0;32m      <a href='vscode-notebook-cell:/c%3A/Users/Aleksey/Documents/%5Bimportant%5Dhackatons/%5Ba%5Dru_code/championship/claps_predictor/baseline.ipynb#ch0000020?line=3'>4</a>\u001b[0m driver \u001b[39m=\u001b[39m webdriver\u001b[39m.\u001b[39mEdge()\n\u001b[1;32m----> <a href='vscode-notebook-cell:/c%3A/Users/Aleksey/Documents/%5Bimportant%5Dhackatons/%5Ba%5Dru_code/championship/claps_predictor/baseline.ipynb#ch0000020?line=4'>5</a>\u001b[0m driver\u001b[39m.\u001b[39;49mget(page_url)\n\u001b[0;32m      <a href='vscode-notebook-cell:/c%3A/Users/Aleksey/Documents/%5Bimportant%5Dhackatons/%5Ba%5Dru_code/championship/claps_predictor/baseline.ipynb#ch0000020?line=5'>6</a>\u001b[0m time\u001b[39m.\u001b[39msleep(\u001b[39m3\u001b[39m)\n\u001b[0;32m      <a href='vscode-notebook-cell:/c%3A/Users/Aleksey/Documents/%5Bimportant%5Dhackatons/%5Ba%5Dru_code/championship/claps_predictor/baseline.ipynb#ch0000020?line=6'>7</a>\u001b[0m soup \u001b[39m=\u001b[39m BeautifulSoup(driver\u001b[39m.\u001b[39mpage_source, \u001b[39m'\u001b[39m\u001b[39mlxml\u001b[39m\u001b[39m'\u001b[39m)\n",
      "File \u001b[1;32m~\\AppData\\Local\\Programs\\Python\\Python39\\lib\\site-packages\\selenium\\webdriver\\remote\\webdriver.py:437\u001b[0m, in \u001b[0;36mWebDriver.get\u001b[1;34m(self, url)\u001b[0m\n\u001b[0;32m    <a href='file:///c%3A/Users/Aleksey/AppData/Local/Programs/Python/Python39/lib/site-packages/selenium/webdriver/remote/webdriver.py?line=432'>433</a>\u001b[0m \u001b[39mdef\u001b[39;00m \u001b[39mget\u001b[39m(\u001b[39mself\u001b[39m, url: \u001b[39mstr\u001b[39m) \u001b[39m-\u001b[39m\u001b[39m>\u001b[39m \u001b[39mNone\u001b[39;00m:\n\u001b[0;32m    <a href='file:///c%3A/Users/Aleksey/AppData/Local/Programs/Python/Python39/lib/site-packages/selenium/webdriver/remote/webdriver.py?line=433'>434</a>\u001b[0m     \u001b[39m\"\"\"\u001b[39;00m\n\u001b[0;32m    <a href='file:///c%3A/Users/Aleksey/AppData/Local/Programs/Python/Python39/lib/site-packages/selenium/webdriver/remote/webdriver.py?line=434'>435</a>\u001b[0m \u001b[39m    Loads a web page in the current browser session.\u001b[39;00m\n\u001b[0;32m    <a href='file:///c%3A/Users/Aleksey/AppData/Local/Programs/Python/Python39/lib/site-packages/selenium/webdriver/remote/webdriver.py?line=435'>436</a>\u001b[0m \u001b[39m    \"\"\"\u001b[39;00m\n\u001b[1;32m--> <a href='file:///c%3A/Users/Aleksey/AppData/Local/Programs/Python/Python39/lib/site-packages/selenium/webdriver/remote/webdriver.py?line=436'>437</a>\u001b[0m     \u001b[39mself\u001b[39;49m\u001b[39m.\u001b[39;49mexecute(Command\u001b[39m.\u001b[39;49mGET, {\u001b[39m'\u001b[39;49m\u001b[39murl\u001b[39;49m\u001b[39m'\u001b[39;49m: url})\n",
      "File \u001b[1;32m~\\AppData\\Local\\Programs\\Python\\Python39\\lib\\site-packages\\selenium\\webdriver\\remote\\webdriver.py:425\u001b[0m, in \u001b[0;36mWebDriver.execute\u001b[1;34m(self, driver_command, params)\u001b[0m\n\u001b[0;32m    <a href='file:///c%3A/Users/Aleksey/AppData/Local/Programs/Python/Python39/lib/site-packages/selenium/webdriver/remote/webdriver.py?line=422'>423</a>\u001b[0m response \u001b[39m=\u001b[39m \u001b[39mself\u001b[39m\u001b[39m.\u001b[39mcommand_executor\u001b[39m.\u001b[39mexecute(driver_command, params)\n\u001b[0;32m    <a href='file:///c%3A/Users/Aleksey/AppData/Local/Programs/Python/Python39/lib/site-packages/selenium/webdriver/remote/webdriver.py?line=423'>424</a>\u001b[0m \u001b[39mif\u001b[39;00m response:\n\u001b[1;32m--> <a href='file:///c%3A/Users/Aleksey/AppData/Local/Programs/Python/Python39/lib/site-packages/selenium/webdriver/remote/webdriver.py?line=424'>425</a>\u001b[0m     \u001b[39mself\u001b[39;49m\u001b[39m.\u001b[39;49merror_handler\u001b[39m.\u001b[39;49mcheck_response(response)\n\u001b[0;32m    <a href='file:///c%3A/Users/Aleksey/AppData/Local/Programs/Python/Python39/lib/site-packages/selenium/webdriver/remote/webdriver.py?line=425'>426</a>\u001b[0m     response[\u001b[39m'\u001b[39m\u001b[39mvalue\u001b[39m\u001b[39m'\u001b[39m] \u001b[39m=\u001b[39m \u001b[39mself\u001b[39m\u001b[39m.\u001b[39m_unwrap_value(\n\u001b[0;32m    <a href='file:///c%3A/Users/Aleksey/AppData/Local/Programs/Python/Python39/lib/site-packages/selenium/webdriver/remote/webdriver.py?line=426'>427</a>\u001b[0m         response\u001b[39m.\u001b[39mget(\u001b[39m'\u001b[39m\u001b[39mvalue\u001b[39m\u001b[39m'\u001b[39m, \u001b[39mNone\u001b[39;00m))\n\u001b[0;32m    <a href='file:///c%3A/Users/Aleksey/AppData/Local/Programs/Python/Python39/lib/site-packages/selenium/webdriver/remote/webdriver.py?line=427'>428</a>\u001b[0m     \u001b[39mreturn\u001b[39;00m response\n",
      "File \u001b[1;32m~\\AppData\\Local\\Programs\\Python\\Python39\\lib\\site-packages\\selenium\\webdriver\\remote\\errorhandler.py:247\u001b[0m, in \u001b[0;36mErrorHandler.check_response\u001b[1;34m(self, response)\u001b[0m\n\u001b[0;32m    <a href='file:///c%3A/Users/Aleksey/AppData/Local/Programs/Python/Python39/lib/site-packages/selenium/webdriver/remote/errorhandler.py?line=244'>245</a>\u001b[0m         alert_text \u001b[39m=\u001b[39m value[\u001b[39m'\u001b[39m\u001b[39malert\u001b[39m\u001b[39m'\u001b[39m]\u001b[39m.\u001b[39mget(\u001b[39m'\u001b[39m\u001b[39mtext\u001b[39m\u001b[39m'\u001b[39m)\n\u001b[0;32m    <a href='file:///c%3A/Users/Aleksey/AppData/Local/Programs/Python/Python39/lib/site-packages/selenium/webdriver/remote/errorhandler.py?line=245'>246</a>\u001b[0m     \u001b[39mraise\u001b[39;00m exception_class(message, screen, stacktrace, alert_text)  \u001b[39m# type: ignore[call-arg]  # mypy is not smart enough here\u001b[39;00m\n\u001b[1;32m--> <a href='file:///c%3A/Users/Aleksey/AppData/Local/Programs/Python/Python39/lib/site-packages/selenium/webdriver/remote/errorhandler.py?line=246'>247</a>\u001b[0m \u001b[39mraise\u001b[39;00m exception_class(message, screen, stacktrace)\n",
      "\u001b[1;31mWebDriverException\u001b[0m: Message: unknown error: cannot determine loading status\nfrom disconnected: received Inspector.detached event\n  (Session info: MicrosoftEdge=100.0.1185.44)\nStacktrace:\nBacktrace:\n\tMicrosoft::Applications::Events::EventProperties::unpack [0x00007FF70C849542+24834]\n\tMicrosoft::Applications::Events::time_ticks_t::time_ticks_t [0x00007FF70C786B42+523426]\n\tOrdinal0 [0x00007FF70C2813B5+660405]\n\tOrdinal0 [0x00007FF70C26E744+583492]\n\tOrdinal0 [0x00007FF70C26E0C9+581833]\n\tOrdinal0 [0x00007FF70C26D57E+578942]\n\tOrdinal0 [0x00007FF70C26C2C0+574144]\n\tOrdinal0 [0x00007FF70C26C843+575555]\n\tOrdinal0 [0x00007FF70C27AC5B+633947]\n\tOrdinal0 [0x00007FF70C26DEF1+581361]\n\tOrdinal0 [0x00007FF70C26EC37+584759]\n\tOrdinal0 [0x00007FF70C26E18F+582031]\n\tOrdinal0 [0x00007FF70C26D57E+578942]\n\tOrdinal0 [0x00007FF70C26C2C0+574144]\n\tOrdinal0 [0x00007FF70C26C67C+575100]\n\tOrdinal0 [0x00007FF70C282EE0+667360]\n\tOrdinal0 [0x00007FF70C2ECF02+1101570]\n\tOrdinal0 [0x00007FF70C2D7D9A+1015194]\n\tOrdinal0 [0x00007FF70C2EC467+1098855]\n\tOrdinal0 [0x00007FF70C2D7BB3+1014707]\n\tOrdinal0 [0x00007FF70C2AEAE0+846560]\n\tOrdinal0 [0x00007FF70C2AFED8+851672]\n\tMicrosoft::Applications::Events::EventProperty::to_string [0x00007FF70C44AAF8+846504]\n\tMicrosoft::Applications::Events::EventProperty::EventProperty [0x00007FF70C53B0A1+36529]\n\tMicrosoft::Applications::Events::EventProperty::EventProperty [0x00007FF70C53E3C2+49618]\n\tMicrosoft::Applications::Events::EventProperty::to_string [0x00007FF70C383976+31014]\n\tMicrosoft::Applications::Events::time_ticks_t::time_ticks_t [0x00007FF70C78DAC1+551969]\n\tMicrosoft::Applications::Events::time_ticks_t::time_ticks_t [0x00007FF70C7925D4+571188]\n\tMicrosoft::Applications::Events::time_ticks_t::time_ticks_t [0x00007FF70C79272D+571533]\n\tMicrosoft::Applications::Events::time_ticks_t::time_ticks_t [0x00007FF70C79B85E+608702]\n\tBaseThreadInitThunk [0x00007FFA28CF54E0+16]\n\tRtlUserThreadStart [0x00007FFA2A64485B+43]\n"
     ]
    }
   ],
   "source": [
    "#page_url = 'https://towardsdatascience.com/understanding-variational-autoencoders-vaes-f70510919f73'\n",
    "#page_url = 'https://medium.com/analytics-vidhya/how-to-maximize-claps-on-your-medium-articles-ce427cf327ff'\n",
    "page_url = train_data.iloc[289].link\n",
    "driver = webdriver.Edge()\n",
    "driver.get(page_url)\n",
    "time.sleep(3)\n",
    "soup = BeautifulSoup(driver.page_source, 'lxml')"
   ]
  },
  {
   "cell_type": "code",
   "execution_count": 559,
   "metadata": {},
   "outputs": [
    {
     "data": {
      "text/plain": [
       "'https://miro.medium.com/max/1400/0*IzfaloTjjKlATEWq'"
      ]
     },
     "execution_count": 559,
     "metadata": {},
     "output_type": "execute_result"
    }
   ],
   "source": [
    "soup.find('section').find('img').get('src')"
   ]
  },
  {
   "cell_type": "code",
   "execution_count": 501,
   "metadata": {},
   "outputs": [],
   "source": [
    "# если изображений не 0, а размер пустой, то заполнить средним"
   ]
  },
  {
   "cell_type": "code",
   "execution_count": 329,
   "metadata": {},
   "outputs": [
    {
     "name": "stdout",
     "output_type": "stream",
     "text": [
      "<class 'str'>\n"
     ]
    }
   ],
   "source": [
    "article_scrapper = ArticleScraper()\n",
    "check = article_scrapper.scrape(soup=soup)"
   ]
  },
  {
   "cell_type": "code",
   "execution_count": 292,
   "metadata": {},
   "outputs": [
    {
     "data": {
      "text/plain": [
       "['3', '7K']"
      ]
     },
     "execution_count": 292,
     "metadata": {},
     "output_type": "execute_result"
    }
   ],
   "source": [
    "fol_string.split('.')"
   ]
  },
  {
   "cell_type": "code",
   "execution_count": 313,
   "metadata": {},
   "outputs": [],
   "source": [
    "check_string='3m'"
   ]
  },
  {
   "cell_type": "code",
   "execution_count": 314,
   "metadata": {},
   "outputs": [],
   "source": []
  },
  {
   "cell_type": "code",
   "execution_count": 315,
   "metadata": {},
   "outputs": [
    {
     "data": {
      "text/plain": [
       "3000000"
      ]
     },
     "execution_count": 315,
     "metadata": {},
     "output_type": "execute_result"
    }
   ],
   "source": [
    "f(check_string)"
   ]
  },
  {
   "cell_type": "code",
   "execution_count": 300,
   "metadata": {},
   "outputs": [
    {
     "ename": "AttributeError",
     "evalue": "module 'numerize' has no attribute 'numerize'",
     "output_type": "error",
     "traceback": [
      "\u001b[1;31m---------------------------------------------------------------------------\u001b[0m",
      "\u001b[1;31mAttributeError\u001b[0m                            Traceback (most recent call last)",
      "\u001b[1;32mc:\\Users\\Aleksey\\Documents\\[important]hackatons\\[a]ru_code\\championship\\claps_predictor\\baseline.ipynb Cell 28'\u001b[0m in \u001b[0;36m<module>\u001b[1;34m\u001b[0m\n\u001b[1;32m----> <a href='vscode-notebook-cell:/c%3A/Users/Aleksey/Documents/%5Bimportant%5Dhackatons/%5Ba%5Dru_code/championship/claps_predictor/baseline.ipynb#ch0000055?line=0'>1</a>\u001b[0m numerize\u001b[39m.\u001b[39;49mnumerize(\u001b[39m10000\u001b[39m)\n",
      "\u001b[1;31mAttributeError\u001b[0m: module 'numerize' has no attribute 'numerize'"
     ]
    }
   ],
   "source": [
    "numerize.numerize(10000)"
   ]
  },
  {
   "cell_type": "code",
   "execution_count": 278,
   "metadata": {},
   "outputs": [
    {
     "data": {
      "text/plain": [
       "'24/09/2019'"
      ]
     },
     "execution_count": 278,
     "metadata": {},
     "output_type": "execute_result"
    }
   ],
   "source": [
    "datetime.datetime.strptime(date_string, '%b %d, %Y').strftime('%d/%m/%Y')"
   ]
  },
  {
   "cell_type": "code",
   "execution_count": 54,
   "metadata": {},
   "outputs": [
    {
     "name": "stdout",
     "output_type": "stream",
     "text": [
      "All done!\n"
     ]
    },
    {
     "data": {
      "text/html": [
       "<div>\n",
       "<style scoped>\n",
       "    .dataframe tbody tr th:only-of-type {\n",
       "        vertical-align: middle;\n",
       "    }\n",
       "\n",
       "    .dataframe tbody tr th {\n",
       "        vertical-align: top;\n",
       "    }\n",
       "\n",
       "    .dataframe thead th {\n",
       "        text-align: right;\n",
       "    }\n",
       "</style>\n",
       "<table border=\"1\" class=\"dataframe\">\n",
       "  <thead>\n",
       "    <tr style=\"text-align: right;\">\n",
       "      <th></th>\n",
       "      <th>title</th>\n",
       "      <th>subtitle</th>\n",
       "      <th>tags</th>\n",
       "      <th>author</th>\n",
       "      <th>h1_headers</th>\n",
       "      <th>h2_headers</th>\n",
       "      <th>paragraphs</th>\n",
       "      <th>blockquotes</th>\n",
       "      <th>bold_text</th>\n",
       "      <th>italic_text</th>\n",
       "      <th>n_figures</th>\n",
       "      <th>n_bullet_lists</th>\n",
       "      <th>n_numbered_lists</th>\n",
       "      <th>n_gists</th>\n",
       "      <th>n_code_chunks</th>\n",
       "      <th>n_vids</th>\n",
       "      <th>n_links</th>\n",
       "    </tr>\n",
       "  </thead>\n",
       "  <tbody>\n",
       "  </tbody>\n",
       "</table>\n",
       "</div>"
      ],
      "text/plain": [
       "Empty DataFrame\n",
       "Columns: [title, subtitle, tags, author, h1_headers, h2_headers, paragraphs, blockquotes, bold_text, italic_text, n_figures, n_bullet_lists, n_numbered_lists, n_gists, n_code_chunks, n_vids, n_links]\n",
       "Index: []"
      ]
     },
     "execution_count": 54,
     "metadata": {},
     "output_type": "execute_result"
    }
   ],
   "source": [
    "scrape_article(page_url)"
   ]
  },
  {
   "cell_type": "markdown",
   "metadata": {},
   "source": [
    "## Model training"
   ]
  },
  {
   "cell_type": "markdown",
   "metadata": {},
   "source": []
  },
  {
   "cell_type": "code",
   "execution_count": null,
   "metadata": {},
   "outputs": [],
   "source": []
  },
  {
   "cell_type": "markdown",
   "metadata": {},
   "source": [
    "## Model Evaluate"
   ]
  },
  {
   "cell_type": "code",
   "execution_count": null,
   "metadata": {},
   "outputs": [],
   "source": []
  }
 ],
 "metadata": {
  "interpreter": {
   "hash": "736c79110b90fcc0c5d76f382c6e50cefaa88c18e13916f93807986c023dc46d"
  },
  "kernelspec": {
   "display_name": "Python 3.9.10 64-bit",
   "language": "python",
   "name": "python3"
  },
  "language_info": {
   "codemirror_mode": {
    "name": "ipython",
    "version": 3
   },
   "file_extension": ".py",
   "mimetype": "text/x-python",
   "name": "python",
   "nbconvert_exporter": "python",
   "pygments_lexer": "ipython3",
   "version": "3.9.10"
  },
  "orig_nbformat": 4
 },
 "nbformat": 4,
 "nbformat_minor": 2
}
