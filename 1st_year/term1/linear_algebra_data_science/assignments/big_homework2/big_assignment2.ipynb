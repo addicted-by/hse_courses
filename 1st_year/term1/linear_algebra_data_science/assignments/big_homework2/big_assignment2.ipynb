{
 "cells": [
  {
   "attachments": {},
   "cell_type": "markdown",
   "metadata": {},
   "source": [
    "## Applied Linear Algebra Home Assignment 2"
   ]
  },
  {
   "attachments": {},
   "cell_type": "markdown",
   "metadata": {},
   "source": [
    "### 1. Find the best approximation matrix $A_1$ of rank 2 of the matrix A in the norm $||\\cdot||_2$ and find $||A-A_1||_2$, where  \n",
    "$$A = \\begin{bmatrix}-81 & -30 & 60 & -48\\\\\n",
    "78 & -42 & 24 & 36\\\\\n",
    "-42 & 21 & -72 & -12\n",
    "\\end{bmatrix}$$"
   ]
  },
  {
   "attachments": {},
   "cell_type": "markdown",
   "metadata": {},
   "source": [
    "### Solution:  \n",
    "\n",
    "Let us find at first SVD decomposition of this matrix $A$, which equals\n",
    "$$ A = U\\Sigma V^* $$\n",
    "After we find matrix $\\Sigma$ we should reduce its rank by 1 (to get the rank 2 and $\\Sigma_r$) and then get the matrix $A_1$, which equals\n",
    "$$ A_1 = R\\Sigma_r Q^*, $$\n",
    "where r = 2."
   ]
  },
  {
   "cell_type": "code",
   "execution_count": 5,
   "metadata": {
    "pycharm": {
     "is_executing": true
    }
   },
   "outputs": [
    {
     "name": "stdout",
     "output_type": "stream",
     "text": [
      "Matrix U:\n",
      "[[ 0.66666667  0.66666667 -0.33333333]\n",
      " [-0.66666667  0.33333333 -0.66666667]\n",
      " [ 0.33333333 -0.66666667 -0.66666667]]\n",
      "Matrix Sigma:\n",
      "[[135.   0.   0.]\n",
      " [  0. 108.   0.]\n",
      " [  0.   0.  27.]]\n",
      "Matrix Vh:\n",
      "[[-8.88888889e-01  1.11111111e-01  0.00000000e+00 -4.44444444e-01]\n",
      " [-6.66133815e-16 -4.44444444e-01  8.88888889e-01 -1.11111111e-01]\n",
      " [ 1.11111111e-01  8.88888889e-01  4.44444444e-01 -2.15105711e-16]]\n"
     ]
    }
   ],
   "source": [
    "# Finding SVD of matrix A\n",
    "import numpy as np\n",
    "import sympy as sp\n",
    "\n",
    "A = np.array([[-81, -30, 60, -48], \n",
    "              [78, -42, 24, 36],\n",
    "              [-42, 21, -72, -12]])\n",
    "U, s, Vh = np.linalg.svd(A, full_matrices=False)\n",
    "print('Matrix U:\\n{}\\nMatrix Sigma:\\n{}\\nMatrix Vh:\\n{}'.format(U,np.diag(s),Vh))\n"
   ]
  },
  {
   "attachments": {},
   "cell_type": "markdown",
   "metadata": {},
   "source": [
    "$$ A = U \\Sigma V^* = \\begin{bmatrix} 2/3 & 2/3 & -1/3 \\\\ -2/3 & 1/3 & -2/3 \\\\ 1/3 & -2/3 & -2/3 \\end{bmatrix} \\cdot \\begin{bmatrix} 135 & 0 & 0 \\\\ 0 & 108 & 0 \\\\ 0 & 0 & 27 \\end{bmatrix} \\cdot \\begin{bmatrix} -8/9 & 1/9 & 0 & -4/9 \\\\ 0 & -4/9 & 8/9 & -1/9 \\\\1/9 & 8/9 & 4/9 & 0\\end{bmatrix}$$\n"
   ]
  },
  {
   "cell_type": "code",
   "execution_count": 6,
   "metadata": {},
   "outputs": [
    {
     "data": {
      "text/plain": [
       "array([[13365, -5346,  -972],\n",
       "       [-5346,  9720, -6318],\n",
       "       [ -972, -6318,  7533]])"
      ]
     },
     "execution_count": 6,
     "metadata": {},
     "output_type": "execute_result"
    }
   ],
   "source": [
    "A @ A.T"
   ]
  },
  {
   "cell_type": "markdown",
   "metadata": {},
   "source": [
    "Now, let us reduce rank of matrix $\\Sigma$."
   ]
  },
  {
   "cell_type": "code",
   "execution_count": 2,
   "metadata": {},
   "outputs": [
    {
     "data": {
      "text/plain": [
       "array([[135.,   0.,   0.],\n",
       "       [  0., 108.,   0.],\n",
       "       [  0.,   0.,   0.]])"
      ]
     },
     "execution_count": 2,
     "metadata": {},
     "output_type": "execute_result"
    }
   ],
   "source": [
    "# Reducing rank of matrix Sigma to rnk=2\n",
    "S_rank = np.diag(s)\n",
    "S_rank[2,2] = 0\n",
    "S_rank"
   ]
  },
  {
   "attachments": {},
   "cell_type": "markdown",
   "metadata": {},
   "source": [
    "$$ \\Sigma_{rank} = \\begin{bmatrix} 135 & 0 & 0 \\\\ 0 & 108 & 0 \\\\ 0 & 0 & 0 \\end{bmatrix}$$\n",
    "where $rank=2$"
   ]
  },
  {
   "cell_type": "markdown",
   "metadata": {},
   "source": [
    "Now, let us compute matrix $A_r$ by using matrix $\\Sigma_r$."
   ]
  },
  {
   "cell_type": "code",
   "execution_count": 3,
   "metadata": {},
   "outputs": [
    {
     "name": "stdout",
     "output_type": "stream",
     "text": [
      "Matrix A_r:\n",
      "[[-80. -22.  64. -48.]\n",
      " [ 80. -26.  32.  36.]\n",
      " [-40.  37. -64. -12.]]\n",
      "Its rank: 2\n"
     ]
    }
   ],
   "source": [
    "# computing matrix A_1\n",
    "A_r = U @ S_rank @ Vh\n",
    "\n",
    "# checking matrix and its rank\n",
    "print('Matrix A_r:\\n{}\\nIts rank: {}'.format(A_r,np.linalg.matrix_rank(A_r)))"
   ]
  },
  {
   "attachments": {},
   "cell_type": "markdown",
   "metadata": {},
   "source": [
    "$$A_r = \\begin{bmatrix} -80 & -22 & 64 & -48\\\\ 80 & -26 & 32 & 36\\\\ -40 & 37 & -64 & -12\\end{bmatrix}$$"
   ]
  },
  {
   "cell_type": "markdown",
   "metadata": {},
   "source": [
    "So we have matrices $A$ and $A_r$. Let us find  $||A-A_r||_2$."
   ]
  },
  {
   "cell_type": "code",
   "execution_count": 4,
   "metadata": {
    "pycharm": {
     "is_executing": true
    }
   },
   "outputs": [
    {
     "name": "stdout",
     "output_type": "stream",
     "text": [
      "Difference of two matrices:\n",
      "[[ -1  -8  -3   0]\n",
      " [ -2 -16  -7   0]\n",
      " [ -3 -16  -9   0]]\n",
      "Second norm: 26.9491099563613\n"
     ]
    }
   ],
   "source": [
    "A_r = A_r.astype(int)\n",
    "A = A.astype(int)\n",
    "diff = A - A_r\n",
    "print(\"Difference of two matrices:\\n{}\".format(diff))\n",
    "_,s_diff,_ = np.linalg.svd(diff)\n",
    "print('Second norm: {}'.format(max(s_diff)))"
   ]
  },
  {
   "attachments": {},
   "cell_type": "markdown",
   "metadata": {},
   "source": [
    "$$||A-A_r||_2 = ||\\Sigma - \\Sigma_r||_2 = \\left\\lVert\\begin{bmatrix}\n",
    "-1 & -8 & -3 & 0\\\\-2 & -16 & -7 & 0\\\\-3 & -16 & -9 & 0\\end{bmatrix}\\right\\rVert_2 = max_{1\\leq i\\leq m}{\\ \\sigma_i}=26.95$$\n",
    "\n",
    "### Answer:\n",
    "$||A-A_r||_2\\approx\\sigma_{r+1}=27$"
   ]
  },
  {
   "attachments": {},
   "cell_type": "markdown",
   "metadata": {},
   "source": [
    "### 2. Estimate the relative error of the approximate solution $(1, 1)$ of the system $Ax = b$ in the norms $|\\cdot|_1$ and $|\\cdot|_2$ using the condition number of the matrix $A$, where\n",
    "$$A = \\begin{pmatrix} -2.99 & 0.05 \\\\ 1.04 & -6.18\\end{pmatrix}, b = \\begin{pmatrix} -3.03 \\\\-5.09\\end{pmatrix}$$"
   ]
  },
  {
   "attachments": {},
   "cell_type": "markdown",
   "metadata": {},
   "source": [
    "### Solution:\n",
    "$$\\hat{A} = \\begin{pmatrix} -3 & 0 \\\\ 1 & -6\\end{pmatrix}, \\hat{b} = \\begin{pmatrix} -3 \\\\-5\\end{pmatrix}, \\hat{x} = \\begin{pmatrix} 1 \\\\1\\end{pmatrix}$$\n",
    "\n",
    "$$\\delta x \\leq \\varkappa (A) (\\delta b + \\delta A)$$\n",
    "\n",
    "Condition number:  \n",
    "$$\\varkappa(A) \\approx \\varkappa(\\hat{A}) \\approx ||\\hat{A}||\\cdot||\\hat{A}^{-1}||$$\n",
    "\n",
    "$$\\delta A = \\dfrac{||\\Delta A||}{||\\hat{A}||}, \\ \\delta b = \\dfrac{||\\Delta b||}{||\\hat{b}||}"
   ]
  },
  {
   "cell_type": "markdown",
   "metadata": {},
   "source": [
    "So let us find at first the inverse matrix of $\\hat{A}$."
   ]
  },
  {
   "cell_type": "code",
   "execution_count": 5,
   "metadata": {},
   "outputs": [
    {
     "data": {
      "text/plain": [
       "array([[-0.33333333, -0.        ],\n",
       "       [-0.05555556, -0.16666667]])"
      ]
     },
     "execution_count": 5,
     "metadata": {},
     "output_type": "execute_result"
    }
   ],
   "source": [
    "A = np.array([[-3,0],[1,-6]])\n",
    "b = np.array([[-3,-5]])\n",
    "x = np.array([[1,1]])\n",
    "A_inv = np.linalg.inv(A)\n",
    "A_inv"
   ]
  },
  {
   "attachments": {},
   "cell_type": "markdown",
   "metadata": {},
   "source": [
    "$$A^{-1} = \\begin{pmatrix} -1/3 & 0\\\\ -1/18 & -1/6\\end{pmatrix}$$"
   ]
  },
  {
   "cell_type": "code",
   "execution_count": 6,
   "metadata": {},
   "outputs": [
    {
     "name": "stdout",
     "output_type": "stream",
     "text": [
      "kappa 1 of matrix A:  2.333333333333333\n"
     ]
    }
   ],
   "source": [
    "kappa_1 = max(np.sum(np.abs(A), axis=0))*max(np.sum(np.abs(A_inv), axis=0))\n",
    "print('kappa 1 of matrix A: ', kappa_1)"
   ]
  },
  {
   "attachments": {},
   "cell_type": "markdown",
   "metadata": {},
   "source": [
    "For the norm $|\\cdot|_1$ we have a condition number:\n",
    "$$\\varkappa_1 = max\\{4,6\\} \\cdot max\\{7/18, 3/18\\}= 6 \\cdot \\dfrac{7}{18} = \\dfrac{21}{9}$$"
   ]
  },
  {
   "attachments": {},
   "cell_type": "markdown",
   "metadata": {},
   "source": [
    "For the norm $|\\cdot|_2$ we have a condition number:\n",
    "$$\\varkappa_2 = \\frac{|\\lambda_{max}(A^*A)|}{|\\lambda_{min}(A^*A)|}$$\n",
    "Let us find $A^*A$ and then $\\varkappa_2$."
   ]
  },
  {
   "cell_type": "code",
   "execution_count": 7,
   "metadata": {},
   "outputs": [
    {
     "name": "stdout",
     "output_type": "stream",
     "text": [
      "Eigen values: [8.682178936723648, 37.317821063276355]\n",
      "Kappa 2 of matrix A:  4.298209163304667\n"
     ]
    }
   ],
   "source": [
    "AA = A.T @ A\n",
    "eigvals = sorted(np.linalg.eigvals(AA))\n",
    "kappa_2 = max(eigvals) / min(eigvals)\n",
    "print(f\"Eigen values: {eigvals}\")\n",
    "print('Kappa 2 of matrix A: ', kappa_2)"
   ]
  },
  {
   "cell_type": "code",
   "execution_count": 8,
   "metadata": {},
   "outputs": [
    {
     "name": "stdout",
     "output_type": "stream",
     "text": [
      "Singular Values: [37.31782106  8.68217894]\n",
      "Kappa 2 of matrix A:  2.073212281293131\n"
     ]
    }
   ],
   "source": [
    "_,singval,_ = np.linalg.svd(AA, full_matrices=True)\n",
    "print('Singular Values: {}'.format(singval))\n",
    "kappa_2 = np.sqrt(max(singval)/min(singval))\n",
    "print('Kappa 2 of matrix A: ', kappa_2)"
   ]
  },
  {
   "attachments": {},
   "cell_type": "markdown",
   "metadata": {},
   "source": [
    "So, we have eigenvalues:  \n",
    "$ \\lambda_{max} = 37.318,\\, \\lambda_{min} = 8.68$ and $\\varkappa_2 = 4.3$"
   ]
  },
  {
   "cell_type": "markdown",
   "metadata": {},
   "source": [
    "Let us now find $\\Delta b, \\delta_1 b,\\delta_2 b$ and $\\Delta A, \\delta_1 A,\\delta_2 A$."
   ]
  },
  {
   "cell_type": "code",
   "execution_count": 9,
   "metadata": {},
   "outputs": [
    {
     "name": "stdout",
     "output_type": "stream",
     "text": [
      "delta_1_b: 0.014999999999999958\n",
      "\n",
      "delta_2_b: 0.01626978433639918\n",
      "\n"
     ]
    }
   ],
   "source": [
    "A_real = np.array([[-2.99, 0.05],[1.04, -6.18]])\n",
    "b_real = np.array([[-3.03,-5.09]])\n",
    "Delta_b = b - b_real\n",
    "Delta_A = A - A_real\n",
    "\n",
    "\n",
    "delta_1_b = np.sum(np.abs(Delta_b))/np.sum(np.abs(b))\n",
    "delta_2_b = np.sqrt(np.sum(Delta_b**2))/np.sqrt(np.sum(b**2))\n",
    "\n",
    "print(\"\"\"delta_1_b: {}\\n\n",
    "delta_2_b: {}\\n\"\"\".format(delta_1_b,delta_2_b))"
   ]
  },
  {
   "cell_type": "code",
   "execution_count": 10,
   "metadata": {},
   "outputs": [
    {
     "name": "stdout",
     "output_type": "stream",
     "text": [
      "delta_1_A: 0.03833333333333328\n",
      "\n",
      "delta_2_A: 0.031146040806455853\n",
      "\n"
     ]
    }
   ],
   "source": [
    "delta_1_A = max(np.sum(np.abs(Delta_A),axis=0))/max(np.sum(np.abs(A),axis=0))\n",
    "\n",
    "dAdA = Delta_A.T @ Delta_A\n",
    "_,singval_dAdA,_ = np.linalg.svd(dAdA)\n",
    "delta_2_A = np.sqrt(max(singval_dAdA)/max(singval))\n",
    "delta_2_A\n",
    "print(\"\"\"delta_1_A: {}\\n\n",
    "delta_2_A: {}\\n\"\"\".format(delta_1_A,delta_2_A))"
   ]
  },
  {
   "attachments": {},
   "cell_type": "markdown",
   "metadata": {},
   "source": [
    "$$\\Delta b = \\begin{pmatrix}0.03 \\\\ 0.09\\end{pmatrix}$$\n",
    "\n",
    "$$\\Delta A = \\begin{pmatrix}0.01 & 0.05\\\\0.04 & -0.18\\end{pmatrix}$$"
   ]
  },
  {
   "attachments": {},
   "cell_type": "markdown",
   "metadata": {},
   "source": [
    "$$\\delta_1 b =\\frac{|\\Delta b|_1}{|b|_1}\\approx \\frac{|\\Delta b|_1}{|\\hat{b}|_1} = \\frac{0.12}{8}= 0.015$$\n",
    "\n",
    "$$\\delta_2 b =\\frac{|\\Delta b|_2}{|b|_2}\\approx \\frac{|\\Delta b|_2}{|\\hat{b}|_2} = \\frac{\\sqrt{0.03^2+0.09^2}}{\\sqrt{3^2+5^2}}= 0.0163$$\n",
    "\n",
    "$$\\delta_1 A =\\frac{|\\Delta A|_1}{|A|_1}\\approx \\frac{|\\Delta A|_1}{|\\hat{A}|_1} = \\frac{0.23}{6} = 0.0383$$\n",
    "\n",
    "For $\\delta_2 A$ we find $\\Delta A^* \\Delta A$ and then:  \n",
    "$$\\delta_2 A =\\frac{|\\Delta A|_2}{|A|_2}\\approx \\frac{|\\Delta A|_2}{|\\hat{A}|_2} =\\frac{\\sigma_1 (\\Delta A)}{\\sigma_1 (A)} = \\frac{\\sqrt{0.0362}}{\\sqrt{37.32}}= 0.0311$$"
   ]
  },
  {
   "cell_type": "markdown",
   "metadata": {},
   "source": [
    "Let's check the relative errors of solutions in our norms."
   ]
  },
  {
   "cell_type": "code",
   "execution_count": 11,
   "metadata": {},
   "outputs": [
    {
     "name": "stdout",
     "output_type": "stream",
     "text": [
      "Error 1 upper bound: 0.1244444444444442\n",
      "\n",
      "Error 1 lower bound: 0.02285714285714282\n",
      "\n",
      "Error 2 upper bound: 0.09830307101381466\n",
      "\n",
      "Error 2 lower bound: 0.0228707043512593\n",
      "\n"
     ]
    }
   ],
   "source": [
    "norm1_upper_bound = kappa_1*(delta_1_b+delta_1_A)\n",
    "norm2_upper_bound = kappa_2*(delta_2_b+delta_2_A)\n",
    "\n",
    "norm1_lower_bound = 1/kappa_1*(delta_1_b+delta_1_A)\n",
    "norm2_lower_bound = 1/kappa_2*(delta_2_b+delta_2_A)\n",
    "\n",
    "print(\"\"\"Error 1 upper bound: {}\\n\n",
    "Error 1 lower bound: {}\\n\n",
    "Error 2 upper bound: {}\\n\n",
    "Error 2 lower bound: {}\\n\"\"\".format(norm1_upper_bound,\n",
    "                                   norm1_lower_bound,\n",
    "                                   norm2_upper_bound,\n",
    "                                   norm2_lower_bound))"
   ]
  },
  {
   "attachments": {},
   "cell_type": "markdown",
   "metadata": {},
   "source": [
    "### Answer:\n",
    "Norm $|\\cdot|_2$ gives the lowest relative error $\\delta_2 x \\in [0.02287, 0.0983]$\n",
    "\n",
    "Norm $|\\cdot|_1$ gives the lowest relative error $\\delta_1 x \\in [0.02285, 0.124]$\n"
   ]
  },
  {
   "attachments": {},
   "cell_type": "markdown",
   "metadata": {},
   "source": [
    "### 3. Solve the system approximately and estimate the error of the solution in the norms $|\\cdot|_1$, $|\\cdot|_2$ and $|\\cdot|_{\\infty}$:\n",
    "$$ \\begin{cases} -2(6+\\varepsilon_1)x+2(1+\\varepsilon_2)y = 4+\\varepsilon_3 \\\\ 4x + (4+\\varepsilon_1)y = -3 + \\varepsilon_4 \\end{cases}$$\n",
    "\n",
    "### where the unknown numbers $\\varepsilon_j$ satisfy the conditions $|\\varepsilon_j| < 0.05$ for all $j=1,...,4$."
   ]
  },
  {
   "attachments": {},
   "cell_type": "markdown",
   "metadata": {},
   "source": [
    "### Solution:\n",
    "$$\\hat{A} = \\begin{pmatrix} -12 & 2 \\\\ 4 & 4\\end{pmatrix}, \\hat{b} = \\begin{pmatrix} 4 \\\\-3\\end{pmatrix}, \\hat{x} = \\begin{pmatrix} -\\dfrac{11}{28} \\\\[0.5cm] -\\dfrac{5}{14}\\end{pmatrix}$$\n",
    "Condition number:  \n",
    "$$\\varkappa(A) \\approx \\varkappa(\\hat{A}) \\approx ||\\hat{A}||\\cdot||\\hat{A}^{-1}||\n",
    "$$"
   ]
  },
  {
   "cell_type": "markdown",
   "metadata": {},
   "source": [
    "So let us find at first the inverse matrix of $\\hat{A}$."
   ]
  },
  {
   "cell_type": "code",
   "execution_count": 75,
   "metadata": {},
   "outputs": [
    {
     "data": {
      "text/plain": [
       "array([[-0.07142857,  0.03571429],\n",
       "       [ 0.07142857,  0.21428571]])"
      ]
     },
     "execution_count": 75,
     "metadata": {},
     "output_type": "execute_result"
    }
   ],
   "source": [
    "A = np.array([[-12, 2],[4, 4]])\n",
    "b = np.array([[4, -3]])\n",
    "x = np.array([[-11/28, -5/14]])\n",
    "A_inv = np.linalg.inv(A)\n",
    "A_inv"
   ]
  },
  {
   "attachments": {},
   "cell_type": "markdown",
   "metadata": {},
   "source": [
    "$$A^{-1} = \\begin{pmatrix}-\\dfrac{1}{14} & \\dfrac{1}{28}\\\\[0.5cm] \\dfrac{1}{14} & \\dfrac{3}{14}\\end{pmatrix}$$"
   ]
  },
  {
   "cell_type": "code",
   "execution_count": 82,
   "metadata": {},
   "outputs": [
    {
     "name": "stdout",
     "output_type": "stream",
     "text": [
      "Kappa 1 of matrix A:  4.0\n",
      "Kappa inf of matrix A:  4.0\n"
     ]
    }
   ],
   "source": [
    "kappa_1 = max(np.sum(np.abs(A),axis=0))*max(np.sum(np.abs(A_inv),axis=0))\n",
    "print('Kappa 1 of matrix A: ', kappa_1)\n",
    "kappa_inf = max(np.sum(np.abs(A),axis=1))*max(np.sum(np.abs(A_inv),axis=1))\n",
    "print('Kappa inf of matrix A: ', kappa_inf)"
   ]
  },
  {
   "attachments": {},
   "cell_type": "markdown",
   "metadata": {},
   "source": [
    "For the norm $|\\cdot|_1$ we have a condition number:\n",
    "$$\\varkappa_1 = max\\{16, 8\\} \\cdot max\\{\\dfrac{4}{28}, \\frac{7}{28}\\}= 4$$"
   ]
  },
  {
   "attachments": {},
   "cell_type": "markdown",
   "metadata": {},
   "source": [
    "For the norm $|\\cdot|_{\\infty}$ we have a condition number:\n",
    "$$\\varkappa_{\\infty} = max\\{14,8\\} \\cdot max\\{\\dfrac{8}{28}, \\frac{3}{28}\\}=4 $$"
   ]
  },
  {
   "attachments": {},
   "cell_type": "markdown",
   "metadata": {},
   "source": [
    "For the norm $|\\cdot|_2$ we have a condition number:\n",
    "$$\\varkappa_2 = \\sqrt{\\frac{\\lambda_{max}(A^*A)}{\\lambda_{min}(A^*A}}$$\n",
    "Let us find $A^*A$ and then $\\varkappa_2$."
   ]
  },
  {
   "cell_type": "code",
   "execution_count": 83,
   "metadata": {},
   "outputs": [
    {
     "name": "stdout",
     "output_type": "stream",
     "text": [
      "Singular Values: [160.45565982  19.54434018]\n",
      "Kappa 2 of matrix A:  2.073212281293131\n"
     ]
    }
   ],
   "source": [
    "AA = A.T @ A\n",
    "_,singval,_ = np.linalg.svd(AA, full_matrices=True)\n",
    "print('Singular Values: {}'.format(singval))\n",
    "kappa_2 = np.sqrt(max(singval)/min(singval))\n",
    "print('Kappa 2 of matrix A: ', kappa_2)"
   ]
  },
  {
   "attachments": {},
   "cell_type": "markdown",
   "metadata": {},
   "source": [
    "So, we have eigenvalues:  \n",
    "$ \\lambda_{max} = 160.455,\\, \\lambda_{min} = 19.544$ and $\\varkappa_2 = 2.073$"
   ]
  },
  {
   "cell_type": "markdown",
   "metadata": {},
   "source": [
    "Let us now find $\\Delta b$ and $\\Delta A$."
   ]
  },
  {
   "cell_type": "code",
   "execution_count": 84,
   "metadata": {},
   "outputs": [],
   "source": [
    "e1, e2, e3, e4 = sp.symbols('varepsilon1 varepsilon2 varepsilon3 varepsilon4')\n",
    "A_real = sp.Matrix([[-2*(6+e1), 2*(1+e2)],[4, 4+e1]])\n",
    "b_real = sp.Matrix([[4+e3, -3+e4]])"
   ]
  },
  {
   "cell_type": "code",
   "execution_count": 85,
   "metadata": {},
   "outputs": [
    {
     "name": "stdout",
     "output_type": "stream",
     "text": [
      "Delta A equals:\n"
     ]
    },
    {
     "data": {
      "text/latex": [
       "$\\displaystyle \\left[\\begin{matrix}- 2 \\varepsilon_{1} & 2 \\varepsilon_{2}\\\\0 & \\varepsilon_{1}\\end{matrix}\\right]$"
      ],
      "text/plain": [
       "Matrix([\n",
       "[-2*varepsilon1, 2*varepsilon2],\n",
       "[             0,   varepsilon1]])"
      ]
     },
     "execution_count": 85,
     "metadata": {},
     "output_type": "execute_result"
    }
   ],
   "source": [
    "Delta_A = A_real - sp.Matrix(A)\n",
    "Delta_b = b_real - sp.Matrix(b)\n",
    "print('Delta A equals:')\n",
    "Delta_A"
   ]
  },
  {
   "cell_type": "code",
   "execution_count": 86,
   "metadata": {},
   "outputs": [
    {
     "name": "stdout",
     "output_type": "stream",
     "text": [
      "Delta b equals:\n"
     ]
    },
    {
     "data": {
      "text/latex": [
       "$\\displaystyle \\left[\\begin{matrix}\\varepsilon_{3} & \\varepsilon_{4}\\end{matrix}\\right]$"
      ],
      "text/plain": [
       "Matrix([[varepsilon3, varepsilon4]])"
      ]
     },
     "execution_count": 86,
     "metadata": {},
     "output_type": "execute_result"
    }
   ],
   "source": [
    "print('Delta b equals:')\n",
    "Delta_b\n",
    "# Delta_b.subs([(e3,0.05),(e4,0.05)])"
   ]
  },
  {
   "cell_type": "markdown",
   "metadata": {
    "pycharm": {
     "name": "#%% md\n"
    }
   },
   "source": [
    "Because $\\varepsilon_j s$ are unknown and lie in interval of $(-0.05, 0.05)$ we will evaluate the solution by the maximum interval. Let us find epsilons, where sum of deltas $A$ and $b$ in terms of norm $|\\cdot|_1$ are maximum."
   ]
  },
  {
   "cell_type": "code",
   "execution_count": 87,
   "metadata": {},
   "outputs": [
    {
     "name": "stdout",
     "output_type": "stream",
     "text": [
      "(0.023035714285714288, 0.04, -0.05, -0.05, -0.05)\n"
     ]
    }
   ],
   "source": [
    "from operator import itemgetter\n",
    "\n",
    "delta_1_Ab_list = []\n",
    "for eps1 in np.arange(-0.05,0.05, 0.01).round(2):\n",
    "    for eps2 in np.arange(-0.05,0.05, 0.01).round(2):\n",
    "        for eps3 in np.arange(-0.05,0.05, 0.01).round(2):\n",
    "            for eps4 in np.arange(-0.05,0.05, 0.01).round(2):\n",
    "                Delta_b_new = Delta_b.subs([(e3,eps3),(e4,eps4)])\n",
    "                Delta_b_new = np.array(Delta_b_new).astype(np.float64)\n",
    "                Delta_A_new = Delta_A.subs([(e1, eps1),(e2,eps2)])\n",
    "                Delta_A_new = np.array(Delta_A_new).astype(np.float64)\n",
    "                \n",
    "                delta_1_b = np.sum(np.abs(Delta_b_new))/np.sum(np.abs(b))\n",
    "                delta_1_A = max(np.sum(np.absolute(Delta_A_new),axis=0))/max(np.sum(np.absolute(A),axis=0))\n",
    "                delta_1_Ab = delta_1_A + delta_1_b\n",
    "                \n",
    "                delta_1_Ab_list.append((delta_1_Ab,eps1,eps2,eps3,eps4))\n",
    "\n",
    "print(max(delta_1_Ab_list,key=itemgetter(1)))"
   ]
  },
  {
   "cell_type": "markdown",
   "metadata": {},
   "source": [
    "So, as we can see\n",
    "$$\\varepsilon_1 = 0.04$$\n",
    "$$\\varepsilon_2 = -0.05$$\n",
    "$$\\varepsilon_3 = -0.05$$\n",
    "$$\\varepsilon_4 = -0.05$$\n",
    "Let us substitute these epsilons into $A$ and $b$.\n",
    "We got:"
   ]
  },
  {
   "cell_type": "code",
   "execution_count": 92,
   "metadata": {
    "pycharm": {
     "name": "#%%\n"
    }
   },
   "outputs": [
    {
     "data": {
      "text/latex": [
       "$\\displaystyle \\left[\\begin{matrix}-0.08 & -0.1\\\\0 & 0.04\\end{matrix}\\right]$"
      ],
      "text/plain": [
       "Matrix([\n",
       "[-0.08, -0.1],\n",
       "[    0, 0.04]])"
      ]
     },
     "execution_count": 92,
     "metadata": {},
     "output_type": "execute_result"
    }
   ],
   "source": [
    "Delta_A = Delta_A.subs([(e1,0.04),(e2,-0.05)])\n",
    "Delta_A"
   ]
  },
  {
   "cell_type": "code",
   "execution_count": 89,
   "metadata": {
    "pycharm": {
     "name": "#%%\n"
    }
   },
   "outputs": [
    {
     "data": {
      "text/latex": [
       "$\\displaystyle \\left[\\begin{matrix}-0.05 & -0.05\\end{matrix}\\right]$"
      ],
      "text/plain": [
       "Matrix([[-0.05, -0.05]])"
      ]
     },
     "execution_count": 89,
     "metadata": {},
     "output_type": "execute_result"
    }
   ],
   "source": [
    "Delta_b = Delta_b.subs([(e3,-0.05),(e4,-0.05)])\n",
    "Delta_b"
   ]
  },
  {
   "cell_type": "markdown",
   "metadata": {},
   "source": [
    "For $|\\cdot|_1$:"
   ]
  },
  {
   "cell_type": "code",
   "execution_count": 95,
   "metadata": {
    "pycharm": {
     "name": "#%%\n"
    }
   },
   "outputs": [
    {
     "name": "stdout",
     "output_type": "stream",
     "text": [
      "delta_1_A:  0.00875000000000000\n",
      "delta_1_b:  0.0142857142857143\n"
     ]
    }
   ],
   "source": [
    "delta_1_b = np.sum(np.abs(Delta_b))/np.sum(np.abs(b))\n",
    "delta_1_A = max(np.sum(np.abs(Delta_A),axis=0))/max(np.sum(np.abs(A),axis=0))\n",
    "print('delta_1_A: ', delta_1_A)\n",
    "print('delta_1_b: ', delta_1_b)"
   ]
  },
  {
   "attachments": {},
   "cell_type": "markdown",
   "metadata": {
    "pycharm": {
     "name": "#%% md\n"
    }
   },
   "source": [
    "$$\\delta_1 A =\\frac{|\\Delta A|_1}{|A|_1}\\approx \\frac{|\\Delta A|_1}{|\\hat{A}|_1} = \\frac{0.14}{16}= 0.00875$$\n",
    "$$\\delta_1 b =\\frac{|\\Delta b|_1}{|b|_1}\\approx \\frac{|\\Delta b|_1}{|\\hat{b}|_1} = \\frac{0.1}{7}= 0.0142857$$"
   ]
  },
  {
   "cell_type": "markdown",
   "metadata": {},
   "source": [
    "For $|\\cdot|_2$:"
   ]
  },
  {
   "cell_type": "code",
   "execution_count": 96,
   "metadata": {
    "pycharm": {
     "name": "#%%\n"
    }
   },
   "outputs": [
    {
     "name": "stdout",
     "output_type": "stream",
     "text": [
      "delta_2_A:  0.010417068406560195\n",
      "delta_2_b:  0.014142135623730952\n"
     ]
    }
   ],
   "source": [
    "Delta_b_new = np.array(Delta_b).astype(np.float64)\n",
    "delta_2_b = np.sqrt(np.sum(Delta_b_new**2))/np.sqrt(np.sum(b**2))\n",
    "Delta_A_new = np.array(Delta_A).astype(np.float64)\n",
    "\n",
    "dAdA = Delta_A_new.T @ Delta_A_new\n",
    "_,singval_dAdA,_ = np.linalg.svd(dAdA)\n",
    "delta_2_A = np.sqrt(max(singval_dAdA)/max(singval))\n",
    "print('delta_2_A: ', delta_2_A)\n",
    "print('delta_2_b: ', delta_2_b)"
   ]
  },
  {
   "attachments": {},
   "cell_type": "markdown",
   "metadata": {},
   "source": [
    "For $\\delta_2 A$ we find $\\Delta A^* \\Delta A$ and then:  \n",
    "\n",
    "$$\\delta_2 A =\\frac{|\\Delta A|_2}{|A|_2}\\approx \\frac{|\\Delta A|_2}{|\\hat{A}|_2} =\\frac{\\sigma_1 (\\Delta A)}{\\sigma_1 (A)} = \\frac{\\sqrt{0.0174119}}{\\sqrt{160.455}}= 0.01042$$\n",
    "$$\\delta_2 b =\\frac{|\\Delta b|_2}{|b|_2}\\approx \\frac{|\\Delta b|_2}{|\\hat{b}|_2} = \\frac{\\sqrt{0.05^2+0.05^2}}{\\sqrt{3^2+4^2}}= 0.014142$$"
   ]
  },
  {
   "cell_type": "markdown",
   "metadata": {},
   "source": [
    "For $|\\cdot|_{\\infty}$:"
   ]
  },
  {
   "cell_type": "code",
   "execution_count": 108,
   "metadata": {
    "pycharm": {
     "name": "#%%\n"
    }
   },
   "outputs": [
    {
     "name": "stdout",
     "output_type": "stream",
     "text": [
      "delta_inf_A:  0.0128571428571429\n",
      "delta_inf_b:  0.0125000000000000\n"
     ]
    }
   ],
   "source": [
    "delta_inf_b = np.max(np.abs(Delta_b))/np.max(np.abs(b))\n",
    "delta_inf_A = max(np.sum(np.absolute(Delta_A),axis=1))/max(np.sum(np.absolute(A),axis=1))\n",
    "print('delta_inf_A: ', delta_inf_A)\n",
    "print('delta_inf_b: ', delta_inf_b)"
   ]
  },
  {
   "attachments": {},
   "cell_type": "markdown",
   "metadata": {},
   "source": [
    "$$\\delta_{\\infty} A =\\frac{|\\Delta A|_{\\infty}}{|A|_{\\infty}}\\approx \\frac{|\\Delta A|_{\\infty}}{|\\hat{A}|_{\\infty}} = \\frac{0.18}{14}= 0.01286$$\n",
    "$$\\delta_{\\infty} b =\\frac{|\\Delta b|_{\\infty}}{|b|_{\\infty}}\\approx \\frac{|\\Delta b|_{\\infty}}{|\\hat{b}|_{\\infty}} = \\frac{0.05}{4}= 0.0125$$"
   ]
  },
  {
   "cell_type": "markdown",
   "metadata": {},
   "source": [
    "Let's check the relative errors of solutions in our norms."
   ]
  },
  {
   "cell_type": "code",
   "execution_count": 114,
   "metadata": {},
   "outputs": [
    {
     "name": "stdout",
     "output_type": "stream",
     "text": [
      "Error 1 upper bound: 0.0921428571428572\n",
      "\n",
      "Error 2 upper bound: 0.07036898727173792\n",
      "\n",
      "Error Inf upper bound: 0.101428571428571\n"
     ]
    }
   ],
   "source": [
    "norm1_upper_bound = kappa_1*(delta_1_b+delta_1_A)\n",
    "norm2_upper_bound = kappa_2*(delta_2_b+delta_2_A)\n",
    "norm_inf_upper_bound = kappa_inf*(delta_inf_b+delta_inf_A)\n",
    "\n",
    "print(\"\"\"Error 1 upper bound: {}\\n\n",
    "Error 2 upper bound: {}\\n\n",
    "Error Inf upper bound: {}\"\"\".format(norm1_upper_bound,\n",
    "                                   norm2_upper_bound,\n",
    "                                   norm_inf_upper_bound))"
   ]
  },
  {
   "attachments": {},
   "cell_type": "markdown",
   "metadata": {},
   "source": [
    "### Answer:\n",
    "Approximate solution:\n",
    "$$\\hat{x} = \\begin{pmatrix} -\\dfrac{11}{28} \\\\[0.5cm] -\\dfrac{5}{14}\\end{pmatrix}$$\n",
    "Relative errors:\n",
    "$$\\delta_{1} x \\leq  0.092$$\n",
    "$$\\delta_{2} x \\leq 0.07036$$\n",
    "$$\\delta_{\\infty} x \\leq 0.10142$$"
   ]
  },
  {
   "attachments": {},
   "cell_type": "markdown",
   "metadata": {
    "pycharm": {
     "name": "#%% md\n"
    }
   },
   "source": [
    "### 4. Find the approximate inverse matrix to the matrix $A$ and evaluate the approximation error with respect to the uniform norm $||\\cdot||_1$, if the elements of the matrix $A$ are known with an absolute error of 0.01:\n",
    "$$A \\approx \\begin{pmatrix}-4 & -7\\\\-5 & 9\\end{pmatrix}$$"
   ]
  },
  {
   "attachments": {},
   "cell_type": "markdown",
   "metadata": {},
   "source": [
    "### Solution:\n",
    "$$A \\approx \\begin{pmatrix}-4 & -7\\\\-5 & 9\\end{pmatrix}$$\n",
    "$$\\hat{A} = \\begin{pmatrix}-4 & -7\\\\-5 & 9\\end{pmatrix}, \\varepsilon = 0.01$$\n",
    "\n",
    "The real matrix $A$ looks like\n",
    "$$A = \\begin{pmatrix}-4 & -7\\\\-5 & 9\\end{pmatrix}+\\begin{pmatrix}\\varepsilon_{11} & \\varepsilon_{12}\\\\\\varepsilon_{21} & \\varepsilon_{22}\\end{pmatrix},$$\n",
    "where $|\\varepsilon_{ij}|\\leq 0.01$\n",
    "\n",
    "Let us find inverse matrix of A.\n",
    "$$\\hat{A}^{-1} = \\frac{1}{det \\hat A}\\begin{pmatrix} 9 & 7\\\\5 & -4\\end{pmatrix}=\\frac{1}{-71}\\begin{pmatrix} 9 & 7\\\\5 & -4\\end{pmatrix}$$"
   ]
  },
  {
   "cell_type": "code",
   "execution_count": 117,
   "metadata": {
    "pycharm": {
     "name": "#%%\n"
    }
   },
   "outputs": [
    {
     "data": {
      "text/plain": [
       "array([[-0.12676056, -0.09859155],\n",
       "       [-0.07042254,  0.05633803]])"
      ]
     },
     "execution_count": 117,
     "metadata": {},
     "output_type": "execute_result"
    }
   ],
   "source": [
    "A_4 = np.array([[-4, -7],[-5, 9]])\n",
    "A_4_inv = np.linalg.inv(A_4)\n",
    "A_4_inv"
   ]
  },
  {
   "attachments": {},
   "cell_type": "markdown",
   "metadata": {
    "pycharm": {
     "name": "#%% md\n"
    }
   },
   "source": [
    "Let us find next the conditional number $\\varkappa$ in norm $|\\cdot|_1$.  \n",
    "And let us assume that $\\varkappa (A) \\approx \\varkappa(\\hat A)$"
   ]
  },
  {
   "attachments": {},
   "cell_type": "markdown",
   "metadata": {
    "pycharm": {
     "name": "#%% md\n"
    }
   },
   "source": [
    "$$\\varkappa_1(A) \\approx \\varkappa(\\hat{A}) \\approx ||\\hat{A}||_1\\cdot||\\hat A^{-1}||_1=max\\{16,9\\}\\cdot max\\{0.197, 0.155\\} = 16 \\cdot 0.197 = 3.155\n",
    "$$"
   ]
  },
  {
   "attachments": {},
   "cell_type": "markdown",
   "metadata": {
    "pycharm": {
     "name": "#%% md\n"
    }
   },
   "source": [
    "So,\n",
    "$$ \\delta A^{-1} \\leq \\frac{\\varkappa(\\hat A) \\delta \\varepsilon}{1-\\varkappa (\\hat A)\\delta \\epsilon}, \\delta \\varepsilon = \\frac {||\\varepsilon||}{||\\hat A||}$$"
   ]
  },
  {
   "attachments": {},
   "cell_type": "markdown",
   "metadata": {},
   "source": [
    "In our case with norm $|\\cdot|_1$ we have:  \n",
    "$$\\delta \\varepsilon = \\frac {||\\varepsilon||_1}{||\\hat A||_1}=\\frac {max\\{0.2,0.2\\}}{16}=0.0125$$\n",
    "Approximation error:\n",
    "$$ \\delta A^{-1} \\leq \\frac{\\varkappa_1(\\hat A) \\delta \\varepsilon}{1-\\varkappa_1 (\\hat A)\\delta \\varepsilon}=\\frac{3.155\\cdot 0.0125}{1-3.155\\cdot 0.0125}=0.0411$$"
   ]
  },
  {
   "attachments": {},
   "cell_type": "markdown",
   "metadata": {
    "pycharm": {
     "name": "#%% md\n"
    }
   },
   "source": [
    "### Answer:\n",
    "$$A^{-1} \\approx \\frac{1}{-71}\\begin{pmatrix} 9 & 7\\\\5 & -4\\end{pmatrix}$$\n",
    "$$ \\delta A^{-1} \\leq 0.0411$$"
   ]
  },
  {
   "attachments": {},
   "cell_type": "markdown",
   "metadata": {
    "collapsed": true,
    "pycharm": {
     "is_executing": true,
     "name": "#%% md\n"
    }
   },
   "source": [
    "### 5. Use simple iteration method for finding the solution of the given linear system.\n",
    "$$ \n",
    "\\left\\{\\begin{array}{c} 26x + 2y + 6z = 2, \\\\ 2x + 19y + 8z = 4, \\\\ 3x + 4y + 20z=3. \\end{array}\\right.\n",
    "$$\n",
    "\n",
    "### Determine the iteration number after which the approximation error for each coordinate does not exceed $0.01$ and find the corresponding approximate solution. Start with $x_0 = [0, 0, 0]^T$."
   ]
  },
  {
   "cell_type": "markdown",
   "metadata": {},
   "source": [
    "### Solution:"
   ]
  },
  {
   "attachments": {},
   "cell_type": "markdown",
   "metadata": {
    "pycharm": {
     "name": "#%% md\n"
    }
   },
   "source": [
    "So we have matrix A and vector b.\n",
    "$$A = \\begin{pmatrix}26 & 2 & 6\\\\2 & 19 & 8\\\\ 3 & 4 & 20\\end{pmatrix}$$\n",
    "$$B = \\begin{pmatrix}2\\\\4\\\\3\\end{pmatrix}$$"
   ]
  },
  {
   "cell_type": "markdown",
   "metadata": {},
   "source": [
    "Let us bring our system of linear equations to the next form:\n",
    "$$ x_{k+1} = P x_k+\\bar b, $$\n",
    "where $P=E-CA$ and $\\bar b = CB$.  \n",
    "We need to choose such $C$ that our iteration process converges, i.e. $||P||<1$.  \n",
    "All calculations will be in terms of norm $|\\cdot|_{\\infty}$."
   ]
  },
  {
   "cell_type": "code",
   "execution_count": 124,
   "metadata": {
    "pycharm": {
     "name": "#%%\n"
    }
   },
   "outputs": [],
   "source": [
    "A = np.array([[26, 2, 6],[2, 19, 8],[3, 4, 20]])\n",
    "\n",
    "B = np.array([2, 4, 3])\n",
    "\n",
    "epsilon = 0.01 "
   ]
  },
  {
   "attachments": {},
   "cell_type": "markdown",
   "metadata": {},
   "source": [
    "Let us find this matrix $C$, matrix $P$ and vector $b$.  \n",
    "$C = \\begin{pmatrix}\\frac{1}{26} & 0 & 0\\\\0 & \\frac{1}{19} & 0\\\\ 0 & 0 & \\frac{1}{20}\\end{pmatrix}$  \n",
    "$P = I-CA = \\begin{pmatrix} 1 & 0 & 0\\\\0 & 1 & 0\\\\ 0 & 0 & 1\\end{pmatrix}-\\begin{pmatrix}\\frac{1}{26} & 0 & 0\\\\0 & \\frac{1}{19} & 0\\\\ 0 & 0 & \\frac{1}{20}\\end{pmatrix}\\cdot\\begin{pmatrix}26 & 2 & 6\\\\2 & 19 & 8\\\\ 3 & 4 & 20\\end{pmatrix}$ \n",
    "\n",
    "\n",
    "Its norm will be $||P||_{\\infty}=0.53<1$. It means that iteration process converges.  \n",
    "\n",
    "\n",
    "$b = CB = \\begin{pmatrix}\\frac{1}{26} & 0 & 0\\\\0 & \\frac{1}{19} & 0\\\\ 0 & 0 & \\frac{1}{20}\\end{pmatrix} \\cdot \\begin{pmatrix}2\\\\4\\\\3\\end{pmatrix}= \\begin{pmatrix}0.07692308\\\\0.21052632\\\\0.15\\end{pmatrix}$"
   ]
  },
  {
   "cell_type": "code",
   "execution_count": 125,
   "metadata": {},
   "outputs": [
    {
     "name": "stdout",
     "output_type": "stream",
     "text": [
      "P:\n",
      " [[ 0.         -0.07692308 -0.23076923]\n",
      " [-0.10526316  0.         -0.42105263]\n",
      " [-0.15       -0.2         0.        ]]\n",
      "b:\n",
      " [0.07692308 0.21052632 0.15      ]\n",
      "Norm_infinity of Matrix P: 0.5263157894736842\n"
     ]
    }
   ],
   "source": [
    "C = np.array([[1/26, 0, 0],[0, 1/19, 0],[0, 0, 1/20]])\n",
    "I = np.eye(3)\n",
    "\n",
    "P = I - np.matmul(C, A)\n",
    "b = np.matmul(C,B)\n",
    "# Norm_infinity of Matrix\n",
    "P_norm = max(np.sum(np.absolute(P),axis=1)) # 0.5 < 1 -> converges\n",
    "print('P:\\n', P)\n",
    "print('b:\\n', b)\n",
    "print('Norm_infinity of Matrix P: {}'.format(P_norm))"
   ]
  },
  {
   "attachments": {},
   "cell_type": "markdown",
   "metadata": {},
   "source": [
    "In purpose to find the number of iterations of the process we will use priori condition:\n",
    "$$ m \\geq \\frac{ln(\\frac{\\varepsilon(1-||P||_{\\infty})}\n",
    "{||x^{(1)}-x^{(0)}||_{\\infty}})}{ln ||P||_{\\infty}}$$  \n",
    "$$||x^{(1)}-x^{(0)}||_{\\infty}=||b||_{\\infty} = ||\\begin{bmatrix} 0.07692308 & 0.21052632 & 0.15\\end{bmatrix}^T||_{\\infty}=0.21052632$$  \n",
    "$$ m \\geq \\frac{ln(\\frac{0.01*0.47)}{0.21052632})}{ln 0.5}=5.49$$\n",
    "Let us do the iteration process with number of iterations of 6 using this formula:\n",
    "$$ x_{k+1} = P x_k+\\bar b$$"
   ]
  },
  {
   "cell_type": "code",
   "execution_count": 132,
   "metadata": {
    "pycharm": {
     "name": "#%%\n"
    }
   },
   "outputs": [
    {
     "name": "stdout",
     "output_type": "stream",
     "text": [
      "5\n",
      "Number of iterations: 6\n",
      "[0.07692308 0.21052632 0.15      ]\n",
      "[0.02611336 0.13927126 0.09635628]\n",
      "[0.04397384 0.16720648 0.11822874]\n",
      "[0.03677748 0.15611697 0.10996263]\n",
      "[0.03953809 0.16035495 0.11325998]\n",
      "[0.03845116 0.158676   0.1119983 ]\n",
      "\n",
      "Solution: [0.03845116 0.158676   0.1119983 ]\n"
     ]
    }
   ],
   "source": [
    "# Initial and next values of x \n",
    "x_0 = np.array([0,0,0])\n",
    "x_1 = np.matmul(P, x_0) + b\n",
    "\n",
    "# Norm_infinity of Vector\n",
    "norm_diff = np.max(np.abs(x_1 - x_0))\n",
    "#apriori condition\n",
    "m = int(np.log(epsilon*(1-P_norm)/norm_diff)/np.log(P_norm))\n",
    "print(m)\n",
    "print('Number of iterations: {:.0f}'.format(m+1))\n",
    "\n",
    "#loop with number of iterations = 6\n",
    "x = x_0\n",
    "for i in range(int(m)+1):\n",
    "    x = np.matmul(P, x) + b\n",
    "    print(x)\n",
    "#     print('$$x_{}={}^T$$'.format(i+1, sp.latex(sp.Matrix(x.round(4)).T)))\n",
    "    \n",
    "print('\\nSolution: {}'.format(x))"
   ]
  },
  {
   "attachments": {},
   "cell_type": "markdown",
   "metadata": {},
   "source": [
    "### Answer:\n",
    "$$x_{ans}=\\left[\\begin{matrix}0.03845116 & 0.158676 & 0.1119983\\end{matrix}\\right]^T$$"
   ]
  },
  {
   "attachments": {},
   "cell_type": "markdown",
   "metadata": {
    "pycharm": {
     "name": "#%% md\n"
    }
   },
   "source": [
    "### 6. Find the most influential vertex in the graph:\n",
    "$$A = \\begin{bmatrix}1 & 0 & 1 & 0 & 0\\\\0 & 1 & 0 & 0 & 1\\\\0 & 1 & 0 & 1 & 0\\\\1 & 1 & 0 & 0 & 0\\\\0 & 1 & 0 & 0 & 1\\end{bmatrix}$$\n",
    "### using the PageRank algorithm with $β = 0.15$, where the graph adjacency matrix is defined as follows"
   ]
  },
  {
   "cell_type": "code",
   "execution_count": 133,
   "metadata": {
    "pycharm": {
     "name": "#%%\n"
    }
   },
   "outputs": [],
   "source": [
    "A = np.array([[1, 0, 1, 0, 0],\n",
    "              [0, 1, 0, 0, 1],\n",
    "              [0, 1, 0, 1, 0],\n",
    "              [1, 1, 0, 0, 0],\n",
    "              [0, 1, 0, 0, 1]])"
   ]
  },
  {
   "cell_type": "markdown",
   "metadata": {
    "pycharm": {
     "name": "#%% md\n"
    }
   },
   "source": [
    "Let us build matrix of possibilities $P$."
   ]
  },
  {
   "cell_type": "code",
   "execution_count": 134,
   "metadata": {
    "pycharm": {
     "name": "#%%\n"
    }
   },
   "outputs": [
    {
     "data": {
      "text/latex": [
       "$\\displaystyle \\left[\\begin{matrix}0.5 & 0 & 0.5 & 0 & 0\\\\0 & 0.5 & 0 & 0 & 0.5\\\\0 & 0.5 & 0 & 0.5 & 0\\\\0.5 & 0.5 & 0 & 0 & 0\\\\0 & 0.5 & 0 & 0 & 0.5\\end{matrix}\\right]$"
      ],
      "text/plain": [
       "Matrix([\n",
       "[0.5,   0, 0.5,   0,   0],\n",
       "[  0, 0.5,   0,   0, 0.5],\n",
       "[  0, 0.5,   0, 0.5,   0],\n",
       "[0.5, 0.5,   0,   0,   0],\n",
       "[  0, 0.5,   0,   0, 0.5]])"
      ]
     },
     "execution_count": 134,
     "metadata": {},
     "output_type": "execute_result"
    }
   ],
   "source": [
    "P = np.array([A[0]/2, A[1]/2, A[2]/2, A[3]/2, A[4]/2])\n",
    "sp.Matrix(P.round(3))"
   ]
  },
  {
   "cell_type": "markdown",
   "metadata": {
    "pycharm": {
     "name": "#%% md\n"
    }
   },
   "source": [
    "Now, let us build matrix $Q$ in order to find matrix $\\hat P$.  \n",
    "\n",
    "$$\\hat P = P\\cdot(1-\\beta)+Q\\cdot\\beta,$$\n",
    "where $\\beta = 0.15$"
   ]
  },
  {
   "cell_type": "code",
   "execution_count": 135,
   "metadata": {
    "pycharm": {
     "name": "#%%\n"
    }
   },
   "outputs": [
    {
     "data": {
      "text/latex": [
       "$\\displaystyle \\left[\\begin{matrix}0.455 & 0.03 & 0.455 & 0.03 & 0.03\\\\0.03 & 0.455 & 0.03 & 0.03 & 0.455\\\\0.03 & 0.455 & 0.03 & 0.455 & 0.03\\\\0.455 & 0.455 & 0.03 & 0.03 & 0.03\\\\0.03 & 0.455 & 0.03 & 0.03 & 0.455\\end{matrix}\\right]$"
      ],
      "text/plain": [
       "Matrix([\n",
       "[0.455,  0.03, 0.455,  0.03,  0.03],\n",
       "[ 0.03, 0.455,  0.03,  0.03, 0.455],\n",
       "[ 0.03, 0.455,  0.03, 0.455,  0.03],\n",
       "[0.455, 0.455,  0.03,  0.03,  0.03],\n",
       "[ 0.03, 0.455,  0.03,  0.03, 0.455]])"
      ]
     },
     "execution_count": 135,
     "metadata": {},
     "output_type": "execute_result"
    }
   ],
   "source": [
    "n = 5\n",
    "\n",
    "Q = np.ones((5,5))/n\n",
    "\n",
    "beta = 0.15\n",
    "\n",
    "P_hat = P * (1 - beta) + Q * beta\n",
    "\n",
    "sp.Matrix(P_hat)"
   ]
  },
  {
   "cell_type": "markdown",
   "metadata": {},
   "source": [
    "We will begin with $X_0$ with equal possibilities.\n",
    "$$X_0 = \\left[\\begin{matrix}0.2\\\\0.2\\\\0.2\\\\0.2\\\\0.2\\end{matrix}\\right]$$\n",
    "Iteration will process until the difference between $x_{i+1}$ and $x_{i}$ will be small enough ($\\varepsilon=0.001$)."
   ]
  },
  {
   "cell_type": "code",
   "execution_count": 136,
   "metadata": {},
   "outputs": [
    {
     "name": "stdout",
     "output_type": "stream",
     "text": [
      "[0.2   0.37  0.115 0.115 0.2  ]\n",
      "[0.1639 0.37   0.115  0.0789 0.2722]\n",
      "[0.1332 0.3854 0.0996 0.0789 0.303 ]\n",
      "[0.1201 0.3984 0.0866 0.0723 0.3225]\n",
      "[0.1118 0.4039 0.0811 0.0668 0.3364]\n",
      "[0.1059 0.4075 0.0775 0.0644 0.3446]\n",
      "[0.1024 0.41   0.075  0.0629 0.3497]\n",
      "[0.1003 0.4115 0.0735 0.0619 0.3528]\n",
      "[0.0989 0.4124 0.0726 0.0612 0.3548]\n",
      "[0.0981 0.413  0.072  0.0609 0.3561]\n",
      "[0.0975 0.4133 0.0717 0.0606 0.3568]\n"
     ]
    }
   ],
   "source": [
    "x = np.ones(5)/n\n",
    "cond = True\n",
    "i = 1\n",
    "while cond:\n",
    "    x_new = np.matmul(P_hat.T, x)\n",
    "    print(x_new.round(4))\n",
    "#     print('$$x_{}={}^T$$'.format(i,sp.latex(sp.Matrix(x_new.round(4)).T)))\n",
    "    diff = x_new - x\n",
    "    if (diff < 0.001).all():\n",
    "        cond = False\n",
    "    x = x_new\n",
    "    i += 1"
   ]
  },
  {
   "attachments": {},
   "cell_type": "markdown",
   "metadata": {},
   "source": [
    "### Answer:\n",
    "So the most infuential vertex in this Graph is vertex $2$ with possibility $P=0.4133$."
   ]
  }
 ],
 "metadata": {
  "kernelspec": {
   "display_name": "Python 3",
   "language": "python",
   "name": "python3"
  },
  "language_info": {
   "codemirror_mode": {
    "name": "ipython",
    "version": 3
   },
   "file_extension": ".py",
   "mimetype": "text/x-python",
   "name": "python",
   "nbconvert_exporter": "python",
   "pygments_lexer": "ipython3",
   "version": "3.10.8"
  },
  "vscode": {
   "interpreter": {
    "hash": "7abe41bf88626c8179a12d706309ac1665b0164ec3bd4c11d7418ed9f0904ed3"
   }
  }
 },
 "nbformat": 4,
 "nbformat_minor": 1
}
