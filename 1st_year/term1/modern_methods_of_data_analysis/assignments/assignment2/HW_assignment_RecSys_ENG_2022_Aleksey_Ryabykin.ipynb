{
 "cells": [
  {
   "cell_type": "markdown",
   "metadata": {
    "collapsed": true
   },
   "source": [
    "# \"Intro to Collaborative Filtering\" plus homework\n",
    "\n",
    "## Authors: Dmitry Ignatov\n",
    "Freely avaiable for non-commercial purposes. The code examples are based on T. Segaran [Programming Collective Intelligence book. Chapter 2](http://shop.oreilly.com/product/9780596529321.do)\n",
    "\n",
    "The homework talsk is formulated in the last cells. Please send the results to TA (futurelife@gmail.com) and the lecturer (dmitrii.ignatov@gmail.com) with a *mandatory* topic [MMDA-HW2-RecSys]-Your-Full-Name.\n",
    "\n",
    "\n",
    "\n",
    "### Deadlines: Soft – December 17, 22; Hard – December 19, 2022\n"
   ]
  },
  {
   "cell_type": "markdown",
   "metadata": {},
   "source": [
    "## Dictionary with user preferences"
   ]
  },
  {
   "cell_type": "code",
   "execution_count": 1,
   "metadata": {},
   "outputs": [],
   "source": [
    "# A dictionary of movie critics and their ratings of a small\n",
    "# set of movies\n",
    "\n",
    "critics={'Lisa Rose': {'Lady in the Water': 2.5, 'Snakes on a Plane': 3.5,\n",
    " 'Just My Luck': 3.0, 'Superman Returns': 3.5, 'You, Me and Dupree': 2.5, \n",
    " 'The Night Listener': 3.0},\n",
    "'Gene Seymour': {'Lady in the Water': 3.0, 'Snakes on a Plane': 3.5, \n",
    " 'Just My Luck': 1.5, 'Superman Returns': 5.0, 'The Night Listener': 3.0, \n",
    " 'You, Me and Dupree': 3.5}, \n",
    "'Michael Phillips': {'Lady in the Water': 2.5, 'Snakes on a Plane': 3.0,\n",
    " 'Superman Returns': 3.5, 'The Night Listener': 4.0},\n",
    "'Claudia Puig': {'Snakes on a Plane': 3.5, 'Just My Luck': 3.0,\n",
    " 'The Night Listener': 4.5, 'Superman Returns': 4.0, \n",
    " 'You, Me and Dupree': 2.5},\n",
    "'Mick LaSalle': {'Lady in the Water': 3.0, 'Snakes on a Plane': 4.0, \n",
    " 'Just My Luck': 2.0, 'Superman Returns': 3.0, 'The Night Listener': 3.0,\n",
    " 'You, Me and Dupree': 2.0}, \n",
    "'Jack Matthews': {'Lady in the Water': 3.0, 'Snakes on a Plane': 4.0,\n",
    " 'The Night Listener': 3.0, 'Superman Returns': 5.0, 'You, Me and Dupree': 3.5},\n",
    "'Toby': {'Snakes on a Plane':4.5,'You, Me and Dupree':1.0,'Superman Returns':4.0}}"
   ]
  },
  {
   "cell_type": "code",
   "execution_count": 2,
   "metadata": {},
   "outputs": [
    {
     "data": {
      "text/plain": [
       "{'Snakes on a Plane': 4.5, 'You, Me and Dupree': 1.0, 'Superman Returns': 4.0}"
      ]
     },
     "execution_count": 2,
     "metadata": {},
     "output_type": "execute_result"
    }
   ],
   "source": [
    "critics['Toby']"
   ]
  },
  {
   "cell_type": "code",
   "execution_count": 3,
   "metadata": {},
   "outputs": [
    {
     "data": {
      "text/plain": [
       "2.5"
      ]
     },
     "execution_count": 3,
     "metadata": {},
     "output_type": "execute_result"
    }
   ],
   "source": [
    "critics['Lisa Rose']['Lady in the Water']"
   ]
  },
  {
   "cell_type": "code",
   "execution_count": 4,
   "metadata": {},
   "outputs": [
    {
     "data": {
      "text/plain": [
       "3.1622776601683795"
      ]
     },
     "execution_count": 4,
     "metadata": {},
     "output_type": "execute_result"
    }
   ],
   "source": [
    "#Euclid distance\n",
    "from math import sqrt\n",
    "sqrt(pow(5-4,2)+pow(4-1,2))\n"
   ]
  },
  {
   "cell_type": "code",
   "execution_count": 5,
   "metadata": {},
   "outputs": [
    {
     "data": {
      "text/plain": [
       "0.6666666666666666"
      ]
     },
     "execution_count": 5,
     "metadata": {},
     "output_type": "execute_result"
    }
   ],
   "source": [
    "#distance-based simialrity \n",
    "1/(1+sqrt(pow(5-4.5,2)+pow(5-5,2)))"
   ]
  },
  {
   "cell_type": "code",
   "execution_count": 6,
   "metadata": {},
   "outputs": [],
   "source": [
    "from numpy import exp"
   ]
  },
  {
   "cell_type": "code",
   "execution_count": 7,
   "metadata": {},
   "outputs": [
    {
     "data": {
      "text/plain": [
       "0.9277434863285529"
      ]
     },
     "execution_count": 7,
     "metadata": {},
     "output_type": "execute_result"
    }
   ],
   "source": [
    "exp(-0.3*sqrt(pow(5-4.5,2)+pow(5-5,2))**2)\n"
   ]
  },
  {
   "cell_type": "code",
   "execution_count": 8,
   "metadata": {},
   "outputs": [],
   "source": [
    "from math import sqrt\n",
    "# Returns a distance-based similarity score for person1 and person2\n",
    "def sim_distance(prefs,person1,person2):\n",
    "# Get the list of shared_items\n",
    "    si={}\n",
    "    for item in prefs[person1]:\n",
    "        if item in prefs[person2]:\n",
    "            si[item]=1\n",
    "# if they have no ratings in common, return 0\n",
    "    if len(si)==0: return 0\n",
    "# Add up the squares of all the differences\n",
    "    sum_of_squares=sum([pow(prefs[person1][item]-prefs[person2][item],2)\n",
    "    for item in prefs[person1] if item in prefs[person2]])\n",
    "    return 1/(1+sum_of_squares)\n"
   ]
  },
  {
   "cell_type": "code",
   "execution_count": 9,
   "metadata": {},
   "outputs": [],
   "source": [
    "from math import sqrt\n",
    "# Returns a distance-based similarity score for person1 and person2\n",
    "def sim_kernel(prefs,person1,person2,alpha=0.3):\n",
    "# Get the list of shared_items\n",
    "    si={}\n",
    "    for item in prefs[person1]:\n",
    "        if item in prefs[person2]:\n",
    "            si[item]=1\n",
    "# if they have no ratings in common, return 0\n",
    "    if len(si)==0: return 0\n",
    "# Add up the squares of all the differences and take the wieghted exponent\n",
    "    sum_of_squares=sum([pow(prefs[person1][item]-prefs[person2][item],2)\n",
    "    for item in prefs[person1] if item in prefs[person2]])\n",
    "    return exp(-alpha*sum_of_squares)"
   ]
  },
  {
   "cell_type": "code",
   "execution_count": 10,
   "metadata": {},
   "outputs": [
    {
     "data": {
      "text/plain": [
       "0.3499377491111553"
      ]
     },
     "execution_count": 10,
     "metadata": {},
     "output_type": "execute_result"
    }
   ],
   "source": [
    "sim_kernel(critics, 'Lisa Rose','Toby')"
   ]
  },
  {
   "cell_type": "code",
   "execution_count": 11,
   "metadata": {},
   "outputs": [
    {
     "data": {
      "text/plain": [
       "0.2222222222222222"
      ]
     },
     "execution_count": 11,
     "metadata": {},
     "output_type": "execute_result"
    }
   ],
   "source": [
    "sim_distance(critics, 'Lisa Rose','Toby')"
   ]
  },
  {
   "cell_type": "code",
   "execution_count": 12,
   "metadata": {},
   "outputs": [],
   "source": [
    "# Returns the Pearson correlation coefficient for p1 and p2\n",
    "def sim_pearson(prefs,p1,p2):\n",
    " # Get the list of mutually rated items\n",
    "    si={}\n",
    "    for item in prefs[p1]: \n",
    "        if item in prefs[p2]: si[item]=1\n",
    "\n",
    "     # if they are no ratings in common, return 0\n",
    "    if len(si)==0: return 0\n",
    "\n",
    "    # The number of mutually rated movies\n",
    "    n=len(si)\n",
    "  \n",
    "    # Sums of all the preferences\n",
    "    sum1=sum([prefs[p1][it] for it in si])\n",
    "    sum2=sum([prefs[p2][it] for it in si])\n",
    "    # Sums of the squares\n",
    "    sum1Sq=sum([pow(prefs[p1][it],2) for it in si])\n",
    "    sum2Sq=sum([pow(prefs[p2][it],2) for it in si])\t\n",
    "  \n",
    "     # Sum of the products\n",
    "    pSum=sum([prefs[p1][it]*prefs[p2][it] for it in si]) #scalar product\n",
    "  \n",
    "     # Calculate r (Pearson score)\n",
    "    num=pSum-(sum1*sum2/n)\n",
    "    den=sqrt((sum1Sq-pow(sum1,2)/n)*(sum2Sq-pow(sum2,2)/n))\n",
    "    if den==0: return 0\n",
    "\n",
    "    r=num/den\n",
    "\n",
    "    return r"
   ]
  },
  {
   "cell_type": "code",
   "execution_count": 13,
   "metadata": {},
   "outputs": [
    {
     "data": {
      "text/plain": [
       "({'Snakes on a Plane': 3.5,\n",
       "  'Just My Luck': 3.0,\n",
       "  'The Night Listener': 4.5,\n",
       "  'Superman Returns': 4.0,\n",
       "  'You, Me and Dupree': 2.5},\n",
       " {'Lady in the Water': 3.0,\n",
       "  'Snakes on a Plane': 3.5,\n",
       "  'Just My Luck': 1.5,\n",
       "  'Superman Returns': 5.0,\n",
       "  'The Night Listener': 3.0,\n",
       "  'You, Me and Dupree': 3.5})"
      ]
     },
     "execution_count": 13,
     "metadata": {},
     "output_type": "execute_result"
    }
   ],
   "source": [
    "critics['Claudia Puig'], critics['Gene Seymour']"
   ]
  },
  {
   "cell_type": "code",
   "execution_count": 14,
   "metadata": {},
   "outputs": [
    {
     "data": {
      "text/plain": [
       "(0.31497039417435607, 0.14814814814814814)"
      ]
     },
     "execution_count": 14,
     "metadata": {},
     "output_type": "execute_result"
    }
   ],
   "source": [
    "sim_pearson(critics,'Claudia Puig','Gene Seymour'), sim_distance(critics, 'Lisa Rose','Gene Seymour')\n",
    "\n"
   ]
  },
  {
   "cell_type": "markdown",
   "metadata": {},
   "source": [
    "##  Ranking of critics"
   ]
  },
  {
   "cell_type": "code",
   "execution_count": null,
   "metadata": {},
   "outputs": [],
   "source": []
  },
  {
   "cell_type": "code",
   "execution_count": 15,
   "metadata": {},
   "outputs": [],
   "source": [
    "# Returns the best matches for person from the prefs dictionary. \n",
    "# Number of results and similarity function are optional params.\n",
    "\n",
    "def topMatches(prefs,person,n=5,similarity=sim_pearson):\n",
    "    scores=[(similarity(prefs,person,other),other)\n",
    "    for other in prefs if other!=person]\n",
    "    # Descending sorting\n",
    "    scores.sort( )\n",
    "    scores.reverse( )\n",
    "    return scores[0:n]\n"
   ]
  },
  {
   "cell_type": "code",
   "execution_count": 16,
   "metadata": {},
   "outputs": [
    {
     "data": {
      "text/plain": [
       "[(0.9912407071619299, 'Lisa Rose'),\n",
       " (0.9244734516419049, 'Mick LaSalle'),\n",
       " (0.8934051474415647, 'Claudia Puig')]"
      ]
     },
     "execution_count": 16,
     "metadata": {},
     "output_type": "execute_result"
    }
   ],
   "source": [
    "topMatches(critics,'Toby',n=3)"
   ]
  },
  {
   "cell_type": "code",
   "execution_count": 17,
   "metadata": {},
   "outputs": [
    {
     "data": {
      "text/plain": [
       "[(0.5091564206075492, 'Mick LaSalle'),\n",
       " (0.4723665527410147, 'Michael Phillips'),\n",
       " (0.37719235356315695, 'Claudia Puig')]"
      ]
     },
     "execution_count": 17,
     "metadata": {},
     "output_type": "execute_result"
    }
   ],
   "source": [
    "topMatches(critics,'Toby',n=3, similarity=sim_kernel)"
   ]
  },
  {
   "cell_type": "code",
   "execution_count": 18,
   "metadata": {},
   "outputs": [
    {
     "data": {
      "text/plain": [
       "[(0.3076923076923077, 'Mick LaSalle'),\n",
       " (0.2857142857142857, 'Michael Phillips'),\n",
       " (0.23529411764705882, 'Claudia Puig')]"
      ]
     },
     "execution_count": 18,
     "metadata": {},
     "output_type": "execute_result"
    }
   ],
   "source": [
    "topMatches(critics,'Toby',n=3, similarity=sim_distance)"
   ]
  },
  {
   "cell_type": "markdown",
   "metadata": {},
   "source": [
    "## Movie recommendation (User-based approach)"
   ]
  },
  {
   "cell_type": "code",
   "execution_count": 19,
   "metadata": {},
   "outputs": [],
   "source": [
    "# Gets recommendations for a person by using a weighted average\n",
    "# of every other user's rankings\n",
    "\n",
    "def getRecommendations(prefs,person,similarity=sim_pearson):\n",
    "    totals={}\n",
    "    simSums={}\n",
    "    for other in prefs:\n",
    "     # don't compare me to myself\n",
    "        if other==person: continue\n",
    "        sim=similarity(prefs,person,other)\n",
    "     # ignore scores of zero or lower\n",
    "        if sim<=0: continue\n",
    "        for item in prefs[other]:\n",
    "    # only score movies I haven't seen yet\n",
    "            if item not in prefs[person] or prefs[person][item]==0:\n",
    "     # Similarity * Score\n",
    "                totals.setdefault(item,0)\n",
    "                totals[item]+=prefs[other][item]*sim\n",
    "        # Sum of similarities\n",
    "                simSums.setdefault(item,0)\n",
    "                simSums[item]+=sim\n",
    "     # Create the normalized list\n",
    "    rankings=[(total/simSums[item],item) for item,total in totals.items( )]\n",
    "    # Return the sorted list\n",
    "    rankings.sort( )\n",
    "    rankings.reverse( )\n",
    "    return rankings"
   ]
  },
  {
   "cell_type": "code",
   "execution_count": 20,
   "metadata": {},
   "outputs": [
    {
     "data": {
      "text/plain": [
       "[(3.3477895267131017, 'The Night Listener'),\n",
       " (2.8325499182641614, 'Lady in the Water'),\n",
       " (2.530980703765565, 'Just My Luck')]"
      ]
     },
     "execution_count": 20,
     "metadata": {},
     "output_type": "execute_result"
    }
   ],
   "source": [
    "getRecommendations(critics,'Toby')\n"
   ]
  },
  {
   "cell_type": "code",
   "execution_count": 21,
   "metadata": {},
   "outputs": [
    {
     "data": {
      "text/plain": [
       "[(3.5469111370529656, 'The Night Listener'),\n",
       " (2.729687080418633, 'Lady in the Water'),\n",
       " (2.518799545549861, 'Just My Luck')]"
      ]
     },
     "execution_count": 21,
     "metadata": {},
     "output_type": "execute_result"
    }
   ],
   "source": [
    "getRecommendations(critics,'Toby', sim_kernel)"
   ]
  },
  {
   "cell_type": "code",
   "execution_count": 22,
   "metadata": {},
   "outputs": [
    {
     "data": {
      "text/plain": [
       "[(3.5002478401415877, 'The Night Listener'),\n",
       " (2.7561242939959363, 'Lady in the Water'),\n",
       " (2.461988486074374, 'Just My Luck')]"
      ]
     },
     "execution_count": 22,
     "metadata": {},
     "output_type": "execute_result"
    }
   ],
   "source": [
    "getRecommendations(critics,'Toby', sim_distance)"
   ]
  },
  {
   "cell_type": "markdown",
   "metadata": {},
   "source": [
    "## Items similarity\n",
    "\n",
    "How to replace \n",
    "\n",
    "{'Lisa Rose': {'Lady in the Water': 2.5, 'Snakes on a Plane': 3.5},\n",
    "'Gene Seymour': {'Lady in the Water': 3.0, 'Snakes on a Plane': 3.5}}\n",
    "\n",
    "by\n",
    "\n",
    "{'Lady in the Water':{'Lisa Rose':2.5,'Gene Seymour':3.0},\n",
    "'Snakes on a Plane':{'Lisa Rose':3.5,'Gene Seymour':3.5}}?\n"
   ]
  },
  {
   "cell_type": "code",
   "execution_count": 23,
   "metadata": {},
   "outputs": [],
   "source": [
    "def transformPrefs(prefs):\n",
    "    result={}\n",
    "    for person in prefs:\n",
    "        for item in prefs[person]:\n",
    "            result.setdefault(item,{})\n",
    "    # Flip item and person\n",
    "    \n",
    "            result[item][person]=prefs[person][item]\n",
    "    return result"
   ]
  },
  {
   "cell_type": "code",
   "execution_count": 24,
   "metadata": {},
   "outputs": [],
   "source": [
    "movies=transformPrefs(critics)\n"
   ]
  },
  {
   "cell_type": "code",
   "execution_count": 25,
   "metadata": {},
   "outputs": [
    {
     "data": {
      "text/plain": [
       "{'Lady in the Water': {'Lisa Rose': 2.5,\n",
       "  'Gene Seymour': 3.0,\n",
       "  'Michael Phillips': 2.5,\n",
       "  'Mick LaSalle': 3.0,\n",
       "  'Jack Matthews': 3.0},\n",
       " 'Snakes on a Plane': {'Lisa Rose': 3.5,\n",
       "  'Gene Seymour': 3.5,\n",
       "  'Michael Phillips': 3.0,\n",
       "  'Claudia Puig': 3.5,\n",
       "  'Mick LaSalle': 4.0,\n",
       "  'Jack Matthews': 4.0,\n",
       "  'Toby': 4.5},\n",
       " 'Just My Luck': {'Lisa Rose': 3.0,\n",
       "  'Gene Seymour': 1.5,\n",
       "  'Claudia Puig': 3.0,\n",
       "  'Mick LaSalle': 2.0},\n",
       " 'Superman Returns': {'Lisa Rose': 3.5,\n",
       "  'Gene Seymour': 5.0,\n",
       "  'Michael Phillips': 3.5,\n",
       "  'Claudia Puig': 4.0,\n",
       "  'Mick LaSalle': 3.0,\n",
       "  'Jack Matthews': 5.0,\n",
       "  'Toby': 4.0},\n",
       " 'You, Me and Dupree': {'Lisa Rose': 2.5,\n",
       "  'Gene Seymour': 3.5,\n",
       "  'Claudia Puig': 2.5,\n",
       "  'Mick LaSalle': 2.0,\n",
       "  'Jack Matthews': 3.5,\n",
       "  'Toby': 1.0},\n",
       " 'The Night Listener': {'Lisa Rose': 3.0,\n",
       "  'Gene Seymour': 3.0,\n",
       "  'Michael Phillips': 4.0,\n",
       "  'Claudia Puig': 4.5,\n",
       "  'Mick LaSalle': 3.0,\n",
       "  'Jack Matthews': 3.0}}"
      ]
     },
     "execution_count": 25,
     "metadata": {},
     "output_type": "execute_result"
    }
   ],
   "source": [
    "movies"
   ]
  },
  {
   "cell_type": "code",
   "execution_count": 26,
   "metadata": {},
   "outputs": [
    {
     "data": {
      "text/plain": [
       "[(0.7637626158259785, 'Lady in the Water'),\n",
       " (0.11180339887498941, 'Superman Returns'),\n",
       " (-0.3333333333333333, 'Just My Luck'),\n",
       " (-0.5663521139548527, 'The Night Listener'),\n",
       " (-0.6454972243679047, 'You, Me and Dupree')]"
      ]
     },
     "execution_count": 26,
     "metadata": {},
     "output_type": "execute_result"
    }
   ],
   "source": [
    "topMatches(movies,'Snakes on a Plane',5, sim_pearson)"
   ]
  },
  {
   "cell_type": "code",
   "execution_count": 27,
   "metadata": {},
   "outputs": [
    {
     "data": {
      "text/plain": [
       "[(0.2222222222222222, 'Lady in the Water'),\n",
       " (0.18181818181818182, 'The Night Listener'),\n",
       " (0.16666666666666666, 'Superman Returns'),\n",
       " (0.10526315789473684, 'Just My Luck'),\n",
       " (0.05128205128205128, 'You, Me and Dupree')]"
      ]
     },
     "execution_count": 27,
     "metadata": {},
     "output_type": "execute_result"
    }
   ],
   "source": [
    "topMatches(movies,'Snakes on a Plane',5, sim_distance)"
   ]
  },
  {
   "cell_type": "code",
   "execution_count": 28,
   "metadata": {},
   "outputs": [
    {
     "data": {
      "text/plain": [
       "[(3.352635310801229, 'Claudia Puig'), (2.4730878186968837, 'Toby')]"
      ]
     },
     "execution_count": 28,
     "metadata": {},
     "output_type": "execute_result"
    }
   ],
   "source": [
    "getRecommendations(movies,'Lady in the Water', sim_distance)"
   ]
  },
  {
   "cell_type": "markdown",
   "metadata": {},
   "source": [
    "## Item-based collaborative filtering"
   ]
  },
  {
   "cell_type": "code",
   "execution_count": 29,
   "metadata": {},
   "outputs": [],
   "source": [
    "def calculateSimilarItems(prefs,n=10):\n",
    "    # Create a dictionary of items showing which other items they\n",
    "  # are most similar to.\n",
    "    result={}\n",
    "    # Invert the preference matrix to be item-centric\n",
    "    itemPrefs=transformPrefs(prefs)\n",
    "    c=0\n",
    "    for item in itemPrefs:\n",
    "    # Status updates for large datasets\n",
    "        c+=1\n",
    "        if c%100==0: print(\"%d / %d\" % (c,len(itemPrefs)))\n",
    "    # Find the most similar items to this one\n",
    "        scores=topMatches(itemPrefs,item,n=n,similarity=sim_distance)\n",
    "        result[item]=scores\n",
    "    return result"
   ]
  },
  {
   "cell_type": "code",
   "execution_count": 30,
   "metadata": {},
   "outputs": [
    {
     "data": {
      "text/plain": [
       "{'Lady in the Water': [(0.4, 'You, Me and Dupree'),\n",
       "  (0.2857142857142857, 'The Night Listener'),\n",
       "  (0.2222222222222222, 'Snakes on a Plane'),\n",
       "  (0.2222222222222222, 'Just My Luck'),\n",
       "  (0.09090909090909091, 'Superman Returns')],\n",
       " 'Snakes on a Plane': [(0.2222222222222222, 'Lady in the Water'),\n",
       "  (0.18181818181818182, 'The Night Listener'),\n",
       "  (0.16666666666666666, 'Superman Returns'),\n",
       "  (0.10526315789473684, 'Just My Luck'),\n",
       "  (0.05128205128205128, 'You, Me and Dupree')],\n",
       " 'Just My Luck': [(0.2222222222222222, 'Lady in the Water'),\n",
       "  (0.18181818181818182, 'You, Me and Dupree'),\n",
       "  (0.15384615384615385, 'The Night Listener'),\n",
       "  (0.10526315789473684, 'Snakes on a Plane'),\n",
       "  (0.06451612903225806, 'Superman Returns')],\n",
       " 'Superman Returns': [(0.16666666666666666, 'Snakes on a Plane'),\n",
       "  (0.10256410256410256, 'The Night Listener'),\n",
       "  (0.09090909090909091, 'Lady in the Water'),\n",
       "  (0.06451612903225806, 'Just My Luck'),\n",
       "  (0.05333333333333334, 'You, Me and Dupree')],\n",
       " 'You, Me and Dupree': [(0.4, 'Lady in the Water'),\n",
       "  (0.18181818181818182, 'Just My Luck'),\n",
       "  (0.14814814814814814, 'The Night Listener'),\n",
       "  (0.05333333333333334, 'Superman Returns'),\n",
       "  (0.05128205128205128, 'Snakes on a Plane')],\n",
       " 'The Night Listener': [(0.2857142857142857, 'Lady in the Water'),\n",
       "  (0.18181818181818182, 'Snakes on a Plane'),\n",
       "  (0.15384615384615385, 'Just My Luck'),\n",
       "  (0.14814814814814814, 'You, Me and Dupree'),\n",
       "  (0.10256410256410256, 'Superman Returns')]}"
      ]
     },
     "execution_count": 30,
     "metadata": {},
     "output_type": "execute_result"
    }
   ],
   "source": [
    "itemsim=calculateSimilarItems(critics)\n",
    "itemsim"
   ]
  },
  {
   "cell_type": "code",
   "execution_count": 31,
   "metadata": {},
   "outputs": [],
   "source": [
    "def getRecommendedItems(prefs,itemMatch,user):\n",
    "    userRatings=prefs[user]\n",
    "    scores={}\n",
    "    totalSim={}\n",
    "\n",
    "    # Loop over items rated by this user\n",
    "    for (item,rating) in userRatings.items():\n",
    "        \n",
    "    # Loop over items similar to this one\n",
    "        for (similarity,item2) in itemMatch[item]:\n",
    "    # Ignore if this user has already rated this item\n",
    "            if item2 in userRatings: continue\n",
    "         # Weighted sum of rating times similarity\n",
    "            scores.setdefault(item2,0)\n",
    "            scores[item2]+=similarity*rating\n",
    "         # Sum of all the similarities\n",
    "            totalSim.setdefault(item2,0)\n",
    "            totalSim[item2]+=similarity\n",
    "            if totalSim[item2]==0: totalSim[item2]=0.0000001 # to avoid divison by zero\n",
    "    # Divide each total score by total weighting to get an average\n",
    "    rankings=[(score/totalSim[item],item) for item,score in scores.items( ) ]\n",
    "\n",
    "    # Return the rankings from highest to lowest\n",
    "    rankings.sort( )\n",
    "    rankings.reverse( )\n",
    "    return rankings"
   ]
  },
  {
   "cell_type": "code",
   "execution_count": 32,
   "metadata": {},
   "outputs": [
    {
     "data": {
      "text/plain": [
       "[(3.182634730538922, 'The Night Listener'),\n",
       " (2.5983318700614575, 'Just My Luck'),\n",
       " (2.4730878186968837, 'Lady in the Water')]"
      ]
     },
     "execution_count": 32,
     "metadata": {},
     "output_type": "execute_result"
    }
   ],
   "source": [
    "getRecommendedItems(critics,itemsim,'Toby')\n"
   ]
  },
  {
   "cell_type": "markdown",
   "metadata": {},
   "source": [
    "## Recommendations on MovieLens data \n",
    "\n",
    "Source: http://grouplens.org/datasets/movielens/"
   ]
  },
  {
   "cell_type": "code",
   "execution_count": 33,
   "metadata": {},
   "outputs": [],
   "source": [
    "def loadMovieLens(path='data/'):\n",
    "# Get movie titles\n",
    "    movies={}\n",
    "    for line in open(path+'/u.item'):\n",
    "        (id,title)=line.split('|')[0:2]\n",
    "        movies[id]=title\n",
    " # Load data\n",
    "    prefs={}\n",
    "    for line in open(path+'/u.data'):\n",
    "        (user,movieid,rating,ts)=line.split('\\t')\n",
    "        prefs.setdefault(user,{})\n",
    "        prefs[user][movies[movieid]]=float(rating)\n",
    "    return prefs"
   ]
  },
  {
   "cell_type": "code",
   "execution_count": 34,
   "metadata": {},
   "outputs": [],
   "source": [
    "prefs=loadMovieLens( )"
   ]
  },
  {
   "cell_type": "code",
   "execution_count": 35,
   "metadata": {},
   "outputs": [
    {
     "data": {
      "text/plain": [
       "{'Naked Gun 33 1/3: The Final Insult (1994)': 4.0,\n",
       " 'Con Air (1997)': 4.0,\n",
       " 'Sabrina (1995)': 4.0,\n",
       " 'Waterworld (1995)': 4.0,\n",
       " 'To Wong Foo, Thanks for Everything! Julie Newmar (1995)': 3.0,\n",
       " 'Clueless (1995)': 4.0,\n",
       " 'Jurassic Park (1993)': 5.0,\n",
       " 'Brady Bunch Movie, The (1995)': 2.0,\n",
       " 'Son in Law (1993)': 4.0,\n",
       " 'Indiana Jones and the Last Crusade (1989)': 5.0,\n",
       " 'Good, The Bad and The Ugly, The (1966)': 5.0,\n",
       " 'Dead Poets Society (1989)': 5.0,\n",
       " 'Dead Man Walking (1995)': 4.0,\n",
       " \"Joe's Apartment (1996)\": 2.0,\n",
       " 'GoldenEye (1995)': 4.0,\n",
       " 'M*A*S*H (1970)': 5.0,\n",
       " 'Something to Talk About (1995)': 2.0,\n",
       " 'Lightning Jack (1994)': 3.0,\n",
       " 'Big Green, The (1995)': 3.0,\n",
       " 'Cowboy Way, The (1994)': 3.0,\n",
       " \"Ulee's Gold (1997)\": 3.0,\n",
       " 'Addams Family Values (1993)': 2.0,\n",
       " '2001: A Space Odyssey (1968)': 5.0,\n",
       " 'Platoon (1986)': 3.0,\n",
       " 'Return of the Pink Panther, The (1974)': 4.0,\n",
       " 'Four Weddings and a Funeral (1994)': 5.0,\n",
       " 'Under Siege (1992)': 4.0,\n",
       " 'Ace Ventura: Pet Detective (1994)': 4.0,\n",
       " 'Die Hard: With a Vengeance (1995)': 4.0,\n",
       " 'Prefontaine (1997)': 5.0,\n",
       " 'Cops and Robbersons (1994)': 3.0,\n",
       " \"Pyromaniac's Love Story, A (1995)\": 3.0,\n",
       " 'Glory (1989)': 4.0,\n",
       " 'This Is Spinal Tap (1984)': 5.0,\n",
       " 'Multiplicity (1996)': 3.0,\n",
       " 'Tommy Boy (1995)': 4.0,\n",
       " 'Cool Hand Luke (1967)': 5.0,\n",
       " \"Monty Python's Life of Brian (1979)\": 4.0,\n",
       " 'Victor/Victoria (1982)': 4.0,\n",
       " 'Treasure of the Sierra Madre, The (1948)': 4.0,\n",
       " 'That Old Feeling (1997)': 4.0,\n",
       " 'Mrs. Doubtfire (1993)': 4.0,\n",
       " 'Professional, The (1994)': 4.0,\n",
       " 'True Lies (1994)': 5.0,\n",
       " 'Air Force One (1997)': 3.0,\n",
       " 'Speechless (1994)': 4.0,\n",
       " 'Sleepless in Seattle (1993)': 5.0,\n",
       " 'Young Frankenstein (1974)': 5.0,\n",
       " 'GoodFellas (1990)': 4.0,\n",
       " 'Fugitive, The (1993)': 5.0,\n",
       " 'In the Line of Fire (1993)': 5.0,\n",
       " 'Reality Bites (1994)': 3.0,\n",
       " 'Shadow, The (1994)': 3.0,\n",
       " 'Speed (1994)': 5.0,\n",
       " 'Batman Returns (1992)': 3.0,\n",
       " 'Conan the Barbarian (1981)': 3.0,\n",
       " 'Terminator 2: Judgment Day (1991)': 5.0,\n",
       " 'Strange Days (1995)': 3.0,\n",
       " 'Star Trek III: The Search for Spock (1984)': 4.0,\n",
       " \"Schindler's List (1993)\": 4.0,\n",
       " 'Sneakers (1992)': 4.0,\n",
       " 'Twelve Monkeys (1995)': 4.0,\n",
       " 'Switchblade Sisters (1975)': 2.0,\n",
       " 'Searching for Bobby Fischer (1993)': 4.0,\n",
       " 'Birdcage, The (1996)': 4.0,\n",
       " \"Singin' in the Rain (1952)\": 4.0,\n",
       " 'Shawshank Redemption, The (1994)': 5.0,\n",
       " 'Santa Clause, The (1994)': 4.0,\n",
       " 'Clear and Present Danger (1994)': 5.0,\n",
       " 'Dances with Wolves (1990)': 5.0,\n",
       " 'Deer Hunter, The (1978)': 3.0,\n",
       " 'Boot, Das (1981)': 4.0,\n",
       " 'Alien (1979)': 4.0,\n",
       " 'Speed 2: Cruise Control (1997)': 3.0,\n",
       " 'Maverick (1994)': 3.0,\n",
       " 'Jack (1996)': 3.0,\n",
       " 'Desperado (1995)': 3.0,\n",
       " 'Nutty Professor, The (1996)': 4.0,\n",
       " 'Batman (1989)': 3.0,\n",
       " 'Dave (1993)': 4.0,\n",
       " 'Crow, The (1994)': 3.0,\n",
       " 'Adventures of Robin Hood, The (1938)': 5.0,\n",
       " 'Blues Brothers, The (1980)': 5.0,\n",
       " 'Adventures of Priscilla, Queen of the Desert, The (1994)': 3.0,\n",
       " 'Raging Bull (1980)': 3.0,\n",
       " 'Batman & Robin (1997)': 4.0,\n",
       " 'Babe (1995)': 5.0,\n",
       " 'Raising Arizona (1987)': 3.0,\n",
       " 'Cliffhanger (1993)': 3.0,\n",
       " 'Top Gun (1986)': 5.0,\n",
       " 'Endless Summer 2, The (1994)': 3.0,\n",
       " 'Barcelona (1994)': 3.0,\n",
       " 'Twister (1996)': 4.0,\n",
       " 'Evil Dead II (1987)': 2.0,\n",
       " 'Sleepers (1996)': 4.0,\n",
       " 'Striptease (1996)': 2.0,\n",
       " 'Get Shorty (1995)': 5.0,\n",
       " 'So I Married an Axe Murderer (1993)': 2.0,\n",
       " 'Mission: Impossible (1996)': 4.0,\n",
       " 'Wizard of Oz, The (1939)': 5.0,\n",
       " 'Baby-Sitters Club, The (1995)': 2.0,\n",
       " 'When Harry Met Sally... (1989)': 5.0,\n",
       " 'Mother (1996)': 2.0,\n",
       " 'Star Trek IV: The Voyage Home (1986)': 5.0,\n",
       " 'Swimming with Sharks (1995)': 3.0,\n",
       " 'Net, The (1995)': 5.0,\n",
       " 'Private Benjamin (1980)': 4.0,\n",
       " 'Fargo (1996)': 5.0,\n",
       " 'Dumb & Dumber (1994)': 4.0,\n",
       " 'Stargate (1994)': 5.0,\n",
       " \"City Slickers II: The Legend of Curly's Gold (1994)\": 3.0,\n",
       " 'Hoop Dreams (1994)': 4.0,\n",
       " 'Young Guns (1988)': 3.0,\n",
       " 'Groundhog Day (1993)': 5.0,\n",
       " 'Bridge on the River Kwai, The (1957)': 5.0,\n",
       " 'Braveheart (1995)': 4.0,\n",
       " 'Vegas Vacation (1997)': 4.0,\n",
       " 'Michael (1996)': 4.0,\n",
       " 'Star Trek: The Wrath of Khan (1982)': 5.0,\n",
       " 'Muppet Treasure Island (1996)': 3.0,\n",
       " 'Nine Months (1995)': 4.0,\n",
       " 'Die Hard (1988)': 4.0,\n",
       " 'Bananas (1971)': 5.0,\n",
       " 'Forget Paris (1995)': 4.0,\n",
       " 'French Kiss (1995)': 5.0,\n",
       " 'Truth About Cats & Dogs, The (1996)': 4.0,\n",
       " 'Empire Strikes Back, The (1980)': 5.0,\n",
       " 'Dunston Checks In (1996)': 1.0,\n",
       " 'Star Trek: The Motion Picture (1979)': 3.0,\n",
       " 'Return of the Jedi (1983)': 5.0,\n",
       " 'Manchurian Candidate, The (1962)': 4.0,\n",
       " 'River Wild, The (1994)': 4.0,\n",
       " 'House Arrest (1996)': 3.0,\n",
       " 'Milk Money (1994)': 4.0,\n",
       " 'Godfather, The (1972)': 4.0,\n",
       " 'Low Down Dirty Shame, A (1994)': 3.0,\n",
       " 'Butch Cassidy and the Sundance Kid (1969)': 5.0,\n",
       " 'Wyatt Earp (1994)': 3.0,\n",
       " 'Star Wars (1977)': 5.0,\n",
       " 'To Kill a Mockingbird (1962)': 4.0,\n",
       " 'Magnificent Seven, The (1954)': 5.0,\n",
       " 'Back to the Future (1985)': 5.0,\n",
       " 'Hot Shots! Part Deux (1993)': 4.0,\n",
       " 'Great White Hype, The (1996)': 3.0,\n",
       " \"Dante's Peak (1997)\": 3.0,\n",
       " 'Matilda (1996)': 3.0,\n",
       " 'Junior (1994)': 4.0,\n",
       " 'Blade Runner (1982)': 4.0,\n",
       " 'Mars Attacks! (1996)': 3.0,\n",
       " 'My Favorite Year (1982)': 3.0,\n",
       " 'Broken Arrow (1996)': 3.0,\n",
       " 'Young Guns II (1990)': 2.0,\n",
       " 'Terminator, The (1984)': 5.0,\n",
       " 'Fish Called Wanda, A (1988)': 5.0,\n",
       " 'Down Periscope (1996)': 4.0,\n",
       " 'Hard Target (1993)': 4.0,\n",
       " 'Ed Wood (1994)': 3.0,\n",
       " 'Demolition Man (1993)': 3.0,\n",
       " 'Mask, The (1994)': 3.0,\n",
       " 'E.T. the Extra-Terrestrial (1982)': 3.0,\n",
       " 'Coneheads (1993)': 4.0,\n",
       " 'Man of the House (1995)': 3.0,\n",
       " 'That Thing You Do! (1996)': 4.0,\n",
       " 'Strictly Ballroom (1992)': 3.0,\n",
       " \"It's a Wonderful Life (1946)\": 5.0,\n",
       " 'Annie Hall (1977)': 4.0,\n",
       " 'Dragonheart (1996)': 4.0,\n",
       " 'Renaissance Man (1994)': 5.0,\n",
       " 'Kingpin (1996)': 4.0,\n",
       " 'In the Army Now (1994)': 4.0,\n",
       " 'Mighty Aphrodite (1995)': 3.0,\n",
       " \"Weekend at Bernie's (1989)\": 3.0,\n",
       " 'Clockwork Orange, A (1971)': 4.0,\n",
       " 'Heat (1995)': 3.0,\n",
       " 'Addicted to Love (1997)': 4.0,\n",
       " 'Program, The (1993)': 3.0,\n",
       " 'Grumpier Old Men (1995)': 4.0,\n",
       " 'Bad Boys (1995)': 4.0,\n",
       " 'American President, The (1995)': 5.0,\n",
       " 'Grease (1978)': 4.0,\n",
       " 'Full Metal Jacket (1987)': 4.0,\n",
       " 'Air Up There, The (1994)': 3.0,\n",
       " 'Home Alone (1990)': 4.0,\n",
       " 'Jimmy Hollywood (1994)': 3.0,\n",
       " 'I.Q. (1994)': 5.0,\n",
       " 'First Wives Club, The (1996)': 2.0,\n",
       " 'Boomerang (1992)': 3.0,\n",
       " 'Heathers (1989)': 3.0,\n",
       " 'While You Were Sleeping (1995)': 5.0,\n",
       " 'Star Trek: First Contact (1996)': 4.0,\n",
       " 'Independence Day (ID4) (1996)': 5.0,\n",
       " 'Lost World: Jurassic Park, The (1997)': 3.0,\n",
       " 'Raiders of the Lost Ark (1981)': 5.0,\n",
       " 'To Die For (1995)': 3.0,\n",
       " 'I Love Trouble (1994)': 3.0,\n",
       " 'Citizen Kane (1941)': 4.0,\n",
       " 'Sleeper (1973)': 4.0,\n",
       " 'Quiet Man, The (1952)': 5.0,\n",
       " 'Sting, The (1973)': 5.0,\n",
       " 'Up in Smoke (1978)': 3.0,\n",
       " 'Executive Decision (1996)': 3.0,\n",
       " 'Jeffrey (1995)': 3.0,\n",
       " 'Inkwell, The (1994)': 3.0,\n",
       " 'Serial Mom (1994)': 1.0,\n",
       " 'Pulp Fiction (1994)': 4.0,\n",
       " 'Supercop (1992)': 3.0,\n",
       " 'Major Payne (1994)': 3.0,\n",
       " 'Big Squeeze, The (1996)': 2.0,\n",
       " 'Days of Thunder (1990)': 5.0,\n",
       " 'Apocalypse Now (1979)': 4.0}"
      ]
     },
     "execution_count": 35,
     "metadata": {},
     "output_type": "execute_result"
    }
   ],
   "source": [
    "prefs['87']"
   ]
  },
  {
   "cell_type": "code",
   "execution_count": 36,
   "metadata": {},
   "outputs": [
    {
     "data": {
      "text/plain": [
       "210"
      ]
     },
     "execution_count": 36,
     "metadata": {},
     "output_type": "execute_result"
    }
   ],
   "source": [
    "len(prefs['87'])"
   ]
  },
  {
   "cell_type": "code",
   "execution_count": 37,
   "metadata": {
    "scrolled": true
   },
   "outputs": [
    {
     "data": {
      "text/plain": [
       "[(5.0, 'They Made Me a Criminal (1939)'),\n",
       " (5.0, 'Star Kid (1997)'),\n",
       " (5.0, 'Santa with Muscles (1996)'),\n",
       " (5.0, 'Saint of Fort Washington, The (1993)'),\n",
       " (5.0, 'Marlene Dietrich: Shadow and Light (1996) '),\n",
       " (5.0, 'Great Day in Harlem, A (1994)')]"
      ]
     },
     "execution_count": 37,
     "metadata": {},
     "output_type": "execute_result"
    }
   ],
   "source": [
    "getRecommendations(prefs,'87')[0:6]"
   ]
  },
  {
   "cell_type": "code",
   "execution_count": 38,
   "metadata": {},
   "outputs": [
    {
     "name": "stdout",
     "output_type": "stream",
     "text": [
      "100 / 1664\n",
      "200 / 1664\n",
      "300 / 1664\n",
      "400 / 1664\n",
      "500 / 1664\n",
      "600 / 1664\n",
      "700 / 1664\n",
      "800 / 1664\n",
      "900 / 1664\n",
      "1000 / 1664\n",
      "1100 / 1664\n",
      "1200 / 1664\n",
      "1300 / 1664\n",
      "1400 / 1664\n",
      "1500 / 1664\n",
      "1600 / 1664\n"
     ]
    }
   ],
   "source": [
    "itemsim=calculateSimilarItems(prefs,n=50)"
   ]
  },
  {
   "cell_type": "code",
   "execution_count": 39,
   "metadata": {},
   "outputs": [
    {
     "data": {
      "text/plain": [
       "[(1.0, 'Wonderland (1997)'),\n",
       " (1.0, 'Spice World (1997)'),\n",
       " (1.0, 'Sphere (1998)'),\n",
       " (1.0, 'Spawn (1997)'),\n",
       " (1.0, 'Shooting Fish (1997)'),\n",
       " (1.0, 'Shadow Conspiracy (1997)'),\n",
       " (1.0, 'Replacement Killers, The (1998)'),\n",
       " (1.0, 'Red Corner (1997)'),\n",
       " (1.0, 'Prophecy II, The (1998)'),\n",
       " (1.0, 'Playing God (1997)'),\n",
       " (1.0, 'Peacemaker, The (1997)'),\n",
       " (1.0, 'Murder at 1600 (1997)'),\n",
       " (1.0, 'Mortal Kombat: Annihilation (1997)'),\n",
       " (1.0, 'Magic Hour, The (1998)'),\n",
       " (1.0, 'Leading Man, The (1996)'),\n",
       " (1.0, 'Kull the Conqueror (1997)'),\n",
       " (1.0, 'Kicked in the Head (1997)'),\n",
       " (1.0, 'Jackal, The (1997)'),\n",
       " (1.0, 'Hugo Pool (1997)'),\n",
       " (1.0, 'How to Be a Player (1997)'),\n",
       " (1.0, 'Half Baked (1998)'),\n",
       " (1.0, 'Good Will Hunting (1997)'),\n",
       " (1.0, 'Four Days in September (1997)'),\n",
       " (1.0, 'Fire Down Below (1997)'),\n",
       " (1.0, 'Fast, Cheap & Out of Control (1997)'),\n",
       " (1.0, 'Fallen (1998)'),\n",
       " (1.0, 'Edge, The (1997)'),\n",
       " (1.0, 'Duoluo tianshi (1995)'),\n",
       " (1.0, 'Desperate Measures (1998)'),\n",
       " (1.0, \"Dante's Peak (1997)\"),\n",
       " (1.0, 'Dangerous Beauty (1998)'),\n",
       " (1.0, 'Assignment, The (1997)'),\n",
       " (1.0, 'As Good As It Gets (1997)'),\n",
       " (1.0, 'Apt Pupil (1998)'),\n",
       " (1.0, 'Amistad (1997)'),\n",
       " (1.0, 'Alien: Resurrection (1997)'),\n",
       " (1.0, 'Afterglow (1997)'),\n",
       " (0.5, 'Wings of the Dove, The (1997)'),\n",
       " (0.5, 'Volcano (1997)'),\n",
       " (0.5, \"Ulee's Gold (1997)\"),\n",
       " (0.5, 'U Turn (1997)'),\n",
       " (0.5, 'Tomorrow Never Dies (1997)'),\n",
       " (0.5, 'Tokyo Fist (1995)'),\n",
       " (0.5, 'Rosewood (1997)'),\n",
       " (0.5, 'Rainmaker, The (1997)'),\n",
       " (0.5, 'Phantoms (1998)'),\n",
       " (0.5, 'Night Flier (1997)'),\n",
       " (0.5, 'Mouse Hunt (1997)'),\n",
       " (0.5, 'MatchMaker, The (1997)'),\n",
       " (0.5, 'L.A. Confidential (1997)')]"
      ]
     },
     "execution_count": 39,
     "metadata": {},
     "output_type": "execute_result"
    }
   ],
   "source": [
    "itemsim['Star Kid (1997)']"
   ]
  },
  {
   "cell_type": "code",
   "execution_count": 40,
   "metadata": {},
   "outputs": [
    {
     "data": {
      "text/plain": [
       "[(5.0, \"What's Eating Gilbert Grape (1993)\"),\n",
       " (5.0, 'Vertigo (1958)'),\n",
       " (5.0, 'Usual Suspects, The (1995)'),\n",
       " (5.0, 'Toy Story (1995)'),\n",
       " (5.0, 'Titanic (1997)'),\n",
       " (5.0, 'Sword in the Stone, The (1963)'),\n",
       " (5.0, 'Stand by Me (1986)'),\n",
       " (5.0, 'Sling Blade (1996)'),\n",
       " (5.0, 'Silence of the Lambs, The (1991)'),\n",
       " (5.0, 'Shining, The (1980)'),\n",
       " (5.0, 'Shine (1996)'),\n",
       " (5.0, 'Sense and Sensibility (1995)'),\n",
       " (5.0, 'Scream (1996)'),\n",
       " (5.0, 'Rumble in the Bronx (1995)'),\n",
       " (5.0, 'Rock, The (1996)'),\n",
       " (5.0, 'Robin Hood: Prince of Thieves (1991)'),\n",
       " (5.0, 'Reservoir Dogs (1992)'),\n",
       " (5.0, 'Police Story 4: Project S (Chao ji ji hua) (1993)'),\n",
       " (5.0, 'House of the Spirits, The (1993)'),\n",
       " (5.0, 'Fresh (1994)'),\n",
       " (5.0, 'Denise Calls Up (1995)'),\n",
       " (5.0, 'Day the Sun Turned Cold, The (Tianguo niezi) (1994)'),\n",
       " (5.0, 'Before the Rain (Pred dozhdot) (1994)'),\n",
       " (5.0, 'Assignment, The (1997)'),\n",
       " (5.0, '1-900 (1994)'),\n",
       " (4.875, \"Ed's Next Move (1996)\"),\n",
       " (4.833333333333333, 'Anna (1996)'),\n",
       " (4.8, 'Dark City (1998)'),\n",
       " (4.75, 'Flower of My Secret, The (Flor de mi secreto, La) (1995)'),\n",
       " (4.75, 'Broken English (1996)')]"
      ]
     },
     "execution_count": 40,
     "metadata": {},
     "output_type": "execute_result"
    }
   ],
   "source": [
    "getRecommendedItems(prefs,itemsim,'87')[0:30]"
   ]
  },
  {
   "cell_type": "code",
   "execution_count": 41,
   "metadata": {},
   "outputs": [],
   "source": [
    "setIB=set([t[1] for t in  getRecommendedItems(prefs,itemsim,'87')[0:30]])"
   ]
  },
  {
   "cell_type": "code",
   "execution_count": 42,
   "metadata": {},
   "outputs": [],
   "source": [
    "setUB=set([t[1] for t in getRecommendations(prefs,'87')[0:30]])\n"
   ]
  },
  {
   "cell_type": "code",
   "execution_count": 43,
   "metadata": {},
   "outputs": [
    {
     "data": {
      "text/plain": [
       "{'Anna (1996)', 'Usual Suspects, The (1995)'}"
      ]
     },
     "execution_count": 43,
     "metadata": {},
     "output_type": "execute_result"
    }
   ],
   "source": [
    "setIB.intersection(setUB)"
   ]
  },
  {
   "attachments": {},
   "cell_type": "markdown",
   "metadata": {},
   "source": [
    "# Homework 2 (RecSys). Comparison of User-based and Item-based approaches\n",
    "\n",
    "1. Implement MAE  and RMSE errors' estimators for [Movie Lens](http://grouplens.org/datasets/movielens/) data with 100,000 ratings.  \n",
    "As a training set you need a file with .base extension, but a testing set has extension .test: the pairs of files u1.base and u1.test, ..., u5.base and u5.test. Each such pair is the 80%/20% random split of the input data for all users $u$ into test and training sets.\n",
    "2. For each method (user-based and item-based) plot MAE and RMSE dependence by the number of neighbours  in a range from 1 to 100 with a reasonable step.\n",
    "3. If you are not satisfied with your prediction quality (MAE>1.0), then try formulas 2.6 and 2.7 from the review http://files.grouplens.org/papers/FnT%20CF%20Recsys%20Survey.pdf.\n",
    "\n",
    "There are alternative formulas: $r_{u,i} = k\\sum\\limits_{u^\\prime \\in U}\\operatorname{sim}(u,u^\\prime)r_{u^\\prime, i} \\text{(the case of user-based model):}$\n",
    "$$r_{u,i} = \\frac{1}{N}\\sum\\limits_{u^\\prime \\in U}r_{u^\\prime, i}$$\n",
    "$$r_{u,i} = \\bar{r_u} +  k\\sum\\limits_{u^\\prime \\in U} sim(u,u^\\prime)(r_{u^\\prime, i}-\\bar{r_{u^\\prime}} ) \\text{, where } k =1/\\sum_{u^\\prime \\in U}|\\operatorname{sim}(u,u^\\prime)|.$$\n",
    "\n",
    "4. Compare the results as in 1 and 2. \n",
    "\n",
    "5. How MAE (RMSE) varies by the top-n size: $n \\in \\{1,3,5,10,15,20,30,40,50,100\\}$? \n",
    "\n",
    "6. Which movies are recommended more often -- popular with high ratings or rare ones (i.e. with low number of ratings) with high ratings?\n",
    "\n",
    "7. What to do if the neigbourhood (similar users or items to a target user or a certain item) is too small? How to evaluate the confidence of such recommendations? \n",
    "\n",
    "8. *Auxiliary.* How different are top-n list for user-based and item-based methods. Try to improve the results by grid search on $\\beta$ parameter for MAE (RMSE) minimisation in hybrid recommendations depending on the number of neighbours (or top-n size):\n",
    "$$\\beta\\cdot r^{user-based}_{ui} + (1-\\beta)\\cdot r^{item-based}_{ui}, \\text{ where } 0 \\leq \\beta \\leq 1.$$ \n",
    "\n"
   ]
  },
  {
   "cell_type": "code",
   "execution_count": 44,
   "metadata": {},
   "outputs": [],
   "source": [
    "import numpy as np\n",
    "import matplotlib.pyplot as plt\n",
    "from tqdm import tqdm\n",
    "\n",
    "def getNRecommendations(prefs, person, n: int, similarity=sim_pearson):\n",
    "    totals = {}\n",
    "    simSums = {}\n",
    "    # print(person, prefs)\n",
    "    n_closest = topMatches(prefs, person, n)\n",
    "    for i, other in n_closest:\n",
    "        if other == person: continue\n",
    "        sim = similarity(prefs, person, other)\n",
    "        if sim <= 0: continue\n",
    "        for item in prefs[other]:\n",
    "            if item not in prefs[person] or prefs[person][item] == 0:\n",
    "                totals.setdefault(item, 0)\n",
    "                totals[item] += sim * prefs[other][item] \n",
    "                simSums.setdefault(item,0)\n",
    "                simSums[item]+=sim\n",
    "    rankings=[(total/simSums[item],item) for item,total in totals.items( )]\n",
    "    rankings.sort(reverse=True)\n",
    "    return rankings"
   ]
  },
  {
   "cell_type": "code",
   "execution_count": 45,
   "metadata": {
    "collapsed": true
   },
   "outputs": [],
   "source": [
    "def loadMovieLens_train_test(path='data/', i:int = 1):\n",
    "# Get movie titles\n",
    "    movies={}\n",
    "    for line in open(path+'/u.item'):\n",
    "        (id,title)=line.split('|')[0:2]\n",
    "        movies[id]=title\n",
    " # Load data\n",
    "    prefs_train = {}\n",
    "    for line in open(path+f'/u{i}.base'):\n",
    "        (user,movieid,rating,ts)=line.split('\\t')\n",
    "        prefs_train.setdefault(user,{})\n",
    "        prefs_train[user][movies[movieid]]=float(rating)\n",
    "    prefs_test = {}\n",
    "    for line in open(path+f'/u{i}.test'):\n",
    "        (user,movieid,rating,ts)=line.split('\\t')\n",
    "        prefs_test.setdefault(user,{})\n",
    "        prefs_test[user][movies[movieid]]=float(rating)\n",
    "    return prefs_train, prefs_test"
   ]
  },
  {
   "attachments": {},
   "cell_type": "markdown",
   "metadata": {},
   "source": [
    "# 1.-2. MAE and RMSE errors\n",
    "Implement MAE  and RMSE errors' estimators for [Movie Lens](http://grouplens.org/datasets/movielens/) data with 100,000 ratings.  \n",
    "As a training set you need a file with .base extension, but a testing set has extension .test: the pairs of files u1.base and u1.test, ..., u5.base and u5.test. Each such pair is the 80%/20% random split of the input data for all users $u$ into test and training sets."
   ]
  },
  {
   "cell_type": "code",
   "execution_count": 46,
   "metadata": {},
   "outputs": [],
   "source": [
    "def error(y_test, preds, type_=\"mae\"):\n",
    "    preds = dict((x, y) for y, x in preds)\n",
    "\n",
    "    res = 0\n",
    "\n",
    "    for m, r in y_test.items():\n",
    "        if m in preds.keys():\n",
    "            res += abs(r - preds[m]) if type_ == \"mae\" else (r - preds[m])**2\n",
    "        else:\n",
    "            res += abs(r) if type_ == \"mae\" else r**2\n",
    "    res = res / len(y_test)\n",
    "    if type_==\"rmse\":\n",
    "        res = res ** 0.5\n",
    "    return res"
   ]
  },
  {
   "cell_type": "code",
   "execution_count": 47,
   "metadata": {},
   "outputs": [
    {
     "name": "stderr",
     "output_type": "stream",
     "text": [
      "100%|██████████| 5/5 [09:12<00:00, 110.50s/it]\n"
     ]
    }
   ],
   "source": [
    "n_neighbours = np.linspace(1, 100, 10).astype(int)\n",
    "mae_scores_ub = [0 for _ in n_neighbours]\n",
    "rmse_scores_ub = [0 for _ in n_neighbours]\n",
    "for i in tqdm(range(1, 6)):\n",
    "    train, test = loadMovieLens_train_test(i=i)\n",
    "    for j, n in enumerate(n_neighbours):\n",
    "        mae, rmse = 0, 0\n",
    "        for person in test.keys():\n",
    "            recs = getNRecommendations(train, person, n)\n",
    "            mae += error(test[person], recs)\n",
    "            rmse += error(test[person], recs, \"rmse\")\n",
    "        mae_scores_ub[j] += mae / len(test.keys())\n",
    "        rmse_scores_ub[j] += rmse / len(test.keys())   \n",
    "\n",
    "for i in range(len(mae_scores_ub)):\n",
    "    mae_scores_ub[i] /= 5\n",
    "    rmse_scores_ub[i] /= 5 "
   ]
  },
  {
   "cell_type": "code",
   "execution_count": 48,
   "metadata": {},
   "outputs": [
    {
     "data": {
      "text/plain": [
       "<matplotlib.legend.Legend at 0x24e0786a080>"
      ]
     },
     "execution_count": 48,
     "metadata": {},
     "output_type": "execute_result"
    },
    {
     "data": {
      "image/png": "[encoded data removed]",
      "text/plain": [
       "<Figure size 640x480 with 1 Axes>"
      ]
     },
     "metadata": {},
     "output_type": "display_data"
    }
   ],
   "source": [
    "plt.plot(n_neighbours, mae_scores_ub, label=\"MAE\")\n",
    "plt.plot(n_neighbours, rmse_scores_ub, label=\"RMSE\")\n",
    "plt.xlabel(\"Neighbours count\")\n",
    "plt.ylabel(\"Error\")\n",
    "plt.title(\"User-based approach\")\n",
    "plt.legend()"
   ]
  },
  {
   "cell_type": "code",
   "execution_count": 49,
   "metadata": {},
   "outputs": [
    {
     "name": "stderr",
     "output_type": "stream",
     "text": [
      "  0%|          | 0/5 [00:00<?, ?it/s]"
     ]
    },
    {
     "name": "stdout",
     "output_type": "stream",
     "text": [
      "100 / 1633\n",
      "200 / 1633\n",
      "300 / 1633\n",
      "400 / 1633\n",
      "500 / 1633\n",
      "600 / 1633\n",
      "700 / 1633\n",
      "800 / 1633\n",
      "900 / 1633\n",
      "1000 / 1633\n",
      "1100 / 1633\n",
      "1200 / 1633\n",
      "1300 / 1633\n",
      "1400 / 1633\n",
      "1500 / 1633\n",
      "1600 / 1633\n",
      "100 / 1633\n",
      "200 / 1633\n",
      "300 / 1633\n",
      "400 / 1633\n",
      "500 / 1633\n",
      "600 / 1633\n",
      "700 / 1633\n",
      "800 / 1633\n",
      "900 / 1633\n",
      "1000 / 1633\n",
      "1100 / 1633\n",
      "1200 / 1633\n",
      "1300 / 1633\n",
      "1400 / 1633\n",
      "1500 / 1633\n",
      "1600 / 1633\n",
      "100 / 1633\n",
      "200 / 1633\n",
      "300 / 1633\n",
      "400 / 1633\n",
      "500 / 1633\n",
      "600 / 1633\n",
      "700 / 1633\n",
      "800 / 1633\n",
      "900 / 1633\n",
      "1000 / 1633\n",
      "1100 / 1633\n",
      "1200 / 1633\n",
      "1300 / 1633\n",
      "1400 / 1633\n",
      "1500 / 1633\n",
      "1600 / 1633\n",
      "100 / 1633\n",
      "200 / 1633\n",
      "300 / 1633\n",
      "400 / 1633\n",
      "500 / 1633\n",
      "600 / 1633\n",
      "700 / 1633\n",
      "800 / 1633\n",
      "900 / 1633\n",
      "1000 / 1633\n",
      "1100 / 1633\n",
      "1200 / 1633\n",
      "1300 / 1633\n",
      "1400 / 1633\n",
      "1500 / 1633\n",
      "1600 / 1633\n",
      "100 / 1633\n",
      "200 / 1633\n",
      "300 / 1633\n",
      "400 / 1633\n",
      "500 / 1633\n",
      "600 / 1633\n",
      "700 / 1633\n",
      "800 / 1633\n",
      "900 / 1633\n",
      "1000 / 1633\n",
      "1100 / 1633\n",
      "1200 / 1633\n",
      "1300 / 1633\n",
      "1400 / 1633\n",
      "1500 / 1633\n",
      "1600 / 1633\n",
      "100 / 1633\n",
      "200 / 1633\n",
      "300 / 1633\n",
      "400 / 1633\n",
      "500 / 1633\n",
      "600 / 1633\n",
      "700 / 1633\n",
      "800 / 1633\n",
      "900 / 1633\n",
      "1000 / 1633\n",
      "1100 / 1633\n",
      "1200 / 1633\n",
      "1300 / 1633\n",
      "1400 / 1633\n",
      "1500 / 1633\n",
      "1600 / 1633\n",
      "100 / 1633\n",
      "200 / 1633\n",
      "300 / 1633\n",
      "400 / 1633\n",
      "500 / 1633\n",
      "600 / 1633\n",
      "700 / 1633\n",
      "800 / 1633\n",
      "900 / 1633\n",
      "1000 / 1633\n",
      "1100 / 1633\n",
      "1200 / 1633\n",
      "1300 / 1633\n",
      "1400 / 1633\n",
      "1500 / 1633\n",
      "1600 / 1633\n",
      "100 / 1633\n",
      "200 / 1633\n",
      "300 / 1633\n",
      "400 / 1633\n",
      "500 / 1633\n",
      "600 / 1633\n",
      "700 / 1633\n",
      "800 / 1633\n",
      "900 / 1633\n",
      "1000 / 1633\n",
      "1100 / 1633\n",
      "1200 / 1633\n",
      "1300 / 1633\n",
      "1400 / 1633\n",
      "1500 / 1633\n",
      "1600 / 1633\n",
      "100 / 1633\n",
      "200 / 1633\n",
      "300 / 1633\n",
      "400 / 1633\n",
      "500 / 1633\n",
      "600 / 1633\n",
      "700 / 1633\n",
      "800 / 1633\n",
      "900 / 1633\n",
      "1000 / 1633\n",
      "1100 / 1633\n",
      "1200 / 1633\n",
      "1300 / 1633\n",
      "1400 / 1633\n",
      "1500 / 1633\n",
      "1600 / 1633\n",
      "100 / 1633\n",
      "200 / 1633\n",
      "300 / 1633\n",
      "400 / 1633\n",
      "500 / 1633\n",
      "600 / 1633\n",
      "700 / 1633\n",
      "800 / 1633\n",
      "900 / 1633\n",
      "1000 / 1633\n",
      "1100 / 1633\n",
      "1200 / 1633\n",
      "1300 / 1633\n",
      "1400 / 1633\n",
      "1500 / 1633\n",
      "1600 / 1633\n"
     ]
    },
    {
     "name": "stderr",
     "output_type": "stream",
     "text": [
      " 20%|██        | 1/5 [02:51<11:24, 171.08s/it]"
     ]
    },
    {
     "name": "stdout",
     "output_type": "stream",
     "text": [
      "100 / 1630\n",
      "200 / 1630\n",
      "300 / 1630\n",
      "400 / 1630\n",
      "500 / 1630\n",
      "600 / 1630\n",
      "700 / 1630\n",
      "800 / 1630\n",
      "900 / 1630\n",
      "1000 / 1630\n",
      "1100 / 1630\n",
      "1200 / 1630\n",
      "1300 / 1630\n",
      "1400 / 1630\n",
      "1500 / 1630\n",
      "1600 / 1630\n",
      "100 / 1630\n",
      "200 / 1630\n",
      "300 / 1630\n",
      "400 / 1630\n",
      "500 / 1630\n",
      "600 / 1630\n",
      "700 / 1630\n",
      "800 / 1630\n",
      "900 / 1630\n",
      "1000 / 1630\n",
      "1100 / 1630\n",
      "1200 / 1630\n",
      "1300 / 1630\n",
      "1400 / 1630\n",
      "1500 / 1630\n",
      "1600 / 1630\n",
      "100 / 1630\n",
      "200 / 1630\n",
      "300 / 1630\n",
      "400 / 1630\n",
      "500 / 1630\n",
      "600 / 1630\n",
      "700 / 1630\n",
      "800 / 1630\n",
      "900 / 1630\n",
      "1000 / 1630\n",
      "1100 / 1630\n",
      "1200 / 1630\n",
      "1300 / 1630\n",
      "1400 / 1630\n",
      "1500 / 1630\n",
      "1600 / 1630\n",
      "100 / 1630\n",
      "200 / 1630\n",
      "300 / 1630\n",
      "400 / 1630\n",
      "500 / 1630\n",
      "600 / 1630\n",
      "700 / 1630\n",
      "800 / 1630\n",
      "900 / 1630\n",
      "1000 / 1630\n",
      "1100 / 1630\n",
      "1200 / 1630\n",
      "1300 / 1630\n",
      "1400 / 1630\n",
      "1500 / 1630\n",
      "1600 / 1630\n",
      "100 / 1630\n",
      "200 / 1630\n",
      "300 / 1630\n",
      "400 / 1630\n",
      "500 / 1630\n",
      "600 / 1630\n",
      "700 / 1630\n",
      "800 / 1630\n",
      "900 / 1630\n",
      "1000 / 1630\n",
      "1100 / 1630\n",
      "1200 / 1630\n",
      "1300 / 1630\n",
      "1400 / 1630\n",
      "1500 / 1630\n",
      "1600 / 1630\n",
      "100 / 1630\n",
      "200 / 1630\n",
      "300 / 1630\n",
      "400 / 1630\n",
      "500 / 1630\n",
      "600 / 1630\n",
      "700 / 1630\n",
      "800 / 1630\n",
      "900 / 1630\n",
      "1000 / 1630\n",
      "1100 / 1630\n",
      "1200 / 1630\n",
      "1300 / 1630\n",
      "1400 / 1630\n",
      "1500 / 1630\n",
      "1600 / 1630\n",
      "100 / 1630\n",
      "200 / 1630\n",
      "300 / 1630\n",
      "400 / 1630\n",
      "500 / 1630\n",
      "600 / 1630\n",
      "700 / 1630\n",
      "800 / 1630\n",
      "900 / 1630\n",
      "1000 / 1630\n",
      "1100 / 1630\n",
      "1200 / 1630\n",
      "1300 / 1630\n",
      "1400 / 1630\n",
      "1500 / 1630\n",
      "1600 / 1630\n",
      "100 / 1630\n",
      "200 / 1630\n",
      "300 / 1630\n",
      "400 / 1630\n",
      "500 / 1630\n",
      "600 / 1630\n",
      "700 / 1630\n",
      "800 / 1630\n",
      "900 / 1630\n",
      "1000 / 1630\n",
      "1100 / 1630\n",
      "1200 / 1630\n",
      "1300 / 1630\n",
      "1400 / 1630\n",
      "1500 / 1630\n",
      "1600 / 1630\n",
      "100 / 1630\n",
      "200 / 1630\n",
      "300 / 1630\n",
      "400 / 1630\n",
      "500 / 1630\n",
      "600 / 1630\n",
      "700 / 1630\n",
      "800 / 1630\n",
      "900 / 1630\n",
      "1000 / 1630\n",
      "1100 / 1630\n",
      "1200 / 1630\n",
      "1300 / 1630\n",
      "1400 / 1630\n",
      "1500 / 1630\n",
      "1600 / 1630\n",
      "100 / 1630\n",
      "200 / 1630\n",
      "300 / 1630\n",
      "400 / 1630\n",
      "500 / 1630\n",
      "600 / 1630\n",
      "700 / 1630\n",
      "800 / 1630\n",
      "900 / 1630\n",
      "1000 / 1630\n",
      "1100 / 1630\n",
      "1200 / 1630\n",
      "1300 / 1630\n",
      "1400 / 1630\n",
      "1500 / 1630\n",
      "1600 / 1630\n"
     ]
    },
    {
     "name": "stderr",
     "output_type": "stream",
     "text": [
      " 40%|████      | 2/5 [05:49<08:46, 175.66s/it]"
     ]
    },
    {
     "name": "stdout",
     "output_type": "stream",
     "text": [
      "100 / 1634\n",
      "200 / 1634\n",
      "300 / 1634\n",
      "400 / 1634\n",
      "500 / 1634\n",
      "600 / 1634\n",
      "700 / 1634\n",
      "800 / 1634\n",
      "900 / 1634\n",
      "1000 / 1634\n",
      "1100 / 1634\n",
      "1200 / 1634\n",
      "1300 / 1634\n",
      "1400 / 1634\n",
      "1500 / 1634\n",
      "1600 / 1634\n",
      "100 / 1634\n",
      "200 / 1634\n",
      "300 / 1634\n",
      "400 / 1634\n",
      "500 / 1634\n",
      "600 / 1634\n",
      "700 / 1634\n",
      "800 / 1634\n",
      "900 / 1634\n",
      "1000 / 1634\n",
      "1100 / 1634\n",
      "1200 / 1634\n",
      "1300 / 1634\n",
      "1400 / 1634\n",
      "1500 / 1634\n",
      "1600 / 1634\n",
      "100 / 1634\n",
      "200 / 1634\n",
      "300 / 1634\n",
      "400 / 1634\n",
      "500 / 1634\n",
      "600 / 1634\n",
      "700 / 1634\n",
      "800 / 1634\n",
      "900 / 1634\n",
      "1000 / 1634\n",
      "1100 / 1634\n",
      "1200 / 1634\n",
      "1300 / 1634\n",
      "1400 / 1634\n",
      "1500 / 1634\n",
      "1600 / 1634\n",
      "100 / 1634\n",
      "200 / 1634\n",
      "300 / 1634\n",
      "400 / 1634\n",
      "500 / 1634\n",
      "600 / 1634\n",
      "700 / 1634\n",
      "800 / 1634\n",
      "900 / 1634\n",
      "1000 / 1634\n",
      "1100 / 1634\n",
      "1200 / 1634\n",
      "1300 / 1634\n",
      "1400 / 1634\n",
      "1500 / 1634\n",
      "1600 / 1634\n",
      "100 / 1634\n",
      "200 / 1634\n",
      "300 / 1634\n",
      "400 / 1634\n",
      "500 / 1634\n",
      "600 / 1634\n",
      "700 / 1634\n",
      "800 / 1634\n",
      "900 / 1634\n",
      "1000 / 1634\n",
      "1100 / 1634\n",
      "1200 / 1634\n",
      "1300 / 1634\n",
      "1400 / 1634\n",
      "1500 / 1634\n",
      "1600 / 1634\n",
      "100 / 1634\n",
      "200 / 1634\n",
      "300 / 1634\n",
      "400 / 1634\n",
      "500 / 1634\n",
      "600 / 1634\n",
      "700 / 1634\n",
      "800 / 1634\n",
      "900 / 1634\n",
      "1000 / 1634\n",
      "1100 / 1634\n",
      "1200 / 1634\n",
      "1300 / 1634\n",
      "1400 / 1634\n",
      "1500 / 1634\n",
      "1600 / 1634\n",
      "100 / 1634\n",
      "200 / 1634\n",
      "300 / 1634\n",
      "400 / 1634\n",
      "500 / 1634\n",
      "600 / 1634\n",
      "700 / 1634\n",
      "800 / 1634\n",
      "900 / 1634\n",
      "1000 / 1634\n",
      "1100 / 1634\n",
      "1200 / 1634\n",
      "1300 / 1634\n",
      "1400 / 1634\n",
      "1500 / 1634\n",
      "1600 / 1634\n",
      "100 / 1634\n",
      "200 / 1634\n",
      "300 / 1634\n",
      "400 / 1634\n",
      "500 / 1634\n",
      "600 / 1634\n",
      "700 / 1634\n",
      "800 / 1634\n",
      "900 / 1634\n",
      "1000 / 1634\n",
      "1100 / 1634\n",
      "1200 / 1634\n",
      "1300 / 1634\n",
      "1400 / 1634\n",
      "1500 / 1634\n",
      "1600 / 1634\n",
      "100 / 1634\n",
      "200 / 1634\n",
      "300 / 1634\n",
      "400 / 1634\n",
      "500 / 1634\n",
      "600 / 1634\n",
      "700 / 1634\n",
      "800 / 1634\n",
      "900 / 1634\n",
      "1000 / 1634\n",
      "1100 / 1634\n",
      "1200 / 1634\n",
      "1300 / 1634\n",
      "1400 / 1634\n",
      "1500 / 1634\n",
      "1600 / 1634\n",
      "100 / 1634\n",
      "200 / 1634\n",
      "300 / 1634\n",
      "400 / 1634\n",
      "500 / 1634\n",
      "600 / 1634\n",
      "700 / 1634\n",
      "800 / 1634\n",
      "900 / 1634\n",
      "1000 / 1634\n",
      "1100 / 1634\n",
      "1200 / 1634\n",
      "1300 / 1634\n",
      "1400 / 1634\n",
      "1500 / 1634\n",
      "1600 / 1634\n"
     ]
    },
    {
     "name": "stderr",
     "output_type": "stream",
     "text": [
      " 60%|██████    | 3/5 [08:55<06:00, 180.25s/it]"
     ]
    },
    {
     "name": "stdout",
     "output_type": "stream",
     "text": [
      "100 / 1644\n",
      "200 / 1644\n",
      "300 / 1644\n",
      "400 / 1644\n",
      "500 / 1644\n",
      "600 / 1644\n",
      "700 / 1644\n",
      "800 / 1644\n",
      "900 / 1644\n",
      "1000 / 1644\n",
      "1100 / 1644\n",
      "1200 / 1644\n",
      "1300 / 1644\n",
      "1400 / 1644\n",
      "1500 / 1644\n",
      "1600 / 1644\n",
      "100 / 1644\n",
      "200 / 1644\n",
      "300 / 1644\n",
      "400 / 1644\n",
      "500 / 1644\n",
      "600 / 1644\n",
      "700 / 1644\n",
      "800 / 1644\n",
      "900 / 1644\n",
      "1000 / 1644\n",
      "1100 / 1644\n",
      "1200 / 1644\n",
      "1300 / 1644\n",
      "1400 / 1644\n",
      "1500 / 1644\n",
      "1600 / 1644\n",
      "100 / 1644\n",
      "200 / 1644\n",
      "300 / 1644\n",
      "400 / 1644\n",
      "500 / 1644\n",
      "600 / 1644\n",
      "700 / 1644\n",
      "800 / 1644\n",
      "900 / 1644\n",
      "1000 / 1644\n",
      "1100 / 1644\n",
      "1200 / 1644\n",
      "1300 / 1644\n",
      "1400 / 1644\n",
      "1500 / 1644\n",
      "1600 / 1644\n",
      "100 / 1644\n",
      "200 / 1644\n",
      "300 / 1644\n",
      "400 / 1644\n",
      "500 / 1644\n",
      "600 / 1644\n",
      "700 / 1644\n",
      "800 / 1644\n",
      "900 / 1644\n",
      "1000 / 1644\n",
      "1100 / 1644\n",
      "1200 / 1644\n",
      "1300 / 1644\n",
      "1400 / 1644\n",
      "1500 / 1644\n",
      "1600 / 1644\n",
      "100 / 1644\n",
      "200 / 1644\n",
      "300 / 1644\n",
      "400 / 1644\n",
      "500 / 1644\n",
      "600 / 1644\n",
      "700 / 1644\n",
      "800 / 1644\n",
      "900 / 1644\n",
      "1000 / 1644\n",
      "1100 / 1644\n",
      "1200 / 1644\n",
      "1300 / 1644\n",
      "1400 / 1644\n",
      "1500 / 1644\n",
      "1600 / 1644\n",
      "100 / 1644\n",
      "200 / 1644\n",
      "300 / 1644\n",
      "400 / 1644\n",
      "500 / 1644\n",
      "600 / 1644\n",
      "700 / 1644\n",
      "800 / 1644\n",
      "900 / 1644\n",
      "1000 / 1644\n",
      "1100 / 1644\n",
      "1200 / 1644\n",
      "1300 / 1644\n",
      "1400 / 1644\n",
      "1500 / 1644\n",
      "1600 / 1644\n",
      "100 / 1644\n",
      "200 / 1644\n",
      "300 / 1644\n",
      "400 / 1644\n",
      "500 / 1644\n",
      "600 / 1644\n",
      "700 / 1644\n",
      "800 / 1644\n",
      "900 / 1644\n",
      "1000 / 1644\n",
      "1100 / 1644\n",
      "1200 / 1644\n",
      "1300 / 1644\n",
      "1400 / 1644\n",
      "1500 / 1644\n",
      "1600 / 1644\n",
      "100 / 1644\n",
      "200 / 1644\n",
      "300 / 1644\n",
      "400 / 1644\n",
      "500 / 1644\n",
      "600 / 1644\n",
      "700 / 1644\n",
      "800 / 1644\n",
      "900 / 1644\n",
      "1000 / 1644\n",
      "1100 / 1644\n",
      "1200 / 1644\n",
      "1300 / 1644\n",
      "1400 / 1644\n",
      "1500 / 1644\n",
      "1600 / 1644\n",
      "100 / 1644\n",
      "200 / 1644\n",
      "300 / 1644\n",
      "400 / 1644\n",
      "500 / 1644\n",
      "600 / 1644\n",
      "700 / 1644\n",
      "800 / 1644\n",
      "900 / 1644\n",
      "1000 / 1644\n",
      "1100 / 1644\n",
      "1200 / 1644\n",
      "1300 / 1644\n",
      "1400 / 1644\n",
      "1500 / 1644\n",
      "1600 / 1644\n",
      "100 / 1644\n",
      "200 / 1644\n",
      "300 / 1644\n",
      "400 / 1644\n",
      "500 / 1644\n",
      "600 / 1644\n",
      "700 / 1644\n",
      "800 / 1644\n",
      "900 / 1644\n",
      "1000 / 1644\n",
      "1100 / 1644\n",
      "1200 / 1644\n",
      "1300 / 1644\n",
      "1400 / 1644\n",
      "1500 / 1644\n",
      "1600 / 1644\n"
     ]
    },
    {
     "name": "stderr",
     "output_type": "stream",
     "text": [
      " 80%|████████  | 4/5 [12:05<03:04, 184.13s/it]"
     ]
    },
    {
     "name": "stdout",
     "output_type": "stream",
     "text": [
      "100 / 1635\n",
      "200 / 1635\n",
      "300 / 1635\n",
      "400 / 1635\n",
      "500 / 1635\n",
      "600 / 1635\n",
      "700 / 1635\n",
      "800 / 1635\n",
      "900 / 1635\n",
      "1000 / 1635\n",
      "1100 / 1635\n",
      "1200 / 1635\n",
      "1300 / 1635\n",
      "1400 / 1635\n",
      "1500 / 1635\n",
      "1600 / 1635\n",
      "100 / 1635\n",
      "200 / 1635\n",
      "300 / 1635\n",
      "400 / 1635\n",
      "500 / 1635\n",
      "600 / 1635\n",
      "700 / 1635\n",
      "800 / 1635\n",
      "900 / 1635\n",
      "1000 / 1635\n",
      "1100 / 1635\n",
      "1200 / 1635\n",
      "1300 / 1635\n",
      "1400 / 1635\n",
      "1500 / 1635\n",
      "1600 / 1635\n",
      "100 / 1635\n",
      "200 / 1635\n",
      "300 / 1635\n",
      "400 / 1635\n",
      "500 / 1635\n",
      "600 / 1635\n",
      "700 / 1635\n",
      "800 / 1635\n",
      "900 / 1635\n",
      "1000 / 1635\n",
      "1100 / 1635\n",
      "1200 / 1635\n",
      "1300 / 1635\n",
      "1400 / 1635\n",
      "1500 / 1635\n",
      "1600 / 1635\n",
      "100 / 1635\n",
      "200 / 1635\n",
      "300 / 1635\n",
      "400 / 1635\n",
      "500 / 1635\n",
      "600 / 1635\n",
      "700 / 1635\n",
      "800 / 1635\n",
      "900 / 1635\n",
      "1000 / 1635\n",
      "1100 / 1635\n",
      "1200 / 1635\n",
      "1300 / 1635\n",
      "1400 / 1635\n",
      "1500 / 1635\n",
      "1600 / 1635\n",
      "100 / 1635\n",
      "200 / 1635\n",
      "300 / 1635\n",
      "400 / 1635\n",
      "500 / 1635\n",
      "600 / 1635\n",
      "700 / 1635\n",
      "800 / 1635\n",
      "900 / 1635\n",
      "1000 / 1635\n",
      "1100 / 1635\n",
      "1200 / 1635\n",
      "1300 / 1635\n",
      "1400 / 1635\n",
      "1500 / 1635\n",
      "1600 / 1635\n",
      "100 / 1635\n",
      "200 / 1635\n",
      "300 / 1635\n",
      "400 / 1635\n",
      "500 / 1635\n",
      "600 / 1635\n",
      "700 / 1635\n",
      "800 / 1635\n",
      "900 / 1635\n",
      "1000 / 1635\n",
      "1100 / 1635\n",
      "1200 / 1635\n",
      "1300 / 1635\n",
      "1400 / 1635\n",
      "1500 / 1635\n",
      "1600 / 1635\n",
      "100 / 1635\n",
      "200 / 1635\n",
      "300 / 1635\n",
      "400 / 1635\n",
      "500 / 1635\n",
      "600 / 1635\n",
      "700 / 1635\n",
      "800 / 1635\n",
      "900 / 1635\n",
      "1000 / 1635\n",
      "1100 / 1635\n",
      "1200 / 1635\n",
      "1300 / 1635\n",
      "1400 / 1635\n",
      "1500 / 1635\n",
      "1600 / 1635\n",
      "100 / 1635\n",
      "200 / 1635\n",
      "300 / 1635\n",
      "400 / 1635\n",
      "500 / 1635\n",
      "600 / 1635\n",
      "700 / 1635\n",
      "800 / 1635\n",
      "900 / 1635\n",
      "1000 / 1635\n",
      "1100 / 1635\n",
      "1200 / 1635\n",
      "1300 / 1635\n",
      "1400 / 1635\n",
      "1500 / 1635\n",
      "1600 / 1635\n",
      "100 / 1635\n",
      "200 / 1635\n",
      "300 / 1635\n",
      "400 / 1635\n",
      "500 / 1635\n",
      "600 / 1635\n",
      "700 / 1635\n",
      "800 / 1635\n",
      "900 / 1635\n",
      "1000 / 1635\n",
      "1100 / 1635\n",
      "1200 / 1635\n",
      "1300 / 1635\n",
      "1400 / 1635\n",
      "1500 / 1635\n",
      "1600 / 1635\n",
      "100 / 1635\n",
      "200 / 1635\n",
      "300 / 1635\n",
      "400 / 1635\n",
      "500 / 1635\n",
      "600 / 1635\n",
      "700 / 1635\n",
      "800 / 1635\n",
      "900 / 1635\n",
      "1000 / 1635\n",
      "1100 / 1635\n",
      "1200 / 1635\n",
      "1300 / 1635\n",
      "1400 / 1635\n",
      "1500 / 1635\n",
      "1600 / 1635\n"
     ]
    },
    {
     "name": "stderr",
     "output_type": "stream",
     "text": [
      "100%|██████████| 5/5 [15:15<00:00, 183.18s/it]\n"
     ]
    }
   ],
   "source": [
    "mae_scores_ib = [0 for _ in n_neighbours]\n",
    "rmse_scores_ib = [0 for _ in n_neighbours]\n",
    "for i in tqdm(range(1,6)):\n",
    "    train, test = loadMovieLens_train_test(i=i)\n",
    "    for j, n in enumerate(n_neighbours):\n",
    "        items = calculateSimilarItems(train, n)\n",
    "        mae, rmse = 0, 0\n",
    "        for person in test.keys():\n",
    "            recs = getRecommendedItems(train, items, person)\n",
    "            mae += error(test[person], recs)\n",
    "            rmse += error(test[person], recs, type_=\"rmse\")\n",
    "        mae_scores_ib[j] += mae / len(test.keys())\n",
    "        rmse_scores_ib[j] += rmse / len(test.keys())\n",
    "\n",
    "\n",
    "for i in range(len(mae_scores_ib)):\n",
    "    mae_scores_ib[i] /= 5\n",
    "    rmse_scores_ib[i] /= 5"
   ]
  },
  {
   "cell_type": "code",
   "execution_count": 50,
   "metadata": {},
   "outputs": [
    {
     "data": {
      "text/plain": [
       "<matplotlib.legend.Legend at 0x24e0893ca60>"
      ]
     },
     "execution_count": 50,
     "metadata": {},
     "output_type": "execute_result"
    },
    {
     "data": {
      "image/png": "[encoded data removed]",
      "text/plain": [
       "<Figure size 640x480 with 1 Axes>"
      ]
     },
     "metadata": {},
     "output_type": "display_data"
    }
   ],
   "source": [
    "plt.plot(n_neighbours, mae_scores_ib, label=\"MAE\")\n",
    "plt.plot(n_neighbours, rmse_scores_ib, label=\"RMSE\")\n",
    "plt.xlabel(\"Neighbours count\")\n",
    "plt.ylabel(\"Error\")\n",
    "plt.title(\"Item-based approach\")\n",
    "plt.legend()"
   ]
  },
  {
   "attachments": {},
   "cell_type": "markdown",
   "metadata": {},
   "source": [
    "# 3.-5. Improvements and comparisons"
   ]
  },
  {
   "cell_type": "code",
   "execution_count": 51,
   "metadata": {},
   "outputs": [],
   "source": [
    "def getNRecommendations_nf1(prefs, person, n: int, similarity=sim_pearson):\n",
    "    totals = {}\n",
    "    simSums = {}\n",
    "    r_m = np.array(list(prefs[person].values())).mean() \n",
    "    n_closest = topMatches(prefs, person, n)\n",
    "    for i, other in n_closest:\n",
    "        ri_m = np.array(list(prefs[other].values())).mean()\n",
    "        if other == person: continue\n",
    "        sim = similarity(prefs, person, other)\n",
    "        if sim <= 0: continue\n",
    "        for item in prefs[other]:\n",
    "            if item not in prefs[person] or prefs[person][item] == 0:\n",
    "                totals.setdefault(item, 0)\n",
    "                totals[item] += sim * (prefs[other][item] - ri_m)\n",
    "                simSums.setdefault(item,0)\n",
    "                simSums[item] += sim\n",
    "    rankings=[(r_m + total/simSums[item],item) for item,total in totals.items()]\n",
    "    rankings.sort(reverse=True)\n",
    "    return rankings"
   ]
  },
  {
   "cell_type": "code",
   "execution_count": 52,
   "metadata": {},
   "outputs": [],
   "source": [
    "def getNRecommendations_nf2(prefs, person, n: int, similarity=sim_pearson):\n",
    "    totals = {}\n",
    "    simSums = {}\n",
    "    r_m = np.array(list(prefs[person].values())).mean() \n",
    "    sigma_u = np.array(list(prefs[person].values())).std()\n",
    "    n_closest = topMatches(prefs, person, n)\n",
    "    for i, other in n_closest:\n",
    "        sigma_ui = np.array(list(prefs[other].values())).std()\n",
    "        ri_m = np.array(list(prefs[other].values())).mean()\n",
    "        if other == person: continue\n",
    "        sim = similarity(prefs, person, other)\n",
    "        if sim <= 0: continue\n",
    "        for item in prefs[other]:\n",
    "            if item not in prefs[person] or prefs[person][item] == 0:\n",
    "                totals.setdefault(item, 0)\n",
    "                totals[item] += sim * (prefs[other][item] - ri_m) / sigma_ui\n",
    "                simSums.setdefault(item,0)\n",
    "                simSums[item] += sim\n",
    "    rankings=[(r_m + sigma_u * total/simSums[item],item) for item,total in totals.items()]\n",
    "    rankings.sort(reverse=True)\n",
    "    return rankings"
   ]
  },
  {
   "cell_type": "code",
   "execution_count": 53,
   "metadata": {},
   "outputs": [],
   "source": [
    "n_neighbours = [1,3,5,10,15,20,30,40,50,100]"
   ]
  },
  {
   "cell_type": "code",
   "execution_count": 54,
   "metadata": {},
   "outputs": [
    {
     "name": "stderr",
     "output_type": "stream",
     "text": [
      "100%|██████████| 5/5 [09:30<00:00, 114.08s/it]\n"
     ]
    }
   ],
   "source": [
    "mae_scores_nf1 = [0 for _ in n_neighbours]\n",
    "rmse_scores_nf1 = [0 for _ in n_neighbours]\n",
    "for i in tqdm(range(1, 6)):\n",
    "    train, test = loadMovieLens_train_test(i=i)\n",
    "    for j, n in enumerate(n_neighbours):\n",
    "        mae, rmse = 0, 0\n",
    "        for person in test.keys():\n",
    "            recs = getNRecommendations_nf1(train, person, n)\n",
    "            mae += error(test[person], recs)\n",
    "            rmse += error(test[person], recs, \"rmse\")\n",
    "        mae_scores_nf1[j] += mae / len(test.keys())\n",
    "        rmse_scores_nf1[j] += rmse / len(test.keys())   \n",
    "\n",
    "for i in range(len(mae_scores_nf1)):\n",
    "    mae_scores_nf1[i] /= 5\n",
    "    rmse_scores_nf1[i] /= 5 "
   ]
  },
  {
   "cell_type": "code",
   "execution_count": 55,
   "metadata": {},
   "outputs": [
    {
     "data": {
      "text/plain": [
       "<matplotlib.legend.Legend at 0x24e074238e0>"
      ]
     },
     "execution_count": 55,
     "metadata": {},
     "output_type": "execute_result"
    },
    {
     "data": {
      "image/png": "[encoded data removed]",
      "text/plain": [
       "<Figure size 640x480 with 1 Axes>"
      ]
     },
     "metadata": {},
     "output_type": "display_data"
    }
   ],
   "source": [
    "plt.plot(n_neighbours, mae_scores_nf1, label=\"MAE\")\n",
    "plt.plot(n_neighbours, rmse_scores_nf1, label=\"RMSE\")\n",
    "plt.xlabel(\"Neighbours count\")\n",
    "plt.ylabel(\"Error\")\n",
    "plt.title(\"User based approach with averaging\")\n",
    "plt.legend()"
   ]
  },
  {
   "cell_type": "code",
   "execution_count": 56,
   "metadata": {},
   "outputs": [
    {
     "name": "stderr",
     "output_type": "stream",
     "text": [
      "100%|██████████| 5/5 [10:08<00:00, 121.62s/it]\n"
     ]
    }
   ],
   "source": [
    "mae_scores_nf2 = [0 for _ in n_neighbours]\n",
    "rmse_scores_nf2 = [0 for _ in n_neighbours]\n",
    "for i in tqdm(range(1, 6)):\n",
    "    train, test = loadMovieLens_train_test(i=i)\n",
    "    for j, n in enumerate(n_neighbours):\n",
    "        mae, rmse = 0, 0\n",
    "        for person in test.keys():\n",
    "            recs = getNRecommendations_nf2(train, person, n)\n",
    "            mae += error(test[person], recs)\n",
    "            rmse += error(test[person], recs, \"rmse\")\n",
    "        mae_scores_nf2[j] += mae / len(test.keys())\n",
    "        rmse_scores_nf2[j] += rmse / len(test.keys())   \n",
    "\n",
    "for i in range(len(mae_scores_nf2)):\n",
    "    mae_scores_nf2[i] /= 5\n",
    "    rmse_scores_nf2[i] /= 5 "
   ]
  },
  {
   "cell_type": "code",
   "execution_count": 57,
   "metadata": {},
   "outputs": [
    {
     "data": {
      "text/plain": [
       "<matplotlib.legend.Legend at 0x24e07423d30>"
      ]
     },
     "execution_count": 57,
     "metadata": {},
     "output_type": "execute_result"
    },
    {
     "data": {
      "image/png": "[encoded data removed]",
      "text/plain": [
       "<Figure size 640x480 with 1 Axes>"
      ]
     },
     "metadata": {},
     "output_type": "display_data"
    }
   ],
   "source": [
    "plt.plot(n_neighbours, mae_scores_nf2, label=\"MAE\")\n",
    "plt.plot(n_neighbours, rmse_scores_nf2, label=\"RMSE\")\n",
    "plt.xlabel(\"Neighbours count\")\n",
    "plt.ylabel(\"Error\")\n",
    "plt.title(\"User based approach with averaging and normalization\")\n",
    "plt.legend()"
   ]
  },
  {
   "cell_type": "code",
   "execution_count": 62,
   "metadata": {},
   "outputs": [
    {
     "data": {
      "text/plain": [
       "<matplotlib.legend.Legend at 0x24e0e249000>"
      ]
     },
     "execution_count": 62,
     "metadata": {},
     "output_type": "execute_result"
    },
    {
     "data": {
      "image/png": "[encoded data removed]",
      "text/plain": [
       "<Figure size 1700x1000 with 1 Axes>"
      ]
     },
     "metadata": {},
     "output_type": "display_data"
    }
   ],
   "source": [
    "metrics = [\n",
    "    (mae_scores_ub, rmse_scores_ub),\n",
    "    (mae_scores_ib, rmse_scores_ib),\n",
    "    (mae_scores_nf1, rmse_scores_nf1),\n",
    "    (mae_scores_nf2, rmse_scores_nf2)\n",
    "]\n",
    "\n",
    "labels = [\n",
    "    \"User based approach\",\n",
    "    \"Item based approach\",\n",
    "    \"User based approach with averaging\",\n",
    "    \"User based approach with averaging and normalization\"\n",
    "]\n",
    "plt.figure(figsize=(17, 10))\n",
    "for label, metric in zip(labels, metrics):\n",
    "    plt.plot(n_neighbours, metric[0], label=label + \" MAE\")\n",
    "    plt.plot(n_neighbours, metric[1], label=label + \" RMSE\")\n",
    "plt.legend()"
   ]
  },
  {
   "attachments": {},
   "cell_type": "markdown",
   "metadata": {},
   "source": [
    "# 6. Which movies are recommended more often -- popular with high ratings or rare ones (i.e. with low number of ratings) with high ratings?"
   ]
  },
  {
   "cell_type": "code",
   "execution_count": 73,
   "metadata": {},
   "outputs": [],
   "source": [
    "means = []\n",
    "lens = []\n",
    "for m, r in transformPrefs(train).items():\n",
    "    means.append(np.array(list(r.values())).mean())\n",
    "    lens.append(len(list(r.values())))"
   ]
  },
  {
   "cell_type": "code",
   "execution_count": 77,
   "metadata": {},
   "outputs": [
    {
     "data": {
      "text/plain": [
       "(48.79816513761468, 3.080581908903687)"
      ]
     },
     "execution_count": 77,
     "metadata": {},
     "output_type": "execute_result"
    }
   ],
   "source": [
    "np.mean(lens), np.mean(means)"
   ]
  },
  {
   "cell_type": "code",
   "execution_count": 82,
   "metadata": {},
   "outputs": [
    {
     "name": "stdout",
     "output_type": "stream",
     "text": [
      "Popular movies:  434\n",
      "Unpopular movies:  1201\n"
     ]
    }
   ],
   "source": [
    "print(\"Popular movies: \", len([movie for movie, r in transformPrefs(train).items() if len(r) > 60]))\n",
    "print(\"Unpopular movies: \", len([movie for movie, r in transformPrefs(train).items() if len(r) <= 60]))"
   ]
  },
  {
   "cell_type": "code",
   "execution_count": 86,
   "metadata": {},
   "outputs": [
    {
     "name": "stdout",
     "output_type": "stream",
     "text": [
      "Popular highly rated movies:  263\n",
      "Unpopular highly rated movies:  272\n"
     ]
    }
   ],
   "source": [
    "print(\"Popular highly rated movies: \", len([movie for movie, r in transformPrefs(train).items() if len(r) > 60 and np.mean(list(r.values())) > 3.5]))\n",
    "print(\"Unpopular highly rated movies: \", len([movie for movie, r in transformPrefs(train).items() if len(r) <= 60 and np.mean(list(r.values())) > 3.5]))"
   ]
  },
  {
   "cell_type": "code",
   "execution_count": 157,
   "metadata": {},
   "outputs": [],
   "source": [
    "train, test = loadMovieLens_train_test(i=1)"
   ]
  },
  {
   "cell_type": "code",
   "execution_count": 183,
   "metadata": {},
   "outputs": [],
   "source": [
    "popular_movies = [movie for movie, r in transformPrefs(train).items() if len(r) > 50 and np.mean(list(r.values())) > 3.1]\n",
    "unpopular_movies = [movie for movie, r in transformPrefs(train).items() if len(r) < 50 and np.mean(list(r.values())) > 3.1]"
   ]
  },
  {
   "cell_type": "code",
   "execution_count": 184,
   "metadata": {},
   "outputs": [
    {
     "data": {
      "text/plain": [
       "(436, 445)"
      ]
     },
     "execution_count": 184,
     "metadata": {},
     "output_type": "execute_result"
    }
   ],
   "source": [
    "len(popular_movies), len(unpopular_movies)"
   ]
  },
  {
   "cell_type": "code",
   "execution_count": 205,
   "metadata": {},
   "outputs": [
    {
     "name": "stderr",
     "output_type": "stream",
     "text": [
      "100%|██████████| 943/943 [00:25<00:00, 37.62it/s]\n"
     ]
    }
   ],
   "source": [
    "pop = 0\n",
    "unpop = 0\n",
    "for person in tqdm(list(train.keys())):\n",
    "    recs = getRecommendations(train, person)[:20]\n",
    "    for r, m in recs:\n",
    "        if m in popular_movies:\n",
    "            pop += 1\n",
    "        elif m in unpopular_movies:\n",
    "            unpop += 1"
   ]
  },
  {
   "cell_type": "code",
   "execution_count": 206,
   "metadata": {},
   "outputs": [
    {
     "data": {
      "text/plain": [
       "(0.11, 0.89)"
      ]
     },
     "execution_count": 206,
     "metadata": {},
     "output_type": "execute_result"
    }
   ],
   "source": [
    "round(pop/(pop+unpop), 2), round(unpop/(pop+unpop), 2)"
   ]
  },
  {
   "attachments": {},
   "cell_type": "markdown",
   "metadata": {},
   "source": [
    "# 7. What to do if the neigbourhood (similar users or items to a target user or a certain item) is too small? How to evaluate the confidence of such recommendations? \n",
    "\n",
    "Answer: We can also find neighbors for the neighbors or implement hybrid version or content based approaches."
   ]
  },
  {
   "attachments": {},
   "cell_type": "markdown",
   "metadata": {},
   "source": [
    "# 8.  *Auxiliary.* \n",
    "How different are top-n list for user-based and item-based methods. Try to improve the results by grid search on $\\beta$ parameter for MAE (RMSE) minimisation in hybrid recommendations depending on the number of neighbours (or top-n size):\n",
    "$$\\beta\\cdot r^{user-based}_{ui} + (1-\\beta)\\cdot r^{item-based}_{ui}, \\text{ where } 0 \\leq \\beta \\leq 1.$$ "
   ]
  },
  {
   "cell_type": "code",
   "execution_count": 108,
   "metadata": {},
   "outputs": [],
   "source": [
    "betas = np.linspace(0.1, 1, 10)"
   ]
  },
  {
   "cell_type": "code",
   "execution_count": 212,
   "metadata": {},
   "outputs": [
    {
     "name": "stderr",
     "output_type": "stream",
     "text": [
      "  0%|          | 0/5 [00:00<?, ?it/s]"
     ]
    },
    {
     "name": "stdout",
     "output_type": "stream",
     "text": [
      "100 / 1633\n",
      "200 / 1633\n",
      "300 / 1633\n",
      "400 / 1633\n",
      "500 / 1633\n",
      "600 / 1633\n",
      "700 / 1633\n",
      "800 / 1633\n",
      "900 / 1633\n",
      "1000 / 1633\n",
      "1100 / 1633\n",
      "1200 / 1633\n",
      "1300 / 1633\n",
      "1400 / 1633\n",
      "1500 / 1633\n",
      "1600 / 1633\n"
     ]
    },
    {
     "name": "stderr",
     "output_type": "stream",
     "text": [
      " 20%|██        | 1/5 [02:26<09:45, 146.33s/it]"
     ]
    },
    {
     "name": "stdout",
     "output_type": "stream",
     "text": [
      "100 / 1630\n",
      "200 / 1630\n",
      "300 / 1630\n",
      "400 / 1630\n",
      "500 / 1630\n",
      "600 / 1630\n",
      "700 / 1630\n",
      "800 / 1630\n",
      "900 / 1630\n",
      "1000 / 1630\n",
      "1100 / 1630\n",
      "1200 / 1630\n",
      "1300 / 1630\n",
      "1400 / 1630\n",
      "1500 / 1630\n",
      "1600 / 1630\n"
     ]
    },
    {
     "name": "stderr",
     "output_type": "stream",
     "text": [
      " 40%|████      | 2/5 [05:50<09:01, 180.50s/it]"
     ]
    },
    {
     "name": "stdout",
     "output_type": "stream",
     "text": [
      "100 / 1634\n",
      "200 / 1634\n",
      "300 / 1634\n",
      "400 / 1634\n",
      "500 / 1634\n",
      "600 / 1634\n",
      "700 / 1634\n",
      "800 / 1634\n",
      "900 / 1634\n",
      "1000 / 1634\n",
      "1100 / 1634\n",
      "1200 / 1634\n",
      "1300 / 1634\n",
      "1400 / 1634\n",
      "1500 / 1634\n",
      "1600 / 1634\n"
     ]
    },
    {
     "name": "stderr",
     "output_type": "stream",
     "text": [
      " 60%|██████    | 3/5 [10:24<07:25, 222.88s/it]"
     ]
    },
    {
     "name": "stdout",
     "output_type": "stream",
     "text": [
      "100 / 1644\n",
      "200 / 1644\n",
      "300 / 1644\n",
      "400 / 1644\n",
      "500 / 1644\n",
      "600 / 1644\n",
      "700 / 1644\n",
      "800 / 1644\n",
      "900 / 1644\n",
      "1000 / 1644\n",
      "1100 / 1644\n",
      "1200 / 1644\n",
      "1300 / 1644\n",
      "1400 / 1644\n",
      "1500 / 1644\n",
      "1600 / 1644\n"
     ]
    },
    {
     "name": "stderr",
     "output_type": "stream",
     "text": [
      " 80%|████████  | 4/5 [15:10<04:08, 248.02s/it]"
     ]
    },
    {
     "name": "stdout",
     "output_type": "stream",
     "text": [
      "100 / 1635\n",
      "200 / 1635\n",
      "300 / 1635\n",
      "400 / 1635\n",
      "500 / 1635\n",
      "600 / 1635\n",
      "700 / 1635\n",
      "800 / 1635\n",
      "900 / 1635\n",
      "1000 / 1635\n",
      "1100 / 1635\n",
      "1200 / 1635\n",
      "1300 / 1635\n",
      "1400 / 1635\n",
      "1500 / 1635\n",
      "1600 / 1635\n"
     ]
    },
    {
     "name": "stderr",
     "output_type": "stream",
     "text": [
      "100%|██████████| 5/5 [19:57<00:00, 239.55s/it]\n"
     ]
    }
   ],
   "source": [
    "mae_scores_nf2 = [0 for _ in betas]\n",
    "rmse_scores_nf2 = [0 for _ in betas]\n",
    "for i in tqdm(range(1, 6)):\n",
    "    train, test = loadMovieLens_train_test(i=i)\n",
    "    sim = calculateSimilarItems(train, 50)\n",
    "    for j, beta in enumerate(betas):\n",
    "        mae, rmse = 0, 0\n",
    "        for person in test.keys():\n",
    "            recs = []\n",
    "            recsU = getNRecommendations_nf2(train, person, 100)\n",
    "            recsI = dict([(m, r) for r, m in getRecommendedItems(train, sim, person)])\n",
    "\n",
    "            for ru, m in recsU:\n",
    "                if m in recsI.keys():\n",
    "                    ri = recsI[m]\n",
    "                else: \n",
    "                    ri = 0\n",
    "                recs.append((beta * ru + (1-beta) * ri, m))\n",
    "            mae += error(test[person], recs)\n",
    "            rmse += error(test[person], recs, \"rmse\")\n",
    "        mae_scores_nf2[j] += mae / len(test.keys())\n",
    "        rmse_scores_nf2[j] += rmse / len(test.keys())   \n",
    "\n",
    "for i in range(len(mae_scores_nf2)):\n",
    "    mae_scores_nf2[i] /= 5\n",
    "    rmse_scores_nf2[i] /= 5 "
   ]
  },
  {
   "cell_type": "code",
   "execution_count": 211,
   "metadata": {},
   "outputs": [
    {
     "data": {
      "text/plain": [
       "<matplotlib.legend.Legend at 0x24e1355ad40>"
      ]
     },
     "execution_count": 211,
     "metadata": {},
     "output_type": "execute_result"
    },
    {
     "data": {
      "image/png": "[encoded data removed]",
      "text/plain": [
       "<Figure size 640x480 with 1 Axes>"
      ]
     },
     "metadata": {},
     "output_type": "display_data"
    }
   ],
   "source": [
    "plt.plot(betas, mae_scores_nf2, label=\"MAE\")\n",
    "plt.plot(betas, rmse_scores_nf2, label=\"RMSE\")\n",
    "plt.xlabel(\"Beta\")\n",
    "plt.ylabel(\"Error\")\n",
    "plt.title(\"User-Item based approach\")\n",
    "plt.legend()"
   ]
  },
  {
   "cell_type": "code",
   "execution_count": null,
   "metadata": {},
   "outputs": [],
   "source": [
    "mae_scores_nf2 = [0 for _ in betas]\n",
    "rmse_scores_nf2 = [0 for _ in betas]\n",
    "for i in tqdm(range(1, 6)):\n",
    "    train, test = loadMovieLens_train_test(i=i)\n",
    "    sim = calculateSimilarItems(train, 50)\n",
    "    for j, beta in enumerate(betas):\n",
    "        mae, rmse = 0, 0\n",
    "        for person in test.keys():\n",
    "            recs = []\n",
    "            recsU = getNRecommendations_nf2(train, person, 100)\n",
    "            recsI = dict([(m, r) for r, m in getRecommendedItems(train, sim, person)])\n",
    "\n",
    "            for ru, m in recsU:\n",
    "                if m in recsI.keys():\n",
    "                    ri = recsI[m]\n",
    "                else: \n",
    "                    ri = np.array(list(train[person].values())).mean()\n",
    "                recs.append((beta * ru + (1-beta) * ri, m))\n",
    "            mae += error(test[person], recs)\n",
    "            rmse += error(test[person], recs, \"rmse\")\n",
    "        mae_scores_nf2[j] += mae / len(test.keys())\n",
    "        rmse_scores_nf2[j] += rmse / len(test.keys())   \n",
    "\n",
    "for i in range(len(mae_scores_nf2)):\n",
    "    mae_scores_nf2[i] /= 5\n",
    "    rmse_scores_nf2[i] /= 5 "
   ]
  },
  {
   "cell_type": "code",
   "execution_count": 213,
   "metadata": {},
   "outputs": [
    {
     "data": {
      "text/plain": [
       "<matplotlib.legend.Legend at 0x24e13366ad0>"
      ]
     },
     "execution_count": 213,
     "metadata": {},
     "output_type": "execute_result"
    },
    {
     "data": {
      "image/png": "[encoded data removed]",
      "text/plain": [
       "<Figure size 640x480 with 1 Axes>"
      ]
     },
     "metadata": {},
     "output_type": "display_data"
    }
   ],
   "source": [
    "plt.plot(betas, mae_scores_nf2, label=\"MAE\")\n",
    "plt.plot(betas, rmse_scores_nf2, label=\"RMSE\")\n",
    "plt.xlabel(\"Beta\")\n",
    "plt.ylabel(\"Error\")\n",
    "plt.title(\"User-Item based approach\")\n",
    "plt.legend()"
   ]
  }
 ],
 "metadata": {
  "kernelspec": {
   "display_name": "Python 3",
   "language": "python",
   "name": "python3"
  },
  "language_info": {
   "codemirror_mode": {
    "name": "ipython",
    "version": 3
   },
   "file_extension": ".py",
   "mimetype": "text/x-python",
   "name": "python",
   "nbconvert_exporter": "python",
   "pygments_lexer": "ipython3",
   "version": "3.10.8"
  },
  "name": "lesson11_recsys.ipynb",
  "vscode": {
   "interpreter": {
    "hash": "7abe41bf88626c8179a12d706309ac1665b0164ec3bd4c11d7418ed9f0904ed3"
   }
  }
 },
 "nbformat": 4,
 "nbformat_minor": 1
}
