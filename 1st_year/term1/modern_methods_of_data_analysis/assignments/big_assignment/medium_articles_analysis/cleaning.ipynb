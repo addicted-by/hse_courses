{
 "cells": [
  {
   "cell_type": "code",
   "execution_count": 1,
   "metadata": {},
   "outputs": [],
   "source": [
    "import pandas as pd\n",
    "import os\n",
    "import numpy as np\n",
    "import matplotlib.pyplot as plt\n",
    "import seaborn as sns\n",
    "from langdetect import detect\n",
    "from tqdm import tqdm"
   ]
  },
  {
   "cell_type": "code",
   "execution_count": 2,
   "metadata": {},
   "outputs": [],
   "source": [
    "SCRAPPED_DATA_PATH =\"./scrapped_data/\"\n",
    "SCRAPPED_DATA_PATH_DF = os.path.join(SCRAPPED_DATA_PATH, \"scrapped_data_final.csv\")"
   ]
  },
  {
   "cell_type": "code",
   "execution_count": 21,
   "metadata": {},
   "outputs": [],
   "source": [
    "df = pd.read_csv(SCRAPPED_DATA_PATH_DF)"
   ]
  },
  {
   "cell_type": "code",
   "execution_count": 22,
   "metadata": {},
   "outputs": [
    {
     "data": {
      "text/plain": [
       "0"
      ]
     },
     "execution_count": 22,
     "metadata": {},
     "output_type": "execute_result"
    }
   ],
   "source": [
    "df.isna().sum().sum()"
   ]
  },
  {
   "cell_type": "code",
   "execution_count": 23,
   "metadata": {},
   "outputs": [
    {
     "data": {
      "text/plain": [
       "0"
      ]
     },
     "execution_count": 23,
     "metadata": {},
     "output_type": "execute_result"
    }
   ],
   "source": [
    "(df.pure_text.map(type)==float).sum()"
   ]
  },
  {
   "cell_type": "code",
   "execution_count": 5,
   "metadata": {},
   "outputs": [
    {
     "data": {
      "text/plain": [
       "Index(['title', 'publication', 'link', 'author', 'followers', 'reading_time',\n",
       "       'n_words', 'pure_text', 'date', 'responses', 'n_code_chunks',\n",
       "       'bold_text_count', 'italic_text_count', 'mean_image_width',\n",
       "       'mean_image_height', 'n_images', 'n_lists', 'n_vids', 'n_links',\n",
       "       'claps'],\n",
       "      dtype='object')"
      ]
     },
     "execution_count": 5,
     "metadata": {},
     "output_type": "execute_result"
    }
   ],
   "source": [
    "df.columns"
   ]
  },
  {
   "cell_type": "code",
   "execution_count": 6,
   "metadata": {},
   "outputs": [],
   "source": [
    "int_cols = [\"followers\", \"reading_time\", \"n_words\", \n",
    "            \"responses\", \"n_code_chunks\", \"bold_text_count\", \n",
    "            \"italic_text_count\", \"n_images\", \"n_lists\", \n",
    "            \"n_vids\", \"n_links\", \"claps\"\n",
    "]"
   ]
  },
  {
   "cell_type": "code",
   "execution_count": 7,
   "metadata": {},
   "outputs": [],
   "source": [
    "df[int_cols] = df[int_cols].astype(int)"
   ]
  },
  {
   "cell_type": "code",
   "execution_count": 8,
   "metadata": {},
   "outputs": [
    {
     "name": "stdout",
     "output_type": "stream",
     "text": [
      "(9935, 20)\n"
     ]
    },
    {
     "data": {
      "text/html": [
       "<div>\n",
       "<style scoped>\n",
       "    .dataframe tbody tr th:only-of-type {\n",
       "        vertical-align: middle;\n",
       "    }\n",
       "\n",
       "    .dataframe tbody tr th {\n",
       "        vertical-align: top;\n",
       "    }\n",
       "\n",
       "    .dataframe thead th {\n",
       "        text-align: right;\n",
       "    }\n",
       "</style>\n",
       "<table border=\"1\" class=\"dataframe\">\n",
       "  <thead>\n",
       "    <tr style=\"text-align: right;\">\n",
       "      <th></th>\n",
       "      <th>title</th>\n",
       "      <th>publication</th>\n",
       "      <th>link</th>\n",
       "      <th>author</th>\n",
       "      <th>followers</th>\n",
       "      <th>reading_time</th>\n",
       "      <th>n_words</th>\n",
       "      <th>pure_text</th>\n",
       "      <th>date</th>\n",
       "      <th>responses</th>\n",
       "      <th>n_code_chunks</th>\n",
       "      <th>bold_text_count</th>\n",
       "      <th>italic_text_count</th>\n",
       "      <th>mean_image_width</th>\n",
       "      <th>mean_image_height</th>\n",
       "      <th>n_images</th>\n",
       "      <th>n_lists</th>\n",
       "      <th>n_vids</th>\n",
       "      <th>n_links</th>\n",
       "      <th>claps</th>\n",
       "    </tr>\n",
       "  </thead>\n",
       "  <tbody>\n",
       "    <tr>\n",
       "      <th>2550</th>\n",
       "      <td>How to Copy Edit Yourself in 7 Steps</td>\n",
       "      <td>The Writing Cooperative</td>\n",
       "      <td>https://writingcooperative.com/how-to-copy-edi...</td>\n",
       "      <td>Robert Roy Britt</td>\n",
       "      <td>155000</td>\n",
       "      <td>6</td>\n",
       "      <td>1311</td>\n",
       "      <td>More than 30 years ago, while editor of my col...</td>\n",
       "      <td>01/04/2019</td>\n",
       "      <td>4</td>\n",
       "      <td>0</td>\n",
       "      <td>11</td>\n",
       "      <td>15</td>\n",
       "      <td>1050.0</td>\n",
       "      <td>356.0</td>\n",
       "      <td>2</td>\n",
       "      <td>0</td>\n",
       "      <td>0</td>\n",
       "      <td>6</td>\n",
       "      <td>377</td>\n",
       "    </tr>\n",
       "    <tr>\n",
       "      <th>4573</th>\n",
       "      <td>The magic formula to an extraordinary design r...</td>\n",
       "      <td>UX Collective</td>\n",
       "      <td>https://uxdesign.cc/the-magic-formula-to-an-ex...</td>\n",
       "      <td>Michal Ninburg</td>\n",
       "      <td>41</td>\n",
       "      <td>9</td>\n",
       "      <td>1797</td>\n",
       "      <td>When you’re searching for a design position, e...</td>\n",
       "      <td>01/11/2019</td>\n",
       "      <td>0</td>\n",
       "      <td>0</td>\n",
       "      <td>42</td>\n",
       "      <td>7</td>\n",
       "      <td>850.0</td>\n",
       "      <td>538.0</td>\n",
       "      <td>2</td>\n",
       "      <td>2</td>\n",
       "      <td>0</td>\n",
       "      <td>7</td>\n",
       "      <td>35</td>\n",
       "    </tr>\n",
       "    <tr>\n",
       "      <th>1752</th>\n",
       "      <td>A 3-Step Method for Making Quicker and Better ...</td>\n",
       "      <td>Better Marketing</td>\n",
       "      <td>https://medium.com/better-marketing/how-to-mak...</td>\n",
       "      <td>Brian Pennie</td>\n",
       "      <td>13400</td>\n",
       "      <td>5</td>\n",
       "      <td>1030</td>\n",
       "      <td>“One wrong person in your circle can destroy y...</td>\n",
       "      <td>20/05/2019</td>\n",
       "      <td>7</td>\n",
       "      <td>0</td>\n",
       "      <td>1</td>\n",
       "      <td>19</td>\n",
       "      <td>1050.0</td>\n",
       "      <td>700.0</td>\n",
       "      <td>1</td>\n",
       "      <td>1</td>\n",
       "      <td>0</td>\n",
       "      <td>11</td>\n",
       "      <td>885</td>\n",
       "    </tr>\n",
       "  </tbody>\n",
       "</table>\n",
       "</div>"
      ],
      "text/plain": [
       "                                                  title  \\\n",
       "2550               How to Copy Edit Yourself in 7 Steps   \n",
       "4573  The magic formula to an extraordinary design r...   \n",
       "1752  A 3-Step Method for Making Quicker and Better ...   \n",
       "\n",
       "                  publication  \\\n",
       "2550  The Writing Cooperative   \n",
       "4573            UX Collective   \n",
       "1752         Better Marketing   \n",
       "\n",
       "                                                   link            author  \\\n",
       "2550  https://writingcooperative.com/how-to-copy-edi...  Robert Roy Britt   \n",
       "4573  https://uxdesign.cc/the-magic-formula-to-an-ex...    Michal Ninburg   \n",
       "1752  https://medium.com/better-marketing/how-to-mak...      Brian Pennie   \n",
       "\n",
       "      followers  reading_time  n_words  \\\n",
       "2550     155000             6     1311   \n",
       "4573         41             9     1797   \n",
       "1752      13400             5     1030   \n",
       "\n",
       "                                              pure_text        date  \\\n",
       "2550  More than 30 years ago, while editor of my col...  01/04/2019   \n",
       "4573  When you’re searching for a design position, e...  01/11/2019   \n",
       "1752  “One wrong person in your circle can destroy y...  20/05/2019   \n",
       "\n",
       "      responses  n_code_chunks  bold_text_count  italic_text_count  \\\n",
       "2550          4              0               11                 15   \n",
       "4573          0              0               42                  7   \n",
       "1752          7              0                1                 19   \n",
       "\n",
       "      mean_image_width  mean_image_height  n_images  n_lists  n_vids  n_links  \\\n",
       "2550            1050.0              356.0         2        0       0        6   \n",
       "4573             850.0              538.0         2        2       0        7   \n",
       "1752            1050.0              700.0         1        1       0       11   \n",
       "\n",
       "      claps  \n",
       "2550    377  \n",
       "4573     35  \n",
       "1752    885  "
      ]
     },
     "execution_count": 8,
     "metadata": {},
     "output_type": "execute_result"
    }
   ],
   "source": [
    "print(df.shape)\n",
    "df.sample(3)"
   ]
  },
  {
   "cell_type": "code",
   "execution_count": 9,
   "metadata": {},
   "outputs": [
    {
     "data": {
      "text/plain": [
       "Index(['title', 'publication', 'link', 'author', 'followers', 'reading_time',\n",
       "       'n_words', 'pure_text', 'date', 'responses', 'n_code_chunks',\n",
       "       'bold_text_count', 'italic_text_count', 'mean_image_width',\n",
       "       'mean_image_height', 'n_images', 'n_lists', 'n_vids', 'n_links',\n",
       "       'claps'],\n",
       "      dtype='object')"
      ]
     },
     "execution_count": 9,
     "metadata": {},
     "output_type": "execute_result"
    }
   ],
   "source": [
    "df.columns"
   ]
  },
  {
   "cell_type": "code",
   "execution_count": 10,
   "metadata": {},
   "outputs": [],
   "source": [
    "num_cols = [\n",
    "    \"followers\", \"reading_time\", \"n_words\",\n",
    "    \"responses\", \"n_code_chunks\", \"bold_text_count\",\n",
    "    \"italic_text_count\", \"mean_image_width\",\n",
    "    \"mean_image_height\", \"n_images\", \"n_lists\",\n",
    "    \"n_vids\", \"n_links\", \"claps\"\n",
    "]"
   ]
  },
  {
   "cell_type": "code",
   "execution_count": 11,
   "metadata": {},
   "outputs": [],
   "source": [
    "# sns.pairplot(df[num_cols])"
   ]
  },
  {
   "cell_type": "code",
   "execution_count": 12,
   "metadata": {},
   "outputs": [],
   "source": [
    "df[\"year\"] = pd.DatetimeIndex(df['date'], dayfirst=True).year\n",
    "df[\"month\"] = pd.DatetimeIndex(df['date'], dayfirst=True).month_name()\n",
    "df[\"dow\"] = pd.DatetimeIndex(df[\"date\"], dayfirst=True).day_name()"
   ]
  },
  {
   "cell_type": "code",
   "execution_count": 89,
   "metadata": {},
   "outputs": [
    {
     "data": {
      "text/plain": [
       "Monday       2321\n",
       "Thursday     1790\n",
       "Friday       1415\n",
       "Wednesday    1181\n",
       "Tuesday      1129\n",
       "Saturday     1071\n",
       "Sunday       1028\n",
       "Name: dow, dtype: int64"
      ]
     },
     "execution_count": 89,
     "metadata": {},
     "output_type": "execute_result"
    }
   ],
   "source": [
    "df[\"dow\"].value_counts()"
   ]
  },
  {
   "cell_type": "code",
   "execution_count": 80,
   "metadata": {},
   "outputs": [
    {
     "data": {
      "text/plain": [
       "May          1538\n",
       "July         1101\n",
       "October      1082\n",
       "December      904\n",
       "March         871\n",
       "September     784\n",
       "June          782\n",
       "November      702\n",
       "April         644\n",
       "February      523\n",
       "August        512\n",
       "January       492\n",
       "Name: month, dtype: int64"
      ]
     },
     "execution_count": 80,
     "metadata": {},
     "output_type": "execute_result"
    }
   ],
   "source": [
    "df[\"month\"].value_counts()"
   ]
  },
  {
   "cell_type": "code",
   "execution_count": 71,
   "metadata": {},
   "outputs": [
    {
     "data": {
      "text/plain": [
       "2019    6822\n",
       "2020     709\n",
       "2021     643\n",
       "2018     582\n",
       "2017     420\n",
       "2016     202\n",
       "2015     124\n",
       "2022     119\n",
       "2014      78\n",
       "2013      57\n",
       "2012      53\n",
       "2011      43\n",
       "2010      28\n",
       "2008      17\n",
       "2009      14\n",
       "2007      11\n",
       "2005       9\n",
       "2000       2\n",
       "2006       1\n",
       "2004       1\n",
       "Name: year, dtype: int64"
      ]
     },
     "execution_count": 71,
     "metadata": {},
     "output_type": "execute_result"
    }
   ],
   "source": [
    "df[\"year\"].value_counts()"
   ]
  },
  {
   "cell_type": "code",
   "execution_count": 14,
   "metadata": {},
   "outputs": [
    {
     "name": "stderr",
     "output_type": "stream",
     "text": [
      "100%|██████████| 9935/9935 [02:11<00:00, 75.78it/s] \n"
     ]
    }
   ],
   "source": [
    "languages = []\n",
    "for text in tqdm(df.pure_text):\n",
    "    languages.append(detect(text))"
   ]
  },
  {
   "cell_type": "code",
   "execution_count": 19,
   "metadata": {},
   "outputs": [
    {
     "data": {
      "text/plain": [
       "0"
      ]
     },
     "execution_count": 19,
     "metadata": {},
     "output_type": "execute_result"
    }
   ],
   "source": [
    "df.isna().sum().sum()"
   ]
  },
  {
   "cell_type": "code",
   "execution_count": 16,
   "metadata": {},
   "outputs": [],
   "source": [
    "df[\"language\"] = languages"
   ]
  },
  {
   "cell_type": "code",
   "execution_count": 103,
   "metadata": {},
   "outputs": [
    {
     "data": {
      "text/plain": [
       "en       9752\n",
       "ko         30\n",
       "tr         25\n",
       "es         22\n",
       "th         20\n",
       "ru         12\n",
       "id         12\n",
       "zh-tw      11\n",
       "fr          9\n",
       "it          8\n",
       "pt          6\n",
       "ja          5\n",
       "zh-cn       5\n",
       "vi          5\n",
       "ca          5\n",
       "no          2\n",
       "nl          1\n",
       "et          1\n",
       "ro          1\n",
       "de          1\n",
       "pl          1\n",
       "sv          1\n",
       "Name: language, dtype: int64"
      ]
     },
     "execution_count": 103,
     "metadata": {},
     "output_type": "execute_result"
    }
   ],
   "source": [
    "df[\"language\"].value_counts()"
   ]
  },
  {
   "cell_type": "code",
   "execution_count": 104,
   "metadata": {},
   "outputs": [
    {
     "data": {
      "text/plain": [
       "Index(['title', 'publication', 'link', 'author', 'followers', 'reading_time',\n",
       "       'n_words', 'pure_text', 'date', 'responses', 'n_code_chunks',\n",
       "       'bold_text_count', 'italic_text_count', 'mean_image_width',\n",
       "       'mean_image_height', 'n_images', 'n_lists', 'n_vids', 'n_links',\n",
       "       'claps', 'year', 'month', 'dow', 'language'],\n",
       "      dtype='object')"
      ]
     },
     "execution_count": 104,
     "metadata": {},
     "output_type": "execute_result"
    }
   ],
   "source": [
    "df.columns"
   ]
  },
  {
   "cell_type": "code",
   "execution_count": 18,
   "metadata": {},
   "outputs": [],
   "source": [
    "season_dict = {\n",
    "        \"January\": 'winter',\n",
    "        \"February\": 'winter',\n",
    "        \"March\": 'spring',\n",
    "        \"April\": 'spring',\n",
    "        \"May\": 'spring',\n",
    "        \"June\": 'summer',\n",
    "        \"July\": 'summer',\n",
    "        \"August\": 'summer',\n",
    "        \"September\": 'fall',\n",
    "        \"October\": 'fall',\n",
    "        \"November\": 'fall',\n",
    "        \"December\": 'winter'\n",
    "    }\n",
    "df['season'] = df['month'].map(lambda x: season_dict[x])"
   ]
  },
  {
   "cell_type": "code",
   "execution_count": 112,
   "metadata": {},
   "outputs": [
    {
     "data": {
      "text/plain": [
       "spring    3053\n",
       "fall      2568\n",
       "summer    2395\n",
       "winter    1919\n",
       "Name: season, dtype: int64"
      ]
     },
     "execution_count": 112,
     "metadata": {},
     "output_type": "execute_result"
    }
   ],
   "source": [
    "df['season'].value_counts()"
   ]
  },
  {
   "cell_type": "code",
   "execution_count": 105,
   "metadata": {},
   "outputs": [
    {
     "data": {
      "text/plain": [
       "array(['May', 'July', 'March', 'November', 'September', 'April',\n",
       "       'October', 'December', 'June', 'February', 'August', 'January'],\n",
       "      dtype=object)"
      ]
     },
     "execution_count": 105,
     "metadata": {},
     "output_type": "execute_result"
    }
   ],
   "source": [
    "df[\"month\"].unique()"
   ]
  },
  {
   "cell_type": "code",
   "execution_count": 20,
   "metadata": {},
   "outputs": [],
   "source": [
    "df.to_csv(\"scrapped_data/scrapped_data_extended.csv\", index=False)"
   ]
  },
  {
   "cell_type": "code",
   "execution_count": null,
   "metadata": {},
   "outputs": [],
   "source": []
  }
 ],
 "metadata": {
  "kernelspec": {
   "display_name": "Python 3",
   "language": "python",
   "name": "python3"
  },
  "language_info": {
   "codemirror_mode": {
    "name": "ipython",
    "version": 3
   },
   "file_extension": ".py",
   "mimetype": "text/x-python",
   "name": "python",
   "nbconvert_exporter": "python",
   "pygments_lexer": "ipython3",
   "version": "3.10.8"
  },
  "orig_nbformat": 4,
  "vscode": {
   "interpreter": {
    "hash": "7abe41bf88626c8179a12d706309ac1665b0164ec3bd4c11d7418ed9f0904ed3"
   }
  }
 },
 "nbformat": 4,
 "nbformat_minor": 2
}
