{
 "cells": [
  {
   "cell_type": "markdown",
   "metadata": {},
   "source": [
    "# Medium claps predictor"
   ]
  },
  {
   "cell_type": "markdown",
   "metadata": {},
   "source": [
    "## Idea"
   ]
  },
  {
   "cell_type": "markdown",
   "metadata": {},
   "source": []
  },
  {
   "cell_type": "code",
   "execution_count": 1,
   "metadata": {},
   "outputs": [],
   "source": [
    "import os\n",
    "import pandas as pd\n",
    "#import torch \n",
    "#import torchtext\n",
    "import matplotlib.pyplot as plt\n",
    "import matplotlib.colors as mcolors\n",
    "import random\n",
    "import numpy as np\n",
    "%matplotlib inline"
   ]
  },
  {
   "cell_type": "code",
   "execution_count": 2,
   "metadata": {},
   "outputs": [],
   "source": [
    "DATA_PATH = './data'\n",
    "TRAIN_PATH = os.path.join(DATA_PATH, 'articles_train.csv')\n",
    "TEST_PATH = os.path.join(DATA_PATH, 'articles_test.csv')\n",
    "SCRAPPING_OUT_PATH = os.path.join('./', 'scrapped_data')\n",
    "MORE_PATH = os.path.join(DATA_PATH, \"medium_data.csv\")\n"
   ]
  },
  {
   "cell_type": "code",
   "execution_count": 3,
   "metadata": {},
   "outputs": [],
   "source": [
    "# #За детерминизм!\n",
    "# SEED = 0xDEAD\n",
    "# random.seed(SEED)#\n",
    "# np.random.seed(SEED)\n",
    "# torch.random.manual_seed(SEED)\n",
    "# torch.cuda.random.manual_seed_all(SEED)"
   ]
  },
  {
   "cell_type": "code",
   "execution_count": 4,
   "metadata": {},
   "outputs": [],
   "source": [
    "# torch.cuda.is_available()"
   ]
  },
  {
   "cell_type": "markdown",
   "metadata": {},
   "source": [
    "## Data Preparation"
   ]
  },
  {
   "cell_type": "code",
   "execution_count": 5,
   "metadata": {},
   "outputs": [],
   "source": [
    "train_data = pd.read_csv(TRAIN_PATH, index_col='id')\n",
    "test_data = pd.read_csv(TEST_PATH, index_col=\"id\")\n",
    "another_data = pd.read_csv(MORE_PATH, index_col=\"id\")"
   ]
  },
  {
   "cell_type": "code",
   "execution_count": 6,
   "metadata": {},
   "outputs": [
    {
     "data": {
      "text/plain": [
       "((3756, 6), (500, 5), (6508, 9))"
      ]
     },
     "execution_count": 6,
     "metadata": {},
     "output_type": "execute_result"
    }
   ],
   "source": [
    "train_data.shape, test_data.shape, another_data.shape"
   ]
  },
  {
   "cell_type": "code",
   "execution_count": 7,
   "metadata": {},
   "outputs": [
    {
     "data": {
      "text/html": [
       "<div>\n",
       "<style scoped>\n",
       "    .dataframe tbody tr th:only-of-type {\n",
       "        vertical-align: middle;\n",
       "    }\n",
       "\n",
       "    .dataframe tbody tr th {\n",
       "        vertical-align: top;\n",
       "    }\n",
       "\n",
       "    .dataframe thead th {\n",
       "        text-align: right;\n",
       "    }\n",
       "</style>\n",
       "<table border=\"1\" class=\"dataframe\">\n",
       "  <thead>\n",
       "    <tr style=\"text-align: right;\">\n",
       "      <th></th>\n",
       "      <th>url</th>\n",
       "      <th>title</th>\n",
       "      <th>subtitle</th>\n",
       "      <th>image</th>\n",
       "      <th>claps</th>\n",
       "      <th>responses</th>\n",
       "      <th>reading_time</th>\n",
       "      <th>publication</th>\n",
       "      <th>date</th>\n",
       "    </tr>\n",
       "    <tr>\n",
       "      <th>id</th>\n",
       "      <th></th>\n",
       "      <th></th>\n",
       "      <th></th>\n",
       "      <th></th>\n",
       "      <th></th>\n",
       "      <th></th>\n",
       "      <th></th>\n",
       "      <th></th>\n",
       "      <th></th>\n",
       "    </tr>\n",
       "  </thead>\n",
       "  <tbody>\n",
       "    <tr>\n",
       "      <th>1</th>\n",
       "      <td>https://towardsdatascience.com/a-beginners-gui...</td>\n",
       "      <td>A Beginner’s Guide to Word Embedding with Gens...</td>\n",
       "      <td>NaN</td>\n",
       "      <td>1.png</td>\n",
       "      <td>850</td>\n",
       "      <td>8</td>\n",
       "      <td>8</td>\n",
       "      <td>Towards Data Science</td>\n",
       "      <td>2019-05-30</td>\n",
       "    </tr>\n",
       "    <tr>\n",
       "      <th>2</th>\n",
       "      <td>https://towardsdatascience.com/hands-on-graph-...</td>\n",
       "      <td>Hands-on Graph Neural Networks with PyTorch &amp; ...</td>\n",
       "      <td>NaN</td>\n",
       "      <td>2.png</td>\n",
       "      <td>1100</td>\n",
       "      <td>11</td>\n",
       "      <td>9</td>\n",
       "      <td>Towards Data Science</td>\n",
       "      <td>2019-05-30</td>\n",
       "    </tr>\n",
       "    <tr>\n",
       "      <th>3</th>\n",
       "      <td>https://towardsdatascience.com/how-to-use-ggpl...</td>\n",
       "      <td>How to Use ggplot2 in Python</td>\n",
       "      <td>A Grammar of Graphics for Python</td>\n",
       "      <td>3.png</td>\n",
       "      <td>767</td>\n",
       "      <td>1</td>\n",
       "      <td>5</td>\n",
       "      <td>Towards Data Science</td>\n",
       "      <td>2019-05-30</td>\n",
       "    </tr>\n",
       "    <tr>\n",
       "      <th>4</th>\n",
       "      <td>https://towardsdatascience.com/databricks-how-...</td>\n",
       "      <td>Databricks: How to Save Files in CSV on Your L...</td>\n",
       "      <td>When I work on Python projects dealing…</td>\n",
       "      <td>4.jpeg</td>\n",
       "      <td>354</td>\n",
       "      <td>0</td>\n",
       "      <td>4</td>\n",
       "      <td>Towards Data Science</td>\n",
       "      <td>2019-05-30</td>\n",
       "    </tr>\n",
       "    <tr>\n",
       "      <th>5</th>\n",
       "      <td>https://towardsdatascience.com/a-step-by-step-...</td>\n",
       "      <td>A Step-by-Step Implementation of Gradient Desc...</td>\n",
       "      <td>One example of building neural…</td>\n",
       "      <td>5.jpeg</td>\n",
       "      <td>211</td>\n",
       "      <td>3</td>\n",
       "      <td>4</td>\n",
       "      <td>Towards Data Science</td>\n",
       "      <td>2019-05-30</td>\n",
       "    </tr>\n",
       "  </tbody>\n",
       "</table>\n",
       "</div>"
      ],
      "text/plain": [
       "                                                  url  \\\n",
       "id                                                      \n",
       "1   https://towardsdatascience.com/a-beginners-gui...   \n",
       "2   https://towardsdatascience.com/hands-on-graph-...   \n",
       "3   https://towardsdatascience.com/how-to-use-ggpl...   \n",
       "4   https://towardsdatascience.com/databricks-how-...   \n",
       "5   https://towardsdatascience.com/a-step-by-step-...   \n",
       "\n",
       "                                                title  \\\n",
       "id                                                      \n",
       "1   A Beginner’s Guide to Word Embedding with Gens...   \n",
       "2   Hands-on Graph Neural Networks with PyTorch & ...   \n",
       "3                        How to Use ggplot2 in Python   \n",
       "4   Databricks: How to Save Files in CSV on Your L...   \n",
       "5   A Step-by-Step Implementation of Gradient Desc...   \n",
       "\n",
       "                                   subtitle   image  claps responses  \\\n",
       "id                                                                     \n",
       "1                                       NaN   1.png    850         8   \n",
       "2                                       NaN   2.png   1100        11   \n",
       "3          A Grammar of Graphics for Python   3.png    767         1   \n",
       "4   When I work on Python projects dealing…  4.jpeg    354         0   \n",
       "5           One example of building neural…  5.jpeg    211         3   \n",
       "\n",
       "    reading_time           publication        date  \n",
       "id                                                  \n",
       "1              8  Towards Data Science  2019-05-30  \n",
       "2              9  Towards Data Science  2019-05-30  \n",
       "3              5  Towards Data Science  2019-05-30  \n",
       "4              4  Towards Data Science  2019-05-30  \n",
       "5              4  Towards Data Science  2019-05-30  "
      ]
     },
     "execution_count": 7,
     "metadata": {},
     "output_type": "execute_result"
    }
   ],
   "source": [
    "another_data.head()"
   ]
  },
  {
   "cell_type": "code",
   "execution_count": 8,
   "metadata": {},
   "outputs": [
    {
     "data": {
      "text/html": [
       "<div>\n",
       "<style scoped>\n",
       "    .dataframe tbody tr th:only-of-type {\n",
       "        vertical-align: middle;\n",
       "    }\n",
       "\n",
       "    .dataframe tbody tr th {\n",
       "        vertical-align: top;\n",
       "    }\n",
       "\n",
       "    .dataframe thead th {\n",
       "        text-align: right;\n",
       "    }\n",
       "</style>\n",
       "<table border=\"1\" class=\"dataframe\">\n",
       "  <thead>\n",
       "    <tr style=\"text-align: right;\">\n",
       "      <th></th>\n",
       "      <th>author</th>\n",
       "      <th>reading_time</th>\n",
       "      <th>link</th>\n",
       "      <th>title</th>\n",
       "      <th>text</th>\n",
       "      <th>claps</th>\n",
       "    </tr>\n",
       "    <tr>\n",
       "      <th>id</th>\n",
       "      <th></th>\n",
       "      <th></th>\n",
       "      <th></th>\n",
       "      <th></th>\n",
       "      <th></th>\n",
       "      <th></th>\n",
       "    </tr>\n",
       "  </thead>\n",
       "  <tbody>\n",
       "    <tr>\n",
       "      <th>0</th>\n",
       "      <td>Joseph Rocca</td>\n",
       "      <td>23</td>\n",
       "      <td>https://towardsdatascience.com/understanding-v...</td>\n",
       "      <td>Understanding Variational Autoencoders (VAEs) ...</td>\n",
       "      <td>Towards Data Science\\nSep 24, 2019\\nThis post ...</td>\n",
       "      <td>8300.0</td>\n",
       "    </tr>\n",
       "    <tr>\n",
       "      <th>1</th>\n",
       "      <td>Guido Vivaldi</td>\n",
       "      <td>6</td>\n",
       "      <td>https://towardsdatascience.com/using-mixed-eff...</td>\n",
       "      <td>Using Mixed-Effects Models For Linear Regressi...</td>\n",
       "      <td>Towards Data Science\\nMay 17, 2019\\nMixed-effe...</td>\n",
       "      <td>336.0</td>\n",
       "    </tr>\n",
       "    <tr>\n",
       "      <th>2</th>\n",
       "      <td>Jerry Chen</td>\n",
       "      <td>11</td>\n",
       "      <td>https://news.greylock.com/the-new-moats-53f61a...</td>\n",
       "      <td>The New Moats. Why Systems of IntelligenceTM a...</td>\n",
       "      <td>Greylock Perspectives\\nApr 24, 2017\\nTo build ...</td>\n",
       "      <td>3500.0</td>\n",
       "    </tr>\n",
       "  </tbody>\n",
       "</table>\n",
       "</div>"
      ],
      "text/plain": [
       "           author  reading_time  \\\n",
       "id                                \n",
       "0    Joseph Rocca            23   \n",
       "1   Guido Vivaldi             6   \n",
       "2      Jerry Chen            11   \n",
       "\n",
       "                                                 link  \\\n",
       "id                                                      \n",
       "0   https://towardsdatascience.com/understanding-v...   \n",
       "1   https://towardsdatascience.com/using-mixed-eff...   \n",
       "2   https://news.greylock.com/the-new-moats-53f61a...   \n",
       "\n",
       "                                                title  \\\n",
       "id                                                      \n",
       "0   Understanding Variational Autoencoders (VAEs) ...   \n",
       "1   Using Mixed-Effects Models For Linear Regressi...   \n",
       "2   The New Moats. Why Systems of IntelligenceTM a...   \n",
       "\n",
       "                                                 text   claps  \n",
       "id                                                             \n",
       "0   Towards Data Science\\nSep 24, 2019\\nThis post ...  8300.0  \n",
       "1   Towards Data Science\\nMay 17, 2019\\nMixed-effe...   336.0  \n",
       "2   Greylock Perspectives\\nApr 24, 2017\\nTo build ...  3500.0  "
      ]
     },
     "execution_count": 8,
     "metadata": {},
     "output_type": "execute_result"
    }
   ],
   "source": [
    "train_data.head(3)"
   ]
  },
  {
   "cell_type": "markdown",
   "metadata": {},
   "source": [
    "## Feature Engineering"
   ]
  },
  {
   "cell_type": "code",
   "execution_count": 9,
   "metadata": {},
   "outputs": [],
   "source": [
    "\n",
    "# ! title clastering (maybe topic modeling LDA)\n",
    "# ! link parser (some sites are more popular than another)\n",
    "# ? text parser (only text without titles/dates...)\n",
    "# ! link scrapper (img per 1000 words, image sizes, count of words)\n",
    "# ! catboost, lgbm, ridge, random_forest"
   ]
  },
  {
   "cell_type": "markdown",
   "metadata": {},
   "source": [
    "## Article Scrapper"
   ]
  },
  {
   "cell_type": "code",
   "execution_count": 10,
   "metadata": {},
   "outputs": [],
   "source": [
    "import requests\n",
    "import re\n",
    "import time\n",
    "import pandas as pd\n",
    "import numpy as np\n",
    "import datetime\n",
    "from bs4 import BeautifulSoup\n",
    "from selenium import webdriver\n",
    "from selenium.webdriver.common.keys import Keys\n",
    "\n",
    "def is_English(s):\n",
    "    try:\n",
    "        s.encode(encoding='utf-8').decode('ascii')\n",
    "    except UnicodeDecodeError:\n",
    "        return False\n",
    "    else:\n",
    "        return True\n",
    "\n",
    "def clean_string(a_string):\n",
    "    new_string = re.sub(r'‘|’|\"|—|“|”|,', '', a_string).strip()\n",
    "    new_string = re.sub(r'–', ' ', new_string)\n",
    "    #new_string = re.sub(r'é', 'e', new_string)\n",
    "    return new_string\n",
    "\n",
    "def filter_string(a_string):\n",
    "    if a_string == '.':\n",
    "        return False\n",
    "    elif a_string == '':\n",
    "        return False\n",
    "    else:\n",
    "        return True"
   ]
  },
  {
   "cell_type": "code",
   "execution_count": 11,
   "metadata": {},
   "outputs": [],
   "source": [
    "import re\n",
    "\n",
    "class ArticleScraper():\n",
    "    \"\"\"\n",
    "    Scrapes all data for an article.\n",
    "    \"\"\"\n",
    "    def __init__(self):\n",
    "        self.scraper_class = 'ArticleScraper' \n",
    "\n",
    "    \n",
    "    def get_title(self, soup):\n",
    "        try:\n",
    "            title = soup.find('h1').text\n",
    "            return title\n",
    "        \n",
    "        except:\n",
    "            print(\"Couldn't get title from article.\")\n",
    "\n",
    "    \n",
    "    def get_subtitle(self, soup):\n",
    "        try:\n",
    "            return soup.find('section').find('h2').text\n",
    "        except:\n",
    "            print(\"Couldn't get subtitle from article.\")\n",
    "\n",
    "\n",
    "    def get_publication(self, soup):\n",
    "        try:\n",
    "            for div in soup.find_all(\"div\"):\n",
    "                if div.text == 'Published in':\n",
    "                    try:\n",
    "                        return div.next_element.next_element.next_element.find('p').text\n",
    "                    except:\n",
    "                        continue\n",
    "        except:\n",
    "            print(\"Couldn't get publication type from article.\")\n",
    "            return \"Medium\"\n",
    "\n",
    "\n",
    "    def get_author(self, soup):\n",
    "        try:\n",
    "            return soup.find('h2', class_=r\"pw-author-name\").text\n",
    "        except:\n",
    "            print(\"Couldn't get title from article.\") \n",
    "\n",
    "\n",
    "    def get_reading_time(self, soup):\n",
    "        try:\n",
    "            return int(soup.find('div', class_=r\"pw-reading-time\").text.split()[0])\n",
    "        except:\n",
    "            print(\"Couldn't get reading time from article.\")\n",
    "\n",
    "    def get_claps(self, soup):\n",
    "        try:\n",
    "            claps = soup.find_all(\"div\", {\"class\": \"pw-multi-vote-count\"})[0].text\n",
    "            tens = {'K': 10e2, 'M': 10e5, 'B': 10e8, 'k': 10e2, 'm': 10e5, 'b': 10e8}\n",
    "            if (claps[-1] != 'K' and claps[-1] != 'M' \n",
    "                        and claps[-1] != 'k' and claps[-1] != 'm'\n",
    "                        and claps[-1] != 'b' and claps[-1] != 'B'):\n",
    "                        return int(claps)\n",
    "            f = lambda x: int(float(x[:-1])*tens[x[-1]])\n",
    "            return f(claps)\n",
    "        except: \n",
    "            print(\"Can't get claps information\")\n",
    "\n",
    "\n",
    "    def get_responses(self, soup): \n",
    "        try:\n",
    "            responses = [x.text for x in soup.find_all(\"span\") if x.has_attr(\"class\") and 'pw-responses-count' in x['class']][0].split()[0]\n",
    "            tens = {'K': 10e2, 'M': 10e5, 'B': 10e8, 'k': 10e2, 'm': 10e5, 'b': 10e8}\n",
    "            if (responses[-1] != 'K' and responses[-1] != 'M' \n",
    "                        and responses[-1] != 'k' and responses[-1] != 'm'\n",
    "                        and responses[-1] != 'b' and responses[-1] != 'B'):\n",
    "                        return int(responses)\n",
    "            f = lambda x: int(float(x[:-1])*tens[x[-1]])\n",
    "            return f(responses)\n",
    "        except:\n",
    "            print(\"Can't get responses information\")\n",
    "\n",
    "\n",
    "    def get_date(self, soup):\n",
    "        try:\n",
    "            date_string = soup.find('p', class_=r\"pw-published-date\").text \n",
    "            return datetime.datetime.strptime(date_string, '%b %d, %Y').strftime('%d/%m/%Y')\n",
    "        except:\n",
    "            print(\"Couldn't get date from article.\") \n",
    "\n",
    "    def get_followers(self, soup):\n",
    "        try:\n",
    "            \n",
    "            fol_string = [x.text for x in soup.find_all(\"span\") if x.has_attr(\"class\") and 'pw-follower-count' in x['class']][0].split()[0]\n",
    "            tens = {'K': 10e2, 'M': 10e5, 'B': 10e8, 'k': 10e2, 'm': 10e5, 'b': 10e8}\n",
    "            if (fol_string[-1] != 'K' and fol_string[-1] != 'M' \n",
    "                        and fol_string[-1] != 'k' and fol_string[-1] != 'm'\n",
    "                        and fol_string[-1] != 'b' and fol_string[-1] != 'B'):\n",
    "                        return int(fol_string)\n",
    "            f = lambda x: int(float(x[:-1])*tens[x[-1]])\n",
    "            return f(fol_string)\n",
    "        except:\n",
    "            print(\"Can't go to the followers info\")    \n",
    "\n",
    "    \n",
    "    def get_mean_size(self, soup):\n",
    "        try:\n",
    "            pics = soup.find('section').find_all('img')#, width=True, height=True)\n",
    "            sums = (0,0)\n",
    "            for pic in pics:\n",
    "                url = pic.get('src')\n",
    "                im = Image.open(requests.get(url, stream=True).raw)\n",
    "                sums = tuple(map(sum, zip(sums, im.size)))\n",
    "            mean = tuple(ti//len(pics) for ti in sums)\n",
    "            if len(pics) == 0:\n",
    "                return (0,0)\n",
    "            return mean\n",
    "        except:\n",
    "            print(\"Can't get image's sizes\")\n",
    "         \n",
    "\n",
    "    def count_figures(self, soup):\n",
    "        try:\n",
    "            return len(soup.find('section').find_all('img'))\n",
    "        except:\n",
    "            print(\"Can't get amount of pictures\")\n",
    "\n",
    "    def get_pure_text(self, soup):\n",
    "        try:\n",
    "            pure_text = ''\n",
    "            for unparsed in soup.find('section').find_all('p'):\n",
    "                pure_text += unparsed.text\n",
    "            return pure_text\n",
    "        except:\n",
    "            print(\"Can't get pure text\")\n",
    "    \n",
    "    \n",
    "    def count_words(self, soup):\n",
    "        try:\n",
    "           pure_text = self.get_pure_text(soup=soup)\n",
    "           return len(pure_text.split())\n",
    "        except:\n",
    "            print(\"Can't get words count from the article\")\n",
    "\n",
    "    \n",
    "    def count_lists(self, soup):\n",
    "        try:\n",
    "            return len(soup.find('section').find_all('ol')) + len(soup.find('section').find_all('ul'))\n",
    "        except:\n",
    "            print(\"Can't get lists count\")\n",
    "    \n",
    "    def bold_text_count(self, soup):\n",
    "        try:\n",
    "            return len(soup.find('section').find_all('strong'))\n",
    "        except:\n",
    "            print(\"Can't get bold text count\")\n",
    "    \n",
    "\n",
    "    def get_blockquotes(self, soup):\n",
    "        try:\n",
    "            notes = []\n",
    "            blockquotes = soup.find_all('blockquote')\n",
    "            for blockquote in blockquotes:\n",
    "                notes.append(blockquote.text)\n",
    "            return notes\n",
    "        except:\n",
    "            print(\"Couldn't get notes from article.\")\n",
    "\n",
    "\n",
    "    def italic_text_count(self, soup):\n",
    "        try:\n",
    "            return len(soup.find('section').find_all('em'))\n",
    "        except:\n",
    "            print(\"Can't get italic text count\")\n",
    "\n",
    "    def count_vids(self, soup):\n",
    "        try:\n",
    "            yt_vids = []\n",
    "            article_soup = soup.find('article')\n",
    "            for figure in article_soup.find_all('figure'):\n",
    "                yt_soup = figure.find('iframe', src=re.compile('.*youtube.*'))\n",
    "                if yt_soup == None:\n",
    "                    continue\n",
    "                else:\n",
    "                    yt_vids.append(yt_soup)\n",
    "                    \n",
    "            return len(yt_vids)\n",
    "                    \n",
    "        except:\n",
    "            print(\"Couldn't get YouTube videos.\") \n",
    "    \n",
    "\n",
    "    def count_gists(self, soup):\n",
    "        try:\n",
    "            gists = []\n",
    "            article_soup = soup.find('article')\n",
    "            for fig in article_soup.find_all('figure'):\n",
    "                gist_soup = fig.find('iframe', title=re.compile('.*\\.py'))\n",
    "                if gist_soup == None:\n",
    "                    continue\n",
    "                else:\n",
    "                    gists.append(gist_soup)\n",
    "            return len(gists)\n",
    "        except:\n",
    "            print(\"Couldn't get count of gists.\") \n",
    "\n",
    "\n",
    "    def count_links(self, soup):\n",
    "        try:\n",
    "            links = []\n",
    "            for a in soup.find('section').find_all('a'):\n",
    "                link = a.get('href')\n",
    "                if link != None:\n",
    "                    links.append(link)\n",
    "            return len(links)\n",
    "        except:\n",
    "            print(\"Couldn't get amount of links.\") \n",
    "\n",
    "    def count_code_chunks(self, soup):\n",
    "        try:\n",
    "            return len(soup.find_all('pre'))\n",
    "        except:\n",
    "            print(\"Couldn't get amount of code chunks from article.\")\n",
    "    \n",
    "    def scrape(self, soup, link:str):\n",
    "        im_size = self.get_mean_size(soup)\n",
    "        if im_size == None:\n",
    "            im_size = (None, None)\n",
    "        article_data = {\n",
    "            \"title\": self.get_title(soup),\n",
    "            \"publication\": self.get_publication(soup),\n",
    "            \"link\": link,\n",
    "            \"author\": self.get_author(soup),\n",
    "            \"followers\": self.get_followers(soup),\n",
    "            \"reading_time\": self.get_reading_time(soup),\n",
    "            \"n_words\": self.count_words(soup),\n",
    "            \"pure_text\": self.get_pure_text(soup),\n",
    "            #\"blockquotes\": self.get_blockquotes(soup),\n",
    "            \"date\": self.get_date(soup),\n",
    "            \"responses\": self.get_responses(soup),\n",
    "            \"n_code_chunks\": self.count_code_chunks(soup),\n",
    "            \"bold_text_count\": self.bold_text_count(soup),\n",
    "            \"italic_text_count\": self.italic_text_count(soup),\n",
    "            \"mean_image_width\": im_size[0],\n",
    "            \"mean_image_height\": im_size[1],\n",
    "            \"n_images\": self.count_figures(soup),\n",
    "            \"n_lists\": self.count_lists(soup),\n",
    "            #\"n_gists\": self.count_gists(soup),\n",
    "            \"n_vids\": self.count_vids(soup),\n",
    "            \"n_links\": self.count_links(soup),\n",
    "            \"claps\": self.get_claps(soup)\n",
    "        }\n",
    "        '''\n",
    "        # !'bold_text_count',\n",
    "        # !'count_code_chunks',\n",
    "        # !'count_figures',\n",
    "        # !'count_gists',\n",
    "        # !'count_links',\n",
    "        # !'count_lists',\n",
    "        # !'count_vids',\n",
    "        # !'count_words',\n",
    "        # !'get_author',\n",
    "        # !'get_blockquotes',\n",
    "        # ! 'get_date',\n",
    "        # !'get_followers',\n",
    "        # !'get_mean_size',\n",
    "        # !'get_publication',\n",
    "        # !'get_pure_text',\n",
    "        # !'get_reading_time',\n",
    "        # !'get_subtitle',\n",
    "        # !'get_title',\n",
    "        # !'italic_text_count',\n",
    "        '''\n",
    "            \n",
    "        return(article_data)"
   ]
  },
  {
   "cell_type": "code",
   "execution_count": 12,
   "metadata": {},
   "outputs": [],
   "source": [
    "from selenium import webdriver\n",
    "from selenium.webdriver.common.by import By\n",
    "import time\n",
    "import cv2\n",
    "from tqdm import tqdm, tqdm_notebook\n",
    "import lxml\n",
    "from PIL import Image\n",
    "from langdetect import detect"
   ]
  },
  {
   "cell_type": "code",
   "execution_count": 1,
   "metadata": {},
   "outputs": [],
   "source": [
    "from selenium.webdriver.edge.options import Options\n",
    "\n",
    "options = Options()\n",
    "# options.add_argument(\"--headless\")\n",
    "options.add_argument(\"--incognito\")\n",
    "# options.add_argument(\"--no-sandbox\")\n",
    "options.add_argument(\"--window-size=1280,800\")"
   ]
  },
  {
   "cell_type": "code",
   "execution_count": 14,
   "metadata": {},
   "outputs": [],
   "source": [
    "def scrape_page(link, options):\n",
    "    page_url = link\n",
    "\n",
    "    driver = webdriver.Edge(options=options)\n",
    "    try:\n",
    "        driver.get(page_url)\n",
    "    except:\n",
    "        print('Time out')\n",
    "        return {\n",
    "            \"title\": None,\n",
    "            \"publication\": None,\n",
    "            \"link\": link,\n",
    "            \"author\": None,\n",
    "            \"followers\": None,\n",
    "            \"reading_time\": None,\n",
    "            \"n_words\": None,\n",
    "            \"pure_text\": None,\n",
    "            #\"blockquotes\": self.get_blockquotes(soup),\n",
    "            \"date\": None,\n",
    "            \"responses\": None,\n",
    "            \"n_code_chunks\": None,\n",
    "            \"bold_text_count\": None,\n",
    "            \"italic_text_count\": None,\n",
    "            \"mean_image_width\": None,\n",
    "            \"mean_image_height\": None,\n",
    "            \"n_images\": None,\n",
    "            \"n_lists\": None,\n",
    "            #\"n_gists\": self.count_gists(soup),\n",
    "            \"n_vids\": None,\n",
    "            \"n_links\": None,\n",
    "            \"claps\": None\n",
    "        }, 0\n",
    "    time.sleep(10)\n",
    "    soup = BeautifulSoup(driver.page_source, 'lxml')\n",
    "    article_scrapper = ArticleScraper()\n",
    "    return article_scrapper.scrape(soup=soup, link=link), soup"
   ]
  },
  {
   "cell_type": "code",
   "execution_count": 52,
   "metadata": {},
   "outputs": [],
   "source": [
    "url = train_data.loc[0, \"link\"]"
   ]
  },
  {
   "cell_type": "code",
   "execution_count": 53,
   "metadata": {},
   "outputs": [],
   "source": [
    "res, soup = scrape_page(url, options)"
   ]
  },
  {
   "cell_type": "code",
   "execution_count": 15,
   "metadata": {},
   "outputs": [],
   "source": [
    "columns = ['title', 'publication', 'author', 'followers', \n",
    "            'reading_time', 'n_words', 'pure_text', 'date', \n",
    "            'responses', 'n_code_chunks', 'bold_text_count', \n",
    "            'italic_text_count', 'mean_image_width', 'mean_image_height', \n",
    "            'n_images', 'n_lists', 'n_vids', 'n_links', 'claps']"
   ]
  },
  {
   "cell_type": "code",
   "execution_count": 18,
   "metadata": {},
   "outputs": [
    {
     "data": {
      "text/plain": [
       "['title',\n",
       " 'publication',\n",
       " 'author',\n",
       " 'followers',\n",
       " 'reading_time',\n",
       " 'n_words',\n",
       " 'pure_text',\n",
       " 'date',\n",
       " 'responses',\n",
       " 'n_code_chunks',\n",
       " 'bold_text_count',\n",
       " 'italic_text_count',\n",
       " 'mean_image_width',\n",
       " 'mean_image_height',\n",
       " 'n_images',\n",
       " 'n_lists',\n",
       " 'n_vids',\n",
       " 'n_links',\n",
       " 'claps']"
      ]
     },
     "execution_count": 18,
     "metadata": {},
     "output_type": "execute_result"
    }
   ],
   "source": [
    "columns"
   ]
  },
  {
   "cell_type": "code",
   "execution_count": 19,
   "metadata": {},
   "outputs": [],
   "source": [
    "train_data = train_data.rename(columns={\"text\": \"pure_text\"})\n",
    "test_data = test_data.rename(columns={\"text\": \"pure_text\"})"
   ]
  },
  {
   "cell_type": "code",
   "execution_count": 16,
   "metadata": {},
   "outputs": [],
   "source": [
    "another_data = another_data.rename(columns={\"url\": \"link\"}).drop(columns=[\"subtitle\", \"image\"])"
   ]
  },
  {
   "cell_type": "code",
   "execution_count": 17,
   "metadata": {},
   "outputs": [],
   "source": [
    "def scrap_articles_csv(df: pd.DataFrame, rows: int=50, \n",
    "                columns:list=columns, options=options,\n",
    "                path:str=\"./scrapped_data/scrapped_data2.csv\"):\n",
    "    if os.path.exists(path):\n",
    "        df_scrapped = pd.read_csv(path)\n",
    "    else:\n",
    "        df_scrapped = pd.DataFrame(columns=columns)\n",
    "    count = 0\n",
    "    for i, row in tqdm(df.iterrows(), total=df.shape[0]):\n",
    "        res, _ = scrape_page(row['link'], options)\n",
    "        print(count, df.shape[0])\n",
    "        for col in df.columns:\n",
    "            if res[col] == None:\n",
    "                res[col] = row[col]\n",
    "        df_scrapped.loc[df_scrapped.shape[0], :] = res   \n",
    "        if (count % rows == 0 or count == df.shape[0] - 1):\n",
    "            print(\"Saving to\" + path)\n",
    "            df_scrapped.to_csv(path, index=False)\n",
    "        count += 1\n",
    "    return df_scrapped"
   ]
  },
  {
   "cell_type": "code",
   "execution_count": null,
   "metadata": {},
   "outputs": [],
   "source": []
  },
  {
   "cell_type": "code",
   "execution_count": 18,
   "metadata": {},
   "outputs": [],
   "source": [
    "least_data = another_data.tail(2000)"
   ]
  },
  {
   "cell_type": "code",
   "execution_count": 2,
   "metadata": {},
   "outputs": [
    {
     "ename": "NameError",
     "evalue": "name 'scrap_articles_csv' is not defined",
     "output_type": "error",
     "traceback": [
      "\u001b[1;31m---------------------------------------------------------------------------\u001b[0m",
      "\u001b[1;31mNameError\u001b[0m                                 Traceback (most recent call last)",
      "Cell \u001b[1;32mIn [2], line 1\u001b[0m\n\u001b[1;32m----> 1\u001b[0m scrap_articles_csv(least_data)\n",
      "\u001b[1;31mNameError\u001b[0m: name 'scrap_articles_csv' is not defined"
     ]
    }
   ],
   "source": [
    "scrap_articles_csv(least_data)"
   ]
  },
  {
   "cell_type": "code",
   "execution_count": 87,
   "metadata": {},
   "outputs": [],
   "source": [
    "scrapped = pd.read_csv(\"scrapped_data/scrapped_data.csv\")"
   ]
  },
  {
   "cell_type": "code",
   "execution_count": 96,
   "metadata": {},
   "outputs": [
    {
     "data": {
      "text/plain": [
       "650"
      ]
     },
     "execution_count": 96,
     "metadata": {},
     "output_type": "execute_result"
    }
   ],
   "source": [
    "another_data.shape[0] //"
   ]
  },
  {
   "cell_type": "code",
   "execution_count": null,
   "metadata": {},
   "outputs": [],
   "source": [
    "np.array_split"
   ]
  },
  {
   "cell_type": "markdown",
   "metadata": {},
   "source": [
    "## Make Scrapped data become better"
   ]
  },
  {
   "cell_type": "code",
   "execution_count": 13,
   "metadata": {},
   "outputs": [],
   "source": [
    "data = pd.read_csv('train_noise.csv', index_col='idx')"
   ]
  },
  {
   "cell_type": "code",
   "execution_count": 14,
   "metadata": {},
   "outputs": [],
   "source": [
    "test_data = pd.read_csv(TRAIN_PATH, index_col='id')"
   ]
  },
  {
   "cell_type": "code",
   "execution_count": 15,
   "metadata": {},
   "outputs": [
    {
     "data": {
      "text/plain": [
       "True"
      ]
     },
     "execution_count": 15,
     "metadata": {},
     "output_type": "execute_result"
    }
   ],
   "source": [
    "len(test_data) == len(data)"
   ]
  },
  {
   "cell_type": "code",
   "execution_count": 16,
   "metadata": {},
   "outputs": [
    {
     "data": {
      "text/html": [
       "<div>\n",
       "<style scoped>\n",
       "    .dataframe tbody tr th:only-of-type {\n",
       "        vertical-align: middle;\n",
       "    }\n",
       "\n",
       "    .dataframe tbody tr th {\n",
       "        vertical-align: top;\n",
       "    }\n",
       "\n",
       "    .dataframe thead th {\n",
       "        text-align: right;\n",
       "    }\n",
       "</style>\n",
       "<table border=\"1\" class=\"dataframe\">\n",
       "  <thead>\n",
       "    <tr style=\"text-align: right;\">\n",
       "      <th></th>\n",
       "      <th>title</th>\n",
       "      <th>publication</th>\n",
       "      <th>author</th>\n",
       "      <th>followers</th>\n",
       "      <th>reading_time</th>\n",
       "      <th>n_words</th>\n",
       "      <th>pure_text</th>\n",
       "      <th>date</th>\n",
       "      <th>n_code_chunks</th>\n",
       "      <th>bold_text_count</th>\n",
       "      <th>italic_text_count</th>\n",
       "      <th>mean_image_width</th>\n",
       "      <th>mean_image_height</th>\n",
       "      <th>n_images</th>\n",
       "      <th>n_lists</th>\n",
       "      <th>n_vids</th>\n",
       "      <th>n_links</th>\n",
       "      <th>target</th>\n",
       "    </tr>\n",
       "    <tr>\n",
       "      <th>idx</th>\n",
       "      <th></th>\n",
       "      <th></th>\n",
       "      <th></th>\n",
       "      <th></th>\n",
       "      <th></th>\n",
       "      <th></th>\n",
       "      <th></th>\n",
       "      <th></th>\n",
       "      <th></th>\n",
       "      <th></th>\n",
       "      <th></th>\n",
       "      <th></th>\n",
       "      <th></th>\n",
       "      <th></th>\n",
       "      <th></th>\n",
       "      <th></th>\n",
       "      <th></th>\n",
       "      <th></th>\n",
       "    </tr>\n",
       "  </thead>\n",
       "  <tbody>\n",
       "    <tr>\n",
       "      <th>2795</th>\n",
       "      <td>Stats essentials for data science</td>\n",
       "      <td>Towards Data Science</td>\n",
       "      <td>Matt Sosna</td>\n",
       "      <td>365.0</td>\n",
       "      <td>22.0</td>\n",
       "      <td>4815.0</td>\n",
       "      <td>Whether you’re spending all day in spreadsheet...</td>\n",
       "      <td>06/05/2021</td>\n",
       "      <td>0.0</td>\n",
       "      <td>54.0</td>\n",
       "      <td>159.0</td>\n",
       "      <td>1210.0</td>\n",
       "      <td>582.0</td>\n",
       "      <td>25.0</td>\n",
       "      <td>6.0</td>\n",
       "      <td>0.0</td>\n",
       "      <td>75.0</td>\n",
       "      <td>231.0</td>\n",
       "    </tr>\n",
       "    <tr>\n",
       "      <th>2410</th>\n",
       "      <td>What I Learned by Ditching College to Travel a...</td>\n",
       "      <td>Mission.org</td>\n",
       "      <td>Jake Heilbrunn</td>\n",
       "      <td>205.0</td>\n",
       "      <td>8.0</td>\n",
       "      <td>1581.0</td>\n",
       "      <td>“The real voyage of discovery consists not in ...</td>\n",
       "      <td>28/09/2016</td>\n",
       "      <td>0.0</td>\n",
       "      <td>5.0</td>\n",
       "      <td>11.0</td>\n",
       "      <td>1019.0</td>\n",
       "      <td>794.0</td>\n",
       "      <td>11.0</td>\n",
       "      <td>0.0</td>\n",
       "      <td>0.0</td>\n",
       "      <td>13.0</td>\n",
       "      <td>133.0</td>\n",
       "    </tr>\n",
       "    <tr>\n",
       "      <th>2834</th>\n",
       "      <td>Illustrated Guide to LSTM’s and GRU’s: A step ...</td>\n",
       "      <td>Towards Data Science</td>\n",
       "      <td>Michael Phi</td>\n",
       "      <td>3800.0</td>\n",
       "      <td>10.0</td>\n",
       "      <td>2003.0</td>\n",
       "      <td>Hi and welcome to an Illustrated Guide to Long...</td>\n",
       "      <td>24/09/2018</td>\n",
       "      <td>0.0</td>\n",
       "      <td>6.0</td>\n",
       "      <td>6.0</td>\n",
       "      <td>NaN</td>\n",
       "      <td>NaN</td>\n",
       "      <td>19.0</td>\n",
       "      <td>0.0</td>\n",
       "      <td>0.0</td>\n",
       "      <td>8.0</td>\n",
       "      <td>20000.0</td>\n",
       "    </tr>\n",
       "  </tbody>\n",
       "</table>\n",
       "</div>"
      ],
      "text/plain": [
       "                                                  title           publication  \\\n",
       "idx                                                                             \n",
       "2795                  Stats essentials for data science  Towards Data Science   \n",
       "2410  What I Learned by Ditching College to Travel a...           Mission.org   \n",
       "2834  Illustrated Guide to LSTM’s and GRU’s: A step ...  Towards Data Science   \n",
       "\n",
       "              author  followers  reading_time  n_words  \\\n",
       "idx                                                      \n",
       "2795      Matt Sosna      365.0          22.0   4815.0   \n",
       "2410  Jake Heilbrunn      205.0           8.0   1581.0   \n",
       "2834     Michael Phi     3800.0          10.0   2003.0   \n",
       "\n",
       "                                              pure_text        date  \\\n",
       "idx                                                                   \n",
       "2795  Whether you’re spending all day in spreadsheet...  06/05/2021   \n",
       "2410  “The real voyage of discovery consists not in ...  28/09/2016   \n",
       "2834  Hi and welcome to an Illustrated Guide to Long...  24/09/2018   \n",
       "\n",
       "      n_code_chunks  bold_text_count  italic_text_count  mean_image_width  \\\n",
       "idx                                                                         \n",
       "2795            0.0             54.0              159.0            1210.0   \n",
       "2410            0.0              5.0               11.0            1019.0   \n",
       "2834            0.0              6.0                6.0               NaN   \n",
       "\n",
       "      mean_image_height  n_images  n_lists  n_vids  n_links   target  \n",
       "idx                                                                   \n",
       "2795              582.0      25.0      6.0     0.0     75.0    231.0  \n",
       "2410              794.0      11.0      0.0     0.0     13.0    133.0  \n",
       "2834                NaN      19.0      0.0     0.0      8.0  20000.0  "
      ]
     },
     "execution_count": 16,
     "metadata": {},
     "output_type": "execute_result"
    }
   ],
   "source": [
    "data.sample(3)"
   ]
  },
  {
   "cell_type": "code",
   "execution_count": 17,
   "metadata": {},
   "outputs": [
    {
     "name": "stderr",
     "output_type": "stream",
     "text": [
      "0page [00:00, ?page/s]\n"
     ]
    }
   ],
   "source": [
    "is_null = data.isnull()\n",
    "row_with_null = is_null.all(axis=1)\n",
    "rows_with_null = data[row_with_null].index\n",
    "with tqdm(rows_with_null, unit=\"page\") as tepoch:\n",
    "    for idx in tepoch:\n",
    "        new_row = scrape_page(test_data.loc[idx].link, options)\n",
    "        data.loc[idx,\n",
    "                data.columns] = new_row"
   ]
  },
  {
   "cell_type": "code",
   "execution_count": 18,
   "metadata": {},
   "outputs": [],
   "source": [
    "def scrape_column(column):\n",
    "    print('Before repeated scrapping: ', data[column].isna().sum())\n",
    "    indeces = data[data[column].isna() == True].index\n",
    "    with tqdm(indeces, unit=\"page\") as tepoch:\n",
    "        for idx in tepoch:\n",
    "            new_row = scrape_page(test_data.loc[idx].link, options)\n",
    "    #     print(new_row['pure_text'])\n",
    "            data.loc[idx,\n",
    "                column] = new_row[column]\n",
    "    print('After scrapping: ', data[column].isna().sum())"
   ]
  },
  {
   "cell_type": "code",
   "execution_count": 19,
   "metadata": {},
   "outputs": [
    {
     "name": "stdout",
     "output_type": "stream",
     "text": [
      "Before repeated scrapping:  43\n"
     ]
    },
    {
     "name": "stderr",
     "output_type": "stream",
     "text": [
      "  0%|          | 0/43 [00:00<?, ?page/s]"
     ]
    },
    {
     "name": "stdout",
     "output_type": "stream",
     "text": [
      "Can't get image's sizes\n",
      "Couldn't get title from article.\n",
      "Couldn't get title from article.\n",
      "Can't go to the followers info\n",
      "Couldn't get reading time from article.\n",
      "Couldn't get date from article.\n",
      "Couldn't get YouTube videos.\n"
     ]
    },
    {
     "name": "stderr",
     "output_type": "stream",
     "text": [
      "  5%|▍         | 2/43 [00:27<09:20, 13.67s/page]"
     ]
    },
    {
     "name": "stdout",
     "output_type": "stream",
     "text": [
      "Couldn't get title from article.\n"
     ]
    },
    {
     "name": "stderr",
     "output_type": "stream",
     "text": [
      "  7%|▋         | 3/43 [00:37<08:00, 12.01s/page]"
     ]
    },
    {
     "name": "stdout",
     "output_type": "stream",
     "text": [
      "Couldn't get title from article.\n"
     ]
    },
    {
     "name": "stderr",
     "output_type": "stream",
     "text": [
      "  9%|▉         | 4/43 [00:47<07:18, 11.24s/page]"
     ]
    },
    {
     "name": "stdout",
     "output_type": "stream",
     "text": [
      "Can't get image's sizes\n",
      "Couldn't get title from article.\n"
     ]
    },
    {
     "name": "stderr",
     "output_type": "stream",
     "text": [
      " 19%|█▊        | 8/43 [01:48<08:58, 15.38s/page]"
     ]
    },
    {
     "name": "stdout",
     "output_type": "stream",
     "text": [
      "Couldn't get title from article.\n"
     ]
    },
    {
     "name": "stderr",
     "output_type": "stream",
     "text": [
      " 21%|██        | 9/43 [02:01<08:09, 14.40s/page]"
     ]
    },
    {
     "name": "stdout",
     "output_type": "stream",
     "text": [
      "Can't get image's sizes\n",
      "Couldn't get title from article.\n",
      "Couldn't get title from article.\n",
      "Can't go to the followers info\n",
      "Couldn't get reading time from article.\n",
      "Couldn't get date from article.\n",
      "Couldn't get YouTube videos.\n"
     ]
    },
    {
     "name": "stderr",
     "output_type": "stream",
     "text": [
      " 23%|██▎       | 10/43 [02:09<06:53, 12.53s/page]"
     ]
    },
    {
     "name": "stdout",
     "output_type": "stream",
     "text": [
      "Can't get image's sizes\n",
      "Couldn't get title from article.\n",
      "Couldn't get title from article.\n",
      "Can't go to the followers info\n",
      "Couldn't get reading time from article.\n",
      "Couldn't get date from article.\n",
      "Couldn't get YouTube videos.\n"
     ]
    },
    {
     "name": "stderr",
     "output_type": "stream",
     "text": [
      " 26%|██▌       | 11/43 [02:18<06:03, 11.35s/page]"
     ]
    },
    {
     "name": "stdout",
     "output_type": "stream",
     "text": [
      "Couldn't get title from article.\n"
     ]
    },
    {
     "name": "stderr",
     "output_type": "stream",
     "text": [
      " 28%|██▊       | 12/43 [02:26<05:26, 10.52s/page]"
     ]
    },
    {
     "name": "stdout",
     "output_type": "stream",
     "text": [
      "Couldn't get title from article.\n"
     ]
    },
    {
     "name": "stderr",
     "output_type": "stream",
     "text": [
      " 30%|███       | 13/43 [02:34<04:49,  9.65s/page]"
     ]
    },
    {
     "name": "stdout",
     "output_type": "stream",
     "text": [
      "Can't get image's sizes\n",
      "Couldn't get title from article.\n"
     ]
    },
    {
     "name": "stderr",
     "output_type": "stream",
     "text": [
      " 33%|███▎      | 14/43 [02:43<04:36,  9.52s/page]"
     ]
    },
    {
     "name": "stdout",
     "output_type": "stream",
     "text": [
      "Can't get image's sizes\n",
      "Couldn't get title from article.\n"
     ]
    },
    {
     "name": "stderr",
     "output_type": "stream",
     "text": [
      " 35%|███▍      | 15/43 [02:52<04:18,  9.24s/page]"
     ]
    },
    {
     "name": "stdout",
     "output_type": "stream",
     "text": [
      "Can't get image's sizes\n",
      "Couldn't get title from article.\n"
     ]
    },
    {
     "name": "stderr",
     "output_type": "stream",
     "text": [
      " 37%|███▋      | 16/43 [03:00<04:04,  9.07s/page]"
     ]
    },
    {
     "name": "stdout",
     "output_type": "stream",
     "text": [
      "Can't get image's sizes\n",
      "Couldn't get title from article.\n"
     ]
    },
    {
     "name": "stderr",
     "output_type": "stream",
     "text": [
      " 40%|███▉      | 17/43 [03:11<04:07,  9.53s/page]"
     ]
    },
    {
     "name": "stdout",
     "output_type": "stream",
     "text": [
      "Can't get image's sizes\n",
      "Couldn't get title from article.\n"
     ]
    },
    {
     "name": "stderr",
     "output_type": "stream",
     "text": [
      " 42%|████▏     | 18/43 [03:20<03:52,  9.30s/page]"
     ]
    },
    {
     "name": "stdout",
     "output_type": "stream",
     "text": [
      "Can't get image's sizes\n",
      "Couldn't get title from article.\n"
     ]
    },
    {
     "name": "stderr",
     "output_type": "stream",
     "text": [
      " 44%|████▍     | 19/43 [03:30<03:50,  9.62s/page]"
     ]
    },
    {
     "name": "stdout",
     "output_type": "stream",
     "text": [
      "Can't get image's sizes\n",
      "Couldn't get title from article.\n"
     ]
    },
    {
     "name": "stderr",
     "output_type": "stream",
     "text": [
      " 47%|████▋     | 20/43 [03:39<03:34,  9.35s/page]"
     ]
    },
    {
     "name": "stdout",
     "output_type": "stream",
     "text": [
      "Couldn't get title from article.\n"
     ]
    },
    {
     "name": "stderr",
     "output_type": "stream",
     "text": [
      " 49%|████▉     | 21/43 [03:50<03:40, 10.01s/page]"
     ]
    },
    {
     "name": "stdout",
     "output_type": "stream",
     "text": [
      "Couldn't get title from article.\n"
     ]
    },
    {
     "name": "stderr",
     "output_type": "stream",
     "text": [
      " 51%|█████     | 22/43 [04:00<03:28,  9.92s/page]"
     ]
    },
    {
     "name": "stdout",
     "output_type": "stream",
     "text": [
      "Couldn't get title from article.\n"
     ]
    },
    {
     "name": "stderr",
     "output_type": "stream",
     "text": [
      " 56%|█████▌    | 24/43 [04:29<03:55, 12.42s/page]"
     ]
    },
    {
     "name": "stdout",
     "output_type": "stream",
     "text": [
      "Couldn't get title from article.\n"
     ]
    },
    {
     "name": "stderr",
     "output_type": "stream",
     "text": [
      " 58%|█████▊    | 25/43 [04:52<04:38, 15.47s/page]"
     ]
    },
    {
     "name": "stdout",
     "output_type": "stream",
     "text": [
      "Couldn't get title from article.\n"
     ]
    },
    {
     "name": "stderr",
     "output_type": "stream",
     "text": [
      " 63%|██████▎   | 27/43 [05:16<03:44, 14.02s/page]"
     ]
    },
    {
     "name": "stdout",
     "output_type": "stream",
     "text": [
      "Can't get image's sizes\n",
      "Couldn't get title from article.\n",
      "Couldn't get title from article.\n",
      "Can't go to the followers info\n",
      "Couldn't get reading time from article.\n",
      "Couldn't get date from article.\n",
      "Couldn't get YouTube videos.\n"
     ]
    },
    {
     "name": "stderr",
     "output_type": "stream",
     "text": [
      " 65%|██████▌   | 28/43 [05:25<03:06, 12.44s/page]"
     ]
    },
    {
     "name": "stdout",
     "output_type": "stream",
     "text": [
      "Couldn't get title from article.\n"
     ]
    },
    {
     "name": "stderr",
     "output_type": "stream",
     "text": [
      " 67%|██████▋   | 29/43 [05:35<02:42, 11.63s/page]"
     ]
    },
    {
     "name": "stdout",
     "output_type": "stream",
     "text": [
      "Couldn't get title from article.\n"
     ]
    },
    {
     "name": "stderr",
     "output_type": "stream",
     "text": [
      " 70%|██████▉   | 30/43 [05:45<02:27, 11.34s/page]"
     ]
    },
    {
     "name": "stdout",
     "output_type": "stream",
     "text": [
      "Can't get image's sizes\n",
      "Couldn't get title from article.\n"
     ]
    },
    {
     "name": "stderr",
     "output_type": "stream",
     "text": [
      " 72%|███████▏  | 31/43 [05:54<02:05, 10.48s/page]"
     ]
    },
    {
     "name": "stdout",
     "output_type": "stream",
     "text": [
      "Can't get image's sizes\n",
      "Couldn't get title from article.\n",
      "Couldn't get title from article.\n",
      "Can't go to the followers info\n",
      "Couldn't get reading time from article.\n",
      "Couldn't get date from article.\n",
      "Couldn't get YouTube videos.\n"
     ]
    },
    {
     "name": "stderr",
     "output_type": "stream",
     "text": [
      " 74%|███████▍  | 32/43 [06:01<01:45,  9.60s/page]"
     ]
    },
    {
     "name": "stdout",
     "output_type": "stream",
     "text": [
      "Can't get image's sizes\n",
      "Couldn't get title from article.\n"
     ]
    },
    {
     "name": "stderr",
     "output_type": "stream",
     "text": [
      " 79%|███████▉  | 34/43 [06:25<01:38, 10.94s/page]"
     ]
    },
    {
     "name": "stdout",
     "output_type": "stream",
     "text": [
      "Couldn't get title from article.\n",
      "Can't go to the followers info\n"
     ]
    },
    {
     "name": "stderr",
     "output_type": "stream",
     "text": [
      " 81%|████████▏ | 35/43 [06:39<01:34, 11.87s/page]"
     ]
    },
    {
     "name": "stdout",
     "output_type": "stream",
     "text": [
      "Can't get image's sizes\n",
      "Couldn't get title from article.\n"
     ]
    },
    {
     "name": "stderr",
     "output_type": "stream",
     "text": [
      " 84%|████████▎ | 36/43 [06:51<01:22, 11.77s/page]"
     ]
    },
    {
     "name": "stdout",
     "output_type": "stream",
     "text": [
      "Couldn't get title from article.\n"
     ]
    },
    {
     "name": "stderr",
     "output_type": "stream",
     "text": [
      " 86%|████████▌ | 37/43 [07:03<01:11, 11.88s/page]"
     ]
    },
    {
     "name": "stdout",
     "output_type": "stream",
     "text": [
      "Couldn't get title from article.\n"
     ]
    },
    {
     "name": "stderr",
     "output_type": "stream",
     "text": [
      " 91%|█████████ | 39/43 [07:25<00:47, 11.77s/page]"
     ]
    },
    {
     "name": "stdout",
     "output_type": "stream",
     "text": [
      "Couldn't get title from article.\n"
     ]
    },
    {
     "name": "stderr",
     "output_type": "stream",
     "text": [
      " 93%|█████████▎| 40/43 [07:37<00:35, 11.67s/page]"
     ]
    },
    {
     "name": "stdout",
     "output_type": "stream",
     "text": [
      "Can't get image's sizes\n",
      "Couldn't get title from article.\n",
      "Couldn't get title from article.\n",
      "Can't go to the followers info\n",
      "Couldn't get reading time from article.\n",
      "Couldn't get date from article.\n",
      "Couldn't get YouTube videos.\n"
     ]
    },
    {
     "name": "stderr",
     "output_type": "stream",
     "text": [
      " 95%|█████████▌| 41/43 [07:45<00:20, 10.47s/page]"
     ]
    },
    {
     "name": "stdout",
     "output_type": "stream",
     "text": [
      "Couldn't get title from article.\n"
     ]
    },
    {
     "name": "stderr",
     "output_type": "stream",
     "text": [
      " 98%|█████████▊| 42/43 [07:58<00:11, 11.31s/page]"
     ]
    },
    {
     "name": "stdout",
     "output_type": "stream",
     "text": [
      "Can't get image's sizes\n",
      "Couldn't get title from article.\n",
      "Couldn't get title from article.\n",
      "Can't go to the followers info\n",
      "Couldn't get reading time from article.\n",
      "Couldn't get date from article.\n",
      "Couldn't get YouTube videos.\n"
     ]
    },
    {
     "name": "stderr",
     "output_type": "stream",
     "text": [
      "100%|██████████| 43/43 [08:06<00:00, 11.31s/page]"
     ]
    },
    {
     "name": "stdout",
     "output_type": "stream",
     "text": [
      "After scrapping:  35\n"
     ]
    },
    {
     "name": "stderr",
     "output_type": "stream",
     "text": [
      "\n"
     ]
    }
   ],
   "source": [
    "scrape_column('title')"
   ]
  },
  {
   "cell_type": "code",
   "execution_count": 55,
   "metadata": {},
   "outputs": [],
   "source": [
    "indeces_title = data[data['title'].isna() == True].index"
   ]
  },
  {
   "cell_type": "code",
   "execution_count": 56,
   "metadata": {},
   "outputs": [
    {
     "data": {
      "text/html": [
       "<div>\n",
       "<style scoped>\n",
       "    .dataframe tbody tr th:only-of-type {\n",
       "        vertical-align: middle;\n",
       "    }\n",
       "\n",
       "    .dataframe tbody tr th {\n",
       "        vertical-align: top;\n",
       "    }\n",
       "\n",
       "    .dataframe thead th {\n",
       "        text-align: right;\n",
       "    }\n",
       "</style>\n",
       "<table border=\"1\" class=\"dataframe\">\n",
       "  <thead>\n",
       "    <tr style=\"text-align: right;\">\n",
       "      <th></th>\n",
       "      <th>author</th>\n",
       "      <th>reading_time</th>\n",
       "      <th>link</th>\n",
       "      <th>title</th>\n",
       "      <th>text</th>\n",
       "      <th>claps</th>\n",
       "    </tr>\n",
       "    <tr>\n",
       "      <th>idx</th>\n",
       "      <th></th>\n",
       "      <th></th>\n",
       "      <th></th>\n",
       "      <th></th>\n",
       "      <th></th>\n",
       "      <th></th>\n",
       "    </tr>\n",
       "  </thead>\n",
       "  <tbody>\n",
       "    <tr>\n",
       "      <th>156</th>\n",
       "      <td>Bartosz Szabłowski</td>\n",
       "      <td>19</td>\n",
       "      <td>https://towardsdatascience.com/how-convolution...</td>\n",
       "      <td>How Convolutional Neural Network works | by Ba...</td>\n",
       "      <td>Towards Data Science\\nNov 15, 2020\\nOne of the...</td>\n",
       "      <td>149.0</td>\n",
       "    </tr>\n",
       "    <tr>\n",
       "      <th>331</th>\n",
       "      <td>Sam Taha</td>\n",
       "      <td>5</td>\n",
       "      <td>https://medium.com/@tahasam/bots-ai-and-the-fu...</td>\n",
       "      <td>Bots, AI and the Future of Augmented UX Design...</td>\n",
       "      <td>Jan 1, 2000\\nBots, AI and the Future of Augmen...</td>\n",
       "      <td>0.0</td>\n",
       "    </tr>\n",
       "  </tbody>\n",
       "</table>\n",
       "</div>"
      ],
      "text/plain": [
       "                 author  reading_time  \\\n",
       "idx                                     \n",
       "156  Bartosz Szabłowski            19   \n",
       "331            Sam Taha             5   \n",
       "\n",
       "                                                  link  \\\n",
       "idx                                                      \n",
       "156  https://towardsdatascience.com/how-convolution...   \n",
       "331  https://medium.com/@tahasam/bots-ai-and-the-fu...   \n",
       "\n",
       "                                                 title  \\\n",
       "idx                                                      \n",
       "156  How Convolutional Neural Network works | by Ba...   \n",
       "331  Bots, AI and the Future of Augmented UX Design...   \n",
       "\n",
       "                                                  text  claps  \n",
       "idx                                                            \n",
       "156  Towards Data Science\\nNov 15, 2020\\nOne of the...  149.0  \n",
       "331  Jan 1, 2000\\nBots, AI and the Future of Augmen...    0.0  "
      ]
     },
     "execution_count": 56,
     "metadata": {},
     "output_type": "execute_result"
    }
   ],
   "source": [
    "test_data.loc[indeces_title].head(2)"
   ]
  },
  {
   "cell_type": "code",
   "execution_count": 57,
   "metadata": {},
   "outputs": [
    {
     "data": {
      "text/html": [
       "<div>\n",
       "<style scoped>\n",
       "    .dataframe tbody tr th:only-of-type {\n",
       "        vertical-align: middle;\n",
       "    }\n",
       "\n",
       "    .dataframe tbody tr th {\n",
       "        vertical-align: top;\n",
       "    }\n",
       "\n",
       "    .dataframe thead th {\n",
       "        text-align: right;\n",
       "    }\n",
       "</style>\n",
       "<table border=\"1\" class=\"dataframe\">\n",
       "  <thead>\n",
       "    <tr style=\"text-align: right;\">\n",
       "      <th></th>\n",
       "      <th>title</th>\n",
       "      <th>publication</th>\n",
       "      <th>author</th>\n",
       "      <th>followers</th>\n",
       "      <th>reading_time</th>\n",
       "      <th>n_words</th>\n",
       "      <th>pure_text</th>\n",
       "      <th>date</th>\n",
       "      <th>n_code_chunks</th>\n",
       "      <th>bold_text_count</th>\n",
       "      <th>italic_text_count</th>\n",
       "      <th>mean_image_width</th>\n",
       "      <th>mean_image_height</th>\n",
       "      <th>n_images</th>\n",
       "      <th>n_lists</th>\n",
       "      <th>n_vids</th>\n",
       "      <th>n_links</th>\n",
       "      <th>target</th>\n",
       "    </tr>\n",
       "    <tr>\n",
       "      <th>idx</th>\n",
       "      <th></th>\n",
       "      <th></th>\n",
       "      <th></th>\n",
       "      <th></th>\n",
       "      <th></th>\n",
       "      <th></th>\n",
       "      <th></th>\n",
       "      <th></th>\n",
       "      <th></th>\n",
       "      <th></th>\n",
       "      <th></th>\n",
       "      <th></th>\n",
       "      <th></th>\n",
       "      <th></th>\n",
       "      <th></th>\n",
       "      <th></th>\n",
       "      <th></th>\n",
       "      <th></th>\n",
       "    </tr>\n",
       "  </thead>\n",
       "  <tbody>\n",
       "    <tr>\n",
       "      <th>156</th>\n",
       "      <td>How Convolutional Neural Network works</td>\n",
       "      <td>Towards Data Science</td>\n",
       "      <td>Bartosz Szabłowski</td>\n",
       "      <td>NaN</td>\n",
       "      <td>19.0</td>\n",
       "      <td>240.0</td>\n",
       "      <td>The first issue of image analysis is classific...</td>\n",
       "      <td>15/11/2020</td>\n",
       "      <td>0.0</td>\n",
       "      <td>0.0</td>\n",
       "      <td>0.0</td>\n",
       "      <td>NaN</td>\n",
       "      <td>NaN</td>\n",
       "      <td>0.0</td>\n",
       "      <td>0.0</td>\n",
       "      <td>NaN</td>\n",
       "      <td>0.0</td>\n",
       "      <td>149.0</td>\n",
       "    </tr>\n",
       "    <tr>\n",
       "      <th>331</th>\n",
       "      <td>Bots, AI and the Future of Augmented UX Design</td>\n",
       "      <td>NaN</td>\n",
       "      <td>Sam Taha</td>\n",
       "      <td>27.0</td>\n",
       "      <td>5.0</td>\n",
       "      <td>233.0</td>\n",
       "      <td>Now, what if we could have the same augmented ...</td>\n",
       "      <td>01/01/2000</td>\n",
       "      <td>0.0</td>\n",
       "      <td>1.0</td>\n",
       "      <td>3.0</td>\n",
       "      <td>380.0</td>\n",
       "      <td>225.0</td>\n",
       "      <td>4.0</td>\n",
       "      <td>0.0</td>\n",
       "      <td>0.0</td>\n",
       "      <td>1.0</td>\n",
       "      <td>0.0</td>\n",
       "    </tr>\n",
       "  </tbody>\n",
       "</table>\n",
       "</div>"
      ],
      "text/plain": [
       "                                               title           publication  \\\n",
       "idx                                                                          \n",
       "156          How Convolutional Neural Network works   Towards Data Science   \n",
       "331  Bots, AI and the Future of Augmented UX Design                    NaN   \n",
       "\n",
       "                 author  followers  reading_time  n_words  \\\n",
       "idx                                                         \n",
       "156  Bartosz Szabłowski        NaN          19.0    240.0   \n",
       "331            Sam Taha       27.0           5.0    233.0   \n",
       "\n",
       "                                             pure_text        date  \\\n",
       "idx                                                                  \n",
       "156  The first issue of image analysis is classific...  15/11/2020   \n",
       "331  Now, what if we could have the same augmented ...  01/01/2000   \n",
       "\n",
       "     n_code_chunks  bold_text_count  italic_text_count  mean_image_width  \\\n",
       "idx                                                                        \n",
       "156            0.0              0.0                0.0               NaN   \n",
       "331            0.0              1.0                3.0             380.0   \n",
       "\n",
       "     mean_image_height  n_images  n_lists  n_vids  n_links  target  \n",
       "idx                                                                 \n",
       "156                NaN       0.0      0.0     NaN      0.0   149.0  \n",
       "331              225.0       4.0      0.0     0.0      1.0     0.0  "
      ]
     },
     "execution_count": 57,
     "metadata": {},
     "output_type": "execute_result"
    }
   ],
   "source": [
    "data.loc[indeces_title].head(2)"
   ]
  },
  {
   "cell_type": "code",
   "execution_count": 43,
   "metadata": {},
   "outputs": [],
   "source": [
    "for idx in [156, 545, 828, 905, 1553, 1973, 2674, 3455]:\n",
    "    date_string = test_data.loc[idx].text.split('\\n')[1]    \n",
    "    data.iat[idx, data.columns.get_loc('date')] = datetime.datetime.strptime(date_string, '%b %d, %Y').strftime('%d/%m/%Y') \n",
    "    data.iat[idx, data.columns.get_loc('publication')] = test_data.loc[idx].text.split('\\n')[0] \n"
   ]
  },
  {
   "cell_type": "code",
   "execution_count": 36,
   "metadata": {},
   "outputs": [],
   "source": [
    "date_indeces = set(indeces_title) - set([156, 545, 828, 905, 1553, 1973, 2674, 3455])"
   ]
  },
  {
   "cell_type": "code",
   "execution_count": 40,
   "metadata": {},
   "outputs": [],
   "source": [
    "import datetime\n",
    "for idx in date_indeces:\n",
    "    date_string = test_data.loc[idx].text.split('\\n')[0]    \n",
    "    data.iat[idx, data.columns.get_loc('date')] = datetime.datetime.strptime(date_string, '%b %d, %Y').strftime('%d/%m/%Y') \n",
    "# publication [156, 545, 828, 905, 1553, 1973, 2674, 3455]"
   ]
  },
  {
   "cell_type": "code",
   "execution_count": 49,
   "metadata": {},
   "outputs": [
    {
     "data": {
      "text/html": [
       "<div>\n",
       "<style scoped>\n",
       "    .dataframe tbody tr th:only-of-type {\n",
       "        vertical-align: middle;\n",
       "    }\n",
       "\n",
       "    .dataframe tbody tr th {\n",
       "        vertical-align: top;\n",
       "    }\n",
       "\n",
       "    .dataframe thead th {\n",
       "        text-align: right;\n",
       "    }\n",
       "</style>\n",
       "<table border=\"1\" class=\"dataframe\">\n",
       "  <thead>\n",
       "    <tr style=\"text-align: right;\">\n",
       "      <th></th>\n",
       "      <th>author</th>\n",
       "      <th>reading_time</th>\n",
       "      <th>link</th>\n",
       "      <th>title</th>\n",
       "      <th>text</th>\n",
       "      <th>claps</th>\n",
       "    </tr>\n",
       "    <tr>\n",
       "      <th>idx</th>\n",
       "      <th></th>\n",
       "      <th></th>\n",
       "      <th></th>\n",
       "      <th></th>\n",
       "      <th></th>\n",
       "      <th></th>\n",
       "    </tr>\n",
       "  </thead>\n",
       "  <tbody>\n",
       "    <tr>\n",
       "      <th>156</th>\n",
       "      <td>Bartosz Szabłowski</td>\n",
       "      <td>19</td>\n",
       "      <td>https://towardsdatascience.com/how-convolution...</td>\n",
       "      <td>How Convolutional Neural Network works | by Ba...</td>\n",
       "      <td>Towards Data Science\\nNov 15, 2020\\nOne of the...</td>\n",
       "      <td>149.0</td>\n",
       "    </tr>\n",
       "    <tr>\n",
       "      <th>331</th>\n",
       "      <td>Sam Taha</td>\n",
       "      <td>5</td>\n",
       "      <td>https://medium.com/@tahasam/bots-ai-and-the-fu...</td>\n",
       "      <td>Bots, AI and the Future of Augmented UX Design...</td>\n",
       "      <td>Jan 1, 2000\\nBots, AI and the Future of Augmen...</td>\n",
       "      <td>0.0</td>\n",
       "    </tr>\n",
       "  </tbody>\n",
       "</table>\n",
       "</div>"
      ],
      "text/plain": [
       "                 author  reading_time  \\\n",
       "idx                                     \n",
       "156  Bartosz Szabłowski            19   \n",
       "331            Sam Taha             5   \n",
       "\n",
       "                                                  link  \\\n",
       "idx                                                      \n",
       "156  https://towardsdatascience.com/how-convolution...   \n",
       "331  https://medium.com/@tahasam/bots-ai-and-the-fu...   \n",
       "\n",
       "                                                 title  \\\n",
       "idx                                                      \n",
       "156  How Convolutional Neural Network works | by Ba...   \n",
       "331  Bots, AI and the Future of Augmented UX Design...   \n",
       "\n",
       "                                                  text  claps  \n",
       "idx                                                            \n",
       "156  Towards Data Science\\nNov 15, 2020\\nOne of the...  149.0  \n",
       "331  Jan 1, 2000\\nBots, AI and the Future of Augmen...    0.0  "
      ]
     },
     "execution_count": 49,
     "metadata": {},
     "output_type": "execute_result"
    }
   ],
   "source": [
    "test_data.loc[indeces_title].head(2)"
   ]
  },
  {
   "cell_type": "code",
   "execution_count": 54,
   "metadata": {},
   "outputs": [],
   "source": [
    "for idx in indeces_title:\n",
    "    data.iat[idx, data.columns.get_loc('title')]  = test_data.loc[idx].title.split('|')[0]\n",
    "    data.iat[idx, data.columns.get_loc('author')]  = test_data.loc[idx].author\n",
    "    data.iat[idx, data.columns.get_loc('reading_time')]  = test_data.loc[idx].reading_time\n",
    "    data.iat[idx, data.columns.get_loc('pure_text')] = test_data.loc[idx].text.split('\\n')[3]\n",
    "    data.iat[idx, data.columns.get_loc('n_words')] = len(test_data.loc[idx].text.split('\\n')[3].split())\n",
    "#author, title, reading_time"
   ]
  },
  {
   "cell_type": "code",
   "execution_count": 67,
   "metadata": {},
   "outputs": [
    {
     "data": {
      "text/html": [
       "<div>\n",
       "<style scoped>\n",
       "    .dataframe tbody tr th:only-of-type {\n",
       "        vertical-align: middle;\n",
       "    }\n",
       "\n",
       "    .dataframe tbody tr th {\n",
       "        vertical-align: top;\n",
       "    }\n",
       "\n",
       "    .dataframe thead th {\n",
       "        text-align: right;\n",
       "    }\n",
       "</style>\n",
       "<table border=\"1\" class=\"dataframe\">\n",
       "  <thead>\n",
       "    <tr style=\"text-align: right;\">\n",
       "      <th></th>\n",
       "      <th>title</th>\n",
       "      <th>publication</th>\n",
       "      <th>author</th>\n",
       "      <th>followers</th>\n",
       "      <th>reading_time</th>\n",
       "      <th>n_words</th>\n",
       "      <th>pure_text</th>\n",
       "      <th>date</th>\n",
       "      <th>n_code_chunks</th>\n",
       "      <th>bold_text_count</th>\n",
       "      <th>italic_text_count</th>\n",
       "      <th>mean_image_width</th>\n",
       "      <th>mean_image_height</th>\n",
       "      <th>n_images</th>\n",
       "      <th>n_lists</th>\n",
       "      <th>n_vids</th>\n",
       "      <th>n_links</th>\n",
       "      <th>target</th>\n",
       "    </tr>\n",
       "    <tr>\n",
       "      <th>idx</th>\n",
       "      <th></th>\n",
       "      <th></th>\n",
       "      <th></th>\n",
       "      <th></th>\n",
       "      <th></th>\n",
       "      <th></th>\n",
       "      <th></th>\n",
       "      <th></th>\n",
       "      <th></th>\n",
       "      <th></th>\n",
       "      <th></th>\n",
       "      <th></th>\n",
       "      <th></th>\n",
       "      <th></th>\n",
       "      <th></th>\n",
       "      <th></th>\n",
       "      <th></th>\n",
       "      <th></th>\n",
       "    </tr>\n",
       "  </thead>\n",
       "  <tbody>\n",
       "    <tr>\n",
       "      <th>156</th>\n",
       "      <td>How Convolutional Neural Network works</td>\n",
       "      <td>Towards Data Science</td>\n",
       "      <td>Bartosz Szabłowski</td>\n",
       "      <td>NaN</td>\n",
       "      <td>19.0</td>\n",
       "      <td>240.0</td>\n",
       "      <td>The first issue of image analysis is classific...</td>\n",
       "      <td>15/11/2020</td>\n",
       "      <td>0.0</td>\n",
       "      <td>0.0</td>\n",
       "      <td>0.0</td>\n",
       "      <td>NaN</td>\n",
       "      <td>NaN</td>\n",
       "      <td>0.0</td>\n",
       "      <td>0.0</td>\n",
       "      <td>NaN</td>\n",
       "      <td>0.0</td>\n",
       "      <td>149.0</td>\n",
       "    </tr>\n",
       "  </tbody>\n",
       "</table>\n",
       "</div>"
      ],
      "text/plain": [
       "                                       title           publication  \\\n",
       "idx                                                                  \n",
       "156  How Convolutional Neural Network works   Towards Data Science   \n",
       "\n",
       "                 author  followers  reading_time  n_words  \\\n",
       "idx                                                         \n",
       "156  Bartosz Szabłowski        NaN          19.0    240.0   \n",
       "\n",
       "                                             pure_text        date  \\\n",
       "idx                                                                  \n",
       "156  The first issue of image analysis is classific...  15/11/2020   \n",
       "\n",
       "     n_code_chunks  bold_text_count  italic_text_count  mean_image_width  \\\n",
       "idx                                                                        \n",
       "156            0.0              0.0                0.0               NaN   \n",
       "\n",
       "     mean_image_height  n_images  n_lists  n_vids  n_links  target  \n",
       "idx                                                                 \n",
       "156                NaN       0.0      0.0     NaN      0.0   149.0  "
      ]
     },
     "execution_count": 67,
     "metadata": {},
     "output_type": "execute_result"
    }
   ],
   "source": [
    "data.loc[indeces_title].head(1)"
   ]
  },
  {
   "cell_type": "code",
   "execution_count": 61,
   "metadata": {},
   "outputs": [
    {
     "data": {
      "text/plain": [
       "0"
      ]
     },
     "execution_count": 61,
     "metadata": {},
     "output_type": "execute_result"
    }
   ],
   "source": [
    "data['title'].isna().sum()"
   ]
  },
  {
   "cell_type": "code",
   "execution_count": 62,
   "metadata": {},
   "outputs": [
    {
     "name": "stdout",
     "output_type": "stream",
     "text": [
      "Before repeated scrapping:  944\n"
     ]
    },
    {
     "name": "stderr",
     "output_type": "stream",
     "text": [
      "  2%|▏         | 15/944 [03:11<3:03:49, 11.87s/page]"
     ]
    },
    {
     "name": "stdout",
     "output_type": "stream",
     "text": [
      "Can't get image's sizes\n"
     ]
    },
    {
     "name": "stderr",
     "output_type": "stream",
     "text": [
      "  3%|▎         | 24/944 [04:58<3:14:53, 12.71s/page]"
     ]
    },
    {
     "name": "stdout",
     "output_type": "stream",
     "text": [
      "Can't get image's sizes\n"
     ]
    },
    {
     "name": "stderr",
     "output_type": "stream",
     "text": [
      "  3%|▎         | 29/944 [06:03<3:24:50, 13.43s/page]"
     ]
    },
    {
     "name": "stdout",
     "output_type": "stream",
     "text": [
      "Can't get image's sizes\n"
     ]
    },
    {
     "name": "stderr",
     "output_type": "stream",
     "text": [
      "  4%|▎         | 34/944 [06:57<2:47:00, 11.01s/page]"
     ]
    },
    {
     "name": "stdout",
     "output_type": "stream",
     "text": [
      "Can't get image's sizes\n"
     ]
    },
    {
     "name": "stderr",
     "output_type": "stream",
     "text": [
      "  4%|▍         | 39/944 [08:11<3:05:28, 12.30s/page]"
     ]
    },
    {
     "name": "stdout",
     "output_type": "stream",
     "text": [
      "Can't get image's sizes\n"
     ]
    },
    {
     "name": "stderr",
     "output_type": "stream",
     "text": [
      "  4%|▍         | 40/944 [08:21<2:55:04, 11.62s/page]"
     ]
    },
    {
     "name": "stdout",
     "output_type": "stream",
     "text": [
      "Can't get image's sizes\n"
     ]
    },
    {
     "name": "stderr",
     "output_type": "stream",
     "text": [
      "  6%|▋         | 61/944 [12:50<3:47:58, 15.49s/page]"
     ]
    },
    {
     "name": "stdout",
     "output_type": "stream",
     "text": [
      "Can't get image's sizes\n"
     ]
    },
    {
     "name": "stderr",
     "output_type": "stream",
     "text": [
      "  7%|▋         | 62/944 [12:59<3:17:32, 13.44s/page]"
     ]
    },
    {
     "name": "stdout",
     "output_type": "stream",
     "text": [
      "Can't get image's sizes\n"
     ]
    },
    {
     "name": "stderr",
     "output_type": "stream",
     "text": [
      "  7%|▋         | 69/944 [14:35<3:39:29, 15.05s/page]"
     ]
    },
    {
     "name": "stdout",
     "output_type": "stream",
     "text": [
      "Can't get image's sizes\n"
     ]
    },
    {
     "name": "stderr",
     "output_type": "stream",
     "text": [
      "  8%|▊         | 72/944 [15:08<3:01:53, 12.52s/page]"
     ]
    },
    {
     "name": "stdout",
     "output_type": "stream",
     "text": [
      "Time out\n"
     ]
    },
    {
     "name": "stderr",
     "output_type": "stream",
     "text": [
      "  8%|▊         | 76/944 [16:35<3:58:16, 16.47s/page]"
     ]
    },
    {
     "name": "stdout",
     "output_type": "stream",
     "text": [
      "Can't go to the followers info\n"
     ]
    },
    {
     "name": "stderr",
     "output_type": "stream",
     "text": [
      "  8%|▊         | 79/944 [17:09<3:10:21, 13.20s/page]"
     ]
    },
    {
     "name": "stdout",
     "output_type": "stream",
     "text": [
      "Can't get image's sizes\n"
     ]
    },
    {
     "name": "stderr",
     "output_type": "stream",
     "text": [
      "  8%|▊         | 80/944 [17:17<2:50:01, 11.81s/page]"
     ]
    },
    {
     "name": "stdout",
     "output_type": "stream",
     "text": [
      "Couldn't get title from article.\n"
     ]
    },
    {
     "name": "stderr",
     "output_type": "stream",
     "text": [
      "  9%|▉         | 84/944 [18:00<2:37:26, 10.98s/page]"
     ]
    },
    {
     "name": "stdout",
     "output_type": "stream",
     "text": [
      "Couldn't get title from article.\n"
     ]
    },
    {
     "name": "stderr",
     "output_type": "stream",
     "text": [
      "  9%|▉         | 85/944 [18:10<2:32:07, 10.63s/page]"
     ]
    },
    {
     "name": "stdout",
     "output_type": "stream",
     "text": [
      "Can't get image's sizes\n",
      "Couldn't get title from article.\n"
     ]
    },
    {
     "name": "stderr",
     "output_type": "stream",
     "text": [
      " 12%|█▏        | 114/944 [24:16<4:06:56, 17.85s/page]"
     ]
    },
    {
     "name": "stdout",
     "output_type": "stream",
     "text": [
      "Can't get image's sizes\n"
     ]
    },
    {
     "name": "stderr",
     "output_type": "stream",
     "text": [
      " 12%|█▏        | 117/944 [24:57<3:39:20, 15.91s/page]"
     ]
    },
    {
     "name": "stdout",
     "output_type": "stream",
     "text": [
      "Can't get image's sizes\n"
     ]
    },
    {
     "name": "stderr",
     "output_type": "stream",
     "text": [
      " 13%|█▎        | 122/944 [26:24<3:16:17, 14.33s/page]"
     ]
    },
    {
     "name": "stdout",
     "output_type": "stream",
     "text": [
      "Can't get image's sizes\n"
     ]
    },
    {
     "name": "stderr",
     "output_type": "stream",
     "text": [
      " 13%|█▎        | 123/944 [26:35<3:02:02, 13.30s/page]"
     ]
    },
    {
     "name": "stdout",
     "output_type": "stream",
     "text": [
      "Can't get image's sizes\n"
     ]
    },
    {
     "name": "stderr",
     "output_type": "stream",
     "text": [
      " 14%|█▍        | 130/944 [28:07<3:07:10, 13.80s/page]"
     ]
    },
    {
     "name": "stdout",
     "output_type": "stream",
     "text": [
      "Can't get image's sizes\n"
     ]
    },
    {
     "name": "stderr",
     "output_type": "stream",
     "text": [
      " 14%|█▍        | 136/944 [29:35<3:14:08, 14.42s/page]"
     ]
    },
    {
     "name": "stdout",
     "output_type": "stream",
     "text": [
      "Can't get image's sizes\n"
     ]
    },
    {
     "name": "stderr",
     "output_type": "stream",
     "text": [
      " 15%|█▍        | 138/944 [29:53<2:38:34, 11.81s/page]"
     ]
    },
    {
     "name": "stdout",
     "output_type": "stream",
     "text": [
      "Can't get image's sizes\n"
     ]
    },
    {
     "name": "stderr",
     "output_type": "stream",
     "text": [
      " 15%|█▍        | 139/944 [30:02<2:25:52, 10.87s/page]"
     ]
    },
    {
     "name": "stdout",
     "output_type": "stream",
     "text": [
      "Can't get image's sizes\n"
     ]
    },
    {
     "name": "stderr",
     "output_type": "stream",
     "text": [
      " 15%|█▌        | 143/944 [30:47<2:34:42, 11.59s/page]"
     ]
    },
    {
     "name": "stdout",
     "output_type": "stream",
     "text": [
      "Can't get image's sizes\n"
     ]
    },
    {
     "name": "stderr",
     "output_type": "stream",
     "text": [
      " 15%|█▌        | 145/944 [31:11<2:43:00, 12.24s/page]"
     ]
    },
    {
     "name": "stdout",
     "output_type": "stream",
     "text": [
      "Can't go to the followers info\n"
     ]
    },
    {
     "name": "stderr",
     "output_type": "stream",
     "text": [
      " 16%|█▌        | 153/944 [32:46<2:28:57, 11.30s/page]"
     ]
    },
    {
     "name": "stdout",
     "output_type": "stream",
     "text": [
      "Can't go to the followers info\n"
     ]
    },
    {
     "name": "stderr",
     "output_type": "stream",
     "text": [
      " 17%|█▋        | 161/944 [34:19<2:44:19, 12.59s/page]"
     ]
    },
    {
     "name": "stdout",
     "output_type": "stream",
     "text": [
      "Can't get image's sizes\n"
     ]
    },
    {
     "name": "stderr",
     "output_type": "stream",
     "text": [
      " 17%|█▋        | 163/944 [34:41<2:33:54, 11.82s/page]"
     ]
    },
    {
     "name": "stdout",
     "output_type": "stream",
     "text": [
      "Can't get image's sizes\n"
     ]
    },
    {
     "name": "stderr",
     "output_type": "stream",
     "text": [
      " 18%|█▊        | 169/944 [35:49<2:21:58, 10.99s/page]"
     ]
    },
    {
     "name": "stdout",
     "output_type": "stream",
     "text": [
      "Can't get image's sizes\n"
     ]
    },
    {
     "name": "stderr",
     "output_type": "stream",
     "text": [
      " 19%|█▉        | 180/944 [38:06<2:55:44, 13.80s/page]"
     ]
    },
    {
     "name": "stdout",
     "output_type": "stream",
     "text": [
      "Can't get image's sizes\n"
     ]
    },
    {
     "name": "stderr",
     "output_type": "stream",
     "text": [
      " 19%|█▉        | 183/944 [38:46<2:49:44, 13.38s/page]"
     ]
    },
    {
     "name": "stdout",
     "output_type": "stream",
     "text": [
      "Can't go to the followers info\n"
     ]
    },
    {
     "name": "stderr",
     "output_type": "stream",
     "text": [
      " 19%|█▉        | 184/944 [39:07<3:19:22, 15.74s/page]"
     ]
    },
    {
     "name": "stdout",
     "output_type": "stream",
     "text": [
      "Can't go to the followers info\n"
     ]
    },
    {
     "name": "stderr",
     "output_type": "stream",
     "text": [
      " 21%|██▏       | 201/944 [42:28<2:33:31, 12.40s/page]"
     ]
    },
    {
     "name": "stdout",
     "output_type": "stream",
     "text": [
      "Can't get image's sizes\n"
     ]
    },
    {
     "name": "stderr",
     "output_type": "stream",
     "text": [
      " 21%|██▏       | 202/944 [42:38<2:24:00, 11.65s/page]"
     ]
    },
    {
     "name": "stdout",
     "output_type": "stream",
     "text": [
      "Can't get image's sizes\n"
     ]
    },
    {
     "name": "stderr",
     "output_type": "stream",
     "text": [
      " 23%|██▎       | 219/944 [46:11<2:19:37, 11.56s/page]"
     ]
    },
    {
     "name": "stdout",
     "output_type": "stream",
     "text": [
      "Can't get image's sizes\n"
     ]
    },
    {
     "name": "stderr",
     "output_type": "stream",
     "text": [
      " 24%|██▍       | 225/944 [47:16<2:10:49, 10.92s/page]"
     ]
    },
    {
     "name": "stdout",
     "output_type": "stream",
     "text": [
      "Can't get image's sizes\n"
     ]
    },
    {
     "name": "stderr",
     "output_type": "stream",
     "text": [
      " 24%|██▍       | 230/944 [48:31<2:26:31, 12.31s/page]"
     ]
    },
    {
     "name": "stdout",
     "output_type": "stream",
     "text": [
      "Couldn't get title from article.\n"
     ]
    },
    {
     "name": "stderr",
     "output_type": "stream",
     "text": [
      " 25%|██▌       | 238/944 [50:05<2:18:00, 11.73s/page]"
     ]
    },
    {
     "name": "stdout",
     "output_type": "stream",
     "text": [
      "Can't get image's sizes\n"
     ]
    },
    {
     "name": "stderr",
     "output_type": "stream",
     "text": [
      " 26%|██▌       | 243/944 [51:09<2:41:01, 13.78s/page]"
     ]
    },
    {
     "name": "stdout",
     "output_type": "stream",
     "text": [
      "Couldn't get title from article.\n"
     ]
    },
    {
     "name": "stderr",
     "output_type": "stream",
     "text": [
      " 26%|██▋       | 249/944 [52:11<2:06:31, 10.92s/page]"
     ]
    },
    {
     "name": "stdout",
     "output_type": "stream",
     "text": [
      "Can't get image's sizes\n"
     ]
    },
    {
     "name": "stderr",
     "output_type": "stream",
     "text": [
      " 26%|██▋       | 250/944 [52:20<1:57:50, 10.19s/page]"
     ]
    },
    {
     "name": "stdout",
     "output_type": "stream",
     "text": [
      "Can't get image's sizes\n",
      "Couldn't get title from article.\n"
     ]
    },
    {
     "name": "stderr",
     "output_type": "stream",
     "text": [
      " 27%|██▋       | 258/944 [54:10<3:06:22, 16.30s/page]"
     ]
    },
    {
     "name": "stdout",
     "output_type": "stream",
     "text": [
      "Can't get image's sizes\n"
     ]
    },
    {
     "name": "stderr",
     "output_type": "stream",
     "text": [
      " 28%|██▊       | 267/944 [56:17<2:20:27, 12.45s/page]"
     ]
    },
    {
     "name": "stdout",
     "output_type": "stream",
     "text": [
      "Can't get image's sizes\n"
     ]
    },
    {
     "name": "stderr",
     "output_type": "stream",
     "text": [
      " 29%|██▊       | 270/944 [56:47<2:03:17, 10.98s/page]"
     ]
    },
    {
     "name": "stdout",
     "output_type": "stream",
     "text": [
      "Can't get image's sizes\n"
     ]
    },
    {
     "name": "stderr",
     "output_type": "stream",
     "text": [
      " 29%|██▉       | 276/944 [58:09<2:01:58, 10.96s/page]"
     ]
    },
    {
     "name": "stdout",
     "output_type": "stream",
     "text": [
      "Can't go to the followers info\n"
     ]
    },
    {
     "name": "stderr",
     "output_type": "stream",
     "text": [
      " 30%|██▉       | 282/944 [59:16<2:00:14, 10.90s/page]"
     ]
    },
    {
     "name": "stdout",
     "output_type": "stream",
     "text": [
      "Can't get image's sizes\n"
     ]
    },
    {
     "name": "stderr",
     "output_type": "stream",
     "text": [
      " 30%|███       | 286/944 [1:00:07<2:18:00, 12.58s/page]"
     ]
    },
    {
     "name": "stdout",
     "output_type": "stream",
     "text": [
      "Can't get image's sizes\n",
      "Couldn't get title from article.\n"
     ]
    },
    {
     "name": "stderr",
     "output_type": "stream",
     "text": [
      " 31%|███       | 290/944 [1:00:51<2:06:40, 11.62s/page]"
     ]
    },
    {
     "name": "stdout",
     "output_type": "stream",
     "text": [
      "Can't get image's sizes\n",
      "Couldn't get title from article.\n"
     ]
    },
    {
     "name": "stderr",
     "output_type": "stream",
     "text": [
      " 31%|███       | 294/944 [1:01:41<2:18:33, 12.79s/page]"
     ]
    },
    {
     "name": "stdout",
     "output_type": "stream",
     "text": [
      "Can't get image's sizes\n"
     ]
    },
    {
     "name": "stderr",
     "output_type": "stream",
     "text": [
      " 34%|███▍      | 319/944 [1:06:11<2:09:46, 12.46s/page]"
     ]
    },
    {
     "name": "stdout",
     "output_type": "stream",
     "text": [
      "Can't get image's sizes\n"
     ]
    },
    {
     "name": "stderr",
     "output_type": "stream",
     "text": [
      " 34%|███▍      | 321/944 [1:06:32<1:59:10, 11.48s/page]"
     ]
    },
    {
     "name": "stdout",
     "output_type": "stream",
     "text": [
      "Can't get image's sizes\n"
     ]
    },
    {
     "name": "stderr",
     "output_type": "stream",
     "text": [
      " 34%|███▍      | 322/944 [1:06:41<1:51:17, 10.74s/page]"
     ]
    },
    {
     "name": "stdout",
     "output_type": "stream",
     "text": [
      "Can't get image's sizes\n",
      "Couldn't get title from article.\n"
     ]
    },
    {
     "name": "stderr",
     "output_type": "stream",
     "text": [
      " 34%|███▍      | 325/944 [1:07:13<1:49:43, 10.64s/page]"
     ]
    },
    {
     "name": "stdout",
     "output_type": "stream",
     "text": [
      "Can't get image's sizes\n"
     ]
    },
    {
     "name": "stderr",
     "output_type": "stream",
     "text": [
      " 35%|███▍      | 327/944 [1:07:32<1:43:19, 10.05s/page]"
     ]
    },
    {
     "name": "stdout",
     "output_type": "stream",
     "text": [
      "Can't get image's sizes\n",
      "Couldn't get title from article.\n"
     ]
    },
    {
     "name": "stderr",
     "output_type": "stream",
     "text": [
      " 35%|███▍      | 328/944 [1:07:40<1:37:52,  9.53s/page]"
     ]
    },
    {
     "name": "stdout",
     "output_type": "stream",
     "text": [
      "Can't get image's sizes\n"
     ]
    },
    {
     "name": "stderr",
     "output_type": "stream",
     "text": [
      " 35%|███▌      | 333/944 [1:08:36<1:54:47, 11.27s/page]"
     ]
    },
    {
     "name": "stdout",
     "output_type": "stream",
     "text": [
      "Can't get image's sizes\n"
     ]
    },
    {
     "name": "stderr",
     "output_type": "stream",
     "text": [
      " 36%|███▌      | 336/944 [1:09:04<1:41:31, 10.02s/page]"
     ]
    },
    {
     "name": "stdout",
     "output_type": "stream",
     "text": [
      "Can't get image's sizes\n"
     ]
    },
    {
     "name": "stderr",
     "output_type": "stream",
     "text": [
      " 36%|███▌      | 338/944 [1:09:22<1:37:21,  9.64s/page]"
     ]
    },
    {
     "name": "stdout",
     "output_type": "stream",
     "text": [
      "Can't get image's sizes\n"
     ]
    },
    {
     "name": "stderr",
     "output_type": "stream",
     "text": [
      " 36%|███▌      | 341/944 [1:09:58<1:52:51, 11.23s/page]"
     ]
    },
    {
     "name": "stdout",
     "output_type": "stream",
     "text": [
      "Can't get image's sizes\n"
     ]
    },
    {
     "name": "stderr",
     "output_type": "stream",
     "text": [
      " 36%|███▌      | 342/944 [1:10:29<2:51:18, 17.07s/page]"
     ]
    },
    {
     "name": "stdout",
     "output_type": "stream",
     "text": [
      "Can't get image's sizes\n"
     ]
    },
    {
     "name": "stderr",
     "output_type": "stream",
     "text": [
      " 37%|███▋      | 350/944 [1:11:53<1:47:39, 10.88s/page]"
     ]
    },
    {
     "name": "stdout",
     "output_type": "stream",
     "text": [
      "Can't get image's sizes\n"
     ]
    },
    {
     "name": "stderr",
     "output_type": "stream",
     "text": [
      " 38%|███▊      | 358/944 [1:13:25<1:52:54, 11.56s/page]"
     ]
    },
    {
     "name": "stdout",
     "output_type": "stream",
     "text": [
      "Can't get image's sizes\n",
      "Couldn't get title from article.\n"
     ]
    },
    {
     "name": "stderr",
     "output_type": "stream",
     "text": [
      " 39%|███▉      | 371/944 [1:16:00<1:57:21, 12.29s/page]"
     ]
    },
    {
     "name": "stdout",
     "output_type": "stream",
     "text": [
      "Can't get image's sizes\n"
     ]
    },
    {
     "name": "stderr",
     "output_type": "stream",
     "text": [
      " 40%|███▉      | 375/944 [1:16:46<1:55:30, 12.18s/page]"
     ]
    },
    {
     "name": "stdout",
     "output_type": "stream",
     "text": [
      "Can't get image's sizes\n",
      "Couldn't get title from article.\n"
     ]
    },
    {
     "name": "stderr",
     "output_type": "stream",
     "text": [
      " 40%|████      | 381/944 [1:18:03<1:55:39, 12.33s/page]"
     ]
    },
    {
     "name": "stdout",
     "output_type": "stream",
     "text": [
      "Can't get image's sizes\n"
     ]
    },
    {
     "name": "stderr",
     "output_type": "stream",
     "text": [
      " 42%|████▏     | 394/944 [1:21:00<1:47:54, 11.77s/page]"
     ]
    },
    {
     "name": "stdout",
     "output_type": "stream",
     "text": [
      "Couldn't get title from article.\n"
     ]
    },
    {
     "name": "stderr",
     "output_type": "stream",
     "text": [
      " 43%|████▎     | 409/944 [1:23:42<1:40:46, 11.30s/page]"
     ]
    },
    {
     "name": "stdout",
     "output_type": "stream",
     "text": [
      "Can't go to the followers info\n"
     ]
    },
    {
     "name": "stderr",
     "output_type": "stream",
     "text": [
      " 44%|████▍     | 417/944 [1:25:45<2:22:46, 16.25s/page]"
     ]
    },
    {
     "name": "stdout",
     "output_type": "stream",
     "text": [
      "Can't get image's sizes\n"
     ]
    },
    {
     "name": "stderr",
     "output_type": "stream",
     "text": [
      " 45%|████▍     | 421/944 [1:26:32<1:54:16, 13.11s/page]"
     ]
    },
    {
     "name": "stdout",
     "output_type": "stream",
     "text": [
      "Can't get image's sizes\n"
     ]
    },
    {
     "name": "stderr",
     "output_type": "stream",
     "text": [
      " 45%|████▍     | 423/944 [1:26:54<1:43:50, 11.96s/page]"
     ]
    },
    {
     "name": "stdout",
     "output_type": "stream",
     "text": [
      "Can't go to the followers info\n"
     ]
    },
    {
     "name": "stderr",
     "output_type": "stream",
     "text": [
      " 46%|████▌     | 431/944 [1:28:25<1:38:00, 11.46s/page]"
     ]
    },
    {
     "name": "stdout",
     "output_type": "stream",
     "text": [
      "Can't get image's sizes\n"
     ]
    },
    {
     "name": "stderr",
     "output_type": "stream",
     "text": [
      " 46%|████▌     | 433/944 [1:28:45<1:34:30, 11.10s/page]"
     ]
    },
    {
     "name": "stdout",
     "output_type": "stream",
     "text": [
      "Couldn't get title from article.\n"
     ]
    },
    {
     "name": "stderr",
     "output_type": "stream",
     "text": [
      " 46%|████▌     | 436/944 [1:29:24<1:41:38, 12.00s/page]"
     ]
    },
    {
     "name": "stdout",
     "output_type": "stream",
     "text": [
      "Can't get image's sizes\n"
     ]
    },
    {
     "name": "stderr",
     "output_type": "stream",
     "text": [
      " 47%|████▋     | 440/944 [1:30:10<1:34:31, 11.25s/page]"
     ]
    },
    {
     "name": "stdout",
     "output_type": "stream",
     "text": [
      "Can't go to the followers info\n"
     ]
    },
    {
     "name": "stderr",
     "output_type": "stream",
     "text": [
      " 47%|████▋     | 446/944 [1:31:09<1:25:53, 10.35s/page]"
     ]
    },
    {
     "name": "stdout",
     "output_type": "stream",
     "text": [
      "Can't get image's sizes\n"
     ]
    },
    {
     "name": "stderr",
     "output_type": "stream",
     "text": [
      " 47%|████▋     | 448/944 [1:31:28<1:23:39, 10.12s/page]"
     ]
    },
    {
     "name": "stdout",
     "output_type": "stream",
     "text": [
      "Can't get image's sizes\n"
     ]
    },
    {
     "name": "stderr",
     "output_type": "stream",
     "text": [
      " 48%|████▊     | 454/944 [1:33:01<1:54:27, 14.02s/page]"
     ]
    },
    {
     "name": "stdout",
     "output_type": "stream",
     "text": [
      "Can't get image's sizes\n"
     ]
    },
    {
     "name": "stderr",
     "output_type": "stream",
     "text": [
      " 49%|████▊     | 458/944 [1:33:44<1:36:43, 11.94s/page]"
     ]
    },
    {
     "name": "stdout",
     "output_type": "stream",
     "text": [
      "Can't get image's sizes\n"
     ]
    },
    {
     "name": "stderr",
     "output_type": "stream",
     "text": [
      " 49%|████▉     | 467/944 [1:35:36<1:50:20, 13.88s/page]"
     ]
    },
    {
     "name": "stdout",
     "output_type": "stream",
     "text": [
      "Can't get image's sizes\n"
     ]
    },
    {
     "name": "stderr",
     "output_type": "stream",
     "text": [
      " 50%|█████     | 473/944 [1:37:00<1:49:00, 13.89s/page]"
     ]
    },
    {
     "name": "stdout",
     "output_type": "stream",
     "text": [
      "Can't get image's sizes\n"
     ]
    },
    {
     "name": "stderr",
     "output_type": "stream",
     "text": [
      " 50%|█████     | 474/944 [1:37:33<2:33:23, 19.58s/page]"
     ]
    },
    {
     "name": "stdout",
     "output_type": "stream",
     "text": [
      "Can't get image's sizes\n"
     ]
    },
    {
     "name": "stderr",
     "output_type": "stream",
     "text": [
      " 51%|█████     | 477/944 [1:38:09<1:57:56, 15.15s/page]"
     ]
    },
    {
     "name": "stdout",
     "output_type": "stream",
     "text": [
      "Can't get image's sizes\n"
     ]
    },
    {
     "name": "stderr",
     "output_type": "stream",
     "text": [
      " 51%|█████     | 483/944 [1:39:20<1:34:14, 12.27s/page]"
     ]
    },
    {
     "name": "stdout",
     "output_type": "stream",
     "text": [
      "Can't go to the followers info\n"
     ]
    },
    {
     "name": "stderr",
     "output_type": "stream",
     "text": [
      " 51%|█████▏    | 485/944 [1:39:42<1:30:03, 11.77s/page]"
     ]
    },
    {
     "name": "stdout",
     "output_type": "stream",
     "text": [
      "Couldn't get title from article.\n"
     ]
    },
    {
     "name": "stderr",
     "output_type": "stream",
     "text": [
      " 52%|█████▏    | 488/944 [1:40:36<2:16:06, 17.91s/page]"
     ]
    },
    {
     "name": "stdout",
     "output_type": "stream",
     "text": [
      "Can't get image's sizes\n"
     ]
    },
    {
     "name": "stderr",
     "output_type": "stream",
     "text": [
      " 52%|█████▏    | 491/944 [1:41:10<1:41:35, 13.46s/page]"
     ]
    },
    {
     "name": "stdout",
     "output_type": "stream",
     "text": [
      "Can't go to the followers info\n"
     ]
    },
    {
     "name": "stderr",
     "output_type": "stream",
     "text": [
      " 53%|█████▎    | 499/944 [1:42:42<1:30:09, 12.16s/page]"
     ]
    },
    {
     "name": "stdout",
     "output_type": "stream",
     "text": [
      "Can't get image's sizes\n",
      "Can't go to the followers info\n"
     ]
    },
    {
     "name": "stderr",
     "output_type": "stream",
     "text": [
      " 55%|█████▍    | 518/944 [1:46:33<1:20:16, 11.31s/page]"
     ]
    },
    {
     "name": "stdout",
     "output_type": "stream",
     "text": [
      "Can't get image's sizes\n"
     ]
    },
    {
     "name": "stderr",
     "output_type": "stream",
     "text": [
      " 55%|█████▌    | 523/944 [1:47:46<1:25:00, 12.12s/page]"
     ]
    },
    {
     "name": "stdout",
     "output_type": "stream",
     "text": [
      "Can't get image's sizes\n"
     ]
    },
    {
     "name": "stderr",
     "output_type": "stream",
     "text": [
      " 56%|█████▌    | 526/944 [1:48:20<1:21:23, 11.68s/page]"
     ]
    },
    {
     "name": "stdout",
     "output_type": "stream",
     "text": [
      "Can't get image's sizes\n"
     ]
    },
    {
     "name": "stderr",
     "output_type": "stream",
     "text": [
      " 56%|█████▋    | 531/944 [1:49:16<1:22:24, 11.97s/page]"
     ]
    },
    {
     "name": "stdout",
     "output_type": "stream",
     "text": [
      "Can't get image's sizes\n"
     ]
    },
    {
     "name": "stderr",
     "output_type": "stream",
     "text": [
      " 59%|█████▉    | 558/944 [1:54:52<1:31:52, 14.28s/page]"
     ]
    },
    {
     "name": "stdout",
     "output_type": "stream",
     "text": [
      "Can't go to the followers info\n"
     ]
    },
    {
     "name": "stderr",
     "output_type": "stream",
     "text": [
      " 59%|█████▉    | 559/944 [1:55:03<1:24:22, 13.15s/page]"
     ]
    },
    {
     "name": "stdout",
     "output_type": "stream",
     "text": [
      "Can't get image's sizes\n"
     ]
    },
    {
     "name": "stderr",
     "output_type": "stream",
     "text": [
      " 60%|█████▉    | 566/944 [1:56:27<1:15:03, 11.91s/page]"
     ]
    },
    {
     "name": "stdout",
     "output_type": "stream",
     "text": [
      "Can't get image's sizes\n"
     ]
    },
    {
     "name": "stderr",
     "output_type": "stream",
     "text": [
      " 60%|██████    | 570/944 [1:57:06<1:03:12, 10.14s/page]"
     ]
    },
    {
     "name": "stdout",
     "output_type": "stream",
     "text": [
      "Can't get image's sizes\n",
      "Couldn't get title from article.\n",
      "Couldn't get title from article.\n",
      "Can't go to the followers info\n",
      "Couldn't get reading time from article.\n",
      "Couldn't get date from article.\n",
      "Couldn't get YouTube videos.\n"
     ]
    },
    {
     "name": "stderr",
     "output_type": "stream",
     "text": [
      " 62%|██████▏   | 584/944 [1:59:46<1:04:31, 10.76s/page]"
     ]
    },
    {
     "name": "stdout",
     "output_type": "stream",
     "text": [
      "Can't get image's sizes\n"
     ]
    },
    {
     "name": "stderr",
     "output_type": "stream",
     "text": [
      " 62%|██████▏   | 586/944 [2:00:06<1:02:40, 10.50s/page]"
     ]
    },
    {
     "name": "stdout",
     "output_type": "stream",
     "text": [
      "Can't get image's sizes\n"
     ]
    },
    {
     "name": "stderr",
     "output_type": "stream",
     "text": [
      " 62%|██████▏   | 587/944 [2:00:15<1:00:18, 10.14s/page]"
     ]
    },
    {
     "name": "stdout",
     "output_type": "stream",
     "text": [
      "Can't go to the followers info\n"
     ]
    },
    {
     "name": "stderr",
     "output_type": "stream",
     "text": [
      " 62%|██████▏   | 588/944 [2:00:25<58:55,  9.93s/page]  "
     ]
    },
    {
     "name": "stdout",
     "output_type": "stream",
     "text": [
      "Can't get image's sizes\n"
     ]
    },
    {
     "name": "stderr",
     "output_type": "stream",
     "text": [
      " 62%|██████▎   | 590/944 [2:01:08<1:27:30, 14.83s/page]"
     ]
    },
    {
     "name": "stdout",
     "output_type": "stream",
     "text": [
      "Can't get image's sizes\n"
     ]
    },
    {
     "name": "stderr",
     "output_type": "stream",
     "text": [
      " 63%|██████▎   | 594/944 [2:01:50<1:05:44, 11.27s/page]"
     ]
    },
    {
     "name": "stdout",
     "output_type": "stream",
     "text": [
      "Can't get image's sizes\n"
     ]
    },
    {
     "name": "stderr",
     "output_type": "stream",
     "text": [
      " 63%|██████▎   | 595/944 [2:01:59<1:01:00, 10.49s/page]"
     ]
    },
    {
     "name": "stdout",
     "output_type": "stream",
     "text": [
      "Can't get image's sizes\n"
     ]
    },
    {
     "name": "stderr",
     "output_type": "stream",
     "text": [
      " 64%|██████▎   | 600/944 [2:02:51<1:01:42, 10.76s/page]"
     ]
    },
    {
     "name": "stdout",
     "output_type": "stream",
     "text": [
      "Can't get image's sizes\n"
     ]
    },
    {
     "name": "stderr",
     "output_type": "stream",
     "text": [
      " 64%|██████▎   | 601/944 [2:03:01<58:46, 10.28s/page]  "
     ]
    },
    {
     "name": "stdout",
     "output_type": "stream",
     "text": [
      "Can't get image's sizes\n"
     ]
    },
    {
     "name": "stderr",
     "output_type": "stream",
     "text": [
      " 64%|██████▍   | 604/944 [2:03:28<54:50,  9.68s/page]"
     ]
    },
    {
     "name": "stdout",
     "output_type": "stream",
     "text": [
      "Can't get image's sizes\n"
     ]
    },
    {
     "name": "stderr",
     "output_type": "stream",
     "text": [
      " 64%|██████▍   | 606/944 [2:03:49<56:35, 10.05s/page]"
     ]
    },
    {
     "name": "stdout",
     "output_type": "stream",
     "text": [
      "Can't get image's sizes\n"
     ]
    },
    {
     "name": "stderr",
     "output_type": "stream",
     "text": [
      " 66%|██████▌   | 619/944 [2:06:28<1:06:13, 12.23s/page]"
     ]
    },
    {
     "name": "stdout",
     "output_type": "stream",
     "text": [
      "Couldn't get title from article.\n"
     ]
    },
    {
     "name": "stderr",
     "output_type": "stream",
     "text": [
      " 67%|██████▋   | 631/944 [2:08:41<58:15, 11.17s/page]  "
     ]
    },
    {
     "name": "stdout",
     "output_type": "stream",
     "text": [
      "Can't get image's sizes\n"
     ]
    },
    {
     "name": "stderr",
     "output_type": "stream",
     "text": [
      " 67%|██████▋   | 635/944 [2:09:49<1:09:05, 13.41s/page]"
     ]
    },
    {
     "name": "stdout",
     "output_type": "stream",
     "text": [
      "Can't get image's sizes\n"
     ]
    },
    {
     "name": "stderr",
     "output_type": "stream",
     "text": [
      " 69%|██████▉   | 649/944 [2:13:07<59:14, 12.05s/page]  "
     ]
    },
    {
     "name": "stdout",
     "output_type": "stream",
     "text": [
      "Can't get image's sizes\n"
     ]
    },
    {
     "name": "stderr",
     "output_type": "stream",
     "text": [
      " 69%|██████▉   | 651/944 [2:13:27<53:09, 10.89s/page]"
     ]
    },
    {
     "name": "stdout",
     "output_type": "stream",
     "text": [
      "Can't get image's sizes\n"
     ]
    },
    {
     "name": "stderr",
     "output_type": "stream",
     "text": [
      " 70%|██████▉   | 660/944 [2:15:05<54:31, 11.52s/page]"
     ]
    },
    {
     "name": "stdout",
     "output_type": "stream",
     "text": [
      "Can't get image's sizes\n"
     ]
    },
    {
     "name": "stderr",
     "output_type": "stream",
     "text": [
      " 71%|███████   | 668/944 [2:16:35<52:41, 11.46s/page]"
     ]
    },
    {
     "name": "stdout",
     "output_type": "stream",
     "text": [
      "Can't go to the followers info\n"
     ]
    },
    {
     "name": "stderr",
     "output_type": "stream",
     "text": [
      " 72%|███████▏  | 675/944 [2:18:01<52:38, 11.74s/page]  "
     ]
    },
    {
     "name": "stdout",
     "output_type": "stream",
     "text": [
      "Can't get image's sizes\n"
     ]
    },
    {
     "name": "stderr",
     "output_type": "stream",
     "text": [
      " 72%|███████▏  | 678/944 [2:18:30<47:23, 10.69s/page]"
     ]
    },
    {
     "name": "stdout",
     "output_type": "stream",
     "text": [
      "Can't get image's sizes\n"
     ]
    },
    {
     "name": "stderr",
     "output_type": "stream",
     "text": [
      " 72%|███████▏  | 680/944 [2:18:48<42:59,  9.77s/page]"
     ]
    },
    {
     "name": "stdout",
     "output_type": "stream",
     "text": [
      "Can't get image's sizes\n"
     ]
    },
    {
     "name": "stderr",
     "output_type": "stream",
     "text": [
      " 72%|███████▏  | 681/944 [2:19:17<1:08:00, 15.51s/page]"
     ]
    },
    {
     "name": "stdout",
     "output_type": "stream",
     "text": [
      "Can't get image's sizes\n"
     ]
    },
    {
     "name": "stderr",
     "output_type": "stream",
     "text": [
      " 72%|███████▏  | 683/944 [2:19:38<57:32, 13.23s/page]  "
     ]
    },
    {
     "name": "stdout",
     "output_type": "stream",
     "text": [
      "Can't get image's sizes\n"
     ]
    },
    {
     "name": "stderr",
     "output_type": "stream",
     "text": [
      " 73%|███████▎  | 685/944 [2:19:59<51:25, 11.91s/page]"
     ]
    },
    {
     "name": "stdout",
     "output_type": "stream",
     "text": [
      "Can't get image's sizes\n"
     ]
    },
    {
     "name": "stderr",
     "output_type": "stream",
     "text": [
      " 73%|███████▎  | 686/944 [2:20:09<48:39, 11.32s/page]"
     ]
    },
    {
     "name": "stdout",
     "output_type": "stream",
     "text": [
      "Can't get image's sizes\n"
     ]
    },
    {
     "name": "stderr",
     "output_type": "stream",
     "text": [
      " 73%|███████▎  | 689/944 [2:20:39<45:27, 10.70s/page]"
     ]
    },
    {
     "name": "stdout",
     "output_type": "stream",
     "text": [
      "Can't get image's sizes\n",
      "Can't go to the followers info\n"
     ]
    },
    {
     "name": "stderr",
     "output_type": "stream",
     "text": [
      " 74%|███████▎  | 696/944 [2:22:25<56:09, 13.59s/page]  "
     ]
    },
    {
     "name": "stdout",
     "output_type": "stream",
     "text": [
      "Can't get image's sizes\n",
      "Couldn't get title from article.\n"
     ]
    },
    {
     "name": "stderr",
     "output_type": "stream",
     "text": [
      " 74%|███████▍  | 702/944 [2:23:32<48:33, 12.04s/page]"
     ]
    },
    {
     "name": "stdout",
     "output_type": "stream",
     "text": [
      "Can't go to the followers info\n"
     ]
    },
    {
     "name": "stderr",
     "output_type": "stream",
     "text": [
      " 75%|███████▌  | 711/944 [2:25:18<43:56, 11.32s/page]"
     ]
    },
    {
     "name": "stdout",
     "output_type": "stream",
     "text": [
      "Can't go to the followers info\n",
      "Couldn't get date from article.\n"
     ]
    },
    {
     "name": "stderr",
     "output_type": "stream",
     "text": [
      " 77%|███████▋  | 726/944 [2:28:20<41:19, 11.37s/page]"
     ]
    },
    {
     "name": "stdout",
     "output_type": "stream",
     "text": [
      "Can't get image's sizes\n"
     ]
    },
    {
     "name": "stderr",
     "output_type": "stream",
     "text": [
      " 77%|███████▋  | 728/944 [2:28:40<38:18, 10.64s/page]"
     ]
    },
    {
     "name": "stdout",
     "output_type": "stream",
     "text": [
      "Can't get image's sizes\n"
     ]
    },
    {
     "name": "stderr",
     "output_type": "stream",
     "text": [
      " 78%|███████▊  | 733/944 [2:29:28<34:18,  9.75s/page]"
     ]
    },
    {
     "name": "stdout",
     "output_type": "stream",
     "text": [
      "Can't go to the followers info\n"
     ]
    },
    {
     "name": "stderr",
     "output_type": "stream",
     "text": [
      " 79%|███████▉  | 744/944 [2:31:44<37:19, 11.20s/page]"
     ]
    },
    {
     "name": "stdout",
     "output_type": "stream",
     "text": [
      "Can't get image's sizes\n"
     ]
    },
    {
     "name": "stderr",
     "output_type": "stream",
     "text": [
      " 79%|███████▉  | 746/944 [2:32:03<34:16, 10.39s/page]"
     ]
    },
    {
     "name": "stdout",
     "output_type": "stream",
     "text": [
      "Can't get image's sizes\n",
      "Can't go to the followers info\n"
     ]
    },
    {
     "name": "stderr",
     "output_type": "stream",
     "text": [
      " 79%|███████▉  | 748/944 [2:32:43<46:40, 14.29s/page]"
     ]
    },
    {
     "name": "stdout",
     "output_type": "stream",
     "text": [
      "Can't get image's sizes\n"
     ]
    },
    {
     "name": "stderr",
     "output_type": "stream",
     "text": [
      " 80%|███████▉  | 752/944 [2:33:22<36:29, 11.41s/page]"
     ]
    },
    {
     "name": "stdout",
     "output_type": "stream",
     "text": [
      "Can't get image's sizes\n"
     ]
    },
    {
     "name": "stderr",
     "output_type": "stream",
     "text": [
      " 80%|███████▉  | 753/944 [2:33:33<35:45, 11.23s/page]"
     ]
    },
    {
     "name": "stdout",
     "output_type": "stream",
     "text": [
      "Can't go to the followers info\n"
     ]
    },
    {
     "name": "stderr",
     "output_type": "stream",
     "text": [
      " 80%|███████▉  | 754/944 [2:33:48<39:00, 12.32s/page]"
     ]
    },
    {
     "name": "stdout",
     "output_type": "stream",
     "text": [
      "Can't get image's sizes\n",
      "Couldn't get date from article.\n"
     ]
    },
    {
     "name": "stderr",
     "output_type": "stream",
     "text": [
      " 80%|████████  | 757/944 [2:34:20<35:56, 11.53s/page]"
     ]
    },
    {
     "name": "stdout",
     "output_type": "stream",
     "text": [
      "Can't get image's sizes\n"
     ]
    },
    {
     "name": "stderr",
     "output_type": "stream",
     "text": [
      " 81%|████████  | 763/944 [2:35:26<35:47, 11.86s/page]"
     ]
    },
    {
     "name": "stdout",
     "output_type": "stream",
     "text": [
      "Can't get image's sizes\n",
      "Couldn't get title from article.\n",
      "Couldn't get title from article.\n",
      "Can't go to the followers info\n",
      "Couldn't get reading time from article.\n",
      "Couldn't get date from article.\n",
      "Couldn't get YouTube videos.\n"
     ]
    },
    {
     "name": "stderr",
     "output_type": "stream",
     "text": [
      " 81%|████████▏ | 767/944 [2:36:07<31:05, 10.54s/page]"
     ]
    },
    {
     "name": "stdout",
     "output_type": "stream",
     "text": [
      "Can't get image's sizes\n",
      "Couldn't get title from article.\n"
     ]
    },
    {
     "name": "stderr",
     "output_type": "stream",
     "text": [
      " 82%|████████▏ | 771/944 [2:36:55<36:08, 12.54s/page]"
     ]
    },
    {
     "name": "stdout",
     "output_type": "stream",
     "text": [
      "Can't get image's sizes\n"
     ]
    },
    {
     "name": "stderr",
     "output_type": "stream",
     "text": [
      " 82%|████████▏ | 775/944 [2:38:00<43:50, 15.56s/page]"
     ]
    },
    {
     "name": "stdout",
     "output_type": "stream",
     "text": [
      "Can't get image's sizes\n"
     ]
    },
    {
     "name": "stderr",
     "output_type": "stream",
     "text": [
      " 82%|████████▏ | 776/944 [2:38:11<39:08, 13.98s/page]"
     ]
    },
    {
     "name": "stdout",
     "output_type": "stream",
     "text": [
      "Can't get image's sizes\n"
     ]
    },
    {
     "name": "stderr",
     "output_type": "stream",
     "text": [
      " 83%|████████▎ | 779/944 [2:39:13<46:09, 16.78s/page]"
     ]
    },
    {
     "name": "stdout",
     "output_type": "stream",
     "text": [
      "Can't go to the followers info\n"
     ]
    },
    {
     "name": "stderr",
     "output_type": "stream",
     "text": [
      " 83%|████████▎ | 785/944 [2:40:37<37:41, 14.23s/page]"
     ]
    },
    {
     "name": "stdout",
     "output_type": "stream",
     "text": [
      "Can't get image's sizes\n"
     ]
    },
    {
     "name": "stderr",
     "output_type": "stream",
     "text": [
      " 83%|████████▎ | 786/944 [2:40:47<34:24, 13.07s/page]"
     ]
    },
    {
     "name": "stdout",
     "output_type": "stream",
     "text": [
      "Can't get image's sizes\n"
     ]
    },
    {
     "name": "stderr",
     "output_type": "stream",
     "text": [
      " 84%|████████▍ | 792/944 [2:42:14<30:53, 12.19s/page]"
     ]
    },
    {
     "name": "stdout",
     "output_type": "stream",
     "text": [
      "Can't get image's sizes\n"
     ]
    },
    {
     "name": "stderr",
     "output_type": "stream",
     "text": [
      " 84%|████████▍ | 793/944 [2:42:23<28:16, 11.24s/page]"
     ]
    },
    {
     "name": "stdout",
     "output_type": "stream",
     "text": [
      "Can't go to the followers info\n"
     ]
    },
    {
     "name": "stderr",
     "output_type": "stream",
     "text": [
      " 85%|████████▍ | 799/944 [2:43:30<27:13, 11.27s/page]"
     ]
    },
    {
     "name": "stdout",
     "output_type": "stream",
     "text": [
      "Can't get image's sizes\n"
     ]
    },
    {
     "name": "stderr",
     "output_type": "stream",
     "text": [
      " 85%|████████▌ | 803/944 [2:44:36<31:13, 13.29s/page]"
     ]
    },
    {
     "name": "stdout",
     "output_type": "stream",
     "text": [
      "Couldn't get title from article.\n",
      "Can't go to the followers info\n"
     ]
    },
    {
     "name": "stderr",
     "output_type": "stream",
     "text": [
      " 86%|████████▌ | 809/944 [2:45:43<24:50, 11.04s/page]"
     ]
    },
    {
     "name": "stdout",
     "output_type": "stream",
     "text": [
      "Can't get image's sizes\n"
     ]
    },
    {
     "name": "stderr",
     "output_type": "stream",
     "text": [
      " 86%|████████▌ | 810/944 [2:45:52<23:09, 10.37s/page]"
     ]
    },
    {
     "name": "stdout",
     "output_type": "stream",
     "text": [
      "Can't get image's sizes\n"
     ]
    },
    {
     "name": "stderr",
     "output_type": "stream",
     "text": [
      " 88%|████████▊ | 827/944 [2:49:16<25:07, 12.88s/page]"
     ]
    },
    {
     "name": "stdout",
     "output_type": "stream",
     "text": [
      "Can't get image's sizes\n"
     ]
    },
    {
     "name": "stderr",
     "output_type": "stream",
     "text": [
      " 88%|████████▊ | 831/944 [2:49:56<19:31, 10.37s/page]"
     ]
    },
    {
     "name": "stdout",
     "output_type": "stream",
     "text": [
      "Can't get image's sizes\n",
      "Couldn't get title from article.\n"
     ]
    },
    {
     "name": "stderr",
     "output_type": "stream",
     "text": [
      " 89%|████████▉ | 838/944 [2:51:14<21:04, 11.93s/page]"
     ]
    },
    {
     "name": "stdout",
     "output_type": "stream",
     "text": [
      "Can't get image's sizes\n",
      "Can't go to the followers info\n"
     ]
    },
    {
     "name": "stderr",
     "output_type": "stream",
     "text": [
      " 89%|████████▉ | 840/944 [2:51:36<19:59, 11.54s/page]"
     ]
    },
    {
     "name": "stdout",
     "output_type": "stream",
     "text": [
      "Couldn't get title from article.\n"
     ]
    },
    {
     "name": "stderr",
     "output_type": "stream",
     "text": [
      " 90%|████████▉ | 847/944 [2:53:00<20:33, 12.71s/page]"
     ]
    },
    {
     "name": "stdout",
     "output_type": "stream",
     "text": [
      "Couldn't get title from article.\n"
     ]
    },
    {
     "name": "stderr",
     "output_type": "stream",
     "text": [
      " 91%|█████████ | 855/944 [2:54:24<16:08, 10.89s/page]"
     ]
    },
    {
     "name": "stdout",
     "output_type": "stream",
     "text": [
      "Can't get image's sizes\n"
     ]
    },
    {
     "name": "stderr",
     "output_type": "stream",
     "text": [
      " 91%|█████████ | 856/944 [2:54:54<24:30, 16.71s/page]"
     ]
    },
    {
     "name": "stdout",
     "output_type": "stream",
     "text": [
      "Couldn't get title from article.\n"
     ]
    },
    {
     "name": "stderr",
     "output_type": "stream",
     "text": [
      " 91%|█████████▏| 862/944 [2:56:02<16:25, 12.02s/page]"
     ]
    },
    {
     "name": "stdout",
     "output_type": "stream",
     "text": [
      "Can't go to the followers info\n"
     ]
    },
    {
     "name": "stderr",
     "output_type": "stream",
     "text": [
      " 94%|█████████▍| 886/944 [3:00:35<10:22, 10.73s/page]"
     ]
    },
    {
     "name": "stdout",
     "output_type": "stream",
     "text": [
      "Can't get image's sizes\n"
     ]
    },
    {
     "name": "stderr",
     "output_type": "stream",
     "text": [
      " 94%|█████████▍| 887/944 [3:00:46<10:18, 10.84s/page]"
     ]
    },
    {
     "name": "stdout",
     "output_type": "stream",
     "text": [
      "Couldn't get title from article.\n"
     ]
    },
    {
     "name": "stderr",
     "output_type": "stream",
     "text": [
      " 94%|█████████▍| 891/944 [3:01:30<09:39, 10.93s/page]"
     ]
    },
    {
     "name": "stdout",
     "output_type": "stream",
     "text": [
      "Can't get image's sizes\n"
     ]
    },
    {
     "name": "stderr",
     "output_type": "stream",
     "text": [
      " 95%|█████████▌| 900/944 [3:03:15<08:48, 12.01s/page]"
     ]
    },
    {
     "name": "stdout",
     "output_type": "stream",
     "text": [
      "Can't get image's sizes\n"
     ]
    },
    {
     "name": "stderr",
     "output_type": "stream",
     "text": [
      " 96%|█████████▌| 903/944 [3:03:46<07:34, 11.08s/page]"
     ]
    },
    {
     "name": "stdout",
     "output_type": "stream",
     "text": [
      "Can't get image's sizes\n",
      "Couldn't get title from article.\n",
      "Couldn't get title from article.\n",
      "Can't go to the followers info\n",
      "Couldn't get reading time from article.\n",
      "Couldn't get date from article.\n",
      "Couldn't get YouTube videos.\n"
     ]
    },
    {
     "name": "stderr",
     "output_type": "stream",
     "text": [
      " 96%|█████████▌| 904/944 [3:03:54<06:44, 10.11s/page]"
     ]
    },
    {
     "name": "stdout",
     "output_type": "stream",
     "text": [
      "Can't go to the followers info\n"
     ]
    },
    {
     "name": "stderr",
     "output_type": "stream",
     "text": [
      " 96%|█████████▌| 905/944 [3:04:03<06:23,  9.84s/page]"
     ]
    },
    {
     "name": "stdout",
     "output_type": "stream",
     "text": [
      "Can't get image's sizes\n"
     ]
    },
    {
     "name": "stderr",
     "output_type": "stream",
     "text": [
      " 96%|█████████▌| 906/944 [3:04:36<10:37, 16.77s/page]"
     ]
    },
    {
     "name": "stdout",
     "output_type": "stream",
     "text": [
      "Can't get image's sizes\n"
     ]
    },
    {
     "name": "stderr",
     "output_type": "stream",
     "text": [
      " 96%|█████████▌| 908/944 [3:04:57<08:19, 13.87s/page]"
     ]
    },
    {
     "name": "stdout",
     "output_type": "stream",
     "text": [
      "Can't get image's sizes\n"
     ]
    },
    {
     "name": "stderr",
     "output_type": "stream",
     "text": [
      " 97%|█████████▋| 916/944 [3:06:15<04:43, 10.12s/page]"
     ]
    },
    {
     "name": "stdout",
     "output_type": "stream",
     "text": [
      "Can't get image's sizes\n"
     ]
    },
    {
     "name": "stderr",
     "output_type": "stream",
     "text": [
      " 97%|█████████▋| 919/944 [3:07:12<06:07, 14.69s/page]"
     ]
    },
    {
     "name": "stdout",
     "output_type": "stream",
     "text": [
      "Can't get image's sizes\n"
     ]
    },
    {
     "name": "stderr",
     "output_type": "stream",
     "text": [
      " 98%|█████████▊| 927/944 [3:08:48<03:23, 12.00s/page]"
     ]
    },
    {
     "name": "stdout",
     "output_type": "stream",
     "text": [
      "Can't get image's sizes\n"
     ]
    },
    {
     "name": "stderr",
     "output_type": "stream",
     "text": [
      " 98%|█████████▊| 929/944 [3:09:06<02:38, 10.60s/page]"
     ]
    },
    {
     "name": "stdout",
     "output_type": "stream",
     "text": [
      "Can't get image's sizes\n"
     ]
    },
    {
     "name": "stderr",
     "output_type": "stream",
     "text": [
      " 99%|█████████▊| 930/944 [3:09:15<02:20, 10.03s/page]"
     ]
    },
    {
     "name": "stdout",
     "output_type": "stream",
     "text": [
      "Can't get image's sizes\n"
     ]
    },
    {
     "name": "stderr",
     "output_type": "stream",
     "text": [
      " 99%|█████████▊| 931/944 [3:09:24<02:08,  9.91s/page]"
     ]
    },
    {
     "name": "stdout",
     "output_type": "stream",
     "text": [
      "Can't get image's sizes\n"
     ]
    },
    {
     "name": "stderr",
     "output_type": "stream",
     "text": [
      " 99%|█████████▉| 937/944 [3:10:29<01:16, 11.00s/page]"
     ]
    },
    {
     "name": "stdout",
     "output_type": "stream",
     "text": [
      "Can't get image's sizes\n"
     ]
    },
    {
     "name": "stderr",
     "output_type": "stream",
     "text": [
      "100%|█████████▉| 941/944 [3:11:12<00:32, 10.99s/page]"
     ]
    },
    {
     "name": "stdout",
     "output_type": "stream",
     "text": [
      "Can't go to the followers info\n"
     ]
    },
    {
     "name": "stderr",
     "output_type": "stream",
     "text": [
      "100%|██████████| 944/944 [3:11:45<00:00, 12.19s/page]"
     ]
    },
    {
     "name": "stdout",
     "output_type": "stream",
     "text": [
      "After scrapping:  936\n"
     ]
    },
    {
     "name": "stderr",
     "output_type": "stream",
     "text": [
      "\n"
     ]
    }
   ],
   "source": [
    "scrape_column('publication')"
   ]
  },
  {
   "cell_type": "code",
   "execution_count": 69,
   "metadata": {},
   "outputs": [
    {
     "data": {
      "text/plain": [
       "idx\n",
       "7               Adam Simek\n",
       "18           John Mannelly\n",
       "23           Sagar Pokhrel\n",
       "29              Ratul Aich\n",
       "31            Matthew Chan\n",
       "               ...        \n",
       "3736       napat thumvanit\n",
       "3737    Aleksi Pietikäinen\n",
       "3738            Meghakumar\n",
       "3746          Adam Pickard\n",
       "3755         Neha Tripathi\n",
       "Name: author, Length: 936, dtype: object"
      ]
     },
     "execution_count": 69,
     "metadata": {},
     "output_type": "execute_result"
    }
   ],
   "source": [
    "data.loc[data[data['publication'].isna() == True].index]['author']"
   ]
  },
  {
   "cell_type": "code",
   "execution_count": 74,
   "metadata": {},
   "outputs": [],
   "source": [
    "MONTH = ['Jan', 'Feb', 'Mar', 'Apr',\n",
    "            'May', 'Jun', 'Jul', 'Aug',\n",
    "            'Sep', 'Oct', 'Nov', 'Dec']"
   ]
  },
  {
   "cell_type": "code",
   "execution_count": 95,
   "metadata": {},
   "outputs": [
    {
     "name": "stdout",
     "output_type": "stream",
     "text": [
      "Machine Intelligence Report\n",
      "ML Review\n",
      "Machine Intelligence Report\n"
     ]
    }
   ],
   "source": [
    "orgs = []\n",
    "for text, idx in zip(\n",
    "    test_data.loc[data[data['publication'].isna() == True].index].text.values,\n",
    "    data[data['publication'].isna() == True].index):\n",
    "    text_ = text.split('\\n')\n",
    "    if text.split('\\n')[0].split(' ')[0] in MONTH:\n",
    "        continue\n",
    "    else:\n",
    "        print(text.split('\\n')[0])"
   ]
  },
  {
   "cell_type": "code",
   "execution_count": 295,
   "metadata": {},
   "outputs": [],
   "source": [
    "data.publication = data.publication.fillna('Medium').values"
   ]
  },
  {
   "cell_type": "code",
   "execution_count": 296,
   "metadata": {},
   "outputs": [
    {
     "data": {
      "text/plain": [
       "0"
      ]
     },
     "execution_count": 296,
     "metadata": {},
     "output_type": "execute_result"
    }
   ],
   "source": [
    "data['publication'].isna().sum()"
   ]
  },
  {
   "cell_type": "code",
   "execution_count": 63,
   "metadata": {},
   "outputs": [
    {
     "name": "stdout",
     "output_type": "stream",
     "text": [
      "Before repeated scrapping:  11\n"
     ]
    },
    {
     "name": "stderr",
     "output_type": "stream",
     "text": [
      " 36%|███▋      | 4/11 [00:44<01:16, 10.97s/page]"
     ]
    },
    {
     "name": "stdout",
     "output_type": "stream",
     "text": [
      "Can't get image's sizes\n"
     ]
    },
    {
     "name": "stderr",
     "output_type": "stream",
     "text": [
      "100%|██████████| 11/11 [02:10<00:00, 11.88s/page]"
     ]
    },
    {
     "name": "stdout",
     "output_type": "stream",
     "text": [
      "After scrapping:  0\n"
     ]
    },
    {
     "name": "stderr",
     "output_type": "stream",
     "text": [
      "\n"
     ]
    }
   ],
   "source": [
    "scrape_column('author')"
   ]
  },
  {
   "cell_type": "code",
   "execution_count": 64,
   "metadata": {},
   "outputs": [
    {
     "name": "stdout",
     "output_type": "stream",
     "text": [
      "Before repeated scrapping:  56\n"
     ]
    },
    {
     "name": "stderr",
     "output_type": "stream",
     "text": [
      "  0%|          | 0/56 [00:00<?, ?page/s]"
     ]
    },
    {
     "name": "stdout",
     "output_type": "stream",
     "text": [
      "Can't get image's sizes\n",
      "Couldn't get title from article.\n",
      "Couldn't get title from article.\n",
      "Can't go to the followers info\n",
      "Couldn't get reading time from article.\n",
      "Couldn't get date from article.\n",
      "Couldn't get YouTube videos.\n"
     ]
    },
    {
     "name": "stderr",
     "output_type": "stream",
     "text": [
      "  2%|▏         | 1/56 [00:08<07:42,  8.41s/page]"
     ]
    },
    {
     "name": "stdout",
     "output_type": "stream",
     "text": [
      "Can't go to the followers info\n"
     ]
    },
    {
     "name": "stderr",
     "output_type": "stream",
     "text": [
      "  4%|▎         | 2/56 [00:20<09:38, 10.71s/page]"
     ]
    },
    {
     "name": "stdout",
     "output_type": "stream",
     "text": [
      "Can't go to the followers info\n"
     ]
    },
    {
     "name": "stderr",
     "output_type": "stream",
     "text": [
      "  7%|▋         | 4/56 [00:43<09:39, 11.15s/page]"
     ]
    },
    {
     "name": "stdout",
     "output_type": "stream",
     "text": [
      "Can't go to the followers info\n"
     ]
    },
    {
     "name": "stderr",
     "output_type": "stream",
     "text": [
      " 14%|█▍        | 8/56 [01:25<08:36, 10.77s/page]"
     ]
    },
    {
     "name": "stdout",
     "output_type": "stream",
     "text": [
      "Can't get image's sizes\n"
     ]
    },
    {
     "name": "stderr",
     "output_type": "stream",
     "text": [
      " 20%|█▉        | 11/56 [02:03<09:19, 12.43s/page]"
     ]
    },
    {
     "name": "stdout",
     "output_type": "stream",
     "text": [
      "Can't go to the followers info\n"
     ]
    },
    {
     "name": "stderr",
     "output_type": "stream",
     "text": [
      " 21%|██▏       | 12/56 [02:14<08:53, 12.12s/page]"
     ]
    },
    {
     "name": "stdout",
     "output_type": "stream",
     "text": [
      "Can't go to the followers info\n"
     ]
    },
    {
     "name": "stderr",
     "output_type": "stream",
     "text": [
      " 23%|██▎       | 13/56 [02:26<08:39, 12.09s/page]"
     ]
    },
    {
     "name": "stdout",
     "output_type": "stream",
     "text": [
      "Can't get image's sizes\n",
      "Can't go to the followers info\n"
     ]
    },
    {
     "name": "stderr",
     "output_type": "stream",
     "text": [
      " 25%|██▌       | 14/56 [03:03<13:38, 19.48s/page]"
     ]
    },
    {
     "name": "stdout",
     "output_type": "stream",
     "text": [
      "Can't go to the followers info\n"
     ]
    },
    {
     "name": "stderr",
     "output_type": "stream",
     "text": [
      " 27%|██▋       | 15/56 [03:16<12:04, 17.67s/page]"
     ]
    },
    {
     "name": "stdout",
     "output_type": "stream",
     "text": [
      "Can't get image's sizes\n",
      "Couldn't get title from article.\n",
      "Couldn't get title from article.\n",
      "Can't go to the followers info\n",
      "Couldn't get reading time from article.\n",
      "Couldn't get date from article.\n",
      "Couldn't get YouTube videos.\n"
     ]
    },
    {
     "name": "stderr",
     "output_type": "stream",
     "text": [
      " 29%|██▊       | 16/56 [03:24<09:49, 14.74s/page]"
     ]
    },
    {
     "name": "stdout",
     "output_type": "stream",
     "text": [
      "Can't get image's sizes\n",
      "Couldn't get title from article.\n",
      "Couldn't get title from article.\n",
      "Can't go to the followers info\n",
      "Couldn't get reading time from article.\n",
      "Couldn't get date from article.\n",
      "Couldn't get YouTube videos.\n"
     ]
    },
    {
     "name": "stderr",
     "output_type": "stream",
     "text": [
      " 30%|███       | 17/56 [03:32<08:14, 12.67s/page]"
     ]
    },
    {
     "name": "stdout",
     "output_type": "stream",
     "text": [
      "Can't go to the followers info\n"
     ]
    },
    {
     "name": "stderr",
     "output_type": "stream",
     "text": [
      " 32%|███▏      | 18/56 [03:45<08:06, 12.80s/page]"
     ]
    },
    {
     "name": "stdout",
     "output_type": "stream",
     "text": [
      "Can't go to the followers info\n"
     ]
    },
    {
     "name": "stderr",
     "output_type": "stream",
     "text": [
      " 34%|███▍      | 19/56 [04:00<08:11, 13.27s/page]"
     ]
    },
    {
     "name": "stdout",
     "output_type": "stream",
     "text": [
      "Can't get image's sizes\n",
      "Can't go to the followers info\n"
     ]
    },
    {
     "name": "stderr",
     "output_type": "stream",
     "text": [
      " 36%|███▌      | 20/56 [04:10<07:26, 12.41s/page]"
     ]
    },
    {
     "name": "stdout",
     "output_type": "stream",
     "text": [
      "Can't go to the followers info\n"
     ]
    },
    {
     "name": "stderr",
     "output_type": "stream",
     "text": [
      " 38%|███▊      | 21/56 [04:19<06:35, 11.29s/page]"
     ]
    },
    {
     "name": "stdout",
     "output_type": "stream",
     "text": [
      "Can't go to the followers info\n"
     ]
    },
    {
     "name": "stderr",
     "output_type": "stream",
     "text": [
      " 39%|███▉      | 22/56 [04:29<06:09, 10.88s/page]"
     ]
    },
    {
     "name": "stdout",
     "output_type": "stream",
     "text": [
      "Can't go to the followers info\n"
     ]
    },
    {
     "name": "stderr",
     "output_type": "stream",
     "text": [
      " 41%|████      | 23/56 [04:37<05:35, 10.18s/page]"
     ]
    },
    {
     "name": "stdout",
     "output_type": "stream",
     "text": [
      "Can't go to the followers info\n"
     ]
    },
    {
     "name": "stderr",
     "output_type": "stream",
     "text": [
      " 45%|████▍     | 25/56 [05:02<05:52, 11.36s/page]"
     ]
    },
    {
     "name": "stdout",
     "output_type": "stream",
     "text": [
      "Can't go to the followers info\n"
     ]
    },
    {
     "name": "stderr",
     "output_type": "stream",
     "text": [
      " 46%|████▋     | 26/56 [05:12<05:23, 10.78s/page]"
     ]
    },
    {
     "name": "stdout",
     "output_type": "stream",
     "text": [
      "Can't go to the followers info\n"
     ]
    },
    {
     "name": "stderr",
     "output_type": "stream",
     "text": [
      " 48%|████▊     | 27/56 [05:23<05:18, 10.97s/page]"
     ]
    },
    {
     "name": "stdout",
     "output_type": "stream",
     "text": [
      "Can't get image's sizes\n",
      "Can't go to the followers info\n"
     ]
    },
    {
     "name": "stderr",
     "output_type": "stream",
     "text": [
      " 50%|█████     | 28/56 [05:52<07:35, 16.27s/page]"
     ]
    },
    {
     "name": "stdout",
     "output_type": "stream",
     "text": [
      "Can't go to the followers info\n"
     ]
    },
    {
     "name": "stderr",
     "output_type": "stream",
     "text": [
      " 54%|█████▎    | 30/56 [06:15<05:59, 13.82s/page]"
     ]
    },
    {
     "name": "stdout",
     "output_type": "stream",
     "text": [
      "Can't go to the followers info\n"
     ]
    },
    {
     "name": "stderr",
     "output_type": "stream",
     "text": [
      " 55%|█████▌    | 31/56 [06:26<05:24, 13.00s/page]"
     ]
    },
    {
     "name": "stdout",
     "output_type": "stream",
     "text": [
      "Can't get image's sizes\n",
      "Couldn't get title from article.\n",
      "Couldn't get title from article.\n",
      "Can't go to the followers info\n",
      "Couldn't get reading time from article.\n",
      "Couldn't get date from article.\n",
      "Couldn't get YouTube videos.\n"
     ]
    },
    {
     "name": "stderr",
     "output_type": "stream",
     "text": [
      " 57%|█████▋    | 32/56 [06:33<04:34, 11.44s/page]"
     ]
    },
    {
     "name": "stdout",
     "output_type": "stream",
     "text": [
      "Can't go to the followers info\n"
     ]
    },
    {
     "name": "stderr",
     "output_type": "stream",
     "text": [
      " 59%|█████▉    | 33/56 [06:42<04:06, 10.73s/page]"
     ]
    },
    {
     "name": "stdout",
     "output_type": "stream",
     "text": [
      "Can't go to the followers info\n"
     ]
    },
    {
     "name": "stderr",
     "output_type": "stream",
     "text": [
      " 61%|██████    | 34/56 [06:57<04:19, 11.79s/page]"
     ]
    },
    {
     "name": "stdout",
     "output_type": "stream",
     "text": [
      "Can't get image's sizes\n",
      "Can't go to the followers info\n"
     ]
    },
    {
     "name": "stderr",
     "output_type": "stream",
     "text": [
      " 62%|██████▎   | 35/56 [07:33<06:43, 19.22s/page]"
     ]
    },
    {
     "name": "stdout",
     "output_type": "stream",
     "text": [
      "Can't go to the followers info\n"
     ]
    },
    {
     "name": "stderr",
     "output_type": "stream",
     "text": [
      " 64%|██████▍   | 36/56 [07:44<05:33, 16.69s/page]"
     ]
    },
    {
     "name": "stdout",
     "output_type": "stream",
     "text": [
      "Can't get image's sizes\n",
      "Can't go to the followers info\n"
     ]
    },
    {
     "name": "stderr",
     "output_type": "stream",
     "text": [
      " 66%|██████▌   | 37/56 [08:14<06:33, 20.73s/page]"
     ]
    },
    {
     "name": "stdout",
     "output_type": "stream",
     "text": [
      "Can't go to the followers info\n"
     ]
    },
    {
     "name": "stderr",
     "output_type": "stream",
     "text": [
      " 68%|██████▊   | 38/56 [08:25<05:18, 17.67s/page]"
     ]
    },
    {
     "name": "stdout",
     "output_type": "stream",
     "text": [
      "Can't go to the followers info\n"
     ]
    },
    {
     "name": "stderr",
     "output_type": "stream",
     "text": [
      " 70%|██████▉   | 39/56 [08:33<04:11, 14.77s/page]"
     ]
    },
    {
     "name": "stdout",
     "output_type": "stream",
     "text": [
      "Can't go to the followers info\n",
      "Couldn't get date from article.\n"
     ]
    },
    {
     "name": "stderr",
     "output_type": "stream",
     "text": [
      " 71%|███████▏  | 40/56 [08:42<03:31, 13.23s/page]"
     ]
    },
    {
     "name": "stdout",
     "output_type": "stream",
     "text": [
      "Can't go to the followers info\n"
     ]
    },
    {
     "name": "stderr",
     "output_type": "stream",
     "text": [
      " 73%|███████▎  | 41/56 [08:54<03:09, 12.63s/page]"
     ]
    },
    {
     "name": "stdout",
     "output_type": "stream",
     "text": [
      "Can't go to the followers info\n"
     ]
    },
    {
     "name": "stderr",
     "output_type": "stream",
     "text": [
      " 75%|███████▌  | 42/56 [09:05<02:51, 12.22s/page]"
     ]
    },
    {
     "name": "stdout",
     "output_type": "stream",
     "text": [
      "Can't go to the followers info\n"
     ]
    },
    {
     "name": "stderr",
     "output_type": "stream",
     "text": [
      " 77%|███████▋  | 43/56 [09:17<02:39, 12.29s/page]"
     ]
    },
    {
     "name": "stdout",
     "output_type": "stream",
     "text": [
      "Can't get image's sizes\n",
      "Couldn't get title from article.\n",
      "Couldn't get title from article.\n",
      "Can't go to the followers info\n",
      "Couldn't get reading time from article.\n",
      "Couldn't get date from article.\n",
      "Couldn't get YouTube videos.\n"
     ]
    },
    {
     "name": "stderr",
     "output_type": "stream",
     "text": [
      " 80%|████████  | 45/56 [09:38<02:05, 11.38s/page]"
     ]
    },
    {
     "name": "stdout",
     "output_type": "stream",
     "text": [
      "Can't go to the followers info\n"
     ]
    },
    {
     "name": "stderr",
     "output_type": "stream",
     "text": [
      " 82%|████████▏ | 46/56 [09:56<02:14, 13.40s/page]"
     ]
    },
    {
     "name": "stdout",
     "output_type": "stream",
     "text": [
      "Can't go to the followers info\n"
     ]
    },
    {
     "name": "stderr",
     "output_type": "stream",
     "text": [
      " 84%|████████▍ | 47/56 [10:05<01:50, 12.27s/page]"
     ]
    },
    {
     "name": "stdout",
     "output_type": "stream",
     "text": [
      "Couldn't get title from article.\n",
      "Can't go to the followers info\n"
     ]
    },
    {
     "name": "stderr",
     "output_type": "stream",
     "text": [
      " 86%|████████▌ | 48/56 [10:17<01:37, 12.17s/page]"
     ]
    },
    {
     "name": "stdout",
     "output_type": "stream",
     "text": [
      "Can't go to the followers info\n"
     ]
    },
    {
     "name": "stderr",
     "output_type": "stream",
     "text": [
      " 88%|████████▊ | 49/56 [10:27<01:20, 11.46s/page]"
     ]
    },
    {
     "name": "stdout",
     "output_type": "stream",
     "text": [
      "Can't get image's sizes\n",
      "Can't go to the followers info\n"
     ]
    },
    {
     "name": "stderr",
     "output_type": "stream",
     "text": [
      " 91%|█████████ | 51/56 [10:48<00:55, 11.05s/page]"
     ]
    },
    {
     "name": "stdout",
     "output_type": "stream",
     "text": [
      "Can't go to the followers info\n"
     ]
    },
    {
     "name": "stderr",
     "output_type": "stream",
     "text": [
      " 93%|█████████▎| 52/56 [10:59<00:44, 11.10s/page]"
     ]
    },
    {
     "name": "stdout",
     "output_type": "stream",
     "text": [
      "Can't get image's sizes\n",
      "Couldn't get title from article.\n",
      "Couldn't get title from article.\n",
      "Can't go to the followers info\n",
      "Couldn't get reading time from article.\n",
      "Couldn't get date from article.\n",
      "Couldn't get YouTube videos.\n"
     ]
    },
    {
     "name": "stderr",
     "output_type": "stream",
     "text": [
      " 95%|█████████▍| 53/56 [11:06<00:30, 10.04s/page]"
     ]
    },
    {
     "name": "stdout",
     "output_type": "stream",
     "text": [
      "Can't get image's sizes\n",
      "Couldn't get title from article.\n",
      "Couldn't get title from article.\n",
      "Can't go to the followers info\n",
      "Couldn't get reading time from article.\n",
      "Couldn't get date from article.\n",
      "Couldn't get YouTube videos.\n"
     ]
    },
    {
     "name": "stderr",
     "output_type": "stream",
     "text": [
      " 96%|█████████▋| 54/56 [11:14<00:18,  9.18s/page]"
     ]
    },
    {
     "name": "stdout",
     "output_type": "stream",
     "text": [
      "Can't go to the followers info\n"
     ]
    },
    {
     "name": "stderr",
     "output_type": "stream",
     "text": [
      " 98%|█████████▊| 55/56 [11:23<00:09,  9.24s/page]"
     ]
    },
    {
     "name": "stdout",
     "output_type": "stream",
     "text": [
      "Can't go to the followers info\n"
     ]
    },
    {
     "name": "stderr",
     "output_type": "stream",
     "text": [
      "100%|██████████| 56/56 [11:35<00:00, 12.42s/page]"
     ]
    },
    {
     "name": "stdout",
     "output_type": "stream",
     "text": [
      "After scrapping:  45\n"
     ]
    },
    {
     "name": "stderr",
     "output_type": "stream",
     "text": [
      "\n"
     ]
    }
   ],
   "source": [
    "scrape_column('followers') #0, 9, 10, 24, 35, 43, 44"
   ]
  },
  {
   "cell_type": "code",
   "execution_count": 124,
   "metadata": {},
   "outputs": [],
   "source": [
    "indeces_followers = data[data['followers'].isna() == True].index"
   ]
  },
  {
   "cell_type": "code",
   "execution_count": 135,
   "metadata": {},
   "outputs": [],
   "source": [
    "mean_fol_idx = [0, 9, 42]\n",
    "# * 0\n",
    "# * 9,\n",
    "# * 42"
   ]
  },
  {
   "cell_type": "code",
   "execution_count": 160,
   "metadata": {},
   "outputs": [
    {
     "name": "stderr",
     "output_type": "stream",
     "text": [
      "C:\\Users\\Aleksey\\AppData\\Local\\Temp\\ipykernel_81300\\7504647.py:2: UserWarning: Boolean Series key will be reindexed to match DataFrame index.\n",
      "  mean_fol.append(np.mean(data[data['publication'] == data.loc[indeces_followers[0]]['publication']][data['followers'].isna() == False]['followers']))\n"
     ]
    },
    {
     "data": {
      "text/plain": [
       "[2258.32333767927, 4019.5602263540823, 4019.5602263540823]"
      ]
     },
     "execution_count": 160,
     "metadata": {},
     "output_type": "execute_result"
    }
   ],
   "source": [
    "mean_fol = []\n",
    "mean_fol.append(np.mean(data[data['publication'] == data.loc[indeces_followers[0]]['publication']][data['followers'].isna() == False]['followers']))\n",
    "mean_fol.append(np.mean(data[data['followers'].isna() == False]['followers']))\n",
    "mean_fol.append(np.mean(data[data['followers'].isna() == False]['followers']))\n",
    "mean_fol"
   ]
  },
  {
   "cell_type": "code",
   "execution_count": 161,
   "metadata": {},
   "outputs": [],
   "source": [
    "mean_fol = [\n",
    "    int(i) for i in mean_fol]"
   ]
  },
  {
   "cell_type": "code",
   "execution_count": 164,
   "metadata": {},
   "outputs": [],
   "source": [
    "data.loc[indeces_followers[mean_fol_idx], 'followers'] = mean_fol"
   ]
  },
  {
   "cell_type": "code",
   "execution_count": 165,
   "metadata": {},
   "outputs": [
    {
     "data": {
      "text/plain": [
       "42"
      ]
     },
     "execution_count": 165,
     "metadata": {},
     "output_type": "execute_result"
    }
   ],
   "source": [
    "indeces_followers = data[data['followers'].isna() == True].index\n",
    "len(indeces_followers)"
   ]
  },
  {
   "cell_type": "code",
   "execution_count": 166,
   "metadata": {},
   "outputs": [],
   "source": [
    "for idx in indeces_followers:\n",
    "    data.loc[idx,\n",
    "                'followers'] = 1"
   ]
  },
  {
   "cell_type": "code",
   "execution_count": 167,
   "metadata": {},
   "outputs": [
    {
     "data": {
      "text/plain": [
       "0"
      ]
     },
     "execution_count": 167,
     "metadata": {},
     "output_type": "execute_result"
    }
   ],
   "source": [
    "data.followers.isna().sum()"
   ]
  },
  {
   "cell_type": "code",
   "execution_count": 169,
   "metadata": {},
   "outputs": [
    {
     "name": "stdout",
     "output_type": "stream",
     "text": [
      "Before repeated scrapping:  0\n"
     ]
    },
    {
     "name": "stderr",
     "output_type": "stream",
     "text": [
      "0page [00:00, ?page/s]"
     ]
    },
    {
     "name": "stdout",
     "output_type": "stream",
     "text": [
      "After scrapping:  0\n"
     ]
    },
    {
     "name": "stderr",
     "output_type": "stream",
     "text": [
      "\n"
     ]
    }
   ],
   "source": [
    "scrape_column('reading_time')"
   ]
  },
  {
   "cell_type": "code",
   "execution_count": 170,
   "metadata": {},
   "outputs": [
    {
     "name": "stdout",
     "output_type": "stream",
     "text": [
      "Before repeated scrapping:  0\n"
     ]
    },
    {
     "name": "stderr",
     "output_type": "stream",
     "text": [
      "0page [00:00, ?page/s]"
     ]
    },
    {
     "name": "stdout",
     "output_type": "stream",
     "text": [
      "After scrapping:  0\n"
     ]
    },
    {
     "name": "stderr",
     "output_type": "stream",
     "text": [
      "\n"
     ]
    }
   ],
   "source": [
    "scrape_column('n_words')"
   ]
  },
  {
   "cell_type": "code",
   "execution_count": 171,
   "metadata": {},
   "outputs": [
    {
     "name": "stdout",
     "output_type": "stream",
     "text": [
      "Before repeated scrapping:  0\n"
     ]
    },
    {
     "name": "stderr",
     "output_type": "stream",
     "text": [
      "0page [00:00, ?page/s]"
     ]
    },
    {
     "name": "stdout",
     "output_type": "stream",
     "text": [
      "After scrapping:  0\n"
     ]
    },
    {
     "name": "stderr",
     "output_type": "stream",
     "text": [
      "\n"
     ]
    }
   ],
   "source": [
    "scrape_column('pure_text')"
   ]
  },
  {
   "cell_type": "code",
   "execution_count": 172,
   "metadata": {},
   "outputs": [
    {
     "name": "stdout",
     "output_type": "stream",
     "text": [
      "Before repeated scrapping:  0\n"
     ]
    },
    {
     "name": "stderr",
     "output_type": "stream",
     "text": [
      "0page [00:00, ?page/s]"
     ]
    },
    {
     "name": "stdout",
     "output_type": "stream",
     "text": [
      "After scrapping:  0\n"
     ]
    },
    {
     "name": "stderr",
     "output_type": "stream",
     "text": [
      "\n"
     ]
    }
   ],
   "source": [
    "scrape_column('date')"
   ]
  },
  {
   "cell_type": "code",
   "execution_count": 105,
   "metadata": {},
   "outputs": [
    {
     "data": {
      "text/plain": [
       "Int64Index([2857, 2990, 3645], dtype='int64', name='idx')"
      ]
     },
     "execution_count": 105,
     "metadata": {},
     "output_type": "execute_result"
    }
   ],
   "source": [
    "indeces_date = data[data['date'].isna() == True].index\n",
    "indeces_date"
   ]
  },
  {
   "cell_type": "code",
   "execution_count": 109,
   "metadata": {},
   "outputs": [],
   "source": [
    "dates = [date.split('\\n')[0] +', 2022' for date in test_data.loc[indeces_date].text.values[:-1]]"
   ]
  },
  {
   "cell_type": "code",
   "execution_count": 113,
   "metadata": {},
   "outputs": [],
   "source": [
    "dates += [date.split('\\n')[1] +', 2022' for date in [test_data.loc[indeces_date].text.values[-1]]]"
   ]
  },
  {
   "cell_type": "code",
   "execution_count": 115,
   "metadata": {},
   "outputs": [],
   "source": [
    "dates = [datetime.datetime.strptime(date_string, '%b %d, %Y').strftime('%d/%m/%Y') for date_string in dates]"
   ]
  },
  {
   "cell_type": "code",
   "execution_count": 119,
   "metadata": {},
   "outputs": [],
   "source": [
    "data.loc[indeces_date, 'date'] = dates"
   ]
  },
  {
   "cell_type": "code",
   "execution_count": 168,
   "metadata": {},
   "outputs": [
    {
     "data": {
      "text/plain": [
       "0"
      ]
     },
     "execution_count": 168,
     "metadata": {},
     "output_type": "execute_result"
    }
   ],
   "source": [
    "data.date.isna().sum()"
   ]
  },
  {
   "cell_type": "code",
   "execution_count": 173,
   "metadata": {},
   "outputs": [
    {
     "name": "stdout",
     "output_type": "stream",
     "text": [
      "Before repeated scrapping:  0\n"
     ]
    },
    {
     "name": "stderr",
     "output_type": "stream",
     "text": [
      "0page [00:00, ?page/s]"
     ]
    },
    {
     "name": "stdout",
     "output_type": "stream",
     "text": [
      "After scrapping:  0\n"
     ]
    },
    {
     "name": "stderr",
     "output_type": "stream",
     "text": [
      "\n"
     ]
    }
   ],
   "source": [
    "scrape_column('n_code_chunks')"
   ]
  },
  {
   "cell_type": "code",
   "execution_count": 174,
   "metadata": {},
   "outputs": [
    {
     "name": "stdout",
     "output_type": "stream",
     "text": [
      "Before repeated scrapping:  0\n"
     ]
    },
    {
     "name": "stderr",
     "output_type": "stream",
     "text": [
      "0page [00:00, ?page/s]"
     ]
    },
    {
     "name": "stdout",
     "output_type": "stream",
     "text": [
      "After scrapping:  0\n"
     ]
    },
    {
     "name": "stderr",
     "output_type": "stream",
     "text": [
      "\n"
     ]
    }
   ],
   "source": [
    "scrape_column('bold_text_count')"
   ]
  },
  {
   "cell_type": "code",
   "execution_count": 175,
   "metadata": {},
   "outputs": [
    {
     "name": "stdout",
     "output_type": "stream",
     "text": [
      "Before repeated scrapping:  0\n"
     ]
    },
    {
     "name": "stderr",
     "output_type": "stream",
     "text": [
      "0page [00:00, ?page/s]"
     ]
    },
    {
     "name": "stdout",
     "output_type": "stream",
     "text": [
      "After scrapping:  0\n"
     ]
    },
    {
     "name": "stderr",
     "output_type": "stream",
     "text": [
      "\n"
     ]
    }
   ],
   "source": [
    "scrape_column('italic_text_count')"
   ]
  },
  {
   "cell_type": "code",
   "execution_count": 176,
   "metadata": {},
   "outputs": [
    {
     "name": "stdout",
     "output_type": "stream",
     "text": [
      "Before repeated scrapping:  0\n"
     ]
    },
    {
     "name": "stderr",
     "output_type": "stream",
     "text": [
      "0page [00:00, ?page/s]"
     ]
    },
    {
     "name": "stdout",
     "output_type": "stream",
     "text": [
      "After scrapping:  0\n"
     ]
    },
    {
     "name": "stderr",
     "output_type": "stream",
     "text": [
      "\n"
     ]
    }
   ],
   "source": [
    "scrape_column('n_images')"
   ]
  },
  {
   "cell_type": "code",
   "execution_count": 177,
   "metadata": {},
   "outputs": [],
   "source": [
    "data.loc[data[data['n_images'] == 0].index, ['mean_image_width', 'mean_image_height']] = [0, 0]"
   ]
  },
  {
   "cell_type": "code",
   "execution_count": 178,
   "metadata": {},
   "outputs": [
    {
     "data": {
      "text/plain": [
       "(125, 125)"
      ]
     },
     "execution_count": 178,
     "metadata": {},
     "output_type": "execute_result"
    }
   ],
   "source": [
    "data.mean_image_width.isna().sum(), data.mean_image_height.isna().sum()"
   ]
  },
  {
   "cell_type": "code",
   "execution_count": 179,
   "metadata": {},
   "outputs": [],
   "source": [
    "indeces_width = data[data['mean_image_width'].isna() == True].index"
   ]
  },
  {
   "cell_type": "code",
   "execution_count": 180,
   "metadata": {},
   "outputs": [],
   "source": [
    "data.loc[indeces_width, 'mean_image_width'] = int(np.mean(data.mean_image_width))"
   ]
  },
  {
   "cell_type": "code",
   "execution_count": 181,
   "metadata": {},
   "outputs": [],
   "source": [
    "indeces_height = data[data['mean_image_height'].isna() == True].index"
   ]
  },
  {
   "cell_type": "code",
   "execution_count": 182,
   "metadata": {},
   "outputs": [],
   "source": [
    "data.loc[indeces_height, 'mean_image_height'] = int(np.mean(data.mean_image_height))"
   ]
  },
  {
   "cell_type": "code",
   "execution_count": 183,
   "metadata": {},
   "outputs": [
    {
     "data": {
      "text/plain": [
       "(0, 0)"
      ]
     },
     "execution_count": 183,
     "metadata": {},
     "output_type": "execute_result"
    }
   ],
   "source": [
    "data.mean_image_width.isna().sum(), data.mean_image_height.isna().sum()"
   ]
  },
  {
   "cell_type": "code",
   "execution_count": 184,
   "metadata": {},
   "outputs": [
    {
     "name": "stdout",
     "output_type": "stream",
     "text": [
      "Before repeated scrapping:  0\n"
     ]
    },
    {
     "name": "stderr",
     "output_type": "stream",
     "text": [
      "0page [00:00, ?page/s]"
     ]
    },
    {
     "name": "stdout",
     "output_type": "stream",
     "text": [
      "After scrapping:  0\n"
     ]
    },
    {
     "name": "stderr",
     "output_type": "stream",
     "text": [
      "\n"
     ]
    }
   ],
   "source": [
    "scrape_column('n_images')"
   ]
  },
  {
   "cell_type": "code",
   "execution_count": 185,
   "metadata": {},
   "outputs": [
    {
     "name": "stdout",
     "output_type": "stream",
     "text": [
      "Before repeated scrapping:  8\n"
     ]
    },
    {
     "name": "stderr",
     "output_type": "stream",
     "text": [
      "100%|██████████| 8/8 [02:00<00:00, 15.05s/page]"
     ]
    },
    {
     "name": "stdout",
     "output_type": "stream",
     "text": [
      "After scrapping:  0\n"
     ]
    },
    {
     "name": "stderr",
     "output_type": "stream",
     "text": [
      "\n"
     ]
    }
   ],
   "source": [
    "scrape_column('n_lists')"
   ]
  },
  {
   "cell_type": "code",
   "execution_count": 186,
   "metadata": {},
   "outputs": [
    {
     "name": "stdout",
     "output_type": "stream",
     "text": [
      "Before repeated scrapping:  19\n"
     ]
    },
    {
     "name": "stderr",
     "output_type": "stream",
     "text": [
      "  0%|          | 0/19 [00:00<?, ?page/s]"
     ]
    },
    {
     "name": "stdout",
     "output_type": "stream",
     "text": [
      "Can't get image's sizes\n",
      "Couldn't get title from article.\n",
      "Couldn't get title from article.\n",
      "Can't go to the followers info\n",
      "Couldn't get reading time from article.\n",
      "Couldn't get date from article.\n",
      "Couldn't get YouTube videos.\n"
     ]
    },
    {
     "name": "stderr",
     "output_type": "stream",
     "text": [
      " 26%|██▋       | 5/19 [00:53<02:33, 10.93s/page]"
     ]
    },
    {
     "name": "stdout",
     "output_type": "stream",
     "text": [
      "Can't get image's sizes\n"
     ]
    },
    {
     "name": "stderr",
     "output_type": "stream",
     "text": [
      " 47%|████▋     | 9/19 [01:48<02:17, 13.79s/page]"
     ]
    },
    {
     "name": "stdout",
     "output_type": "stream",
     "text": [
      "Can't get image's sizes\n",
      "Couldn't get title from article.\n",
      "Couldn't get title from article.\n",
      "Can't go to the followers info\n",
      "Couldn't get reading time from article.\n",
      "Couldn't get date from article.\n",
      "Couldn't get YouTube videos.\n"
     ]
    },
    {
     "name": "stderr",
     "output_type": "stream",
     "text": [
      " 53%|█████▎    | 10/19 [01:56<01:46, 11.87s/page]"
     ]
    },
    {
     "name": "stdout",
     "output_type": "stream",
     "text": [
      "Can't get image's sizes\n",
      "Couldn't get title from article.\n",
      "Couldn't get title from article.\n",
      "Can't go to the followers info\n",
      "Couldn't get reading time from article.\n",
      "Couldn't get date from article.\n",
      "Couldn't get YouTube videos.\n"
     ]
    },
    {
     "name": "stderr",
     "output_type": "stream",
     "text": [
      " 68%|██████▊   | 13/19 [02:28<01:09, 11.50s/page]"
     ]
    },
    {
     "name": "stdout",
     "output_type": "stream",
     "text": [
      "Can't get image's sizes\n",
      "Couldn't get title from article.\n",
      "Couldn't get title from article.\n",
      "Can't go to the followers info\n",
      "Couldn't get reading time from article.\n",
      "Couldn't get date from article.\n",
      "Couldn't get YouTube videos.\n"
     ]
    },
    {
     "name": "stderr",
     "output_type": "stream",
     "text": [
      " 74%|███████▎  | 14/19 [02:36<00:52, 10.41s/page]"
     ]
    },
    {
     "name": "stdout",
     "output_type": "stream",
     "text": [
      "Can't get image's sizes\n",
      "Couldn't get title from article.\n",
      "Couldn't get title from article.\n",
      "Can't go to the followers info\n",
      "Couldn't get reading time from article.\n",
      "Couldn't get date from article.\n",
      "Couldn't get YouTube videos.\n"
     ]
    },
    {
     "name": "stderr",
     "output_type": "stream",
     "text": [
      " 89%|████████▉ | 17/19 [03:08<00:22, 11.10s/page]"
     ]
    },
    {
     "name": "stdout",
     "output_type": "stream",
     "text": [
      "Can't get image's sizes\n",
      "Couldn't get title from article.\n",
      "Couldn't get title from article.\n",
      "Can't go to the followers info\n",
      "Couldn't get reading time from article.\n",
      "Couldn't get date from article.\n",
      "Couldn't get YouTube videos.\n"
     ]
    },
    {
     "name": "stderr",
     "output_type": "stream",
     "text": [
      " 95%|█████████▍| 18/19 [03:16<00:10, 10.11s/page]"
     ]
    },
    {
     "name": "stdout",
     "output_type": "stream",
     "text": [
      "Can't get image's sizes\n",
      "Couldn't get title from article.\n",
      "Couldn't get title from article.\n",
      "Can't go to the followers info\n",
      "Couldn't get reading time from article.\n",
      "Couldn't get date from article.\n",
      "Couldn't get YouTube videos.\n"
     ]
    },
    {
     "name": "stderr",
     "output_type": "stream",
     "text": [
      "100%|██████████| 19/19 [03:24<00:00, 10.74s/page]"
     ]
    },
    {
     "name": "stdout",
     "output_type": "stream",
     "text": [
      "After scrapping:  7\n"
     ]
    },
    {
     "name": "stderr",
     "output_type": "stream",
     "text": [
      "\n"
     ]
    }
   ],
   "source": [
    "scrape_column('n_vids')"
   ]
  },
  {
   "cell_type": "code",
   "execution_count": 190,
   "metadata": {},
   "outputs": [],
   "source": [
    "data.loc[data[data['n_vids'].isna() == True].index, 'n_vids'] = 0"
   ]
  },
  {
   "cell_type": "code",
   "execution_count": 191,
   "metadata": {},
   "outputs": [
    {
     "data": {
      "text/plain": [
       "0"
      ]
     },
     "execution_count": 191,
     "metadata": {},
     "output_type": "execute_result"
    }
   ],
   "source": [
    "data.n_vids.isna().sum()"
   ]
  },
  {
   "cell_type": "code",
   "execution_count": 187,
   "metadata": {},
   "outputs": [
    {
     "name": "stdout",
     "output_type": "stream",
     "text": [
      "Before repeated scrapping:  8\n"
     ]
    },
    {
     "name": "stderr",
     "output_type": "stream",
     "text": [
      "100%|██████████| 8/8 [02:10<00:00, 16.29s/page]"
     ]
    },
    {
     "name": "stdout",
     "output_type": "stream",
     "text": [
      "After scrapping:  0\n"
     ]
    },
    {
     "name": "stderr",
     "output_type": "stream",
     "text": [
      "\n"
     ]
    }
   ],
   "source": [
    "scrape_column('n_links')"
   ]
  },
  {
   "cell_type": "code",
   "execution_count": 218,
   "metadata": {},
   "outputs": [
    {
     "name": "stdout",
     "output_type": "stream",
     "text": [
      "Sorry\n",
      "\n",
      "Sorry\n",
      "__________________________________________________\n",
      "Sorry\n",
      "\n",
      "Sorry\n",
      "https://sarit-maitra.medium.com/membershipAnomaly \n",
      "Sorry\n",
      "http://www.youtube.com/watch?v=fMQ8u6MSgF4Galvatro\n"
     ]
    }
   ],
   "source": [
    "languages = []\n",
    "\n",
    "for text in data.pure_text:\n",
    "    try:\n",
    "        languages.append(detect(text[:50]))\n",
    "    except:\n",
    "        print('Sorry')\n",
    "        print(text[:50])\n",
    "        languages.append(None)"
   ]
  },
  {
   "cell_type": "code",
   "execution_count": 219,
   "metadata": {},
   "outputs": [],
   "source": [
    "data['language'] = languages"
   ]
  },
  {
   "cell_type": "code",
   "execution_count": 227,
   "metadata": {},
   "outputs": [],
   "source": [
    "texts = test_data.loc[data[data.language.isna() == True].index].text.values"
   ]
  },
  {
   "cell_type": "code",
   "execution_count": 271,
   "metadata": {},
   "outputs": [],
   "source": [
    "to_fil = [texts[0].split('\\n')[5]]"
   ]
  },
  {
   "cell_type": "code",
   "execution_count": 272,
   "metadata": {},
   "outputs": [],
   "source": [
    "to_fil += [' '.join(texts[1].split('\\n')[2:-9])]"
   ]
  },
  {
   "cell_type": "code",
   "execution_count": 273,
   "metadata": {},
   "outputs": [],
   "source": [
    "to_fil += [texts[2].split('\\n')[5]]"
   ]
  },
  {
   "cell_type": "code",
   "execution_count": 274,
   "metadata": {},
   "outputs": [],
   "source": [
    "to_fil += [' '.join(texts[3].split('\\n')[2:4])]"
   ]
  },
  {
   "cell_type": "code",
   "execution_count": 275,
   "metadata": {},
   "outputs": [],
   "source": [
    "to_fil += [' '.join(texts[4].split('\\n')[2:5])]"
   ]
  },
  {
   "cell_type": "code",
   "execution_count": 280,
   "metadata": {},
   "outputs": [],
   "source": [
    "data.loc[data[data.language.isna() == True].index, 'pure_text'] = to_fil"
   ]
  },
  {
   "cell_type": "code",
   "execution_count": 281,
   "metadata": {},
   "outputs": [
    {
     "name": "stdout",
     "output_type": "stream",
     "text": [
      "Sorry\n",
      "http://www.youtube.com/watch?v=fMQ8u6MSgF4Galvatro\n"
     ]
    }
   ],
   "source": [
    "languages = []\n",
    "\n",
    "for text in data.pure_text:\n",
    "    try:\n",
    "        languages.append(detect(text[:50]))\n",
    "    except:\n",
    "        print('Sorry')\n",
    "        print(text[:50])\n",
    "        languages.append(None)"
   ]
  },
  {
   "cell_type": "code",
   "execution_count": 283,
   "metadata": {},
   "outputs": [],
   "source": [
    "data['language'] = languages"
   ]
  },
  {
   "cell_type": "code",
   "execution_count": 289,
   "metadata": {},
   "outputs": [
    {
     "data": {
      "text/plain": [
       "Int64Index([3423], dtype='int64', name='idx')"
      ]
     },
     "execution_count": 289,
     "metadata": {},
     "output_type": "execute_result"
    }
   ],
   "source": [
    "data[data.language.isna() == True].index"
   ]
  },
  {
   "cell_type": "code",
   "execution_count": 292,
   "metadata": {},
   "outputs": [],
   "source": [
    "data.loc[3423, 'language'] = 'en'"
   ]
  },
  {
   "cell_type": "code",
   "execution_count": 300,
   "metadata": {},
   "outputs": [
    {
     "name": "stdout",
     "output_type": "stream",
     "text": [
      "title\n",
      "Before repeated scrapping:  0\n"
     ]
    },
    {
     "name": "stderr",
     "output_type": "stream",
     "text": [
      "0page [00:00, ?page/s]\n"
     ]
    },
    {
     "name": "stdout",
     "output_type": "stream",
     "text": [
      "After scrapping:  0\n",
      "publication\n",
      "Before repeated scrapping:  0\n"
     ]
    },
    {
     "name": "stderr",
     "output_type": "stream",
     "text": [
      "0page [00:00, ?page/s]\n"
     ]
    },
    {
     "name": "stdout",
     "output_type": "stream",
     "text": [
      "After scrapping:  0\n",
      "author\n",
      "Before repeated scrapping:  0\n"
     ]
    },
    {
     "name": "stderr",
     "output_type": "stream",
     "text": [
      "0page [00:00, ?page/s]\n"
     ]
    },
    {
     "name": "stdout",
     "output_type": "stream",
     "text": [
      "After scrapping:  0\n",
      "followers\n",
      "Before repeated scrapping:  0\n"
     ]
    },
    {
     "name": "stderr",
     "output_type": "stream",
     "text": [
      "0page [00:00, ?page/s]\n"
     ]
    },
    {
     "name": "stdout",
     "output_type": "stream",
     "text": [
      "After scrapping:  0\n",
      "reading_time\n",
      "Before repeated scrapping:  0\n"
     ]
    },
    {
     "name": "stderr",
     "output_type": "stream",
     "text": [
      "0page [00:00, ?page/s]\n"
     ]
    },
    {
     "name": "stdout",
     "output_type": "stream",
     "text": [
      "After scrapping:  0\n",
      "n_words\n",
      "Before repeated scrapping:  0\n"
     ]
    },
    {
     "name": "stderr",
     "output_type": "stream",
     "text": [
      "0page [00:00, ?page/s]\n"
     ]
    },
    {
     "name": "stdout",
     "output_type": "stream",
     "text": [
      "After scrapping:  0\n",
      "pure_text\n",
      "Before repeated scrapping:  0\n"
     ]
    },
    {
     "name": "stderr",
     "output_type": "stream",
     "text": [
      "0page [00:00, ?page/s]\n"
     ]
    },
    {
     "name": "stdout",
     "output_type": "stream",
     "text": [
      "After scrapping:  0\n",
      "date\n",
      "Before repeated scrapping:  0\n"
     ]
    },
    {
     "name": "stderr",
     "output_type": "stream",
     "text": [
      "0page [00:00, ?page/s]\n"
     ]
    },
    {
     "name": "stdout",
     "output_type": "stream",
     "text": [
      "After scrapping:  0\n",
      "n_code_chunks\n",
      "Before repeated scrapping:  0\n"
     ]
    },
    {
     "name": "stderr",
     "output_type": "stream",
     "text": [
      "0page [00:00, ?page/s]\n"
     ]
    },
    {
     "name": "stdout",
     "output_type": "stream",
     "text": [
      "After scrapping:  0\n",
      "bold_text_count\n",
      "Before repeated scrapping:  0\n"
     ]
    },
    {
     "name": "stderr",
     "output_type": "stream",
     "text": [
      "0page [00:00, ?page/s]\n"
     ]
    },
    {
     "name": "stdout",
     "output_type": "stream",
     "text": [
      "After scrapping:  0\n",
      "italic_text_count\n",
      "Before repeated scrapping:  0\n"
     ]
    },
    {
     "name": "stderr",
     "output_type": "stream",
     "text": [
      "0page [00:00, ?page/s]\n"
     ]
    },
    {
     "name": "stdout",
     "output_type": "stream",
     "text": [
      "After scrapping:  0\n",
      "mean_image_width\n",
      "Before repeated scrapping:  0\n"
     ]
    },
    {
     "name": "stderr",
     "output_type": "stream",
     "text": [
      "0page [00:00, ?page/s]\n"
     ]
    },
    {
     "name": "stdout",
     "output_type": "stream",
     "text": [
      "After scrapping:  0\n",
      "mean_image_height\n",
      "Before repeated scrapping:  0\n"
     ]
    },
    {
     "name": "stderr",
     "output_type": "stream",
     "text": [
      "0page [00:00, ?page/s]\n"
     ]
    },
    {
     "name": "stdout",
     "output_type": "stream",
     "text": [
      "After scrapping:  0\n",
      "n_images\n",
      "Before repeated scrapping:  0\n"
     ]
    },
    {
     "name": "stderr",
     "output_type": "stream",
     "text": [
      "0page [00:00, ?page/s]\n"
     ]
    },
    {
     "name": "stdout",
     "output_type": "stream",
     "text": [
      "After scrapping:  0\n",
      "n_lists\n",
      "Before repeated scrapping:  0\n"
     ]
    },
    {
     "name": "stderr",
     "output_type": "stream",
     "text": [
      "0page [00:00, ?page/s]"
     ]
    },
    {
     "name": "stdout",
     "output_type": "stream",
     "text": [
      "After scrapping:  0\n",
      "n_vids\n",
      "Before repeated scrapping: "
     ]
    },
    {
     "name": "stderr",
     "output_type": "stream",
     "text": [
      "\n"
     ]
    },
    {
     "name": "stdout",
     "output_type": "stream",
     "text": [
      " 0\n"
     ]
    },
    {
     "name": "stderr",
     "output_type": "stream",
     "text": [
      "0page [00:00, ?page/s]\n"
     ]
    },
    {
     "name": "stdout",
     "output_type": "stream",
     "text": [
      "After scrapping:  0\n",
      "n_links\n",
      "Before repeated scrapping:  0\n"
     ]
    },
    {
     "name": "stderr",
     "output_type": "stream",
     "text": [
      "0page [00:00, ?page/s]"
     ]
    },
    {
     "name": "stdout",
     "output_type": "stream",
     "text": [
      "After scrapping:  0\n",
      "target\n",
      "Before repeated scrapping:  0\n"
     ]
    },
    {
     "name": "stderr",
     "output_type": "stream",
     "text": [
      "\n",
      "0page [00:00, ?page/s]\n"
     ]
    },
    {
     "name": "stdout",
     "output_type": "stream",
     "text": [
      "After scrapping:  0\n",
      "language\n",
      "Before repeated scrapping:  0\n"
     ]
    },
    {
     "name": "stderr",
     "output_type": "stream",
     "text": [
      "0page [00:00, ?page/s]\n"
     ]
    },
    {
     "name": "stdout",
     "output_type": "stream",
     "text": [
      "After scrapping:  0\n",
      "(3423, 'language')\n",
      "Before repeated scrapping:  0\n"
     ]
    },
    {
     "name": "stderr",
     "output_type": "stream",
     "text": [
      "0page [00:00, ?page/s]"
     ]
    },
    {
     "name": "stdout",
     "output_type": "stream",
     "text": [
      "After scrapping:  0\n"
     ]
    },
    {
     "name": "stderr",
     "output_type": "stream",
     "text": [
      "\n"
     ]
    }
   ],
   "source": [
    "for column in data.columns:\n",
    "    print(column)\n",
    "    scrape_column(column)"
   ]
  },
  {
   "cell_type": "code",
   "execution_count": 306,
   "metadata": {},
   "outputs": [
    {
     "data": {
      "text/plain": [
       "True"
      ]
     },
     "execution_count": 306,
     "metadata": {},
     "output_type": "execute_result"
    }
   ],
   "source": [
    "len(data) == len(test_data)"
   ]
  },
  {
   "cell_type": "code",
   "execution_count": 309,
   "metadata": {},
   "outputs": [],
   "source": [
    "# data.to_csv(os.path.join(SCRAPPING_OUT_PATH, 'scrapped_test.csv'))\n",
    "data.to_csv(os.path.join(SCRAPPING_OUT_PATH, 'scrapped_train.csv'))"
   ]
  },
  {
   "cell_type": "code",
   "execution_count": null,
   "metadata": {},
   "outputs": [],
   "source": []
  }
 ],
 "metadata": {
  "kernelspec": {
   "display_name": "Python 3",
   "language": "python",
   "name": "python3"
  },
  "language_info": {
   "codemirror_mode": {
    "name": "ipython",
    "version": 3
   },
   "file_extension": ".py",
   "mimetype": "text/x-python",
   "name": "python",
   "nbconvert_exporter": "python",
   "pygments_lexer": "ipython3",
   "version": "3.10.8 (tags/v3.10.8:aaaf517, Oct 11 2022, 16:50:30) [MSC v.1933 64 bit (AMD64)]"
  },
  "orig_nbformat": 4,
  "vscode": {
   "interpreter": {
    "hash": "7abe41bf88626c8179a12d706309ac1665b0164ec3bd4c11d7418ed9f0904ed3"
   }
  }
 },
 "nbformat": 4,
 "nbformat_minor": 2
}
