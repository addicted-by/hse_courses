{
 "cells": [
  {
   "cell_type": "code",
   "execution_count": 1,
   "id": "16b73775",
   "metadata": {},
   "outputs": [],
   "source": [
    "import numpy as np\n",
    "import warnings\n",
    "warnings.simplefilter(\"ignore\", UserWarning)\n",
    "\n",
    "import pandas as pd\n",
    "import pickle\n",
    "from collections import Counter\n",
    "from typing import Type, List\n",
    "import optuna\n",
    "from datetime import datetime\n",
    "from nltk.stem import WordNetLemmatizer\n",
    "from nltk.tokenize import wordpunct_tokenize\n",
    "\n",
    "from sklearn.model_selection import train_test_split\n",
    "from sklearn.metrics import mean_absolute_error\n",
    "from sklearn.model_selection import KFold\n",
    "from sklearn.feature_extraction.text import CountVectorizer\n",
    "from sklearn.preprocessing import OneHotEncoder\n",
    "\n",
    "from catboost import CatBoostRegressor\n",
    "from lightgbm import LGBMRegressor\n",
    "from xgboost import XGBRegressor"
   ]
  },
  {
   "cell_type": "code",
   "execution_count": 2,
   "id": "3e377e0a",
   "metadata": {},
   "outputs": [],
   "source": [
    "DATA_PATH = \"./scrapped_data/scrapped_data_topics.csv\"\n",
    "MEAN_TARGET_ENCODING_PATH = \"./mean_target_encoding\"\n",
    "TEST_RATIO = 0.2"
   ]
  },
  {
   "cell_type": "code",
   "execution_count": 3,
   "id": "c04ca735",
   "metadata": {},
   "outputs": [
    {
     "name": "stdout",
     "output_type": "stream",
     "text": [
      "(7946, 30) (1987, 30)\n"
     ]
    }
   ],
   "source": [
    "data = pd.read_csv(DATA_PATH, index_col=False)\n",
    "train_data, test_data = train_test_split(data, test_size=TEST_RATIO)\n",
    "train_data.reset_index(drop=True, inplace=True)\n",
    "test_data.reset_index(drop=True, inplace=True)\n",
    "\n",
    "# assert data.isna().sum().sum() == 0\n",
    "# assert train_data.isna().sum().sum() == 0\n",
    "print(train_data.shape, test_data.shape)"
   ]
  },
  {
   "cell_type": "code",
   "execution_count": 4,
   "id": "fe0d116a",
   "metadata": {},
   "outputs": [],
   "source": [
    "def estimate_mean_target_regularization(category, global_mean: float, category_means: pd.Series,\n",
    "                                        category_counts: pd.Series, alpha: float = 10) -> float:\n",
    "    try:\n",
    "        return (category_counts[category] * category_means[category] + global_mean * alpha) / (category_counts[category] * alpha)\n",
    "    except:\n",
    "        return global_mean"
   ]
  },
  {
   "cell_type": "code",
   "execution_count": 5,
   "id": "d50435d2",
   "metadata": {},
   "outputs": [],
   "source": [
    "def mean_target_regularization(dataset: pd.DataFrame, column: str, target_name: str,\n",
    "                               train: bool = True, alpha: float = 10) -> pd.Series:\n",
    "    encoding_file_path = MEAN_TARGET_ENCODING_PATH + \"_\" + column + \".pickle\"\n",
    "    if train:\n",
    "        encoding = {\n",
    "            \"global_mean\": dataset[target_name].mean(),\n",
    "            \"counts\": dataset.groupby(dataset[column]).count()[target_name],\n",
    "            \"category_means\": dataset.groupby(dataset[column]).mean()[target_name]\n",
    "        }\n",
    "        with open(encoding_file_path, \"wb\") as output_file:\n",
    "            pickle.dump(encoding, output_file)\n",
    "    else:\n",
    "        with open(encoding_file_path, \"rb\") as input_file:\n",
    "            encoding = pickle.load(input_file)\n",
    "    \n",
    "    global_mean = encoding[\"global_mean\"]\n",
    "    counts = encoding[\"counts\"]\n",
    "    category_means = encoding[\"category_means\"]\n",
    "    \n",
    "    target_mean = dataset[column].apply(\n",
    "        lambda category: estimate_mean_target_regularization(\n",
    "            category,\n",
    "            global_mean=global_mean,\n",
    "            category_means=category_means,\n",
    "            category_counts=counts,\n",
    "            alpha=alpha\n",
    "        )\n",
    "    )\n",
    "    \n",
    "    return target_mean"
   ]
  },
  {
   "cell_type": "code",
   "execution_count": 6,
   "id": "932e441e",
   "metadata": {},
   "outputs": [
    {
     "data": {
      "text/plain": [
       "Index(['title', 'publication', 'link', 'author', 'followers', 'reading_time',\n",
       "       'n_words', 'pure_text', 'date', 'responses', 'n_code_chunks',\n",
       "       'bold_text_count', 'italic_text_count', 'mean_image_width',\n",
       "       'mean_image_height', 'n_images', 'n_lists', 'n_vids', 'n_links',\n",
       "       'claps', 'year', 'month', 'dow', 'language', 'season', 'key_word_1',\n",
       "       'key_word_2', 'key_word_3', 'topic', 'topic_name'],\n",
       "      dtype='object')"
      ]
     },
     "execution_count": 6,
     "metadata": {},
     "output_type": "execute_result"
    }
   ],
   "source": [
    "train_data.columns"
   ]
  },
  {
   "cell_type": "code",
   "execution_count": 7,
   "id": "1da692aa",
   "metadata": {},
   "outputs": [],
   "source": [
    "def preprocess_data(data: pd.DataFrame, train: bool = True):\n",
    "    MOST_COMMON_COUNT = 50\n",
    "    result_data = data.copy()\n",
    "    \n",
    "    # Mean target encoding with regularization\n",
    "    result_data[\"author_mean_target\"] = mean_target_regularization(result_data, \"author\", \"claps\", train=train)\n",
    "    result_data[\"publication_mean_target\"] = mean_target_regularization(result_data, \"publication\", \"claps\", train=train)\n",
    "    \n",
    "    \n",
    "    # Add title len as a feature\n",
    "    result_data[\"title_char_len\"] = result_data[\"title\"].apply(len)\n",
    "    result_data[\"title_token_len\"] = result_data[\"title\"].apply(lambda title: len(wordpunct_tokenize(title)))\n",
    "    \n",
    "    # Encode dates\n",
    "    dates = result_data[\"date\"].apply(lambda date: pd.Timestamp(date))\n",
    "    result_data[\"day\"] = dates.dt.day\n",
    "    result_data[\"month\"] = dates.dt.month\n",
    "    result_data[\"year\"] = dates.dt.year\n",
    "    result_data[\"ago\"] = abs(result_data[\"date\"].apply(lambda date: pd.Timestamp(date).date()) - datetime.today().date())\n",
    "    result_data[\"ago\"] = pd.to_numeric(result_data['ago'].dt.days, downcast='integer')\n",
    "    # Season encoding\n",
    "    \n",
    "    result_data['winter'] = [1 if season=='winter' else 0 for season in result_data['season']]\n",
    "    result_data['summer'] = [1 if season=='summer' else 0 for season in result_data['season']]\n",
    "    result_data['spring'] = [1 if season=='spring' else 0 for season in result_data['season']]\n",
    "    result_data['fall'] = [1 if season=='fall' else 0 for season in result_data['season']]\n",
    "    \n",
    "    keyword_columns = [f\"key_word_{idx}\" for idx in range(1, 4)]\n",
    "\n",
    "    num_cols = ['followers', 'reading_time', 'n_words', 'responses', 'n_code_chunks', 'bold_text_count',\n",
    "       'italic_text_count', 'mean_image_width', 'mean_image_height',\n",
    "       'n_images', 'n_lists', 'n_vids', 'n_links']\n",
    "    for col in num_cols:\n",
    "        result_data[col] = result_data[col].astype('int64')\n",
    "\n",
    "    # Filling nans in keyword_1, ..., keyword_10 columns\n",
    "    for keyword_column in keyword_columns:\n",
    "        result_data[keyword_column].fillna(\"<unk>\", inplace=True)\n",
    "        \n",
    "    # Concat topics in one column\n",
    "    all_topics = result_data[keyword_columns[0]]\n",
    "    for keyword_column in keyword_columns[1:]:\n",
    "        all_topics += \" \" + result_data[keyword_column]\n",
    "    \n",
    "    assert all_topics.isna().sum() == 0\n",
    "    result_data[\"all_topics\"] = all_topics\n",
    "    \n",
    "    # Lemmatize keyword columns\n",
    "    lemmatizer = WordNetLemmatizer()\n",
    "    result_data[keyword_columns] = result_data[keyword_columns].applymap(lemmatizer.lemmatize)\n",
    "    \n",
    "    if train:\n",
    "        # Count topics for keyword_columns\n",
    "        topics = []\n",
    "        for keyword_column in keyword_columns:\n",
    "            topics += result_data[keyword_column].tolist()\n",
    "\n",
    "        topics_counter = Counter(topics)\n",
    "\n",
    "        most_common_topics = set([topic for topic, _ in topics_counter.most_common()[-MOST_COMMON_COUNT:]])\n",
    "        \n",
    "        with open(\"most_common_topics.pickle\", \"wb\") as output_file:\n",
    "            pickle.dump(most_common_topics, output_file)\n",
    "            \n",
    "        # Use CountVectorizer on topics\n",
    "        vectorizer = CountVectorizer(vocabulary=most_common_topics)\n",
    "        vectorizer.fit(result_data[\"all_topics\"])\n",
    "        with open(\"topics_vectorizer.pickle\", \"wb\") as output_file:\n",
    "            pickle.dump(vectorizer, output_file)\n",
    "            \n",
    "        # One-hot encode language, analytic, polarity, emotion\n",
    "        one_hot_encoder = OneHotEncoder(handle_unknown=\"ignore\")\n",
    "        one_hot_encoder.fit(result_data[[\"language\", \"dow\"]])\n",
    "        with open(\"one_hot_encoder.pickle\", \"wb\") as output_file:\n",
    "            pickle.dump(one_hot_encoder, output_file)\n",
    "    else:\n",
    "        with open(\"most_common_topics.pickle\", \"rb\") as input_file:\n",
    "            most_common_topics = pickle.load(input_file)\n",
    "        with open(\"topics_vectorizer.pickle\", \"rb\") as input_file:\n",
    "            vectorizer = pickle.load(input_file)\n",
    "        with open(\"one_hot_encoder.pickle\", \"rb\") as input_file:\n",
    "            one_hot_encoder = pickle.load(input_file)\n",
    "\n",
    "    topics_vectorized = pd.DataFrame(vectorizer.transform(result_data[\"all_topics\"]).toarray())\n",
    "    result_data = pd.concat([result_data, topics_vectorized.add_suffix(\"_vectorizer\")], axis=1)\n",
    "    assert result_data.isna().sum().sum() == 0\n",
    "    \n",
    "    categorials_encoded = pd.DataFrame(one_hot_encoder.transform(result_data[[\"language\", \"dow\"]]).toarray())\n",
    "    result_data = pd.concat([result_data, categorials_encoded.add_suffix(\"_one_hot\")], axis=1)\n",
    "    assert result_data.isna().sum().sum() == 0\n",
    "    \n",
    "    assert len(most_common_topics) == MOST_COMMON_COUNT\n",
    "    assert result_data[keyword_columns].isin(most_common_topics).sum().sum() > 0\n",
    "    assert result_data.isna().sum().sum() == 0\n",
    "    \n",
    "    drop_columns = [\"date\", \"author\", \"link\", \"topic_name\", \"publication\", \"season\", \"pure_text\", \"title\", \"all_topics\", \"language\", \"dow\"] + keyword_columns\n",
    "    result_data.drop(drop_columns, inplace=True, axis=1)\n",
    "    \n",
    "    return result_data"
   ]
  },
  {
   "cell_type": "code",
   "execution_count": 8,
   "id": "804ac10a",
   "metadata": {},
   "outputs": [
    {
     "name": "stderr",
     "output_type": "stream",
     "text": [
      "C:\\Users\\Aleksey Ryabykin\\AppData\\Local\\Temp\\ipykernel_284956\\2963386934.py:8: FutureWarning: The default value of numeric_only in DataFrameGroupBy.mean is deprecated. In a future version, numeric_only will default to False. Either specify numeric_only or select only columns which should be valid for the function.\n",
      "  \"category_means\": dataset.groupby(dataset[column]).mean()[target_name]\n",
      "C:\\Users\\Aleksey Ryabykin\\AppData\\Local\\Temp\\ipykernel_284956\\2963386934.py:8: FutureWarning: The default value of numeric_only in DataFrameGroupBy.mean is deprecated. In a future version, numeric_only will default to False. Either specify numeric_only or select only columns which should be valid for the function.\n",
      "  \"category_means\": dataset.groupby(dataset[column]).mean()[target_name]\n"
     ]
    }
   ],
   "source": [
    "train_data_preprocessed = preprocess_data(train_data, train=True)\n",
    "test_data_preprocessed = preprocess_data(test_data, train=False)"
   ]
  },
  {
   "cell_type": "code",
   "execution_count": 9,
   "id": "0b48aa9c",
   "metadata": {},
   "outputs": [],
   "source": [
    "class Regressor:\n",
    "    def train(self, X: np.ndarray, y: np.ndarray) -> None:\n",
    "        raise NotImplementedError\n",
    "        \n",
    "    def predict(self, X: np.ndarray) -> np.ndarray:\n",
    "        raise NotImplementedError"
   ]
  },
  {
   "cell_type": "code",
   "execution_count": 10,
   "id": "e4a2b027",
   "metadata": {},
   "outputs": [],
   "source": [
    "class MyCB(Regressor):\n",
    "    def __init__(self):\n",
    "        self.regressor = CatBoostRegressor(verbose=False, loss_function=\"MAE\")\n",
    "        \n",
    "    def train(self, X: np.ndarray, y: np.ndarray) -> None:\n",
    "        self.regressor.fit(X, y)\n",
    "        \n",
    "    def predict(self, X: np.ndarray) -> np.ndarray:\n",
    "        return self.regressor.predict(X)\n",
    "    \n",
    "class MyLGBM(Regressor):\n",
    "    def __init__(self):\n",
    "        self.regressor = LGBMRegressor(objective=\"mae\")\n",
    "        \n",
    "    def train(self, X: np.ndarray, y: np.ndarray) -> None:\n",
    "        self.regressor.fit(X, y)\n",
    "        \n",
    "    def predict(self, X: np.ndarray) -> np.ndarray:\n",
    "        return self.regressor.predict(X)\n",
    "    \n",
    "class MyXGB(Regressor):\n",
    "    def __init__(self):\n",
    "        self.regressor = XGBRegressor()\n",
    "        \n",
    "    def train(self, X: np.ndarray, y: np.ndarray) -> None:\n",
    "        self.regressor.fit(X, y)\n",
    "        \n",
    "    def predict(self, X: np.ndarray) -> np.ndarray:\n",
    "        return self.regressor.predict(X)"
   ]
  },
  {
   "cell_type": "code",
   "execution_count": 51,
   "id": "461577a8",
   "metadata": {},
   "outputs": [],
   "source": [
    "from sklearn.metrics import mean_squared_error\n",
    "def cross_validate(trial, data: pd.DataFrame, RegressorClasses: List[Type[Regressor]]):\n",
    "    NUM_FOLDS = 5\n",
    "    kfold = KFold(NUM_FOLDS, shuffle=True)\n",
    "    \n",
    "    # Optimize weights for model predictions\n",
    "    weights = np.zeros(len(RegressorClasses))\n",
    "    for idx in range(len(RegressorClasses) - 1):\n",
    "        weights[idx] = trial.suggest_float(f\"x_{idx}\", 0, 1 - weights.sum())\n",
    "    weights[-1] = 1 - weights.sum() # num_models x 1\n",
    "    print(\"Current weights:\", weights)\n",
    "    \n",
    "    mae_history = []\n",
    "    mse_history = []\n",
    "    for fold_idx, (train_idx, test_idx) in enumerate(kfold.split(data)):\n",
    "        train_df = data.iloc[train_idx].reset_index(drop=True)\n",
    "        test_df = data.iloc[test_idx].reset_index(drop=True)\n",
    "        \n",
    "        train_df_preprocessed = preprocess_data(train_df, train=True)\n",
    "        test_df_preprocessed = preprocess_data(test_df, train=False)\n",
    "        \n",
    "        X_train = train_df_preprocessed.drop([\"claps\"], axis=1)\n",
    "        X_test = test_df_preprocessed.drop([\"claps\"], axis=1)\n",
    "        \n",
    "        y_train = train_df_preprocessed[\"claps\"].to_numpy()\n",
    "        y_test = test_df_preprocessed[\"claps\"].to_numpy()\n",
    "        \n",
    "        regressors = []\n",
    "        for RegressorClass in RegressorClasses:\n",
    "            current_regressor = RegressorClass()\n",
    "            current_regressor.train(X_train, y_train)\n",
    "            regressors.append(current_regressor)\n",
    "        \n",
    "        predictions = []\n",
    "        for regressor in regressors:\n",
    "            predictions.append(regressor.predict(X_test))\n",
    "        predictions = np.vstack(predictions) # num_models x test_size\n",
    "        \n",
    "        final_predictions = np.sum(predictions * weights[:, None], axis=0)\n",
    "        current_loss = mean_absolute_error(y_test, final_predictions)\n",
    "        mae_history.append(current_loss)\n",
    "        mse_history.append(mean_squared_error(y_test, final_predictions))\n",
    "        print(f\"Fold number: {fold_idx + 1}, loss: {current_loss}\")\n",
    "        \n",
    "    return np.mean(mae_history)"
   ]
  },
  {
   "cell_type": "code",
   "execution_count": 52,
   "id": "a6f198c2",
   "metadata": {},
   "outputs": [],
   "source": [
    "X_train = train_data_preprocessed.drop([\"claps\"], axis=1).to_numpy()\n",
    "X_test = test_data_preprocessed.drop([\"claps\"], axis=1).to_numpy()\n",
    "\n",
    "y_train = train_data_preprocessed[\"claps\"].to_numpy()\n",
    "y_test = test_data_preprocessed[\"claps\"].to_numpy()"
   ]
  },
  {
   "cell_type": "code",
   "execution_count": 54,
   "id": "3f486e06",
   "metadata": {
    "scrolled": true
   },
   "outputs": [
    {
     "name": "stderr",
     "output_type": "stream",
     "text": [
      "\u001b[32m[I 2022-12-21 00:23:01,946]\u001b[0m A new study created in memory with name: no-name-8e07f9ea-baaa-48eb-973b-b011ed2e64c9\u001b[0m\n",
      "C:\\Users\\Aleksey Ryabykin\\AppData\\Local\\Temp\\ipykernel_284956\\2963386934.py:8: FutureWarning: The default value of numeric_only in DataFrameGroupBy.mean is deprecated. In a future version, numeric_only will default to False. Either specify numeric_only or select only columns which should be valid for the function.\n",
      "  \"category_means\": dataset.groupby(dataset[column]).mean()[target_name]\n",
      "C:\\Users\\Aleksey Ryabykin\\AppData\\Local\\Temp\\ipykernel_284956\\2963386934.py:8: FutureWarning: The default value of numeric_only in DataFrameGroupBy.mean is deprecated. In a future version, numeric_only will default to False. Either specify numeric_only or select only columns which should be valid for the function.\n",
      "  \"category_means\": dataset.groupby(dataset[column]).mean()[target_name]\n"
     ]
    },
    {
     "name": "stdout",
     "output_type": "stream",
     "text": [
      "Current weights: [0.94342801 0.00242267 0.05414932]\n",
      "Fold number: 1, loss: 263.8872524299777\n"
     ]
    },
    {
     "name": "stderr",
     "output_type": "stream",
     "text": [
      "C:\\Users\\Aleksey Ryabykin\\AppData\\Local\\Temp\\ipykernel_284956\\2963386934.py:8: FutureWarning: The default value of numeric_only in DataFrameGroupBy.mean is deprecated. In a future version, numeric_only will default to False. Either specify numeric_only or select only columns which should be valid for the function.\n",
      "  \"category_means\": dataset.groupby(dataset[column]).mean()[target_name]\n",
      "C:\\Users\\Aleksey Ryabykin\\AppData\\Local\\Temp\\ipykernel_284956\\2963386934.py:8: FutureWarning: The default value of numeric_only in DataFrameGroupBy.mean is deprecated. In a future version, numeric_only will default to False. Either specify numeric_only or select only columns which should be valid for the function.\n",
      "  \"category_means\": dataset.groupby(dataset[column]).mean()[target_name]\n"
     ]
    },
    {
     "name": "stdout",
     "output_type": "stream",
     "text": [
      "Fold number: 2, loss: 357.66844126475104\n"
     ]
    },
    {
     "name": "stderr",
     "output_type": "stream",
     "text": [
      "C:\\Users\\Aleksey Ryabykin\\AppData\\Local\\Temp\\ipykernel_284956\\2963386934.py:8: FutureWarning: The default value of numeric_only in DataFrameGroupBy.mean is deprecated. In a future version, numeric_only will default to False. Either specify numeric_only or select only columns which should be valid for the function.\n",
      "  \"category_means\": dataset.groupby(dataset[column]).mean()[target_name]\n",
      "C:\\Users\\Aleksey Ryabykin\\AppData\\Local\\Temp\\ipykernel_284956\\2963386934.py:8: FutureWarning: The default value of numeric_only in DataFrameGroupBy.mean is deprecated. In a future version, numeric_only will default to False. Either specify numeric_only or select only columns which should be valid for the function.\n",
      "  \"category_means\": dataset.groupby(dataset[column]).mean()[target_name]\n"
     ]
    },
    {
     "name": "stdout",
     "output_type": "stream",
     "text": [
      "Fold number: 3, loss: 355.69125999485425\n"
     ]
    },
    {
     "name": "stderr",
     "output_type": "stream",
     "text": [
      "C:\\Users\\Aleksey Ryabykin\\AppData\\Local\\Temp\\ipykernel_284956\\2963386934.py:8: FutureWarning: The default value of numeric_only in DataFrameGroupBy.mean is deprecated. In a future version, numeric_only will default to False. Either specify numeric_only or select only columns which should be valid for the function.\n",
      "  \"category_means\": dataset.groupby(dataset[column]).mean()[target_name]\n",
      "C:\\Users\\Aleksey Ryabykin\\AppData\\Local\\Temp\\ipykernel_284956\\2963386934.py:8: FutureWarning: The default value of numeric_only in DataFrameGroupBy.mean is deprecated. In a future version, numeric_only will default to False. Either specify numeric_only or select only columns which should be valid for the function.\n",
      "  \"category_means\": dataset.groupby(dataset[column]).mean()[target_name]\n"
     ]
    },
    {
     "name": "stdout",
     "output_type": "stream",
     "text": [
      "Fold number: 4, loss: 323.13550827501155\n"
     ]
    },
    {
     "name": "stderr",
     "output_type": "stream",
     "text": [
      "C:\\Users\\Aleksey Ryabykin\\AppData\\Local\\Temp\\ipykernel_284956\\2963386934.py:8: FutureWarning: The default value of numeric_only in DataFrameGroupBy.mean is deprecated. In a future version, numeric_only will default to False. Either specify numeric_only or select only columns which should be valid for the function.\n",
      "  \"category_means\": dataset.groupby(dataset[column]).mean()[target_name]\n",
      "C:\\Users\\Aleksey Ryabykin\\AppData\\Local\\Temp\\ipykernel_284956\\2963386934.py:8: FutureWarning: The default value of numeric_only in DataFrameGroupBy.mean is deprecated. In a future version, numeric_only will default to False. Either specify numeric_only or select only columns which should be valid for the function.\n",
      "  \"category_means\": dataset.groupby(dataset[column]).mean()[target_name]\n",
      "\u001b[32m[I 2022-12-21 00:23:22,767]\u001b[0m Trial 0 finished with value: 340.65523987075824 and parameters: {'x_0': 0.9434280088885648, 'x_1': 0.0024226703821752793}. Best is trial 0 with value: 340.65523987075824.\u001b[0m\n"
     ]
    },
    {
     "name": "stdout",
     "output_type": "stream",
     "text": [
      "Fold number: 5, loss: 402.8937373891966\n",
      "Current weights: [0.85016662 0.07725952 0.07257386]\n"
     ]
    },
    {
     "name": "stderr",
     "output_type": "stream",
     "text": [
      "C:\\Users\\Aleksey Ryabykin\\AppData\\Local\\Temp\\ipykernel_284956\\2963386934.py:8: FutureWarning: The default value of numeric_only in DataFrameGroupBy.mean is deprecated. In a future version, numeric_only will default to False. Either specify numeric_only or select only columns which should be valid for the function.\n",
      "  \"category_means\": dataset.groupby(dataset[column]).mean()[target_name]\n",
      "C:\\Users\\Aleksey Ryabykin\\AppData\\Local\\Temp\\ipykernel_284956\\2963386934.py:8: FutureWarning: The default value of numeric_only in DataFrameGroupBy.mean is deprecated. In a future version, numeric_only will default to False. Either specify numeric_only or select only columns which should be valid for the function.\n",
      "  \"category_means\": dataset.groupby(dataset[column]).mean()[target_name]\n"
     ]
    },
    {
     "name": "stdout",
     "output_type": "stream",
     "text": [
      "Fold number: 1, loss: 321.62134904023503\n"
     ]
    },
    {
     "name": "stderr",
     "output_type": "stream",
     "text": [
      "C:\\Users\\Aleksey Ryabykin\\AppData\\Local\\Temp\\ipykernel_284956\\2963386934.py:8: FutureWarning: The default value of numeric_only in DataFrameGroupBy.mean is deprecated. In a future version, numeric_only will default to False. Either specify numeric_only or select only columns which should be valid for the function.\n",
      "  \"category_means\": dataset.groupby(dataset[column]).mean()[target_name]\n",
      "C:\\Users\\Aleksey Ryabykin\\AppData\\Local\\Temp\\ipykernel_284956\\2963386934.py:8: FutureWarning: The default value of numeric_only in DataFrameGroupBy.mean is deprecated. In a future version, numeric_only will default to False. Either specify numeric_only or select only columns which should be valid for the function.\n",
      "  \"category_means\": dataset.groupby(dataset[column]).mean()[target_name]\n"
     ]
    },
    {
     "name": "stdout",
     "output_type": "stream",
     "text": [
      "Fold number: 2, loss: 364.338656802387\n"
     ]
    },
    {
     "name": "stderr",
     "output_type": "stream",
     "text": [
      "C:\\Users\\Aleksey Ryabykin\\AppData\\Local\\Temp\\ipykernel_284956\\2963386934.py:8: FutureWarning: The default value of numeric_only in DataFrameGroupBy.mean is deprecated. In a future version, numeric_only will default to False. Either specify numeric_only or select only columns which should be valid for the function.\n",
      "  \"category_means\": dataset.groupby(dataset[column]).mean()[target_name]\n",
      "C:\\Users\\Aleksey Ryabykin\\AppData\\Local\\Temp\\ipykernel_284956\\2963386934.py:8: FutureWarning: The default value of numeric_only in DataFrameGroupBy.mean is deprecated. In a future version, numeric_only will default to False. Either specify numeric_only or select only columns which should be valid for the function.\n",
      "  \"category_means\": dataset.groupby(dataset[column]).mean()[target_name]\n"
     ]
    },
    {
     "name": "stdout",
     "output_type": "stream",
     "text": [
      "Fold number: 3, loss: 273.7650993048891\n"
     ]
    },
    {
     "name": "stderr",
     "output_type": "stream",
     "text": [
      "C:\\Users\\Aleksey Ryabykin\\AppData\\Local\\Temp\\ipykernel_284956\\2963386934.py:8: FutureWarning: The default value of numeric_only in DataFrameGroupBy.mean is deprecated. In a future version, numeric_only will default to False. Either specify numeric_only or select only columns which should be valid for the function.\n",
      "  \"category_means\": dataset.groupby(dataset[column]).mean()[target_name]\n",
      "C:\\Users\\Aleksey Ryabykin\\AppData\\Local\\Temp\\ipykernel_284956\\2963386934.py:8: FutureWarning: The default value of numeric_only in DataFrameGroupBy.mean is deprecated. In a future version, numeric_only will default to False. Either specify numeric_only or select only columns which should be valid for the function.\n",
      "  \"category_means\": dataset.groupby(dataset[column]).mean()[target_name]\n"
     ]
    },
    {
     "name": "stdout",
     "output_type": "stream",
     "text": [
      "Fold number: 4, loss: 337.6116640699383\n"
     ]
    },
    {
     "name": "stderr",
     "output_type": "stream",
     "text": [
      "C:\\Users\\Aleksey Ryabykin\\AppData\\Local\\Temp\\ipykernel_284956\\2963386934.py:8: FutureWarning: The default value of numeric_only in DataFrameGroupBy.mean is deprecated. In a future version, numeric_only will default to False. Either specify numeric_only or select only columns which should be valid for the function.\n",
      "  \"category_means\": dataset.groupby(dataset[column]).mean()[target_name]\n",
      "C:\\Users\\Aleksey Ryabykin\\AppData\\Local\\Temp\\ipykernel_284956\\2963386934.py:8: FutureWarning: The default value of numeric_only in DataFrameGroupBy.mean is deprecated. In a future version, numeric_only will default to False. Either specify numeric_only or select only columns which should be valid for the function.\n",
      "  \"category_means\": dataset.groupby(dataset[column]).mean()[target_name]\n",
      "\u001b[32m[I 2022-12-21 00:23:49,351]\u001b[0m Trial 1 finished with value: 324.43704932087496 and parameters: {'x_0': 0.8501666172224752, 'x_1': 0.07725952013422649}. Best is trial 1 with value: 324.43704932087496.\u001b[0m\n"
     ]
    },
    {
     "name": "stdout",
     "output_type": "stream",
     "text": [
      "Fold number: 5, loss: 324.84847738692537\n",
      "Current weights: [0.56901241 0.31364454 0.11734306]\n"
     ]
    },
    {
     "name": "stderr",
     "output_type": "stream",
     "text": [
      "C:\\Users\\Aleksey Ryabykin\\AppData\\Local\\Temp\\ipykernel_284956\\2963386934.py:8: FutureWarning: The default value of numeric_only in DataFrameGroupBy.mean is deprecated. In a future version, numeric_only will default to False. Either specify numeric_only or select only columns which should be valid for the function.\n",
      "  \"category_means\": dataset.groupby(dataset[column]).mean()[target_name]\n",
      "C:\\Users\\Aleksey Ryabykin\\AppData\\Local\\Temp\\ipykernel_284956\\2963386934.py:8: FutureWarning: The default value of numeric_only in DataFrameGroupBy.mean is deprecated. In a future version, numeric_only will default to False. Either specify numeric_only or select only columns which should be valid for the function.\n",
      "  \"category_means\": dataset.groupby(dataset[column]).mean()[target_name]\n"
     ]
    },
    {
     "name": "stdout",
     "output_type": "stream",
     "text": [
      "Fold number: 1, loss: 370.92469255314245\n"
     ]
    },
    {
     "name": "stderr",
     "output_type": "stream",
     "text": [
      "C:\\Users\\Aleksey Ryabykin\\AppData\\Local\\Temp\\ipykernel_284956\\2963386934.py:8: FutureWarning: The default value of numeric_only in DataFrameGroupBy.mean is deprecated. In a future version, numeric_only will default to False. Either specify numeric_only or select only columns which should be valid for the function.\n",
      "  \"category_means\": dataset.groupby(dataset[column]).mean()[target_name]\n",
      "C:\\Users\\Aleksey Ryabykin\\AppData\\Local\\Temp\\ipykernel_284956\\2963386934.py:8: FutureWarning: The default value of numeric_only in DataFrameGroupBy.mean is deprecated. In a future version, numeric_only will default to False. Either specify numeric_only or select only columns which should be valid for the function.\n",
      "  \"category_means\": dataset.groupby(dataset[column]).mean()[target_name]\n"
     ]
    },
    {
     "name": "stdout",
     "output_type": "stream",
     "text": [
      "Fold number: 2, loss: 321.2652439282402\n"
     ]
    },
    {
     "name": "stderr",
     "output_type": "stream",
     "text": [
      "C:\\Users\\Aleksey Ryabykin\\AppData\\Local\\Temp\\ipykernel_284956\\2963386934.py:8: FutureWarning: The default value of numeric_only in DataFrameGroupBy.mean is deprecated. In a future version, numeric_only will default to False. Either specify numeric_only or select only columns which should be valid for the function.\n",
      "  \"category_means\": dataset.groupby(dataset[column]).mean()[target_name]\n",
      "C:\\Users\\Aleksey Ryabykin\\AppData\\Local\\Temp\\ipykernel_284956\\2963386934.py:8: FutureWarning: The default value of numeric_only in DataFrameGroupBy.mean is deprecated. In a future version, numeric_only will default to False. Either specify numeric_only or select only columns which should be valid for the function.\n",
      "  \"category_means\": dataset.groupby(dataset[column]).mean()[target_name]\n"
     ]
    },
    {
     "name": "stdout",
     "output_type": "stream",
     "text": [
      "Fold number: 3, loss: 335.7813509782818\n"
     ]
    },
    {
     "name": "stderr",
     "output_type": "stream",
     "text": [
      "C:\\Users\\Aleksey Ryabykin\\AppData\\Local\\Temp\\ipykernel_284956\\2963386934.py:8: FutureWarning: The default value of numeric_only in DataFrameGroupBy.mean is deprecated. In a future version, numeric_only will default to False. Either specify numeric_only or select only columns which should be valid for the function.\n",
      "  \"category_means\": dataset.groupby(dataset[column]).mean()[target_name]\n",
      "C:\\Users\\Aleksey Ryabykin\\AppData\\Local\\Temp\\ipykernel_284956\\2963386934.py:8: FutureWarning: The default value of numeric_only in DataFrameGroupBy.mean is deprecated. In a future version, numeric_only will default to False. Either specify numeric_only or select only columns which should be valid for the function.\n",
      "  \"category_means\": dataset.groupby(dataset[column]).mean()[target_name]\n"
     ]
    },
    {
     "name": "stdout",
     "output_type": "stream",
     "text": [
      "Fold number: 4, loss: 271.398970202701\n"
     ]
    },
    {
     "name": "stderr",
     "output_type": "stream",
     "text": [
      "C:\\Users\\Aleksey Ryabykin\\AppData\\Local\\Temp\\ipykernel_284956\\2963386934.py:8: FutureWarning: The default value of numeric_only in DataFrameGroupBy.mean is deprecated. In a future version, numeric_only will default to False. Either specify numeric_only or select only columns which should be valid for the function.\n",
      "  \"category_means\": dataset.groupby(dataset[column]).mean()[target_name]\n",
      "C:\\Users\\Aleksey Ryabykin\\AppData\\Local\\Temp\\ipykernel_284956\\2963386934.py:8: FutureWarning: The default value of numeric_only in DataFrameGroupBy.mean is deprecated. In a future version, numeric_only will default to False. Either specify numeric_only or select only columns which should be valid for the function.\n",
      "  \"category_means\": dataset.groupby(dataset[column]).mean()[target_name]\n",
      "\u001b[32m[I 2022-12-21 00:24:10,899]\u001b[0m Trial 2 finished with value: 325.3443323711161 and parameters: {'x_0': 0.5690124061569766, 'x_1': 0.31364453737076886}. Best is trial 1 with value: 324.43704932087496.\u001b[0m\n"
     ]
    },
    {
     "name": "stdout",
     "output_type": "stream",
     "text": [
      "Fold number: 5, loss: 327.351404193215\n",
      "Current weights: [0.79100526 0.05914227 0.14985247]\n"
     ]
    },
    {
     "name": "stderr",
     "output_type": "stream",
     "text": [
      "C:\\Users\\Aleksey Ryabykin\\AppData\\Local\\Temp\\ipykernel_284956\\2963386934.py:8: FutureWarning: The default value of numeric_only in DataFrameGroupBy.mean is deprecated. In a future version, numeric_only will default to False. Either specify numeric_only or select only columns which should be valid for the function.\n",
      "  \"category_means\": dataset.groupby(dataset[column]).mean()[target_name]\n",
      "C:\\Users\\Aleksey Ryabykin\\AppData\\Local\\Temp\\ipykernel_284956\\2963386934.py:8: FutureWarning: The default value of numeric_only in DataFrameGroupBy.mean is deprecated. In a future version, numeric_only will default to False. Either specify numeric_only or select only columns which should be valid for the function.\n",
      "  \"category_means\": dataset.groupby(dataset[column]).mean()[target_name]\n"
     ]
    },
    {
     "name": "stdout",
     "output_type": "stream",
     "text": [
      "Fold number: 1, loss: 337.1187312372435\n"
     ]
    },
    {
     "name": "stderr",
     "output_type": "stream",
     "text": [
      "C:\\Users\\Aleksey Ryabykin\\AppData\\Local\\Temp\\ipykernel_284956\\2963386934.py:8: FutureWarning: The default value of numeric_only in DataFrameGroupBy.mean is deprecated. In a future version, numeric_only will default to False. Either specify numeric_only or select only columns which should be valid for the function.\n",
      "  \"category_means\": dataset.groupby(dataset[column]).mean()[target_name]\n",
      "C:\\Users\\Aleksey Ryabykin\\AppData\\Local\\Temp\\ipykernel_284956\\2963386934.py:8: FutureWarning: The default value of numeric_only in DataFrameGroupBy.mean is deprecated. In a future version, numeric_only will default to False. Either specify numeric_only or select only columns which should be valid for the function.\n",
      "  \"category_means\": dataset.groupby(dataset[column]).mean()[target_name]\n"
     ]
    },
    {
     "name": "stdout",
     "output_type": "stream",
     "text": [
      "Fold number: 2, loss: 293.4348424750598\n"
     ]
    },
    {
     "name": "stderr",
     "output_type": "stream",
     "text": [
      "C:\\Users\\Aleksey Ryabykin\\AppData\\Local\\Temp\\ipykernel_284956\\2963386934.py:8: FutureWarning: The default value of numeric_only in DataFrameGroupBy.mean is deprecated. In a future version, numeric_only will default to False. Either specify numeric_only or select only columns which should be valid for the function.\n",
      "  \"category_means\": dataset.groupby(dataset[column]).mean()[target_name]\n",
      "C:\\Users\\Aleksey Ryabykin\\AppData\\Local\\Temp\\ipykernel_284956\\2963386934.py:8: FutureWarning: The default value of numeric_only in DataFrameGroupBy.mean is deprecated. In a future version, numeric_only will default to False. Either specify numeric_only or select only columns which should be valid for the function.\n",
      "  \"category_means\": dataset.groupby(dataset[column]).mean()[target_name]\n"
     ]
    },
    {
     "name": "stdout",
     "output_type": "stream",
     "text": [
      "Fold number: 3, loss: 362.08450837152117\n"
     ]
    },
    {
     "name": "stderr",
     "output_type": "stream",
     "text": [
      "C:\\Users\\Aleksey Ryabykin\\AppData\\Local\\Temp\\ipykernel_284956\\2963386934.py:8: FutureWarning: The default value of numeric_only in DataFrameGroupBy.mean is deprecated. In a future version, numeric_only will default to False. Either specify numeric_only or select only columns which should be valid for the function.\n",
      "  \"category_means\": dataset.groupby(dataset[column]).mean()[target_name]\n",
      "C:\\Users\\Aleksey Ryabykin\\AppData\\Local\\Temp\\ipykernel_284956\\2963386934.py:8: FutureWarning: The default value of numeric_only in DataFrameGroupBy.mean is deprecated. In a future version, numeric_only will default to False. Either specify numeric_only or select only columns which should be valid for the function.\n",
      "  \"category_means\": dataset.groupby(dataset[column]).mean()[target_name]\n"
     ]
    },
    {
     "name": "stdout",
     "output_type": "stream",
     "text": [
      "Fold number: 4, loss: 316.27476929565984\n"
     ]
    },
    {
     "name": "stderr",
     "output_type": "stream",
     "text": [
      "C:\\Users\\Aleksey Ryabykin\\AppData\\Local\\Temp\\ipykernel_284956\\2963386934.py:8: FutureWarning: The default value of numeric_only in DataFrameGroupBy.mean is deprecated. In a future version, numeric_only will default to False. Either specify numeric_only or select only columns which should be valid for the function.\n",
      "  \"category_means\": dataset.groupby(dataset[column]).mean()[target_name]\n",
      "C:\\Users\\Aleksey Ryabykin\\AppData\\Local\\Temp\\ipykernel_284956\\2963386934.py:8: FutureWarning: The default value of numeric_only in DataFrameGroupBy.mean is deprecated. In a future version, numeric_only will default to False. Either specify numeric_only or select only columns which should be valid for the function.\n",
      "  \"category_means\": dataset.groupby(dataset[column]).mean()[target_name]\n",
      "\u001b[32m[I 2022-12-21 00:24:32,572]\u001b[0m Trial 3 finished with value: 329.5133868143189 and parameters: {'x_0': 0.791005262711468, 'x_1': 0.05914226559313025}. Best is trial 1 with value: 324.43704932087496.\u001b[0m\n"
     ]
    },
    {
     "name": "stdout",
     "output_type": "stream",
     "text": [
      "Fold number: 5, loss: 338.65408269211014\n",
      "Current weights: [0.62099902 0.3466086  0.03239239]\n"
     ]
    },
    {
     "name": "stderr",
     "output_type": "stream",
     "text": [
      "C:\\Users\\Aleksey Ryabykin\\AppData\\Local\\Temp\\ipykernel_284956\\2963386934.py:8: FutureWarning: The default value of numeric_only in DataFrameGroupBy.mean is deprecated. In a future version, numeric_only will default to False. Either specify numeric_only or select only columns which should be valid for the function.\n",
      "  \"category_means\": dataset.groupby(dataset[column]).mean()[target_name]\n",
      "C:\\Users\\Aleksey Ryabykin\\AppData\\Local\\Temp\\ipykernel_284956\\2963386934.py:8: FutureWarning: The default value of numeric_only in DataFrameGroupBy.mean is deprecated. In a future version, numeric_only will default to False. Either specify numeric_only or select only columns which should be valid for the function.\n",
      "  \"category_means\": dataset.groupby(dataset[column]).mean()[target_name]\n"
     ]
    },
    {
     "name": "stdout",
     "output_type": "stream",
     "text": [
      "Fold number: 1, loss: 402.0270152287838\n"
     ]
    },
    {
     "name": "stderr",
     "output_type": "stream",
     "text": [
      "C:\\Users\\Aleksey Ryabykin\\AppData\\Local\\Temp\\ipykernel_284956\\2963386934.py:8: FutureWarning: The default value of numeric_only in DataFrameGroupBy.mean is deprecated. In a future version, numeric_only will default to False. Either specify numeric_only or select only columns which should be valid for the function.\n",
      "  \"category_means\": dataset.groupby(dataset[column]).mean()[target_name]\n",
      "C:\\Users\\Aleksey Ryabykin\\AppData\\Local\\Temp\\ipykernel_284956\\2963386934.py:8: FutureWarning: The default value of numeric_only in DataFrameGroupBy.mean is deprecated. In a future version, numeric_only will default to False. Either specify numeric_only or select only columns which should be valid for the function.\n",
      "  \"category_means\": dataset.groupby(dataset[column]).mean()[target_name]\n"
     ]
    },
    {
     "name": "stdout",
     "output_type": "stream",
     "text": [
      "Fold number: 2, loss: 302.5596487735036\n"
     ]
    },
    {
     "name": "stderr",
     "output_type": "stream",
     "text": [
      "C:\\Users\\Aleksey Ryabykin\\AppData\\Local\\Temp\\ipykernel_284956\\2963386934.py:8: FutureWarning: The default value of numeric_only in DataFrameGroupBy.mean is deprecated. In a future version, numeric_only will default to False. Either specify numeric_only or select only columns which should be valid for the function.\n",
      "  \"category_means\": dataset.groupby(dataset[column]).mean()[target_name]\n",
      "C:\\Users\\Aleksey Ryabykin\\AppData\\Local\\Temp\\ipykernel_284956\\2963386934.py:8: FutureWarning: The default value of numeric_only in DataFrameGroupBy.mean is deprecated. In a future version, numeric_only will default to False. Either specify numeric_only or select only columns which should be valid for the function.\n",
      "  \"category_means\": dataset.groupby(dataset[column]).mean()[target_name]\n"
     ]
    },
    {
     "name": "stdout",
     "output_type": "stream",
     "text": [
      "Fold number: 3, loss: 343.28189661550385\n"
     ]
    },
    {
     "name": "stderr",
     "output_type": "stream",
     "text": [
      "C:\\Users\\Aleksey Ryabykin\\AppData\\Local\\Temp\\ipykernel_284956\\2963386934.py:8: FutureWarning: The default value of numeric_only in DataFrameGroupBy.mean is deprecated. In a future version, numeric_only will default to False. Either specify numeric_only or select only columns which should be valid for the function.\n",
      "  \"category_means\": dataset.groupby(dataset[column]).mean()[target_name]\n",
      "C:\\Users\\Aleksey Ryabykin\\AppData\\Local\\Temp\\ipykernel_284956\\2963386934.py:8: FutureWarning: The default value of numeric_only in DataFrameGroupBy.mean is deprecated. In a future version, numeric_only will default to False. Either specify numeric_only or select only columns which should be valid for the function.\n",
      "  \"category_means\": dataset.groupby(dataset[column]).mean()[target_name]\n"
     ]
    },
    {
     "name": "stdout",
     "output_type": "stream",
     "text": [
      "Fold number: 4, loss: 296.62069883082876\n"
     ]
    },
    {
     "name": "stderr",
     "output_type": "stream",
     "text": [
      "C:\\Users\\Aleksey Ryabykin\\AppData\\Local\\Temp\\ipykernel_284956\\2963386934.py:8: FutureWarning: The default value of numeric_only in DataFrameGroupBy.mean is deprecated. In a future version, numeric_only will default to False. Either specify numeric_only or select only columns which should be valid for the function.\n",
      "  \"category_means\": dataset.groupby(dataset[column]).mean()[target_name]\n",
      "C:\\Users\\Aleksey Ryabykin\\AppData\\Local\\Temp\\ipykernel_284956\\2963386934.py:8: FutureWarning: The default value of numeric_only in DataFrameGroupBy.mean is deprecated. In a future version, numeric_only will default to False. Either specify numeric_only or select only columns which should be valid for the function.\n",
      "  \"category_means\": dataset.groupby(dataset[column]).mean()[target_name]\n",
      "\u001b[32m[I 2022-12-21 00:24:53,758]\u001b[0m Trial 4 finished with value: 338.6595700088246 and parameters: {'x_0': 0.620999015182478, 'x_1': 0.3466085960196159}. Best is trial 1 with value: 324.43704932087496.\u001b[0m\n"
     ]
    },
    {
     "name": "stdout",
     "output_type": "stream",
     "text": [
      "Fold number: 5, loss: 348.80859059550295\n",
      "Current weights: [0.64770303 0.32640618 0.0258908 ]\n"
     ]
    },
    {
     "name": "stderr",
     "output_type": "stream",
     "text": [
      "C:\\Users\\Aleksey Ryabykin\\AppData\\Local\\Temp\\ipykernel_284956\\2963386934.py:8: FutureWarning: The default value of numeric_only in DataFrameGroupBy.mean is deprecated. In a future version, numeric_only will default to False. Either specify numeric_only or select only columns which should be valid for the function.\n",
      "  \"category_means\": dataset.groupby(dataset[column]).mean()[target_name]\n",
      "C:\\Users\\Aleksey Ryabykin\\AppData\\Local\\Temp\\ipykernel_284956\\2963386934.py:8: FutureWarning: The default value of numeric_only in DataFrameGroupBy.mean is deprecated. In a future version, numeric_only will default to False. Either specify numeric_only or select only columns which should be valid for the function.\n",
      "  \"category_means\": dataset.groupby(dataset[column]).mean()[target_name]\n"
     ]
    },
    {
     "name": "stdout",
     "output_type": "stream",
     "text": [
      "Fold number: 1, loss: 373.6631781547827\n"
     ]
    },
    {
     "name": "stderr",
     "output_type": "stream",
     "text": [
      "C:\\Users\\Aleksey Ryabykin\\AppData\\Local\\Temp\\ipykernel_284956\\2963386934.py:8: FutureWarning: The default value of numeric_only in DataFrameGroupBy.mean is deprecated. In a future version, numeric_only will default to False. Either specify numeric_only or select only columns which should be valid for the function.\n",
      "  \"category_means\": dataset.groupby(dataset[column]).mean()[target_name]\n",
      "C:\\Users\\Aleksey Ryabykin\\AppData\\Local\\Temp\\ipykernel_284956\\2963386934.py:8: FutureWarning: The default value of numeric_only in DataFrameGroupBy.mean is deprecated. In a future version, numeric_only will default to False. Either specify numeric_only or select only columns which should be valid for the function.\n",
      "  \"category_means\": dataset.groupby(dataset[column]).mean()[target_name]\n"
     ]
    },
    {
     "name": "stdout",
     "output_type": "stream",
     "text": [
      "Fold number: 2, loss: 312.88168653116526\n"
     ]
    },
    {
     "name": "stderr",
     "output_type": "stream",
     "text": [
      "C:\\Users\\Aleksey Ryabykin\\AppData\\Local\\Temp\\ipykernel_284956\\2963386934.py:8: FutureWarning: The default value of numeric_only in DataFrameGroupBy.mean is deprecated. In a future version, numeric_only will default to False. Either specify numeric_only or select only columns which should be valid for the function.\n",
      "  \"category_means\": dataset.groupby(dataset[column]).mean()[target_name]\n",
      "C:\\Users\\Aleksey Ryabykin\\AppData\\Local\\Temp\\ipykernel_284956\\2963386934.py:8: FutureWarning: The default value of numeric_only in DataFrameGroupBy.mean is deprecated. In a future version, numeric_only will default to False. Either specify numeric_only or select only columns which should be valid for the function.\n",
      "  \"category_means\": dataset.groupby(dataset[column]).mean()[target_name]\n"
     ]
    },
    {
     "name": "stdout",
     "output_type": "stream",
     "text": [
      "Fold number: 3, loss: 394.47377270912466\n"
     ]
    },
    {
     "name": "stderr",
     "output_type": "stream",
     "text": [
      "C:\\Users\\Aleksey Ryabykin\\AppData\\Local\\Temp\\ipykernel_284956\\2963386934.py:8: FutureWarning: The default value of numeric_only in DataFrameGroupBy.mean is deprecated. In a future version, numeric_only will default to False. Either specify numeric_only or select only columns which should be valid for the function.\n",
      "  \"category_means\": dataset.groupby(dataset[column]).mean()[target_name]\n",
      "C:\\Users\\Aleksey Ryabykin\\AppData\\Local\\Temp\\ipykernel_284956\\2963386934.py:8: FutureWarning: The default value of numeric_only in DataFrameGroupBy.mean is deprecated. In a future version, numeric_only will default to False. Either specify numeric_only or select only columns which should be valid for the function.\n",
      "  \"category_means\": dataset.groupby(dataset[column]).mean()[target_name]\n"
     ]
    },
    {
     "name": "stdout",
     "output_type": "stream",
     "text": [
      "Fold number: 4, loss: 371.2970298988005\n"
     ]
    },
    {
     "name": "stderr",
     "output_type": "stream",
     "text": [
      "C:\\Users\\Aleksey Ryabykin\\AppData\\Local\\Temp\\ipykernel_284956\\2963386934.py:8: FutureWarning: The default value of numeric_only in DataFrameGroupBy.mean is deprecated. In a future version, numeric_only will default to False. Either specify numeric_only or select only columns which should be valid for the function.\n",
      "  \"category_means\": dataset.groupby(dataset[column]).mean()[target_name]\n",
      "C:\\Users\\Aleksey Ryabykin\\AppData\\Local\\Temp\\ipykernel_284956\\2963386934.py:8: FutureWarning: The default value of numeric_only in DataFrameGroupBy.mean is deprecated. In a future version, numeric_only will default to False. Either specify numeric_only or select only columns which should be valid for the function.\n",
      "  \"category_means\": dataset.groupby(dataset[column]).mean()[target_name]\n",
      "\u001b[32m[I 2022-12-21 00:25:14,867]\u001b[0m Trial 5 finished with value: 351.9070564332785 and parameters: {'x_0': 0.6477030251302532, 'x_1': 0.3264061778488288}. Best is trial 1 with value: 324.43704932087496.\u001b[0m\n"
     ]
    },
    {
     "name": "stdout",
     "output_type": "stream",
     "text": [
      "Fold number: 5, loss: 307.21961487251957\n",
      "Current weights: [0.21766771 0.74995989 0.0323724 ]\n"
     ]
    },
    {
     "name": "stderr",
     "output_type": "stream",
     "text": [
      "C:\\Users\\Aleksey Ryabykin\\AppData\\Local\\Temp\\ipykernel_284956\\2963386934.py:8: FutureWarning: The default value of numeric_only in DataFrameGroupBy.mean is deprecated. In a future version, numeric_only will default to False. Either specify numeric_only or select only columns which should be valid for the function.\n",
      "  \"category_means\": dataset.groupby(dataset[column]).mean()[target_name]\n",
      "C:\\Users\\Aleksey Ryabykin\\AppData\\Local\\Temp\\ipykernel_284956\\2963386934.py:8: FutureWarning: The default value of numeric_only in DataFrameGroupBy.mean is deprecated. In a future version, numeric_only will default to False. Either specify numeric_only or select only columns which should be valid for the function.\n",
      "  \"category_means\": dataset.groupby(dataset[column]).mean()[target_name]\n"
     ]
    },
    {
     "name": "stdout",
     "output_type": "stream",
     "text": [
      "Fold number: 1, loss: 330.83287249686265\n"
     ]
    },
    {
     "name": "stderr",
     "output_type": "stream",
     "text": [
      "C:\\Users\\Aleksey Ryabykin\\AppData\\Local\\Temp\\ipykernel_284956\\2963386934.py:8: FutureWarning: The default value of numeric_only in DataFrameGroupBy.mean is deprecated. In a future version, numeric_only will default to False. Either specify numeric_only or select only columns which should be valid for the function.\n",
      "  \"category_means\": dataset.groupby(dataset[column]).mean()[target_name]\n",
      "C:\\Users\\Aleksey Ryabykin\\AppData\\Local\\Temp\\ipykernel_284956\\2963386934.py:8: FutureWarning: The default value of numeric_only in DataFrameGroupBy.mean is deprecated. In a future version, numeric_only will default to False. Either specify numeric_only or select only columns which should be valid for the function.\n",
      "  \"category_means\": dataset.groupby(dataset[column]).mean()[target_name]\n"
     ]
    },
    {
     "name": "stdout",
     "output_type": "stream",
     "text": [
      "Fold number: 2, loss: 369.15232304642547\n"
     ]
    },
    {
     "name": "stderr",
     "output_type": "stream",
     "text": [
      "C:\\Users\\Aleksey Ryabykin\\AppData\\Local\\Temp\\ipykernel_284956\\2963386934.py:8: FutureWarning: The default value of numeric_only in DataFrameGroupBy.mean is deprecated. In a future version, numeric_only will default to False. Either specify numeric_only or select only columns which should be valid for the function.\n",
      "  \"category_means\": dataset.groupby(dataset[column]).mean()[target_name]\n",
      "C:\\Users\\Aleksey Ryabykin\\AppData\\Local\\Temp\\ipykernel_284956\\2963386934.py:8: FutureWarning: The default value of numeric_only in DataFrameGroupBy.mean is deprecated. In a future version, numeric_only will default to False. Either specify numeric_only or select only columns which should be valid for the function.\n",
      "  \"category_means\": dataset.groupby(dataset[column]).mean()[target_name]\n"
     ]
    },
    {
     "name": "stdout",
     "output_type": "stream",
     "text": [
      "Fold number: 3, loss: 346.26882902872495\n"
     ]
    },
    {
     "name": "stderr",
     "output_type": "stream",
     "text": [
      "C:\\Users\\Aleksey Ryabykin\\AppData\\Local\\Temp\\ipykernel_284956\\2963386934.py:8: FutureWarning: The default value of numeric_only in DataFrameGroupBy.mean is deprecated. In a future version, numeric_only will default to False. Either specify numeric_only or select only columns which should be valid for the function.\n",
      "  \"category_means\": dataset.groupby(dataset[column]).mean()[target_name]\n",
      "C:\\Users\\Aleksey Ryabykin\\AppData\\Local\\Temp\\ipykernel_284956\\2963386934.py:8: FutureWarning: The default value of numeric_only in DataFrameGroupBy.mean is deprecated. In a future version, numeric_only will default to False. Either specify numeric_only or select only columns which should be valid for the function.\n",
      "  \"category_means\": dataset.groupby(dataset[column]).mean()[target_name]\n"
     ]
    },
    {
     "name": "stdout",
     "output_type": "stream",
     "text": [
      "Fold number: 4, loss: 373.1429274345827\n"
     ]
    },
    {
     "name": "stderr",
     "output_type": "stream",
     "text": [
      "C:\\Users\\Aleksey Ryabykin\\AppData\\Local\\Temp\\ipykernel_284956\\2963386934.py:8: FutureWarning: The default value of numeric_only in DataFrameGroupBy.mean is deprecated. In a future version, numeric_only will default to False. Either specify numeric_only or select only columns which should be valid for the function.\n",
      "  \"category_means\": dataset.groupby(dataset[column]).mean()[target_name]\n",
      "C:\\Users\\Aleksey Ryabykin\\AppData\\Local\\Temp\\ipykernel_284956\\2963386934.py:8: FutureWarning: The default value of numeric_only in DataFrameGroupBy.mean is deprecated. In a future version, numeric_only will default to False. Either specify numeric_only or select only columns which should be valid for the function.\n",
      "  \"category_means\": dataset.groupby(dataset[column]).mean()[target_name]\n",
      "\u001b[32m[I 2022-12-21 00:25:35,992]\u001b[0m Trial 6 finished with value: 363.833494624699 and parameters: {'x_0': 0.21766770713251726, 'x_1': 0.7499598934818068}. Best is trial 1 with value: 324.43704932087496.\u001b[0m\n"
     ]
    },
    {
     "name": "stdout",
     "output_type": "stream",
     "text": [
      "Fold number: 5, loss: 399.7705211168992\n",
      "Current weights: [0.33753395 0.03566663 0.62679943]\n"
     ]
    },
    {
     "name": "stderr",
     "output_type": "stream",
     "text": [
      "C:\\Users\\Aleksey Ryabykin\\AppData\\Local\\Temp\\ipykernel_284956\\2963386934.py:8: FutureWarning: The default value of numeric_only in DataFrameGroupBy.mean is deprecated. In a future version, numeric_only will default to False. Either specify numeric_only or select only columns which should be valid for the function.\n",
      "  \"category_means\": dataset.groupby(dataset[column]).mean()[target_name]\n",
      "C:\\Users\\Aleksey Ryabykin\\AppData\\Local\\Temp\\ipykernel_284956\\2963386934.py:8: FutureWarning: The default value of numeric_only in DataFrameGroupBy.mean is deprecated. In a future version, numeric_only will default to False. Either specify numeric_only or select only columns which should be valid for the function.\n",
      "  \"category_means\": dataset.groupby(dataset[column]).mean()[target_name]\n"
     ]
    },
    {
     "name": "stdout",
     "output_type": "stream",
     "text": [
      "Fold number: 1, loss: 332.19835878794936\n"
     ]
    },
    {
     "name": "stderr",
     "output_type": "stream",
     "text": [
      "C:\\Users\\Aleksey Ryabykin\\AppData\\Local\\Temp\\ipykernel_284956\\2963386934.py:8: FutureWarning: The default value of numeric_only in DataFrameGroupBy.mean is deprecated. In a future version, numeric_only will default to False. Either specify numeric_only or select only columns which should be valid for the function.\n",
      "  \"category_means\": dataset.groupby(dataset[column]).mean()[target_name]\n",
      "C:\\Users\\Aleksey Ryabykin\\AppData\\Local\\Temp\\ipykernel_284956\\2963386934.py:8: FutureWarning: The default value of numeric_only in DataFrameGroupBy.mean is deprecated. In a future version, numeric_only will default to False. Either specify numeric_only or select only columns which should be valid for the function.\n",
      "  \"category_means\": dataset.groupby(dataset[column]).mean()[target_name]\n"
     ]
    },
    {
     "name": "stdout",
     "output_type": "stream",
     "text": [
      "Fold number: 2, loss: 290.1583253545636\n"
     ]
    },
    {
     "name": "stderr",
     "output_type": "stream",
     "text": [
      "C:\\Users\\Aleksey Ryabykin\\AppData\\Local\\Temp\\ipykernel_284956\\2963386934.py:8: FutureWarning: The default value of numeric_only in DataFrameGroupBy.mean is deprecated. In a future version, numeric_only will default to False. Either specify numeric_only or select only columns which should be valid for the function.\n",
      "  \"category_means\": dataset.groupby(dataset[column]).mean()[target_name]\n",
      "C:\\Users\\Aleksey Ryabykin\\AppData\\Local\\Temp\\ipykernel_284956\\2963386934.py:8: FutureWarning: The default value of numeric_only in DataFrameGroupBy.mean is deprecated. In a future version, numeric_only will default to False. Either specify numeric_only or select only columns which should be valid for the function.\n",
      "  \"category_means\": dataset.groupby(dataset[column]).mean()[target_name]\n"
     ]
    },
    {
     "name": "stdout",
     "output_type": "stream",
     "text": [
      "Fold number: 3, loss: 250.0012140807078\n"
     ]
    },
    {
     "name": "stderr",
     "output_type": "stream",
     "text": [
      "C:\\Users\\Aleksey Ryabykin\\AppData\\Local\\Temp\\ipykernel_284956\\2963386934.py:8: FutureWarning: The default value of numeric_only in DataFrameGroupBy.mean is deprecated. In a future version, numeric_only will default to False. Either specify numeric_only or select only columns which should be valid for the function.\n",
      "  \"category_means\": dataset.groupby(dataset[column]).mean()[target_name]\n",
      "C:\\Users\\Aleksey Ryabykin\\AppData\\Local\\Temp\\ipykernel_284956\\2963386934.py:8: FutureWarning: The default value of numeric_only in DataFrameGroupBy.mean is deprecated. In a future version, numeric_only will default to False. Either specify numeric_only or select only columns which should be valid for the function.\n",
      "  \"category_means\": dataset.groupby(dataset[column]).mean()[target_name]\n"
     ]
    },
    {
     "name": "stdout",
     "output_type": "stream",
     "text": [
      "Fold number: 4, loss: 309.9633448872724\n"
     ]
    },
    {
     "name": "stderr",
     "output_type": "stream",
     "text": [
      "C:\\Users\\Aleksey Ryabykin\\AppData\\Local\\Temp\\ipykernel_284956\\2963386934.py:8: FutureWarning: The default value of numeric_only in DataFrameGroupBy.mean is deprecated. In a future version, numeric_only will default to False. Either specify numeric_only or select only columns which should be valid for the function.\n",
      "  \"category_means\": dataset.groupby(dataset[column]).mean()[target_name]\n",
      "C:\\Users\\Aleksey Ryabykin\\AppData\\Local\\Temp\\ipykernel_284956\\2963386934.py:8: FutureWarning: The default value of numeric_only in DataFrameGroupBy.mean is deprecated. In a future version, numeric_only will default to False. Either specify numeric_only or select only columns which should be valid for the function.\n",
      "  \"category_means\": dataset.groupby(dataset[column]).mean()[target_name]\n",
      "\u001b[32m[I 2022-12-21 00:25:55,628]\u001b[0m Trial 7 finished with value: 293.3019640295066 and parameters: {'x_0': 0.3375339462726895, 'x_1': 0.03566662648845866}. Best is trial 7 with value: 293.3019640295066.\u001b[0m\n"
     ]
    },
    {
     "name": "stdout",
     "output_type": "stream",
     "text": [
      "Fold number: 5, loss: 284.18857703704003\n",
      "Current weights: [0.71172272 0.11656102 0.17171627]\n"
     ]
    },
    {
     "name": "stderr",
     "output_type": "stream",
     "text": [
      "C:\\Users\\Aleksey Ryabykin\\AppData\\Local\\Temp\\ipykernel_284956\\2963386934.py:8: FutureWarning: The default value of numeric_only in DataFrameGroupBy.mean is deprecated. In a future version, numeric_only will default to False. Either specify numeric_only or select only columns which should be valid for the function.\n",
      "  \"category_means\": dataset.groupby(dataset[column]).mean()[target_name]\n",
      "C:\\Users\\Aleksey Ryabykin\\AppData\\Local\\Temp\\ipykernel_284956\\2963386934.py:8: FutureWarning: The default value of numeric_only in DataFrameGroupBy.mean is deprecated. In a future version, numeric_only will default to False. Either specify numeric_only or select only columns which should be valid for the function.\n",
      "  \"category_means\": dataset.groupby(dataset[column]).mean()[target_name]\n"
     ]
    },
    {
     "name": "stdout",
     "output_type": "stream",
     "text": [
      "Fold number: 1, loss: 359.99165797719536\n"
     ]
    },
    {
     "name": "stderr",
     "output_type": "stream",
     "text": [
      "C:\\Users\\Aleksey Ryabykin\\AppData\\Local\\Temp\\ipykernel_284956\\2963386934.py:8: FutureWarning: The default value of numeric_only in DataFrameGroupBy.mean is deprecated. In a future version, numeric_only will default to False. Either specify numeric_only or select only columns which should be valid for the function.\n",
      "  \"category_means\": dataset.groupby(dataset[column]).mean()[target_name]\n",
      "C:\\Users\\Aleksey Ryabykin\\AppData\\Local\\Temp\\ipykernel_284956\\2963386934.py:8: FutureWarning: The default value of numeric_only in DataFrameGroupBy.mean is deprecated. In a future version, numeric_only will default to False. Either specify numeric_only or select only columns which should be valid for the function.\n",
      "  \"category_means\": dataset.groupby(dataset[column]).mean()[target_name]\n"
     ]
    },
    {
     "name": "stdout",
     "output_type": "stream",
     "text": [
      "Fold number: 2, loss: 327.61018425841417\n"
     ]
    },
    {
     "name": "stderr",
     "output_type": "stream",
     "text": [
      "C:\\Users\\Aleksey Ryabykin\\AppData\\Local\\Temp\\ipykernel_284956\\2963386934.py:8: FutureWarning: The default value of numeric_only in DataFrameGroupBy.mean is deprecated. In a future version, numeric_only will default to False. Either specify numeric_only or select only columns which should be valid for the function.\n",
      "  \"category_means\": dataset.groupby(dataset[column]).mean()[target_name]\n",
      "C:\\Users\\Aleksey Ryabykin\\AppData\\Local\\Temp\\ipykernel_284956\\2963386934.py:8: FutureWarning: The default value of numeric_only in DataFrameGroupBy.mean is deprecated. In a future version, numeric_only will default to False. Either specify numeric_only or select only columns which should be valid for the function.\n",
      "  \"category_means\": dataset.groupby(dataset[column]).mean()[target_name]\n"
     ]
    },
    {
     "name": "stdout",
     "output_type": "stream",
     "text": [
      "Fold number: 3, loss: 324.22415931143627\n"
     ]
    },
    {
     "name": "stderr",
     "output_type": "stream",
     "text": [
      "C:\\Users\\Aleksey Ryabykin\\AppData\\Local\\Temp\\ipykernel_284956\\2963386934.py:8: FutureWarning: The default value of numeric_only in DataFrameGroupBy.mean is deprecated. In a future version, numeric_only will default to False. Either specify numeric_only or select only columns which should be valid for the function.\n",
      "  \"category_means\": dataset.groupby(dataset[column]).mean()[target_name]\n",
      "C:\\Users\\Aleksey Ryabykin\\AppData\\Local\\Temp\\ipykernel_284956\\2963386934.py:8: FutureWarning: The default value of numeric_only in DataFrameGroupBy.mean is deprecated. In a future version, numeric_only will default to False. Either specify numeric_only or select only columns which should be valid for the function.\n",
      "  \"category_means\": dataset.groupby(dataset[column]).mean()[target_name]\n"
     ]
    },
    {
     "name": "stdout",
     "output_type": "stream",
     "text": [
      "Fold number: 4, loss: 284.06901521042465\n"
     ]
    },
    {
     "name": "stderr",
     "output_type": "stream",
     "text": [
      "C:\\Users\\Aleksey Ryabykin\\AppData\\Local\\Temp\\ipykernel_284956\\2963386934.py:8: FutureWarning: The default value of numeric_only in DataFrameGroupBy.mean is deprecated. In a future version, numeric_only will default to False. Either specify numeric_only or select only columns which should be valid for the function.\n",
      "  \"category_means\": dataset.groupby(dataset[column]).mean()[target_name]\n",
      "C:\\Users\\Aleksey Ryabykin\\AppData\\Local\\Temp\\ipykernel_284956\\2963386934.py:8: FutureWarning: The default value of numeric_only in DataFrameGroupBy.mean is deprecated. In a future version, numeric_only will default to False. Either specify numeric_only or select only columns which should be valid for the function.\n",
      "  \"category_means\": dataset.groupby(dataset[column]).mean()[target_name]\n",
      "\u001b[32m[I 2022-12-21 00:26:16,485]\u001b[0m Trial 8 finished with value: 318.51064770923074 and parameters: {'x_0': 0.7117227159795927, 'x_1': 0.11656101773783485}. Best is trial 7 with value: 293.3019640295066.\u001b[0m\n"
     ]
    },
    {
     "name": "stdout",
     "output_type": "stream",
     "text": [
      "Fold number: 5, loss: 296.6582217886832\n",
      "Current weights: [0.07200062 0.46286216 0.46513722]\n"
     ]
    },
    {
     "name": "stderr",
     "output_type": "stream",
     "text": [
      "C:\\Users\\Aleksey Ryabykin\\AppData\\Local\\Temp\\ipykernel_284956\\2963386934.py:8: FutureWarning: The default value of numeric_only in DataFrameGroupBy.mean is deprecated. In a future version, numeric_only will default to False. Either specify numeric_only or select only columns which should be valid for the function.\n",
      "  \"category_means\": dataset.groupby(dataset[column]).mean()[target_name]\n",
      "C:\\Users\\Aleksey Ryabykin\\AppData\\Local\\Temp\\ipykernel_284956\\2963386934.py:8: FutureWarning: The default value of numeric_only in DataFrameGroupBy.mean is deprecated. In a future version, numeric_only will default to False. Either specify numeric_only or select only columns which should be valid for the function.\n",
      "  \"category_means\": dataset.groupby(dataset[column]).mean()[target_name]\n"
     ]
    },
    {
     "name": "stdout",
     "output_type": "stream",
     "text": [
      "Fold number: 1, loss: 335.4934959615447\n"
     ]
    },
    {
     "name": "stderr",
     "output_type": "stream",
     "text": [
      "C:\\Users\\Aleksey Ryabykin\\AppData\\Local\\Temp\\ipykernel_284956\\2963386934.py:8: FutureWarning: The default value of numeric_only in DataFrameGroupBy.mean is deprecated. In a future version, numeric_only will default to False. Either specify numeric_only or select only columns which should be valid for the function.\n",
      "  \"category_means\": dataset.groupby(dataset[column]).mean()[target_name]\n",
      "C:\\Users\\Aleksey Ryabykin\\AppData\\Local\\Temp\\ipykernel_284956\\2963386934.py:8: FutureWarning: The default value of numeric_only in DataFrameGroupBy.mean is deprecated. In a future version, numeric_only will default to False. Either specify numeric_only or select only columns which should be valid for the function.\n",
      "  \"category_means\": dataset.groupby(dataset[column]).mean()[target_name]\n"
     ]
    },
    {
     "name": "stdout",
     "output_type": "stream",
     "text": [
      "Fold number: 2, loss: 322.09348745788867\n"
     ]
    },
    {
     "name": "stderr",
     "output_type": "stream",
     "text": [
      "C:\\Users\\Aleksey Ryabykin\\AppData\\Local\\Temp\\ipykernel_284956\\2963386934.py:8: FutureWarning: The default value of numeric_only in DataFrameGroupBy.mean is deprecated. In a future version, numeric_only will default to False. Either specify numeric_only or select only columns which should be valid for the function.\n",
      "  \"category_means\": dataset.groupby(dataset[column]).mean()[target_name]\n",
      "C:\\Users\\Aleksey Ryabykin\\AppData\\Local\\Temp\\ipykernel_284956\\2963386934.py:8: FutureWarning: The default value of numeric_only in DataFrameGroupBy.mean is deprecated. In a future version, numeric_only will default to False. Either specify numeric_only or select only columns which should be valid for the function.\n",
      "  \"category_means\": dataset.groupby(dataset[column]).mean()[target_name]\n"
     ]
    },
    {
     "name": "stdout",
     "output_type": "stream",
     "text": [
      "Fold number: 3, loss: 275.5322353336897\n"
     ]
    },
    {
     "name": "stderr",
     "output_type": "stream",
     "text": [
      "C:\\Users\\Aleksey Ryabykin\\AppData\\Local\\Temp\\ipykernel_284956\\2963386934.py:8: FutureWarning: The default value of numeric_only in DataFrameGroupBy.mean is deprecated. In a future version, numeric_only will default to False. Either specify numeric_only or select only columns which should be valid for the function.\n",
      "  \"category_means\": dataset.groupby(dataset[column]).mean()[target_name]\n",
      "C:\\Users\\Aleksey Ryabykin\\AppData\\Local\\Temp\\ipykernel_284956\\2963386934.py:8: FutureWarning: The default value of numeric_only in DataFrameGroupBy.mean is deprecated. In a future version, numeric_only will default to False. Either specify numeric_only or select only columns which should be valid for the function.\n",
      "  \"category_means\": dataset.groupby(dataset[column]).mean()[target_name]\n"
     ]
    },
    {
     "name": "stdout",
     "output_type": "stream",
     "text": [
      "Fold number: 4, loss: 393.1665501925399\n"
     ]
    },
    {
     "name": "stderr",
     "output_type": "stream",
     "text": [
      "C:\\Users\\Aleksey Ryabykin\\AppData\\Local\\Temp\\ipykernel_284956\\2963386934.py:8: FutureWarning: The default value of numeric_only in DataFrameGroupBy.mean is deprecated. In a future version, numeric_only will default to False. Either specify numeric_only or select only columns which should be valid for the function.\n",
      "  \"category_means\": dataset.groupby(dataset[column]).mean()[target_name]\n",
      "C:\\Users\\Aleksey Ryabykin\\AppData\\Local\\Temp\\ipykernel_284956\\2963386934.py:8: FutureWarning: The default value of numeric_only in DataFrameGroupBy.mean is deprecated. In a future version, numeric_only will default to False. Either specify numeric_only or select only columns which should be valid for the function.\n",
      "  \"category_means\": dataset.groupby(dataset[column]).mean()[target_name]\n",
      "\u001b[32m[I 2022-12-21 00:26:37,381]\u001b[0m Trial 9 finished with value: 322.51364787930635 and parameters: {'x_0': 0.07200062288636011, 'x_1': 0.462862158179608}. Best is trial 7 with value: 293.3019640295066.\u001b[0m\n"
     ]
    },
    {
     "name": "stdout",
     "output_type": "stream",
     "text": [
      "Fold number: 5, loss: 286.2824704508687\n",
      "Current weights: [0.34287504 0.21519214 0.44193281]\n"
     ]
    },
    {
     "name": "stderr",
     "output_type": "stream",
     "text": [
      "C:\\Users\\Aleksey Ryabykin\\AppData\\Local\\Temp\\ipykernel_284956\\2963386934.py:8: FutureWarning: The default value of numeric_only in DataFrameGroupBy.mean is deprecated. In a future version, numeric_only will default to False. Either specify numeric_only or select only columns which should be valid for the function.\n",
      "  \"category_means\": dataset.groupby(dataset[column]).mean()[target_name]\n",
      "C:\\Users\\Aleksey Ryabykin\\AppData\\Local\\Temp\\ipykernel_284956\\2963386934.py:8: FutureWarning: The default value of numeric_only in DataFrameGroupBy.mean is deprecated. In a future version, numeric_only will default to False. Either specify numeric_only or select only columns which should be valid for the function.\n",
      "  \"category_means\": dataset.groupby(dataset[column]).mean()[target_name]\n"
     ]
    },
    {
     "name": "stdout",
     "output_type": "stream",
     "text": [
      "Fold number: 1, loss: 336.78637151625924\n"
     ]
    },
    {
     "name": "stderr",
     "output_type": "stream",
     "text": [
      "C:\\Users\\Aleksey Ryabykin\\AppData\\Local\\Temp\\ipykernel_284956\\2963386934.py:8: FutureWarning: The default value of numeric_only in DataFrameGroupBy.mean is deprecated. In a future version, numeric_only will default to False. Either specify numeric_only or select only columns which should be valid for the function.\n",
      "  \"category_means\": dataset.groupby(dataset[column]).mean()[target_name]\n",
      "C:\\Users\\Aleksey Ryabykin\\AppData\\Local\\Temp\\ipykernel_284956\\2963386934.py:8: FutureWarning: The default value of numeric_only in DataFrameGroupBy.mean is deprecated. In a future version, numeric_only will default to False. Either specify numeric_only or select only columns which should be valid for the function.\n",
      "  \"category_means\": dataset.groupby(dataset[column]).mean()[target_name]\n"
     ]
    },
    {
     "name": "stdout",
     "output_type": "stream",
     "text": [
      "Fold number: 2, loss: 355.82622588610394\n"
     ]
    },
    {
     "name": "stderr",
     "output_type": "stream",
     "text": [
      "C:\\Users\\Aleksey Ryabykin\\AppData\\Local\\Temp\\ipykernel_284956\\2963386934.py:8: FutureWarning: The default value of numeric_only in DataFrameGroupBy.mean is deprecated. In a future version, numeric_only will default to False. Either specify numeric_only or select only columns which should be valid for the function.\n",
      "  \"category_means\": dataset.groupby(dataset[column]).mean()[target_name]\n",
      "C:\\Users\\Aleksey Ryabykin\\AppData\\Local\\Temp\\ipykernel_284956\\2963386934.py:8: FutureWarning: The default value of numeric_only in DataFrameGroupBy.mean is deprecated. In a future version, numeric_only will default to False. Either specify numeric_only or select only columns which should be valid for the function.\n",
      "  \"category_means\": dataset.groupby(dataset[column]).mean()[target_name]\n"
     ]
    },
    {
     "name": "stdout",
     "output_type": "stream",
     "text": [
      "Fold number: 3, loss: 308.87292372775386\n"
     ]
    },
    {
     "name": "stderr",
     "output_type": "stream",
     "text": [
      "C:\\Users\\Aleksey Ryabykin\\AppData\\Local\\Temp\\ipykernel_284956\\2963386934.py:8: FutureWarning: The default value of numeric_only in DataFrameGroupBy.mean is deprecated. In a future version, numeric_only will default to False. Either specify numeric_only or select only columns which should be valid for the function.\n",
      "  \"category_means\": dataset.groupby(dataset[column]).mean()[target_name]\n",
      "C:\\Users\\Aleksey Ryabykin\\AppData\\Local\\Temp\\ipykernel_284956\\2963386934.py:8: FutureWarning: The default value of numeric_only in DataFrameGroupBy.mean is deprecated. In a future version, numeric_only will default to False. Either specify numeric_only or select only columns which should be valid for the function.\n",
      "  \"category_means\": dataset.groupby(dataset[column]).mean()[target_name]\n"
     ]
    },
    {
     "name": "stdout",
     "output_type": "stream",
     "text": [
      "Fold number: 4, loss: 250.82826938683644\n"
     ]
    },
    {
     "name": "stderr",
     "output_type": "stream",
     "text": [
      "C:\\Users\\Aleksey Ryabykin\\AppData\\Local\\Temp\\ipykernel_284956\\2963386934.py:8: FutureWarning: The default value of numeric_only in DataFrameGroupBy.mean is deprecated. In a future version, numeric_only will default to False. Either specify numeric_only or select only columns which should be valid for the function.\n",
      "  \"category_means\": dataset.groupby(dataset[column]).mean()[target_name]\n",
      "C:\\Users\\Aleksey Ryabykin\\AppData\\Local\\Temp\\ipykernel_284956\\2963386934.py:8: FutureWarning: The default value of numeric_only in DataFrameGroupBy.mean is deprecated. In a future version, numeric_only will default to False. Either specify numeric_only or select only columns which should be valid for the function.\n",
      "  \"category_means\": dataset.groupby(dataset[column]).mean()[target_name]\n",
      "\u001b[32m[I 2022-12-21 00:26:59,722]\u001b[0m Trial 10 finished with value: 315.61887268533025 and parameters: {'x_0': 0.3428750446355664, 'x_1': 0.21519214207365772}. Best is trial 7 with value: 293.3019640295066.\u001b[0m\n"
     ]
    },
    {
     "name": "stdout",
     "output_type": "stream",
     "text": [
      "Fold number: 5, loss: 325.7805729096976\n",
      "Current weights: [0.3553189  0.20220201 0.44247909]\n"
     ]
    },
    {
     "name": "stderr",
     "output_type": "stream",
     "text": [
      "C:\\Users\\Aleksey Ryabykin\\AppData\\Local\\Temp\\ipykernel_284956\\2963386934.py:8: FutureWarning: The default value of numeric_only in DataFrameGroupBy.mean is deprecated. In a future version, numeric_only will default to False. Either specify numeric_only or select only columns which should be valid for the function.\n",
      "  \"category_means\": dataset.groupby(dataset[column]).mean()[target_name]\n",
      "C:\\Users\\Aleksey Ryabykin\\AppData\\Local\\Temp\\ipykernel_284956\\2963386934.py:8: FutureWarning: The default value of numeric_only in DataFrameGroupBy.mean is deprecated. In a future version, numeric_only will default to False. Either specify numeric_only or select only columns which should be valid for the function.\n",
      "  \"category_means\": dataset.groupby(dataset[column]).mean()[target_name]\n"
     ]
    },
    {
     "name": "stdout",
     "output_type": "stream",
     "text": [
      "Fold number: 1, loss: 325.2655871276291\n"
     ]
    },
    {
     "name": "stderr",
     "output_type": "stream",
     "text": [
      "C:\\Users\\Aleksey Ryabykin\\AppData\\Local\\Temp\\ipykernel_284956\\2963386934.py:8: FutureWarning: The default value of numeric_only in DataFrameGroupBy.mean is deprecated. In a future version, numeric_only will default to False. Either specify numeric_only or select only columns which should be valid for the function.\n",
      "  \"category_means\": dataset.groupby(dataset[column]).mean()[target_name]\n",
      "C:\\Users\\Aleksey Ryabykin\\AppData\\Local\\Temp\\ipykernel_284956\\2963386934.py:8: FutureWarning: The default value of numeric_only in DataFrameGroupBy.mean is deprecated. In a future version, numeric_only will default to False. Either specify numeric_only or select only columns which should be valid for the function.\n",
      "  \"category_means\": dataset.groupby(dataset[column]).mean()[target_name]\n"
     ]
    },
    {
     "name": "stdout",
     "output_type": "stream",
     "text": [
      "Fold number: 2, loss: 283.4555087631644\n"
     ]
    },
    {
     "name": "stderr",
     "output_type": "stream",
     "text": [
      "C:\\Users\\Aleksey Ryabykin\\AppData\\Local\\Temp\\ipykernel_284956\\2963386934.py:8: FutureWarning: The default value of numeric_only in DataFrameGroupBy.mean is deprecated. In a future version, numeric_only will default to False. Either specify numeric_only or select only columns which should be valid for the function.\n",
      "  \"category_means\": dataset.groupby(dataset[column]).mean()[target_name]\n",
      "C:\\Users\\Aleksey Ryabykin\\AppData\\Local\\Temp\\ipykernel_284956\\2963386934.py:8: FutureWarning: The default value of numeric_only in DataFrameGroupBy.mean is deprecated. In a future version, numeric_only will default to False. Either specify numeric_only or select only columns which should be valid for the function.\n",
      "  \"category_means\": dataset.groupby(dataset[column]).mean()[target_name]\n"
     ]
    },
    {
     "name": "stdout",
     "output_type": "stream",
     "text": [
      "Fold number: 3, loss: 295.36490224399773\n"
     ]
    },
    {
     "name": "stderr",
     "output_type": "stream",
     "text": [
      "C:\\Users\\Aleksey Ryabykin\\AppData\\Local\\Temp\\ipykernel_284956\\2963386934.py:8: FutureWarning: The default value of numeric_only in DataFrameGroupBy.mean is deprecated. In a future version, numeric_only will default to False. Either specify numeric_only or select only columns which should be valid for the function.\n",
      "  \"category_means\": dataset.groupby(dataset[column]).mean()[target_name]\n",
      "C:\\Users\\Aleksey Ryabykin\\AppData\\Local\\Temp\\ipykernel_284956\\2963386934.py:8: FutureWarning: The default value of numeric_only in DataFrameGroupBy.mean is deprecated. In a future version, numeric_only will default to False. Either specify numeric_only or select only columns which should be valid for the function.\n",
      "  \"category_means\": dataset.groupby(dataset[column]).mean()[target_name]\n"
     ]
    },
    {
     "name": "stdout",
     "output_type": "stream",
     "text": [
      "Fold number: 4, loss: 322.9656910660142\n"
     ]
    },
    {
     "name": "stderr",
     "output_type": "stream",
     "text": [
      "C:\\Users\\Aleksey Ryabykin\\AppData\\Local\\Temp\\ipykernel_284956\\2963386934.py:8: FutureWarning: The default value of numeric_only in DataFrameGroupBy.mean is deprecated. In a future version, numeric_only will default to False. Either specify numeric_only or select only columns which should be valid for the function.\n",
      "  \"category_means\": dataset.groupby(dataset[column]).mean()[target_name]\n",
      "C:\\Users\\Aleksey Ryabykin\\AppData\\Local\\Temp\\ipykernel_284956\\2963386934.py:8: FutureWarning: The default value of numeric_only in DataFrameGroupBy.mean is deprecated. In a future version, numeric_only will default to False. Either specify numeric_only or select only columns which should be valid for the function.\n",
      "  \"category_means\": dataset.groupby(dataset[column]).mean()[target_name]\n",
      "\u001b[32m[I 2022-12-21 00:27:23,483]\u001b[0m Trial 11 finished with value: 306.874642877692 and parameters: {'x_0': 0.35531890364555485, 'x_1': 0.2022020051450163}. Best is trial 7 with value: 293.3019640295066.\u001b[0m\n"
     ]
    },
    {
     "name": "stdout",
     "output_type": "stream",
     "text": [
      "Fold number: 5, loss: 307.3215251876546\n",
      "Current weights: [0.41970205 0.17563455 0.4046634 ]\n"
     ]
    },
    {
     "name": "stderr",
     "output_type": "stream",
     "text": [
      "C:\\Users\\Aleksey Ryabykin\\AppData\\Local\\Temp\\ipykernel_284956\\2963386934.py:8: FutureWarning: The default value of numeric_only in DataFrameGroupBy.mean is deprecated. In a future version, numeric_only will default to False. Either specify numeric_only or select only columns which should be valid for the function.\n",
      "  \"category_means\": dataset.groupby(dataset[column]).mean()[target_name]\n",
      "C:\\Users\\Aleksey Ryabykin\\AppData\\Local\\Temp\\ipykernel_284956\\2963386934.py:8: FutureWarning: The default value of numeric_only in DataFrameGroupBy.mean is deprecated. In a future version, numeric_only will default to False. Either specify numeric_only or select only columns which should be valid for the function.\n",
      "  \"category_means\": dataset.groupby(dataset[column]).mean()[target_name]\n"
     ]
    },
    {
     "name": "stdout",
     "output_type": "stream",
     "text": [
      "Fold number: 1, loss: 327.6570526932832\n"
     ]
    },
    {
     "name": "stderr",
     "output_type": "stream",
     "text": [
      "C:\\Users\\Aleksey Ryabykin\\AppData\\Local\\Temp\\ipykernel_284956\\2963386934.py:8: FutureWarning: The default value of numeric_only in DataFrameGroupBy.mean is deprecated. In a future version, numeric_only will default to False. Either specify numeric_only or select only columns which should be valid for the function.\n",
      "  \"category_means\": dataset.groupby(dataset[column]).mean()[target_name]\n",
      "C:\\Users\\Aleksey Ryabykin\\AppData\\Local\\Temp\\ipykernel_284956\\2963386934.py:8: FutureWarning: The default value of numeric_only in DataFrameGroupBy.mean is deprecated. In a future version, numeric_only will default to False. Either specify numeric_only or select only columns which should be valid for the function.\n",
      "  \"category_means\": dataset.groupby(dataset[column]).mean()[target_name]\n"
     ]
    },
    {
     "name": "stdout",
     "output_type": "stream",
     "text": [
      "Fold number: 2, loss: 315.7154881938893\n"
     ]
    },
    {
     "name": "stderr",
     "output_type": "stream",
     "text": [
      "C:\\Users\\Aleksey Ryabykin\\AppData\\Local\\Temp\\ipykernel_284956\\2963386934.py:8: FutureWarning: The default value of numeric_only in DataFrameGroupBy.mean is deprecated. In a future version, numeric_only will default to False. Either specify numeric_only or select only columns which should be valid for the function.\n",
      "  \"category_means\": dataset.groupby(dataset[column]).mean()[target_name]\n",
      "C:\\Users\\Aleksey Ryabykin\\AppData\\Local\\Temp\\ipykernel_284956\\2963386934.py:8: FutureWarning: The default value of numeric_only in DataFrameGroupBy.mean is deprecated. In a future version, numeric_only will default to False. Either specify numeric_only or select only columns which should be valid for the function.\n",
      "  \"category_means\": dataset.groupby(dataset[column]).mean()[target_name]\n"
     ]
    },
    {
     "name": "stdout",
     "output_type": "stream",
     "text": [
      "Fold number: 3, loss: 324.01140948391145\n"
     ]
    },
    {
     "name": "stderr",
     "output_type": "stream",
     "text": [
      "C:\\Users\\Aleksey Ryabykin\\AppData\\Local\\Temp\\ipykernel_284956\\2963386934.py:8: FutureWarning: The default value of numeric_only in DataFrameGroupBy.mean is deprecated. In a future version, numeric_only will default to False. Either specify numeric_only or select only columns which should be valid for the function.\n",
      "  \"category_means\": dataset.groupby(dataset[column]).mean()[target_name]\n",
      "C:\\Users\\Aleksey Ryabykin\\AppData\\Local\\Temp\\ipykernel_284956\\2963386934.py:8: FutureWarning: The default value of numeric_only in DataFrameGroupBy.mean is deprecated. In a future version, numeric_only will default to False. Either specify numeric_only or select only columns which should be valid for the function.\n",
      "  \"category_means\": dataset.groupby(dataset[column]).mean()[target_name]\n"
     ]
    },
    {
     "name": "stdout",
     "output_type": "stream",
     "text": [
      "Fold number: 4, loss: 318.18876883165007\n"
     ]
    },
    {
     "name": "stderr",
     "output_type": "stream",
     "text": [
      "C:\\Users\\Aleksey Ryabykin\\AppData\\Local\\Temp\\ipykernel_284956\\2963386934.py:8: FutureWarning: The default value of numeric_only in DataFrameGroupBy.mean is deprecated. In a future version, numeric_only will default to False. Either specify numeric_only or select only columns which should be valid for the function.\n",
      "  \"category_means\": dataset.groupby(dataset[column]).mean()[target_name]\n",
      "C:\\Users\\Aleksey Ryabykin\\AppData\\Local\\Temp\\ipykernel_284956\\2963386934.py:8: FutureWarning: The default value of numeric_only in DataFrameGroupBy.mean is deprecated. In a future version, numeric_only will default to False. Either specify numeric_only or select only columns which should be valid for the function.\n",
      "  \"category_means\": dataset.groupby(dataset[column]).mean()[target_name]\n",
      "\u001b[32m[I 2022-12-21 00:27:44,916]\u001b[0m Trial 12 finished with value: 310.2351164062731 and parameters: {'x_0': 0.41970204680973444, 'x_1': 0.17563455214610987}. Best is trial 7 with value: 293.3019640295066.\u001b[0m\n"
     ]
    },
    {
     "name": "stdout",
     "output_type": "stream",
     "text": [
      "Fold number: 5, loss: 265.6028628286315\n",
      "Current weights: [0.27191395 0.4973059  0.23078015]\n"
     ]
    },
    {
     "name": "stderr",
     "output_type": "stream",
     "text": [
      "C:\\Users\\Aleksey Ryabykin\\AppData\\Local\\Temp\\ipykernel_284956\\2963386934.py:8: FutureWarning: The default value of numeric_only in DataFrameGroupBy.mean is deprecated. In a future version, numeric_only will default to False. Either specify numeric_only or select only columns which should be valid for the function.\n",
      "  \"category_means\": dataset.groupby(dataset[column]).mean()[target_name]\n",
      "C:\\Users\\Aleksey Ryabykin\\AppData\\Local\\Temp\\ipykernel_284956\\2963386934.py:8: FutureWarning: The default value of numeric_only in DataFrameGroupBy.mean is deprecated. In a future version, numeric_only will default to False. Either specify numeric_only or select only columns which should be valid for the function.\n",
      "  \"category_means\": dataset.groupby(dataset[column]).mean()[target_name]\n"
     ]
    },
    {
     "name": "stdout",
     "output_type": "stream",
     "text": [
      "Fold number: 1, loss: 332.607295676868\n"
     ]
    },
    {
     "name": "stderr",
     "output_type": "stream",
     "text": [
      "C:\\Users\\Aleksey Ryabykin\\AppData\\Local\\Temp\\ipykernel_284956\\2963386934.py:8: FutureWarning: The default value of numeric_only in DataFrameGroupBy.mean is deprecated. In a future version, numeric_only will default to False. Either specify numeric_only or select only columns which should be valid for the function.\n",
      "  \"category_means\": dataset.groupby(dataset[column]).mean()[target_name]\n",
      "C:\\Users\\Aleksey Ryabykin\\AppData\\Local\\Temp\\ipykernel_284956\\2963386934.py:8: FutureWarning: The default value of numeric_only in DataFrameGroupBy.mean is deprecated. In a future version, numeric_only will default to False. Either specify numeric_only or select only columns which should be valid for the function.\n",
      "  \"category_means\": dataset.groupby(dataset[column]).mean()[target_name]\n"
     ]
    },
    {
     "name": "stdout",
     "output_type": "stream",
     "text": [
      "Fold number: 2, loss: 364.60184373972504\n"
     ]
    },
    {
     "name": "stderr",
     "output_type": "stream",
     "text": [
      "C:\\Users\\Aleksey Ryabykin\\AppData\\Local\\Temp\\ipykernel_284956\\2963386934.py:8: FutureWarning: The default value of numeric_only in DataFrameGroupBy.mean is deprecated. In a future version, numeric_only will default to False. Either specify numeric_only or select only columns which should be valid for the function.\n",
      "  \"category_means\": dataset.groupby(dataset[column]).mean()[target_name]\n",
      "C:\\Users\\Aleksey Ryabykin\\AppData\\Local\\Temp\\ipykernel_284956\\2963386934.py:8: FutureWarning: The default value of numeric_only in DataFrameGroupBy.mean is deprecated. In a future version, numeric_only will default to False. Either specify numeric_only or select only columns which should be valid for the function.\n",
      "  \"category_means\": dataset.groupby(dataset[column]).mean()[target_name]\n"
     ]
    },
    {
     "name": "stdout",
     "output_type": "stream",
     "text": [
      "Fold number: 3, loss: 332.40491679950094\n"
     ]
    },
    {
     "name": "stderr",
     "output_type": "stream",
     "text": [
      "C:\\Users\\Aleksey Ryabykin\\AppData\\Local\\Temp\\ipykernel_284956\\2963386934.py:8: FutureWarning: The default value of numeric_only in DataFrameGroupBy.mean is deprecated. In a future version, numeric_only will default to False. Either specify numeric_only or select only columns which should be valid for the function.\n",
      "  \"category_means\": dataset.groupby(dataset[column]).mean()[target_name]\n",
      "C:\\Users\\Aleksey Ryabykin\\AppData\\Local\\Temp\\ipykernel_284956\\2963386934.py:8: FutureWarning: The default value of numeric_only in DataFrameGroupBy.mean is deprecated. In a future version, numeric_only will default to False. Either specify numeric_only or select only columns which should be valid for the function.\n",
      "  \"category_means\": dataset.groupby(dataset[column]).mean()[target_name]\n"
     ]
    },
    {
     "name": "stdout",
     "output_type": "stream",
     "text": [
      "Fold number: 4, loss: 410.76982380334545\n"
     ]
    },
    {
     "name": "stderr",
     "output_type": "stream",
     "text": [
      "C:\\Users\\Aleksey Ryabykin\\AppData\\Local\\Temp\\ipykernel_284956\\2963386934.py:8: FutureWarning: The default value of numeric_only in DataFrameGroupBy.mean is deprecated. In a future version, numeric_only will default to False. Either specify numeric_only or select only columns which should be valid for the function.\n",
      "  \"category_means\": dataset.groupby(dataset[column]).mean()[target_name]\n",
      "C:\\Users\\Aleksey Ryabykin\\AppData\\Local\\Temp\\ipykernel_284956\\2963386934.py:8: FutureWarning: The default value of numeric_only in DataFrameGroupBy.mean is deprecated. In a future version, numeric_only will default to False. Either specify numeric_only or select only columns which should be valid for the function.\n",
      "  \"category_means\": dataset.groupby(dataset[column]).mean()[target_name]\n",
      "\u001b[32m[I 2022-12-21 00:28:06,687]\u001b[0m Trial 13 finished with value: 349.59351153783336 and parameters: {'x_0': 0.2719139472875649, 'x_1': 0.49730590323599816}. Best is trial 7 with value: 293.3019640295066.\u001b[0m\n"
     ]
    },
    {
     "name": "stdout",
     "output_type": "stream",
     "text": [
      "Fold number: 5, loss: 307.5836776697274\n",
      "Current weights: [0.1236237  0.59195451 0.28442179]\n"
     ]
    },
    {
     "name": "stderr",
     "output_type": "stream",
     "text": [
      "C:\\Users\\Aleksey Ryabykin\\AppData\\Local\\Temp\\ipykernel_284956\\2963386934.py:8: FutureWarning: The default value of numeric_only in DataFrameGroupBy.mean is deprecated. In a future version, numeric_only will default to False. Either specify numeric_only or select only columns which should be valid for the function.\n",
      "  \"category_means\": dataset.groupby(dataset[column]).mean()[target_name]\n",
      "C:\\Users\\Aleksey Ryabykin\\AppData\\Local\\Temp\\ipykernel_284956\\2963386934.py:8: FutureWarning: The default value of numeric_only in DataFrameGroupBy.mean is deprecated. In a future version, numeric_only will default to False. Either specify numeric_only or select only columns which should be valid for the function.\n",
      "  \"category_means\": dataset.groupby(dataset[column]).mean()[target_name]\n"
     ]
    },
    {
     "name": "stdout",
     "output_type": "stream",
     "text": [
      "Fold number: 1, loss: 347.23694620283766\n"
     ]
    },
    {
     "name": "stderr",
     "output_type": "stream",
     "text": [
      "C:\\Users\\Aleksey Ryabykin\\AppData\\Local\\Temp\\ipykernel_284956\\2963386934.py:8: FutureWarning: The default value of numeric_only in DataFrameGroupBy.mean is deprecated. In a future version, numeric_only will default to False. Either specify numeric_only or select only columns which should be valid for the function.\n",
      "  \"category_means\": dataset.groupby(dataset[column]).mean()[target_name]\n",
      "C:\\Users\\Aleksey Ryabykin\\AppData\\Local\\Temp\\ipykernel_284956\\2963386934.py:8: FutureWarning: The default value of numeric_only in DataFrameGroupBy.mean is deprecated. In a future version, numeric_only will default to False. Either specify numeric_only or select only columns which should be valid for the function.\n",
      "  \"category_means\": dataset.groupby(dataset[column]).mean()[target_name]\n"
     ]
    },
    {
     "name": "stdout",
     "output_type": "stream",
     "text": [
      "Fold number: 2, loss: 289.2570269165562\n"
     ]
    },
    {
     "name": "stderr",
     "output_type": "stream",
     "text": [
      "C:\\Users\\Aleksey Ryabykin\\AppData\\Local\\Temp\\ipykernel_284956\\2963386934.py:8: FutureWarning: The default value of numeric_only in DataFrameGroupBy.mean is deprecated. In a future version, numeric_only will default to False. Either specify numeric_only or select only columns which should be valid for the function.\n",
      "  \"category_means\": dataset.groupby(dataset[column]).mean()[target_name]\n",
      "C:\\Users\\Aleksey Ryabykin\\AppData\\Local\\Temp\\ipykernel_284956\\2963386934.py:8: FutureWarning: The default value of numeric_only in DataFrameGroupBy.mean is deprecated. In a future version, numeric_only will default to False. Either specify numeric_only or select only columns which should be valid for the function.\n",
      "  \"category_means\": dataset.groupby(dataset[column]).mean()[target_name]\n"
     ]
    },
    {
     "name": "stdout",
     "output_type": "stream",
     "text": [
      "Fold number: 3, loss: 337.82805284336706\n"
     ]
    },
    {
     "name": "stderr",
     "output_type": "stream",
     "text": [
      "C:\\Users\\Aleksey Ryabykin\\AppData\\Local\\Temp\\ipykernel_284956\\2963386934.py:8: FutureWarning: The default value of numeric_only in DataFrameGroupBy.mean is deprecated. In a future version, numeric_only will default to False. Either specify numeric_only or select only columns which should be valid for the function.\n",
      "  \"category_means\": dataset.groupby(dataset[column]).mean()[target_name]\n",
      "C:\\Users\\Aleksey Ryabykin\\AppData\\Local\\Temp\\ipykernel_284956\\2963386934.py:8: FutureWarning: The default value of numeric_only in DataFrameGroupBy.mean is deprecated. In a future version, numeric_only will default to False. Either specify numeric_only or select only columns which should be valid for the function.\n",
      "  \"category_means\": dataset.groupby(dataset[column]).mean()[target_name]\n"
     ]
    },
    {
     "name": "stdout",
     "output_type": "stream",
     "text": [
      "Fold number: 4, loss: 361.07263626721596\n"
     ]
    },
    {
     "name": "stderr",
     "output_type": "stream",
     "text": [
      "C:\\Users\\Aleksey Ryabykin\\AppData\\Local\\Temp\\ipykernel_284956\\2963386934.py:8: FutureWarning: The default value of numeric_only in DataFrameGroupBy.mean is deprecated. In a future version, numeric_only will default to False. Either specify numeric_only or select only columns which should be valid for the function.\n",
      "  \"category_means\": dataset.groupby(dataset[column]).mean()[target_name]\n",
      "C:\\Users\\Aleksey Ryabykin\\AppData\\Local\\Temp\\ipykernel_284956\\2963386934.py:8: FutureWarning: The default value of numeric_only in DataFrameGroupBy.mean is deprecated. In a future version, numeric_only will default to False. Either specify numeric_only or select only columns which should be valid for the function.\n",
      "  \"category_means\": dataset.groupby(dataset[column]).mean()[target_name]\n",
      "\u001b[32m[I 2022-12-21 00:28:30,679]\u001b[0m Trial 14 finished with value: 333.1727853494451 and parameters: {'x_0': 0.12362370364258926, 'x_1': 0.5919545050474078}. Best is trial 7 with value: 293.3019640295066.\u001b[0m\n"
     ]
    },
    {
     "name": "stdout",
     "output_type": "stream",
     "text": [
      "Fold number: 5, loss: 330.4692645172488\n",
      "Current weights: [0.45712939 0.18966749 0.35320313]\n"
     ]
    },
    {
     "name": "stderr",
     "output_type": "stream",
     "text": [
      "C:\\Users\\Aleksey Ryabykin\\AppData\\Local\\Temp\\ipykernel_284956\\2963386934.py:8: FutureWarning: The default value of numeric_only in DataFrameGroupBy.mean is deprecated. In a future version, numeric_only will default to False. Either specify numeric_only or select only columns which should be valid for the function.\n",
      "  \"category_means\": dataset.groupby(dataset[column]).mean()[target_name]\n",
      "C:\\Users\\Aleksey Ryabykin\\AppData\\Local\\Temp\\ipykernel_284956\\2963386934.py:8: FutureWarning: The default value of numeric_only in DataFrameGroupBy.mean is deprecated. In a future version, numeric_only will default to False. Either specify numeric_only or select only columns which should be valid for the function.\n",
      "  \"category_means\": dataset.groupby(dataset[column]).mean()[target_name]\n"
     ]
    },
    {
     "name": "stdout",
     "output_type": "stream",
     "text": [
      "Fold number: 1, loss: 295.655460775117\n"
     ]
    },
    {
     "name": "stderr",
     "output_type": "stream",
     "text": [
      "C:\\Users\\Aleksey Ryabykin\\AppData\\Local\\Temp\\ipykernel_284956\\2963386934.py:8: FutureWarning: The default value of numeric_only in DataFrameGroupBy.mean is deprecated. In a future version, numeric_only will default to False. Either specify numeric_only or select only columns which should be valid for the function.\n",
      "  \"category_means\": dataset.groupby(dataset[column]).mean()[target_name]\n",
      "C:\\Users\\Aleksey Ryabykin\\AppData\\Local\\Temp\\ipykernel_284956\\2963386934.py:8: FutureWarning: The default value of numeric_only in DataFrameGroupBy.mean is deprecated. In a future version, numeric_only will default to False. Either specify numeric_only or select only columns which should be valid for the function.\n",
      "  \"category_means\": dataset.groupby(dataset[column]).mean()[target_name]\n"
     ]
    },
    {
     "name": "stdout",
     "output_type": "stream",
     "text": [
      "Fold number: 2, loss: 307.59225994042623\n"
     ]
    },
    {
     "name": "stderr",
     "output_type": "stream",
     "text": [
      "C:\\Users\\Aleksey Ryabykin\\AppData\\Local\\Temp\\ipykernel_284956\\2963386934.py:8: FutureWarning: The default value of numeric_only in DataFrameGroupBy.mean is deprecated. In a future version, numeric_only will default to False. Either specify numeric_only or select only columns which should be valid for the function.\n",
      "  \"category_means\": dataset.groupby(dataset[column]).mean()[target_name]\n",
      "C:\\Users\\Aleksey Ryabykin\\AppData\\Local\\Temp\\ipykernel_284956\\2963386934.py:8: FutureWarning: The default value of numeric_only in DataFrameGroupBy.mean is deprecated. In a future version, numeric_only will default to False. Either specify numeric_only or select only columns which should be valid for the function.\n",
      "  \"category_means\": dataset.groupby(dataset[column]).mean()[target_name]\n"
     ]
    },
    {
     "name": "stdout",
     "output_type": "stream",
     "text": [
      "Fold number: 3, loss: 355.9108089010123\n"
     ]
    },
    {
     "name": "stderr",
     "output_type": "stream",
     "text": [
      "C:\\Users\\Aleksey Ryabykin\\AppData\\Local\\Temp\\ipykernel_284956\\2963386934.py:8: FutureWarning: The default value of numeric_only in DataFrameGroupBy.mean is deprecated. In a future version, numeric_only will default to False. Either specify numeric_only or select only columns which should be valid for the function.\n",
      "  \"category_means\": dataset.groupby(dataset[column]).mean()[target_name]\n",
      "C:\\Users\\Aleksey Ryabykin\\AppData\\Local\\Temp\\ipykernel_284956\\2963386934.py:8: FutureWarning: The default value of numeric_only in DataFrameGroupBy.mean is deprecated. In a future version, numeric_only will default to False. Either specify numeric_only or select only columns which should be valid for the function.\n",
      "  \"category_means\": dataset.groupby(dataset[column]).mean()[target_name]\n"
     ]
    },
    {
     "name": "stdout",
     "output_type": "stream",
     "text": [
      "Fold number: 4, loss: 341.8855319530693\n"
     ]
    },
    {
     "name": "stderr",
     "output_type": "stream",
     "text": [
      "C:\\Users\\Aleksey Ryabykin\\AppData\\Local\\Temp\\ipykernel_284956\\2963386934.py:8: FutureWarning: The default value of numeric_only in DataFrameGroupBy.mean is deprecated. In a future version, numeric_only will default to False. Either specify numeric_only or select only columns which should be valid for the function.\n",
      "  \"category_means\": dataset.groupby(dataset[column]).mean()[target_name]\n",
      "C:\\Users\\Aleksey Ryabykin\\AppData\\Local\\Temp\\ipykernel_284956\\2963386934.py:8: FutureWarning: The default value of numeric_only in DataFrameGroupBy.mean is deprecated. In a future version, numeric_only will default to False. Either specify numeric_only or select only columns which should be valid for the function.\n",
      "  \"category_means\": dataset.groupby(dataset[column]).mean()[target_name]\n",
      "\u001b[32m[I 2022-12-21 00:28:52,119]\u001b[0m Trial 15 finished with value: 316.2818670916053 and parameters: {'x_0': 0.4571293851809577, 'x_1': 0.18966748830043118}. Best is trial 7 with value: 293.3019640295066.\u001b[0m\n"
     ]
    },
    {
     "name": "stdout",
     "output_type": "stream",
     "text": [
      "Fold number: 5, loss: 280.36527388840176\n",
      "Current weights: [0.00141704 0.92062126 0.0779617 ]\n"
     ]
    },
    {
     "name": "stderr",
     "output_type": "stream",
     "text": [
      "C:\\Users\\Aleksey Ryabykin\\AppData\\Local\\Temp\\ipykernel_284956\\2963386934.py:8: FutureWarning: The default value of numeric_only in DataFrameGroupBy.mean is deprecated. In a future version, numeric_only will default to False. Either specify numeric_only or select only columns which should be valid for the function.\n",
      "  \"category_means\": dataset.groupby(dataset[column]).mean()[target_name]\n",
      "C:\\Users\\Aleksey Ryabykin\\AppData\\Local\\Temp\\ipykernel_284956\\2963386934.py:8: FutureWarning: The default value of numeric_only in DataFrameGroupBy.mean is deprecated. In a future version, numeric_only will default to False. Either specify numeric_only or select only columns which should be valid for the function.\n",
      "  \"category_means\": dataset.groupby(dataset[column]).mean()[target_name]\n"
     ]
    },
    {
     "name": "stdout",
     "output_type": "stream",
     "text": [
      "Fold number: 1, loss: 321.6043344119862\n"
     ]
    },
    {
     "name": "stderr",
     "output_type": "stream",
     "text": [
      "C:\\Users\\Aleksey Ryabykin\\AppData\\Local\\Temp\\ipykernel_284956\\2963386934.py:8: FutureWarning: The default value of numeric_only in DataFrameGroupBy.mean is deprecated. In a future version, numeric_only will default to False. Either specify numeric_only or select only columns which should be valid for the function.\n",
      "  \"category_means\": dataset.groupby(dataset[column]).mean()[target_name]\n",
      "C:\\Users\\Aleksey Ryabykin\\AppData\\Local\\Temp\\ipykernel_284956\\2963386934.py:8: FutureWarning: The default value of numeric_only in DataFrameGroupBy.mean is deprecated. In a future version, numeric_only will default to False. Either specify numeric_only or select only columns which should be valid for the function.\n",
      "  \"category_means\": dataset.groupby(dataset[column]).mean()[target_name]\n"
     ]
    },
    {
     "name": "stdout",
     "output_type": "stream",
     "text": [
      "Fold number: 2, loss: 446.46143446428414\n"
     ]
    },
    {
     "name": "stderr",
     "output_type": "stream",
     "text": [
      "C:\\Users\\Aleksey Ryabykin\\AppData\\Local\\Temp\\ipykernel_284956\\2963386934.py:8: FutureWarning: The default value of numeric_only in DataFrameGroupBy.mean is deprecated. In a future version, numeric_only will default to False. Either specify numeric_only or select only columns which should be valid for the function.\n",
      "  \"category_means\": dataset.groupby(dataset[column]).mean()[target_name]\n",
      "C:\\Users\\Aleksey Ryabykin\\AppData\\Local\\Temp\\ipykernel_284956\\2963386934.py:8: FutureWarning: The default value of numeric_only in DataFrameGroupBy.mean is deprecated. In a future version, numeric_only will default to False. Either specify numeric_only or select only columns which should be valid for the function.\n",
      "  \"category_means\": dataset.groupby(dataset[column]).mean()[target_name]\n"
     ]
    },
    {
     "name": "stdout",
     "output_type": "stream",
     "text": [
      "Fold number: 3, loss: 318.56104222346676\n"
     ]
    },
    {
     "name": "stderr",
     "output_type": "stream",
     "text": [
      "C:\\Users\\Aleksey Ryabykin\\AppData\\Local\\Temp\\ipykernel_284956\\2963386934.py:8: FutureWarning: The default value of numeric_only in DataFrameGroupBy.mean is deprecated. In a future version, numeric_only will default to False. Either specify numeric_only or select only columns which should be valid for the function.\n",
      "  \"category_means\": dataset.groupby(dataset[column]).mean()[target_name]\n",
      "C:\\Users\\Aleksey Ryabykin\\AppData\\Local\\Temp\\ipykernel_284956\\2963386934.py:8: FutureWarning: The default value of numeric_only in DataFrameGroupBy.mean is deprecated. In a future version, numeric_only will default to False. Either specify numeric_only or select only columns which should be valid for the function.\n",
      "  \"category_means\": dataset.groupby(dataset[column]).mean()[target_name]\n"
     ]
    },
    {
     "name": "stdout",
     "output_type": "stream",
     "text": [
      "Fold number: 4, loss: 401.99904957418045\n"
     ]
    },
    {
     "name": "stderr",
     "output_type": "stream",
     "text": [
      "C:\\Users\\Aleksey Ryabykin\\AppData\\Local\\Temp\\ipykernel_284956\\2963386934.py:8: FutureWarning: The default value of numeric_only in DataFrameGroupBy.mean is deprecated. In a future version, numeric_only will default to False. Either specify numeric_only or select only columns which should be valid for the function.\n",
      "  \"category_means\": dataset.groupby(dataset[column]).mean()[target_name]\n",
      "C:\\Users\\Aleksey Ryabykin\\AppData\\Local\\Temp\\ipykernel_284956\\2963386934.py:8: FutureWarning: The default value of numeric_only in DataFrameGroupBy.mean is deprecated. In a future version, numeric_only will default to False. Either specify numeric_only or select only columns which should be valid for the function.\n",
      "  \"category_means\": dataset.groupby(dataset[column]).mean()[target_name]\n",
      "\u001b[32m[I 2022-12-21 00:29:13,963]\u001b[0m Trial 16 finished with value: 384.13047994601436 and parameters: {'x_0': 0.0014170392754302985, 'x_1': 0.9206212641285797}. Best is trial 7 with value: 293.3019640295066.\u001b[0m\n"
     ]
    },
    {
     "name": "stdout",
     "output_type": "stream",
     "text": [
      "Fold number: 5, loss: 432.02653905615426\n",
      "Current weights: [0.36537764 0.23926824 0.39535411]\n"
     ]
    },
    {
     "name": "stderr",
     "output_type": "stream",
     "text": [
      "C:\\Users\\Aleksey Ryabykin\\AppData\\Local\\Temp\\ipykernel_284956\\2963386934.py:8: FutureWarning: The default value of numeric_only in DataFrameGroupBy.mean is deprecated. In a future version, numeric_only will default to False. Either specify numeric_only or select only columns which should be valid for the function.\n",
      "  \"category_means\": dataset.groupby(dataset[column]).mean()[target_name]\n",
      "C:\\Users\\Aleksey Ryabykin\\AppData\\Local\\Temp\\ipykernel_284956\\2963386934.py:8: FutureWarning: The default value of numeric_only in DataFrameGroupBy.mean is deprecated. In a future version, numeric_only will default to False. Either specify numeric_only or select only columns which should be valid for the function.\n",
      "  \"category_means\": dataset.groupby(dataset[column]).mean()[target_name]\n"
     ]
    },
    {
     "name": "stdout",
     "output_type": "stream",
     "text": [
      "Fold number: 1, loss: 298.64016594022587\n"
     ]
    },
    {
     "name": "stderr",
     "output_type": "stream",
     "text": [
      "C:\\Users\\Aleksey Ryabykin\\AppData\\Local\\Temp\\ipykernel_284956\\2963386934.py:8: FutureWarning: The default value of numeric_only in DataFrameGroupBy.mean is deprecated. In a future version, numeric_only will default to False. Either specify numeric_only or select only columns which should be valid for the function.\n",
      "  \"category_means\": dataset.groupby(dataset[column]).mean()[target_name]\n",
      "C:\\Users\\Aleksey Ryabykin\\AppData\\Local\\Temp\\ipykernel_284956\\2963386934.py:8: FutureWarning: The default value of numeric_only in DataFrameGroupBy.mean is deprecated. In a future version, numeric_only will default to False. Either specify numeric_only or select only columns which should be valid for the function.\n",
      "  \"category_means\": dataset.groupby(dataset[column]).mean()[target_name]\n"
     ]
    },
    {
     "name": "stdout",
     "output_type": "stream",
     "text": [
      "Fold number: 2, loss: 271.2125841628894\n"
     ]
    },
    {
     "name": "stderr",
     "output_type": "stream",
     "text": [
      "C:\\Users\\Aleksey Ryabykin\\AppData\\Local\\Temp\\ipykernel_284956\\2963386934.py:8: FutureWarning: The default value of numeric_only in DataFrameGroupBy.mean is deprecated. In a future version, numeric_only will default to False. Either specify numeric_only or select only columns which should be valid for the function.\n",
      "  \"category_means\": dataset.groupby(dataset[column]).mean()[target_name]\n",
      "C:\\Users\\Aleksey Ryabykin\\AppData\\Local\\Temp\\ipykernel_284956\\2963386934.py:8: FutureWarning: The default value of numeric_only in DataFrameGroupBy.mean is deprecated. In a future version, numeric_only will default to False. Either specify numeric_only or select only columns which should be valid for the function.\n",
      "  \"category_means\": dataset.groupby(dataset[column]).mean()[target_name]\n"
     ]
    },
    {
     "name": "stdout",
     "output_type": "stream",
     "text": [
      "Fold number: 3, loss: 307.47589708817185\n"
     ]
    },
    {
     "name": "stderr",
     "output_type": "stream",
     "text": [
      "C:\\Users\\Aleksey Ryabykin\\AppData\\Local\\Temp\\ipykernel_284956\\2963386934.py:8: FutureWarning: The default value of numeric_only in DataFrameGroupBy.mean is deprecated. In a future version, numeric_only will default to False. Either specify numeric_only or select only columns which should be valid for the function.\n",
      "  \"category_means\": dataset.groupby(dataset[column]).mean()[target_name]\n",
      "C:\\Users\\Aleksey Ryabykin\\AppData\\Local\\Temp\\ipykernel_284956\\2963386934.py:8: FutureWarning: The default value of numeric_only in DataFrameGroupBy.mean is deprecated. In a future version, numeric_only will default to False. Either specify numeric_only or select only columns which should be valid for the function.\n",
      "  \"category_means\": dataset.groupby(dataset[column]).mean()[target_name]\n"
     ]
    },
    {
     "name": "stdout",
     "output_type": "stream",
     "text": [
      "Fold number: 4, loss: 289.4115774169859\n"
     ]
    },
    {
     "name": "stderr",
     "output_type": "stream",
     "text": [
      "C:\\Users\\Aleksey Ryabykin\\AppData\\Local\\Temp\\ipykernel_284956\\2963386934.py:8: FutureWarning: The default value of numeric_only in DataFrameGroupBy.mean is deprecated. In a future version, numeric_only will default to False. Either specify numeric_only or select only columns which should be valid for the function.\n",
      "  \"category_means\": dataset.groupby(dataset[column]).mean()[target_name]\n",
      "C:\\Users\\Aleksey Ryabykin\\AppData\\Local\\Temp\\ipykernel_284956\\2963386934.py:8: FutureWarning: The default value of numeric_only in DataFrameGroupBy.mean is deprecated. In a future version, numeric_only will default to False. Either specify numeric_only or select only columns which should be valid for the function.\n",
      "  \"category_means\": dataset.groupby(dataset[column]).mean()[target_name]\n",
      "\u001b[32m[I 2022-12-21 00:29:35,092]\u001b[0m Trial 17 finished with value: 318.7650649788391 and parameters: {'x_0': 0.3653776406672924, 'x_1': 0.2392682449374434}. Best is trial 7 with value: 293.3019640295066.\u001b[0m\n"
     ]
    },
    {
     "name": "stdout",
     "output_type": "stream",
     "text": [
      "Fold number: 5, loss: 427.0851002859225\n",
      "Current weights: [0.2115355  0.11461104 0.67385345]\n"
     ]
    },
    {
     "name": "stderr",
     "output_type": "stream",
     "text": [
      "C:\\Users\\Aleksey Ryabykin\\AppData\\Local\\Temp\\ipykernel_284956\\2963386934.py:8: FutureWarning: The default value of numeric_only in DataFrameGroupBy.mean is deprecated. In a future version, numeric_only will default to False. Either specify numeric_only or select only columns which should be valid for the function.\n",
      "  \"category_means\": dataset.groupby(dataset[column]).mean()[target_name]\n",
      "C:\\Users\\Aleksey Ryabykin\\AppData\\Local\\Temp\\ipykernel_284956\\2963386934.py:8: FutureWarning: The default value of numeric_only in DataFrameGroupBy.mean is deprecated. In a future version, numeric_only will default to False. Either specify numeric_only or select only columns which should be valid for the function.\n",
      "  \"category_means\": dataset.groupby(dataset[column]).mean()[target_name]\n"
     ]
    },
    {
     "name": "stdout",
     "output_type": "stream",
     "text": [
      "Fold number: 1, loss: 288.59818555359965\n"
     ]
    },
    {
     "name": "stderr",
     "output_type": "stream",
     "text": [
      "C:\\Users\\Aleksey Ryabykin\\AppData\\Local\\Temp\\ipykernel_284956\\2963386934.py:8: FutureWarning: The default value of numeric_only in DataFrameGroupBy.mean is deprecated. In a future version, numeric_only will default to False. Either specify numeric_only or select only columns which should be valid for the function.\n",
      "  \"category_means\": dataset.groupby(dataset[column]).mean()[target_name]\n",
      "C:\\Users\\Aleksey Ryabykin\\AppData\\Local\\Temp\\ipykernel_284956\\2963386934.py:8: FutureWarning: The default value of numeric_only in DataFrameGroupBy.mean is deprecated. In a future version, numeric_only will default to False. Either specify numeric_only or select only columns which should be valid for the function.\n",
      "  \"category_means\": dataset.groupby(dataset[column]).mean()[target_name]\n"
     ]
    },
    {
     "name": "stdout",
     "output_type": "stream",
     "text": [
      "Fold number: 2, loss: 296.3752802881197\n"
     ]
    },
    {
     "name": "stderr",
     "output_type": "stream",
     "text": [
      "C:\\Users\\Aleksey Ryabykin\\AppData\\Local\\Temp\\ipykernel_284956\\2963386934.py:8: FutureWarning: The default value of numeric_only in DataFrameGroupBy.mean is deprecated. In a future version, numeric_only will default to False. Either specify numeric_only or select only columns which should be valid for the function.\n",
      "  \"category_means\": dataset.groupby(dataset[column]).mean()[target_name]\n",
      "C:\\Users\\Aleksey Ryabykin\\AppData\\Local\\Temp\\ipykernel_284956\\2963386934.py:8: FutureWarning: The default value of numeric_only in DataFrameGroupBy.mean is deprecated. In a future version, numeric_only will default to False. Either specify numeric_only or select only columns which should be valid for the function.\n",
      "  \"category_means\": dataset.groupby(dataset[column]).mean()[target_name]\n"
     ]
    },
    {
     "name": "stdout",
     "output_type": "stream",
     "text": [
      "Fold number: 3, loss: 299.51167505999905\n"
     ]
    },
    {
     "name": "stderr",
     "output_type": "stream",
     "text": [
      "C:\\Users\\Aleksey Ryabykin\\AppData\\Local\\Temp\\ipykernel_284956\\2963386934.py:8: FutureWarning: The default value of numeric_only in DataFrameGroupBy.mean is deprecated. In a future version, numeric_only will default to False. Either specify numeric_only or select only columns which should be valid for the function.\n",
      "  \"category_means\": dataset.groupby(dataset[column]).mean()[target_name]\n",
      "C:\\Users\\Aleksey Ryabykin\\AppData\\Local\\Temp\\ipykernel_284956\\2963386934.py:8: FutureWarning: The default value of numeric_only in DataFrameGroupBy.mean is deprecated. In a future version, numeric_only will default to False. Either specify numeric_only or select only columns which should be valid for the function.\n",
      "  \"category_means\": dataset.groupby(dataset[column]).mean()[target_name]\n"
     ]
    },
    {
     "name": "stdout",
     "output_type": "stream",
     "text": [
      "Fold number: 4, loss: 314.41049851757305\n"
     ]
    },
    {
     "name": "stderr",
     "output_type": "stream",
     "text": [
      "C:\\Users\\Aleksey Ryabykin\\AppData\\Local\\Temp\\ipykernel_284956\\2963386934.py:8: FutureWarning: The default value of numeric_only in DataFrameGroupBy.mean is deprecated. In a future version, numeric_only will default to False. Either specify numeric_only or select only columns which should be valid for the function.\n",
      "  \"category_means\": dataset.groupby(dataset[column]).mean()[target_name]\n",
      "C:\\Users\\Aleksey Ryabykin\\AppData\\Local\\Temp\\ipykernel_284956\\2963386934.py:8: FutureWarning: The default value of numeric_only in DataFrameGroupBy.mean is deprecated. In a future version, numeric_only will default to False. Either specify numeric_only or select only columns which should be valid for the function.\n",
      "  \"category_means\": dataset.groupby(dataset[column]).mean()[target_name]\n",
      "\u001b[32m[I 2022-12-21 00:29:57,400]\u001b[0m Trial 18 finished with value: 306.08783444654114 and parameters: {'x_0': 0.21153550243296582, 'x_1': 0.11461104301022035}. Best is trial 7 with value: 293.3019640295066.\u001b[0m\n"
     ]
    },
    {
     "name": "stdout",
     "output_type": "stream",
     "text": [
      "Fold number: 5, loss: 331.54353281341423\n",
      "Current weights: [0.19557192 0.00101622 0.80341187]\n"
     ]
    },
    {
     "name": "stderr",
     "output_type": "stream",
     "text": [
      "C:\\Users\\Aleksey Ryabykin\\AppData\\Local\\Temp\\ipykernel_284956\\2963386934.py:8: FutureWarning: The default value of numeric_only in DataFrameGroupBy.mean is deprecated. In a future version, numeric_only will default to False. Either specify numeric_only or select only columns which should be valid for the function.\n",
      "  \"category_means\": dataset.groupby(dataset[column]).mean()[target_name]\n",
      "C:\\Users\\Aleksey Ryabykin\\AppData\\Local\\Temp\\ipykernel_284956\\2963386934.py:8: FutureWarning: The default value of numeric_only in DataFrameGroupBy.mean is deprecated. In a future version, numeric_only will default to False. Either specify numeric_only or select only columns which should be valid for the function.\n",
      "  \"category_means\": dataset.groupby(dataset[column]).mean()[target_name]\n"
     ]
    },
    {
     "name": "stdout",
     "output_type": "stream",
     "text": [
      "Fold number: 1, loss: 275.92898845270753\n"
     ]
    },
    {
     "name": "stderr",
     "output_type": "stream",
     "text": [
      "C:\\Users\\Aleksey Ryabykin\\AppData\\Local\\Temp\\ipykernel_284956\\2963386934.py:8: FutureWarning: The default value of numeric_only in DataFrameGroupBy.mean is deprecated. In a future version, numeric_only will default to False. Either specify numeric_only or select only columns which should be valid for the function.\n",
      "  \"category_means\": dataset.groupby(dataset[column]).mean()[target_name]\n",
      "C:\\Users\\Aleksey Ryabykin\\AppData\\Local\\Temp\\ipykernel_284956\\2963386934.py:8: FutureWarning: The default value of numeric_only in DataFrameGroupBy.mean is deprecated. In a future version, numeric_only will default to False. Either specify numeric_only or select only columns which should be valid for the function.\n",
      "  \"category_means\": dataset.groupby(dataset[column]).mean()[target_name]\n"
     ]
    },
    {
     "name": "stdout",
     "output_type": "stream",
     "text": [
      "Fold number: 2, loss: 277.09581366033507\n"
     ]
    },
    {
     "name": "stderr",
     "output_type": "stream",
     "text": [
      "C:\\Users\\Aleksey Ryabykin\\AppData\\Local\\Temp\\ipykernel_284956\\2963386934.py:8: FutureWarning: The default value of numeric_only in DataFrameGroupBy.mean is deprecated. In a future version, numeric_only will default to False. Either specify numeric_only or select only columns which should be valid for the function.\n",
      "  \"category_means\": dataset.groupby(dataset[column]).mean()[target_name]\n",
      "C:\\Users\\Aleksey Ryabykin\\AppData\\Local\\Temp\\ipykernel_284956\\2963386934.py:8: FutureWarning: The default value of numeric_only in DataFrameGroupBy.mean is deprecated. In a future version, numeric_only will default to False. Either specify numeric_only or select only columns which should be valid for the function.\n",
      "  \"category_means\": dataset.groupby(dataset[column]).mean()[target_name]\n"
     ]
    },
    {
     "name": "stdout",
     "output_type": "stream",
     "text": [
      "Fold number: 3, loss: 303.6457950034919\n"
     ]
    },
    {
     "name": "stderr",
     "output_type": "stream",
     "text": [
      "C:\\Users\\Aleksey Ryabykin\\AppData\\Local\\Temp\\ipykernel_284956\\2963386934.py:8: FutureWarning: The default value of numeric_only in DataFrameGroupBy.mean is deprecated. In a future version, numeric_only will default to False. Either specify numeric_only or select only columns which should be valid for the function.\n",
      "  \"category_means\": dataset.groupby(dataset[column]).mean()[target_name]\n",
      "C:\\Users\\Aleksey Ryabykin\\AppData\\Local\\Temp\\ipykernel_284956\\2963386934.py:8: FutureWarning: The default value of numeric_only in DataFrameGroupBy.mean is deprecated. In a future version, numeric_only will default to False. Either specify numeric_only or select only columns which should be valid for the function.\n",
      "  \"category_means\": dataset.groupby(dataset[column]).mean()[target_name]\n"
     ]
    },
    {
     "name": "stdout",
     "output_type": "stream",
     "text": [
      "Fold number: 4, loss: 293.69948596645617\n"
     ]
    },
    {
     "name": "stderr",
     "output_type": "stream",
     "text": [
      "C:\\Users\\Aleksey Ryabykin\\AppData\\Local\\Temp\\ipykernel_284956\\2963386934.py:8: FutureWarning: The default value of numeric_only in DataFrameGroupBy.mean is deprecated. In a future version, numeric_only will default to False. Either specify numeric_only or select only columns which should be valid for the function.\n",
      "  \"category_means\": dataset.groupby(dataset[column]).mean()[target_name]\n",
      "C:\\Users\\Aleksey Ryabykin\\AppData\\Local\\Temp\\ipykernel_284956\\2963386934.py:8: FutureWarning: The default value of numeric_only in DataFrameGroupBy.mean is deprecated. In a future version, numeric_only will default to False. Either specify numeric_only or select only columns which should be valid for the function.\n",
      "  \"category_means\": dataset.groupby(dataset[column]).mean()[target_name]\n",
      "\u001b[32m[I 2022-12-21 00:30:19,793]\u001b[0m Trial 19 finished with value: 282.2052161524865 and parameters: {'x_0': 0.19557191847517255, 'x_1': 0.0010162161928214813}. Best is trial 19 with value: 282.2052161524865.\u001b[0m\n"
     ]
    },
    {
     "name": "stdout",
     "output_type": "stream",
     "text": [
      "Fold number: 5, loss: 260.65599767944207\n",
      "Current weights: [0.52293207 0.01620845 0.46085948]\n"
     ]
    },
    {
     "name": "stderr",
     "output_type": "stream",
     "text": [
      "C:\\Users\\Aleksey Ryabykin\\AppData\\Local\\Temp\\ipykernel_284956\\2963386934.py:8: FutureWarning: The default value of numeric_only in DataFrameGroupBy.mean is deprecated. In a future version, numeric_only will default to False. Either specify numeric_only or select only columns which should be valid for the function.\n",
      "  \"category_means\": dataset.groupby(dataset[column]).mean()[target_name]\n",
      "C:\\Users\\Aleksey Ryabykin\\AppData\\Local\\Temp\\ipykernel_284956\\2963386934.py:8: FutureWarning: The default value of numeric_only in DataFrameGroupBy.mean is deprecated. In a future version, numeric_only will default to False. Either specify numeric_only or select only columns which should be valid for the function.\n",
      "  \"category_means\": dataset.groupby(dataset[column]).mean()[target_name]\n"
     ]
    },
    {
     "name": "stdout",
     "output_type": "stream",
     "text": [
      "Fold number: 1, loss: 264.519200163179\n"
     ]
    },
    {
     "name": "stderr",
     "output_type": "stream",
     "text": [
      "C:\\Users\\Aleksey Ryabykin\\AppData\\Local\\Temp\\ipykernel_284956\\2963386934.py:8: FutureWarning: The default value of numeric_only in DataFrameGroupBy.mean is deprecated. In a future version, numeric_only will default to False. Either specify numeric_only or select only columns which should be valid for the function.\n",
      "  \"category_means\": dataset.groupby(dataset[column]).mean()[target_name]\n",
      "C:\\Users\\Aleksey Ryabykin\\AppData\\Local\\Temp\\ipykernel_284956\\2963386934.py:8: FutureWarning: The default value of numeric_only in DataFrameGroupBy.mean is deprecated. In a future version, numeric_only will default to False. Either specify numeric_only or select only columns which should be valid for the function.\n",
      "  \"category_means\": dataset.groupby(dataset[column]).mean()[target_name]\n"
     ]
    },
    {
     "name": "stdout",
     "output_type": "stream",
     "text": [
      "Fold number: 2, loss: 285.97121563848816\n"
     ]
    },
    {
     "name": "stderr",
     "output_type": "stream",
     "text": [
      "C:\\Users\\Aleksey Ryabykin\\AppData\\Local\\Temp\\ipykernel_284956\\2963386934.py:8: FutureWarning: The default value of numeric_only in DataFrameGroupBy.mean is deprecated. In a future version, numeric_only will default to False. Either specify numeric_only or select only columns which should be valid for the function.\n",
      "  \"category_means\": dataset.groupby(dataset[column]).mean()[target_name]\n",
      "C:\\Users\\Aleksey Ryabykin\\AppData\\Local\\Temp\\ipykernel_284956\\2963386934.py:8: FutureWarning: The default value of numeric_only in DataFrameGroupBy.mean is deprecated. In a future version, numeric_only will default to False. Either specify numeric_only or select only columns which should be valid for the function.\n",
      "  \"category_means\": dataset.groupby(dataset[column]).mean()[target_name]\n"
     ]
    },
    {
     "name": "stdout",
     "output_type": "stream",
     "text": [
      "Fold number: 3, loss: 356.78185322385355\n"
     ]
    },
    {
     "name": "stderr",
     "output_type": "stream",
     "text": [
      "C:\\Users\\Aleksey Ryabykin\\AppData\\Local\\Temp\\ipykernel_284956\\2963386934.py:8: FutureWarning: The default value of numeric_only in DataFrameGroupBy.mean is deprecated. In a future version, numeric_only will default to False. Either specify numeric_only or select only columns which should be valid for the function.\n",
      "  \"category_means\": dataset.groupby(dataset[column]).mean()[target_name]\n",
      "C:\\Users\\Aleksey Ryabykin\\AppData\\Local\\Temp\\ipykernel_284956\\2963386934.py:8: FutureWarning: The default value of numeric_only in DataFrameGroupBy.mean is deprecated. In a future version, numeric_only will default to False. Either specify numeric_only or select only columns which should be valid for the function.\n",
      "  \"category_means\": dataset.groupby(dataset[column]).mean()[target_name]\n"
     ]
    },
    {
     "name": "stdout",
     "output_type": "stream",
     "text": [
      "Fold number: 4, loss: 303.57886270978264\n"
     ]
    },
    {
     "name": "stderr",
     "output_type": "stream",
     "text": [
      "C:\\Users\\Aleksey Ryabykin\\AppData\\Local\\Temp\\ipykernel_284956\\2963386934.py:8: FutureWarning: The default value of numeric_only in DataFrameGroupBy.mean is deprecated. In a future version, numeric_only will default to False. Either specify numeric_only or select only columns which should be valid for the function.\n",
      "  \"category_means\": dataset.groupby(dataset[column]).mean()[target_name]\n",
      "C:\\Users\\Aleksey Ryabykin\\AppData\\Local\\Temp\\ipykernel_284956\\2963386934.py:8: FutureWarning: The default value of numeric_only in DataFrameGroupBy.mean is deprecated. In a future version, numeric_only will default to False. Either specify numeric_only or select only columns which should be valid for the function.\n",
      "  \"category_means\": dataset.groupby(dataset[column]).mean()[target_name]\n",
      "\u001b[32m[I 2022-12-21 00:30:41,661]\u001b[0m Trial 20 finished with value: 307.9602320500443 and parameters: {'x_0': 0.5229320677614251, 'x_1': 0.016208449430127003}. Best is trial 19 with value: 282.2052161524865.\u001b[0m\n"
     ]
    },
    {
     "name": "stdout",
     "output_type": "stream",
     "text": [
      "Fold number: 5, loss: 328.95002851491796\n",
      "Current weights: [0.19055357 0.11506293 0.6943835 ]\n"
     ]
    },
    {
     "name": "stderr",
     "output_type": "stream",
     "text": [
      "C:\\Users\\Aleksey Ryabykin\\AppData\\Local\\Temp\\ipykernel_284956\\2963386934.py:8: FutureWarning: The default value of numeric_only in DataFrameGroupBy.mean is deprecated. In a future version, numeric_only will default to False. Either specify numeric_only or select only columns which should be valid for the function.\n",
      "  \"category_means\": dataset.groupby(dataset[column]).mean()[target_name]\n",
      "C:\\Users\\Aleksey Ryabykin\\AppData\\Local\\Temp\\ipykernel_284956\\2963386934.py:8: FutureWarning: The default value of numeric_only in DataFrameGroupBy.mean is deprecated. In a future version, numeric_only will default to False. Either specify numeric_only or select only columns which should be valid for the function.\n",
      "  \"category_means\": dataset.groupby(dataset[column]).mean()[target_name]\n"
     ]
    },
    {
     "name": "stdout",
     "output_type": "stream",
     "text": [
      "Fold number: 1, loss: 264.41643459818414\n"
     ]
    },
    {
     "name": "stderr",
     "output_type": "stream",
     "text": [
      "C:\\Users\\Aleksey Ryabykin\\AppData\\Local\\Temp\\ipykernel_284956\\2963386934.py:8: FutureWarning: The default value of numeric_only in DataFrameGroupBy.mean is deprecated. In a future version, numeric_only will default to False. Either specify numeric_only or select only columns which should be valid for the function.\n",
      "  \"category_means\": dataset.groupby(dataset[column]).mean()[target_name]\n",
      "C:\\Users\\Aleksey Ryabykin\\AppData\\Local\\Temp\\ipykernel_284956\\2963386934.py:8: FutureWarning: The default value of numeric_only in DataFrameGroupBy.mean is deprecated. In a future version, numeric_only will default to False. Either specify numeric_only or select only columns which should be valid for the function.\n",
      "  \"category_means\": dataset.groupby(dataset[column]).mean()[target_name]\n"
     ]
    },
    {
     "name": "stdout",
     "output_type": "stream",
     "text": [
      "Fold number: 2, loss: 309.7100077391945\n"
     ]
    },
    {
     "name": "stderr",
     "output_type": "stream",
     "text": [
      "C:\\Users\\Aleksey Ryabykin\\AppData\\Local\\Temp\\ipykernel_284956\\2963386934.py:8: FutureWarning: The default value of numeric_only in DataFrameGroupBy.mean is deprecated. In a future version, numeric_only will default to False. Either specify numeric_only or select only columns which should be valid for the function.\n",
      "  \"category_means\": dataset.groupby(dataset[column]).mean()[target_name]\n",
      "C:\\Users\\Aleksey Ryabykin\\AppData\\Local\\Temp\\ipykernel_284956\\2963386934.py:8: FutureWarning: The default value of numeric_only in DataFrameGroupBy.mean is deprecated. In a future version, numeric_only will default to False. Either specify numeric_only or select only columns which should be valid for the function.\n",
      "  \"category_means\": dataset.groupby(dataset[column]).mean()[target_name]\n"
     ]
    },
    {
     "name": "stdout",
     "output_type": "stream",
     "text": [
      "Fold number: 3, loss: 365.0946248219684\n"
     ]
    },
    {
     "name": "stderr",
     "output_type": "stream",
     "text": [
      "C:\\Users\\Aleksey Ryabykin\\AppData\\Local\\Temp\\ipykernel_284956\\2963386934.py:8: FutureWarning: The default value of numeric_only in DataFrameGroupBy.mean is deprecated. In a future version, numeric_only will default to False. Either specify numeric_only or select only columns which should be valid for the function.\n",
      "  \"category_means\": dataset.groupby(dataset[column]).mean()[target_name]\n",
      "C:\\Users\\Aleksey Ryabykin\\AppData\\Local\\Temp\\ipykernel_284956\\2963386934.py:8: FutureWarning: The default value of numeric_only in DataFrameGroupBy.mean is deprecated. In a future version, numeric_only will default to False. Either specify numeric_only or select only columns which should be valid for the function.\n",
      "  \"category_means\": dataset.groupby(dataset[column]).mean()[target_name]\n"
     ]
    },
    {
     "name": "stdout",
     "output_type": "stream",
     "text": [
      "Fold number: 4, loss: 268.0532750476473\n"
     ]
    },
    {
     "name": "stderr",
     "output_type": "stream",
     "text": [
      "C:\\Users\\Aleksey Ryabykin\\AppData\\Local\\Temp\\ipykernel_284956\\2963386934.py:8: FutureWarning: The default value of numeric_only in DataFrameGroupBy.mean is deprecated. In a future version, numeric_only will default to False. Either specify numeric_only or select only columns which should be valid for the function.\n",
      "  \"category_means\": dataset.groupby(dataset[column]).mean()[target_name]\n",
      "C:\\Users\\Aleksey Ryabykin\\AppData\\Local\\Temp\\ipykernel_284956\\2963386934.py:8: FutureWarning: The default value of numeric_only in DataFrameGroupBy.mean is deprecated. In a future version, numeric_only will default to False. Either specify numeric_only or select only columns which should be valid for the function.\n",
      "  \"category_means\": dataset.groupby(dataset[column]).mean()[target_name]\n",
      "\u001b[32m[I 2022-12-21 00:31:02,592]\u001b[0m Trial 21 finished with value: 304.34827007394495 and parameters: {'x_0': 0.190553568444561, 'x_1': 0.11506293376312846}. Best is trial 19 with value: 282.2052161524865.\u001b[0m\n"
     ]
    },
    {
     "name": "stdout",
     "output_type": "stream",
     "text": [
      "Fold number: 5, loss: 314.4670081627304\n",
      "Current weights: [0.14421612 0.00432737 0.8514565 ]\n"
     ]
    },
    {
     "name": "stderr",
     "output_type": "stream",
     "text": [
      "C:\\Users\\Aleksey Ryabykin\\AppData\\Local\\Temp\\ipykernel_284956\\2963386934.py:8: FutureWarning: The default value of numeric_only in DataFrameGroupBy.mean is deprecated. In a future version, numeric_only will default to False. Either specify numeric_only or select only columns which should be valid for the function.\n",
      "  \"category_means\": dataset.groupby(dataset[column]).mean()[target_name]\n",
      "C:\\Users\\Aleksey Ryabykin\\AppData\\Local\\Temp\\ipykernel_284956\\2963386934.py:8: FutureWarning: The default value of numeric_only in DataFrameGroupBy.mean is deprecated. In a future version, numeric_only will default to False. Either specify numeric_only or select only columns which should be valid for the function.\n",
      "  \"category_means\": dataset.groupby(dataset[column]).mean()[target_name]\n"
     ]
    },
    {
     "name": "stdout",
     "output_type": "stream",
     "text": [
      "Fold number: 1, loss: 281.72133460394355\n"
     ]
    },
    {
     "name": "stderr",
     "output_type": "stream",
     "text": [
      "C:\\Users\\Aleksey Ryabykin\\AppData\\Local\\Temp\\ipykernel_284956\\2963386934.py:8: FutureWarning: The default value of numeric_only in DataFrameGroupBy.mean is deprecated. In a future version, numeric_only will default to False. Either specify numeric_only or select only columns which should be valid for the function.\n",
      "  \"category_means\": dataset.groupby(dataset[column]).mean()[target_name]\n",
      "C:\\Users\\Aleksey Ryabykin\\AppData\\Local\\Temp\\ipykernel_284956\\2963386934.py:8: FutureWarning: The default value of numeric_only in DataFrameGroupBy.mean is deprecated. In a future version, numeric_only will default to False. Either specify numeric_only or select only columns which should be valid for the function.\n",
      "  \"category_means\": dataset.groupby(dataset[column]).mean()[target_name]\n"
     ]
    },
    {
     "name": "stdout",
     "output_type": "stream",
     "text": [
      "Fold number: 2, loss: 254.870815814503\n"
     ]
    },
    {
     "name": "stderr",
     "output_type": "stream",
     "text": [
      "C:\\Users\\Aleksey Ryabykin\\AppData\\Local\\Temp\\ipykernel_284956\\2963386934.py:8: FutureWarning: The default value of numeric_only in DataFrameGroupBy.mean is deprecated. In a future version, numeric_only will default to False. Either specify numeric_only or select only columns which should be valid for the function.\n",
      "  \"category_means\": dataset.groupby(dataset[column]).mean()[target_name]\n",
      "C:\\Users\\Aleksey Ryabykin\\AppData\\Local\\Temp\\ipykernel_284956\\2963386934.py:8: FutureWarning: The default value of numeric_only in DataFrameGroupBy.mean is deprecated. In a future version, numeric_only will default to False. Either specify numeric_only or select only columns which should be valid for the function.\n",
      "  \"category_means\": dataset.groupby(dataset[column]).mean()[target_name]\n"
     ]
    },
    {
     "name": "stdout",
     "output_type": "stream",
     "text": [
      "Fold number: 3, loss: 326.2008266489797\n"
     ]
    },
    {
     "name": "stderr",
     "output_type": "stream",
     "text": [
      "C:\\Users\\Aleksey Ryabykin\\AppData\\Local\\Temp\\ipykernel_284956\\2963386934.py:8: FutureWarning: The default value of numeric_only in DataFrameGroupBy.mean is deprecated. In a future version, numeric_only will default to False. Either specify numeric_only or select only columns which should be valid for the function.\n",
      "  \"category_means\": dataset.groupby(dataset[column]).mean()[target_name]\n",
      "C:\\Users\\Aleksey Ryabykin\\AppData\\Local\\Temp\\ipykernel_284956\\2963386934.py:8: FutureWarning: The default value of numeric_only in DataFrameGroupBy.mean is deprecated. In a future version, numeric_only will default to False. Either specify numeric_only or select only columns which should be valid for the function.\n",
      "  \"category_means\": dataset.groupby(dataset[column]).mean()[target_name]\n"
     ]
    },
    {
     "name": "stdout",
     "output_type": "stream",
     "text": [
      "Fold number: 4, loss: 249.80151438869382\n"
     ]
    },
    {
     "name": "stderr",
     "output_type": "stream",
     "text": [
      "C:\\Users\\Aleksey Ryabykin\\AppData\\Local\\Temp\\ipykernel_284956\\2963386934.py:8: FutureWarning: The default value of numeric_only in DataFrameGroupBy.mean is deprecated. In a future version, numeric_only will default to False. Either specify numeric_only or select only columns which should be valid for the function.\n",
      "  \"category_means\": dataset.groupby(dataset[column]).mean()[target_name]\n",
      "C:\\Users\\Aleksey Ryabykin\\AppData\\Local\\Temp\\ipykernel_284956\\2963386934.py:8: FutureWarning: The default value of numeric_only in DataFrameGroupBy.mean is deprecated. In a future version, numeric_only will default to False. Either specify numeric_only or select only columns which should be valid for the function.\n",
      "  \"category_means\": dataset.groupby(dataset[column]).mean()[target_name]\n",
      "\u001b[32m[I 2022-12-21 00:31:24,164]\u001b[0m Trial 22 finished with value: 290.8126528614231 and parameters: {'x_0': 0.14421612288066973, 'x_1': 0.004327374357227895}. Best is trial 19 with value: 282.2052161524865.\u001b[0m\n"
     ]
    },
    {
     "name": "stdout",
     "output_type": "stream",
     "text": [
      "Fold number: 5, loss: 341.4687728509954\n",
      "Current weights: [0.10719391 0.00183615 0.89096994]\n"
     ]
    },
    {
     "name": "stderr",
     "output_type": "stream",
     "text": [
      "C:\\Users\\Aleksey Ryabykin\\AppData\\Local\\Temp\\ipykernel_284956\\2963386934.py:8: FutureWarning: The default value of numeric_only in DataFrameGroupBy.mean is deprecated. In a future version, numeric_only will default to False. Either specify numeric_only or select only columns which should be valid for the function.\n",
      "  \"category_means\": dataset.groupby(dataset[column]).mean()[target_name]\n",
      "C:\\Users\\Aleksey Ryabykin\\AppData\\Local\\Temp\\ipykernel_284956\\2963386934.py:8: FutureWarning: The default value of numeric_only in DataFrameGroupBy.mean is deprecated. In a future version, numeric_only will default to False. Either specify numeric_only or select only columns which should be valid for the function.\n",
      "  \"category_means\": dataset.groupby(dataset[column]).mean()[target_name]\n"
     ]
    },
    {
     "name": "stdout",
     "output_type": "stream",
     "text": [
      "Fold number: 1, loss: 354.1374993542918\n"
     ]
    },
    {
     "name": "stderr",
     "output_type": "stream",
     "text": [
      "C:\\Users\\Aleksey Ryabykin\\AppData\\Local\\Temp\\ipykernel_284956\\2963386934.py:8: FutureWarning: The default value of numeric_only in DataFrameGroupBy.mean is deprecated. In a future version, numeric_only will default to False. Either specify numeric_only or select only columns which should be valid for the function.\n",
      "  \"category_means\": dataset.groupby(dataset[column]).mean()[target_name]\n",
      "C:\\Users\\Aleksey Ryabykin\\AppData\\Local\\Temp\\ipykernel_284956\\2963386934.py:8: FutureWarning: The default value of numeric_only in DataFrameGroupBy.mean is deprecated. In a future version, numeric_only will default to False. Either specify numeric_only or select only columns which should be valid for the function.\n",
      "  \"category_means\": dataset.groupby(dataset[column]).mean()[target_name]\n"
     ]
    },
    {
     "name": "stdout",
     "output_type": "stream",
     "text": [
      "Fold number: 2, loss: 355.700581176094\n"
     ]
    },
    {
     "name": "stderr",
     "output_type": "stream",
     "text": [
      "C:\\Users\\Aleksey Ryabykin\\AppData\\Local\\Temp\\ipykernel_284956\\2963386934.py:8: FutureWarning: The default value of numeric_only in DataFrameGroupBy.mean is deprecated. In a future version, numeric_only will default to False. Either specify numeric_only or select only columns which should be valid for the function.\n",
      "  \"category_means\": dataset.groupby(dataset[column]).mean()[target_name]\n",
      "C:\\Users\\Aleksey Ryabykin\\AppData\\Local\\Temp\\ipykernel_284956\\2963386934.py:8: FutureWarning: The default value of numeric_only in DataFrameGroupBy.mean is deprecated. In a future version, numeric_only will default to False. Either specify numeric_only or select only columns which should be valid for the function.\n",
      "  \"category_means\": dataset.groupby(dataset[column]).mean()[target_name]\n"
     ]
    },
    {
     "name": "stdout",
     "output_type": "stream",
     "text": [
      "Fold number: 3, loss: 265.93611771268166\n"
     ]
    },
    {
     "name": "stderr",
     "output_type": "stream",
     "text": [
      "C:\\Users\\Aleksey Ryabykin\\AppData\\Local\\Temp\\ipykernel_284956\\2963386934.py:8: FutureWarning: The default value of numeric_only in DataFrameGroupBy.mean is deprecated. In a future version, numeric_only will default to False. Either specify numeric_only or select only columns which should be valid for the function.\n",
      "  \"category_means\": dataset.groupby(dataset[column]).mean()[target_name]\n",
      "C:\\Users\\Aleksey Ryabykin\\AppData\\Local\\Temp\\ipykernel_284956\\2963386934.py:8: FutureWarning: The default value of numeric_only in DataFrameGroupBy.mean is deprecated. In a future version, numeric_only will default to False. Either specify numeric_only or select only columns which should be valid for the function.\n",
      "  \"category_means\": dataset.groupby(dataset[column]).mean()[target_name]\n"
     ]
    },
    {
     "name": "stdout",
     "output_type": "stream",
     "text": [
      "Fold number: 4, loss: 259.5388576011606\n"
     ]
    },
    {
     "name": "stderr",
     "output_type": "stream",
     "text": [
      "C:\\Users\\Aleksey Ryabykin\\AppData\\Local\\Temp\\ipykernel_284956\\2963386934.py:8: FutureWarning: The default value of numeric_only in DataFrameGroupBy.mean is deprecated. In a future version, numeric_only will default to False. Either specify numeric_only or select only columns which should be valid for the function.\n",
      "  \"category_means\": dataset.groupby(dataset[column]).mean()[target_name]\n",
      "C:\\Users\\Aleksey Ryabykin\\AppData\\Local\\Temp\\ipykernel_284956\\2963386934.py:8: FutureWarning: The default value of numeric_only in DataFrameGroupBy.mean is deprecated. In a future version, numeric_only will default to False. Either specify numeric_only or select only columns which should be valid for the function.\n",
      "  \"category_means\": dataset.groupby(dataset[column]).mean()[target_name]\n",
      "\u001b[32m[I 2022-12-21 00:31:45,138]\u001b[0m Trial 23 finished with value: 299.7098757654996 and parameters: {'x_0': 0.107193911398774, 'x_1': 0.0018361526214160182}. Best is trial 19 with value: 282.2052161524865.\u001b[0m\n"
     ]
    },
    {
     "name": "stdout",
     "output_type": "stream",
     "text": [
      "Fold number: 5, loss: 263.2363229832702\n",
      "Current weights: [0.2811863  0.06252361 0.65629009]\n"
     ]
    },
    {
     "name": "stderr",
     "output_type": "stream",
     "text": [
      "C:\\Users\\Aleksey Ryabykin\\AppData\\Local\\Temp\\ipykernel_284956\\2963386934.py:8: FutureWarning: The default value of numeric_only in DataFrameGroupBy.mean is deprecated. In a future version, numeric_only will default to False. Either specify numeric_only or select only columns which should be valid for the function.\n",
      "  \"category_means\": dataset.groupby(dataset[column]).mean()[target_name]\n",
      "C:\\Users\\Aleksey Ryabykin\\AppData\\Local\\Temp\\ipykernel_284956\\2963386934.py:8: FutureWarning: The default value of numeric_only in DataFrameGroupBy.mean is deprecated. In a future version, numeric_only will default to False. Either specify numeric_only or select only columns which should be valid for the function.\n",
      "  \"category_means\": dataset.groupby(dataset[column]).mean()[target_name]\n"
     ]
    },
    {
     "name": "stdout",
     "output_type": "stream",
     "text": [
      "Fold number: 1, loss: 253.91993478718183\n"
     ]
    },
    {
     "name": "stderr",
     "output_type": "stream",
     "text": [
      "C:\\Users\\Aleksey Ryabykin\\AppData\\Local\\Temp\\ipykernel_284956\\2963386934.py:8: FutureWarning: The default value of numeric_only in DataFrameGroupBy.mean is deprecated. In a future version, numeric_only will default to False. Either specify numeric_only or select only columns which should be valid for the function.\n",
      "  \"category_means\": dataset.groupby(dataset[column]).mean()[target_name]\n",
      "C:\\Users\\Aleksey Ryabykin\\AppData\\Local\\Temp\\ipykernel_284956\\2963386934.py:8: FutureWarning: The default value of numeric_only in DataFrameGroupBy.mean is deprecated. In a future version, numeric_only will default to False. Either specify numeric_only or select only columns which should be valid for the function.\n",
      "  \"category_means\": dataset.groupby(dataset[column]).mean()[target_name]\n"
     ]
    },
    {
     "name": "stdout",
     "output_type": "stream",
     "text": [
      "Fold number: 2, loss: 339.038217374289\n"
     ]
    },
    {
     "name": "stderr",
     "output_type": "stream",
     "text": [
      "C:\\Users\\Aleksey Ryabykin\\AppData\\Local\\Temp\\ipykernel_284956\\2963386934.py:8: FutureWarning: The default value of numeric_only in DataFrameGroupBy.mean is deprecated. In a future version, numeric_only will default to False. Either specify numeric_only or select only columns which should be valid for the function.\n",
      "  \"category_means\": dataset.groupby(dataset[column]).mean()[target_name]\n",
      "C:\\Users\\Aleksey Ryabykin\\AppData\\Local\\Temp\\ipykernel_284956\\2963386934.py:8: FutureWarning: The default value of numeric_only in DataFrameGroupBy.mean is deprecated. In a future version, numeric_only will default to False. Either specify numeric_only or select only columns which should be valid for the function.\n",
      "  \"category_means\": dataset.groupby(dataset[column]).mean()[target_name]\n"
     ]
    },
    {
     "name": "stdout",
     "output_type": "stream",
     "text": [
      "Fold number: 3, loss: 289.25803250061495\n"
     ]
    },
    {
     "name": "stderr",
     "output_type": "stream",
     "text": [
      "C:\\Users\\Aleksey Ryabykin\\AppData\\Local\\Temp\\ipykernel_284956\\2963386934.py:8: FutureWarning: The default value of numeric_only in DataFrameGroupBy.mean is deprecated. In a future version, numeric_only will default to False. Either specify numeric_only or select only columns which should be valid for the function.\n",
      "  \"category_means\": dataset.groupby(dataset[column]).mean()[target_name]\n",
      "C:\\Users\\Aleksey Ryabykin\\AppData\\Local\\Temp\\ipykernel_284956\\2963386934.py:8: FutureWarning: The default value of numeric_only in DataFrameGroupBy.mean is deprecated. In a future version, numeric_only will default to False. Either specify numeric_only or select only columns which should be valid for the function.\n",
      "  \"category_means\": dataset.groupby(dataset[column]).mean()[target_name]\n"
     ]
    },
    {
     "name": "stdout",
     "output_type": "stream",
     "text": [
      "Fold number: 4, loss: 317.59389220927955\n"
     ]
    },
    {
     "name": "stderr",
     "output_type": "stream",
     "text": [
      "C:\\Users\\Aleksey Ryabykin\\AppData\\Local\\Temp\\ipykernel_284956\\2963386934.py:8: FutureWarning: The default value of numeric_only in DataFrameGroupBy.mean is deprecated. In a future version, numeric_only will default to False. Either specify numeric_only or select only columns which should be valid for the function.\n",
      "  \"category_means\": dataset.groupby(dataset[column]).mean()[target_name]\n",
      "C:\\Users\\Aleksey Ryabykin\\AppData\\Local\\Temp\\ipykernel_284956\\2963386934.py:8: FutureWarning: The default value of numeric_only in DataFrameGroupBy.mean is deprecated. In a future version, numeric_only will default to False. Either specify numeric_only or select only columns which should be valid for the function.\n",
      "  \"category_means\": dataset.groupby(dataset[column]).mean()[target_name]\n",
      "\u001b[32m[I 2022-12-21 00:32:07,972]\u001b[0m Trial 24 finished with value: 301.6099688241005 and parameters: {'x_0': 0.28118630218603624, 'x_1': 0.06252361083103275}. Best is trial 19 with value: 282.2052161524865.\u001b[0m\n"
     ]
    },
    {
     "name": "stdout",
     "output_type": "stream",
     "text": [
      "Fold number: 5, loss: 308.2397672491373\n",
      "Current weights: [0.03816414 0.41625702 0.54557884]\n"
     ]
    },
    {
     "name": "stderr",
     "output_type": "stream",
     "text": [
      "C:\\Users\\Aleksey Ryabykin\\AppData\\Local\\Temp\\ipykernel_284956\\2963386934.py:8: FutureWarning: The default value of numeric_only in DataFrameGroupBy.mean is deprecated. In a future version, numeric_only will default to False. Either specify numeric_only or select only columns which should be valid for the function.\n",
      "  \"category_means\": dataset.groupby(dataset[column]).mean()[target_name]\n",
      "C:\\Users\\Aleksey Ryabykin\\AppData\\Local\\Temp\\ipykernel_284956\\2963386934.py:8: FutureWarning: The default value of numeric_only in DataFrameGroupBy.mean is deprecated. In a future version, numeric_only will default to False. Either specify numeric_only or select only columns which should be valid for the function.\n",
      "  \"category_means\": dataset.groupby(dataset[column]).mean()[target_name]\n"
     ]
    },
    {
     "name": "stdout",
     "output_type": "stream",
     "text": [
      "Fold number: 1, loss: 299.9318620996119\n"
     ]
    },
    {
     "name": "stderr",
     "output_type": "stream",
     "text": [
      "C:\\Users\\Aleksey Ryabykin\\AppData\\Local\\Temp\\ipykernel_284956\\2963386934.py:8: FutureWarning: The default value of numeric_only in DataFrameGroupBy.mean is deprecated. In a future version, numeric_only will default to False. Either specify numeric_only or select only columns which should be valid for the function.\n",
      "  \"category_means\": dataset.groupby(dataset[column]).mean()[target_name]\n",
      "C:\\Users\\Aleksey Ryabykin\\AppData\\Local\\Temp\\ipykernel_284956\\2963386934.py:8: FutureWarning: The default value of numeric_only in DataFrameGroupBy.mean is deprecated. In a future version, numeric_only will default to False. Either specify numeric_only or select only columns which should be valid for the function.\n",
      "  \"category_means\": dataset.groupby(dataset[column]).mean()[target_name]\n"
     ]
    },
    {
     "name": "stdout",
     "output_type": "stream",
     "text": [
      "Fold number: 2, loss: 396.12453720544954\n"
     ]
    },
    {
     "name": "stderr",
     "output_type": "stream",
     "text": [
      "C:\\Users\\Aleksey Ryabykin\\AppData\\Local\\Temp\\ipykernel_284956\\2963386934.py:8: FutureWarning: The default value of numeric_only in DataFrameGroupBy.mean is deprecated. In a future version, numeric_only will default to False. Either specify numeric_only or select only columns which should be valid for the function.\n",
      "  \"category_means\": dataset.groupby(dataset[column]).mean()[target_name]\n",
      "C:\\Users\\Aleksey Ryabykin\\AppData\\Local\\Temp\\ipykernel_284956\\2963386934.py:8: FutureWarning: The default value of numeric_only in DataFrameGroupBy.mean is deprecated. In a future version, numeric_only will default to False. Either specify numeric_only or select only columns which should be valid for the function.\n",
      "  \"category_means\": dataset.groupby(dataset[column]).mean()[target_name]\n"
     ]
    },
    {
     "name": "stdout",
     "output_type": "stream",
     "text": [
      "Fold number: 3, loss: 324.5200366540447\n"
     ]
    },
    {
     "name": "stderr",
     "output_type": "stream",
     "text": [
      "C:\\Users\\Aleksey Ryabykin\\AppData\\Local\\Temp\\ipykernel_284956\\2963386934.py:8: FutureWarning: The default value of numeric_only in DataFrameGroupBy.mean is deprecated. In a future version, numeric_only will default to False. Either specify numeric_only or select only columns which should be valid for the function.\n",
      "  \"category_means\": dataset.groupby(dataset[column]).mean()[target_name]\n",
      "C:\\Users\\Aleksey Ryabykin\\AppData\\Local\\Temp\\ipykernel_284956\\2963386934.py:8: FutureWarning: The default value of numeric_only in DataFrameGroupBy.mean is deprecated. In a future version, numeric_only will default to False. Either specify numeric_only or select only columns which should be valid for the function.\n",
      "  \"category_means\": dataset.groupby(dataset[column]).mean()[target_name]\n"
     ]
    },
    {
     "name": "stdout",
     "output_type": "stream",
     "text": [
      "Fold number: 4, loss: 289.18647782166994\n"
     ]
    },
    {
     "name": "stderr",
     "output_type": "stream",
     "text": [
      "C:\\Users\\Aleksey Ryabykin\\AppData\\Local\\Temp\\ipykernel_284956\\2963386934.py:8: FutureWarning: The default value of numeric_only in DataFrameGroupBy.mean is deprecated. In a future version, numeric_only will default to False. Either specify numeric_only or select only columns which should be valid for the function.\n",
      "  \"category_means\": dataset.groupby(dataset[column]).mean()[target_name]\n",
      "C:\\Users\\Aleksey Ryabykin\\AppData\\Local\\Temp\\ipykernel_284956\\2963386934.py:8: FutureWarning: The default value of numeric_only in DataFrameGroupBy.mean is deprecated. In a future version, numeric_only will default to False. Either specify numeric_only or select only columns which should be valid for the function.\n",
      "  \"category_means\": dataset.groupby(dataset[column]).mean()[target_name]\n",
      "\u001b[32m[I 2022-12-21 00:32:27,897]\u001b[0m Trial 25 finished with value: 320.7993522712049 and parameters: {'x_0': 0.03816413858606395, 'x_1': 0.41625702309500995}. Best is trial 19 with value: 282.2052161524865.\u001b[0m\n"
     ]
    },
    {
     "name": "stdout",
     "output_type": "stream",
     "text": [
      "Fold number: 5, loss: 294.2338475752486\n",
      "Current weights: [0.15421155 0.14774652 0.69804194]\n"
     ]
    },
    {
     "name": "stderr",
     "output_type": "stream",
     "text": [
      "C:\\Users\\Aleksey Ryabykin\\AppData\\Local\\Temp\\ipykernel_284956\\2963386934.py:8: FutureWarning: The default value of numeric_only in DataFrameGroupBy.mean is deprecated. In a future version, numeric_only will default to False. Either specify numeric_only or select only columns which should be valid for the function.\n",
      "  \"category_means\": dataset.groupby(dataset[column]).mean()[target_name]\n",
      "C:\\Users\\Aleksey Ryabykin\\AppData\\Local\\Temp\\ipykernel_284956\\2963386934.py:8: FutureWarning: The default value of numeric_only in DataFrameGroupBy.mean is deprecated. In a future version, numeric_only will default to False. Either specify numeric_only or select only columns which should be valid for the function.\n",
      "  \"category_means\": dataset.groupby(dataset[column]).mean()[target_name]\n"
     ]
    },
    {
     "name": "stdout",
     "output_type": "stream",
     "text": [
      "Fold number: 1, loss: 256.6270031348231\n"
     ]
    },
    {
     "name": "stderr",
     "output_type": "stream",
     "text": [
      "C:\\Users\\Aleksey Ryabykin\\AppData\\Local\\Temp\\ipykernel_284956\\2963386934.py:8: FutureWarning: The default value of numeric_only in DataFrameGroupBy.mean is deprecated. In a future version, numeric_only will default to False. Either specify numeric_only or select only columns which should be valid for the function.\n",
      "  \"category_means\": dataset.groupby(dataset[column]).mean()[target_name]\n",
      "C:\\Users\\Aleksey Ryabykin\\AppData\\Local\\Temp\\ipykernel_284956\\2963386934.py:8: FutureWarning: The default value of numeric_only in DataFrameGroupBy.mean is deprecated. In a future version, numeric_only will default to False. Either specify numeric_only or select only columns which should be valid for the function.\n",
      "  \"category_means\": dataset.groupby(dataset[column]).mean()[target_name]\n"
     ]
    },
    {
     "name": "stdout",
     "output_type": "stream",
     "text": [
      "Fold number: 2, loss: 302.42556615549324\n"
     ]
    },
    {
     "name": "stderr",
     "output_type": "stream",
     "text": [
      "C:\\Users\\Aleksey Ryabykin\\AppData\\Local\\Temp\\ipykernel_284956\\2963386934.py:8: FutureWarning: The default value of numeric_only in DataFrameGroupBy.mean is deprecated. In a future version, numeric_only will default to False. Either specify numeric_only or select only columns which should be valid for the function.\n",
      "  \"category_means\": dataset.groupby(dataset[column]).mean()[target_name]\n",
      "C:\\Users\\Aleksey Ryabykin\\AppData\\Local\\Temp\\ipykernel_284956\\2963386934.py:8: FutureWarning: The default value of numeric_only in DataFrameGroupBy.mean is deprecated. In a future version, numeric_only will default to False. Either specify numeric_only or select only columns which should be valid for the function.\n",
      "  \"category_means\": dataset.groupby(dataset[column]).mean()[target_name]\n"
     ]
    },
    {
     "name": "stdout",
     "output_type": "stream",
     "text": [
      "Fold number: 3, loss: 305.5534994045865\n"
     ]
    },
    {
     "name": "stderr",
     "output_type": "stream",
     "text": [
      "C:\\Users\\Aleksey Ryabykin\\AppData\\Local\\Temp\\ipykernel_284956\\2963386934.py:8: FutureWarning: The default value of numeric_only in DataFrameGroupBy.mean is deprecated. In a future version, numeric_only will default to False. Either specify numeric_only or select only columns which should be valid for the function.\n",
      "  \"category_means\": dataset.groupby(dataset[column]).mean()[target_name]\n",
      "C:\\Users\\Aleksey Ryabykin\\AppData\\Local\\Temp\\ipykernel_284956\\2963386934.py:8: FutureWarning: The default value of numeric_only in DataFrameGroupBy.mean is deprecated. In a future version, numeric_only will default to False. Either specify numeric_only or select only columns which should be valid for the function.\n",
      "  \"category_means\": dataset.groupby(dataset[column]).mean()[target_name]\n"
     ]
    },
    {
     "name": "stdout",
     "output_type": "stream",
     "text": [
      "Fold number: 4, loss: 350.40015146561853\n"
     ]
    },
    {
     "name": "stderr",
     "output_type": "stream",
     "text": [
      "C:\\Users\\Aleksey Ryabykin\\AppData\\Local\\Temp\\ipykernel_284956\\2963386934.py:8: FutureWarning: The default value of numeric_only in DataFrameGroupBy.mean is deprecated. In a future version, numeric_only will default to False. Either specify numeric_only or select only columns which should be valid for the function.\n",
      "  \"category_means\": dataset.groupby(dataset[column]).mean()[target_name]\n",
      "C:\\Users\\Aleksey Ryabykin\\AppData\\Local\\Temp\\ipykernel_284956\\2963386934.py:8: FutureWarning: The default value of numeric_only in DataFrameGroupBy.mean is deprecated. In a future version, numeric_only will default to False. Either specify numeric_only or select only columns which should be valid for the function.\n",
      "  \"category_means\": dataset.groupby(dataset[column]).mean()[target_name]\n",
      "\u001b[32m[I 2022-12-21 00:32:48,792]\u001b[0m Trial 26 finished with value: 306.72064184099065 and parameters: {'x_0': 0.1542115459134844, 'x_1': 0.14774651510403594}. Best is trial 19 with value: 282.2052161524865.\u001b[0m\n"
     ]
    },
    {
     "name": "stdout",
     "output_type": "stream",
     "text": [
      "Fold number: 5, loss: 318.5969890444319\n",
      "Current weights: [0.27891262 0.27045764 0.45062974]\n"
     ]
    },
    {
     "name": "stderr",
     "output_type": "stream",
     "text": [
      "C:\\Users\\Aleksey Ryabykin\\AppData\\Local\\Temp\\ipykernel_284956\\2963386934.py:8: FutureWarning: The default value of numeric_only in DataFrameGroupBy.mean is deprecated. In a future version, numeric_only will default to False. Either specify numeric_only or select only columns which should be valid for the function.\n",
      "  \"category_means\": dataset.groupby(dataset[column]).mean()[target_name]\n",
      "C:\\Users\\Aleksey Ryabykin\\AppData\\Local\\Temp\\ipykernel_284956\\2963386934.py:8: FutureWarning: The default value of numeric_only in DataFrameGroupBy.mean is deprecated. In a future version, numeric_only will default to False. Either specify numeric_only or select only columns which should be valid for the function.\n",
      "  \"category_means\": dataset.groupby(dataset[column]).mean()[target_name]\n"
     ]
    },
    {
     "name": "stdout",
     "output_type": "stream",
     "text": [
      "Fold number: 1, loss: 304.24493385271165\n"
     ]
    },
    {
     "name": "stderr",
     "output_type": "stream",
     "text": [
      "C:\\Users\\Aleksey Ryabykin\\AppData\\Local\\Temp\\ipykernel_284956\\2963386934.py:8: FutureWarning: The default value of numeric_only in DataFrameGroupBy.mean is deprecated. In a future version, numeric_only will default to False. Either specify numeric_only or select only columns which should be valid for the function.\n",
      "  \"category_means\": dataset.groupby(dataset[column]).mean()[target_name]\n",
      "C:\\Users\\Aleksey Ryabykin\\AppData\\Local\\Temp\\ipykernel_284956\\2963386934.py:8: FutureWarning: The default value of numeric_only in DataFrameGroupBy.mean is deprecated. In a future version, numeric_only will default to False. Either specify numeric_only or select only columns which should be valid for the function.\n",
      "  \"category_means\": dataset.groupby(dataset[column]).mean()[target_name]\n"
     ]
    },
    {
     "name": "stdout",
     "output_type": "stream",
     "text": [
      "Fold number: 2, loss: 324.75914606723546\n"
     ]
    },
    {
     "name": "stderr",
     "output_type": "stream",
     "text": [
      "C:\\Users\\Aleksey Ryabykin\\AppData\\Local\\Temp\\ipykernel_284956\\2963386934.py:8: FutureWarning: The default value of numeric_only in DataFrameGroupBy.mean is deprecated. In a future version, numeric_only will default to False. Either specify numeric_only or select only columns which should be valid for the function.\n",
      "  \"category_means\": dataset.groupby(dataset[column]).mean()[target_name]\n",
      "C:\\Users\\Aleksey Ryabykin\\AppData\\Local\\Temp\\ipykernel_284956\\2963386934.py:8: FutureWarning: The default value of numeric_only in DataFrameGroupBy.mean is deprecated. In a future version, numeric_only will default to False. Either specify numeric_only or select only columns which should be valid for the function.\n",
      "  \"category_means\": dataset.groupby(dataset[column]).mean()[target_name]\n"
     ]
    },
    {
     "name": "stdout",
     "output_type": "stream",
     "text": [
      "Fold number: 3, loss: 251.0546519367152\n"
     ]
    },
    {
     "name": "stderr",
     "output_type": "stream",
     "text": [
      "C:\\Users\\Aleksey Ryabykin\\AppData\\Local\\Temp\\ipykernel_284956\\2963386934.py:8: FutureWarning: The default value of numeric_only in DataFrameGroupBy.mean is deprecated. In a future version, numeric_only will default to False. Either specify numeric_only or select only columns which should be valid for the function.\n",
      "  \"category_means\": dataset.groupby(dataset[column]).mean()[target_name]\n",
      "C:\\Users\\Aleksey Ryabykin\\AppData\\Local\\Temp\\ipykernel_284956\\2963386934.py:8: FutureWarning: The default value of numeric_only in DataFrameGroupBy.mean is deprecated. In a future version, numeric_only will default to False. Either specify numeric_only or select only columns which should be valid for the function.\n",
      "  \"category_means\": dataset.groupby(dataset[column]).mean()[target_name]\n"
     ]
    },
    {
     "name": "stdout",
     "output_type": "stream",
     "text": [
      "Fold number: 4, loss: 379.42806118476574\n"
     ]
    },
    {
     "name": "stderr",
     "output_type": "stream",
     "text": [
      "C:\\Users\\Aleksey Ryabykin\\AppData\\Local\\Temp\\ipykernel_284956\\2963386934.py:8: FutureWarning: The default value of numeric_only in DataFrameGroupBy.mean is deprecated. In a future version, numeric_only will default to False. Either specify numeric_only or select only columns which should be valid for the function.\n",
      "  \"category_means\": dataset.groupby(dataset[column]).mean()[target_name]\n",
      "C:\\Users\\Aleksey Ryabykin\\AppData\\Local\\Temp\\ipykernel_284956\\2963386934.py:8: FutureWarning: The default value of numeric_only in DataFrameGroupBy.mean is deprecated. In a future version, numeric_only will default to False. Either specify numeric_only or select only columns which should be valid for the function.\n",
      "  \"category_means\": dataset.groupby(dataset[column]).mean()[target_name]\n",
      "\u001b[32m[I 2022-12-21 00:33:10,186]\u001b[0m Trial 27 finished with value: 313.48377626506243 and parameters: {'x_0': 0.27891262401297073, 'x_1': 0.27045764052184107}. Best is trial 19 with value: 282.2052161524865.\u001b[0m\n"
     ]
    },
    {
     "name": "stdout",
     "output_type": "stream",
     "text": [
      "Fold number: 5, loss: 307.9320882838842\n",
      "Current weights: [0.39371394 0.03949413 0.56679193]\n"
     ]
    },
    {
     "name": "stderr",
     "output_type": "stream",
     "text": [
      "C:\\Users\\Aleksey Ryabykin\\AppData\\Local\\Temp\\ipykernel_284956\\2963386934.py:8: FutureWarning: The default value of numeric_only in DataFrameGroupBy.mean is deprecated. In a future version, numeric_only will default to False. Either specify numeric_only or select only columns which should be valid for the function.\n",
      "  \"category_means\": dataset.groupby(dataset[column]).mean()[target_name]\n",
      "C:\\Users\\Aleksey Ryabykin\\AppData\\Local\\Temp\\ipykernel_284956\\2963386934.py:8: FutureWarning: The default value of numeric_only in DataFrameGroupBy.mean is deprecated. In a future version, numeric_only will default to False. Either specify numeric_only or select only columns which should be valid for the function.\n",
      "  \"category_means\": dataset.groupby(dataset[column]).mean()[target_name]\n"
     ]
    },
    {
     "name": "stdout",
     "output_type": "stream",
     "text": [
      "Fold number: 1, loss: 290.8711010964604\n"
     ]
    },
    {
     "name": "stderr",
     "output_type": "stream",
     "text": [
      "C:\\Users\\Aleksey Ryabykin\\AppData\\Local\\Temp\\ipykernel_284956\\2963386934.py:8: FutureWarning: The default value of numeric_only in DataFrameGroupBy.mean is deprecated. In a future version, numeric_only will default to False. Either specify numeric_only or select only columns which should be valid for the function.\n",
      "  \"category_means\": dataset.groupby(dataset[column]).mean()[target_name]\n",
      "C:\\Users\\Aleksey Ryabykin\\AppData\\Local\\Temp\\ipykernel_284956\\2963386934.py:8: FutureWarning: The default value of numeric_only in DataFrameGroupBy.mean is deprecated. In a future version, numeric_only will default to False. Either specify numeric_only or select only columns which should be valid for the function.\n",
      "  \"category_means\": dataset.groupby(dataset[column]).mean()[target_name]\n"
     ]
    },
    {
     "name": "stdout",
     "output_type": "stream",
     "text": [
      "Fold number: 2, loss: 284.20454761599086\n"
     ]
    },
    {
     "name": "stderr",
     "output_type": "stream",
     "text": [
      "C:\\Users\\Aleksey Ryabykin\\AppData\\Local\\Temp\\ipykernel_284956\\2963386934.py:8: FutureWarning: The default value of numeric_only in DataFrameGroupBy.mean is deprecated. In a future version, numeric_only will default to False. Either specify numeric_only or select only columns which should be valid for the function.\n",
      "  \"category_means\": dataset.groupby(dataset[column]).mean()[target_name]\n",
      "C:\\Users\\Aleksey Ryabykin\\AppData\\Local\\Temp\\ipykernel_284956\\2963386934.py:8: FutureWarning: The default value of numeric_only in DataFrameGroupBy.mean is deprecated. In a future version, numeric_only will default to False. Either specify numeric_only or select only columns which should be valid for the function.\n",
      "  \"category_means\": dataset.groupby(dataset[column]).mean()[target_name]\n"
     ]
    },
    {
     "name": "stdout",
     "output_type": "stream",
     "text": [
      "Fold number: 3, loss: 267.51241797139\n"
     ]
    },
    {
     "name": "stderr",
     "output_type": "stream",
     "text": [
      "C:\\Users\\Aleksey Ryabykin\\AppData\\Local\\Temp\\ipykernel_284956\\2963386934.py:8: FutureWarning: The default value of numeric_only in DataFrameGroupBy.mean is deprecated. In a future version, numeric_only will default to False. Either specify numeric_only or select only columns which should be valid for the function.\n",
      "  \"category_means\": dataset.groupby(dataset[column]).mean()[target_name]\n",
      "C:\\Users\\Aleksey Ryabykin\\AppData\\Local\\Temp\\ipykernel_284956\\2963386934.py:8: FutureWarning: The default value of numeric_only in DataFrameGroupBy.mean is deprecated. In a future version, numeric_only will default to False. Either specify numeric_only or select only columns which should be valid for the function.\n",
      "  \"category_means\": dataset.groupby(dataset[column]).mean()[target_name]\n"
     ]
    },
    {
     "name": "stdout",
     "output_type": "stream",
     "text": [
      "Fold number: 4, loss: 266.5089939009184\n"
     ]
    },
    {
     "name": "stderr",
     "output_type": "stream",
     "text": [
      "C:\\Users\\Aleksey Ryabykin\\AppData\\Local\\Temp\\ipykernel_284956\\2963386934.py:8: FutureWarning: The default value of numeric_only in DataFrameGroupBy.mean is deprecated. In a future version, numeric_only will default to False. Either specify numeric_only or select only columns which should be valid for the function.\n",
      "  \"category_means\": dataset.groupby(dataset[column]).mean()[target_name]\n",
      "C:\\Users\\Aleksey Ryabykin\\AppData\\Local\\Temp\\ipykernel_284956\\2963386934.py:8: FutureWarning: The default value of numeric_only in DataFrameGroupBy.mean is deprecated. In a future version, numeric_only will default to False. Either specify numeric_only or select only columns which should be valid for the function.\n",
      "  \"category_means\": dataset.groupby(dataset[column]).mean()[target_name]\n",
      "\u001b[32m[I 2022-12-21 00:33:31,383]\u001b[0m Trial 28 finished with value: 292.0439133945855 and parameters: {'x_0': 0.3937139449099176, 'x_1': 0.039494127044062924}. Best is trial 19 with value: 282.2052161524865.\u001b[0m\n"
     ]
    },
    {
     "name": "stdout",
     "output_type": "stream",
     "text": [
      "Fold number: 5, loss: 351.122506388168\n",
      "Current weights: [0.42570777 0.08959306 0.48469918]\n"
     ]
    },
    {
     "name": "stderr",
     "output_type": "stream",
     "text": [
      "C:\\Users\\Aleksey Ryabykin\\AppData\\Local\\Temp\\ipykernel_284956\\2963386934.py:8: FutureWarning: The default value of numeric_only in DataFrameGroupBy.mean is deprecated. In a future version, numeric_only will default to False. Either specify numeric_only or select only columns which should be valid for the function.\n",
      "  \"category_means\": dataset.groupby(dataset[column]).mean()[target_name]\n",
      "C:\\Users\\Aleksey Ryabykin\\AppData\\Local\\Temp\\ipykernel_284956\\2963386934.py:8: FutureWarning: The default value of numeric_only in DataFrameGroupBy.mean is deprecated. In a future version, numeric_only will default to False. Either specify numeric_only or select only columns which should be valid for the function.\n",
      "  \"category_means\": dataset.groupby(dataset[column]).mean()[target_name]\n"
     ]
    },
    {
     "name": "stdout",
     "output_type": "stream",
     "text": [
      "Fold number: 1, loss: 287.5984344411612\n"
     ]
    },
    {
     "name": "stderr",
     "output_type": "stream",
     "text": [
      "C:\\Users\\Aleksey Ryabykin\\AppData\\Local\\Temp\\ipykernel_284956\\2963386934.py:8: FutureWarning: The default value of numeric_only in DataFrameGroupBy.mean is deprecated. In a future version, numeric_only will default to False. Either specify numeric_only or select only columns which should be valid for the function.\n",
      "  \"category_means\": dataset.groupby(dataset[column]).mean()[target_name]\n",
      "C:\\Users\\Aleksey Ryabykin\\AppData\\Local\\Temp\\ipykernel_284956\\2963386934.py:8: FutureWarning: The default value of numeric_only in DataFrameGroupBy.mean is deprecated. In a future version, numeric_only will default to False. Either specify numeric_only or select only columns which should be valid for the function.\n",
      "  \"category_means\": dataset.groupby(dataset[column]).mean()[target_name]\n"
     ]
    },
    {
     "name": "stdout",
     "output_type": "stream",
     "text": [
      "Fold number: 2, loss: 317.43649858860294\n"
     ]
    },
    {
     "name": "stderr",
     "output_type": "stream",
     "text": [
      "C:\\Users\\Aleksey Ryabykin\\AppData\\Local\\Temp\\ipykernel_284956\\2963386934.py:8: FutureWarning: The default value of numeric_only in DataFrameGroupBy.mean is deprecated. In a future version, numeric_only will default to False. Either specify numeric_only or select only columns which should be valid for the function.\n",
      "  \"category_means\": dataset.groupby(dataset[column]).mean()[target_name]\n",
      "C:\\Users\\Aleksey Ryabykin\\AppData\\Local\\Temp\\ipykernel_284956\\2963386934.py:8: FutureWarning: The default value of numeric_only in DataFrameGroupBy.mean is deprecated. In a future version, numeric_only will default to False. Either specify numeric_only or select only columns which should be valid for the function.\n",
      "  \"category_means\": dataset.groupby(dataset[column]).mean()[target_name]\n"
     ]
    },
    {
     "name": "stdout",
     "output_type": "stream",
     "text": [
      "Fold number: 3, loss: 248.1631635427039\n"
     ]
    },
    {
     "name": "stderr",
     "output_type": "stream",
     "text": [
      "C:\\Users\\Aleksey Ryabykin\\AppData\\Local\\Temp\\ipykernel_284956\\2963386934.py:8: FutureWarning: The default value of numeric_only in DataFrameGroupBy.mean is deprecated. In a future version, numeric_only will default to False. Either specify numeric_only or select only columns which should be valid for the function.\n",
      "  \"category_means\": dataset.groupby(dataset[column]).mean()[target_name]\n",
      "C:\\Users\\Aleksey Ryabykin\\AppData\\Local\\Temp\\ipykernel_284956\\2963386934.py:8: FutureWarning: The default value of numeric_only in DataFrameGroupBy.mean is deprecated. In a future version, numeric_only will default to False. Either specify numeric_only or select only columns which should be valid for the function.\n",
      "  \"category_means\": dataset.groupby(dataset[column]).mean()[target_name]\n"
     ]
    },
    {
     "name": "stdout",
     "output_type": "stream",
     "text": [
      "Fold number: 4, loss: 297.0029543593704\n"
     ]
    },
    {
     "name": "stderr",
     "output_type": "stream",
     "text": [
      "C:\\Users\\Aleksey Ryabykin\\AppData\\Local\\Temp\\ipykernel_284956\\2963386934.py:8: FutureWarning: The default value of numeric_only in DataFrameGroupBy.mean is deprecated. In a future version, numeric_only will default to False. Either specify numeric_only or select only columns which should be valid for the function.\n",
      "  \"category_means\": dataset.groupby(dataset[column]).mean()[target_name]\n",
      "C:\\Users\\Aleksey Ryabykin\\AppData\\Local\\Temp\\ipykernel_284956\\2963386934.py:8: FutureWarning: The default value of numeric_only in DataFrameGroupBy.mean is deprecated. In a future version, numeric_only will default to False. Either specify numeric_only or select only columns which should be valid for the function.\n",
      "  \"category_means\": dataset.groupby(dataset[column]).mean()[target_name]\n",
      "\u001b[32m[I 2022-12-21 00:33:52,067]\u001b[0m Trial 29 finished with value: 303.6379972518183 and parameters: {'x_0': 0.42570776840570446, 'x_1': 0.08959305559364641}. Best is trial 19 with value: 282.2052161524865.\u001b[0m\n"
     ]
    },
    {
     "name": "stdout",
     "output_type": "stream",
     "text": [
      "Fold number: 5, loss: 367.98893532725333\n",
      "Current weights: [0.48505868 0.04302782 0.4719135 ]\n"
     ]
    },
    {
     "name": "stderr",
     "output_type": "stream",
     "text": [
      "C:\\Users\\Aleksey Ryabykin\\AppData\\Local\\Temp\\ipykernel_284956\\2963386934.py:8: FutureWarning: The default value of numeric_only in DataFrameGroupBy.mean is deprecated. In a future version, numeric_only will default to False. Either specify numeric_only or select only columns which should be valid for the function.\n",
      "  \"category_means\": dataset.groupby(dataset[column]).mean()[target_name]\n",
      "C:\\Users\\Aleksey Ryabykin\\AppData\\Local\\Temp\\ipykernel_284956\\2963386934.py:8: FutureWarning: The default value of numeric_only in DataFrameGroupBy.mean is deprecated. In a future version, numeric_only will default to False. Either specify numeric_only or select only columns which should be valid for the function.\n",
      "  \"category_means\": dataset.groupby(dataset[column]).mean()[target_name]\n"
     ]
    },
    {
     "name": "stdout",
     "output_type": "stream",
     "text": [
      "Fold number: 1, loss: 273.8669836205616\n"
     ]
    },
    {
     "name": "stderr",
     "output_type": "stream",
     "text": [
      "C:\\Users\\Aleksey Ryabykin\\AppData\\Local\\Temp\\ipykernel_284956\\2963386934.py:8: FutureWarning: The default value of numeric_only in DataFrameGroupBy.mean is deprecated. In a future version, numeric_only will default to False. Either specify numeric_only or select only columns which should be valid for the function.\n",
      "  \"category_means\": dataset.groupby(dataset[column]).mean()[target_name]\n",
      "C:\\Users\\Aleksey Ryabykin\\AppData\\Local\\Temp\\ipykernel_284956\\2963386934.py:8: FutureWarning: The default value of numeric_only in DataFrameGroupBy.mean is deprecated. In a future version, numeric_only will default to False. Either specify numeric_only or select only columns which should be valid for the function.\n",
      "  \"category_means\": dataset.groupby(dataset[column]).mean()[target_name]\n"
     ]
    },
    {
     "name": "stdout",
     "output_type": "stream",
     "text": [
      "Fold number: 2, loss: 345.1256939723183\n"
     ]
    },
    {
     "name": "stderr",
     "output_type": "stream",
     "text": [
      "C:\\Users\\Aleksey Ryabykin\\AppData\\Local\\Temp\\ipykernel_284956\\2963386934.py:8: FutureWarning: The default value of numeric_only in DataFrameGroupBy.mean is deprecated. In a future version, numeric_only will default to False. Either specify numeric_only or select only columns which should be valid for the function.\n",
      "  \"category_means\": dataset.groupby(dataset[column]).mean()[target_name]\n",
      "C:\\Users\\Aleksey Ryabykin\\AppData\\Local\\Temp\\ipykernel_284956\\2963386934.py:8: FutureWarning: The default value of numeric_only in DataFrameGroupBy.mean is deprecated. In a future version, numeric_only will default to False. Either specify numeric_only or select only columns which should be valid for the function.\n",
      "  \"category_means\": dataset.groupby(dataset[column]).mean()[target_name]\n"
     ]
    },
    {
     "name": "stdout",
     "output_type": "stream",
     "text": [
      "Fold number: 3, loss: 283.32155226571894\n"
     ]
    },
    {
     "name": "stderr",
     "output_type": "stream",
     "text": [
      "C:\\Users\\Aleksey Ryabykin\\AppData\\Local\\Temp\\ipykernel_284956\\2963386934.py:8: FutureWarning: The default value of numeric_only in DataFrameGroupBy.mean is deprecated. In a future version, numeric_only will default to False. Either specify numeric_only or select only columns which should be valid for the function.\n",
      "  \"category_means\": dataset.groupby(dataset[column]).mean()[target_name]\n",
      "C:\\Users\\Aleksey Ryabykin\\AppData\\Local\\Temp\\ipykernel_284956\\2963386934.py:8: FutureWarning: The default value of numeric_only in DataFrameGroupBy.mean is deprecated. In a future version, numeric_only will default to False. Either specify numeric_only or select only columns which should be valid for the function.\n",
      "  \"category_means\": dataset.groupby(dataset[column]).mean()[target_name]\n"
     ]
    },
    {
     "name": "stdout",
     "output_type": "stream",
     "text": [
      "Fold number: 4, loss: 289.6968296010367\n"
     ]
    },
    {
     "name": "stderr",
     "output_type": "stream",
     "text": [
      "C:\\Users\\Aleksey Ryabykin\\AppData\\Local\\Temp\\ipykernel_284956\\2963386934.py:8: FutureWarning: The default value of numeric_only in DataFrameGroupBy.mean is deprecated. In a future version, numeric_only will default to False. Either specify numeric_only or select only columns which should be valid for the function.\n",
      "  \"category_means\": dataset.groupby(dataset[column]).mean()[target_name]\n",
      "C:\\Users\\Aleksey Ryabykin\\AppData\\Local\\Temp\\ipykernel_284956\\2963386934.py:8: FutureWarning: The default value of numeric_only in DataFrameGroupBy.mean is deprecated. In a future version, numeric_only will default to False. Either specify numeric_only or select only columns which should be valid for the function.\n",
      "  \"category_means\": dataset.groupby(dataset[column]).mean()[target_name]\n",
      "\u001b[32m[I 2022-12-21 00:34:11,613]\u001b[0m Trial 30 finished with value: 303.1590400194735 and parameters: {'x_0': 0.4850586803310488, 'x_1': 0.04302782365804764}. Best is trial 19 with value: 282.2052161524865.\u001b[0m\n"
     ]
    },
    {
     "name": "stdout",
     "output_type": "stream",
     "text": [
      "Fold number: 5, loss: 323.78414063773204\n",
      "Current weights: [0.28821525 0.0021388  0.70964595]\n"
     ]
    },
    {
     "name": "stderr",
     "output_type": "stream",
     "text": [
      "C:\\Users\\Aleksey Ryabykin\\AppData\\Local\\Temp\\ipykernel_284956\\2963386934.py:8: FutureWarning: The default value of numeric_only in DataFrameGroupBy.mean is deprecated. In a future version, numeric_only will default to False. Either specify numeric_only or select only columns which should be valid for the function.\n",
      "  \"category_means\": dataset.groupby(dataset[column]).mean()[target_name]\n",
      "C:\\Users\\Aleksey Ryabykin\\AppData\\Local\\Temp\\ipykernel_284956\\2963386934.py:8: FutureWarning: The default value of numeric_only in DataFrameGroupBy.mean is deprecated. In a future version, numeric_only will default to False. Either specify numeric_only or select only columns which should be valid for the function.\n",
      "  \"category_means\": dataset.groupby(dataset[column]).mean()[target_name]\n"
     ]
    },
    {
     "name": "stdout",
     "output_type": "stream",
     "text": [
      "Fold number: 1, loss: 268.54703754066395\n"
     ]
    },
    {
     "name": "stderr",
     "output_type": "stream",
     "text": [
      "C:\\Users\\Aleksey Ryabykin\\AppData\\Local\\Temp\\ipykernel_284956\\2963386934.py:8: FutureWarning: The default value of numeric_only in DataFrameGroupBy.mean is deprecated. In a future version, numeric_only will default to False. Either specify numeric_only or select only columns which should be valid for the function.\n",
      "  \"category_means\": dataset.groupby(dataset[column]).mean()[target_name]\n",
      "C:\\Users\\Aleksey Ryabykin\\AppData\\Local\\Temp\\ipykernel_284956\\2963386934.py:8: FutureWarning: The default value of numeric_only in DataFrameGroupBy.mean is deprecated. In a future version, numeric_only will default to False. Either specify numeric_only or select only columns which should be valid for the function.\n",
      "  \"category_means\": dataset.groupby(dataset[column]).mean()[target_name]\n"
     ]
    },
    {
     "name": "stdout",
     "output_type": "stream",
     "text": [
      "Fold number: 2, loss: 310.9444807460381\n"
     ]
    },
    {
     "name": "stderr",
     "output_type": "stream",
     "text": [
      "C:\\Users\\Aleksey Ryabykin\\AppData\\Local\\Temp\\ipykernel_284956\\2963386934.py:8: FutureWarning: The default value of numeric_only in DataFrameGroupBy.mean is deprecated. In a future version, numeric_only will default to False. Either specify numeric_only or select only columns which should be valid for the function.\n",
      "  \"category_means\": dataset.groupby(dataset[column]).mean()[target_name]\n",
      "C:\\Users\\Aleksey Ryabykin\\AppData\\Local\\Temp\\ipykernel_284956\\2963386934.py:8: FutureWarning: The default value of numeric_only in DataFrameGroupBy.mean is deprecated. In a future version, numeric_only will default to False. Either specify numeric_only or select only columns which should be valid for the function.\n",
      "  \"category_means\": dataset.groupby(dataset[column]).mean()[target_name]\n"
     ]
    },
    {
     "name": "stdout",
     "output_type": "stream",
     "text": [
      "Fold number: 3, loss: 298.9819810504056\n"
     ]
    },
    {
     "name": "stderr",
     "output_type": "stream",
     "text": [
      "C:\\Users\\Aleksey Ryabykin\\AppData\\Local\\Temp\\ipykernel_284956\\2963386934.py:8: FutureWarning: The default value of numeric_only in DataFrameGroupBy.mean is deprecated. In a future version, numeric_only will default to False. Either specify numeric_only or select only columns which should be valid for the function.\n",
      "  \"category_means\": dataset.groupby(dataset[column]).mean()[target_name]\n",
      "C:\\Users\\Aleksey Ryabykin\\AppData\\Local\\Temp\\ipykernel_284956\\2963386934.py:8: FutureWarning: The default value of numeric_only in DataFrameGroupBy.mean is deprecated. In a future version, numeric_only will default to False. Either specify numeric_only or select only columns which should be valid for the function.\n",
      "  \"category_means\": dataset.groupby(dataset[column]).mean()[target_name]\n"
     ]
    },
    {
     "name": "stdout",
     "output_type": "stream",
     "text": [
      "Fold number: 4, loss: 279.35366191356434\n"
     ]
    },
    {
     "name": "stderr",
     "output_type": "stream",
     "text": [
      "C:\\Users\\Aleksey Ryabykin\\AppData\\Local\\Temp\\ipykernel_284956\\2963386934.py:8: FutureWarning: The default value of numeric_only in DataFrameGroupBy.mean is deprecated. In a future version, numeric_only will default to False. Either specify numeric_only or select only columns which should be valid for the function.\n",
      "  \"category_means\": dataset.groupby(dataset[column]).mean()[target_name]\n",
      "C:\\Users\\Aleksey Ryabykin\\AppData\\Local\\Temp\\ipykernel_284956\\2963386934.py:8: FutureWarning: The default value of numeric_only in DataFrameGroupBy.mean is deprecated. In a future version, numeric_only will default to False. Either specify numeric_only or select only columns which should be valid for the function.\n",
      "  \"category_means\": dataset.groupby(dataset[column]).mean()[target_name]\n",
      "\u001b[32m[I 2022-12-21 00:34:32,816]\u001b[0m Trial 31 finished with value: 284.2364280946466 and parameters: {'x_0': 0.2882152532240142, 'x_1': 0.002138795422840449}. Best is trial 19 with value: 282.2052161524865.\u001b[0m\n"
     ]
    },
    {
     "name": "stdout",
     "output_type": "stream",
     "text": [
      "Fold number: 5, loss: 263.35497922256127\n",
      "Current weights: [0.2251873 0.0131719 0.7616408]\n"
     ]
    },
    {
     "name": "stderr",
     "output_type": "stream",
     "text": [
      "C:\\Users\\Aleksey Ryabykin\\AppData\\Local\\Temp\\ipykernel_284956\\2963386934.py:8: FutureWarning: The default value of numeric_only in DataFrameGroupBy.mean is deprecated. In a future version, numeric_only will default to False. Either specify numeric_only or select only columns which should be valid for the function.\n",
      "  \"category_means\": dataset.groupby(dataset[column]).mean()[target_name]\n",
      "C:\\Users\\Aleksey Ryabykin\\AppData\\Local\\Temp\\ipykernel_284956\\2963386934.py:8: FutureWarning: The default value of numeric_only in DataFrameGroupBy.mean is deprecated. In a future version, numeric_only will default to False. Either specify numeric_only or select only columns which should be valid for the function.\n",
      "  \"category_means\": dataset.groupby(dataset[column]).mean()[target_name]\n"
     ]
    },
    {
     "name": "stdout",
     "output_type": "stream",
     "text": [
      "Fold number: 1, loss: 291.48358885543996\n"
     ]
    },
    {
     "name": "stderr",
     "output_type": "stream",
     "text": [
      "C:\\Users\\Aleksey Ryabykin\\AppData\\Local\\Temp\\ipykernel_284956\\2963386934.py:8: FutureWarning: The default value of numeric_only in DataFrameGroupBy.mean is deprecated. In a future version, numeric_only will default to False. Either specify numeric_only or select only columns which should be valid for the function.\n",
      "  \"category_means\": dataset.groupby(dataset[column]).mean()[target_name]\n",
      "C:\\Users\\Aleksey Ryabykin\\AppData\\Local\\Temp\\ipykernel_284956\\2963386934.py:8: FutureWarning: The default value of numeric_only in DataFrameGroupBy.mean is deprecated. In a future version, numeric_only will default to False. Either specify numeric_only or select only columns which should be valid for the function.\n",
      "  \"category_means\": dataset.groupby(dataset[column]).mean()[target_name]\n"
     ]
    },
    {
     "name": "stdout",
     "output_type": "stream",
     "text": [
      "Fold number: 2, loss: 322.70837603007715\n"
     ]
    },
    {
     "name": "stderr",
     "output_type": "stream",
     "text": [
      "C:\\Users\\Aleksey Ryabykin\\AppData\\Local\\Temp\\ipykernel_284956\\2963386934.py:8: FutureWarning: The default value of numeric_only in DataFrameGroupBy.mean is deprecated. In a future version, numeric_only will default to False. Either specify numeric_only or select only columns which should be valid for the function.\n",
      "  \"category_means\": dataset.groupby(dataset[column]).mean()[target_name]\n",
      "C:\\Users\\Aleksey Ryabykin\\AppData\\Local\\Temp\\ipykernel_284956\\2963386934.py:8: FutureWarning: The default value of numeric_only in DataFrameGroupBy.mean is deprecated. In a future version, numeric_only will default to False. Either specify numeric_only or select only columns which should be valid for the function.\n",
      "  \"category_means\": dataset.groupby(dataset[column]).mean()[target_name]\n"
     ]
    },
    {
     "name": "stdout",
     "output_type": "stream",
     "text": [
      "Fold number: 3, loss: 271.16550589138427\n"
     ]
    },
    {
     "name": "stderr",
     "output_type": "stream",
     "text": [
      "C:\\Users\\Aleksey Ryabykin\\AppData\\Local\\Temp\\ipykernel_284956\\2963386934.py:8: FutureWarning: The default value of numeric_only in DataFrameGroupBy.mean is deprecated. In a future version, numeric_only will default to False. Either specify numeric_only or select only columns which should be valid for the function.\n",
      "  \"category_means\": dataset.groupby(dataset[column]).mean()[target_name]\n",
      "C:\\Users\\Aleksey Ryabykin\\AppData\\Local\\Temp\\ipykernel_284956\\2963386934.py:8: FutureWarning: The default value of numeric_only in DataFrameGroupBy.mean is deprecated. In a future version, numeric_only will default to False. Either specify numeric_only or select only columns which should be valid for the function.\n",
      "  \"category_means\": dataset.groupby(dataset[column]).mean()[target_name]\n"
     ]
    },
    {
     "name": "stdout",
     "output_type": "stream",
     "text": [
      "Fold number: 4, loss: 337.5575944243588\n"
     ]
    },
    {
     "name": "stderr",
     "output_type": "stream",
     "text": [
      "C:\\Users\\Aleksey Ryabykin\\AppData\\Local\\Temp\\ipykernel_284956\\2963386934.py:8: FutureWarning: The default value of numeric_only in DataFrameGroupBy.mean is deprecated. In a future version, numeric_only will default to False. Either specify numeric_only or select only columns which should be valid for the function.\n",
      "  \"category_means\": dataset.groupby(dataset[column]).mean()[target_name]\n",
      "C:\\Users\\Aleksey Ryabykin\\AppData\\Local\\Temp\\ipykernel_284956\\2963386934.py:8: FutureWarning: The default value of numeric_only in DataFrameGroupBy.mean is deprecated. In a future version, numeric_only will default to False. Either specify numeric_only or select only columns which should be valid for the function.\n",
      "  \"category_means\": dataset.groupby(dataset[column]).mean()[target_name]\n",
      "\u001b[32m[I 2022-12-21 00:34:53,617]\u001b[0m Trial 32 finished with value: 292.30982503670873 and parameters: {'x_0': 0.22518730456706076, 'x_1': 0.013171898430519531}. Best is trial 19 with value: 282.2052161524865.\u001b[0m\n"
     ]
    },
    {
     "name": "stdout",
     "output_type": "stream",
     "text": [
      "Fold number: 5, loss: 238.63405998228367\n",
      "Current weights: [0.976272   0.00455499 0.01917301]\n"
     ]
    },
    {
     "name": "stderr",
     "output_type": "stream",
     "text": [
      "c:\\Users\\Aleksey Ryabykin\\AppData\\Local\\Programs\\Python\\Python310\\lib\\site-packages\\optuna\\samplers\\_tpe\\parzen_estimator.py:193: RuntimeWarning: divide by zero encountered in divide\n",
      "  coefficient = 1 / z / p_accept\n",
      "C:\\Users\\Aleksey Ryabykin\\AppData\\Local\\Temp\\ipykernel_284956\\2963386934.py:8: FutureWarning: The default value of numeric_only in DataFrameGroupBy.mean is deprecated. In a future version, numeric_only will default to False. Either specify numeric_only or select only columns which should be valid for the function.\n",
      "  \"category_means\": dataset.groupby(dataset[column]).mean()[target_name]\n",
      "C:\\Users\\Aleksey Ryabykin\\AppData\\Local\\Temp\\ipykernel_284956\\2963386934.py:8: FutureWarning: The default value of numeric_only in DataFrameGroupBy.mean is deprecated. In a future version, numeric_only will default to False. Either specify numeric_only or select only columns which should be valid for the function.\n",
      "  \"category_means\": dataset.groupby(dataset[column]).mean()[target_name]\n"
     ]
    },
    {
     "name": "stdout",
     "output_type": "stream",
     "text": [
      "Fold number: 1, loss: 354.3361288870197\n"
     ]
    },
    {
     "name": "stderr",
     "output_type": "stream",
     "text": [
      "C:\\Users\\Aleksey Ryabykin\\AppData\\Local\\Temp\\ipykernel_284956\\2963386934.py:8: FutureWarning: The default value of numeric_only in DataFrameGroupBy.mean is deprecated. In a future version, numeric_only will default to False. Either specify numeric_only or select only columns which should be valid for the function.\n",
      "  \"category_means\": dataset.groupby(dataset[column]).mean()[target_name]\n",
      "C:\\Users\\Aleksey Ryabykin\\AppData\\Local\\Temp\\ipykernel_284956\\2963386934.py:8: FutureWarning: The default value of numeric_only in DataFrameGroupBy.mean is deprecated. In a future version, numeric_only will default to False. Either specify numeric_only or select only columns which should be valid for the function.\n",
      "  \"category_means\": dataset.groupby(dataset[column]).mean()[target_name]\n"
     ]
    },
    {
     "name": "stdout",
     "output_type": "stream",
     "text": [
      "Fold number: 2, loss: 359.94083492557115\n"
     ]
    },
    {
     "name": "stderr",
     "output_type": "stream",
     "text": [
      "C:\\Users\\Aleksey Ryabykin\\AppData\\Local\\Temp\\ipykernel_284956\\2963386934.py:8: FutureWarning: The default value of numeric_only in DataFrameGroupBy.mean is deprecated. In a future version, numeric_only will default to False. Either specify numeric_only or select only columns which should be valid for the function.\n",
      "  \"category_means\": dataset.groupby(dataset[column]).mean()[target_name]\n",
      "C:\\Users\\Aleksey Ryabykin\\AppData\\Local\\Temp\\ipykernel_284956\\2963386934.py:8: FutureWarning: The default value of numeric_only in DataFrameGroupBy.mean is deprecated. In a future version, numeric_only will default to False. Either specify numeric_only or select only columns which should be valid for the function.\n",
      "  \"category_means\": dataset.groupby(dataset[column]).mean()[target_name]\n"
     ]
    },
    {
     "name": "stdout",
     "output_type": "stream",
     "text": [
      "Fold number: 3, loss: 288.84110979542635\n"
     ]
    },
    {
     "name": "stderr",
     "output_type": "stream",
     "text": [
      "C:\\Users\\Aleksey Ryabykin\\AppData\\Local\\Temp\\ipykernel_284956\\2963386934.py:8: FutureWarning: The default value of numeric_only in DataFrameGroupBy.mean is deprecated. In a future version, numeric_only will default to False. Either specify numeric_only or select only columns which should be valid for the function.\n",
      "  \"category_means\": dataset.groupby(dataset[column]).mean()[target_name]\n",
      "C:\\Users\\Aleksey Ryabykin\\AppData\\Local\\Temp\\ipykernel_284956\\2963386934.py:8: FutureWarning: The default value of numeric_only in DataFrameGroupBy.mean is deprecated. In a future version, numeric_only will default to False. Either specify numeric_only or select only columns which should be valid for the function.\n",
      "  \"category_means\": dataset.groupby(dataset[column]).mean()[target_name]\n"
     ]
    },
    {
     "name": "stdout",
     "output_type": "stream",
     "text": [
      "Fold number: 4, loss: 320.7591364892712\n"
     ]
    },
    {
     "name": "stderr",
     "output_type": "stream",
     "text": [
      "C:\\Users\\Aleksey Ryabykin\\AppData\\Local\\Temp\\ipykernel_284956\\2963386934.py:8: FutureWarning: The default value of numeric_only in DataFrameGroupBy.mean is deprecated. In a future version, numeric_only will default to False. Either specify numeric_only or select only columns which should be valid for the function.\n",
      "  \"category_means\": dataset.groupby(dataset[column]).mean()[target_name]\n",
      "C:\\Users\\Aleksey Ryabykin\\AppData\\Local\\Temp\\ipykernel_284956\\2963386934.py:8: FutureWarning: The default value of numeric_only in DataFrameGroupBy.mean is deprecated. In a future version, numeric_only will default to False. Either specify numeric_only or select only columns which should be valid for the function.\n",
      "  \"category_means\": dataset.groupby(dataset[column]).mean()[target_name]\n",
      "\u001b[32m[I 2022-12-21 00:35:14,018]\u001b[0m Trial 33 finished with value: 340.3430992258365 and parameters: {'x_0': 0.9762719981754091, 'x_1': 0.004554987363410822}. Best is trial 19 with value: 282.2052161524865.\u001b[0m\n"
     ]
    },
    {
     "name": "stdout",
     "output_type": "stream",
     "text": [
      "Fold number: 5, loss: 377.8382860318943\n",
      "Current weights: [0.15891541 0.14567436 0.69541023]\n"
     ]
    },
    {
     "name": "stderr",
     "output_type": "stream",
     "text": [
      "C:\\Users\\Aleksey Ryabykin\\AppData\\Local\\Temp\\ipykernel_284956\\2963386934.py:8: FutureWarning: The default value of numeric_only in DataFrameGroupBy.mean is deprecated. In a future version, numeric_only will default to False. Either specify numeric_only or select only columns which should be valid for the function.\n",
      "  \"category_means\": dataset.groupby(dataset[column]).mean()[target_name]\n",
      "C:\\Users\\Aleksey Ryabykin\\AppData\\Local\\Temp\\ipykernel_284956\\2963386934.py:8: FutureWarning: The default value of numeric_only in DataFrameGroupBy.mean is deprecated. In a future version, numeric_only will default to False. Either specify numeric_only or select only columns which should be valid for the function.\n",
      "  \"category_means\": dataset.groupby(dataset[column]).mean()[target_name]\n"
     ]
    },
    {
     "name": "stdout",
     "output_type": "stream",
     "text": [
      "Fold number: 1, loss: 283.4603065814348\n"
     ]
    },
    {
     "name": "stderr",
     "output_type": "stream",
     "text": [
      "C:\\Users\\Aleksey Ryabykin\\AppData\\Local\\Temp\\ipykernel_284956\\2963386934.py:8: FutureWarning: The default value of numeric_only in DataFrameGroupBy.mean is deprecated. In a future version, numeric_only will default to False. Either specify numeric_only or select only columns which should be valid for the function.\n",
      "  \"category_means\": dataset.groupby(dataset[column]).mean()[target_name]\n",
      "C:\\Users\\Aleksey Ryabykin\\AppData\\Local\\Temp\\ipykernel_284956\\2963386934.py:8: FutureWarning: The default value of numeric_only in DataFrameGroupBy.mean is deprecated. In a future version, numeric_only will default to False. Either specify numeric_only or select only columns which should be valid for the function.\n",
      "  \"category_means\": dataset.groupby(dataset[column]).mean()[target_name]\n"
     ]
    },
    {
     "name": "stdout",
     "output_type": "stream",
     "text": [
      "Fold number: 2, loss: 317.0512446650617\n"
     ]
    },
    {
     "name": "stderr",
     "output_type": "stream",
     "text": [
      "C:\\Users\\Aleksey Ryabykin\\AppData\\Local\\Temp\\ipykernel_284956\\2963386934.py:8: FutureWarning: The default value of numeric_only in DataFrameGroupBy.mean is deprecated. In a future version, numeric_only will default to False. Either specify numeric_only or select only columns which should be valid for the function.\n",
      "  \"category_means\": dataset.groupby(dataset[column]).mean()[target_name]\n",
      "C:\\Users\\Aleksey Ryabykin\\AppData\\Local\\Temp\\ipykernel_284956\\2963386934.py:8: FutureWarning: The default value of numeric_only in DataFrameGroupBy.mean is deprecated. In a future version, numeric_only will default to False. Either specify numeric_only or select only columns which should be valid for the function.\n",
      "  \"category_means\": dataset.groupby(dataset[column]).mean()[target_name]\n"
     ]
    },
    {
     "name": "stdout",
     "output_type": "stream",
     "text": [
      "Fold number: 3, loss: 319.4367747688006\n"
     ]
    },
    {
     "name": "stderr",
     "output_type": "stream",
     "text": [
      "C:\\Users\\Aleksey Ryabykin\\AppData\\Local\\Temp\\ipykernel_284956\\2963386934.py:8: FutureWarning: The default value of numeric_only in DataFrameGroupBy.mean is deprecated. In a future version, numeric_only will default to False. Either specify numeric_only or select only columns which should be valid for the function.\n",
      "  \"category_means\": dataset.groupby(dataset[column]).mean()[target_name]\n",
      "C:\\Users\\Aleksey Ryabykin\\AppData\\Local\\Temp\\ipykernel_284956\\2963386934.py:8: FutureWarning: The default value of numeric_only in DataFrameGroupBy.mean is deprecated. In a future version, numeric_only will default to False. Either specify numeric_only or select only columns which should be valid for the function.\n",
      "  \"category_means\": dataset.groupby(dataset[column]).mean()[target_name]\n"
     ]
    },
    {
     "name": "stdout",
     "output_type": "stream",
     "text": [
      "Fold number: 4, loss: 307.28572173810164\n"
     ]
    },
    {
     "name": "stderr",
     "output_type": "stream",
     "text": [
      "C:\\Users\\Aleksey Ryabykin\\AppData\\Local\\Temp\\ipykernel_284956\\2963386934.py:8: FutureWarning: The default value of numeric_only in DataFrameGroupBy.mean is deprecated. In a future version, numeric_only will default to False. Either specify numeric_only or select only columns which should be valid for the function.\n",
      "  \"category_means\": dataset.groupby(dataset[column]).mean()[target_name]\n",
      "C:\\Users\\Aleksey Ryabykin\\AppData\\Local\\Temp\\ipykernel_284956\\2963386934.py:8: FutureWarning: The default value of numeric_only in DataFrameGroupBy.mean is deprecated. In a future version, numeric_only will default to False. Either specify numeric_only or select only columns which should be valid for the function.\n",
      "  \"category_means\": dataset.groupby(dataset[column]).mean()[target_name]\n",
      "\u001b[32m[I 2022-12-21 00:35:36,474]\u001b[0m Trial 34 finished with value: 310.109541827179 and parameters: {'x_0': 0.15891541050429597, 'x_1': 0.14567435996493755}. Best is trial 19 with value: 282.2052161524865.\u001b[0m\n"
     ]
    },
    {
     "name": "stdout",
     "output_type": "stream",
     "text": [
      "Fold number: 5, loss: 323.3136613824961\n",
      "Current weights: [0.28776239 0.07845207 0.63378554]\n"
     ]
    },
    {
     "name": "stderr",
     "output_type": "stream",
     "text": [
      "C:\\Users\\Aleksey Ryabykin\\AppData\\Local\\Temp\\ipykernel_284956\\2963386934.py:8: FutureWarning: The default value of numeric_only in DataFrameGroupBy.mean is deprecated. In a future version, numeric_only will default to False. Either specify numeric_only or select only columns which should be valid for the function.\n",
      "  \"category_means\": dataset.groupby(dataset[column]).mean()[target_name]\n",
      "C:\\Users\\Aleksey Ryabykin\\AppData\\Local\\Temp\\ipykernel_284956\\2963386934.py:8: FutureWarning: The default value of numeric_only in DataFrameGroupBy.mean is deprecated. In a future version, numeric_only will default to False. Either specify numeric_only or select only columns which should be valid for the function.\n",
      "  \"category_means\": dataset.groupby(dataset[column]).mean()[target_name]\n"
     ]
    },
    {
     "name": "stdout",
     "output_type": "stream",
     "text": [
      "Fold number: 1, loss: 263.7565823633529\n"
     ]
    },
    {
     "name": "stderr",
     "output_type": "stream",
     "text": [
      "C:\\Users\\Aleksey Ryabykin\\AppData\\Local\\Temp\\ipykernel_284956\\2963386934.py:8: FutureWarning: The default value of numeric_only in DataFrameGroupBy.mean is deprecated. In a future version, numeric_only will default to False. Either specify numeric_only or select only columns which should be valid for the function.\n",
      "  \"category_means\": dataset.groupby(dataset[column]).mean()[target_name]\n",
      "C:\\Users\\Aleksey Ryabykin\\AppData\\Local\\Temp\\ipykernel_284956\\2963386934.py:8: FutureWarning: The default value of numeric_only in DataFrameGroupBy.mean is deprecated. In a future version, numeric_only will default to False. Either specify numeric_only or select only columns which should be valid for the function.\n",
      "  \"category_means\": dataset.groupby(dataset[column]).mean()[target_name]\n"
     ]
    },
    {
     "name": "stdout",
     "output_type": "stream",
     "text": [
      "Fold number: 2, loss: 265.1341566667016\n"
     ]
    },
    {
     "name": "stderr",
     "output_type": "stream",
     "text": [
      "C:\\Users\\Aleksey Ryabykin\\AppData\\Local\\Temp\\ipykernel_284956\\2963386934.py:8: FutureWarning: The default value of numeric_only in DataFrameGroupBy.mean is deprecated. In a future version, numeric_only will default to False. Either specify numeric_only or select only columns which should be valid for the function.\n",
      "  \"category_means\": dataset.groupby(dataset[column]).mean()[target_name]\n",
      "C:\\Users\\Aleksey Ryabykin\\AppData\\Local\\Temp\\ipykernel_284956\\2963386934.py:8: FutureWarning: The default value of numeric_only in DataFrameGroupBy.mean is deprecated. In a future version, numeric_only will default to False. Either specify numeric_only or select only columns which should be valid for the function.\n",
      "  \"category_means\": dataset.groupby(dataset[column]).mean()[target_name]\n"
     ]
    },
    {
     "name": "stdout",
     "output_type": "stream",
     "text": [
      "Fold number: 3, loss: 307.4492711344071\n"
     ]
    },
    {
     "name": "stderr",
     "output_type": "stream",
     "text": [
      "C:\\Users\\Aleksey Ryabykin\\AppData\\Local\\Temp\\ipykernel_284956\\2963386934.py:8: FutureWarning: The default value of numeric_only in DataFrameGroupBy.mean is deprecated. In a future version, numeric_only will default to False. Either specify numeric_only or select only columns which should be valid for the function.\n",
      "  \"category_means\": dataset.groupby(dataset[column]).mean()[target_name]\n",
      "C:\\Users\\Aleksey Ryabykin\\AppData\\Local\\Temp\\ipykernel_284956\\2963386934.py:8: FutureWarning: The default value of numeric_only in DataFrameGroupBy.mean is deprecated. In a future version, numeric_only will default to False. Either specify numeric_only or select only columns which should be valid for the function.\n",
      "  \"category_means\": dataset.groupby(dataset[column]).mean()[target_name]\n"
     ]
    },
    {
     "name": "stdout",
     "output_type": "stream",
     "text": [
      "Fold number: 4, loss: 304.30512889216453\n"
     ]
    },
    {
     "name": "stderr",
     "output_type": "stream",
     "text": [
      "C:\\Users\\Aleksey Ryabykin\\AppData\\Local\\Temp\\ipykernel_284956\\2963386934.py:8: FutureWarning: The default value of numeric_only in DataFrameGroupBy.mean is deprecated. In a future version, numeric_only will default to False. Either specify numeric_only or select only columns which should be valid for the function.\n",
      "  \"category_means\": dataset.groupby(dataset[column]).mean()[target_name]\n",
      "C:\\Users\\Aleksey Ryabykin\\AppData\\Local\\Temp\\ipykernel_284956\\2963386934.py:8: FutureWarning: The default value of numeric_only in DataFrameGroupBy.mean is deprecated. In a future version, numeric_only will default to False. Either specify numeric_only or select only columns which should be valid for the function.\n",
      "  \"category_means\": dataset.groupby(dataset[column]).mean()[target_name]\n",
      "\u001b[32m[I 2022-12-21 00:35:57,452]\u001b[0m Trial 35 finished with value: 295.0431847770576 and parameters: {'x_0': 0.28776238710679125, 'x_1': 0.07845207358066403}. Best is trial 19 with value: 282.2052161524865.\u001b[0m\n"
     ]
    },
    {
     "name": "stdout",
     "output_type": "stream",
     "text": [
      "Fold number: 5, loss: 334.57078482866206\n",
      "Current weights: [0.54389137 0.04190695 0.41420168]\n"
     ]
    },
    {
     "name": "stderr",
     "output_type": "stream",
     "text": [
      "C:\\Users\\Aleksey Ryabykin\\AppData\\Local\\Temp\\ipykernel_284956\\2963386934.py:8: FutureWarning: The default value of numeric_only in DataFrameGroupBy.mean is deprecated. In a future version, numeric_only will default to False. Either specify numeric_only or select only columns which should be valid for the function.\n",
      "  \"category_means\": dataset.groupby(dataset[column]).mean()[target_name]\n",
      "C:\\Users\\Aleksey Ryabykin\\AppData\\Local\\Temp\\ipykernel_284956\\2963386934.py:8: FutureWarning: The default value of numeric_only in DataFrameGroupBy.mean is deprecated. In a future version, numeric_only will default to False. Either specify numeric_only or select only columns which should be valid for the function.\n",
      "  \"category_means\": dataset.groupby(dataset[column]).mean()[target_name]\n"
     ]
    },
    {
     "name": "stdout",
     "output_type": "stream",
     "text": [
      "Fold number: 1, loss: 325.5519111463901\n"
     ]
    },
    {
     "name": "stderr",
     "output_type": "stream",
     "text": [
      "C:\\Users\\Aleksey Ryabykin\\AppData\\Local\\Temp\\ipykernel_284956\\2963386934.py:8: FutureWarning: The default value of numeric_only in DataFrameGroupBy.mean is deprecated. In a future version, numeric_only will default to False. Either specify numeric_only or select only columns which should be valid for the function.\n",
      "  \"category_means\": dataset.groupby(dataset[column]).mean()[target_name]\n",
      "C:\\Users\\Aleksey Ryabykin\\AppData\\Local\\Temp\\ipykernel_284956\\2963386934.py:8: FutureWarning: The default value of numeric_only in DataFrameGroupBy.mean is deprecated. In a future version, numeric_only will default to False. Either specify numeric_only or select only columns which should be valid for the function.\n",
      "  \"category_means\": dataset.groupby(dataset[column]).mean()[target_name]\n"
     ]
    },
    {
     "name": "stdout",
     "output_type": "stream",
     "text": [
      "Fold number: 2, loss: 311.9711792825802\n"
     ]
    },
    {
     "name": "stderr",
     "output_type": "stream",
     "text": [
      "C:\\Users\\Aleksey Ryabykin\\AppData\\Local\\Temp\\ipykernel_284956\\2963386934.py:8: FutureWarning: The default value of numeric_only in DataFrameGroupBy.mean is deprecated. In a future version, numeric_only will default to False. Either specify numeric_only or select only columns which should be valid for the function.\n",
      "  \"category_means\": dataset.groupby(dataset[column]).mean()[target_name]\n",
      "C:\\Users\\Aleksey Ryabykin\\AppData\\Local\\Temp\\ipykernel_284956\\2963386934.py:8: FutureWarning: The default value of numeric_only in DataFrameGroupBy.mean is deprecated. In a future version, numeric_only will default to False. Either specify numeric_only or select only columns which should be valid for the function.\n",
      "  \"category_means\": dataset.groupby(dataset[column]).mean()[target_name]\n"
     ]
    },
    {
     "name": "stdout",
     "output_type": "stream",
     "text": [
      "Fold number: 3, loss: 291.70802067909455\n"
     ]
    },
    {
     "name": "stderr",
     "output_type": "stream",
     "text": [
      "C:\\Users\\Aleksey Ryabykin\\AppData\\Local\\Temp\\ipykernel_284956\\2963386934.py:8: FutureWarning: The default value of numeric_only in DataFrameGroupBy.mean is deprecated. In a future version, numeric_only will default to False. Either specify numeric_only or select only columns which should be valid for the function.\n",
      "  \"category_means\": dataset.groupby(dataset[column]).mean()[target_name]\n",
      "C:\\Users\\Aleksey Ryabykin\\AppData\\Local\\Temp\\ipykernel_284956\\2963386934.py:8: FutureWarning: The default value of numeric_only in DataFrameGroupBy.mean is deprecated. In a future version, numeric_only will default to False. Either specify numeric_only or select only columns which should be valid for the function.\n",
      "  \"category_means\": dataset.groupby(dataset[column]).mean()[target_name]\n"
     ]
    },
    {
     "name": "stdout",
     "output_type": "stream",
     "text": [
      "Fold number: 4, loss: 285.82652078666126\n"
     ]
    },
    {
     "name": "stderr",
     "output_type": "stream",
     "text": [
      "C:\\Users\\Aleksey Ryabykin\\AppData\\Local\\Temp\\ipykernel_284956\\2963386934.py:8: FutureWarning: The default value of numeric_only in DataFrameGroupBy.mean is deprecated. In a future version, numeric_only will default to False. Either specify numeric_only or select only columns which should be valid for the function.\n",
      "  \"category_means\": dataset.groupby(dataset[column]).mean()[target_name]\n",
      "C:\\Users\\Aleksey Ryabykin\\AppData\\Local\\Temp\\ipykernel_284956\\2963386934.py:8: FutureWarning: The default value of numeric_only in DataFrameGroupBy.mean is deprecated. In a future version, numeric_only will default to False. Either specify numeric_only or select only columns which should be valid for the function.\n",
      "  \"category_means\": dataset.groupby(dataset[column]).mean()[target_name]\n",
      "\u001b[32m[I 2022-12-21 00:36:18,864]\u001b[0m Trial 36 finished with value: 301.42436430452875 and parameters: {'x_0': 0.5438913700288486, 'x_1': 0.041906947886861876}. Best is trial 19 with value: 282.2052161524865.\u001b[0m\n"
     ]
    },
    {
     "name": "stdout",
     "output_type": "stream",
     "text": [
      "Fold number: 5, loss: 292.06418962791787\n",
      "Current weights: [0.40178204 0.08254438 0.51567358]\n"
     ]
    },
    {
     "name": "stderr",
     "output_type": "stream",
     "text": [
      "C:\\Users\\Aleksey Ryabykin\\AppData\\Local\\Temp\\ipykernel_284956\\2963386934.py:8: FutureWarning: The default value of numeric_only in DataFrameGroupBy.mean is deprecated. In a future version, numeric_only will default to False. Either specify numeric_only or select only columns which should be valid for the function.\n",
      "  \"category_means\": dataset.groupby(dataset[column]).mean()[target_name]\n",
      "C:\\Users\\Aleksey Ryabykin\\AppData\\Local\\Temp\\ipykernel_284956\\2963386934.py:8: FutureWarning: The default value of numeric_only in DataFrameGroupBy.mean is deprecated. In a future version, numeric_only will default to False. Either specify numeric_only or select only columns which should be valid for the function.\n",
      "  \"category_means\": dataset.groupby(dataset[column]).mean()[target_name]\n"
     ]
    },
    {
     "name": "stdout",
     "output_type": "stream",
     "text": [
      "Fold number: 1, loss: 266.36117868263125\n"
     ]
    },
    {
     "name": "stderr",
     "output_type": "stream",
     "text": [
      "C:\\Users\\Aleksey Ryabykin\\AppData\\Local\\Temp\\ipykernel_284956\\2963386934.py:8: FutureWarning: The default value of numeric_only in DataFrameGroupBy.mean is deprecated. In a future version, numeric_only will default to False. Either specify numeric_only or select only columns which should be valid for the function.\n",
      "  \"category_means\": dataset.groupby(dataset[column]).mean()[target_name]\n",
      "C:\\Users\\Aleksey Ryabykin\\AppData\\Local\\Temp\\ipykernel_284956\\2963386934.py:8: FutureWarning: The default value of numeric_only in DataFrameGroupBy.mean is deprecated. In a future version, numeric_only will default to False. Either specify numeric_only or select only columns which should be valid for the function.\n",
      "  \"category_means\": dataset.groupby(dataset[column]).mean()[target_name]\n"
     ]
    },
    {
     "name": "stdout",
     "output_type": "stream",
     "text": [
      "Fold number: 2, loss: 295.1698075662399\n"
     ]
    },
    {
     "name": "stderr",
     "output_type": "stream",
     "text": [
      "C:\\Users\\Aleksey Ryabykin\\AppData\\Local\\Temp\\ipykernel_284956\\2963386934.py:8: FutureWarning: The default value of numeric_only in DataFrameGroupBy.mean is deprecated. In a future version, numeric_only will default to False. Either specify numeric_only or select only columns which should be valid for the function.\n",
      "  \"category_means\": dataset.groupby(dataset[column]).mean()[target_name]\n",
      "C:\\Users\\Aleksey Ryabykin\\AppData\\Local\\Temp\\ipykernel_284956\\2963386934.py:8: FutureWarning: The default value of numeric_only in DataFrameGroupBy.mean is deprecated. In a future version, numeric_only will default to False. Either specify numeric_only or select only columns which should be valid for the function.\n",
      "  \"category_means\": dataset.groupby(dataset[column]).mean()[target_name]\n"
     ]
    },
    {
     "name": "stdout",
     "output_type": "stream",
     "text": [
      "Fold number: 3, loss: 296.37125610649775\n"
     ]
    },
    {
     "name": "stderr",
     "output_type": "stream",
     "text": [
      "C:\\Users\\Aleksey Ryabykin\\AppData\\Local\\Temp\\ipykernel_284956\\2963386934.py:8: FutureWarning: The default value of numeric_only in DataFrameGroupBy.mean is deprecated. In a future version, numeric_only will default to False. Either specify numeric_only or select only columns which should be valid for the function.\n",
      "  \"category_means\": dataset.groupby(dataset[column]).mean()[target_name]\n",
      "C:\\Users\\Aleksey Ryabykin\\AppData\\Local\\Temp\\ipykernel_284956\\2963386934.py:8: FutureWarning: The default value of numeric_only in DataFrameGroupBy.mean is deprecated. In a future version, numeric_only will default to False. Either specify numeric_only or select only columns which should be valid for the function.\n",
      "  \"category_means\": dataset.groupby(dataset[column]).mean()[target_name]\n"
     ]
    },
    {
     "name": "stdout",
     "output_type": "stream",
     "text": [
      "Fold number: 4, loss: 280.64565609208574\n"
     ]
    },
    {
     "name": "stderr",
     "output_type": "stream",
     "text": [
      "C:\\Users\\Aleksey Ryabykin\\AppData\\Local\\Temp\\ipykernel_284956\\2963386934.py:8: FutureWarning: The default value of numeric_only in DataFrameGroupBy.mean is deprecated. In a future version, numeric_only will default to False. Either specify numeric_only or select only columns which should be valid for the function.\n",
      "  \"category_means\": dataset.groupby(dataset[column]).mean()[target_name]\n",
      "C:\\Users\\Aleksey Ryabykin\\AppData\\Local\\Temp\\ipykernel_284956\\2963386934.py:8: FutureWarning: The default value of numeric_only in DataFrameGroupBy.mean is deprecated. In a future version, numeric_only will default to False. Either specify numeric_only or select only columns which should be valid for the function.\n",
      "  \"category_means\": dataset.groupby(dataset[column]).mean()[target_name]\n",
      "\u001b[32m[I 2022-12-21 00:36:40,097]\u001b[0m Trial 37 finished with value: 298.4934235141075 and parameters: {'x_0': 0.4017820390870902, 'x_1': 0.0825443806452442}. Best is trial 19 with value: 282.2052161524865.\u001b[0m\n"
     ]
    },
    {
     "name": "stdout",
     "output_type": "stream",
     "text": [
      "Fold number: 5, loss: 353.919219123083\n",
      "Current weights: [0.6003445  0.03043253 0.36922297]\n"
     ]
    },
    {
     "name": "stderr",
     "output_type": "stream",
     "text": [
      "C:\\Users\\Aleksey Ryabykin\\AppData\\Local\\Temp\\ipykernel_284956\\2963386934.py:8: FutureWarning: The default value of numeric_only in DataFrameGroupBy.mean is deprecated. In a future version, numeric_only will default to False. Either specify numeric_only or select only columns which should be valid for the function.\n",
      "  \"category_means\": dataset.groupby(dataset[column]).mean()[target_name]\n",
      "C:\\Users\\Aleksey Ryabykin\\AppData\\Local\\Temp\\ipykernel_284956\\2963386934.py:8: FutureWarning: The default value of numeric_only in DataFrameGroupBy.mean is deprecated. In a future version, numeric_only will default to False. Either specify numeric_only or select only columns which should be valid for the function.\n",
      "  \"category_means\": dataset.groupby(dataset[column]).mean()[target_name]\n"
     ]
    },
    {
     "name": "stdout",
     "output_type": "stream",
     "text": [
      "Fold number: 1, loss: 311.9074722844317\n"
     ]
    },
    {
     "name": "stderr",
     "output_type": "stream",
     "text": [
      "C:\\Users\\Aleksey Ryabykin\\AppData\\Local\\Temp\\ipykernel_284956\\2963386934.py:8: FutureWarning: The default value of numeric_only in DataFrameGroupBy.mean is deprecated. In a future version, numeric_only will default to False. Either specify numeric_only or select only columns which should be valid for the function.\n",
      "  \"category_means\": dataset.groupby(dataset[column]).mean()[target_name]\n",
      "C:\\Users\\Aleksey Ryabykin\\AppData\\Local\\Temp\\ipykernel_284956\\2963386934.py:8: FutureWarning: The default value of numeric_only in DataFrameGroupBy.mean is deprecated. In a future version, numeric_only will default to False. Either specify numeric_only or select only columns which should be valid for the function.\n",
      "  \"category_means\": dataset.groupby(dataset[column]).mean()[target_name]\n"
     ]
    },
    {
     "name": "stdout",
     "output_type": "stream",
     "text": [
      "Fold number: 2, loss: 274.9869782893206\n"
     ]
    },
    {
     "name": "stderr",
     "output_type": "stream",
     "text": [
      "C:\\Users\\Aleksey Ryabykin\\AppData\\Local\\Temp\\ipykernel_284956\\2963386934.py:8: FutureWarning: The default value of numeric_only in DataFrameGroupBy.mean is deprecated. In a future version, numeric_only will default to False. Either specify numeric_only or select only columns which should be valid for the function.\n",
      "  \"category_means\": dataset.groupby(dataset[column]).mean()[target_name]\n",
      "C:\\Users\\Aleksey Ryabykin\\AppData\\Local\\Temp\\ipykernel_284956\\2963386934.py:8: FutureWarning: The default value of numeric_only in DataFrameGroupBy.mean is deprecated. In a future version, numeric_only will default to False. Either specify numeric_only or select only columns which should be valid for the function.\n",
      "  \"category_means\": dataset.groupby(dataset[column]).mean()[target_name]\n"
     ]
    },
    {
     "name": "stdout",
     "output_type": "stream",
     "text": [
      "Fold number: 3, loss: 272.9393877611094\n"
     ]
    },
    {
     "name": "stderr",
     "output_type": "stream",
     "text": [
      "C:\\Users\\Aleksey Ryabykin\\AppData\\Local\\Temp\\ipykernel_284956\\2963386934.py:8: FutureWarning: The default value of numeric_only in DataFrameGroupBy.mean is deprecated. In a future version, numeric_only will default to False. Either specify numeric_only or select only columns which should be valid for the function.\n",
      "  \"category_means\": dataset.groupby(dataset[column]).mean()[target_name]\n",
      "C:\\Users\\Aleksey Ryabykin\\AppData\\Local\\Temp\\ipykernel_284956\\2963386934.py:8: FutureWarning: The default value of numeric_only in DataFrameGroupBy.mean is deprecated. In a future version, numeric_only will default to False. Either specify numeric_only or select only columns which should be valid for the function.\n",
      "  \"category_means\": dataset.groupby(dataset[column]).mean()[target_name]\n"
     ]
    },
    {
     "name": "stdout",
     "output_type": "stream",
     "text": [
      "Fold number: 4, loss: 360.4514089807574\n"
     ]
    },
    {
     "name": "stderr",
     "output_type": "stream",
     "text": [
      "C:\\Users\\Aleksey Ryabykin\\AppData\\Local\\Temp\\ipykernel_284956\\2963386934.py:8: FutureWarning: The default value of numeric_only in DataFrameGroupBy.mean is deprecated. In a future version, numeric_only will default to False. Either specify numeric_only or select only columns which should be valid for the function.\n",
      "  \"category_means\": dataset.groupby(dataset[column]).mean()[target_name]\n",
      "C:\\Users\\Aleksey Ryabykin\\AppData\\Local\\Temp\\ipykernel_284956\\2963386934.py:8: FutureWarning: The default value of numeric_only in DataFrameGroupBy.mean is deprecated. In a future version, numeric_only will default to False. Either specify numeric_only or select only columns which should be valid for the function.\n",
      "  \"category_means\": dataset.groupby(dataset[column]).mean()[target_name]\n",
      "\u001b[32m[I 2022-12-21 00:36:59,954]\u001b[0m Trial 38 finished with value: 303.1364174404438 and parameters: {'x_0': 0.6003445010284697, 'x_1': 0.030432526012148117}. Best is trial 19 with value: 282.2052161524865.\u001b[0m\n"
     ]
    },
    {
     "name": "stdout",
     "output_type": "stream",
     "text": [
      "Fold number: 5, loss: 295.39683988659976\n",
      "Current weights: [0.08129729 0.27873704 0.63996567]\n"
     ]
    },
    {
     "name": "stderr",
     "output_type": "stream",
     "text": [
      "C:\\Users\\Aleksey Ryabykin\\AppData\\Local\\Temp\\ipykernel_284956\\2963386934.py:8: FutureWarning: The default value of numeric_only in DataFrameGroupBy.mean is deprecated. In a future version, numeric_only will default to False. Either specify numeric_only or select only columns which should be valid for the function.\n",
      "  \"category_means\": dataset.groupby(dataset[column]).mean()[target_name]\n",
      "C:\\Users\\Aleksey Ryabykin\\AppData\\Local\\Temp\\ipykernel_284956\\2963386934.py:8: FutureWarning: The default value of numeric_only in DataFrameGroupBy.mean is deprecated. In a future version, numeric_only will default to False. Either specify numeric_only or select only columns which should be valid for the function.\n",
      "  \"category_means\": dataset.groupby(dataset[column]).mean()[target_name]\n"
     ]
    },
    {
     "name": "stdout",
     "output_type": "stream",
     "text": [
      "Fold number: 1, loss: 308.75508078078155\n"
     ]
    },
    {
     "name": "stderr",
     "output_type": "stream",
     "text": [
      "C:\\Users\\Aleksey Ryabykin\\AppData\\Local\\Temp\\ipykernel_284956\\2963386934.py:8: FutureWarning: The default value of numeric_only in DataFrameGroupBy.mean is deprecated. In a future version, numeric_only will default to False. Either specify numeric_only or select only columns which should be valid for the function.\n",
      "  \"category_means\": dataset.groupby(dataset[column]).mean()[target_name]\n",
      "C:\\Users\\Aleksey Ryabykin\\AppData\\Local\\Temp\\ipykernel_284956\\2963386934.py:8: FutureWarning: The default value of numeric_only in DataFrameGroupBy.mean is deprecated. In a future version, numeric_only will default to False. Either specify numeric_only or select only columns which should be valid for the function.\n",
      "  \"category_means\": dataset.groupby(dataset[column]).mean()[target_name]\n"
     ]
    },
    {
     "name": "stdout",
     "output_type": "stream",
     "text": [
      "Fold number: 2, loss: 283.40383509197926\n"
     ]
    },
    {
     "name": "stderr",
     "output_type": "stream",
     "text": [
      "C:\\Users\\Aleksey Ryabykin\\AppData\\Local\\Temp\\ipykernel_284956\\2963386934.py:8: FutureWarning: The default value of numeric_only in DataFrameGroupBy.mean is deprecated. In a future version, numeric_only will default to False. Either specify numeric_only or select only columns which should be valid for the function.\n",
      "  \"category_means\": dataset.groupby(dataset[column]).mean()[target_name]\n",
      "C:\\Users\\Aleksey Ryabykin\\AppData\\Local\\Temp\\ipykernel_284956\\2963386934.py:8: FutureWarning: The default value of numeric_only in DataFrameGroupBy.mean is deprecated. In a future version, numeric_only will default to False. Either specify numeric_only or select only columns which should be valid for the function.\n",
      "  \"category_means\": dataset.groupby(dataset[column]).mean()[target_name]\n"
     ]
    },
    {
     "name": "stdout",
     "output_type": "stream",
     "text": [
      "Fold number: 3, loss: 304.7357174610022\n"
     ]
    },
    {
     "name": "stderr",
     "output_type": "stream",
     "text": [
      "C:\\Users\\Aleksey Ryabykin\\AppData\\Local\\Temp\\ipykernel_284956\\2963386934.py:8: FutureWarning: The default value of numeric_only in DataFrameGroupBy.mean is deprecated. In a future version, numeric_only will default to False. Either specify numeric_only or select only columns which should be valid for the function.\n",
      "  \"category_means\": dataset.groupby(dataset[column]).mean()[target_name]\n",
      "C:\\Users\\Aleksey Ryabykin\\AppData\\Local\\Temp\\ipykernel_284956\\2963386934.py:8: FutureWarning: The default value of numeric_only in DataFrameGroupBy.mean is deprecated. In a future version, numeric_only will default to False. Either specify numeric_only or select only columns which should be valid for the function.\n",
      "  \"category_means\": dataset.groupby(dataset[column]).mean()[target_name]\n"
     ]
    },
    {
     "name": "stdout",
     "output_type": "stream",
     "text": [
      "Fold number: 4, loss: 312.05942640023045\n"
     ]
    },
    {
     "name": "stderr",
     "output_type": "stream",
     "text": [
      "C:\\Users\\Aleksey Ryabykin\\AppData\\Local\\Temp\\ipykernel_284956\\2963386934.py:8: FutureWarning: The default value of numeric_only in DataFrameGroupBy.mean is deprecated. In a future version, numeric_only will default to False. Either specify numeric_only or select only columns which should be valid for the function.\n",
      "  \"category_means\": dataset.groupby(dataset[column]).mean()[target_name]\n",
      "C:\\Users\\Aleksey Ryabykin\\AppData\\Local\\Temp\\ipykernel_284956\\2963386934.py:8: FutureWarning: The default value of numeric_only in DataFrameGroupBy.mean is deprecated. In a future version, numeric_only will default to False. Either specify numeric_only or select only columns which should be valid for the function.\n",
      "  \"category_means\": dataset.groupby(dataset[column]).mean()[target_name]\n",
      "\u001b[32m[I 2022-12-21 00:37:19,850]\u001b[0m Trial 39 finished with value: 310.534982713884 and parameters: {'x_0': 0.08129728897631894, 'x_1': 0.2787370447243068}. Best is trial 19 with value: 282.2052161524865.\u001b[0m\n"
     ]
    },
    {
     "name": "stdout",
     "output_type": "stream",
     "text": [
      "Fold number: 5, loss: 343.7208538354265\n",
      "Current weights: [0.86344075 0.04805847 0.08850078]\n"
     ]
    },
    {
     "name": "stderr",
     "output_type": "stream",
     "text": [
      "c:\\Users\\Aleksey Ryabykin\\AppData\\Local\\Programs\\Python\\Python310\\lib\\site-packages\\optuna\\samplers\\_tpe\\parzen_estimator.py:193: RuntimeWarning: divide by zero encountered in divide\n",
      "  coefficient = 1 / z / p_accept\n",
      "C:\\Users\\Aleksey Ryabykin\\AppData\\Local\\Temp\\ipykernel_284956\\2963386934.py:8: FutureWarning: The default value of numeric_only in DataFrameGroupBy.mean is deprecated. In a future version, numeric_only will default to False. Either specify numeric_only or select only columns which should be valid for the function.\n",
      "  \"category_means\": dataset.groupby(dataset[column]).mean()[target_name]\n",
      "C:\\Users\\Aleksey Ryabykin\\AppData\\Local\\Temp\\ipykernel_284956\\2963386934.py:8: FutureWarning: The default value of numeric_only in DataFrameGroupBy.mean is deprecated. In a future version, numeric_only will default to False. Either specify numeric_only or select only columns which should be valid for the function.\n",
      "  \"category_means\": dataset.groupby(dataset[column]).mean()[target_name]\n"
     ]
    },
    {
     "name": "stdout",
     "output_type": "stream",
     "text": [
      "Fold number: 1, loss: 329.6713722739302\n"
     ]
    },
    {
     "name": "stderr",
     "output_type": "stream",
     "text": [
      "C:\\Users\\Aleksey Ryabykin\\AppData\\Local\\Temp\\ipykernel_284956\\2963386934.py:8: FutureWarning: The default value of numeric_only in DataFrameGroupBy.mean is deprecated. In a future version, numeric_only will default to False. Either specify numeric_only or select only columns which should be valid for the function.\n",
      "  \"category_means\": dataset.groupby(dataset[column]).mean()[target_name]\n",
      "C:\\Users\\Aleksey Ryabykin\\AppData\\Local\\Temp\\ipykernel_284956\\2963386934.py:8: FutureWarning: The default value of numeric_only in DataFrameGroupBy.mean is deprecated. In a future version, numeric_only will default to False. Either specify numeric_only or select only columns which should be valid for the function.\n",
      "  \"category_means\": dataset.groupby(dataset[column]).mean()[target_name]\n"
     ]
    },
    {
     "name": "stdout",
     "output_type": "stream",
     "text": [
      "Fold number: 2, loss: 331.3417601216246\n"
     ]
    },
    {
     "name": "stderr",
     "output_type": "stream",
     "text": [
      "C:\\Users\\Aleksey Ryabykin\\AppData\\Local\\Temp\\ipykernel_284956\\2963386934.py:8: FutureWarning: The default value of numeric_only in DataFrameGroupBy.mean is deprecated. In a future version, numeric_only will default to False. Either specify numeric_only or select only columns which should be valid for the function.\n",
      "  \"category_means\": dataset.groupby(dataset[column]).mean()[target_name]\n",
      "C:\\Users\\Aleksey Ryabykin\\AppData\\Local\\Temp\\ipykernel_284956\\2963386934.py:8: FutureWarning: The default value of numeric_only in DataFrameGroupBy.mean is deprecated. In a future version, numeric_only will default to False. Either specify numeric_only or select only columns which should be valid for the function.\n",
      "  \"category_means\": dataset.groupby(dataset[column]).mean()[target_name]\n"
     ]
    },
    {
     "name": "stdout",
     "output_type": "stream",
     "text": [
      "Fold number: 3, loss: 392.5157874435389\n"
     ]
    },
    {
     "name": "stderr",
     "output_type": "stream",
     "text": [
      "C:\\Users\\Aleksey Ryabykin\\AppData\\Local\\Temp\\ipykernel_284956\\2963386934.py:8: FutureWarning: The default value of numeric_only in DataFrameGroupBy.mean is deprecated. In a future version, numeric_only will default to False. Either specify numeric_only or select only columns which should be valid for the function.\n",
      "  \"category_means\": dataset.groupby(dataset[column]).mean()[target_name]\n",
      "C:\\Users\\Aleksey Ryabykin\\AppData\\Local\\Temp\\ipykernel_284956\\2963386934.py:8: FutureWarning: The default value of numeric_only in DataFrameGroupBy.mean is deprecated. In a future version, numeric_only will default to False. Either specify numeric_only or select only columns which should be valid for the function.\n",
      "  \"category_means\": dataset.groupby(dataset[column]).mean()[target_name]\n"
     ]
    },
    {
     "name": "stdout",
     "output_type": "stream",
     "text": [
      "Fold number: 4, loss: 321.46791570449824\n"
     ]
    },
    {
     "name": "stderr",
     "output_type": "stream",
     "text": [
      "C:\\Users\\Aleksey Ryabykin\\AppData\\Local\\Temp\\ipykernel_284956\\2963386934.py:8: FutureWarning: The default value of numeric_only in DataFrameGroupBy.mean is deprecated. In a future version, numeric_only will default to False. Either specify numeric_only or select only columns which should be valid for the function.\n",
      "  \"category_means\": dataset.groupby(dataset[column]).mean()[target_name]\n",
      "C:\\Users\\Aleksey Ryabykin\\AppData\\Local\\Temp\\ipykernel_284956\\2963386934.py:8: FutureWarning: The default value of numeric_only in DataFrameGroupBy.mean is deprecated. In a future version, numeric_only will default to False. Either specify numeric_only or select only columns which should be valid for the function.\n",
      "  \"category_means\": dataset.groupby(dataset[column]).mean()[target_name]\n",
      "\u001b[32m[I 2022-12-21 00:37:41,892]\u001b[0m Trial 40 finished with value: 337.23107023791823 and parameters: {'x_0': 0.863440751378915, 'x_1': 0.04805846618934828}. Best is trial 19 with value: 282.2052161524865.\u001b[0m\n"
     ]
    },
    {
     "name": "stdout",
     "output_type": "stream",
     "text": [
      "Fold number: 5, loss: 311.1585156459991\n",
      "Current weights: [2.16896960e-01 1.45875492e-04 7.82957165e-01]\n"
     ]
    },
    {
     "name": "stderr",
     "output_type": "stream",
     "text": [
      "C:\\Users\\Aleksey Ryabykin\\AppData\\Local\\Temp\\ipykernel_284956\\2963386934.py:8: FutureWarning: The default value of numeric_only in DataFrameGroupBy.mean is deprecated. In a future version, numeric_only will default to False. Either specify numeric_only or select only columns which should be valid for the function.\n",
      "  \"category_means\": dataset.groupby(dataset[column]).mean()[target_name]\n",
      "C:\\Users\\Aleksey Ryabykin\\AppData\\Local\\Temp\\ipykernel_284956\\2963386934.py:8: FutureWarning: The default value of numeric_only in DataFrameGroupBy.mean is deprecated. In a future version, numeric_only will default to False. Either specify numeric_only or select only columns which should be valid for the function.\n",
      "  \"category_means\": dataset.groupby(dataset[column]).mean()[target_name]\n"
     ]
    },
    {
     "name": "stdout",
     "output_type": "stream",
     "text": [
      "Fold number: 1, loss: 287.70114426859004\n"
     ]
    },
    {
     "name": "stderr",
     "output_type": "stream",
     "text": [
      "C:\\Users\\Aleksey Ryabykin\\AppData\\Local\\Temp\\ipykernel_284956\\2963386934.py:8: FutureWarning: The default value of numeric_only in DataFrameGroupBy.mean is deprecated. In a future version, numeric_only will default to False. Either specify numeric_only or select only columns which should be valid for the function.\n",
      "  \"category_means\": dataset.groupby(dataset[column]).mean()[target_name]\n",
      "C:\\Users\\Aleksey Ryabykin\\AppData\\Local\\Temp\\ipykernel_284956\\2963386934.py:8: FutureWarning: The default value of numeric_only in DataFrameGroupBy.mean is deprecated. In a future version, numeric_only will default to False. Either specify numeric_only or select only columns which should be valid for the function.\n",
      "  \"category_means\": dataset.groupby(dataset[column]).mean()[target_name]\n"
     ]
    },
    {
     "name": "stdout",
     "output_type": "stream",
     "text": [
      "Fold number: 2, loss: 292.7114494296981\n"
     ]
    },
    {
     "name": "stderr",
     "output_type": "stream",
     "text": [
      "C:\\Users\\Aleksey Ryabykin\\AppData\\Local\\Temp\\ipykernel_284956\\2963386934.py:8: FutureWarning: The default value of numeric_only in DataFrameGroupBy.mean is deprecated. In a future version, numeric_only will default to False. Either specify numeric_only or select only columns which should be valid for the function.\n",
      "  \"category_means\": dataset.groupby(dataset[column]).mean()[target_name]\n",
      "C:\\Users\\Aleksey Ryabykin\\AppData\\Local\\Temp\\ipykernel_284956\\2963386934.py:8: FutureWarning: The default value of numeric_only in DataFrameGroupBy.mean is deprecated. In a future version, numeric_only will default to False. Either specify numeric_only or select only columns which should be valid for the function.\n",
      "  \"category_means\": dataset.groupby(dataset[column]).mean()[target_name]\n"
     ]
    },
    {
     "name": "stdout",
     "output_type": "stream",
     "text": [
      "Fold number: 3, loss: 271.1790247941797\n"
     ]
    },
    {
     "name": "stderr",
     "output_type": "stream",
     "text": [
      "C:\\Users\\Aleksey Ryabykin\\AppData\\Local\\Temp\\ipykernel_284956\\2963386934.py:8: FutureWarning: The default value of numeric_only in DataFrameGroupBy.mean is deprecated. In a future version, numeric_only will default to False. Either specify numeric_only or select only columns which should be valid for the function.\n",
      "  \"category_means\": dataset.groupby(dataset[column]).mean()[target_name]\n",
      "C:\\Users\\Aleksey Ryabykin\\AppData\\Local\\Temp\\ipykernel_284956\\2963386934.py:8: FutureWarning: The default value of numeric_only in DataFrameGroupBy.mean is deprecated. In a future version, numeric_only will default to False. Either specify numeric_only or select only columns which should be valid for the function.\n",
      "  \"category_means\": dataset.groupby(dataset[column]).mean()[target_name]\n"
     ]
    },
    {
     "name": "stdout",
     "output_type": "stream",
     "text": [
      "Fold number: 4, loss: 327.26014197000154\n"
     ]
    },
    {
     "name": "stderr",
     "output_type": "stream",
     "text": [
      "C:\\Users\\Aleksey Ryabykin\\AppData\\Local\\Temp\\ipykernel_284956\\2963386934.py:8: FutureWarning: The default value of numeric_only in DataFrameGroupBy.mean is deprecated. In a future version, numeric_only will default to False. Either specify numeric_only or select only columns which should be valid for the function.\n",
      "  \"category_means\": dataset.groupby(dataset[column]).mean()[target_name]\n",
      "C:\\Users\\Aleksey Ryabykin\\AppData\\Local\\Temp\\ipykernel_284956\\2963386934.py:8: FutureWarning: The default value of numeric_only in DataFrameGroupBy.mean is deprecated. In a future version, numeric_only will default to False. Either specify numeric_only or select only columns which should be valid for the function.\n",
      "  \"category_means\": dataset.groupby(dataset[column]).mean()[target_name]\n",
      "\u001b[32m[I 2022-12-21 00:38:03,113]\u001b[0m Trial 41 finished with value: 292.86333160737547 and parameters: {'x_0': 0.21689695953933733, 'x_1': 0.00014587549233199284}. Best is trial 19 with value: 282.2052161524865.\u001b[0m\n"
     ]
    },
    {
     "name": "stdout",
     "output_type": "stream",
     "text": [
      "Fold number: 5, loss: 285.46489757440804\n",
      "Current weights: [0.23937751 0.14419088 0.61643161]\n"
     ]
    },
    {
     "name": "stderr",
     "output_type": "stream",
     "text": [
      "C:\\Users\\Aleksey Ryabykin\\AppData\\Local\\Temp\\ipykernel_284956\\2963386934.py:8: FutureWarning: The default value of numeric_only in DataFrameGroupBy.mean is deprecated. In a future version, numeric_only will default to False. Either specify numeric_only or select only columns which should be valid for the function.\n",
      "  \"category_means\": dataset.groupby(dataset[column]).mean()[target_name]\n",
      "C:\\Users\\Aleksey Ryabykin\\AppData\\Local\\Temp\\ipykernel_284956\\2963386934.py:8: FutureWarning: The default value of numeric_only in DataFrameGroupBy.mean is deprecated. In a future version, numeric_only will default to False. Either specify numeric_only or select only columns which should be valid for the function.\n",
      "  \"category_means\": dataset.groupby(dataset[column]).mean()[target_name]\n"
     ]
    },
    {
     "name": "stdout",
     "output_type": "stream",
     "text": [
      "Fold number: 1, loss: 256.7971963590698\n"
     ]
    },
    {
     "name": "stderr",
     "output_type": "stream",
     "text": [
      "C:\\Users\\Aleksey Ryabykin\\AppData\\Local\\Temp\\ipykernel_284956\\2963386934.py:8: FutureWarning: The default value of numeric_only in DataFrameGroupBy.mean is deprecated. In a future version, numeric_only will default to False. Either specify numeric_only or select only columns which should be valid for the function.\n",
      "  \"category_means\": dataset.groupby(dataset[column]).mean()[target_name]\n",
      "C:\\Users\\Aleksey Ryabykin\\AppData\\Local\\Temp\\ipykernel_284956\\2963386934.py:8: FutureWarning: The default value of numeric_only in DataFrameGroupBy.mean is deprecated. In a future version, numeric_only will default to False. Either specify numeric_only or select only columns which should be valid for the function.\n",
      "  \"category_means\": dataset.groupby(dataset[column]).mean()[target_name]\n"
     ]
    },
    {
     "name": "stdout",
     "output_type": "stream",
     "text": [
      "Fold number: 2, loss: 347.7409325337804\n"
     ]
    },
    {
     "name": "stderr",
     "output_type": "stream",
     "text": [
      "C:\\Users\\Aleksey Ryabykin\\AppData\\Local\\Temp\\ipykernel_284956\\2963386934.py:8: FutureWarning: The default value of numeric_only in DataFrameGroupBy.mean is deprecated. In a future version, numeric_only will default to False. Either specify numeric_only or select only columns which should be valid for the function.\n",
      "  \"category_means\": dataset.groupby(dataset[column]).mean()[target_name]\n",
      "C:\\Users\\Aleksey Ryabykin\\AppData\\Local\\Temp\\ipykernel_284956\\2963386934.py:8: FutureWarning: The default value of numeric_only in DataFrameGroupBy.mean is deprecated. In a future version, numeric_only will default to False. Either specify numeric_only or select only columns which should be valid for the function.\n",
      "  \"category_means\": dataset.groupby(dataset[column]).mean()[target_name]\n"
     ]
    },
    {
     "name": "stdout",
     "output_type": "stream",
     "text": [
      "Fold number: 3, loss: 255.9367141929093\n"
     ]
    },
    {
     "name": "stderr",
     "output_type": "stream",
     "text": [
      "C:\\Users\\Aleksey Ryabykin\\AppData\\Local\\Temp\\ipykernel_284956\\2963386934.py:8: FutureWarning: The default value of numeric_only in DataFrameGroupBy.mean is deprecated. In a future version, numeric_only will default to False. Either specify numeric_only or select only columns which should be valid for the function.\n",
      "  \"category_means\": dataset.groupby(dataset[column]).mean()[target_name]\n",
      "C:\\Users\\Aleksey Ryabykin\\AppData\\Local\\Temp\\ipykernel_284956\\2963386934.py:8: FutureWarning: The default value of numeric_only in DataFrameGroupBy.mean is deprecated. In a future version, numeric_only will default to False. Either specify numeric_only or select only columns which should be valid for the function.\n",
      "  \"category_means\": dataset.groupby(dataset[column]).mean()[target_name]\n"
     ]
    },
    {
     "name": "stdout",
     "output_type": "stream",
     "text": [
      "Fold number: 4, loss: 318.64807183742636\n"
     ]
    },
    {
     "name": "stderr",
     "output_type": "stream",
     "text": [
      "C:\\Users\\Aleksey Ryabykin\\AppData\\Local\\Temp\\ipykernel_284956\\2963386934.py:8: FutureWarning: The default value of numeric_only in DataFrameGroupBy.mean is deprecated. In a future version, numeric_only will default to False. Either specify numeric_only or select only columns which should be valid for the function.\n",
      "  \"category_means\": dataset.groupby(dataset[column]).mean()[target_name]\n",
      "C:\\Users\\Aleksey Ryabykin\\AppData\\Local\\Temp\\ipykernel_284956\\2963386934.py:8: FutureWarning: The default value of numeric_only in DataFrameGroupBy.mean is deprecated. In a future version, numeric_only will default to False. Either specify numeric_only or select only columns which should be valid for the function.\n",
      "  \"category_means\": dataset.groupby(dataset[column]).mean()[target_name]\n",
      "\u001b[32m[I 2022-12-21 00:38:23,884]\u001b[0m Trial 42 finished with value: 295.3604473521718 and parameters: {'x_0': 0.23937751062306278, 'x_1': 0.14419087916244336}. Best is trial 19 with value: 282.2052161524865.\u001b[0m\n"
     ]
    },
    {
     "name": "stdout",
     "output_type": "stream",
     "text": [
      "Fold number: 5, loss: 297.67932183767306\n",
      "Current weights: [0.1635318  0.09203738 0.74443082]\n"
     ]
    },
    {
     "name": "stderr",
     "output_type": "stream",
     "text": [
      "C:\\Users\\Aleksey Ryabykin\\AppData\\Local\\Temp\\ipykernel_284956\\2963386934.py:8: FutureWarning: The default value of numeric_only in DataFrameGroupBy.mean is deprecated. In a future version, numeric_only will default to False. Either specify numeric_only or select only columns which should be valid for the function.\n",
      "  \"category_means\": dataset.groupby(dataset[column]).mean()[target_name]\n",
      "C:\\Users\\Aleksey Ryabykin\\AppData\\Local\\Temp\\ipykernel_284956\\2963386934.py:8: FutureWarning: The default value of numeric_only in DataFrameGroupBy.mean is deprecated. In a future version, numeric_only will default to False. Either specify numeric_only or select only columns which should be valid for the function.\n",
      "  \"category_means\": dataset.groupby(dataset[column]).mean()[target_name]\n"
     ]
    },
    {
     "name": "stdout",
     "output_type": "stream",
     "text": [
      "Fold number: 1, loss: 303.0201523824304\n"
     ]
    },
    {
     "name": "stderr",
     "output_type": "stream",
     "text": [
      "C:\\Users\\Aleksey Ryabykin\\AppData\\Local\\Temp\\ipykernel_284956\\2963386934.py:8: FutureWarning: The default value of numeric_only in DataFrameGroupBy.mean is deprecated. In a future version, numeric_only will default to False. Either specify numeric_only or select only columns which should be valid for the function.\n",
      "  \"category_means\": dataset.groupby(dataset[column]).mean()[target_name]\n",
      "C:\\Users\\Aleksey Ryabykin\\AppData\\Local\\Temp\\ipykernel_284956\\2963386934.py:8: FutureWarning: The default value of numeric_only in DataFrameGroupBy.mean is deprecated. In a future version, numeric_only will default to False. Either specify numeric_only or select only columns which should be valid for the function.\n",
      "  \"category_means\": dataset.groupby(dataset[column]).mean()[target_name]\n"
     ]
    },
    {
     "name": "stdout",
     "output_type": "stream",
     "text": [
      "Fold number: 2, loss: 303.80137852573205\n"
     ]
    },
    {
     "name": "stderr",
     "output_type": "stream",
     "text": [
      "C:\\Users\\Aleksey Ryabykin\\AppData\\Local\\Temp\\ipykernel_284956\\2963386934.py:8: FutureWarning: The default value of numeric_only in DataFrameGroupBy.mean is deprecated. In a future version, numeric_only will default to False. Either specify numeric_only or select only columns which should be valid for the function.\n",
      "  \"category_means\": dataset.groupby(dataset[column]).mean()[target_name]\n",
      "C:\\Users\\Aleksey Ryabykin\\AppData\\Local\\Temp\\ipykernel_284956\\2963386934.py:8: FutureWarning: The default value of numeric_only in DataFrameGroupBy.mean is deprecated. In a future version, numeric_only will default to False. Either specify numeric_only or select only columns which should be valid for the function.\n",
      "  \"category_means\": dataset.groupby(dataset[column]).mean()[target_name]\n"
     ]
    },
    {
     "name": "stdout",
     "output_type": "stream",
     "text": [
      "Fold number: 3, loss: 269.0076905326529\n"
     ]
    },
    {
     "name": "stderr",
     "output_type": "stream",
     "text": [
      "C:\\Users\\Aleksey Ryabykin\\AppData\\Local\\Temp\\ipykernel_284956\\2963386934.py:8: FutureWarning: The default value of numeric_only in DataFrameGroupBy.mean is deprecated. In a future version, numeric_only will default to False. Either specify numeric_only or select only columns which should be valid for the function.\n",
      "  \"category_means\": dataset.groupby(dataset[column]).mean()[target_name]\n",
      "C:\\Users\\Aleksey Ryabykin\\AppData\\Local\\Temp\\ipykernel_284956\\2963386934.py:8: FutureWarning: The default value of numeric_only in DataFrameGroupBy.mean is deprecated. In a future version, numeric_only will default to False. Either specify numeric_only or select only columns which should be valid for the function.\n",
      "  \"category_means\": dataset.groupby(dataset[column]).mean()[target_name]\n"
     ]
    },
    {
     "name": "stdout",
     "output_type": "stream",
     "text": [
      "Fold number: 4, loss: 327.73156270360533\n"
     ]
    },
    {
     "name": "stderr",
     "output_type": "stream",
     "text": [
      "C:\\Users\\Aleksey Ryabykin\\AppData\\Local\\Temp\\ipykernel_284956\\2963386934.py:8: FutureWarning: The default value of numeric_only in DataFrameGroupBy.mean is deprecated. In a future version, numeric_only will default to False. Either specify numeric_only or select only columns which should be valid for the function.\n",
      "  \"category_means\": dataset.groupby(dataset[column]).mean()[target_name]\n",
      "C:\\Users\\Aleksey Ryabykin\\AppData\\Local\\Temp\\ipykernel_284956\\2963386934.py:8: FutureWarning: The default value of numeric_only in DataFrameGroupBy.mean is deprecated. In a future version, numeric_only will default to False. Either specify numeric_only or select only columns which should be valid for the function.\n",
      "  \"category_means\": dataset.groupby(dataset[column]).mean()[target_name]\n",
      "\u001b[32m[I 2022-12-21 00:38:45,070]\u001b[0m Trial 43 finished with value: 292.74421706257874 and parameters: {'x_0': 0.16353180071524945, 'x_1': 0.09203737863014266}. Best is trial 19 with value: 282.2052161524865.\u001b[0m\n"
     ]
    },
    {
     "name": "stdout",
     "output_type": "stream",
     "text": [
      "Fold number: 5, loss: 260.16030116847276\n",
      "Current weights: [0.25548748 0.05456931 0.68994321]\n"
     ]
    },
    {
     "name": "stderr",
     "output_type": "stream",
     "text": [
      "C:\\Users\\Aleksey Ryabykin\\AppData\\Local\\Temp\\ipykernel_284956\\2963386934.py:8: FutureWarning: The default value of numeric_only in DataFrameGroupBy.mean is deprecated. In a future version, numeric_only will default to False. Either specify numeric_only or select only columns which should be valid for the function.\n",
      "  \"category_means\": dataset.groupby(dataset[column]).mean()[target_name]\n",
      "C:\\Users\\Aleksey Ryabykin\\AppData\\Local\\Temp\\ipykernel_284956\\2963386934.py:8: FutureWarning: The default value of numeric_only in DataFrameGroupBy.mean is deprecated. In a future version, numeric_only will default to False. Either specify numeric_only or select only columns which should be valid for the function.\n",
      "  \"category_means\": dataset.groupby(dataset[column]).mean()[target_name]\n"
     ]
    },
    {
     "name": "stdout",
     "output_type": "stream",
     "text": [
      "Fold number: 1, loss: 282.8147744932508\n"
     ]
    },
    {
     "name": "stderr",
     "output_type": "stream",
     "text": [
      "C:\\Users\\Aleksey Ryabykin\\AppData\\Local\\Temp\\ipykernel_284956\\2963386934.py:8: FutureWarning: The default value of numeric_only in DataFrameGroupBy.mean is deprecated. In a future version, numeric_only will default to False. Either specify numeric_only or select only columns which should be valid for the function.\n",
      "  \"category_means\": dataset.groupby(dataset[column]).mean()[target_name]\n",
      "C:\\Users\\Aleksey Ryabykin\\AppData\\Local\\Temp\\ipykernel_284956\\2963386934.py:8: FutureWarning: The default value of numeric_only in DataFrameGroupBy.mean is deprecated. In a future version, numeric_only will default to False. Either specify numeric_only or select only columns which should be valid for the function.\n",
      "  \"category_means\": dataset.groupby(dataset[column]).mean()[target_name]\n"
     ]
    },
    {
     "name": "stdout",
     "output_type": "stream",
     "text": [
      "Fold number: 2, loss: 326.92863192337063\n"
     ]
    },
    {
     "name": "stderr",
     "output_type": "stream",
     "text": [
      "C:\\Users\\Aleksey Ryabykin\\AppData\\Local\\Temp\\ipykernel_284956\\2963386934.py:8: FutureWarning: The default value of numeric_only in DataFrameGroupBy.mean is deprecated. In a future version, numeric_only will default to False. Either specify numeric_only or select only columns which should be valid for the function.\n",
      "  \"category_means\": dataset.groupby(dataset[column]).mean()[target_name]\n",
      "C:\\Users\\Aleksey Ryabykin\\AppData\\Local\\Temp\\ipykernel_284956\\2963386934.py:8: FutureWarning: The default value of numeric_only in DataFrameGroupBy.mean is deprecated. In a future version, numeric_only will default to False. Either specify numeric_only or select only columns which should be valid for the function.\n",
      "  \"category_means\": dataset.groupby(dataset[column]).mean()[target_name]\n"
     ]
    },
    {
     "name": "stdout",
     "output_type": "stream",
     "text": [
      "Fold number: 3, loss: 308.6946782855994\n"
     ]
    },
    {
     "name": "stderr",
     "output_type": "stream",
     "text": [
      "C:\\Users\\Aleksey Ryabykin\\AppData\\Local\\Temp\\ipykernel_284956\\2963386934.py:8: FutureWarning: The default value of numeric_only in DataFrameGroupBy.mean is deprecated. In a future version, numeric_only will default to False. Either specify numeric_only or select only columns which should be valid for the function.\n",
      "  \"category_means\": dataset.groupby(dataset[column]).mean()[target_name]\n",
      "C:\\Users\\Aleksey Ryabykin\\AppData\\Local\\Temp\\ipykernel_284956\\2963386934.py:8: FutureWarning: The default value of numeric_only in DataFrameGroupBy.mean is deprecated. In a future version, numeric_only will default to False. Either specify numeric_only or select only columns which should be valid for the function.\n",
      "  \"category_means\": dataset.groupby(dataset[column]).mean()[target_name]\n"
     ]
    },
    {
     "name": "stdout",
     "output_type": "stream",
     "text": [
      "Fold number: 4, loss: 271.27357034854987\n"
     ]
    },
    {
     "name": "stderr",
     "output_type": "stream",
     "text": [
      "C:\\Users\\Aleksey Ryabykin\\AppData\\Local\\Temp\\ipykernel_284956\\2963386934.py:8: FutureWarning: The default value of numeric_only in DataFrameGroupBy.mean is deprecated. In a future version, numeric_only will default to False. Either specify numeric_only or select only columns which should be valid for the function.\n",
      "  \"category_means\": dataset.groupby(dataset[column]).mean()[target_name]\n",
      "C:\\Users\\Aleksey Ryabykin\\AppData\\Local\\Temp\\ipykernel_284956\\2963386934.py:8: FutureWarning: The default value of numeric_only in DataFrameGroupBy.mean is deprecated. In a future version, numeric_only will default to False. Either specify numeric_only or select only columns which should be valid for the function.\n",
      "  \"category_means\": dataset.groupby(dataset[column]).mean()[target_name]\n",
      "\u001b[32m[I 2022-12-21 00:39:06,212]\u001b[0m Trial 44 finished with value: 292.5516075003198 and parameters: {'x_0': 0.2554874830822642, 'x_1': 0.05456930683160713}. Best is trial 19 with value: 282.2052161524865.\u001b[0m\n"
     ]
    },
    {
     "name": "stdout",
     "output_type": "stream",
     "text": [
      "Fold number: 5, loss: 273.0463824508284\n",
      "Current weights: [0.31702156 0.03055293 0.65242551]\n"
     ]
    },
    {
     "name": "stderr",
     "output_type": "stream",
     "text": [
      "C:\\Users\\Aleksey Ryabykin\\AppData\\Local\\Temp\\ipykernel_284956\\2963386934.py:8: FutureWarning: The default value of numeric_only in DataFrameGroupBy.mean is deprecated. In a future version, numeric_only will default to False. Either specify numeric_only or select only columns which should be valid for the function.\n",
      "  \"category_means\": dataset.groupby(dataset[column]).mean()[target_name]\n",
      "C:\\Users\\Aleksey Ryabykin\\AppData\\Local\\Temp\\ipykernel_284956\\2963386934.py:8: FutureWarning: The default value of numeric_only in DataFrameGroupBy.mean is deprecated. In a future version, numeric_only will default to False. Either specify numeric_only or select only columns which should be valid for the function.\n",
      "  \"category_means\": dataset.groupby(dataset[column]).mean()[target_name]\n"
     ]
    },
    {
     "name": "stdout",
     "output_type": "stream",
     "text": [
      "Fold number: 1, loss: 287.9263066305922\n"
     ]
    },
    {
     "name": "stderr",
     "output_type": "stream",
     "text": [
      "C:\\Users\\Aleksey Ryabykin\\AppData\\Local\\Temp\\ipykernel_284956\\2963386934.py:8: FutureWarning: The default value of numeric_only in DataFrameGroupBy.mean is deprecated. In a future version, numeric_only will default to False. Either specify numeric_only or select only columns which should be valid for the function.\n",
      "  \"category_means\": dataset.groupby(dataset[column]).mean()[target_name]\n",
      "C:\\Users\\Aleksey Ryabykin\\AppData\\Local\\Temp\\ipykernel_284956\\2963386934.py:8: FutureWarning: The default value of numeric_only in DataFrameGroupBy.mean is deprecated. In a future version, numeric_only will default to False. Either specify numeric_only or select only columns which should be valid for the function.\n",
      "  \"category_means\": dataset.groupby(dataset[column]).mean()[target_name]\n"
     ]
    },
    {
     "name": "stdout",
     "output_type": "stream",
     "text": [
      "Fold number: 2, loss: 310.2993248236015\n"
     ]
    },
    {
     "name": "stderr",
     "output_type": "stream",
     "text": [
      "C:\\Users\\Aleksey Ryabykin\\AppData\\Local\\Temp\\ipykernel_284956\\2963386934.py:8: FutureWarning: The default value of numeric_only in DataFrameGroupBy.mean is deprecated. In a future version, numeric_only will default to False. Either specify numeric_only or select only columns which should be valid for the function.\n",
      "  \"category_means\": dataset.groupby(dataset[column]).mean()[target_name]\n",
      "C:\\Users\\Aleksey Ryabykin\\AppData\\Local\\Temp\\ipykernel_284956\\2963386934.py:8: FutureWarning: The default value of numeric_only in DataFrameGroupBy.mean is deprecated. In a future version, numeric_only will default to False. Either specify numeric_only or select only columns which should be valid for the function.\n",
      "  \"category_means\": dataset.groupby(dataset[column]).mean()[target_name]\n"
     ]
    },
    {
     "name": "stdout",
     "output_type": "stream",
     "text": [
      "Fold number: 3, loss: 279.38147756536637\n"
     ]
    },
    {
     "name": "stderr",
     "output_type": "stream",
     "text": [
      "C:\\Users\\Aleksey Ryabykin\\AppData\\Local\\Temp\\ipykernel_284956\\2963386934.py:8: FutureWarning: The default value of numeric_only in DataFrameGroupBy.mean is deprecated. In a future version, numeric_only will default to False. Either specify numeric_only or select only columns which should be valid for the function.\n",
      "  \"category_means\": dataset.groupby(dataset[column]).mean()[target_name]\n",
      "C:\\Users\\Aleksey Ryabykin\\AppData\\Local\\Temp\\ipykernel_284956\\2963386934.py:8: FutureWarning: The default value of numeric_only in DataFrameGroupBy.mean is deprecated. In a future version, numeric_only will default to False. Either specify numeric_only or select only columns which should be valid for the function.\n",
      "  \"category_means\": dataset.groupby(dataset[column]).mean()[target_name]\n"
     ]
    },
    {
     "name": "stdout",
     "output_type": "stream",
     "text": [
      "Fold number: 4, loss: 320.3014594611318\n"
     ]
    },
    {
     "name": "stderr",
     "output_type": "stream",
     "text": [
      "C:\\Users\\Aleksey Ryabykin\\AppData\\Local\\Temp\\ipykernel_284956\\2963386934.py:8: FutureWarning: The default value of numeric_only in DataFrameGroupBy.mean is deprecated. In a future version, numeric_only will default to False. Either specify numeric_only or select only columns which should be valid for the function.\n",
      "  \"category_means\": dataset.groupby(dataset[column]).mean()[target_name]\n",
      "C:\\Users\\Aleksey Ryabykin\\AppData\\Local\\Temp\\ipykernel_284956\\2963386934.py:8: FutureWarning: The default value of numeric_only in DataFrameGroupBy.mean is deprecated. In a future version, numeric_only will default to False. Either specify numeric_only or select only columns which should be valid for the function.\n",
      "  \"category_means\": dataset.groupby(dataset[column]).mean()[target_name]\n",
      "\u001b[32m[I 2022-12-21 00:39:25,671]\u001b[0m Trial 45 finished with value: 292.7803617871464 and parameters: {'x_0': 0.317021562435366, 'x_1': 0.030552930862301264}. Best is trial 19 with value: 282.2052161524865.\u001b[0m\n"
     ]
    },
    {
     "name": "stdout",
     "output_type": "stream",
     "text": [
      "Fold number: 5, loss: 265.99324045503994\n",
      "Current weights: [0.38145914 0.06840421 0.55013665]\n"
     ]
    },
    {
     "name": "stderr",
     "output_type": "stream",
     "text": [
      "C:\\Users\\Aleksey Ryabykin\\AppData\\Local\\Temp\\ipykernel_284956\\2963386934.py:8: FutureWarning: The default value of numeric_only in DataFrameGroupBy.mean is deprecated. In a future version, numeric_only will default to False. Either specify numeric_only or select only columns which should be valid for the function.\n",
      "  \"category_means\": dataset.groupby(dataset[column]).mean()[target_name]\n",
      "C:\\Users\\Aleksey Ryabykin\\AppData\\Local\\Temp\\ipykernel_284956\\2963386934.py:8: FutureWarning: The default value of numeric_only in DataFrameGroupBy.mean is deprecated. In a future version, numeric_only will default to False. Either specify numeric_only or select only columns which should be valid for the function.\n",
      "  \"category_means\": dataset.groupby(dataset[column]).mean()[target_name]\n"
     ]
    },
    {
     "name": "stdout",
     "output_type": "stream",
     "text": [
      "Fold number: 1, loss: 253.14599134046418\n"
     ]
    },
    {
     "name": "stderr",
     "output_type": "stream",
     "text": [
      "C:\\Users\\Aleksey Ryabykin\\AppData\\Local\\Temp\\ipykernel_284956\\2963386934.py:8: FutureWarning: The default value of numeric_only in DataFrameGroupBy.mean is deprecated. In a future version, numeric_only will default to False. Either specify numeric_only or select only columns which should be valid for the function.\n",
      "  \"category_means\": dataset.groupby(dataset[column]).mean()[target_name]\n",
      "C:\\Users\\Aleksey Ryabykin\\AppData\\Local\\Temp\\ipykernel_284956\\2963386934.py:8: FutureWarning: The default value of numeric_only in DataFrameGroupBy.mean is deprecated. In a future version, numeric_only will default to False. Either specify numeric_only or select only columns which should be valid for the function.\n",
      "  \"category_means\": dataset.groupby(dataset[column]).mean()[target_name]\n"
     ]
    },
    {
     "name": "stdout",
     "output_type": "stream",
     "text": [
      "Fold number: 2, loss: 282.7292526199401\n"
     ]
    },
    {
     "name": "stderr",
     "output_type": "stream",
     "text": [
      "C:\\Users\\Aleksey Ryabykin\\AppData\\Local\\Temp\\ipykernel_284956\\2963386934.py:8: FutureWarning: The default value of numeric_only in DataFrameGroupBy.mean is deprecated. In a future version, numeric_only will default to False. Either specify numeric_only or select only columns which should be valid for the function.\n",
      "  \"category_means\": dataset.groupby(dataset[column]).mean()[target_name]\n",
      "C:\\Users\\Aleksey Ryabykin\\AppData\\Local\\Temp\\ipykernel_284956\\2963386934.py:8: FutureWarning: The default value of numeric_only in DataFrameGroupBy.mean is deprecated. In a future version, numeric_only will default to False. Either specify numeric_only or select only columns which should be valid for the function.\n",
      "  \"category_means\": dataset.groupby(dataset[column]).mean()[target_name]\n"
     ]
    },
    {
     "name": "stdout",
     "output_type": "stream",
     "text": [
      "Fold number: 3, loss: 311.15955363246195\n"
     ]
    },
    {
     "name": "stderr",
     "output_type": "stream",
     "text": [
      "C:\\Users\\Aleksey Ryabykin\\AppData\\Local\\Temp\\ipykernel_284956\\2963386934.py:8: FutureWarning: The default value of numeric_only in DataFrameGroupBy.mean is deprecated. In a future version, numeric_only will default to False. Either specify numeric_only or select only columns which should be valid for the function.\n",
      "  \"category_means\": dataset.groupby(dataset[column]).mean()[target_name]\n",
      "C:\\Users\\Aleksey Ryabykin\\AppData\\Local\\Temp\\ipykernel_284956\\2963386934.py:8: FutureWarning: The default value of numeric_only in DataFrameGroupBy.mean is deprecated. In a future version, numeric_only will default to False. Either specify numeric_only or select only columns which should be valid for the function.\n",
      "  \"category_means\": dataset.groupby(dataset[column]).mean()[target_name]\n"
     ]
    },
    {
     "name": "stdout",
     "output_type": "stream",
     "text": [
      "Fold number: 4, loss: 300.3192783650665\n"
     ]
    },
    {
     "name": "stderr",
     "output_type": "stream",
     "text": [
      "C:\\Users\\Aleksey Ryabykin\\AppData\\Local\\Temp\\ipykernel_284956\\2963386934.py:8: FutureWarning: The default value of numeric_only in DataFrameGroupBy.mean is deprecated. In a future version, numeric_only will default to False. Either specify numeric_only or select only columns which should be valid for the function.\n",
      "  \"category_means\": dataset.groupby(dataset[column]).mean()[target_name]\n",
      "C:\\Users\\Aleksey Ryabykin\\AppData\\Local\\Temp\\ipykernel_284956\\2963386934.py:8: FutureWarning: The default value of numeric_only in DataFrameGroupBy.mean is deprecated. In a future version, numeric_only will default to False. Either specify numeric_only or select only columns which should be valid for the function.\n",
      "  \"category_means\": dataset.groupby(dataset[column]).mean()[target_name]\n",
      "\u001b[32m[I 2022-12-21 00:39:46,751]\u001b[0m Trial 46 finished with value: 300.80350961799513 and parameters: {'x_0': 0.38145913584208235, 'x_1': 0.06840421056666805}. Best is trial 19 with value: 282.2052161524865.\u001b[0m\n"
     ]
    },
    {
     "name": "stdout",
     "output_type": "stream",
     "text": [
      "Fold number: 5, loss: 356.6634721320429\n",
      "Current weights: [0.32338517 0.09846599 0.57814884]\n"
     ]
    },
    {
     "name": "stderr",
     "output_type": "stream",
     "text": [
      "C:\\Users\\Aleksey Ryabykin\\AppData\\Local\\Temp\\ipykernel_284956\\2963386934.py:8: FutureWarning: The default value of numeric_only in DataFrameGroupBy.mean is deprecated. In a future version, numeric_only will default to False. Either specify numeric_only or select only columns which should be valid for the function.\n",
      "  \"category_means\": dataset.groupby(dataset[column]).mean()[target_name]\n",
      "C:\\Users\\Aleksey Ryabykin\\AppData\\Local\\Temp\\ipykernel_284956\\2963386934.py:8: FutureWarning: The default value of numeric_only in DataFrameGroupBy.mean is deprecated. In a future version, numeric_only will default to False. Either specify numeric_only or select only columns which should be valid for the function.\n",
      "  \"category_means\": dataset.groupby(dataset[column]).mean()[target_name]\n"
     ]
    },
    {
     "name": "stdout",
     "output_type": "stream",
     "text": [
      "Fold number: 1, loss: 291.91671257037575\n"
     ]
    },
    {
     "name": "stderr",
     "output_type": "stream",
     "text": [
      "C:\\Users\\Aleksey Ryabykin\\AppData\\Local\\Temp\\ipykernel_284956\\2963386934.py:8: FutureWarning: The default value of numeric_only in DataFrameGroupBy.mean is deprecated. In a future version, numeric_only will default to False. Either specify numeric_only or select only columns which should be valid for the function.\n",
      "  \"category_means\": dataset.groupby(dataset[column]).mean()[target_name]\n",
      "C:\\Users\\Aleksey Ryabykin\\AppData\\Local\\Temp\\ipykernel_284956\\2963386934.py:8: FutureWarning: The default value of numeric_only in DataFrameGroupBy.mean is deprecated. In a future version, numeric_only will default to False. Either specify numeric_only or select only columns which should be valid for the function.\n",
      "  \"category_means\": dataset.groupby(dataset[column]).mean()[target_name]\n"
     ]
    },
    {
     "name": "stdout",
     "output_type": "stream",
     "text": [
      "Fold number: 2, loss: 284.91434785273185\n"
     ]
    },
    {
     "name": "stderr",
     "output_type": "stream",
     "text": [
      "C:\\Users\\Aleksey Ryabykin\\AppData\\Local\\Temp\\ipykernel_284956\\2963386934.py:8: FutureWarning: The default value of numeric_only in DataFrameGroupBy.mean is deprecated. In a future version, numeric_only will default to False. Either specify numeric_only or select only columns which should be valid for the function.\n",
      "  \"category_means\": dataset.groupby(dataset[column]).mean()[target_name]\n",
      "C:\\Users\\Aleksey Ryabykin\\AppData\\Local\\Temp\\ipykernel_284956\\2963386934.py:8: FutureWarning: The default value of numeric_only in DataFrameGroupBy.mean is deprecated. In a future version, numeric_only will default to False. Either specify numeric_only or select only columns which should be valid for the function.\n",
      "  \"category_means\": dataset.groupby(dataset[column]).mean()[target_name]\n"
     ]
    },
    {
     "name": "stdout",
     "output_type": "stream",
     "text": [
      "Fold number: 3, loss: 272.2302417948094\n"
     ]
    },
    {
     "name": "stderr",
     "output_type": "stream",
     "text": [
      "C:\\Users\\Aleksey Ryabykin\\AppData\\Local\\Temp\\ipykernel_284956\\2963386934.py:8: FutureWarning: The default value of numeric_only in DataFrameGroupBy.mean is deprecated. In a future version, numeric_only will default to False. Either specify numeric_only or select only columns which should be valid for the function.\n",
      "  \"category_means\": dataset.groupby(dataset[column]).mean()[target_name]\n",
      "C:\\Users\\Aleksey Ryabykin\\AppData\\Local\\Temp\\ipykernel_284956\\2963386934.py:8: FutureWarning: The default value of numeric_only in DataFrameGroupBy.mean is deprecated. In a future version, numeric_only will default to False. Either specify numeric_only or select only columns which should be valid for the function.\n",
      "  \"category_means\": dataset.groupby(dataset[column]).mean()[target_name]\n"
     ]
    },
    {
     "name": "stdout",
     "output_type": "stream",
     "text": [
      "Fold number: 4, loss: 319.3810675887769\n"
     ]
    },
    {
     "name": "stderr",
     "output_type": "stream",
     "text": [
      "C:\\Users\\Aleksey Ryabykin\\AppData\\Local\\Temp\\ipykernel_284956\\2963386934.py:8: FutureWarning: The default value of numeric_only in DataFrameGroupBy.mean is deprecated. In a future version, numeric_only will default to False. Either specify numeric_only or select only columns which should be valid for the function.\n",
      "  \"category_means\": dataset.groupby(dataset[column]).mean()[target_name]\n",
      "C:\\Users\\Aleksey Ryabykin\\AppData\\Local\\Temp\\ipykernel_284956\\2963386934.py:8: FutureWarning: The default value of numeric_only in DataFrameGroupBy.mean is deprecated. In a future version, numeric_only will default to False. Either specify numeric_only or select only columns which should be valid for the function.\n",
      "  \"category_means\": dataset.groupby(dataset[column]).mean()[target_name]\n",
      "\u001b[32m[I 2022-12-21 00:40:08,415]\u001b[0m Trial 47 finished with value: 299.51965313738634 and parameters: {'x_0': 0.3233851690462236, 'x_1': 0.09846599043954658}. Best is trial 19 with value: 282.2052161524865.\u001b[0m\n"
     ]
    },
    {
     "name": "stdout",
     "output_type": "stream",
     "text": [
      "Fold number: 5, loss: 329.1558958802377\n",
      "Current weights: [0.13288471 0.3532999  0.51381539]\n"
     ]
    },
    {
     "name": "stderr",
     "output_type": "stream",
     "text": [
      "C:\\Users\\Aleksey Ryabykin\\AppData\\Local\\Temp\\ipykernel_284956\\2963386934.py:8: FutureWarning: The default value of numeric_only in DataFrameGroupBy.mean is deprecated. In a future version, numeric_only will default to False. Either specify numeric_only or select only columns which should be valid for the function.\n",
      "  \"category_means\": dataset.groupby(dataset[column]).mean()[target_name]\n",
      "C:\\Users\\Aleksey Ryabykin\\AppData\\Local\\Temp\\ipykernel_284956\\2963386934.py:8: FutureWarning: The default value of numeric_only in DataFrameGroupBy.mean is deprecated. In a future version, numeric_only will default to False. Either specify numeric_only or select only columns which should be valid for the function.\n",
      "  \"category_means\": dataset.groupby(dataset[column]).mean()[target_name]\n"
     ]
    },
    {
     "name": "stdout",
     "output_type": "stream",
     "text": [
      "Fold number: 1, loss: 278.50415367216567\n"
     ]
    },
    {
     "name": "stderr",
     "output_type": "stream",
     "text": [
      "C:\\Users\\Aleksey Ryabykin\\AppData\\Local\\Temp\\ipykernel_284956\\2963386934.py:8: FutureWarning: The default value of numeric_only in DataFrameGroupBy.mean is deprecated. In a future version, numeric_only will default to False. Either specify numeric_only or select only columns which should be valid for the function.\n",
      "  \"category_means\": dataset.groupby(dataset[column]).mean()[target_name]\n",
      "C:\\Users\\Aleksey Ryabykin\\AppData\\Local\\Temp\\ipykernel_284956\\2963386934.py:8: FutureWarning: The default value of numeric_only in DataFrameGroupBy.mean is deprecated. In a future version, numeric_only will default to False. Either specify numeric_only or select only columns which should be valid for the function.\n",
      "  \"category_means\": dataset.groupby(dataset[column]).mean()[target_name]\n"
     ]
    },
    {
     "name": "stdout",
     "output_type": "stream",
     "text": [
      "Fold number: 2, loss: 359.0390739710981\n"
     ]
    },
    {
     "name": "stderr",
     "output_type": "stream",
     "text": [
      "C:\\Users\\Aleksey Ryabykin\\AppData\\Local\\Temp\\ipykernel_284956\\2963386934.py:8: FutureWarning: The default value of numeric_only in DataFrameGroupBy.mean is deprecated. In a future version, numeric_only will default to False. Either specify numeric_only or select only columns which should be valid for the function.\n",
      "  \"category_means\": dataset.groupby(dataset[column]).mean()[target_name]\n",
      "C:\\Users\\Aleksey Ryabykin\\AppData\\Local\\Temp\\ipykernel_284956\\2963386934.py:8: FutureWarning: The default value of numeric_only in DataFrameGroupBy.mean is deprecated. In a future version, numeric_only will default to False. Either specify numeric_only or select only columns which should be valid for the function.\n",
      "  \"category_means\": dataset.groupby(dataset[column]).mean()[target_name]\n"
     ]
    },
    {
     "name": "stdout",
     "output_type": "stream",
     "text": [
      "Fold number: 3, loss: 304.40481877740905\n"
     ]
    },
    {
     "name": "stderr",
     "output_type": "stream",
     "text": [
      "C:\\Users\\Aleksey Ryabykin\\AppData\\Local\\Temp\\ipykernel_284956\\2963386934.py:8: FutureWarning: The default value of numeric_only in DataFrameGroupBy.mean is deprecated. In a future version, numeric_only will default to False. Either specify numeric_only or select only columns which should be valid for the function.\n",
      "  \"category_means\": dataset.groupby(dataset[column]).mean()[target_name]\n",
      "C:\\Users\\Aleksey Ryabykin\\AppData\\Local\\Temp\\ipykernel_284956\\2963386934.py:8: FutureWarning: The default value of numeric_only in DataFrameGroupBy.mean is deprecated. In a future version, numeric_only will default to False. Either specify numeric_only or select only columns which should be valid for the function.\n",
      "  \"category_means\": dataset.groupby(dataset[column]).mean()[target_name]\n"
     ]
    },
    {
     "name": "stdout",
     "output_type": "stream",
     "text": [
      "Fold number: 4, loss: 359.88880251071913\n"
     ]
    },
    {
     "name": "stderr",
     "output_type": "stream",
     "text": [
      "C:\\Users\\Aleksey Ryabykin\\AppData\\Local\\Temp\\ipykernel_284956\\2963386934.py:8: FutureWarning: The default value of numeric_only in DataFrameGroupBy.mean is deprecated. In a future version, numeric_only will default to False. Either specify numeric_only or select only columns which should be valid for the function.\n",
      "  \"category_means\": dataset.groupby(dataset[column]).mean()[target_name]\n",
      "C:\\Users\\Aleksey Ryabykin\\AppData\\Local\\Temp\\ipykernel_284956\\2963386934.py:8: FutureWarning: The default value of numeric_only in DataFrameGroupBy.mean is deprecated. In a future version, numeric_only will default to False. Either specify numeric_only or select only columns which should be valid for the function.\n",
      "  \"category_means\": dataset.groupby(dataset[column]).mean()[target_name]\n",
      "\u001b[32m[I 2022-12-21 00:40:30,404]\u001b[0m Trial 48 finished with value: 322.154665248081 and parameters: {'x_0': 0.13288470668231675, 'x_1': 0.35329990047144694}. Best is trial 19 with value: 282.2052161524865.\u001b[0m\n"
     ]
    },
    {
     "name": "stdout",
     "output_type": "stream",
     "text": [
      "Fold number: 5, loss: 308.936477309013\n",
      "Current weights: [0.18974238 0.60636557 0.20389206]\n"
     ]
    },
    {
     "name": "stderr",
     "output_type": "stream",
     "text": [
      "C:\\Users\\Aleksey Ryabykin\\AppData\\Local\\Temp\\ipykernel_284956\\2963386934.py:8: FutureWarning: The default value of numeric_only in DataFrameGroupBy.mean is deprecated. In a future version, numeric_only will default to False. Either specify numeric_only or select only columns which should be valid for the function.\n",
      "  \"category_means\": dataset.groupby(dataset[column]).mean()[target_name]\n",
      "C:\\Users\\Aleksey Ryabykin\\AppData\\Local\\Temp\\ipykernel_284956\\2963386934.py:8: FutureWarning: The default value of numeric_only in DataFrameGroupBy.mean is deprecated. In a future version, numeric_only will default to False. Either specify numeric_only or select only columns which should be valid for the function.\n",
      "  \"category_means\": dataset.groupby(dataset[column]).mean()[target_name]\n"
     ]
    },
    {
     "name": "stdout",
     "output_type": "stream",
     "text": [
      "Fold number: 1, loss: 342.355219056969\n"
     ]
    },
    {
     "name": "stderr",
     "output_type": "stream",
     "text": [
      "C:\\Users\\Aleksey Ryabykin\\AppData\\Local\\Temp\\ipykernel_284956\\2963386934.py:8: FutureWarning: The default value of numeric_only in DataFrameGroupBy.mean is deprecated. In a future version, numeric_only will default to False. Either specify numeric_only or select only columns which should be valid for the function.\n",
      "  \"category_means\": dataset.groupby(dataset[column]).mean()[target_name]\n",
      "C:\\Users\\Aleksey Ryabykin\\AppData\\Local\\Temp\\ipykernel_284956\\2963386934.py:8: FutureWarning: The default value of numeric_only in DataFrameGroupBy.mean is deprecated. In a future version, numeric_only will default to False. Either specify numeric_only or select only columns which should be valid for the function.\n",
      "  \"category_means\": dataset.groupby(dataset[column]).mean()[target_name]\n"
     ]
    },
    {
     "name": "stdout",
     "output_type": "stream",
     "text": [
      "Fold number: 2, loss: 377.5364162567718\n"
     ]
    },
    {
     "name": "stderr",
     "output_type": "stream",
     "text": [
      "C:\\Users\\Aleksey Ryabykin\\AppData\\Local\\Temp\\ipykernel_284956\\2963386934.py:8: FutureWarning: The default value of numeric_only in DataFrameGroupBy.mean is deprecated. In a future version, numeric_only will default to False. Either specify numeric_only or select only columns which should be valid for the function.\n",
      "  \"category_means\": dataset.groupby(dataset[column]).mean()[target_name]\n",
      "C:\\Users\\Aleksey Ryabykin\\AppData\\Local\\Temp\\ipykernel_284956\\2963386934.py:8: FutureWarning: The default value of numeric_only in DataFrameGroupBy.mean is deprecated. In a future version, numeric_only will default to False. Either specify numeric_only or select only columns which should be valid for the function.\n",
      "  \"category_means\": dataset.groupby(dataset[column]).mean()[target_name]\n"
     ]
    },
    {
     "name": "stdout",
     "output_type": "stream",
     "text": [
      "Fold number: 3, loss: 282.0475214512951\n"
     ]
    },
    {
     "name": "stderr",
     "output_type": "stream",
     "text": [
      "C:\\Users\\Aleksey Ryabykin\\AppData\\Local\\Temp\\ipykernel_284956\\2963386934.py:8: FutureWarning: The default value of numeric_only in DataFrameGroupBy.mean is deprecated. In a future version, numeric_only will default to False. Either specify numeric_only or select only columns which should be valid for the function.\n",
      "  \"category_means\": dataset.groupby(dataset[column]).mean()[target_name]\n",
      "C:\\Users\\Aleksey Ryabykin\\AppData\\Local\\Temp\\ipykernel_284956\\2963386934.py:8: FutureWarning: The default value of numeric_only in DataFrameGroupBy.mean is deprecated. In a future version, numeric_only will default to False. Either specify numeric_only or select only columns which should be valid for the function.\n",
      "  \"category_means\": dataset.groupby(dataset[column]).mean()[target_name]\n"
     ]
    },
    {
     "name": "stdout",
     "output_type": "stream",
     "text": [
      "Fold number: 4, loss: 364.0690040320447\n"
     ]
    },
    {
     "name": "stderr",
     "output_type": "stream",
     "text": [
      "C:\\Users\\Aleksey Ryabykin\\AppData\\Local\\Temp\\ipykernel_284956\\2963386934.py:8: FutureWarning: The default value of numeric_only in DataFrameGroupBy.mean is deprecated. In a future version, numeric_only will default to False. Either specify numeric_only or select only columns which should be valid for the function.\n",
      "  \"category_means\": dataset.groupby(dataset[column]).mean()[target_name]\n",
      "C:\\Users\\Aleksey Ryabykin\\AppData\\Local\\Temp\\ipykernel_284956\\2963386934.py:8: FutureWarning: The default value of numeric_only in DataFrameGroupBy.mean is deprecated. In a future version, numeric_only will default to False. Either specify numeric_only or select only columns which should be valid for the function.\n",
      "  \"category_means\": dataset.groupby(dataset[column]).mean()[target_name]\n",
      "\u001b[32m[I 2022-12-21 00:40:51,698]\u001b[0m Trial 49 finished with value: 344.9301704632867 and parameters: {'x_0': 0.1897423788069904, 'x_1': 0.6063655651350975}. Best is trial 19 with value: 282.2052161524865.\u001b[0m\n"
     ]
    },
    {
     "name": "stdout",
     "output_type": "stream",
     "text": [
      "Fold number: 5, loss: 358.6426915193529\n",
      "Current weights: [0.06365461 0.15976716 0.77657823]\n"
     ]
    },
    {
     "name": "stderr",
     "output_type": "stream",
     "text": [
      "C:\\Users\\Aleksey Ryabykin\\AppData\\Local\\Temp\\ipykernel_284956\\2963386934.py:8: FutureWarning: The default value of numeric_only in DataFrameGroupBy.mean is deprecated. In a future version, numeric_only will default to False. Either specify numeric_only or select only columns which should be valid for the function.\n",
      "  \"category_means\": dataset.groupby(dataset[column]).mean()[target_name]\n",
      "C:\\Users\\Aleksey Ryabykin\\AppData\\Local\\Temp\\ipykernel_284956\\2963386934.py:8: FutureWarning: The default value of numeric_only in DataFrameGroupBy.mean is deprecated. In a future version, numeric_only will default to False. Either specify numeric_only or select only columns which should be valid for the function.\n",
      "  \"category_means\": dataset.groupby(dataset[column]).mean()[target_name]\n"
     ]
    },
    {
     "name": "stdout",
     "output_type": "stream",
     "text": [
      "Fold number: 1, loss: 291.9853285703447\n"
     ]
    },
    {
     "name": "stderr",
     "output_type": "stream",
     "text": [
      "C:\\Users\\Aleksey Ryabykin\\AppData\\Local\\Temp\\ipykernel_284956\\2963386934.py:8: FutureWarning: The default value of numeric_only in DataFrameGroupBy.mean is deprecated. In a future version, numeric_only will default to False. Either specify numeric_only or select only columns which should be valid for the function.\n",
      "  \"category_means\": dataset.groupby(dataset[column]).mean()[target_name]\n",
      "C:\\Users\\Aleksey Ryabykin\\AppData\\Local\\Temp\\ipykernel_284956\\2963386934.py:8: FutureWarning: The default value of numeric_only in DataFrameGroupBy.mean is deprecated. In a future version, numeric_only will default to False. Either specify numeric_only or select only columns which should be valid for the function.\n",
      "  \"category_means\": dataset.groupby(dataset[column]).mean()[target_name]\n"
     ]
    },
    {
     "name": "stdout",
     "output_type": "stream",
     "text": [
      "Fold number: 2, loss: 307.30644675831036\n"
     ]
    },
    {
     "name": "stderr",
     "output_type": "stream",
     "text": [
      "C:\\Users\\Aleksey Ryabykin\\AppData\\Local\\Temp\\ipykernel_284956\\2963386934.py:8: FutureWarning: The default value of numeric_only in DataFrameGroupBy.mean is deprecated. In a future version, numeric_only will default to False. Either specify numeric_only or select only columns which should be valid for the function.\n",
      "  \"category_means\": dataset.groupby(dataset[column]).mean()[target_name]\n",
      "C:\\Users\\Aleksey Ryabykin\\AppData\\Local\\Temp\\ipykernel_284956\\2963386934.py:8: FutureWarning: The default value of numeric_only in DataFrameGroupBy.mean is deprecated. In a future version, numeric_only will default to False. Either specify numeric_only or select only columns which should be valid for the function.\n",
      "  \"category_means\": dataset.groupby(dataset[column]).mean()[target_name]\n"
     ]
    },
    {
     "name": "stdout",
     "output_type": "stream",
     "text": [
      "Fold number: 3, loss: 329.2828579365301\n"
     ]
    },
    {
     "name": "stderr",
     "output_type": "stream",
     "text": [
      "C:\\Users\\Aleksey Ryabykin\\AppData\\Local\\Temp\\ipykernel_284956\\2963386934.py:8: FutureWarning: The default value of numeric_only in DataFrameGroupBy.mean is deprecated. In a future version, numeric_only will default to False. Either specify numeric_only or select only columns which should be valid for the function.\n",
      "  \"category_means\": dataset.groupby(dataset[column]).mean()[target_name]\n",
      "C:\\Users\\Aleksey Ryabykin\\AppData\\Local\\Temp\\ipykernel_284956\\2963386934.py:8: FutureWarning: The default value of numeric_only in DataFrameGroupBy.mean is deprecated. In a future version, numeric_only will default to False. Either specify numeric_only or select only columns which should be valid for the function.\n",
      "  \"category_means\": dataset.groupby(dataset[column]).mean()[target_name]\n"
     ]
    },
    {
     "name": "stdout",
     "output_type": "stream",
     "text": [
      "Fold number: 4, loss: 255.93196883266572\n"
     ]
    },
    {
     "name": "stderr",
     "output_type": "stream",
     "text": [
      "C:\\Users\\Aleksey Ryabykin\\AppData\\Local\\Temp\\ipykernel_284956\\2963386934.py:8: FutureWarning: The default value of numeric_only in DataFrameGroupBy.mean is deprecated. In a future version, numeric_only will default to False. Either specify numeric_only or select only columns which should be valid for the function.\n",
      "  \"category_means\": dataset.groupby(dataset[column]).mean()[target_name]\n",
      "C:\\Users\\Aleksey Ryabykin\\AppData\\Local\\Temp\\ipykernel_284956\\2963386934.py:8: FutureWarning: The default value of numeric_only in DataFrameGroupBy.mean is deprecated. In a future version, numeric_only will default to False. Either specify numeric_only or select only columns which should be valid for the function.\n",
      "  \"category_means\": dataset.groupby(dataset[column]).mean()[target_name]\n",
      "\u001b[32m[I 2022-12-21 00:41:14,321]\u001b[0m Trial 50 finished with value: 311.6595703712668 and parameters: {'x_0': 0.0636546123742214, 'x_1': 0.15976715921979268}. Best is trial 19 with value: 282.2052161524865.\u001b[0m\n"
     ]
    },
    {
     "name": "stdout",
     "output_type": "stream",
     "text": [
      "Fold number: 5, loss: 373.791249758483\n",
      "Current weights: [0.24893904 0.05263373 0.69842723]\n"
     ]
    },
    {
     "name": "stderr",
     "output_type": "stream",
     "text": [
      "C:\\Users\\Aleksey Ryabykin\\AppData\\Local\\Temp\\ipykernel_284956\\2963386934.py:8: FutureWarning: The default value of numeric_only in DataFrameGroupBy.mean is deprecated. In a future version, numeric_only will default to False. Either specify numeric_only or select only columns which should be valid for the function.\n",
      "  \"category_means\": dataset.groupby(dataset[column]).mean()[target_name]\n",
      "C:\\Users\\Aleksey Ryabykin\\AppData\\Local\\Temp\\ipykernel_284956\\2963386934.py:8: FutureWarning: The default value of numeric_only in DataFrameGroupBy.mean is deprecated. In a future version, numeric_only will default to False. Either specify numeric_only or select only columns which should be valid for the function.\n",
      "  \"category_means\": dataset.groupby(dataset[column]).mean()[target_name]\n"
     ]
    },
    {
     "name": "stdout",
     "output_type": "stream",
     "text": [
      "Fold number: 1, loss: 286.05281514084385\n"
     ]
    },
    {
     "name": "stderr",
     "output_type": "stream",
     "text": [
      "C:\\Users\\Aleksey Ryabykin\\AppData\\Local\\Temp\\ipykernel_284956\\2963386934.py:8: FutureWarning: The default value of numeric_only in DataFrameGroupBy.mean is deprecated. In a future version, numeric_only will default to False. Either specify numeric_only or select only columns which should be valid for the function.\n",
      "  \"category_means\": dataset.groupby(dataset[column]).mean()[target_name]\n",
      "C:\\Users\\Aleksey Ryabykin\\AppData\\Local\\Temp\\ipykernel_284956\\2963386934.py:8: FutureWarning: The default value of numeric_only in DataFrameGroupBy.mean is deprecated. In a future version, numeric_only will default to False. Either specify numeric_only or select only columns which should be valid for the function.\n",
      "  \"category_means\": dataset.groupby(dataset[column]).mean()[target_name]\n"
     ]
    },
    {
     "name": "stdout",
     "output_type": "stream",
     "text": [
      "Fold number: 2, loss: 262.3352043458422\n"
     ]
    },
    {
     "name": "stderr",
     "output_type": "stream",
     "text": [
      "C:\\Users\\Aleksey Ryabykin\\AppData\\Local\\Temp\\ipykernel_284956\\2963386934.py:8: FutureWarning: The default value of numeric_only in DataFrameGroupBy.mean is deprecated. In a future version, numeric_only will default to False. Either specify numeric_only or select only columns which should be valid for the function.\n",
      "  \"category_means\": dataset.groupby(dataset[column]).mean()[target_name]\n",
      "C:\\Users\\Aleksey Ryabykin\\AppData\\Local\\Temp\\ipykernel_284956\\2963386934.py:8: FutureWarning: The default value of numeric_only in DataFrameGroupBy.mean is deprecated. In a future version, numeric_only will default to False. Either specify numeric_only or select only columns which should be valid for the function.\n",
      "  \"category_means\": dataset.groupby(dataset[column]).mean()[target_name]\n"
     ]
    },
    {
     "name": "stdout",
     "output_type": "stream",
     "text": [
      "Fold number: 3, loss: 361.51718603210173\n"
     ]
    },
    {
     "name": "stderr",
     "output_type": "stream",
     "text": [
      "C:\\Users\\Aleksey Ryabykin\\AppData\\Local\\Temp\\ipykernel_284956\\2963386934.py:8: FutureWarning: The default value of numeric_only in DataFrameGroupBy.mean is deprecated. In a future version, numeric_only will default to False. Either specify numeric_only or select only columns which should be valid for the function.\n",
      "  \"category_means\": dataset.groupby(dataset[column]).mean()[target_name]\n",
      "C:\\Users\\Aleksey Ryabykin\\AppData\\Local\\Temp\\ipykernel_284956\\2963386934.py:8: FutureWarning: The default value of numeric_only in DataFrameGroupBy.mean is deprecated. In a future version, numeric_only will default to False. Either specify numeric_only or select only columns which should be valid for the function.\n",
      "  \"category_means\": dataset.groupby(dataset[column]).mean()[target_name]\n"
     ]
    },
    {
     "name": "stdout",
     "output_type": "stream",
     "text": [
      "Fold number: 4, loss: 282.72284573586205\n"
     ]
    },
    {
     "name": "stderr",
     "output_type": "stream",
     "text": [
      "C:\\Users\\Aleksey Ryabykin\\AppData\\Local\\Temp\\ipykernel_284956\\2963386934.py:8: FutureWarning: The default value of numeric_only in DataFrameGroupBy.mean is deprecated. In a future version, numeric_only will default to False. Either specify numeric_only or select only columns which should be valid for the function.\n",
      "  \"category_means\": dataset.groupby(dataset[column]).mean()[target_name]\n",
      "C:\\Users\\Aleksey Ryabykin\\AppData\\Local\\Temp\\ipykernel_284956\\2963386934.py:8: FutureWarning: The default value of numeric_only in DataFrameGroupBy.mean is deprecated. In a future version, numeric_only will default to False. Either specify numeric_only or select only columns which should be valid for the function.\n",
      "  \"category_means\": dataset.groupby(dataset[column]).mean()[target_name]\n",
      "\u001b[32m[I 2022-12-21 00:41:36,773]\u001b[0m Trial 51 finished with value: 297.14815884526195 and parameters: {'x_0': 0.2489390372202469, 'x_1': 0.052633732486620274}. Best is trial 19 with value: 282.2052161524865.\u001b[0m\n"
     ]
    },
    {
     "name": "stdout",
     "output_type": "stream",
     "text": [
      "Fold number: 5, loss: 293.1127429716597\n",
      "Current weights: [0.31851554 0.02801678 0.65346768]\n"
     ]
    },
    {
     "name": "stderr",
     "output_type": "stream",
     "text": [
      "C:\\Users\\Aleksey Ryabykin\\AppData\\Local\\Temp\\ipykernel_284956\\2963386934.py:8: FutureWarning: The default value of numeric_only in DataFrameGroupBy.mean is deprecated. In a future version, numeric_only will default to False. Either specify numeric_only or select only columns which should be valid for the function.\n",
      "  \"category_means\": dataset.groupby(dataset[column]).mean()[target_name]\n",
      "C:\\Users\\Aleksey Ryabykin\\AppData\\Local\\Temp\\ipykernel_284956\\2963386934.py:8: FutureWarning: The default value of numeric_only in DataFrameGroupBy.mean is deprecated. In a future version, numeric_only will default to False. Either specify numeric_only or select only columns which should be valid for the function.\n",
      "  \"category_means\": dataset.groupby(dataset[column]).mean()[target_name]\n"
     ]
    },
    {
     "name": "stdout",
     "output_type": "stream",
     "text": [
      "Fold number: 1, loss: 275.0711421290039\n"
     ]
    },
    {
     "name": "stderr",
     "output_type": "stream",
     "text": [
      "C:\\Users\\Aleksey Ryabykin\\AppData\\Local\\Temp\\ipykernel_284956\\2963386934.py:8: FutureWarning: The default value of numeric_only in DataFrameGroupBy.mean is deprecated. In a future version, numeric_only will default to False. Either specify numeric_only or select only columns which should be valid for the function.\n",
      "  \"category_means\": dataset.groupby(dataset[column]).mean()[target_name]\n",
      "C:\\Users\\Aleksey Ryabykin\\AppData\\Local\\Temp\\ipykernel_284956\\2963386934.py:8: FutureWarning: The default value of numeric_only in DataFrameGroupBy.mean is deprecated. In a future version, numeric_only will default to False. Either specify numeric_only or select only columns which should be valid for the function.\n",
      "  \"category_means\": dataset.groupby(dataset[column]).mean()[target_name]\n"
     ]
    },
    {
     "name": "stdout",
     "output_type": "stream",
     "text": [
      "Fold number: 2, loss: 343.576330210276\n"
     ]
    },
    {
     "name": "stderr",
     "output_type": "stream",
     "text": [
      "C:\\Users\\Aleksey Ryabykin\\AppData\\Local\\Temp\\ipykernel_284956\\2963386934.py:8: FutureWarning: The default value of numeric_only in DataFrameGroupBy.mean is deprecated. In a future version, numeric_only will default to False. Either specify numeric_only or select only columns which should be valid for the function.\n",
      "  \"category_means\": dataset.groupby(dataset[column]).mean()[target_name]\n",
      "C:\\Users\\Aleksey Ryabykin\\AppData\\Local\\Temp\\ipykernel_284956\\2963386934.py:8: FutureWarning: The default value of numeric_only in DataFrameGroupBy.mean is deprecated. In a future version, numeric_only will default to False. Either specify numeric_only or select only columns which should be valid for the function.\n",
      "  \"category_means\": dataset.groupby(dataset[column]).mean()[target_name]\n"
     ]
    },
    {
     "name": "stdout",
     "output_type": "stream",
     "text": [
      "Fold number: 3, loss: 363.979044373253\n"
     ]
    },
    {
     "name": "stderr",
     "output_type": "stream",
     "text": [
      "C:\\Users\\Aleksey Ryabykin\\AppData\\Local\\Temp\\ipykernel_284956\\2963386934.py:8: FutureWarning: The default value of numeric_only in DataFrameGroupBy.mean is deprecated. In a future version, numeric_only will default to False. Either specify numeric_only or select only columns which should be valid for the function.\n",
      "  \"category_means\": dataset.groupby(dataset[column]).mean()[target_name]\n",
      "C:\\Users\\Aleksey Ryabykin\\AppData\\Local\\Temp\\ipykernel_284956\\2963386934.py:8: FutureWarning: The default value of numeric_only in DataFrameGroupBy.mean is deprecated. In a future version, numeric_only will default to False. Either specify numeric_only or select only columns which should be valid for the function.\n",
      "  \"category_means\": dataset.groupby(dataset[column]).mean()[target_name]\n"
     ]
    },
    {
     "name": "stdout",
     "output_type": "stream",
     "text": [
      "Fold number: 4, loss: 294.6529468832497\n"
     ]
    },
    {
     "name": "stderr",
     "output_type": "stream",
     "text": [
      "C:\\Users\\Aleksey Ryabykin\\AppData\\Local\\Temp\\ipykernel_284956\\2963386934.py:8: FutureWarning: The default value of numeric_only in DataFrameGroupBy.mean is deprecated. In a future version, numeric_only will default to False. Either specify numeric_only or select only columns which should be valid for the function.\n",
      "  \"category_means\": dataset.groupby(dataset[column]).mean()[target_name]\n",
      "C:\\Users\\Aleksey Ryabykin\\AppData\\Local\\Temp\\ipykernel_284956\\2963386934.py:8: FutureWarning: The default value of numeric_only in DataFrameGroupBy.mean is deprecated. In a future version, numeric_only will default to False. Either specify numeric_only or select only columns which should be valid for the function.\n",
      "  \"category_means\": dataset.groupby(dataset[column]).mean()[target_name]\n",
      "\u001b[32m[I 2022-12-21 00:41:58,589]\u001b[0m Trial 52 finished with value: 316.4616003860629 and parameters: {'x_0': 0.31851554161766027, 'x_1': 0.028016777150799976}. Best is trial 19 with value: 282.2052161524865.\u001b[0m\n"
     ]
    },
    {
     "name": "stdout",
     "output_type": "stream",
     "text": [
      "Fold number: 5, loss: 305.02853833453196\n",
      "Current weights: [0.24626082 0.11223355 0.64150562]\n"
     ]
    },
    {
     "name": "stderr",
     "output_type": "stream",
     "text": [
      "C:\\Users\\Aleksey Ryabykin\\AppData\\Local\\Temp\\ipykernel_284956\\2963386934.py:8: FutureWarning: The default value of numeric_only in DataFrameGroupBy.mean is deprecated. In a future version, numeric_only will default to False. Either specify numeric_only or select only columns which should be valid for the function.\n",
      "  \"category_means\": dataset.groupby(dataset[column]).mean()[target_name]\n",
      "C:\\Users\\Aleksey Ryabykin\\AppData\\Local\\Temp\\ipykernel_284956\\2963386934.py:8: FutureWarning: The default value of numeric_only in DataFrameGroupBy.mean is deprecated. In a future version, numeric_only will default to False. Either specify numeric_only or select only columns which should be valid for the function.\n",
      "  \"category_means\": dataset.groupby(dataset[column]).mean()[target_name]\n"
     ]
    },
    {
     "name": "stdout",
     "output_type": "stream",
     "text": [
      "Fold number: 1, loss: 281.5152755818756\n"
     ]
    },
    {
     "name": "stderr",
     "output_type": "stream",
     "text": [
      "C:\\Users\\Aleksey Ryabykin\\AppData\\Local\\Temp\\ipykernel_284956\\2963386934.py:8: FutureWarning: The default value of numeric_only in DataFrameGroupBy.mean is deprecated. In a future version, numeric_only will default to False. Either specify numeric_only or select only columns which should be valid for the function.\n",
      "  \"category_means\": dataset.groupby(dataset[column]).mean()[target_name]\n",
      "C:\\Users\\Aleksey Ryabykin\\AppData\\Local\\Temp\\ipykernel_284956\\2963386934.py:8: FutureWarning: The default value of numeric_only in DataFrameGroupBy.mean is deprecated. In a future version, numeric_only will default to False. Either specify numeric_only or select only columns which should be valid for the function.\n",
      "  \"category_means\": dataset.groupby(dataset[column]).mean()[target_name]\n"
     ]
    },
    {
     "name": "stdout",
     "output_type": "stream",
     "text": [
      "Fold number: 2, loss: 318.8691054269706\n"
     ]
    },
    {
     "name": "stderr",
     "output_type": "stream",
     "text": [
      "C:\\Users\\Aleksey Ryabykin\\AppData\\Local\\Temp\\ipykernel_284956\\2963386934.py:8: FutureWarning: The default value of numeric_only in DataFrameGroupBy.mean is deprecated. In a future version, numeric_only will default to False. Either specify numeric_only or select only columns which should be valid for the function.\n",
      "  \"category_means\": dataset.groupby(dataset[column]).mean()[target_name]\n",
      "C:\\Users\\Aleksey Ryabykin\\AppData\\Local\\Temp\\ipykernel_284956\\2963386934.py:8: FutureWarning: The default value of numeric_only in DataFrameGroupBy.mean is deprecated. In a future version, numeric_only will default to False. Either specify numeric_only or select only columns which should be valid for the function.\n",
      "  \"category_means\": dataset.groupby(dataset[column]).mean()[target_name]\n"
     ]
    },
    {
     "name": "stdout",
     "output_type": "stream",
     "text": [
      "Fold number: 3, loss: 273.5758477116427\n"
     ]
    },
    {
     "name": "stderr",
     "output_type": "stream",
     "text": [
      "C:\\Users\\Aleksey Ryabykin\\AppData\\Local\\Temp\\ipykernel_284956\\2963386934.py:8: FutureWarning: The default value of numeric_only in DataFrameGroupBy.mean is deprecated. In a future version, numeric_only will default to False. Either specify numeric_only or select only columns which should be valid for the function.\n",
      "  \"category_means\": dataset.groupby(dataset[column]).mean()[target_name]\n",
      "C:\\Users\\Aleksey Ryabykin\\AppData\\Local\\Temp\\ipykernel_284956\\2963386934.py:8: FutureWarning: The default value of numeric_only in DataFrameGroupBy.mean is deprecated. In a future version, numeric_only will default to False. Either specify numeric_only or select only columns which should be valid for the function.\n",
      "  \"category_means\": dataset.groupby(dataset[column]).mean()[target_name]\n"
     ]
    },
    {
     "name": "stdout",
     "output_type": "stream",
     "text": [
      "Fold number: 4, loss: 282.48930552580833\n"
     ]
    },
    {
     "name": "stderr",
     "output_type": "stream",
     "text": [
      "C:\\Users\\Aleksey Ryabykin\\AppData\\Local\\Temp\\ipykernel_284956\\2963386934.py:8: FutureWarning: The default value of numeric_only in DataFrameGroupBy.mean is deprecated. In a future version, numeric_only will default to False. Either specify numeric_only or select only columns which should be valid for the function.\n",
      "  \"category_means\": dataset.groupby(dataset[column]).mean()[target_name]\n",
      "C:\\Users\\Aleksey Ryabykin\\AppData\\Local\\Temp\\ipykernel_284956\\2963386934.py:8: FutureWarning: The default value of numeric_only in DataFrameGroupBy.mean is deprecated. In a future version, numeric_only will default to False. Either specify numeric_only or select only columns which should be valid for the function.\n",
      "  \"category_means\": dataset.groupby(dataset[column]).mean()[target_name]\n",
      "\u001b[32m[I 2022-12-21 00:42:19,013]\u001b[0m Trial 53 finished with value: 301.5192080128936 and parameters: {'x_0': 0.24626082406756392, 'x_1': 0.11223355462552623}. Best is trial 19 with value: 282.2052161524865.\u001b[0m\n"
     ]
    },
    {
     "name": "stdout",
     "output_type": "stream",
     "text": [
      "Fold number: 5, loss: 351.146505818171\n",
      "Current weights: [0.4541159  0.01544163 0.53044246]\n"
     ]
    },
    {
     "name": "stderr",
     "output_type": "stream",
     "text": [
      "C:\\Users\\Aleksey Ryabykin\\AppData\\Local\\Temp\\ipykernel_284956\\2963386934.py:8: FutureWarning: The default value of numeric_only in DataFrameGroupBy.mean is deprecated. In a future version, numeric_only will default to False. Either specify numeric_only or select only columns which should be valid for the function.\n",
      "  \"category_means\": dataset.groupby(dataset[column]).mean()[target_name]\n",
      "C:\\Users\\Aleksey Ryabykin\\AppData\\Local\\Temp\\ipykernel_284956\\2963386934.py:8: FutureWarning: The default value of numeric_only in DataFrameGroupBy.mean is deprecated. In a future version, numeric_only will default to False. Either specify numeric_only or select only columns which should be valid for the function.\n",
      "  \"category_means\": dataset.groupby(dataset[column]).mean()[target_name]\n"
     ]
    },
    {
     "name": "stdout",
     "output_type": "stream",
     "text": [
      "Fold number: 1, loss: 238.398309257679\n"
     ]
    },
    {
     "name": "stderr",
     "output_type": "stream",
     "text": [
      "C:\\Users\\Aleksey Ryabykin\\AppData\\Local\\Temp\\ipykernel_284956\\2963386934.py:8: FutureWarning: The default value of numeric_only in DataFrameGroupBy.mean is deprecated. In a future version, numeric_only will default to False. Either specify numeric_only or select only columns which should be valid for the function.\n",
      "  \"category_means\": dataset.groupby(dataset[column]).mean()[target_name]\n",
      "C:\\Users\\Aleksey Ryabykin\\AppData\\Local\\Temp\\ipykernel_284956\\2963386934.py:8: FutureWarning: The default value of numeric_only in DataFrameGroupBy.mean is deprecated. In a future version, numeric_only will default to False. Either specify numeric_only or select only columns which should be valid for the function.\n",
      "  \"category_means\": dataset.groupby(dataset[column]).mean()[target_name]\n"
     ]
    },
    {
     "name": "stdout",
     "output_type": "stream",
     "text": [
      "Fold number: 2, loss: 271.7150542130929\n"
     ]
    },
    {
     "name": "stderr",
     "output_type": "stream",
     "text": [
      "C:\\Users\\Aleksey Ryabykin\\AppData\\Local\\Temp\\ipykernel_284956\\2963386934.py:8: FutureWarning: The default value of numeric_only in DataFrameGroupBy.mean is deprecated. In a future version, numeric_only will default to False. Either specify numeric_only or select only columns which should be valid for the function.\n",
      "  \"category_means\": dataset.groupby(dataset[column]).mean()[target_name]\n",
      "C:\\Users\\Aleksey Ryabykin\\AppData\\Local\\Temp\\ipykernel_284956\\2963386934.py:8: FutureWarning: The default value of numeric_only in DataFrameGroupBy.mean is deprecated. In a future version, numeric_only will default to False. Either specify numeric_only or select only columns which should be valid for the function.\n",
      "  \"category_means\": dataset.groupby(dataset[column]).mean()[target_name]\n"
     ]
    },
    {
     "name": "stdout",
     "output_type": "stream",
     "text": [
      "Fold number: 3, loss: 387.72798754677024\n"
     ]
    },
    {
     "name": "stderr",
     "output_type": "stream",
     "text": [
      "C:\\Users\\Aleksey Ryabykin\\AppData\\Local\\Temp\\ipykernel_284956\\2963386934.py:8: FutureWarning: The default value of numeric_only in DataFrameGroupBy.mean is deprecated. In a future version, numeric_only will default to False. Either specify numeric_only or select only columns which should be valid for the function.\n",
      "  \"category_means\": dataset.groupby(dataset[column]).mean()[target_name]\n",
      "C:\\Users\\Aleksey Ryabykin\\AppData\\Local\\Temp\\ipykernel_284956\\2963386934.py:8: FutureWarning: The default value of numeric_only in DataFrameGroupBy.mean is deprecated. In a future version, numeric_only will default to False. Either specify numeric_only or select only columns which should be valid for the function.\n",
      "  \"category_means\": dataset.groupby(dataset[column]).mean()[target_name]\n"
     ]
    },
    {
     "name": "stdout",
     "output_type": "stream",
     "text": [
      "Fold number: 4, loss: 324.84800562232004\n"
     ]
    },
    {
     "name": "stderr",
     "output_type": "stream",
     "text": [
      "C:\\Users\\Aleksey Ryabykin\\AppData\\Local\\Temp\\ipykernel_284956\\2963386934.py:8: FutureWarning: The default value of numeric_only in DataFrameGroupBy.mean is deprecated. In a future version, numeric_only will default to False. Either specify numeric_only or select only columns which should be valid for the function.\n",
      "  \"category_means\": dataset.groupby(dataset[column]).mean()[target_name]\n",
      "C:\\Users\\Aleksey Ryabykin\\AppData\\Local\\Temp\\ipykernel_284956\\2963386934.py:8: FutureWarning: The default value of numeric_only in DataFrameGroupBy.mean is deprecated. In a future version, numeric_only will default to False. Either specify numeric_only or select only columns which should be valid for the function.\n",
      "  \"category_means\": dataset.groupby(dataset[column]).mean()[target_name]\n",
      "\u001b[32m[I 2022-12-21 00:42:39,470]\u001b[0m Trial 54 finished with value: 304.9694698001657 and parameters: {'x_0': 0.4541159047696452, 'x_1': 0.015441632855981392}. Best is trial 19 with value: 282.2052161524865.\u001b[0m\n"
     ]
    },
    {
     "name": "stdout",
     "output_type": "stream",
     "text": [
      "Fold number: 5, loss: 302.15799236096666\n",
      "Current weights: [0.20026934 0.13187448 0.66785618]\n"
     ]
    },
    {
     "name": "stderr",
     "output_type": "stream",
     "text": [
      "C:\\Users\\Aleksey Ryabykin\\AppData\\Local\\Temp\\ipykernel_284956\\2963386934.py:8: FutureWarning: The default value of numeric_only in DataFrameGroupBy.mean is deprecated. In a future version, numeric_only will default to False. Either specify numeric_only or select only columns which should be valid for the function.\n",
      "  \"category_means\": dataset.groupby(dataset[column]).mean()[target_name]\n",
      "C:\\Users\\Aleksey Ryabykin\\AppData\\Local\\Temp\\ipykernel_284956\\2963386934.py:8: FutureWarning: The default value of numeric_only in DataFrameGroupBy.mean is deprecated. In a future version, numeric_only will default to False. Either specify numeric_only or select only columns which should be valid for the function.\n",
      "  \"category_means\": dataset.groupby(dataset[column]).mean()[target_name]\n"
     ]
    },
    {
     "name": "stdout",
     "output_type": "stream",
     "text": [
      "Fold number: 1, loss: 316.13350023070103\n"
     ]
    },
    {
     "name": "stderr",
     "output_type": "stream",
     "text": [
      "C:\\Users\\Aleksey Ryabykin\\AppData\\Local\\Temp\\ipykernel_284956\\2963386934.py:8: FutureWarning: The default value of numeric_only in DataFrameGroupBy.mean is deprecated. In a future version, numeric_only will default to False. Either specify numeric_only or select only columns which should be valid for the function.\n",
      "  \"category_means\": dataset.groupby(dataset[column]).mean()[target_name]\n",
      "C:\\Users\\Aleksey Ryabykin\\AppData\\Local\\Temp\\ipykernel_284956\\2963386934.py:8: FutureWarning: The default value of numeric_only in DataFrameGroupBy.mean is deprecated. In a future version, numeric_only will default to False. Either specify numeric_only or select only columns which should be valid for the function.\n",
      "  \"category_means\": dataset.groupby(dataset[column]).mean()[target_name]\n"
     ]
    },
    {
     "name": "stdout",
     "output_type": "stream",
     "text": [
      "Fold number: 2, loss: 264.58526218381263\n"
     ]
    },
    {
     "name": "stderr",
     "output_type": "stream",
     "text": [
      "C:\\Users\\Aleksey Ryabykin\\AppData\\Local\\Temp\\ipykernel_284956\\2963386934.py:8: FutureWarning: The default value of numeric_only in DataFrameGroupBy.mean is deprecated. In a future version, numeric_only will default to False. Either specify numeric_only or select only columns which should be valid for the function.\n",
      "  \"category_means\": dataset.groupby(dataset[column]).mean()[target_name]\n",
      "C:\\Users\\Aleksey Ryabykin\\AppData\\Local\\Temp\\ipykernel_284956\\2963386934.py:8: FutureWarning: The default value of numeric_only in DataFrameGroupBy.mean is deprecated. In a future version, numeric_only will default to False. Either specify numeric_only or select only columns which should be valid for the function.\n",
      "  \"category_means\": dataset.groupby(dataset[column]).mean()[target_name]\n"
     ]
    },
    {
     "name": "stdout",
     "output_type": "stream",
     "text": [
      "Fold number: 3, loss: 267.9366792289078\n"
     ]
    },
    {
     "name": "stderr",
     "output_type": "stream",
     "text": [
      "C:\\Users\\Aleksey Ryabykin\\AppData\\Local\\Temp\\ipykernel_284956\\2963386934.py:8: FutureWarning: The default value of numeric_only in DataFrameGroupBy.mean is deprecated. In a future version, numeric_only will default to False. Either specify numeric_only or select only columns which should be valid for the function.\n",
      "  \"category_means\": dataset.groupby(dataset[column]).mean()[target_name]\n",
      "C:\\Users\\Aleksey Ryabykin\\AppData\\Local\\Temp\\ipykernel_284956\\2963386934.py:8: FutureWarning: The default value of numeric_only in DataFrameGroupBy.mean is deprecated. In a future version, numeric_only will default to False. Either specify numeric_only or select only columns which should be valid for the function.\n",
      "  \"category_means\": dataset.groupby(dataset[column]).mean()[target_name]\n"
     ]
    },
    {
     "name": "stdout",
     "output_type": "stream",
     "text": [
      "Fold number: 4, loss: 325.6720770102173\n"
     ]
    },
    {
     "name": "stderr",
     "output_type": "stream",
     "text": [
      "C:\\Users\\Aleksey Ryabykin\\AppData\\Local\\Temp\\ipykernel_284956\\2963386934.py:8: FutureWarning: The default value of numeric_only in DataFrameGroupBy.mean is deprecated. In a future version, numeric_only will default to False. Either specify numeric_only or select only columns which should be valid for the function.\n",
      "  \"category_means\": dataset.groupby(dataset[column]).mean()[target_name]\n",
      "C:\\Users\\Aleksey Ryabykin\\AppData\\Local\\Temp\\ipykernel_284956\\2963386934.py:8: FutureWarning: The default value of numeric_only in DataFrameGroupBy.mean is deprecated. In a future version, numeric_only will default to False. Either specify numeric_only or select only columns which should be valid for the function.\n",
      "  \"category_means\": dataset.groupby(dataset[column]).mean()[target_name]\n",
      "\u001b[32m[I 2022-12-21 00:43:00,715]\u001b[0m Trial 55 finished with value: 301.7188372723184 and parameters: {'x_0': 0.20026933661325214, 'x_1': 0.13187447973069616}. Best is trial 19 with value: 282.2052161524865.\u001b[0m\n"
     ]
    },
    {
     "name": "stdout",
     "output_type": "stream",
     "text": [
      "Fold number: 5, loss: 334.2666677079533\n",
      "Current weights: [0.36727506 0.06214095 0.570584  ]\n"
     ]
    },
    {
     "name": "stderr",
     "output_type": "stream",
     "text": [
      "C:\\Users\\Aleksey Ryabykin\\AppData\\Local\\Temp\\ipykernel_284956\\2963386934.py:8: FutureWarning: The default value of numeric_only in DataFrameGroupBy.mean is deprecated. In a future version, numeric_only will default to False. Either specify numeric_only or select only columns which should be valid for the function.\n",
      "  \"category_means\": dataset.groupby(dataset[column]).mean()[target_name]\n",
      "C:\\Users\\Aleksey Ryabykin\\AppData\\Local\\Temp\\ipykernel_284956\\2963386934.py:8: FutureWarning: The default value of numeric_only in DataFrameGroupBy.mean is deprecated. In a future version, numeric_only will default to False. Either specify numeric_only or select only columns which should be valid for the function.\n",
      "  \"category_means\": dataset.groupby(dataset[column]).mean()[target_name]\n"
     ]
    },
    {
     "name": "stdout",
     "output_type": "stream",
     "text": [
      "Fold number: 1, loss: 300.90042880756715\n"
     ]
    },
    {
     "name": "stderr",
     "output_type": "stream",
     "text": [
      "C:\\Users\\Aleksey Ryabykin\\AppData\\Local\\Temp\\ipykernel_284956\\2963386934.py:8: FutureWarning: The default value of numeric_only in DataFrameGroupBy.mean is deprecated. In a future version, numeric_only will default to False. Either specify numeric_only or select only columns which should be valid for the function.\n",
      "  \"category_means\": dataset.groupby(dataset[column]).mean()[target_name]\n",
      "C:\\Users\\Aleksey Ryabykin\\AppData\\Local\\Temp\\ipykernel_284956\\2963386934.py:8: FutureWarning: The default value of numeric_only in DataFrameGroupBy.mean is deprecated. In a future version, numeric_only will default to False. Either specify numeric_only or select only columns which should be valid for the function.\n",
      "  \"category_means\": dataset.groupby(dataset[column]).mean()[target_name]\n"
     ]
    },
    {
     "name": "stdout",
     "output_type": "stream",
     "text": [
      "Fold number: 2, loss: 292.8145916776805\n"
     ]
    },
    {
     "name": "stderr",
     "output_type": "stream",
     "text": [
      "C:\\Users\\Aleksey Ryabykin\\AppData\\Local\\Temp\\ipykernel_284956\\2963386934.py:8: FutureWarning: The default value of numeric_only in DataFrameGroupBy.mean is deprecated. In a future version, numeric_only will default to False. Either specify numeric_only or select only columns which should be valid for the function.\n",
      "  \"category_means\": dataset.groupby(dataset[column]).mean()[target_name]\n",
      "C:\\Users\\Aleksey Ryabykin\\AppData\\Local\\Temp\\ipykernel_284956\\2963386934.py:8: FutureWarning: The default value of numeric_only in DataFrameGroupBy.mean is deprecated. In a future version, numeric_only will default to False. Either specify numeric_only or select only columns which should be valid for the function.\n",
      "  \"category_means\": dataset.groupby(dataset[column]).mean()[target_name]\n"
     ]
    },
    {
     "name": "stdout",
     "output_type": "stream",
     "text": [
      "Fold number: 3, loss: 328.11530802210973\n"
     ]
    },
    {
     "name": "stderr",
     "output_type": "stream",
     "text": [
      "C:\\Users\\Aleksey Ryabykin\\AppData\\Local\\Temp\\ipykernel_284956\\2963386934.py:8: FutureWarning: The default value of numeric_only in DataFrameGroupBy.mean is deprecated. In a future version, numeric_only will default to False. Either specify numeric_only or select only columns which should be valid for the function.\n",
      "  \"category_means\": dataset.groupby(dataset[column]).mean()[target_name]\n",
      "C:\\Users\\Aleksey Ryabykin\\AppData\\Local\\Temp\\ipykernel_284956\\2963386934.py:8: FutureWarning: The default value of numeric_only in DataFrameGroupBy.mean is deprecated. In a future version, numeric_only will default to False. Either specify numeric_only or select only columns which should be valid for the function.\n",
      "  \"category_means\": dataset.groupby(dataset[column]).mean()[target_name]\n"
     ]
    },
    {
     "name": "stdout",
     "output_type": "stream",
     "text": [
      "Fold number: 4, loss: 302.83812950583064\n"
     ]
    },
    {
     "name": "stderr",
     "output_type": "stream",
     "text": [
      "C:\\Users\\Aleksey Ryabykin\\AppData\\Local\\Temp\\ipykernel_284956\\2963386934.py:8: FutureWarning: The default value of numeric_only in DataFrameGroupBy.mean is deprecated. In a future version, numeric_only will default to False. Either specify numeric_only or select only columns which should be valid for the function.\n",
      "  \"category_means\": dataset.groupby(dataset[column]).mean()[target_name]\n",
      "C:\\Users\\Aleksey Ryabykin\\AppData\\Local\\Temp\\ipykernel_284956\\2963386934.py:8: FutureWarning: The default value of numeric_only in DataFrameGroupBy.mean is deprecated. In a future version, numeric_only will default to False. Either specify numeric_only or select only columns which should be valid for the function.\n",
      "  \"category_means\": dataset.groupby(dataset[column]).mean()[target_name]\n",
      "\u001b[32m[I 2022-12-21 00:43:21,148]\u001b[0m Trial 56 finished with value: 304.4605517863941 and parameters: {'x_0': 0.36727505728556226, 'x_1': 0.062140946933655516}. Best is trial 19 with value: 282.2052161524865.\u001b[0m\n"
     ]
    },
    {
     "name": "stdout",
     "output_type": "stream",
     "text": [
      "Fold number: 5, loss: 297.63430091878246\n",
      "Current weights: [0.0923619  0.22011727 0.68752082]\n"
     ]
    },
    {
     "name": "stderr",
     "output_type": "stream",
     "text": [
      "C:\\Users\\Aleksey Ryabykin\\AppData\\Local\\Temp\\ipykernel_284956\\2963386934.py:8: FutureWarning: The default value of numeric_only in DataFrameGroupBy.mean is deprecated. In a future version, numeric_only will default to False. Either specify numeric_only or select only columns which should be valid for the function.\n",
      "  \"category_means\": dataset.groupby(dataset[column]).mean()[target_name]\n",
      "C:\\Users\\Aleksey Ryabykin\\AppData\\Local\\Temp\\ipykernel_284956\\2963386934.py:8: FutureWarning: The default value of numeric_only in DataFrameGroupBy.mean is deprecated. In a future version, numeric_only will default to False. Either specify numeric_only or select only columns which should be valid for the function.\n",
      "  \"category_means\": dataset.groupby(dataset[column]).mean()[target_name]\n"
     ]
    },
    {
     "name": "stdout",
     "output_type": "stream",
     "text": [
      "Fold number: 1, loss: 275.8764666044168\n"
     ]
    },
    {
     "name": "stderr",
     "output_type": "stream",
     "text": [
      "C:\\Users\\Aleksey Ryabykin\\AppData\\Local\\Temp\\ipykernel_284956\\2963386934.py:8: FutureWarning: The default value of numeric_only in DataFrameGroupBy.mean is deprecated. In a future version, numeric_only will default to False. Either specify numeric_only or select only columns which should be valid for the function.\n",
      "  \"category_means\": dataset.groupby(dataset[column]).mean()[target_name]\n",
      "C:\\Users\\Aleksey Ryabykin\\AppData\\Local\\Temp\\ipykernel_284956\\2963386934.py:8: FutureWarning: The default value of numeric_only in DataFrameGroupBy.mean is deprecated. In a future version, numeric_only will default to False. Either specify numeric_only or select only columns which should be valid for the function.\n",
      "  \"category_means\": dataset.groupby(dataset[column]).mean()[target_name]\n"
     ]
    },
    {
     "name": "stdout",
     "output_type": "stream",
     "text": [
      "Fold number: 2, loss: 291.2296904782262\n"
     ]
    },
    {
     "name": "stderr",
     "output_type": "stream",
     "text": [
      "C:\\Users\\Aleksey Ryabykin\\AppData\\Local\\Temp\\ipykernel_284956\\2963386934.py:8: FutureWarning: The default value of numeric_only in DataFrameGroupBy.mean is deprecated. In a future version, numeric_only will default to False. Either specify numeric_only or select only columns which should be valid for the function.\n",
      "  \"category_means\": dataset.groupby(dataset[column]).mean()[target_name]\n",
      "C:\\Users\\Aleksey Ryabykin\\AppData\\Local\\Temp\\ipykernel_284956\\2963386934.py:8: FutureWarning: The default value of numeric_only in DataFrameGroupBy.mean is deprecated. In a future version, numeric_only will default to False. Either specify numeric_only or select only columns which should be valid for the function.\n",
      "  \"category_means\": dataset.groupby(dataset[column]).mean()[target_name]\n"
     ]
    },
    {
     "name": "stdout",
     "output_type": "stream",
     "text": [
      "Fold number: 3, loss: 311.65734237868105\n"
     ]
    },
    {
     "name": "stderr",
     "output_type": "stream",
     "text": [
      "C:\\Users\\Aleksey Ryabykin\\AppData\\Local\\Temp\\ipykernel_284956\\2963386934.py:8: FutureWarning: The default value of numeric_only in DataFrameGroupBy.mean is deprecated. In a future version, numeric_only will default to False. Either specify numeric_only or select only columns which should be valid for the function.\n",
      "  \"category_means\": dataset.groupby(dataset[column]).mean()[target_name]\n",
      "C:\\Users\\Aleksey Ryabykin\\AppData\\Local\\Temp\\ipykernel_284956\\2963386934.py:8: FutureWarning: The default value of numeric_only in DataFrameGroupBy.mean is deprecated. In a future version, numeric_only will default to False. Either specify numeric_only or select only columns which should be valid for the function.\n",
      "  \"category_means\": dataset.groupby(dataset[column]).mean()[target_name]\n"
     ]
    },
    {
     "name": "stdout",
     "output_type": "stream",
     "text": [
      "Fold number: 4, loss: 275.0867296627384\n"
     ]
    },
    {
     "name": "stderr",
     "output_type": "stream",
     "text": [
      "C:\\Users\\Aleksey Ryabykin\\AppData\\Local\\Temp\\ipykernel_284956\\2963386934.py:8: FutureWarning: The default value of numeric_only in DataFrameGroupBy.mean is deprecated. In a future version, numeric_only will default to False. Either specify numeric_only or select only columns which should be valid for the function.\n",
      "  \"category_means\": dataset.groupby(dataset[column]).mean()[target_name]\n",
      "C:\\Users\\Aleksey Ryabykin\\AppData\\Local\\Temp\\ipykernel_284956\\2963386934.py:8: FutureWarning: The default value of numeric_only in DataFrameGroupBy.mean is deprecated. In a future version, numeric_only will default to False. Either specify numeric_only or select only columns which should be valid for the function.\n",
      "  \"category_means\": dataset.groupby(dataset[column]).mean()[target_name]\n",
      "\u001b[32m[I 2022-12-21 00:43:41,374]\u001b[0m Trial 57 finished with value: 305.6771950358291 and parameters: {'x_0': 0.09236190471655853, 'x_1': 0.2201172719856782}. Best is trial 19 with value: 282.2052161524865.\u001b[0m\n"
     ]
    },
    {
     "name": "stdout",
     "output_type": "stream",
     "text": [
      "Fold number: 5, loss: 374.5357460550829\n",
      "Current weights: [0.02237464 0.85821536 0.11941   ]\n"
     ]
    },
    {
     "name": "stderr",
     "output_type": "stream",
     "text": [
      "C:\\Users\\Aleksey Ryabykin\\AppData\\Local\\Temp\\ipykernel_284956\\2963386934.py:8: FutureWarning: The default value of numeric_only in DataFrameGroupBy.mean is deprecated. In a future version, numeric_only will default to False. Either specify numeric_only or select only columns which should be valid for the function.\n",
      "  \"category_means\": dataset.groupby(dataset[column]).mean()[target_name]\n",
      "C:\\Users\\Aleksey Ryabykin\\AppData\\Local\\Temp\\ipykernel_284956\\2963386934.py:8: FutureWarning: The default value of numeric_only in DataFrameGroupBy.mean is deprecated. In a future version, numeric_only will default to False. Either specify numeric_only or select only columns which should be valid for the function.\n",
      "  \"category_means\": dataset.groupby(dataset[column]).mean()[target_name]\n"
     ]
    },
    {
     "name": "stdout",
     "output_type": "stream",
     "text": [
      "Fold number: 1, loss: 416.11315588698517\n"
     ]
    },
    {
     "name": "stderr",
     "output_type": "stream",
     "text": [
      "C:\\Users\\Aleksey Ryabykin\\AppData\\Local\\Temp\\ipykernel_284956\\2963386934.py:8: FutureWarning: The default value of numeric_only in DataFrameGroupBy.mean is deprecated. In a future version, numeric_only will default to False. Either specify numeric_only or select only columns which should be valid for the function.\n",
      "  \"category_means\": dataset.groupby(dataset[column]).mean()[target_name]\n",
      "C:\\Users\\Aleksey Ryabykin\\AppData\\Local\\Temp\\ipykernel_284956\\2963386934.py:8: FutureWarning: The default value of numeric_only in DataFrameGroupBy.mean is deprecated. In a future version, numeric_only will default to False. Either specify numeric_only or select only columns which should be valid for the function.\n",
      "  \"category_means\": dataset.groupby(dataset[column]).mean()[target_name]\n"
     ]
    },
    {
     "name": "stdout",
     "output_type": "stream",
     "text": [
      "Fold number: 2, loss: 363.286642723253\n"
     ]
    },
    {
     "name": "stderr",
     "output_type": "stream",
     "text": [
      "C:\\Users\\Aleksey Ryabykin\\AppData\\Local\\Temp\\ipykernel_284956\\2963386934.py:8: FutureWarning: The default value of numeric_only in DataFrameGroupBy.mean is deprecated. In a future version, numeric_only will default to False. Either specify numeric_only or select only columns which should be valid for the function.\n",
      "  \"category_means\": dataset.groupby(dataset[column]).mean()[target_name]\n",
      "C:\\Users\\Aleksey Ryabykin\\AppData\\Local\\Temp\\ipykernel_284956\\2963386934.py:8: FutureWarning: The default value of numeric_only in DataFrameGroupBy.mean is deprecated. In a future version, numeric_only will default to False. Either specify numeric_only or select only columns which should be valid for the function.\n",
      "  \"category_means\": dataset.groupby(dataset[column]).mean()[target_name]\n"
     ]
    },
    {
     "name": "stdout",
     "output_type": "stream",
     "text": [
      "Fold number: 3, loss: 296.7749518357384\n"
     ]
    },
    {
     "name": "stderr",
     "output_type": "stream",
     "text": [
      "C:\\Users\\Aleksey Ryabykin\\AppData\\Local\\Temp\\ipykernel_284956\\2963386934.py:8: FutureWarning: The default value of numeric_only in DataFrameGroupBy.mean is deprecated. In a future version, numeric_only will default to False. Either specify numeric_only or select only columns which should be valid for the function.\n",
      "  \"category_means\": dataset.groupby(dataset[column]).mean()[target_name]\n",
      "C:\\Users\\Aleksey Ryabykin\\AppData\\Local\\Temp\\ipykernel_284956\\2963386934.py:8: FutureWarning: The default value of numeric_only in DataFrameGroupBy.mean is deprecated. In a future version, numeric_only will default to False. Either specify numeric_only or select only columns which should be valid for the function.\n",
      "  \"category_means\": dataset.groupby(dataset[column]).mean()[target_name]\n"
     ]
    },
    {
     "name": "stdout",
     "output_type": "stream",
     "text": [
      "Fold number: 4, loss: 361.87991044782854\n"
     ]
    },
    {
     "name": "stderr",
     "output_type": "stream",
     "text": [
      "C:\\Users\\Aleksey Ryabykin\\AppData\\Local\\Temp\\ipykernel_284956\\2963386934.py:8: FutureWarning: The default value of numeric_only in DataFrameGroupBy.mean is deprecated. In a future version, numeric_only will default to False. Either specify numeric_only or select only columns which should be valid for the function.\n",
      "  \"category_means\": dataset.groupby(dataset[column]).mean()[target_name]\n",
      "C:\\Users\\Aleksey Ryabykin\\AppData\\Local\\Temp\\ipykernel_284956\\2963386934.py:8: FutureWarning: The default value of numeric_only in DataFrameGroupBy.mean is deprecated. In a future version, numeric_only will default to False. Either specify numeric_only or select only columns which should be valid for the function.\n",
      "  \"category_means\": dataset.groupby(dataset[column]).mean()[target_name]\n",
      "\u001b[32m[I 2022-12-21 00:44:02,673]\u001b[0m Trial 58 finished with value: 365.08474227055683 and parameters: {'x_0': 0.022374638543947306, 'x_1': 0.8582153564610646}. Best is trial 19 with value: 282.2052161524865.\u001b[0m\n"
     ]
    },
    {
     "name": "stdout",
     "output_type": "stream",
     "text": [
      "Fold number: 5, loss: 387.3690504589792\n",
      "Current weights: [0.1337827  0.56286873 0.30334857]\n"
     ]
    },
    {
     "name": "stderr",
     "output_type": "stream",
     "text": [
      "C:\\Users\\Aleksey Ryabykin\\AppData\\Local\\Temp\\ipykernel_284956\\2963386934.py:8: FutureWarning: The default value of numeric_only in DataFrameGroupBy.mean is deprecated. In a future version, numeric_only will default to False. Either specify numeric_only or select only columns which should be valid for the function.\n",
      "  \"category_means\": dataset.groupby(dataset[column]).mean()[target_name]\n",
      "C:\\Users\\Aleksey Ryabykin\\AppData\\Local\\Temp\\ipykernel_284956\\2963386934.py:8: FutureWarning: The default value of numeric_only in DataFrameGroupBy.mean is deprecated. In a future version, numeric_only will default to False. Either specify numeric_only or select only columns which should be valid for the function.\n",
      "  \"category_means\": dataset.groupby(dataset[column]).mean()[target_name]\n"
     ]
    },
    {
     "name": "stdout",
     "output_type": "stream",
     "text": [
      "Fold number: 1, loss: 336.0014016161704\n"
     ]
    },
    {
     "name": "stderr",
     "output_type": "stream",
     "text": [
      "C:\\Users\\Aleksey Ryabykin\\AppData\\Local\\Temp\\ipykernel_284956\\2963386934.py:8: FutureWarning: The default value of numeric_only in DataFrameGroupBy.mean is deprecated. In a future version, numeric_only will default to False. Either specify numeric_only or select only columns which should be valid for the function.\n",
      "  \"category_means\": dataset.groupby(dataset[column]).mean()[target_name]\n",
      "C:\\Users\\Aleksey Ryabykin\\AppData\\Local\\Temp\\ipykernel_284956\\2963386934.py:8: FutureWarning: The default value of numeric_only in DataFrameGroupBy.mean is deprecated. In a future version, numeric_only will default to False. Either specify numeric_only or select only columns which should be valid for the function.\n",
      "  \"category_means\": dataset.groupby(dataset[column]).mean()[target_name]\n"
     ]
    },
    {
     "name": "stdout",
     "output_type": "stream",
     "text": [
      "Fold number: 2, loss: 332.5342260183417\n"
     ]
    },
    {
     "name": "stderr",
     "output_type": "stream",
     "text": [
      "C:\\Users\\Aleksey Ryabykin\\AppData\\Local\\Temp\\ipykernel_284956\\2963386934.py:8: FutureWarning: The default value of numeric_only in DataFrameGroupBy.mean is deprecated. In a future version, numeric_only will default to False. Either specify numeric_only or select only columns which should be valid for the function.\n",
      "  \"category_means\": dataset.groupby(dataset[column]).mean()[target_name]\n",
      "C:\\Users\\Aleksey Ryabykin\\AppData\\Local\\Temp\\ipykernel_284956\\2963386934.py:8: FutureWarning: The default value of numeric_only in DataFrameGroupBy.mean is deprecated. In a future version, numeric_only will default to False. Either specify numeric_only or select only columns which should be valid for the function.\n",
      "  \"category_means\": dataset.groupby(dataset[column]).mean()[target_name]\n"
     ]
    },
    {
     "name": "stdout",
     "output_type": "stream",
     "text": [
      "Fold number: 3, loss: 331.8994548936578\n"
     ]
    },
    {
     "name": "stderr",
     "output_type": "stream",
     "text": [
      "C:\\Users\\Aleksey Ryabykin\\AppData\\Local\\Temp\\ipykernel_284956\\2963386934.py:8: FutureWarning: The default value of numeric_only in DataFrameGroupBy.mean is deprecated. In a future version, numeric_only will default to False. Either specify numeric_only or select only columns which should be valid for the function.\n",
      "  \"category_means\": dataset.groupby(dataset[column]).mean()[target_name]\n",
      "C:\\Users\\Aleksey Ryabykin\\AppData\\Local\\Temp\\ipykernel_284956\\2963386934.py:8: FutureWarning: The default value of numeric_only in DataFrameGroupBy.mean is deprecated. In a future version, numeric_only will default to False. Either specify numeric_only or select only columns which should be valid for the function.\n",
      "  \"category_means\": dataset.groupby(dataset[column]).mean()[target_name]\n"
     ]
    },
    {
     "name": "stdout",
     "output_type": "stream",
     "text": [
      "Fold number: 4, loss: 311.4270718824854\n"
     ]
    },
    {
     "name": "stderr",
     "output_type": "stream",
     "text": [
      "C:\\Users\\Aleksey Ryabykin\\AppData\\Local\\Temp\\ipykernel_284956\\2963386934.py:8: FutureWarning: The default value of numeric_only in DataFrameGroupBy.mean is deprecated. In a future version, numeric_only will default to False. Either specify numeric_only or select only columns which should be valid for the function.\n",
      "  \"category_means\": dataset.groupby(dataset[column]).mean()[target_name]\n",
      "C:\\Users\\Aleksey Ryabykin\\AppData\\Local\\Temp\\ipykernel_284956\\2963386934.py:8: FutureWarning: The default value of numeric_only in DataFrameGroupBy.mean is deprecated. In a future version, numeric_only will default to False. Either specify numeric_only or select only columns which should be valid for the function.\n",
      "  \"category_means\": dataset.groupby(dataset[column]).mean()[target_name]\n",
      "\u001b[32m[I 2022-12-21 00:44:24,320]\u001b[0m Trial 59 finished with value: 327.86158095524263 and parameters: {'x_0': 0.1337827002112232, 'x_1': 0.5628687277313205}. Best is trial 19 with value: 282.2052161524865.\u001b[0m\n"
     ]
    },
    {
     "name": "stdout",
     "output_type": "stream",
     "text": [
      "Fold number: 5, loss: 327.4457503655577\n",
      "Current weights: [0.29625111 0.17790689 0.525842  ]\n"
     ]
    },
    {
     "name": "stderr",
     "output_type": "stream",
     "text": [
      "C:\\Users\\Aleksey Ryabykin\\AppData\\Local\\Temp\\ipykernel_284956\\2963386934.py:8: FutureWarning: The default value of numeric_only in DataFrameGroupBy.mean is deprecated. In a future version, numeric_only will default to False. Either specify numeric_only or select only columns which should be valid for the function.\n",
      "  \"category_means\": dataset.groupby(dataset[column]).mean()[target_name]\n",
      "C:\\Users\\Aleksey Ryabykin\\AppData\\Local\\Temp\\ipykernel_284956\\2963386934.py:8: FutureWarning: The default value of numeric_only in DataFrameGroupBy.mean is deprecated. In a future version, numeric_only will default to False. Either specify numeric_only or select only columns which should be valid for the function.\n",
      "  \"category_means\": dataset.groupby(dataset[column]).mean()[target_name]\n"
     ]
    },
    {
     "name": "stdout",
     "output_type": "stream",
     "text": [
      "Fold number: 1, loss: 331.32038501685014\n"
     ]
    },
    {
     "name": "stderr",
     "output_type": "stream",
     "text": [
      "C:\\Users\\Aleksey Ryabykin\\AppData\\Local\\Temp\\ipykernel_284956\\2963386934.py:8: FutureWarning: The default value of numeric_only in DataFrameGroupBy.mean is deprecated. In a future version, numeric_only will default to False. Either specify numeric_only or select only columns which should be valid for the function.\n",
      "  \"category_means\": dataset.groupby(dataset[column]).mean()[target_name]\n",
      "C:\\Users\\Aleksey Ryabykin\\AppData\\Local\\Temp\\ipykernel_284956\\2963386934.py:8: FutureWarning: The default value of numeric_only in DataFrameGroupBy.mean is deprecated. In a future version, numeric_only will default to False. Either specify numeric_only or select only columns which should be valid for the function.\n",
      "  \"category_means\": dataset.groupby(dataset[column]).mean()[target_name]\n"
     ]
    },
    {
     "name": "stdout",
     "output_type": "stream",
     "text": [
      "Fold number: 2, loss: 286.24464176009957\n"
     ]
    },
    {
     "name": "stderr",
     "output_type": "stream",
     "text": [
      "C:\\Users\\Aleksey Ryabykin\\AppData\\Local\\Temp\\ipykernel_284956\\2963386934.py:8: FutureWarning: The default value of numeric_only in DataFrameGroupBy.mean is deprecated. In a future version, numeric_only will default to False. Either specify numeric_only or select only columns which should be valid for the function.\n",
      "  \"category_means\": dataset.groupby(dataset[column]).mean()[target_name]\n",
      "C:\\Users\\Aleksey Ryabykin\\AppData\\Local\\Temp\\ipykernel_284956\\2963386934.py:8: FutureWarning: The default value of numeric_only in DataFrameGroupBy.mean is deprecated. In a future version, numeric_only will default to False. Either specify numeric_only or select only columns which should be valid for the function.\n",
      "  \"category_means\": dataset.groupby(dataset[column]).mean()[target_name]\n"
     ]
    },
    {
     "name": "stdout",
     "output_type": "stream",
     "text": [
      "Fold number: 3, loss: 288.3340189869994\n"
     ]
    },
    {
     "name": "stderr",
     "output_type": "stream",
     "text": [
      "C:\\Users\\Aleksey Ryabykin\\AppData\\Local\\Temp\\ipykernel_284956\\2963386934.py:8: FutureWarning: The default value of numeric_only in DataFrameGroupBy.mean is deprecated. In a future version, numeric_only will default to False. Either specify numeric_only or select only columns which should be valid for the function.\n",
      "  \"category_means\": dataset.groupby(dataset[column]).mean()[target_name]\n",
      "C:\\Users\\Aleksey Ryabykin\\AppData\\Local\\Temp\\ipykernel_284956\\2963386934.py:8: FutureWarning: The default value of numeric_only in DataFrameGroupBy.mean is deprecated. In a future version, numeric_only will default to False. Either specify numeric_only or select only columns which should be valid for the function.\n",
      "  \"category_means\": dataset.groupby(dataset[column]).mean()[target_name]\n"
     ]
    },
    {
     "name": "stdout",
     "output_type": "stream",
     "text": [
      "Fold number: 4, loss: 335.78858310234324\n"
     ]
    },
    {
     "name": "stderr",
     "output_type": "stream",
     "text": [
      "C:\\Users\\Aleksey Ryabykin\\AppData\\Local\\Temp\\ipykernel_284956\\2963386934.py:8: FutureWarning: The default value of numeric_only in DataFrameGroupBy.mean is deprecated. In a future version, numeric_only will default to False. Either specify numeric_only or select only columns which should be valid for the function.\n",
      "  \"category_means\": dataset.groupby(dataset[column]).mean()[target_name]\n",
      "C:\\Users\\Aleksey Ryabykin\\AppData\\Local\\Temp\\ipykernel_284956\\2963386934.py:8: FutureWarning: The default value of numeric_only in DataFrameGroupBy.mean is deprecated. In a future version, numeric_only will default to False. Either specify numeric_only or select only columns which should be valid for the function.\n",
      "  \"category_means\": dataset.groupby(dataset[column]).mean()[target_name]\n",
      "\u001b[32m[I 2022-12-21 00:44:46,397]\u001b[0m Trial 60 finished with value: 306.30107152574647 and parameters: {'x_0': 0.2962511097535504, 'x_1': 0.17790689147970323}. Best is trial 19 with value: 282.2052161524865.\u001b[0m\n"
     ]
    },
    {
     "name": "stdout",
     "output_type": "stream",
     "text": [
      "Fold number: 5, loss: 289.8177287624402\n",
      "Current weights: [0.15487871 0.08804963 0.75707166]\n"
     ]
    },
    {
     "name": "stderr",
     "output_type": "stream",
     "text": [
      "C:\\Users\\Aleksey Ryabykin\\AppData\\Local\\Temp\\ipykernel_284956\\2963386934.py:8: FutureWarning: The default value of numeric_only in DataFrameGroupBy.mean is deprecated. In a future version, numeric_only will default to False. Either specify numeric_only or select only columns which should be valid for the function.\n",
      "  \"category_means\": dataset.groupby(dataset[column]).mean()[target_name]\n",
      "C:\\Users\\Aleksey Ryabykin\\AppData\\Local\\Temp\\ipykernel_284956\\2963386934.py:8: FutureWarning: The default value of numeric_only in DataFrameGroupBy.mean is deprecated. In a future version, numeric_only will default to False. Either specify numeric_only or select only columns which should be valid for the function.\n",
      "  \"category_means\": dataset.groupby(dataset[column]).mean()[target_name]\n"
     ]
    },
    {
     "name": "stdout",
     "output_type": "stream",
     "text": [
      "Fold number: 1, loss: 275.1831309052038\n"
     ]
    },
    {
     "name": "stderr",
     "output_type": "stream",
     "text": [
      "C:\\Users\\Aleksey Ryabykin\\AppData\\Local\\Temp\\ipykernel_284956\\2963386934.py:8: FutureWarning: The default value of numeric_only in DataFrameGroupBy.mean is deprecated. In a future version, numeric_only will default to False. Either specify numeric_only or select only columns which should be valid for the function.\n",
      "  \"category_means\": dataset.groupby(dataset[column]).mean()[target_name]\n",
      "C:\\Users\\Aleksey Ryabykin\\AppData\\Local\\Temp\\ipykernel_284956\\2963386934.py:8: FutureWarning: The default value of numeric_only in DataFrameGroupBy.mean is deprecated. In a future version, numeric_only will default to False. Either specify numeric_only or select only columns which should be valid for the function.\n",
      "  \"category_means\": dataset.groupby(dataset[column]).mean()[target_name]\n"
     ]
    },
    {
     "name": "stdout",
     "output_type": "stream",
     "text": [
      "Fold number: 2, loss: 294.8942717999965\n"
     ]
    },
    {
     "name": "stderr",
     "output_type": "stream",
     "text": [
      "C:\\Users\\Aleksey Ryabykin\\AppData\\Local\\Temp\\ipykernel_284956\\2963386934.py:8: FutureWarning: The default value of numeric_only in DataFrameGroupBy.mean is deprecated. In a future version, numeric_only will default to False. Either specify numeric_only or select only columns which should be valid for the function.\n",
      "  \"category_means\": dataset.groupby(dataset[column]).mean()[target_name]\n",
      "C:\\Users\\Aleksey Ryabykin\\AppData\\Local\\Temp\\ipykernel_284956\\2963386934.py:8: FutureWarning: The default value of numeric_only in DataFrameGroupBy.mean is deprecated. In a future version, numeric_only will default to False. Either specify numeric_only or select only columns which should be valid for the function.\n",
      "  \"category_means\": dataset.groupby(dataset[column]).mean()[target_name]\n"
     ]
    },
    {
     "name": "stdout",
     "output_type": "stream",
     "text": [
      "Fold number: 3, loss: 267.59914210838315\n"
     ]
    },
    {
     "name": "stderr",
     "output_type": "stream",
     "text": [
      "C:\\Users\\Aleksey Ryabykin\\AppData\\Local\\Temp\\ipykernel_284956\\2963386934.py:8: FutureWarning: The default value of numeric_only in DataFrameGroupBy.mean is deprecated. In a future version, numeric_only will default to False. Either specify numeric_only or select only columns which should be valid for the function.\n",
      "  \"category_means\": dataset.groupby(dataset[column]).mean()[target_name]\n",
      "C:\\Users\\Aleksey Ryabykin\\AppData\\Local\\Temp\\ipykernel_284956\\2963386934.py:8: FutureWarning: The default value of numeric_only in DataFrameGroupBy.mean is deprecated. In a future version, numeric_only will default to False. Either specify numeric_only or select only columns which should be valid for the function.\n",
      "  \"category_means\": dataset.groupby(dataset[column]).mean()[target_name]\n"
     ]
    },
    {
     "name": "stdout",
     "output_type": "stream",
     "text": [
      "Fold number: 4, loss: 315.17504197627557\n"
     ]
    },
    {
     "name": "stderr",
     "output_type": "stream",
     "text": [
      "C:\\Users\\Aleksey Ryabykin\\AppData\\Local\\Temp\\ipykernel_284956\\2963386934.py:8: FutureWarning: The default value of numeric_only in DataFrameGroupBy.mean is deprecated. In a future version, numeric_only will default to False. Either specify numeric_only or select only columns which should be valid for the function.\n",
      "  \"category_means\": dataset.groupby(dataset[column]).mean()[target_name]\n",
      "C:\\Users\\Aleksey Ryabykin\\AppData\\Local\\Temp\\ipykernel_284956\\2963386934.py:8: FutureWarning: The default value of numeric_only in DataFrameGroupBy.mean is deprecated. In a future version, numeric_only will default to False. Either specify numeric_only or select only columns which should be valid for the function.\n",
      "  \"category_means\": dataset.groupby(dataset[column]).mean()[target_name]\n",
      "\u001b[32m[I 2022-12-21 00:45:07,212]\u001b[0m Trial 61 finished with value: 291.5864360156095 and parameters: {'x_0': 0.15487871439516185, 'x_1': 0.0880496251045243}. Best is trial 19 with value: 282.2052161524865.\u001b[0m\n"
     ]
    },
    {
     "name": "stdout",
     "output_type": "stream",
     "text": [
      "Fold number: 5, loss: 305.0805932881883\n",
      "Current weights: [0.17616208 0.00252303 0.8213149 ]\n"
     ]
    },
    {
     "name": "stderr",
     "output_type": "stream",
     "text": [
      "C:\\Users\\Aleksey Ryabykin\\AppData\\Local\\Temp\\ipykernel_284956\\2963386934.py:8: FutureWarning: The default value of numeric_only in DataFrameGroupBy.mean is deprecated. In a future version, numeric_only will default to False. Either specify numeric_only or select only columns which should be valid for the function.\n",
      "  \"category_means\": dataset.groupby(dataset[column]).mean()[target_name]\n",
      "C:\\Users\\Aleksey Ryabykin\\AppData\\Local\\Temp\\ipykernel_284956\\2963386934.py:8: FutureWarning: The default value of numeric_only in DataFrameGroupBy.mean is deprecated. In a future version, numeric_only will default to False. Either specify numeric_only or select only columns which should be valid for the function.\n",
      "  \"category_means\": dataset.groupby(dataset[column]).mean()[target_name]\n"
     ]
    },
    {
     "name": "stdout",
     "output_type": "stream",
     "text": [
      "Fold number: 1, loss: 266.2383284431895\n"
     ]
    },
    {
     "name": "stderr",
     "output_type": "stream",
     "text": [
      "C:\\Users\\Aleksey Ryabykin\\AppData\\Local\\Temp\\ipykernel_284956\\2963386934.py:8: FutureWarning: The default value of numeric_only in DataFrameGroupBy.mean is deprecated. In a future version, numeric_only will default to False. Either specify numeric_only or select only columns which should be valid for the function.\n",
      "  \"category_means\": dataset.groupby(dataset[column]).mean()[target_name]\n",
      "C:\\Users\\Aleksey Ryabykin\\AppData\\Local\\Temp\\ipykernel_284956\\2963386934.py:8: FutureWarning: The default value of numeric_only in DataFrameGroupBy.mean is deprecated. In a future version, numeric_only will default to False. Either specify numeric_only or select only columns which should be valid for the function.\n",
      "  \"category_means\": dataset.groupby(dataset[column]).mean()[target_name]\n"
     ]
    },
    {
     "name": "stdout",
     "output_type": "stream",
     "text": [
      "Fold number: 2, loss: 309.3480347531378\n"
     ]
    },
    {
     "name": "stderr",
     "output_type": "stream",
     "text": [
      "C:\\Users\\Aleksey Ryabykin\\AppData\\Local\\Temp\\ipykernel_284956\\2963386934.py:8: FutureWarning: The default value of numeric_only in DataFrameGroupBy.mean is deprecated. In a future version, numeric_only will default to False. Either specify numeric_only or select only columns which should be valid for the function.\n",
      "  \"category_means\": dataset.groupby(dataset[column]).mean()[target_name]\n",
      "C:\\Users\\Aleksey Ryabykin\\AppData\\Local\\Temp\\ipykernel_284956\\2963386934.py:8: FutureWarning: The default value of numeric_only in DataFrameGroupBy.mean is deprecated. In a future version, numeric_only will default to False. Either specify numeric_only or select only columns which should be valid for the function.\n",
      "  \"category_means\": dataset.groupby(dataset[column]).mean()[target_name]\n"
     ]
    },
    {
     "name": "stdout",
     "output_type": "stream",
     "text": [
      "Fold number: 3, loss: 232.09209129176895\n"
     ]
    },
    {
     "name": "stderr",
     "output_type": "stream",
     "text": [
      "C:\\Users\\Aleksey Ryabykin\\AppData\\Local\\Temp\\ipykernel_284956\\2963386934.py:8: FutureWarning: The default value of numeric_only in DataFrameGroupBy.mean is deprecated. In a future version, numeric_only will default to False. Either specify numeric_only or select only columns which should be valid for the function.\n",
      "  \"category_means\": dataset.groupby(dataset[column]).mean()[target_name]\n",
      "C:\\Users\\Aleksey Ryabykin\\AppData\\Local\\Temp\\ipykernel_284956\\2963386934.py:8: FutureWarning: The default value of numeric_only in DataFrameGroupBy.mean is deprecated. In a future version, numeric_only will default to False. Either specify numeric_only or select only columns which should be valid for the function.\n",
      "  \"category_means\": dataset.groupby(dataset[column]).mean()[target_name]\n"
     ]
    },
    {
     "name": "stdout",
     "output_type": "stream",
     "text": [
      "Fold number: 4, loss: 322.04432177257314\n"
     ]
    },
    {
     "name": "stderr",
     "output_type": "stream",
     "text": [
      "C:\\Users\\Aleksey Ryabykin\\AppData\\Local\\Temp\\ipykernel_284956\\2963386934.py:8: FutureWarning: The default value of numeric_only in DataFrameGroupBy.mean is deprecated. In a future version, numeric_only will default to False. Either specify numeric_only or select only columns which should be valid for the function.\n",
      "  \"category_means\": dataset.groupby(dataset[column]).mean()[target_name]\n",
      "C:\\Users\\Aleksey Ryabykin\\AppData\\Local\\Temp\\ipykernel_284956\\2963386934.py:8: FutureWarning: The default value of numeric_only in DataFrameGroupBy.mean is deprecated. In a future version, numeric_only will default to False. Either specify numeric_only or select only columns which should be valid for the function.\n",
      "  \"category_means\": dataset.groupby(dataset[column]).mean()[target_name]\n",
      "\u001b[32m[I 2022-12-21 00:45:29,031]\u001b[0m Trial 62 finished with value: 291.081363061887 and parameters: {'x_0': 0.17616207732064337, 'x_1': 0.0025230263704741776}. Best is trial 19 with value: 282.2052161524865.\u001b[0m\n"
     ]
    },
    {
     "name": "stdout",
     "output_type": "stream",
     "text": [
      "Fold number: 5, loss: 325.6840390487656\n",
      "Current weights: [0.18078671 0.00302712 0.81618617]\n"
     ]
    },
    {
     "name": "stderr",
     "output_type": "stream",
     "text": [
      "C:\\Users\\Aleksey Ryabykin\\AppData\\Local\\Temp\\ipykernel_284956\\2963386934.py:8: FutureWarning: The default value of numeric_only in DataFrameGroupBy.mean is deprecated. In a future version, numeric_only will default to False. Either specify numeric_only or select only columns which should be valid for the function.\n",
      "  \"category_means\": dataset.groupby(dataset[column]).mean()[target_name]\n",
      "C:\\Users\\Aleksey Ryabykin\\AppData\\Local\\Temp\\ipykernel_284956\\2963386934.py:8: FutureWarning: The default value of numeric_only in DataFrameGroupBy.mean is deprecated. In a future version, numeric_only will default to False. Either specify numeric_only or select only columns which should be valid for the function.\n",
      "  \"category_means\": dataset.groupby(dataset[column]).mean()[target_name]\n"
     ]
    },
    {
     "name": "stdout",
     "output_type": "stream",
     "text": [
      "Fold number: 1, loss: 256.3034241971267\n"
     ]
    },
    {
     "name": "stderr",
     "output_type": "stream",
     "text": [
      "C:\\Users\\Aleksey Ryabykin\\AppData\\Local\\Temp\\ipykernel_284956\\2963386934.py:8: FutureWarning: The default value of numeric_only in DataFrameGroupBy.mean is deprecated. In a future version, numeric_only will default to False. Either specify numeric_only or select only columns which should be valid for the function.\n",
      "  \"category_means\": dataset.groupby(dataset[column]).mean()[target_name]\n",
      "C:\\Users\\Aleksey Ryabykin\\AppData\\Local\\Temp\\ipykernel_284956\\2963386934.py:8: FutureWarning: The default value of numeric_only in DataFrameGroupBy.mean is deprecated. In a future version, numeric_only will default to False. Either specify numeric_only or select only columns which should be valid for the function.\n",
      "  \"category_means\": dataset.groupby(dataset[column]).mean()[target_name]\n"
     ]
    },
    {
     "name": "stdout",
     "output_type": "stream",
     "text": [
      "Fold number: 2, loss: 239.78093309813875\n"
     ]
    },
    {
     "name": "stderr",
     "output_type": "stream",
     "text": [
      "C:\\Users\\Aleksey Ryabykin\\AppData\\Local\\Temp\\ipykernel_284956\\2963386934.py:8: FutureWarning: The default value of numeric_only in DataFrameGroupBy.mean is deprecated. In a future version, numeric_only will default to False. Either specify numeric_only or select only columns which should be valid for the function.\n",
      "  \"category_means\": dataset.groupby(dataset[column]).mean()[target_name]\n",
      "C:\\Users\\Aleksey Ryabykin\\AppData\\Local\\Temp\\ipykernel_284956\\2963386934.py:8: FutureWarning: The default value of numeric_only in DataFrameGroupBy.mean is deprecated. In a future version, numeric_only will default to False. Either specify numeric_only or select only columns which should be valid for the function.\n",
      "  \"category_means\": dataset.groupby(dataset[column]).mean()[target_name]\n"
     ]
    },
    {
     "name": "stdout",
     "output_type": "stream",
     "text": [
      "Fold number: 3, loss: 317.9702359272342\n"
     ]
    },
    {
     "name": "stderr",
     "output_type": "stream",
     "text": [
      "C:\\Users\\Aleksey Ryabykin\\AppData\\Local\\Temp\\ipykernel_284956\\2963386934.py:8: FutureWarning: The default value of numeric_only in DataFrameGroupBy.mean is deprecated. In a future version, numeric_only will default to False. Either specify numeric_only or select only columns which should be valid for the function.\n",
      "  \"category_means\": dataset.groupby(dataset[column]).mean()[target_name]\n",
      "C:\\Users\\Aleksey Ryabykin\\AppData\\Local\\Temp\\ipykernel_284956\\2963386934.py:8: FutureWarning: The default value of numeric_only in DataFrameGroupBy.mean is deprecated. In a future version, numeric_only will default to False. Either specify numeric_only or select only columns which should be valid for the function.\n",
      "  \"category_means\": dataset.groupby(dataset[column]).mean()[target_name]\n"
     ]
    },
    {
     "name": "stdout",
     "output_type": "stream",
     "text": [
      "Fold number: 4, loss: 260.2264452862439\n"
     ]
    },
    {
     "name": "stderr",
     "output_type": "stream",
     "text": [
      "C:\\Users\\Aleksey Ryabykin\\AppData\\Local\\Temp\\ipykernel_284956\\2963386934.py:8: FutureWarning: The default value of numeric_only in DataFrameGroupBy.mean is deprecated. In a future version, numeric_only will default to False. Either specify numeric_only or select only columns which should be valid for the function.\n",
      "  \"category_means\": dataset.groupby(dataset[column]).mean()[target_name]\n",
      "C:\\Users\\Aleksey Ryabykin\\AppData\\Local\\Temp\\ipykernel_284956\\2963386934.py:8: FutureWarning: The default value of numeric_only in DataFrameGroupBy.mean is deprecated. In a future version, numeric_only will default to False. Either specify numeric_only or select only columns which should be valid for the function.\n",
      "  \"category_means\": dataset.groupby(dataset[column]).mean()[target_name]\n",
      "\u001b[32m[I 2022-12-21 00:45:50,690]\u001b[0m Trial 63 finished with value: 284.2028221798995 and parameters: {'x_0': 0.18078670853723053, 'x_1': 0.0030271186630183335}. Best is trial 19 with value: 282.2052161524865.\u001b[0m\n"
     ]
    },
    {
     "name": "stdout",
     "output_type": "stream",
     "text": [
      "Fold number: 5, loss: 346.7330723907538\n",
      "Current weights: [0.17552155 0.00413047 0.82034798]\n"
     ]
    },
    {
     "name": "stderr",
     "output_type": "stream",
     "text": [
      "C:\\Users\\Aleksey Ryabykin\\AppData\\Local\\Temp\\ipykernel_284956\\2963386934.py:8: FutureWarning: The default value of numeric_only in DataFrameGroupBy.mean is deprecated. In a future version, numeric_only will default to False. Either specify numeric_only or select only columns which should be valid for the function.\n",
      "  \"category_means\": dataset.groupby(dataset[column]).mean()[target_name]\n",
      "C:\\Users\\Aleksey Ryabykin\\AppData\\Local\\Temp\\ipykernel_284956\\2963386934.py:8: FutureWarning: The default value of numeric_only in DataFrameGroupBy.mean is deprecated. In a future version, numeric_only will default to False. Either specify numeric_only or select only columns which should be valid for the function.\n",
      "  \"category_means\": dataset.groupby(dataset[column]).mean()[target_name]\n"
     ]
    },
    {
     "name": "stdout",
     "output_type": "stream",
     "text": [
      "Fold number: 1, loss: 296.2337148705058\n"
     ]
    },
    {
     "name": "stderr",
     "output_type": "stream",
     "text": [
      "C:\\Users\\Aleksey Ryabykin\\AppData\\Local\\Temp\\ipykernel_284956\\2963386934.py:8: FutureWarning: The default value of numeric_only in DataFrameGroupBy.mean is deprecated. In a future version, numeric_only will default to False. Either specify numeric_only or select only columns which should be valid for the function.\n",
      "  \"category_means\": dataset.groupby(dataset[column]).mean()[target_name]\n",
      "C:\\Users\\Aleksey Ryabykin\\AppData\\Local\\Temp\\ipykernel_284956\\2963386934.py:8: FutureWarning: The default value of numeric_only in DataFrameGroupBy.mean is deprecated. In a future version, numeric_only will default to False. Either specify numeric_only or select only columns which should be valid for the function.\n",
      "  \"category_means\": dataset.groupby(dataset[column]).mean()[target_name]\n"
     ]
    },
    {
     "name": "stdout",
     "output_type": "stream",
     "text": [
      "Fold number: 2, loss: 271.0059178672205\n"
     ]
    },
    {
     "name": "stderr",
     "output_type": "stream",
     "text": [
      "C:\\Users\\Aleksey Ryabykin\\AppData\\Local\\Temp\\ipykernel_284956\\2963386934.py:8: FutureWarning: The default value of numeric_only in DataFrameGroupBy.mean is deprecated. In a future version, numeric_only will default to False. Either specify numeric_only or select only columns which should be valid for the function.\n",
      "  \"category_means\": dataset.groupby(dataset[column]).mean()[target_name]\n",
      "C:\\Users\\Aleksey Ryabykin\\AppData\\Local\\Temp\\ipykernel_284956\\2963386934.py:8: FutureWarning: The default value of numeric_only in DataFrameGroupBy.mean is deprecated. In a future version, numeric_only will default to False. Either specify numeric_only or select only columns which should be valid for the function.\n",
      "  \"category_means\": dataset.groupby(dataset[column]).mean()[target_name]\n"
     ]
    },
    {
     "name": "stdout",
     "output_type": "stream",
     "text": [
      "Fold number: 3, loss: 314.70928147503525\n"
     ]
    },
    {
     "name": "stderr",
     "output_type": "stream",
     "text": [
      "C:\\Users\\Aleksey Ryabykin\\AppData\\Local\\Temp\\ipykernel_284956\\2963386934.py:8: FutureWarning: The default value of numeric_only in DataFrameGroupBy.mean is deprecated. In a future version, numeric_only will default to False. Either specify numeric_only or select only columns which should be valid for the function.\n",
      "  \"category_means\": dataset.groupby(dataset[column]).mean()[target_name]\n",
      "C:\\Users\\Aleksey Ryabykin\\AppData\\Local\\Temp\\ipykernel_284956\\2963386934.py:8: FutureWarning: The default value of numeric_only in DataFrameGroupBy.mean is deprecated. In a future version, numeric_only will default to False. Either specify numeric_only or select only columns which should be valid for the function.\n",
      "  \"category_means\": dataset.groupby(dataset[column]).mean()[target_name]\n"
     ]
    },
    {
     "name": "stdout",
     "output_type": "stream",
     "text": [
      "Fold number: 4, loss: 305.74984736761763\n"
     ]
    },
    {
     "name": "stderr",
     "output_type": "stream",
     "text": [
      "C:\\Users\\Aleksey Ryabykin\\AppData\\Local\\Temp\\ipykernel_284956\\2963386934.py:8: FutureWarning: The default value of numeric_only in DataFrameGroupBy.mean is deprecated. In a future version, numeric_only will default to False. Either specify numeric_only or select only columns which should be valid for the function.\n",
      "  \"category_means\": dataset.groupby(dataset[column]).mean()[target_name]\n",
      "C:\\Users\\Aleksey Ryabykin\\AppData\\Local\\Temp\\ipykernel_284956\\2963386934.py:8: FutureWarning: The default value of numeric_only in DataFrameGroupBy.mean is deprecated. In a future version, numeric_only will default to False. Either specify numeric_only or select only columns which should be valid for the function.\n",
      "  \"category_means\": dataset.groupby(dataset[column]).mean()[target_name]\n",
      "\u001b[32m[I 2022-12-21 00:46:12,391]\u001b[0m Trial 64 finished with value: 295.48777392435994 and parameters: {'x_0': 0.17552154623972208, 'x_1': 0.004130469445214174}. Best is trial 19 with value: 282.2052161524865.\u001b[0m\n"
     ]
    },
    {
     "name": "stdout",
     "output_type": "stream",
     "text": [
      "Fold number: 5, loss: 289.7401080414207\n",
      "Current weights: [0.10782381 0.11131614 0.78086005]\n"
     ]
    },
    {
     "name": "stderr",
     "output_type": "stream",
     "text": [
      "C:\\Users\\Aleksey Ryabykin\\AppData\\Local\\Temp\\ipykernel_284956\\2963386934.py:8: FutureWarning: The default value of numeric_only in DataFrameGroupBy.mean is deprecated. In a future version, numeric_only will default to False. Either specify numeric_only or select only columns which should be valid for the function.\n",
      "  \"category_means\": dataset.groupby(dataset[column]).mean()[target_name]\n",
      "C:\\Users\\Aleksey Ryabykin\\AppData\\Local\\Temp\\ipykernel_284956\\2963386934.py:8: FutureWarning: The default value of numeric_only in DataFrameGroupBy.mean is deprecated. In a future version, numeric_only will default to False. Either specify numeric_only or select only columns which should be valid for the function.\n",
      "  \"category_means\": dataset.groupby(dataset[column]).mean()[target_name]\n"
     ]
    },
    {
     "name": "stdout",
     "output_type": "stream",
     "text": [
      "Fold number: 1, loss: 281.9337366415578\n"
     ]
    },
    {
     "name": "stderr",
     "output_type": "stream",
     "text": [
      "C:\\Users\\Aleksey Ryabykin\\AppData\\Local\\Temp\\ipykernel_284956\\2963386934.py:8: FutureWarning: The default value of numeric_only in DataFrameGroupBy.mean is deprecated. In a future version, numeric_only will default to False. Either specify numeric_only or select only columns which should be valid for the function.\n",
      "  \"category_means\": dataset.groupby(dataset[column]).mean()[target_name]\n",
      "C:\\Users\\Aleksey Ryabykin\\AppData\\Local\\Temp\\ipykernel_284956\\2963386934.py:8: FutureWarning: The default value of numeric_only in DataFrameGroupBy.mean is deprecated. In a future version, numeric_only will default to False. Either specify numeric_only or select only columns which should be valid for the function.\n",
      "  \"category_means\": dataset.groupby(dataset[column]).mean()[target_name]\n"
     ]
    },
    {
     "name": "stdout",
     "output_type": "stream",
     "text": [
      "Fold number: 2, loss: 293.14458888706434\n"
     ]
    },
    {
     "name": "stderr",
     "output_type": "stream",
     "text": [
      "C:\\Users\\Aleksey Ryabykin\\AppData\\Local\\Temp\\ipykernel_284956\\2963386934.py:8: FutureWarning: The default value of numeric_only in DataFrameGroupBy.mean is deprecated. In a future version, numeric_only will default to False. Either specify numeric_only or select only columns which should be valid for the function.\n",
      "  \"category_means\": dataset.groupby(dataset[column]).mean()[target_name]\n",
      "C:\\Users\\Aleksey Ryabykin\\AppData\\Local\\Temp\\ipykernel_284956\\2963386934.py:8: FutureWarning: The default value of numeric_only in DataFrameGroupBy.mean is deprecated. In a future version, numeric_only will default to False. Either specify numeric_only or select only columns which should be valid for the function.\n",
      "  \"category_means\": dataset.groupby(dataset[column]).mean()[target_name]\n"
     ]
    },
    {
     "name": "stdout",
     "output_type": "stream",
     "text": [
      "Fold number: 3, loss: 260.84942852825833\n"
     ]
    },
    {
     "name": "stderr",
     "output_type": "stream",
     "text": [
      "C:\\Users\\Aleksey Ryabykin\\AppData\\Local\\Temp\\ipykernel_284956\\2963386934.py:8: FutureWarning: The default value of numeric_only in DataFrameGroupBy.mean is deprecated. In a future version, numeric_only will default to False. Either specify numeric_only or select only columns which should be valid for the function.\n",
      "  \"category_means\": dataset.groupby(dataset[column]).mean()[target_name]\n",
      "C:\\Users\\Aleksey Ryabykin\\AppData\\Local\\Temp\\ipykernel_284956\\2963386934.py:8: FutureWarning: The default value of numeric_only in DataFrameGroupBy.mean is deprecated. In a future version, numeric_only will default to False. Either specify numeric_only or select only columns which should be valid for the function.\n",
      "  \"category_means\": dataset.groupby(dataset[column]).mean()[target_name]\n"
     ]
    },
    {
     "name": "stdout",
     "output_type": "stream",
     "text": [
      "Fold number: 4, loss: 315.79078135982417\n"
     ]
    },
    {
     "name": "stderr",
     "output_type": "stream",
     "text": [
      "C:\\Users\\Aleksey Ryabykin\\AppData\\Local\\Temp\\ipykernel_284956\\2963386934.py:8: FutureWarning: The default value of numeric_only in DataFrameGroupBy.mean is deprecated. In a future version, numeric_only will default to False. Either specify numeric_only or select only columns which should be valid for the function.\n",
      "  \"category_means\": dataset.groupby(dataset[column]).mean()[target_name]\n",
      "C:\\Users\\Aleksey Ryabykin\\AppData\\Local\\Temp\\ipykernel_284956\\2963386934.py:8: FutureWarning: The default value of numeric_only in DataFrameGroupBy.mean is deprecated. In a future version, numeric_only will default to False. Either specify numeric_only or select only columns which should be valid for the function.\n",
      "  \"category_means\": dataset.groupby(dataset[column]).mean()[target_name]\n",
      "\u001b[32m[I 2022-12-21 00:46:34,093]\u001b[0m Trial 65 finished with value: 292.1755390811409 and parameters: {'x_0': 0.10782380865942509, 'x_1': 0.11131614399232459}. Best is trial 19 with value: 282.2052161524865.\u001b[0m\n"
     ]
    },
    {
     "name": "stdout",
     "output_type": "stream",
     "text": [
      "Fold number: 5, loss: 309.1591599889998\n",
      "Current weights: [0.05141871 0.08206826 0.86651303]\n"
     ]
    },
    {
     "name": "stderr",
     "output_type": "stream",
     "text": [
      "C:\\Users\\Aleksey Ryabykin\\AppData\\Local\\Temp\\ipykernel_284956\\2963386934.py:8: FutureWarning: The default value of numeric_only in DataFrameGroupBy.mean is deprecated. In a future version, numeric_only will default to False. Either specify numeric_only or select only columns which should be valid for the function.\n",
      "  \"category_means\": dataset.groupby(dataset[column]).mean()[target_name]\n",
      "C:\\Users\\Aleksey Ryabykin\\AppData\\Local\\Temp\\ipykernel_284956\\2963386934.py:8: FutureWarning: The default value of numeric_only in DataFrameGroupBy.mean is deprecated. In a future version, numeric_only will default to False. Either specify numeric_only or select only columns which should be valid for the function.\n",
      "  \"category_means\": dataset.groupby(dataset[column]).mean()[target_name]\n"
     ]
    },
    {
     "name": "stdout",
     "output_type": "stream",
     "text": [
      "Fold number: 1, loss: 256.3355014922002\n"
     ]
    },
    {
     "name": "stderr",
     "output_type": "stream",
     "text": [
      "C:\\Users\\Aleksey Ryabykin\\AppData\\Local\\Temp\\ipykernel_284956\\2963386934.py:8: FutureWarning: The default value of numeric_only in DataFrameGroupBy.mean is deprecated. In a future version, numeric_only will default to False. Either specify numeric_only or select only columns which should be valid for the function.\n",
      "  \"category_means\": dataset.groupby(dataset[column]).mean()[target_name]\n",
      "C:\\Users\\Aleksey Ryabykin\\AppData\\Local\\Temp\\ipykernel_284956\\2963386934.py:8: FutureWarning: The default value of numeric_only in DataFrameGroupBy.mean is deprecated. In a future version, numeric_only will default to False. Either specify numeric_only or select only columns which should be valid for the function.\n",
      "  \"category_means\": dataset.groupby(dataset[column]).mean()[target_name]\n"
     ]
    },
    {
     "name": "stdout",
     "output_type": "stream",
     "text": [
      "Fold number: 2, loss: 276.1357129124318\n"
     ]
    },
    {
     "name": "stderr",
     "output_type": "stream",
     "text": [
      "C:\\Users\\Aleksey Ryabykin\\AppData\\Local\\Temp\\ipykernel_284956\\2963386934.py:8: FutureWarning: The default value of numeric_only in DataFrameGroupBy.mean is deprecated. In a future version, numeric_only will default to False. Either specify numeric_only or select only columns which should be valid for the function.\n",
      "  \"category_means\": dataset.groupby(dataset[column]).mean()[target_name]\n",
      "C:\\Users\\Aleksey Ryabykin\\AppData\\Local\\Temp\\ipykernel_284956\\2963386934.py:8: FutureWarning: The default value of numeric_only in DataFrameGroupBy.mean is deprecated. In a future version, numeric_only will default to False. Either specify numeric_only or select only columns which should be valid for the function.\n",
      "  \"category_means\": dataset.groupby(dataset[column]).mean()[target_name]\n"
     ]
    },
    {
     "name": "stdout",
     "output_type": "stream",
     "text": [
      "Fold number: 3, loss: 343.34562145486143\n"
     ]
    },
    {
     "name": "stderr",
     "output_type": "stream",
     "text": [
      "C:\\Users\\Aleksey Ryabykin\\AppData\\Local\\Temp\\ipykernel_284956\\2963386934.py:8: FutureWarning: The default value of numeric_only in DataFrameGroupBy.mean is deprecated. In a future version, numeric_only will default to False. Either specify numeric_only or select only columns which should be valid for the function.\n",
      "  \"category_means\": dataset.groupby(dataset[column]).mean()[target_name]\n",
      "C:\\Users\\Aleksey Ryabykin\\AppData\\Local\\Temp\\ipykernel_284956\\2963386934.py:8: FutureWarning: The default value of numeric_only in DataFrameGroupBy.mean is deprecated. In a future version, numeric_only will default to False. Either specify numeric_only or select only columns which should be valid for the function.\n",
      "  \"category_means\": dataset.groupby(dataset[column]).mean()[target_name]\n"
     ]
    },
    {
     "name": "stdout",
     "output_type": "stream",
     "text": [
      "Fold number: 4, loss: 289.62109436171914\n"
     ]
    },
    {
     "name": "stderr",
     "output_type": "stream",
     "text": [
      "C:\\Users\\Aleksey Ryabykin\\AppData\\Local\\Temp\\ipykernel_284956\\2963386934.py:8: FutureWarning: The default value of numeric_only in DataFrameGroupBy.mean is deprecated. In a future version, numeric_only will default to False. Either specify numeric_only or select only columns which should be valid for the function.\n",
      "  \"category_means\": dataset.groupby(dataset[column]).mean()[target_name]\n",
      "C:\\Users\\Aleksey Ryabykin\\AppData\\Local\\Temp\\ipykernel_284956\\2963386934.py:8: FutureWarning: The default value of numeric_only in DataFrameGroupBy.mean is deprecated. In a future version, numeric_only will default to False. Either specify numeric_only or select only columns which should be valid for the function.\n",
      "  \"category_means\": dataset.groupby(dataset[column]).mean()[target_name]\n",
      "\u001b[32m[I 2022-12-21 00:46:55,798]\u001b[0m Trial 66 finished with value: 292.70342270064486 and parameters: {'x_0': 0.051418708213173736, 'x_1': 0.0820682575620745}. Best is trial 19 with value: 282.2052161524865.\u001b[0m\n"
     ]
    },
    {
     "name": "stdout",
     "output_type": "stream",
     "text": [
      "Fold number: 5, loss: 298.0791832820116\n",
      "Current weights: [0.71107998 0.07404724 0.21487278]\n"
     ]
    },
    {
     "name": "stderr",
     "output_type": "stream",
     "text": [
      "c:\\Users\\Aleksey Ryabykin\\AppData\\Local\\Programs\\Python\\Python310\\lib\\site-packages\\optuna\\samplers\\_tpe\\parzen_estimator.py:193: RuntimeWarning: divide by zero encountered in divide\n",
      "  coefficient = 1 / z / p_accept\n",
      "C:\\Users\\Aleksey Ryabykin\\AppData\\Local\\Temp\\ipykernel_284956\\2963386934.py:8: FutureWarning: The default value of numeric_only in DataFrameGroupBy.mean is deprecated. In a future version, numeric_only will default to False. Either specify numeric_only or select only columns which should be valid for the function.\n",
      "  \"category_means\": dataset.groupby(dataset[column]).mean()[target_name]\n",
      "C:\\Users\\Aleksey Ryabykin\\AppData\\Local\\Temp\\ipykernel_284956\\2963386934.py:8: FutureWarning: The default value of numeric_only in DataFrameGroupBy.mean is deprecated. In a future version, numeric_only will default to False. Either specify numeric_only or select only columns which should be valid for the function.\n",
      "  \"category_means\": dataset.groupby(dataset[column]).mean()[target_name]\n"
     ]
    },
    {
     "name": "stdout",
     "output_type": "stream",
     "text": [
      "Fold number: 1, loss: 285.3415817990329\n"
     ]
    },
    {
     "name": "stderr",
     "output_type": "stream",
     "text": [
      "C:\\Users\\Aleksey Ryabykin\\AppData\\Local\\Temp\\ipykernel_284956\\2963386934.py:8: FutureWarning: The default value of numeric_only in DataFrameGroupBy.mean is deprecated. In a future version, numeric_only will default to False. Either specify numeric_only or select only columns which should be valid for the function.\n",
      "  \"category_means\": dataset.groupby(dataset[column]).mean()[target_name]\n",
      "C:\\Users\\Aleksey Ryabykin\\AppData\\Local\\Temp\\ipykernel_284956\\2963386934.py:8: FutureWarning: The default value of numeric_only in DataFrameGroupBy.mean is deprecated. In a future version, numeric_only will default to False. Either specify numeric_only or select only columns which should be valid for the function.\n",
      "  \"category_means\": dataset.groupby(dataset[column]).mean()[target_name]\n"
     ]
    },
    {
     "name": "stdout",
     "output_type": "stream",
     "text": [
      "Fold number: 2, loss: 265.0269186262317\n"
     ]
    },
    {
     "name": "stderr",
     "output_type": "stream",
     "text": [
      "C:\\Users\\Aleksey Ryabykin\\AppData\\Local\\Temp\\ipykernel_284956\\2963386934.py:8: FutureWarning: The default value of numeric_only in DataFrameGroupBy.mean is deprecated. In a future version, numeric_only will default to False. Either specify numeric_only or select only columns which should be valid for the function.\n",
      "  \"category_means\": dataset.groupby(dataset[column]).mean()[target_name]\n",
      "C:\\Users\\Aleksey Ryabykin\\AppData\\Local\\Temp\\ipykernel_284956\\2963386934.py:8: FutureWarning: The default value of numeric_only in DataFrameGroupBy.mean is deprecated. In a future version, numeric_only will default to False. Either specify numeric_only or select only columns which should be valid for the function.\n",
      "  \"category_means\": dataset.groupby(dataset[column]).mean()[target_name]\n"
     ]
    },
    {
     "name": "stdout",
     "output_type": "stream",
     "text": [
      "Fold number: 3, loss: 368.5924426045896\n"
     ]
    },
    {
     "name": "stderr",
     "output_type": "stream",
     "text": [
      "C:\\Users\\Aleksey Ryabykin\\AppData\\Local\\Temp\\ipykernel_284956\\2963386934.py:8: FutureWarning: The default value of numeric_only in DataFrameGroupBy.mean is deprecated. In a future version, numeric_only will default to False. Either specify numeric_only or select only columns which should be valid for the function.\n",
      "  \"category_means\": dataset.groupby(dataset[column]).mean()[target_name]\n",
      "C:\\Users\\Aleksey Ryabykin\\AppData\\Local\\Temp\\ipykernel_284956\\2963386934.py:8: FutureWarning: The default value of numeric_only in DataFrameGroupBy.mean is deprecated. In a future version, numeric_only will default to False. Either specify numeric_only or select only columns which should be valid for the function.\n",
      "  \"category_means\": dataset.groupby(dataset[column]).mean()[target_name]\n"
     ]
    },
    {
     "name": "stdout",
     "output_type": "stream",
     "text": [
      "Fold number: 4, loss: 311.9194606724186\n"
     ]
    },
    {
     "name": "stderr",
     "output_type": "stream",
     "text": [
      "C:\\Users\\Aleksey Ryabykin\\AppData\\Local\\Temp\\ipykernel_284956\\2963386934.py:8: FutureWarning: The default value of numeric_only in DataFrameGroupBy.mean is deprecated. In a future version, numeric_only will default to False. Either specify numeric_only or select only columns which should be valid for the function.\n",
      "  \"category_means\": dataset.groupby(dataset[column]).mean()[target_name]\n",
      "C:\\Users\\Aleksey Ryabykin\\AppData\\Local\\Temp\\ipykernel_284956\\2963386934.py:8: FutureWarning: The default value of numeric_only in DataFrameGroupBy.mean is deprecated. In a future version, numeric_only will default to False. Either specify numeric_only or select only columns which should be valid for the function.\n",
      "  \"category_means\": dataset.groupby(dataset[column]).mean()[target_name]\n",
      "\u001b[32m[I 2022-12-21 00:47:17,589]\u001b[0m Trial 67 finished with value: 311.0640302139491 and parameters: {'x_0': 0.7110799811172686, 'x_1': 0.07404723690897096}. Best is trial 19 with value: 282.2052161524865.\u001b[0m\n"
     ]
    },
    {
     "name": "stdout",
     "output_type": "stream",
     "text": [
      "Fold number: 5, loss: 324.4397473674727\n",
      "Current weights: [1.35468672e-01 3.33327318e-04 8.64198000e-01]\n"
     ]
    },
    {
     "name": "stderr",
     "output_type": "stream",
     "text": [
      "C:\\Users\\Aleksey Ryabykin\\AppData\\Local\\Temp\\ipykernel_284956\\2963386934.py:8: FutureWarning: The default value of numeric_only in DataFrameGroupBy.mean is deprecated. In a future version, numeric_only will default to False. Either specify numeric_only or select only columns which should be valid for the function.\n",
      "  \"category_means\": dataset.groupby(dataset[column]).mean()[target_name]\n",
      "C:\\Users\\Aleksey Ryabykin\\AppData\\Local\\Temp\\ipykernel_284956\\2963386934.py:8: FutureWarning: The default value of numeric_only in DataFrameGroupBy.mean is deprecated. In a future version, numeric_only will default to False. Either specify numeric_only or select only columns which should be valid for the function.\n",
      "  \"category_means\": dataset.groupby(dataset[column]).mean()[target_name]\n"
     ]
    },
    {
     "name": "stdout",
     "output_type": "stream",
     "text": [
      "Fold number: 1, loss: 328.82767848218236\n"
     ]
    },
    {
     "name": "stderr",
     "output_type": "stream",
     "text": [
      "C:\\Users\\Aleksey Ryabykin\\AppData\\Local\\Temp\\ipykernel_284956\\2963386934.py:8: FutureWarning: The default value of numeric_only in DataFrameGroupBy.mean is deprecated. In a future version, numeric_only will default to False. Either specify numeric_only or select only columns which should be valid for the function.\n",
      "  \"category_means\": dataset.groupby(dataset[column]).mean()[target_name]\n",
      "C:\\Users\\Aleksey Ryabykin\\AppData\\Local\\Temp\\ipykernel_284956\\2963386934.py:8: FutureWarning: The default value of numeric_only in DataFrameGroupBy.mean is deprecated. In a future version, numeric_only will default to False. Either specify numeric_only or select only columns which should be valid for the function.\n",
      "  \"category_means\": dataset.groupby(dataset[column]).mean()[target_name]\n"
     ]
    },
    {
     "name": "stdout",
     "output_type": "stream",
     "text": [
      "Fold number: 2, loss: 293.5938034134541\n"
     ]
    },
    {
     "name": "stderr",
     "output_type": "stream",
     "text": [
      "C:\\Users\\Aleksey Ryabykin\\AppData\\Local\\Temp\\ipykernel_284956\\2963386934.py:8: FutureWarning: The default value of numeric_only in DataFrameGroupBy.mean is deprecated. In a future version, numeric_only will default to False. Either specify numeric_only or select only columns which should be valid for the function.\n",
      "  \"category_means\": dataset.groupby(dataset[column]).mean()[target_name]\n",
      "C:\\Users\\Aleksey Ryabykin\\AppData\\Local\\Temp\\ipykernel_284956\\2963386934.py:8: FutureWarning: The default value of numeric_only in DataFrameGroupBy.mean is deprecated. In a future version, numeric_only will default to False. Either specify numeric_only or select only columns which should be valid for the function.\n",
      "  \"category_means\": dataset.groupby(dataset[column]).mean()[target_name]\n"
     ]
    },
    {
     "name": "stdout",
     "output_type": "stream",
     "text": [
      "Fold number: 3, loss: 281.6646465419668\n"
     ]
    },
    {
     "name": "stderr",
     "output_type": "stream",
     "text": [
      "C:\\Users\\Aleksey Ryabykin\\AppData\\Local\\Temp\\ipykernel_284956\\2963386934.py:8: FutureWarning: The default value of numeric_only in DataFrameGroupBy.mean is deprecated. In a future version, numeric_only will default to False. Either specify numeric_only or select only columns which should be valid for the function.\n",
      "  \"category_means\": dataset.groupby(dataset[column]).mean()[target_name]\n",
      "C:\\Users\\Aleksey Ryabykin\\AppData\\Local\\Temp\\ipykernel_284956\\2963386934.py:8: FutureWarning: The default value of numeric_only in DataFrameGroupBy.mean is deprecated. In a future version, numeric_only will default to False. Either specify numeric_only or select only columns which should be valid for the function.\n",
      "  \"category_means\": dataset.groupby(dataset[column]).mean()[target_name]\n"
     ]
    },
    {
     "name": "stdout",
     "output_type": "stream",
     "text": [
      "Fold number: 4, loss: 313.2463310016734\n"
     ]
    },
    {
     "name": "stderr",
     "output_type": "stream",
     "text": [
      "C:\\Users\\Aleksey Ryabykin\\AppData\\Local\\Temp\\ipykernel_284956\\2963386934.py:8: FutureWarning: The default value of numeric_only in DataFrameGroupBy.mean is deprecated. In a future version, numeric_only will default to False. Either specify numeric_only or select only columns which should be valid for the function.\n",
      "  \"category_means\": dataset.groupby(dataset[column]).mean()[target_name]\n",
      "C:\\Users\\Aleksey Ryabykin\\AppData\\Local\\Temp\\ipykernel_284956\\2963386934.py:8: FutureWarning: The default value of numeric_only in DataFrameGroupBy.mean is deprecated. In a future version, numeric_only will default to False. Either specify numeric_only or select only columns which should be valid for the function.\n",
      "  \"category_means\": dataset.groupby(dataset[column]).mean()[target_name]\n",
      "\u001b[32m[I 2022-12-21 00:47:39,365]\u001b[0m Trial 68 finished with value: 303.37682807072105 and parameters: {'x_0': 0.13546867230817217, 'x_1': 0.0003333273184197346}. Best is trial 19 with value: 282.2052161524865.\u001b[0m\n"
     ]
    },
    {
     "name": "stdout",
     "output_type": "stream",
     "text": [
      "Fold number: 5, loss: 299.5516809143286\n",
      "Current weights: [0.1906429  0.03785481 0.77150229]\n"
     ]
    },
    {
     "name": "stderr",
     "output_type": "stream",
     "text": [
      "C:\\Users\\Aleksey Ryabykin\\AppData\\Local\\Temp\\ipykernel_284956\\2963386934.py:8: FutureWarning: The default value of numeric_only in DataFrameGroupBy.mean is deprecated. In a future version, numeric_only will default to False. Either specify numeric_only or select only columns which should be valid for the function.\n",
      "  \"category_means\": dataset.groupby(dataset[column]).mean()[target_name]\n",
      "C:\\Users\\Aleksey Ryabykin\\AppData\\Local\\Temp\\ipykernel_284956\\2963386934.py:8: FutureWarning: The default value of numeric_only in DataFrameGroupBy.mean is deprecated. In a future version, numeric_only will default to False. Either specify numeric_only or select only columns which should be valid for the function.\n",
      "  \"category_means\": dataset.groupby(dataset[column]).mean()[target_name]\n"
     ]
    },
    {
     "name": "stdout",
     "output_type": "stream",
     "text": [
      "Fold number: 1, loss: 259.7376829728557\n"
     ]
    },
    {
     "name": "stderr",
     "output_type": "stream",
     "text": [
      "C:\\Users\\Aleksey Ryabykin\\AppData\\Local\\Temp\\ipykernel_284956\\2963386934.py:8: FutureWarning: The default value of numeric_only in DataFrameGroupBy.mean is deprecated. In a future version, numeric_only will default to False. Either specify numeric_only or select only columns which should be valid for the function.\n",
      "  \"category_means\": dataset.groupby(dataset[column]).mean()[target_name]\n",
      "C:\\Users\\Aleksey Ryabykin\\AppData\\Local\\Temp\\ipykernel_284956\\2963386934.py:8: FutureWarning: The default value of numeric_only in DataFrameGroupBy.mean is deprecated. In a future version, numeric_only will default to False. Either specify numeric_only or select only columns which should be valid for the function.\n",
      "  \"category_means\": dataset.groupby(dataset[column]).mean()[target_name]\n"
     ]
    },
    {
     "name": "stdout",
     "output_type": "stream",
     "text": [
      "Fold number: 2, loss: 325.77830585043245\n"
     ]
    },
    {
     "name": "stderr",
     "output_type": "stream",
     "text": [
      "C:\\Users\\Aleksey Ryabykin\\AppData\\Local\\Temp\\ipykernel_284956\\2963386934.py:8: FutureWarning: The default value of numeric_only in DataFrameGroupBy.mean is deprecated. In a future version, numeric_only will default to False. Either specify numeric_only or select only columns which should be valid for the function.\n",
      "  \"category_means\": dataset.groupby(dataset[column]).mean()[target_name]\n",
      "C:\\Users\\Aleksey Ryabykin\\AppData\\Local\\Temp\\ipykernel_284956\\2963386934.py:8: FutureWarning: The default value of numeric_only in DataFrameGroupBy.mean is deprecated. In a future version, numeric_only will default to False. Either specify numeric_only or select only columns which should be valid for the function.\n",
      "  \"category_means\": dataset.groupby(dataset[column]).mean()[target_name]\n"
     ]
    },
    {
     "name": "stdout",
     "output_type": "stream",
     "text": [
      "Fold number: 3, loss: 331.23603879490383\n"
     ]
    },
    {
     "name": "stderr",
     "output_type": "stream",
     "text": [
      "C:\\Users\\Aleksey Ryabykin\\AppData\\Local\\Temp\\ipykernel_284956\\2963386934.py:8: FutureWarning: The default value of numeric_only in DataFrameGroupBy.mean is deprecated. In a future version, numeric_only will default to False. Either specify numeric_only or select only columns which should be valid for the function.\n",
      "  \"category_means\": dataset.groupby(dataset[column]).mean()[target_name]\n",
      "C:\\Users\\Aleksey Ryabykin\\AppData\\Local\\Temp\\ipykernel_284956\\2963386934.py:8: FutureWarning: The default value of numeric_only in DataFrameGroupBy.mean is deprecated. In a future version, numeric_only will default to False. Either specify numeric_only or select only columns which should be valid for the function.\n",
      "  \"category_means\": dataset.groupby(dataset[column]).mean()[target_name]\n"
     ]
    },
    {
     "name": "stdout",
     "output_type": "stream",
     "text": [
      "Fold number: 4, loss: 263.08874949902093\n"
     ]
    },
    {
     "name": "stderr",
     "output_type": "stream",
     "text": [
      "C:\\Users\\Aleksey Ryabykin\\AppData\\Local\\Temp\\ipykernel_284956\\2963386934.py:8: FutureWarning: The default value of numeric_only in DataFrameGroupBy.mean is deprecated. In a future version, numeric_only will default to False. Either specify numeric_only or select only columns which should be valid for the function.\n",
      "  \"category_means\": dataset.groupby(dataset[column]).mean()[target_name]\n",
      "C:\\Users\\Aleksey Ryabykin\\AppData\\Local\\Temp\\ipykernel_284956\\2963386934.py:8: FutureWarning: The default value of numeric_only in DataFrameGroupBy.mean is deprecated. In a future version, numeric_only will default to False. Either specify numeric_only or select only columns which should be valid for the function.\n",
      "  \"category_means\": dataset.groupby(dataset[column]).mean()[target_name]\n",
      "\u001b[32m[I 2022-12-21 00:48:00,932]\u001b[0m Trial 69 finished with value: 293.7274603666662 and parameters: {'x_0': 0.19064290156655445, 'x_1': 0.03785481009666744}. Best is trial 19 with value: 282.2052161524865.\u001b[0m\n"
     ]
    },
    {
     "name": "stdout",
     "output_type": "stream",
     "text": [
      "Fold number: 5, loss: 288.7965247161182\n",
      "Current weights: [0.22032982 0.02955906 0.75011111]\n"
     ]
    },
    {
     "name": "stderr",
     "output_type": "stream",
     "text": [
      "C:\\Users\\Aleksey Ryabykin\\AppData\\Local\\Temp\\ipykernel_284956\\2963386934.py:8: FutureWarning: The default value of numeric_only in DataFrameGroupBy.mean is deprecated. In a future version, numeric_only will default to False. Either specify numeric_only or select only columns which should be valid for the function.\n",
      "  \"category_means\": dataset.groupby(dataset[column]).mean()[target_name]\n",
      "C:\\Users\\Aleksey Ryabykin\\AppData\\Local\\Temp\\ipykernel_284956\\2963386934.py:8: FutureWarning: The default value of numeric_only in DataFrameGroupBy.mean is deprecated. In a future version, numeric_only will default to False. Either specify numeric_only or select only columns which should be valid for the function.\n",
      "  \"category_means\": dataset.groupby(dataset[column]).mean()[target_name]\n"
     ]
    },
    {
     "name": "stdout",
     "output_type": "stream",
     "text": [
      "Fold number: 1, loss: 262.5254967485854\n"
     ]
    },
    {
     "name": "stderr",
     "output_type": "stream",
     "text": [
      "C:\\Users\\Aleksey Ryabykin\\AppData\\Local\\Temp\\ipykernel_284956\\2963386934.py:8: FutureWarning: The default value of numeric_only in DataFrameGroupBy.mean is deprecated. In a future version, numeric_only will default to False. Either specify numeric_only or select only columns which should be valid for the function.\n",
      "  \"category_means\": dataset.groupby(dataset[column]).mean()[target_name]\n",
      "C:\\Users\\Aleksey Ryabykin\\AppData\\Local\\Temp\\ipykernel_284956\\2963386934.py:8: FutureWarning: The default value of numeric_only in DataFrameGroupBy.mean is deprecated. In a future version, numeric_only will default to False. Either specify numeric_only or select only columns which should be valid for the function.\n",
      "  \"category_means\": dataset.groupby(dataset[column]).mean()[target_name]\n"
     ]
    },
    {
     "name": "stdout",
     "output_type": "stream",
     "text": [
      "Fold number: 2, loss: 259.37284484110387\n"
     ]
    },
    {
     "name": "stderr",
     "output_type": "stream",
     "text": [
      "C:\\Users\\Aleksey Ryabykin\\AppData\\Local\\Temp\\ipykernel_284956\\2963386934.py:8: FutureWarning: The default value of numeric_only in DataFrameGroupBy.mean is deprecated. In a future version, numeric_only will default to False. Either specify numeric_only or select only columns which should be valid for the function.\n",
      "  \"category_means\": dataset.groupby(dataset[column]).mean()[target_name]\n",
      "C:\\Users\\Aleksey Ryabykin\\AppData\\Local\\Temp\\ipykernel_284956\\2963386934.py:8: FutureWarning: The default value of numeric_only in DataFrameGroupBy.mean is deprecated. In a future version, numeric_only will default to False. Either specify numeric_only or select only columns which should be valid for the function.\n",
      "  \"category_means\": dataset.groupby(dataset[column]).mean()[target_name]\n"
     ]
    },
    {
     "name": "stdout",
     "output_type": "stream",
     "text": [
      "Fold number: 3, loss: 325.4670369029555\n"
     ]
    },
    {
     "name": "stderr",
     "output_type": "stream",
     "text": [
      "C:\\Users\\Aleksey Ryabykin\\AppData\\Local\\Temp\\ipykernel_284956\\2963386934.py:8: FutureWarning: The default value of numeric_only in DataFrameGroupBy.mean is deprecated. In a future version, numeric_only will default to False. Either specify numeric_only or select only columns which should be valid for the function.\n",
      "  \"category_means\": dataset.groupby(dataset[column]).mean()[target_name]\n",
      "C:\\Users\\Aleksey Ryabykin\\AppData\\Local\\Temp\\ipykernel_284956\\2963386934.py:8: FutureWarning: The default value of numeric_only in DataFrameGroupBy.mean is deprecated. In a future version, numeric_only will default to False. Either specify numeric_only or select only columns which should be valid for the function.\n",
      "  \"category_means\": dataset.groupby(dataset[column]).mean()[target_name]\n"
     ]
    },
    {
     "name": "stdout",
     "output_type": "stream",
     "text": [
      "Fold number: 4, loss: 396.0207991988961\n"
     ]
    },
    {
     "name": "stderr",
     "output_type": "stream",
     "text": [
      "C:\\Users\\Aleksey Ryabykin\\AppData\\Local\\Temp\\ipykernel_284956\\2963386934.py:8: FutureWarning: The default value of numeric_only in DataFrameGroupBy.mean is deprecated. In a future version, numeric_only will default to False. Either specify numeric_only or select only columns which should be valid for the function.\n",
      "  \"category_means\": dataset.groupby(dataset[column]).mean()[target_name]\n",
      "C:\\Users\\Aleksey Ryabykin\\AppData\\Local\\Temp\\ipykernel_284956\\2963386934.py:8: FutureWarning: The default value of numeric_only in DataFrameGroupBy.mean is deprecated. In a future version, numeric_only will default to False. Either specify numeric_only or select only columns which should be valid for the function.\n",
      "  \"category_means\": dataset.groupby(dataset[column]).mean()[target_name]\n",
      "\u001b[32m[I 2022-12-21 00:48:22,460]\u001b[0m Trial 70 finished with value: 298.96077692445886 and parameters: {'x_0': 0.2203298214678826, 'x_1': 0.029559063902062574}. Best is trial 19 with value: 282.2052161524865.\u001b[0m\n"
     ]
    },
    {
     "name": "stdout",
     "output_type": "stream",
     "text": [
      "Fold number: 5, loss: 251.41770693075324\n",
      "Current weights: [0.09942908 0.11198584 0.78858508]\n"
     ]
    },
    {
     "name": "stderr",
     "output_type": "stream",
     "text": [
      "C:\\Users\\Aleksey Ryabykin\\AppData\\Local\\Temp\\ipykernel_284956\\2963386934.py:8: FutureWarning: The default value of numeric_only in DataFrameGroupBy.mean is deprecated. In a future version, numeric_only will default to False. Either specify numeric_only or select only columns which should be valid for the function.\n",
      "  \"category_means\": dataset.groupby(dataset[column]).mean()[target_name]\n",
      "C:\\Users\\Aleksey Ryabykin\\AppData\\Local\\Temp\\ipykernel_284956\\2963386934.py:8: FutureWarning: The default value of numeric_only in DataFrameGroupBy.mean is deprecated. In a future version, numeric_only will default to False. Either specify numeric_only or select only columns which should be valid for the function.\n",
      "  \"category_means\": dataset.groupby(dataset[column]).mean()[target_name]\n"
     ]
    },
    {
     "name": "stdout",
     "output_type": "stream",
     "text": [
      "Fold number: 1, loss: 256.6004982897912\n"
     ]
    },
    {
     "name": "stderr",
     "output_type": "stream",
     "text": [
      "C:\\Users\\Aleksey Ryabykin\\AppData\\Local\\Temp\\ipykernel_284956\\2963386934.py:8: FutureWarning: The default value of numeric_only in DataFrameGroupBy.mean is deprecated. In a future version, numeric_only will default to False. Either specify numeric_only or select only columns which should be valid for the function.\n",
      "  \"category_means\": dataset.groupby(dataset[column]).mean()[target_name]\n",
      "C:\\Users\\Aleksey Ryabykin\\AppData\\Local\\Temp\\ipykernel_284956\\2963386934.py:8: FutureWarning: The default value of numeric_only in DataFrameGroupBy.mean is deprecated. In a future version, numeric_only will default to False. Either specify numeric_only or select only columns which should be valid for the function.\n",
      "  \"category_means\": dataset.groupby(dataset[column]).mean()[target_name]\n"
     ]
    },
    {
     "name": "stdout",
     "output_type": "stream",
     "text": [
      "Fold number: 2, loss: 308.38192462816863\n"
     ]
    },
    {
     "name": "stderr",
     "output_type": "stream",
     "text": [
      "C:\\Users\\Aleksey Ryabykin\\AppData\\Local\\Temp\\ipykernel_284956\\2963386934.py:8: FutureWarning: The default value of numeric_only in DataFrameGroupBy.mean is deprecated. In a future version, numeric_only will default to False. Either specify numeric_only or select only columns which should be valid for the function.\n",
      "  \"category_means\": dataset.groupby(dataset[column]).mean()[target_name]\n",
      "C:\\Users\\Aleksey Ryabykin\\AppData\\Local\\Temp\\ipykernel_284956\\2963386934.py:8: FutureWarning: The default value of numeric_only in DataFrameGroupBy.mean is deprecated. In a future version, numeric_only will default to False. Either specify numeric_only or select only columns which should be valid for the function.\n",
      "  \"category_means\": dataset.groupby(dataset[column]).mean()[target_name]\n"
     ]
    },
    {
     "name": "stdout",
     "output_type": "stream",
     "text": [
      "Fold number: 3, loss: 286.8163373644355\n"
     ]
    },
    {
     "name": "stderr",
     "output_type": "stream",
     "text": [
      "C:\\Users\\Aleksey Ryabykin\\AppData\\Local\\Temp\\ipykernel_284956\\2963386934.py:8: FutureWarning: The default value of numeric_only in DataFrameGroupBy.mean is deprecated. In a future version, numeric_only will default to False. Either specify numeric_only or select only columns which should be valid for the function.\n",
      "  \"category_means\": dataset.groupby(dataset[column]).mean()[target_name]\n",
      "C:\\Users\\Aleksey Ryabykin\\AppData\\Local\\Temp\\ipykernel_284956\\2963386934.py:8: FutureWarning: The default value of numeric_only in DataFrameGroupBy.mean is deprecated. In a future version, numeric_only will default to False. Either specify numeric_only or select only columns which should be valid for the function.\n",
      "  \"category_means\": dataset.groupby(dataset[column]).mean()[target_name]\n"
     ]
    },
    {
     "name": "stdout",
     "output_type": "stream",
     "text": [
      "Fold number: 4, loss: 370.6272255795837\n"
     ]
    },
    {
     "name": "stderr",
     "output_type": "stream",
     "text": [
      "C:\\Users\\Aleksey Ryabykin\\AppData\\Local\\Temp\\ipykernel_284956\\2963386934.py:8: FutureWarning: The default value of numeric_only in DataFrameGroupBy.mean is deprecated. In a future version, numeric_only will default to False. Either specify numeric_only or select only columns which should be valid for the function.\n",
      "  \"category_means\": dataset.groupby(dataset[column]).mean()[target_name]\n",
      "C:\\Users\\Aleksey Ryabykin\\AppData\\Local\\Temp\\ipykernel_284956\\2963386934.py:8: FutureWarning: The default value of numeric_only in DataFrameGroupBy.mean is deprecated. In a future version, numeric_only will default to False. Either specify numeric_only or select only columns which should be valid for the function.\n",
      "  \"category_means\": dataset.groupby(dataset[column]).mean()[target_name]\n",
      "\u001b[32m[I 2022-12-21 00:48:43,350]\u001b[0m Trial 71 finished with value: 299.05730491607875 and parameters: {'x_0': 0.0994290759447659, 'x_1': 0.11198584370022546}. Best is trial 19 with value: 282.2052161524865.\u001b[0m\n"
     ]
    },
    {
     "name": "stdout",
     "output_type": "stream",
     "text": [
      "Fold number: 5, loss: 272.86053871841443\n",
      "Current weights: [0.00121342 0.66641858 0.332368  ]\n"
     ]
    },
    {
     "name": "stderr",
     "output_type": "stream",
     "text": [
      "C:\\Users\\Aleksey Ryabykin\\AppData\\Local\\Temp\\ipykernel_284956\\2963386934.py:8: FutureWarning: The default value of numeric_only in DataFrameGroupBy.mean is deprecated. In a future version, numeric_only will default to False. Either specify numeric_only or select only columns which should be valid for the function.\n",
      "  \"category_means\": dataset.groupby(dataset[column]).mean()[target_name]\n",
      "C:\\Users\\Aleksey Ryabykin\\AppData\\Local\\Temp\\ipykernel_284956\\2963386934.py:8: FutureWarning: The default value of numeric_only in DataFrameGroupBy.mean is deprecated. In a future version, numeric_only will default to False. Either specify numeric_only or select only columns which should be valid for the function.\n",
      "  \"category_means\": dataset.groupby(dataset[column]).mean()[target_name]\n"
     ]
    },
    {
     "name": "stdout",
     "output_type": "stream",
     "text": [
      "Fold number: 1, loss: 393.8240912799446\n"
     ]
    },
    {
     "name": "stderr",
     "output_type": "stream",
     "text": [
      "C:\\Users\\Aleksey Ryabykin\\AppData\\Local\\Temp\\ipykernel_284956\\2963386934.py:8: FutureWarning: The default value of numeric_only in DataFrameGroupBy.mean is deprecated. In a future version, numeric_only will default to False. Either specify numeric_only or select only columns which should be valid for the function.\n",
      "  \"category_means\": dataset.groupby(dataset[column]).mean()[target_name]\n",
      "C:\\Users\\Aleksey Ryabykin\\AppData\\Local\\Temp\\ipykernel_284956\\2963386934.py:8: FutureWarning: The default value of numeric_only in DataFrameGroupBy.mean is deprecated. In a future version, numeric_only will default to False. Either specify numeric_only or select only columns which should be valid for the function.\n",
      "  \"category_means\": dataset.groupby(dataset[column]).mean()[target_name]\n"
     ]
    },
    {
     "name": "stdout",
     "output_type": "stream",
     "text": [
      "Fold number: 2, loss: 370.5912200608043\n"
     ]
    },
    {
     "name": "stderr",
     "output_type": "stream",
     "text": [
      "C:\\Users\\Aleksey Ryabykin\\AppData\\Local\\Temp\\ipykernel_284956\\2963386934.py:8: FutureWarning: The default value of numeric_only in DataFrameGroupBy.mean is deprecated. In a future version, numeric_only will default to False. Either specify numeric_only or select only columns which should be valid for the function.\n",
      "  \"category_means\": dataset.groupby(dataset[column]).mean()[target_name]\n",
      "C:\\Users\\Aleksey Ryabykin\\AppData\\Local\\Temp\\ipykernel_284956\\2963386934.py:8: FutureWarning: The default value of numeric_only in DataFrameGroupBy.mean is deprecated. In a future version, numeric_only will default to False. Either specify numeric_only or select only columns which should be valid for the function.\n",
      "  \"category_means\": dataset.groupby(dataset[column]).mean()[target_name]\n"
     ]
    },
    {
     "name": "stdout",
     "output_type": "stream",
     "text": [
      "Fold number: 3, loss: 365.65999479867156\n"
     ]
    },
    {
     "name": "stderr",
     "output_type": "stream",
     "text": [
      "C:\\Users\\Aleksey Ryabykin\\AppData\\Local\\Temp\\ipykernel_284956\\2963386934.py:8: FutureWarning: The default value of numeric_only in DataFrameGroupBy.mean is deprecated. In a future version, numeric_only will default to False. Either specify numeric_only or select only columns which should be valid for the function.\n",
      "  \"category_means\": dataset.groupby(dataset[column]).mean()[target_name]\n",
      "C:\\Users\\Aleksey Ryabykin\\AppData\\Local\\Temp\\ipykernel_284956\\2963386934.py:8: FutureWarning: The default value of numeric_only in DataFrameGroupBy.mean is deprecated. In a future version, numeric_only will default to False. Either specify numeric_only or select only columns which should be valid for the function.\n",
      "  \"category_means\": dataset.groupby(dataset[column]).mean()[target_name]\n"
     ]
    },
    {
     "name": "stdout",
     "output_type": "stream",
     "text": [
      "Fold number: 4, loss: 323.0800504918198\n"
     ]
    },
    {
     "name": "stderr",
     "output_type": "stream",
     "text": [
      "C:\\Users\\Aleksey Ryabykin\\AppData\\Local\\Temp\\ipykernel_284956\\2963386934.py:8: FutureWarning: The default value of numeric_only in DataFrameGroupBy.mean is deprecated. In a future version, numeric_only will default to False. Either specify numeric_only or select only columns which should be valid for the function.\n",
      "  \"category_means\": dataset.groupby(dataset[column]).mean()[target_name]\n",
      "C:\\Users\\Aleksey Ryabykin\\AppData\\Local\\Temp\\ipykernel_284956\\2963386934.py:8: FutureWarning: The default value of numeric_only in DataFrameGroupBy.mean is deprecated. In a future version, numeric_only will default to False. Either specify numeric_only or select only columns which should be valid for the function.\n",
      "  \"category_means\": dataset.groupby(dataset[column]).mean()[target_name]\n",
      "\u001b[32m[I 2022-12-21 00:49:04,298]\u001b[0m Trial 72 finished with value: 355.8897798573612 and parameters: {'x_0': 0.0012134187008070452, 'x_1': 0.6664185815179526}. Best is trial 19 with value: 282.2052161524865.\u001b[0m\n"
     ]
    },
    {
     "name": "stdout",
     "output_type": "stream",
     "text": [
      "Fold number: 5, loss: 326.2935426555657\n",
      "Current weights: [0.12124088 0.12748197 0.75127715]\n"
     ]
    },
    {
     "name": "stderr",
     "output_type": "stream",
     "text": [
      "C:\\Users\\Aleksey Ryabykin\\AppData\\Local\\Temp\\ipykernel_284956\\2963386934.py:8: FutureWarning: The default value of numeric_only in DataFrameGroupBy.mean is deprecated. In a future version, numeric_only will default to False. Either specify numeric_only or select only columns which should be valid for the function.\n",
      "  \"category_means\": dataset.groupby(dataset[column]).mean()[target_name]\n",
      "C:\\Users\\Aleksey Ryabykin\\AppData\\Local\\Temp\\ipykernel_284956\\2963386934.py:8: FutureWarning: The default value of numeric_only in DataFrameGroupBy.mean is deprecated. In a future version, numeric_only will default to False. Either specify numeric_only or select only columns which should be valid for the function.\n",
      "  \"category_means\": dataset.groupby(dataset[column]).mean()[target_name]\n"
     ]
    },
    {
     "name": "stdout",
     "output_type": "stream",
     "text": [
      "Fold number: 1, loss: 286.2242749812238\n"
     ]
    },
    {
     "name": "stderr",
     "output_type": "stream",
     "text": [
      "C:\\Users\\Aleksey Ryabykin\\AppData\\Local\\Temp\\ipykernel_284956\\2963386934.py:8: FutureWarning: The default value of numeric_only in DataFrameGroupBy.mean is deprecated. In a future version, numeric_only will default to False. Either specify numeric_only or select only columns which should be valid for the function.\n",
      "  \"category_means\": dataset.groupby(dataset[column]).mean()[target_name]\n",
      "C:\\Users\\Aleksey Ryabykin\\AppData\\Local\\Temp\\ipykernel_284956\\2963386934.py:8: FutureWarning: The default value of numeric_only in DataFrameGroupBy.mean is deprecated. In a future version, numeric_only will default to False. Either specify numeric_only or select only columns which should be valid for the function.\n",
      "  \"category_means\": dataset.groupby(dataset[column]).mean()[target_name]\n"
     ]
    },
    {
     "name": "stdout",
     "output_type": "stream",
     "text": [
      "Fold number: 2, loss: 253.50990462688412\n"
     ]
    },
    {
     "name": "stderr",
     "output_type": "stream",
     "text": [
      "C:\\Users\\Aleksey Ryabykin\\AppData\\Local\\Temp\\ipykernel_284956\\2963386934.py:8: FutureWarning: The default value of numeric_only in DataFrameGroupBy.mean is deprecated. In a future version, numeric_only will default to False. Either specify numeric_only or select only columns which should be valid for the function.\n",
      "  \"category_means\": dataset.groupby(dataset[column]).mean()[target_name]\n",
      "C:\\Users\\Aleksey Ryabykin\\AppData\\Local\\Temp\\ipykernel_284956\\2963386934.py:8: FutureWarning: The default value of numeric_only in DataFrameGroupBy.mean is deprecated. In a future version, numeric_only will default to False. Either specify numeric_only or select only columns which should be valid for the function.\n",
      "  \"category_means\": dataset.groupby(dataset[column]).mean()[target_name]\n"
     ]
    },
    {
     "name": "stdout",
     "output_type": "stream",
     "text": [
      "Fold number: 3, loss: 301.4413908441513\n"
     ]
    },
    {
     "name": "stderr",
     "output_type": "stream",
     "text": [
      "C:\\Users\\Aleksey Ryabykin\\AppData\\Local\\Temp\\ipykernel_284956\\2963386934.py:8: FutureWarning: The default value of numeric_only in DataFrameGroupBy.mean is deprecated. In a future version, numeric_only will default to False. Either specify numeric_only or select only columns which should be valid for the function.\n",
      "  \"category_means\": dataset.groupby(dataset[column]).mean()[target_name]\n",
      "C:\\Users\\Aleksey Ryabykin\\AppData\\Local\\Temp\\ipykernel_284956\\2963386934.py:8: FutureWarning: The default value of numeric_only in DataFrameGroupBy.mean is deprecated. In a future version, numeric_only will default to False. Either specify numeric_only or select only columns which should be valid for the function.\n",
      "  \"category_means\": dataset.groupby(dataset[column]).mean()[target_name]\n"
     ]
    },
    {
     "name": "stdout",
     "output_type": "stream",
     "text": [
      "Fold number: 4, loss: 250.7886735658402\n"
     ]
    },
    {
     "name": "stderr",
     "output_type": "stream",
     "text": [
      "C:\\Users\\Aleksey Ryabykin\\AppData\\Local\\Temp\\ipykernel_284956\\2963386934.py:8: FutureWarning: The default value of numeric_only in DataFrameGroupBy.mean is deprecated. In a future version, numeric_only will default to False. Either specify numeric_only or select only columns which should be valid for the function.\n",
      "  \"category_means\": dataset.groupby(dataset[column]).mean()[target_name]\n",
      "C:\\Users\\Aleksey Ryabykin\\AppData\\Local\\Temp\\ipykernel_284956\\2963386934.py:8: FutureWarning: The default value of numeric_only in DataFrameGroupBy.mean is deprecated. In a future version, numeric_only will default to False. Either specify numeric_only or select only columns which should be valid for the function.\n",
      "  \"category_means\": dataset.groupby(dataset[column]).mean()[target_name]\n",
      "\u001b[32m[I 2022-12-21 00:49:25,246]\u001b[0m Trial 73 finished with value: 293.88732971402254 and parameters: {'x_0': 0.12124088259006637, 'x_1': 0.12748196825648175}. Best is trial 19 with value: 282.2052161524865.\u001b[0m\n"
     ]
    },
    {
     "name": "stdout",
     "output_type": "stream",
     "text": [
      "Fold number: 5, loss: 377.47240455201313\n",
      "Current weights: [0.15993523 0.05613703 0.78392774]\n"
     ]
    },
    {
     "name": "stderr",
     "output_type": "stream",
     "text": [
      "C:\\Users\\Aleksey Ryabykin\\AppData\\Local\\Temp\\ipykernel_284956\\2963386934.py:8: FutureWarning: The default value of numeric_only in DataFrameGroupBy.mean is deprecated. In a future version, numeric_only will default to False. Either specify numeric_only or select only columns which should be valid for the function.\n",
      "  \"category_means\": dataset.groupby(dataset[column]).mean()[target_name]\n",
      "C:\\Users\\Aleksey Ryabykin\\AppData\\Local\\Temp\\ipykernel_284956\\2963386934.py:8: FutureWarning: The default value of numeric_only in DataFrameGroupBy.mean is deprecated. In a future version, numeric_only will default to False. Either specify numeric_only or select only columns which should be valid for the function.\n",
      "  \"category_means\": dataset.groupby(dataset[column]).mean()[target_name]\n"
     ]
    },
    {
     "name": "stdout",
     "output_type": "stream",
     "text": [
      "Fold number: 1, loss: 270.6435872114499\n"
     ]
    },
    {
     "name": "stderr",
     "output_type": "stream",
     "text": [
      "C:\\Users\\Aleksey Ryabykin\\AppData\\Local\\Temp\\ipykernel_284956\\2963386934.py:8: FutureWarning: The default value of numeric_only in DataFrameGroupBy.mean is deprecated. In a future version, numeric_only will default to False. Either specify numeric_only or select only columns which should be valid for the function.\n",
      "  \"category_means\": dataset.groupby(dataset[column]).mean()[target_name]\n",
      "C:\\Users\\Aleksey Ryabykin\\AppData\\Local\\Temp\\ipykernel_284956\\2963386934.py:8: FutureWarning: The default value of numeric_only in DataFrameGroupBy.mean is deprecated. In a future version, numeric_only will default to False. Either specify numeric_only or select only columns which should be valid for the function.\n",
      "  \"category_means\": dataset.groupby(dataset[column]).mean()[target_name]\n"
     ]
    },
    {
     "name": "stdout",
     "output_type": "stream",
     "text": [
      "Fold number: 2, loss: 268.8905725984408\n"
     ]
    },
    {
     "name": "stderr",
     "output_type": "stream",
     "text": [
      "C:\\Users\\Aleksey Ryabykin\\AppData\\Local\\Temp\\ipykernel_284956\\2963386934.py:8: FutureWarning: The default value of numeric_only in DataFrameGroupBy.mean is deprecated. In a future version, numeric_only will default to False. Either specify numeric_only or select only columns which should be valid for the function.\n",
      "  \"category_means\": dataset.groupby(dataset[column]).mean()[target_name]\n",
      "C:\\Users\\Aleksey Ryabykin\\AppData\\Local\\Temp\\ipykernel_284956\\2963386934.py:8: FutureWarning: The default value of numeric_only in DataFrameGroupBy.mean is deprecated. In a future version, numeric_only will default to False. Either specify numeric_only or select only columns which should be valid for the function.\n",
      "  \"category_means\": dataset.groupby(dataset[column]).mean()[target_name]\n"
     ]
    },
    {
     "name": "stdout",
     "output_type": "stream",
     "text": [
      "Fold number: 3, loss: 346.01819432263136\n"
     ]
    },
    {
     "name": "stderr",
     "output_type": "stream",
     "text": [
      "C:\\Users\\Aleksey Ryabykin\\AppData\\Local\\Temp\\ipykernel_284956\\2963386934.py:8: FutureWarning: The default value of numeric_only in DataFrameGroupBy.mean is deprecated. In a future version, numeric_only will default to False. Either specify numeric_only or select only columns which should be valid for the function.\n",
      "  \"category_means\": dataset.groupby(dataset[column]).mean()[target_name]\n",
      "C:\\Users\\Aleksey Ryabykin\\AppData\\Local\\Temp\\ipykernel_284956\\2963386934.py:8: FutureWarning: The default value of numeric_only in DataFrameGroupBy.mean is deprecated. In a future version, numeric_only will default to False. Either specify numeric_only or select only columns which should be valid for the function.\n",
      "  \"category_means\": dataset.groupby(dataset[column]).mean()[target_name]\n"
     ]
    },
    {
     "name": "stdout",
     "output_type": "stream",
     "text": [
      "Fold number: 4, loss: 309.06883950376306\n"
     ]
    },
    {
     "name": "stderr",
     "output_type": "stream",
     "text": [
      "C:\\Users\\Aleksey Ryabykin\\AppData\\Local\\Temp\\ipykernel_284956\\2963386934.py:8: FutureWarning: The default value of numeric_only in DataFrameGroupBy.mean is deprecated. In a future version, numeric_only will default to False. Either specify numeric_only or select only columns which should be valid for the function.\n",
      "  \"category_means\": dataset.groupby(dataset[column]).mean()[target_name]\n",
      "C:\\Users\\Aleksey Ryabykin\\AppData\\Local\\Temp\\ipykernel_284956\\2963386934.py:8: FutureWarning: The default value of numeric_only in DataFrameGroupBy.mean is deprecated. In a future version, numeric_only will default to False. Either specify numeric_only or select only columns which should be valid for the function.\n",
      "  \"category_means\": dataset.groupby(dataset[column]).mean()[target_name]\n",
      "\u001b[32m[I 2022-12-21 00:49:47,336]\u001b[0m Trial 74 finished with value: 292.0934084771292 and parameters: {'x_0': 0.15993522549020942, 'x_1': 0.05613703175766506}. Best is trial 19 with value: 282.2052161524865.\u001b[0m\n"
     ]
    },
    {
     "name": "stdout",
     "output_type": "stream",
     "text": [
      "Fold number: 5, loss: 265.84584874936064\n",
      "Current weights: [0.16241997 0.04656357 0.79101645]\n"
     ]
    },
    {
     "name": "stderr",
     "output_type": "stream",
     "text": [
      "C:\\Users\\Aleksey Ryabykin\\AppData\\Local\\Temp\\ipykernel_284956\\2963386934.py:8: FutureWarning: The default value of numeric_only in DataFrameGroupBy.mean is deprecated. In a future version, numeric_only will default to False. Either specify numeric_only or select only columns which should be valid for the function.\n",
      "  \"category_means\": dataset.groupby(dataset[column]).mean()[target_name]\n",
      "C:\\Users\\Aleksey Ryabykin\\AppData\\Local\\Temp\\ipykernel_284956\\2963386934.py:8: FutureWarning: The default value of numeric_only in DataFrameGroupBy.mean is deprecated. In a future version, numeric_only will default to False. Either specify numeric_only or select only columns which should be valid for the function.\n",
      "  \"category_means\": dataset.groupby(dataset[column]).mean()[target_name]\n"
     ]
    },
    {
     "name": "stdout",
     "output_type": "stream",
     "text": [
      "Fold number: 1, loss: 288.670490270625\n"
     ]
    },
    {
     "name": "stderr",
     "output_type": "stream",
     "text": [
      "C:\\Users\\Aleksey Ryabykin\\AppData\\Local\\Temp\\ipykernel_284956\\2963386934.py:8: FutureWarning: The default value of numeric_only in DataFrameGroupBy.mean is deprecated. In a future version, numeric_only will default to False. Either specify numeric_only or select only columns which should be valid for the function.\n",
      "  \"category_means\": dataset.groupby(dataset[column]).mean()[target_name]\n",
      "C:\\Users\\Aleksey Ryabykin\\AppData\\Local\\Temp\\ipykernel_284956\\2963386934.py:8: FutureWarning: The default value of numeric_only in DataFrameGroupBy.mean is deprecated. In a future version, numeric_only will default to False. Either specify numeric_only or select only columns which should be valid for the function.\n",
      "  \"category_means\": dataset.groupby(dataset[column]).mean()[target_name]\n"
     ]
    },
    {
     "name": "stdout",
     "output_type": "stream",
     "text": [
      "Fold number: 2, loss: 260.50287624058325\n"
     ]
    },
    {
     "name": "stderr",
     "output_type": "stream",
     "text": [
      "C:\\Users\\Aleksey Ryabykin\\AppData\\Local\\Temp\\ipykernel_284956\\2963386934.py:8: FutureWarning: The default value of numeric_only in DataFrameGroupBy.mean is deprecated. In a future version, numeric_only will default to False. Either specify numeric_only or select only columns which should be valid for the function.\n",
      "  \"category_means\": dataset.groupby(dataset[column]).mean()[target_name]\n",
      "C:\\Users\\Aleksey Ryabykin\\AppData\\Local\\Temp\\ipykernel_284956\\2963386934.py:8: FutureWarning: The default value of numeric_only in DataFrameGroupBy.mean is deprecated. In a future version, numeric_only will default to False. Either specify numeric_only or select only columns which should be valid for the function.\n",
      "  \"category_means\": dataset.groupby(dataset[column]).mean()[target_name]\n"
     ]
    },
    {
     "name": "stdout",
     "output_type": "stream",
     "text": [
      "Fold number: 3, loss: 305.08033746199305\n"
     ]
    },
    {
     "name": "stderr",
     "output_type": "stream",
     "text": [
      "C:\\Users\\Aleksey Ryabykin\\AppData\\Local\\Temp\\ipykernel_284956\\2963386934.py:8: FutureWarning: The default value of numeric_only in DataFrameGroupBy.mean is deprecated. In a future version, numeric_only will default to False. Either specify numeric_only or select only columns which should be valid for the function.\n",
      "  \"category_means\": dataset.groupby(dataset[column]).mean()[target_name]\n",
      "C:\\Users\\Aleksey Ryabykin\\AppData\\Local\\Temp\\ipykernel_284956\\2963386934.py:8: FutureWarning: The default value of numeric_only in DataFrameGroupBy.mean is deprecated. In a future version, numeric_only will default to False. Either specify numeric_only or select only columns which should be valid for the function.\n",
      "  \"category_means\": dataset.groupby(dataset[column]).mean()[target_name]\n"
     ]
    },
    {
     "name": "stdout",
     "output_type": "stream",
     "text": [
      "Fold number: 4, loss: 336.25810068937625\n"
     ]
    },
    {
     "name": "stderr",
     "output_type": "stream",
     "text": [
      "C:\\Users\\Aleksey Ryabykin\\AppData\\Local\\Temp\\ipykernel_284956\\2963386934.py:8: FutureWarning: The default value of numeric_only in DataFrameGroupBy.mean is deprecated. In a future version, numeric_only will default to False. Either specify numeric_only or select only columns which should be valid for the function.\n",
      "  \"category_means\": dataset.groupby(dataset[column]).mean()[target_name]\n",
      "C:\\Users\\Aleksey Ryabykin\\AppData\\Local\\Temp\\ipykernel_284956\\2963386934.py:8: FutureWarning: The default value of numeric_only in DataFrameGroupBy.mean is deprecated. In a future version, numeric_only will default to False. Either specify numeric_only or select only columns which should be valid for the function.\n",
      "  \"category_means\": dataset.groupby(dataset[column]).mean()[target_name]\n",
      "\u001b[32m[I 2022-12-21 00:50:09,876]\u001b[0m Trial 75 finished with value: 307.8318502697463 and parameters: {'x_0': 0.16241997342261066, 'x_1': 0.046563571904147796}. Best is trial 19 with value: 282.2052161524865.\u001b[0m\n"
     ]
    },
    {
     "name": "stdout",
     "output_type": "stream",
     "text": [
      "Fold number: 5, loss: 348.64744668615424\n",
      "Current weights: [0.26505909 0.02200143 0.71293948]\n"
     ]
    },
    {
     "name": "stderr",
     "output_type": "stream",
     "text": [
      "C:\\Users\\Aleksey Ryabykin\\AppData\\Local\\Temp\\ipykernel_284956\\2963386934.py:8: FutureWarning: The default value of numeric_only in DataFrameGroupBy.mean is deprecated. In a future version, numeric_only will default to False. Either specify numeric_only or select only columns which should be valid for the function.\n",
      "  \"category_means\": dataset.groupby(dataset[column]).mean()[target_name]\n",
      "C:\\Users\\Aleksey Ryabykin\\AppData\\Local\\Temp\\ipykernel_284956\\2963386934.py:8: FutureWarning: The default value of numeric_only in DataFrameGroupBy.mean is deprecated. In a future version, numeric_only will default to False. Either specify numeric_only or select only columns which should be valid for the function.\n",
      "  \"category_means\": dataset.groupby(dataset[column]).mean()[target_name]\n"
     ]
    },
    {
     "name": "stdout",
     "output_type": "stream",
     "text": [
      "Fold number: 1, loss: 301.68906674921493\n"
     ]
    },
    {
     "name": "stderr",
     "output_type": "stream",
     "text": [
      "C:\\Users\\Aleksey Ryabykin\\AppData\\Local\\Temp\\ipykernel_284956\\2963386934.py:8: FutureWarning: The default value of numeric_only in DataFrameGroupBy.mean is deprecated. In a future version, numeric_only will default to False. Either specify numeric_only or select only columns which should be valid for the function.\n",
      "  \"category_means\": dataset.groupby(dataset[column]).mean()[target_name]\n",
      "C:\\Users\\Aleksey Ryabykin\\AppData\\Local\\Temp\\ipykernel_284956\\2963386934.py:8: FutureWarning: The default value of numeric_only in DataFrameGroupBy.mean is deprecated. In a future version, numeric_only will default to False. Either specify numeric_only or select only columns which should be valid for the function.\n",
      "  \"category_means\": dataset.groupby(dataset[column]).mean()[target_name]\n"
     ]
    },
    {
     "name": "stdout",
     "output_type": "stream",
     "text": [
      "Fold number: 2, loss: 282.49488029098103\n"
     ]
    },
    {
     "name": "stderr",
     "output_type": "stream",
     "text": [
      "C:\\Users\\Aleksey Ryabykin\\AppData\\Local\\Temp\\ipykernel_284956\\2963386934.py:8: FutureWarning: The default value of numeric_only in DataFrameGroupBy.mean is deprecated. In a future version, numeric_only will default to False. Either specify numeric_only or select only columns which should be valid for the function.\n",
      "  \"category_means\": dataset.groupby(dataset[column]).mean()[target_name]\n",
      "C:\\Users\\Aleksey Ryabykin\\AppData\\Local\\Temp\\ipykernel_284956\\2963386934.py:8: FutureWarning: The default value of numeric_only in DataFrameGroupBy.mean is deprecated. In a future version, numeric_only will default to False. Either specify numeric_only or select only columns which should be valid for the function.\n",
      "  \"category_means\": dataset.groupby(dataset[column]).mean()[target_name]\n"
     ]
    },
    {
     "name": "stdout",
     "output_type": "stream",
     "text": [
      "Fold number: 3, loss: 275.42569936063506\n"
     ]
    },
    {
     "name": "stderr",
     "output_type": "stream",
     "text": [
      "C:\\Users\\Aleksey Ryabykin\\AppData\\Local\\Temp\\ipykernel_284956\\2963386934.py:8: FutureWarning: The default value of numeric_only in DataFrameGroupBy.mean is deprecated. In a future version, numeric_only will default to False. Either specify numeric_only or select only columns which should be valid for the function.\n",
      "  \"category_means\": dataset.groupby(dataset[column]).mean()[target_name]\n",
      "C:\\Users\\Aleksey Ryabykin\\AppData\\Local\\Temp\\ipykernel_284956\\2963386934.py:8: FutureWarning: The default value of numeric_only in DataFrameGroupBy.mean is deprecated. In a future version, numeric_only will default to False. Either specify numeric_only or select only columns which should be valid for the function.\n",
      "  \"category_means\": dataset.groupby(dataset[column]).mean()[target_name]\n"
     ]
    },
    {
     "name": "stdout",
     "output_type": "stream",
     "text": [
      "Fold number: 4, loss: 306.0688905808206\n"
     ]
    },
    {
     "name": "stderr",
     "output_type": "stream",
     "text": [
      "C:\\Users\\Aleksey Ryabykin\\AppData\\Local\\Temp\\ipykernel_284956\\2963386934.py:8: FutureWarning: The default value of numeric_only in DataFrameGroupBy.mean is deprecated. In a future version, numeric_only will default to False. Either specify numeric_only or select only columns which should be valid for the function.\n",
      "  \"category_means\": dataset.groupby(dataset[column]).mean()[target_name]\n",
      "C:\\Users\\Aleksey Ryabykin\\AppData\\Local\\Temp\\ipykernel_284956\\2963386934.py:8: FutureWarning: The default value of numeric_only in DataFrameGroupBy.mean is deprecated. In a future version, numeric_only will default to False. Either specify numeric_only or select only columns which should be valid for the function.\n",
      "  \"category_means\": dataset.groupby(dataset[column]).mean()[target_name]\n",
      "\u001b[32m[I 2022-12-21 00:50:30,530]\u001b[0m Trial 76 finished with value: 293.5040020789005 and parameters: {'x_0': 0.2650590878459516, 'x_1': 0.022001432463269913}. Best is trial 19 with value: 282.2052161524865.\u001b[0m\n"
     ]
    },
    {
     "name": "stdout",
     "output_type": "stream",
     "text": [
      "Fold number: 5, loss: 301.8414734128509\n",
      "Current weights: [0.34196574 0.02202191 0.63601236]\n"
     ]
    },
    {
     "name": "stderr",
     "output_type": "stream",
     "text": [
      "C:\\Users\\Aleksey Ryabykin\\AppData\\Local\\Temp\\ipykernel_284956\\2963386934.py:8: FutureWarning: The default value of numeric_only in DataFrameGroupBy.mean is deprecated. In a future version, numeric_only will default to False. Either specify numeric_only or select only columns which should be valid for the function.\n",
      "  \"category_means\": dataset.groupby(dataset[column]).mean()[target_name]\n",
      "C:\\Users\\Aleksey Ryabykin\\AppData\\Local\\Temp\\ipykernel_284956\\2963386934.py:8: FutureWarning: The default value of numeric_only in DataFrameGroupBy.mean is deprecated. In a future version, numeric_only will default to False. Either specify numeric_only or select only columns which should be valid for the function.\n",
      "  \"category_means\": dataset.groupby(dataset[column]).mean()[target_name]\n"
     ]
    },
    {
     "name": "stdout",
     "output_type": "stream",
     "text": [
      "Fold number: 1, loss: 274.0461327865517\n"
     ]
    },
    {
     "name": "stderr",
     "output_type": "stream",
     "text": [
      "C:\\Users\\Aleksey Ryabykin\\AppData\\Local\\Temp\\ipykernel_284956\\2963386934.py:8: FutureWarning: The default value of numeric_only in DataFrameGroupBy.mean is deprecated. In a future version, numeric_only will default to False. Either specify numeric_only or select only columns which should be valid for the function.\n",
      "  \"category_means\": dataset.groupby(dataset[column]).mean()[target_name]\n",
      "C:\\Users\\Aleksey Ryabykin\\AppData\\Local\\Temp\\ipykernel_284956\\2963386934.py:8: FutureWarning: The default value of numeric_only in DataFrameGroupBy.mean is deprecated. In a future version, numeric_only will default to False. Either specify numeric_only or select only columns which should be valid for the function.\n",
      "  \"category_means\": dataset.groupby(dataset[column]).mean()[target_name]\n"
     ]
    },
    {
     "name": "stdout",
     "output_type": "stream",
     "text": [
      "Fold number: 2, loss: 349.28567251940814\n"
     ]
    },
    {
     "name": "stderr",
     "output_type": "stream",
     "text": [
      "C:\\Users\\Aleksey Ryabykin\\AppData\\Local\\Temp\\ipykernel_284956\\2963386934.py:8: FutureWarning: The default value of numeric_only in DataFrameGroupBy.mean is deprecated. In a future version, numeric_only will default to False. Either specify numeric_only or select only columns which should be valid for the function.\n",
      "  \"category_means\": dataset.groupby(dataset[column]).mean()[target_name]\n",
      "C:\\Users\\Aleksey Ryabykin\\AppData\\Local\\Temp\\ipykernel_284956\\2963386934.py:8: FutureWarning: The default value of numeric_only in DataFrameGroupBy.mean is deprecated. In a future version, numeric_only will default to False. Either specify numeric_only or select only columns which should be valid for the function.\n",
      "  \"category_means\": dataset.groupby(dataset[column]).mean()[target_name]\n"
     ]
    },
    {
     "name": "stdout",
     "output_type": "stream",
     "text": [
      "Fold number: 3, loss: 318.0143665499639\n"
     ]
    },
    {
     "name": "stderr",
     "output_type": "stream",
     "text": [
      "C:\\Users\\Aleksey Ryabykin\\AppData\\Local\\Temp\\ipykernel_284956\\2963386934.py:8: FutureWarning: The default value of numeric_only in DataFrameGroupBy.mean is deprecated. In a future version, numeric_only will default to False. Either specify numeric_only or select only columns which should be valid for the function.\n",
      "  \"category_means\": dataset.groupby(dataset[column]).mean()[target_name]\n",
      "C:\\Users\\Aleksey Ryabykin\\AppData\\Local\\Temp\\ipykernel_284956\\2963386934.py:8: FutureWarning: The default value of numeric_only in DataFrameGroupBy.mean is deprecated. In a future version, numeric_only will default to False. Either specify numeric_only or select only columns which should be valid for the function.\n",
      "  \"category_means\": dataset.groupby(dataset[column]).mean()[target_name]\n"
     ]
    },
    {
     "name": "stdout",
     "output_type": "stream",
     "text": [
      "Fold number: 4, loss: 246.82269630199914\n"
     ]
    },
    {
     "name": "stderr",
     "output_type": "stream",
     "text": [
      "C:\\Users\\Aleksey Ryabykin\\AppData\\Local\\Temp\\ipykernel_284956\\2963386934.py:8: FutureWarning: The default value of numeric_only in DataFrameGroupBy.mean is deprecated. In a future version, numeric_only will default to False. Either specify numeric_only or select only columns which should be valid for the function.\n",
      "  \"category_means\": dataset.groupby(dataset[column]).mean()[target_name]\n",
      "C:\\Users\\Aleksey Ryabykin\\AppData\\Local\\Temp\\ipykernel_284956\\2963386934.py:8: FutureWarning: The default value of numeric_only in DataFrameGroupBy.mean is deprecated. In a future version, numeric_only will default to False. Either specify numeric_only or select only columns which should be valid for the function.\n",
      "  \"category_means\": dataset.groupby(dataset[column]).mean()[target_name]\n",
      "\u001b[32m[I 2022-12-21 00:50:52,208]\u001b[0m Trial 77 finished with value: 294.6837193065148 and parameters: {'x_0': 0.34196573620274406, 'x_1': 0.02202190551298956}. Best is trial 19 with value: 282.2052161524865.\u001b[0m\n"
     ]
    },
    {
     "name": "stdout",
     "output_type": "stream",
     "text": [
      "Fold number: 5, loss: 285.24972837465094\n",
      "Current weights: [0.29712852 0.06336557 0.63950592]\n"
     ]
    },
    {
     "name": "stderr",
     "output_type": "stream",
     "text": [
      "C:\\Users\\Aleksey Ryabykin\\AppData\\Local\\Temp\\ipykernel_284956\\2963386934.py:8: FutureWarning: The default value of numeric_only in DataFrameGroupBy.mean is deprecated. In a future version, numeric_only will default to False. Either specify numeric_only or select only columns which should be valid for the function.\n",
      "  \"category_means\": dataset.groupby(dataset[column]).mean()[target_name]\n",
      "C:\\Users\\Aleksey Ryabykin\\AppData\\Local\\Temp\\ipykernel_284956\\2963386934.py:8: FutureWarning: The default value of numeric_only in DataFrameGroupBy.mean is deprecated. In a future version, numeric_only will default to False. Either specify numeric_only or select only columns which should be valid for the function.\n",
      "  \"category_means\": dataset.groupby(dataset[column]).mean()[target_name]\n"
     ]
    },
    {
     "name": "stdout",
     "output_type": "stream",
     "text": [
      "Fold number: 1, loss: 244.73962487914122\n"
     ]
    },
    {
     "name": "stderr",
     "output_type": "stream",
     "text": [
      "C:\\Users\\Aleksey Ryabykin\\AppData\\Local\\Temp\\ipykernel_284956\\2963386934.py:8: FutureWarning: The default value of numeric_only in DataFrameGroupBy.mean is deprecated. In a future version, numeric_only will default to False. Either specify numeric_only or select only columns which should be valid for the function.\n",
      "  \"category_means\": dataset.groupby(dataset[column]).mean()[target_name]\n",
      "C:\\Users\\Aleksey Ryabykin\\AppData\\Local\\Temp\\ipykernel_284956\\2963386934.py:8: FutureWarning: The default value of numeric_only in DataFrameGroupBy.mean is deprecated. In a future version, numeric_only will default to False. Either specify numeric_only or select only columns which should be valid for the function.\n",
      "  \"category_means\": dataset.groupby(dataset[column]).mean()[target_name]\n"
     ]
    },
    {
     "name": "stdout",
     "output_type": "stream",
     "text": [
      "Fold number: 2, loss: 345.26054041612554\n"
     ]
    },
    {
     "name": "stderr",
     "output_type": "stream",
     "text": [
      "C:\\Users\\Aleksey Ryabykin\\AppData\\Local\\Temp\\ipykernel_284956\\2963386934.py:8: FutureWarning: The default value of numeric_only in DataFrameGroupBy.mean is deprecated. In a future version, numeric_only will default to False. Either specify numeric_only or select only columns which should be valid for the function.\n",
      "  \"category_means\": dataset.groupby(dataset[column]).mean()[target_name]\n",
      "C:\\Users\\Aleksey Ryabykin\\AppData\\Local\\Temp\\ipykernel_284956\\2963386934.py:8: FutureWarning: The default value of numeric_only in DataFrameGroupBy.mean is deprecated. In a future version, numeric_only will default to False. Either specify numeric_only or select only columns which should be valid for the function.\n",
      "  \"category_means\": dataset.groupby(dataset[column]).mean()[target_name]\n"
     ]
    },
    {
     "name": "stdout",
     "output_type": "stream",
     "text": [
      "Fold number: 3, loss: 316.8043316287201\n"
     ]
    },
    {
     "name": "stderr",
     "output_type": "stream",
     "text": [
      "C:\\Users\\Aleksey Ryabykin\\AppData\\Local\\Temp\\ipykernel_284956\\2963386934.py:8: FutureWarning: The default value of numeric_only in DataFrameGroupBy.mean is deprecated. In a future version, numeric_only will default to False. Either specify numeric_only or select only columns which should be valid for the function.\n",
      "  \"category_means\": dataset.groupby(dataset[column]).mean()[target_name]\n",
      "C:\\Users\\Aleksey Ryabykin\\AppData\\Local\\Temp\\ipykernel_284956\\2963386934.py:8: FutureWarning: The default value of numeric_only in DataFrameGroupBy.mean is deprecated. In a future version, numeric_only will default to False. Either specify numeric_only or select only columns which should be valid for the function.\n",
      "  \"category_means\": dataset.groupby(dataset[column]).mean()[target_name]\n"
     ]
    },
    {
     "name": "stdout",
     "output_type": "stream",
     "text": [
      "Fold number: 4, loss: 315.78697870888504\n"
     ]
    },
    {
     "name": "stderr",
     "output_type": "stream",
     "text": [
      "C:\\Users\\Aleksey Ryabykin\\AppData\\Local\\Temp\\ipykernel_284956\\2963386934.py:8: FutureWarning: The default value of numeric_only in DataFrameGroupBy.mean is deprecated. In a future version, numeric_only will default to False. Either specify numeric_only or select only columns which should be valid for the function.\n",
      "  \"category_means\": dataset.groupby(dataset[column]).mean()[target_name]\n",
      "C:\\Users\\Aleksey Ryabykin\\AppData\\Local\\Temp\\ipykernel_284956\\2963386934.py:8: FutureWarning: The default value of numeric_only in DataFrameGroupBy.mean is deprecated. In a future version, numeric_only will default to False. Either specify numeric_only or select only columns which should be valid for the function.\n",
      "  \"category_means\": dataset.groupby(dataset[column]).mean()[target_name]\n",
      "\u001b[32m[I 2022-12-21 00:51:14,347]\u001b[0m Trial 78 finished with value: 307.3274778519566 and parameters: {'x_0': 0.29712851609318364, 'x_1': 0.06336556883880101}. Best is trial 19 with value: 282.2052161524865.\u001b[0m\n"
     ]
    },
    {
     "name": "stdout",
     "output_type": "stream",
     "text": [
      "Fold number: 5, loss: 314.0459136269111\n",
      "Current weights: [0.14498538 0.09161691 0.76339771]\n"
     ]
    },
    {
     "name": "stderr",
     "output_type": "stream",
     "text": [
      "C:\\Users\\Aleksey Ryabykin\\AppData\\Local\\Temp\\ipykernel_284956\\2963386934.py:8: FutureWarning: The default value of numeric_only in DataFrameGroupBy.mean is deprecated. In a future version, numeric_only will default to False. Either specify numeric_only or select only columns which should be valid for the function.\n",
      "  \"category_means\": dataset.groupby(dataset[column]).mean()[target_name]\n",
      "C:\\Users\\Aleksey Ryabykin\\AppData\\Local\\Temp\\ipykernel_284956\\2963386934.py:8: FutureWarning: The default value of numeric_only in DataFrameGroupBy.mean is deprecated. In a future version, numeric_only will default to False. Either specify numeric_only or select only columns which should be valid for the function.\n",
      "  \"category_means\": dataset.groupby(dataset[column]).mean()[target_name]\n"
     ]
    },
    {
     "name": "stdout",
     "output_type": "stream",
     "text": [
      "Fold number: 1, loss: 299.37908853317975\n"
     ]
    },
    {
     "name": "stderr",
     "output_type": "stream",
     "text": [
      "C:\\Users\\Aleksey Ryabykin\\AppData\\Local\\Temp\\ipykernel_284956\\2963386934.py:8: FutureWarning: The default value of numeric_only in DataFrameGroupBy.mean is deprecated. In a future version, numeric_only will default to False. Either specify numeric_only or select only columns which should be valid for the function.\n",
      "  \"category_means\": dataset.groupby(dataset[column]).mean()[target_name]\n",
      "C:\\Users\\Aleksey Ryabykin\\AppData\\Local\\Temp\\ipykernel_284956\\2963386934.py:8: FutureWarning: The default value of numeric_only in DataFrameGroupBy.mean is deprecated. In a future version, numeric_only will default to False. Either specify numeric_only or select only columns which should be valid for the function.\n",
      "  \"category_means\": dataset.groupby(dataset[column]).mean()[target_name]\n"
     ]
    },
    {
     "name": "stdout",
     "output_type": "stream",
     "text": [
      "Fold number: 2, loss: 302.32253368189646\n"
     ]
    },
    {
     "name": "stderr",
     "output_type": "stream",
     "text": [
      "C:\\Users\\Aleksey Ryabykin\\AppData\\Local\\Temp\\ipykernel_284956\\2963386934.py:8: FutureWarning: The default value of numeric_only in DataFrameGroupBy.mean is deprecated. In a future version, numeric_only will default to False. Either specify numeric_only or select only columns which should be valid for the function.\n",
      "  \"category_means\": dataset.groupby(dataset[column]).mean()[target_name]\n",
      "C:\\Users\\Aleksey Ryabykin\\AppData\\Local\\Temp\\ipykernel_284956\\2963386934.py:8: FutureWarning: The default value of numeric_only in DataFrameGroupBy.mean is deprecated. In a future version, numeric_only will default to False. Either specify numeric_only or select only columns which should be valid for the function.\n",
      "  \"category_means\": dataset.groupby(dataset[column]).mean()[target_name]\n"
     ]
    },
    {
     "name": "stdout",
     "output_type": "stream",
     "text": [
      "Fold number: 3, loss: 331.9908974004343\n"
     ]
    },
    {
     "name": "stderr",
     "output_type": "stream",
     "text": [
      "C:\\Users\\Aleksey Ryabykin\\AppData\\Local\\Temp\\ipykernel_284956\\2963386934.py:8: FutureWarning: The default value of numeric_only in DataFrameGroupBy.mean is deprecated. In a future version, numeric_only will default to False. Either specify numeric_only or select only columns which should be valid for the function.\n",
      "  \"category_means\": dataset.groupby(dataset[column]).mean()[target_name]\n",
      "C:\\Users\\Aleksey Ryabykin\\AppData\\Local\\Temp\\ipykernel_284956\\2963386934.py:8: FutureWarning: The default value of numeric_only in DataFrameGroupBy.mean is deprecated. In a future version, numeric_only will default to False. Either specify numeric_only or select only columns which should be valid for the function.\n",
      "  \"category_means\": dataset.groupby(dataset[column]).mean()[target_name]\n"
     ]
    },
    {
     "name": "stdout",
     "output_type": "stream",
     "text": [
      "Fold number: 4, loss: 259.561843482352\n"
     ]
    },
    {
     "name": "stderr",
     "output_type": "stream",
     "text": [
      "C:\\Users\\Aleksey Ryabykin\\AppData\\Local\\Temp\\ipykernel_284956\\2963386934.py:8: FutureWarning: The default value of numeric_only in DataFrameGroupBy.mean is deprecated. In a future version, numeric_only will default to False. Either specify numeric_only or select only columns which should be valid for the function.\n",
      "  \"category_means\": dataset.groupby(dataset[column]).mean()[target_name]\n",
      "C:\\Users\\Aleksey Ryabykin\\AppData\\Local\\Temp\\ipykernel_284956\\2963386934.py:8: FutureWarning: The default value of numeric_only in DataFrameGroupBy.mean is deprecated. In a future version, numeric_only will default to False. Either specify numeric_only or select only columns which should be valid for the function.\n",
      "  \"category_means\": dataset.groupby(dataset[column]).mean()[target_name]\n",
      "\u001b[32m[I 2022-12-21 00:51:35,116]\u001b[0m Trial 79 finished with value: 295.96785199060776 and parameters: {'x_0': 0.1449853816810054, 'x_1': 0.09161690820184719}. Best is trial 19 with value: 282.2052161524865.\u001b[0m\n"
     ]
    },
    {
     "name": "stdout",
     "output_type": "stream",
     "text": [
      "Fold number: 5, loss: 286.58489685517645\n",
      "Current weights: [0.21552616 0.04792039 0.73655344]\n"
     ]
    },
    {
     "name": "stderr",
     "output_type": "stream",
     "text": [
      "C:\\Users\\Aleksey Ryabykin\\AppData\\Local\\Temp\\ipykernel_284956\\2963386934.py:8: FutureWarning: The default value of numeric_only in DataFrameGroupBy.mean is deprecated. In a future version, numeric_only will default to False. Either specify numeric_only or select only columns which should be valid for the function.\n",
      "  \"category_means\": dataset.groupby(dataset[column]).mean()[target_name]\n",
      "C:\\Users\\Aleksey Ryabykin\\AppData\\Local\\Temp\\ipykernel_284956\\2963386934.py:8: FutureWarning: The default value of numeric_only in DataFrameGroupBy.mean is deprecated. In a future version, numeric_only will default to False. Either specify numeric_only or select only columns which should be valid for the function.\n",
      "  \"category_means\": dataset.groupby(dataset[column]).mean()[target_name]\n"
     ]
    },
    {
     "name": "stdout",
     "output_type": "stream",
     "text": [
      "Fold number: 1, loss: 272.86000535844533\n"
     ]
    },
    {
     "name": "stderr",
     "output_type": "stream",
     "text": [
      "C:\\Users\\Aleksey Ryabykin\\AppData\\Local\\Temp\\ipykernel_284956\\2963386934.py:8: FutureWarning: The default value of numeric_only in DataFrameGroupBy.mean is deprecated. In a future version, numeric_only will default to False. Either specify numeric_only or select only columns which should be valid for the function.\n",
      "  \"category_means\": dataset.groupby(dataset[column]).mean()[target_name]\n",
      "C:\\Users\\Aleksey Ryabykin\\AppData\\Local\\Temp\\ipykernel_284956\\2963386934.py:8: FutureWarning: The default value of numeric_only in DataFrameGroupBy.mean is deprecated. In a future version, numeric_only will default to False. Either specify numeric_only or select only columns which should be valid for the function.\n",
      "  \"category_means\": dataset.groupby(dataset[column]).mean()[target_name]\n"
     ]
    },
    {
     "name": "stdout",
     "output_type": "stream",
     "text": [
      "Fold number: 2, loss: 290.58681275351034\n"
     ]
    },
    {
     "name": "stderr",
     "output_type": "stream",
     "text": [
      "C:\\Users\\Aleksey Ryabykin\\AppData\\Local\\Temp\\ipykernel_284956\\2963386934.py:8: FutureWarning: The default value of numeric_only in DataFrameGroupBy.mean is deprecated. In a future version, numeric_only will default to False. Either specify numeric_only or select only columns which should be valid for the function.\n",
      "  \"category_means\": dataset.groupby(dataset[column]).mean()[target_name]\n",
      "C:\\Users\\Aleksey Ryabykin\\AppData\\Local\\Temp\\ipykernel_284956\\2963386934.py:8: FutureWarning: The default value of numeric_only in DataFrameGroupBy.mean is deprecated. In a future version, numeric_only will default to False. Either specify numeric_only or select only columns which should be valid for the function.\n",
      "  \"category_means\": dataset.groupby(dataset[column]).mean()[target_name]\n"
     ]
    },
    {
     "name": "stdout",
     "output_type": "stream",
     "text": [
      "Fold number: 3, loss: 295.71820435795814\n"
     ]
    },
    {
     "name": "stderr",
     "output_type": "stream",
     "text": [
      "C:\\Users\\Aleksey Ryabykin\\AppData\\Local\\Temp\\ipykernel_284956\\2963386934.py:8: FutureWarning: The default value of numeric_only in DataFrameGroupBy.mean is deprecated. In a future version, numeric_only will default to False. Either specify numeric_only or select only columns which should be valid for the function.\n",
      "  \"category_means\": dataset.groupby(dataset[column]).mean()[target_name]\n",
      "C:\\Users\\Aleksey Ryabykin\\AppData\\Local\\Temp\\ipykernel_284956\\2963386934.py:8: FutureWarning: The default value of numeric_only in DataFrameGroupBy.mean is deprecated. In a future version, numeric_only will default to False. Either specify numeric_only or select only columns which should be valid for the function.\n",
      "  \"category_means\": dataset.groupby(dataset[column]).mean()[target_name]\n"
     ]
    },
    {
     "name": "stdout",
     "output_type": "stream",
     "text": [
      "Fold number: 4, loss: 341.74552173588336\n"
     ]
    },
    {
     "name": "stderr",
     "output_type": "stream",
     "text": [
      "C:\\Users\\Aleksey Ryabykin\\AppData\\Local\\Temp\\ipykernel_284956\\2963386934.py:8: FutureWarning: The default value of numeric_only in DataFrameGroupBy.mean is deprecated. In a future version, numeric_only will default to False. Either specify numeric_only or select only columns which should be valid for the function.\n",
      "  \"category_means\": dataset.groupby(dataset[column]).mean()[target_name]\n",
      "C:\\Users\\Aleksey Ryabykin\\AppData\\Local\\Temp\\ipykernel_284956\\2963386934.py:8: FutureWarning: The default value of numeric_only in DataFrameGroupBy.mean is deprecated. In a future version, numeric_only will default to False. Either specify numeric_only or select only columns which should be valid for the function.\n",
      "  \"category_means\": dataset.groupby(dataset[column]).mean()[target_name]\n",
      "\u001b[32m[I 2022-12-21 00:51:55,323]\u001b[0m Trial 80 finished with value: 305.85751475169957 and parameters: {'x_0': 0.2155261648426485, 'x_1': 0.04792039097109622}. Best is trial 19 with value: 282.2052161524865.\u001b[0m\n"
     ]
    },
    {
     "name": "stdout",
     "output_type": "stream",
     "text": [
      "Fold number: 5, loss: 328.3770295527008\n",
      "Current weights: [0.07980911 0.16000785 0.76018304]\n"
     ]
    },
    {
     "name": "stderr",
     "output_type": "stream",
     "text": [
      "C:\\Users\\Aleksey Ryabykin\\AppData\\Local\\Temp\\ipykernel_284956\\2963386934.py:8: FutureWarning: The default value of numeric_only in DataFrameGroupBy.mean is deprecated. In a future version, numeric_only will default to False. Either specify numeric_only or select only columns which should be valid for the function.\n",
      "  \"category_means\": dataset.groupby(dataset[column]).mean()[target_name]\n",
      "C:\\Users\\Aleksey Ryabykin\\AppData\\Local\\Temp\\ipykernel_284956\\2963386934.py:8: FutureWarning: The default value of numeric_only in DataFrameGroupBy.mean is deprecated. In a future version, numeric_only will default to False. Either specify numeric_only or select only columns which should be valid for the function.\n",
      "  \"category_means\": dataset.groupby(dataset[column]).mean()[target_name]\n"
     ]
    },
    {
     "name": "stdout",
     "output_type": "stream",
     "text": [
      "Fold number: 1, loss: 306.5034450313863\n"
     ]
    },
    {
     "name": "stderr",
     "output_type": "stream",
     "text": [
      "C:\\Users\\Aleksey Ryabykin\\AppData\\Local\\Temp\\ipykernel_284956\\2963386934.py:8: FutureWarning: The default value of numeric_only in DataFrameGroupBy.mean is deprecated. In a future version, numeric_only will default to False. Either specify numeric_only or select only columns which should be valid for the function.\n",
      "  \"category_means\": dataset.groupby(dataset[column]).mean()[target_name]\n",
      "C:\\Users\\Aleksey Ryabykin\\AppData\\Local\\Temp\\ipykernel_284956\\2963386934.py:8: FutureWarning: The default value of numeric_only in DataFrameGroupBy.mean is deprecated. In a future version, numeric_only will default to False. Either specify numeric_only or select only columns which should be valid for the function.\n",
      "  \"category_means\": dataset.groupby(dataset[column]).mean()[target_name]\n"
     ]
    },
    {
     "name": "stdout",
     "output_type": "stream",
     "text": [
      "Fold number: 2, loss: 336.4055016769324\n"
     ]
    },
    {
     "name": "stderr",
     "output_type": "stream",
     "text": [
      "C:\\Users\\Aleksey Ryabykin\\AppData\\Local\\Temp\\ipykernel_284956\\2963386934.py:8: FutureWarning: The default value of numeric_only in DataFrameGroupBy.mean is deprecated. In a future version, numeric_only will default to False. Either specify numeric_only or select only columns which should be valid for the function.\n",
      "  \"category_means\": dataset.groupby(dataset[column]).mean()[target_name]\n",
      "C:\\Users\\Aleksey Ryabykin\\AppData\\Local\\Temp\\ipykernel_284956\\2963386934.py:8: FutureWarning: The default value of numeric_only in DataFrameGroupBy.mean is deprecated. In a future version, numeric_only will default to False. Either specify numeric_only or select only columns which should be valid for the function.\n",
      "  \"category_means\": dataset.groupby(dataset[column]).mean()[target_name]\n"
     ]
    },
    {
     "name": "stdout",
     "output_type": "stream",
     "text": [
      "Fold number: 3, loss: 305.14062691264564\n"
     ]
    },
    {
     "name": "stderr",
     "output_type": "stream",
     "text": [
      "C:\\Users\\Aleksey Ryabykin\\AppData\\Local\\Temp\\ipykernel_284956\\2963386934.py:8: FutureWarning: The default value of numeric_only in DataFrameGroupBy.mean is deprecated. In a future version, numeric_only will default to False. Either specify numeric_only or select only columns which should be valid for the function.\n",
      "  \"category_means\": dataset.groupby(dataset[column]).mean()[target_name]\n",
      "C:\\Users\\Aleksey Ryabykin\\AppData\\Local\\Temp\\ipykernel_284956\\2963386934.py:8: FutureWarning: The default value of numeric_only in DataFrameGroupBy.mean is deprecated. In a future version, numeric_only will default to False. Either specify numeric_only or select only columns which should be valid for the function.\n",
      "  \"category_means\": dataset.groupby(dataset[column]).mean()[target_name]\n"
     ]
    },
    {
     "name": "stdout",
     "output_type": "stream",
     "text": [
      "Fold number: 4, loss: 293.51596322492867\n"
     ]
    },
    {
     "name": "stderr",
     "output_type": "stream",
     "text": [
      "C:\\Users\\Aleksey Ryabykin\\AppData\\Local\\Temp\\ipykernel_284956\\2963386934.py:8: FutureWarning: The default value of numeric_only in DataFrameGroupBy.mean is deprecated. In a future version, numeric_only will default to False. Either specify numeric_only or select only columns which should be valid for the function.\n",
      "  \"category_means\": dataset.groupby(dataset[column]).mean()[target_name]\n",
      "C:\\Users\\Aleksey Ryabykin\\AppData\\Local\\Temp\\ipykernel_284956\\2963386934.py:8: FutureWarning: The default value of numeric_only in DataFrameGroupBy.mean is deprecated. In a future version, numeric_only will default to False. Either specify numeric_only or select only columns which should be valid for the function.\n",
      "  \"category_means\": dataset.groupby(dataset[column]).mean()[target_name]\n",
      "\u001b[32m[I 2022-12-21 00:52:15,395]\u001b[0m Trial 81 finished with value: 308.2513916318977 and parameters: {'x_0': 0.07980910531640317, 'x_1': 0.16000785476447058}. Best is trial 19 with value: 282.2052161524865.\u001b[0m\n"
     ]
    },
    {
     "name": "stdout",
     "output_type": "stream",
     "text": [
      "Fold number: 5, loss: 299.69142131359564\n",
      "Current weights: [0.16481398 0.10594022 0.7292458 ]\n"
     ]
    },
    {
     "name": "stderr",
     "output_type": "stream",
     "text": [
      "C:\\Users\\Aleksey Ryabykin\\AppData\\Local\\Temp\\ipykernel_284956\\2963386934.py:8: FutureWarning: The default value of numeric_only in DataFrameGroupBy.mean is deprecated. In a future version, numeric_only will default to False. Either specify numeric_only or select only columns which should be valid for the function.\n",
      "  \"category_means\": dataset.groupby(dataset[column]).mean()[target_name]\n",
      "C:\\Users\\Aleksey Ryabykin\\AppData\\Local\\Temp\\ipykernel_284956\\2963386934.py:8: FutureWarning: The default value of numeric_only in DataFrameGroupBy.mean is deprecated. In a future version, numeric_only will default to False. Either specify numeric_only or select only columns which should be valid for the function.\n",
      "  \"category_means\": dataset.groupby(dataset[column]).mean()[target_name]\n"
     ]
    },
    {
     "name": "stdout",
     "output_type": "stream",
     "text": [
      "Fold number: 1, loss: 267.76112430518\n"
     ]
    },
    {
     "name": "stderr",
     "output_type": "stream",
     "text": [
      "C:\\Users\\Aleksey Ryabykin\\AppData\\Local\\Temp\\ipykernel_284956\\2963386934.py:8: FutureWarning: The default value of numeric_only in DataFrameGroupBy.mean is deprecated. In a future version, numeric_only will default to False. Either specify numeric_only or select only columns which should be valid for the function.\n",
      "  \"category_means\": dataset.groupby(dataset[column]).mean()[target_name]\n",
      "C:\\Users\\Aleksey Ryabykin\\AppData\\Local\\Temp\\ipykernel_284956\\2963386934.py:8: FutureWarning: The default value of numeric_only in DataFrameGroupBy.mean is deprecated. In a future version, numeric_only will default to False. Either specify numeric_only or select only columns which should be valid for the function.\n",
      "  \"category_means\": dataset.groupby(dataset[column]).mean()[target_name]\n"
     ]
    },
    {
     "name": "stdout",
     "output_type": "stream",
     "text": [
      "Fold number: 2, loss: 260.61811710337844\n"
     ]
    },
    {
     "name": "stderr",
     "output_type": "stream",
     "text": [
      "C:\\Users\\Aleksey Ryabykin\\AppData\\Local\\Temp\\ipykernel_284956\\2963386934.py:8: FutureWarning: The default value of numeric_only in DataFrameGroupBy.mean is deprecated. In a future version, numeric_only will default to False. Either specify numeric_only or select only columns which should be valid for the function.\n",
      "  \"category_means\": dataset.groupby(dataset[column]).mean()[target_name]\n",
      "C:\\Users\\Aleksey Ryabykin\\AppData\\Local\\Temp\\ipykernel_284956\\2963386934.py:8: FutureWarning: The default value of numeric_only in DataFrameGroupBy.mean is deprecated. In a future version, numeric_only will default to False. Either specify numeric_only or select only columns which should be valid for the function.\n",
      "  \"category_means\": dataset.groupby(dataset[column]).mean()[target_name]\n"
     ]
    },
    {
     "name": "stdout",
     "output_type": "stream",
     "text": [
      "Fold number: 3, loss: 353.9959661011959\n"
     ]
    },
    {
     "name": "stderr",
     "output_type": "stream",
     "text": [
      "C:\\Users\\Aleksey Ryabykin\\AppData\\Local\\Temp\\ipykernel_284956\\2963386934.py:8: FutureWarning: The default value of numeric_only in DataFrameGroupBy.mean is deprecated. In a future version, numeric_only will default to False. Either specify numeric_only or select only columns which should be valid for the function.\n",
      "  \"category_means\": dataset.groupby(dataset[column]).mean()[target_name]\n",
      "C:\\Users\\Aleksey Ryabykin\\AppData\\Local\\Temp\\ipykernel_284956\\2963386934.py:8: FutureWarning: The default value of numeric_only in DataFrameGroupBy.mean is deprecated. In a future version, numeric_only will default to False. Either specify numeric_only or select only columns which should be valid for the function.\n",
      "  \"category_means\": dataset.groupby(dataset[column]).mean()[target_name]\n"
     ]
    },
    {
     "name": "stdout",
     "output_type": "stream",
     "text": [
      "Fold number: 4, loss: 308.5071315160557\n"
     ]
    },
    {
     "name": "stderr",
     "output_type": "stream",
     "text": [
      "C:\\Users\\Aleksey Ryabykin\\AppData\\Local\\Temp\\ipykernel_284956\\2963386934.py:8: FutureWarning: The default value of numeric_only in DataFrameGroupBy.mean is deprecated. In a future version, numeric_only will default to False. Either specify numeric_only or select only columns which should be valid for the function.\n",
      "  \"category_means\": dataset.groupby(dataset[column]).mean()[target_name]\n",
      "C:\\Users\\Aleksey Ryabykin\\AppData\\Local\\Temp\\ipykernel_284956\\2963386934.py:8: FutureWarning: The default value of numeric_only in DataFrameGroupBy.mean is deprecated. In a future version, numeric_only will default to False. Either specify numeric_only or select only columns which should be valid for the function.\n",
      "  \"category_means\": dataset.groupby(dataset[column]).mean()[target_name]\n",
      "\u001b[32m[I 2022-12-21 00:52:35,619]\u001b[0m Trial 82 finished with value: 299.3610457841651 and parameters: {'x_0': 0.1648139809111058, 'x_1': 0.10594021893185934}. Best is trial 19 with value: 282.2052161524865.\u001b[0m\n"
     ]
    },
    {
     "name": "stdout",
     "output_type": "stream",
     "text": [
      "Fold number: 5, loss: 305.92288989501543\n",
      "Current weights: [0.10227854 0.39891544 0.49880602]\n"
     ]
    },
    {
     "name": "stderr",
     "output_type": "stream",
     "text": [
      "C:\\Users\\Aleksey Ryabykin\\AppData\\Local\\Temp\\ipykernel_284956\\2963386934.py:8: FutureWarning: The default value of numeric_only in DataFrameGroupBy.mean is deprecated. In a future version, numeric_only will default to False. Either specify numeric_only or select only columns which should be valid for the function.\n",
      "  \"category_means\": dataset.groupby(dataset[column]).mean()[target_name]\n",
      "C:\\Users\\Aleksey Ryabykin\\AppData\\Local\\Temp\\ipykernel_284956\\2963386934.py:8: FutureWarning: The default value of numeric_only in DataFrameGroupBy.mean is deprecated. In a future version, numeric_only will default to False. Either specify numeric_only or select only columns which should be valid for the function.\n",
      "  \"category_means\": dataset.groupby(dataset[column]).mean()[target_name]\n"
     ]
    },
    {
     "name": "stdout",
     "output_type": "stream",
     "text": [
      "Fold number: 1, loss: 357.6859124935774\n"
     ]
    },
    {
     "name": "stderr",
     "output_type": "stream",
     "text": [
      "C:\\Users\\Aleksey Ryabykin\\AppData\\Local\\Temp\\ipykernel_284956\\2963386934.py:8: FutureWarning: The default value of numeric_only in DataFrameGroupBy.mean is deprecated. In a future version, numeric_only will default to False. Either specify numeric_only or select only columns which should be valid for the function.\n",
      "  \"category_means\": dataset.groupby(dataset[column]).mean()[target_name]\n",
      "C:\\Users\\Aleksey Ryabykin\\AppData\\Local\\Temp\\ipykernel_284956\\2963386934.py:8: FutureWarning: The default value of numeric_only in DataFrameGroupBy.mean is deprecated. In a future version, numeric_only will default to False. Either specify numeric_only or select only columns which should be valid for the function.\n",
      "  \"category_means\": dataset.groupby(dataset[column]).mean()[target_name]\n"
     ]
    },
    {
     "name": "stdout",
     "output_type": "stream",
     "text": [
      "Fold number: 2, loss: 298.21715203337925\n"
     ]
    },
    {
     "name": "stderr",
     "output_type": "stream",
     "text": [
      "C:\\Users\\Aleksey Ryabykin\\AppData\\Local\\Temp\\ipykernel_284956\\2963386934.py:8: FutureWarning: The default value of numeric_only in DataFrameGroupBy.mean is deprecated. In a future version, numeric_only will default to False. Either specify numeric_only or select only columns which should be valid for the function.\n",
      "  \"category_means\": dataset.groupby(dataset[column]).mean()[target_name]\n",
      "C:\\Users\\Aleksey Ryabykin\\AppData\\Local\\Temp\\ipykernel_284956\\2963386934.py:8: FutureWarning: The default value of numeric_only in DataFrameGroupBy.mean is deprecated. In a future version, numeric_only will default to False. Either specify numeric_only or select only columns which should be valid for the function.\n",
      "  \"category_means\": dataset.groupby(dataset[column]).mean()[target_name]\n"
     ]
    },
    {
     "name": "stdout",
     "output_type": "stream",
     "text": [
      "Fold number: 3, loss: 317.63992803082675\n"
     ]
    },
    {
     "name": "stderr",
     "output_type": "stream",
     "text": [
      "C:\\Users\\Aleksey Ryabykin\\AppData\\Local\\Temp\\ipykernel_284956\\2963386934.py:8: FutureWarning: The default value of numeric_only in DataFrameGroupBy.mean is deprecated. In a future version, numeric_only will default to False. Either specify numeric_only or select only columns which should be valid for the function.\n",
      "  \"category_means\": dataset.groupby(dataset[column]).mean()[target_name]\n",
      "C:\\Users\\Aleksey Ryabykin\\AppData\\Local\\Temp\\ipykernel_284956\\2963386934.py:8: FutureWarning: The default value of numeric_only in DataFrameGroupBy.mean is deprecated. In a future version, numeric_only will default to False. Either specify numeric_only or select only columns which should be valid for the function.\n",
      "  \"category_means\": dataset.groupby(dataset[column]).mean()[target_name]\n"
     ]
    },
    {
     "name": "stdout",
     "output_type": "stream",
     "text": [
      "Fold number: 4, loss: 401.5838502932266\n"
     ]
    },
    {
     "name": "stderr",
     "output_type": "stream",
     "text": [
      "C:\\Users\\Aleksey Ryabykin\\AppData\\Local\\Temp\\ipykernel_284956\\2963386934.py:8: FutureWarning: The default value of numeric_only in DataFrameGroupBy.mean is deprecated. In a future version, numeric_only will default to False. Either specify numeric_only or select only columns which should be valid for the function.\n",
      "  \"category_means\": dataset.groupby(dataset[column]).mean()[target_name]\n",
      "C:\\Users\\Aleksey Ryabykin\\AppData\\Local\\Temp\\ipykernel_284956\\2963386934.py:8: FutureWarning: The default value of numeric_only in DataFrameGroupBy.mean is deprecated. In a future version, numeric_only will default to False. Either specify numeric_only or select only columns which should be valid for the function.\n",
      "  \"category_means\": dataset.groupby(dataset[column]).mean()[target_name]\n",
      "\u001b[32m[I 2022-12-21 00:52:56,197]\u001b[0m Trial 83 finished with value: 332.37806689372275 and parameters: {'x_0': 0.10227854210598897, 'x_1': 0.3989154427583272}. Best is trial 19 with value: 282.2052161524865.\u001b[0m\n"
     ]
    },
    {
     "name": "stdout",
     "output_type": "stream",
     "text": [
      "Fold number: 5, loss: 286.7634916176038\n",
      "Current weights: [0.18684356 0.05891512 0.75424132]\n"
     ]
    },
    {
     "name": "stderr",
     "output_type": "stream",
     "text": [
      "C:\\Users\\Aleksey Ryabykin\\AppData\\Local\\Temp\\ipykernel_284956\\2963386934.py:8: FutureWarning: The default value of numeric_only in DataFrameGroupBy.mean is deprecated. In a future version, numeric_only will default to False. Either specify numeric_only or select only columns which should be valid for the function.\n",
      "  \"category_means\": dataset.groupby(dataset[column]).mean()[target_name]\n",
      "C:\\Users\\Aleksey Ryabykin\\AppData\\Local\\Temp\\ipykernel_284956\\2963386934.py:8: FutureWarning: The default value of numeric_only in DataFrameGroupBy.mean is deprecated. In a future version, numeric_only will default to False. Either specify numeric_only or select only columns which should be valid for the function.\n",
      "  \"category_means\": dataset.groupby(dataset[column]).mean()[target_name]\n"
     ]
    },
    {
     "name": "stdout",
     "output_type": "stream",
     "text": [
      "Fold number: 1, loss: 275.0467118268383\n"
     ]
    },
    {
     "name": "stderr",
     "output_type": "stream",
     "text": [
      "C:\\Users\\Aleksey Ryabykin\\AppData\\Local\\Temp\\ipykernel_284956\\2963386934.py:8: FutureWarning: The default value of numeric_only in DataFrameGroupBy.mean is deprecated. In a future version, numeric_only will default to False. Either specify numeric_only or select only columns which should be valid for the function.\n",
      "  \"category_means\": dataset.groupby(dataset[column]).mean()[target_name]\n",
      "C:\\Users\\Aleksey Ryabykin\\AppData\\Local\\Temp\\ipykernel_284956\\2963386934.py:8: FutureWarning: The default value of numeric_only in DataFrameGroupBy.mean is deprecated. In a future version, numeric_only will default to False. Either specify numeric_only or select only columns which should be valid for the function.\n",
      "  \"category_means\": dataset.groupby(dataset[column]).mean()[target_name]\n"
     ]
    },
    {
     "name": "stdout",
     "output_type": "stream",
     "text": [
      "Fold number: 2, loss: 276.6504444526029\n"
     ]
    },
    {
     "name": "stderr",
     "output_type": "stream",
     "text": [
      "C:\\Users\\Aleksey Ryabykin\\AppData\\Local\\Temp\\ipykernel_284956\\2963386934.py:8: FutureWarning: The default value of numeric_only in DataFrameGroupBy.mean is deprecated. In a future version, numeric_only will default to False. Either specify numeric_only or select only columns which should be valid for the function.\n",
      "  \"category_means\": dataset.groupby(dataset[column]).mean()[target_name]\n",
      "C:\\Users\\Aleksey Ryabykin\\AppData\\Local\\Temp\\ipykernel_284956\\2963386934.py:8: FutureWarning: The default value of numeric_only in DataFrameGroupBy.mean is deprecated. In a future version, numeric_only will default to False. Either specify numeric_only or select only columns which should be valid for the function.\n",
      "  \"category_means\": dataset.groupby(dataset[column]).mean()[target_name]\n"
     ]
    },
    {
     "name": "stdout",
     "output_type": "stream",
     "text": [
      "Fold number: 3, loss: 380.91658028898513\n"
     ]
    },
    {
     "name": "stderr",
     "output_type": "stream",
     "text": [
      "C:\\Users\\Aleksey Ryabykin\\AppData\\Local\\Temp\\ipykernel_284956\\2963386934.py:8: FutureWarning: The default value of numeric_only in DataFrameGroupBy.mean is deprecated. In a future version, numeric_only will default to False. Either specify numeric_only or select only columns which should be valid for the function.\n",
      "  \"category_means\": dataset.groupby(dataset[column]).mean()[target_name]\n",
      "C:\\Users\\Aleksey Ryabykin\\AppData\\Local\\Temp\\ipykernel_284956\\2963386934.py:8: FutureWarning: The default value of numeric_only in DataFrameGroupBy.mean is deprecated. In a future version, numeric_only will default to False. Either specify numeric_only or select only columns which should be valid for the function.\n",
      "  \"category_means\": dataset.groupby(dataset[column]).mean()[target_name]\n"
     ]
    },
    {
     "name": "stdout",
     "output_type": "stream",
     "text": [
      "Fold number: 4, loss: 305.95547927504924\n"
     ]
    },
    {
     "name": "stderr",
     "output_type": "stream",
     "text": [
      "C:\\Users\\Aleksey Ryabykin\\AppData\\Local\\Temp\\ipykernel_284956\\2963386934.py:8: FutureWarning: The default value of numeric_only in DataFrameGroupBy.mean is deprecated. In a future version, numeric_only will default to False. Either specify numeric_only or select only columns which should be valid for the function.\n",
      "  \"category_means\": dataset.groupby(dataset[column]).mean()[target_name]\n",
      "C:\\Users\\Aleksey Ryabykin\\AppData\\Local\\Temp\\ipykernel_284956\\2963386934.py:8: FutureWarning: The default value of numeric_only in DataFrameGroupBy.mean is deprecated. In a future version, numeric_only will default to False. Either specify numeric_only or select only columns which should be valid for the function.\n",
      "  \"category_means\": dataset.groupby(dataset[column]).mean()[target_name]\n",
      "\u001b[32m[I 2022-12-21 00:53:20,069]\u001b[0m Trial 84 finished with value: 299.3130587252511 and parameters: {'x_0': 0.18684355698261731, 'x_1': 0.05891512121037896}. Best is trial 19 with value: 282.2052161524865.\u001b[0m\n"
     ]
    },
    {
     "name": "stdout",
     "output_type": "stream",
     "text": [
      "Fold number: 5, loss: 257.9960777827796\n",
      "Current weights: [0.23494891 0.45136029 0.3136908 ]\n"
     ]
    },
    {
     "name": "stderr",
     "output_type": "stream",
     "text": [
      "C:\\Users\\Aleksey Ryabykin\\AppData\\Local\\Temp\\ipykernel_284956\\2963386934.py:8: FutureWarning: The default value of numeric_only in DataFrameGroupBy.mean is deprecated. In a future version, numeric_only will default to False. Either specify numeric_only or select only columns which should be valid for the function.\n",
      "  \"category_means\": dataset.groupby(dataset[column]).mean()[target_name]\n",
      "C:\\Users\\Aleksey Ryabykin\\AppData\\Local\\Temp\\ipykernel_284956\\2963386934.py:8: FutureWarning: The default value of numeric_only in DataFrameGroupBy.mean is deprecated. In a future version, numeric_only will default to False. Either specify numeric_only or select only columns which should be valid for the function.\n",
      "  \"category_means\": dataset.groupby(dataset[column]).mean()[target_name]\n"
     ]
    },
    {
     "name": "stdout",
     "output_type": "stream",
     "text": [
      "Fold number: 1, loss: 352.2932744545402\n"
     ]
    },
    {
     "name": "stderr",
     "output_type": "stream",
     "text": [
      "C:\\Users\\Aleksey Ryabykin\\AppData\\Local\\Temp\\ipykernel_284956\\2963386934.py:8: FutureWarning: The default value of numeric_only in DataFrameGroupBy.mean is deprecated. In a future version, numeric_only will default to False. Either specify numeric_only or select only columns which should be valid for the function.\n",
      "  \"category_means\": dataset.groupby(dataset[column]).mean()[target_name]\n",
      "C:\\Users\\Aleksey Ryabykin\\AppData\\Local\\Temp\\ipykernel_284956\\2963386934.py:8: FutureWarning: The default value of numeric_only in DataFrameGroupBy.mean is deprecated. In a future version, numeric_only will default to False. Either specify numeric_only or select only columns which should be valid for the function.\n",
      "  \"category_means\": dataset.groupby(dataset[column]).mean()[target_name]\n"
     ]
    },
    {
     "name": "stdout",
     "output_type": "stream",
     "text": [
      "Fold number: 2, loss: 312.0248788526638\n"
     ]
    },
    {
     "name": "stderr",
     "output_type": "stream",
     "text": [
      "C:\\Users\\Aleksey Ryabykin\\AppData\\Local\\Temp\\ipykernel_284956\\2963386934.py:8: FutureWarning: The default value of numeric_only in DataFrameGroupBy.mean is deprecated. In a future version, numeric_only will default to False. Either specify numeric_only or select only columns which should be valid for the function.\n",
      "  \"category_means\": dataset.groupby(dataset[column]).mean()[target_name]\n",
      "C:\\Users\\Aleksey Ryabykin\\AppData\\Local\\Temp\\ipykernel_284956\\2963386934.py:8: FutureWarning: The default value of numeric_only in DataFrameGroupBy.mean is deprecated. In a future version, numeric_only will default to False. Either specify numeric_only or select only columns which should be valid for the function.\n",
      "  \"category_means\": dataset.groupby(dataset[column]).mean()[target_name]\n"
     ]
    },
    {
     "name": "stdout",
     "output_type": "stream",
     "text": [
      "Fold number: 3, loss: 287.62192367165306\n"
     ]
    },
    {
     "name": "stderr",
     "output_type": "stream",
     "text": [
      "C:\\Users\\Aleksey Ryabykin\\AppData\\Local\\Temp\\ipykernel_284956\\2963386934.py:8: FutureWarning: The default value of numeric_only in DataFrameGroupBy.mean is deprecated. In a future version, numeric_only will default to False. Either specify numeric_only or select only columns which should be valid for the function.\n",
      "  \"category_means\": dataset.groupby(dataset[column]).mean()[target_name]\n",
      "C:\\Users\\Aleksey Ryabykin\\AppData\\Local\\Temp\\ipykernel_284956\\2963386934.py:8: FutureWarning: The default value of numeric_only in DataFrameGroupBy.mean is deprecated. In a future version, numeric_only will default to False. Either specify numeric_only or select only columns which should be valid for the function.\n",
      "  \"category_means\": dataset.groupby(dataset[column]).mean()[target_name]\n"
     ]
    },
    {
     "name": "stdout",
     "output_type": "stream",
     "text": [
      "Fold number: 4, loss: 406.9232389205067\n"
     ]
    },
    {
     "name": "stderr",
     "output_type": "stream",
     "text": [
      "C:\\Users\\Aleksey Ryabykin\\AppData\\Local\\Temp\\ipykernel_284956\\2963386934.py:8: FutureWarning: The default value of numeric_only in DataFrameGroupBy.mean is deprecated. In a future version, numeric_only will default to False. Either specify numeric_only or select only columns which should be valid for the function.\n",
      "  \"category_means\": dataset.groupby(dataset[column]).mean()[target_name]\n",
      "C:\\Users\\Aleksey Ryabykin\\AppData\\Local\\Temp\\ipykernel_284956\\2963386934.py:8: FutureWarning: The default value of numeric_only in DataFrameGroupBy.mean is deprecated. In a future version, numeric_only will default to False. Either specify numeric_only or select only columns which should be valid for the function.\n",
      "  \"category_means\": dataset.groupby(dataset[column]).mean()[target_name]\n",
      "\u001b[32m[I 2022-12-21 00:53:40,887]\u001b[0m Trial 85 finished with value: 344.38056489403783 and parameters: {'x_0': 0.23494891023385212, 'x_1': 0.4513602928962941}. Best is trial 19 with value: 282.2052161524865.\u001b[0m\n"
     ]
    },
    {
     "name": "stdout",
     "output_type": "stream",
     "text": [
      "Fold number: 5, loss: 363.03950857082526\n",
      "Current weights: [0.04322442 0.08821412 0.86856146]\n"
     ]
    },
    {
     "name": "stderr",
     "output_type": "stream",
     "text": [
      "C:\\Users\\Aleksey Ryabykin\\AppData\\Local\\Temp\\ipykernel_284956\\2963386934.py:8: FutureWarning: The default value of numeric_only in DataFrameGroupBy.mean is deprecated. In a future version, numeric_only will default to False. Either specify numeric_only or select only columns which should be valid for the function.\n",
      "  \"category_means\": dataset.groupby(dataset[column]).mean()[target_name]\n",
      "C:\\Users\\Aleksey Ryabykin\\AppData\\Local\\Temp\\ipykernel_284956\\2963386934.py:8: FutureWarning: The default value of numeric_only in DataFrameGroupBy.mean is deprecated. In a future version, numeric_only will default to False. Either specify numeric_only or select only columns which should be valid for the function.\n",
      "  \"category_means\": dataset.groupby(dataset[column]).mean()[target_name]\n"
     ]
    },
    {
     "name": "stdout",
     "output_type": "stream",
     "text": [
      "Fold number: 1, loss: 319.6341111060797\n"
     ]
    },
    {
     "name": "stderr",
     "output_type": "stream",
     "text": [
      "C:\\Users\\Aleksey Ryabykin\\AppData\\Local\\Temp\\ipykernel_284956\\2963386934.py:8: FutureWarning: The default value of numeric_only in DataFrameGroupBy.mean is deprecated. In a future version, numeric_only will default to False. Either specify numeric_only or select only columns which should be valid for the function.\n",
      "  \"category_means\": dataset.groupby(dataset[column]).mean()[target_name]\n",
      "C:\\Users\\Aleksey Ryabykin\\AppData\\Local\\Temp\\ipykernel_284956\\2963386934.py:8: FutureWarning: The default value of numeric_only in DataFrameGroupBy.mean is deprecated. In a future version, numeric_only will default to False. Either specify numeric_only or select only columns which should be valid for the function.\n",
      "  \"category_means\": dataset.groupby(dataset[column]).mean()[target_name]\n"
     ]
    },
    {
     "name": "stdout",
     "output_type": "stream",
     "text": [
      "Fold number: 2, loss: 288.54980143697543\n"
     ]
    },
    {
     "name": "stderr",
     "output_type": "stream",
     "text": [
      "C:\\Users\\Aleksey Ryabykin\\AppData\\Local\\Temp\\ipykernel_284956\\2963386934.py:8: FutureWarning: The default value of numeric_only in DataFrameGroupBy.mean is deprecated. In a future version, numeric_only will default to False. Either specify numeric_only or select only columns which should be valid for the function.\n",
      "  \"category_means\": dataset.groupby(dataset[column]).mean()[target_name]\n",
      "C:\\Users\\Aleksey Ryabykin\\AppData\\Local\\Temp\\ipykernel_284956\\2963386934.py:8: FutureWarning: The default value of numeric_only in DataFrameGroupBy.mean is deprecated. In a future version, numeric_only will default to False. Either specify numeric_only or select only columns which should be valid for the function.\n",
      "  \"category_means\": dataset.groupby(dataset[column]).mean()[target_name]\n"
     ]
    },
    {
     "name": "stdout",
     "output_type": "stream",
     "text": [
      "Fold number: 3, loss: 308.7012493617044\n"
     ]
    },
    {
     "name": "stderr",
     "output_type": "stream",
     "text": [
      "C:\\Users\\Aleksey Ryabykin\\AppData\\Local\\Temp\\ipykernel_284956\\2963386934.py:8: FutureWarning: The default value of numeric_only in DataFrameGroupBy.mean is deprecated. In a future version, numeric_only will default to False. Either specify numeric_only or select only columns which should be valid for the function.\n",
      "  \"category_means\": dataset.groupby(dataset[column]).mean()[target_name]\n",
      "C:\\Users\\Aleksey Ryabykin\\AppData\\Local\\Temp\\ipykernel_284956\\2963386934.py:8: FutureWarning: The default value of numeric_only in DataFrameGroupBy.mean is deprecated. In a future version, numeric_only will default to False. Either specify numeric_only or select only columns which should be valid for the function.\n",
      "  \"category_means\": dataset.groupby(dataset[column]).mean()[target_name]\n"
     ]
    },
    {
     "name": "stdout",
     "output_type": "stream",
     "text": [
      "Fold number: 4, loss: 265.1150154433543\n"
     ]
    },
    {
     "name": "stderr",
     "output_type": "stream",
     "text": [
      "C:\\Users\\Aleksey Ryabykin\\AppData\\Local\\Temp\\ipykernel_284956\\2963386934.py:8: FutureWarning: The default value of numeric_only in DataFrameGroupBy.mean is deprecated. In a future version, numeric_only will default to False. Either specify numeric_only or select only columns which should be valid for the function.\n",
      "  \"category_means\": dataset.groupby(dataset[column]).mean()[target_name]\n",
      "C:\\Users\\Aleksey Ryabykin\\AppData\\Local\\Temp\\ipykernel_284956\\2963386934.py:8: FutureWarning: The default value of numeric_only in DataFrameGroupBy.mean is deprecated. In a future version, numeric_only will default to False. Either specify numeric_only or select only columns which should be valid for the function.\n",
      "  \"category_means\": dataset.groupby(dataset[column]).mean()[target_name]\n",
      "\u001b[32m[I 2022-12-21 00:54:00,869]\u001b[0m Trial 86 finished with value: 290.5215902539873 and parameters: {'x_0': 0.04322442481879235, 'x_1': 0.08821411626693897}. Best is trial 19 with value: 282.2052161524865.\u001b[0m\n"
     ]
    },
    {
     "name": "stdout",
     "output_type": "stream",
     "text": [
      "Fold number: 5, loss: 270.60777392182274\n",
      "Current weights: [0.0340072  0.18717294 0.77881986]\n"
     ]
    },
    {
     "name": "stderr",
     "output_type": "stream",
     "text": [
      "C:\\Users\\Aleksey Ryabykin\\AppData\\Local\\Temp\\ipykernel_284956\\2963386934.py:8: FutureWarning: The default value of numeric_only in DataFrameGroupBy.mean is deprecated. In a future version, numeric_only will default to False. Either specify numeric_only or select only columns which should be valid for the function.\n",
      "  \"category_means\": dataset.groupby(dataset[column]).mean()[target_name]\n",
      "C:\\Users\\Aleksey Ryabykin\\AppData\\Local\\Temp\\ipykernel_284956\\2963386934.py:8: FutureWarning: The default value of numeric_only in DataFrameGroupBy.mean is deprecated. In a future version, numeric_only will default to False. Either specify numeric_only or select only columns which should be valid for the function.\n",
      "  \"category_means\": dataset.groupby(dataset[column]).mean()[target_name]\n"
     ]
    },
    {
     "name": "stdout",
     "output_type": "stream",
     "text": [
      "Fold number: 1, loss: 273.1362822250255\n"
     ]
    },
    {
     "name": "stderr",
     "output_type": "stream",
     "text": [
      "C:\\Users\\Aleksey Ryabykin\\AppData\\Local\\Temp\\ipykernel_284956\\2963386934.py:8: FutureWarning: The default value of numeric_only in DataFrameGroupBy.mean is deprecated. In a future version, numeric_only will default to False. Either specify numeric_only or select only columns which should be valid for the function.\n",
      "  \"category_means\": dataset.groupby(dataset[column]).mean()[target_name]\n",
      "C:\\Users\\Aleksey Ryabykin\\AppData\\Local\\Temp\\ipykernel_284956\\2963386934.py:8: FutureWarning: The default value of numeric_only in DataFrameGroupBy.mean is deprecated. In a future version, numeric_only will default to False. Either specify numeric_only or select only columns which should be valid for the function.\n",
      "  \"category_means\": dataset.groupby(dataset[column]).mean()[target_name]\n"
     ]
    },
    {
     "name": "stdout",
     "output_type": "stream",
     "text": [
      "Fold number: 2, loss: 361.6164196479945\n"
     ]
    },
    {
     "name": "stderr",
     "output_type": "stream",
     "text": [
      "C:\\Users\\Aleksey Ryabykin\\AppData\\Local\\Temp\\ipykernel_284956\\2963386934.py:8: FutureWarning: The default value of numeric_only in DataFrameGroupBy.mean is deprecated. In a future version, numeric_only will default to False. Either specify numeric_only or select only columns which should be valid for the function.\n",
      "  \"category_means\": dataset.groupby(dataset[column]).mean()[target_name]\n",
      "C:\\Users\\Aleksey Ryabykin\\AppData\\Local\\Temp\\ipykernel_284956\\2963386934.py:8: FutureWarning: The default value of numeric_only in DataFrameGroupBy.mean is deprecated. In a future version, numeric_only will default to False. Either specify numeric_only or select only columns which should be valid for the function.\n",
      "  \"category_means\": dataset.groupby(dataset[column]).mean()[target_name]\n"
     ]
    },
    {
     "name": "stdout",
     "output_type": "stream",
     "text": [
      "Fold number: 3, loss: 260.1173981578601\n"
     ]
    },
    {
     "name": "stderr",
     "output_type": "stream",
     "text": [
      "C:\\Users\\Aleksey Ryabykin\\AppData\\Local\\Temp\\ipykernel_284956\\2963386934.py:8: FutureWarning: The default value of numeric_only in DataFrameGroupBy.mean is deprecated. In a future version, numeric_only will default to False. Either specify numeric_only or select only columns which should be valid for the function.\n",
      "  \"category_means\": dataset.groupby(dataset[column]).mean()[target_name]\n",
      "C:\\Users\\Aleksey Ryabykin\\AppData\\Local\\Temp\\ipykernel_284956\\2963386934.py:8: FutureWarning: The default value of numeric_only in DataFrameGroupBy.mean is deprecated. In a future version, numeric_only will default to False. Either specify numeric_only or select only columns which should be valid for the function.\n",
      "  \"category_means\": dataset.groupby(dataset[column]).mean()[target_name]\n"
     ]
    },
    {
     "name": "stdout",
     "output_type": "stream",
     "text": [
      "Fold number: 4, loss: 316.4600983511995\n"
     ]
    },
    {
     "name": "stderr",
     "output_type": "stream",
     "text": [
      "C:\\Users\\Aleksey Ryabykin\\AppData\\Local\\Temp\\ipykernel_284956\\2963386934.py:8: FutureWarning: The default value of numeric_only in DataFrameGroupBy.mean is deprecated. In a future version, numeric_only will default to False. Either specify numeric_only or select only columns which should be valid for the function.\n",
      "  \"category_means\": dataset.groupby(dataset[column]).mean()[target_name]\n",
      "C:\\Users\\Aleksey Ryabykin\\AppData\\Local\\Temp\\ipykernel_284956\\2963386934.py:8: FutureWarning: The default value of numeric_only in DataFrameGroupBy.mean is deprecated. In a future version, numeric_only will default to False. Either specify numeric_only or select only columns which should be valid for the function.\n",
      "  \"category_means\": dataset.groupby(dataset[column]).mean()[target_name]\n",
      "\u001b[32m[I 2022-12-21 00:54:21,438]\u001b[0m Trial 87 finished with value: 295.3535605299899 and parameters: {'x_0': 0.034007203094677425, 'x_1': 0.187172940046152}. Best is trial 19 with value: 282.2052161524865.\u001b[0m\n"
     ]
    },
    {
     "name": "stdout",
     "output_type": "stream",
     "text": [
      "Fold number: 5, loss: 265.43760426786986\n",
      "Current weights: [0.40435191 0.01521561 0.58043248]\n"
     ]
    },
    {
     "name": "stderr",
     "output_type": "stream",
     "text": [
      "C:\\Users\\Aleksey Ryabykin\\AppData\\Local\\Temp\\ipykernel_284956\\2963386934.py:8: FutureWarning: The default value of numeric_only in DataFrameGroupBy.mean is deprecated. In a future version, numeric_only will default to False. Either specify numeric_only or select only columns which should be valid for the function.\n",
      "  \"category_means\": dataset.groupby(dataset[column]).mean()[target_name]\n",
      "C:\\Users\\Aleksey Ryabykin\\AppData\\Local\\Temp\\ipykernel_284956\\2963386934.py:8: FutureWarning: The default value of numeric_only in DataFrameGroupBy.mean is deprecated. In a future version, numeric_only will default to False. Either specify numeric_only or select only columns which should be valid for the function.\n",
      "  \"category_means\": dataset.groupby(dataset[column]).mean()[target_name]\n"
     ]
    },
    {
     "name": "stdout",
     "output_type": "stream",
     "text": [
      "Fold number: 1, loss: 297.07177528141256\n"
     ]
    },
    {
     "name": "stderr",
     "output_type": "stream",
     "text": [
      "C:\\Users\\Aleksey Ryabykin\\AppData\\Local\\Temp\\ipykernel_284956\\2963386934.py:8: FutureWarning: The default value of numeric_only in DataFrameGroupBy.mean is deprecated. In a future version, numeric_only will default to False. Either specify numeric_only or select only columns which should be valid for the function.\n",
      "  \"category_means\": dataset.groupby(dataset[column]).mean()[target_name]\n",
      "C:\\Users\\Aleksey Ryabykin\\AppData\\Local\\Temp\\ipykernel_284956\\2963386934.py:8: FutureWarning: The default value of numeric_only in DataFrameGroupBy.mean is deprecated. In a future version, numeric_only will default to False. Either specify numeric_only or select only columns which should be valid for the function.\n",
      "  \"category_means\": dataset.groupby(dataset[column]).mean()[target_name]\n"
     ]
    },
    {
     "name": "stdout",
     "output_type": "stream",
     "text": [
      "Fold number: 2, loss: 322.5442644039339\n"
     ]
    },
    {
     "name": "stderr",
     "output_type": "stream",
     "text": [
      "C:\\Users\\Aleksey Ryabykin\\AppData\\Local\\Temp\\ipykernel_284956\\2963386934.py:8: FutureWarning: The default value of numeric_only in DataFrameGroupBy.mean is deprecated. In a future version, numeric_only will default to False. Either specify numeric_only or select only columns which should be valid for the function.\n",
      "  \"category_means\": dataset.groupby(dataset[column]).mean()[target_name]\n",
      "C:\\Users\\Aleksey Ryabykin\\AppData\\Local\\Temp\\ipykernel_284956\\2963386934.py:8: FutureWarning: The default value of numeric_only in DataFrameGroupBy.mean is deprecated. In a future version, numeric_only will default to False. Either specify numeric_only or select only columns which should be valid for the function.\n",
      "  \"category_means\": dataset.groupby(dataset[column]).mean()[target_name]\n"
     ]
    },
    {
     "name": "stdout",
     "output_type": "stream",
     "text": [
      "Fold number: 3, loss: 275.5047158402866\n"
     ]
    },
    {
     "name": "stderr",
     "output_type": "stream",
     "text": [
      "C:\\Users\\Aleksey Ryabykin\\AppData\\Local\\Temp\\ipykernel_284956\\2963386934.py:8: FutureWarning: The default value of numeric_only in DataFrameGroupBy.mean is deprecated. In a future version, numeric_only will default to False. Either specify numeric_only or select only columns which should be valid for the function.\n",
      "  \"category_means\": dataset.groupby(dataset[column]).mean()[target_name]\n",
      "C:\\Users\\Aleksey Ryabykin\\AppData\\Local\\Temp\\ipykernel_284956\\2963386934.py:8: FutureWarning: The default value of numeric_only in DataFrameGroupBy.mean is deprecated. In a future version, numeric_only will default to False. Either specify numeric_only or select only columns which should be valid for the function.\n",
      "  \"category_means\": dataset.groupby(dataset[column]).mean()[target_name]\n"
     ]
    },
    {
     "name": "stdout",
     "output_type": "stream",
     "text": [
      "Fold number: 4, loss: 283.92758169543004\n"
     ]
    },
    {
     "name": "stderr",
     "output_type": "stream",
     "text": [
      "C:\\Users\\Aleksey Ryabykin\\AppData\\Local\\Temp\\ipykernel_284956\\2963386934.py:8: FutureWarning: The default value of numeric_only in DataFrameGroupBy.mean is deprecated. In a future version, numeric_only will default to False. Either specify numeric_only or select only columns which should be valid for the function.\n",
      "  \"category_means\": dataset.groupby(dataset[column]).mean()[target_name]\n",
      "C:\\Users\\Aleksey Ryabykin\\AppData\\Local\\Temp\\ipykernel_284956\\2963386934.py:8: FutureWarning: The default value of numeric_only in DataFrameGroupBy.mean is deprecated. In a future version, numeric_only will default to False. Either specify numeric_only or select only columns which should be valid for the function.\n",
      "  \"category_means\": dataset.groupby(dataset[column]).mean()[target_name]\n",
      "\u001b[32m[I 2022-12-21 00:54:40,646]\u001b[0m Trial 88 finished with value: 303.8131189984337 and parameters: {'x_0': 0.40435190753805694, 'x_1': 0.015215608253798103}. Best is trial 19 with value: 282.2052161524865.\u001b[0m\n"
     ]
    },
    {
     "name": "stdout",
     "output_type": "stream",
     "text": [
      "Fold number: 5, loss: 340.01725777110556\n",
      "Current weights: [0.26776705 0.30496939 0.42726356]\n"
     ]
    },
    {
     "name": "stderr",
     "output_type": "stream",
     "text": [
      "C:\\Users\\Aleksey Ryabykin\\AppData\\Local\\Temp\\ipykernel_284956\\2963386934.py:8: FutureWarning: The default value of numeric_only in DataFrameGroupBy.mean is deprecated. In a future version, numeric_only will default to False. Either specify numeric_only or select only columns which should be valid for the function.\n",
      "  \"category_means\": dataset.groupby(dataset[column]).mean()[target_name]\n",
      "C:\\Users\\Aleksey Ryabykin\\AppData\\Local\\Temp\\ipykernel_284956\\2963386934.py:8: FutureWarning: The default value of numeric_only in DataFrameGroupBy.mean is deprecated. In a future version, numeric_only will default to False. Either specify numeric_only or select only columns which should be valid for the function.\n",
      "  \"category_means\": dataset.groupby(dataset[column]).mean()[target_name]\n"
     ]
    },
    {
     "name": "stdout",
     "output_type": "stream",
     "text": [
      "Fold number: 1, loss: 290.81445011041313\n"
     ]
    },
    {
     "name": "stderr",
     "output_type": "stream",
     "text": [
      "C:\\Users\\Aleksey Ryabykin\\AppData\\Local\\Temp\\ipykernel_284956\\2963386934.py:8: FutureWarning: The default value of numeric_only in DataFrameGroupBy.mean is deprecated. In a future version, numeric_only will default to False. Either specify numeric_only or select only columns which should be valid for the function.\n",
      "  \"category_means\": dataset.groupby(dataset[column]).mean()[target_name]\n",
      "C:\\Users\\Aleksey Ryabykin\\AppData\\Local\\Temp\\ipykernel_284956\\2963386934.py:8: FutureWarning: The default value of numeric_only in DataFrameGroupBy.mean is deprecated. In a future version, numeric_only will default to False. Either specify numeric_only or select only columns which should be valid for the function.\n",
      "  \"category_means\": dataset.groupby(dataset[column]).mean()[target_name]\n"
     ]
    },
    {
     "name": "stdout",
     "output_type": "stream",
     "text": [
      "Fold number: 2, loss: 315.6797538120918\n"
     ]
    },
    {
     "name": "stderr",
     "output_type": "stream",
     "text": [
      "C:\\Users\\Aleksey Ryabykin\\AppData\\Local\\Temp\\ipykernel_284956\\2963386934.py:8: FutureWarning: The default value of numeric_only in DataFrameGroupBy.mean is deprecated. In a future version, numeric_only will default to False. Either specify numeric_only or select only columns which should be valid for the function.\n",
      "  \"category_means\": dataset.groupby(dataset[column]).mean()[target_name]\n",
      "C:\\Users\\Aleksey Ryabykin\\AppData\\Local\\Temp\\ipykernel_284956\\2963386934.py:8: FutureWarning: The default value of numeric_only in DataFrameGroupBy.mean is deprecated. In a future version, numeric_only will default to False. Either specify numeric_only or select only columns which should be valid for the function.\n",
      "  \"category_means\": dataset.groupby(dataset[column]).mean()[target_name]\n"
     ]
    },
    {
     "name": "stdout",
     "output_type": "stream",
     "text": [
      "Fold number: 3, loss: 279.840600173808\n"
     ]
    },
    {
     "name": "stderr",
     "output_type": "stream",
     "text": [
      "C:\\Users\\Aleksey Ryabykin\\AppData\\Local\\Temp\\ipykernel_284956\\2963386934.py:8: FutureWarning: The default value of numeric_only in DataFrameGroupBy.mean is deprecated. In a future version, numeric_only will default to False. Either specify numeric_only or select only columns which should be valid for the function.\n",
      "  \"category_means\": dataset.groupby(dataset[column]).mean()[target_name]\n",
      "C:\\Users\\Aleksey Ryabykin\\AppData\\Local\\Temp\\ipykernel_284956\\2963386934.py:8: FutureWarning: The default value of numeric_only in DataFrameGroupBy.mean is deprecated. In a future version, numeric_only will default to False. Either specify numeric_only or select only columns which should be valid for the function.\n",
      "  \"category_means\": dataset.groupby(dataset[column]).mean()[target_name]\n"
     ]
    },
    {
     "name": "stdout",
     "output_type": "stream",
     "text": [
      "Fold number: 4, loss: 360.93294382820267\n"
     ]
    },
    {
     "name": "stderr",
     "output_type": "stream",
     "text": [
      "C:\\Users\\Aleksey Ryabykin\\AppData\\Local\\Temp\\ipykernel_284956\\2963386934.py:8: FutureWarning: The default value of numeric_only in DataFrameGroupBy.mean is deprecated. In a future version, numeric_only will default to False. Either specify numeric_only or select only columns which should be valid for the function.\n",
      "  \"category_means\": dataset.groupby(dataset[column]).mean()[target_name]\n",
      "C:\\Users\\Aleksey Ryabykin\\AppData\\Local\\Temp\\ipykernel_284956\\2963386934.py:8: FutureWarning: The default value of numeric_only in DataFrameGroupBy.mean is deprecated. In a future version, numeric_only will default to False. Either specify numeric_only or select only columns which should be valid for the function.\n",
      "  \"category_means\": dataset.groupby(dataset[column]).mean()[target_name]\n",
      "\u001b[32m[I 2022-12-21 00:55:00,125]\u001b[0m Trial 89 finished with value: 317.79566860339844 and parameters: {'x_0': 0.2677670485919095, 'x_1': 0.30496938668569}. Best is trial 19 with value: 282.2052161524865.\u001b[0m\n"
     ]
    },
    {
     "name": "stdout",
     "output_type": "stream",
     "text": [
      "Fold number: 5, loss: 341.71059509247635\n",
      "Current weights: [0.05937435 0.08005701 0.86056864]\n"
     ]
    },
    {
     "name": "stderr",
     "output_type": "stream",
     "text": [
      "C:\\Users\\Aleksey Ryabykin\\AppData\\Local\\Temp\\ipykernel_284956\\2963386934.py:8: FutureWarning: The default value of numeric_only in DataFrameGroupBy.mean is deprecated. In a future version, numeric_only will default to False. Either specify numeric_only or select only columns which should be valid for the function.\n",
      "  \"category_means\": dataset.groupby(dataset[column]).mean()[target_name]\n",
      "C:\\Users\\Aleksey Ryabykin\\AppData\\Local\\Temp\\ipykernel_284956\\2963386934.py:8: FutureWarning: The default value of numeric_only in DataFrameGroupBy.mean is deprecated. In a future version, numeric_only will default to False. Either specify numeric_only or select only columns which should be valid for the function.\n",
      "  \"category_means\": dataset.groupby(dataset[column]).mean()[target_name]\n"
     ]
    },
    {
     "name": "stdout",
     "output_type": "stream",
     "text": [
      "Fold number: 1, loss: 289.74507434944206\n"
     ]
    },
    {
     "name": "stderr",
     "output_type": "stream",
     "text": [
      "C:\\Users\\Aleksey Ryabykin\\AppData\\Local\\Temp\\ipykernel_284956\\2963386934.py:8: FutureWarning: The default value of numeric_only in DataFrameGroupBy.mean is deprecated. In a future version, numeric_only will default to False. Either specify numeric_only or select only columns which should be valid for the function.\n",
      "  \"category_means\": dataset.groupby(dataset[column]).mean()[target_name]\n",
      "C:\\Users\\Aleksey Ryabykin\\AppData\\Local\\Temp\\ipykernel_284956\\2963386934.py:8: FutureWarning: The default value of numeric_only in DataFrameGroupBy.mean is deprecated. In a future version, numeric_only will default to False. Either specify numeric_only or select only columns which should be valid for the function.\n",
      "  \"category_means\": dataset.groupby(dataset[column]).mean()[target_name]\n"
     ]
    },
    {
     "name": "stdout",
     "output_type": "stream",
     "text": [
      "Fold number: 2, loss: 294.62261349793766\n"
     ]
    },
    {
     "name": "stderr",
     "output_type": "stream",
     "text": [
      "C:\\Users\\Aleksey Ryabykin\\AppData\\Local\\Temp\\ipykernel_284956\\2963386934.py:8: FutureWarning: The default value of numeric_only in DataFrameGroupBy.mean is deprecated. In a future version, numeric_only will default to False. Either specify numeric_only or select only columns which should be valid for the function.\n",
      "  \"category_means\": dataset.groupby(dataset[column]).mean()[target_name]\n",
      "C:\\Users\\Aleksey Ryabykin\\AppData\\Local\\Temp\\ipykernel_284956\\2963386934.py:8: FutureWarning: The default value of numeric_only in DataFrameGroupBy.mean is deprecated. In a future version, numeric_only will default to False. Either specify numeric_only or select only columns which should be valid for the function.\n",
      "  \"category_means\": dataset.groupby(dataset[column]).mean()[target_name]\n"
     ]
    },
    {
     "name": "stdout",
     "output_type": "stream",
     "text": [
      "Fold number: 3, loss: 261.9280722472643\n"
     ]
    },
    {
     "name": "stderr",
     "output_type": "stream",
     "text": [
      "C:\\Users\\Aleksey Ryabykin\\AppData\\Local\\Temp\\ipykernel_284956\\2963386934.py:8: FutureWarning: The default value of numeric_only in DataFrameGroupBy.mean is deprecated. In a future version, numeric_only will default to False. Either specify numeric_only or select only columns which should be valid for the function.\n",
      "  \"category_means\": dataset.groupby(dataset[column]).mean()[target_name]\n",
      "C:\\Users\\Aleksey Ryabykin\\AppData\\Local\\Temp\\ipykernel_284956\\2963386934.py:8: FutureWarning: The default value of numeric_only in DataFrameGroupBy.mean is deprecated. In a future version, numeric_only will default to False. Either specify numeric_only or select only columns which should be valid for the function.\n",
      "  \"category_means\": dataset.groupby(dataset[column]).mean()[target_name]\n"
     ]
    },
    {
     "name": "stdout",
     "output_type": "stream",
     "text": [
      "Fold number: 4, loss: 294.22544220745215\n"
     ]
    },
    {
     "name": "stderr",
     "output_type": "stream",
     "text": [
      "C:\\Users\\Aleksey Ryabykin\\AppData\\Local\\Temp\\ipykernel_284956\\2963386934.py:8: FutureWarning: The default value of numeric_only in DataFrameGroupBy.mean is deprecated. In a future version, numeric_only will default to False. Either specify numeric_only or select only columns which should be valid for the function.\n",
      "  \"category_means\": dataset.groupby(dataset[column]).mean()[target_name]\n",
      "C:\\Users\\Aleksey Ryabykin\\AppData\\Local\\Temp\\ipykernel_284956\\2963386934.py:8: FutureWarning: The default value of numeric_only in DataFrameGroupBy.mean is deprecated. In a future version, numeric_only will default to False. Either specify numeric_only or select only columns which should be valid for the function.\n",
      "  \"category_means\": dataset.groupby(dataset[column]).mean()[target_name]\n",
      "\u001b[32m[I 2022-12-21 00:55:20,172]\u001b[0m Trial 90 finished with value: 295.13483707176886 and parameters: {'x_0': 0.05937434904786207, 'x_1': 0.08005700640447053}. Best is trial 19 with value: 282.2052161524865.\u001b[0m\n"
     ]
    },
    {
     "name": "stdout",
     "output_type": "stream",
     "text": [
      "Fold number: 5, loss: 335.1529830567479\n",
      "Current weights: [0.11337331 0.12229967 0.76432702]\n"
     ]
    },
    {
     "name": "stderr",
     "output_type": "stream",
     "text": [
      "C:\\Users\\Aleksey Ryabykin\\AppData\\Local\\Temp\\ipykernel_284956\\2963386934.py:8: FutureWarning: The default value of numeric_only in DataFrameGroupBy.mean is deprecated. In a future version, numeric_only will default to False. Either specify numeric_only or select only columns which should be valid for the function.\n",
      "  \"category_means\": dataset.groupby(dataset[column]).mean()[target_name]\n",
      "C:\\Users\\Aleksey Ryabykin\\AppData\\Local\\Temp\\ipykernel_284956\\2963386934.py:8: FutureWarning: The default value of numeric_only in DataFrameGroupBy.mean is deprecated. In a future version, numeric_only will default to False. Either specify numeric_only or select only columns which should be valid for the function.\n",
      "  \"category_means\": dataset.groupby(dataset[column]).mean()[target_name]\n"
     ]
    },
    {
     "name": "stdout",
     "output_type": "stream",
     "text": [
      "Fold number: 1, loss: 275.65582650053545\n"
     ]
    },
    {
     "name": "stderr",
     "output_type": "stream",
     "text": [
      "C:\\Users\\Aleksey Ryabykin\\AppData\\Local\\Temp\\ipykernel_284956\\2963386934.py:8: FutureWarning: The default value of numeric_only in DataFrameGroupBy.mean is deprecated. In a future version, numeric_only will default to False. Either specify numeric_only or select only columns which should be valid for the function.\n",
      "  \"category_means\": dataset.groupby(dataset[column]).mean()[target_name]\n",
      "C:\\Users\\Aleksey Ryabykin\\AppData\\Local\\Temp\\ipykernel_284956\\2963386934.py:8: FutureWarning: The default value of numeric_only in DataFrameGroupBy.mean is deprecated. In a future version, numeric_only will default to False. Either specify numeric_only or select only columns which should be valid for the function.\n",
      "  \"category_means\": dataset.groupby(dataset[column]).mean()[target_name]\n"
     ]
    },
    {
     "name": "stdout",
     "output_type": "stream",
     "text": [
      "Fold number: 2, loss: 296.19680938427524\n"
     ]
    },
    {
     "name": "stderr",
     "output_type": "stream",
     "text": [
      "C:\\Users\\Aleksey Ryabykin\\AppData\\Local\\Temp\\ipykernel_284956\\2963386934.py:8: FutureWarning: The default value of numeric_only in DataFrameGroupBy.mean is deprecated. In a future version, numeric_only will default to False. Either specify numeric_only or select only columns which should be valid for the function.\n",
      "  \"category_means\": dataset.groupby(dataset[column]).mean()[target_name]\n",
      "C:\\Users\\Aleksey Ryabykin\\AppData\\Local\\Temp\\ipykernel_284956\\2963386934.py:8: FutureWarning: The default value of numeric_only in DataFrameGroupBy.mean is deprecated. In a future version, numeric_only will default to False. Either specify numeric_only or select only columns which should be valid for the function.\n",
      "  \"category_means\": dataset.groupby(dataset[column]).mean()[target_name]\n"
     ]
    },
    {
     "name": "stdout",
     "output_type": "stream",
     "text": [
      "Fold number: 3, loss: 264.5521289365265\n"
     ]
    },
    {
     "name": "stderr",
     "output_type": "stream",
     "text": [
      "C:\\Users\\Aleksey Ryabykin\\AppData\\Local\\Temp\\ipykernel_284956\\2963386934.py:8: FutureWarning: The default value of numeric_only in DataFrameGroupBy.mean is deprecated. In a future version, numeric_only will default to False. Either specify numeric_only or select only columns which should be valid for the function.\n",
      "  \"category_means\": dataset.groupby(dataset[column]).mean()[target_name]\n",
      "C:\\Users\\Aleksey Ryabykin\\AppData\\Local\\Temp\\ipykernel_284956\\2963386934.py:8: FutureWarning: The default value of numeric_only in DataFrameGroupBy.mean is deprecated. In a future version, numeric_only will default to False. Either specify numeric_only or select only columns which should be valid for the function.\n",
      "  \"category_means\": dataset.groupby(dataset[column]).mean()[target_name]\n"
     ]
    },
    {
     "name": "stdout",
     "output_type": "stream",
     "text": [
      "Fold number: 4, loss: 285.33355533040265\n"
     ]
    },
    {
     "name": "stderr",
     "output_type": "stream",
     "text": [
      "C:\\Users\\Aleksey Ryabykin\\AppData\\Local\\Temp\\ipykernel_284956\\2963386934.py:8: FutureWarning: The default value of numeric_only in DataFrameGroupBy.mean is deprecated. In a future version, numeric_only will default to False. Either specify numeric_only or select only columns which should be valid for the function.\n",
      "  \"category_means\": dataset.groupby(dataset[column]).mean()[target_name]\n",
      "C:\\Users\\Aleksey Ryabykin\\AppData\\Local\\Temp\\ipykernel_284956\\2963386934.py:8: FutureWarning: The default value of numeric_only in DataFrameGroupBy.mean is deprecated. In a future version, numeric_only will default to False. Either specify numeric_only or select only columns which should be valid for the function.\n",
      "  \"category_means\": dataset.groupby(dataset[column]).mean()[target_name]\n",
      "\u001b[32m[I 2022-12-21 00:55:39,245]\u001b[0m Trial 91 finished with value: 299.4392201668433 and parameters: {'x_0': 0.11337330827532602, 'x_1': 0.12229966815651885}. Best is trial 19 with value: 282.2052161524865.\u001b[0m\n"
     ]
    },
    {
     "name": "stdout",
     "output_type": "stream",
     "text": [
      "Fold number: 5, loss: 375.45778068247654\n",
      "Current weights: [0.14769793 0.038986   0.81331607]\n"
     ]
    },
    {
     "name": "stderr",
     "output_type": "stream",
     "text": [
      "C:\\Users\\Aleksey Ryabykin\\AppData\\Local\\Temp\\ipykernel_284956\\2963386934.py:8: FutureWarning: The default value of numeric_only in DataFrameGroupBy.mean is deprecated. In a future version, numeric_only will default to False. Either specify numeric_only or select only columns which should be valid for the function.\n",
      "  \"category_means\": dataset.groupby(dataset[column]).mean()[target_name]\n",
      "C:\\Users\\Aleksey Ryabykin\\AppData\\Local\\Temp\\ipykernel_284956\\2963386934.py:8: FutureWarning: The default value of numeric_only in DataFrameGroupBy.mean is deprecated. In a future version, numeric_only will default to False. Either specify numeric_only or select only columns which should be valid for the function.\n",
      "  \"category_means\": dataset.groupby(dataset[column]).mean()[target_name]\n"
     ]
    },
    {
     "name": "stdout",
     "output_type": "stream",
     "text": [
      "Fold number: 1, loss: 264.12243820305156\n"
     ]
    },
    {
     "name": "stderr",
     "output_type": "stream",
     "text": [
      "C:\\Users\\Aleksey Ryabykin\\AppData\\Local\\Temp\\ipykernel_284956\\2963386934.py:8: FutureWarning: The default value of numeric_only in DataFrameGroupBy.mean is deprecated. In a future version, numeric_only will default to False. Either specify numeric_only or select only columns which should be valid for the function.\n",
      "  \"category_means\": dataset.groupby(dataset[column]).mean()[target_name]\n",
      "C:\\Users\\Aleksey Ryabykin\\AppData\\Local\\Temp\\ipykernel_284956\\2963386934.py:8: FutureWarning: The default value of numeric_only in DataFrameGroupBy.mean is deprecated. In a future version, numeric_only will default to False. Either specify numeric_only or select only columns which should be valid for the function.\n",
      "  \"category_means\": dataset.groupby(dataset[column]).mean()[target_name]\n"
     ]
    },
    {
     "name": "stdout",
     "output_type": "stream",
     "text": [
      "Fold number: 2, loss: 284.59655874400613\n"
     ]
    },
    {
     "name": "stderr",
     "output_type": "stream",
     "text": [
      "C:\\Users\\Aleksey Ryabykin\\AppData\\Local\\Temp\\ipykernel_284956\\2963386934.py:8: FutureWarning: The default value of numeric_only in DataFrameGroupBy.mean is deprecated. In a future version, numeric_only will default to False. Either specify numeric_only or select only columns which should be valid for the function.\n",
      "  \"category_means\": dataset.groupby(dataset[column]).mean()[target_name]\n",
      "C:\\Users\\Aleksey Ryabykin\\AppData\\Local\\Temp\\ipykernel_284956\\2963386934.py:8: FutureWarning: The default value of numeric_only in DataFrameGroupBy.mean is deprecated. In a future version, numeric_only will default to False. Either specify numeric_only or select only columns which should be valid for the function.\n",
      "  \"category_means\": dataset.groupby(dataset[column]).mean()[target_name]\n"
     ]
    },
    {
     "name": "stdout",
     "output_type": "stream",
     "text": [
      "Fold number: 3, loss: 344.7813410695723\n"
     ]
    },
    {
     "name": "stderr",
     "output_type": "stream",
     "text": [
      "C:\\Users\\Aleksey Ryabykin\\AppData\\Local\\Temp\\ipykernel_284956\\2963386934.py:8: FutureWarning: The default value of numeric_only in DataFrameGroupBy.mean is deprecated. In a future version, numeric_only will default to False. Either specify numeric_only or select only columns which should be valid for the function.\n",
      "  \"category_means\": dataset.groupby(dataset[column]).mean()[target_name]\n",
      "C:\\Users\\Aleksey Ryabykin\\AppData\\Local\\Temp\\ipykernel_284956\\2963386934.py:8: FutureWarning: The default value of numeric_only in DataFrameGroupBy.mean is deprecated. In a future version, numeric_only will default to False. Either specify numeric_only or select only columns which should be valid for the function.\n",
      "  \"category_means\": dataset.groupby(dataset[column]).mean()[target_name]\n"
     ]
    },
    {
     "name": "stdout",
     "output_type": "stream",
     "text": [
      "Fold number: 4, loss: 267.52733225496223\n"
     ]
    },
    {
     "name": "stderr",
     "output_type": "stream",
     "text": [
      "C:\\Users\\Aleksey Ryabykin\\AppData\\Local\\Temp\\ipykernel_284956\\2963386934.py:8: FutureWarning: The default value of numeric_only in DataFrameGroupBy.mean is deprecated. In a future version, numeric_only will default to False. Either specify numeric_only or select only columns which should be valid for the function.\n",
      "  \"category_means\": dataset.groupby(dataset[column]).mean()[target_name]\n",
      "C:\\Users\\Aleksey Ryabykin\\AppData\\Local\\Temp\\ipykernel_284956\\2963386934.py:8: FutureWarning: The default value of numeric_only in DataFrameGroupBy.mean is deprecated. In a future version, numeric_only will default to False. Either specify numeric_only or select only columns which should be valid for the function.\n",
      "  \"category_means\": dataset.groupby(dataset[column]).mean()[target_name]\n",
      "\u001b[32m[I 2022-12-21 00:55:59,031]\u001b[0m Trial 92 finished with value: 289.3867403838393 and parameters: {'x_0': 0.14769792796122513, 'x_1': 0.03898599893108991}. Best is trial 19 with value: 282.2052161524865.\u001b[0m\n"
     ]
    },
    {
     "name": "stdout",
     "output_type": "stream",
     "text": [
      "Fold number: 5, loss: 285.9060316476046\n",
      "Current weights: [0.1534084  0.0420208  0.80457081]\n"
     ]
    },
    {
     "name": "stderr",
     "output_type": "stream",
     "text": [
      "C:\\Users\\Aleksey Ryabykin\\AppData\\Local\\Temp\\ipykernel_284956\\2963386934.py:8: FutureWarning: The default value of numeric_only in DataFrameGroupBy.mean is deprecated. In a future version, numeric_only will default to False. Either specify numeric_only or select only columns which should be valid for the function.\n",
      "  \"category_means\": dataset.groupby(dataset[column]).mean()[target_name]\n",
      "C:\\Users\\Aleksey Ryabykin\\AppData\\Local\\Temp\\ipykernel_284956\\2963386934.py:8: FutureWarning: The default value of numeric_only in DataFrameGroupBy.mean is deprecated. In a future version, numeric_only will default to False. Either specify numeric_only or select only columns which should be valid for the function.\n",
      "  \"category_means\": dataset.groupby(dataset[column]).mean()[target_name]\n"
     ]
    },
    {
     "name": "stdout",
     "output_type": "stream",
     "text": [
      "Fold number: 1, loss: 269.27377358716467\n"
     ]
    },
    {
     "name": "stderr",
     "output_type": "stream",
     "text": [
      "C:\\Users\\Aleksey Ryabykin\\AppData\\Local\\Temp\\ipykernel_284956\\2963386934.py:8: FutureWarning: The default value of numeric_only in DataFrameGroupBy.mean is deprecated. In a future version, numeric_only will default to False. Either specify numeric_only or select only columns which should be valid for the function.\n",
      "  \"category_means\": dataset.groupby(dataset[column]).mean()[target_name]\n",
      "C:\\Users\\Aleksey Ryabykin\\AppData\\Local\\Temp\\ipykernel_284956\\2963386934.py:8: FutureWarning: The default value of numeric_only in DataFrameGroupBy.mean is deprecated. In a future version, numeric_only will default to False. Either specify numeric_only or select only columns which should be valid for the function.\n",
      "  \"category_means\": dataset.groupby(dataset[column]).mean()[target_name]\n"
     ]
    },
    {
     "name": "stdout",
     "output_type": "stream",
     "text": [
      "Fold number: 2, loss: 317.5468864892222\n"
     ]
    },
    {
     "name": "stderr",
     "output_type": "stream",
     "text": [
      "C:\\Users\\Aleksey Ryabykin\\AppData\\Local\\Temp\\ipykernel_284956\\2963386934.py:8: FutureWarning: The default value of numeric_only in DataFrameGroupBy.mean is deprecated. In a future version, numeric_only will default to False. Either specify numeric_only or select only columns which should be valid for the function.\n",
      "  \"category_means\": dataset.groupby(dataset[column]).mean()[target_name]\n",
      "C:\\Users\\Aleksey Ryabykin\\AppData\\Local\\Temp\\ipykernel_284956\\2963386934.py:8: FutureWarning: The default value of numeric_only in DataFrameGroupBy.mean is deprecated. In a future version, numeric_only will default to False. Either specify numeric_only or select only columns which should be valid for the function.\n",
      "  \"category_means\": dataset.groupby(dataset[column]).mean()[target_name]\n"
     ]
    },
    {
     "name": "stdout",
     "output_type": "stream",
     "text": [
      "Fold number: 3, loss: 254.18433155734493\n"
     ]
    },
    {
     "name": "stderr",
     "output_type": "stream",
     "text": [
      "C:\\Users\\Aleksey Ryabykin\\AppData\\Local\\Temp\\ipykernel_284956\\2963386934.py:8: FutureWarning: The default value of numeric_only in DataFrameGroupBy.mean is deprecated. In a future version, numeric_only will default to False. Either specify numeric_only or select only columns which should be valid for the function.\n",
      "  \"category_means\": dataset.groupby(dataset[column]).mean()[target_name]\n",
      "C:\\Users\\Aleksey Ryabykin\\AppData\\Local\\Temp\\ipykernel_284956\\2963386934.py:8: FutureWarning: The default value of numeric_only in DataFrameGroupBy.mean is deprecated. In a future version, numeric_only will default to False. Either specify numeric_only or select only columns which should be valid for the function.\n",
      "  \"category_means\": dataset.groupby(dataset[column]).mean()[target_name]\n"
     ]
    },
    {
     "name": "stdout",
     "output_type": "stream",
     "text": [
      "Fold number: 4, loss: 310.2572083077707\n"
     ]
    },
    {
     "name": "stderr",
     "output_type": "stream",
     "text": [
      "C:\\Users\\Aleksey Ryabykin\\AppData\\Local\\Temp\\ipykernel_284956\\2963386934.py:8: FutureWarning: The default value of numeric_only in DataFrameGroupBy.mean is deprecated. In a future version, numeric_only will default to False. Either specify numeric_only or select only columns which should be valid for the function.\n",
      "  \"category_means\": dataset.groupby(dataset[column]).mean()[target_name]\n",
      "C:\\Users\\Aleksey Ryabykin\\AppData\\Local\\Temp\\ipykernel_284956\\2963386934.py:8: FutureWarning: The default value of numeric_only in DataFrameGroupBy.mean is deprecated. In a future version, numeric_only will default to False. Either specify numeric_only or select only columns which should be valid for the function.\n",
      "  \"category_means\": dataset.groupby(dataset[column]).mean()[target_name]\n",
      "\u001b[32m[I 2022-12-21 00:56:18,602]\u001b[0m Trial 93 finished with value: 298.39060537693456 and parameters: {'x_0': 0.15340839504807724, 'x_1': 0.042020795904501765}. Best is trial 19 with value: 282.2052161524865.\u001b[0m\n"
     ]
    },
    {
     "name": "stdout",
     "output_type": "stream",
     "text": [
      "Fold number: 5, loss: 340.69082694317035\n",
      "Current weights: [0.20399455 0.00140967 0.79459578]\n"
     ]
    },
    {
     "name": "stderr",
     "output_type": "stream",
     "text": [
      "C:\\Users\\Aleksey Ryabykin\\AppData\\Local\\Temp\\ipykernel_284956\\2963386934.py:8: FutureWarning: The default value of numeric_only in DataFrameGroupBy.mean is deprecated. In a future version, numeric_only will default to False. Either specify numeric_only or select only columns which should be valid for the function.\n",
      "  \"category_means\": dataset.groupby(dataset[column]).mean()[target_name]\n",
      "C:\\Users\\Aleksey Ryabykin\\AppData\\Local\\Temp\\ipykernel_284956\\2963386934.py:8: FutureWarning: The default value of numeric_only in DataFrameGroupBy.mean is deprecated. In a future version, numeric_only will default to False. Either specify numeric_only or select only columns which should be valid for the function.\n",
      "  \"category_means\": dataset.groupby(dataset[column]).mean()[target_name]\n"
     ]
    },
    {
     "name": "stdout",
     "output_type": "stream",
     "text": [
      "Fold number: 1, loss: 283.00867880078147\n"
     ]
    },
    {
     "name": "stderr",
     "output_type": "stream",
     "text": [
      "C:\\Users\\Aleksey Ryabykin\\AppData\\Local\\Temp\\ipykernel_284956\\2963386934.py:8: FutureWarning: The default value of numeric_only in DataFrameGroupBy.mean is deprecated. In a future version, numeric_only will default to False. Either specify numeric_only or select only columns which should be valid for the function.\n",
      "  \"category_means\": dataset.groupby(dataset[column]).mean()[target_name]\n",
      "C:\\Users\\Aleksey Ryabykin\\AppData\\Local\\Temp\\ipykernel_284956\\2963386934.py:8: FutureWarning: The default value of numeric_only in DataFrameGroupBy.mean is deprecated. In a future version, numeric_only will default to False. Either specify numeric_only or select only columns which should be valid for the function.\n",
      "  \"category_means\": dataset.groupby(dataset[column]).mean()[target_name]\n"
     ]
    },
    {
     "name": "stdout",
     "output_type": "stream",
     "text": [
      "Fold number: 2, loss: 297.5502496352934\n"
     ]
    },
    {
     "name": "stderr",
     "output_type": "stream",
     "text": [
      "C:\\Users\\Aleksey Ryabykin\\AppData\\Local\\Temp\\ipykernel_284956\\2963386934.py:8: FutureWarning: The default value of numeric_only in DataFrameGroupBy.mean is deprecated. In a future version, numeric_only will default to False. Either specify numeric_only or select only columns which should be valid for the function.\n",
      "  \"category_means\": dataset.groupby(dataset[column]).mean()[target_name]\n",
      "C:\\Users\\Aleksey Ryabykin\\AppData\\Local\\Temp\\ipykernel_284956\\2963386934.py:8: FutureWarning: The default value of numeric_only in DataFrameGroupBy.mean is deprecated. In a future version, numeric_only will default to False. Either specify numeric_only or select only columns which should be valid for the function.\n",
      "  \"category_means\": dataset.groupby(dataset[column]).mean()[target_name]\n"
     ]
    },
    {
     "name": "stdout",
     "output_type": "stream",
     "text": [
      "Fold number: 3, loss: 247.94682531315974\n"
     ]
    },
    {
     "name": "stderr",
     "output_type": "stream",
     "text": [
      "C:\\Users\\Aleksey Ryabykin\\AppData\\Local\\Temp\\ipykernel_284956\\2963386934.py:8: FutureWarning: The default value of numeric_only in DataFrameGroupBy.mean is deprecated. In a future version, numeric_only will default to False. Either specify numeric_only or select only columns which should be valid for the function.\n",
      "  \"category_means\": dataset.groupby(dataset[column]).mean()[target_name]\n",
      "C:\\Users\\Aleksey Ryabykin\\AppData\\Local\\Temp\\ipykernel_284956\\2963386934.py:8: FutureWarning: The default value of numeric_only in DataFrameGroupBy.mean is deprecated. In a future version, numeric_only will default to False. Either specify numeric_only or select only columns which should be valid for the function.\n",
      "  \"category_means\": dataset.groupby(dataset[column]).mean()[target_name]\n"
     ]
    },
    {
     "name": "stdout",
     "output_type": "stream",
     "text": [
      "Fold number: 4, loss: 324.88177567340273\n"
     ]
    },
    {
     "name": "stderr",
     "output_type": "stream",
     "text": [
      "C:\\Users\\Aleksey Ryabykin\\AppData\\Local\\Temp\\ipykernel_284956\\2963386934.py:8: FutureWarning: The default value of numeric_only in DataFrameGroupBy.mean is deprecated. In a future version, numeric_only will default to False. Either specify numeric_only or select only columns which should be valid for the function.\n",
      "  \"category_means\": dataset.groupby(dataset[column]).mean()[target_name]\n",
      "C:\\Users\\Aleksey Ryabykin\\AppData\\Local\\Temp\\ipykernel_284956\\2963386934.py:8: FutureWarning: The default value of numeric_only in DataFrameGroupBy.mean is deprecated. In a future version, numeric_only will default to False. Either specify numeric_only or select only columns which should be valid for the function.\n",
      "  \"category_means\": dataset.groupby(dataset[column]).mean()[target_name]\n",
      "\u001b[32m[I 2022-12-21 00:56:38,290]\u001b[0m Trial 94 finished with value: 282.58698607137416 and parameters: {'x_0': 0.20399454908888925, 'x_1': 0.0014096684681422606}. Best is trial 19 with value: 282.2052161524865.\u001b[0m\n"
     ]
    },
    {
     "name": "stdout",
     "output_type": "stream",
     "text": [
      "Fold number: 5, loss: 259.54740093423356\n",
      "Current weights: [0.19919545 0.01893008 0.78187447]\n"
     ]
    },
    {
     "name": "stderr",
     "output_type": "stream",
     "text": [
      "C:\\Users\\Aleksey Ryabykin\\AppData\\Local\\Temp\\ipykernel_284956\\2963386934.py:8: FutureWarning: The default value of numeric_only in DataFrameGroupBy.mean is deprecated. In a future version, numeric_only will default to False. Either specify numeric_only or select only columns which should be valid for the function.\n",
      "  \"category_means\": dataset.groupby(dataset[column]).mean()[target_name]\n",
      "C:\\Users\\Aleksey Ryabykin\\AppData\\Local\\Temp\\ipykernel_284956\\2963386934.py:8: FutureWarning: The default value of numeric_only in DataFrameGroupBy.mean is deprecated. In a future version, numeric_only will default to False. Either specify numeric_only or select only columns which should be valid for the function.\n",
      "  \"category_means\": dataset.groupby(dataset[column]).mean()[target_name]\n"
     ]
    },
    {
     "name": "stdout",
     "output_type": "stream",
     "text": [
      "Fold number: 1, loss: 286.5391544531565\n"
     ]
    },
    {
     "name": "stderr",
     "output_type": "stream",
     "text": [
      "C:\\Users\\Aleksey Ryabykin\\AppData\\Local\\Temp\\ipykernel_284956\\2963386934.py:8: FutureWarning: The default value of numeric_only in DataFrameGroupBy.mean is deprecated. In a future version, numeric_only will default to False. Either specify numeric_only or select only columns which should be valid for the function.\n",
      "  \"category_means\": dataset.groupby(dataset[column]).mean()[target_name]\n",
      "C:\\Users\\Aleksey Ryabykin\\AppData\\Local\\Temp\\ipykernel_284956\\2963386934.py:8: FutureWarning: The default value of numeric_only in DataFrameGroupBy.mean is deprecated. In a future version, numeric_only will default to False. Either specify numeric_only or select only columns which should be valid for the function.\n",
      "  \"category_means\": dataset.groupby(dataset[column]).mean()[target_name]\n"
     ]
    },
    {
     "name": "stdout",
     "output_type": "stream",
     "text": [
      "Fold number: 2, loss: 271.36647121298347\n"
     ]
    },
    {
     "name": "stderr",
     "output_type": "stream",
     "text": [
      "C:\\Users\\Aleksey Ryabykin\\AppData\\Local\\Temp\\ipykernel_284956\\2963386934.py:8: FutureWarning: The default value of numeric_only in DataFrameGroupBy.mean is deprecated. In a future version, numeric_only will default to False. Either specify numeric_only or select only columns which should be valid for the function.\n",
      "  \"category_means\": dataset.groupby(dataset[column]).mean()[target_name]\n",
      "C:\\Users\\Aleksey Ryabykin\\AppData\\Local\\Temp\\ipykernel_284956\\2963386934.py:8: FutureWarning: The default value of numeric_only in DataFrameGroupBy.mean is deprecated. In a future version, numeric_only will default to False. Either specify numeric_only or select only columns which should be valid for the function.\n",
      "  \"category_means\": dataset.groupby(dataset[column]).mean()[target_name]\n"
     ]
    },
    {
     "name": "stdout",
     "output_type": "stream",
     "text": [
      "Fold number: 3, loss: 294.1060300028418\n"
     ]
    },
    {
     "name": "stderr",
     "output_type": "stream",
     "text": [
      "C:\\Users\\Aleksey Ryabykin\\AppData\\Local\\Temp\\ipykernel_284956\\2963386934.py:8: FutureWarning: The default value of numeric_only in DataFrameGroupBy.mean is deprecated. In a future version, numeric_only will default to False. Either specify numeric_only or select only columns which should be valid for the function.\n",
      "  \"category_means\": dataset.groupby(dataset[column]).mean()[target_name]\n",
      "C:\\Users\\Aleksey Ryabykin\\AppData\\Local\\Temp\\ipykernel_284956\\2963386934.py:8: FutureWarning: The default value of numeric_only in DataFrameGroupBy.mean is deprecated. In a future version, numeric_only will default to False. Either specify numeric_only or select only columns which should be valid for the function.\n",
      "  \"category_means\": dataset.groupby(dataset[column]).mean()[target_name]\n"
     ]
    },
    {
     "name": "stdout",
     "output_type": "stream",
     "text": [
      "Fold number: 4, loss: 297.630401993099\n"
     ]
    },
    {
     "name": "stderr",
     "output_type": "stream",
     "text": [
      "C:\\Users\\Aleksey Ryabykin\\AppData\\Local\\Temp\\ipykernel_284956\\2963386934.py:8: FutureWarning: The default value of numeric_only in DataFrameGroupBy.mean is deprecated. In a future version, numeric_only will default to False. Either specify numeric_only or select only columns which should be valid for the function.\n",
      "  \"category_means\": dataset.groupby(dataset[column]).mean()[target_name]\n",
      "C:\\Users\\Aleksey Ryabykin\\AppData\\Local\\Temp\\ipykernel_284956\\2963386934.py:8: FutureWarning: The default value of numeric_only in DataFrameGroupBy.mean is deprecated. In a future version, numeric_only will default to False. Either specify numeric_only or select only columns which should be valid for the function.\n",
      "  \"category_means\": dataset.groupby(dataset[column]).mean()[target_name]\n",
      "\u001b[32m[I 2022-12-21 00:56:59,703]\u001b[0m Trial 95 finished with value: 287.06537559337323 and parameters: {'x_0': 0.19919544613373713, 'x_1': 0.018930082978152844}. Best is trial 19 with value: 282.2052161524865.\u001b[0m\n"
     ]
    },
    {
     "name": "stdout",
     "output_type": "stream",
     "text": [
      "Fold number: 5, loss: 285.68482030478515\n",
      "Current weights: [2.09970230e-01 5.38253902e-04 7.89491516e-01]\n"
     ]
    },
    {
     "name": "stderr",
     "output_type": "stream",
     "text": [
      "C:\\Users\\Aleksey Ryabykin\\AppData\\Local\\Temp\\ipykernel_284956\\2963386934.py:8: FutureWarning: The default value of numeric_only in DataFrameGroupBy.mean is deprecated. In a future version, numeric_only will default to False. Either specify numeric_only or select only columns which should be valid for the function.\n",
      "  \"category_means\": dataset.groupby(dataset[column]).mean()[target_name]\n",
      "C:\\Users\\Aleksey Ryabykin\\AppData\\Local\\Temp\\ipykernel_284956\\2963386934.py:8: FutureWarning: The default value of numeric_only in DataFrameGroupBy.mean is deprecated. In a future version, numeric_only will default to False. Either specify numeric_only or select only columns which should be valid for the function.\n",
      "  \"category_means\": dataset.groupby(dataset[column]).mean()[target_name]\n"
     ]
    },
    {
     "name": "stdout",
     "output_type": "stream",
     "text": [
      "Fold number: 1, loss: 341.4037836351482\n"
     ]
    },
    {
     "name": "stderr",
     "output_type": "stream",
     "text": [
      "C:\\Users\\Aleksey Ryabykin\\AppData\\Local\\Temp\\ipykernel_284956\\2963386934.py:8: FutureWarning: The default value of numeric_only in DataFrameGroupBy.mean is deprecated. In a future version, numeric_only will default to False. Either specify numeric_only or select only columns which should be valid for the function.\n",
      "  \"category_means\": dataset.groupby(dataset[column]).mean()[target_name]\n",
      "C:\\Users\\Aleksey Ryabykin\\AppData\\Local\\Temp\\ipykernel_284956\\2963386934.py:8: FutureWarning: The default value of numeric_only in DataFrameGroupBy.mean is deprecated. In a future version, numeric_only will default to False. Either specify numeric_only or select only columns which should be valid for the function.\n",
      "  \"category_means\": dataset.groupby(dataset[column]).mean()[target_name]\n"
     ]
    },
    {
     "name": "stdout",
     "output_type": "stream",
     "text": [
      "Fold number: 2, loss: 326.90588999491314\n"
     ]
    },
    {
     "name": "stderr",
     "output_type": "stream",
     "text": [
      "C:\\Users\\Aleksey Ryabykin\\AppData\\Local\\Temp\\ipykernel_284956\\2963386934.py:8: FutureWarning: The default value of numeric_only in DataFrameGroupBy.mean is deprecated. In a future version, numeric_only will default to False. Either specify numeric_only or select only columns which should be valid for the function.\n",
      "  \"category_means\": dataset.groupby(dataset[column]).mean()[target_name]\n",
      "C:\\Users\\Aleksey Ryabykin\\AppData\\Local\\Temp\\ipykernel_284956\\2963386934.py:8: FutureWarning: The default value of numeric_only in DataFrameGroupBy.mean is deprecated. In a future version, numeric_only will default to False. Either specify numeric_only or select only columns which should be valid for the function.\n",
      "  \"category_means\": dataset.groupby(dataset[column]).mean()[target_name]\n"
     ]
    },
    {
     "name": "stdout",
     "output_type": "stream",
     "text": [
      "Fold number: 3, loss: 273.533299641875\n"
     ]
    },
    {
     "name": "stderr",
     "output_type": "stream",
     "text": [
      "C:\\Users\\Aleksey Ryabykin\\AppData\\Local\\Temp\\ipykernel_284956\\2963386934.py:8: FutureWarning: The default value of numeric_only in DataFrameGroupBy.mean is deprecated. In a future version, numeric_only will default to False. Either specify numeric_only or select only columns which should be valid for the function.\n",
      "  \"category_means\": dataset.groupby(dataset[column]).mean()[target_name]\n",
      "C:\\Users\\Aleksey Ryabykin\\AppData\\Local\\Temp\\ipykernel_284956\\2963386934.py:8: FutureWarning: The default value of numeric_only in DataFrameGroupBy.mean is deprecated. In a future version, numeric_only will default to False. Either specify numeric_only or select only columns which should be valid for the function.\n",
      "  \"category_means\": dataset.groupby(dataset[column]).mean()[target_name]\n"
     ]
    },
    {
     "name": "stdout",
     "output_type": "stream",
     "text": [
      "Fold number: 4, loss: 258.18777997938287\n"
     ]
    },
    {
     "name": "stderr",
     "output_type": "stream",
     "text": [
      "C:\\Users\\Aleksey Ryabykin\\AppData\\Local\\Temp\\ipykernel_284956\\2963386934.py:8: FutureWarning: The default value of numeric_only in DataFrameGroupBy.mean is deprecated. In a future version, numeric_only will default to False. Either specify numeric_only or select only columns which should be valid for the function.\n",
      "  \"category_means\": dataset.groupby(dataset[column]).mean()[target_name]\n",
      "C:\\Users\\Aleksey Ryabykin\\AppData\\Local\\Temp\\ipykernel_284956\\2963386934.py:8: FutureWarning: The default value of numeric_only in DataFrameGroupBy.mean is deprecated. In a future version, numeric_only will default to False. Either specify numeric_only or select only columns which should be valid for the function.\n",
      "  \"category_means\": dataset.groupby(dataset[column]).mean()[target_name]\n",
      "\u001b[32m[I 2022-12-21 00:57:21,456]\u001b[0m Trial 96 finished with value: 293.7670155783636 and parameters: {'x_0': 0.20997022979337254, 'x_1': 0.000538253901683221}. Best is trial 19 with value: 282.2052161524865.\u001b[0m\n"
     ]
    },
    {
     "name": "stdout",
     "output_type": "stream",
     "text": [
      "Fold number: 5, loss: 268.80432464049875\n",
      "Current weights: [0.19966147 0.0247132  0.77562533]\n"
     ]
    },
    {
     "name": "stderr",
     "output_type": "stream",
     "text": [
      "C:\\Users\\Aleksey Ryabykin\\AppData\\Local\\Temp\\ipykernel_284956\\2963386934.py:8: FutureWarning: The default value of numeric_only in DataFrameGroupBy.mean is deprecated. In a future version, numeric_only will default to False. Either specify numeric_only or select only columns which should be valid for the function.\n",
      "  \"category_means\": dataset.groupby(dataset[column]).mean()[target_name]\n",
      "C:\\Users\\Aleksey Ryabykin\\AppData\\Local\\Temp\\ipykernel_284956\\2963386934.py:8: FutureWarning: The default value of numeric_only in DataFrameGroupBy.mean is deprecated. In a future version, numeric_only will default to False. Either specify numeric_only or select only columns which should be valid for the function.\n",
      "  \"category_means\": dataset.groupby(dataset[column]).mean()[target_name]\n"
     ]
    },
    {
     "name": "stdout",
     "output_type": "stream",
     "text": [
      "Fold number: 1, loss: 225.53880724660425\n"
     ]
    },
    {
     "name": "stderr",
     "output_type": "stream",
     "text": [
      "C:\\Users\\Aleksey Ryabykin\\AppData\\Local\\Temp\\ipykernel_284956\\2963386934.py:8: FutureWarning: The default value of numeric_only in DataFrameGroupBy.mean is deprecated. In a future version, numeric_only will default to False. Either specify numeric_only or select only columns which should be valid for the function.\n",
      "  \"category_means\": dataset.groupby(dataset[column]).mean()[target_name]\n",
      "C:\\Users\\Aleksey Ryabykin\\AppData\\Local\\Temp\\ipykernel_284956\\2963386934.py:8: FutureWarning: The default value of numeric_only in DataFrameGroupBy.mean is deprecated. In a future version, numeric_only will default to False. Either specify numeric_only or select only columns which should be valid for the function.\n",
      "  \"category_means\": dataset.groupby(dataset[column]).mean()[target_name]\n"
     ]
    },
    {
     "name": "stdout",
     "output_type": "stream",
     "text": [
      "Fold number: 2, loss: 287.2816350329951\n"
     ]
    },
    {
     "name": "stderr",
     "output_type": "stream",
     "text": [
      "C:\\Users\\Aleksey Ryabykin\\AppData\\Local\\Temp\\ipykernel_284956\\2963386934.py:8: FutureWarning: The default value of numeric_only in DataFrameGroupBy.mean is deprecated. In a future version, numeric_only will default to False. Either specify numeric_only or select only columns which should be valid for the function.\n",
      "  \"category_means\": dataset.groupby(dataset[column]).mean()[target_name]\n",
      "C:\\Users\\Aleksey Ryabykin\\AppData\\Local\\Temp\\ipykernel_284956\\2963386934.py:8: FutureWarning: The default value of numeric_only in DataFrameGroupBy.mean is deprecated. In a future version, numeric_only will default to False. Either specify numeric_only or select only columns which should be valid for the function.\n",
      "  \"category_means\": dataset.groupby(dataset[column]).mean()[target_name]\n"
     ]
    },
    {
     "name": "stdout",
     "output_type": "stream",
     "text": [
      "Fold number: 3, loss: 310.8343900066701\n"
     ]
    },
    {
     "name": "stderr",
     "output_type": "stream",
     "text": [
      "C:\\Users\\Aleksey Ryabykin\\AppData\\Local\\Temp\\ipykernel_284956\\2963386934.py:8: FutureWarning: The default value of numeric_only in DataFrameGroupBy.mean is deprecated. In a future version, numeric_only will default to False. Either specify numeric_only or select only columns which should be valid for the function.\n",
      "  \"category_means\": dataset.groupby(dataset[column]).mean()[target_name]\n",
      "C:\\Users\\Aleksey Ryabykin\\AppData\\Local\\Temp\\ipykernel_284956\\2963386934.py:8: FutureWarning: The default value of numeric_only in DataFrameGroupBy.mean is deprecated. In a future version, numeric_only will default to False. Either specify numeric_only or select only columns which should be valid for the function.\n",
      "  \"category_means\": dataset.groupby(dataset[column]).mean()[target_name]\n"
     ]
    },
    {
     "name": "stdout",
     "output_type": "stream",
     "text": [
      "Fold number: 4, loss: 291.57801998598717\n"
     ]
    },
    {
     "name": "stderr",
     "output_type": "stream",
     "text": [
      "C:\\Users\\Aleksey Ryabykin\\AppData\\Local\\Temp\\ipykernel_284956\\2963386934.py:8: FutureWarning: The default value of numeric_only in DataFrameGroupBy.mean is deprecated. In a future version, numeric_only will default to False. Either specify numeric_only or select only columns which should be valid for the function.\n",
      "  \"category_means\": dataset.groupby(dataset[column]).mean()[target_name]\n",
      "C:\\Users\\Aleksey Ryabykin\\AppData\\Local\\Temp\\ipykernel_284956\\2963386934.py:8: FutureWarning: The default value of numeric_only in DataFrameGroupBy.mean is deprecated. In a future version, numeric_only will default to False. Either specify numeric_only or select only columns which should be valid for the function.\n",
      "  \"category_means\": dataset.groupby(dataset[column]).mean()[target_name]\n",
      "\u001b[32m[I 2022-12-21 00:57:41,108]\u001b[0m Trial 97 finished with value: 287.3592294256051 and parameters: {'x_0': 0.199661473552243, 'x_1': 0.02471319894526322}. Best is trial 19 with value: 282.2052161524865.\u001b[0m\n"
     ]
    },
    {
     "name": "stdout",
     "output_type": "stream",
     "text": [
      "Fold number: 5, loss: 321.56329485576885\n",
      "Current weights: [0.18230637 0.0210808  0.79661283]\n"
     ]
    },
    {
     "name": "stderr",
     "output_type": "stream",
     "text": [
      "C:\\Users\\Aleksey Ryabykin\\AppData\\Local\\Temp\\ipykernel_284956\\2963386934.py:8: FutureWarning: The default value of numeric_only in DataFrameGroupBy.mean is deprecated. In a future version, numeric_only will default to False. Either specify numeric_only or select only columns which should be valid for the function.\n",
      "  \"category_means\": dataset.groupby(dataset[column]).mean()[target_name]\n",
      "C:\\Users\\Aleksey Ryabykin\\AppData\\Local\\Temp\\ipykernel_284956\\2963386934.py:8: FutureWarning: The default value of numeric_only in DataFrameGroupBy.mean is deprecated. In a future version, numeric_only will default to False. Either specify numeric_only or select only columns which should be valid for the function.\n",
      "  \"category_means\": dataset.groupby(dataset[column]).mean()[target_name]\n"
     ]
    },
    {
     "name": "stdout",
     "output_type": "stream",
     "text": [
      "Fold number: 1, loss: 324.3445439621329\n"
     ]
    },
    {
     "name": "stderr",
     "output_type": "stream",
     "text": [
      "C:\\Users\\Aleksey Ryabykin\\AppData\\Local\\Temp\\ipykernel_284956\\2963386934.py:8: FutureWarning: The default value of numeric_only in DataFrameGroupBy.mean is deprecated. In a future version, numeric_only will default to False. Either specify numeric_only or select only columns which should be valid for the function.\n",
      "  \"category_means\": dataset.groupby(dataset[column]).mean()[target_name]\n",
      "C:\\Users\\Aleksey Ryabykin\\AppData\\Local\\Temp\\ipykernel_284956\\2963386934.py:8: FutureWarning: The default value of numeric_only in DataFrameGroupBy.mean is deprecated. In a future version, numeric_only will default to False. Either specify numeric_only or select only columns which should be valid for the function.\n",
      "  \"category_means\": dataset.groupby(dataset[column]).mean()[target_name]\n"
     ]
    },
    {
     "name": "stdout",
     "output_type": "stream",
     "text": [
      "Fold number: 2, loss: 315.39781847185\n"
     ]
    },
    {
     "name": "stderr",
     "output_type": "stream",
     "text": [
      "C:\\Users\\Aleksey Ryabykin\\AppData\\Local\\Temp\\ipykernel_284956\\2963386934.py:8: FutureWarning: The default value of numeric_only in DataFrameGroupBy.mean is deprecated. In a future version, numeric_only will default to False. Either specify numeric_only or select only columns which should be valid for the function.\n",
      "  \"category_means\": dataset.groupby(dataset[column]).mean()[target_name]\n",
      "C:\\Users\\Aleksey Ryabykin\\AppData\\Local\\Temp\\ipykernel_284956\\2963386934.py:8: FutureWarning: The default value of numeric_only in DataFrameGroupBy.mean is deprecated. In a future version, numeric_only will default to False. Either specify numeric_only or select only columns which should be valid for the function.\n",
      "  \"category_means\": dataset.groupby(dataset[column]).mean()[target_name]\n"
     ]
    },
    {
     "name": "stdout",
     "output_type": "stream",
     "text": [
      "Fold number: 3, loss: 275.1132847174292\n"
     ]
    },
    {
     "name": "stderr",
     "output_type": "stream",
     "text": [
      "C:\\Users\\Aleksey Ryabykin\\AppData\\Local\\Temp\\ipykernel_284956\\2963386934.py:8: FutureWarning: The default value of numeric_only in DataFrameGroupBy.mean is deprecated. In a future version, numeric_only will default to False. Either specify numeric_only or select only columns which should be valid for the function.\n",
      "  \"category_means\": dataset.groupby(dataset[column]).mean()[target_name]\n",
      "C:\\Users\\Aleksey Ryabykin\\AppData\\Local\\Temp\\ipykernel_284956\\2963386934.py:8: FutureWarning: The default value of numeric_only in DataFrameGroupBy.mean is deprecated. In a future version, numeric_only will default to False. Either specify numeric_only or select only columns which should be valid for the function.\n",
      "  \"category_means\": dataset.groupby(dataset[column]).mean()[target_name]\n"
     ]
    },
    {
     "name": "stdout",
     "output_type": "stream",
     "text": [
      "Fold number: 4, loss: 262.8518674331705\n"
     ]
    },
    {
     "name": "stderr",
     "output_type": "stream",
     "text": [
      "C:\\Users\\Aleksey Ryabykin\\AppData\\Local\\Temp\\ipykernel_284956\\2963386934.py:8: FutureWarning: The default value of numeric_only in DataFrameGroupBy.mean is deprecated. In a future version, numeric_only will default to False. Either specify numeric_only or select only columns which should be valid for the function.\n",
      "  \"category_means\": dataset.groupby(dataset[column]).mean()[target_name]\n",
      "C:\\Users\\Aleksey Ryabykin\\AppData\\Local\\Temp\\ipykernel_284956\\2963386934.py:8: FutureWarning: The default value of numeric_only in DataFrameGroupBy.mean is deprecated. In a future version, numeric_only will default to False. Either specify numeric_only or select only columns which should be valid for the function.\n",
      "  \"category_means\": dataset.groupby(dataset[column]).mean()[target_name]\n",
      "\u001b[32m[I 2022-12-21 00:58:02,127]\u001b[0m Trial 98 finished with value: 287.84239835140727 and parameters: {'x_0': 0.18230636585258425, 'x_1': 0.021080801091963287}. Best is trial 19 with value: 282.2052161524865.\u001b[0m\n"
     ]
    },
    {
     "name": "stdout",
     "output_type": "stream",
     "text": [
      "Fold number: 5, loss: 261.5044771724537\n",
      "Current weights: [0.23730001 0.0193537  0.74334629]\n"
     ]
    },
    {
     "name": "stderr",
     "output_type": "stream",
     "text": [
      "C:\\Users\\Aleksey Ryabykin\\AppData\\Local\\Temp\\ipykernel_284956\\2963386934.py:8: FutureWarning: The default value of numeric_only in DataFrameGroupBy.mean is deprecated. In a future version, numeric_only will default to False. Either specify numeric_only or select only columns which should be valid for the function.\n",
      "  \"category_means\": dataset.groupby(dataset[column]).mean()[target_name]\n",
      "C:\\Users\\Aleksey Ryabykin\\AppData\\Local\\Temp\\ipykernel_284956\\2963386934.py:8: FutureWarning: The default value of numeric_only in DataFrameGroupBy.mean is deprecated. In a future version, numeric_only will default to False. Either specify numeric_only or select only columns which should be valid for the function.\n",
      "  \"category_means\": dataset.groupby(dataset[column]).mean()[target_name]\n"
     ]
    },
    {
     "name": "stdout",
     "output_type": "stream",
     "text": [
      "Fold number: 1, loss: 329.066994199831\n"
     ]
    },
    {
     "name": "stderr",
     "output_type": "stream",
     "text": [
      "C:\\Users\\Aleksey Ryabykin\\AppData\\Local\\Temp\\ipykernel_284956\\2963386934.py:8: FutureWarning: The default value of numeric_only in DataFrameGroupBy.mean is deprecated. In a future version, numeric_only will default to False. Either specify numeric_only or select only columns which should be valid for the function.\n",
      "  \"category_means\": dataset.groupby(dataset[column]).mean()[target_name]\n",
      "C:\\Users\\Aleksey Ryabykin\\AppData\\Local\\Temp\\ipykernel_284956\\2963386934.py:8: FutureWarning: The default value of numeric_only in DataFrameGroupBy.mean is deprecated. In a future version, numeric_only will default to False. Either specify numeric_only or select only columns which should be valid for the function.\n",
      "  \"category_means\": dataset.groupby(dataset[column]).mean()[target_name]\n"
     ]
    },
    {
     "name": "stdout",
     "output_type": "stream",
     "text": [
      "Fold number: 2, loss: 275.0136400809527\n"
     ]
    },
    {
     "name": "stderr",
     "output_type": "stream",
     "text": [
      "C:\\Users\\Aleksey Ryabykin\\AppData\\Local\\Temp\\ipykernel_284956\\2963386934.py:8: FutureWarning: The default value of numeric_only in DataFrameGroupBy.mean is deprecated. In a future version, numeric_only will default to False. Either specify numeric_only or select only columns which should be valid for the function.\n",
      "  \"category_means\": dataset.groupby(dataset[column]).mean()[target_name]\n",
      "C:\\Users\\Aleksey Ryabykin\\AppData\\Local\\Temp\\ipykernel_284956\\2963386934.py:8: FutureWarning: The default value of numeric_only in DataFrameGroupBy.mean is deprecated. In a future version, numeric_only will default to False. Either specify numeric_only or select only columns which should be valid for the function.\n",
      "  \"category_means\": dataset.groupby(dataset[column]).mean()[target_name]\n"
     ]
    },
    {
     "name": "stdout",
     "output_type": "stream",
     "text": [
      "Fold number: 3, loss: 255.39161748355147\n"
     ]
    },
    {
     "name": "stderr",
     "output_type": "stream",
     "text": [
      "C:\\Users\\Aleksey Ryabykin\\AppData\\Local\\Temp\\ipykernel_284956\\2963386934.py:8: FutureWarning: The default value of numeric_only in DataFrameGroupBy.mean is deprecated. In a future version, numeric_only will default to False. Either specify numeric_only or select only columns which should be valid for the function.\n",
      "  \"category_means\": dataset.groupby(dataset[column]).mean()[target_name]\n",
      "C:\\Users\\Aleksey Ryabykin\\AppData\\Local\\Temp\\ipykernel_284956\\2963386934.py:8: FutureWarning: The default value of numeric_only in DataFrameGroupBy.mean is deprecated. In a future version, numeric_only will default to False. Either specify numeric_only or select only columns which should be valid for the function.\n",
      "  \"category_means\": dataset.groupby(dataset[column]).mean()[target_name]\n"
     ]
    },
    {
     "name": "stdout",
     "output_type": "stream",
     "text": [
      "Fold number: 4, loss: 252.06672303598788\n"
     ]
    },
    {
     "name": "stderr",
     "output_type": "stream",
     "text": [
      "C:\\Users\\Aleksey Ryabykin\\AppData\\Local\\Temp\\ipykernel_284956\\2963386934.py:8: FutureWarning: The default value of numeric_only in DataFrameGroupBy.mean is deprecated. In a future version, numeric_only will default to False. Either specify numeric_only or select only columns which should be valid for the function.\n",
      "  \"category_means\": dataset.groupby(dataset[column]).mean()[target_name]\n",
      "C:\\Users\\Aleksey Ryabykin\\AppData\\Local\\Temp\\ipykernel_284956\\2963386934.py:8: FutureWarning: The default value of numeric_only in DataFrameGroupBy.mean is deprecated. In a future version, numeric_only will default to False. Either specify numeric_only or select only columns which should be valid for the function.\n",
      "  \"category_means\": dataset.groupby(dataset[column]).mean()[target_name]\n",
      "\u001b[32m[I 2022-12-21 00:58:23,322]\u001b[0m Trial 99 finished with value: 284.7238018482701 and parameters: {'x_0': 0.23730001355307692, 'x_1': 0.019353701159908743}. Best is trial 19 with value: 282.2052161524865.\u001b[0m\n"
     ]
    },
    {
     "name": "stdout",
     "output_type": "stream",
     "text": [
      "Fold number: 5, loss: 312.0800344410275\n",
      "Current weights: [0.25598701 0.02263884 0.72137415]\n"
     ]
    },
    {
     "name": "stderr",
     "output_type": "stream",
     "text": [
      "C:\\Users\\Aleksey Ryabykin\\AppData\\Local\\Temp\\ipykernel_284956\\2963386934.py:8: FutureWarning: The default value of numeric_only in DataFrameGroupBy.mean is deprecated. In a future version, numeric_only will default to False. Either specify numeric_only or select only columns which should be valid for the function.\n",
      "  \"category_means\": dataset.groupby(dataset[column]).mean()[target_name]\n",
      "C:\\Users\\Aleksey Ryabykin\\AppData\\Local\\Temp\\ipykernel_284956\\2963386934.py:8: FutureWarning: The default value of numeric_only in DataFrameGroupBy.mean is deprecated. In a future version, numeric_only will default to False. Either specify numeric_only or select only columns which should be valid for the function.\n",
      "  \"category_means\": dataset.groupby(dataset[column]).mean()[target_name]\n"
     ]
    },
    {
     "name": "stdout",
     "output_type": "stream",
     "text": [
      "Fold number: 1, loss: 291.78694655278593\n"
     ]
    },
    {
     "name": "stderr",
     "output_type": "stream",
     "text": [
      "C:\\Users\\Aleksey Ryabykin\\AppData\\Local\\Temp\\ipykernel_284956\\2963386934.py:8: FutureWarning: The default value of numeric_only in DataFrameGroupBy.mean is deprecated. In a future version, numeric_only will default to False. Either specify numeric_only or select only columns which should be valid for the function.\n",
      "  \"category_means\": dataset.groupby(dataset[column]).mean()[target_name]\n",
      "C:\\Users\\Aleksey Ryabykin\\AppData\\Local\\Temp\\ipykernel_284956\\2963386934.py:8: FutureWarning: The default value of numeric_only in DataFrameGroupBy.mean is deprecated. In a future version, numeric_only will default to False. Either specify numeric_only or select only columns which should be valid for the function.\n",
      "  \"category_means\": dataset.groupby(dataset[column]).mean()[target_name]\n"
     ]
    },
    {
     "name": "stdout",
     "output_type": "stream",
     "text": [
      "Fold number: 2, loss: 301.9661743780836\n"
     ]
    },
    {
     "name": "stderr",
     "output_type": "stream",
     "text": [
      "C:\\Users\\Aleksey Ryabykin\\AppData\\Local\\Temp\\ipykernel_284956\\2963386934.py:8: FutureWarning: The default value of numeric_only in DataFrameGroupBy.mean is deprecated. In a future version, numeric_only will default to False. Either specify numeric_only or select only columns which should be valid for the function.\n",
      "  \"category_means\": dataset.groupby(dataset[column]).mean()[target_name]\n",
      "C:\\Users\\Aleksey Ryabykin\\AppData\\Local\\Temp\\ipykernel_284956\\2963386934.py:8: FutureWarning: The default value of numeric_only in DataFrameGroupBy.mean is deprecated. In a future version, numeric_only will default to False. Either specify numeric_only or select only columns which should be valid for the function.\n",
      "  \"category_means\": dataset.groupby(dataset[column]).mean()[target_name]\n"
     ]
    },
    {
     "name": "stdout",
     "output_type": "stream",
     "text": [
      "Fold number: 3, loss: 295.49262712313714\n"
     ]
    },
    {
     "name": "stderr",
     "output_type": "stream",
     "text": [
      "C:\\Users\\Aleksey Ryabykin\\AppData\\Local\\Temp\\ipykernel_284956\\2963386934.py:8: FutureWarning: The default value of numeric_only in DataFrameGroupBy.mean is deprecated. In a future version, numeric_only will default to False. Either specify numeric_only or select only columns which should be valid for the function.\n",
      "  \"category_means\": dataset.groupby(dataset[column]).mean()[target_name]\n",
      "C:\\Users\\Aleksey Ryabykin\\AppData\\Local\\Temp\\ipykernel_284956\\2963386934.py:8: FutureWarning: The default value of numeric_only in DataFrameGroupBy.mean is deprecated. In a future version, numeric_only will default to False. Either specify numeric_only or select only columns which should be valid for the function.\n",
      "  \"category_means\": dataset.groupby(dataset[column]).mean()[target_name]\n"
     ]
    },
    {
     "name": "stdout",
     "output_type": "stream",
     "text": [
      "Fold number: 4, loss: 280.6151464776241\n"
     ]
    },
    {
     "name": "stderr",
     "output_type": "stream",
     "text": [
      "C:\\Users\\Aleksey Ryabykin\\AppData\\Local\\Temp\\ipykernel_284956\\2963386934.py:8: FutureWarning: The default value of numeric_only in DataFrameGroupBy.mean is deprecated. In a future version, numeric_only will default to False. Either specify numeric_only or select only columns which should be valid for the function.\n",
      "  \"category_means\": dataset.groupby(dataset[column]).mean()[target_name]\n",
      "C:\\Users\\Aleksey Ryabykin\\AppData\\Local\\Temp\\ipykernel_284956\\2963386934.py:8: FutureWarning: The default value of numeric_only in DataFrameGroupBy.mean is deprecated. In a future version, numeric_only will default to False. Either specify numeric_only or select only columns which should be valid for the function.\n",
      "  \"category_means\": dataset.groupby(dataset[column]).mean()[target_name]\n",
      "\u001b[32m[I 2022-12-21 00:58:44,865]\u001b[0m Trial 100 finished with value: 286.1011745111641 and parameters: {'x_0': 0.2559870086354561, 'x_1': 0.02263883676172833}. Best is trial 19 with value: 282.2052161524865.\u001b[0m\n"
     ]
    },
    {
     "name": "stdout",
     "output_type": "stream",
     "text": [
      "Fold number: 5, loss: 260.64497802419\n",
      "Current weights: [0.23167491 0.02443946 0.74388563]\n"
     ]
    },
    {
     "name": "stderr",
     "output_type": "stream",
     "text": [
      "C:\\Users\\Aleksey Ryabykin\\AppData\\Local\\Temp\\ipykernel_284956\\2963386934.py:8: FutureWarning: The default value of numeric_only in DataFrameGroupBy.mean is deprecated. In a future version, numeric_only will default to False. Either specify numeric_only or select only columns which should be valid for the function.\n",
      "  \"category_means\": dataset.groupby(dataset[column]).mean()[target_name]\n",
      "C:\\Users\\Aleksey Ryabykin\\AppData\\Local\\Temp\\ipykernel_284956\\2963386934.py:8: FutureWarning: The default value of numeric_only in DataFrameGroupBy.mean is deprecated. In a future version, numeric_only will default to False. Either specify numeric_only or select only columns which should be valid for the function.\n",
      "  \"category_means\": dataset.groupby(dataset[column]).mean()[target_name]\n"
     ]
    },
    {
     "name": "stdout",
     "output_type": "stream",
     "text": [
      "Fold number: 1, loss: 256.6933302853536\n"
     ]
    },
    {
     "name": "stderr",
     "output_type": "stream",
     "text": [
      "C:\\Users\\Aleksey Ryabykin\\AppData\\Local\\Temp\\ipykernel_284956\\2963386934.py:8: FutureWarning: The default value of numeric_only in DataFrameGroupBy.mean is deprecated. In a future version, numeric_only will default to False. Either specify numeric_only or select only columns which should be valid for the function.\n",
      "  \"category_means\": dataset.groupby(dataset[column]).mean()[target_name]\n",
      "C:\\Users\\Aleksey Ryabykin\\AppData\\Local\\Temp\\ipykernel_284956\\2963386934.py:8: FutureWarning: The default value of numeric_only in DataFrameGroupBy.mean is deprecated. In a future version, numeric_only will default to False. Either specify numeric_only or select only columns which should be valid for the function.\n",
      "  \"category_means\": dataset.groupby(dataset[column]).mean()[target_name]\n"
     ]
    },
    {
     "name": "stdout",
     "output_type": "stream",
     "text": [
      "Fold number: 2, loss: 268.4561856711785\n"
     ]
    },
    {
     "name": "stderr",
     "output_type": "stream",
     "text": [
      "C:\\Users\\Aleksey Ryabykin\\AppData\\Local\\Temp\\ipykernel_284956\\2963386934.py:8: FutureWarning: The default value of numeric_only in DataFrameGroupBy.mean is deprecated. In a future version, numeric_only will default to False. Either specify numeric_only or select only columns which should be valid for the function.\n",
      "  \"category_means\": dataset.groupby(dataset[column]).mean()[target_name]\n",
      "C:\\Users\\Aleksey Ryabykin\\AppData\\Local\\Temp\\ipykernel_284956\\2963386934.py:8: FutureWarning: The default value of numeric_only in DataFrameGroupBy.mean is deprecated. In a future version, numeric_only will default to False. Either specify numeric_only or select only columns which should be valid for the function.\n",
      "  \"category_means\": dataset.groupby(dataset[column]).mean()[target_name]\n"
     ]
    },
    {
     "name": "stdout",
     "output_type": "stream",
     "text": [
      "Fold number: 3, loss: 372.2851152309444\n"
     ]
    },
    {
     "name": "stderr",
     "output_type": "stream",
     "text": [
      "C:\\Users\\Aleksey Ryabykin\\AppData\\Local\\Temp\\ipykernel_284956\\2963386934.py:8: FutureWarning: The default value of numeric_only in DataFrameGroupBy.mean is deprecated. In a future version, numeric_only will default to False. Either specify numeric_only or select only columns which should be valid for the function.\n",
      "  \"category_means\": dataset.groupby(dataset[column]).mean()[target_name]\n",
      "C:\\Users\\Aleksey Ryabykin\\AppData\\Local\\Temp\\ipykernel_284956\\2963386934.py:8: FutureWarning: The default value of numeric_only in DataFrameGroupBy.mean is deprecated. In a future version, numeric_only will default to False. Either specify numeric_only or select only columns which should be valid for the function.\n",
      "  \"category_means\": dataset.groupby(dataset[column]).mean()[target_name]\n"
     ]
    },
    {
     "name": "stdout",
     "output_type": "stream",
     "text": [
      "Fold number: 4, loss: 247.32040930519582\n"
     ]
    },
    {
     "name": "stderr",
     "output_type": "stream",
     "text": [
      "C:\\Users\\Aleksey Ryabykin\\AppData\\Local\\Temp\\ipykernel_284956\\2963386934.py:8: FutureWarning: The default value of numeric_only in DataFrameGroupBy.mean is deprecated. In a future version, numeric_only will default to False. Either specify numeric_only or select only columns which should be valid for the function.\n",
      "  \"category_means\": dataset.groupby(dataset[column]).mean()[target_name]\n",
      "C:\\Users\\Aleksey Ryabykin\\AppData\\Local\\Temp\\ipykernel_284956\\2963386934.py:8: FutureWarning: The default value of numeric_only in DataFrameGroupBy.mean is deprecated. In a future version, numeric_only will default to False. Either specify numeric_only or select only columns which should be valid for the function.\n",
      "  \"category_means\": dataset.groupby(dataset[column]).mean()[target_name]\n",
      "\u001b[32m[I 2022-12-21 00:59:04,884]\u001b[0m Trial 101 finished with value: 289.12874381812134 and parameters: {'x_0': 0.23167491236554894, 'x_1': 0.024439461467933632}. Best is trial 19 with value: 282.2052161524865.\u001b[0m\n"
     ]
    },
    {
     "name": "stdout",
     "output_type": "stream",
     "text": [
      "Fold number: 5, loss: 300.8886785979343\n",
      "Current weights: [0.23152384 0.02292381 0.74555235]\n"
     ]
    },
    {
     "name": "stderr",
     "output_type": "stream",
     "text": [
      "C:\\Users\\Aleksey Ryabykin\\AppData\\Local\\Temp\\ipykernel_284956\\2963386934.py:8: FutureWarning: The default value of numeric_only in DataFrameGroupBy.mean is deprecated. In a future version, numeric_only will default to False. Either specify numeric_only or select only columns which should be valid for the function.\n",
      "  \"category_means\": dataset.groupby(dataset[column]).mean()[target_name]\n",
      "C:\\Users\\Aleksey Ryabykin\\AppData\\Local\\Temp\\ipykernel_284956\\2963386934.py:8: FutureWarning: The default value of numeric_only in DataFrameGroupBy.mean is deprecated. In a future version, numeric_only will default to False. Either specify numeric_only or select only columns which should be valid for the function.\n",
      "  \"category_means\": dataset.groupby(dataset[column]).mean()[target_name]\n"
     ]
    },
    {
     "name": "stdout",
     "output_type": "stream",
     "text": [
      "Fold number: 1, loss: 284.3164667055126\n"
     ]
    },
    {
     "name": "stderr",
     "output_type": "stream",
     "text": [
      "C:\\Users\\Aleksey Ryabykin\\AppData\\Local\\Temp\\ipykernel_284956\\2963386934.py:8: FutureWarning: The default value of numeric_only in DataFrameGroupBy.mean is deprecated. In a future version, numeric_only will default to False. Either specify numeric_only or select only columns which should be valid for the function.\n",
      "  \"category_means\": dataset.groupby(dataset[column]).mean()[target_name]\n",
      "C:\\Users\\Aleksey Ryabykin\\AppData\\Local\\Temp\\ipykernel_284956\\2963386934.py:8: FutureWarning: The default value of numeric_only in DataFrameGroupBy.mean is deprecated. In a future version, numeric_only will default to False. Either specify numeric_only or select only columns which should be valid for the function.\n",
      "  \"category_means\": dataset.groupby(dataset[column]).mean()[target_name]\n"
     ]
    },
    {
     "name": "stdout",
     "output_type": "stream",
     "text": [
      "Fold number: 2, loss: 289.5189370958561\n"
     ]
    },
    {
     "name": "stderr",
     "output_type": "stream",
     "text": [
      "C:\\Users\\Aleksey Ryabykin\\AppData\\Local\\Temp\\ipykernel_284956\\2963386934.py:8: FutureWarning: The default value of numeric_only in DataFrameGroupBy.mean is deprecated. In a future version, numeric_only will default to False. Either specify numeric_only or select only columns which should be valid for the function.\n",
      "  \"category_means\": dataset.groupby(dataset[column]).mean()[target_name]\n",
      "C:\\Users\\Aleksey Ryabykin\\AppData\\Local\\Temp\\ipykernel_284956\\2963386934.py:8: FutureWarning: The default value of numeric_only in DataFrameGroupBy.mean is deprecated. In a future version, numeric_only will default to False. Either specify numeric_only or select only columns which should be valid for the function.\n",
      "  \"category_means\": dataset.groupby(dataset[column]).mean()[target_name]\n"
     ]
    },
    {
     "name": "stdout",
     "output_type": "stream",
     "text": [
      "Fold number: 3, loss: 254.67691728462458\n"
     ]
    },
    {
     "name": "stderr",
     "output_type": "stream",
     "text": [
      "C:\\Users\\Aleksey Ryabykin\\AppData\\Local\\Temp\\ipykernel_284956\\2963386934.py:8: FutureWarning: The default value of numeric_only in DataFrameGroupBy.mean is deprecated. In a future version, numeric_only will default to False. Either specify numeric_only or select only columns which should be valid for the function.\n",
      "  \"category_means\": dataset.groupby(dataset[column]).mean()[target_name]\n",
      "C:\\Users\\Aleksey Ryabykin\\AppData\\Local\\Temp\\ipykernel_284956\\2963386934.py:8: FutureWarning: The default value of numeric_only in DataFrameGroupBy.mean is deprecated. In a future version, numeric_only will default to False. Either specify numeric_only or select only columns which should be valid for the function.\n",
      "  \"category_means\": dataset.groupby(dataset[column]).mean()[target_name]\n"
     ]
    },
    {
     "name": "stdout",
     "output_type": "stream",
     "text": [
      "Fold number: 4, loss: 341.2311889040861\n"
     ]
    },
    {
     "name": "stderr",
     "output_type": "stream",
     "text": [
      "C:\\Users\\Aleksey Ryabykin\\AppData\\Local\\Temp\\ipykernel_284956\\2963386934.py:8: FutureWarning: The default value of numeric_only in DataFrameGroupBy.mean is deprecated. In a future version, numeric_only will default to False. Either specify numeric_only or select only columns which should be valid for the function.\n",
      "  \"category_means\": dataset.groupby(dataset[column]).mean()[target_name]\n",
      "C:\\Users\\Aleksey Ryabykin\\AppData\\Local\\Temp\\ipykernel_284956\\2963386934.py:8: FutureWarning: The default value of numeric_only in DataFrameGroupBy.mean is deprecated. In a future version, numeric_only will default to False. Either specify numeric_only or select only columns which should be valid for the function.\n",
      "  \"category_means\": dataset.groupby(dataset[column]).mean()[target_name]\n",
      "\u001b[32m[I 2022-12-21 00:59:24,666]\u001b[0m Trial 102 finished with value: 301.0118682063369 and parameters: {'x_0': 0.23152383882364047, 'x_1': 0.022923813346426347}. Best is trial 19 with value: 282.2052161524865.\u001b[0m\n"
     ]
    },
    {
     "name": "stdout",
     "output_type": "stream",
     "text": [
      "Fold number: 5, loss: 335.31583104160524\n",
      "Current weights: [0.20175255 0.02865388 0.76959357]\n"
     ]
    },
    {
     "name": "stderr",
     "output_type": "stream",
     "text": [
      "C:\\Users\\Aleksey Ryabykin\\AppData\\Local\\Temp\\ipykernel_284956\\2963386934.py:8: FutureWarning: The default value of numeric_only in DataFrameGroupBy.mean is deprecated. In a future version, numeric_only will default to False. Either specify numeric_only or select only columns which should be valid for the function.\n",
      "  \"category_means\": dataset.groupby(dataset[column]).mean()[target_name]\n",
      "C:\\Users\\Aleksey Ryabykin\\AppData\\Local\\Temp\\ipykernel_284956\\2963386934.py:8: FutureWarning: The default value of numeric_only in DataFrameGroupBy.mean is deprecated. In a future version, numeric_only will default to False. Either specify numeric_only or select only columns which should be valid for the function.\n",
      "  \"category_means\": dataset.groupby(dataset[column]).mean()[target_name]\n"
     ]
    },
    {
     "name": "stdout",
     "output_type": "stream",
     "text": [
      "Fold number: 1, loss: 282.1466817009255\n"
     ]
    },
    {
     "name": "stderr",
     "output_type": "stream",
     "text": [
      "C:\\Users\\Aleksey Ryabykin\\AppData\\Local\\Temp\\ipykernel_284956\\2963386934.py:8: FutureWarning: The default value of numeric_only in DataFrameGroupBy.mean is deprecated. In a future version, numeric_only will default to False. Either specify numeric_only or select only columns which should be valid for the function.\n",
      "  \"category_means\": dataset.groupby(dataset[column]).mean()[target_name]\n",
      "C:\\Users\\Aleksey Ryabykin\\AppData\\Local\\Temp\\ipykernel_284956\\2963386934.py:8: FutureWarning: The default value of numeric_only in DataFrameGroupBy.mean is deprecated. In a future version, numeric_only will default to False. Either specify numeric_only or select only columns which should be valid for the function.\n",
      "  \"category_means\": dataset.groupby(dataset[column]).mean()[target_name]\n"
     ]
    },
    {
     "name": "stdout",
     "output_type": "stream",
     "text": [
      "Fold number: 2, loss: 261.89963593301326\n"
     ]
    },
    {
     "name": "stderr",
     "output_type": "stream",
     "text": [
      "C:\\Users\\Aleksey Ryabykin\\AppData\\Local\\Temp\\ipykernel_284956\\2963386934.py:8: FutureWarning: The default value of numeric_only in DataFrameGroupBy.mean is deprecated. In a future version, numeric_only will default to False. Either specify numeric_only or select only columns which should be valid for the function.\n",
      "  \"category_means\": dataset.groupby(dataset[column]).mean()[target_name]\n",
      "C:\\Users\\Aleksey Ryabykin\\AppData\\Local\\Temp\\ipykernel_284956\\2963386934.py:8: FutureWarning: The default value of numeric_only in DataFrameGroupBy.mean is deprecated. In a future version, numeric_only will default to False. Either specify numeric_only or select only columns which should be valid for the function.\n",
      "  \"category_means\": dataset.groupby(dataset[column]).mean()[target_name]\n"
     ]
    },
    {
     "name": "stdout",
     "output_type": "stream",
     "text": [
      "Fold number: 3, loss: 313.9749756772555\n"
     ]
    },
    {
     "name": "stderr",
     "output_type": "stream",
     "text": [
      "C:\\Users\\Aleksey Ryabykin\\AppData\\Local\\Temp\\ipykernel_284956\\2963386934.py:8: FutureWarning: The default value of numeric_only in DataFrameGroupBy.mean is deprecated. In a future version, numeric_only will default to False. Either specify numeric_only or select only columns which should be valid for the function.\n",
      "  \"category_means\": dataset.groupby(dataset[column]).mean()[target_name]\n",
      "C:\\Users\\Aleksey Ryabykin\\AppData\\Local\\Temp\\ipykernel_284956\\2963386934.py:8: FutureWarning: The default value of numeric_only in DataFrameGroupBy.mean is deprecated. In a future version, numeric_only will default to False. Either specify numeric_only or select only columns which should be valid for the function.\n",
      "  \"category_means\": dataset.groupby(dataset[column]).mean()[target_name]\n"
     ]
    },
    {
     "name": "stdout",
     "output_type": "stream",
     "text": [
      "Fold number: 4, loss: 316.9214425017598\n"
     ]
    },
    {
     "name": "stderr",
     "output_type": "stream",
     "text": [
      "C:\\Users\\Aleksey Ryabykin\\AppData\\Local\\Temp\\ipykernel_284956\\2963386934.py:8: FutureWarning: The default value of numeric_only in DataFrameGroupBy.mean is deprecated. In a future version, numeric_only will default to False. Either specify numeric_only or select only columns which should be valid for the function.\n",
      "  \"category_means\": dataset.groupby(dataset[column]).mean()[target_name]\n",
      "C:\\Users\\Aleksey Ryabykin\\AppData\\Local\\Temp\\ipykernel_284956\\2963386934.py:8: FutureWarning: The default value of numeric_only in DataFrameGroupBy.mean is deprecated. In a future version, numeric_only will default to False. Either specify numeric_only or select only columns which should be valid for the function.\n",
      "  \"category_means\": dataset.groupby(dataset[column]).mean()[target_name]\n",
      "\u001b[32m[I 2022-12-21 00:59:44,549]\u001b[0m Trial 103 finished with value: 286.0231012614532 and parameters: {'x_0': 0.2017525473174348, 'x_1': 0.02865388442327293}. Best is trial 19 with value: 282.2052161524865.\u001b[0m\n"
     ]
    },
    {
     "name": "stdout",
     "output_type": "stream",
     "text": [
      "Fold number: 5, loss: 255.17277049431172\n",
      "Current weights: [0.25201638 0.01786827 0.73011535]\n"
     ]
    },
    {
     "name": "stderr",
     "output_type": "stream",
     "text": [
      "C:\\Users\\Aleksey Ryabykin\\AppData\\Local\\Temp\\ipykernel_284956\\2963386934.py:8: FutureWarning: The default value of numeric_only in DataFrameGroupBy.mean is deprecated. In a future version, numeric_only will default to False. Either specify numeric_only or select only columns which should be valid for the function.\n",
      "  \"category_means\": dataset.groupby(dataset[column]).mean()[target_name]\n",
      "C:\\Users\\Aleksey Ryabykin\\AppData\\Local\\Temp\\ipykernel_284956\\2963386934.py:8: FutureWarning: The default value of numeric_only in DataFrameGroupBy.mean is deprecated. In a future version, numeric_only will default to False. Either specify numeric_only or select only columns which should be valid for the function.\n",
      "  \"category_means\": dataset.groupby(dataset[column]).mean()[target_name]\n"
     ]
    },
    {
     "name": "stdout",
     "output_type": "stream",
     "text": [
      "Fold number: 1, loss: 309.29250736395517\n"
     ]
    },
    {
     "name": "stderr",
     "output_type": "stream",
     "text": [
      "C:\\Users\\Aleksey Ryabykin\\AppData\\Local\\Temp\\ipykernel_284956\\2963386934.py:8: FutureWarning: The default value of numeric_only in DataFrameGroupBy.mean is deprecated. In a future version, numeric_only will default to False. Either specify numeric_only or select only columns which should be valid for the function.\n",
      "  \"category_means\": dataset.groupby(dataset[column]).mean()[target_name]\n",
      "C:\\Users\\Aleksey Ryabykin\\AppData\\Local\\Temp\\ipykernel_284956\\2963386934.py:8: FutureWarning: The default value of numeric_only in DataFrameGroupBy.mean is deprecated. In a future version, numeric_only will default to False. Either specify numeric_only or select only columns which should be valid for the function.\n",
      "  \"category_means\": dataset.groupby(dataset[column]).mean()[target_name]\n"
     ]
    },
    {
     "name": "stdout",
     "output_type": "stream",
     "text": [
      "Fold number: 2, loss: 261.84853076523194\n"
     ]
    },
    {
     "name": "stderr",
     "output_type": "stream",
     "text": [
      "C:\\Users\\Aleksey Ryabykin\\AppData\\Local\\Temp\\ipykernel_284956\\2963386934.py:8: FutureWarning: The default value of numeric_only in DataFrameGroupBy.mean is deprecated. In a future version, numeric_only will default to False. Either specify numeric_only or select only columns which should be valid for the function.\n",
      "  \"category_means\": dataset.groupby(dataset[column]).mean()[target_name]\n",
      "C:\\Users\\Aleksey Ryabykin\\AppData\\Local\\Temp\\ipykernel_284956\\2963386934.py:8: FutureWarning: The default value of numeric_only in DataFrameGroupBy.mean is deprecated. In a future version, numeric_only will default to False. Either specify numeric_only or select only columns which should be valid for the function.\n",
      "  \"category_means\": dataset.groupby(dataset[column]).mean()[target_name]\n"
     ]
    },
    {
     "name": "stdout",
     "output_type": "stream",
     "text": [
      "Fold number: 3, loss: 299.0671323534588\n"
     ]
    },
    {
     "name": "stderr",
     "output_type": "stream",
     "text": [
      "C:\\Users\\Aleksey Ryabykin\\AppData\\Local\\Temp\\ipykernel_284956\\2963386934.py:8: FutureWarning: The default value of numeric_only in DataFrameGroupBy.mean is deprecated. In a future version, numeric_only will default to False. Either specify numeric_only or select only columns which should be valid for the function.\n",
      "  \"category_means\": dataset.groupby(dataset[column]).mean()[target_name]\n",
      "C:\\Users\\Aleksey Ryabykin\\AppData\\Local\\Temp\\ipykernel_284956\\2963386934.py:8: FutureWarning: The default value of numeric_only in DataFrameGroupBy.mean is deprecated. In a future version, numeric_only will default to False. Either specify numeric_only or select only columns which should be valid for the function.\n",
      "  \"category_means\": dataset.groupby(dataset[column]).mean()[target_name]\n"
     ]
    },
    {
     "name": "stdout",
     "output_type": "stream",
     "text": [
      "Fold number: 4, loss: 297.25121872004894\n"
     ]
    },
    {
     "name": "stderr",
     "output_type": "stream",
     "text": [
      "C:\\Users\\Aleksey Ryabykin\\AppData\\Local\\Temp\\ipykernel_284956\\2963386934.py:8: FutureWarning: The default value of numeric_only in DataFrameGroupBy.mean is deprecated. In a future version, numeric_only will default to False. Either specify numeric_only or select only columns which should be valid for the function.\n",
      "  \"category_means\": dataset.groupby(dataset[column]).mean()[target_name]\n",
      "C:\\Users\\Aleksey Ryabykin\\AppData\\Local\\Temp\\ipykernel_284956\\2963386934.py:8: FutureWarning: The default value of numeric_only in DataFrameGroupBy.mean is deprecated. In a future version, numeric_only will default to False. Either specify numeric_only or select only columns which should be valid for the function.\n",
      "  \"category_means\": dataset.groupby(dataset[column]).mean()[target_name]\n",
      "\u001b[32m[I 2022-12-21 01:00:03,909]\u001b[0m Trial 104 finished with value: 303.332079269571 and parameters: {'x_0': 0.25201637703249635, 'x_1': 0.01786826956674508}. Best is trial 19 with value: 282.2052161524865.\u001b[0m\n"
     ]
    },
    {
     "name": "stdout",
     "output_type": "stream",
     "text": [
      "Fold number: 5, loss: 349.20100714516013\n",
      "Current weights: [0.27966825 0.03196904 0.6883627 ]\n"
     ]
    },
    {
     "name": "stderr",
     "output_type": "stream",
     "text": [
      "C:\\Users\\Aleksey Ryabykin\\AppData\\Local\\Temp\\ipykernel_284956\\2963386934.py:8: FutureWarning: The default value of numeric_only in DataFrameGroupBy.mean is deprecated. In a future version, numeric_only will default to False. Either specify numeric_only or select only columns which should be valid for the function.\n",
      "  \"category_means\": dataset.groupby(dataset[column]).mean()[target_name]\n",
      "C:\\Users\\Aleksey Ryabykin\\AppData\\Local\\Temp\\ipykernel_284956\\2963386934.py:8: FutureWarning: The default value of numeric_only in DataFrameGroupBy.mean is deprecated. In a future version, numeric_only will default to False. Either specify numeric_only or select only columns which should be valid for the function.\n",
      "  \"category_means\": dataset.groupby(dataset[column]).mean()[target_name]\n"
     ]
    },
    {
     "name": "stdout",
     "output_type": "stream",
     "text": [
      "Fold number: 1, loss: 251.2092104071681\n"
     ]
    },
    {
     "name": "stderr",
     "output_type": "stream",
     "text": [
      "C:\\Users\\Aleksey Ryabykin\\AppData\\Local\\Temp\\ipykernel_284956\\2963386934.py:8: FutureWarning: The default value of numeric_only in DataFrameGroupBy.mean is deprecated. In a future version, numeric_only will default to False. Either specify numeric_only or select only columns which should be valid for the function.\n",
      "  \"category_means\": dataset.groupby(dataset[column]).mean()[target_name]\n",
      "C:\\Users\\Aleksey Ryabykin\\AppData\\Local\\Temp\\ipykernel_284956\\2963386934.py:8: FutureWarning: The default value of numeric_only in DataFrameGroupBy.mean is deprecated. In a future version, numeric_only will default to False. Either specify numeric_only or select only columns which should be valid for the function.\n",
      "  \"category_means\": dataset.groupby(dataset[column]).mean()[target_name]\n"
     ]
    },
    {
     "name": "stdout",
     "output_type": "stream",
     "text": [
      "Fold number: 2, loss: 273.03937290770983\n"
     ]
    },
    {
     "name": "stderr",
     "output_type": "stream",
     "text": [
      "C:\\Users\\Aleksey Ryabykin\\AppData\\Local\\Temp\\ipykernel_284956\\2963386934.py:8: FutureWarning: The default value of numeric_only in DataFrameGroupBy.mean is deprecated. In a future version, numeric_only will default to False. Either specify numeric_only or select only columns which should be valid for the function.\n",
      "  \"category_means\": dataset.groupby(dataset[column]).mean()[target_name]\n",
      "C:\\Users\\Aleksey Ryabykin\\AppData\\Local\\Temp\\ipykernel_284956\\2963386934.py:8: FutureWarning: The default value of numeric_only in DataFrameGroupBy.mean is deprecated. In a future version, numeric_only will default to False. Either specify numeric_only or select only columns which should be valid for the function.\n",
      "  \"category_means\": dataset.groupby(dataset[column]).mean()[target_name]\n"
     ]
    },
    {
     "name": "stdout",
     "output_type": "stream",
     "text": [
      "Fold number: 3, loss: 291.7635821312721\n"
     ]
    },
    {
     "name": "stderr",
     "output_type": "stream",
     "text": [
      "C:\\Users\\Aleksey Ryabykin\\AppData\\Local\\Temp\\ipykernel_284956\\2963386934.py:8: FutureWarning: The default value of numeric_only in DataFrameGroupBy.mean is deprecated. In a future version, numeric_only will default to False. Either specify numeric_only or select only columns which should be valid for the function.\n",
      "  \"category_means\": dataset.groupby(dataset[column]).mean()[target_name]\n",
      "C:\\Users\\Aleksey Ryabykin\\AppData\\Local\\Temp\\ipykernel_284956\\2963386934.py:8: FutureWarning: The default value of numeric_only in DataFrameGroupBy.mean is deprecated. In a future version, numeric_only will default to False. Either specify numeric_only or select only columns which should be valid for the function.\n",
      "  \"category_means\": dataset.groupby(dataset[column]).mean()[target_name]\n"
     ]
    },
    {
     "name": "stdout",
     "output_type": "stream",
     "text": [
      "Fold number: 4, loss: 334.56292581034864\n"
     ]
    },
    {
     "name": "stderr",
     "output_type": "stream",
     "text": [
      "C:\\Users\\Aleksey Ryabykin\\AppData\\Local\\Temp\\ipykernel_284956\\2963386934.py:8: FutureWarning: The default value of numeric_only in DataFrameGroupBy.mean is deprecated. In a future version, numeric_only will default to False. Either specify numeric_only or select only columns which should be valid for the function.\n",
      "  \"category_means\": dataset.groupby(dataset[column]).mean()[target_name]\n",
      "C:\\Users\\Aleksey Ryabykin\\AppData\\Local\\Temp\\ipykernel_284956\\2963386934.py:8: FutureWarning: The default value of numeric_only in DataFrameGroupBy.mean is deprecated. In a future version, numeric_only will default to False. Either specify numeric_only or select only columns which should be valid for the function.\n",
      "  \"category_means\": dataset.groupby(dataset[column]).mean()[target_name]\n",
      "\u001b[32m[I 2022-12-21 01:00:23,182]\u001b[0m Trial 105 finished with value: 290.5035683841197 and parameters: {'x_0': 0.2796682541499647, 'x_1': 0.03196904469947712}. Best is trial 19 with value: 282.2052161524865.\u001b[0m\n"
     ]
    },
    {
     "name": "stdout",
     "output_type": "stream",
     "text": [
      "Fold number: 5, loss: 301.9427506640999\n",
      "Current weights: [0.30875429 0.01691723 0.67432848]\n"
     ]
    },
    {
     "name": "stderr",
     "output_type": "stream",
     "text": [
      "C:\\Users\\Aleksey Ryabykin\\AppData\\Local\\Temp\\ipykernel_284956\\2963386934.py:8: FutureWarning: The default value of numeric_only in DataFrameGroupBy.mean is deprecated. In a future version, numeric_only will default to False. Either specify numeric_only or select only columns which should be valid for the function.\n",
      "  \"category_means\": dataset.groupby(dataset[column]).mean()[target_name]\n",
      "C:\\Users\\Aleksey Ryabykin\\AppData\\Local\\Temp\\ipykernel_284956\\2963386934.py:8: FutureWarning: The default value of numeric_only in DataFrameGroupBy.mean is deprecated. In a future version, numeric_only will default to False. Either specify numeric_only or select only columns which should be valid for the function.\n",
      "  \"category_means\": dataset.groupby(dataset[column]).mean()[target_name]\n"
     ]
    },
    {
     "name": "stdout",
     "output_type": "stream",
     "text": [
      "Fold number: 1, loss: 235.1155457476825\n"
     ]
    },
    {
     "name": "stderr",
     "output_type": "stream",
     "text": [
      "C:\\Users\\Aleksey Ryabykin\\AppData\\Local\\Temp\\ipykernel_284956\\2963386934.py:8: FutureWarning: The default value of numeric_only in DataFrameGroupBy.mean is deprecated. In a future version, numeric_only will default to False. Either specify numeric_only or select only columns which should be valid for the function.\n",
      "  \"category_means\": dataset.groupby(dataset[column]).mean()[target_name]\n",
      "C:\\Users\\Aleksey Ryabykin\\AppData\\Local\\Temp\\ipykernel_284956\\2963386934.py:8: FutureWarning: The default value of numeric_only in DataFrameGroupBy.mean is deprecated. In a future version, numeric_only will default to False. Either specify numeric_only or select only columns which should be valid for the function.\n",
      "  \"category_means\": dataset.groupby(dataset[column]).mean()[target_name]\n"
     ]
    },
    {
     "name": "stdout",
     "output_type": "stream",
     "text": [
      "Fold number: 2, loss: 380.8470603007965\n"
     ]
    },
    {
     "name": "stderr",
     "output_type": "stream",
     "text": [
      "C:\\Users\\Aleksey Ryabykin\\AppData\\Local\\Temp\\ipykernel_284956\\2963386934.py:8: FutureWarning: The default value of numeric_only in DataFrameGroupBy.mean is deprecated. In a future version, numeric_only will default to False. Either specify numeric_only or select only columns which should be valid for the function.\n",
      "  \"category_means\": dataset.groupby(dataset[column]).mean()[target_name]\n",
      "C:\\Users\\Aleksey Ryabykin\\AppData\\Local\\Temp\\ipykernel_284956\\2963386934.py:8: FutureWarning: The default value of numeric_only in DataFrameGroupBy.mean is deprecated. In a future version, numeric_only will default to False. Either specify numeric_only or select only columns which should be valid for the function.\n",
      "  \"category_means\": dataset.groupby(dataset[column]).mean()[target_name]\n"
     ]
    },
    {
     "name": "stdout",
     "output_type": "stream",
     "text": [
      "Fold number: 3, loss: 302.0953611777294\n"
     ]
    },
    {
     "name": "stderr",
     "output_type": "stream",
     "text": [
      "C:\\Users\\Aleksey Ryabykin\\AppData\\Local\\Temp\\ipykernel_284956\\2963386934.py:8: FutureWarning: The default value of numeric_only in DataFrameGroupBy.mean is deprecated. In a future version, numeric_only will default to False. Either specify numeric_only or select only columns which should be valid for the function.\n",
      "  \"category_means\": dataset.groupby(dataset[column]).mean()[target_name]\n",
      "C:\\Users\\Aleksey Ryabykin\\AppData\\Local\\Temp\\ipykernel_284956\\2963386934.py:8: FutureWarning: The default value of numeric_only in DataFrameGroupBy.mean is deprecated. In a future version, numeric_only will default to False. Either specify numeric_only or select only columns which should be valid for the function.\n",
      "  \"category_means\": dataset.groupby(dataset[column]).mean()[target_name]\n"
     ]
    },
    {
     "name": "stdout",
     "output_type": "stream",
     "text": [
      "Fold number: 4, loss: 303.15036602607853\n"
     ]
    },
    {
     "name": "stderr",
     "output_type": "stream",
     "text": [
      "C:\\Users\\Aleksey Ryabykin\\AppData\\Local\\Temp\\ipykernel_284956\\2963386934.py:8: FutureWarning: The default value of numeric_only in DataFrameGroupBy.mean is deprecated. In a future version, numeric_only will default to False. Either specify numeric_only or select only columns which should be valid for the function.\n",
      "  \"category_means\": dataset.groupby(dataset[column]).mean()[target_name]\n",
      "C:\\Users\\Aleksey Ryabykin\\AppData\\Local\\Temp\\ipykernel_284956\\2963386934.py:8: FutureWarning: The default value of numeric_only in DataFrameGroupBy.mean is deprecated. In a future version, numeric_only will default to False. Either specify numeric_only or select only columns which should be valid for the function.\n",
      "  \"category_means\": dataset.groupby(dataset[column]).mean()[target_name]\n",
      "\u001b[32m[I 2022-12-21 01:00:43,430]\u001b[0m Trial 106 finished with value: 301.3198634438748 and parameters: {'x_0': 0.30875429087919287, 'x_1': 0.016917227129030016}. Best is trial 19 with value: 282.2052161524865.\u001b[0m\n"
     ]
    },
    {
     "name": "stdout",
     "output_type": "stream",
     "text": [
      "Fold number: 5, loss: 285.3909839670871\n",
      "Current weights: [0.20668595 0.07019315 0.7231209 ]\n"
     ]
    },
    {
     "name": "stderr",
     "output_type": "stream",
     "text": [
      "C:\\Users\\Aleksey Ryabykin\\AppData\\Local\\Temp\\ipykernel_284956\\2963386934.py:8: FutureWarning: The default value of numeric_only in DataFrameGroupBy.mean is deprecated. In a future version, numeric_only will default to False. Either specify numeric_only or select only columns which should be valid for the function.\n",
      "  \"category_means\": dataset.groupby(dataset[column]).mean()[target_name]\n",
      "C:\\Users\\Aleksey Ryabykin\\AppData\\Local\\Temp\\ipykernel_284956\\2963386934.py:8: FutureWarning: The default value of numeric_only in DataFrameGroupBy.mean is deprecated. In a future version, numeric_only will default to False. Either specify numeric_only or select only columns which should be valid for the function.\n",
      "  \"category_means\": dataset.groupby(dataset[column]).mean()[target_name]\n"
     ]
    },
    {
     "name": "stdout",
     "output_type": "stream",
     "text": [
      "Fold number: 1, loss: 276.21638876020535\n"
     ]
    },
    {
     "name": "stderr",
     "output_type": "stream",
     "text": [
      "C:\\Users\\Aleksey Ryabykin\\AppData\\Local\\Temp\\ipykernel_284956\\2963386934.py:8: FutureWarning: The default value of numeric_only in DataFrameGroupBy.mean is deprecated. In a future version, numeric_only will default to False. Either specify numeric_only or select only columns which should be valid for the function.\n",
      "  \"category_means\": dataset.groupby(dataset[column]).mean()[target_name]\n",
      "C:\\Users\\Aleksey Ryabykin\\AppData\\Local\\Temp\\ipykernel_284956\\2963386934.py:8: FutureWarning: The default value of numeric_only in DataFrameGroupBy.mean is deprecated. In a future version, numeric_only will default to False. Either specify numeric_only or select only columns which should be valid for the function.\n",
      "  \"category_means\": dataset.groupby(dataset[column]).mean()[target_name]\n"
     ]
    },
    {
     "name": "stdout",
     "output_type": "stream",
     "text": [
      "Fold number: 2, loss: 306.50194314661894\n"
     ]
    },
    {
     "name": "stderr",
     "output_type": "stream",
     "text": [
      "C:\\Users\\Aleksey Ryabykin\\AppData\\Local\\Temp\\ipykernel_284956\\2963386934.py:8: FutureWarning: The default value of numeric_only in DataFrameGroupBy.mean is deprecated. In a future version, numeric_only will default to False. Either specify numeric_only or select only columns which should be valid for the function.\n",
      "  \"category_means\": dataset.groupby(dataset[column]).mean()[target_name]\n",
      "C:\\Users\\Aleksey Ryabykin\\AppData\\Local\\Temp\\ipykernel_284956\\2963386934.py:8: FutureWarning: The default value of numeric_only in DataFrameGroupBy.mean is deprecated. In a future version, numeric_only will default to False. Either specify numeric_only or select only columns which should be valid for the function.\n",
      "  \"category_means\": dataset.groupby(dataset[column]).mean()[target_name]\n"
     ]
    },
    {
     "name": "stdout",
     "output_type": "stream",
     "text": [
      "Fold number: 3, loss: 373.35921809975764\n"
     ]
    },
    {
     "name": "stderr",
     "output_type": "stream",
     "text": [
      "C:\\Users\\Aleksey Ryabykin\\AppData\\Local\\Temp\\ipykernel_284956\\2963386934.py:8: FutureWarning: The default value of numeric_only in DataFrameGroupBy.mean is deprecated. In a future version, numeric_only will default to False. Either specify numeric_only or select only columns which should be valid for the function.\n",
      "  \"category_means\": dataset.groupby(dataset[column]).mean()[target_name]\n",
      "C:\\Users\\Aleksey Ryabykin\\AppData\\Local\\Temp\\ipykernel_284956\\2963386934.py:8: FutureWarning: The default value of numeric_only in DataFrameGroupBy.mean is deprecated. In a future version, numeric_only will default to False. Either specify numeric_only or select only columns which should be valid for the function.\n",
      "  \"category_means\": dataset.groupby(dataset[column]).mean()[target_name]\n"
     ]
    },
    {
     "name": "stdout",
     "output_type": "stream",
     "text": [
      "Fold number: 4, loss: 269.1241738051605\n"
     ]
    },
    {
     "name": "stderr",
     "output_type": "stream",
     "text": [
      "C:\\Users\\Aleksey Ryabykin\\AppData\\Local\\Temp\\ipykernel_284956\\2963386934.py:8: FutureWarning: The default value of numeric_only in DataFrameGroupBy.mean is deprecated. In a future version, numeric_only will default to False. Either specify numeric_only or select only columns which should be valid for the function.\n",
      "  \"category_means\": dataset.groupby(dataset[column]).mean()[target_name]\n",
      "C:\\Users\\Aleksey Ryabykin\\AppData\\Local\\Temp\\ipykernel_284956\\2963386934.py:8: FutureWarning: The default value of numeric_only in DataFrameGroupBy.mean is deprecated. In a future version, numeric_only will default to False. Either specify numeric_only or select only columns which should be valid for the function.\n",
      "  \"category_means\": dataset.groupby(dataset[column]).mean()[target_name]\n",
      "\u001b[32m[I 2022-12-21 01:01:03,659]\u001b[0m Trial 107 finished with value: 313.8847427129773 and parameters: {'x_0': 0.20668595190058517, 'x_1': 0.07019314799294987}. Best is trial 19 with value: 282.2052161524865.\u001b[0m\n"
     ]
    },
    {
     "name": "stdout",
     "output_type": "stream",
     "text": [
      "Fold number: 5, loss: 344.221989753144\n",
      "Current weights: [0.18215662 0.06597187 0.75187151]\n"
     ]
    },
    {
     "name": "stderr",
     "output_type": "stream",
     "text": [
      "C:\\Users\\Aleksey Ryabykin\\AppData\\Local\\Temp\\ipykernel_284956\\2963386934.py:8: FutureWarning: The default value of numeric_only in DataFrameGroupBy.mean is deprecated. In a future version, numeric_only will default to False. Either specify numeric_only or select only columns which should be valid for the function.\n",
      "  \"category_means\": dataset.groupby(dataset[column]).mean()[target_name]\n",
      "C:\\Users\\Aleksey Ryabykin\\AppData\\Local\\Temp\\ipykernel_284956\\2963386934.py:8: FutureWarning: The default value of numeric_only in DataFrameGroupBy.mean is deprecated. In a future version, numeric_only will default to False. Either specify numeric_only or select only columns which should be valid for the function.\n",
      "  \"category_means\": dataset.groupby(dataset[column]).mean()[target_name]\n"
     ]
    },
    {
     "name": "stdout",
     "output_type": "stream",
     "text": [
      "Fold number: 1, loss: 313.3078032861418\n"
     ]
    },
    {
     "name": "stderr",
     "output_type": "stream",
     "text": [
      "C:\\Users\\Aleksey Ryabykin\\AppData\\Local\\Temp\\ipykernel_284956\\2963386934.py:8: FutureWarning: The default value of numeric_only in DataFrameGroupBy.mean is deprecated. In a future version, numeric_only will default to False. Either specify numeric_only or select only columns which should be valid for the function.\n",
      "  \"category_means\": dataset.groupby(dataset[column]).mean()[target_name]\n",
      "C:\\Users\\Aleksey Ryabykin\\AppData\\Local\\Temp\\ipykernel_284956\\2963386934.py:8: FutureWarning: The default value of numeric_only in DataFrameGroupBy.mean is deprecated. In a future version, numeric_only will default to False. Either specify numeric_only or select only columns which should be valid for the function.\n",
      "  \"category_means\": dataset.groupby(dataset[column]).mean()[target_name]\n"
     ]
    },
    {
     "name": "stdout",
     "output_type": "stream",
     "text": [
      "Fold number: 2, loss: 300.13556172227027\n"
     ]
    },
    {
     "name": "stderr",
     "output_type": "stream",
     "text": [
      "C:\\Users\\Aleksey Ryabykin\\AppData\\Local\\Temp\\ipykernel_284956\\2963386934.py:8: FutureWarning: The default value of numeric_only in DataFrameGroupBy.mean is deprecated. In a future version, numeric_only will default to False. Either specify numeric_only or select only columns which should be valid for the function.\n",
      "  \"category_means\": dataset.groupby(dataset[column]).mean()[target_name]\n",
      "C:\\Users\\Aleksey Ryabykin\\AppData\\Local\\Temp\\ipykernel_284956\\2963386934.py:8: FutureWarning: The default value of numeric_only in DataFrameGroupBy.mean is deprecated. In a future version, numeric_only will default to False. Either specify numeric_only or select only columns which should be valid for the function.\n",
      "  \"category_means\": dataset.groupby(dataset[column]).mean()[target_name]\n"
     ]
    },
    {
     "name": "stdout",
     "output_type": "stream",
     "text": [
      "Fold number: 3, loss: 324.65093178239067\n"
     ]
    },
    {
     "name": "stderr",
     "output_type": "stream",
     "text": [
      "C:\\Users\\Aleksey Ryabykin\\AppData\\Local\\Temp\\ipykernel_284956\\2963386934.py:8: FutureWarning: The default value of numeric_only in DataFrameGroupBy.mean is deprecated. In a future version, numeric_only will default to False. Either specify numeric_only or select only columns which should be valid for the function.\n",
      "  \"category_means\": dataset.groupby(dataset[column]).mean()[target_name]\n",
      "C:\\Users\\Aleksey Ryabykin\\AppData\\Local\\Temp\\ipykernel_284956\\2963386934.py:8: FutureWarning: The default value of numeric_only in DataFrameGroupBy.mean is deprecated. In a future version, numeric_only will default to False. Either specify numeric_only or select only columns which should be valid for the function.\n",
      "  \"category_means\": dataset.groupby(dataset[column]).mean()[target_name]\n"
     ]
    },
    {
     "name": "stdout",
     "output_type": "stream",
     "text": [
      "Fold number: 4, loss: 280.6295515654562\n"
     ]
    },
    {
     "name": "stderr",
     "output_type": "stream",
     "text": [
      "C:\\Users\\Aleksey Ryabykin\\AppData\\Local\\Temp\\ipykernel_284956\\2963386934.py:8: FutureWarning: The default value of numeric_only in DataFrameGroupBy.mean is deprecated. In a future version, numeric_only will default to False. Either specify numeric_only or select only columns which should be valid for the function.\n",
      "  \"category_means\": dataset.groupby(dataset[column]).mean()[target_name]\n",
      "C:\\Users\\Aleksey Ryabykin\\AppData\\Local\\Temp\\ipykernel_284956\\2963386934.py:8: FutureWarning: The default value of numeric_only in DataFrameGroupBy.mean is deprecated. In a future version, numeric_only will default to False. Either specify numeric_only or select only columns which should be valid for the function.\n",
      "  \"category_means\": dataset.groupby(dataset[column]).mean()[target_name]\n",
      "\u001b[32m[I 2022-12-21 01:01:24,125]\u001b[0m Trial 108 finished with value: 301.93906808708647 and parameters: {'x_0': 0.18215662380435932, 'x_1': 0.06597186764299233}. Best is trial 19 with value: 282.2052161524865.\u001b[0m\n"
     ]
    },
    {
     "name": "stdout",
     "output_type": "stream",
     "text": [
      "Fold number: 5, loss: 290.97149207917346\n",
      "Current weights: [0.24163568 0.02881223 0.72955209]\n"
     ]
    },
    {
     "name": "stderr",
     "output_type": "stream",
     "text": [
      "C:\\Users\\Aleksey Ryabykin\\AppData\\Local\\Temp\\ipykernel_284956\\2963386934.py:8: FutureWarning: The default value of numeric_only in DataFrameGroupBy.mean is deprecated. In a future version, numeric_only will default to False. Either specify numeric_only or select only columns which should be valid for the function.\n",
      "  \"category_means\": dataset.groupby(dataset[column]).mean()[target_name]\n",
      "C:\\Users\\Aleksey Ryabykin\\AppData\\Local\\Temp\\ipykernel_284956\\2963386934.py:8: FutureWarning: The default value of numeric_only in DataFrameGroupBy.mean is deprecated. In a future version, numeric_only will default to False. Either specify numeric_only or select only columns which should be valid for the function.\n",
      "  \"category_means\": dataset.groupby(dataset[column]).mean()[target_name]\n"
     ]
    },
    {
     "name": "stdout",
     "output_type": "stream",
     "text": [
      "Fold number: 1, loss: 275.632153490274\n"
     ]
    },
    {
     "name": "stderr",
     "output_type": "stream",
     "text": [
      "C:\\Users\\Aleksey Ryabykin\\AppData\\Local\\Temp\\ipykernel_284956\\2963386934.py:8: FutureWarning: The default value of numeric_only in DataFrameGroupBy.mean is deprecated. In a future version, numeric_only will default to False. Either specify numeric_only or select only columns which should be valid for the function.\n",
      "  \"category_means\": dataset.groupby(dataset[column]).mean()[target_name]\n",
      "C:\\Users\\Aleksey Ryabykin\\AppData\\Local\\Temp\\ipykernel_284956\\2963386934.py:8: FutureWarning: The default value of numeric_only in DataFrameGroupBy.mean is deprecated. In a future version, numeric_only will default to False. Either specify numeric_only or select only columns which should be valid for the function.\n",
      "  \"category_means\": dataset.groupby(dataset[column]).mean()[target_name]\n"
     ]
    },
    {
     "name": "stdout",
     "output_type": "stream",
     "text": [
      "Fold number: 2, loss: 301.182155777101\n"
     ]
    },
    {
     "name": "stderr",
     "output_type": "stream",
     "text": [
      "C:\\Users\\Aleksey Ryabykin\\AppData\\Local\\Temp\\ipykernel_284956\\2963386934.py:8: FutureWarning: The default value of numeric_only in DataFrameGroupBy.mean is deprecated. In a future version, numeric_only will default to False. Either specify numeric_only or select only columns which should be valid for the function.\n",
      "  \"category_means\": dataset.groupby(dataset[column]).mean()[target_name]\n",
      "C:\\Users\\Aleksey Ryabykin\\AppData\\Local\\Temp\\ipykernel_284956\\2963386934.py:8: FutureWarning: The default value of numeric_only in DataFrameGroupBy.mean is deprecated. In a future version, numeric_only will default to False. Either specify numeric_only or select only columns which should be valid for the function.\n",
      "  \"category_means\": dataset.groupby(dataset[column]).mean()[target_name]\n"
     ]
    },
    {
     "name": "stdout",
     "output_type": "stream",
     "text": [
      "Fold number: 3, loss: 305.937523416694\n"
     ]
    },
    {
     "name": "stderr",
     "output_type": "stream",
     "text": [
      "C:\\Users\\Aleksey Ryabykin\\AppData\\Local\\Temp\\ipykernel_284956\\2963386934.py:8: FutureWarning: The default value of numeric_only in DataFrameGroupBy.mean is deprecated. In a future version, numeric_only will default to False. Either specify numeric_only or select only columns which should be valid for the function.\n",
      "  \"category_means\": dataset.groupby(dataset[column]).mean()[target_name]\n",
      "C:\\Users\\Aleksey Ryabykin\\AppData\\Local\\Temp\\ipykernel_284956\\2963386934.py:8: FutureWarning: The default value of numeric_only in DataFrameGroupBy.mean is deprecated. In a future version, numeric_only will default to False. Either specify numeric_only or select only columns which should be valid for the function.\n",
      "  \"category_means\": dataset.groupby(dataset[column]).mean()[target_name]\n"
     ]
    },
    {
     "name": "stdout",
     "output_type": "stream",
     "text": [
      "Fold number: 4, loss: 306.1084011196568\n"
     ]
    },
    {
     "name": "stderr",
     "output_type": "stream",
     "text": [
      "C:\\Users\\Aleksey Ryabykin\\AppData\\Local\\Temp\\ipykernel_284956\\2963386934.py:8: FutureWarning: The default value of numeric_only in DataFrameGroupBy.mean is deprecated. In a future version, numeric_only will default to False. Either specify numeric_only or select only columns which should be valid for the function.\n",
      "  \"category_means\": dataset.groupby(dataset[column]).mean()[target_name]\n",
      "C:\\Users\\Aleksey Ryabykin\\AppData\\Local\\Temp\\ipykernel_284956\\2963386934.py:8: FutureWarning: The default value of numeric_only in DataFrameGroupBy.mean is deprecated. In a future version, numeric_only will default to False. Either specify numeric_only or select only columns which should be valid for the function.\n",
      "  \"category_means\": dataset.groupby(dataset[column]).mean()[target_name]\n",
      "\u001b[32m[I 2022-12-21 01:01:44,575]\u001b[0m Trial 109 finished with value: 295.52907527116906 and parameters: {'x_0': 0.24163567938011932, 'x_1': 0.028812225811953657}. Best is trial 19 with value: 282.2052161524865.\u001b[0m\n"
     ]
    },
    {
     "name": "stdout",
     "output_type": "stream",
     "text": [
      "Fold number: 5, loss: 288.78514255211957\n",
      "Current weights: [0.19814896 0.04330561 0.75854543]\n"
     ]
    },
    {
     "name": "stderr",
     "output_type": "stream",
     "text": [
      "C:\\Users\\Aleksey Ryabykin\\AppData\\Local\\Temp\\ipykernel_284956\\2963386934.py:8: FutureWarning: The default value of numeric_only in DataFrameGroupBy.mean is deprecated. In a future version, numeric_only will default to False. Either specify numeric_only or select only columns which should be valid for the function.\n",
      "  \"category_means\": dataset.groupby(dataset[column]).mean()[target_name]\n",
      "C:\\Users\\Aleksey Ryabykin\\AppData\\Local\\Temp\\ipykernel_284956\\2963386934.py:8: FutureWarning: The default value of numeric_only in DataFrameGroupBy.mean is deprecated. In a future version, numeric_only will default to False. Either specify numeric_only or select only columns which should be valid for the function.\n",
      "  \"category_means\": dataset.groupby(dataset[column]).mean()[target_name]\n"
     ]
    },
    {
     "name": "stdout",
     "output_type": "stream",
     "text": [
      "Fold number: 1, loss: 335.31175696537855\n"
     ]
    },
    {
     "name": "stderr",
     "output_type": "stream",
     "text": [
      "C:\\Users\\Aleksey Ryabykin\\AppData\\Local\\Temp\\ipykernel_284956\\2963386934.py:8: FutureWarning: The default value of numeric_only in DataFrameGroupBy.mean is deprecated. In a future version, numeric_only will default to False. Either specify numeric_only or select only columns which should be valid for the function.\n",
      "  \"category_means\": dataset.groupby(dataset[column]).mean()[target_name]\n",
      "C:\\Users\\Aleksey Ryabykin\\AppData\\Local\\Temp\\ipykernel_284956\\2963386934.py:8: FutureWarning: The default value of numeric_only in DataFrameGroupBy.mean is deprecated. In a future version, numeric_only will default to False. Either specify numeric_only or select only columns which should be valid for the function.\n",
      "  \"category_means\": dataset.groupby(dataset[column]).mean()[target_name]\n"
     ]
    },
    {
     "name": "stdout",
     "output_type": "stream",
     "text": [
      "Fold number: 2, loss: 231.7445464409927\n"
     ]
    },
    {
     "name": "stderr",
     "output_type": "stream",
     "text": [
      "C:\\Users\\Aleksey Ryabykin\\AppData\\Local\\Temp\\ipykernel_284956\\2963386934.py:8: FutureWarning: The default value of numeric_only in DataFrameGroupBy.mean is deprecated. In a future version, numeric_only will default to False. Either specify numeric_only or select only columns which should be valid for the function.\n",
      "  \"category_means\": dataset.groupby(dataset[column]).mean()[target_name]\n",
      "C:\\Users\\Aleksey Ryabykin\\AppData\\Local\\Temp\\ipykernel_284956\\2963386934.py:8: FutureWarning: The default value of numeric_only in DataFrameGroupBy.mean is deprecated. In a future version, numeric_only will default to False. Either specify numeric_only or select only columns which should be valid for the function.\n",
      "  \"category_means\": dataset.groupby(dataset[column]).mean()[target_name]\n"
     ]
    },
    {
     "name": "stdout",
     "output_type": "stream",
     "text": [
      "Fold number: 3, loss: 287.09785669342466\n"
     ]
    },
    {
     "name": "stderr",
     "output_type": "stream",
     "text": [
      "C:\\Users\\Aleksey Ryabykin\\AppData\\Local\\Temp\\ipykernel_284956\\2963386934.py:8: FutureWarning: The default value of numeric_only in DataFrameGroupBy.mean is deprecated. In a future version, numeric_only will default to False. Either specify numeric_only or select only columns which should be valid for the function.\n",
      "  \"category_means\": dataset.groupby(dataset[column]).mean()[target_name]\n",
      "C:\\Users\\Aleksey Ryabykin\\AppData\\Local\\Temp\\ipykernel_284956\\2963386934.py:8: FutureWarning: The default value of numeric_only in DataFrameGroupBy.mean is deprecated. In a future version, numeric_only will default to False. Either specify numeric_only or select only columns which should be valid for the function.\n",
      "  \"category_means\": dataset.groupby(dataset[column]).mean()[target_name]\n"
     ]
    },
    {
     "name": "stdout",
     "output_type": "stream",
     "text": [
      "Fold number: 4, loss: 340.6031107917425\n"
     ]
    },
    {
     "name": "stderr",
     "output_type": "stream",
     "text": [
      "C:\\Users\\Aleksey Ryabykin\\AppData\\Local\\Temp\\ipykernel_284956\\2963386934.py:8: FutureWarning: The default value of numeric_only in DataFrameGroupBy.mean is deprecated. In a future version, numeric_only will default to False. Either specify numeric_only or select only columns which should be valid for the function.\n",
      "  \"category_means\": dataset.groupby(dataset[column]).mean()[target_name]\n",
      "C:\\Users\\Aleksey Ryabykin\\AppData\\Local\\Temp\\ipykernel_284956\\2963386934.py:8: FutureWarning: The default value of numeric_only in DataFrameGroupBy.mean is deprecated. In a future version, numeric_only will default to False. Either specify numeric_only or select only columns which should be valid for the function.\n",
      "  \"category_means\": dataset.groupby(dataset[column]).mean()[target_name]\n",
      "\u001b[32m[I 2022-12-21 01:02:06,331]\u001b[0m Trial 110 finished with value: 295.2748383324465 and parameters: {'x_0': 0.19814895941224545, 'x_1': 0.04330561294534458}. Best is trial 19 with value: 282.2052161524865.\u001b[0m\n"
     ]
    },
    {
     "name": "stdout",
     "output_type": "stream",
     "text": [
      "Fold number: 5, loss: 281.61692077069426\n",
      "Current weights: [0.22394587 0.01418197 0.76187216]\n"
     ]
    },
    {
     "name": "stderr",
     "output_type": "stream",
     "text": [
      "C:\\Users\\Aleksey Ryabykin\\AppData\\Local\\Temp\\ipykernel_284956\\2963386934.py:8: FutureWarning: The default value of numeric_only in DataFrameGroupBy.mean is deprecated. In a future version, numeric_only will default to False. Either specify numeric_only or select only columns which should be valid for the function.\n",
      "  \"category_means\": dataset.groupby(dataset[column]).mean()[target_name]\n",
      "C:\\Users\\Aleksey Ryabykin\\AppData\\Local\\Temp\\ipykernel_284956\\2963386934.py:8: FutureWarning: The default value of numeric_only in DataFrameGroupBy.mean is deprecated. In a future version, numeric_only will default to False. Either specify numeric_only or select only columns which should be valid for the function.\n",
      "  \"category_means\": dataset.groupby(dataset[column]).mean()[target_name]\n"
     ]
    },
    {
     "name": "stdout",
     "output_type": "stream",
     "text": [
      "Fold number: 1, loss: 279.05874116404266\n"
     ]
    },
    {
     "name": "stderr",
     "output_type": "stream",
     "text": [
      "C:\\Users\\Aleksey Ryabykin\\AppData\\Local\\Temp\\ipykernel_284956\\2963386934.py:8: FutureWarning: The default value of numeric_only in DataFrameGroupBy.mean is deprecated. In a future version, numeric_only will default to False. Either specify numeric_only or select only columns which should be valid for the function.\n",
      "  \"category_means\": dataset.groupby(dataset[column]).mean()[target_name]\n",
      "C:\\Users\\Aleksey Ryabykin\\AppData\\Local\\Temp\\ipykernel_284956\\2963386934.py:8: FutureWarning: The default value of numeric_only in DataFrameGroupBy.mean is deprecated. In a future version, numeric_only will default to False. Either specify numeric_only or select only columns which should be valid for the function.\n",
      "  \"category_means\": dataset.groupby(dataset[column]).mean()[target_name]\n"
     ]
    },
    {
     "name": "stdout",
     "output_type": "stream",
     "text": [
      "Fold number: 2, loss: 267.0922182797818\n"
     ]
    },
    {
     "name": "stderr",
     "output_type": "stream",
     "text": [
      "C:\\Users\\Aleksey Ryabykin\\AppData\\Local\\Temp\\ipykernel_284956\\2963386934.py:8: FutureWarning: The default value of numeric_only in DataFrameGroupBy.mean is deprecated. In a future version, numeric_only will default to False. Either specify numeric_only or select only columns which should be valid for the function.\n",
      "  \"category_means\": dataset.groupby(dataset[column]).mean()[target_name]\n",
      "C:\\Users\\Aleksey Ryabykin\\AppData\\Local\\Temp\\ipykernel_284956\\2963386934.py:8: FutureWarning: The default value of numeric_only in DataFrameGroupBy.mean is deprecated. In a future version, numeric_only will default to False. Either specify numeric_only or select only columns which should be valid for the function.\n",
      "  \"category_means\": dataset.groupby(dataset[column]).mean()[target_name]\n"
     ]
    },
    {
     "name": "stdout",
     "output_type": "stream",
     "text": [
      "Fold number: 3, loss: 255.594973933894\n"
     ]
    },
    {
     "name": "stderr",
     "output_type": "stream",
     "text": [
      "C:\\Users\\Aleksey Ryabykin\\AppData\\Local\\Temp\\ipykernel_284956\\2963386934.py:8: FutureWarning: The default value of numeric_only in DataFrameGroupBy.mean is deprecated. In a future version, numeric_only will default to False. Either specify numeric_only or select only columns which should be valid for the function.\n",
      "  \"category_means\": dataset.groupby(dataset[column]).mean()[target_name]\n",
      "C:\\Users\\Aleksey Ryabykin\\AppData\\Local\\Temp\\ipykernel_284956\\2963386934.py:8: FutureWarning: The default value of numeric_only in DataFrameGroupBy.mean is deprecated. In a future version, numeric_only will default to False. Either specify numeric_only or select only columns which should be valid for the function.\n",
      "  \"category_means\": dataset.groupby(dataset[column]).mean()[target_name]\n"
     ]
    },
    {
     "name": "stdout",
     "output_type": "stream",
     "text": [
      "Fold number: 4, loss: 270.5188504881375\n"
     ]
    },
    {
     "name": "stderr",
     "output_type": "stream",
     "text": [
      "C:\\Users\\Aleksey Ryabykin\\AppData\\Local\\Temp\\ipykernel_284956\\2963386934.py:8: FutureWarning: The default value of numeric_only in DataFrameGroupBy.mean is deprecated. In a future version, numeric_only will default to False. Either specify numeric_only or select only columns which should be valid for the function.\n",
      "  \"category_means\": dataset.groupby(dataset[column]).mean()[target_name]\n",
      "C:\\Users\\Aleksey Ryabykin\\AppData\\Local\\Temp\\ipykernel_284956\\2963386934.py:8: FutureWarning: The default value of numeric_only in DataFrameGroupBy.mean is deprecated. In a future version, numeric_only will default to False. Either specify numeric_only or select only columns which should be valid for the function.\n",
      "  \"category_means\": dataset.groupby(dataset[column]).mean()[target_name]\n",
      "\u001b[32m[I 2022-12-21 01:02:27,334]\u001b[0m Trial 111 finished with value: 286.86267739409783 and parameters: {'x_0': 0.22394587114752498, 'x_1': 0.01418196861958149}. Best is trial 19 with value: 282.2052161524865.\u001b[0m\n"
     ]
    },
    {
     "name": "stdout",
     "output_type": "stream",
     "text": [
      "Fold number: 5, loss: 362.04860310463323\n",
      "Current weights: [0.25832169 0.01093137 0.73074695]\n"
     ]
    },
    {
     "name": "stderr",
     "output_type": "stream",
     "text": [
      "C:\\Users\\Aleksey Ryabykin\\AppData\\Local\\Temp\\ipykernel_284956\\2963386934.py:8: FutureWarning: The default value of numeric_only in DataFrameGroupBy.mean is deprecated. In a future version, numeric_only will default to False. Either specify numeric_only or select only columns which should be valid for the function.\n",
      "  \"category_means\": dataset.groupby(dataset[column]).mean()[target_name]\n",
      "C:\\Users\\Aleksey Ryabykin\\AppData\\Local\\Temp\\ipykernel_284956\\2963386934.py:8: FutureWarning: The default value of numeric_only in DataFrameGroupBy.mean is deprecated. In a future version, numeric_only will default to False. Either specify numeric_only or select only columns which should be valid for the function.\n",
      "  \"category_means\": dataset.groupby(dataset[column]).mean()[target_name]\n"
     ]
    },
    {
     "name": "stdout",
     "output_type": "stream",
     "text": [
      "Fold number: 1, loss: 324.04850049027397\n"
     ]
    },
    {
     "name": "stderr",
     "output_type": "stream",
     "text": [
      "C:\\Users\\Aleksey Ryabykin\\AppData\\Local\\Temp\\ipykernel_284956\\2963386934.py:8: FutureWarning: The default value of numeric_only in DataFrameGroupBy.mean is deprecated. In a future version, numeric_only will default to False. Either specify numeric_only or select only columns which should be valid for the function.\n",
      "  \"category_means\": dataset.groupby(dataset[column]).mean()[target_name]\n",
      "C:\\Users\\Aleksey Ryabykin\\AppData\\Local\\Temp\\ipykernel_284956\\2963386934.py:8: FutureWarning: The default value of numeric_only in DataFrameGroupBy.mean is deprecated. In a future version, numeric_only will default to False. Either specify numeric_only or select only columns which should be valid for the function.\n",
      "  \"category_means\": dataset.groupby(dataset[column]).mean()[target_name]\n"
     ]
    },
    {
     "name": "stdout",
     "output_type": "stream",
     "text": [
      "Fold number: 2, loss: 298.3988787390007\n"
     ]
    },
    {
     "name": "stderr",
     "output_type": "stream",
     "text": [
      "C:\\Users\\Aleksey Ryabykin\\AppData\\Local\\Temp\\ipykernel_284956\\2963386934.py:8: FutureWarning: The default value of numeric_only in DataFrameGroupBy.mean is deprecated. In a future version, numeric_only will default to False. Either specify numeric_only or select only columns which should be valid for the function.\n",
      "  \"category_means\": dataset.groupby(dataset[column]).mean()[target_name]\n",
      "C:\\Users\\Aleksey Ryabykin\\AppData\\Local\\Temp\\ipykernel_284956\\2963386934.py:8: FutureWarning: The default value of numeric_only in DataFrameGroupBy.mean is deprecated. In a future version, numeric_only will default to False. Either specify numeric_only or select only columns which should be valid for the function.\n",
      "  \"category_means\": dataset.groupby(dataset[column]).mean()[target_name]\n"
     ]
    },
    {
     "name": "stdout",
     "output_type": "stream",
     "text": [
      "Fold number: 3, loss: 272.81187468075245\n"
     ]
    },
    {
     "name": "stderr",
     "output_type": "stream",
     "text": [
      "C:\\Users\\Aleksey Ryabykin\\AppData\\Local\\Temp\\ipykernel_284956\\2963386934.py:8: FutureWarning: The default value of numeric_only in DataFrameGroupBy.mean is deprecated. In a future version, numeric_only will default to False. Either specify numeric_only or select only columns which should be valid for the function.\n",
      "  \"category_means\": dataset.groupby(dataset[column]).mean()[target_name]\n",
      "C:\\Users\\Aleksey Ryabykin\\AppData\\Local\\Temp\\ipykernel_284956\\2963386934.py:8: FutureWarning: The default value of numeric_only in DataFrameGroupBy.mean is deprecated. In a future version, numeric_only will default to False. Either specify numeric_only or select only columns which should be valid for the function.\n",
      "  \"category_means\": dataset.groupby(dataset[column]).mean()[target_name]\n"
     ]
    },
    {
     "name": "stdout",
     "output_type": "stream",
     "text": [
      "Fold number: 4, loss: 261.7172224616602\n"
     ]
    },
    {
     "name": "stderr",
     "output_type": "stream",
     "text": [
      "C:\\Users\\Aleksey Ryabykin\\AppData\\Local\\Temp\\ipykernel_284956\\2963386934.py:8: FutureWarning: The default value of numeric_only in DataFrameGroupBy.mean is deprecated. In a future version, numeric_only will default to False. Either specify numeric_only or select only columns which should be valid for the function.\n",
      "  \"category_means\": dataset.groupby(dataset[column]).mean()[target_name]\n",
      "C:\\Users\\Aleksey Ryabykin\\AppData\\Local\\Temp\\ipykernel_284956\\2963386934.py:8: FutureWarning: The default value of numeric_only in DataFrameGroupBy.mean is deprecated. In a future version, numeric_only will default to False. Either specify numeric_only or select only columns which should be valid for the function.\n",
      "  \"category_means\": dataset.groupby(dataset[column]).mean()[target_name]\n",
      "\u001b[32m[I 2022-12-21 01:02:46,205]\u001b[0m Trial 112 finished with value: 296.68863330105813 and parameters: {'x_0': 0.2583216853612213, 'x_1': 0.010931367921615727}. Best is trial 19 with value: 282.2052161524865.\u001b[0m\n"
     ]
    },
    {
     "name": "stdout",
     "output_type": "stream",
     "text": [
      "Fold number: 5, loss: 326.4666901336035\n",
      "Current weights: [0.22815792 0.05380691 0.71803517]\n"
     ]
    },
    {
     "name": "stderr",
     "output_type": "stream",
     "text": [
      "C:\\Users\\Aleksey Ryabykin\\AppData\\Local\\Temp\\ipykernel_284956\\2963386934.py:8: FutureWarning: The default value of numeric_only in DataFrameGroupBy.mean is deprecated. In a future version, numeric_only will default to False. Either specify numeric_only or select only columns which should be valid for the function.\n",
      "  \"category_means\": dataset.groupby(dataset[column]).mean()[target_name]\n",
      "C:\\Users\\Aleksey Ryabykin\\AppData\\Local\\Temp\\ipykernel_284956\\2963386934.py:8: FutureWarning: The default value of numeric_only in DataFrameGroupBy.mean is deprecated. In a future version, numeric_only will default to False. Either specify numeric_only or select only columns which should be valid for the function.\n",
      "  \"category_means\": dataset.groupby(dataset[column]).mean()[target_name]\n"
     ]
    },
    {
     "name": "stdout",
     "output_type": "stream",
     "text": [
      "Fold number: 1, loss: 253.42848806723177\n"
     ]
    },
    {
     "name": "stderr",
     "output_type": "stream",
     "text": [
      "C:\\Users\\Aleksey Ryabykin\\AppData\\Local\\Temp\\ipykernel_284956\\2963386934.py:8: FutureWarning: The default value of numeric_only in DataFrameGroupBy.mean is deprecated. In a future version, numeric_only will default to False. Either specify numeric_only or select only columns which should be valid for the function.\n",
      "  \"category_means\": dataset.groupby(dataset[column]).mean()[target_name]\n",
      "C:\\Users\\Aleksey Ryabykin\\AppData\\Local\\Temp\\ipykernel_284956\\2963386934.py:8: FutureWarning: The default value of numeric_only in DataFrameGroupBy.mean is deprecated. In a future version, numeric_only will default to False. Either specify numeric_only or select only columns which should be valid for the function.\n",
      "  \"category_means\": dataset.groupby(dataset[column]).mean()[target_name]\n"
     ]
    },
    {
     "name": "stdout",
     "output_type": "stream",
     "text": [
      "Fold number: 2, loss: 260.8297118439616\n"
     ]
    },
    {
     "name": "stderr",
     "output_type": "stream",
     "text": [
      "C:\\Users\\Aleksey Ryabykin\\AppData\\Local\\Temp\\ipykernel_284956\\2963386934.py:8: FutureWarning: The default value of numeric_only in DataFrameGroupBy.mean is deprecated. In a future version, numeric_only will default to False. Either specify numeric_only or select only columns which should be valid for the function.\n",
      "  \"category_means\": dataset.groupby(dataset[column]).mean()[target_name]\n",
      "C:\\Users\\Aleksey Ryabykin\\AppData\\Local\\Temp\\ipykernel_284956\\2963386934.py:8: FutureWarning: The default value of numeric_only in DataFrameGroupBy.mean is deprecated. In a future version, numeric_only will default to False. Either specify numeric_only or select only columns which should be valid for the function.\n",
      "  \"category_means\": dataset.groupby(dataset[column]).mean()[target_name]\n"
     ]
    },
    {
     "name": "stdout",
     "output_type": "stream",
     "text": [
      "Fold number: 3, loss: 362.01090444370453\n"
     ]
    },
    {
     "name": "stderr",
     "output_type": "stream",
     "text": [
      "C:\\Users\\Aleksey Ryabykin\\AppData\\Local\\Temp\\ipykernel_284956\\2963386934.py:8: FutureWarning: The default value of numeric_only in DataFrameGroupBy.mean is deprecated. In a future version, numeric_only will default to False. Either specify numeric_only or select only columns which should be valid for the function.\n",
      "  \"category_means\": dataset.groupby(dataset[column]).mean()[target_name]\n",
      "C:\\Users\\Aleksey Ryabykin\\AppData\\Local\\Temp\\ipykernel_284956\\2963386934.py:8: FutureWarning: The default value of numeric_only in DataFrameGroupBy.mean is deprecated. In a future version, numeric_only will default to False. Either specify numeric_only or select only columns which should be valid for the function.\n",
      "  \"category_means\": dataset.groupby(dataset[column]).mean()[target_name]\n"
     ]
    },
    {
     "name": "stdout",
     "output_type": "stream",
     "text": [
      "Fold number: 4, loss: 286.7508295639078\n"
     ]
    },
    {
     "name": "stderr",
     "output_type": "stream",
     "text": [
      "C:\\Users\\Aleksey Ryabykin\\AppData\\Local\\Temp\\ipykernel_284956\\2963386934.py:8: FutureWarning: The default value of numeric_only in DataFrameGroupBy.mean is deprecated. In a future version, numeric_only will default to False. Either specify numeric_only or select only columns which should be valid for the function.\n",
      "  \"category_means\": dataset.groupby(dataset[column]).mean()[target_name]\n",
      "C:\\Users\\Aleksey Ryabykin\\AppData\\Local\\Temp\\ipykernel_284956\\2963386934.py:8: FutureWarning: The default value of numeric_only in DataFrameGroupBy.mean is deprecated. In a future version, numeric_only will default to False. Either specify numeric_only or select only columns which should be valid for the function.\n",
      "  \"category_means\": dataset.groupby(dataset[column]).mean()[target_name]\n",
      "\u001b[32m[I 2022-12-21 01:03:04,911]\u001b[0m Trial 113 finished with value: 284.65711894857725 and parameters: {'x_0': 0.22815792221949385, 'x_1': 0.053806911332324354}. Best is trial 19 with value: 282.2052161524865.\u001b[0m\n"
     ]
    },
    {
     "name": "stdout",
     "output_type": "stream",
     "text": [
      "Fold number: 5, loss: 260.2656608240804\n"
     ]
    }
   ],
   "source": [
    "study = optuna.create_study()\n",
    "\n",
    "objective_wrapper = lambda trial: cross_validate(trial, data, [MyCB, MyLGBM, MyXGB])\n",
    "study.optimize(objective_wrapper, timeout=60*40)"
   ]
  },
  {
   "cell_type": "code",
   "execution_count": 53,
   "id": "c88b43b1",
   "metadata": {},
   "outputs": [
    {
     "name": "stderr",
     "output_type": "stream",
     "text": [
      "C:\\Users\\Aleksey Ryabykin\\AppData\\Local\\Temp\\ipykernel_284956\\2963386934.py:8: FutureWarning: The default value of numeric_only in DataFrameGroupBy.mean is deprecated. In a future version, numeric_only will default to False. Either specify numeric_only or select only columns which should be valid for the function.\n",
      "  \"category_means\": dataset.groupby(dataset[column]).mean()[target_name]\n",
      "C:\\Users\\Aleksey Ryabykin\\AppData\\Local\\Temp\\ipykernel_284956\\2963386934.py:8: FutureWarning: The default value of numeric_only in DataFrameGroupBy.mean is deprecated. In a future version, numeric_only will default to False. Either specify numeric_only or select only columns which should be valid for the function.\n",
      "  \"category_means\": dataset.groupby(dataset[column]).mean()[target_name]\n"
     ]
    }
   ],
   "source": [
    "data_preprocessed = preprocess_data(data, train=True)"
   ]
  },
  {
   "cell_type": "code",
   "execution_count": 16,
   "id": "d9064827",
   "metadata": {},
   "outputs": [
    {
     "data": {
      "text/plain": [
       "0"
      ]
     },
     "execution_count": 16,
     "metadata": {},
     "output_type": "execute_result"
    }
   ],
   "source": [
    "data_preprocessed.isna().sum().sum()"
   ]
  },
  {
   "cell_type": "code",
   "execution_count": 55,
   "id": "b404f27c",
   "metadata": {},
   "outputs": [
    {
     "data": {
      "text/plain": [
       "{'x_0': 0.19557191847517255, 'x_1': 0.0010162161928214813}"
      ]
     },
     "execution_count": 55,
     "metadata": {},
     "output_type": "execute_result"
    }
   ],
   "source": [
    "study.best_params"
   ]
  },
  {
   "cell_type": "code",
   "execution_count": 18,
   "id": "9b8b9d2b",
   "metadata": {},
   "outputs": [],
   "source": [
    "X = data_preprocessed.drop([\"claps\"], axis=1).to_numpy()\n",
    "y = data_preprocessed[\"claps\"].to_numpy()"
   ]
  },
  {
   "cell_type": "code",
   "execution_count": 56,
   "id": "0dee4731",
   "metadata": {},
   "outputs": [
    {
     "name": "stdout",
     "output_type": "stream",
     "text": [
      "0:\tlearn: 697.8784625\ttotal: 3.65ms\tremaining: 3.65s\n",
      "1:\tlearn: 691.8184588\ttotal: 6.48ms\tremaining: 3.23s\n",
      "2:\tlearn: 685.4622473\ttotal: 9.4ms\tremaining: 3.12s\n",
      "3:\tlearn: 677.7599204\ttotal: 13ms\tremaining: 3.25s\n",
      "4:\tlearn: 672.9033614\ttotal: 15.5ms\tremaining: 3.09s\n",
      "5:\tlearn: 668.0803357\ttotal: 18.2ms\tremaining: 3.01s\n",
      "6:\tlearn: 663.6462464\ttotal: 20.7ms\tremaining: 2.94s\n",
      "7:\tlearn: 657.2346928\ttotal: 23.3ms\tremaining: 2.89s\n",
      "8:\tlearn: 648.7581427\ttotal: 26ms\tremaining: 2.86s\n",
      "9:\tlearn: 643.8288154\ttotal: 28.8ms\tremaining: 2.85s\n",
      "10:\tlearn: 640.6028100\ttotal: 31.3ms\tremaining: 2.82s\n",
      "11:\tlearn: 636.1142488\ttotal: 33.9ms\tremaining: 2.79s\n",
      "12:\tlearn: 631.1422179\ttotal: 36.7ms\tremaining: 2.79s\n",
      "13:\tlearn: 625.7774837\ttotal: 39.6ms\tremaining: 2.79s\n",
      "14:\tlearn: 618.8401496\ttotal: 42.3ms\tremaining: 2.77s\n",
      "15:\tlearn: 612.7948210\ttotal: 44.6ms\tremaining: 2.75s\n",
      "16:\tlearn: 606.8967498\ttotal: 47.3ms\tremaining: 2.74s\n",
      "17:\tlearn: 602.7748718\ttotal: 49.9ms\tremaining: 2.72s\n",
      "18:\tlearn: 594.2324907\ttotal: 52.2ms\tremaining: 2.69s\n",
      "19:\tlearn: 590.9278179\ttotal: 55ms\tremaining: 2.69s\n",
      "20:\tlearn: 582.9324856\ttotal: 58ms\tremaining: 2.7s\n",
      "21:\tlearn: 577.6965125\ttotal: 60.9ms\tremaining: 2.71s\n",
      "22:\tlearn: 575.2564066\ttotal: 63.3ms\tremaining: 2.69s\n",
      "23:\tlearn: 570.7918494\ttotal: 66.1ms\tremaining: 2.69s\n",
      "24:\tlearn: 569.4139183\ttotal: 69.2ms\tremaining: 2.7s\n",
      "25:\tlearn: 567.9152817\ttotal: 71.7ms\tremaining: 2.69s\n",
      "26:\tlearn: 563.7131159\ttotal: 74.3ms\tremaining: 2.68s\n",
      "27:\tlearn: 556.8865830\ttotal: 76.7ms\tremaining: 2.66s\n",
      "28:\tlearn: 552.8821359\ttotal: 79.5ms\tremaining: 2.66s\n",
      "29:\tlearn: 551.1857965\ttotal: 82.3ms\tremaining: 2.66s\n",
      "30:\tlearn: 547.5169627\ttotal: 84.8ms\tremaining: 2.65s\n",
      "31:\tlearn: 542.8547553\ttotal: 87.4ms\tremaining: 2.64s\n",
      "32:\tlearn: 538.6713557\ttotal: 90.6ms\tremaining: 2.65s\n",
      "33:\tlearn: 537.6119325\ttotal: 94.1ms\tremaining: 2.67s\n",
      "34:\tlearn: 536.5744303\ttotal: 97.1ms\tremaining: 2.67s\n",
      "35:\tlearn: 531.1147654\ttotal: 99.7ms\tremaining: 2.67s\n",
      "36:\tlearn: 525.3954436\ttotal: 102ms\tremaining: 2.67s\n",
      "37:\tlearn: 524.1497453\ttotal: 105ms\tremaining: 2.66s\n",
      "38:\tlearn: 518.4649226\ttotal: 108ms\tremaining: 2.66s\n",
      "39:\tlearn: 517.6569119\ttotal: 111ms\tremaining: 2.66s\n",
      "40:\tlearn: 513.9327373\ttotal: 114ms\tremaining: 2.67s\n",
      "41:\tlearn: 511.2679536\ttotal: 117ms\tremaining: 2.66s\n",
      "42:\tlearn: 510.5632711\ttotal: 119ms\tremaining: 2.65s\n",
      "43:\tlearn: 504.3289908\ttotal: 122ms\tremaining: 2.65s\n",
      "44:\tlearn: 502.7356429\ttotal: 125ms\tremaining: 2.64s\n",
      "45:\tlearn: 501.7410347\ttotal: 128ms\tremaining: 2.65s\n",
      "46:\tlearn: 497.8095551\ttotal: 130ms\tremaining: 2.64s\n",
      "47:\tlearn: 492.9124561\ttotal: 133ms\tremaining: 2.64s\n",
      "48:\tlearn: 491.4889706\ttotal: 136ms\tremaining: 2.64s\n",
      "49:\tlearn: 485.9949219\ttotal: 138ms\tremaining: 2.63s\n",
      "50:\tlearn: 482.2217965\ttotal: 141ms\tremaining: 2.63s\n",
      "51:\tlearn: 478.2047353\ttotal: 144ms\tremaining: 2.62s\n",
      "52:\tlearn: 473.7785127\ttotal: 146ms\tremaining: 2.61s\n",
      "53:\tlearn: 470.3026791\ttotal: 149ms\tremaining: 2.6s\n",
      "54:\tlearn: 467.2082169\ttotal: 151ms\tremaining: 2.59s\n",
      "55:\tlearn: 463.0412655\ttotal: 153ms\tremaining: 2.58s\n",
      "56:\tlearn: 462.5691032\ttotal: 156ms\tremaining: 2.58s\n",
      "57:\tlearn: 458.9431630\ttotal: 159ms\tremaining: 2.58s\n",
      "58:\tlearn: 458.1148643\ttotal: 162ms\tremaining: 2.58s\n",
      "59:\tlearn: 457.4019590\ttotal: 164ms\tremaining: 2.57s\n",
      "60:\tlearn: 453.3860400\ttotal: 166ms\tremaining: 2.56s\n",
      "61:\tlearn: 449.5714423\ttotal: 169ms\tremaining: 2.55s\n",
      "62:\tlearn: 446.5660704\ttotal: 171ms\tremaining: 2.54s\n",
      "63:\tlearn: 445.5113649\ttotal: 173ms\tremaining: 2.54s\n",
      "64:\tlearn: 443.8014028\ttotal: 176ms\tremaining: 2.53s\n",
      "65:\tlearn: 443.1196908\ttotal: 178ms\tremaining: 2.52s\n",
      "66:\tlearn: 441.7652394\ttotal: 181ms\tremaining: 2.52s\n",
      "67:\tlearn: 441.3345813\ttotal: 184ms\tremaining: 2.52s\n",
      "68:\tlearn: 441.0661563\ttotal: 187ms\tremaining: 2.52s\n",
      "69:\tlearn: 440.5090818\ttotal: 190ms\tremaining: 2.52s\n",
      "70:\tlearn: 437.5866980\ttotal: 193ms\tremaining: 2.53s\n",
      "71:\tlearn: 435.1683479\ttotal: 201ms\tremaining: 2.59s\n",
      "72:\tlearn: 434.4879947\ttotal: 216ms\tremaining: 2.75s\n",
      "73:\tlearn: 432.5967651\ttotal: 221ms\tremaining: 2.76s\n",
      "74:\tlearn: 429.3898208\ttotal: 226ms\tremaining: 2.79s\n",
      "75:\tlearn: 428.5136160\ttotal: 231ms\tremaining: 2.8s\n",
      "76:\tlearn: 426.8495825\ttotal: 234ms\tremaining: 2.81s\n",
      "77:\tlearn: 424.1116373\ttotal: 237ms\tremaining: 2.81s\n",
      "78:\tlearn: 423.7470172\ttotal: 240ms\tremaining: 2.8s\n",
      "79:\tlearn: 423.2405533\ttotal: 244ms\tremaining: 2.8s\n",
      "80:\tlearn: 420.2185407\ttotal: 246ms\tremaining: 2.79s\n",
      "81:\tlearn: 416.9081559\ttotal: 249ms\tremaining: 2.79s\n",
      "82:\tlearn: 415.8046370\ttotal: 252ms\tremaining: 2.78s\n",
      "83:\tlearn: 413.1774920\ttotal: 254ms\tremaining: 2.77s\n",
      "84:\tlearn: 412.6990147\ttotal: 258ms\tremaining: 2.78s\n",
      "85:\tlearn: 412.5720100\ttotal: 261ms\tremaining: 2.78s\n",
      "86:\tlearn: 411.9088004\ttotal: 264ms\tremaining: 2.77s\n",
      "87:\tlearn: 409.8586330\ttotal: 267ms\tremaining: 2.77s\n",
      "88:\tlearn: 409.7406770\ttotal: 271ms\tremaining: 2.77s\n",
      "89:\tlearn: 407.0213465\ttotal: 274ms\tremaining: 2.77s\n",
      "90:\tlearn: 406.8445354\ttotal: 277ms\tremaining: 2.77s\n",
      "91:\tlearn: 404.0465623\ttotal: 282ms\tremaining: 2.78s\n",
      "92:\tlearn: 403.8504673\ttotal: 285ms\tremaining: 2.78s\n",
      "93:\tlearn: 402.7904885\ttotal: 288ms\tremaining: 2.77s\n",
      "94:\tlearn: 402.3860766\ttotal: 291ms\tremaining: 2.77s\n",
      "95:\tlearn: 400.1949011\ttotal: 294ms\tremaining: 2.77s\n",
      "96:\tlearn: 399.8803099\ttotal: 298ms\tremaining: 2.77s\n",
      "97:\tlearn: 397.6499343\ttotal: 301ms\tremaining: 2.77s\n",
      "98:\tlearn: 397.3893844\ttotal: 304ms\tremaining: 2.77s\n",
      "99:\tlearn: 395.5862106\ttotal: 308ms\tremaining: 2.77s\n",
      "100:\tlearn: 395.1084631\ttotal: 311ms\tremaining: 2.77s\n",
      "101:\tlearn: 394.4001997\ttotal: 315ms\tremaining: 2.77s\n",
      "102:\tlearn: 393.2790970\ttotal: 318ms\tremaining: 2.77s\n",
      "103:\tlearn: 393.2027112\ttotal: 321ms\tremaining: 2.76s\n",
      "104:\tlearn: 391.0910817\ttotal: 324ms\tremaining: 2.76s\n",
      "105:\tlearn: 390.8898574\ttotal: 327ms\tremaining: 2.76s\n",
      "106:\tlearn: 390.8251579\ttotal: 330ms\tremaining: 2.75s\n",
      "107:\tlearn: 390.4835497\ttotal: 332ms\tremaining: 2.75s\n",
      "108:\tlearn: 389.9773513\ttotal: 336ms\tremaining: 2.75s\n",
      "109:\tlearn: 387.0121641\ttotal: 339ms\tremaining: 2.75s\n",
      "110:\tlearn: 386.9588410\ttotal: 342ms\tremaining: 2.74s\n",
      "111:\tlearn: 386.8772865\ttotal: 345ms\tremaining: 2.73s\n",
      "112:\tlearn: 386.8097577\ttotal: 348ms\tremaining: 2.73s\n",
      "113:\tlearn: 386.4297483\ttotal: 352ms\tremaining: 2.73s\n",
      "114:\tlearn: 384.0239204\ttotal: 355ms\tremaining: 2.73s\n",
      "115:\tlearn: 382.2506064\ttotal: 358ms\tremaining: 2.73s\n",
      "116:\tlearn: 380.4744972\ttotal: 361ms\tremaining: 2.72s\n",
      "117:\tlearn: 379.1087742\ttotal: 363ms\tremaining: 2.72s\n",
      "118:\tlearn: 378.7752802\ttotal: 367ms\tremaining: 2.71s\n",
      "119:\tlearn: 378.3759297\ttotal: 370ms\tremaining: 2.71s\n",
      "120:\tlearn: 376.0263109\ttotal: 373ms\tremaining: 2.71s\n",
      "121:\tlearn: 374.0369490\ttotal: 376ms\tremaining: 2.7s\n",
      "122:\tlearn: 372.2962844\ttotal: 379ms\tremaining: 2.7s\n",
      "123:\tlearn: 370.6200524\ttotal: 382ms\tremaining: 2.7s\n",
      "124:\tlearn: 369.5314410\ttotal: 386ms\tremaining: 2.7s\n",
      "125:\tlearn: 367.5829946\ttotal: 388ms\tremaining: 2.69s\n",
      "126:\tlearn: 366.1647838\ttotal: 391ms\tremaining: 2.69s\n",
      "127:\tlearn: 365.1990563\ttotal: 393ms\tremaining: 2.68s\n",
      "128:\tlearn: 365.0749595\ttotal: 398ms\tremaining: 2.68s\n",
      "129:\tlearn: 363.1820254\ttotal: 400ms\tremaining: 2.68s\n",
      "130:\tlearn: 363.0633377\ttotal: 403ms\tremaining: 2.67s\n",
      "131:\tlearn: 362.1196831\ttotal: 405ms\tremaining: 2.67s\n",
      "132:\tlearn: 361.8225452\ttotal: 408ms\tremaining: 2.66s\n",
      "133:\tlearn: 359.2559266\ttotal: 411ms\tremaining: 2.65s\n",
      "134:\tlearn: 359.0915000\ttotal: 414ms\tremaining: 2.65s\n",
      "135:\tlearn: 357.5227003\ttotal: 418ms\tremaining: 2.65s\n",
      "136:\tlearn: 357.4394496\ttotal: 421ms\tremaining: 2.65s\n",
      "137:\tlearn: 356.3894728\ttotal: 423ms\tremaining: 2.65s\n",
      "138:\tlearn: 355.9656682\ttotal: 426ms\tremaining: 2.64s\n",
      "139:\tlearn: 353.3779352\ttotal: 430ms\tremaining: 2.64s\n",
      "140:\tlearn: 352.5981069\ttotal: 433ms\tremaining: 2.64s\n",
      "141:\tlearn: 351.3058128\ttotal: 436ms\tremaining: 2.63s\n",
      "142:\tlearn: 350.5520082\ttotal: 438ms\tremaining: 2.63s\n",
      "143:\tlearn: 349.5349191\ttotal: 441ms\tremaining: 2.62s\n",
      "144:\tlearn: 348.2204968\ttotal: 444ms\tremaining: 2.62s\n",
      "145:\tlearn: 346.9272481\ttotal: 447ms\tremaining: 2.61s\n",
      "146:\tlearn: 346.8435749\ttotal: 450ms\tremaining: 2.61s\n",
      "147:\tlearn: 346.6028564\ttotal: 454ms\tremaining: 2.61s\n",
      "148:\tlearn: 345.5085491\ttotal: 457ms\tremaining: 2.61s\n",
      "149:\tlearn: 345.3991500\ttotal: 460ms\tremaining: 2.61s\n",
      "150:\tlearn: 344.6817197\ttotal: 463ms\tremaining: 2.6s\n",
      "151:\tlearn: 343.5891627\ttotal: 466ms\tremaining: 2.6s\n",
      "152:\tlearn: 343.5371235\ttotal: 469ms\tremaining: 2.6s\n",
      "153:\tlearn: 343.3445451\ttotal: 472ms\tremaining: 2.59s\n",
      "154:\tlearn: 342.4990155\ttotal: 474ms\tremaining: 2.59s\n",
      "155:\tlearn: 342.3642091\ttotal: 477ms\tremaining: 2.58s\n",
      "156:\tlearn: 342.1938438\ttotal: 480ms\tremaining: 2.57s\n",
      "157:\tlearn: 341.7225170\ttotal: 482ms\tremaining: 2.57s\n",
      "158:\tlearn: 341.6708410\ttotal: 486ms\tremaining: 2.57s\n",
      "159:\tlearn: 341.4217911\ttotal: 489ms\tremaining: 2.56s\n",
      "160:\tlearn: 340.0708491\ttotal: 491ms\tremaining: 2.56s\n",
      "161:\tlearn: 338.4938871\ttotal: 494ms\tremaining: 2.56s\n",
      "162:\tlearn: 338.2307919\ttotal: 497ms\tremaining: 2.55s\n",
      "163:\tlearn: 337.6229483\ttotal: 500ms\tremaining: 2.55s\n",
      "164:\tlearn: 337.2001888\ttotal: 503ms\tremaining: 2.55s\n",
      "165:\tlearn: 337.1240063\ttotal: 506ms\tremaining: 2.54s\n",
      "166:\tlearn: 337.0863166\ttotal: 509ms\tremaining: 2.54s\n",
      "167:\tlearn: 336.8489396\ttotal: 512ms\tremaining: 2.54s\n",
      "168:\tlearn: 335.7968569\ttotal: 514ms\tremaining: 2.53s\n",
      "169:\tlearn: 335.2411543\ttotal: 517ms\tremaining: 2.52s\n",
      "170:\tlearn: 333.9147102\ttotal: 520ms\tremaining: 2.52s\n",
      "171:\tlearn: 331.9708123\ttotal: 522ms\tremaining: 2.51s\n",
      "172:\tlearn: 331.1840347\ttotal: 525ms\tremaining: 2.51s\n",
      "173:\tlearn: 330.9874039\ttotal: 527ms\tremaining: 2.5s\n",
      "174:\tlearn: 330.8966981\ttotal: 529ms\tremaining: 2.5s\n",
      "175:\tlearn: 330.8704104\ttotal: 532ms\tremaining: 2.49s\n",
      "176:\tlearn: 330.8571627\ttotal: 535ms\tremaining: 2.49s\n",
      "177:\tlearn: 329.7935804\ttotal: 538ms\tremaining: 2.48s\n",
      "178:\tlearn: 328.4497827\ttotal: 540ms\tremaining: 2.48s\n",
      "179:\tlearn: 328.3548165\ttotal: 545ms\tremaining: 2.48s\n",
      "180:\tlearn: 327.9412249\ttotal: 548ms\tremaining: 2.48s\n",
      "181:\tlearn: 327.6347827\ttotal: 551ms\tremaining: 2.48s\n",
      "182:\tlearn: 326.6499910\ttotal: 554ms\tremaining: 2.47s\n",
      "183:\tlearn: 326.1827667\ttotal: 557ms\tremaining: 2.47s\n",
      "184:\tlearn: 324.8775107\ttotal: 561ms\tremaining: 2.47s\n",
      "185:\tlearn: 324.6079568\ttotal: 564ms\tremaining: 2.47s\n",
      "186:\tlearn: 324.5425762\ttotal: 567ms\tremaining: 2.46s\n",
      "187:\tlearn: 324.4717571\ttotal: 569ms\tremaining: 2.46s\n",
      "188:\tlearn: 323.1702865\ttotal: 572ms\tremaining: 2.46s\n",
      "189:\tlearn: 323.0957572\ttotal: 575ms\tremaining: 2.45s\n",
      "190:\tlearn: 322.9064208\ttotal: 579ms\tremaining: 2.45s\n",
      "191:\tlearn: 322.4080061\ttotal: 581ms\tremaining: 2.44s\n",
      "192:\tlearn: 321.7679137\ttotal: 585ms\tremaining: 2.45s\n",
      "193:\tlearn: 321.5243049\ttotal: 597ms\tremaining: 2.48s\n",
      "194:\tlearn: 321.3840231\ttotal: 600ms\tremaining: 2.48s\n",
      "195:\tlearn: 320.6233061\ttotal: 605ms\tremaining: 2.48s\n",
      "196:\tlearn: 319.9060969\ttotal: 609ms\tremaining: 2.48s\n",
      "197:\tlearn: 318.6352860\ttotal: 613ms\tremaining: 2.48s\n",
      "198:\tlearn: 318.4868912\ttotal: 622ms\tremaining: 2.5s\n",
      "199:\tlearn: 318.4161862\ttotal: 629ms\tremaining: 2.52s\n",
      "200:\tlearn: 318.1067383\ttotal: 633ms\tremaining: 2.52s\n",
      "201:\tlearn: 317.0590070\ttotal: 637ms\tremaining: 2.52s\n",
      "202:\tlearn: 316.4631345\ttotal: 642ms\tremaining: 2.52s\n",
      "203:\tlearn: 315.2929855\ttotal: 646ms\tremaining: 2.52s\n",
      "204:\tlearn: 314.4574331\ttotal: 649ms\tremaining: 2.52s\n",
      "205:\tlearn: 313.2416643\ttotal: 658ms\tremaining: 2.54s\n",
      "206:\tlearn: 312.7365254\ttotal: 662ms\tremaining: 2.54s\n",
      "207:\tlearn: 312.5079194\ttotal: 666ms\tremaining: 2.54s\n",
      "208:\tlearn: 312.2498944\ttotal: 671ms\tremaining: 2.54s\n",
      "209:\tlearn: 311.1945020\ttotal: 674ms\tremaining: 2.54s\n",
      "210:\tlearn: 309.6991457\ttotal: 678ms\tremaining: 2.54s\n",
      "211:\tlearn: 309.1694066\ttotal: 682ms\tremaining: 2.54s\n",
      "212:\tlearn: 309.0602228\ttotal: 686ms\tremaining: 2.53s\n",
      "213:\tlearn: 308.7391610\ttotal: 692ms\tremaining: 2.54s\n",
      "214:\tlearn: 308.0340536\ttotal: 697ms\tremaining: 2.54s\n",
      "215:\tlearn: 307.5913292\ttotal: 700ms\tremaining: 2.54s\n",
      "216:\tlearn: 307.3383089\ttotal: 705ms\tremaining: 2.54s\n",
      "217:\tlearn: 306.1658167\ttotal: 708ms\tremaining: 2.54s\n",
      "218:\tlearn: 306.0526938\ttotal: 713ms\tremaining: 2.54s\n",
      "219:\tlearn: 305.4732829\ttotal: 716ms\tremaining: 2.54s\n",
      "220:\tlearn: 305.3661252\ttotal: 720ms\tremaining: 2.54s\n",
      "221:\tlearn: 303.6001804\ttotal: 722ms\tremaining: 2.53s\n",
      "222:\tlearn: 302.6545129\ttotal: 725ms\tremaining: 2.53s\n",
      "223:\tlearn: 302.1332415\ttotal: 727ms\tremaining: 2.52s\n",
      "224:\tlearn: 302.1048734\ttotal: 730ms\tremaining: 2.51s\n",
      "225:\tlearn: 301.7900081\ttotal: 733ms\tremaining: 2.51s\n",
      "226:\tlearn: 301.7419597\ttotal: 735ms\tremaining: 2.5s\n",
      "227:\tlearn: 301.5229776\ttotal: 739ms\tremaining: 2.5s\n",
      "228:\tlearn: 301.2063592\ttotal: 742ms\tremaining: 2.5s\n",
      "229:\tlearn: 300.9271215\ttotal: 745ms\tremaining: 2.49s\n",
      "230:\tlearn: 300.8492582\ttotal: 748ms\tremaining: 2.49s\n",
      "231:\tlearn: 300.8369315\ttotal: 751ms\tremaining: 2.49s\n",
      "232:\tlearn: 300.3821998\ttotal: 754ms\tremaining: 2.48s\n",
      "233:\tlearn: 300.2172914\ttotal: 758ms\tremaining: 2.48s\n",
      "234:\tlearn: 299.1024194\ttotal: 762ms\tremaining: 2.48s\n",
      "235:\tlearn: 299.0767306\ttotal: 765ms\tremaining: 2.48s\n",
      "236:\tlearn: 297.3074907\ttotal: 768ms\tremaining: 2.47s\n",
      "237:\tlearn: 297.0134302\ttotal: 772ms\tremaining: 2.47s\n",
      "238:\tlearn: 295.9306121\ttotal: 776ms\tremaining: 2.47s\n",
      "239:\tlearn: 294.7185744\ttotal: 779ms\tremaining: 2.46s\n",
      "240:\tlearn: 293.4064736\ttotal: 782ms\tremaining: 2.46s\n",
      "241:\tlearn: 293.2158240\ttotal: 785ms\tremaining: 2.46s\n",
      "242:\tlearn: 292.4367192\ttotal: 788ms\tremaining: 2.46s\n",
      "243:\tlearn: 292.0023142\ttotal: 791ms\tremaining: 2.45s\n",
      "244:\tlearn: 291.9675316\ttotal: 794ms\tremaining: 2.45s\n",
      "245:\tlearn: 290.4564855\ttotal: 796ms\tremaining: 2.44s\n",
      "246:\tlearn: 290.1711743\ttotal: 799ms\tremaining: 2.44s\n",
      "247:\tlearn: 289.2728039\ttotal: 803ms\tremaining: 2.43s\n",
      "248:\tlearn: 289.2567200\ttotal: 805ms\tremaining: 2.43s\n",
      "249:\tlearn: 289.2454644\ttotal: 808ms\tremaining: 2.42s\n",
      "250:\tlearn: 288.8993751\ttotal: 810ms\tremaining: 2.42s\n",
      "251:\tlearn: 288.8862312\ttotal: 813ms\tremaining: 2.41s\n",
      "252:\tlearn: 288.5563085\ttotal: 816ms\tremaining: 2.41s\n",
      "253:\tlearn: 287.8382412\ttotal: 819ms\tremaining: 2.4s\n",
      "254:\tlearn: 286.7288032\ttotal: 821ms\tremaining: 2.4s\n",
      "255:\tlearn: 286.6176037\ttotal: 823ms\tremaining: 2.39s\n",
      "256:\tlearn: 286.5622401\ttotal: 826ms\tremaining: 2.39s\n",
      "257:\tlearn: 285.9742822\ttotal: 828ms\tremaining: 2.38s\n",
      "258:\tlearn: 285.9581994\ttotal: 831ms\tremaining: 2.38s\n",
      "259:\tlearn: 285.1181259\ttotal: 833ms\tremaining: 2.37s\n",
      "260:\tlearn: 285.0945755\ttotal: 835ms\tremaining: 2.36s\n",
      "261:\tlearn: 285.0393527\ttotal: 837ms\tremaining: 2.36s\n",
      "262:\tlearn: 284.9829383\ttotal: 840ms\tremaining: 2.35s\n",
      "263:\tlearn: 284.9380096\ttotal: 842ms\tremaining: 2.35s\n",
      "264:\tlearn: 284.9267190\ttotal: 845ms\tremaining: 2.34s\n",
      "265:\tlearn: 283.8687880\ttotal: 847ms\tremaining: 2.34s\n",
      "266:\tlearn: 283.6908182\ttotal: 850ms\tremaining: 2.33s\n",
      "267:\tlearn: 283.5466949\ttotal: 853ms\tremaining: 2.33s\n",
      "268:\tlearn: 282.8010861\ttotal: 855ms\tremaining: 2.32s\n",
      "269:\tlearn: 281.9625393\ttotal: 857ms\tremaining: 2.32s\n",
      "270:\tlearn: 281.9515095\ttotal: 860ms\tremaining: 2.31s\n",
      "271:\tlearn: 281.6996704\ttotal: 862ms\tremaining: 2.31s\n",
      "272:\tlearn: 281.4383544\ttotal: 864ms\tremaining: 2.3s\n",
      "273:\tlearn: 281.4231261\ttotal: 867ms\tremaining: 2.3s\n",
      "274:\tlearn: 281.0026317\ttotal: 869ms\tremaining: 2.29s\n",
      "275:\tlearn: 280.8020717\ttotal: 871ms\tremaining: 2.29s\n",
      "276:\tlearn: 279.9800481\ttotal: 874ms\tremaining: 2.28s\n",
      "277:\tlearn: 279.1125348\ttotal: 876ms\tremaining: 2.28s\n",
      "278:\tlearn: 278.9766774\ttotal: 879ms\tremaining: 2.27s\n",
      "279:\tlearn: 278.0023612\ttotal: 881ms\tremaining: 2.27s\n",
      "280:\tlearn: 277.6034878\ttotal: 884ms\tremaining: 2.26s\n",
      "281:\tlearn: 277.5510504\ttotal: 886ms\tremaining: 2.26s\n",
      "282:\tlearn: 276.6875424\ttotal: 889ms\tremaining: 2.25s\n",
      "283:\tlearn: 275.7647353\ttotal: 891ms\tremaining: 2.25s\n",
      "284:\tlearn: 275.4446596\ttotal: 894ms\tremaining: 2.24s\n",
      "285:\tlearn: 275.2309223\ttotal: 897ms\tremaining: 2.24s\n",
      "286:\tlearn: 274.9206984\ttotal: 899ms\tremaining: 2.23s\n",
      "287:\tlearn: 274.8538444\ttotal: 901ms\tremaining: 2.23s\n",
      "288:\tlearn: 274.8392530\ttotal: 904ms\tremaining: 2.22s\n",
      "289:\tlearn: 274.1213710\ttotal: 907ms\tremaining: 2.22s\n",
      "290:\tlearn: 273.6317685\ttotal: 910ms\tremaining: 2.22s\n",
      "291:\tlearn: 273.5318934\ttotal: 912ms\tremaining: 2.21s\n",
      "292:\tlearn: 273.5236379\ttotal: 914ms\tremaining: 2.21s\n",
      "293:\tlearn: 273.1368642\ttotal: 917ms\tremaining: 2.2s\n",
      "294:\tlearn: 272.5978783\ttotal: 919ms\tremaining: 2.2s\n",
      "295:\tlearn: 272.3543424\ttotal: 921ms\tremaining: 2.19s\n",
      "296:\tlearn: 272.1743177\ttotal: 924ms\tremaining: 2.19s\n",
      "297:\tlearn: 272.1090275\ttotal: 926ms\tremaining: 2.18s\n",
      "298:\tlearn: 271.9113925\ttotal: 929ms\tremaining: 2.18s\n",
      "299:\tlearn: 271.6913562\ttotal: 931ms\tremaining: 2.17s\n",
      "300:\tlearn: 271.6355297\ttotal: 933ms\tremaining: 2.17s\n",
      "301:\tlearn: 270.5053209\ttotal: 936ms\tremaining: 2.16s\n",
      "302:\tlearn: 270.4659195\ttotal: 938ms\tremaining: 2.16s\n",
      "303:\tlearn: 270.1445467\ttotal: 941ms\tremaining: 2.15s\n",
      "304:\tlearn: 270.0056254\ttotal: 943ms\tremaining: 2.15s\n",
      "305:\tlearn: 269.9479284\ttotal: 945ms\tremaining: 2.14s\n",
      "306:\tlearn: 269.7430786\ttotal: 948ms\tremaining: 2.14s\n",
      "307:\tlearn: 269.5725953\ttotal: 951ms\tremaining: 2.13s\n",
      "308:\tlearn: 269.1909260\ttotal: 953ms\tremaining: 2.13s\n",
      "309:\tlearn: 268.4908560\ttotal: 956ms\tremaining: 2.13s\n",
      "310:\tlearn: 268.4420060\ttotal: 958ms\tremaining: 2.12s\n",
      "311:\tlearn: 268.3082008\ttotal: 960ms\tremaining: 2.12s\n",
      "312:\tlearn: 268.1114926\ttotal: 963ms\tremaining: 2.11s\n",
      "313:\tlearn: 268.0641222\ttotal: 965ms\tremaining: 2.11s\n",
      "314:\tlearn: 268.0329226\ttotal: 967ms\tremaining: 2.1s\n",
      "315:\tlearn: 267.9850600\ttotal: 969ms\tremaining: 2.1s\n",
      "316:\tlearn: 267.9041785\ttotal: 972ms\tremaining: 2.09s\n",
      "317:\tlearn: 267.6623951\ttotal: 974ms\tremaining: 2.09s\n",
      "318:\tlearn: 267.2626370\ttotal: 976ms\tremaining: 2.08s\n",
      "319:\tlearn: 266.6643649\ttotal: 979ms\tremaining: 2.08s\n",
      "320:\tlearn: 266.6396055\ttotal: 981ms\tremaining: 2.08s\n",
      "321:\tlearn: 266.5965350\ttotal: 984ms\tremaining: 2.07s\n",
      "322:\tlearn: 265.6695825\ttotal: 986ms\tremaining: 2.07s\n",
      "323:\tlearn: 265.4843028\ttotal: 988ms\tremaining: 2.06s\n",
      "324:\tlearn: 265.0629889\ttotal: 991ms\tremaining: 2.06s\n",
      "325:\tlearn: 264.9846743\ttotal: 993ms\tremaining: 2.05s\n",
      "326:\tlearn: 264.4869468\ttotal: 997ms\tremaining: 2.05s\n",
      "327:\tlearn: 264.4484112\ttotal: 999ms\tremaining: 2.05s\n",
      "328:\tlearn: 264.4362049\ttotal: 1s\tremaining: 2.04s\n",
      "329:\tlearn: 264.3909375\ttotal: 1s\tremaining: 2.04s\n",
      "330:\tlearn: 264.3335167\ttotal: 1.01s\tremaining: 2.04s\n",
      "331:\tlearn: 264.0372699\ttotal: 1.01s\tremaining: 2.03s\n",
      "332:\tlearn: 263.8194849\ttotal: 1.01s\tremaining: 2.03s\n",
      "333:\tlearn: 263.7861878\ttotal: 1.01s\tremaining: 2.02s\n",
      "334:\tlearn: 263.7586692\ttotal: 1.02s\tremaining: 2.02s\n",
      "335:\tlearn: 263.4318105\ttotal: 1.02s\tremaining: 2.02s\n",
      "336:\tlearn: 263.3540744\ttotal: 1.02s\tremaining: 2.01s\n",
      "337:\tlearn: 263.1841583\ttotal: 1.02s\tremaining: 2.01s\n",
      "338:\tlearn: 263.1754379\ttotal: 1.03s\tremaining: 2s\n",
      "339:\tlearn: 263.1508303\ttotal: 1.03s\tremaining: 2s\n",
      "340:\tlearn: 263.1170700\ttotal: 1.03s\tremaining: 2s\n",
      "341:\tlearn: 262.9665259\ttotal: 1.04s\tremaining: 1.99s\n",
      "342:\tlearn: 262.8508666\ttotal: 1.04s\tremaining: 1.99s\n",
      "343:\tlearn: 262.6700536\ttotal: 1.04s\tremaining: 1.99s\n",
      "344:\tlearn: 262.3899897\ttotal: 1.04s\tremaining: 1.98s\n",
      "345:\tlearn: 262.3802882\ttotal: 1.05s\tremaining: 1.98s\n",
      "346:\tlearn: 262.3202727\ttotal: 1.05s\tremaining: 1.97s\n",
      "347:\tlearn: 262.1341265\ttotal: 1.05s\tremaining: 1.97s\n",
      "348:\tlearn: 262.0825166\ttotal: 1.05s\tremaining: 1.97s\n",
      "349:\tlearn: 262.0241119\ttotal: 1.06s\tremaining: 1.96s\n",
      "350:\tlearn: 261.9947736\ttotal: 1.06s\tremaining: 1.96s\n",
      "351:\tlearn: 261.2970457\ttotal: 1.06s\tremaining: 1.96s\n",
      "352:\tlearn: 261.2749255\ttotal: 1.06s\tremaining: 1.95s\n",
      "353:\tlearn: 260.4779408\ttotal: 1.07s\tremaining: 1.95s\n",
      "354:\tlearn: 259.9576928\ttotal: 1.07s\tremaining: 1.94s\n",
      "355:\tlearn: 259.7419206\ttotal: 1.07s\tremaining: 1.94s\n",
      "356:\tlearn: 259.7276018\ttotal: 1.07s\tremaining: 1.94s\n",
      "357:\tlearn: 259.5205793\ttotal: 1.08s\tremaining: 1.93s\n",
      "358:\tlearn: 259.4894130\ttotal: 1.08s\tremaining: 1.93s\n",
      "359:\tlearn: 259.4748716\ttotal: 1.08s\tremaining: 1.92s\n",
      "360:\tlearn: 259.4632126\ttotal: 1.08s\tremaining: 1.92s\n",
      "361:\tlearn: 259.1095644\ttotal: 1.09s\tremaining: 1.92s\n",
      "362:\tlearn: 258.7504009\ttotal: 1.09s\tremaining: 1.91s\n",
      "363:\tlearn: 258.7042517\ttotal: 1.09s\tremaining: 1.91s\n",
      "364:\tlearn: 258.6665570\ttotal: 1.1s\tremaining: 1.91s\n",
      "365:\tlearn: 257.8510437\ttotal: 1.1s\tremaining: 1.9s\n",
      "366:\tlearn: 257.8339930\ttotal: 1.1s\tremaining: 1.9s\n",
      "367:\tlearn: 257.2826031\ttotal: 1.1s\tremaining: 1.9s\n",
      "368:\tlearn: 257.2578623\ttotal: 1.11s\tremaining: 1.89s\n",
      "369:\tlearn: 257.0852759\ttotal: 1.11s\tremaining: 1.89s\n",
      "370:\tlearn: 256.4664948\ttotal: 1.11s\tremaining: 1.89s\n",
      "371:\tlearn: 256.3068161\ttotal: 1.11s\tremaining: 1.88s\n",
      "372:\tlearn: 256.2890585\ttotal: 1.12s\tremaining: 1.88s\n",
      "373:\tlearn: 256.1932999\ttotal: 1.12s\tremaining: 1.88s\n",
      "374:\tlearn: 256.1697804\ttotal: 1.12s\tremaining: 1.87s\n",
      "375:\tlearn: 255.4603311\ttotal: 1.13s\tremaining: 1.87s\n",
      "376:\tlearn: 255.3294335\ttotal: 1.13s\tremaining: 1.86s\n",
      "377:\tlearn: 255.3254367\ttotal: 1.13s\tremaining: 1.86s\n",
      "378:\tlearn: 255.1571304\ttotal: 1.13s\tremaining: 1.86s\n",
      "379:\tlearn: 254.4892083\ttotal: 1.14s\tremaining: 1.85s\n",
      "380:\tlearn: 254.2448908\ttotal: 1.14s\tremaining: 1.85s\n",
      "381:\tlearn: 254.2371912\ttotal: 1.14s\tremaining: 1.84s\n",
      "382:\tlearn: 254.1529342\ttotal: 1.14s\tremaining: 1.84s\n",
      "383:\tlearn: 252.6278196\ttotal: 1.15s\tremaining: 1.84s\n",
      "384:\tlearn: 252.6150212\ttotal: 1.15s\tremaining: 1.83s\n",
      "385:\tlearn: 252.3441001\ttotal: 1.15s\tremaining: 1.83s\n",
      "386:\tlearn: 252.2009954\ttotal: 1.15s\tremaining: 1.83s\n",
      "387:\tlearn: 252.0910077\ttotal: 1.16s\tremaining: 1.82s\n",
      "388:\tlearn: 252.0132191\ttotal: 1.16s\tremaining: 1.82s\n",
      "389:\tlearn: 251.8421358\ttotal: 1.16s\tremaining: 1.82s\n",
      "390:\tlearn: 251.5652525\ttotal: 1.16s\tremaining: 1.81s\n",
      "391:\tlearn: 251.1951610\ttotal: 1.17s\tremaining: 1.81s\n",
      "392:\tlearn: 250.9024371\ttotal: 1.17s\tremaining: 1.8s\n",
      "393:\tlearn: 250.1674347\ttotal: 1.17s\tremaining: 1.8s\n",
      "394:\tlearn: 250.1523892\ttotal: 1.17s\tremaining: 1.8s\n",
      "395:\tlearn: 249.7935359\ttotal: 1.18s\tremaining: 1.79s\n",
      "396:\tlearn: 249.5930956\ttotal: 1.18s\tremaining: 1.79s\n",
      "397:\tlearn: 249.4378738\ttotal: 1.18s\tremaining: 1.79s\n",
      "398:\tlearn: 249.1574679\ttotal: 1.19s\tremaining: 1.78s\n",
      "399:\tlearn: 248.9827724\ttotal: 1.19s\tremaining: 1.78s\n",
      "400:\tlearn: 248.7772700\ttotal: 1.19s\tremaining: 1.78s\n",
      "401:\tlearn: 248.7027960\ttotal: 1.19s\tremaining: 1.77s\n",
      "402:\tlearn: 248.6967062\ttotal: 1.2s\tremaining: 1.77s\n",
      "403:\tlearn: 248.6810264\ttotal: 1.2s\tremaining: 1.77s\n",
      "404:\tlearn: 248.5821094\ttotal: 1.2s\tremaining: 1.77s\n",
      "405:\tlearn: 248.5571318\ttotal: 1.21s\tremaining: 1.76s\n",
      "406:\tlearn: 248.5518398\ttotal: 1.21s\tremaining: 1.76s\n",
      "407:\tlearn: 248.4749473\ttotal: 1.21s\tremaining: 1.76s\n",
      "408:\tlearn: 248.4150037\ttotal: 1.21s\tremaining: 1.75s\n",
      "409:\tlearn: 248.1275975\ttotal: 1.22s\tremaining: 1.75s\n",
      "410:\tlearn: 247.9372531\ttotal: 1.22s\tremaining: 1.75s\n",
      "411:\tlearn: 247.8394327\ttotal: 1.22s\tremaining: 1.74s\n",
      "412:\tlearn: 247.4790089\ttotal: 1.22s\tremaining: 1.74s\n",
      "413:\tlearn: 247.4513198\ttotal: 1.23s\tremaining: 1.74s\n",
      "414:\tlearn: 247.3217826\ttotal: 1.23s\tremaining: 1.73s\n",
      "415:\tlearn: 247.1714646\ttotal: 1.23s\tremaining: 1.73s\n",
      "416:\tlearn: 247.1622772\ttotal: 1.24s\tremaining: 1.73s\n",
      "417:\tlearn: 247.1393515\ttotal: 1.24s\tremaining: 1.72s\n",
      "418:\tlearn: 247.1113565\ttotal: 1.24s\tremaining: 1.72s\n",
      "419:\tlearn: 247.1064770\ttotal: 1.24s\tremaining: 1.72s\n",
      "420:\tlearn: 247.0418031\ttotal: 1.25s\tremaining: 1.71s\n",
      "421:\tlearn: 247.0201595\ttotal: 1.25s\tremaining: 1.71s\n",
      "422:\tlearn: 246.9422164\ttotal: 1.25s\tremaining: 1.71s\n",
      "423:\tlearn: 246.8727760\ttotal: 1.25s\tremaining: 1.71s\n",
      "424:\tlearn: 246.8655738\ttotal: 1.26s\tremaining: 1.7s\n",
      "425:\tlearn: 246.8434939\ttotal: 1.26s\tremaining: 1.7s\n",
      "426:\tlearn: 246.6966858\ttotal: 1.26s\tremaining: 1.7s\n",
      "427:\tlearn: 246.6800177\ttotal: 1.27s\tremaining: 1.69s\n",
      "428:\tlearn: 246.5166011\ttotal: 1.27s\tremaining: 1.69s\n",
      "429:\tlearn: 246.5147964\ttotal: 1.27s\tremaining: 1.69s\n",
      "430:\tlearn: 246.0593725\ttotal: 1.27s\tremaining: 1.68s\n",
      "431:\tlearn: 246.0269304\ttotal: 1.28s\tremaining: 1.68s\n",
      "432:\tlearn: 246.0140686\ttotal: 1.28s\tremaining: 1.68s\n",
      "433:\tlearn: 246.0067288\ttotal: 1.28s\tremaining: 1.67s\n",
      "434:\tlearn: 245.7307926\ttotal: 1.28s\tremaining: 1.67s\n",
      "435:\tlearn: 245.7186862\ttotal: 1.29s\tremaining: 1.67s\n",
      "436:\tlearn: 245.7035533\ttotal: 1.29s\tremaining: 1.66s\n",
      "437:\tlearn: 245.6940862\ttotal: 1.29s\tremaining: 1.66s\n",
      "438:\tlearn: 245.6801700\ttotal: 1.3s\tremaining: 1.66s\n",
      "439:\tlearn: 245.5601114\ttotal: 1.3s\tremaining: 1.65s\n",
      "440:\tlearn: 245.5141997\ttotal: 1.3s\tremaining: 1.65s\n",
      "441:\tlearn: 245.4140065\ttotal: 1.3s\tremaining: 1.65s\n",
      "442:\tlearn: 245.3882879\ttotal: 1.31s\tremaining: 1.65s\n",
      "443:\tlearn: 245.3627489\ttotal: 1.31s\tremaining: 1.64s\n",
      "444:\tlearn: 245.3302000\ttotal: 1.31s\tremaining: 1.64s\n",
      "445:\tlearn: 244.9768232\ttotal: 1.32s\tremaining: 1.64s\n",
      "446:\tlearn: 244.9366657\ttotal: 1.32s\tremaining: 1.63s\n",
      "447:\tlearn: 244.4803276\ttotal: 1.32s\tremaining: 1.63s\n",
      "448:\tlearn: 244.4074215\ttotal: 1.33s\tremaining: 1.63s\n",
      "449:\tlearn: 244.0677686\ttotal: 1.33s\tremaining: 1.62s\n",
      "450:\tlearn: 243.8826090\ttotal: 1.33s\tremaining: 1.62s\n",
      "451:\tlearn: 243.3310985\ttotal: 1.33s\tremaining: 1.62s\n",
      "452:\tlearn: 243.2173151\ttotal: 1.34s\tremaining: 1.61s\n",
      "453:\tlearn: 243.1916638\ttotal: 1.34s\tremaining: 1.61s\n",
      "454:\tlearn: 242.6216092\ttotal: 1.34s\tremaining: 1.61s\n",
      "455:\tlearn: 242.5288454\ttotal: 1.34s\tremaining: 1.6s\n",
      "456:\tlearn: 242.5259017\ttotal: 1.35s\tremaining: 1.6s\n",
      "457:\tlearn: 241.9940697\ttotal: 1.35s\tremaining: 1.6s\n",
      "458:\tlearn: 241.9695294\ttotal: 1.35s\tremaining: 1.59s\n",
      "459:\tlearn: 241.9523552\ttotal: 1.35s\tremaining: 1.59s\n",
      "460:\tlearn: 241.9192400\ttotal: 1.36s\tremaining: 1.59s\n",
      "461:\tlearn: 241.5309617\ttotal: 1.36s\tremaining: 1.58s\n",
      "462:\tlearn: 240.8376672\ttotal: 1.36s\tremaining: 1.58s\n",
      "463:\tlearn: 240.8211927\ttotal: 1.37s\tremaining: 1.58s\n",
      "464:\tlearn: 240.5598202\ttotal: 1.37s\tremaining: 1.57s\n",
      "465:\tlearn: 240.1676241\ttotal: 1.37s\tremaining: 1.57s\n",
      "466:\tlearn: 240.1296427\ttotal: 1.37s\tremaining: 1.57s\n",
      "467:\tlearn: 239.8475095\ttotal: 1.38s\tremaining: 1.57s\n",
      "468:\tlearn: 239.4067398\ttotal: 1.38s\tremaining: 1.56s\n",
      "469:\tlearn: 239.3790562\ttotal: 1.38s\tremaining: 1.56s\n",
      "470:\tlearn: 239.3472312\ttotal: 1.39s\tremaining: 1.56s\n",
      "471:\tlearn: 239.0866444\ttotal: 1.39s\tremaining: 1.55s\n",
      "472:\tlearn: 238.9955730\ttotal: 1.39s\tremaining: 1.55s\n",
      "473:\tlearn: 238.7468876\ttotal: 1.39s\tremaining: 1.55s\n",
      "474:\tlearn: 238.6289588\ttotal: 1.4s\tremaining: 1.54s\n",
      "475:\tlearn: 238.3962101\ttotal: 1.4s\tremaining: 1.54s\n",
      "476:\tlearn: 238.2784713\ttotal: 1.4s\tremaining: 1.54s\n",
      "477:\tlearn: 238.2575864\ttotal: 1.4s\tremaining: 1.53s\n",
      "478:\tlearn: 238.0742599\ttotal: 1.41s\tremaining: 1.53s\n",
      "479:\tlearn: 237.3046688\ttotal: 1.41s\tremaining: 1.53s\n",
      "480:\tlearn: 237.0155432\ttotal: 1.41s\tremaining: 1.52s\n",
      "481:\tlearn: 236.9314684\ttotal: 1.42s\tremaining: 1.52s\n",
      "482:\tlearn: 236.8838644\ttotal: 1.42s\tremaining: 1.52s\n",
      "483:\tlearn: 236.4416756\ttotal: 1.42s\tremaining: 1.52s\n",
      "484:\tlearn: 236.4069226\ttotal: 1.43s\tremaining: 1.51s\n",
      "485:\tlearn: 236.3375705\ttotal: 1.43s\tremaining: 1.51s\n",
      "486:\tlearn: 236.3044446\ttotal: 1.43s\tremaining: 1.51s\n",
      "487:\tlearn: 235.9447886\ttotal: 1.43s\tremaining: 1.5s\n",
      "488:\tlearn: 235.5510237\ttotal: 1.44s\tremaining: 1.5s\n",
      "489:\tlearn: 235.5487060\ttotal: 1.44s\tremaining: 1.5s\n",
      "490:\tlearn: 235.5472000\ttotal: 1.44s\tremaining: 1.5s\n",
      "491:\tlearn: 235.3468049\ttotal: 1.45s\tremaining: 1.49s\n",
      "492:\tlearn: 234.6669772\ttotal: 1.45s\tremaining: 1.49s\n",
      "493:\tlearn: 234.5375302\ttotal: 1.45s\tremaining: 1.49s\n",
      "494:\tlearn: 234.0498288\ttotal: 1.45s\tremaining: 1.48s\n",
      "495:\tlearn: 233.8765142\ttotal: 1.46s\tremaining: 1.48s\n",
      "496:\tlearn: 233.8670090\ttotal: 1.46s\tremaining: 1.48s\n",
      "497:\tlearn: 233.8569891\ttotal: 1.46s\tremaining: 1.47s\n",
      "498:\tlearn: 233.8078603\ttotal: 1.46s\tremaining: 1.47s\n",
      "499:\tlearn: 233.7785790\ttotal: 1.47s\tremaining: 1.47s\n",
      "500:\tlearn: 233.7494235\ttotal: 1.47s\tremaining: 1.46s\n",
      "501:\tlearn: 233.7436210\ttotal: 1.47s\tremaining: 1.46s\n",
      "502:\tlearn: 233.5256506\ttotal: 1.48s\tremaining: 1.46s\n",
      "503:\tlearn: 233.4755348\ttotal: 1.48s\tremaining: 1.45s\n",
      "504:\tlearn: 233.2479152\ttotal: 1.48s\tremaining: 1.45s\n",
      "505:\tlearn: 232.9349729\ttotal: 1.48s\tremaining: 1.45s\n",
      "506:\tlearn: 232.5478718\ttotal: 1.49s\tremaining: 1.44s\n",
      "507:\tlearn: 232.5001540\ttotal: 1.49s\tremaining: 1.44s\n",
      "508:\tlearn: 232.4862775\ttotal: 1.49s\tremaining: 1.44s\n",
      "509:\tlearn: 232.4752973\ttotal: 1.49s\tremaining: 1.43s\n",
      "510:\tlearn: 232.4658737\ttotal: 1.5s\tremaining: 1.43s\n",
      "511:\tlearn: 232.4503745\ttotal: 1.5s\tremaining: 1.43s\n",
      "512:\tlearn: 232.4479491\ttotal: 1.5s\tremaining: 1.42s\n",
      "513:\tlearn: 232.4345053\ttotal: 1.5s\tremaining: 1.42s\n",
      "514:\tlearn: 231.9802364\ttotal: 1.51s\tremaining: 1.42s\n",
      "515:\tlearn: 231.8890911\ttotal: 1.51s\tremaining: 1.42s\n",
      "516:\tlearn: 231.3009143\ttotal: 1.51s\tremaining: 1.41s\n",
      "517:\tlearn: 231.2306884\ttotal: 1.51s\tremaining: 1.41s\n",
      "518:\tlearn: 231.1965377\ttotal: 1.52s\tremaining: 1.41s\n",
      "519:\tlearn: 231.1294374\ttotal: 1.52s\tremaining: 1.4s\n",
      "520:\tlearn: 230.9629574\ttotal: 1.52s\tremaining: 1.4s\n",
      "521:\tlearn: 230.6538142\ttotal: 1.52s\tremaining: 1.4s\n",
      "522:\tlearn: 230.6461117\ttotal: 1.53s\tremaining: 1.39s\n",
      "523:\tlearn: 230.5762283\ttotal: 1.53s\tremaining: 1.39s\n",
      "524:\tlearn: 230.4049072\ttotal: 1.53s\tremaining: 1.39s\n",
      "525:\tlearn: 230.0412593\ttotal: 1.54s\tremaining: 1.38s\n",
      "526:\tlearn: 230.0167921\ttotal: 1.54s\tremaining: 1.38s\n",
      "527:\tlearn: 229.9909196\ttotal: 1.54s\tremaining: 1.38s\n",
      "528:\tlearn: 229.3880454\ttotal: 1.54s\tremaining: 1.38s\n",
      "529:\tlearn: 229.1924102\ttotal: 1.55s\tremaining: 1.37s\n",
      "530:\tlearn: 229.1885936\ttotal: 1.55s\tremaining: 1.37s\n",
      "531:\tlearn: 229.1818831\ttotal: 1.55s\tremaining: 1.36s\n",
      "532:\tlearn: 229.1541552\ttotal: 1.55s\tremaining: 1.36s\n",
      "533:\tlearn: 229.1085151\ttotal: 1.56s\tremaining: 1.36s\n",
      "534:\tlearn: 228.8540247\ttotal: 1.56s\tremaining: 1.35s\n",
      "535:\tlearn: 228.8443857\ttotal: 1.56s\tremaining: 1.35s\n",
      "536:\tlearn: 228.3599826\ttotal: 1.56s\tremaining: 1.35s\n",
      "537:\tlearn: 228.3556567\ttotal: 1.57s\tremaining: 1.34s\n",
      "538:\tlearn: 228.3220183\ttotal: 1.57s\tremaining: 1.34s\n",
      "539:\tlearn: 228.3204679\ttotal: 1.57s\tremaining: 1.34s\n",
      "540:\tlearn: 228.2913734\ttotal: 1.57s\tremaining: 1.34s\n",
      "541:\tlearn: 228.2660758\ttotal: 1.58s\tremaining: 1.33s\n",
      "542:\tlearn: 228.2435769\ttotal: 1.58s\tremaining: 1.33s\n",
      "543:\tlearn: 228.2320102\ttotal: 1.58s\tremaining: 1.33s\n",
      "544:\tlearn: 228.1720730\ttotal: 1.59s\tremaining: 1.32s\n",
      "545:\tlearn: 226.9983407\ttotal: 1.59s\tremaining: 1.32s\n",
      "546:\tlearn: 225.7933683\ttotal: 1.59s\tremaining: 1.32s\n",
      "547:\tlearn: 225.4920490\ttotal: 1.59s\tremaining: 1.31s\n",
      "548:\tlearn: 224.7301207\ttotal: 1.6s\tremaining: 1.31s\n",
      "549:\tlearn: 224.4934376\ttotal: 1.6s\tremaining: 1.31s\n",
      "550:\tlearn: 223.2965402\ttotal: 1.6s\tremaining: 1.3s\n",
      "551:\tlearn: 222.9051773\ttotal: 1.6s\tremaining: 1.3s\n",
      "552:\tlearn: 222.8838384\ttotal: 1.61s\tremaining: 1.3s\n",
      "553:\tlearn: 221.7822716\ttotal: 1.61s\tremaining: 1.29s\n",
      "554:\tlearn: 221.7331108\ttotal: 1.61s\tremaining: 1.29s\n",
      "555:\tlearn: 221.3927834\ttotal: 1.61s\tremaining: 1.29s\n",
      "556:\tlearn: 221.3575082\ttotal: 1.62s\tremaining: 1.29s\n",
      "557:\tlearn: 221.3382763\ttotal: 1.62s\tremaining: 1.28s\n",
      "558:\tlearn: 221.1956865\ttotal: 1.62s\tremaining: 1.28s\n",
      "559:\tlearn: 220.9287132\ttotal: 1.63s\tremaining: 1.28s\n",
      "560:\tlearn: 220.8314155\ttotal: 1.63s\tremaining: 1.27s\n",
      "561:\tlearn: 220.4968454\ttotal: 1.63s\tremaining: 1.27s\n",
      "562:\tlearn: 220.0679413\ttotal: 1.63s\tremaining: 1.27s\n",
      "563:\tlearn: 219.5466582\ttotal: 1.64s\tremaining: 1.26s\n",
      "564:\tlearn: 219.5100762\ttotal: 1.64s\tremaining: 1.26s\n",
      "565:\tlearn: 219.4903331\ttotal: 1.64s\tremaining: 1.26s\n",
      "566:\tlearn: 219.4147909\ttotal: 1.64s\tremaining: 1.25s\n",
      "567:\tlearn: 219.4036817\ttotal: 1.65s\tremaining: 1.25s\n",
      "568:\tlearn: 219.3998439\ttotal: 1.65s\tremaining: 1.25s\n",
      "569:\tlearn: 219.3725312\ttotal: 1.65s\tremaining: 1.25s\n",
      "570:\tlearn: 219.3230436\ttotal: 1.65s\tremaining: 1.24s\n",
      "571:\tlearn: 219.2303202\ttotal: 1.66s\tremaining: 1.24s\n",
      "572:\tlearn: 219.2206119\ttotal: 1.66s\tremaining: 1.24s\n",
      "573:\tlearn: 219.1977126\ttotal: 1.66s\tremaining: 1.23s\n",
      "574:\tlearn: 219.1890682\ttotal: 1.66s\tremaining: 1.23s\n",
      "575:\tlearn: 219.1771550\ttotal: 1.67s\tremaining: 1.23s\n",
      "576:\tlearn: 219.1746995\ttotal: 1.67s\tremaining: 1.22s\n",
      "577:\tlearn: 219.1714613\ttotal: 1.67s\tremaining: 1.22s\n",
      "578:\tlearn: 218.6933340\ttotal: 1.67s\tremaining: 1.22s\n",
      "579:\tlearn: 218.6837547\ttotal: 1.68s\tremaining: 1.21s\n",
      "580:\tlearn: 218.6301321\ttotal: 1.68s\tremaining: 1.21s\n",
      "581:\tlearn: 217.7185735\ttotal: 1.68s\tremaining: 1.21s\n",
      "582:\tlearn: 217.0198056\ttotal: 1.69s\tremaining: 1.21s\n",
      "583:\tlearn: 216.3231981\ttotal: 1.69s\tremaining: 1.2s\n",
      "584:\tlearn: 216.3095340\ttotal: 1.69s\tremaining: 1.2s\n",
      "585:\tlearn: 216.2249445\ttotal: 1.69s\tremaining: 1.2s\n",
      "586:\tlearn: 216.0585605\ttotal: 1.7s\tremaining: 1.19s\n",
      "587:\tlearn: 214.7652579\ttotal: 1.7s\tremaining: 1.19s\n",
      "588:\tlearn: 214.4061593\ttotal: 1.7s\tremaining: 1.19s\n",
      "589:\tlearn: 214.3242566\ttotal: 1.7s\tremaining: 1.18s\n",
      "590:\tlearn: 214.2574711\ttotal: 1.71s\tremaining: 1.18s\n",
      "591:\tlearn: 213.4247148\ttotal: 1.71s\tremaining: 1.18s\n",
      "592:\tlearn: 213.3966928\ttotal: 1.71s\tremaining: 1.17s\n",
      "593:\tlearn: 213.1545899\ttotal: 1.71s\tremaining: 1.17s\n",
      "594:\tlearn: 213.1101727\ttotal: 1.72s\tremaining: 1.17s\n",
      "595:\tlearn: 213.1088306\ttotal: 1.72s\tremaining: 1.16s\n",
      "596:\tlearn: 213.1073278\ttotal: 1.72s\tremaining: 1.16s\n",
      "597:\tlearn: 212.9441905\ttotal: 1.72s\tremaining: 1.16s\n",
      "598:\tlearn: 212.7250527\ttotal: 1.73s\tremaining: 1.16s\n",
      "599:\tlearn: 212.2703905\ttotal: 1.73s\tremaining: 1.15s\n",
      "600:\tlearn: 211.8078822\ttotal: 1.73s\tremaining: 1.15s\n",
      "601:\tlearn: 211.3088527\ttotal: 1.73s\tremaining: 1.15s\n",
      "602:\tlearn: 211.0699595\ttotal: 1.74s\tremaining: 1.14s\n",
      "603:\tlearn: 210.4050086\ttotal: 1.74s\tremaining: 1.14s\n",
      "604:\tlearn: 210.0746009\ttotal: 1.74s\tremaining: 1.14s\n",
      "605:\tlearn: 210.0190407\ttotal: 1.74s\tremaining: 1.13s\n",
      "606:\tlearn: 210.0029349\ttotal: 1.75s\tremaining: 1.13s\n",
      "607:\tlearn: 209.5591598\ttotal: 1.75s\tremaining: 1.13s\n",
      "608:\tlearn: 209.5216627\ttotal: 1.75s\tremaining: 1.12s\n",
      "609:\tlearn: 209.4913252\ttotal: 1.75s\tremaining: 1.12s\n",
      "610:\tlearn: 209.3126046\ttotal: 1.76s\tremaining: 1.12s\n",
      "611:\tlearn: 209.3009870\ttotal: 1.76s\tremaining: 1.11s\n",
      "612:\tlearn: 209.1729179\ttotal: 1.76s\tremaining: 1.11s\n",
      "613:\tlearn: 209.1299238\ttotal: 1.76s\tremaining: 1.11s\n",
      "614:\tlearn: 209.0882766\ttotal: 1.77s\tremaining: 1.11s\n",
      "615:\tlearn: 209.0700072\ttotal: 1.77s\tremaining: 1.1s\n",
      "616:\tlearn: 208.9833502\ttotal: 1.77s\tremaining: 1.1s\n",
      "617:\tlearn: 208.9368070\ttotal: 1.78s\tremaining: 1.1s\n",
      "618:\tlearn: 208.7069090\ttotal: 1.78s\tremaining: 1.09s\n",
      "619:\tlearn: 208.6999467\ttotal: 1.78s\tremaining: 1.09s\n",
      "620:\tlearn: 208.6912817\ttotal: 1.78s\tremaining: 1.09s\n",
      "621:\tlearn: 208.6490633\ttotal: 1.79s\tremaining: 1.08s\n",
      "622:\tlearn: 208.6291410\ttotal: 1.79s\tremaining: 1.08s\n",
      "623:\tlearn: 208.5888069\ttotal: 1.79s\tremaining: 1.08s\n",
      "624:\tlearn: 208.4772993\ttotal: 1.79s\tremaining: 1.08s\n",
      "625:\tlearn: 208.4507746\ttotal: 1.8s\tremaining: 1.07s\n",
      "626:\tlearn: 208.4204537\ttotal: 1.8s\tremaining: 1.07s\n",
      "627:\tlearn: 208.3529191\ttotal: 1.8s\tremaining: 1.07s\n",
      "628:\tlearn: 208.3310110\ttotal: 1.8s\tremaining: 1.06s\n",
      "629:\tlearn: 208.3048057\ttotal: 1.81s\tremaining: 1.06s\n",
      "630:\tlearn: 208.3036825\ttotal: 1.81s\tremaining: 1.06s\n",
      "631:\tlearn: 208.2029997\ttotal: 1.81s\tremaining: 1.06s\n",
      "632:\tlearn: 207.8664061\ttotal: 1.82s\tremaining: 1.05s\n",
      "633:\tlearn: 207.8627277\ttotal: 1.82s\tremaining: 1.05s\n",
      "634:\tlearn: 207.8010590\ttotal: 1.82s\tremaining: 1.05s\n",
      "635:\tlearn: 207.7423272\ttotal: 1.82s\tremaining: 1.04s\n",
      "636:\tlearn: 207.5642328\ttotal: 1.83s\tremaining: 1.04s\n",
      "637:\tlearn: 207.5392441\ttotal: 1.83s\tremaining: 1.04s\n",
      "638:\tlearn: 207.5145028\ttotal: 1.83s\tremaining: 1.03s\n",
      "639:\tlearn: 207.4850259\ttotal: 1.83s\tremaining: 1.03s\n",
      "640:\tlearn: 207.4444416\ttotal: 1.84s\tremaining: 1.03s\n",
      "641:\tlearn: 207.4291563\ttotal: 1.84s\tremaining: 1.03s\n",
      "642:\tlearn: 207.4202753\ttotal: 1.84s\tremaining: 1.02s\n",
      "643:\tlearn: 207.2819298\ttotal: 1.85s\tremaining: 1.02s\n",
      "644:\tlearn: 207.1184711\ttotal: 1.85s\tremaining: 1.02s\n",
      "645:\tlearn: 207.0400722\ttotal: 1.85s\tremaining: 1.01s\n",
      "646:\tlearn: 207.0089653\ttotal: 1.85s\tremaining: 1.01s\n",
      "647:\tlearn: 206.4121502\ttotal: 1.86s\tremaining: 1.01s\n",
      "648:\tlearn: 206.3520740\ttotal: 1.86s\tremaining: 1.01s\n",
      "649:\tlearn: 206.3090550\ttotal: 1.86s\tremaining: 1s\n",
      "650:\tlearn: 206.2633850\ttotal: 1.86s\tremaining: 1s\n",
      "651:\tlearn: 206.0128706\ttotal: 1.87s\tremaining: 997ms\n",
      "652:\tlearn: 205.9819367\ttotal: 1.87s\tremaining: 994ms\n",
      "653:\tlearn: 205.8581508\ttotal: 1.87s\tremaining: 991ms\n",
      "654:\tlearn: 205.7289459\ttotal: 1.88s\tremaining: 989ms\n",
      "655:\tlearn: 205.7047560\ttotal: 1.88s\tremaining: 986ms\n",
      "656:\tlearn: 205.6935480\ttotal: 1.88s\tremaining: 983ms\n",
      "657:\tlearn: 205.6559660\ttotal: 1.89s\tremaining: 980ms\n",
      "658:\tlearn: 205.5434832\ttotal: 1.89s\tremaining: 977ms\n",
      "659:\tlearn: 205.5236432\ttotal: 1.89s\tremaining: 974ms\n",
      "660:\tlearn: 205.2624357\ttotal: 1.89s\tremaining: 971ms\n",
      "661:\tlearn: 205.2404306\ttotal: 1.9s\tremaining: 968ms\n",
      "662:\tlearn: 205.1670647\ttotal: 1.9s\tremaining: 965ms\n",
      "663:\tlearn: 205.1632139\ttotal: 1.9s\tremaining: 963ms\n",
      "664:\tlearn: 204.9090550\ttotal: 1.9s\tremaining: 959ms\n",
      "665:\tlearn: 204.7298588\ttotal: 1.91s\tremaining: 956ms\n",
      "666:\tlearn: 204.5768994\ttotal: 1.91s\tremaining: 954ms\n",
      "667:\tlearn: 204.5687904\ttotal: 1.91s\tremaining: 950ms\n",
      "668:\tlearn: 204.3857835\ttotal: 1.91s\tremaining: 947ms\n",
      "669:\tlearn: 204.3771164\ttotal: 1.92s\tremaining: 944ms\n",
      "670:\tlearn: 204.2510839\ttotal: 1.92s\tremaining: 941ms\n",
      "671:\tlearn: 204.2431985\ttotal: 1.92s\tremaining: 938ms\n",
      "672:\tlearn: 204.2351579\ttotal: 1.93s\tremaining: 935ms\n",
      "673:\tlearn: 204.0347437\ttotal: 1.93s\tremaining: 932ms\n",
      "674:\tlearn: 204.0244882\ttotal: 1.93s\tremaining: 929ms\n",
      "675:\tlearn: 203.7781193\ttotal: 1.93s\tremaining: 926ms\n",
      "676:\tlearn: 203.6541455\ttotal: 1.94s\tremaining: 924ms\n",
      "677:\tlearn: 203.6055941\ttotal: 1.94s\tremaining: 920ms\n",
      "678:\tlearn: 203.5879490\ttotal: 1.94s\tremaining: 917ms\n",
      "679:\tlearn: 203.5506874\ttotal: 1.94s\tremaining: 914ms\n",
      "680:\tlearn: 202.5430214\ttotal: 1.95s\tremaining: 911ms\n",
      "681:\tlearn: 202.3016814\ttotal: 1.95s\tremaining: 908ms\n",
      "682:\tlearn: 202.2647622\ttotal: 1.95s\tremaining: 905ms\n",
      "683:\tlearn: 202.1558295\ttotal: 1.95s\tremaining: 902ms\n",
      "684:\tlearn: 202.0555405\ttotal: 1.96s\tremaining: 899ms\n",
      "685:\tlearn: 201.8362645\ttotal: 1.96s\tremaining: 896ms\n",
      "686:\tlearn: 201.7937167\ttotal: 1.96s\tremaining: 893ms\n",
      "687:\tlearn: 201.7723955\ttotal: 1.96s\tremaining: 890ms\n",
      "688:\tlearn: 201.7213292\ttotal: 1.97s\tremaining: 887ms\n",
      "689:\tlearn: 201.4658238\ttotal: 1.97s\tremaining: 884ms\n",
      "690:\tlearn: 201.3596748\ttotal: 1.97s\tremaining: 881ms\n",
      "691:\tlearn: 201.3452147\ttotal: 1.97s\tremaining: 878ms\n",
      "692:\tlearn: 201.2983283\ttotal: 1.98s\tremaining: 875ms\n",
      "693:\tlearn: 201.2663350\ttotal: 1.98s\tremaining: 872ms\n",
      "694:\tlearn: 201.0262937\ttotal: 1.98s\tremaining: 869ms\n",
      "695:\tlearn: 201.0189996\ttotal: 1.98s\tremaining: 867ms\n",
      "696:\tlearn: 200.9886764\ttotal: 1.99s\tremaining: 864ms\n",
      "697:\tlearn: 200.9848515\ttotal: 1.99s\tremaining: 861ms\n",
      "698:\tlearn: 200.8582956\ttotal: 1.99s\tremaining: 858ms\n",
      "699:\tlearn: 200.5157984\ttotal: 2s\tremaining: 855ms\n",
      "700:\tlearn: 200.4970765\ttotal: 2s\tremaining: 852ms\n",
      "701:\tlearn: 200.2971973\ttotal: 2s\tremaining: 849ms\n",
      "702:\tlearn: 200.2637249\ttotal: 2s\tremaining: 846ms\n",
      "703:\tlearn: 200.2624673\ttotal: 2s\tremaining: 843ms\n",
      "704:\tlearn: 199.9748020\ttotal: 2.01s\tremaining: 840ms\n",
      "705:\tlearn: 199.8805121\ttotal: 2.01s\tremaining: 837ms\n",
      "706:\tlearn: 199.8765497\ttotal: 2.01s\tremaining: 834ms\n",
      "707:\tlearn: 199.8630661\ttotal: 2.02s\tremaining: 831ms\n",
      "708:\tlearn: 199.8158526\ttotal: 2.02s\tremaining: 828ms\n",
      "709:\tlearn: 199.8112645\ttotal: 2.02s\tremaining: 826ms\n",
      "710:\tlearn: 199.8088839\ttotal: 2.02s\tremaining: 823ms\n",
      "711:\tlearn: 199.7089074\ttotal: 2.03s\tremaining: 820ms\n",
      "712:\tlearn: 199.7021681\ttotal: 2.03s\tremaining: 817ms\n",
      "713:\tlearn: 199.6938733\ttotal: 2.03s\tremaining: 814ms\n",
      "714:\tlearn: 199.6421178\ttotal: 2.03s\tremaining: 811ms\n",
      "715:\tlearn: 199.4796870\ttotal: 2.04s\tremaining: 808ms\n",
      "716:\tlearn: 199.3896199\ttotal: 2.04s\tremaining: 805ms\n",
      "717:\tlearn: 199.3423400\ttotal: 2.04s\tremaining: 802ms\n",
      "718:\tlearn: 199.2773812\ttotal: 2.04s\tremaining: 799ms\n",
      "719:\tlearn: 199.1663837\ttotal: 2.05s\tremaining: 796ms\n",
      "720:\tlearn: 199.0976496\ttotal: 2.05s\tremaining: 793ms\n",
      "721:\tlearn: 199.0412150\ttotal: 2.05s\tremaining: 790ms\n",
      "722:\tlearn: 198.9895276\ttotal: 2.06s\tremaining: 787ms\n",
      "723:\tlearn: 198.9881991\ttotal: 2.06s\tremaining: 785ms\n",
      "724:\tlearn: 198.7374415\ttotal: 2.06s\tremaining: 781ms\n",
      "725:\tlearn: 198.7072516\ttotal: 2.06s\tremaining: 779ms\n",
      "726:\tlearn: 198.4216998\ttotal: 2.06s\tremaining: 776ms\n",
      "727:\tlearn: 198.3591411\ttotal: 2.07s\tremaining: 773ms\n",
      "728:\tlearn: 197.9667681\ttotal: 2.07s\tremaining: 770ms\n",
      "729:\tlearn: 197.8972273\ttotal: 2.07s\tremaining: 767ms\n",
      "730:\tlearn: 197.8894775\ttotal: 2.08s\tremaining: 764ms\n",
      "731:\tlearn: 197.8762391\ttotal: 2.08s\tremaining: 761ms\n",
      "732:\tlearn: 197.7482666\ttotal: 2.08s\tremaining: 758ms\n",
      "733:\tlearn: 197.7165107\ttotal: 2.08s\tremaining: 755ms\n",
      "734:\tlearn: 197.7145879\ttotal: 2.09s\tremaining: 752ms\n",
      "735:\tlearn: 197.6144927\ttotal: 2.09s\tremaining: 749ms\n",
      "736:\tlearn: 197.5914553\ttotal: 2.09s\tremaining: 746ms\n",
      "737:\tlearn: 197.0760039\ttotal: 2.09s\tremaining: 743ms\n",
      "738:\tlearn: 196.7735842\ttotal: 2.1s\tremaining: 741ms\n",
      "739:\tlearn: 196.6793111\ttotal: 2.1s\tremaining: 738ms\n",
      "740:\tlearn: 196.6184964\ttotal: 2.1s\tremaining: 735ms\n",
      "741:\tlearn: 196.5540862\ttotal: 2.1s\tremaining: 732ms\n",
      "742:\tlearn: 196.4043130\ttotal: 2.11s\tremaining: 729ms\n",
      "743:\tlearn: 196.3648089\ttotal: 2.11s\tremaining: 726ms\n",
      "744:\tlearn: 196.3147863\ttotal: 2.11s\tremaining: 723ms\n",
      "745:\tlearn: 196.1342379\ttotal: 2.12s\tremaining: 720ms\n",
      "746:\tlearn: 196.0928809\ttotal: 2.12s\tremaining: 717ms\n",
      "747:\tlearn: 195.0226036\ttotal: 2.12s\tremaining: 714ms\n",
      "748:\tlearn: 194.9672515\ttotal: 2.12s\tremaining: 711ms\n",
      "749:\tlearn: 194.4183379\ttotal: 2.13s\tremaining: 708ms\n",
      "750:\tlearn: 194.1839290\ttotal: 2.13s\tremaining: 705ms\n",
      "751:\tlearn: 194.1797942\ttotal: 2.13s\tremaining: 703ms\n",
      "752:\tlearn: 194.0399876\ttotal: 2.13s\tremaining: 700ms\n",
      "753:\tlearn: 193.7766966\ttotal: 2.13s\tremaining: 697ms\n",
      "754:\tlearn: 193.6818739\ttotal: 2.14s\tremaining: 694ms\n",
      "755:\tlearn: 193.0767099\ttotal: 2.14s\tremaining: 691ms\n",
      "756:\tlearn: 193.0572537\ttotal: 2.14s\tremaining: 688ms\n",
      "757:\tlearn: 192.9691229\ttotal: 2.15s\tremaining: 685ms\n",
      "758:\tlearn: 192.3407929\ttotal: 2.15s\tremaining: 682ms\n",
      "759:\tlearn: 192.3376961\ttotal: 2.15s\tremaining: 679ms\n",
      "760:\tlearn: 192.3179498\ttotal: 2.15s\tremaining: 677ms\n",
      "761:\tlearn: 192.2375044\ttotal: 2.16s\tremaining: 674ms\n",
      "762:\tlearn: 192.1620474\ttotal: 2.16s\tremaining: 671ms\n",
      "763:\tlearn: 192.1475276\ttotal: 2.16s\tremaining: 668ms\n",
      "764:\tlearn: 192.1426294\ttotal: 2.17s\tremaining: 665ms\n",
      "765:\tlearn: 192.1057856\ttotal: 2.17s\tremaining: 662ms\n",
      "766:\tlearn: 192.0540031\ttotal: 2.17s\tremaining: 660ms\n",
      "767:\tlearn: 191.8031819\ttotal: 2.17s\tremaining: 657ms\n",
      "768:\tlearn: 191.7522526\ttotal: 2.18s\tremaining: 654ms\n",
      "769:\tlearn: 191.7054362\ttotal: 2.18s\tremaining: 651ms\n",
      "770:\tlearn: 191.3159055\ttotal: 2.18s\tremaining: 648ms\n",
      "771:\tlearn: 191.0211396\ttotal: 2.19s\tremaining: 646ms\n",
      "772:\tlearn: 191.0163944\ttotal: 2.19s\tremaining: 643ms\n",
      "773:\tlearn: 190.9673589\ttotal: 2.19s\tremaining: 640ms\n",
      "774:\tlearn: 190.6686688\ttotal: 2.19s\tremaining: 637ms\n",
      "775:\tlearn: 190.6205269\ttotal: 2.2s\tremaining: 634ms\n",
      "776:\tlearn: 190.5739695\ttotal: 2.2s\tremaining: 632ms\n",
      "777:\tlearn: 190.5528332\ttotal: 2.2s\tremaining: 629ms\n",
      "778:\tlearn: 190.5472867\ttotal: 2.21s\tremaining: 626ms\n",
      "779:\tlearn: 190.5318734\ttotal: 2.21s\tremaining: 623ms\n",
      "780:\tlearn: 190.4836098\ttotal: 2.21s\tremaining: 620ms\n",
      "781:\tlearn: 190.3908132\ttotal: 2.21s\tremaining: 617ms\n",
      "782:\tlearn: 190.1845005\ttotal: 2.22s\tremaining: 614ms\n",
      "783:\tlearn: 190.1522460\ttotal: 2.22s\tremaining: 612ms\n",
      "784:\tlearn: 190.1016755\ttotal: 2.22s\tremaining: 609ms\n",
      "785:\tlearn: 190.0883385\ttotal: 2.22s\tremaining: 606ms\n",
      "786:\tlearn: 190.0632874\ttotal: 2.23s\tremaining: 603ms\n",
      "787:\tlearn: 190.0446637\ttotal: 2.23s\tremaining: 600ms\n",
      "788:\tlearn: 190.0170659\ttotal: 2.23s\tremaining: 598ms\n",
      "789:\tlearn: 190.0095272\ttotal: 2.24s\tremaining: 595ms\n",
      "790:\tlearn: 190.0011441\ttotal: 2.24s\tremaining: 592ms\n",
      "791:\tlearn: 189.9400973\ttotal: 2.24s\tremaining: 589ms\n",
      "792:\tlearn: 189.6373795\ttotal: 2.25s\tremaining: 586ms\n",
      "793:\tlearn: 189.6230763\ttotal: 2.25s\tremaining: 583ms\n",
      "794:\tlearn: 189.5877574\ttotal: 2.25s\tremaining: 581ms\n",
      "795:\tlearn: 189.4214769\ttotal: 2.25s\tremaining: 578ms\n",
      "796:\tlearn: 189.3498769\ttotal: 2.26s\tremaining: 575ms\n",
      "797:\tlearn: 189.3205904\ttotal: 2.26s\tremaining: 572ms\n",
      "798:\tlearn: 189.2166994\ttotal: 2.26s\tremaining: 569ms\n",
      "799:\tlearn: 189.2092156\ttotal: 2.27s\tremaining: 566ms\n",
      "800:\tlearn: 188.7177439\ttotal: 2.27s\tremaining: 564ms\n",
      "801:\tlearn: 188.6369895\ttotal: 2.27s\tremaining: 561ms\n",
      "802:\tlearn: 188.5410443\ttotal: 2.27s\tremaining: 558ms\n",
      "803:\tlearn: 188.4746003\ttotal: 2.28s\tremaining: 555ms\n",
      "804:\tlearn: 188.4337837\ttotal: 2.28s\tremaining: 552ms\n",
      "805:\tlearn: 188.3499392\ttotal: 2.28s\tremaining: 549ms\n",
      "806:\tlearn: 188.1852131\ttotal: 2.28s\tremaining: 546ms\n",
      "807:\tlearn: 188.1112607\ttotal: 2.29s\tremaining: 543ms\n",
      "808:\tlearn: 187.8376386\ttotal: 2.29s\tremaining: 540ms\n",
      "809:\tlearn: 187.8200033\ttotal: 2.29s\tremaining: 538ms\n",
      "810:\tlearn: 187.7919292\ttotal: 2.29s\tremaining: 535ms\n",
      "811:\tlearn: 187.7844463\ttotal: 2.3s\tremaining: 532ms\n",
      "812:\tlearn: 187.7659562\ttotal: 2.3s\tremaining: 529ms\n",
      "813:\tlearn: 187.7493903\ttotal: 2.3s\tremaining: 526ms\n",
      "814:\tlearn: 187.6750064\ttotal: 2.31s\tremaining: 523ms\n",
      "815:\tlearn: 187.5765214\ttotal: 2.31s\tremaining: 521ms\n",
      "816:\tlearn: 187.5206731\ttotal: 2.31s\tremaining: 518ms\n",
      "817:\tlearn: 187.3562027\ttotal: 2.31s\tremaining: 515ms\n",
      "818:\tlearn: 187.2940385\ttotal: 2.32s\tremaining: 512ms\n",
      "819:\tlearn: 187.2872287\ttotal: 2.32s\tremaining: 509ms\n",
      "820:\tlearn: 187.1886466\ttotal: 2.32s\tremaining: 506ms\n",
      "821:\tlearn: 187.1860651\ttotal: 2.32s\tremaining: 503ms\n",
      "822:\tlearn: 187.1563111\ttotal: 2.33s\tremaining: 501ms\n",
      "823:\tlearn: 187.1419499\ttotal: 2.33s\tremaining: 498ms\n",
      "824:\tlearn: 187.1317787\ttotal: 2.33s\tremaining: 495ms\n",
      "825:\tlearn: 187.0951566\ttotal: 2.34s\tremaining: 492ms\n",
      "826:\tlearn: 187.0687631\ttotal: 2.34s\tremaining: 489ms\n",
      "827:\tlearn: 186.8329989\ttotal: 2.34s\tremaining: 486ms\n",
      "828:\tlearn: 186.8127974\ttotal: 2.34s\tremaining: 484ms\n",
      "829:\tlearn: 186.7932294\ttotal: 2.35s\tremaining: 481ms\n",
      "830:\tlearn: 186.7466391\ttotal: 2.35s\tremaining: 478ms\n",
      "831:\tlearn: 186.7286324\ttotal: 2.35s\tremaining: 475ms\n",
      "832:\tlearn: 186.6562399\ttotal: 2.35s\tremaining: 472ms\n",
      "833:\tlearn: 186.6310882\ttotal: 2.36s\tremaining: 469ms\n",
      "834:\tlearn: 186.6158449\ttotal: 2.36s\tremaining: 466ms\n",
      "835:\tlearn: 186.5036959\ttotal: 2.36s\tremaining: 463ms\n",
      "836:\tlearn: 186.4975740\ttotal: 2.36s\tremaining: 460ms\n",
      "837:\tlearn: 186.4681836\ttotal: 2.37s\tremaining: 458ms\n",
      "838:\tlearn: 185.6704140\ttotal: 2.37s\tremaining: 455ms\n",
      "839:\tlearn: 185.6097111\ttotal: 2.37s\tremaining: 452ms\n",
      "840:\tlearn: 185.3211350\ttotal: 2.38s\tremaining: 449ms\n",
      "841:\tlearn: 185.2750843\ttotal: 2.38s\tremaining: 446ms\n",
      "842:\tlearn: 185.2353541\ttotal: 2.38s\tremaining: 444ms\n",
      "843:\tlearn: 185.1264684\ttotal: 2.38s\tremaining: 441ms\n",
      "844:\tlearn: 184.7611241\ttotal: 2.39s\tremaining: 438ms\n",
      "845:\tlearn: 184.6286459\ttotal: 2.39s\tremaining: 435ms\n",
      "846:\tlearn: 184.5905046\ttotal: 2.39s\tremaining: 432ms\n",
      "847:\tlearn: 184.5441031\ttotal: 2.39s\tremaining: 429ms\n",
      "848:\tlearn: 184.3552431\ttotal: 2.4s\tremaining: 426ms\n",
      "849:\tlearn: 184.3162377\ttotal: 2.4s\tremaining: 423ms\n",
      "850:\tlearn: 184.2815472\ttotal: 2.4s\tremaining: 421ms\n",
      "851:\tlearn: 184.1690226\ttotal: 2.4s\tremaining: 418ms\n",
      "852:\tlearn: 184.1067336\ttotal: 2.41s\tremaining: 415ms\n",
      "853:\tlearn: 184.0593900\ttotal: 2.41s\tremaining: 412ms\n",
      "854:\tlearn: 183.9356403\ttotal: 2.41s\tremaining: 409ms\n",
      "855:\tlearn: 183.9068989\ttotal: 2.42s\tremaining: 406ms\n",
      "856:\tlearn: 183.8946705\ttotal: 2.42s\tremaining: 404ms\n",
      "857:\tlearn: 183.8708213\ttotal: 2.42s\tremaining: 401ms\n",
      "858:\tlearn: 183.8417975\ttotal: 2.42s\tremaining: 398ms\n",
      "859:\tlearn: 183.8189347\ttotal: 2.43s\tremaining: 395ms\n",
      "860:\tlearn: 183.7847274\ttotal: 2.43s\tremaining: 392ms\n",
      "861:\tlearn: 183.7707360\ttotal: 2.43s\tremaining: 389ms\n",
      "862:\tlearn: 183.7545771\ttotal: 2.43s\tremaining: 386ms\n",
      "863:\tlearn: 183.6994062\ttotal: 2.44s\tremaining: 384ms\n",
      "864:\tlearn: 183.2297739\ttotal: 2.44s\tremaining: 381ms\n",
      "865:\tlearn: 183.0168641\ttotal: 2.44s\tremaining: 378ms\n",
      "866:\tlearn: 182.8647841\ttotal: 2.44s\tremaining: 375ms\n",
      "867:\tlearn: 182.8330653\ttotal: 2.45s\tremaining: 372ms\n",
      "868:\tlearn: 182.3973103\ttotal: 2.45s\tremaining: 370ms\n",
      "869:\tlearn: 182.1998099\ttotal: 2.45s\tremaining: 367ms\n",
      "870:\tlearn: 182.1327218\ttotal: 2.46s\tremaining: 364ms\n",
      "871:\tlearn: 182.0491959\ttotal: 2.46s\tremaining: 361ms\n",
      "872:\tlearn: 181.9479043\ttotal: 2.46s\tremaining: 358ms\n",
      "873:\tlearn: 181.9234160\ttotal: 2.46s\tremaining: 355ms\n",
      "874:\tlearn: 181.9211711\ttotal: 2.47s\tremaining: 352ms\n",
      "875:\tlearn: 181.8405729\ttotal: 2.47s\tremaining: 350ms\n",
      "876:\tlearn: 181.8300506\ttotal: 2.47s\tremaining: 347ms\n",
      "877:\tlearn: 181.8177399\ttotal: 2.48s\tremaining: 344ms\n",
      "878:\tlearn: 181.5759495\ttotal: 2.48s\tremaining: 341ms\n",
      "879:\tlearn: 181.5646341\ttotal: 2.48s\tremaining: 338ms\n",
      "880:\tlearn: 181.5443827\ttotal: 2.48s\tremaining: 336ms\n",
      "881:\tlearn: 181.5356655\ttotal: 2.49s\tremaining: 333ms\n",
      "882:\tlearn: 181.5286970\ttotal: 2.49s\tremaining: 330ms\n",
      "883:\tlearn: 181.3695406\ttotal: 2.49s\tremaining: 327ms\n",
      "884:\tlearn: 181.3459690\ttotal: 2.5s\tremaining: 324ms\n",
      "885:\tlearn: 181.3260379\ttotal: 2.5s\tremaining: 321ms\n",
      "886:\tlearn: 181.3244902\ttotal: 2.5s\tremaining: 319ms\n",
      "887:\tlearn: 181.2336024\ttotal: 2.5s\tremaining: 316ms\n",
      "888:\tlearn: 181.2292095\ttotal: 2.51s\tremaining: 313ms\n",
      "889:\tlearn: 181.0645963\ttotal: 2.51s\tremaining: 310ms\n",
      "890:\tlearn: 181.0537833\ttotal: 2.51s\tremaining: 307ms\n",
      "891:\tlearn: 180.9315554\ttotal: 2.51s\tremaining: 304ms\n",
      "892:\tlearn: 180.5440990\ttotal: 2.52s\tremaining: 302ms\n",
      "893:\tlearn: 180.2736238\ttotal: 2.52s\tremaining: 299ms\n",
      "894:\tlearn: 180.2264992\ttotal: 2.52s\tremaining: 296ms\n",
      "895:\tlearn: 180.1939254\ttotal: 2.52s\tremaining: 293ms\n",
      "896:\tlearn: 180.1649412\ttotal: 2.53s\tremaining: 290ms\n",
      "897:\tlearn: 180.1504002\ttotal: 2.53s\tremaining: 287ms\n",
      "898:\tlearn: 180.1376011\ttotal: 2.53s\tremaining: 285ms\n",
      "899:\tlearn: 180.0938324\ttotal: 2.54s\tremaining: 282ms\n",
      "900:\tlearn: 180.0289653\ttotal: 2.54s\tremaining: 279ms\n",
      "901:\tlearn: 179.9239097\ttotal: 2.54s\tremaining: 276ms\n",
      "902:\tlearn: 179.8169038\ttotal: 2.54s\tremaining: 273ms\n",
      "903:\tlearn: 179.5669709\ttotal: 2.55s\tremaining: 270ms\n",
      "904:\tlearn: 179.4739762\ttotal: 2.55s\tremaining: 268ms\n",
      "905:\tlearn: 179.4301131\ttotal: 2.55s\tremaining: 265ms\n",
      "906:\tlearn: 179.4272788\ttotal: 2.55s\tremaining: 262ms\n",
      "907:\tlearn: 179.2442851\ttotal: 2.56s\tremaining: 259ms\n",
      "908:\tlearn: 179.0953045\ttotal: 2.56s\tremaining: 256ms\n",
      "909:\tlearn: 178.8216936\ttotal: 2.56s\tremaining: 253ms\n",
      "910:\tlearn: 178.5333392\ttotal: 2.56s\tremaining: 251ms\n",
      "911:\tlearn: 178.5157783\ttotal: 2.57s\tremaining: 248ms\n",
      "912:\tlearn: 178.0723209\ttotal: 2.57s\tremaining: 245ms\n",
      "913:\tlearn: 177.7229086\ttotal: 2.57s\tremaining: 242ms\n",
      "914:\tlearn: 177.4944891\ttotal: 2.57s\tremaining: 239ms\n",
      "915:\tlearn: 177.4830024\ttotal: 2.58s\tremaining: 236ms\n",
      "916:\tlearn: 177.4102106\ttotal: 2.58s\tremaining: 233ms\n",
      "917:\tlearn: 177.3242077\ttotal: 2.58s\tremaining: 231ms\n",
      "918:\tlearn: 177.2924832\ttotal: 2.58s\tremaining: 228ms\n",
      "919:\tlearn: 177.1577712\ttotal: 2.59s\tremaining: 225ms\n",
      "920:\tlearn: 177.1471330\ttotal: 2.59s\tremaining: 222ms\n",
      "921:\tlearn: 177.1263771\ttotal: 2.59s\tremaining: 219ms\n",
      "922:\tlearn: 177.1200478\ttotal: 2.59s\tremaining: 216ms\n",
      "923:\tlearn: 177.1013572\ttotal: 2.6s\tremaining: 214ms\n",
      "924:\tlearn: 176.8758810\ttotal: 2.6s\tremaining: 211ms\n",
      "925:\tlearn: 176.8421956\ttotal: 2.6s\tremaining: 208ms\n",
      "926:\tlearn: 176.7957785\ttotal: 2.6s\tremaining: 205ms\n",
      "927:\tlearn: 176.7806489\ttotal: 2.61s\tremaining: 202ms\n",
      "928:\tlearn: 176.7587744\ttotal: 2.61s\tremaining: 199ms\n",
      "929:\tlearn: 176.5372345\ttotal: 2.61s\tremaining: 197ms\n",
      "930:\tlearn: 176.5072790\ttotal: 2.62s\tremaining: 194ms\n",
      "931:\tlearn: 176.3846547\ttotal: 2.62s\tremaining: 191ms\n",
      "932:\tlearn: 176.2622893\ttotal: 2.62s\tremaining: 188ms\n",
      "933:\tlearn: 176.1992911\ttotal: 2.62s\tremaining: 185ms\n",
      "934:\tlearn: 176.1917342\ttotal: 2.63s\tremaining: 182ms\n",
      "935:\tlearn: 176.1890271\ttotal: 2.63s\tremaining: 180ms\n",
      "936:\tlearn: 175.9824019\ttotal: 2.63s\tremaining: 177ms\n",
      "937:\tlearn: 175.9800336\ttotal: 2.63s\tremaining: 174ms\n",
      "938:\tlearn: 175.9124810\ttotal: 2.63s\tremaining: 171ms\n",
      "939:\tlearn: 175.8673648\ttotal: 2.64s\tremaining: 168ms\n",
      "940:\tlearn: 175.8648672\ttotal: 2.64s\tremaining: 165ms\n",
      "941:\tlearn: 175.8525265\ttotal: 2.64s\tremaining: 163ms\n",
      "942:\tlearn: 175.8505637\ttotal: 2.64s\tremaining: 160ms\n",
      "943:\tlearn: 175.8087404\ttotal: 2.65s\tremaining: 157ms\n",
      "944:\tlearn: 175.6634781\ttotal: 2.65s\tremaining: 154ms\n",
      "945:\tlearn: 175.6617458\ttotal: 2.65s\tremaining: 151ms\n",
      "946:\tlearn: 175.5261888\ttotal: 2.65s\tremaining: 149ms\n",
      "947:\tlearn: 175.5005815\ttotal: 2.66s\tremaining: 146ms\n",
      "948:\tlearn: 175.4815966\ttotal: 2.66s\tremaining: 143ms\n",
      "949:\tlearn: 175.4642038\ttotal: 2.66s\tremaining: 140ms\n",
      "950:\tlearn: 175.3700157\ttotal: 2.66s\tremaining: 137ms\n",
      "951:\tlearn: 175.3519902\ttotal: 2.67s\tremaining: 134ms\n",
      "952:\tlearn: 175.3044742\ttotal: 2.67s\tremaining: 132ms\n",
      "953:\tlearn: 175.2715494\ttotal: 2.67s\tremaining: 129ms\n",
      "954:\tlearn: 175.2598817\ttotal: 2.67s\tremaining: 126ms\n",
      "955:\tlearn: 175.2449726\ttotal: 2.67s\tremaining: 123ms\n",
      "956:\tlearn: 175.1684860\ttotal: 2.68s\tremaining: 120ms\n",
      "957:\tlearn: 175.1379503\ttotal: 2.68s\tremaining: 118ms\n",
      "958:\tlearn: 175.0883341\ttotal: 2.68s\tremaining: 115ms\n",
      "959:\tlearn: 175.0163038\ttotal: 2.69s\tremaining: 112ms\n",
      "960:\tlearn: 174.9639130\ttotal: 2.69s\tremaining: 109ms\n",
      "961:\tlearn: 174.9438693\ttotal: 2.69s\tremaining: 106ms\n",
      "962:\tlearn: 174.6942876\ttotal: 2.69s\tremaining: 103ms\n",
      "963:\tlearn: 174.5394650\ttotal: 2.69s\tremaining: 101ms\n",
      "964:\tlearn: 174.4878665\ttotal: 2.7s\tremaining: 97.8ms\n",
      "965:\tlearn: 174.3265116\ttotal: 2.7s\tremaining: 95ms\n",
      "966:\tlearn: 174.3155764\ttotal: 2.7s\tremaining: 92.2ms\n",
      "967:\tlearn: 174.2812500\ttotal: 2.7s\tremaining: 89.4ms\n",
      "968:\tlearn: 174.2775656\ttotal: 2.71s\tremaining: 86.6ms\n",
      "969:\tlearn: 173.9326841\ttotal: 2.71s\tremaining: 83.8ms\n",
      "970:\tlearn: 173.9104094\ttotal: 2.71s\tremaining: 81ms\n",
      "971:\tlearn: 173.8027769\ttotal: 2.71s\tremaining: 78.2ms\n",
      "972:\tlearn: 173.7986882\ttotal: 2.72s\tremaining: 75.4ms\n",
      "973:\tlearn: 173.7008206\ttotal: 2.72s\tremaining: 72.6ms\n",
      "974:\tlearn: 173.6238781\ttotal: 2.72s\tremaining: 69.8ms\n",
      "975:\tlearn: 173.3995477\ttotal: 2.72s\tremaining: 67ms\n",
      "976:\tlearn: 173.2558852\ttotal: 2.73s\tremaining: 64.2ms\n",
      "977:\tlearn: 173.2420211\ttotal: 2.73s\tremaining: 61.4ms\n",
      "978:\tlearn: 173.1692333\ttotal: 2.73s\tremaining: 58.6ms\n",
      "979:\tlearn: 173.1600310\ttotal: 2.73s\tremaining: 55.8ms\n",
      "980:\tlearn: 173.0432652\ttotal: 2.73s\tremaining: 53ms\n",
      "981:\tlearn: 172.9667125\ttotal: 2.74s\tremaining: 50.2ms\n",
      "982:\tlearn: 172.6244200\ttotal: 2.74s\tremaining: 47.4ms\n",
      "983:\tlearn: 172.6083191\ttotal: 2.74s\tremaining: 44.6ms\n",
      "984:\tlearn: 172.5797430\ttotal: 2.75s\tremaining: 41.8ms\n",
      "985:\tlearn: 172.4387599\ttotal: 2.75s\tremaining: 39ms\n",
      "986:\tlearn: 172.3826816\ttotal: 2.75s\tremaining: 36.2ms\n",
      "987:\tlearn: 172.3278597\ttotal: 2.75s\tremaining: 33.5ms\n",
      "988:\tlearn: 172.3250563\ttotal: 2.76s\tremaining: 30.7ms\n",
      "989:\tlearn: 172.2254569\ttotal: 2.76s\tremaining: 27.9ms\n",
      "990:\tlearn: 172.2154178\ttotal: 2.76s\tremaining: 25.1ms\n",
      "991:\tlearn: 172.1583303\ttotal: 2.76s\tremaining: 22.3ms\n",
      "992:\tlearn: 172.1557421\ttotal: 2.77s\tremaining: 19.5ms\n",
      "993:\tlearn: 171.9036081\ttotal: 2.77s\tremaining: 16.7ms\n",
      "994:\tlearn: 171.8834732\ttotal: 2.77s\tremaining: 13.9ms\n",
      "995:\tlearn: 171.8008326\ttotal: 2.77s\tremaining: 11.1ms\n",
      "996:\tlearn: 171.7807410\ttotal: 2.78s\tremaining: 8.36ms\n",
      "997:\tlearn: 171.6763197\ttotal: 2.78s\tremaining: 5.57ms\n",
      "998:\tlearn: 171.6318187\ttotal: 2.78s\tremaining: 2.79ms\n",
      "999:\tlearn: 171.6167135\ttotal: 2.79s\tremaining: 0us\n"
     ]
    },
    {
     "data": {
      "text/plain": [
       "XGBRegressor(base_score=0.5, booster='gbtree', callbacks=None,\n",
       "             colsample_bylevel=1, colsample_bynode=1, colsample_bytree=1,\n",
       "             early_stopping_rounds=None, enable_categorical=False,\n",
       "             eval_metric=None, feature_types=None, gamma=0, gpu_id=-1,\n",
       "             grow_policy='depthwise', importance_type=None,\n",
       "             interaction_constraints='', learning_rate=0.300000012, max_bin=256,\n",
       "             max_cat_threshold=64, max_cat_to_onehot=4, max_delta_step=0,\n",
       "             max_depth=6, max_leaves=0, min_child_weight=1, missing=nan,\n",
       "             monotone_constraints='()', n_estimators=100, n_jobs=0,\n",
       "             num_parallel_tree=1, predictor='auto', random_state=0, ...)"
      ]
     },
     "execution_count": 56,
     "metadata": {},
     "output_type": "execute_result"
    }
   ],
   "source": [
    "cb = CatBoostRegressor(loss_function=\"MAE\")\n",
    "cb.fit(X_train, y_train)\n",
    "# lgb = LGBMRegressor(objective=\"mae\")\n",
    "lgb = LGBMRegressor(objective=\"mae\")\n",
    "lgb.fit(X_train, y_train)\n",
    "xgb = XGBRegressor()\n",
    "xgb.fit(X_train, y_train)"
   ]
  },
  {
   "cell_type": "code",
   "execution_count": 72,
   "id": "f63b72d4",
   "metadata": {},
   "outputs": [],
   "source": [
    "best_params = study.best_params"
   ]
  },
  {
   "cell_type": "code",
   "execution_count": 73,
   "id": "f2de0e6a",
   "metadata": {},
   "outputs": [],
   "source": [
    "cb_weight = best_params[\"x_0\"]#study.best_params[\"x_0\"]\n",
    "lgb_weight = best_params[\"x_1\"]#study.best_params[\"x_1\"]\n",
    "xgb_weight = 1 - cb_weight - lgb_weight"
   ]
  },
  {
   "cell_type": "code",
   "execution_count": 21,
   "id": "6f6c03a4",
   "metadata": {},
   "outputs": [],
   "source": [
    "cb_pred = cb.predict(X_test)\n",
    "lgb_pred = lgb.predict(X_test)\n",
    "xgb_pred = xgb.predict(X_test)\n",
    "\n",
    "final_pred = cb_weight * cb_pred + lgb_weight * lgb_pred + xgb_weight * xgb_pred\n",
    "final_pred[final_pred < 0] = 0\n",
    "final_pred = np.round(final_pred)"
   ]
  },
  {
   "cell_type": "code",
   "execution_count": 22,
   "id": "e5415632",
   "metadata": {},
   "outputs": [],
   "source": [
    "cb_pred[cb_pred < 0] = 0\n",
    "cb_pred = np.round(cb_pred)\n",
    "lgb_pred[lgb_pred < 0] = 0\n",
    "lgb_pred = np.round(lgb_pred)\n",
    "xgb_pred[xgb_pred < 0] = 0\n",
    "xgb_pred = np.round(xgb_pred)"
   ]
  },
  {
   "cell_type": "code",
   "execution_count": 24,
   "id": "a1d5aabb",
   "metadata": {},
   "outputs": [
    {
     "data": {
      "text/plain": [
       "(370.6794162053347, 408.60442878711626, 307.70005032712635)"
      ]
     },
     "execution_count": 24,
     "metadata": {},
     "output_type": "execute_result"
    }
   ],
   "source": [
    "mean_absolute_error(cb_pred, y_test), mean_absolute_error(lgb_pred, y_test), mean_absolute_error(xgb_pred, y_test)"
   ]
  },
  {
   "cell_type": "code",
   "execution_count": 26,
   "id": "de93e419",
   "metadata": {},
   "outputs": [],
   "source": [
    "from sklearn.model_selection import  GridSearchCV, cross_validate\n",
    "import time\n",
    "def results_cv(clf, X_dummy, y):\n",
    "    grid = GridSearchCV(clf(), \n",
    "            {'max_depth': range(3,20)}, cv=5)\n",
    "            \n",
    "    grid.fit(X_dummy, y)\n",
    "    start_time = time.time()\n",
    "    res_dt = cross_validate(clf(max_depth=grid.best_params_['max_depth']), \n",
    "        X_dummy, y, cv=5, scoring=[\"max_error\", \"neg_mean_squared_error\", \"r2\"], return_estimator=True)\n",
    "\n",
    "    print(\"Wall time: \", time.time() - start_time)\n",
    "\n",
    "    # print(\"Average mae through cross-validation: %.3f\"%res_dt['max_error'].mean())\n",
    "    \n",
    "    # print(\"Average mse through cross-validation: %.3f\"%res_dt['neg_mean_squared_error'].mean())\n",
    "\n",
    "    # print(\"Average r2 through cross-validation: %.3f\"%res_dt['r2'].mean())\n",
    "\n",
    "\n",
    "    return res_dt"
   ]
  },
  {
   "cell_type": "code",
   "execution_count": 28,
   "id": "0ad0ef3b",
   "metadata": {},
   "outputs": [
    {
     "data": {
      "text/plain": [
       "{'fit_time': array([0.26669669, 0.25669456, 0.29590297, 0.27719355, 0.25125384]),\n",
       " 'score_time': array([0.00501585, 0.00300956, 0.00350785, 0.0040009 , 0.00301862]),\n",
       " 'estimator': [XGBRegressor(base_score=0.5, booster='gbtree', callbacks=None,\n",
       "               colsample_bylevel=1, colsample_bynode=1, colsample_bytree=1,\n",
       "               early_stopping_rounds=None, enable_categorical=False,\n",
       "               eval_metric=None, feature_types=None, gamma=0, gpu_id=-1,\n",
       "               grow_policy='depthwise', importance_type=None,\n",
       "               interaction_constraints='', learning_rate=0.300000012, max_bin=256,\n",
       "               max_cat_threshold=64, max_cat_to_onehot=4, max_delta_step=0,\n",
       "               max_depth=4, max_leaves=0, min_child_weight=1, missing=nan,\n",
       "               monotone_constraints='()', n_estimators=100, n_jobs=0,\n",
       "               num_parallel_tree=1, predictor='auto', random_state=0, ...),\n",
       "  XGBRegressor(base_score=0.5, booster='gbtree', callbacks=None,\n",
       "               colsample_bylevel=1, colsample_bynode=1, colsample_bytree=1,\n",
       "               early_stopping_rounds=None, enable_categorical=False,\n",
       "               eval_metric=None, feature_types=None, gamma=0, gpu_id=-1,\n",
       "               grow_policy='depthwise', importance_type=None,\n",
       "               interaction_constraints='', learning_rate=0.300000012, max_bin=256,\n",
       "               max_cat_threshold=64, max_cat_to_onehot=4, max_delta_step=0,\n",
       "               max_depth=4, max_leaves=0, min_child_weight=1, missing=nan,\n",
       "               monotone_constraints='()', n_estimators=100, n_jobs=0,\n",
       "               num_parallel_tree=1, predictor='auto', random_state=0, ...),\n",
       "  XGBRegressor(base_score=0.5, booster='gbtree', callbacks=None,\n",
       "               colsample_bylevel=1, colsample_bynode=1, colsample_bytree=1,\n",
       "               early_stopping_rounds=None, enable_categorical=False,\n",
       "               eval_metric=None, feature_types=None, gamma=0, gpu_id=-1,\n",
       "               grow_policy='depthwise', importance_type=None,\n",
       "               interaction_constraints='', learning_rate=0.300000012, max_bin=256,\n",
       "               max_cat_threshold=64, max_cat_to_onehot=4, max_delta_step=0,\n",
       "               max_depth=4, max_leaves=0, min_child_weight=1, missing=nan,\n",
       "               monotone_constraints='()', n_estimators=100, n_jobs=0,\n",
       "               num_parallel_tree=1, predictor='auto', random_state=0, ...),\n",
       "  XGBRegressor(base_score=0.5, booster='gbtree', callbacks=None,\n",
       "               colsample_bylevel=1, colsample_bynode=1, colsample_bytree=1,\n",
       "               early_stopping_rounds=None, enable_categorical=False,\n",
       "               eval_metric=None, feature_types=None, gamma=0, gpu_id=-1,\n",
       "               grow_policy='depthwise', importance_type=None,\n",
       "               interaction_constraints='', learning_rate=0.300000012, max_bin=256,\n",
       "               max_cat_threshold=64, max_cat_to_onehot=4, max_delta_step=0,\n",
       "               max_depth=4, max_leaves=0, min_child_weight=1, missing=nan,\n",
       "               monotone_constraints='()', n_estimators=100, n_jobs=0,\n",
       "               num_parallel_tree=1, predictor='auto', random_state=0, ...),\n",
       "  XGBRegressor(base_score=0.5, booster='gbtree', callbacks=None,\n",
       "               colsample_bylevel=1, colsample_bynode=1, colsample_bytree=1,\n",
       "               early_stopping_rounds=None, enable_categorical=False,\n",
       "               eval_metric=None, feature_types=None, gamma=0, gpu_id=-1,\n",
       "               grow_policy='depthwise', importance_type=None,\n",
       "               interaction_constraints='', learning_rate=0.300000012, max_bin=256,\n",
       "               max_cat_threshold=64, max_cat_to_onehot=4, max_delta_step=0,\n",
       "               max_depth=4, max_leaves=0, min_child_weight=1, missing=nan,\n",
       "               monotone_constraints='()', n_estimators=100, n_jobs=0,\n",
       "               num_parallel_tree=1, predictor='auto', random_state=0, ...)],\n",
       " 'test_max_error': array([-15369.7109375 ,  -4567.28271484,  -6436.59851074, -53889.078125  ,\n",
       "        -51341.90625   ]),\n",
       " 'test_neg_mean_squared_error': array([ -223177.85443504,  -126884.77251927,  -113744.55213337,\n",
       "        -3076484.22185723, -4782539.60917541]),\n",
       " 'test_r2': array([0.81223974, 0.83384082, 0.85387513, 0.86209037, 0.77068405])}"
      ]
     },
     "execution_count": 28,
     "metadata": {},
     "output_type": "execute_result"
    }
   ],
   "source": [
    "ress"
   ]
  },
  {
   "cell_type": "code",
   "execution_count": 30,
   "id": "3ff36f11",
   "metadata": {},
   "outputs": [],
   "source": [
    "pred_loop = []\n",
    "for estimator in ress[\"estimator\"]:\n",
    "    xgb_pred = estimator.predict(X)\n",
    "    xgb_pred[xgb_pred < 0] = 0\n",
    "    xgb_pred = np.round(xgb_pred)\n",
    "    pred_loop.append(xgb_pred)\n",
    "pred_loop = np.array(pred_loop)"
   ]
  },
  {
   "cell_type": "code",
   "execution_count": 45,
   "id": "64490e6d",
   "metadata": {},
   "outputs": [],
   "source": [
    "lost_loop = []\n",
    "for loop in pred_loop:\n",
    "    lost_loop.append(abs(loop - y))"
   ]
  },
  {
   "cell_type": "code",
   "execution_count": 46,
   "id": "1f1077f2",
   "metadata": {},
   "outputs": [
    {
     "data": {
      "image/png": "[encoded data removed]",
      "text/plain": [
       "<Figure size 640x480 with 1 Axes>"
      ]
     },
     "metadata": {},
     "output_type": "display_data"
    }
   ],
   "source": [
    "import matplotlib.pyplot as plt\n",
    "plt.title(\"Regression residuals for 5 folds of cross-validation\")\n",
    "for loop in lost_loop:\n",
    "    plt.scatter(range(len(loop)), loop, color=\"b\")"
   ]
  },
  {
   "cell_type": "code",
   "execution_count": null,
   "id": "917bcc9d",
   "metadata": {},
   "outputs": [],
   "source": []
  },
  {
   "cell_type": "code",
   "execution_count": 47,
   "id": "28b6e944",
   "metadata": {},
   "outputs": [],
   "source": [
    "dsa = pd.DataFrame(np.array(lost_loop).T)\n"
   ]
  },
  {
   "cell_type": "code",
   "execution_count": 48,
   "id": "381b5fa5",
   "metadata": {},
   "outputs": [],
   "source": [
    "import pingouin as pg"
   ]
  },
  {
   "cell_type": "code",
   "execution_count": 49,
   "id": "1f2401a7",
   "metadata": {},
   "outputs": [
    {
     "data": {
      "text/html": [
       "<div>\n",
       "<style scoped>\n",
       "    .dataframe tbody tr th:only-of-type {\n",
       "        vertical-align: middle;\n",
       "    }\n",
       "\n",
       "    .dataframe tbody tr th {\n",
       "        vertical-align: top;\n",
       "    }\n",
       "\n",
       "    .dataframe thead th {\n",
       "        text-align: right;\n",
       "    }\n",
       "</style>\n",
       "<table border=\"1\" class=\"dataframe\">\n",
       "  <thead>\n",
       "    <tr style=\"text-align: right;\">\n",
       "      <th></th>\n",
       "      <th>W</th>\n",
       "      <th>pval</th>\n",
       "      <th>equal_var</th>\n",
       "    </tr>\n",
       "  </thead>\n",
       "  <tbody>\n",
       "    <tr>\n",
       "      <th>levene</th>\n",
       "      <td>30.54541</td>\n",
       "      <td>1.964067e-25</td>\n",
       "      <td>False</td>\n",
       "    </tr>\n",
       "  </tbody>\n",
       "</table>\n",
       "</div>"
      ],
      "text/plain": [
       "               W          pval  equal_var\n",
       "levene  30.54541  1.964067e-25      False"
      ]
     },
     "execution_count": 49,
     "metadata": {},
     "output_type": "execute_result"
    }
   ],
   "source": [
    "pg.homoscedasticity(np.log(dsa+1))"
   ]
  },
  {
   "cell_type": "code",
   "execution_count": null,
   "id": "03408552",
   "metadata": {},
   "outputs": [],
   "source": []
  }
 ],
 "metadata": {
  "kernelspec": {
   "display_name": "Python 3.10.8 64-bit",
   "language": "python",
   "name": "python3"
  },
  "language_info": {
   "codemirror_mode": {
    "name": "ipython",
    "version": 3
   },
   "file_extension": ".py",
   "mimetype": "text/x-python",
   "name": "python",
   "nbconvert_exporter": "python",
   "pygments_lexer": "ipython3",
   "version": "3.10.8 (tags/v3.10.8:aaaf517, Oct 11 2022, 16:50:30) [MSC v.1933 64 bit (AMD64)]"
  },
  "vscode": {
   "interpreter": {
    "hash": "7abe41bf88626c8179a12d706309ac1665b0164ec3bd4c11d7418ed9f0904ed3"
   }
  }
 },
 "nbformat": 4,
 "nbformat_minor": 5
}
