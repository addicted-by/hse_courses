{
 "cells": [
  {
   "cell_type": "code",
   "execution_count": 3,
   "metadata": {},
   "outputs": [],
   "source": [
    "%load_ext autoreload\n",
    "%autoreload 2"
   ]
  },
  {
   "cell_type": "code",
   "execution_count": 4,
   "metadata": {},
   "outputs": [],
   "source": [
    "import scrapping_tools"
   ]
  },
  {
   "cell_type": "code",
   "execution_count": 5,
   "metadata": {},
   "outputs": [],
   "source": [
    "import pandas as pd"
   ]
  },
  {
   "cell_type": "code",
   "execution_count": 6,
   "metadata": {},
   "outputs": [],
   "source": [
    "DATA_PATH = './data/'\n",
    "MEDIUM_DATA_PATH = os.path.join(DATA_PATH, \"medium_data.csv\")"
   ]
  },
  {
   "cell_type": "code",
   "execution_count": 5,
   "metadata": {},
   "outputs": [],
   "source": [
    "data = pd.read_csv(MEDIUM_DATA_PATH, index_col=\"id\")"
   ]
  },
  {
   "cell_type": "code",
   "execution_count": 7,
   "metadata": {},
   "outputs": [],
   "source": [
    "from selenium.webdriver.edge.options import Options\n",
    "from selenium.webdriver.common.desired_capabilities import DesiredCapabilities\n",
    "\n",
    "desired_capabilities = DesiredCapabilities.EDGE.copy()\n",
    "desired_capabilities[\"acceptInsecureCerts\"] = True\n",
    "\n",
    "options = Options()\n",
    "# options.add_argument(\"--headless\")\n",
    "options.add_argument(\"--incognito\")\n",
    "# options.add_argument(\"--no-sandbox\")\n",
    "options.add_argument(\"--window-size=1280,800\")\n",
    "options.add_argument(\"--ignore-certificate-errors\");\n",
    "options.add_argument(\"--allow-insecure-localhost\")\n",
    "options.add_argument(\"allow-running-insecure-content\")\n",
    "options.add_argument(\"unsafely-treat-insecure-origin-as-secure\")"
   ]
  },
  {
   "cell_type": "code",
   "execution_count": 8,
   "metadata": {},
   "outputs": [],
   "source": [
    "import warnings\n",
    "warnings.filterwarnings(\"ignore\")"
   ]
  },
  {
   "cell_type": "code",
   "execution_count": 8,
   "metadata": {},
   "outputs": [],
   "source": [
    "data = data.rename(columns={\"url\": \"link\"}).drop(columns=[\"subtitle\", \"image\"])"
   ]
  },
  {
   "cell_type": "code",
   "execution_count": 9,
   "metadata": {},
   "outputs": [],
   "source": [
    "columns = ['title', 'publication', \"link\", 'author', 'followers', \n",
    "            'reading_time', 'n_words', 'pure_text', 'date', \n",
    "            'responses', 'n_code_chunks', 'bold_text_count', \n",
    "            'italic_text_count', 'mean_image_width', 'mean_image_height', \n",
    "            'n_images', 'n_lists', 'n_vids', 'n_links', 'claps']"
   ]
  },
  {
   "cell_type": "code",
   "execution_count": 10,
   "metadata": {},
   "outputs": [],
   "source": [
    "least_data = data.tail(4000)"
   ]
  },
  {
   "cell_type": "code",
   "execution_count": 16,
   "metadata": {},
   "outputs": [],
   "source": [
    "least_data = least_data.loc[4300:, :]"
   ]
  },
  {
   "cell_type": "code",
   "execution_count": 18,
   "metadata": {},
   "outputs": [
    {
     "name": "stderr",
     "output_type": "stream",
     "text": [
      "  0%|          | 0/157 [00:00<?, ?it/s]"
     ]
    },
    {
     "name": "stdout",
     "output_type": "stream",
     "text": [
      "Can't get responses information\n",
      "responses filled by initial data\n",
      "Can't get responses information\n",
      "Can't get claps information\n",
      "claps filled by initial data\n",
      "responses filled by initial data\n",
      "Can't get responses information\n",
      "responses filled by initial data\n",
      "Can't get responses information\n",
      "responses filled by initial data\n",
      "Can't get responses information\n",
      "responses filled by initial data\n",
      "Can't get responses information\n",
      "responses filled by initial data\n",
      "Can't get responses information\n",
      "responses filled by initial data\n",
      "Can't get responses information\n",
      "responses filled by initial data\n",
      "Can't get responses information\n",
      "responses filled by initial data\n",
      "Can't get responses information\n",
      "responses filled by initial data\n",
      "Can't get responses information\n",
      "responses filled by initial data\n"
     ]
    },
    {
     "name": "stderr",
     "output_type": "stream",
     "text": [
      "  1%|          | 1/157 [00:46<2:00:14, 46.24s/it]"
     ]
    },
    {
     "name": "stdout",
     "output_type": "stream",
     "text": [
      "Can't get responses information\n",
      "responses filled by initial data\n",
      "Can't get responses information\n",
      "responses filled by initial data\n",
      "Can't get responses information\n",
      "responses filled by initial data\n",
      "Can't get responses information\n",
      "responses filled by initial data\n",
      "Can't get responses information\n",
      "responses filled by initial data\n",
      "Can't get responses information\n",
      "responses filled by initial data\n",
      "Can't get responses information\n",
      "responses filled by initial data\n",
      "Can't get responses information\n",
      "responses filled by initial data\n"
     ]
    },
    {
     "name": "stderr",
     "output_type": "stream",
     "text": [
      "  1%|▏         | 2/157 [01:32<1:59:21, 46.21s/it]"
     ]
    },
    {
     "name": "stdout",
     "output_type": "stream",
     "text": [
      "Can't get image's sizes\n",
      "Couldn't get title from article.\n",
      "Couldn't get title from article.\n",
      "Can't go to the followers info\n",
      "Couldn't get reading time from article.\n",
      "Couldn't get date from article.\n",
      "Can't get responses information\n",
      "Couldn't get YouTube videos.\n",
      "Can't get claps information\n",
      "title filled by initial data\n",
      "claps filled by initial data\n",
      "responses filled by initial data\n",
      "reading_time filled by initial data\n",
      "publication filled by initial data\n",
      "date filled by initial data\n",
      "Can't get responses information\n",
      "responses filled by initial data\n",
      "Can't get claps information\n",
      "claps filled by initial data\n",
      "Can't get responses information\n",
      "responses filled by initial data\n",
      "Can't get responses information\n",
      "responses filled by initial data\n",
      "Can't get claps information\n",
      "claps filled by initial data\n"
     ]
    },
    {
     "name": "stderr",
     "output_type": "stream",
     "text": [
      "  2%|▏         | 3/157 [02:20<2:00:34, 46.97s/it]"
     ]
    },
    {
     "name": "stdout",
     "output_type": "stream",
     "text": [
      "Can't get responses information\n",
      "responses filled by initial data\n",
      "Can't get image's sizes\n",
      "Couldn't get title from article.\n",
      "Couldn't get title from article.\n",
      "Can't go to the followers info\n",
      "Couldn't get reading time from article.\n",
      "Couldn't get date from article.\n",
      "Can't get responses information\n",
      "Couldn't get YouTube videos.\n",
      "Can't get claps information\n",
      "title filled by initial data\n",
      "claps filled by initial data\n",
      "responses filled by initial data\n",
      "reading_time filled by initial data\n",
      "publication filled by initial data\n",
      "date filled by initial data\n",
      "Can't get responses information\n",
      "responses filled by initial data\n",
      "Can't get claps information\n",
      "claps filled by initial data\n",
      "Can't get claps information\n",
      "claps filled by initial data\n",
      "Can't get responses information\n",
      "responses filled by initial data\n"
     ]
    },
    {
     "name": "stderr",
     "output_type": "stream",
     "text": [
      "  3%|▎         | 4/157 [03:48<2:41:03, 63.16s/it]"
     ]
    },
    {
     "name": "stdout",
     "output_type": "stream",
     "text": [
      "Can't get image's sizes\n",
      "Couldn't get title from article.\n",
      "Couldn't get title from article.\n",
      "Can't go to the followers info\n",
      "Couldn't get reading time from article.\n",
      "Couldn't get date from article.\n",
      "Can't get responses information\n",
      "Couldn't get YouTube videos.\n",
      "Can't get claps information\n",
      "title filled by initial data\n",
      "claps filled by initial data\n",
      "responses filled by initial data\n",
      "reading_time filled by initial data\n",
      "publication filled by initial data\n",
      "date filled by initial data\n",
      "Can't get responses information\n",
      "responses filled by initial data\n",
      "Can't get responses information\n",
      "responses filled by initial data\n",
      "Can't get responses information\n",
      "responses filled by initial data\n",
      "Can't get responses information\n",
      "responses filled by initial data\n",
      "Can't get responses information\n",
      "responses filled by initial data\n",
      "Can't get responses information\n",
      "responses filled by initial data\n",
      "Can't get responses information\n",
      "responses filled by initial data\n",
      "Can't get responses information\n",
      "responses filled by initial data\n",
      "publication filled by initial data\n"
     ]
    },
    {
     "name": "stderr",
     "output_type": "stream",
     "text": [
      "  3%|▎         | 5/157 [04:33<2:23:36, 56.69s/it]"
     ]
    },
    {
     "name": "stdout",
     "output_type": "stream",
     "text": [
      "Can't get responses information\n",
      "responses filled by initial data\n",
      "Can't get claps information\n",
      "claps filled by initial data\n",
      "Can't get responses information\n",
      "responses filled by initial data\n",
      "Can't get responses information\n",
      "responses filled by initial data\n",
      "Can't get responses information\n",
      "responses filled by initial data\n",
      "Can't get responses information\n",
      "responses filled by initial data\n"
     ]
    },
    {
     "name": "stderr",
     "output_type": "stream",
     "text": [
      "  4%|▍         | 6/157 [05:14<2:09:13, 51.35s/it]"
     ]
    },
    {
     "name": "stdout",
     "output_type": "stream",
     "text": [
      "Can't get image's sizes\n",
      "Couldn't get title from article.\n",
      "Couldn't get title from article.\n",
      "Can't go to the followers info\n",
      "Couldn't get reading time from article.\n",
      "Couldn't get date from article.\n",
      "Can't get responses information\n",
      "Couldn't get YouTube videos.\n",
      "Can't get claps information\n",
      "title filled by initial data\n",
      "claps filled by initial data\n",
      "responses filled by initial data\n",
      "reading_time filled by initial data\n",
      "publication filled by initial data\n",
      "date filled by initial data\n",
      "Can't get responses information\n",
      "responses filled by initial data\n",
      "Can't get image's sizes\n"
     ]
    },
    {
     "name": "stderr",
     "output_type": "stream",
     "text": [
      "  4%|▍         | 7/157 [06:14<2:15:44, 54.30s/it]"
     ]
    },
    {
     "name": "stdout",
     "output_type": "stream",
     "text": [
      "Can't get responses information\n",
      "responses filled by initial data\n",
      "Can't get claps information\n",
      "claps filled by initial data\n",
      "Can't get image's sizes\n",
      "Couldn't get title from article.\n",
      "Couldn't get title from article.\n",
      "Can't go to the followers info\n",
      "Couldn't get reading time from article.\n",
      "Couldn't get date from article.\n",
      "Can't get responses information\n",
      "Couldn't get YouTube videos.\n",
      "Can't get claps information\n",
      "title filled by initial data\n",
      "claps filled by initial data\n",
      "responses filled by initial data\n",
      "reading_time filled by initial data\n",
      "publication filled by initial data\n",
      "date filled by initial data\n",
      "Can't get responses information\n",
      "responses filled by initial data\n",
      "Can't get responses information\n",
      "responses filled by initial data\n",
      "Can't get claps information\n",
      "claps filled by initial data\n",
      "Can't get image's sizes\n",
      "Can't get responses information\n",
      "responses filled by initial data\n"
     ]
    },
    {
     "name": "stderr",
     "output_type": "stream",
     "text": [
      "  5%|▌         | 8/157 [06:45<1:56:17, 46.83s/it]"
     ]
    },
    {
     "name": "stdout",
     "output_type": "stream",
     "text": [
      "Can't get image's sizes\n",
      "Can't get responses information\n",
      "Can't get claps information\n",
      "claps filled by initial data\n",
      "responses filled by initial data\n",
      "Can't get responses information\n",
      "responses filled by initial data\n",
      "Can't get responses information\n",
      "responses filled by initial data\n",
      "Can't get claps information\n",
      "claps filled by initial data\n",
      "Can't get responses information\n",
      "responses filled by initial data\n",
      "Can't get responses information\n",
      "Can't get claps information\n",
      "claps filled by initial data\n",
      "responses filled by initial data\n",
      "Can't get responses information\n",
      "responses filled by initial data\n",
      "Can't get responses information\n",
      "responses filled by initial data\n",
      "Can't get responses information\n",
      "responses filled by initial data\n"
     ]
    },
    {
     "name": "stderr",
     "output_type": "stream",
     "text": [
      "  6%|▌         | 9/157 [07:09<1:37:45, 39.63s/it]"
     ]
    },
    {
     "name": "stdout",
     "output_type": "stream",
     "text": [
      "Can't get image's sizes\n",
      "Couldn't get title from article.\n",
      "Couldn't get title from article.\n",
      "Can't go to the followers info\n",
      "Couldn't get reading time from article.\n",
      "Couldn't get date from article.\n",
      "Can't get responses information\n",
      "Couldn't get YouTube videos.\n",
      "Can't get claps information\n",
      "title filled by initial data\n",
      "claps filled by initial data\n",
      "responses filled by initial data\n",
      "reading_time filled by initial data\n",
      "publication filled by initial data\n",
      "date filled by initial data\n",
      "Can't get responses information\n",
      "responses filled by initial data\n",
      "Can't get responses information\n",
      "responses filled by initial data\n",
      "Can't get responses information\n",
      "Can't get claps information\n",
      "claps filled by initial data\n",
      "responses filled by initial data\n"
     ]
    },
    {
     "name": "stderr",
     "output_type": "stream",
     "text": [
      "  6%|▋         | 10/157 [07:33<1:25:34, 34.93s/it]"
     ]
    },
    {
     "name": "stdout",
     "output_type": "stream",
     "text": [
      "Can't get responses information\n",
      "responses filled by initial data\n",
      "Can't get image's sizes\n",
      "Can't get responses information\n",
      "responses filled by initial data\n",
      "Can't get responses information\n",
      "responses filled by initial data\n",
      "Can't get responses information\n",
      "responses filled by initial data\n",
      "Can't get responses information\n",
      "responses filled by initial data\n",
      "Can't get responses information\n",
      "responses filled by initial data\n",
      "Can't get responses information\n",
      "responses filled by initial data\n",
      "Can't get responses information\n",
      "Can't get claps information\n",
      "claps filled by initial data\n",
      "responses filled by initial data\n",
      "Can't get responses information\n",
      "responses filled by initial data\n",
      "Can't get responses information\n",
      "responses filled by initial data\n"
     ]
    },
    {
     "name": "stderr",
     "output_type": "stream",
     "text": [
      "  7%|▋         | 11/157 [08:33<1:43:37, 42.58s/it]"
     ]
    },
    {
     "name": "stdout",
     "output_type": "stream",
     "text": [
      "Can't get responses information\n",
      "responses filled by initial data\n",
      "Can't get responses information\n",
      "Can't get claps information\n",
      "claps filled by initial data\n",
      "responses filled by initial data\n",
      "Can't get responses information\n",
      "responses filled by initial data\n",
      "Can't get responses information\n",
      "responses filled by initial data\n",
      "Can't get responses information\n",
      "responses filled by initial data\n",
      "Can't get responses information\n",
      "Can't get claps information\n",
      "claps filled by initial data\n",
      "responses filled by initial data\n",
      "Can't get responses information\n",
      "Can't get claps information\n",
      "claps filled by initial data\n",
      "responses filled by initial data\n",
      "Can't get responses information\n",
      "responses filled by initial data\n",
      "Can't get responses information\n",
      "responses filled by initial data\n",
      "Can't get responses information\n",
      "responses filled by initial data\n"
     ]
    },
    {
     "name": "stderr",
     "output_type": "stream",
     "text": [
      "  8%|▊         | 12/157 [09:01<1:32:09, 38.14s/it]"
     ]
    },
    {
     "name": "stdout",
     "output_type": "stream",
     "text": [
      "Can't get responses information\n",
      "Can't get claps information\n",
      "claps filled by initial data\n",
      "responses filled by initial data\n",
      "Can't get image's sizes\n",
      "Couldn't get title from article.\n",
      "Couldn't get title from article.\n",
      "Can't go to the followers info\n",
      "Couldn't get reading time from article.\n",
      "Couldn't get date from article.\n",
      "Can't get responses information\n",
      "Couldn't get YouTube videos.\n",
      "Can't get claps information\n",
      "title filled by initial data\n",
      "claps filled by initial data\n",
      "responses filled by initial data\n",
      "reading_time filled by initial data\n",
      "publication filled by initial data\n",
      "date filled by initial data\n",
      "Can't get responses information\n",
      "responses filled by initial data\n",
      "Can't get claps information\n",
      "claps filled by initial data\n",
      "Can't get responses information\n",
      "responses filled by initial data\n",
      "Can't get responses information\n",
      "Can't get claps information\n",
      "claps filled by initial data\n",
      "responses filled by initial data\n",
      "Can't get responses information\n",
      "Can't get claps information\n",
      "claps filled by initial data\n",
      "responses filled by initial data\n",
      "Can't get responses information\n",
      "Can't get claps information\n",
      "claps filled by initial data\n",
      "responses filled by initial data\n",
      "Can't get responses information\n",
      "responses filled by initial data\n",
      "Can't get responses information\n",
      "responses filled by initial data\n",
      "Can't get responses information\n",
      "responses filled by initial data\n",
      "Can't get responses information\n",
      "responses filled by initial data\n"
     ]
    },
    {
     "name": "stderr",
     "output_type": "stream",
     "text": [
      "  8%|▊         | 13/157 [09:27<1:22:36, 34.42s/it]"
     ]
    },
    {
     "name": "stdout",
     "output_type": "stream",
     "text": [
      "Can't get responses information\n",
      "responses filled by initial data\n",
      "Can't get responses information\n",
      "responses filled by initial data\n",
      "Can't get responses information\n",
      "responses filled by initial data\n",
      "Can't get responses information\n",
      "responses filled by initial data\n",
      "Can't get responses information\n",
      "responses filled by initial data\n",
      "Can't get responses information\n",
      "responses filled by initial data\n",
      "Can't get responses information\n",
      "responses filled by initial data\n",
      "Can't get responses information\n",
      "responses filled by initial data\n",
      "Can't get responses information\n",
      "responses filled by initial data\n",
      "Can't get responses information\n",
      "responses filled by initial data\n"
     ]
    },
    {
     "name": "stderr",
     "output_type": "stream",
     "text": [
      "  9%|▉         | 14/157 [10:23<1:37:17, 40.82s/it]"
     ]
    },
    {
     "name": "stdout",
     "output_type": "stream",
     "text": [
      "Can't get responses information\n",
      "responses filled by initial data\n",
      "Can't get responses information\n",
      "Can't get claps information\n",
      "claps filled by initial data\n",
      "responses filled by initial data\n",
      "Can't get responses information\n",
      "responses filled by initial data\n",
      "Can't get responses information\n",
      "responses filled by initial data\n",
      "Can't get responses information\n",
      "responses filled by initial data\n",
      "Can't get responses information\n",
      "responses filled by initial data\n",
      "Can't get responses information\n",
      "responses filled by initial data\n",
      "Can't get responses information\n",
      "responses filled by initial data\n",
      "Can't get responses information\n",
      "responses filled by initial data\n"
     ]
    },
    {
     "name": "stderr",
     "output_type": "stream",
     "text": [
      " 10%|▉         | 15/157 [10:54<1:30:04, 38.06s/it]"
     ]
    },
    {
     "name": "stdout",
     "output_type": "stream",
     "text": [
      "publication filled by initial data\n",
      "Can't get responses information\n",
      "responses filled by initial data\n",
      "Can't get responses information\n",
      "responses filled by initial data\n",
      "Can't get responses information\n",
      "responses filled by initial data\n"
     ]
    },
    {
     "name": "stderr",
     "output_type": "stream",
     "text": [
      " 10%|█         | 16/157 [16:29<4:59:31, 127.46s/it]"
     ]
    },
    {
     "name": "stdout",
     "output_type": "stream",
     "text": [
      "Can't get responses information\n",
      "responses filled by initial data\n",
      "Can't get responses information\n",
      "responses filled by initial data\n",
      "Can't get responses information\n",
      "responses filled by initial data\n",
      "Can't get responses information\n",
      "responses filled by initial data\n",
      "Can't get responses information\n",
      "responses filled by initial data\n",
      "Can't get responses information\n",
      "responses filled by initial data\n",
      "Can't get responses information\n",
      "responses filled by initial data\n",
      "Can't get responses information\n",
      "responses filled by initial data\n",
      "Can't get responses information\n",
      "responses filled by initial data\n"
     ]
    },
    {
     "name": "stderr",
     "output_type": "stream",
     "text": [
      " 11%|█         | 17/157 [18:22<4:46:52, 122.94s/it]"
     ]
    },
    {
     "name": "stdout",
     "output_type": "stream",
     "text": [
      "Can't get image's sizes\n",
      "Couldn't get title from article.\n",
      "Couldn't get title from article.\n",
      "Can't go to the followers info\n",
      "Couldn't get reading time from article.\n",
      "Couldn't get date from article.\n",
      "Can't get responses information\n",
      "Couldn't get YouTube videos.\n",
      "Can't get claps information\n",
      "title filled by initial data\n",
      "claps filled by initial data\n",
      "responses filled by initial data\n",
      "reading_time filled by initial data\n",
      "publication filled by initial data\n",
      "date filled by initial data\n",
      "Can't get responses information\n",
      "responses filled by initial data\n",
      "Can't get responses information\n",
      "responses filled by initial data\n",
      "Can't get responses information\n",
      "responses filled by initial data\n",
      "Can't get responses information\n",
      "responses filled by initial data\n",
      "Can't get responses information\n",
      "responses filled by initial data\n",
      "Can't get responses information\n",
      "responses filled by initial data\n",
      "Can't get responses information\n",
      "responses filled by initial data\n",
      "Can't get responses information\n",
      "Can't get claps information\n",
      "claps filled by initial data\n",
      "responses filled by initial data\n"
     ]
    },
    {
     "name": "stderr",
     "output_type": "stream",
     "text": [
      " 11%|█▏        | 18/157 [19:50<4:20:43, 112.54s/it]"
     ]
    },
    {
     "name": "stdout",
     "output_type": "stream",
     "text": [
      "Can't get claps information\n",
      "claps filled by initial data\n",
      "Can't get claps information\n",
      "claps filled by initial data\n",
      "Can't get responses information\n",
      "responses filled by initial data\n"
     ]
    },
    {
     "name": "stderr",
     "output_type": "stream",
     "text": [
      " 12%|█▏        | 19/157 [20:26<3:25:35, 89.39s/it] "
     ]
    },
    {
     "name": "stdout",
     "output_type": "stream",
     "text": [
      "Can't get responses information\n",
      "responses filled by initial data\n",
      "Can't get responses information\n",
      "Can't get claps information\n",
      "claps filled by initial data\n",
      "responses filled by initial data\n",
      "Can't get responses information\n",
      "Can't get claps information\n",
      "claps filled by initial data\n",
      "responses filled by initial data\n",
      "Can't get responses information\n",
      "Can't get claps information\n",
      "claps filled by initial data\n",
      "responses filled by initial data\n",
      "Can't get responses information\n",
      "responses filled by initial data\n",
      "Can't get responses information\n",
      "responses filled by initial data\n"
     ]
    },
    {
     "name": "stderr",
     "output_type": "stream",
     "text": [
      " 13%|█▎        | 20/157 [21:28<3:05:15, 81.13s/it]"
     ]
    },
    {
     "name": "stdout",
     "output_type": "stream",
     "text": [
      "Can't get image's sizes\n",
      "Couldn't get title from article.\n",
      "Couldn't get title from article.\n",
      "Can't go to the followers info\n",
      "Couldn't get reading time from article.\n",
      "Couldn't get date from article.\n",
      "Can't get responses information\n",
      "Couldn't get YouTube videos.\n",
      "Can't get claps information\n",
      "title filled by initial data\n",
      "claps filled by initial data\n",
      "responses filled by initial data\n",
      "reading_time filled by initial data\n",
      "publication filled by initial data\n",
      "date filled by initial data\n",
      "Can't get responses information\n",
      "Can't get claps information\n",
      "claps filled by initial data\n",
      "responses filled by initial data\n",
      "Can't get image's sizes\n",
      "Can't get responses information\n",
      "Can't get claps information\n",
      "claps filled by initial data\n",
      "responses filled by initial data\n",
      "Can't get responses information\n",
      "Can't get claps information\n",
      "claps filled by initial data\n",
      "responses filled by initial data\n",
      "Can't get responses information\n",
      "Can't get claps information\n",
      "claps filled by initial data\n",
      "responses filled by initial data\n",
      "Can't get responses information\n",
      "responses filled by initial data\n",
      "Can't get responses information\n",
      "responses filled by initial data\n"
     ]
    },
    {
     "name": "stderr",
     "output_type": "stream",
     "text": [
      " 13%|█▎        | 21/157 [22:03<2:32:49, 67.42s/it]"
     ]
    },
    {
     "name": "stdout",
     "output_type": "stream",
     "text": [
      "Can't get responses information\n",
      "responses filled by initial data\n",
      "Can't get responses information\n",
      "Can't get claps information\n",
      "claps filled by initial data\n",
      "responses filled by initial data\n",
      "Can't get image's sizes\n",
      "Couldn't get title from article.\n",
      "Couldn't get title from article.\n",
      "Can't go to the followers info\n",
      "Couldn't get reading time from article.\n",
      "Couldn't get date from article.\n",
      "Can't get responses information\n",
      "Couldn't get YouTube videos.\n",
      "Can't get claps information\n",
      "title filled by initial data\n",
      "claps filled by initial data\n",
      "responses filled by initial data\n",
      "reading_time filled by initial data\n",
      "publication filled by initial data\n",
      "date filled by initial data\n",
      "Can't get responses information\n",
      "responses filled by initial data\n",
      "Can't get image's sizes\n",
      "Can't get claps information\n",
      "claps filled by initial data\n",
      "Can't get responses information\n",
      "Can't get claps information\n",
      "claps filled by initial data\n",
      "responses filled by initial data\n",
      "Can't get responses information\n",
      "responses filled by initial data\n",
      "Can't get responses information\n",
      "responses filled by initial data\n",
      "Can't get responses information\n",
      "responses filled by initial data\n"
     ]
    },
    {
     "name": "stderr",
     "output_type": "stream",
     "text": [
      " 14%|█▍        | 22/157 [22:29<2:03:50, 55.04s/it]"
     ]
    },
    {
     "name": "stdout",
     "output_type": "stream",
     "text": [
      "Can't get claps information\n",
      "claps filled by initial data\n",
      "Can't get responses information\n",
      "Can't get claps information\n",
      "claps filled by initial data\n",
      "responses filled by initial data\n",
      "Can't get responses information\n",
      "responses filled by initial data\n",
      "Can't get responses information\n",
      "responses filled by initial data\n",
      "Can't get responses information\n",
      "Can't get responses information\n",
      "responses filled by initial data\n",
      "responses filled by initial data\n",
      "Can't get responses information\n",
      "responses filled by initial data\n",
      "Can't get responses information\n",
      "responses filled by initial data\n",
      "Can't get responses information\n",
      "responses filled by initial data\n"
     ]
    },
    {
     "name": "stderr",
     "output_type": "stream",
     "text": [
      " 15%|█▍        | 23/157 [23:00<1:46:57, 47.89s/it]"
     ]
    },
    {
     "name": "stdout",
     "output_type": "stream",
     "text": [
      "Can't get responses information\n",
      "responses filled by initial data\n",
      "Can't get image's sizes\n",
      "Couldn't get title from article.\n",
      "Couldn't get title from article.\n",
      "Can't go to the followers info\n",
      "Couldn't get reading time from article.\n",
      "Couldn't get date from article.\n",
      "Can't get responses information\n",
      "Couldn't get YouTube videos.\n",
      "Can't get claps information\n",
      "title filled by initial data\n",
      "claps filled by initial data\n",
      "responses filled by initial data\n",
      "reading_time filled by initial data\n",
      "publication filled by initial data\n",
      "date filled by initial data\n",
      "Can't get responses information\n",
      "responses filled by initial data\n",
      "Can't get responses information\n",
      "responses filled by initial data\n",
      "Can't get responses information\n",
      "responses filled by initial data\n",
      "Can't get responses information\n",
      "responses filled by initial data\n",
      "Can't get claps information\n",
      "claps filled by initial data\n",
      "Can't get responses information\n",
      "responses filled by initial data\n"
     ]
    },
    {
     "name": "stderr",
     "output_type": "stream",
     "text": [
      " 15%|█▌        | 24/157 [23:22<1:28:56, 40.12s/it]"
     ]
    },
    {
     "name": "stdout",
     "output_type": "stream",
     "text": [
      "Can't get responses information\n",
      "Can't get claps information\n",
      "claps filled by initial data\n",
      "responses filled by initial data\n",
      "Can't get image's sizes\n",
      "Couldn't get title from article.\n",
      "Couldn't get title from article.\n",
      "Can't go to the followers info\n",
      "Couldn't get reading time from article.\n",
      "Couldn't get date from article.\n",
      "Can't get responses information\n",
      "Couldn't get YouTube videos.\n",
      "Can't get claps information\n",
      "title filled by initial data\n",
      "claps filled by initial data\n",
      "responses filled by initial data\n",
      "reading_time filled by initial data\n",
      "publication filled by initial data\n",
      "date filled by initial data\n",
      "Can't get image's sizes\n",
      "Couldn't get title from article.\n",
      "Couldn't get title from article.\n",
      "Can't go to the followers info\n",
      "Couldn't get reading time from article.\n",
      "Couldn't get date from article.\n",
      "Can't get responses information\n",
      "Couldn't get YouTube videos.\n",
      "Can't get claps information\n",
      "title filled by initial data\n",
      "claps filled by initial data\n",
      "responses filled by initial data\n",
      "reading_time filled by initial data\n",
      "publication filled by initial data\n",
      "date filled by initial data\n",
      "Can't get responses information\n",
      "responses filled by initial data\n",
      "Can't get responses information\n",
      "responses filled by initial data\n",
      "Can't get responses information\n",
      "responses filled by initial data\n",
      "Can't get responses information\n",
      "responses filled by initial data\n",
      "Can't get responses information\n",
      "responses filled by initial data\n",
      "Can't get responses information\n",
      "responses filled by initial data\n",
      "Can't get responses information\n",
      "responses filled by initial data\n",
      "Can't get responses information\n",
      "responses filled by initial data\n"
     ]
    },
    {
     "name": "stderr",
     "output_type": "stream",
     "text": [
      " 16%|█▌        | 25/157 [23:45<1:16:59, 35.00s/it]"
     ]
    },
    {
     "name": "stdout",
     "output_type": "stream",
     "text": [
      "Can't get image's sizes\n",
      "Couldn't get title from article.\n",
      "Couldn't get title from article.\n",
      "Can't go to the followers info\n",
      "Couldn't get reading time from article.\n",
      "Couldn't get date from article.\n",
      "Can't get responses information\n",
      "Couldn't get YouTube videos.\n",
      "Can't get claps information\n",
      "title filled by initial data\n",
      "claps filled by initial data\n",
      "responses filled by initial data\n",
      "reading_time filled by initial data\n",
      "publication filled by initial data\n",
      "date filled by initial data\n",
      "Can't get image's sizes\n",
      "Couldn't get title from article.\n",
      "Couldn't get title from article.\n",
      "Can't go to the followers info\n",
      "Couldn't get reading time from article.\n",
      "Couldn't get date from article.\n",
      "Can't get responses information\n",
      "Couldn't get YouTube videos.\n",
      "Can't get claps information\n",
      "title filled by initial data\n",
      "claps filled by initial data\n",
      "responses filled by initial data\n",
      "reading_time filled by initial data\n",
      "publication filled by initial data\n",
      "date filled by initial data\n",
      "Can't get responses information\n",
      "responses filled by initial data\n",
      "Can't get responses information\n",
      "responses filled by initial data\n",
      "Can't get responses information\n",
      "responses filled by initial data\n",
      "Can't get responses information\n",
      "responses filled by initial data\n",
      "Can't get responses information\n",
      "responses filled by initial data\n",
      "Can't get responses information\n",
      "responses filled by initial data\n",
      "Can't get responses information\n",
      "responses filled by initial data\n",
      "Can't get responses information\n",
      "responses filled by initial data\n",
      "Can't get responses information\n",
      "responses filled by initial data\n",
      "Can't go to the followers info\n"
     ]
    },
    {
     "name": "stderr",
     "output_type": "stream",
     "text": [
      " 17%|█▋        | 26/157 [24:27<1:20:57, 37.08s/it]"
     ]
    },
    {
     "name": "stdout",
     "output_type": "stream",
     "text": [
      "Can't get image's sizes\n",
      "Couldn't get title from article.\n",
      "Couldn't get title from article.\n",
      "Can't go to the followers info\n",
      "Couldn't get reading time from article.\n",
      "Couldn't get date from article.\n",
      "Can't get responses information\n",
      "Couldn't get YouTube videos.\n",
      "Can't get claps information\n",
      "title filled by initial data\n",
      "claps filled by initial data\n",
      "responses filled by initial data\n",
      "reading_time filled by initial data\n",
      "publication filled by initial data\n",
      "date filled by initial data\n",
      "Can't get responses information\n",
      "responses filled by initial data\n",
      "Can't get responses information\n",
      "responses filled by initial data\n",
      "Can't get image's sizes\n",
      "Couldn't get title from article.\n",
      "Couldn't get title from article.\n",
      "Can't go to the followers info\n",
      "Couldn't get reading time from article.\n",
      "Couldn't get date from article.\n",
      "Can't get responses information\n",
      "Couldn't get YouTube videos.\n",
      "Can't get claps information\n",
      "title filled by initial data\n",
      "claps filled by initial data\n",
      "responses filled by initial data\n",
      "reading_time filled by initial data\n",
      "publication filled by initial data\n",
      "date filled by initial data\n",
      "Can't get responses information\n",
      "responses filled by initial data\n",
      "Can't get responses information\n",
      "responses filled by initial data\n",
      "Can't get responses information\n",
      "responses filled by initial data\n"
     ]
    },
    {
     "name": "stderr",
     "output_type": "stream",
     "text": [
      " 17%|█▋        | 27/157 [25:21<1:31:06, 42.05s/it]"
     ]
    },
    {
     "name": "stdout",
     "output_type": "stream",
     "text": [
      "Can't get image's sizes\n",
      "Couldn't get title from article.\n",
      "Couldn't get title from article.\n",
      "Can't go to the followers info\n",
      "Couldn't get reading time from article.\n",
      "Couldn't get date from article.\n",
      "Can't get responses information\n",
      "Couldn't get YouTube videos.\n",
      "Can't get claps information\n",
      "title filled by initial data\n",
      "claps filled by initial data\n",
      "responses filled by initial data\n",
      "reading_time filled by initial data\n",
      "publication filled by initial data\n",
      "date filled by initial data\n",
      "Can't get image's sizes\n",
      "Couldn't get title from article.\n",
      "Couldn't get title from article.\n",
      "Can't go to the followers info\n",
      "Couldn't get reading time from article.\n",
      "Couldn't get date from article.\n",
      "Can't get responses information\n",
      "Couldn't get YouTube videos.\n",
      "Can't get claps information\n",
      "title filled by initial data\n",
      "claps filled by initial data\n",
      "responses filled by initial data\n",
      "reading_time filled by initial data\n",
      "publication filled by initial data\n",
      "date filled by initial data\n",
      "Can't get image's sizes\n",
      "Couldn't get title from article.\n",
      "Couldn't get title from article.\n",
      "Can't go to the followers info\n",
      "Couldn't get reading time from article.\n",
      "Couldn't get date from article.\n",
      "Can't get responses information\n",
      "Couldn't get YouTube videos.\n",
      "Can't get claps information\n",
      "title filled by initial data\n",
      "claps filled by initial data\n",
      "responses filled by initial data\n",
      "reading_time filled by initial data\n",
      "publication filled by initial data\n",
      "date filled by initial data\n",
      "Can't get responses information\n",
      "Can't get claps information\n",
      "claps filled by initial data\n",
      "responses filled by initial data\n",
      "Can't get claps information\n",
      "claps filled by initial data\n",
      "Can't get responses information\n",
      "responses filled by initial data\n",
      "Can't get responses information\n",
      "responses filled by initial data\n"
     ]
    },
    {
     "name": "stderr",
     "output_type": "stream",
     "text": [
      " 18%|█▊        | 28/157 [26:17<1:39:40, 46.36s/it]"
     ]
    },
    {
     "name": "stdout",
     "output_type": "stream",
     "text": [
      "Can't get responses information\n",
      "responses filled by initial data\n",
      "Can't get responses information\n",
      "responses filled by initial data\n",
      "Can't get responses information\n",
      "responses filled by initial data\n",
      "Can't get responses information\n",
      "responses filled by initial data\n",
      "Can't get responses information\n",
      "responses filled by initial data\n",
      "Can't get responses information\n",
      "responses filled by initial data\n",
      "Can't get responses information\n",
      "responses filled by initial data\n",
      "Can't get responses information\n",
      "responses filled by initial data\n",
      "Can't get claps information\n",
      "claps filled by initial data\n"
     ]
    },
    {
     "name": "stderr",
     "output_type": "stream",
     "text": [
      " 18%|█▊        | 29/157 [27:14<1:45:05, 49.26s/it]"
     ]
    },
    {
     "name": "stdout",
     "output_type": "stream",
     "text": [
      "Can't get image's sizes\n",
      "Couldn't get title from article.\n",
      "Couldn't get title from article.\n",
      "Can't go to the followers info\n",
      "Couldn't get reading time from article.\n",
      "Couldn't get date from article.\n",
      "Can't get responses information\n",
      "Couldn't get YouTube videos.\n",
      "Can't get claps information\n",
      "title filled by initial data\n",
      "claps filled by initial data\n",
      "responses filled by initial data\n",
      "reading_time filled by initial data\n",
      "publication filled by initial data\n",
      "date filled by initial data\n",
      "Can't get responses information\n",
      "responses filled by initial data\n",
      "Can't get responses information\n",
      "Can't get claps information\n",
      "claps filled by initial data\n",
      "responses filled by initial data\n",
      "Can't get responses information\n",
      "responses filled by initial data\n",
      "Can't get responses information\n",
      "responses filled by initial data\n",
      "Can't get claps information\n",
      "claps filled by initial data\n",
      "Can't get responses information\n",
      "responses filled by initial data\n",
      "Can't get responses information\n",
      "responses filled by initial data\n",
      "Can't get claps information\n",
      "claps filled by initial data\n"
     ]
    },
    {
     "name": "stderr",
     "output_type": "stream",
     "text": [
      " 19%|█▉        | 30/157 [29:25<2:36:12, 73.80s/it]"
     ]
    },
    {
     "name": "stdout",
     "output_type": "stream",
     "text": [
      "Can't get image's sizes\n",
      "Couldn't get title from article.\n",
      "Couldn't get title from article.\n",
      "Can't go to the followers info\n",
      "Couldn't get reading time from article.\n",
      "Couldn't get date from article.\n",
      "Can't get responses information\n",
      "Couldn't get YouTube videos.\n",
      "Can't get claps information\n",
      "title filled by initial data\n",
      "claps filled by initial data\n",
      "responses filled by initial data\n",
      "reading_time filled by initial data\n",
      "publication filled by initial data\n",
      "date filled by initial data\n",
      "Can't get claps information\n",
      "claps filled by initial data\n",
      "Can't get claps information\n",
      "claps filled by initial data\n",
      "Can't get claps information\n",
      "claps filled by initial data\n",
      "Can't get responses information\n",
      "responses filled by initial data\n",
      "Can't get responses information\n",
      "responses filled by initial data\n",
      "Can't get responses information\n",
      "responses filled by initial data\n"
     ]
    },
    {
     "name": "stderr",
     "output_type": "stream",
     "text": [
      " 20%|█▉        | 31/157 [29:50<2:04:31, 59.30s/it]"
     ]
    },
    {
     "name": "stdout",
     "output_type": "stream",
     "text": [
      "Can't get image's sizes\n",
      "Couldn't get title from article.\n",
      "Couldn't get title from article.\n",
      "Can't go to the followers info\n",
      "Couldn't get reading time from article.\n",
      "Couldn't get date from article.\n",
      "Can't get responses information\n",
      "Couldn't get YouTube videos.\n",
      "Can't get claps information\n",
      "title filled by initial data\n",
      "claps filled by initial data\n",
      "responses filled by initial data\n",
      "reading_time filled by initial data\n",
      "publication filled by initial data\n",
      "date filled by initial data\n",
      "Can't get image's sizes\n",
      "Couldn't get title from article.\n",
      "Couldn't get title from article.\n",
      "Can't go to the followers info\n",
      "Couldn't get reading time from article.\n",
      "Couldn't get date from article.\n",
      "Can't get responses information\n",
      "Couldn't get YouTube videos.\n",
      "Can't get claps information\n",
      "title filled by initial data\n",
      "claps filled by initial data\n",
      "responses filled by initial data\n",
      "reading_time filled by initial data\n",
      "publication filled by initial data\n",
      "date filled by initial data\n",
      "Can't get responses information\n",
      "responses filled by initial data\n",
      "Can't get image's sizes\n",
      "Can't get responses information\n",
      "Can't get claps information\n",
      "claps filled by initial data\n",
      "responses filled by initial data\n",
      "Can't get responses information\n",
      "responses filled by initial data\n",
      "Can't get responses information\n",
      "responses filled by initial data\n",
      "Can't get responses information\n",
      "responses filled by initial data\n",
      "Can't get responses information\n",
      "responses filled by initial data\n"
     ]
    },
    {
     "name": "stderr",
     "output_type": "stream",
     "text": [
      " 20%|██        | 32/157 [30:29<1:51:04, 53.31s/it]"
     ]
    },
    {
     "name": "stdout",
     "output_type": "stream",
     "text": [
      "Can't get responses information\n",
      "responses filled by initial data\n",
      "Can't get image's sizes\n",
      "Couldn't get title from article.\n",
      "Couldn't get title from article.\n",
      "Can't go to the followers info\n",
      "Couldn't get reading time from article.\n",
      "Couldn't get date from article.\n",
      "Can't get responses information\n",
      "Couldn't get YouTube videos.\n",
      "Can't get claps information\n",
      "title filled by initial data\n",
      "claps filled by initial data\n",
      "responses filled by initial data\n",
      "reading_time filled by initial data\n",
      "publication filled by initial data\n",
      "date filled by initial data\n",
      "Can't get image's sizes\n",
      "Couldn't get title from article.\n",
      "Couldn't get title from article.\n",
      "Can't go to the followers info\n",
      "Couldn't get reading time from article.\n",
      "Couldn't get date from article.\n",
      "Can't get responses information\n",
      "Couldn't get YouTube videos.\n",
      "Can't get claps information\n",
      "title filled by initial data\n",
      "claps filled by initial data\n",
      "responses filled by initial data\n",
      "reading_time filled by initial data\n",
      "publication filled by initial data\n",
      "date filled by initial data\n",
      "Can't get responses information\n",
      "responses filled by initial data\n",
      "Can't get responses information\n",
      "responses filled by initial data\n",
      "Couldn't get title from article.\n",
      "title filled by initial data\n",
      "Can't get responses information\n",
      "responses filled by initial data\n"
     ]
    },
    {
     "name": "stderr",
     "output_type": "stream",
     "text": [
      " 21%|██        | 33/157 [31:00<1:36:18, 46.60s/it]"
     ]
    },
    {
     "name": "stdout",
     "output_type": "stream",
     "text": [
      "Can't get image's sizes\n",
      "Couldn't get title from article.\n",
      "Couldn't get title from article.\n",
      "Can't go to the followers info\n",
      "Couldn't get reading time from article.\n",
      "Couldn't get date from article.\n",
      "Can't get responses information\n",
      "Couldn't get YouTube videos.\n",
      "Can't get claps information\n",
      "title filled by initial data\n",
      "claps filled by initial data\n",
      "responses filled by initial data\n",
      "reading_time filled by initial data\n",
      "publication filled by initial data\n",
      "date filled by initial data\n",
      "Can't get image's sizes\n",
      "Couldn't get title from article.\n",
      "Couldn't get title from article.\n",
      "Can't go to the followers info\n",
      "Couldn't get reading time from article.\n",
      "Couldn't get date from article.\n",
      "Can't get responses information\n",
      "Couldn't get YouTube videos.\n",
      "Can't get claps information\n",
      "title filled by initial data\n",
      "claps filled by initial data\n",
      "responses filled by initial data\n",
      "reading_time filled by initial data\n",
      "publication filled by initial data\n",
      "date filled by initial data\n",
      "Can't get responses information\n",
      "responses filled by initial data\n",
      "Can't get responses information\n",
      "Can't get claps information\n",
      "claps filled by initial data\n",
      "responses filled by initial data\n",
      "Can't get responses information\n",
      "responses filled by initial data\n",
      "Can't get responses information\n",
      "responses filled by initial data\n",
      "Can't get responses information\n",
      "responses filled by initial data\n",
      "Can't get responses information\n",
      "responses filled by initial data\n",
      "Can't get responses information\n",
      "responses filled by initial data\n",
      "Can't get responses information\n",
      "Can't get claps information\n",
      "claps filled by initial data\n",
      "responses filled by initial data\n",
      "Can't get responses information\n",
      "responses filled by initial data\n"
     ]
    },
    {
     "name": "stderr",
     "output_type": "stream",
     "text": [
      " 22%|██▏       | 34/157 [31:32<1:26:11, 42.04s/it]"
     ]
    },
    {
     "name": "stdout",
     "output_type": "stream",
     "text": [
      "Can't get image's sizes\n",
      "Couldn't get title from article.\n",
      "Couldn't get title from article.\n",
      "Can't go to the followers info\n",
      "Couldn't get reading time from article.\n",
      "Couldn't get date from article.\n",
      "Can't get responses information\n",
      "Couldn't get YouTube videos.\n",
      "Can't get claps information\n",
      "title filled by initial data\n",
      "claps filled by initial data\n",
      "responses filled by initial data\n",
      "reading_time filled by initial data\n",
      "publication filled by initial data\n",
      "date filled by initial data\n",
      "Can't get image's sizes\n",
      "Couldn't get title from article.\n",
      "Couldn't get title from article.\n",
      "Can't go to the followers info\n",
      "Couldn't get reading time from article.\n",
      "Couldn't get date from article.\n",
      "Can't get responses information\n",
      "Couldn't get YouTube videos.\n",
      "Can't get claps information\n",
      "title filled by initial data\n",
      "claps filled by initial data\n",
      "responses filled by initial data\n",
      "reading_time filled by initial data\n",
      "publication filled by initial data\n",
      "date filled by initial data\n",
      "Can't get responses information\n",
      "Can't get claps information\n",
      "claps filled by initial data\n",
      "responses filled by initial data\n",
      "Can't get responses information\n",
      "responses filled by initial data\n",
      "Can't get responses information\n",
      "responses filled by initial data\n",
      "Can't get responses information\n",
      "responses filled by initial data\n",
      "Can't get responses information\n",
      "responses filled by initial data\n",
      "Can't get responses information\n",
      "responses filled by initial data\n"
     ]
    },
    {
     "name": "stderr",
     "output_type": "stream",
     "text": [
      " 22%|██▏       | 35/157 [32:14<1:25:45, 42.18s/it]"
     ]
    },
    {
     "name": "stdout",
     "output_type": "stream",
     "text": [
      "Can't get image's sizes\n",
      "Couldn't get title from article.\n",
      "Couldn't get title from article.\n",
      "Can't go to the followers info\n",
      "Couldn't get reading time from article.\n",
      "Couldn't get date from article.\n",
      "Can't get responses information\n",
      "Couldn't get YouTube videos.\n",
      "Can't get claps information\n",
      "title filled by initial data\n",
      "claps filled by initial data\n",
      "responses filled by initial data\n",
      "reading_time filled by initial data\n",
      "publication filled by initial data\n",
      "date filled by initial data\n",
      "Can't get image's sizes\n",
      "Couldn't get title from article.\n",
      "Couldn't get title from article.\n",
      "Can't go to the followers info\n",
      "Couldn't get reading time from article.\n",
      "Couldn't get date from article.\n",
      "Can't get responses information\n",
      "Couldn't get YouTube videos.\n",
      "Can't get claps information\n",
      "title filled by initial data\n",
      "claps filled by initial data\n",
      "responses filled by initial data\n",
      "reading_time filled by initial data\n",
      "publication filled by initial data\n",
      "date filled by initial data\n",
      "Can't get image's sizes\n",
      "Couldn't get title from article.\n",
      "Couldn't get title from article.\n",
      "Can't go to the followers info\n",
      "Couldn't get reading time from article.\n",
      "Couldn't get date from article.\n",
      "Can't get responses information\n",
      "Couldn't get YouTube videos.\n",
      "Can't get claps information\n",
      "title filled by initial data\n",
      "claps filled by initial data\n",
      "responses filled by initial data\n",
      "reading_time filled by initial data\n",
      "publication filled by initial data\n",
      "date filled by initial data\n",
      "Can't get responses information\n",
      "responses filled by initial data\n",
      "Can't get responses information\n",
      "responses filled by initial data\n",
      "Can't get responses information\n",
      "Can't get claps information\n",
      "claps filled by initial data\n",
      "responses filled by initial data\n",
      "Can't get responses information\n",
      "Can't get claps information\n",
      "claps filled by initial data\n",
      "responses filled by initial data\n",
      "Can't get responses information\n",
      "responses filled by initial data\n",
      "Can't get responses information\n",
      "responses filled by initial data\n"
     ]
    },
    {
     "name": "stderr",
     "output_type": "stream",
     "text": [
      " 23%|██▎       | 36/157 [32:36<1:12:59, 36.19s/it]"
     ]
    },
    {
     "name": "stdout",
     "output_type": "stream",
     "text": [
      "Can't get responses information\n",
      "responses filled by initial data\n",
      "Can't get responses information\n",
      "responses filled by initial data\n",
      "Can't get responses information\n",
      "responses filled by initial data\n",
      "Can't get responses information\n",
      "Can't get claps information\n",
      "claps filled by initial data\n",
      "responses filled by initial data\n",
      "Can't get responses information\n",
      "responses filled by initial data\n",
      "Can't get responses information\n",
      "Can't get claps information\n",
      "claps filled by initial data\n",
      "responses filled by initial data\n",
      "Can't get responses information\n",
      "responses filled by initial data\n",
      "Can't get responses information\n",
      "Can't get claps information\n",
      "claps filled by initial data\n",
      "responses filled by initial data\n",
      "Can't get responses information\n",
      "responses filled by initial data\n",
      "Can't get responses information\n",
      "responses filled by initial data\n",
      "Can't get responses information\n",
      "responses filled by initial data\n"
     ]
    },
    {
     "name": "stderr",
     "output_type": "stream",
     "text": [
      " 24%|██▎       | 37/157 [33:05<1:07:53, 33.95s/it]"
     ]
    },
    {
     "name": "stdout",
     "output_type": "stream",
     "text": [
      "Can't get responses information\n",
      "responses filled by initial data\n",
      "Can't get image's sizes\n",
      "Couldn't get title from article.\n",
      "Couldn't get title from article.\n",
      "Can't go to the followers info\n",
      "Couldn't get reading time from article.\n",
      "Couldn't get date from article.\n",
      "Can't get responses information\n",
      "Couldn't get YouTube videos.\n",
      "Can't get claps information\n",
      "title filled by initial data\n",
      "claps filled by initial data\n",
      "responses filled by initial data\n",
      "reading_time filled by initial data\n",
      "publication filled by initial data\n",
      "date filled by initial data\n",
      "Can't get responses information\n",
      "responses filled by initial data\n",
      "Can't get responses information\n",
      "responses filled by initial data\n",
      "Can't get claps information\n",
      "claps filled by initial data\n",
      "Can't get responses information\n",
      "responses filled by initial data\n"
     ]
    },
    {
     "name": "stderr",
     "output_type": "stream",
     "text": [
      " 24%|██▍       | 38/157 [33:50<1:14:03, 37.34s/it]"
     ]
    },
    {
     "name": "stdout",
     "output_type": "stream",
     "text": [
      "Can't get responses information\n",
      "responses filled by initial data\n",
      "Can't get responses information\n",
      "responses filled by initial data\n",
      "Can't get responses information\n",
      "responses filled by initial data\n",
      "Can't get responses information\n",
      "responses filled by initial data\n",
      "Can't get responses information\n",
      "responses filled by initial data\n"
     ]
    },
    {
     "name": "stderr",
     "output_type": "stream",
     "text": [
      " 25%|██▍       | 39/157 [35:27<1:48:26, 55.14s/it]"
     ]
    },
    {
     "name": "stdout",
     "output_type": "stream",
     "text": [
      "Can't get responses information\n",
      "responses filled by initial data\n",
      "Can't get image's sizes\n",
      "Couldn't get title from article.\n",
      "Couldn't get title from article.\n",
      "Can't go to the followers info\n",
      "Couldn't get reading time from article.\n",
      "Couldn't get date from article.\n",
      "Can't get responses information\n",
      "Couldn't get YouTube videos.\n",
      "Can't get claps information\n",
      "title filled by initial data\n",
      "claps filled by initial data\n",
      "responses filled by initial data\n",
      "reading_time filled by initial data\n",
      "publication filled by initial data\n",
      "date filled by initial data\n",
      "Can't get responses information\n",
      "Can't get claps information\n",
      "claps filled by initial data\n",
      "responses filled by initial data\n",
      "Can't get responses information\n",
      "responses filled by initial data\n",
      "Can't get responses information\n",
      "responses filled by initial data\n"
     ]
    },
    {
     "name": "stderr",
     "output_type": "stream",
     "text": [
      " 25%|██▌       | 40/157 [36:34<1:54:35, 58.76s/it]"
     ]
    },
    {
     "name": "stdout",
     "output_type": "stream",
     "text": [
      "Can't get image's sizes\n",
      "Couldn't get title from article.\n",
      "Couldn't get title from article.\n",
      "Can't go to the followers info\n",
      "Couldn't get reading time from article.\n",
      "Couldn't get date from article.\n",
      "Can't get responses information\n",
      "Couldn't get YouTube videos.\n",
      "Can't get claps information\n",
      "title filled by initial data\n",
      "claps filled by initial data\n",
      "responses filled by initial data\n",
      "reading_time filled by initial data\n",
      "publication filled by initial data\n",
      "date filled by initial data\n",
      "Can't get image's sizes\n",
      "Couldn't get title from article.\n",
      "Couldn't get title from article.\n",
      "Can't go to the followers info\n",
      "Couldn't get reading time from article.\n",
      "Couldn't get date from article.\n",
      "Can't get responses information\n",
      "Couldn't get YouTube videos.\n",
      "Can't get claps information\n",
      "title filled by initial data\n",
      "claps filled by initial data\n",
      "responses filled by initial data\n",
      "reading_time filled by initial data\n",
      "publication filled by initial data\n",
      "date filled by initial data\n",
      "Can't get claps information\n",
      "claps filled by initial data\n",
      "Can't get responses information\n",
      "responses filled by initial data\n",
      "Can't get claps information\n",
      "claps filled by initial data\n",
      "Can't get responses information\n",
      "responses filled by initial data\n",
      "Can't get responses information\n",
      "responses filled by initial data\n",
      "Can't get responses information\n",
      "responses filled by initial data\n",
      "Can't get claps information\n",
      "claps filled by initial data\n",
      "Can't get responses information\n",
      "responses filled by initial data\n"
     ]
    },
    {
     "name": "stderr",
     "output_type": "stream",
     "text": [
      " 26%|██▌       | 41/157 [36:58<1:33:16, 48.24s/it]"
     ]
    },
    {
     "name": "stdout",
     "output_type": "stream",
     "text": [
      "Can't get responses information\n",
      "responses filled by initial data\n",
      "Can't get image's sizes\n",
      "Couldn't get title from article.\n",
      "Couldn't get title from article.\n",
      "Can't go to the followers info\n",
      "Couldn't get reading time from article.\n",
      "Couldn't get date from article.\n",
      "Can't get responses information\n",
      "Couldn't get YouTube videos.\n",
      "Can't get claps information\n",
      "title filled by initial data\n",
      "claps filled by initial data\n",
      "responses filled by initial data\n",
      "reading_time filled by initial data\n",
      "publication filled by initial data\n",
      "date filled by initial data\n",
      "Can't get image's sizes\n",
      "Couldn't get title from article.\n",
      "Couldn't get title from article.\n",
      "Can't go to the followers info\n",
      "Couldn't get reading time from article.\n",
      "Couldn't get date from article.\n",
      "Can't get responses information\n",
      "Couldn't get YouTube videos.\n",
      "Can't get claps information\n",
      "title filled by initial data\n",
      "claps filled by initial data\n",
      "responses filled by initial data\n",
      "reading_time filled by initial data\n",
      "publication filled by initial data\n",
      "date filled by initial data\n",
      "Can't get responses information\n",
      "responses filled by initial data\n",
      "Can't get responses information\n",
      "responses filled by initial data\n",
      "Can't get responses information\n",
      "responses filled by initial data\n"
     ]
    },
    {
     "name": "stderr",
     "output_type": "stream",
     "text": [
      " 27%|██▋       | 42/157 [37:26<1:20:37, 42.07s/it]"
     ]
    },
    {
     "name": "stdout",
     "output_type": "stream",
     "text": [
      "Can't get responses information\n",
      "responses filled by initial data\n",
      "Can't get responses information\n",
      "Can't get claps information\n",
      "claps filled by initial data\n",
      "responses filled by initial data\n",
      "Can't get responses information\n",
      "responses filled by initial data\n",
      "Can't get responses information\n",
      "responses filled by initial data\n",
      "Can't get responses information\n",
      "responses filled by initial data\n",
      "Can't get responses information\n",
      "responses filled by initial data\n",
      "Can't get responses information\n",
      "responses filled by initial data\n",
      "Can't get responses information\n",
      "responses filled by initial data\n"
     ]
    },
    {
     "name": "stderr",
     "output_type": "stream",
     "text": [
      " 27%|██▋       | 43/157 [38:01<1:15:48, 39.90s/it]"
     ]
    },
    {
     "name": "stdout",
     "output_type": "stream",
     "text": [
      "Can't get responses information\n",
      "responses filled by initial data\n",
      "Can't get responses information\n",
      "responses filled by initial data\n",
      "Can't get responses information\n",
      "responses filled by initial data\n",
      "Can't get responses information\n",
      "responses filled by initial data\n",
      "Can't get responses information\n",
      "responses filled by initial data\n",
      "Can't get image's sizes\n",
      "Can't get image's sizes\n",
      "Can't get responses information\n",
      "Can't get claps information\n",
      "claps filled by initial data\n",
      "responses filled by initial data\n",
      "Can't get responses information\n",
      "responses filled by initial data\n",
      "Can't get responses information\n",
      "responses filled by initial data\n",
      "Can't get claps information\n",
      "claps filled by initial data\n",
      "Can't get responses information\n",
      "responses filled by initial data\n"
     ]
    },
    {
     "name": "stderr",
     "output_type": "stream",
     "text": [
      " 28%|██▊       | 44/157 [38:22<1:04:28, 34.24s/it]"
     ]
    },
    {
     "name": "stdout",
     "output_type": "stream",
     "text": [
      "Can't get responses information\n",
      "responses filled by initial data\n",
      "Can't get responses information\n",
      "responses filled by initial data\n",
      "Can't get responses information\n",
      "responses filled by initial data\n",
      "Can't get responses information\n",
      "responses filled by initial data\n",
      "Can't get responses information\n",
      "responses filled by initial data\n",
      "Can't get responses information\n",
      "responses filled by initial data\n",
      "publication filled by initial data\n",
      "Can't get claps information\n",
      "claps filled by initial data\n"
     ]
    },
    {
     "name": "stderr",
     "output_type": "stream",
     "text": [
      " 29%|██▊       | 45/157 [38:46<58:26, 31.31s/it]  "
     ]
    },
    {
     "name": "stdout",
     "output_type": "stream",
     "text": [
      "Can't get responses information\n",
      "responses filled by initial data\n",
      "Can't get image's sizes\n",
      "Couldn't get title from article.\n",
      "Couldn't get title from article.\n",
      "Can't go to the followers info\n",
      "Couldn't get reading time from article.\n",
      "Couldn't get date from article.\n",
      "Can't get responses information\n",
      "Couldn't get YouTube videos.\n",
      "Can't get claps information\n",
      "title filled by initial data\n",
      "claps filled by initial data\n",
      "responses filled by initial data\n",
      "reading_time filled by initial data\n",
      "publication filled by initial data\n",
      "date filled by initial data\n",
      "Can't get responses information\n",
      "responses filled by initial data\n",
      "Can't go to the followers info\n",
      "Can't get responses information\n",
      "responses filled by initial data\n",
      "Can't get responses information\n",
      "responses filled by initial data\n",
      "Can't get responses information\n",
      "responses filled by initial data\n",
      "Can't get responses information\n",
      "responses filled by initial data\n",
      "Can't get responses information\n",
      "responses filled by initial data\n",
      "Can't get responses information\n",
      "responses filled by initial data\n",
      "Can't get responses information\n",
      "responses filled by initial data\n",
      "Can't get responses information\n",
      "Can't get claps information\n",
      "claps filled by initial data\n",
      "responses filled by initial data\n"
     ]
    },
    {
     "name": "stderr",
     "output_type": "stream",
     "text": [
      " 29%|██▉       | 46/157 [39:16<57:10, 30.90s/it]"
     ]
    },
    {
     "name": "stdout",
     "output_type": "stream",
     "text": [
      "Can't get image's sizes\n",
      "Couldn't get title from article.\n",
      "Couldn't get title from article.\n",
      "Can't go to the followers info\n",
      "Couldn't get reading time from article.\n",
      "Couldn't get date from article.\n",
      "Can't get responses information\n",
      "Couldn't get YouTube videos.\n",
      "Can't get claps information\n",
      "title filled by initial data\n",
      "claps filled by initial data\n",
      "responses filled by initial data\n",
      "reading_time filled by initial data\n",
      "publication filled by initial data\n",
      "date filled by initial data\n",
      "Can't get image's sizes\n",
      "Couldn't get title from article.\n",
      "Couldn't get title from article.\n",
      "Can't go to the followers info\n",
      "Couldn't get reading time from article.\n",
      "Couldn't get date from article.\n",
      "Can't get responses information\n",
      "Couldn't get YouTube videos.\n",
      "Can't get claps information\n",
      "title filled by initial data\n",
      "claps filled by initial data\n",
      "responses filled by initial data\n",
      "reading_time filled by initial data\n",
      "publication filled by initial data\n",
      "date filled by initial data\n"
     ]
    },
    {
     "name": "stderr",
     "output_type": "stream",
     "text": [
      " 30%|██▉       | 47/157 [40:14<1:11:28, 38.99s/it]"
     ]
    },
    {
     "name": "stdout",
     "output_type": "stream",
     "text": [
      "Can't get responses information\n",
      "responses filled by initial data\n",
      "Can't get responses information\n",
      "responses filled by initial data\n",
      "Can't get responses information\n",
      "responses filled by initial data\n",
      "publication filled by initial data\n",
      "Can't get responses information\n",
      "responses filled by initial data\n",
      "Can't get responses information\n",
      "responses filled by initial data\n",
      "Can't get responses information\n",
      "responses filled by initial data\n",
      "Can't get responses information\n",
      "responses filled by initial data\n"
     ]
    },
    {
     "name": "stderr",
     "output_type": "stream",
     "text": [
      " 31%|███       | 48/157 [41:04<1:16:42, 42.23s/it]"
     ]
    },
    {
     "name": "stdout",
     "output_type": "stream",
     "text": [
      "Can't get responses information\n",
      "responses filled by initial data\n",
      "Can't get responses information\n",
      "responses filled by initial data\n",
      "Can't get responses information\n",
      "responses filled by initial data\n",
      "Can't get responses information\n",
      "responses filled by initial data\n",
      "Can't get responses information\n",
      "responses filled by initial data\n",
      "Can't get responses information\n",
      "responses filled by initial data\n",
      "Can't get responses information\n",
      "responses filled by initial data\n",
      "Can't get responses information\n",
      "responses filled by initial data\n",
      "Can't get responses information\n",
      "responses filled by initial data\n",
      "Can't get responses information\n",
      "responses filled by initial data\n",
      "Can't get responses information\n",
      "responses filled by initial data\n",
      "Can't get responses information\n",
      "responses filled by initial data\n"
     ]
    },
    {
     "name": "stderr",
     "output_type": "stream",
     "text": [
      " 31%|███       | 49/157 [42:49<1:49:59, 61.11s/it]"
     ]
    },
    {
     "name": "stdout",
     "output_type": "stream",
     "text": [
      "Can't get image's sizes\n",
      "Couldn't get title from article.\n",
      "Couldn't get title from article.\n",
      "Can't go to the followers info\n",
      "Couldn't get reading time from article.\n",
      "Couldn't get date from article.\n",
      "Can't get responses information\n",
      "Couldn't get YouTube videos.\n",
      "Can't get claps information\n",
      "title filled by initial data\n",
      "claps filled by initial data\n",
      "responses filled by initial data\n",
      "reading_time filled by initial data\n",
      "publication filled by initial data\n",
      "date filled by initial data\n",
      "Can't get responses information\n",
      "responses filled by initial data\n",
      "Can't get responses information\n",
      "responses filled by initial data\n",
      "Can't get responses information\n",
      "responses filled by initial data\n",
      "Can't get responses information\n",
      "responses filled by initial data\n",
      "Can't get responses information\n",
      "responses filled by initial data\n",
      "Can't get claps information\n",
      "claps filled by initial data\n",
      "Can't get responses information\n",
      "responses filled by initial data\n"
     ]
    },
    {
     "name": "stderr",
     "output_type": "stream",
     "text": [
      " 32%|███▏      | 50/157 [43:22<1:33:49, 52.62s/it]"
     ]
    },
    {
     "name": "stdout",
     "output_type": "stream",
     "text": [
      "Can't get image's sizes\n",
      "Couldn't get title from article.\n",
      "Couldn't get title from article.\n",
      "Can't go to the followers info\n",
      "Couldn't get reading time from article.\n",
      "Couldn't get date from article.\n",
      "Can't get responses information\n",
      "Couldn't get YouTube videos.\n",
      "Can't get claps information\n",
      "title filled by initial data\n",
      "claps filled by initial data\n",
      "responses filled by initial data\n",
      "reading_time filled by initial data\n",
      "publication filled by initial data\n",
      "date filled by initial data\n",
      "Can't get image's sizes\n",
      "Couldn't get title from article.\n",
      "Couldn't get title from article.\n",
      "Can't go to the followers info\n",
      "Couldn't get reading time from article.\n",
      "Couldn't get date from article.\n",
      "Can't get responses information\n",
      "Couldn't get YouTube videos.\n",
      "Can't get claps information\n",
      "title filled by initial data\n",
      "claps filled by initial data\n",
      "responses filled by initial data\n",
      "reading_time filled by initial data\n",
      "publication filled by initial data\n",
      "date filled by initial data\n",
      "Can't get responses information\n",
      "responses filled by initial data\n",
      "Can't get responses information\n",
      "responses filled by initial data\n",
      "Can't get responses information\n",
      "responses filled by initial data\n",
      "Can't get responses information\n",
      "responses filled by initial data\n",
      "Can't get responses information\n",
      "responses filled by initial data\n",
      "Can't get responses information\n",
      "responses filled by initial data\n",
      "Can't get responses information\n",
      "Can't get claps information\n",
      "claps filled by initial data\n",
      "responses filled by initial data\n",
      "Can't get responses information\n",
      "responses filled by initial data\n"
     ]
    },
    {
     "name": "stderr",
     "output_type": "stream",
     "text": [
      " 32%|███▏      | 51/157 [43:57<1:23:46, 47.42s/it]"
     ]
    },
    {
     "name": "stdout",
     "output_type": "stream",
     "text": [
      "Can't get responses information\n",
      "responses filled by initial data\n",
      "Can't get image's sizes\n",
      "Couldn't get title from article.\n",
      "Couldn't get title from article.\n",
      "Can't go to the followers info\n",
      "Couldn't get reading time from article.\n",
      "Couldn't get date from article.\n",
      "Can't get responses information\n",
      "Couldn't get YouTube videos.\n",
      "Can't get claps information\n",
      "title filled by initial data\n",
      "claps filled by initial data\n",
      "responses filled by initial data\n",
      "reading_time filled by initial data\n",
      "publication filled by initial data\n",
      "date filled by initial data\n",
      "Can't get responses information\n",
      "Can't get claps information\n",
      "claps filled by initial data\n",
      "responses filled by initial data\n",
      "Can't get claps information\n",
      "claps filled by initial data\n",
      "Can't get responses information\n",
      "responses filled by initial data\n",
      "Can't get responses information\n",
      "responses filled by initial data\n",
      "Can't get responses information\n",
      "responses filled by initial data\n"
     ]
    },
    {
     "name": "stderr",
     "output_type": "stream",
     "text": [
      " 33%|███▎      | 52/157 [44:55<1:28:37, 50.64s/it]"
     ]
    },
    {
     "name": "stdout",
     "output_type": "stream",
     "text": [
      "publication filled by initial data\n",
      "Can't get responses information\n",
      "responses filled by initial data\n",
      "Can't get responses information\n",
      "responses filled by initial data\n",
      "Can't get responses information\n",
      "responses filled by initial data\n",
      "Can't get responses information\n",
      "responses filled by initial data\n"
     ]
    },
    {
     "name": "stderr",
     "output_type": "stream",
     "text": [
      " 34%|███▍      | 53/157 [47:37<2:25:31, 83.96s/it]"
     ]
    },
    {
     "name": "stdout",
     "output_type": "stream",
     "text": [
      "Can't get image's sizes\n",
      "Couldn't get title from article.\n",
      "Couldn't get title from article.\n",
      "Can't go to the followers info\n",
      "Couldn't get reading time from article.\n",
      "Couldn't get date from article.\n",
      "Can't get responses information\n",
      "Couldn't get YouTube videos.\n",
      "Can't get claps information\n",
      "title filled by initial data\n",
      "claps filled by initial data\n",
      "responses filled by initial data\n",
      "reading_time filled by initial data\n",
      "publication filled by initial data\n",
      "date filled by initial data\n",
      "Can't get image's sizes\n",
      "Couldn't get title from article.\n",
      "Couldn't get title from article.\n",
      "Can't go to the followers info\n",
      "Couldn't get reading time from article.\n",
      "Couldn't get date from article.\n",
      "Can't get responses information\n",
      "Couldn't get YouTube videos.\n",
      "Can't get claps information\n",
      "title filled by initial data\n",
      "claps filled by initial data\n",
      "responses filled by initial data\n",
      "reading_time filled by initial data\n",
      "publication filled by initial data\n",
      "date filled by initial data\n",
      "Can't get responses information\n",
      "responses filled by initial data\n",
      "Can't get responses information\n",
      "responses filled by initial data\n",
      "Couldn't get title from article.\n",
      "Can't get responses information\n",
      "title filled by initial data\n",
      "responses filled by initial data\n",
      "Can't get responses information\n",
      "responses filled by initial data\n",
      "Can't get responses information\n",
      "responses filled by initial data\n",
      "Can't get responses information\n",
      "responses filled by initial data\n",
      "Can't get responses information\n",
      "Can't get claps information\n",
      "claps filled by initial data\n",
      "responses filled by initial data\n",
      "Can't get responses information\n",
      "responses filled by initial data\n",
      "Can't get responses information\n",
      "responses filled by initial data\n",
      "Can't get responses information\n",
      "responses filled by initial data\n",
      "Can't get responses information\n",
      "responses filled by initial data\n"
     ]
    },
    {
     "name": "stderr",
     "output_type": "stream",
     "text": [
      " 34%|███▍      | 54/157 [48:07<1:56:19, 67.76s/it]"
     ]
    },
    {
     "name": "stdout",
     "output_type": "stream",
     "text": [
      "Can't get responses information\n",
      "responses filled by initial data\n",
      "Can't get responses information\n",
      "responses filled by initial data\n",
      "Can't get responses information\n",
      "responses filled by initial data\n",
      "Can't get responses information\n",
      "responses filled by initial data\n",
      "Can't get responses information\n",
      "responses filled by initial data\n",
      "Can't get responses information\n",
      "responses filled by initial data\n",
      "Can't get responses information\n",
      "responses filled by initial data\n",
      "Can't get responses information\n",
      "responses filled by initial data\n",
      "Can't get responses information\n",
      "responses filled by initial data\n",
      "Can't go to the followers info\n",
      "Can't get responses information\n",
      "responses filled by initial data\n",
      "Can't get responses information\n",
      "Can't get claps information\n",
      "claps filled by initial data\n",
      "responses filled by initial data\n",
      "Can't get responses information\n",
      "Can't get claps information\n",
      "claps filled by initial data\n",
      "responses filled by initial data\n"
     ]
    },
    {
     "name": "stderr",
     "output_type": "stream",
     "text": [
      " 35%|███▌      | 55/157 [48:39<1:37:21, 57.27s/it]"
     ]
    },
    {
     "name": "stdout",
     "output_type": "stream",
     "text": [
      "Can't get image's sizes\n",
      "Couldn't get title from article.\n",
      "Couldn't get title from article.\n",
      "Can't go to the followers info\n",
      "Couldn't get reading time from article.\n",
      "Couldn't get date from article.\n",
      "Can't get responses information\n",
      "Couldn't get YouTube videos.\n",
      "Can't get claps information\n",
      "title filled by initial data\n",
      "claps filled by initial data\n",
      "responses filled by initial data\n",
      "reading_time filled by initial data\n",
      "publication filled by initial data\n",
      "date filled by initial data\n",
      "Can't get responses information\n",
      "responses filled by initial data\n",
      "Can't get responses information\n",
      "Can't get claps information\n",
      "claps filled by initial data\n",
      "responses filled by initial data\n",
      "Can't get claps information\n",
      "claps filled by initial data\n"
     ]
    },
    {
     "name": "stderr",
     "output_type": "stream",
     "text": [
      " 36%|███▌      | 56/157 [49:46<1:41:18, 60.18s/it]"
     ]
    },
    {
     "name": "stdout",
     "output_type": "stream",
     "text": [
      "publication filled by initial data\n",
      "Can't get responses information\n",
      "responses filled by initial data\n",
      "Can't get responses information\n",
      "responses filled by initial data\n",
      "publication filled by initial data\n",
      "Can't get responses information\n",
      "responses filled by initial data\n",
      "Can't get responses information\n",
      "responses filled by initial data\n",
      "Can't get responses information\n",
      "responses filled by initial data\n",
      "Can't get responses information\n",
      "responses filled by initial data\n"
     ]
    },
    {
     "name": "stderr",
     "output_type": "stream",
     "text": [
      " 36%|███▋      | 57/157 [50:36<1:35:12, 57.13s/it]"
     ]
    },
    {
     "name": "stdout",
     "output_type": "stream",
     "text": [
      "Can't get responses information\n",
      "responses filled by initial data\n",
      "Can't get responses information\n",
      "responses filled by initial data\n",
      "Can't get claps information\n",
      "claps filled by initial data\n",
      "Can't get responses information\n",
      "responses filled by initial data\n",
      "Can't get responses information\n",
      "responses filled by initial data\n"
     ]
    },
    {
     "name": "stderr",
     "output_type": "stream",
     "text": [
      " 37%|███▋      | 58/157 [51:06<1:20:33, 48.82s/it]"
     ]
    },
    {
     "name": "stdout",
     "output_type": "stream",
     "text": [
      "Can't get claps information\n",
      "claps filled by initial data\n",
      "Can't get image's sizes\n",
      "Can't get responses information\n",
      "responses filled by initial data\n",
      "Can't get responses information\n",
      "responses filled by initial data\n",
      "Can't get responses information\n",
      "responses filled by initial data\n"
     ]
    },
    {
     "name": "stderr",
     "output_type": "stream",
     "text": [
      " 38%|███▊      | 59/157 [51:39<1:11:50, 43.98s/it]"
     ]
    },
    {
     "name": "stdout",
     "output_type": "stream",
     "text": [
      "Can't get image's sizes\n",
      "Couldn't get title from article.\n",
      "Couldn't get title from article.\n",
      "Can't go to the followers info\n",
      "Couldn't get reading time from article.\n",
      "Couldn't get date from article.\n",
      "Can't get responses information\n",
      "Couldn't get YouTube videos.\n",
      "Can't get claps information\n",
      "title filled by initial data\n",
      "claps filled by initial data\n",
      "responses filled by initial data\n",
      "reading_time filled by initial data\n",
      "publication filled by initial data\n",
      "date filled by initial data\n",
      "Can't get responses information\n",
      "responses filled by initial data\n",
      "Can't get responses information\n",
      "responses filled by initial data\n",
      "Can't get responses information\n",
      "responses filled by initial data\n",
      "Can't get responses information\n",
      "responses filled by initial data\n",
      "Can't get responses information\n",
      "responses filled by initial data\n",
      "Can't get responses information\n",
      "responses filled by initial data\n"
     ]
    },
    {
     "name": "stderr",
     "output_type": "stream",
     "text": [
      " 38%|███▊      | 60/157 [52:49<1:23:43, 51.79s/it]"
     ]
    },
    {
     "name": "stdout",
     "output_type": "stream",
     "text": [
      "Can't get claps information\n",
      "claps filled by initial data\n",
      "Can't get responses information\n",
      "Can't get claps information\n",
      "claps filled by initial data\n",
      "responses filled by initial data\n",
      "Can't get claps information\n",
      "claps filled by initial data\n",
      "Can't get claps information\n",
      "claps filled by initial data\n",
      "Can't get claps information\n",
      "claps filled by initial data\n",
      "Can't get responses information\n",
      "responses filled by initial data\n",
      "Can't get responses information\n",
      "responses filled by initial data\n",
      "Can't get responses information\n",
      "responses filled by initial data\n",
      "Can't get responses information\n",
      "responses filled by initial data\n"
     ]
    },
    {
     "name": "stderr",
     "output_type": "stream",
     "text": [
      " 39%|███▉      | 61/157 [53:25<1:15:19, 47.07s/it]"
     ]
    },
    {
     "name": "stdout",
     "output_type": "stream",
     "text": [
      "Can't get responses information\n",
      "responses filled by initial data\n",
      "Can't get image's sizes\n",
      "Couldn't get title from article.\n",
      "Couldn't get title from article.\n",
      "Can't go to the followers info\n",
      "Couldn't get reading time from article.\n",
      "Couldn't get date from article.\n",
      "Can't get responses information\n",
      "Couldn't get YouTube videos.\n",
      "Can't get claps information\n",
      "title filled by initial data\n",
      "claps filled by initial data\n",
      "responses filled by initial data\n",
      "reading_time filled by initial data\n",
      "publication filled by initial data\n",
      "date filled by initial data\n",
      "Can't get responses information\n",
      "Can't get claps information\n",
      "claps filled by initial data\n",
      "responses filled by initial data\n",
      "Can't get responses information\n",
      "responses filled by initial data\n",
      "Can't get image's sizes\n",
      "Can't get responses information\n",
      "responses filled by initial data\n",
      "Can't get responses information\n",
      "responses filled by initial data\n",
      "Can't get responses information\n",
      "responses filled by initial data\n",
      "Can't get responses information\n",
      "responses filled by initial data\n"
     ]
    },
    {
     "name": "stderr",
     "output_type": "stream",
     "text": [
      " 39%|███▉      | 62/157 [53:58<1:08:02, 42.98s/it]"
     ]
    },
    {
     "name": "stdout",
     "output_type": "stream",
     "text": [
      "Can't get responses information\n",
      "responses filled by initial data\n",
      "Can't get responses information\n",
      "responses filled by initial data\n",
      "Can't get responses information\n",
      "responses filled by initial data\n",
      "Can't get claps information\n",
      "claps filled by initial data\n",
      "Can't get responses information\n",
      "responses filled by initial data\n",
      "Can't get responses information\n",
      "responses filled by initial data\n",
      "Can't get responses information\n",
      "responses filled by initial data\n",
      "Can't get responses information\n",
      "responses filled by initial data\n"
     ]
    },
    {
     "name": "stderr",
     "output_type": "stream",
     "text": [
      " 40%|████      | 63/157 [54:33<1:03:36, 40.60s/it]"
     ]
    },
    {
     "name": "stdout",
     "output_type": "stream",
     "text": [
      "Can't get responses information\n",
      "responses filled by initial data\n",
      "Can't get responses information\n",
      "responses filled by initial data\n",
      "Can't get responses information\n",
      "responses filled by initial data\n",
      "Can't get responses information\n",
      "responses filled by initial data\n",
      "Can't get responses information\n",
      "Can't get claps information\n",
      "claps filled by initial data\n",
      "responses filled by initial data\n",
      "Can't get responses information\n",
      "responses filled by initial data\n",
      "Can't get responses information\n",
      "responses filled by initial data\n",
      "Can't get image's sizes\n",
      "Couldn't get title from article.\n",
      "Couldn't get title from article.\n",
      "Can't go to the followers info\n",
      "Couldn't get reading time from article.\n",
      "Couldn't get date from article.\n",
      "Can't get responses information\n",
      "Couldn't get YouTube videos.\n",
      "Can't get claps information\n",
      "title filled by initial data\n",
      "claps filled by initial data\n",
      "responses filled by initial data\n",
      "reading_time filled by initial data\n",
      "publication filled by initial data\n",
      "date filled by initial data\n",
      "Can't get responses information\n",
      "responses filled by initial data\n",
      "Can't get responses information\n",
      "responses filled by initial data\n",
      "Can't get responses information\n",
      "responses filled by initial data\n"
     ]
    },
    {
     "name": "stderr",
     "output_type": "stream",
     "text": [
      " 41%|████      | 64/157 [55:06<59:32, 38.41s/it]  "
     ]
    },
    {
     "name": "stdout",
     "output_type": "stream",
     "text": [
      "Can't get responses information\n",
      "responses filled by initial data\n",
      "Can't get responses information\n",
      "responses filled by initial data\n",
      "Can't get responses information\n",
      "responses filled by initial data\n",
      "Can't get responses information\n",
      "responses filled by initial data\n",
      "Can't get responses information\n",
      "responses filled by initial data\n",
      "Can't get responses information\n",
      "responses filled by initial data\n",
      "Can't get responses information\n",
      "Can't get claps information\n",
      "claps filled by initial data\n",
      "responses filled by initial data\n",
      "Can't get responses information\n",
      "responses filled by initial data\n",
      "Can't get responses information\n",
      "responses filled by initial data\n",
      "Can't get responses information\n",
      "responses filled by initial data\n",
      "Can't get responses information\n",
      "responses filled by initial data\n",
      "Can't get responses information\n",
      "responses filled by initial data\n"
     ]
    },
    {
     "name": "stderr",
     "output_type": "stream",
     "text": [
      " 41%|████▏     | 65/157 [55:40<56:26, 36.81s/it]"
     ]
    },
    {
     "name": "stdout",
     "output_type": "stream",
     "text": [
      "Can't get responses information\n",
      "Can't get responses information\n",
      "responses filled by initial data\n",
      "Can't get claps information\n",
      "claps filled by initial data\n",
      "responses filled by initial data\n",
      "Can't get responses information\n",
      "responses filled by initial data\n",
      "Can't get responses information\n",
      "responses filled by initial data\n",
      "Can't get responses information\n",
      "responses filled by initial data\n",
      "Can't get responses information\n",
      "responses filled by initial data\n",
      "Can't get responses information\n",
      "responses filled by initial data\n"
     ]
    },
    {
     "name": "stderr",
     "output_type": "stream",
     "text": [
      " 42%|████▏     | 66/157 [56:09<52:39, 34.72s/it]"
     ]
    },
    {
     "name": "stdout",
     "output_type": "stream",
     "text": [
      "Can't get responses information\n",
      "Can't get claps information\n",
      "claps filled by initial data\n",
      "responses filled by initial data\n",
      "Can't get responses information\n",
      "Can't get claps information\n",
      "claps filled by initial data\n",
      "responses filled by initial data\n",
      "Can't get responses information\n",
      "responses filled by initial data\n",
      "Can't get responses information\n",
      "responses filled by initial data\n",
      "Can't get responses information\n",
      "responses filled by initial data\n",
      "Can't get responses information\n",
      "responses filled by initial data\n",
      "Can't get responses information\n",
      "responses filled by initial data\n",
      "Can't get responses information\n",
      "responses filled by initial data\n",
      "Can't get responses information\n",
      "responses filled by initial data\n",
      "Can't get responses information\n",
      "responses filled by initial data\n",
      "Can't get responses information\n",
      "responses filled by initial data\n",
      "Can't get responses information\n",
      "responses filled by initial data\n",
      "Can't get responses information\n",
      "responses filled by initial data\n"
     ]
    },
    {
     "name": "stderr",
     "output_type": "stream",
     "text": [
      " 43%|████▎     | 67/157 [56:44<52:10, 34.78s/it]"
     ]
    },
    {
     "name": "stdout",
     "output_type": "stream",
     "text": [
      "Can't get responses information\n",
      "responses filled by initial data\n",
      "Can't get responses information\n",
      "responses filled by initial data\n",
      "Can't get image's sizes\n",
      "Couldn't get title from article.\n",
      "Couldn't get title from article.\n",
      "Can't go to the followers info\n",
      "Couldn't get reading time from article.\n",
      "Couldn't get date from article.\n",
      "Can't get responses information\n",
      "Couldn't get YouTube videos.\n",
      "Can't get claps information\n",
      "title filled by initial data\n",
      "claps filled by initial data\n",
      "responses filled by initial data\n",
      "reading_time filled by initial data\n",
      "publication filled by initial data\n",
      "date filled by initial data\n",
      "Can't get responses information\n",
      "responses filled by initial data\n",
      "Can't get responses information\n",
      "responses filled by initial data\n",
      "Can't get responses information\n",
      "responses filled by initial data\n",
      "Can't get responses information\n",
      "responses filled by initial data\n",
      "Can't get responses information\n",
      "responses filled by initial data\n"
     ]
    },
    {
     "name": "stderr",
     "output_type": "stream",
     "text": [
      " 43%|████▎     | 68/157 [57:31<57:05, 38.49s/it]"
     ]
    },
    {
     "name": "stdout",
     "output_type": "stream",
     "text": [
      "Can't get responses information\n",
      "responses filled by initial data\n",
      "Can't get image's sizes\n",
      "Couldn't get title from article.\n",
      "Couldn't get title from article.\n",
      "Can't go to the followers info\n",
      "Couldn't get reading time from article.\n",
      "Couldn't get date from article.\n",
      "Can't get responses information\n",
      "Couldn't get YouTube videos.\n",
      "Can't get claps information\n",
      "title filled by initial data\n",
      "claps filled by initial data\n",
      "responses filled by initial data\n",
      "reading_time filled by initial data\n",
      "publication filled by initial data\n",
      "date filled by initial data\n",
      "Can't get responses information\n",
      "responses filled by initial data\n",
      "Can't get responses information\n",
      "responses filled by initial data\n",
      "publication filled by initial data\n",
      "Can't get responses information\n",
      "responses filled by initial data\n",
      "Can't get responses information\n",
      "responses filled by initial data\n",
      "Can't get claps information\n",
      "claps filled by initial data\n"
     ]
    },
    {
     "name": "stderr",
     "output_type": "stream",
     "text": [
      " 44%|████▍     | 69/157 [59:10<1:22:55, 56.54s/it]"
     ]
    },
    {
     "name": "stdout",
     "output_type": "stream",
     "text": [
      "Can't get responses information\n",
      "responses filled by initial data\n",
      "Can't get responses information\n",
      "responses filled by initial data\n",
      "Can't get claps information\n",
      "claps filled by initial data\n",
      "Can't get responses information\n",
      "responses filled by initial data\n",
      "Can't get image's sizes\n",
      "Can't get claps information\n",
      "claps filled by initial data\n",
      "Can't get claps information\n",
      "claps filled by initial data\n",
      "Can't get responses information\n",
      "responses filled by initial data\n",
      "Can't get responses information\n",
      "responses filled by initial data\n",
      "Can't get responses information\n",
      "responses filled by initial data\n",
      "Can't get responses information\n",
      "responses filled by initial data\n",
      "publication filled by initial data\n"
     ]
    },
    {
     "name": "stderr",
     "output_type": "stream",
     "text": [
      " 45%|████▍     | 70/157 [59:42<1:11:13, 49.12s/it]"
     ]
    },
    {
     "name": "stdout",
     "output_type": "stream",
     "text": [
      "Can't get image's sizes\n",
      "Couldn't get title from article.\n",
      "Couldn't get title from article.\n",
      "Can't go to the followers info\n",
      "Couldn't get reading time from article.\n",
      "Couldn't get date from article.\n",
      "Can't get responses information\n",
      "Couldn't get YouTube videos.\n",
      "Can't get claps information\n",
      "title filled by initial data\n",
      "claps filled by initial data\n",
      "responses filled by initial data\n",
      "reading_time filled by initial data\n",
      "publication filled by initial data\n",
      "date filled by initial data\n",
      "Can't get claps information\n",
      "claps filled by initial data\n",
      "Can't get responses information\n",
      "responses filled by initial data\n",
      "Can't get responses information\n",
      "responses filled by initial data\n",
      "Can't get responses information\n",
      "responses filled by initial data\n",
      "Can't get responses information\n",
      "responses filled by initial data\n",
      "Can't get claps information\n",
      "claps filled by initial data\n",
      "Can't get claps information\n",
      "claps filled by initial data\n",
      "Can't get responses information\n",
      "Can't get claps information\n",
      "claps filled by initial data\n",
      "responses filled by initial data\n"
     ]
    },
    {
     "name": "stderr",
     "output_type": "stream",
     "text": [
      " 45%|████▌     | 71/157 [1:00:37<1:13:00, 50.93s/it]"
     ]
    },
    {
     "name": "stdout",
     "output_type": "stream",
     "text": [
      "Can't get responses information\n",
      "responses filled by initial data\n",
      "Can't get responses information\n",
      "responses filled by initial data\n",
      "Can't get responses information\n",
      "responses filled by initial data\n",
      "Can't get claps information\n",
      "claps filled by initial data\n",
      "Can't get responses information\n",
      "responses filled by initial data\n"
     ]
    },
    {
     "name": "stderr",
     "output_type": "stream",
     "text": [
      " 46%|████▌     | 72/157 [1:01:25<1:10:53, 50.04s/it]"
     ]
    },
    {
     "name": "stdout",
     "output_type": "stream",
     "text": [
      "Can't get responses information\n",
      "responses filled by initial data\n",
      "Can't get responses information\n",
      "responses filled by initial data\n",
      "Can't get responses information\n",
      "responses filled by initial data\n",
      "Can't get responses information\n",
      "responses filled by initial data\n",
      "Can't get responses information\n",
      "Can't get claps information\n",
      "claps filled by initial data\n",
      "responses filled by initial data\n",
      "Can't get responses information\n",
      "responses filled by initial data\n",
      "Can't get responses information\n",
      "Can't get claps information\n",
      "claps filled by initial data\n",
      "responses filled by initial data\n",
      "Can't get responses information\n",
      "responses filled by initial data\n",
      "Can't get responses information\n",
      "Can't get claps information\n",
      "claps filled by initial data\n",
      "responses filled by initial data\n"
     ]
    },
    {
     "name": "stderr",
     "output_type": "stream",
     "text": [
      " 46%|████▋     | 73/157 [1:02:48<1:23:55, 59.95s/it]"
     ]
    },
    {
     "name": "stdout",
     "output_type": "stream",
     "text": [
      "Can't get responses information\n",
      "Can't get claps information\n",
      "claps filled by initial data\n",
      "responses filled by initial data\n",
      "Can't get responses information\n",
      "Can't get claps information\n",
      "claps filled by initial data\n",
      "responses filled by initial data\n",
      "Can't get responses information\n",
      "Can't get claps information\n",
      "claps filled by initial data\n",
      "responses filled by initial data\n",
      "Can't get responses information\n",
      "responses filled by initial data\n",
      "Can't get responses information\n",
      "Can't get claps information\n",
      "claps filled by initial data\n",
      "responses filled by initial data\n",
      "Can't get responses information\n",
      "Can't get claps information\n",
      "claps filled by initial data\n",
      "responses filled by initial data\n",
      "Can't get responses information\n",
      "Can't get claps information\n",
      "claps filled by initial data\n",
      "responses filled by initial data\n",
      "Can't get responses information\n",
      "responses filled by initial data\n",
      "Can't get responses information\n",
      "Can't get claps information\n",
      "claps filled by initial data\n",
      "responses filled by initial data\n",
      "Can't get responses information\n",
      "responses filled by initial data\n"
     ]
    },
    {
     "name": "stderr",
     "output_type": "stream",
     "text": [
      " 47%|████▋     | 74/157 [1:03:30<1:15:21, 54.48s/it]"
     ]
    },
    {
     "name": "stdout",
     "output_type": "stream",
     "text": [
      "Can't get image's sizes\n",
      "Couldn't get title from article.\n",
      "Couldn't get title from article.\n",
      "Can't go to the followers info\n",
      "Couldn't get reading time from article.\n",
      "Couldn't get date from article.\n",
      "Can't get responses information\n",
      "Couldn't get YouTube videos.\n",
      "Can't get claps information\n",
      "title filled by initial data\n",
      "claps filled by initial data\n",
      "responses filled by initial data\n",
      "reading_time filled by initial data\n",
      "publication filled by initial data\n",
      "date filled by initial data\n",
      "Can't get responses information\n",
      "responses filled by initial data\n"
     ]
    },
    {
     "name": "stderr",
     "output_type": "stream",
     "text": [
      " 48%|████▊     | 75/157 [1:04:20<1:12:37, 53.14s/it]"
     ]
    },
    {
     "name": "stdout",
     "output_type": "stream",
     "text": [
      "Can't get image's sizes\n",
      "Couldn't get title from article.\n",
      "Couldn't get title from article.\n",
      "Can't go to the followers info\n",
      "Couldn't get reading time from article.\n",
      "Couldn't get date from article.\n",
      "Can't get responses information\n",
      "Couldn't get YouTube videos.\n",
      "Can't get claps information\n",
      "title filled by initial data\n",
      "claps filled by initial data\n",
      "responses filled by initial data\n",
      "reading_time filled by initial data\n",
      "publication filled by initial data\n",
      "date filled by initial data\n",
      "Can't get responses information\n",
      "responses filled by initial data\n",
      "Can't get responses information\n",
      "responses filled by initial data\n",
      "Can't get responses information\n",
      "responses filled by initial data\n",
      "Can't get responses information\n",
      "responses filled by initial data\n",
      "Can't get responses information\n",
      "responses filled by initial data\n",
      "Can't get responses information\n",
      "responses filled by initial data\n"
     ]
    },
    {
     "name": "stderr",
     "output_type": "stream",
     "text": [
      " 48%|████▊     | 76/157 [1:05:12<1:11:21, 52.85s/it]"
     ]
    },
    {
     "name": "stdout",
     "output_type": "stream",
     "text": [
      "Can't get responses information\n",
      "responses filled by initial data\n",
      "Can't get responses information\n",
      "responses filled by initial data\n",
      "Can't get responses information\n",
      "Can't get claps information\n",
      "claps filled by initial data\n",
      "responses filled by initial data\n",
      "Can't get responses information\n",
      "responses filled by initial data\n",
      "Can't get responses information\n",
      "responses filled by initial data\n",
      "Can't get responses information\n",
      "responses filled by initial data\n",
      "Can't get responses information\n",
      "Can't get claps information\n",
      "claps filled by initial data\n",
      "responses filled by initial data\n",
      "Can't get claps information\n",
      "claps filled by initial data\n",
      "Can't get responses information\n",
      "responses filled by initial data\n"
     ]
    },
    {
     "name": "stderr",
     "output_type": "stream",
     "text": [
      " 49%|████▉     | 77/157 [1:07:04<1:34:13, 70.67s/it]"
     ]
    },
    {
     "name": "stdout",
     "output_type": "stream",
     "text": [
      "Can't get responses information\n",
      "responses filled by initial data\n",
      "Can't get responses information\n",
      "responses filled by initial data\n",
      "Can't get responses information\n",
      "responses filled by initial data\n"
     ]
    },
    {
     "name": "stderr",
     "output_type": "stream",
     "text": [
      " 50%|████▉     | 78/157 [1:07:55<1:25:03, 64.61s/it]"
     ]
    },
    {
     "name": "stdout",
     "output_type": "stream",
     "text": [
      "Can't get responses information\n",
      "responses filled by initial data\n",
      "Can't get responses information\n",
      "responses filled by initial data\n",
      "Can't get responses information\n",
      "responses filled by initial data\n",
      "Can't get responses information\n",
      "Can't get claps information\n",
      "claps filled by initial data\n",
      "responses filled by initial data\n",
      "Can't get responses information\n",
      "responses filled by initial data\n",
      "Can't get claps information\n",
      "claps filled by initial data\n"
     ]
    },
    {
     "name": "stderr",
     "output_type": "stream",
     "text": [
      " 50%|█████     | 79/157 [1:08:22<1:09:26, 53.42s/it]"
     ]
    },
    {
     "name": "stdout",
     "output_type": "stream",
     "text": [
      "Can't get image's sizes\n",
      "Couldn't get title from article.\n",
      "Couldn't get title from article.\n",
      "Can't go to the followers info\n",
      "Couldn't get reading time from article.\n",
      "Couldn't get date from article.\n",
      "Can't get responses information\n",
      "Couldn't get YouTube videos.\n",
      "Can't get claps information\n",
      "title filled by initial data\n",
      "claps filled by initial data\n",
      "responses filled by initial data\n",
      "reading_time filled by initial data\n",
      "publication filled by initial data\n",
      "date filled by initial data\n",
      "Can't get responses information\n",
      "Can't get claps information\n",
      "claps filled by initial data\n",
      "responses filled by initial data\n",
      "Can't get responses information\n",
      "responses filled by initial data\n",
      "Can't get responses information\n",
      "Can't get claps information\n",
      "claps filled by initial data\n",
      "responses filled by initial data\n",
      "Can't get responses information\n",
      "responses filled by initial data\n",
      "Can't get responses information\n",
      "Can't get claps information\n",
      "claps filled by initial data\n",
      "responses filled by initial data\n",
      "Can't get responses information\n",
      "Can't get claps information\n",
      "claps filled by initial data\n",
      "responses filled by initial data\n",
      "Can't get responses information\n",
      "responses filled by initial data\n",
      "Can't get responses information\n",
      "responses filled by initial data\n",
      "Can't get responses information\n",
      "responses filled by initial data\n",
      "Can't get responses information\n",
      "responses filled by initial data\n"
     ]
    },
    {
     "name": "stderr",
     "output_type": "stream",
     "text": [
      " 51%|█████     | 80/157 [1:09:11<1:07:01, 52.22s/it]"
     ]
    },
    {
     "name": "stdout",
     "output_type": "stream",
     "text": [
      "Can't get responses information\n",
      "responses filled by initial data\n",
      "Can't get responses information\n",
      "responses filled by initial data\n",
      "Can't get responses information\n",
      "responses filled by initial data\n",
      "Can't get responses information\n",
      "responses filled by initial data\n",
      "Can't get responses information\n",
      "Can't get claps information\n",
      "claps filled by initial data\n",
      "responses filled by initial data\n",
      "Can't get responses information\n",
      "responses filled by initial data\n",
      "Can't get responses information\n",
      "responses filled by initial data\n",
      "Can't get responses information\n",
      "Can't get claps information\n",
      "claps filled by initial data\n",
      "responses filled by initial data\n",
      "Can't get responses information\n",
      "responses filled by initial data\n",
      "Can't get responses information\n",
      "responses filled by initial data\n",
      "Can't get responses information\n",
      "responses filled by initial data\n",
      "Can't get responses information\n",
      "responses filled by initial data\n",
      "Can't get responses information\n",
      "responses filled by initial data\n",
      "publication filled by initial data\n"
     ]
    },
    {
     "name": "stderr",
     "output_type": "stream",
     "text": [
      " 52%|█████▏    | 81/157 [1:13:42<2:29:11, 117.78s/it]"
     ]
    },
    {
     "name": "stdout",
     "output_type": "stream",
     "text": [
      "Can't get responses information\n",
      "responses filled by initial data\n",
      "Can't get responses information\n",
      "responses filled by initial data\n",
      "Can't get responses information\n",
      "responses filled by initial data\n",
      "Can't get responses information\n",
      "responses filled by initial data\n",
      "Can't get responses information\n",
      "responses filled by initial data\n",
      "Can't get responses information\n",
      "Can't get claps information\n",
      "claps filled by initial data\n",
      "responses filled by initial data\n",
      "Can't get responses information\n",
      "responses filled by initial data\n",
      "Can't get responses information\n",
      "responses filled by initial data\n",
      "Can't get responses information\n",
      "Can't get claps information\n",
      "claps filled by initial data\n",
      "responses filled by initial data\n",
      "Can't get responses information\n",
      "responses filled by initial data\n",
      "Can't get responses information\n",
      "Can't get claps information\n",
      "claps filled by initial data\n",
      "responses filled by initial data\n",
      "Can't get responses information\n",
      "responses filled by initial data\n",
      "Can't get responses information\n",
      "responses filled by initial data\n",
      "Can't get responses information\n",
      "responses filled by initial data\n"
     ]
    },
    {
     "name": "stderr",
     "output_type": "stream",
     "text": [
      " 52%|█████▏    | 82/157 [1:14:19<1:56:41, 93.35s/it] "
     ]
    },
    {
     "name": "stdout",
     "output_type": "stream",
     "text": [
      "Can't get responses information\n",
      "responses filled by initial data\n",
      "Can't get claps information\n",
      "claps filled by initial data\n",
      "Can't get claps information\n",
      "claps filled by initial data\n",
      "Can't get claps information\n",
      "claps filled by initial data\n",
      "Can't get claps information\n",
      "claps filled by initial data\n"
     ]
    },
    {
     "name": "stderr",
     "output_type": "stream",
     "text": [
      " 53%|█████▎    | 83/157 [1:15:28<1:46:23, 86.26s/it]"
     ]
    },
    {
     "name": "stdout",
     "output_type": "stream",
     "text": [
      "Can't get responses information\n",
      "responses filled by initial data\n",
      "Can't get image's sizes\n",
      "Can't get responses information\n",
      "responses filled by initial data\n",
      "Can't get responses information\n",
      "responses filled by initial data\n",
      "Can't get responses information\n",
      "responses filled by initial data\n",
      "Can't get responses information\n",
      "responses filled by initial data\n",
      "Can't get responses information\n",
      "responses filled by initial data\n",
      "Can't get responses information\n",
      "responses filled by initial data\n",
      "Can't get responses information\n",
      "responses filled by initial data\n"
     ]
    },
    {
     "name": "stderr",
     "output_type": "stream",
     "text": [
      " 54%|█████▎    | 84/157 [1:18:08<2:11:36, 108.17s/it]"
     ]
    },
    {
     "name": "stdout",
     "output_type": "stream",
     "text": [
      "Can't get image's sizes\n",
      "Couldn't get title from article.\n",
      "Couldn't get title from article.\n",
      "Can't go to the followers info\n",
      "Couldn't get reading time from article.\n",
      "Couldn't get date from article.\n",
      "Can't get responses information\n",
      "Couldn't get YouTube videos.\n",
      "Can't get claps information\n",
      "title filled by initial data\n",
      "claps filled by initial data\n",
      "responses filled by initial data\n",
      "reading_time filled by initial data\n",
      "publication filled by initial data\n",
      "date filled by initial data\n",
      "Can't get responses information\n",
      "responses filled by initial data\n",
      "Can't get claps information\n",
      "claps filled by initial data\n",
      "Can't get responses information\n",
      "responses filled by initial data\n",
      "Can't get responses information\n",
      "responses filled by initial data\n",
      "Can't get responses information\n",
      "responses filled by initial data\n",
      "Can't get claps information\n",
      "claps filled by initial data\n",
      "Can't get responses information\n",
      "responses filled by initial data\n"
     ]
    },
    {
     "name": "stderr",
     "output_type": "stream",
     "text": [
      " 54%|█████▍    | 85/157 [1:19:35<2:02:15, 101.88s/it]"
     ]
    },
    {
     "name": "stdout",
     "output_type": "stream",
     "text": [
      "Can't get claps information\n",
      "claps filled by initial data\n",
      "Can't get responses information\n",
      "responses filled by initial data\n",
      "Can't get responses information\n",
      "Can't get claps information\n",
      "claps filled by initial data\n",
      "responses filled by initial data\n",
      "Can't get responses information\n",
      "responses filled by initial data\n",
      "Can't get claps information\n",
      "claps filled by initial data\n",
      "Can't get responses information\n",
      "responses filled by initial data\n",
      "Can't get image's sizes\n",
      "Can't get responses information\n",
      "responses filled by initial data\n",
      "Can't get responses information\n",
      "responses filled by initial data\n",
      "Can't get responses information\n",
      "responses filled by initial data\n"
     ]
    },
    {
     "name": "stderr",
     "output_type": "stream",
     "text": [
      " 55%|█████▍    | 86/157 [1:20:17<1:39:16, 83.90s/it] "
     ]
    },
    {
     "name": "stdout",
     "output_type": "stream",
     "text": [
      "Can't get responses information\n",
      "responses filled by initial data\n",
      "Can't get claps information\n",
      "claps filled by initial data\n",
      "Can't get responses information\n",
      "responses filled by initial data\n",
      "Can't get responses information\n",
      "Can't get claps information\n",
      "claps filled by initial data\n",
      "responses filled by initial data\n",
      "publication filled by initial data\n",
      "Can't get responses information\n",
      "responses filled by initial data\n",
      "Can't get responses information\n",
      "responses filled by initial data\n",
      "Can't get responses information\n",
      "responses filled by initial data\n",
      "Can't get responses information\n",
      "responses filled by initial data\n",
      "Can't get responses information\n",
      "responses filled by initial data\n"
     ]
    },
    {
     "name": "stderr",
     "output_type": "stream",
     "text": [
      " 55%|█████▌    | 87/157 [1:20:49<1:19:53, 68.49s/it]"
     ]
    },
    {
     "name": "stdout",
     "output_type": "stream",
     "text": [
      "Can't get responses information\n",
      "responses filled by initial data\n",
      "Can't get image's sizes\n",
      "Couldn't get title from article.\n",
      "Couldn't get title from article.\n",
      "Can't go to the followers info\n",
      "Couldn't get reading time from article.\n",
      "Couldn't get date from article.\n",
      "Can't get responses information\n",
      "Couldn't get YouTube videos.\n",
      "Can't get claps information\n",
      "title filled by initial data\n",
      "claps filled by initial data\n",
      "responses filled by initial data\n",
      "reading_time filled by initial data\n",
      "publication filled by initial data\n",
      "date filled by initial data\n",
      "Can't get responses information\n",
      "responses filled by initial data\n",
      "Can't get responses information\n",
      "Can't get claps information\n",
      "claps filled by initial data\n",
      "responses filled by initial data\n",
      "Can't get responses information\n",
      "responses filled by initial data\n",
      "Can't get responses information\n",
      "Can't get claps information\n",
      "claps filled by initial data\n",
      "responses filled by initial data\n",
      "Can't get responses information\n",
      "Can't get claps information\n",
      "claps filled by initial data\n",
      "responses filled by initial data\n",
      "Can't get responses information\n",
      "responses filled by initial data\n",
      "Can't get responses information\n",
      "responses filled by initial data\n",
      "Can't get responses information\n",
      "responses filled by initial data\n",
      "Can't get responses information\n",
      "responses filled by initial data\n",
      "Can't get responses information\n",
      "Can't get claps information\n",
      "claps filled by initial data\n",
      "responses filled by initial data\n",
      "Can't get responses information\n",
      "responses filled by initial data\n"
     ]
    },
    {
     "name": "stderr",
     "output_type": "stream",
     "text": [
      " 56%|█████▌    | 88/157 [1:21:35<1:10:59, 61.74s/it]"
     ]
    },
    {
     "name": "stdout",
     "output_type": "stream",
     "text": [
      "Can't get image's sizes\n",
      "Couldn't get title from article.\n",
      "Couldn't get title from article.\n",
      "Can't go to the followers info\n",
      "Couldn't get reading time from article.\n",
      "Couldn't get date from article.\n",
      "Can't get responses information\n",
      "Couldn't get YouTube videos.\n",
      "Can't get claps information\n",
      "title filled by initial data\n",
      "claps filled by initial data\n",
      "responses filled by initial data\n",
      "reading_time filled by initial data\n",
      "publication filled by initial data\n",
      "date filled by initial data\n",
      "Can't get responses information\n",
      "Can't get claps information\n",
      "claps filled by initial data\n",
      "responses filled by initial data\n",
      "Can't get claps information\n",
      "claps filled by initial data\n",
      "Can't get responses information\n",
      "responses filled by initial data\n",
      "Can't get responses information\n",
      "responses filled by initial data\n",
      "Can't get responses information\n",
      "Can't get claps information\n",
      "claps filled by initial data\n",
      "responses filled by initial data\n"
     ]
    },
    {
     "name": "stderr",
     "output_type": "stream",
     "text": [
      " 57%|█████▋    | 89/157 [1:22:25<1:05:46, 58.03s/it]"
     ]
    },
    {
     "name": "stdout",
     "output_type": "stream",
     "text": [
      "Can't get image's sizes\n",
      "Can't get responses information\n",
      "responses filled by initial data\n",
      "Can't get responses information\n",
      "responses filled by initial data\n",
      "Can't get responses information\n",
      "responses filled by initial data\n",
      "Can't get claps information\n",
      "claps filled by initial data\n",
      "Can't get responses information\n",
      "responses filled by initial data\n",
      "Can't get responses information\n",
      "responses filled by initial data\n",
      "Can't get responses information\n",
      "Can't get claps information\n",
      "claps filled by initial data\n",
      "responses filled by initial data\n",
      "Can't get responses information\n",
      "responses filled by initial data\n",
      "Can't get claps information\n",
      "claps filled by initial data\n",
      "Can't get responses information\n",
      "responses filled by initial data\n"
     ]
    },
    {
     "name": "stderr",
     "output_type": "stream",
     "text": [
      " 57%|█████▋    | 90/157 [1:25:10<1:40:38, 90.12s/it]"
     ]
    },
    {
     "name": "stdout",
     "output_type": "stream",
     "text": [
      "Can't get image's sizes\n",
      "Couldn't get title from article.\n",
      "Couldn't get title from article.\n",
      "Can't go to the followers info\n",
      "Couldn't get reading time from article.\n",
      "Couldn't get date from article.\n",
      "Can't get responses information\n",
      "Couldn't get YouTube videos.\n",
      "Can't get claps information\n",
      "title filled by initial data\n",
      "claps filled by initial data\n",
      "responses filled by initial data\n",
      "reading_time filled by initial data\n",
      "publication filled by initial data\n",
      "date filled by initial data\n",
      "Can't get responses information\n",
      "responses filled by initial data\n",
      "Can't get responses information\n",
      "responses filled by initial data\n",
      "Can't get responses information\n",
      "responses filled by initial data\n",
      "Can't get responses information\n",
      "responses filled by initial data\n",
      "Can't get responses information\n",
      "responses filled by initial data\n"
     ]
    },
    {
     "name": "stderr",
     "output_type": "stream",
     "text": [
      " 58%|█████▊    | 91/157 [1:26:58<1:45:03, 95.51s/it]"
     ]
    },
    {
     "name": "stdout",
     "output_type": "stream",
     "text": [
      "Can't get image's sizes\n",
      "Couldn't get title from article.\n",
      "Couldn't get title from article.\n",
      "Can't go to the followers info\n",
      "Couldn't get reading time from article.\n",
      "Couldn't get date from article.\n",
      "Can't get responses information\n",
      "Couldn't get YouTube videos.\n",
      "Can't get claps information\n",
      "title filled by initial data\n",
      "claps filled by initial data\n",
      "responses filled by initial data\n",
      "reading_time filled by initial data\n",
      "publication filled by initial data\n",
      "date filled by initial data\n",
      "Can't get responses information\n",
      "responses filled by initial data\n",
      "Can't get responses information\n",
      "responses filled by initial data\n",
      "Can't get responses information\n",
      "responses filled by initial data\n",
      "Can't get responses information\n",
      "responses filled by initial data\n",
      "Can't get responses information\n",
      "responses filled by initial data\n"
     ]
    },
    {
     "name": "stderr",
     "output_type": "stream",
     "text": [
      " 59%|█████▊    | 92/157 [1:28:03<1:33:34, 86.37s/it]"
     ]
    },
    {
     "name": "stdout",
     "output_type": "stream",
     "text": [
      "Can't get responses information\n",
      "responses filled by initial data\n",
      "Can't get responses information\n",
      "responses filled by initial data\n",
      "Can't get claps information\n",
      "claps filled by initial data\n",
      "Can't get responses information\n",
      "responses filled by initial data\n",
      "Can't get responses information\n",
      "responses filled by initial data\n",
      "Can't get responses information\n",
      "responses filled by initial data\n",
      "Can't get responses information\n",
      "responses filled by initial data\n",
      "Can't get responses information\n",
      "responses filled by initial data\n",
      "Can't get responses information\n",
      "responses filled by initial data\n",
      "Can't get responses information\n",
      "responses filled by initial data\n",
      "Can't get responses information\n",
      "Can't get claps information\n",
      "claps filled by initial data\n",
      "responses filled by initial data\n",
      "Can't get responses information\n",
      "responses filled by initial data\n"
     ]
    },
    {
     "name": "stderr",
     "output_type": "stream",
     "text": [
      " 59%|█████▉    | 93/157 [1:28:58<1:22:04, 76.95s/it]"
     ]
    },
    {
     "name": "stdout",
     "output_type": "stream",
     "text": [
      "Can't get responses information\n",
      "Can't get claps information\n",
      "claps filled by initial data\n",
      "responses filled by initial data\n",
      "Can't get responses information\n",
      "responses filled by initial data\n",
      "Can't get responses information\n",
      "responses filled by initial data\n",
      "Can't get responses information\n",
      "Can't get claps information\n",
      "claps filled by initial data\n",
      "responses filled by initial data\n",
      "Can't get responses information\n",
      "responses filled by initial data\n",
      "Can't get responses information\n",
      "responses filled by initial data\n",
      "Can't get responses information\n",
      "Can't get claps information\n",
      "claps filled by initial data\n",
      "responses filled by initial data\n",
      "Can't get responses information\n",
      "responses filled by initial data\n",
      "Can't get responses information\n",
      "responses filled by initial data\n"
     ]
    },
    {
     "name": "stderr",
     "output_type": "stream",
     "text": [
      " 60%|█████▉    | 94/157 [1:29:42<1:10:25, 67.07s/it]"
     ]
    },
    {
     "name": "stdout",
     "output_type": "stream",
     "text": [
      "Can't get image's sizes\n",
      "Couldn't get title from article.\n",
      "Couldn't get title from article.\n",
      "Can't go to the followers info\n",
      "Couldn't get reading time from article.\n",
      "Couldn't get date from article.\n",
      "Can't get responses information\n",
      "Couldn't get YouTube videos.\n",
      "Can't get claps information\n",
      "title filled by initial data\n",
      "claps filled by initial data\n",
      "responses filled by initial data\n",
      "reading_time filled by initial data\n",
      "publication filled by initial data\n",
      "date filled by initial data\n",
      "Can't get responses information\n",
      "Can't get claps information\n",
      "claps filled by initial data\n",
      "responses filled by initial data\n",
      "Can't get responses information\n",
      "responses filled by initial data\n",
      "Can't get responses information\n",
      "responses filled by initial data\n"
     ]
    },
    {
     "name": "stderr",
     "output_type": "stream",
     "text": [
      " 61%|██████    | 95/157 [1:31:09<1:15:42, 73.27s/it]"
     ]
    },
    {
     "name": "stdout",
     "output_type": "stream",
     "text": [
      "Can't get responses information\n",
      "responses filled by initial data\n",
      "Can't get responses information\n",
      "responses filled by initial data\n",
      "Can't get responses information\n",
      "responses filled by initial data\n",
      "Can't get responses information\n",
      "responses filled by initial data\n",
      "Can't get responses information\n",
      "responses filled by initial data\n",
      "Can't get claps information\n",
      "claps filled by initial data\n",
      "Can't get responses information\n",
      "responses filled by initial data\n"
     ]
    },
    {
     "name": "stderr",
     "output_type": "stream",
     "text": [
      " 61%|██████    | 96/157 [1:37:43<2:52:16, 169.45s/it]"
     ]
    },
    {
     "name": "stdout",
     "output_type": "stream",
     "text": [
      "Can't get responses information\n",
      "responses filled by initial data\n",
      "Can't get claps information\n",
      "claps filled by initial data\n",
      "Can't get image's sizes\n",
      "Can't get responses information\n",
      "responses filled by initial data\n",
      "Can't get responses information\n",
      "responses filled by initial data\n",
      "Can't get responses information\n",
      "Can't get claps information\n",
      "claps filled by initial data\n",
      "responses filled by initial data\n",
      "Can't get responses information\n",
      "responses filled by initial data\n",
      "Can't get responses information\n",
      "responses filled by initial data\n",
      "Can't get responses information\n",
      "responses filled by initial data\n",
      "Can't get responses information\n",
      "responses filled by initial data\n",
      "Can't get responses information\n",
      "responses filled by initial data\n"
     ]
    },
    {
     "name": "stderr",
     "output_type": "stream",
     "text": [
      " 62%|██████▏   | 97/157 [1:39:07<2:23:39, 143.66s/it]"
     ]
    },
    {
     "name": "stdout",
     "output_type": "stream",
     "text": [
      "Can't get image's sizes\n",
      "Can't get responses information\n",
      "Can't get claps information\n",
      "claps filled by initial data\n",
      "responses filled by initial data\n",
      "Can't get responses information\n",
      "responses filled by initial data\n",
      "Can't get claps information\n",
      "claps filled by initial data\n",
      "Can't get responses information\n",
      "responses filled by initial data\n",
      "Can't get responses information\n",
      "responses filled by initial data\n",
      "Can't get responses information\n",
      "responses filled by initial data\n"
     ]
    },
    {
     "name": "stderr",
     "output_type": "stream",
     "text": [
      " 62%|██████▏   | 98/157 [1:40:26<2:02:07, 124.20s/it]"
     ]
    },
    {
     "name": "stdout",
     "output_type": "stream",
     "text": [
      "Can't get image's sizes\n",
      "Can't get image's sizes\n",
      "Couldn't get title from article.\n",
      "Couldn't get title from article.\n",
      "Can't go to the followers info\n",
      "Couldn't get reading time from article.\n",
      "Couldn't get date from article.\n",
      "Can't get responses information\n",
      "Couldn't get YouTube videos.\n",
      "Can't get claps information\n",
      "title filled by initial data\n",
      "claps filled by initial data\n",
      "responses filled by initial data\n",
      "reading_time filled by initial data\n",
      "publication filled by initial data\n",
      "date filled by initial data\n",
      "Can't get claps information\n",
      "claps filled by initial data\n",
      "Can't get claps information\n",
      "claps filled by initial data\n",
      "Can't get claps information\n",
      "claps filled by initial data\n",
      "Can't get claps information\n",
      "claps filled by initial data\n",
      "Can't get responses information\n",
      "responses filled by initial data\n"
     ]
    },
    {
     "name": "stderr",
     "output_type": "stream",
     "text": [
      " 63%|██████▎   | 99/157 [1:41:19<1:39:31, 102.96s/it]"
     ]
    },
    {
     "name": "stdout",
     "output_type": "stream",
     "text": [
      "Can't get responses information\n",
      "Can't get claps information\n",
      "claps filled by initial data\n",
      "responses filled by initial data\n",
      "Can't get responses information\n",
      "responses filled by initial data\n",
      "Can't get responses information\n",
      "Can't get claps information\n",
      "claps filled by initial data\n",
      "responses filled by initial data\n",
      "Can't get responses information\n",
      "responses filled by initial data\n",
      "Can't get responses information\n",
      "responses filled by initial data\n",
      "Can't get responses information\n",
      "responses filled by initial data\n",
      "Can't get responses information\n",
      "responses filled by initial data\n",
      "Can't get responses information\n",
      "Can't get claps information\n",
      "claps filled by initial data\n",
      "responses filled by initial data\n",
      "Can't get responses information\n",
      "responses filled by initial data\n",
      "Can't get responses information\n",
      "responses filled by initial data\n",
      "Can't get responses information\n",
      "responses filled by initial data\n",
      "Can't get responses information\n",
      "responses filled by initial data\n"
     ]
    },
    {
     "name": "stderr",
     "output_type": "stream",
     "text": [
      " 64%|██████▎   | 100/157 [1:42:12<1:23:43, 88.12s/it]"
     ]
    },
    {
     "name": "stdout",
     "output_type": "stream",
     "text": [
      "Can't get image's sizes\n",
      "Couldn't get title from article.\n",
      "Couldn't get title from article.\n",
      "Can't go to the followers info\n",
      "Couldn't get reading time from article.\n",
      "Couldn't get date from article.\n",
      "Can't get responses information\n",
      "Couldn't get YouTube videos.\n",
      "Can't get claps information\n",
      "title filled by initial data\n",
      "claps filled by initial data\n",
      "responses filled by initial data\n",
      "reading_time filled by initial data\n",
      "publication filled by initial data\n",
      "date filled by initial data\n",
      "Can't get image's sizes\n",
      "Couldn't get title from article.\n",
      "Couldn't get title from article.\n",
      "Can't go to the followers info\n",
      "Couldn't get reading time from article.\n",
      "Couldn't get date from article.\n",
      "Can't get responses information\n",
      "Couldn't get YouTube videos.\n",
      "Can't get claps information\n",
      "title filled by initial data\n",
      "claps filled by initial data\n",
      "responses filled by initial data\n",
      "reading_time filled by initial data\n",
      "publication filled by initial data\n",
      "date filled by initial data\n",
      "Can't get responses information\n",
      "responses filled by initial data\n",
      "Can't get image's sizes\n",
      "Couldn't get title from article.\n",
      "Couldn't get title from article.\n",
      "Can't go to the followers info\n",
      "Couldn't get reading time from article.\n",
      "Couldn't get date from article.\n",
      "Can't get responses information\n",
      "Couldn't get YouTube videos.\n",
      "Can't get claps information\n",
      "title filled by initial data\n",
      "claps filled by initial data\n",
      "responses filled by initial data\n",
      "reading_time filled by initial data\n",
      "publication filled by initial data\n",
      "date filled by initial data\n",
      "Can't get image's sizes\n",
      "Couldn't get title from article.\n",
      "Couldn't get title from article.\n",
      "Can't go to the followers info\n",
      "Couldn't get reading time from article.\n",
      "Couldn't get date from article.\n",
      "Can't get responses information\n",
      "Couldn't get YouTube videos.\n",
      "Can't get claps information\n",
      "title filled by initial data\n",
      "claps filled by initial data\n",
      "responses filled by initial data\n",
      "reading_time filled by initial data\n",
      "publication filled by initial data\n",
      "date filled by initial data\n",
      "Can't get responses information\n",
      "responses filled by initial data\n",
      "Can't get responses information\n",
      "responses filled by initial data\n",
      "Can't get responses information\n",
      "responses filled by initial data\n",
      "Can't get responses information\n",
      "responses filled by initial data\n",
      "Can't get responses information\n",
      "responses filled by initial data\n",
      "Can't get responses information\n",
      "Can't get claps information\n",
      "claps filled by initial data\n",
      "responses filled by initial data\n"
     ]
    },
    {
     "name": "stderr",
     "output_type": "stream",
     "text": [
      " 64%|██████▍   | 101/157 [1:42:58<1:10:11, 75.20s/it]"
     ]
    },
    {
     "name": "stdout",
     "output_type": "stream",
     "text": [
      "Can't get responses information\n",
      "responses filled by initial data\n",
      "Can't get responses information\n",
      "responses filled by initial data\n",
      "Can't get claps information\n",
      "claps filled by initial data\n"
     ]
    },
    {
     "name": "stderr",
     "output_type": "stream",
     "text": [
      " 65%|██████▍   | 102/157 [1:44:35<1:15:04, 81.91s/it]"
     ]
    },
    {
     "name": "stdout",
     "output_type": "stream",
     "text": [
      "Can't get responses information\n",
      "responses filled by initial data\n",
      "Can't get claps information\n",
      "claps filled by initial data\n",
      "Can't get responses information\n",
      "responses filled by initial data\n",
      "Can't get responses information\n",
      "responses filled by initial data\n",
      "Can't get responses information\n",
      "responses filled by initial data\n",
      "Can't get responses information\n",
      "responses filled by initial data\n",
      "Can't get responses information\n",
      "responses filled by initial data\n",
      "Can't get responses information\n",
      "responses filled by initial data\n",
      "Can't get responses information\n",
      "responses filled by initial data\n",
      "Can't get responses information\n",
      "responses filled by initial data\n"
     ]
    },
    {
     "name": "stderr",
     "output_type": "stream",
     "text": [
      " 66%|██████▌   | 103/157 [1:45:18<1:03:09, 70.17s/it]"
     ]
    },
    {
     "name": "stdout",
     "output_type": "stream",
     "text": [
      "Can't get image's sizes\n",
      "Couldn't get title from article.\n",
      "Couldn't get title from article.\n",
      "Can't go to the followers info\n",
      "Couldn't get reading time from article.\n",
      "Couldn't get date from article.\n",
      "Can't get responses information\n",
      "Couldn't get YouTube videos.\n",
      "Can't get claps information\n",
      "title filled by initial data\n",
      "claps filled by initial data\n",
      "responses filled by initial data\n",
      "reading_time filled by initial data\n",
      "publication filled by initial data\n",
      "date filled by initial data\n",
      "Can't get claps information\n",
      "claps filled by initial data\n",
      "Can't get claps information\n",
      "claps filled by initial data\n",
      "Can't get responses information\n",
      "responses filled by initial data\n",
      "Can't get responses information\n",
      "responses filled by initial data\n",
      "Can't get responses information\n",
      "responses filled by initial data\n"
     ]
    },
    {
     "name": "stderr",
     "output_type": "stream",
     "text": [
      " 66%|██████▌   | 104/157 [1:47:58<1:25:50, 97.17s/it]"
     ]
    },
    {
     "name": "stdout",
     "output_type": "stream",
     "text": [
      "Can't get image's sizes\n",
      "Couldn't get title from article.\n",
      "Couldn't get title from article.\n",
      "Can't go to the followers info\n",
      "Couldn't get reading time from article.\n",
      "Couldn't get date from article.\n",
      "Can't get responses information\n",
      "Couldn't get YouTube videos.\n",
      "Can't get claps information\n",
      "title filled by initial data\n",
      "claps filled by initial data\n",
      "responses filled by initial data\n",
      "reading_time filled by initial data\n",
      "publication filled by initial data\n",
      "date filled by initial data\n",
      "Can't get responses information\n",
      "responses filled by initial data\n",
      "Can't get image's sizes\n",
      "Can't get responses information\n",
      "Can't get claps information\n",
      "claps filled by initial data\n",
      "responses filled by initial data\n",
      "Can't get responses information\n",
      "responses filled by initial data\n",
      "Can't get responses information\n",
      "responses filled by initial data\n",
      "Can't get responses information\n",
      "responses filled by initial data\n",
      "Can't get responses information\n",
      "responses filled by initial data\n",
      "Can't get responses information\n",
      "responses filled by initial data\n",
      "Can't get responses information\n",
      "responses filled by initial data\n",
      "Can't get responses information\n",
      "responses filled by initial data\n"
     ]
    },
    {
     "name": "stderr",
     "output_type": "stream",
     "text": [
      " 67%|██████▋   | 105/157 [1:48:32<1:07:50, 78.27s/it]"
     ]
    },
    {
     "name": "stdout",
     "output_type": "stream",
     "text": [
      "Can't get responses information\n",
      "Can't get claps information\n",
      "claps filled by initial data\n",
      "responses filled by initial data\n",
      "Can't get responses information\n",
      "responses filled by initial data\n",
      "Can't get responses information\n",
      "responses filled by initial data\n",
      "Can't get responses information\n",
      "Can't get claps information\n",
      "claps filled by initial data\n",
      "responses filled by initial data\n",
      "Can't get responses information\n",
      "responses filled by initial data\n",
      "Can't get responses information\n",
      "responses filled by initial data\n",
      "Can't get responses information\n",
      "Can't get claps information\n",
      "claps filled by initial data\n",
      "responses filled by initial data\n",
      "Can't get responses information\n",
      "responses filled by initial data\n"
     ]
    },
    {
     "name": "stderr",
     "output_type": "stream",
     "text": [
      " 68%|██████▊   | 106/157 [1:49:12<56:47, 66.80s/it]  "
     ]
    },
    {
     "name": "stdout",
     "output_type": "stream",
     "text": [
      "Can't get claps information\n",
      "claps filled by initial data\n",
      "Can't get image's sizes\n",
      "Couldn't get title from article.\n",
      "Couldn't get title from article.\n",
      "Can't go to the followers info\n",
      "Couldn't get reading time from article.\n",
      "Couldn't get date from article.\n",
      "Can't get responses information\n",
      "Couldn't get YouTube videos.\n",
      "Can't get claps information\n",
      "title filled by initial data\n",
      "claps filled by initial data\n",
      "responses filled by initial data\n",
      "reading_time filled by initial data\n",
      "publication filled by initial data\n",
      "date filled by initial data\n",
      "Can't get claps information\n",
      "claps filled by initial data\n",
      "Can't get responses information\n",
      "Can't get claps information\n",
      "claps filled by initial data\n",
      "responses filled by initial data\n",
      "Can't get responses information\n",
      "Can't get claps information\n",
      "claps filled by initial data\n",
      "responses filled by initial data\n",
      "Can't get responses information\n",
      "responses filled by initial data\n",
      "Can't get responses information\n",
      "responses filled by initial data\n",
      "Can't get responses information\n",
      "responses filled by initial data\n"
     ]
    },
    {
     "name": "stderr",
     "output_type": "stream",
     "text": [
      " 68%|██████▊   | 107/157 [1:49:40<45:58, 55.17s/it]"
     ]
    },
    {
     "name": "stdout",
     "output_type": "stream",
     "text": [
      "Can't get responses information\n",
      "responses filled by initial data\n",
      "Can't get responses information\n",
      "responses filled by initial data\n",
      "Can't get responses information\n",
      "responses filled by initial data\n",
      "Can't get responses information\n",
      "Can't get claps information\n",
      "claps filled by initial data\n",
      "responses filled by initial data\n",
      "Can't get responses information\n",
      "responses filled by initial data\n",
      "Can't get responses information\n",
      "responses filled by initial data\n",
      "Can't get responses information\n",
      "responses filled by initial data\n",
      "Can't get responses information\n",
      "responses filled by initial data\n",
      "Can't get responses information\n",
      "Can't get claps information\n",
      "claps filled by initial data\n",
      "responses filled by initial data\n",
      "Can't get responses information\n",
      "Can't get claps information\n",
      "claps filled by initial data\n",
      "responses filled by initial data\n",
      "Can't get responses information\n",
      "responses filled by initial data\n",
      "Can't get responses information\n",
      "responses filled by initial data\n"
     ]
    },
    {
     "name": "stderr",
     "output_type": "stream",
     "text": [
      " 69%|██████▉   | 108/157 [1:50:13<39:28, 48.34s/it]"
     ]
    },
    {
     "name": "stdout",
     "output_type": "stream",
     "text": [
      "Can't get responses information\n",
      "responses filled by initial data\n",
      "Can't get responses information\n",
      "responses filled by initial data\n",
      "Can't get image's sizes\n",
      "Can't get responses information\n",
      "Can't get claps information\n",
      "claps filled by initial data\n",
      "responses filled by initial data\n",
      "Can't get responses information\n",
      "responses filled by initial data\n",
      "Can't get responses information\n",
      "Can't get claps information\n",
      "claps filled by initial data\n",
      "responses filled by initial data\n",
      "Can't get responses information\n",
      "Can't get claps information\n",
      "claps filled by initial data\n",
      "responses filled by initial data\n",
      "Can't get responses information\n",
      "responses filled by initial data\n",
      "Can't get responses information\n",
      "responses filled by initial data\n",
      "Can't get responses information\n",
      "responses filled by initial data\n",
      "Can't get responses information\n",
      "responses filled by initial data\n"
     ]
    },
    {
     "name": "stderr",
     "output_type": "stream",
     "text": [
      " 69%|██████▉   | 109/157 [1:50:37<32:53, 41.12s/it]"
     ]
    },
    {
     "name": "stdout",
     "output_type": "stream",
     "text": [
      "Can't get claps information\n",
      "claps filled by initial data\n",
      "Can't get responses information\n",
      "responses filled by initial data\n",
      "Can't get responses information\n",
      "responses filled by initial data\n",
      "Can't get responses information\n",
      "responses filled by initial data\n",
      "Can't get claps information\n",
      "claps filled by initial data\n"
     ]
    },
    {
     "name": "stderr",
     "output_type": "stream",
     "text": [
      " 70%|███████   | 110/157 [1:51:06<29:18, 37.40s/it]"
     ]
    },
    {
     "name": "stdout",
     "output_type": "stream",
     "text": [
      "Can't get image's sizes\n",
      "Couldn't get title from article.\n",
      "Couldn't get title from article.\n",
      "Can't go to the followers info\n",
      "Couldn't get reading time from article.\n",
      "Couldn't get date from article.\n",
      "Can't get responses information\n",
      "Couldn't get YouTube videos.\n",
      "Can't get claps information\n",
      "title filled by initial data\n",
      "claps filled by initial data\n",
      "responses filled by initial data\n",
      "reading_time filled by initial data\n",
      "publication filled by initial data\n",
      "date filled by initial data\n",
      "Can't get image's sizes\n",
      "Couldn't get title from article.\n",
      "Couldn't get title from article.\n",
      "Can't go to the followers info\n",
      "Couldn't get reading time from article.\n",
      "Couldn't get date from article.\n",
      "Can't get responses information\n",
      "Couldn't get YouTube videos.\n",
      "Can't get claps information\n",
      "title filled by initial data\n",
      "claps filled by initial data\n",
      "responses filled by initial data\n",
      "reading_time filled by initial data\n",
      "publication filled by initial data\n",
      "date filled by initial data\n",
      "Can't get image's sizes\n",
      "Couldn't get title from article.\n",
      "Couldn't get title from article.\n",
      "Can't go to the followers info\n",
      "Couldn't get reading time from article.\n",
      "Couldn't get date from article.\n",
      "Can't get responses information\n",
      "Couldn't get YouTube videos.\n",
      "Can't get claps information\n",
      "title filled by initial data\n",
      "claps filled by initial data\n",
      "responses filled by initial data\n",
      "reading_time filled by initial data\n",
      "publication filled by initial data\n",
      "date filled by initial data\n",
      "Can't get image's sizes\n",
      "Couldn't get title from article.\n",
      "Couldn't get title from article.\n",
      "Can't go to the followers info\n",
      "Couldn't get reading time from article.\n",
      "Couldn't get date from article.\n",
      "Can't get responses information\n",
      "Couldn't get YouTube videos.\n",
      "Can't get claps information\n",
      "title filled by initial data\n",
      "claps filled by initial data\n",
      "responses filled by initial data\n",
      "reading_time filled by initial data\n",
      "publication filled by initial data\n",
      "date filled by initial data\n",
      "Can't get responses information\n",
      "responses filled by initial data\n",
      "Can't get responses information\n",
      "responses filled by initial data\n",
      "Can't get responses information\n",
      "responses filled by initial data\n",
      "Can't get responses information\n",
      "responses filled by initial data\n",
      "Can't get responses information\n",
      "responses filled by initial data\n",
      "Can't get responses information\n",
      "responses filled by initial data\n",
      "Can't get responses information\n",
      "responses filled by initial data\n",
      "Can't get responses information\n",
      "responses filled by initial data\n"
     ]
    },
    {
     "name": "stderr",
     "output_type": "stream",
     "text": [
      " 71%|███████   | 111/157 [1:51:59<32:14, 42.06s/it]"
     ]
    },
    {
     "name": "stdout",
     "output_type": "stream",
     "text": [
      "Can't get image's sizes\n",
      "Couldn't get title from article.\n",
      "Couldn't get title from article.\n",
      "Can't go to the followers info\n",
      "Couldn't get reading time from article.\n",
      "Couldn't get date from article.\n",
      "Can't get responses information\n",
      "Couldn't get YouTube videos.\n",
      "Can't get claps information\n",
      "title filled by initial data\n",
      "claps filled by initial data\n",
      "responses filled by initial data\n",
      "reading_time filled by initial data\n",
      "publication filled by initial data\n",
      "date filled by initial data\n",
      "Can't get claps information\n",
      "claps filled by initial data\n",
      "publication filled by initial data\n",
      "publication filled by initial data\n"
     ]
    },
    {
     "name": "stderr",
     "output_type": "stream",
     "text": [
      " 71%|███████▏  | 112/157 [1:52:44<32:14, 43.00s/it]"
     ]
    },
    {
     "name": "stdout",
     "output_type": "stream",
     "text": [
      "Can't get responses information\n",
      "responses filled by initial data\n",
      "Can't get responses information\n",
      "responses filled by initial data\n",
      "Can't get responses information\n",
      "responses filled by initial data\n",
      "Can't get responses information\n",
      "responses filled by initial data\n",
      "Can't get claps information\n",
      "claps filled by initial data\n",
      "Can't get responses information\n",
      "responses filled by initial data\n"
     ]
    },
    {
     "name": "stderr",
     "output_type": "stream",
     "text": [
      " 72%|███████▏  | 113/157 [1:53:28<31:46, 43.33s/it]"
     ]
    },
    {
     "name": "stdout",
     "output_type": "stream",
     "text": [
      "Can't get responses information\n",
      "responses filled by initial data\n",
      "Can't get responses information\n",
      "responses filled by initial data\n",
      "Can't get responses information\n",
      "responses filled by initial data\n",
      "Can't get responses information\n",
      "Can't get claps information\n",
      "claps filled by initial data\n",
      "responses filled by initial data\n",
      "Can't get responses information\n",
      "responses filled by initial data\n",
      "Can't get responses information\n",
      "Can't get claps information\n",
      "claps filled by initial data\n",
      "responses filled by initial data\n",
      "publication filled by initial data\n",
      "Can't get responses information\n",
      "responses filled by initial data\n",
      "publication filled by initial data\n",
      "Can't get responses information\n",
      "responses filled by initial data\n"
     ]
    },
    {
     "name": "stderr",
     "output_type": "stream",
     "text": [
      " 73%|███████▎  | 114/157 [1:54:55<40:32, 56.56s/it]"
     ]
    },
    {
     "name": "stdout",
     "output_type": "stream",
     "text": [
      "Can't get responses information\n",
      "responses filled by initial data\n",
      "Can't get image's sizes\n",
      "Can't get claps information\n",
      "claps filled by initial data\n",
      "Can't get claps information\n",
      "claps filled by initial data\n",
      "publication filled by initial data\n",
      "Can't get responses information\n",
      "responses filled by initial data\n",
      "Can't get claps information\n",
      "claps filled by initial data\n"
     ]
    },
    {
     "name": "stderr",
     "output_type": "stream",
     "text": [
      " 73%|███████▎  | 115/157 [1:56:58<53:34, 76.54s/it]"
     ]
    },
    {
     "name": "stdout",
     "output_type": "stream",
     "text": [
      "Can't get image's sizes\n",
      "Couldn't get title from article.\n",
      "Couldn't get title from article.\n",
      "Can't go to the followers info\n",
      "Couldn't get reading time from article.\n",
      "Couldn't get date from article.\n",
      "Can't get responses information\n",
      "Couldn't get YouTube videos.\n",
      "Can't get claps information\n",
      "title filled by initial data\n",
      "claps filled by initial data\n",
      "responses filled by initial data\n",
      "reading_time filled by initial data\n",
      "publication filled by initial data\n",
      "date filled by initial data\n",
      "Can't get responses information\n",
      "responses filled by initial data\n",
      "Can't get claps information\n",
      "claps filled by initial data\n",
      "Can't get responses information\n",
      "responses filled by initial data\n",
      "Can't get responses information\n",
      "responses filled by initial data\n",
      "Can't get responses information\n",
      "Can't get claps information\n",
      "claps filled by initial data\n",
      "responses filled by initial data\n",
      "Can't get responses information\n",
      "Can't get claps information\n",
      "claps filled by initial data\n",
      "responses filled by initial data\n",
      "Can't get responses information\n",
      "responses filled by initial data\n"
     ]
    },
    {
     "name": "stderr",
     "output_type": "stream",
     "text": [
      " 74%|███████▍  | 116/157 [1:57:51<47:25, 69.41s/it]"
     ]
    },
    {
     "name": "stdout",
     "output_type": "stream",
     "text": [
      "Can't get image's sizes\n",
      "Couldn't get title from article.\n",
      "Couldn't get title from article.\n",
      "Can't go to the followers info\n",
      "Couldn't get reading time from article.\n",
      "Couldn't get date from article.\n",
      "Can't get responses information\n",
      "Couldn't get YouTube videos.\n",
      "Can't get claps information\n",
      "title filled by initial data\n",
      "claps filled by initial data\n",
      "responses filled by initial data\n",
      "reading_time filled by initial data\n",
      "publication filled by initial data\n",
      "date filled by initial data\n",
      "Can't get image's sizes\n",
      "Couldn't get title from article.\n",
      "Couldn't get title from article.\n",
      "Can't go to the followers info\n",
      "Couldn't get reading time from article.\n",
      "Couldn't get date from article.\n",
      "Can't get responses information\n",
      "Couldn't get YouTube videos.\n",
      "Can't get claps information\n",
      "title filled by initial data\n",
      "claps filled by initial data\n",
      "responses filled by initial data\n",
      "reading_time filled by initial data\n",
      "publication filled by initial data\n",
      "date filled by initial data\n",
      "Can't get responses information\n",
      "responses filled by initial data\n",
      "Can't get responses informationCan't get responses information\n",
      "responses filled by initial data\n",
      "\n",
      "responses filled by initial data\n",
      "Can't get responses information\n",
      "Can't get claps information\n",
      "claps filled by initial data\n",
      "responses filled by initial data\n",
      "Can't get claps information\n",
      "claps filled by initial data\n",
      "Can't get responses information\n",
      "responses filled by initial data\n",
      "Can't get claps information\n",
      "claps filled by initial data\n"
     ]
    },
    {
     "name": "stderr",
     "output_type": "stream",
     "text": [
      " 75%|███████▍  | 117/157 [1:58:23<38:40, 58.01s/it]"
     ]
    },
    {
     "name": "stdout",
     "output_type": "stream",
     "text": [
      "Can't get image's sizes\n",
      "Couldn't get title from article.\n",
      "Couldn't get title from article.\n",
      "Can't go to the followers info\n",
      "Couldn't get reading time from article.\n",
      "Couldn't get date from article.\n",
      "Can't get responses information\n",
      "Couldn't get YouTube videos.\n",
      "Can't get claps information\n",
      "title filled by initial data\n",
      "claps filled by initial data\n",
      "responses filled by initial data\n",
      "reading_time filled by initial data\n",
      "publication filled by initial data\n",
      "date filled by initial data\n",
      "Can't get responses information\n",
      "responses filled by initial data\n",
      "Can't get responses information\n",
      "Can't get claps information\n",
      "claps filled by initial data\n",
      "responses filled by initial data\n",
      "Can't get responses information\n",
      "responses filled by initial data\n",
      "Can't get responses information\n",
      "responses filled by initial data\n",
      "Can't get responses information\n",
      "responses filled by initial data\n",
      "Can't get responses information\n",
      "responses filled by initial data\n",
      "Can't get responses information\n",
      "responses filled by initial data\n",
      "Can't get responses information\n",
      "responses filled by initial data\n",
      "Can't get responses information\n",
      "responses filled by initial data\n",
      "Can't get responses information\n",
      "responses filled by initial data\n",
      "Can't get responses information\n",
      "responses filled by initial data\n",
      "Can't get responses information\n",
      "responses filled by initial data\n"
     ]
    },
    {
     "name": "stderr",
     "output_type": "stream",
     "text": [
      " 75%|███████▌  | 118/157 [1:59:29<39:24, 60.63s/it]"
     ]
    },
    {
     "name": "stdout",
     "output_type": "stream",
     "text": [
      "Can't get responses information\n",
      "responses filled by initial data\n",
      "Can't get responses information\n",
      "responses filled by initial data\n",
      "Can't get responses information\n",
      "Can't get claps information\n",
      "claps filled by initial data\n",
      "responses filled by initial data\n",
      "Can't get responses information\n",
      "responses filled by initial data\n",
      "Can't get responses information\n",
      "Can't get claps information\n",
      "claps filled by initial data\n",
      "responses filled by initial data\n",
      "Can't get responses information\n",
      "Can't get claps information\n",
      "claps filled by initial data\n",
      "responses filled by initial data\n",
      "Can't get responses information\n",
      "Can't get claps information\n",
      "claps filled by initial data\n",
      "responses filled by initial data\n",
      "Can't get responses information\n",
      "responses filled by initial data\n",
      "Can't go to the followers info\n",
      "Can't get responses information\n",
      "responses filled by initial data\n"
     ]
    },
    {
     "name": "stderr",
     "output_type": "stream",
     "text": [
      " 76%|███████▌  | 119/157 [2:02:04<56:18, 88.90s/it]"
     ]
    },
    {
     "name": "stdout",
     "output_type": "stream",
     "text": [
      "Can't get image's sizes\n",
      "Couldn't get title from article.\n",
      "Couldn't get title from article.\n",
      "Can't go to the followers info\n",
      "Couldn't get reading time from article.\n",
      "Couldn't get date from article.\n",
      "Can't get responses information\n",
      "Couldn't get YouTube videos.\n",
      "Can't get claps information\n",
      "title filled by initial data\n",
      "claps filled by initial data\n",
      "responses filled by initial data\n",
      "reading_time filled by initial data\n",
      "publication filled by initial data\n",
      "date filled by initial data\n",
      "Can't get claps information\n",
      "claps filled by initial data\n",
      "Can't get claps information\n",
      "claps filled by initial data\n",
      "Can't get responses information\n",
      "responses filled by initial data\n",
      "Can't get claps information\n",
      "claps filled by initial data\n",
      "Can't get responses information\n",
      "responses filled by initial data\n",
      "Can't get claps information\n",
      "claps filled by initial data\n",
      "Can't get claps information\n",
      "claps filled by initial data\n",
      "Can't get claps information\n",
      "claps filled by initial data\n",
      "Can't get claps information\n",
      "claps filled by initial data\n"
     ]
    },
    {
     "name": "stderr",
     "output_type": "stream",
     "text": [
      " 76%|███████▋  | 120/157 [2:03:13<51:00, 82.72s/it]"
     ]
    },
    {
     "name": "stdout",
     "output_type": "stream",
     "text": [
      "Can't get responses information\n",
      "responses filled by initial data\n",
      "Can't get claps information\n",
      "claps filled by initial data\n",
      "Can't get image's sizes\n",
      "Can't get claps information\n",
      "claps filled by initial data\n",
      "Can't get responses information\n",
      "responses filled by initial data\n",
      "Can't get claps information\n",
      "claps filled by initial data\n",
      "Can't get claps information\n",
      "claps filled by initial data\n",
      "Can't get claps information\n",
      "claps filled by initial data\n",
      "Can't get responses information\n",
      "responses filled by initial data\n",
      "Can't get claps information\n",
      "claps filled by initial data\n",
      "Can't get responses information\n",
      "responses filled by initial data\n",
      "Can't get responses information\n",
      "Can't get claps information\n",
      "claps filled by initial data\n",
      "responses filled by initial data\n"
     ]
    },
    {
     "name": "stderr",
     "output_type": "stream",
     "text": [
      " 77%|███████▋  | 121/157 [2:04:25<47:43, 79.56s/it]"
     ]
    },
    {
     "name": "stdout",
     "output_type": "stream",
     "text": [
      "Can't get responses information\n",
      "Can't get claps information\n",
      "claps filled by initial data\n",
      "responses filled by initial data\n",
      "Can't get responses information\n",
      "responses filled by initial data\n",
      "Can't get responses information\n",
      "responses filled by initial data\n",
      "publication filled by initial data\n",
      "Can't get responses information\n",
      "Can't get claps information\n",
      "claps filled by initial data\n",
      "responses filled by initial data\n",
      "Can't get responses information\n",
      "responses filled by initial data\n",
      "Can't get responses information\n",
      "responses filled by initial data\n",
      "Can't get claps information\n",
      "claps filled by initial data\n",
      "Can't get responses information\n",
      "responses filled by initial data\n",
      "Can't get claps information\n",
      "claps filled by initial data\n"
     ]
    },
    {
     "name": "stderr",
     "output_type": "stream",
     "text": [
      " 78%|███████▊  | 122/157 [2:05:47<46:52, 80.36s/it]"
     ]
    },
    {
     "name": "stdout",
     "output_type": "stream",
     "text": [
      "Can't get image's sizes\n",
      "Can't get claps information\n",
      "claps filled by initial data\n",
      "Can't get responses information\n",
      "responses filled by initial data\n",
      "Can't get claps information\n",
      "claps filled by initial data\n",
      "Can't get responses information\n",
      "responses filled by initial data\n",
      "Can't get responses information\n",
      "responses filled by initial data\n",
      "Can't get responses information\n",
      "Can't get claps information\n",
      "claps filled by initial data\n",
      "responses filled by initial data\n",
      "Can't get responses information\n",
      "Can't get claps information\n",
      "claps filled by initial data\n",
      "responses filled by initial data\n",
      "Can't get claps information\n",
      "claps filled by initial data\n",
      "Can't get responses information\n",
      "responses filled by initial data\n",
      "Can't get responses information\n",
      "Can't get claps information\n",
      "claps filled by initial data\n",
      "responses filled by initial data\n",
      "Can't get responses information\n",
      "responses filled by initial data\n",
      "Can't get responses information\n",
      "responses filled by initial data\n"
     ]
    },
    {
     "name": "stderr",
     "output_type": "stream",
     "text": [
      " 78%|███████▊  | 123/157 [2:07:07<45:24, 80.13s/it]"
     ]
    },
    {
     "name": "stdout",
     "output_type": "stream",
     "text": [
      "Can't get claps information\n",
      "claps filled by initial data\n",
      "Can't get image's sizes\n",
      "Can't get responses information\n",
      "Can't get claps information\n",
      "claps filled by initial data\n",
      "responses filled by initial data\n",
      "Can't get responses information\n",
      "responses filled by initial data\n",
      "Can't get responses information\n",
      "responses filled by initial data\n",
      "publication filled by initial data\n",
      "Can't get responses information\n",
      "responses filled by initial data\n"
     ]
    },
    {
     "name": "stderr",
     "output_type": "stream",
     "text": [
      " 79%|███████▉  | 124/157 [2:07:31<34:54, 63.48s/it]"
     ]
    },
    {
     "name": "stdout",
     "output_type": "stream",
     "text": [
      "Can't get image's sizes\n",
      "Can't get image's sizes\n",
      "Can't get claps information\n",
      "claps filled by initial data\n",
      "Can't get responses information\n",
      "responses filled by initial data\n",
      "Can't get claps information\n",
      "claps filled by initial data\n",
      "Can't get claps information\n",
      "claps filled by initial data\n",
      "Can't get claps information\n",
      "claps filled by initial data\n",
      "Can't get responses information\n",
      "Can't get claps information\n",
      "claps filled by initial data\n",
      "responses filled by initial data\n",
      "Can't get responses information\n",
      "responses filled by initial data\n",
      "Can't get responses information\n",
      "responses filled by initial data\n"
     ]
    },
    {
     "name": "stderr",
     "output_type": "stream",
     "text": [
      " 80%|███████▉  | 125/157 [2:08:15<30:46, 57.71s/it]"
     ]
    },
    {
     "name": "stdout",
     "output_type": "stream",
     "text": [
      "Can't get claps information\n",
      "claps filled by initial data\n",
      "Can't get image's sizes\n",
      "Couldn't get title from article.\n",
      "Couldn't get title from article.\n",
      "Can't go to the followers info\n",
      "Couldn't get reading time from article.\n",
      "Couldn't get date from article.\n",
      "Can't get responses information\n",
      "Couldn't get YouTube videos.\n",
      "Can't get claps information\n",
      "title filled by initial data\n",
      "claps filled by initial data\n",
      "responses filled by initial data\n",
      "reading_time filled by initial data\n",
      "publication filled by initial data\n",
      "date filled by initial data\n",
      "Can't get responses information\n",
      "responses filled by initial data\n",
      "Can't get responses information\n",
      "responses filled by initial data\n",
      "Can't get responses information\n",
      "Can't get claps information\n",
      "claps filled by initial data\n",
      "responses filled by initial data\n",
      "Can't get responses information\n",
      "responses filled by initial data\n",
      "Can't get responses information\n",
      "responses filled by initial data\n",
      "Can't get responses information\n",
      "responses filled by initial data\n",
      "Can't get responses information\n",
      "responses filled by initial data\n"
     ]
    },
    {
     "name": "stderr",
     "output_type": "stream",
     "text": [
      " 80%|████████  | 126/157 [2:08:50<26:11, 50.71s/it]"
     ]
    },
    {
     "name": "stdout",
     "output_type": "stream",
     "text": [
      "Can't get responses information\n",
      "responses filled by initial data\n",
      "Can't get responses information\n",
      "responses filled by initial data\n",
      "Can't get responses information\n",
      "responses filled by initial data\n",
      "Can't get responses information\n",
      "responses filled by initial data\n",
      "Can't get responses information\n",
      "responses filled by initial data\n",
      "Can't get responses information\n",
      "responses filled by initial data\n",
      "Can't get responses information\n",
      "responses filled by initial data\n",
      "Can't get responses information\n",
      "responses filled by initial data\n",
      "Can't get responses information\n",
      "responses filled by initial data\n",
      "Can't get responses information\n",
      "responses filled by initial data\n"
     ]
    },
    {
     "name": "stderr",
     "output_type": "stream",
     "text": [
      " 81%|████████  | 127/157 [2:12:35<51:33, 103.12s/it]"
     ]
    },
    {
     "name": "stdout",
     "output_type": "stream",
     "text": [
      "Can't get image's sizes\n",
      "Couldn't get title from article.\n",
      "Couldn't get title from article.\n",
      "Can't go to the followers info\n",
      "Couldn't get reading time from article.\n",
      "Couldn't get date from article.\n",
      "Can't get responses information\n",
      "Couldn't get YouTube videos.\n",
      "Can't get claps information\n",
      "title filled by initial data\n",
      "claps filled by initial data\n",
      "responses filled by initial data\n",
      "reading_time filled by initial data\n",
      "publication filled by initial data\n",
      "date filled by initial data\n",
      "Can't get responses information\n",
      "responses filled by initial data\n",
      "Can't get image's sizes\n",
      "Couldn't get title from article.\n",
      "Couldn't get title from article.\n",
      "Can't go to the followers info\n",
      "Couldn't get reading time from article.\n",
      "Couldn't get date from article.\n",
      "Can't get responses information\n",
      "Couldn't get YouTube videos.\n",
      "Can't get claps information\n",
      "title filled by initial data\n",
      "claps filled by initial data\n",
      "responses filled by initial data\n",
      "reading_time filled by initial data\n",
      "publication filled by initial data\n",
      "date filled by initial data\n",
      "Can't get responses information\n",
      "Can't get claps information\n",
      "claps filled by initial data\n",
      "responses filled by initial data\n",
      "Can't get responses information\n",
      "responses filled by initial data\n",
      "Can't get responses information\n",
      "responses filled by initial data\n",
      "Can't get responses information\n",
      "responses filled by initial data\n",
      "Can't get responses information\n",
      "responses filled by initial data\n",
      "Can't get responses information\n",
      "responses filled by initial data\n",
      "Can't get responses information\n",
      "responses filled by initial data\n",
      "Can't get responses information\n",
      "responses filled by initial data\n"
     ]
    },
    {
     "name": "stderr",
     "output_type": "stream",
     "text": [
      " 82%|████████▏ | 128/157 [2:13:16<40:48, 84.44s/it] "
     ]
    },
    {
     "name": "stdout",
     "output_type": "stream",
     "text": [
      "Can't get responses information\n",
      "responses filled by initial data\n",
      "Can't get responses information\n",
      "responses filled by initial data\n",
      "Can't get responses information\n",
      "responses filled by initial data\n",
      "Can't get responses information\n",
      "Can't get claps information\n",
      "claps filled by initial data\n",
      "responses filled by initial data\n",
      "Can't get responses information\n",
      "responses filled by initial data\n",
      "Can't get responses information\n",
      "responses filled by initial data\n",
      "Can't get responses information\n",
      "responses filled by initial data\n",
      "Can't get responses information\n",
      "responses filled by initial data\n",
      "Can't get responses information\n",
      "responses filled by initial data\n",
      "Can't get responses information\n",
      "responses filled by initial data\n"
     ]
    },
    {
     "name": "stderr",
     "output_type": "stream",
     "text": [
      " 82%|████████▏ | 129/157 [2:13:52<32:34, 69.80s/it]"
     ]
    },
    {
     "name": "stdout",
     "output_type": "stream",
     "text": [
      "Can't get image's sizes\n",
      "Can't get image's sizes\n",
      "Couldn't get title from article.\n",
      "Couldn't get title from article.\n",
      "Can't go to the followers info\n",
      "Couldn't get reading time from article.\n",
      "Couldn't get date from article.\n",
      "Can't get responses information\n",
      "Couldn't get YouTube videos.\n",
      "Can't get claps information\n",
      "title filled by initial data\n",
      "claps filled by initial data\n",
      "responses filled by initial data\n",
      "reading_time filled by initial data\n",
      "publication filled by initial data\n",
      "date filled by initial data\n",
      "Can't get claps information\n",
      "claps filled by initial data\n",
      "Can't get image's sizes\n",
      "Can't get responses information\n",
      "Can't get claps information\n",
      "claps filled by initial data\n",
      "responses filled by initial data\n",
      "Can't get responses information\n",
      "Can't get claps information\n",
      "claps filled by initial data\n",
      "responses filled by initial data\n",
      "Can't get claps information\n",
      "claps filled by initial data\n",
      "Can't get responses information\n",
      "responses filled by initial data\n",
      "Can't get responses information\n",
      "responses filled by initial data\n",
      "Can't get responses information\n",
      "responses filled by initial data\n",
      "Can't get responses information\n",
      "Can't get claps information\n",
      "claps filled by initial data\n",
      "responses filled by initial data\n"
     ]
    },
    {
     "name": "stderr",
     "output_type": "stream",
     "text": [
      " 83%|████████▎ | 130/157 [2:14:35<27:52, 61.94s/it]"
     ]
    },
    {
     "name": "stdout",
     "output_type": "stream",
     "text": [
      "Can't get image's sizes\n",
      "Couldn't get title from article.\n",
      "Couldn't get title from article.\n",
      "Can't go to the followers info\n",
      "Couldn't get reading time from article.\n",
      "Couldn't get date from article.\n",
      "Can't get responses information\n",
      "Couldn't get YouTube videos.\n",
      "Can't get claps information\n",
      "title filled by initial data\n",
      "claps filled by initial data\n",
      "responses filled by initial data\n",
      "reading_time filled by initial data\n",
      "publication filled by initial data\n",
      "date filled by initial data\n",
      "Can't get image's sizes\n",
      "Couldn't get title from article.\n",
      "Couldn't get title from article.\n",
      "Can't go to the followers info\n",
      "Couldn't get reading time from article.\n",
      "Couldn't get date from article.\n",
      "Can't get responses information\n",
      "Couldn't get YouTube videos.\n",
      "Can't get claps information\n",
      "title filled by initial data\n",
      "claps filled by initial data\n",
      "responses filled by initial data\n",
      "reading_time filled by initial data\n",
      "publication filled by initial data\n",
      "date filled by initial data\n",
      "Can't get responses information\n",
      "responses filled by initial data\n",
      "Can't get responses information\n",
      "responses filled by initial data\n",
      "Can't get responses information\n",
      "Can't get claps information\n",
      "claps filled by initial data\n",
      "responses filled by initial data\n",
      "Can't get responses information\n",
      "responses filled by initial data\n",
      "Can't get responses information\n",
      "responses filled by initial data\n",
      "Can't get responses information\n",
      "responses filled by initial data\n",
      "Can't get responses information\n",
      "responses filled by initial data\n",
      "Can't get responses information\n",
      "responses filled by initial data\n"
     ]
    },
    {
     "name": "stderr",
     "output_type": "stream",
     "text": [
      " 83%|████████▎ | 131/157 [2:15:09<23:11, 53.51s/it]"
     ]
    },
    {
     "name": "stdout",
     "output_type": "stream",
     "text": [
      "Can't get responses information\n",
      "responses filled by initial data\n",
      "Can't get image's sizes\n",
      "Couldn't get title from article.\n",
      "Couldn't get title from article.\n",
      "Can't go to the followers info\n",
      "Couldn't get reading time from article.\n",
      "Couldn't get date from article.\n",
      "Can't get responses information\n",
      "Couldn't get YouTube videos.\n",
      "Can't get claps information\n",
      "title filled by initial data\n",
      "claps filled by initial data\n",
      "responses filled by initial data\n",
      "reading_time filled by initial data\n",
      "publication filled by initial data\n",
      "date filled by initial data\n",
      "Can't get responses information\n",
      "responses filled by initial data\n",
      "Can't get responses information\n",
      "responses filled by initial data\n",
      "Can't get responses information\n",
      "Can't get claps information\n",
      "claps filled by initial data\n",
      "responses filled by initial data\n",
      "Can't get responses information\n",
      "responses filled by initial data\n",
      "Can't get responses information\n",
      "responses filled by initial data\n",
      "Can't get responses information\n",
      "responses filled by initial data\n",
      "Can't get responses information\n",
      "responses filled by initial data\n",
      "Can't get responses information\n",
      "responses filled by initial data\n"
     ]
    },
    {
     "name": "stderr",
     "output_type": "stream",
     "text": [
      " 84%|████████▍ | 132/157 [2:15:45<20:02, 48.10s/it]"
     ]
    },
    {
     "name": "stdout",
     "output_type": "stream",
     "text": [
      "Can't get image's sizes\n",
      "Couldn't get title from article.\n",
      "Couldn't get title from article.\n",
      "Can't go to the followers info\n",
      "Couldn't get reading time from article.\n",
      "Couldn't get date from article.\n",
      "Can't get responses information\n",
      "Couldn't get YouTube videos.\n",
      "Can't get claps information\n",
      "title filled by initial data\n",
      "claps filled by initial data\n",
      "responses filled by initial data\n",
      "reading_time filled by initial data\n",
      "publication filled by initial data\n",
      "date filled by initial data\n",
      "Can't get image's sizes\n",
      "Couldn't get title from article.\n",
      "Couldn't get title from article.\n",
      "Can't go to the followers info\n",
      "Couldn't get reading time from article.\n",
      "Couldn't get date from article.\n",
      "Can't get responses information\n",
      "Couldn't get YouTube videos.\n",
      "Can't get claps information\n",
      "title filled by initial data\n",
      "claps filled by initial data\n",
      "responses filled by initial data\n",
      "reading_time filled by initial data\n",
      "publication filled by initial data\n",
      "date filled by initial data\n",
      "Can't get image's sizes\n",
      "Can't get responses information\n",
      "responses filled by initial data\n",
      "Can't get responses information\n",
      "responses filled by initial data\n",
      "Can't get responses information\n",
      "responses filled by initial data\n",
      "Can't get responses information\n",
      "responses filled by initial data\n",
      "Can't get responses information\n",
      "responses filled by initial data\n",
      "Can't get responses information\n",
      "Can't get claps information\n",
      "claps filled by initial data\n",
      "responses filled by initial data\n",
      "Can't get claps information\n",
      "claps filled by initial data\n",
      "Can't get responses information\n",
      "responses filled by initial data\n"
     ]
    },
    {
     "name": "stderr",
     "output_type": "stream",
     "text": [
      " 85%|████████▍ | 133/157 [2:17:22<25:09, 62.91s/it]"
     ]
    },
    {
     "name": "stdout",
     "output_type": "stream",
     "text": [
      "Can't get responses information\n",
      "responses filled by initial data\n",
      "Can't get claps information\n",
      "claps filled by initial data\n",
      "Can't get claps information\n",
      "claps filled by initial data\n",
      "Can't get claps information\n",
      "claps filled by initial data\n",
      "Can't get responses information\n",
      "Can't get claps information\n",
      "claps filled by initial data\n",
      "responses filled by initial data\n",
      "Can't get claps information\n",
      "claps filled by initial data\n",
      "Can't get claps information\n",
      "claps filled by initial data\n",
      "Can't get responses information\n",
      "Can't get claps information\n",
      "claps filled by initial data\n",
      "responses filled by initial data\n",
      "Can't get claps information\n",
      "claps filled by initial data\n"
     ]
    },
    {
     "name": "stderr",
     "output_type": "stream",
     "text": [
      " 85%|████████▌ | 134/157 [2:19:06<28:49, 75.18s/it]"
     ]
    },
    {
     "name": "stdout",
     "output_type": "stream",
     "text": [
      "Can't get responses information\n",
      "responses filled by initial data\n",
      "Can't get responses information\n",
      "responses filled by initial data\n",
      "Can't get responses information\n",
      "responses filled by initial data\n",
      "Can't get responses information\n",
      "responses filled by initial data\n",
      "publication filled by initial data\n",
      "Can't get responses information\n",
      "responses filled by initial data\n",
      "Can't get claps information\n",
      "claps filled by initial data\n",
      "Can't get responses information\n",
      "Can't get claps information\n",
      "claps filled by initial data\n",
      "responses filled by initial data\n",
      "Can't get responses information\n",
      "responses filled by initial data\n",
      "Can't get responses information\n",
      "responses filled by initial data\n",
      "Can't get responses information\n",
      "responses filled by initial data\n"
     ]
    },
    {
     "name": "stderr",
     "output_type": "stream",
     "text": [
      " 86%|████████▌ | 135/157 [2:20:14<26:45, 72.99s/it]"
     ]
    },
    {
     "name": "stdout",
     "output_type": "stream",
     "text": [
      "Can't get image's sizes\n",
      "Couldn't get title from article.\n",
      "Couldn't get title from article.\n",
      "Can't go to the followers info\n",
      "Couldn't get reading time from article.\n",
      "Couldn't get date from article.\n",
      "Can't get responses information\n",
      "Couldn't get YouTube videos.\n",
      "Can't get claps information\n",
      "title filled by initial data\n",
      "claps filled by initial data\n",
      "responses filled by initial data\n",
      "reading_time filled by initial data\n",
      "publication filled by initial data\n",
      "date filled by initial data\n",
      "Can't get image's sizes\n",
      "Can't get responses information\n",
      "Can't get claps information\n",
      "claps filled by initial data\n",
      "responses filled by initial data\n",
      "Can't get responses information\n",
      "responses filled by initial data\n",
      "Can't get responses information\n",
      "responses filled by initial data\n",
      "Can't get responses information\n",
      "Can't get claps information\n",
      "claps filled by initial data\n",
      "responses filled by initial data\n",
      "Can't get responses information\n",
      "responses filled by initial data\n",
      "Can't get responses information\n",
      "responses filled by initial data\n",
      "Can't get responses information\n",
      "responses filled by initial data\n",
      "publication filled by initial data\n",
      "Can't get responses information\n",
      "responses filled by initial data\n",
      "Can't get responses information\n",
      "responses filled by initial data\n",
      "Can't get responses information\n",
      "responses filled by initial data\n",
      "Can't get responses information\n",
      "responses filled by initial data\n",
      "Can't get responses information\n",
      "responses filled by initial data\n"
     ]
    },
    {
     "name": "stderr",
     "output_type": "stream",
     "text": [
      " 87%|████████▋ | 136/157 [2:20:51<21:46, 62.23s/it]"
     ]
    },
    {
     "name": "stdout",
     "output_type": "stream",
     "text": [
      "Can't get claps information\n",
      "claps filled by initial data\n",
      "publication filled by initial data\n",
      "Can't get claps information\n",
      "claps filled by initial data\n",
      "Couldn't get title from article.\n",
      "Can't get responses information\n",
      "title filled by initial data\n",
      "responses filled by initial data\n",
      "publication filled by initial data\n"
     ]
    },
    {
     "name": "stderr",
     "output_type": "stream",
     "text": [
      " 87%|████████▋ | 137/157 [2:23:15<28:57, 86.88s/it]"
     ]
    },
    {
     "name": "stdout",
     "output_type": "stream",
     "text": [
      "Can't get image's sizes\n",
      "Couldn't get title from article.\n",
      "Couldn't get title from article.\n",
      "Can't go to the followers info\n",
      "Couldn't get reading time from article.\n",
      "Couldn't get date from article.\n",
      "Can't get responses information\n",
      "Couldn't get YouTube videos.\n",
      "Can't get claps information\n",
      "title filled by initial data\n",
      "claps filled by initial data\n",
      "responses filled by initial data\n",
      "reading_time filled by initial data\n",
      "publication filled by initial data\n",
      "date filled by initial data\n",
      "Can't get responses information\n",
      "responses filled by initial data\n",
      "Can't get claps information\n",
      "claps filled by initial data\n",
      "Can't get image's sizes\n",
      "Can't get responses information\n",
      "responses filled by initial data\n",
      "Can't get responses information\n",
      "responses filled by initial data\n"
     ]
    },
    {
     "name": "stderr",
     "output_type": "stream",
     "text": [
      " 88%|████████▊ | 138/157 [2:24:13<24:45, 78.18s/it]"
     ]
    },
    {
     "name": "stdout",
     "output_type": "stream",
     "text": [
      "Can't get responses information\n",
      "responses filled by initial data\n",
      "Couldn't get title from article.\n",
      "title filled by initial data\n",
      "Can't get responses information\n",
      "responses filled by initial data\n",
      "Can't get responses information\n",
      "responses filled by initial data\n",
      "Can't get responses information\n",
      "Can't get claps information\n",
      "claps filled by initial data\n",
      "responses filled by initial data\n",
      "Can't get responses information\n",
      "responses filled by initial data\n",
      "Can't get responses information\n",
      "responses filled by initial data\n",
      "Can't get responses information\n",
      "responses filled by initial data\n",
      "Can't get responses information\n",
      "responses filled by initial data\n"
     ]
    },
    {
     "name": "stderr",
     "output_type": "stream",
     "text": [
      " 89%|████████▊ | 139/157 [2:24:57<20:19, 67.74s/it]"
     ]
    },
    {
     "name": "stdout",
     "output_type": "stream",
     "text": [
      "Can't get responses information\n",
      "responses filled by initial data\n",
      "Can't get responses information\n",
      "Can't get claps information\n",
      "claps filled by initial data\n",
      "responses filled by initial data\n",
      "Can't get responses information\n",
      "responses filled by initial data\n",
      "Can't get responses information\n",
      "responses filled by initial data\n",
      "Can't get responses information\n",
      "responses filled by initial data\n",
      "Can't get responses information\n",
      "responses filled by initial data\n",
      "Can't get responses information\n",
      "responses filled by initial data\n"
     ]
    },
    {
     "name": "stderr",
     "output_type": "stream",
     "text": [
      " 89%|████████▉ | 140/157 [2:25:33<16:29, 58.20s/it]"
     ]
    },
    {
     "name": "stdout",
     "output_type": "stream",
     "text": [
      "Can't get claps information\n",
      "claps filled by initial data\n",
      "Can't get responses information\n",
      "Can't get claps information\n",
      "claps filled by initial data\n",
      "responses filled by initial data\n",
      "Can't get responses information\n",
      "responses filled by initial data\n",
      "Can't get responses information\n",
      "responses filled by initial data\n",
      "Can't get responses information\n",
      "responses filled by initial data\n",
      "Can't get responses information\n",
      "responses filled by initial data\n",
      "Can't get claps information\n",
      "claps filled by initial data\n",
      "Can't get responses information\n",
      "responses filled by initial data\n",
      "Can't get responses information\n",
      "responses filled by initial data\n"
     ]
    },
    {
     "name": "stderr",
     "output_type": "stream",
     "text": [
      " 90%|████████▉ | 141/157 [2:26:10<13:53, 52.12s/it]"
     ]
    },
    {
     "name": "stdout",
     "output_type": "stream",
     "text": [
      "Can't get image's sizes\n",
      "Couldn't get title from article.\n",
      "Couldn't get title from article.\n",
      "Can't go to the followers info\n",
      "Couldn't get reading time from article.\n",
      "Couldn't get date from article.\n",
      "Can't get responses information\n",
      "Couldn't get YouTube videos.\n",
      "Can't get claps information\n",
      "title filled by initial data\n",
      "claps filled by initial data\n",
      "responses filled by initial data\n",
      "reading_time filled by initial data\n",
      "publication filled by initial data\n",
      "date filled by initial data\n",
      "Can't get responses information\n",
      "responses filled by initial data\n",
      "Can't get image's sizes\n",
      "Couldn't get title from article.\n",
      "Couldn't get title from article.\n",
      "Can't go to the followers info\n",
      "Couldn't get reading time from article.\n",
      "Couldn't get date from article.\n",
      "Can't get responses information\n",
      "Couldn't get YouTube videos.\n",
      "Can't get claps information\n",
      "title filled by initial data\n",
      "claps filled by initial data\n",
      "responses filled by initial data\n",
      "reading_time filled by initial data\n",
      "publication filled by initial data\n",
      "date filled by initial data\n",
      "Can't get responses information\n",
      "responses filled by initial data\n",
      "Can't get responses information\n",
      "Can't get claps information\n",
      "claps filled by initial data\n",
      "responses filled by initial data\n",
      "Can't get responses information\n",
      "responses filled by initial data\n",
      "Can't get responses information\n",
      "responses filled by initial data\n",
      "Can't get responses information\n",
      "responses filled by initial data\n"
     ]
    },
    {
     "name": "stderr",
     "output_type": "stream",
     "text": [
      " 90%|█████████ | 142/157 [2:27:27<14:50, 59.39s/it]"
     ]
    },
    {
     "name": "stdout",
     "output_type": "stream",
     "text": [
      "Can't get responses information\n",
      "Can't get claps information\n",
      "claps filled by initial data\n",
      "responses filled by initial data\n",
      "Can't get responses information\n",
      "responses filled by initial data\n",
      "Can't get responses information\n",
      "responses filled by initial data\n",
      "Can't get responses informationCouldn't get title from article.\n",
      "Can't get responses information\n",
      "title filled by initial data\n",
      "responses filled by initial data\n",
      "\n",
      "responses filled by initial data\n",
      "Can't get responses information\n",
      "Can't get claps information\n",
      "claps filled by initial data\n",
      "responses filled by initial data\n",
      "Can't get claps information\n",
      "claps filled by initial data\n",
      "Can't get responses information\n",
      "responses filled by initial data\n",
      "Can't get responses information\n",
      "Can't get claps information\n",
      "claps filled by initial data\n",
      "responses filled by initial data\n"
     ]
    },
    {
     "name": "stderr",
     "output_type": "stream",
     "text": [
      " 91%|█████████ | 143/157 [2:28:02<12:09, 52.10s/it]"
     ]
    },
    {
     "name": "stdout",
     "output_type": "stream",
     "text": [
      "Can't get responses information\n",
      "responses filled by initial data\n",
      "Can't get responses information\n",
      "responses filled by initial data\n",
      "Can't get responses information\n",
      "responses filled by initial data\n",
      "Can't get responses information\n",
      "Can't get claps information\n",
      "claps filled by initial data\n",
      "responses filled by initial data\n",
      "Can't get responses information\n",
      "responses filled by initial data\n",
      "Can't get responses information\n",
      "responses filled by initial data\n",
      "Can't get responses information\n",
      "responses filled by initial data\n",
      "Can't get responses information\n",
      "responses filled by initial data\n",
      "Can't get responses information\n",
      "responses filled by initial data\n",
      "Can't get responses information\n",
      "responses filled by initial data\n",
      "Can't get responses information\n",
      "responses filled by initial data\n"
     ]
    },
    {
     "name": "stderr",
     "output_type": "stream",
     "text": [
      " 92%|█████████▏| 144/157 [2:28:44<10:37, 49.00s/it]"
     ]
    },
    {
     "name": "stdout",
     "output_type": "stream",
     "text": [
      "Can't get responses information\n",
      "responses filled by initial data\n",
      "Can't get image's sizes\n",
      "Couldn't get title from article.\n",
      "Couldn't get title from article.\n",
      "Can't go to the followers info\n",
      "Couldn't get reading time from article.\n",
      "Couldn't get date from article.\n",
      "Can't get responses information\n",
      "Couldn't get YouTube videos.\n",
      "Can't get claps information\n",
      "title filled by initial data\n",
      "claps filled by initial data\n",
      "responses filled by initial data\n",
      "reading_time filled by initial data\n",
      "publication filled by initial data\n",
      "date filled by initial data\n",
      "Can't get image's sizes\n",
      "Couldn't get title from article.\n",
      "Couldn't get title from article.\n",
      "Can't go to the followers info\n",
      "Couldn't get reading time from article.\n",
      "Couldn't get date from article.\n",
      "Can't get responses information\n",
      "Couldn't get YouTube videos.\n",
      "Can't get claps information\n",
      "title filled by initial data\n",
      "claps filled by initial data\n",
      "responses filled by initial data\n",
      "reading_time filled by initial data\n",
      "publication filled by initial data\n",
      "date filled by initial data\n",
      "Can't get responses information\n",
      "Can't get claps information\n",
      "claps filled by initial data\n",
      "responses filled by initial data\n",
      "Can't get responses information\n",
      "responses filled by initial data\n",
      "Can't get responses information\n",
      "responses filled by initial data\n",
      "Can't get responses information\n",
      "responses filled by initial data\n",
      "Can't get responses information\n",
      "responses filled by initial data\n",
      "Can't get responses information\n",
      "responses filled by initial data\n",
      "Can't get responses information\n",
      "responses filled by initial data\n"
     ]
    },
    {
     "name": "stderr",
     "output_type": "stream",
     "text": [
      " 92%|█████████▏| 145/157 [2:29:35<09:55, 49.62s/it]"
     ]
    },
    {
     "name": "stdout",
     "output_type": "stream",
     "text": [
      "Can't get image's sizes\n",
      "Couldn't get title from article.\n",
      "Couldn't get title from article.\n",
      "Can't go to the followers info\n",
      "Couldn't get reading time from article.\n",
      "Couldn't get date from article.\n",
      "Can't get responses information\n",
      "Couldn't get YouTube videos.\n",
      "Can't get claps information\n",
      "title filled by initial data\n",
      "claps filled by initial data\n",
      "responses filled by initial data\n",
      "reading_time filled by initial data\n",
      "publication filled by initial data\n",
      "date filled by initial data\n",
      "Can't get claps information\n",
      "claps filled by initial data\n",
      "Can't get claps information\n",
      "claps filled by initial data\n",
      "Can't get responses information\n",
      "responses filled by initial data\n",
      "publication filled by initial data\n",
      "Can't get claps information\n",
      "claps filled by initial data\n",
      "Can't get responses information\n",
      "responses filled by initial data\n"
     ]
    },
    {
     "name": "stderr",
     "output_type": "stream",
     "text": [
      " 93%|█████████▎| 146/157 [2:31:24<12:22, 67.54s/it]"
     ]
    },
    {
     "name": "stdout",
     "output_type": "stream",
     "text": [
      "Can't get responses information\n",
      "responses filled by initial data\n",
      "Can't get responses information\n",
      "Can't get claps information\n",
      "claps filled by initial data\n",
      "responses filled by initial data\n",
      "Can't get responses information\n",
      "responses filled by initial data\n",
      "Can't get responses information\n",
      "responses filled by initial data\n",
      "Can't get responses information\n",
      "responses filled by initial data\n",
      "publication filled by initial data\n",
      "Can't get responses information\n",
      "responses filled by initial data\n"
     ]
    },
    {
     "name": "stderr",
     "output_type": "stream",
     "text": [
      " 94%|█████████▎| 147/157 [2:33:57<15:30, 93.03s/it]"
     ]
    },
    {
     "name": "stdout",
     "output_type": "stream",
     "text": [
      "Can't get image's sizes\n",
      "Couldn't get title from article.\n",
      "Couldn't get title from article.\n",
      "Can't go to the followers info\n",
      "Couldn't get reading time from article.\n",
      "Couldn't get date from article.\n",
      "Can't get responses information\n",
      "Couldn't get YouTube videos.\n",
      "Can't get claps information\n",
      "title filled by initial data\n",
      "claps filled by initial data\n",
      "responses filled by initial data\n",
      "reading_time filled by initial data\n",
      "publication filled by initial data\n",
      "date filled by initial data\n",
      "Can't get responses information\n",
      "responses filled by initial data\n",
      "Can't get responses information\n",
      "responses filled by initial data\n",
      "Can't get responses information\n",
      "responses filled by initial data\n",
      "Can't get responses information\n",
      "responses filled by initial data\n",
      "Can't get responses information\n",
      "responses filled by initial data\n",
      "Can't get responses information\n",
      "responses filled by initial data\n",
      "Can't get responses information\n",
      "responses filled by initial data\n",
      "Can't get responses information\n",
      "responses filled by initial data\n",
      "Can't get responses information\n",
      "responses filled by initial data\n",
      "publication filled by initial data\n"
     ]
    },
    {
     "name": "stderr",
     "output_type": "stream",
     "text": [
      " 94%|█████████▍| 148/157 [2:34:33<11:25, 76.13s/it]"
     ]
    },
    {
     "name": "stdout",
     "output_type": "stream",
     "text": [
      "Can't get responses information\n",
      "responses filled by initial data\n",
      "Can't get responses information\n",
      "responses filled by initial data\n",
      "Can't get image's sizes\n",
      "Can't get responses information\n",
      "Can't get claps information\n",
      "claps filled by initial data\n",
      "responses filled by initial data\n",
      "Can't get responses information\n",
      "responses filled by initial data\n",
      "Can't get responses information\n",
      "Can't get claps information\n",
      "claps filled by initial data\n",
      "responses filled by initial data\n",
      "Can't get responses information\n",
      "responses filled by initial data\n",
      "Can't get responses information\n",
      "responses filled by initial data\n",
      "Can't get responses information\n",
      "responses filled by initial data\n",
      "Can't get responses information\n",
      "responses filled by initial data\n",
      "Can't get responses information\n",
      "responses filled by initial data\n"
     ]
    },
    {
     "name": "stderr",
     "output_type": "stream",
     "text": [
      " 95%|█████████▍| 149/157 [2:35:31<09:25, 70.68s/it]"
     ]
    },
    {
     "name": "stdout",
     "output_type": "stream",
     "text": [
      "Can't get responses information\n",
      "responses filled by initial data\n",
      "Can't get image's sizes\n",
      "Couldn't get title from article.\n",
      "Couldn't get title from article.\n",
      "Can't go to the followers info\n",
      "Couldn't get reading time from article.\n",
      "Couldn't get date from article.\n",
      "Can't get responses information\n",
      "Couldn't get YouTube videos.\n",
      "Can't get claps information\n",
      "title filled by initial data\n",
      "claps filled by initial data\n",
      "responses filled by initial data\n",
      "reading_time filled by initial data\n",
      "publication filled by initial data\n",
      "date filled by initial data\n",
      "Can't get image's sizes\n",
      "Couldn't get title from article.\n",
      "Couldn't get title from article.\n",
      "Can't go to the followers info\n",
      "Couldn't get reading time from article.\n",
      "Couldn't get date from article.\n",
      "Can't get responses information\n",
      "Couldn't get YouTube videos.\n",
      "Can't get claps information\n",
      "title filled by initial data\n",
      "claps filled by initial data\n",
      "responses filled by initial data\n",
      "reading_time filled by initial data\n",
      "publication filled by initial data\n",
      "date filled by initial data\n",
      "Can't get responses information\n",
      "responses filled by initial data\n",
      "Can't get responses information\n",
      "responses filled by initial data\n",
      "Can't get responses information\n",
      "responses filled by initial data\n",
      "Can't get responses information\n",
      "responses filled by initial data\n",
      "Can't get responses information\n",
      "Can't get claps information\n",
      "claps filled by initial data\n",
      "responses filled by initial data\n",
      "Can't get responses information\n",
      "responses filled by initial data\n"
     ]
    },
    {
     "name": "stderr",
     "output_type": "stream",
     "text": [
      " 96%|█████████▌| 150/157 [2:36:20<07:28, 64.05s/it]"
     ]
    },
    {
     "name": "stdout",
     "output_type": "stream",
     "text": [
      "Can't get responses information\n",
      "responses filled by initial data\n",
      "Can't get image's sizes\n",
      "Couldn't get title from article.\n",
      "Couldn't get title from article.\n",
      "Can't go to the followers info\n",
      "Couldn't get reading time from article.\n",
      "Couldn't get date from article.\n",
      "Can't get responses information\n",
      "Couldn't get YouTube videos.\n",
      "Can't get claps information\n",
      "title filled by initial data\n",
      "claps filled by initial data\n",
      "responses filled by initial data\n",
      "reading_time filled by initial data\n",
      "publication filled by initial data\n",
      "date filled by initial data\n",
      "Can't get responses information\n",
      "responses filled by initial data\n",
      "Can't get claps information\n",
      "claps filled by initial data\n",
      "Can't get responses information\n",
      "responses filled by initial data\n",
      "Can't get responses information\n",
      "Can't get claps information\n",
      "claps filled by initial data\n",
      "responses filled by initial data\n",
      "Can't get responses information\n",
      "responses filled by initial data\n",
      "Can't get responses information\n",
      "responses filled by initial data\n",
      "publication filled by initial data\n"
     ]
    },
    {
     "name": "stderr",
     "output_type": "stream",
     "text": [
      " 96%|█████████▌| 151/157 [2:37:04<05:48, 58.03s/it]"
     ]
    },
    {
     "name": "stdout",
     "output_type": "stream",
     "text": [
      "Can't get responses information\n",
      "responses filled by initial data\n",
      "Can't get image's sizes\n",
      "Couldn't get title from article.\n",
      "Couldn't get title from article.\n",
      "Can't go to the followers info\n",
      "Couldn't get reading time from article.\n",
      "Couldn't get date from article.\n",
      "Can't get responses information\n",
      "Couldn't get YouTube videos.\n",
      "Can't get claps information\n",
      "title filled by initial data\n",
      "claps filled by initial data\n",
      "responses filled by initial data\n",
      "reading_time filled by initial data\n",
      "publication filled by initial data\n",
      "date filled by initial data\n",
      "Can't get image's sizes\n",
      "Can't get responses information\n",
      "responses filled by initial data\n",
      "Can't get responses information\n",
      "responses filled by initial data\n",
      "publication filled by initial data\n",
      "Can't get responses information\n",
      "responses filled by initial data\n",
      "Can't get responses information\n",
      "Can't get claps information\n",
      "claps filled by initial data\n",
      "responses filled by initial data\n",
      "Can't get responses information\n",
      "responses filled by initial data\n",
      "Can't get responses information\n",
      "responses filled by initial data\n",
      "Can't get responses information\n",
      "responses filled by initial data\n"
     ]
    },
    {
     "name": "stderr",
     "output_type": "stream",
     "text": [
      " 97%|█████████▋| 152/157 [2:42:18<11:14, 134.92s/it]"
     ]
    },
    {
     "name": "stdout",
     "output_type": "stream",
     "text": [
      "Can't get responses information\n",
      "responses filled by initial data\n",
      "Can't get responses information\n",
      "responses filled by initial data\n",
      "Can't get responses information\n",
      "responses filled by initial data\n",
      "Can't get responses information\n",
      "Can't get claps information\n",
      "claps filled by initial data\n",
      "responses filled by initial data\n",
      "Can't get responses information\n",
      "responses filled by initial data\n",
      "Can't get responses information\n",
      "responses filled by initial data\n",
      "Can't get responses information\n",
      "responses filled by initial data\n",
      "Can't get responses information\n",
      "responses filled by initial data\n",
      "Can't get responses information\n",
      "responses filled by initial data\n",
      "Can't get responses information\n",
      "responses filled by initial data\n",
      "Can't get responses information\n",
      "responses filled by initial data\n"
     ]
    },
    {
     "name": "stderr",
     "output_type": "stream",
     "text": [
      " 97%|█████████▋| 153/157 [2:42:55<07:02, 105.60s/it]"
     ]
    },
    {
     "name": "stdout",
     "output_type": "stream",
     "text": [
      "Can't get image's sizes\n",
      "Couldn't get title from article.\n",
      "Couldn't get title from article.\n",
      "Can't go to the followers info\n",
      "Couldn't get reading time from article.\n",
      "Couldn't get date from article.\n",
      "Can't get responses information\n",
      "Couldn't get YouTube videos.\n",
      "Can't get claps information\n",
      "title filled by initial data\n",
      "claps filled by initial data\n",
      "responses filled by initial data\n",
      "reading_time filled by initial data\n",
      "publication filled by initial data\n",
      "date filled by initial data\n",
      "Can't get claps information\n",
      "claps filled by initial data\n",
      "Can't get responses information\n",
      "responses filled by initial data\n",
      "Can't get responses information\n",
      "responses filled by initial data\n",
      "Can't get responses information\n",
      "Can't get claps information\n",
      "claps filled by initial data\n",
      "responses filled by initial data\n",
      "Can't get responses information\n",
      "responses filled by initial data\n",
      "Can't get responses information\n",
      "responses filled by initial data\n",
      "Can't get responses information\n",
      "responses filled by initial data\n",
      "Can't get responses information\n",
      "responses filled by initial data\n",
      "Can't get responses information\n",
      "responses filled by initial data\n"
     ]
    },
    {
     "name": "stderr",
     "output_type": "stream",
     "text": [
      " 98%|█████████▊| 154/157 [2:43:30<04:12, 84.23s/it] "
     ]
    },
    {
     "name": "stdout",
     "output_type": "stream",
     "text": [
      "Can't get image's sizes\n",
      "Couldn't get title from article.\n",
      "Couldn't get title from article.\n",
      "Can't go to the followers info\n",
      "Couldn't get reading time from article.\n",
      "Couldn't get date from article.\n",
      "Can't get responses information\n",
      "Couldn't get YouTube videos.\n",
      "Can't get claps information\n",
      "title filled by initial data\n",
      "claps filled by initial data\n",
      "responses filled by initial data\n",
      "reading_time filled by initial data\n",
      "publication filled by initial data\n",
      "date filled by initial data\n",
      "Can't get responses information\n",
      "responses filled by initial data\n",
      "Can't get image's sizes\n",
      "Can't get responses information\n",
      "Can't get claps information\n",
      "claps filled by initial data\n",
      "responses filled by initial data\n",
      "Can't get responses information\n",
      "Can't get claps information\n",
      "claps filled by initial data\n",
      "responses filled by initial data\n",
      "Can't get claps information\n",
      "claps filled by initial data\n",
      "Can't get responses information\n",
      "Can't get claps information\n",
      "claps filled by initial data\n",
      "responses filled by initial data\n",
      "Can't get responses information\n",
      "responses filled by initial data\n",
      "Can't get responses information\n",
      "responses filled by initial data\n",
      "Can't get responses information\n",
      "responses filled by initial data\n",
      "Can't get responses information\n",
      "responses filled by initial data\n",
      "Can't get responses information\n",
      "Can't get claps information\n",
      "claps filled by initial data\n",
      "responses filled by initial data\n",
      "Can't get responses information\n",
      "responses filled by initial data\n",
      "Can't get responses information\n",
      "responses filled by initial data\n",
      "Can't get responses information\n",
      "responses filled by initial data\n"
     ]
    },
    {
     "name": "stderr",
     "output_type": "stream",
     "text": [
      " 99%|█████████▊| 155/157 [2:44:00<02:15, 67.90s/it]"
     ]
    },
    {
     "name": "stdout",
     "output_type": "stream",
     "text": [
      "Can't get responses information\n",
      "Can't get claps information\n",
      "claps filled by initial data\n",
      "responses filled by initial data\n",
      "Can't get image's sizes\n",
      "Couldn't get title from article.\n",
      "Couldn't get title from article.\n",
      "Can't go to the followers info\n",
      "Couldn't get reading time from article.\n",
      "Couldn't get date from article.\n",
      "Can't get responses information\n",
      "Couldn't get YouTube videos.\n",
      "Can't get claps information\n",
      "title filled by initial data\n",
      "claps filled by initial data\n",
      "responses filled by initial data\n",
      "reading_time filled by initial data\n",
      "publication filled by initial data\n",
      "date filled by initial data\n",
      "Can't get responses information\n",
      "responses filled by initial data\n",
      "Can't get responses information\n",
      "Can't get claps information\n",
      "claps filled by initial data\n",
      "responses filled by initial data\n",
      "Can't get responses information\n",
      "responses filled by initial data\n",
      "Can't get responses information\n",
      "responses filled by initial data\n",
      "Can't get responses information\n",
      "responses filled by initial data\n",
      "Can't get responses information\n",
      "responses filled by initial data\n",
      "Can't get responses information\n",
      "responses filled by initial data\n",
      "Can't get claps information\n",
      "claps filled by initial data\n"
     ]
    },
    {
     "name": "stderr",
     "output_type": "stream",
     "text": [
      " 99%|█████████▉| 156/157 [2:44:48<01:02, 62.13s/it]"
     ]
    },
    {
     "name": "stdout",
     "output_type": "stream",
     "text": [
      "Can't get responses information\n",
      "responses filled by initial data\n",
      "Can't get responses information\n",
      "responses filled by initial data\n",
      "Can't get responses information\n",
      "Can't get claps information\n",
      "claps filled by initial data\n",
      "responses filled by initial data\n",
      "Can't get responses information\n",
      "Can't get claps information\n",
      "claps filled by initial data\n",
      "responses filled by initial data\n",
      "Can't get responses information\n",
      "responses filled by initial data\n",
      "Can't get responses information\n",
      "responses filled by initial data\n",
      "Can't get responses information\n",
      "responses filled by initial data\n",
      "Can't get responses information\n",
      "responses filled by initial data\n",
      "Can't get claps information\n",
      "claps filled by initial data\n",
      "Can't get responses information\n",
      "Can't get claps information\n",
      "claps filled by initial data\n",
      "responses filled by initial data\n",
      "Can't get responses information\n",
      "Can't get claps information\n",
      "claps filled by initial data\n",
      "responses filled by initial data\n",
      "Can't get responses information\n",
      "responses filled by initial data\n",
      "Can't get claps information\n",
      "claps filled by initial data\n"
     ]
    },
    {
     "name": "stderr",
     "output_type": "stream",
     "text": [
      "100%|██████████| 157/157 [2:45:41<00:00, 59.43s/it]"
     ]
    },
    {
     "name": "stdout",
     "output_type": "stream",
     "text": [
      "Can't get responses information\n",
      "responses filled by initial data\n",
      "Can't get responses information\n",
      "responses filled by initial data\n",
      "Can't get responses information\n",
      "responses filled by initial data\n",
      "Can't get responses information\n",
      "responses filled by initial data\n",
      "Can't get responses information\n",
      "Can't get claps information\n",
      "claps filled by initial data\n",
      "responses filled by initial data\n",
      "Can't get responses information\n",
      "responses filled by initial data\n",
      "Can't get claps information\n",
      "claps filled by initial data\n"
     ]
    },
    {
     "name": "stderr",
     "output_type": "stream",
     "text": [
      "158it [2:46:30, 63.23s/it]                         \n"
     ]
    }
   ],
   "source": [
    "scrapping_tools.scrap_articles_async(least_data, options=options, pools=14)"
   ]
  },
  {
   "cell_type": "code",
   "execution_count": 27,
   "metadata": {},
   "outputs": [],
   "source": [
    "df1 = pd.read_csv(\"scrapped_data/scrapped_async_data.csv\", header=None)\n",
    "df1.columns = columns\n",
    "df2 = pd.read_csv(\"scrapped_data/scrapped_async_data_part2.csv\", header=None)\n",
    "df2.columns = columns\n",
    "df3 = pd.read_csv(\"scrapped_data/scrapped_async_data_part3.csv\", header=None)\n",
    "df3.columns = columns\n",
    "df4 = pd.read_csv(\"scrapped_data/scrapped_async_data_part4.csv\", header=None)\n",
    "df4.columns = columns\n",
    "df5 = pd.read_csv(\"scrapped_data/scrapped_async_data_part5.csv\", header=None)\n",
    "df5.columns = columns"
   ]
  },
  {
   "cell_type": "code",
   "execution_count": 25,
   "metadata": {},
   "outputs": [],
   "source": [
    "assert df1.shape[1] == df2.shape[1]\n",
    "assert df2.shape[1] == df3.shape[1]\n",
    "assert df3.shape[1] == df4.shape[1]\n",
    "assert df4.shape[1] == df5.shape[1]"
   ]
  },
  {
   "cell_type": "code",
   "execution_count": 116,
   "metadata": {},
   "outputs": [],
   "source": [
    "df_scrapped = pd.concat([df1, df2, df3, df4, df5], ignore_index=True)"
   ]
  },
  {
   "cell_type": "code",
   "execution_count": 117,
   "metadata": {},
   "outputs": [
    {
     "data": {
      "text/plain": [
       "(6523, 6523)"
      ]
     },
     "execution_count": 117,
     "metadata": {},
     "output_type": "execute_result"
    }
   ],
   "source": [
    "len(df_scrapped.index), len(range(df_scrapped.shape[0]))"
   ]
  },
  {
   "cell_type": "code",
   "execution_count": 118,
   "metadata": {},
   "outputs": [],
   "source": [
    "df_scrapped = df_scrapped.loc[df_scrapped[\"title\"].drop_duplicates().index, :].drop_duplicates()"
   ]
  },
  {
   "cell_type": "code",
   "execution_count": 119,
   "metadata": {},
   "outputs": [],
   "source": [
    "df_scrapped = df_scrapped.reindex(range(df_scrapped.shape[0]))"
   ]
  },
  {
   "cell_type": "code",
   "execution_count": 120,
   "metadata": {},
   "outputs": [
    {
     "data": {
      "text/plain": [
       "(5593, 20)"
      ]
     },
     "execution_count": 120,
     "metadata": {},
     "output_type": "execute_result"
    }
   ],
   "source": [
    "df_scrapped.shape"
   ]
  },
  {
   "cell_type": "code",
   "execution_count": 113,
   "metadata": {},
   "outputs": [
    {
     "data": {
      "text/html": [
       "<div>\n",
       "<style scoped>\n",
       "    .dataframe tbody tr th:only-of-type {\n",
       "        vertical-align: middle;\n",
       "    }\n",
       "\n",
       "    .dataframe tbody tr th {\n",
       "        vertical-align: top;\n",
       "    }\n",
       "\n",
       "    .dataframe thead th {\n",
       "        text-align: right;\n",
       "    }\n",
       "</style>\n",
       "<table border=\"1\" class=\"dataframe\">\n",
       "  <thead>\n",
       "    <tr style=\"text-align: right;\">\n",
       "      <th></th>\n",
       "      <th>link</th>\n",
       "      <th>title</th>\n",
       "      <th>claps</th>\n",
       "      <th>responses</th>\n",
       "      <th>reading_time</th>\n",
       "      <th>publication</th>\n",
       "      <th>date</th>\n",
       "    </tr>\n",
       "    <tr>\n",
       "      <th>id</th>\n",
       "      <th></th>\n",
       "      <th></th>\n",
       "      <th></th>\n",
       "      <th></th>\n",
       "      <th></th>\n",
       "      <th></th>\n",
       "      <th></th>\n",
       "    </tr>\n",
       "  </thead>\n",
       "  <tbody>\n",
       "    <tr>\n",
       "      <th>1</th>\n",
       "      <td>https://towardsdatascience.com/a-beginners-gui...</td>\n",
       "      <td>A Beginner’s Guide to Word Embedding with Gens...</td>\n",
       "      <td>850</td>\n",
       "      <td>8</td>\n",
       "      <td>8</td>\n",
       "      <td>Towards Data Science</td>\n",
       "      <td>2019-05-30</td>\n",
       "    </tr>\n",
       "    <tr>\n",
       "      <th>2</th>\n",
       "      <td>https://towardsdatascience.com/hands-on-graph-...</td>\n",
       "      <td>Hands-on Graph Neural Networks with PyTorch &amp; ...</td>\n",
       "      <td>1100</td>\n",
       "      <td>11</td>\n",
       "      <td>9</td>\n",
       "      <td>Towards Data Science</td>\n",
       "      <td>2019-05-30</td>\n",
       "    </tr>\n",
       "    <tr>\n",
       "      <th>3</th>\n",
       "      <td>https://towardsdatascience.com/how-to-use-ggpl...</td>\n",
       "      <td>How to Use ggplot2 in Python</td>\n",
       "      <td>767</td>\n",
       "      <td>1</td>\n",
       "      <td>5</td>\n",
       "      <td>Towards Data Science</td>\n",
       "      <td>2019-05-30</td>\n",
       "    </tr>\n",
       "    <tr>\n",
       "      <th>4</th>\n",
       "      <td>https://towardsdatascience.com/databricks-how-...</td>\n",
       "      <td>Databricks: How to Save Files in CSV on Your L...</td>\n",
       "      <td>354</td>\n",
       "      <td>0</td>\n",
       "      <td>4</td>\n",
       "      <td>Towards Data Science</td>\n",
       "      <td>2019-05-30</td>\n",
       "    </tr>\n",
       "    <tr>\n",
       "      <th>5</th>\n",
       "      <td>https://towardsdatascience.com/a-step-by-step-...</td>\n",
       "      <td>A Step-by-Step Implementation of Gradient Desc...</td>\n",
       "      <td>211</td>\n",
       "      <td>3</td>\n",
       "      <td>4</td>\n",
       "      <td>Towards Data Science</td>\n",
       "      <td>2019-05-30</td>\n",
       "    </tr>\n",
       "    <tr>\n",
       "      <th>...</th>\n",
       "      <td>...</td>\n",
       "      <td>...</td>\n",
       "      <td>...</td>\n",
       "      <td>...</td>\n",
       "      <td>...</td>\n",
       "      <td>...</td>\n",
       "      <td>...</td>\n",
       "    </tr>\n",
       "    <tr>\n",
       "      <th>6504</th>\n",
       "      <td>https://medium.com/better-marketing/we-vs-i-ho...</td>\n",
       "      <td>“We” vs “I” — How Should You Talk About Yourse...</td>\n",
       "      <td>661</td>\n",
       "      <td>6</td>\n",
       "      <td>6</td>\n",
       "      <td>Better Marketing</td>\n",
       "      <td>2019-12-05</td>\n",
       "    </tr>\n",
       "    <tr>\n",
       "      <th>6505</th>\n",
       "      <td>https://medium.com/better-marketing/how-donald...</td>\n",
       "      <td>How Donald Trump Markets Himself</td>\n",
       "      <td>189</td>\n",
       "      <td>1</td>\n",
       "      <td>5</td>\n",
       "      <td>Better Marketing</td>\n",
       "      <td>2019-12-05</td>\n",
       "    </tr>\n",
       "    <tr>\n",
       "      <th>6506</th>\n",
       "      <td>https://medium.com/better-marketing/content-an...</td>\n",
       "      <td>Content and Marketing Beyond Mass Consumption</td>\n",
       "      <td>207</td>\n",
       "      <td>1</td>\n",
       "      <td>8</td>\n",
       "      <td>Better Marketing</td>\n",
       "      <td>2019-12-05</td>\n",
       "    </tr>\n",
       "    <tr>\n",
       "      <th>6507</th>\n",
       "      <td>https://medium.com/better-marketing/5-question...</td>\n",
       "      <td>5 Questions All Copywriters Should Ask Clients...</td>\n",
       "      <td>253</td>\n",
       "      <td>2</td>\n",
       "      <td>5</td>\n",
       "      <td>Better Marketing</td>\n",
       "      <td>2019-12-05</td>\n",
       "    </tr>\n",
       "    <tr>\n",
       "      <th>6508</th>\n",
       "      <td>https://medium.com/better-marketing/how-to-wri...</td>\n",
       "      <td>How To Write a Good Business Blog Post</td>\n",
       "      <td>147</td>\n",
       "      <td>0</td>\n",
       "      <td>9</td>\n",
       "      <td>Better Marketing</td>\n",
       "      <td>2019-12-05</td>\n",
       "    </tr>\n",
       "  </tbody>\n",
       "</table>\n",
       "<p>6508 rows × 7 columns</p>\n",
       "</div>"
      ],
      "text/plain": [
       "                                                   link  \\\n",
       "id                                                        \n",
       "1     https://towardsdatascience.com/a-beginners-gui...   \n",
       "2     https://towardsdatascience.com/hands-on-graph-...   \n",
       "3     https://towardsdatascience.com/how-to-use-ggpl...   \n",
       "4     https://towardsdatascience.com/databricks-how-...   \n",
       "5     https://towardsdatascience.com/a-step-by-step-...   \n",
       "...                                                 ...   \n",
       "6504  https://medium.com/better-marketing/we-vs-i-ho...   \n",
       "6505  https://medium.com/better-marketing/how-donald...   \n",
       "6506  https://medium.com/better-marketing/content-an...   \n",
       "6507  https://medium.com/better-marketing/5-question...   \n",
       "6508  https://medium.com/better-marketing/how-to-wri...   \n",
       "\n",
       "                                                  title  claps responses  \\\n",
       "id                                                                         \n",
       "1     A Beginner’s Guide to Word Embedding with Gens...    850         8   \n",
       "2     Hands-on Graph Neural Networks with PyTorch & ...   1100        11   \n",
       "3                          How to Use ggplot2 in Python    767         1   \n",
       "4     Databricks: How to Save Files in CSV on Your L...    354         0   \n",
       "5     A Step-by-Step Implementation of Gradient Desc...    211         3   \n",
       "...                                                 ...    ...       ...   \n",
       "6504  “We” vs “I” — How Should You Talk About Yourse...    661         6   \n",
       "6505                   How Donald Trump Markets Himself    189         1   \n",
       "6506      Content and Marketing Beyond Mass Consumption    207         1   \n",
       "6507  5 Questions All Copywriters Should Ask Clients...    253         2   \n",
       "6508             How To Write a Good Business Blog Post    147         0   \n",
       "\n",
       "      reading_time           publication        date  \n",
       "id                                                    \n",
       "1                8  Towards Data Science  2019-05-30  \n",
       "2                9  Towards Data Science  2019-05-30  \n",
       "3                5  Towards Data Science  2019-05-30  \n",
       "4                4  Towards Data Science  2019-05-30  \n",
       "5                4  Towards Data Science  2019-05-30  \n",
       "...            ...                   ...         ...  \n",
       "6504             6      Better Marketing  2019-12-05  \n",
       "6505             5      Better Marketing  2019-12-05  \n",
       "6506             8      Better Marketing  2019-12-05  \n",
       "6507             5      Better Marketing  2019-12-05  \n",
       "6508             9      Better Marketing  2019-12-05  \n",
       "\n",
       "[6508 rows x 7 columns]"
      ]
     },
     "execution_count": 113,
     "metadata": {},
     "output_type": "execute_result"
    }
   ],
   "source": [
    "data"
   ]
  },
  {
   "cell_type": "code",
   "execution_count": 122,
   "metadata": {},
   "outputs": [],
   "source": [
    "df_scrapped = df_scrapped.loc[df_scrapped[\"link\"].drop_duplicates().index, :].drop_duplicates()"
   ]
  },
  {
   "cell_type": "code",
   "execution_count": 123,
   "metadata": {},
   "outputs": [
    {
     "data": {
      "text/plain": [
       "(5527, 20)"
      ]
     },
     "execution_count": 123,
     "metadata": {},
     "output_type": "execute_result"
    }
   ],
   "source": [
    "df_scrapped.shape"
   ]
  },
  {
   "cell_type": "code",
   "execution_count": 124,
   "metadata": {},
   "outputs": [],
   "source": [
    "links = df_scrapped['link'].values"
   ]
  },
  {
   "cell_type": "code",
   "execution_count": 127,
   "metadata": {},
   "outputs": [],
   "source": [
    "idxs = []\n",
    "links2 = []\n",
    "for i, row in data.iterrows():\n",
    "    if row['link'] in links:\n",
    "        continue\n",
    "    else:\n",
    "        idxs.append(i)\n",
    "        links2.append(row['link'])"
   ]
  },
  {
   "cell_type": "code",
   "execution_count": 126,
   "metadata": {},
   "outputs": [
    {
     "data": {
      "text/plain": [
       "982"
      ]
     },
     "execution_count": 126,
     "metadata": {},
     "output_type": "execute_result"
    }
   ],
   "source": [
    "len(idxs)"
   ]
  },
  {
   "cell_type": "code",
   "execution_count": 129,
   "metadata": {},
   "outputs": [
    {
     "data": {
      "text/plain": [
       "False"
      ]
     },
     "execution_count": 129,
     "metadata": {},
     "output_type": "execute_result"
    }
   ],
   "source": [
    "import numpy as np\n",
    "np.array(links) == np.array(links2)"
   ]
  },
  {
   "cell_type": "code",
   "execution_count": 133,
   "metadata": {},
   "outputs": [],
   "source": [
    "least_data = data.loc[idxs, :]"
   ]
  },
  {
   "cell_type": "code",
   "execution_count": 134,
   "metadata": {},
   "outputs": [
    {
     "name": "stderr",
     "output_type": "stream",
     "text": [
      "  0%|          | 0/70 [00:00<?, ?it/s]"
     ]
    },
    {
     "name": "stdout",
     "output_type": "stream",
     "text": [
      "Can't get responses information\n",
      "responses filled by initial data\n",
      "Can't get claps information\n",
      "claps filled by initial data\n",
      "Can't get claps information\n",
      "claps filled by initial data\n",
      "Can't get responses information\n",
      "Can't get claps information\n",
      "claps filled by initial data\n",
      "responses filled by initial data\n",
      "Can't get responses information\n",
      "responses filled by initial data\n",
      "Can't get claps information\n",
      "claps filled by initial data\n",
      "Can't get responses information\n",
      "Can't get claps information\n",
      "claps filled by initial data\n",
      "responses filled by initial data\n",
      "Can't get responses information\n",
      "responses filled by initial data\n",
      "Can't get responses information\n",
      "responses filled by initial data\n"
     ]
    },
    {
     "name": "stderr",
     "output_type": "stream",
     "text": [
      "  1%|▏         | 1/70 [01:00<1:09:26, 60.39s/it]"
     ]
    },
    {
     "name": "stdout",
     "output_type": "stream",
     "text": [
      "Can't get responses information\n",
      "responses filled by initial data\n",
      "Can't get responses information\n",
      "responses filled by initial data\n",
      "Can't get image's sizes\n",
      "Couldn't get title from article.\n",
      "Couldn't get title from article.\n",
      "Can't go to the followers info\n",
      "Couldn't get reading time from article.\n",
      "Couldn't get date from article.\n",
      "Can't get responses information\n",
      "Couldn't get YouTube videos.\n",
      "Can't get claps information\n",
      "title filled by initial data\n",
      "claps filled by initial data\n",
      "responses filled by initial data\n",
      "reading_time filled by initial data\n",
      "publication filled by initial data\n",
      "date filled by initial data\n",
      "Can't get image's sizes\n",
      "Couldn't get title from article.\n",
      "Couldn't get title from article.\n",
      "Can't go to the followers info\n",
      "Couldn't get reading time from article.\n",
      "Couldn't get date from article.\n",
      "Can't get responses information\n",
      "Couldn't get YouTube videos.\n",
      "Can't get claps information\n",
      "title filled by initial data\n",
      "claps filled by initial data\n",
      "responses filled by initial data\n",
      "reading_time filled by initial data\n",
      "publication filled by initial data\n",
      "date filled by initial data\n",
      "Can't get responses information\n",
      "responses filled by initial data\n",
      "Can't get responses information\n",
      "Can't get claps information\n",
      "claps filled by initial data\n",
      "responses filled by initial data\n",
      "Can't get responses information\n",
      "responses filled by initial data\n",
      "Can't get responses information\n",
      "responses filled by initial data\n",
      "Can't get responses information\n",
      "responses filled by initial data\n",
      "Can't get responses information\n",
      "responses filled by initial data\n",
      "Can't get responses information\n",
      "responses filled by initial data\n"
     ]
    },
    {
     "name": "stderr",
     "output_type": "stream",
     "text": [
      "  3%|▎         | 2/70 [01:47<59:46, 52.74s/it]  "
     ]
    },
    {
     "name": "stdout",
     "output_type": "stream",
     "text": [
      "Can't get claps information\n",
      "claps filled by initial data\n",
      "Can't get responses information\n",
      "Can't get claps information\n",
      "claps filled by initial data\n",
      "responses filled by initial data\n",
      "Can't get claps information\n",
      "claps filled by initial data\n",
      "Can't get claps information\n",
      "claps filled by initial data\n",
      "Can't get responses information\n",
      "Can't get claps information\n",
      "claps filled by initial data\n",
      "responses filled by initial data\n",
      "Can't get responses information\n",
      "responses filled by initial data\n",
      "Can't get responses information\n",
      "Can't get claps information\n",
      "claps filled by initial data\n",
      "responses filled by initial data\n",
      "Can't get responses information\n",
      "responses filled by initial data\n",
      "Can't get responses information\n",
      "responses filled by initial data\n",
      "Can't get responses information\n",
      "Can't get claps information\n",
      "claps filled by initial data\n",
      "responses filled by initial data\n",
      "Can't get responses information\n",
      "responses filled by initial data\n",
      "Can't get claps information\n",
      "claps filled by initial data\n",
      "Can't get responses information\n",
      "Can't get claps information\n",
      "claps filled by initial data\n",
      "responses filled by initial data\n"
     ]
    },
    {
     "name": "stderr",
     "output_type": "stream",
     "text": [
      "  4%|▍         | 3/70 [02:29<53:04, 47.53s/it]"
     ]
    },
    {
     "name": "stdout",
     "output_type": "stream",
     "text": [
      "Can't get responses information\n",
      "responses filled by initial data\n",
      "Can't get image's sizes\n",
      "Couldn't get title from article.\n",
      "Couldn't get title from article.\n",
      "Can't go to the followers info\n",
      "Couldn't get reading time from article.\n",
      "Couldn't get date from article.\n",
      "Can't get responses information\n",
      "Couldn't get YouTube videos.\n",
      "Can't get claps information\n",
      "title filled by initial data\n",
      "claps filled by initial data\n",
      "responses filled by initial data\n",
      "reading_time filled by initial data\n",
      "publication filled by initial data\n",
      "date filled by initial data\n",
      "Can't get claps information\n",
      "claps filled by initial data\n",
      "Can't get claps information\n",
      "claps filled by initial data\n",
      "Can't get responses information\n",
      "Can't get claps information\n",
      "claps filled by initial data\n",
      "responses filled by initial data\n",
      "Can't get responses information\n",
      "responses filled by initial data\n",
      "Can't get claps information\n",
      "claps filled by initial data\n",
      "Can't get claps information\n",
      "claps filled by initial data\n",
      "Can't get claps information\n",
      "claps filled by initial data\n",
      "Can't get responses information\n",
      "Can't get claps information\n",
      "claps filled by initial data\n",
      "responses filled by initial data\n",
      "publication filled by initial data\n"
     ]
    },
    {
     "name": "stderr",
     "output_type": "stream",
     "text": [
      "  6%|▌         | 4/70 [06:34<2:18:16, 125.70s/it]"
     ]
    },
    {
     "name": "stdout",
     "output_type": "stream",
     "text": [
      "Can't get image's sizes\n",
      "Can't get claps information\n",
      "claps filled by initial data\n",
      "Can't get responses information\n",
      "Can't get claps information\n",
      "claps filled by initial data\n",
      "responses filled by initial data\n",
      "Can't get responses information\n",
      "Can't get claps information\n",
      "claps filled by initial data\n",
      "responses filled by initial data\n",
      "Can't get responses information\n",
      "responses filled by initial data\n",
      "publication filled by initial data\n",
      "Can't get claps information\n",
      "claps filled by initial data\n",
      "Can't get claps information\n",
      "claps filled by initial data\n",
      "publication filled by initial data\n",
      "Can't get claps information\n",
      "claps filled by initial data\n",
      "Can't get claps information\n",
      "claps filled by initial data\n",
      "Can't get responses information\n",
      "Can't get claps information\n",
      "claps filled by initial data\n",
      "responses filled by initial data\n",
      "Can't get claps information\n",
      "claps filled by initial data\n",
      "Can't get responses information\n",
      "Can't get claps information\n",
      "claps filled by initial data\n",
      "responses filled by initial data\n",
      "Can't get responses information\n",
      "responses filled by initial data\n"
     ]
    },
    {
     "name": "stderr",
     "output_type": "stream",
     "text": [
      "  7%|▋         | 5/70 [10:15<2:53:20, 160.01s/it]"
     ]
    },
    {
     "name": "stdout",
     "output_type": "stream",
     "text": [
      "Can't get image's sizes\n",
      "Couldn't get title from article.\n",
      "Couldn't get title from article.\n",
      "Can't go to the followers info\n",
      "Couldn't get reading time from article.\n",
      "Couldn't get date from article.\n",
      "Can't get responses information\n",
      "Couldn't get YouTube videos.\n",
      "Can't get claps information\n",
      "title filled by initial data\n",
      "claps filled by initial data\n",
      "responses filled by initial data\n",
      "reading_time filled by initial data\n",
      "publication filled by initial data\n",
      "date filled by initial data\n",
      "Can't get image's sizes\n",
      "Can't get responses information\n",
      "Can't get claps information\n",
      "claps filled by initial data\n",
      "responses filled by initial data\n",
      "Can't get image's sizes\n",
      "Couldn't get title from article.\n",
      "Couldn't get title from article.\n",
      "Can't go to the followers info\n",
      "Couldn't get reading time from article.\n",
      "Couldn't get date from article.\n",
      "Can't get responses information\n",
      "Couldn't get YouTube videos.\n",
      "Can't get claps information\n",
      "title filled by initial data\n",
      "claps filled by initial data\n",
      "responses filled by initial data\n",
      "reading_time filled by initial data\n",
      "publication filled by initial data\n",
      "date filled by initial data\n",
      "Can't get responses information\n",
      "responses filled by initial data\n",
      "Can't get responses information\n",
      "responses filled by initial data\n",
      "Can't get responses information\n",
      "Can't get claps information\n",
      "claps filled by initial data\n",
      "responses filled by initial data\n",
      "Can't get claps information\n",
      "claps filled by initial data\n",
      "Can't get responses information\n",
      "responses filled by initial data\n",
      "Can't get claps information\n",
      "claps filled by initial data\n",
      "Can't get responses information\n",
      "Can't get claps information\n",
      "claps filled by initial data\n",
      "responses filled by initial data\n",
      "Can't get responses information\n",
      "Can't get claps information\n",
      "claps filled by initial data\n",
      "responses filled by initial data\n"
     ]
    },
    {
     "name": "stderr",
     "output_type": "stream",
     "text": [
      "  9%|▊         | 6/70 [11:18<2:15:22, 126.91s/it]"
     ]
    },
    {
     "name": "stdout",
     "output_type": "stream",
     "text": [
      "Can't get image's sizes\n",
      "Couldn't get title from article.\n",
      "Couldn't get title from article.\n",
      "Can't go to the followers info\n",
      "Couldn't get reading time from article.\n",
      "Couldn't get date from article.\n",
      "Can't get responses information\n",
      "Couldn't get YouTube videos.\n",
      "Can't get claps information\n",
      "title filled by initial data\n",
      "claps filled by initial data\n",
      "responses filled by initial data\n",
      "reading_time filled by initial data\n",
      "publication filled by initial data\n",
      "date filled by initial data\n",
      "Can't get claps information\n",
      "claps filled by initial data\n",
      "Can't get claps information\n",
      "claps filled by initial data\n",
      "Can't get responses information\n",
      "responses filled by initial data\n",
      "Can't get responses information\n",
      "responses filled by initial data\n",
      "Can't get responses information\n",
      "Can't get claps information\n",
      "claps filled by initial data\n",
      "responses filled by initial data\n",
      "Can't get responses information\n",
      "responses filled by initial data\n",
      "Can't get responses information\n",
      "responses filled by initial data\n"
     ]
    },
    {
     "name": "stderr",
     "output_type": "stream",
     "text": [
      " 10%|█         | 7/70 [12:22<1:51:39, 106.34s/it]"
     ]
    },
    {
     "name": "stdout",
     "output_type": "stream",
     "text": [
      "Can't get image's sizes\n",
      "Couldn't get title from article.\n",
      "Couldn't get title from article.\n",
      "Can't go to the followers info\n",
      "Couldn't get reading time from article.\n",
      "Couldn't get date from article.\n",
      "Can't get responses information\n",
      "Couldn't get YouTube videos.\n",
      "Can't get claps information\n",
      "title filled by initial data\n",
      "claps filled by initial data\n",
      "responses filled by initial data\n",
      "reading_time filled by initial data\n",
      "publication filled by initial data\n",
      "date filled by initial data\n",
      "Can't get responses information\n",
      "responses filled by initial data\n",
      "Can't get responses information\n",
      "Can't get claps information\n",
      "claps filled by initial data\n",
      "responses filled by initial data\n",
      "Can't get responses information\n",
      "responses filled by initial data\n",
      "Can't get responses information\n",
      "Can't get claps information\n",
      "claps filled by initial data\n",
      "responses filled by initial data\n",
      "Can't get responses information\n",
      "Can't get claps information\n",
      "claps filled by initial data\n",
      "responses filled by initial data\n",
      "Can't get responses information\n",
      "responses filled by initial data\n"
     ]
    },
    {
     "name": "stderr",
     "output_type": "stream",
     "text": [
      " 11%|█▏        | 8/70 [14:09<1:50:06, 106.56s/it]"
     ]
    },
    {
     "name": "stdout",
     "output_type": "stream",
     "text": [
      "Can't get image's sizes\n",
      "Couldn't get title from article.\n",
      "Couldn't get title from article.\n",
      "Can't go to the followers info\n",
      "Couldn't get reading time from article.\n",
      "Couldn't get date from article.\n",
      "Can't get responses information\n",
      "Couldn't get YouTube videos.\n",
      "Can't get claps information\n",
      "title filled by initial data\n",
      "claps filled by initial data\n",
      "responses filled by initial data\n",
      "reading_time filled by initial data\n",
      "publication filled by initial data\n",
      "date filled by initial data\n",
      "Can't get responses information\n",
      "Can't get claps information\n",
      "claps filled by initial data\n",
      "responses filled by initial data\n",
      "Can't get image's sizes\n",
      "Couldn't get title from article.\n",
      "Couldn't get title from article.\n",
      "Can't go to the followers info\n",
      "Couldn't get reading time from article.\n",
      "Couldn't get date from article.\n",
      "Can't get responses information\n",
      "Couldn't get YouTube videos.\n",
      "Can't get claps information\n",
      "title filled by initial data\n",
      "claps filled by initial data\n",
      "responses filled by initial data\n",
      "reading_time filled by initial data\n",
      "publication filled by initial data\n",
      "date filled by initial data\n",
      "Can't get responses information\n",
      "responses filled by initial data\n",
      "Can't get claps information\n",
      "claps filled by initial data\n",
      "Can't get responses information\n",
      "Can't get claps information\n",
      "claps filled by initial data\n",
      "responses filled by initial data\n",
      "Can't get claps information\n",
      "claps filled by initial data\n",
      "Can't get responses information\n",
      "responses filled by initial data\n",
      "Can't get claps information\n",
      "claps filled by initial data\n",
      "Can't get responses information\n",
      "responses filled by initial data\n",
      "Can't get claps information\n",
      "claps filled by initial data\n",
      "Can't get responses information\n",
      "responses filled by initial data\n"
     ]
    },
    {
     "name": "stderr",
     "output_type": "stream",
     "text": [
      " 13%|█▎        | 9/70 [14:51<1:28:04, 86.63s/it] "
     ]
    },
    {
     "name": "stdout",
     "output_type": "stream",
     "text": [
      "Can't get responses information\n",
      "responses filled by initial data\n",
      "Can't get claps information\n",
      "claps filled by initial data\n",
      "Can't get responses information\n",
      "responses filled by initial data\n",
      "Can't get responses information\n",
      "Can't get claps information\n",
      "claps filled by initial data\n",
      "responses filled by initial data\n",
      "Can't get responses information\n",
      "Can't get claps information\n",
      "claps filled by initial data\n",
      "responses filled by initial data\n",
      "Can't get responses information\n",
      "Can't get claps information\n",
      "claps filled by initial data\n",
      "responses filled by initial data\n",
      "Can't get claps information\n",
      "claps filled by initial data\n",
      "Can't get claps information\n",
      "claps filled by initial data\n",
      "Can't get responses information\n",
      "Can't get claps information\n",
      "claps filled by initial data\n",
      "responses filled by initial data\n",
      "Can't get claps information\n",
      "claps filled by initial data\n",
      "Can't get responses information\n",
      "responses filled by initial data\n"
     ]
    },
    {
     "name": "stderr",
     "output_type": "stream",
     "text": [
      " 14%|█▍        | 10/70 [16:48<1:35:53, 95.90s/it]"
     ]
    },
    {
     "name": "stdout",
     "output_type": "stream",
     "text": [
      "Can't get image's sizes\n",
      "Couldn't get title from article.\n",
      "Couldn't get title from article.\n",
      "Can't go to the followers info\n",
      "Couldn't get reading time from article.\n",
      "Couldn't get date from article.\n",
      "Can't get responses information\n",
      "Couldn't get YouTube videos.\n",
      "Can't get claps information\n",
      "title filled by initial data\n",
      "claps filled by initial data\n",
      "responses filled by initial data\n",
      "reading_time filled by initial data\n",
      "publication filled by initial data\n",
      "date filled by initial data\n",
      "Can't get responses information\n",
      "Can't get claps information\n",
      "claps filled by initial data\n",
      "responses filled by initial data\n",
      "Can't get claps information\n",
      "claps filled by initial data\n",
      "Can't get responses information\n",
      "responses filled by initial data\n",
      "Can't get responses information\n",
      "Can't get claps information\n",
      "claps filled by initial data\n",
      "responses filled by initial data\n",
      "Can't get responses information\n",
      "Can't get claps information\n",
      "claps filled by initial data\n",
      "responses filled by initial data\n",
      "Can't get claps information\n",
      "claps filled by initial data\n",
      "Can't get responses information\n",
      "Can't get claps information\n",
      "claps filled by initial data\n",
      "responses filled by initial data\n",
      "Can't get claps information\n",
      "claps filled by initial data\n",
      "Can't get claps information\n",
      "claps filled by initial data\n"
     ]
    },
    {
     "name": "stderr",
     "output_type": "stream",
     "text": [
      " 16%|█▌        | 11/70 [27:24<4:16:43, 261.08s/it]"
     ]
    },
    {
     "name": "stdout",
     "output_type": "stream",
     "text": [
      "Can't get claps information\n",
      "claps filled by initial data\n",
      "Can't get responses information\n",
      "Can't get claps information\n",
      "claps filled by initial data\n",
      "responses filled by initial data\n",
      "Can't get responses information\n",
      "Can't get claps information\n",
      "claps filled by initial data\n",
      "responses filled by initial data\n",
      "Can't get claps information\n",
      "claps filled by initial data\n",
      "Can't get claps information\n",
      "claps filled by initial data\n",
      "Can't get responses information\n",
      "Can't get claps information\n",
      "claps filled by initial data\n",
      "responses filled by initial data\n",
      "Can't get claps information\n",
      "claps filled by initial data\n",
      "Can't get claps information\n",
      "claps filled by initial data\n",
      "Can't get responses information\n",
      "responses filled by initial data\n",
      "Can't get claps information\n",
      "claps filled by initial data\n",
      "Can't get claps information\n",
      "claps filled by initial data\n",
      "Can't get responses information\n",
      "Can't get claps information\n",
      "claps filled by initial data\n",
      "responses filled by initial data\n"
     ]
    },
    {
     "name": "stderr",
     "output_type": "stream",
     "text": [
      " 17%|█▋        | 12/70 [30:13<3:45:26, 233.22s/it]"
     ]
    },
    {
     "name": "stdout",
     "output_type": "stream",
     "text": [
      "Can't get image's sizes\n",
      "Couldn't get title from article.\n",
      "Couldn't get title from article.\n",
      "Can't go to the followers info\n",
      "Couldn't get reading time from article.\n",
      "Couldn't get date from article.\n",
      "Can't get responses information\n",
      "Couldn't get YouTube videos.\n",
      "Can't get claps information\n",
      "title filled by initial data\n",
      "claps filled by initial data\n",
      "responses filled by initial data\n",
      "reading_time filled by initial data\n",
      "publication filled by initial data\n",
      "date filled by initial data\n",
      "Can't get image's sizes\n",
      "Couldn't get title from article.\n",
      "Couldn't get title from article.\n",
      "Can't go to the followers info\n",
      "Couldn't get reading time from article.\n",
      "Couldn't get date from article.\n",
      "Can't get responses information\n",
      "Couldn't get YouTube videos.\n",
      "Can't get claps information\n",
      "title filled by initial data\n",
      "claps filled by initial data\n",
      "responses filled by initial data\n",
      "reading_time filled by initial data\n",
      "publication filled by initial data\n",
      "date filled by initial data\n",
      "Can't get responses information\n",
      "Can't get claps information\n",
      "claps filled by initial data\n",
      "responses filled by initial data\n",
      "Can't get responses information\n",
      "Can't get claps information\n",
      "claps filled by initial data\n",
      "responses filled by initial data\n",
      "Can't get responses information\n",
      "Can't get claps information\n",
      "claps filled by initial data\n",
      "responses filled by initial data\n",
      "Can't get claps information\n",
      "claps filled by initial data\n",
      "Can't get responses information\n",
      "Can't get claps information\n",
      "claps filled by initial data\n",
      "responses filled by initial data\n",
      "Can't get responses information\n",
      "Can't get claps information\n",
      "claps filled by initial data\n",
      "responses filled by initial data\n",
      "Can't get responses information\n",
      "Can't get claps information\n",
      "claps filled by initial data\n",
      "responses filled by initial data\n",
      "Can't get responses information\n",
      "Can't get claps information\n",
      "claps filled by initial data\n",
      "responses filled by initial data\n",
      "Can't get claps information\n",
      "claps filled by initial data\n",
      "Can't get claps information\n",
      "claps filled by initial data\n"
     ]
    },
    {
     "name": "stderr",
     "output_type": "stream",
     "text": [
      " 19%|█▊        | 13/70 [34:06<3:41:26, 233.10s/it]"
     ]
    },
    {
     "name": "stdout",
     "output_type": "stream",
     "text": [
      "Can't get image's sizes\n",
      "Couldn't get title from article.\n",
      "Couldn't get title from article.\n",
      "Can't go to the followers info\n",
      "Couldn't get reading time from article.\n",
      "Couldn't get date from article.\n",
      "Can't get responses information\n",
      "Couldn't get YouTube videos.\n",
      "Can't get claps information\n",
      "title filled by initial data\n",
      "claps filled by initial data\n",
      "responses filled by initial data\n",
      "reading_time filled by initial data\n",
      "publication filled by initial data\n",
      "date filled by initial data\n",
      "Can't get responses information\n",
      "responses filled by initial data\n",
      "Can't get responses information\n",
      "Can't get claps information\n",
      "claps filled by initial data\n",
      "responses filled by initial data\n",
      "Can't get responses information\n",
      "Can't get claps information\n",
      "claps filled by initial data\n",
      "responses filled by initial data\n",
      "Can't get responses information\n",
      "responses filled by initial data\n"
     ]
    },
    {
     "name": "stderr",
     "output_type": "stream",
     "text": [
      " 20%|██        | 14/70 [36:14<3:07:58, 201.39s/it]"
     ]
    },
    {
     "name": "stdout",
     "output_type": "stream",
     "text": [
      "Can't get responses information\n",
      "responses filled by initial data\n",
      "Can't get image's sizes\n",
      "Can't get image's sizes\n",
      "Can't get responses information\n",
      "responses filled by initial data\n",
      "Can't get claps information\n",
      "claps filled by initial data\n",
      "Can't get claps information\n",
      "claps filled by initial data\n",
      "Can't get claps information\n",
      "claps filled by initial data\n",
      "Can't get responses information\n",
      "Can't get claps information\n",
      "claps filled by initial data\n",
      "responses filled by initial data\n",
      "Can't get responses information\n",
      "Can't get claps information\n",
      "claps filled by initial data\n",
      "responses filled by initial data\n",
      "Can't get claps information\n",
      "claps filled by initial data\n",
      "Can't get responses information\n",
      "responses filled by initial data\n",
      "Can't get responses information\n",
      "responses filled by initial data\n"
     ]
    },
    {
     "name": "stderr",
     "output_type": "stream",
     "text": [
      " 21%|██▏       | 15/70 [37:52<2:35:52, 170.04s/it]"
     ]
    },
    {
     "name": "stdout",
     "output_type": "stream",
     "text": [
      "Can't get image's sizes\n",
      "Couldn't get title from article.\n",
      "Couldn't get title from article.\n",
      "Can't go to the followers info\n",
      "Couldn't get reading time from article.\n",
      "Couldn't get date from article.\n",
      "Can't get responses information\n",
      "Couldn't get YouTube videos.\n",
      "Can't get claps information\n",
      "title filled by initial data\n",
      "claps filled by initial data\n",
      "responses filled by initial data\n",
      "reading_time filled by initial data\n",
      "publication filled by initial data\n",
      "date filled by initial data\n",
      "Can't get image's sizes\n",
      "Can't get responses information\n",
      "Can't get claps information\n",
      "claps filled by initial data\n",
      "responses filled by initial data\n",
      "Can't get image's sizes\n",
      "Couldn't get title from article.\n",
      "Couldn't get title from article.\n",
      "Can't go to the followers info\n",
      "Couldn't get reading time from article.\n",
      "Couldn't get date from article.\n",
      "Can't get responses information\n",
      "Couldn't get YouTube videos.\n",
      "Can't get claps information\n",
      "title filled by initial data\n",
      "claps filled by initial data\n",
      "responses filled by initial data\n",
      "reading_time filled by initial data\n",
      "publication filled by initial data\n",
      "date filled by initial data\n",
      "Can't get responses information\n",
      "responses filled by initial data\n",
      "Can't get responses information\n",
      "Can't get claps information\n",
      "claps filled by initial data\n",
      "responses filled by initial data\n",
      "Can't get responses information\n",
      "Can't get claps information\n",
      "claps filled by initial data\n",
      "responses filled by initial data\n",
      "Can't get claps information\n",
      "claps filled by initial data\n",
      "Can't get claps information\n",
      "claps filled by initial data\n",
      "Can't get responses information\n",
      "Can't get claps information\n",
      "claps filled by initial data\n",
      "responses filled by initial data\n",
      "Can't get responses information\n",
      "Can't get claps information\n",
      "claps filled by initial data\n",
      "responses filled by initial data\n",
      "Can't get claps information\n",
      "claps filled by initial data\n",
      "Can't get responses information\n",
      "Can't get claps information\n",
      "claps filled by initial data\n",
      "responses filled by initial data\n",
      "Can't get responses information\n",
      "responses filled by initial data\n",
      "Can't get responses information\n",
      "Can't get claps information\n",
      "claps filled by initial data\n",
      "responses filled by initial data\n"
     ]
    },
    {
     "name": "stderr",
     "output_type": "stream",
     "text": [
      " 23%|██▎       | 16/70 [39:39<2:15:58, 151.08s/it]"
     ]
    },
    {
     "name": "stdout",
     "output_type": "stream",
     "text": [
      "Can't get claps information\n",
      "claps filled by initial data\n",
      "Can't get responses information\n",
      "Can't get claps information\n",
      "claps filled by initial data\n",
      "responses filled by initial data\n",
      "Can't get responses information\n",
      "Can't get claps information\n",
      "claps filled by initial data\n",
      "responses filled by initial data\n",
      "Can't get image's sizes\n",
      "Can't get responses information\n",
      "responses filled by initial data\n",
      "Can't get responses information\n",
      "Can't get claps information\n",
      "claps filled by initial data\n",
      "responses filled by initial data\n",
      "Can't get claps information\n",
      "claps filled by initial data\n",
      "Can't get claps information\n",
      "claps filled by initial data\n"
     ]
    },
    {
     "name": "stderr",
     "output_type": "stream",
     "text": [
      " 24%|██▍       | 17/70 [46:03<3:15:23, 221.20s/it]"
     ]
    },
    {
     "name": "stdout",
     "output_type": "stream",
     "text": [
      "Can't get image's sizes\n",
      "Couldn't get title from article.\n",
      "Couldn't get title from article.\n",
      "Can't go to the followers info\n",
      "Couldn't get reading time from article.\n",
      "Couldn't get date from article.\n",
      "Can't get responses information\n",
      "Couldn't get YouTube videos.\n",
      "Can't get claps information\n",
      "title filled by initial data\n",
      "claps filled by initial data\n",
      "responses filled by initial data\n",
      "reading_time filled by initial data\n",
      "publication filled by initial data\n",
      "date filled by initial data\n",
      "Can't get claps information\n",
      "claps filled by initial data\n",
      "Can't get claps information\n",
      "claps filled by initial data\n",
      "Can't get claps information\n",
      "claps filled by initial data\n",
      "Can't get claps information\n",
      "claps filled by initial data\n",
      "Can't get responses information\n",
      "Can't get claps information\n",
      "claps filled by initial data\n",
      "responses filled by initial data\n",
      "Can't get claps information\n",
      "claps filled by initial data\n",
      "Can't get claps information\n",
      "claps filled by initial data\n",
      "Can't get responses information\n",
      "Can't get claps information\n",
      "claps filled by initial data\n",
      "responses filled by initial data\n",
      "Can't get claps information\n",
      "claps filled by initial data\n"
     ]
    },
    {
     "name": "stderr",
     "output_type": "stream",
     "text": [
      " 26%|██▌       | 18/70 [50:10<3:18:34, 229.13s/it]"
     ]
    },
    {
     "name": "stdout",
     "output_type": "stream",
     "text": [
      "Can't get image's sizes\n",
      "Couldn't get title from article.\n",
      "Couldn't get title from article.\n",
      "Can't go to the followers info\n",
      "Couldn't get reading time from article.\n",
      "Couldn't get date from article.\n",
      "Can't get responses information\n",
      "Couldn't get YouTube videos.\n",
      "Can't get claps information\n",
      "title filled by initial data\n",
      "claps filled by initial data\n",
      "responses filled by initial data\n",
      "reading_time filled by initial data\n",
      "publication filled by initial data\n",
      "date filled by initial data\n",
      "Can't get image's sizes\n",
      "Couldn't get title from article.\n",
      "Couldn't get title from article.\n",
      "Can't go to the followers info\n",
      "Couldn't get reading time from article.\n",
      "Couldn't get date from article.\n",
      "Can't get responses information\n",
      "Couldn't get YouTube videos.\n",
      "Can't get claps information\n",
      "title filled by initial data\n",
      "claps filled by initial data\n",
      "responses filled by initial data\n",
      "reading_time filled by initial data\n",
      "publication filled by initial data\n",
      "date filled by initial data\n",
      "Can't get responses information\n",
      "Can't get claps information\n",
      "claps filled by initial data\n",
      "responses filled by initial data\n",
      "Can't get claps information\n",
      "claps filled by initial data\n",
      "Can't get responses information\n",
      "Can't get claps information\n",
      "claps filled by initial data\n",
      "responses filled by initial data\n",
      "Can't get claps information\n",
      "claps filled by initial data\n",
      "Can't get responses information\n",
      "Can't get claps information\n",
      "claps filled by initial data\n",
      "responses filled by initial data\n",
      "Can't get claps information\n",
      "claps filled by initial data\n",
      "Can't get responses information\n",
      "Can't get claps information\n",
      "claps filled by initial data\n",
      "responses filled by initial data\n",
      "Can't get responses information\n",
      "Can't get claps information\n",
      "claps filled by initial data\n",
      "responses filled by initial data\n",
      "Can't get responses information\n",
      "Can't get claps information\n",
      "claps filled by initial data\n",
      "responses filled by initial data\n",
      "Can't get responses information\n",
      "Can't get claps information\n",
      "claps filled by initial data\n",
      "responses filled by initial data\n",
      "Can't get claps information\n",
      "claps filled by initial data\n"
     ]
    },
    {
     "name": "stderr",
     "output_type": "stream",
     "text": [
      " 27%|██▋       | 19/70 [51:49<2:41:22, 189.86s/it]"
     ]
    },
    {
     "name": "stdout",
     "output_type": "stream",
     "text": [
      "Can't get claps information\n",
      "claps filled by initial data\n",
      "Can't get responses information\n",
      "Can't get claps information\n",
      "claps filled by initial data\n",
      "responses filled by initial data\n",
      "Can't get claps information\n",
      "claps filled by initial data\n",
      "Can't get responses information\n",
      "responses filled by initial data\n",
      "Can't get responses information\n",
      "Can't get claps information\n",
      "claps filled by initial data\n",
      "responses filled by initial data\n",
      "Can't get responses information\n",
      "responses filled by initial data\n",
      "Can't get responses information\n",
      "responses filled by initial data\n"
     ]
    },
    {
     "name": "stderr",
     "output_type": "stream",
     "text": [
      " 29%|██▊       | 20/70 [1:00:18<3:58:03, 285.68s/it]"
     ]
    },
    {
     "name": "stdout",
     "output_type": "stream",
     "text": [
      "Can't get image's sizes\n",
      "Couldn't get title from article.\n",
      "Couldn't get title from article.\n",
      "Can't go to the followers info\n",
      "Couldn't get reading time from article.\n",
      "Couldn't get date from article.\n",
      "Can't get responses information\n",
      "Couldn't get YouTube videos.\n",
      "Can't get claps information\n",
      "title filled by initial data\n",
      "claps filled by initial data\n",
      "responses filled by initial data\n",
      "reading_time filled by initial data\n",
      "publication filled by initial data\n",
      "date filled by initial data\n",
      "Can't get image's sizes\n",
      "Couldn't get title from article.\n",
      "Couldn't get title from article.\n",
      "Can't go to the followers info\n",
      "Couldn't get reading time from article.\n",
      "Couldn't get date from article.\n",
      "Can't get responses information\n",
      "Couldn't get YouTube videos.\n",
      "Can't get claps information\n",
      "title filled by initial data\n",
      "claps filled by initial data\n",
      "responses filled by initial data\n",
      "reading_time filled by initial data\n",
      "publication filled by initial data\n",
      "date filled by initial data\n",
      "Can't get responses information\n",
      "responses filled by initial data\n",
      "Can't get responses information\n",
      "responses filled by initial data\n",
      "Can't get responses information\n",
      "responses filled by initial data\n",
      "Can't get responses information\n",
      "Can't get claps information\n",
      "claps filled by initial data\n",
      "responses filled by initial data\n",
      "Can't get responses information\n",
      "responses filled by initial data\n",
      "publication filled by initial data\n"
     ]
    },
    {
     "name": "stderr",
     "output_type": "stream",
     "text": [
      " 30%|███       | 21/70 [1:02:53<3:21:18, 246.50s/it]"
     ]
    },
    {
     "name": "stdout",
     "output_type": "stream",
     "text": [
      "Can't get responses information\n",
      "responses filled by initial data\n",
      "Can't get image's sizes\n",
      "Couldn't get title from article.\n",
      "Couldn't get title from article.\n",
      "Can't go to the followers info\n",
      "Couldn't get reading time from article.\n",
      "Couldn't get date from article.\n",
      "Can't get responses information\n",
      "Couldn't get YouTube videos.\n",
      "Can't get claps information\n",
      "title filled by initial data\n",
      "claps filled by initial data\n",
      "responses filled by initial data\n",
      "reading_time filled by initial data\n",
      "publication filled by initial data\n",
      "date filled by initial data\n",
      "Can't get responses information\n",
      "responses filled by initial data\n",
      "Can't get responses information\n",
      "responses filled by initial data\n",
      "Can't get responses information\n",
      "Can't get claps information\n",
      "claps filled by initial data\n",
      "responses filled by initial data\n",
      "Can't get claps information\n",
      "claps filled by initial data\n",
      "Can't get claps information\n",
      "claps filled by initial data\n",
      "Can't get responses information\n",
      "responses filled by initial data\n",
      "Can't get responses information\n",
      "responses filled by initial data\n"
     ]
    },
    {
     "name": "stderr",
     "output_type": "stream",
     "text": [
      " 31%|███▏      | 22/70 [1:05:34<2:56:37, 220.78s/it]"
     ]
    },
    {
     "name": "stdout",
     "output_type": "stream",
     "text": [
      "Can't get image's sizes\n",
      "Can't get responses information\n",
      "responses filled by initial data\n",
      "Can't get responses information\n",
      "responses filled by initial data\n",
      "Can't get responses information\n",
      "responses filled by initial data\n",
      "Can't get claps information\n",
      "claps filled by initial data\n",
      "Can't get responses information\n",
      "Can't get claps information\n",
      "claps filled by initial data\n",
      "responses filled by initial data\n",
      "Can't get responses information\n",
      "responses filled by initial data\n",
      "Can't get responses information\n",
      "responses filled by initial data\n",
      "Can't get claps information\n",
      "claps filled by initial data\n",
      "Can't get responses information\n",
      "Can't get claps information\n",
      "claps filled by initial data\n",
      "responses filled by initial data\n",
      "Can't get claps information\n",
      "claps filled by initial data\n",
      "Can't get responses information\n",
      "responses filled by initial data\n",
      "Can't get responses information\n",
      "responses filled by initial data\n"
     ]
    },
    {
     "name": "stderr",
     "output_type": "stream",
     "text": [
      " 33%|███▎      | 23/70 [1:06:59<2:21:10, 180.23s/it]"
     ]
    },
    {
     "name": "stdout",
     "output_type": "stream",
     "text": [
      "Can't get responses information\n",
      "responses filled by initial data\n",
      "Can't get responses information\n",
      "Can't get claps information\n",
      "claps filled by initial data\n",
      "responses filled by initial data\n",
      "Can't get claps information\n",
      "claps filled by initial data\n",
      "Can't get claps information\n",
      "claps filled by initial data\n",
      "Can't get claps information\n",
      "claps filled by initial data\n",
      "Can't get responses information\n",
      "Can't get claps information\n",
      "claps filled by initial data\n",
      "responses filled by initial data\n",
      "Can't get responses information\n",
      "Can't get claps information\n",
      "claps filled by initial data\n",
      "responses filled by initial data\n",
      "Can't get responses information\n",
      "Can't get claps information\n",
      "claps filled by initial data\n",
      "responses filled by initial data\n",
      "Can't get responses information\n",
      "Can't get claps information\n",
      "claps filled by initial data\n",
      "responses filled by initial data\n",
      "Can't get responses information\n",
      "Can't get claps information\n",
      "claps filled by initial data\n",
      "responses filled by initial data\n",
      "Can't get responses information\n",
      "Can't get claps information\n",
      "claps filled by initial data\n",
      "responses filled by initial data\n",
      "Can't get responses information\n",
      "Can't get claps information\n",
      "claps filled by initial data\n",
      "responses filled by initial data\n",
      "Can't get responses information\n",
      "Can't get claps information\n",
      "claps filled by initial data\n",
      "responses filled by initial data\n"
     ]
    },
    {
     "name": "stderr",
     "output_type": "stream",
     "text": [
      " 34%|███▍      | 24/70 [1:08:43<2:00:31, 157.20s/it]"
     ]
    },
    {
     "name": "stdout",
     "output_type": "stream",
     "text": [
      "Can't get image's sizes\n",
      "Couldn't get title from article.\n",
      "Couldn't get title from article.\n",
      "Can't go to the followers info\n",
      "Couldn't get reading time from article.\n",
      "Couldn't get date from article.\n",
      "Can't get responses information\n",
      "Couldn't get YouTube videos.\n",
      "Can't get claps information\n",
      "title filled by initial data\n",
      "claps filled by initial data\n",
      "responses filled by initial data\n",
      "reading_time filled by initial data\n",
      "publication filled by initial data\n",
      "date filled by initial data\n",
      "Can't get claps information\n",
      "claps filled by initial data\n",
      "Can't get claps information\n",
      "claps filled by initial data\n",
      "Can't get claps information\n",
      "claps filled by initial data\n",
      "Can't get claps information\n",
      "claps filled by initial data\n",
      "Can't get claps information\n",
      "claps filled by initial data\n",
      "Can't get responses information\n",
      "Can't get claps information\n",
      "claps filled by initial data\n",
      "responses filled by initial data\n",
      "Can't get claps information\n",
      "claps filled by initial data\n",
      "publication filled by initial data\n",
      "Can't get claps information\n",
      "claps filled by initial data\n",
      "Can't get claps information\n",
      "claps filled by initial data\n"
     ]
    },
    {
     "name": "stderr",
     "output_type": "stream",
     "text": [
      " 36%|███▌      | 25/70 [1:11:50<2:04:41, 166.25s/it]"
     ]
    },
    {
     "name": "stdout",
     "output_type": "stream",
     "text": [
      "Can't get responses information\n",
      "Can't get claps information\n",
      "claps filled by initial data\n",
      "responses filled by initial data\n",
      "Can't get claps information\n",
      "claps filled by initial data\n",
      "Can't get responses information\n",
      "Can't get claps information\n",
      "claps filled by initial data\n",
      "responses filled by initial data\n",
      "Can't get responses information\n",
      "Can't get claps information\n",
      "claps filled by initial data\n",
      "responses filled by initial data\n",
      "Can't get responses information\n",
      "Can't get claps information\n",
      "claps filled by initial data\n",
      "responses filled by initial data\n",
      "Can't get responses information\n",
      "Can't get claps information\n",
      "claps filled by initial data\n",
      "responses filled by initial data\n",
      "Can't get responses information\n",
      "Can't get claps information\n",
      "claps filled by initial data\n",
      "responses filled by initial data\n",
      "Can't get responses information\n",
      "Can't get claps information\n",
      "claps filled by initial data\n",
      "responses filled by initial data\n",
      "Can't get claps information\n",
      "claps filled by initial data\n",
      "Can't get responses information\n",
      "Can't get claps information\n",
      "claps filled by initial data\n",
      "responses filled by initial data\n",
      "Can't get claps information\n",
      "claps filled by initial data\n",
      "Can't get responses information\n",
      "responses filled by initial data\n"
     ]
    },
    {
     "name": "stderr",
     "output_type": "stream",
     "text": [
      " 37%|███▋      | 26/70 [1:14:25<1:59:23, 162.80s/it]"
     ]
    },
    {
     "name": "stdout",
     "output_type": "stream",
     "text": [
      "Can't get image's sizes\n",
      "Couldn't get title from article.\n",
      "Couldn't get title from article.\n",
      "Can't go to the followers info\n",
      "Couldn't get reading time from article.\n",
      "Couldn't get date from article.\n",
      "Can't get responses information\n",
      "Couldn't get YouTube videos.\n",
      "Can't get claps information\n",
      "title filled by initial data\n",
      "claps filled by initial data\n",
      "responses filled by initial data\n",
      "reading_time filled by initial data\n",
      "publication filled by initial data\n",
      "date filled by initial data\n",
      "Can't get responses information\n",
      "Can't get claps information\n",
      "claps filled by initial data\n",
      "responses filled by initial data\n",
      "Can't get responses information\n",
      "Can't get claps information\n",
      "claps filled by initial data\n",
      "responses filled by initial data\n",
      "Can't get claps information\n",
      "claps filled by initial data\n",
      "Can't get claps information\n",
      "claps filled by initial data\n",
      "Can't get claps information\n",
      "claps filled by initial data\n",
      "Can't get responses information\n",
      "responses filled by initial data\n",
      "Can't get responses information\n",
      "Can't get claps information\n",
      "claps filled by initial data\n",
      "responses filled by initial data\n",
      "Can't get responses information\n",
      "responses filled by initial data\n"
     ]
    },
    {
     "name": "stderr",
     "output_type": "stream",
     "text": [
      " 39%|███▊      | 27/70 [1:56:07<10:19:38, 864.63s/it]"
     ]
    },
    {
     "name": "stdout",
     "output_type": "stream",
     "text": [
      "Can't get image's sizes\n",
      "Couldn't get title from article.\n",
      "Couldn't get title from article.\n",
      "Can't go to the followers info\n",
      "Couldn't get reading time from article.\n",
      "Couldn't get date from article.\n",
      "Can't get responses information\n",
      "Couldn't get YouTube videos.\n",
      "Can't get claps information\n",
      "title filled by initial data\n",
      "claps filled by initial data\n",
      "responses filled by initial data\n",
      "reading_time filled by initial data\n",
      "publication filled by initial data\n",
      "date filled by initial data\n",
      "Can't get image's sizes\n",
      "Can't get responses information\n",
      "responses filled by initial data\n",
      "Can't get image's sizes\n",
      "Can't get image's sizes\n",
      "Can't get responses information\n",
      "responses filled by initial data\n",
      "Can't get image's sizes\n",
      "Couldn't get title from article.\n",
      "Couldn't get title from article.\n",
      "Can't go to the followers info\n",
      "Couldn't get reading time from article.\n",
      "Couldn't get date from article.\n",
      "Can't get responses information\n",
      "Couldn't get YouTube videos.\n",
      "Can't get claps information\n",
      "title filled by initial data\n",
      "claps filled by initial data\n",
      "responses filled by initial data\n",
      "reading_time filled by initial data\n",
      "publication filled by initial data\n",
      "date filled by initial data\n",
      "Can't get claps information\n",
      "claps filled by initial data\n",
      "Can't get responses information\n",
      "Can't get claps information\n",
      "claps filled by initial data\n",
      "responses filled by initial data\n",
      "Can't get claps information\n",
      "claps filled by initial data\n",
      "Can't get responses information\n",
      "responses filled by initial data\n"
     ]
    },
    {
     "name": "stderr",
     "output_type": "stream",
     "text": [
      " 40%|████      | 28/70 [1:57:42<7:23:40, 633.81s/it] "
     ]
    },
    {
     "name": "stdout",
     "output_type": "stream",
     "text": [
      "Can't get image's sizes\n",
      "Can't get responses information\n",
      "Can't get claps information\n",
      "claps filled by initial data\n",
      "responses filled by initial data\n",
      "Can't get responses information\n",
      "Can't get claps information\n",
      "claps filled by initial data\n",
      "responses filled by initial data\n",
      "Can't get responses information\n",
      "responses filled by initial data\n",
      "Can't get responses information\n",
      "Can't get claps information\n",
      "claps filled by initial data\n",
      "responses filled by initial data\n",
      "Can't get responses information\n",
      "Can't get claps information\n",
      "claps filled by initial data\n",
      "responses filled by initial data\n",
      "Can't get responses information\n",
      "Can't get claps information\n",
      "claps filled by initial data\n",
      "responses filled by initial data\n",
      "Can't get responses information\n",
      "responses filled by initial data\n",
      "Can't get responses information\n",
      "Can't get claps information\n",
      "claps filled by initial data\n",
      "responses filled by initial data\n",
      "Can't get responses information\n",
      "responses filled by initial data\n"
     ]
    },
    {
     "name": "stderr",
     "output_type": "stream",
     "text": [
      " 41%|████▏     | 29/70 [1:59:15<5:22:08, 471.42s/it]"
     ]
    },
    {
     "name": "stdout",
     "output_type": "stream",
     "text": [
      "Can't get image's sizes\n",
      "Can't get responses information\n",
      "Can't get claps information\n",
      "claps filled by initial data\n",
      "responses filled by initial data\n",
      "Can't get claps information\n",
      "claps filled by initial data\n",
      "Can't get claps information\n",
      "claps filled by initial data\n",
      "Can't get responses information\n",
      "Can't get claps information\n",
      "claps filled by initial data\n",
      "responses filled by initial data\n",
      "Can't get responses information\n",
      "Can't get claps information\n",
      "claps filled by initial data\n",
      "responses filled by initial data\n",
      "Can't get claps information\n",
      "claps filled by initial data\n",
      "Can't get responses information\n",
      "responses filled by initial data\n",
      "Can't get responses information\n",
      "Can't get claps information\n",
      "claps filled by initial data\n",
      "responses filled by initial data\n",
      "Can't get responses information\n",
      "responses filled by initial data\n",
      "Can't get responses information\n",
      "responses filled by initial data\n"
     ]
    },
    {
     "name": "stderr",
     "output_type": "stream",
     "text": [
      " 43%|████▎     | 30/70 [2:00:20<3:52:57, 349.45s/it]"
     ]
    },
    {
     "name": "stdout",
     "output_type": "stream",
     "text": [
      "Can't get image's sizes\n",
      "Couldn't get title from article.\n",
      "Couldn't get title from article.\n",
      "Can't go to the followers info\n",
      "Couldn't get reading time from article.\n",
      "Couldn't get date from article.\n",
      "Can't get responses information\n",
      "Couldn't get YouTube videos.\n",
      "Can't get claps information\n",
      "title filled by initial data\n",
      "claps filled by initial data\n",
      "responses filled by initial data\n",
      "reading_time filled by initial data\n",
      "publication filled by initial data\n",
      "date filled by initial data\n",
      "Can't get image's sizes\n",
      "Couldn't get title from article.\n",
      "Couldn't get title from article.\n",
      "Can't go to the followers info\n",
      "Couldn't get reading time from article.\n",
      "Couldn't get date from article.\n",
      "Can't get responses information\n",
      "Couldn't get YouTube videos.\n",
      "Can't get claps information\n",
      "title filled by initial data\n",
      "claps filled by initial data\n",
      "responses filled by initial data\n",
      "reading_time filled by initial data\n",
      "publication filled by initial data\n",
      "date filled by initial data\n",
      "Can't get responses information\n",
      "Can't get claps information\n",
      "claps filled by initial data\n",
      "responses filled by initial data\n",
      "Can't get responses information\n",
      "responses filled by initial data\n",
      "Can't get responses information\n",
      "responses filled by initial data\n",
      "Can't get responses information\n",
      "responses filled by initial data\n",
      "Can't get claps information\n",
      "claps filled by initial data\n",
      "Can't get responses information\n",
      "responses filled by initial data\n",
      "Can't get responses information\n",
      "responses filled by initial data\n",
      "publication filled by initial data\n",
      "Can't get responses information\n",
      "responses filled by initial data\n",
      "Can't get claps information\n",
      "claps filled by initial data\n"
     ]
    },
    {
     "name": "stderr",
     "output_type": "stream",
     "text": [
      " 44%|████▍     | 31/70 [2:01:22<2:51:05, 263.21s/it]"
     ]
    },
    {
     "name": "stdout",
     "output_type": "stream",
     "text": [
      "Can't get responses information\n",
      "responses filled by initial data\n",
      "Can't get responses information\n",
      "responses filled by initial data\n",
      "Can't get responses information\n",
      "Can't get claps information\n",
      "claps filled by initial data\n",
      "responses filled by initial data\n",
      "Can't get responses information\n",
      "Can't get claps information\n",
      "claps filled by initial data\n",
      "responses filled by initial data\n",
      "Can't get responses information\n",
      "Can't get claps information\n",
      "claps filled by initial data\n",
      "responses filled by initial data\n",
      "Can't get responses information\n",
      "responses filled by initial data\n",
      "Can't get responses information\n",
      "responses filled by initial data\n",
      "Can't get responses information\n",
      "responses filled by initial data\n",
      "Can't get responses information\n",
      "responses filled by initial data\n",
      "Can't get responses information\n",
      "responses filled by initial data\n",
      "Can't get responses information\n",
      "responses filled by initial data\n",
      "Can't get responses information\n",
      "Can't get claps information\n",
      "claps filled by initial data\n",
      "responses filled by initial data\n"
     ]
    },
    {
     "name": "stderr",
     "output_type": "stream",
     "text": [
      " 46%|████▌     | 32/70 [2:05:04<2:38:50, 250.81s/it]"
     ]
    },
    {
     "name": "stdout",
     "output_type": "stream",
     "text": [
      "Can't get responses information\n",
      "responses filled by initial data\n",
      "Can't get image's sizes\n",
      "Can't get responses information\n",
      "responses filled by initial data\n",
      "Can't get responses information\n",
      "responses filled by initial data\n",
      "Can't get responses information\n",
      "responses filled by initial data\n",
      "Can't get claps information\n",
      "claps filled by initial data\n",
      "Can't get claps information\n",
      "claps filled by initial data\n",
      "Can't get responses information\n",
      "Can't get claps information\n",
      "claps filled by initial data\n",
      "responses filled by initial data\n",
      "Can't get claps information\n",
      "claps filled by initial data\n",
      "Can't get claps information\n",
      "claps filled by initial data\n",
      "Can't get responses information\n",
      "responses filled by initial data\n",
      "Can't get responses information\n",
      "responses filled by initial data\n",
      "Can't get responses information\n",
      "responses filled by initial data\n"
     ]
    },
    {
     "name": "stderr",
     "output_type": "stream",
     "text": [
      " 47%|████▋     | 33/70 [2:05:50<1:56:50, 189.46s/it]"
     ]
    },
    {
     "name": "stdout",
     "output_type": "stream",
     "text": [
      "Can't get image's sizes\n",
      "Couldn't get title from article.\n",
      "Couldn't get title from article.\n",
      "Can't go to the followers info\n",
      "Couldn't get reading time from article.\n",
      "Couldn't get date from article.\n",
      "Can't get responses information\n",
      "Couldn't get YouTube videos.\n",
      "Can't get claps information\n",
      "title filled by initial data\n",
      "claps filled by initial data\n",
      "responses filled by initial data\n",
      "reading_time filled by initial data\n",
      "publication filled by initial data\n",
      "date filled by initial data\n",
      "Can't get image's sizes\n",
      "Couldn't get title from article.\n",
      "Couldn't get title from article.\n",
      "Can't go to the followers info\n",
      "Couldn't get reading time from article.\n",
      "Couldn't get date from article.\n",
      "Can't get responses information\n",
      "Couldn't get YouTube videos.\n",
      "Can't get claps information\n",
      "title filled by initial data\n",
      "claps filled by initial data\n",
      "responses filled by initial data\n",
      "reading_time filled by initial data\n",
      "publication filled by initial data\n",
      "date filled by initial data\n",
      "Can't get responses information\n",
      "Can't get claps information\n",
      "claps filled by initial data\n",
      "responses filled by initial data\n",
      "Can't get image's sizes\n",
      "Can't get responses information\n",
      "Can't get claps information\n",
      "claps filled by initial data\n",
      "responses filled by initial data\n",
      "Can't get responses information\n",
      "Can't get claps information\n",
      "claps filled by initial data\n",
      "responses filled by initial data\n",
      "Can't get claps information\n",
      "claps filled by initial data\n",
      "publication filled by initial data\n",
      "Can't get claps information\n",
      "claps filled by initial data\n",
      "Can't get responses information\n",
      "responses filled by initial data\n",
      "Can't get responses information\n",
      "responses filled by initial data\n",
      "publication filled by initial data\n"
     ]
    },
    {
     "name": "stderr",
     "output_type": "stream",
     "text": [
      " 49%|████▊     | 34/70 [2:06:42<1:29:00, 148.34s/it]"
     ]
    },
    {
     "name": "stdout",
     "output_type": "stream",
     "text": [
      "Can't get image's sizes\n",
      "Couldn't get title from article.\n",
      "Couldn't get title from article.\n",
      "Can't go to the followers info\n",
      "Couldn't get reading time from article.\n",
      "Couldn't get date from article.\n",
      "Can't get responses information\n",
      "Couldn't get YouTube videos.\n",
      "Can't get claps information\n",
      "title filled by initial data\n",
      "claps filled by initial data\n",
      "responses filled by initial data\n",
      "reading_time filled by initial data\n",
      "publication filled by initial data\n",
      "date filled by initial data\n",
      "Can't get image's sizes\n",
      "Couldn't get title from article.\n",
      "Couldn't get title from article.\n",
      "Can't go to the followers info\n",
      "Couldn't get reading time from article.\n",
      "Couldn't get date from article.\n",
      "Can't get responses information\n",
      "Couldn't get YouTube videos.\n",
      "Can't get claps information\n",
      "title filled by initial data\n",
      "claps filled by initial data\n",
      "responses filled by initial data\n",
      "reading_time filled by initial data\n",
      "publication filled by initial data\n",
      "date filled by initial data\n",
      "Can't get image's sizes\n",
      "Couldn't get title from article.\n",
      "Couldn't get title from article.\n",
      "Can't go to the followers info\n",
      "Couldn't get reading time from article.\n",
      "Couldn't get date from article.\n",
      "Can't get responses information\n",
      "Couldn't get YouTube videos.\n",
      "Can't get claps information\n",
      "title filled by initial data\n",
      "claps filled by initial data\n",
      "responses filled by initial data\n",
      "reading_time filled by initial data\n",
      "publication filled by initial data\n",
      "date filled by initial data\n",
      "Can't get image's sizes\n",
      "Couldn't get title from article.\n",
      "Couldn't get title from article.\n",
      "Can't go to the followers info\n",
      "Couldn't get reading time from article.\n",
      "Couldn't get date from article.\n",
      "Can't get responses information\n",
      "Couldn't get YouTube videos.\n",
      "Can't get claps information\n",
      "title filled by initial data\n",
      "claps filled by initial data\n",
      "responses filled by initial data\n",
      "reading_time filled by initial data\n",
      "publication filled by initial data\n",
      "date filled by initial data\n",
      "Can't get claps information\n",
      "claps filled by initial data\n",
      "Can't get responses information\n",
      "Can't get claps information\n",
      "claps filled by initial data\n",
      "responses filled by initial data\n",
      "Can't get responses information\n",
      "Can't get claps information\n",
      "claps filled by initial data\n",
      "responses filled by initial data\n",
      "Can't get responses information\n",
      "Can't get claps information\n",
      "claps filled by initial data\n",
      "responses filled by initial data\n",
      "Can't get claps information\n",
      "claps filled by initial data\n",
      "Can't get responses information\n",
      "Can't get claps information\n",
      "claps filled by initial data\n",
      "responses filled by initial data\n",
      "Can't get responses information\n",
      "Can't get claps information\n",
      "claps filled by initial data\n",
      "responses filled by initial data\n",
      "Can't get responses information\n",
      "Can't get claps information\n",
      "claps filled by initial data\n",
      "responses filled by initial data\n",
      "Can't get responses information\n",
      "Can't get claps information\n",
      "claps filled by initial data\n",
      "responses filled by initial data\n"
     ]
    },
    {
     "name": "stderr",
     "output_type": "stream",
     "text": [
      " 50%|█████     | 35/70 [2:08:26<1:18:37, 134.78s/it]"
     ]
    },
    {
     "name": "stdout",
     "output_type": "stream",
     "text": [
      "Can't get image's sizes\n",
      "Couldn't get title from article.\n",
      "Couldn't get title from article.\n",
      "Can't go to the followers info\n",
      "Couldn't get reading time from article.\n",
      "Couldn't get date from article.\n",
      "Can't get responses information\n",
      "Couldn't get YouTube videos.\n",
      "Can't get claps information\n",
      "title filled by initial data\n",
      "claps filled by initial data\n",
      "responses filled by initial data\n",
      "reading_time filled by initial data\n",
      "publication filled by initial data\n",
      "date filled by initial data\n",
      "Can't get responses information\n",
      "Can't get claps information\n",
      "claps filled by initial data\n",
      "responses filled by initial data\n",
      "Can't get claps information\n",
      "claps filled by initial data\n",
      "Can't get responses information\n",
      "Can't get claps information\n",
      "claps filled by initial data\n",
      "responses filled by initial data\n",
      "Can't get responses information\n",
      "Can't get claps information\n",
      "claps filled by initial data\n",
      "responses filled by initial data\n",
      "Can't get responses information\n",
      "Can't get claps information\n",
      "claps filled by initial data\n",
      "responses filled by initial data\n",
      "Can't get claps information\n",
      "claps filled by initial data\n",
      "Can't get claps information\n",
      "claps filled by initial data\n",
      "Can't get responses information\n",
      "responses filled by initial data\n",
      "Can't get claps information\n",
      "claps filled by initial data\n",
      "Can't get responses information\n",
      "Can't get claps information\n",
      "claps filled by initial data\n",
      "responses filled by initial data\n",
      "Can't get claps information\n",
      "claps filled by initial data\n",
      "Can't get claps information\n",
      "claps filled by initial data\n"
     ]
    },
    {
     "name": "stderr",
     "output_type": "stream",
     "text": [
      " 51%|█████▏    | 36/70 [2:09:13<1:01:36, 108.73s/it]"
     ]
    },
    {
     "name": "stdout",
     "output_type": "stream",
     "text": [
      "Can't get claps information\n",
      "claps filled by initial data\n",
      "Can't get claps information\n",
      "claps filled by initial data\n",
      "Can't get responses information\n",
      "Can't get claps information\n",
      "claps filled by initial data\n",
      "responses filled by initial data\n",
      "Can't get claps information\n",
      "claps filled by initial data\n",
      "Can't get claps information\n",
      "claps filled by initial data\n",
      "Can't get claps information\n",
      "claps filled by initial data\n",
      "Can't get responses information\n",
      "Can't get claps information\n",
      "claps filled by initial data\n",
      "responses filled by initial data\n"
     ]
    },
    {
     "name": "stderr",
     "output_type": "stream",
     "text": [
      " 53%|█████▎    | 37/70 [2:11:10<1:01:07, 111.13s/it]"
     ]
    },
    {
     "name": "stdout",
     "output_type": "stream",
     "text": [
      "Can't get claps information\n",
      "claps filled by initial data\n",
      "Can't get claps information\n",
      "claps filled by initial data\n",
      "Can't get claps information\n",
      "claps filled by initial data\n",
      "Can't get claps information\n",
      "claps filled by initial data\n",
      "Can't get claps information\n",
      "claps filled by initial data\n",
      "Can't get claps information\n",
      "claps filled by initial data\n",
      "Can't get responses information\n",
      "Can't get claps information\n",
      "claps filled by initial data\n",
      "responses filled by initial data\n",
      "Can't get claps information\n",
      "claps filled by initial data\n",
      "Can't get claps information\n",
      "claps filled by initial data\n",
      "Can't get responses information\n",
      "Can't get claps information\n",
      "claps filled by initial data\n",
      "responses filled by initial data\n",
      "Can't get claps information\n",
      "claps filled by initial data\n",
      "Can't get claps information\n",
      "claps filled by initial data\n"
     ]
    },
    {
     "name": "stderr",
     "output_type": "stream",
     "text": [
      " 54%|█████▍    | 38/70 [2:12:37<55:22, 103.82s/it]  "
     ]
    },
    {
     "name": "stdout",
     "output_type": "stream",
     "text": [
      "Can't get image's sizes\n",
      "Can't get responses information\n",
      "Can't get claps information\n",
      "claps filled by initial data\n",
      "responses filled by initial data\n",
      "Can't get responses information\n",
      "Can't get claps information\n",
      "claps filled by initial data\n",
      "responses filled by initial data\n",
      "Can't get responses information\n",
      "Can't get claps information\n",
      "claps filled by initial data\n",
      "responses filled by initial data\n",
      "Can't get claps information\n",
      "claps filled by initial data\n",
      "Can't get responses information\n",
      "responses filled by initial data\n",
      "Can't get responses information\n",
      "Can't get claps information\n",
      "claps filled by initial data\n",
      "responses filled by initial data\n",
      "Can't get responses information\n",
      "Can't get claps information\n",
      "claps filled by initial data\n",
      "responses filled by initial data\n",
      "Can't get responses information\n",
      "Can't get claps information\n",
      "claps filled by initial data\n",
      "responses filled by initial data\n",
      "Can't get responses information\n",
      "Can't get claps information\n",
      "claps filled by initial data\n",
      "responses filled by initial data\n",
      "Can't get responses information\n",
      "Can't get claps information\n",
      "claps filled by initial data\n",
      "responses filled by initial data\n",
      "Can't get responses information\n",
      "responses filled by initial data\n",
      "Can't get responses information\n",
      "responses filled by initial data\n",
      "Can't get responses information\n",
      "responses filled by initial data\n",
      "Can't get claps information\n",
      "claps filled by initial data\n"
     ]
    },
    {
     "name": "stderr",
     "output_type": "stream",
     "text": [
      " 56%|█████▌    | 39/70 [2:15:19<1:02:37, 121.22s/it]"
     ]
    },
    {
     "name": "stdout",
     "output_type": "stream",
     "text": [
      "Can't get claps information\n",
      "claps filled by initial data\n",
      "Can't get claps information\n",
      "claps filled by initial data\n",
      "Can't get responses information\n",
      "responses filled by initial data\n",
      "Can't get claps information\n",
      "claps filled by initial data\n",
      "Can't get responses information\n",
      "responses filled by initial data\n",
      "Can't get responses information\n",
      "Can't get claps information\n",
      "claps filled by initial data\n",
      "responses filled by initial data\n",
      "Can't get responses information\n",
      "responses filled by initial data\n",
      "Can't get responses information\n",
      "responses filled by initial data\n"
     ]
    },
    {
     "name": "stderr",
     "output_type": "stream",
     "text": [
      " 57%|█████▋    | 40/70 [2:16:48<55:49, 111.65s/it]  "
     ]
    },
    {
     "name": "stdout",
     "output_type": "stream",
     "text": [
      "Can't get claps information\n",
      "claps filled by initial data\n",
      "Can't get claps information\n",
      "claps filled by initial data\n",
      "Can't get responses information\n",
      "responses filled by initial data\n",
      "Can't get responses information\n",
      "Can't get claps information\n",
      "claps filled by initial data\n",
      "responses filled by initial data\n",
      "Can't get claps information\n",
      "claps filled by initial data\n",
      "Can't get responses information\n",
      "responses filled by initial data\n",
      "Can't get responses information\n",
      "responses filled by initial data\n",
      "publication filled by initial data\n",
      "Can't get responses informationCan't get responses information\n",
      "responses filled by initial data\n",
      "\n",
      "responses filled by initial data\n"
     ]
    },
    {
     "name": "stderr",
     "output_type": "stream",
     "text": [
      " 59%|█████▊    | 41/70 [2:17:36<44:42, 92.50s/it] "
     ]
    },
    {
     "name": "stdout",
     "output_type": "stream",
     "text": [
      "Can't get responses information\n",
      "responses filled by initial data\n",
      "Can't get image's sizes\n",
      "Can't get responses information\n",
      "Can't get claps information\n",
      "claps filled by initial data\n",
      "responses filled by initial data\n",
      "Can't get responses information\n",
      "responses filled by initial data\n",
      "Can't get responses information\n",
      "responses filled by initial data\n",
      "Can't get responses information\n",
      "responses filled by initial data\n",
      "Can't get claps information\n",
      "claps filled by initial data\n",
      "Can't get responses information\n",
      "responses filled by initial data\n",
      "Can't get responses information\n",
      "responses filled by initial data\n",
      "Can't get responses information\n",
      "responses filled by initial data\n"
     ]
    },
    {
     "name": "stderr",
     "output_type": "stream",
     "text": [
      " 60%|██████    | 42/70 [2:18:37<38:42, 82.94s/it]"
     ]
    },
    {
     "name": "stdout",
     "output_type": "stream",
     "text": [
      "Can't get responses information\n",
      "responses filled by initial data\n",
      "Can't get image's sizes\n",
      "Couldn't get title from article.\n",
      "Couldn't get title from article.\n",
      "Can't go to the followers info\n",
      "Couldn't get reading time from article.\n",
      "Couldn't get date from article.\n",
      "Can't get responses information\n",
      "Couldn't get YouTube videos.\n",
      "Can't get claps information\n",
      "title filled by initial data\n",
      "claps filled by initial data\n",
      "responses filled by initial data\n",
      "reading_time filled by initial data\n",
      "publication filled by initial data\n",
      "date filled by initial data\n",
      "Can't get responses information\n",
      "responses filled by initial data\n",
      "Can't get responses information\n",
      "responses filled by initial data\n",
      "Can't get responses information\n",
      "responses filled by initial data\n",
      "Can't get responses information\n",
      "responses filled by initial data\n",
      "Can't get responses information\n",
      "responses filled by initial data\n",
      "Can't get responses information\n",
      "responses filled by initial data\n"
     ]
    },
    {
     "name": "stderr",
     "output_type": "stream",
     "text": [
      " 61%|██████▏   | 43/70 [2:19:29<33:15, 73.91s/it]"
     ]
    },
    {
     "name": "stdout",
     "output_type": "stream",
     "text": [
      "Can't get image's sizes\n",
      "Can't get claps information\n",
      "claps filled by initial data\n",
      "Can't get responses information\n",
      "Can't get claps information\n",
      "claps filled by initial data\n",
      "responses filled by initial data\n",
      "Can't get responses information\n",
      "responses filled by initial data\n",
      "Can't get responses information\n",
      "responses filled by initial data\n",
      "Can't get responses information\n",
      "responses filled by initial data\n",
      "Can't get responses information\n",
      "Can't get claps information\n",
      "claps filled by initial data\n",
      "responses filled by initial data\n",
      "Can't get claps information\n",
      "claps filled by initial data\n",
      "Can't get responses information\n",
      "responses filled by initial data\n",
      "Can't get responses information\n",
      "responses filled by initial data\n",
      "Can't get responses information\n",
      "responses filled by initial data\n"
     ]
    },
    {
     "name": "stderr",
     "output_type": "stream",
     "text": [
      " 63%|██████▎   | 44/70 [2:20:32<30:35, 70.60s/it]"
     ]
    },
    {
     "name": "stdout",
     "output_type": "stream",
     "text": [
      "Can't get image's sizes\n",
      "Couldn't get title from article.\n",
      "Couldn't get title from article.\n",
      "Can't go to the followers info\n",
      "Couldn't get reading time from article.\n",
      "Couldn't get date from article.\n",
      "Can't get responses information\n",
      "Couldn't get YouTube videos.\n",
      "Can't get claps information\n",
      "title filled by initial data\n",
      "claps filled by initial data\n",
      "responses filled by initial data\n",
      "reading_time filled by initial data\n",
      "publication filled by initial data\n",
      "date filled by initial data\n",
      "Can't get image's sizes\n",
      "Couldn't get title from article.\n",
      "Couldn't get title from article.\n",
      "Can't go to the followers info\n",
      "Couldn't get reading time from article.\n",
      "Couldn't get date from article.\n",
      "Can't get responses information\n",
      "Couldn't get YouTube videos.\n",
      "Can't get claps information\n",
      "title filled by initial data\n",
      "claps filled by initial data\n",
      "responses filled by initial data\n",
      "reading_time filled by initial data\n",
      "publication filled by initial data\n",
      "date filled by initial data\n",
      "Can't get responses information\n",
      "Can't get claps information\n",
      "claps filled by initial data\n",
      "responses filled by initial data\n",
      "Can't get responses information\n",
      "responses filled by initial data\n",
      "Can't get responses information\n",
      "responses filled by initial data\n",
      "Can't get responses information\n",
      "responses filled by initial data\n",
      "Can't get responses information\n",
      "responses filled by initial data\n",
      "Can't get responses information\n",
      "responses filled by initial data\n"
     ]
    },
    {
     "name": "stderr",
     "output_type": "stream",
     "text": [
      " 64%|██████▍   | 45/70 [2:22:03<31:55, 76.62s/it]"
     ]
    },
    {
     "name": "stdout",
     "output_type": "stream",
     "text": [
      "Can't get image's sizes\n",
      "Can't get responses information\n",
      "Can't get claps information\n",
      "claps filled by initial data\n",
      "responses filled by initial data\n",
      "Can't get responses information\n",
      "responses filled by initial data\n",
      "Can't get claps information\n",
      "claps filled by initial data\n",
      "Can't get responses information\n",
      "responses filled by initial data\n",
      "Can't get claps information\n",
      "claps filled by initial data\n",
      "Can't get image's sizes\n",
      "Couldn't get title from article.\n",
      "Couldn't get title from article.\n",
      "Can't go to the followers info\n",
      "Couldn't get reading time from article.\n",
      "Couldn't get date from article.\n",
      "Can't get responses information\n",
      "Couldn't get YouTube videos.\n",
      "Can't get claps information\n",
      "title filled by initial data\n",
      "claps filled by initial data\n",
      "responses filled by initial data\n",
      "reading_time filled by initial data\n",
      "publication filled by initial data\n",
      "date filled by initial data\n",
      "Can't get responses information\n",
      "responses filled by initial data\n",
      "Can't get claps information\n",
      "claps filled by initial data\n",
      "Can't get responses information\n",
      "responses filled by initial data\n",
      "Can't get claps information\n",
      "claps filled by initial data\n",
      "Can't get claps information\n",
      "claps filled by initial data\n"
     ]
    },
    {
     "name": "stderr",
     "output_type": "stream",
     "text": [
      " 66%|██████▌   | 46/70 [2:22:39<25:44, 64.35s/it]"
     ]
    },
    {
     "name": "stdout",
     "output_type": "stream",
     "text": [
      "Can't get image's sizes\n",
      "Couldn't get title from article.\n",
      "Couldn't get title from article.\n",
      "Can't go to the followers info\n",
      "Couldn't get reading time from article.\n",
      "Couldn't get date from article.\n",
      "Can't get responses information\n",
      "Couldn't get YouTube videos.\n",
      "Can't get claps information\n",
      "title filled by initial data\n",
      "claps filled by initial data\n",
      "responses filled by initial data\n",
      "reading_time filled by initial data\n",
      "publication filled by initial data\n",
      "date filled by initial data\n",
      "Can't get claps information\n",
      "claps filled by initial data\n",
      "Can't get responses information\n",
      "responses filled by initial data\n",
      "Can't get claps information\n",
      "claps filled by initial data\n",
      "Can't get claps information\n",
      "claps filled by initial data\n",
      "Can't get responses information\n",
      "Can't get claps information\n",
      "claps filled by initial data\n",
      "responses filled by initial data\n",
      "Can't get claps information\n",
      "claps filled by initial data\n",
      "Can't get responses information\n",
      "Can't get claps information\n",
      "claps filled by initial data\n",
      "responses filled by initial data\n",
      "Can't get responses information\n",
      "Can't get claps information\n",
      "claps filled by initial data\n",
      "responses filled by initial data\n",
      "Can't get claps information\n",
      "claps filled by initial data\n",
      "Can't get claps information\n",
      "claps filled by initial data\n",
      "Can't get responses information\n",
      "responses filled by initial data\n",
      "Can't get responses information\n",
      "Can't get claps information\n",
      "claps filled by initial data\n",
      "responses filled by initial data\n",
      "Can't get claps information\n",
      "claps filled by initial data\n"
     ]
    },
    {
     "name": "stderr",
     "output_type": "stream",
     "text": [
      " 67%|██████▋   | 47/70 [2:23:45<24:53, 64.92s/it]"
     ]
    },
    {
     "name": "stdout",
     "output_type": "stream",
     "text": [
      "Can't get responses information\n",
      "responses filled by initial data\n",
      "Can't get image's sizes\n",
      "Couldn't get title from article.\n",
      "Couldn't get title from article.\n",
      "Can't go to the followers info\n",
      "Couldn't get reading time from article.\n",
      "Couldn't get date from article.\n",
      "Can't get responses information\n",
      "Couldn't get YouTube videos.\n",
      "Can't get claps information\n",
      "title filled by initial data\n",
      "claps filled by initial data\n",
      "responses filled by initial data\n",
      "reading_time filled by initial data\n",
      "publication filled by initial data\n",
      "date filled by initial data\n",
      "Can't get image's sizes\n",
      "Couldn't get title from article.\n",
      "Couldn't get title from article.\n",
      "Can't go to the followers info\n",
      "Couldn't get reading time from article.\n",
      "Couldn't get date from article.\n",
      "Can't get responses information\n",
      "Couldn't get YouTube videos.\n",
      "Can't get claps information\n",
      "title filled by initial data\n",
      "claps filled by initial data\n",
      "responses filled by initial data\n",
      "reading_time filled by initial data\n",
      "publication filled by initial data\n",
      "date filled by initial data\n",
      "Can't get image's sizes\n",
      "Can't get responses information\n",
      "responses filled by initial data\n",
      "Can't get claps information\n",
      "claps filled by initial data\n",
      "Can't get claps information\n",
      "claps filled by initial data\n",
      "Can't get responses information\n",
      "responses filled by initial data\n",
      "Can't get responses information\n",
      "Can't get claps information\n",
      "claps filled by initial data\n",
      "responses filled by initial data\n",
      "Can't get responses information\n",
      "responses filled by initial data\n",
      "Can't get responses information\n",
      "responses filled by initial data\n",
      "Can't get responses information\n",
      "responses filled by initial data\n",
      "Can't get responses information\n",
      "responses filled by initial data\n"
     ]
    },
    {
     "name": "stderr",
     "output_type": "stream",
     "text": [
      " 69%|██████▊   | 48/70 [2:27:13<39:31, 107.81s/it]"
     ]
    },
    {
     "name": "stdout",
     "output_type": "stream",
     "text": [
      "Can't get image's sizes\n",
      "Couldn't get title from article.\n",
      "Couldn't get title from article.\n",
      "Can't go to the followers info\n",
      "Couldn't get reading time from article.\n",
      "Couldn't get date from article.\n",
      "Can't get responses information\n",
      "Couldn't get YouTube videos.\n",
      "Can't get claps information\n",
      "title filled by initial data\n",
      "claps filled by initial data\n",
      "responses filled by initial data\n",
      "reading_time filled by initial data\n",
      "publication filled by initial data\n",
      "date filled by initial data\n",
      "Can't get claps information\n",
      "claps filled by initial data\n",
      "Can't get responses information\n",
      "Can't get claps information\n",
      "claps filled by initial data\n",
      "responses filled by initial data\n",
      "Can't get claps information\n",
      "claps filled by initial data\n",
      "Can't get claps information\n",
      "claps filled by initial data\n",
      "Can't get claps information\n",
      "claps filled by initial data\n",
      "Can't get claps information\n",
      "claps filled by initial data\n",
      "Can't get claps information\n",
      "claps filled by initial data\n",
      "Can't get claps information\n",
      "claps filled by initial data\n"
     ]
    },
    {
     "name": "stderr",
     "output_type": "stream",
     "text": [
      " 70%|███████   | 49/70 [2:29:09<38:38, 110.40s/it]"
     ]
    },
    {
     "name": "stdout",
     "output_type": "stream",
     "text": [
      "Can't get claps information\n",
      "claps filled by initial data\n",
      "Can't get claps information\n",
      "claps filled by initial data\n",
      "Can't get responses information\n",
      "Can't get claps information\n",
      "claps filled by initial data\n",
      "responses filled by initial data\n",
      "Can't get claps information\n",
      "claps filled by initial data\n",
      "Can't get claps information\n",
      "claps filled by initial data\n",
      "Can't get claps information\n",
      "claps filled by initial data\n",
      "Can't get claps information\n",
      "claps filled by initial data\n",
      "Can't get responses information\n",
      "Can't get claps information\n",
      "claps filled by initial data\n",
      "responses filled by initial data\n",
      "Can't get claps information\n",
      "claps filled by initial data\n",
      "Can't get claps information\n",
      "claps filled by initial data\n"
     ]
    },
    {
     "name": "stderr",
     "output_type": "stream",
     "text": [
      " 71%|███████▏  | 50/70 [2:38:17<1:20:33, 241.65s/it]"
     ]
    },
    {
     "name": "stdout",
     "output_type": "stream",
     "text": [
      "Can't get image's sizes\n",
      "Couldn't get title from article.\n",
      "Couldn't get title from article.\n",
      "Can't go to the followers info\n",
      "Couldn't get reading time from article.\n",
      "Couldn't get date from article.\n",
      "Can't get responses information\n",
      "Couldn't get YouTube videos.\n",
      "Can't get claps information\n",
      "title filled by initial data\n",
      "claps filled by initial data\n",
      "responses filled by initial data\n",
      "reading_time filled by initial data\n",
      "publication filled by initial data\n",
      "date filled by initial data\n",
      "Can't get image's sizes\n",
      "Couldn't get title from article.\n",
      "Couldn't get title from article.\n",
      "Can't go to the followers info\n",
      "Couldn't get reading time from article.\n",
      "Couldn't get date from article.\n",
      "Can't get responses information\n",
      "Couldn't get YouTube videos.\n",
      "Can't get claps information\n",
      "title filled by initial data\n",
      "claps filled by initial data\n",
      "responses filled by initial data\n",
      "reading_time filled by initial data\n",
      "publication filled by initial data\n",
      "date filled by initial data\n",
      "Can't get responses information\n",
      "Can't get claps information\n",
      "claps filled by initial data\n",
      "responses filled by initial data\n",
      "Can't get claps information\n",
      "claps filled by initial data\n",
      "Can't get responses information\n",
      "Can't get claps information\n",
      "claps filled by initial data\n",
      "responses filled by initial data\n",
      "Can't get responses information\n",
      "Can't get claps information\n",
      "claps filled by initial data\n",
      "responses filled by initial data\n",
      "Can't get responses information\n",
      "Can't get claps information\n",
      "claps filled by initial data\n",
      "responses filled by initial data\n",
      "Can't get responses information\n",
      "Can't get claps information\n",
      "claps filled by initial data\n",
      "responses filled by initial data\n",
      "Can't get responses information\n",
      "responses filled by initial data\n",
      "Can't get claps information\n",
      "claps filled by initial data\n",
      "Can't get claps information\n",
      "claps filled by initial data\n"
     ]
    },
    {
     "name": "stderr",
     "output_type": "stream",
     "text": [
      " 73%|███████▎  | 51/70 [2:41:55<1:14:16, 234.57s/it]"
     ]
    },
    {
     "name": "stdout",
     "output_type": "stream",
     "text": [
      "Can't get responses information\n",
      "responses filled by initial data\n",
      "Can't get image's sizes\n",
      "Couldn't get title from article.\n",
      "Couldn't get title from article.\n",
      "Can't go to the followers info\n",
      "Couldn't get reading time from article.\n",
      "Couldn't get date from article.\n",
      "Can't get responses information\n",
      "Couldn't get YouTube videos.\n",
      "Can't get claps information\n",
      "title filled by initial data\n",
      "claps filled by initial data\n",
      "responses filled by initial data\n",
      "reading_time filled by initial data\n",
      "publication filled by initial data\n",
      "date filled by initial data\n",
      "Can't get responses information\n",
      "responses filled by initial data\n",
      "Can't get responses information\n",
      "responses filled by initial data\n",
      "Can't get claps information\n",
      "claps filled by initial data\n",
      "Can't get claps information\n",
      "claps filled by initial data\n"
     ]
    },
    {
     "name": "stderr",
     "output_type": "stream",
     "text": [
      " 74%|███████▍  | 52/70 [2:43:17<56:38, 188.78s/it]  "
     ]
    },
    {
     "name": "stdout",
     "output_type": "stream",
     "text": [
      "Can't get responses information\n",
      "Can't get claps information\n",
      "claps filled by initial data\n",
      "responses filled by initial data\n",
      "Can't get responses information\n",
      "responses filled by initial data\n",
      "Can't get claps information\n",
      "claps filled by initial data\n",
      "Can't get responses information\n",
      "responses filled by initial data\n",
      "Can't get responses information\n",
      "Can't get claps information\n",
      "claps filled by initial data\n",
      "responses filled by initial data\n",
      "Can't get responses information\n",
      "responses filled by initial data\n",
      "Can't get responses information\n",
      "responses filled by initial data\n",
      "Can't get responses information\n",
      "responses filled by initial data\n"
     ]
    },
    {
     "name": "stderr",
     "output_type": "stream",
     "text": [
      " 76%|███████▌  | 53/70 [2:45:25<48:19, 170.57s/it]"
     ]
    },
    {
     "name": "stdout",
     "output_type": "stream",
     "text": [
      "Can't get image's sizes\n",
      "Couldn't get title from article.\n",
      "Couldn't get title from article.\n",
      "Can't go to the followers info\n",
      "Couldn't get reading time from article.\n",
      "Couldn't get date from article.\n",
      "Can't get responses information\n",
      "Couldn't get YouTube videos.\n",
      "Can't get claps information\n",
      "title filled by initial data\n",
      "claps filled by initial data\n",
      "responses filled by initial data\n",
      "reading_time filled by initial data\n",
      "publication filled by initial data\n",
      "date filled by initial data\n",
      "Can't get image's sizes\n",
      "Couldn't get title from article.\n",
      "Couldn't get title from article.\n",
      "Can't go to the followers info\n",
      "Couldn't get reading time from article.\n",
      "Couldn't get date from article.\n",
      "Can't get responses information\n",
      "Couldn't get YouTube videos.\n",
      "Can't get claps information\n",
      "title filled by initial data\n",
      "claps filled by initial data\n",
      "responses filled by initial data\n",
      "reading_time filled by initial data\n",
      "publication filled by initial data\n",
      "date filled by initial data\n",
      "Can't get claps information\n",
      "claps filled by initial data\n",
      "Can't get claps information\n",
      "claps filled by initial data\n",
      "Can't get responses information\n",
      "responses filled by initial data\n",
      "Can't get responses information\n",
      "Can't get claps information\n",
      "claps filled by initial data\n",
      "responses filled by initial data\n",
      "Can't get responses information\n",
      "Can't get claps information\n",
      "claps filled by initial data\n",
      "responses filled by initial data\n",
      "Can't get claps information\n",
      "claps filled by initial data\n",
      "Can't get responses information\n",
      "Can't get claps information\n",
      "claps filled by initial data\n",
      "responses filled by initial data\n",
      "Can't get responses information\n",
      "responses filled by initial data\n",
      "Can't get claps information\n",
      "claps filled by initial data\n",
      "Can't get responses information\n",
      "Can't get claps information\n",
      "claps filled by initial data\n",
      "responses filled by initial data\n"
     ]
    },
    {
     "name": "stderr",
     "output_type": "stream",
     "text": [
      " 77%|███████▋  | 54/70 [2:46:38<37:39, 141.24s/it]"
     ]
    },
    {
     "name": "stdout",
     "output_type": "stream",
     "text": [
      "Can't get responses information\n",
      "responses filled by initial data\n",
      "Can't get image's sizes\n",
      "Couldn't get title from article.\n",
      "Couldn't get title from article.\n",
      "Can't go to the followers info\n",
      "Couldn't get reading time from article.\n",
      "Couldn't get date from article.\n",
      "Can't get responses information\n",
      "Couldn't get YouTube videos.\n",
      "Can't get claps information\n",
      "title filled by initial data\n",
      "claps filled by initial data\n",
      "responses filled by initial data\n",
      "reading_time filled by initial data\n",
      "publication filled by initial data\n",
      "date filled by initial data\n",
      "Can't get responses information\n",
      "Can't get claps information\n",
      "claps filled by initial data\n",
      "responses filled by initial data\n",
      "Can't get responses information\n",
      "Can't get claps information\n",
      "claps filled by initial data\n",
      "responses filled by initial data\n",
      "Can't get claps information\n",
      "claps filled by initial data\n",
      "Can't get responses information\n",
      "Can't get claps information\n",
      "claps filled by initial data\n",
      "responses filled by initial data\n",
      "Can't get claps information\n",
      "claps filled by initial data\n",
      "Can't get claps information\n",
      "claps filled by initial data\n",
      "Can't get responses information\n",
      "Can't get claps information\n",
      "claps filled by initial data\n",
      "responses filled by initial data\n",
      "Can't get claps information\n",
      "claps filled by initial data\n",
      "Can't get claps information\n",
      "claps filled by initial data\n",
      "Can't get claps information\n",
      "claps filled by initial data\n",
      "Can't get claps information\n",
      "claps filled by initial data\n"
     ]
    },
    {
     "name": "stderr",
     "output_type": "stream",
     "text": [
      " 79%|███████▊  | 55/70 [2:49:57<39:36, 158.46s/it]"
     ]
    },
    {
     "name": "stdout",
     "output_type": "stream",
     "text": [
      "Can't get image's sizes\n",
      "Couldn't get title from article.\n",
      "Couldn't get title from article.\n",
      "Can't go to the followers info\n",
      "Couldn't get reading time from article.\n",
      "Couldn't get date from article.\n",
      "Can't get responses information\n",
      "Couldn't get YouTube videos.\n",
      "Can't get claps information\n",
      "title filled by initial data\n",
      "claps filled by initial data\n",
      "responses filled by initial data\n",
      "reading_time filled by initial data\n",
      "publication filled by initial data\n",
      "date filled by initial data\n",
      "Can't get responses information\n",
      "responses filled by initial data\n",
      "Can't get claps information\n",
      "claps filled by initial data\n",
      "Can't get responses information\n",
      "responses filled by initial data\n",
      "Can't get responses information\n",
      "Can't get claps information\n",
      "claps filled by initial data\n",
      "responses filled by initial data\n",
      "Can't get claps information\n",
      "claps filled by initial data\n",
      "Can't get responses information\n",
      "responses filled by initial data\n",
      "Can't get responses information\n",
      "responses filled by initial data\n",
      "Can't get responses information\n",
      "Can't get claps information\n",
      "claps filled by initial data\n",
      "responses filled by initial data\n",
      "Can't get claps information\n",
      "claps filled by initial data\n",
      "Can't get responses information\n",
      "Can't get claps information\n",
      "claps filled by initial data\n",
      "responses filled by initial data\n",
      "Can't get responses information\n",
      "responses filled by initial data\n",
      "Can't get responses information\n",
      "responses filled by initial data\n",
      "publication filled by initial data\n"
     ]
    },
    {
     "name": "stderr",
     "output_type": "stream",
     "text": [
      " 80%|████████  | 56/70 [2:52:36<37:02, 158.74s/it]"
     ]
    },
    {
     "name": "stdout",
     "output_type": "stream",
     "text": [
      "Can't get responses information\n",
      "responses filled by initial data\n",
      "Can't get responses information\n",
      "responses filled by initial data\n",
      "Can't get responses information\n",
      "responses filled by initial data\n",
      "Can't get responses information\n",
      "responses filled by initial data\n"
     ]
    },
    {
     "name": "stderr",
     "output_type": "stream",
     "text": [
      " 81%|████████▏ | 57/70 [2:53:46<28:37, 132.15s/it]"
     ]
    },
    {
     "name": "stdout",
     "output_type": "stream",
     "text": [
      "Can't get responses information\n",
      "Can't get claps information\n",
      "claps filled by initial data\n",
      "responses filled by initial data\n",
      "Can't get responses information\n",
      "Can't get claps information\n",
      "claps filled by initial data\n",
      "responses filled by initial data\n",
      "Can't get claps information\n",
      "claps filled by initial data\n",
      "Can't get responses information\n",
      "Can't get claps information\n",
      "claps filled by initial data\n",
      "responses filled by initial data\n",
      "Can't get claps information\n",
      "claps filled by initial data\n",
      "Can't get responses information\n",
      "responses filled by initial data\n",
      "Can't get claps information\n",
      "claps filled by initial data\n",
      "Can't get claps information\n",
      "claps filled by initial data\n",
      "Can't get responses information\n",
      "Can't get claps information\n",
      "claps filled by initial data\n",
      "responses filled by initial data\n"
     ]
    },
    {
     "name": "stderr",
     "output_type": "stream",
     "text": [
      " 83%|████████▎ | 58/70 [2:54:42<21:49, 109.13s/it]"
     ]
    },
    {
     "name": "stdout",
     "output_type": "stream",
     "text": [
      "Can't get image's sizes\n",
      "Couldn't get title from article.\n",
      "Couldn't get title from article.\n",
      "Can't go to the followers info\n",
      "Couldn't get reading time from article.\n",
      "Couldn't get date from article.\n",
      "Can't get responses information\n",
      "Couldn't get YouTube videos.\n",
      "Can't get claps information\n",
      "title filled by initial data\n",
      "claps filled by initial data\n",
      "responses filled by initial data\n",
      "reading_time filled by initial data\n",
      "publication filled by initial data\n",
      "date filled by initial data\n",
      "Can't get responses information\n",
      "Can't get claps information\n",
      "claps filled by initial data\n",
      "responses filled by initial data\n",
      "Can't get claps information\n",
      "claps filled by initial data\n",
      "Can't get responses information\n",
      "Can't get claps information\n",
      "claps filled by initial data\n",
      "responses filled by initial data\n",
      "Can't get claps information\n",
      "claps filled by initial data\n",
      "Can't get responses information\n",
      "Can't get claps information\n",
      "claps filled by initial data\n",
      "responses filled by initial data\n",
      "Can't get claps information\n",
      "claps filled by initial data\n",
      "Can't get responses information\n",
      "Can't get claps information\n",
      "claps filled by initial data\n",
      "responses filled by initial data\n",
      "Can't get responses information\n",
      "Can't get claps information\n",
      "claps filled by initial data\n",
      "responses filled by initial data\n",
      "Can't get responses information\n",
      "Can't get claps information\n",
      "claps filled by initial data\n",
      "responses filled by initial data\n",
      "Can't get responses information\n",
      "Can't get claps information\n",
      "claps filled by initial data\n",
      "responses filled by initial data\n",
      "Can't get responses information\n",
      "Can't get claps information\n",
      "claps filled by initial data\n",
      "responses filled by initial data\n"
     ]
    },
    {
     "name": "stderr",
     "output_type": "stream",
     "text": [
      " 84%|████████▍ | 59/70 [2:55:53<17:56, 97.85s/it] "
     ]
    },
    {
     "name": "stdout",
     "output_type": "stream",
     "text": [
      "Can't get image's sizes\n",
      "Couldn't get title from article.\n",
      "Couldn't get title from article.\n",
      "Can't go to the followers info\n",
      "Couldn't get reading time from article.\n",
      "Couldn't get date from article.\n",
      "Can't get responses information\n",
      "Couldn't get YouTube videos.\n",
      "Can't get claps information\n",
      "title filled by initial data\n",
      "claps filled by initial data\n",
      "responses filled by initial data\n",
      "reading_time filled by initial data\n",
      "publication filled by initial data\n",
      "date filled by initial data\n",
      "Can't get claps information\n",
      "claps filled by initial data\n",
      "Can't get responses information\n",
      "Can't get claps information\n",
      "claps filled by initial data\n",
      "responses filled by initial data\n",
      "Can't get claps information\n",
      "claps filled by initial data\n",
      "Can't get responses information\n",
      "Can't get claps information\n",
      "claps filled by initial data\n",
      "responses filled by initial data\n",
      "Can't get claps information\n",
      "claps filled by initial data\n",
      "Can't get claps information\n",
      "claps filled by initial data\n",
      "Can't get claps information\n",
      "claps filled by initial data\n",
      "Can't get claps information\n",
      "claps filled by initial data\n",
      "Can't get claps information\n",
      "claps filled by initial data\n",
      "Can't get claps information\n",
      "claps filled by initial data\n"
     ]
    },
    {
     "name": "stderr",
     "output_type": "stream",
     "text": [
      " 86%|████████▌ | 60/70 [2:57:03<14:53, 89.39s/it]"
     ]
    },
    {
     "name": "stdout",
     "output_type": "stream",
     "text": [
      "Can't get claps information\n",
      "claps filled by initial data\n",
      "Can't get claps information\n",
      "claps filled by initial data\n",
      "Can't get responses information\n",
      "responses filled by initial data\n",
      "Can't get claps information\n",
      "claps filled by initial data\n",
      "Can't get claps information\n",
      "claps filled by initial data\n",
      "Can't get claps information\n",
      "claps filled by initial data\n",
      "Can't get claps information\n",
      "claps filled by initial data\n",
      "Can't get claps information\n",
      "claps filled by initial data\n",
      "Can't get responses information\n",
      "Can't get claps information\n",
      "claps filled by initial data\n",
      "responses filled by initial data\n",
      "Can't get responses information\n",
      "Can't get claps information\n",
      "claps filled by initial data\n",
      "responses filled by initial data\n",
      "Can't get responses information\n",
      "responses filled by initial data\n"
     ]
    },
    {
     "name": "stderr",
     "output_type": "stream",
     "text": [
      " 87%|████████▋ | 61/70 [2:58:00<11:57, 79.67s/it]"
     ]
    },
    {
     "name": "stdout",
     "output_type": "stream",
     "text": [
      "Can't get image's sizes\n",
      "Couldn't get title from article.\n",
      "Couldn't get title from article.\n",
      "Can't go to the followers info\n",
      "Couldn't get reading time from article.\n",
      "Couldn't get date from article.\n",
      "Can't get responses information\n",
      "Couldn't get YouTube videos.\n",
      "Can't get claps information\n",
      "title filled by initial data\n",
      "claps filled by initial data\n",
      "responses filled by initial data\n",
      "reading_time filled by initial data\n",
      "publication filled by initial data\n",
      "date filled by initial data\n",
      "Can't get responses information\n",
      "Can't get claps information\n",
      "claps filled by initial data\n",
      "responses filled by initial data\n",
      "Can't get responses information\n",
      "Can't get claps information\n",
      "claps filled by initial data\n",
      "responses filled by initial data\n",
      "Can't get claps information\n",
      "claps filled by initial data\n",
      "Can't get responses information\n",
      "Can't get claps information\n",
      "claps filled by initial data\n",
      "responses filled by initial data\n",
      "Can't get responses information\n",
      "responses filled by initial data\n",
      "publication filled by initial data\n",
      "Can't get claps information\n",
      "claps filled by initial data\n",
      "Can't get responses information\n",
      "Can't get claps information\n",
      "claps filled by initial data\n",
      "responses filled by initial data\n",
      "Can't get responses information\n",
      "Can't get claps information\n",
      "claps filled by initial data\n",
      "responses filled by initial data\n",
      "Can't get responses information\n",
      "responses filled by initial data\n",
      "Can't get responses information\n",
      "Can't get claps information\n",
      "claps filled by initial data\n",
      "responses filled by initial data\n",
      "Can't get responses information\n",
      "responses filled by initial data\n",
      "Can't get responses information\n",
      "Can't get claps information\n",
      "claps filled by initial data\n",
      "responses filled by initial data\n"
     ]
    },
    {
     "name": "stderr",
     "output_type": "stream",
     "text": [
      " 89%|████████▊ | 62/70 [3:00:38<13:45, 103.24s/it]"
     ]
    },
    {
     "name": "stdout",
     "output_type": "stream",
     "text": [
      "Can't get claps information\n",
      "claps filled by initial data\n",
      "Can't get responses information\n",
      "responses filled by initial data\n",
      "Can't get claps information\n",
      "claps filled by initial data\n",
      "Can't get responses information\n",
      "Can't get claps information\n",
      "claps filled by initial data\n",
      "responses filled by initial data\n",
      "Can't get responses information\n",
      "Can't get claps information\n",
      "claps filled by initial data\n",
      "responses filled by initial data\n",
      "Can't get claps information\n",
      "claps filled by initial data\n",
      "Can't get claps information\n",
      "claps filled by initial data\n",
      "Can't get responses information\n",
      "responses filled by initial data\n",
      "Can't get responses information\n",
      "Can't get claps information\n",
      "claps filled by initial data\n",
      "responses filled by initial data\n",
      "Can't get claps information\n",
      "claps filled by initial data\n"
     ]
    },
    {
     "name": "stderr",
     "output_type": "stream",
     "text": [
      " 90%|█████████ | 63/70 [3:03:30<14:27, 123.97s/it]"
     ]
    },
    {
     "name": "stdout",
     "output_type": "stream",
     "text": [
      "Can't get responses information\n",
      "responses filled by initial data\n",
      "Can't get image's sizes\n",
      "Can't get claps information\n",
      "claps filled by initial data\n",
      "Can't get image's sizes\n",
      "Can't get claps information\n",
      "claps filled by initial data\n",
      "Can't get image's sizes\n",
      "Can't get claps information\n",
      "claps filled by initial data\n",
      "Can't get responses information\n",
      "Can't get claps information\n",
      "claps filled by initial data\n",
      "responses filled by initial data\n",
      "Can't get responses information\n",
      "responses filled by initial data\n",
      "Can't get responses information\n",
      "responses filled by initial data\n"
     ]
    },
    {
     "name": "stderr",
     "output_type": "stream",
     "text": [
      " 91%|█████████▏| 64/70 [3:04:30<10:28, 104.74s/it]"
     ]
    },
    {
     "name": "stdout",
     "output_type": "stream",
     "text": [
      "Can't get responses information\n",
      "Can't get claps information\n",
      "claps filled by initial data\n",
      "responses filled by initial data\n",
      "Can't get responses information\n",
      "responses filled by initial data\n",
      "Can't get responses information\n",
      "Can't get claps information\n",
      "claps filled by initial data\n",
      "responses filled by initial data\n",
      "Can't get responses information\n",
      "responses filled by initial data\n",
      "Can't get responses information\n",
      "responses filled by initial data\n"
     ]
    },
    {
     "name": "stderr",
     "output_type": "stream",
     "text": [
      " 93%|█████████▎| 65/70 [3:06:23<08:55, 107.11s/it]"
     ]
    },
    {
     "name": "stdout",
     "output_type": "stream",
     "text": [
      "Can't get claps information\n",
      "claps filled by initial data\n",
      "Can't get responses information\n",
      "responses filled by initial data\n",
      "Can't get responses information\n",
      "responses filled by initial data\n",
      "Can't get claps information\n",
      "claps filled by initial data\n",
      "Can't get responses information\n",
      "responses filled by initial data\n",
      "Can't get responses information\n",
      "responses filled by initial data\n",
      "Can't get responses information\n",
      "Can't get claps information\n",
      "claps filled by initial data\n",
      "responses filled by initial data\n",
      "Can't get responses information\n",
      "responses filled by initial data\n",
      "Couldn't get title from article.\n",
      "title filled by initial data\n"
     ]
    },
    {
     "name": "stderr",
     "output_type": "stream",
     "text": [
      " 94%|█████████▍| 66/70 [3:07:59<06:55, 103.87s/it]"
     ]
    },
    {
     "name": "stdout",
     "output_type": "stream",
     "text": [
      "Can't get responses information\n",
      "responses filled by initial data\n",
      "Can't get responses information\n",
      "responses filled by initial data\n",
      "Can't get responses information\n",
      "responses filled by initial data\n",
      "Can't get responses information\n",
      "responses filled by initial data\n",
      "Can't get responses information\n",
      "responses filled by initial data\n",
      "Can't get responses information\n",
      "Can't get claps information\n",
      "claps filled by initial data\n",
      "responses filled by initial data\n",
      "Can't get responses information\n",
      "responses filled by initial data\n",
      "Can't get responses information\n",
      "responses filled by initial data\n",
      "Can't get responses information\n",
      "responses filled by initial data\n"
     ]
    },
    {
     "name": "stderr",
     "output_type": "stream",
     "text": [
      " 96%|█████████▌| 67/70 [3:09:07<04:39, 93.17s/it] "
     ]
    },
    {
     "name": "stdout",
     "output_type": "stream",
     "text": [
      "Can't get responses information\n",
      "responses filled by initial data\n",
      "Can't get image's sizes\n",
      "Couldn't get title from article.\n",
      "Couldn't get title from article.\n",
      "Can't go to the followers info\n",
      "Couldn't get reading time from article.\n",
      "Couldn't get date from article.\n",
      "Can't get responses information\n",
      "Couldn't get YouTube videos.\n",
      "Can't get claps information\n",
      "title filled by initial data\n",
      "claps filled by initial data\n",
      "responses filled by initial data\n",
      "reading_time filled by initial data\n",
      "publication filled by initial data\n",
      "date filled by initial data\n",
      "Can't get responses information\n",
      "Can't get claps information\n",
      "claps filled by initial data\n",
      "responses filled by initial data\n",
      "Can't get claps information\n",
      "claps filled by initial data\n",
      "Can't get responses information\n",
      "responses filled by initial data\n",
      "Can't get responses information\n",
      "responses filled by initial data\n",
      "Can't get responses information\n",
      "responses filled by initial data\n",
      "Can't get responses information\n",
      "responses filled by initial data\n"
     ]
    },
    {
     "name": "stderr",
     "output_type": "stream",
     "text": [
      " 97%|█████████▋| 68/70 [3:10:02<02:43, 81.55s/it]"
     ]
    },
    {
     "name": "stdout",
     "output_type": "stream",
     "text": [
      "Can't get responses information\n",
      "responses filled by initial data\n",
      "Can't get image's sizes\n",
      "Couldn't get title from article.\n",
      "Couldn't get title from article.\n",
      "Can't go to the followers info\n",
      "Couldn't get reading time from article.\n",
      "Couldn't get date from article.\n",
      "Can't get responses information\n",
      "Couldn't get YouTube videos.\n",
      "Can't get claps information\n",
      "title filled by initial data\n",
      "claps filled by initial data\n",
      "responses filled by initial data\n",
      "reading_time filled by initial data\n",
      "publication filled by initial data\n",
      "date filled by initial data\n",
      "Can't get image's sizes\n",
      "Can't get responses information\n",
      "responses filled by initial data\n",
      "Can't get responses information\n",
      "responses filled by initial data\n",
      "Can't get responses information\n",
      "responses filled by initial data\n",
      "Can't get image's sizes\n",
      "Can't get responses information\n",
      "Can't get claps information\n",
      "claps filled by initial data\n",
      "responses filled by initial data\n",
      "Can't get responses information\n",
      "Can't get claps information\n",
      "claps filled by initial data\n",
      "responses filled by initial data\n",
      "Can't get responses information\n",
      "Can't get claps information\n",
      "claps filled by initial data\n",
      "responses filled by initial data\n",
      "Can't get responses information\n",
      "responses filled by initial data\n",
      "Can't get responses information\n",
      "Can't get claps information\n",
      "claps filled by initial data\n",
      "responses filled by initial data\n",
      "Can't get responses information\n",
      "responses filled by initial data\n",
      "Can't get responses information\n",
      "responses filled by initial data\n",
      "Can't get responses information\n",
      "responses filled by initial data\n"
     ]
    },
    {
     "name": "stderr",
     "output_type": "stream",
     "text": [
      " 99%|█████████▊| 69/70 [3:11:41<01:26, 86.88s/it]"
     ]
    },
    {
     "name": "stdout",
     "output_type": "stream",
     "text": [
      "Can't get responses information\n",
      "Can't get claps information\n",
      "claps filled by initial data\n",
      "responses filled by initial data\n",
      "Can't get responses information\n",
      "responses filled by initial data\n",
      "Can't get claps information\n",
      "claps filled by initial data\n",
      "Can't get responses information\n",
      "responses filled by initial data\n",
      "Can't get responses information\n",
      "responses filled by initial data\n",
      "Can't get responses information\n",
      "responses filled by initial data\n",
      "publication filled by initial data\n",
      "Can't get claps information\n",
      "claps filled by initial data\n",
      "Can't get responses information\n",
      "responses filled by initial data\n",
      "Can't get responses information\n",
      "responses filled by initial data\n",
      "Can't get responses information\n",
      "responses filled by initial data\n"
     ]
    },
    {
     "name": "stderr",
     "output_type": "stream",
     "text": [
      "100%|██████████| 70/70 [3:12:45<00:00, 79.95s/it]"
     ]
    },
    {
     "name": "stdout",
     "output_type": "stream",
     "text": [
      "Can't get responses information\n",
      "Can't get claps information\n",
      "claps filled by initial data\n",
      "responses filled by initial data\n",
      "Can't get responses information\n",
      "responses filled by initial data\n"
     ]
    },
    {
     "name": "stderr",
     "output_type": "stream",
     "text": [
      "71it [3:13:05, 163.17s/it]                       \n"
     ]
    }
   ],
   "source": [
    "scrapping_tools.scrap_articles_async(least_data, options=options, pools=14, path=\"scrapped_data/scrapped_async_data_part6.csv\")"
   ]
  },
  {
   "cell_type": "code",
   "execution_count": 135,
   "metadata": {},
   "outputs": [],
   "source": [
    "df6 = pd.read_csv(\"scrapped_data/scrapped_async_data_part6.csv\", header=None)\n",
    "df6.columns = columns"
   ]
  },
  {
   "cell_type": "code",
   "execution_count": 136,
   "metadata": {},
   "outputs": [
    {
     "data": {
      "text/html": [
       "<div>\n",
       "<style scoped>\n",
       "    .dataframe tbody tr th:only-of-type {\n",
       "        vertical-align: middle;\n",
       "    }\n",
       "\n",
       "    .dataframe tbody tr th {\n",
       "        vertical-align: top;\n",
       "    }\n",
       "\n",
       "    .dataframe thead th {\n",
       "        text-align: right;\n",
       "    }\n",
       "</style>\n",
       "<table border=\"1\" class=\"dataframe\">\n",
       "  <thead>\n",
       "    <tr style=\"text-align: right;\">\n",
       "      <th></th>\n",
       "      <th>title</th>\n",
       "      <th>publication</th>\n",
       "      <th>link</th>\n",
       "      <th>author</th>\n",
       "      <th>followers</th>\n",
       "      <th>reading_time</th>\n",
       "      <th>n_words</th>\n",
       "      <th>pure_text</th>\n",
       "      <th>date</th>\n",
       "      <th>responses</th>\n",
       "      <th>n_code_chunks</th>\n",
       "      <th>bold_text_count</th>\n",
       "      <th>italic_text_count</th>\n",
       "      <th>mean_image_width</th>\n",
       "      <th>mean_image_height</th>\n",
       "      <th>n_images</th>\n",
       "      <th>n_lists</th>\n",
       "      <th>n_vids</th>\n",
       "      <th>n_links</th>\n",
       "      <th>claps</th>\n",
       "    </tr>\n",
       "  </thead>\n",
       "  <tbody>\n",
       "    <tr>\n",
       "      <th>0</th>\n",
       "      <td>Truthfully, we’re all pretty damn tired</td>\n",
       "      <td>The Startup</td>\n",
       "      <td>https://medium.com/swlh/truthfully-were-all-pr...</td>\n",
       "      <td>Jeremy Divinity</td>\n",
       "      <td>1600.0</td>\n",
       "      <td>3</td>\n",
       "      <td>558</td>\n",
       "      <td>“Always-on is weird. It’s not how humans thriv...</td>\n",
       "      <td>25/07/2019</td>\n",
       "      <td>0</td>\n",
       "      <td>0</td>\n",
       "      <td>0</td>\n",
       "      <td>0</td>\n",
       "      <td>1050.0</td>\n",
       "      <td>700.0</td>\n",
       "      <td>1</td>\n",
       "      <td>0</td>\n",
       "      <td>0.0</td>\n",
       "      <td>6</td>\n",
       "      <td>5</td>\n",
       "    </tr>\n",
       "    <tr>\n",
       "      <th>1</th>\n",
       "      <td>On Being Outed-NATIONAL COMING OUT DAY</td>\n",
       "      <td>The Startup</td>\n",
       "      <td>https://medium.com/swlh/on-being-outed-nationa...</td>\n",
       "      <td>Will McMillan</td>\n",
       "      <td>81.0</td>\n",
       "      <td>2</td>\n",
       "      <td>411</td>\n",
       "      <td>I wish I could say that I came out, that I’d m...</td>\n",
       "      <td>11/10/2019</td>\n",
       "      <td>1</td>\n",
       "      <td>0</td>\n",
       "      <td>0</td>\n",
       "      <td>0</td>\n",
       "      <td>640.0</td>\n",
       "      <td>372.0</td>\n",
       "      <td>1</td>\n",
       "      <td>0</td>\n",
       "      <td>0.0</td>\n",
       "      <td>0</td>\n",
       "      <td>259</td>\n",
       "    </tr>\n",
       "    <tr>\n",
       "      <th>2</th>\n",
       "      <td>How NaNoWriMo Launched My Career as a Novelist</td>\n",
       "      <td>The Startup</td>\n",
       "      <td>https://medium.com/swlh/how-nanowrimo-launched...</td>\n",
       "      <td>Claire Gem</td>\n",
       "      <td>172.0</td>\n",
       "      <td>4</td>\n",
       "      <td>64</td>\n",
       "      <td>I’ll admit it . . . I got a late start as a wr...</td>\n",
       "      <td>11/10/2019</td>\n",
       "      <td>4</td>\n",
       "      <td>0</td>\n",
       "      <td>0</td>\n",
       "      <td>0</td>\n",
       "      <td>1050.0</td>\n",
       "      <td>699.0</td>\n",
       "      <td>1</td>\n",
       "      <td>0</td>\n",
       "      <td>0.0</td>\n",
       "      <td>0</td>\n",
       "      <td>378</td>\n",
       "    </tr>\n",
       "    <tr>\n",
       "      <th>3</th>\n",
       "      <td>Lost in translation</td>\n",
       "      <td>The Startup</td>\n",
       "      <td>https://medium.com/swlh/lost-in-translation-1e...</td>\n",
       "      <td>Federico Antoni</td>\n",
       "      <td>1300.0</td>\n",
       "      <td>7</td>\n",
       "      <td>55</td>\n",
       "      <td>As my taxi made its way through São Paulo’s ur...</td>\n",
       "      <td>17/09/2019</td>\n",
       "      <td>1</td>\n",
       "      <td>0</td>\n",
       "      <td>0</td>\n",
       "      <td>0</td>\n",
       "      <td>1050.0</td>\n",
       "      <td>656.0</td>\n",
       "      <td>1</td>\n",
       "      <td>0</td>\n",
       "      <td>0.0</td>\n",
       "      <td>0</td>\n",
       "      <td>188</td>\n",
       "    </tr>\n",
       "    <tr>\n",
       "      <th>4</th>\n",
       "      <td>Productivity this, productivity that — STOP!</td>\n",
       "      <td>The Startup</td>\n",
       "      <td>https://medium.com/swlh/productivity-this-prod...</td>\n",
       "      <td>Rebekah Whittle</td>\n",
       "      <td>61.0</td>\n",
       "      <td>4</td>\n",
       "      <td>48</td>\n",
       "      <td>I keep seeing all of these articles about prod...</td>\n",
       "      <td>11/10/2019</td>\n",
       "      <td>1</td>\n",
       "      <td>0</td>\n",
       "      <td>0</td>\n",
       "      <td>0</td>\n",
       "      <td>1050.0</td>\n",
       "      <td>1400.0</td>\n",
       "      <td>1</td>\n",
       "      <td>0</td>\n",
       "      <td>0.0</td>\n",
       "      <td>0</td>\n",
       "      <td>152</td>\n",
       "    </tr>\n",
       "    <tr>\n",
       "      <th>...</th>\n",
       "      <td>...</td>\n",
       "      <td>...</td>\n",
       "      <td>...</td>\n",
       "      <td>...</td>\n",
       "      <td>...</td>\n",
       "      <td>...</td>\n",
       "      <td>...</td>\n",
       "      <td>...</td>\n",
       "      <td>...</td>\n",
       "      <td>...</td>\n",
       "      <td>...</td>\n",
       "      <td>...</td>\n",
       "      <td>...</td>\n",
       "      <td>...</td>\n",
       "      <td>...</td>\n",
       "      <td>...</td>\n",
       "      <td>...</td>\n",
       "      <td>...</td>\n",
       "      <td>...</td>\n",
       "      <td>...</td>\n",
       "    </tr>\n",
       "    <tr>\n",
       "      <th>977</th>\n",
       "      <td>The Probability That You’re Alive</td>\n",
       "      <td>The Startup</td>\n",
       "      <td>https://medium.com/swlh/the-probability-that-y...</td>\n",
       "      <td>Esther Kwon</td>\n",
       "      <td>61.0</td>\n",
       "      <td>3</td>\n",
       "      <td>482</td>\n",
       "      <td>Besides what you’re super nice best friend mig...</td>\n",
       "      <td>23/10/2019</td>\n",
       "      <td>0</td>\n",
       "      <td>0</td>\n",
       "      <td>5</td>\n",
       "      <td>3</td>\n",
       "      <td>1050.0</td>\n",
       "      <td>736.0</td>\n",
       "      <td>2</td>\n",
       "      <td>0</td>\n",
       "      <td>0.0</td>\n",
       "      <td>4</td>\n",
       "      <td>86</td>\n",
       "    </tr>\n",
       "    <tr>\n",
       "      <th>978</th>\n",
       "      <td>Finding time to write: the deep worker</td>\n",
       "      <td>The Startup</td>\n",
       "      <td>https://medium.com/swlh/finding-time-to-write-...</td>\n",
       "      <td>Bec Evans</td>\n",
       "      <td>1400.0</td>\n",
       "      <td>6</td>\n",
       "      <td>1301</td>\n",
       "      <td>Deep workers book long session to binge write....</td>\n",
       "      <td>23/10/2019</td>\n",
       "      <td>0</td>\n",
       "      <td>0</td>\n",
       "      <td>7</td>\n",
       "      <td>7</td>\n",
       "      <td>300.0</td>\n",
       "      <td>300.0</td>\n",
       "      <td>1</td>\n",
       "      <td>1</td>\n",
       "      <td>0.0</td>\n",
       "      <td>8</td>\n",
       "      <td>289</td>\n",
       "    </tr>\n",
       "    <tr>\n",
       "      <th>979</th>\n",
       "      <td>Don’t Change Anything Until You Understand Som...</td>\n",
       "      <td>The Startup</td>\n",
       "      <td>https://medium.com/swlh/dont-change-anything-u...</td>\n",
       "      <td>Lacy Starling</td>\n",
       "      <td>402.0</td>\n",
       "      <td>6</td>\n",
       "      <td>1145</td>\n",
       "      <td>Talking to a friend at lunch last week, I hear...</td>\n",
       "      <td>23/10/2019</td>\n",
       "      <td>0</td>\n",
       "      <td>0</td>\n",
       "      <td>0</td>\n",
       "      <td>4</td>\n",
       "      <td>1050.0</td>\n",
       "      <td>692.0</td>\n",
       "      <td>3</td>\n",
       "      <td>0</td>\n",
       "      <td>0.0</td>\n",
       "      <td>6</td>\n",
       "      <td>118</td>\n",
       "    </tr>\n",
       "    <tr>\n",
       "      <th>980</th>\n",
       "      <td>Ghosting: Tips for when your doctor disappears</td>\n",
       "      <td>The Startup</td>\n",
       "      <td>https://medium.com/swlh/ghosting-tips-for-when...</td>\n",
       "      <td>Christina Beach Thielst</td>\n",
       "      <td>12.0</td>\n",
       "      <td>4</td>\n",
       "      <td>474</td>\n",
       "      <td>I recently learned about “ghosting patients” —...</td>\n",
       "      <td>04/06/2019</td>\n",
       "      <td>0</td>\n",
       "      <td>0</td>\n",
       "      <td>1</td>\n",
       "      <td>13</td>\n",
       "      <td>220.0</td>\n",
       "      <td>175.0</td>\n",
       "      <td>2</td>\n",
       "      <td>2</td>\n",
       "      <td>0.0</td>\n",
       "      <td>6</td>\n",
       "      <td>0</td>\n",
       "    </tr>\n",
       "    <tr>\n",
       "      <th>981</th>\n",
       "      <td>Mindfulness Is a Practical Matter Useful at Wo...</td>\n",
       "      <td>The Startup</td>\n",
       "      <td>https://medium.com/swlh/mindfulness-is-a-pract...</td>\n",
       "      <td>sleuth1</td>\n",
       "      <td>229.0</td>\n",
       "      <td>3</td>\n",
       "      <td>611</td>\n",
       "      <td>There is a rumor going around that you have to...</td>\n",
       "      <td>08/06/2019</td>\n",
       "      <td>0</td>\n",
       "      <td>0</td>\n",
       "      <td>3</td>\n",
       "      <td>19</td>\n",
       "      <td>1050.0</td>\n",
       "      <td>589.0</td>\n",
       "      <td>1</td>\n",
       "      <td>0</td>\n",
       "      <td>0.0</td>\n",
       "      <td>8</td>\n",
       "      <td>88</td>\n",
       "    </tr>\n",
       "  </tbody>\n",
       "</table>\n",
       "<p>982 rows × 20 columns</p>\n",
       "</div>"
      ],
      "text/plain": [
       "                                                 title  publication  \\\n",
       "0              Truthfully, we’re all pretty damn tired  The Startup   \n",
       "1               On Being Outed-NATIONAL COMING OUT DAY  The Startup   \n",
       "2       How NaNoWriMo Launched My Career as a Novelist  The Startup   \n",
       "3                                  Lost in translation  The Startup   \n",
       "4         Productivity this, productivity that — STOP!  The Startup   \n",
       "..                                                 ...          ...   \n",
       "977                  The Probability That You’re Alive  The Startup   \n",
       "978             Finding time to write: the deep worker  The Startup   \n",
       "979  Don’t Change Anything Until You Understand Som...  The Startup   \n",
       "980     Ghosting: Tips for when your doctor disappears  The Startup   \n",
       "981  Mindfulness Is a Practical Matter Useful at Wo...  The Startup   \n",
       "\n",
       "                                                  link  \\\n",
       "0    https://medium.com/swlh/truthfully-were-all-pr...   \n",
       "1    https://medium.com/swlh/on-being-outed-nationa...   \n",
       "2    https://medium.com/swlh/how-nanowrimo-launched...   \n",
       "3    https://medium.com/swlh/lost-in-translation-1e...   \n",
       "4    https://medium.com/swlh/productivity-this-prod...   \n",
       "..                                                 ...   \n",
       "977  https://medium.com/swlh/the-probability-that-y...   \n",
       "978  https://medium.com/swlh/finding-time-to-write-...   \n",
       "979  https://medium.com/swlh/dont-change-anything-u...   \n",
       "980  https://medium.com/swlh/ghosting-tips-for-when...   \n",
       "981  https://medium.com/swlh/mindfulness-is-a-pract...   \n",
       "\n",
       "                      author  followers  reading_time  n_words  \\\n",
       "0            Jeremy Divinity     1600.0             3      558   \n",
       "1              Will McMillan       81.0             2      411   \n",
       "2                 Claire Gem      172.0             4       64   \n",
       "3            Federico Antoni     1300.0             7       55   \n",
       "4            Rebekah Whittle       61.0             4       48   \n",
       "..                       ...        ...           ...      ...   \n",
       "977              Esther Kwon       61.0             3      482   \n",
       "978                Bec Evans     1400.0             6     1301   \n",
       "979            Lacy Starling      402.0             6     1145   \n",
       "980  Christina Beach Thielst       12.0             4      474   \n",
       "981                  sleuth1      229.0             3      611   \n",
       "\n",
       "                                             pure_text        date responses  \\\n",
       "0    “Always-on is weird. It’s not how humans thriv...  25/07/2019         0   \n",
       "1    I wish I could say that I came out, that I’d m...  11/10/2019         1   \n",
       "2    I’ll admit it . . . I got a late start as a wr...  11/10/2019         4   \n",
       "3    As my taxi made its way through São Paulo’s ur...  17/09/2019         1   \n",
       "4    I keep seeing all of these articles about prod...  11/10/2019         1   \n",
       "..                                                 ...         ...       ...   \n",
       "977  Besides what you’re super nice best friend mig...  23/10/2019         0   \n",
       "978  Deep workers book long session to binge write....  23/10/2019         0   \n",
       "979  Talking to a friend at lunch last week, I hear...  23/10/2019         0   \n",
       "980  I recently learned about “ghosting patients” —...  04/06/2019         0   \n",
       "981  There is a rumor going around that you have to...  08/06/2019         0   \n",
       "\n",
       "     n_code_chunks  bold_text_count  italic_text_count  mean_image_width  \\\n",
       "0                0                0                  0            1050.0   \n",
       "1                0                0                  0             640.0   \n",
       "2                0                0                  0            1050.0   \n",
       "3                0                0                  0            1050.0   \n",
       "4                0                0                  0            1050.0   \n",
       "..             ...              ...                ...               ...   \n",
       "977              0                5                  3            1050.0   \n",
       "978              0                7                  7             300.0   \n",
       "979              0                0                  4            1050.0   \n",
       "980              0                1                 13             220.0   \n",
       "981              0                3                 19            1050.0   \n",
       "\n",
       "     mean_image_height  n_images  n_lists  n_vids  n_links  claps  \n",
       "0                700.0         1        0     0.0        6      5  \n",
       "1                372.0         1        0     0.0        0    259  \n",
       "2                699.0         1        0     0.0        0    378  \n",
       "3                656.0         1        0     0.0        0    188  \n",
       "4               1400.0         1        0     0.0        0    152  \n",
       "..                 ...       ...      ...     ...      ...    ...  \n",
       "977              736.0         2        0     0.0        4     86  \n",
       "978              300.0         1        1     0.0        8    289  \n",
       "979              692.0         3        0     0.0        6    118  \n",
       "980              175.0         2        2     0.0        6      0  \n",
       "981              589.0         1        0     0.0        8     88  \n",
       "\n",
       "[982 rows x 20 columns]"
      ]
     },
     "execution_count": 136,
     "metadata": {},
     "output_type": "execute_result"
    }
   ],
   "source": [
    "df6"
   ]
  },
  {
   "cell_type": "code",
   "execution_count": 141,
   "metadata": {},
   "outputs": [
    {
     "data": {
      "text/html": [
       "<div>\n",
       "<style scoped>\n",
       "    .dataframe tbody tr th:only-of-type {\n",
       "        vertical-align: middle;\n",
       "    }\n",
       "\n",
       "    .dataframe tbody tr th {\n",
       "        vertical-align: top;\n",
       "    }\n",
       "\n",
       "    .dataframe thead th {\n",
       "        text-align: right;\n",
       "    }\n",
       "</style>\n",
       "<table border=\"1\" class=\"dataframe\">\n",
       "  <thead>\n",
       "    <tr style=\"text-align: right;\">\n",
       "      <th></th>\n",
       "      <th>title</th>\n",
       "      <th>publication</th>\n",
       "      <th>link</th>\n",
       "      <th>author</th>\n",
       "      <th>followers</th>\n",
       "      <th>reading_time</th>\n",
       "      <th>n_words</th>\n",
       "      <th>pure_text</th>\n",
       "      <th>date</th>\n",
       "      <th>responses</th>\n",
       "      <th>n_code_chunks</th>\n",
       "      <th>bold_text_count</th>\n",
       "      <th>italic_text_count</th>\n",
       "      <th>mean_image_width</th>\n",
       "      <th>mean_image_height</th>\n",
       "      <th>n_images</th>\n",
       "      <th>n_lists</th>\n",
       "      <th>n_vids</th>\n",
       "      <th>n_links</th>\n",
       "      <th>claps</th>\n",
       "    </tr>\n",
       "  </thead>\n",
       "  <tbody>\n",
       "    <tr>\n",
       "      <th>0</th>\n",
       "      <td>Truthfully, we’re all pretty damn tired</td>\n",
       "      <td>The Startup</td>\n",
       "      <td>https://medium.com/swlh/truthfully-were-all-pr...</td>\n",
       "      <td>Jeremy Divinity</td>\n",
       "      <td>1600.0</td>\n",
       "      <td>3</td>\n",
       "      <td>558</td>\n",
       "      <td>“Always-on is weird. It’s not how humans thriv...</td>\n",
       "      <td>25/07/2019</td>\n",
       "      <td>0</td>\n",
       "      <td>0</td>\n",
       "      <td>0</td>\n",
       "      <td>0</td>\n",
       "      <td>1050.0</td>\n",
       "      <td>700.0</td>\n",
       "      <td>1</td>\n",
       "      <td>0</td>\n",
       "      <td>0.0</td>\n",
       "      <td>6</td>\n",
       "      <td>5</td>\n",
       "    </tr>\n",
       "    <tr>\n",
       "      <th>1</th>\n",
       "      <td>On Being Outed-NATIONAL COMING OUT DAY</td>\n",
       "      <td>The Startup</td>\n",
       "      <td>https://medium.com/swlh/on-being-outed-nationa...</td>\n",
       "      <td>Will McMillan</td>\n",
       "      <td>81.0</td>\n",
       "      <td>2</td>\n",
       "      <td>411</td>\n",
       "      <td>I wish I could say that I came out, that I’d m...</td>\n",
       "      <td>11/10/2019</td>\n",
       "      <td>1</td>\n",
       "      <td>0</td>\n",
       "      <td>0</td>\n",
       "      <td>0</td>\n",
       "      <td>640.0</td>\n",
       "      <td>372.0</td>\n",
       "      <td>1</td>\n",
       "      <td>0</td>\n",
       "      <td>0.0</td>\n",
       "      <td>0</td>\n",
       "      <td>259</td>\n",
       "    </tr>\n",
       "    <tr>\n",
       "      <th>2</th>\n",
       "      <td>How NaNoWriMo Launched My Career as a Novelist</td>\n",
       "      <td>The Startup</td>\n",
       "      <td>https://medium.com/swlh/how-nanowrimo-launched...</td>\n",
       "      <td>Claire Gem</td>\n",
       "      <td>172.0</td>\n",
       "      <td>4</td>\n",
       "      <td>64</td>\n",
       "      <td>I’ll admit it . . . I got a late start as a wr...</td>\n",
       "      <td>11/10/2019</td>\n",
       "      <td>4</td>\n",
       "      <td>0</td>\n",
       "      <td>0</td>\n",
       "      <td>0</td>\n",
       "      <td>1050.0</td>\n",
       "      <td>699.0</td>\n",
       "      <td>1</td>\n",
       "      <td>0</td>\n",
       "      <td>0.0</td>\n",
       "      <td>0</td>\n",
       "      <td>378</td>\n",
       "    </tr>\n",
       "    <tr>\n",
       "      <th>3</th>\n",
       "      <td>Lost in translation</td>\n",
       "      <td>The Startup</td>\n",
       "      <td>https://medium.com/swlh/lost-in-translation-1e...</td>\n",
       "      <td>Federico Antoni</td>\n",
       "      <td>1300.0</td>\n",
       "      <td>7</td>\n",
       "      <td>55</td>\n",
       "      <td>As my taxi made its way through São Paulo’s ur...</td>\n",
       "      <td>17/09/2019</td>\n",
       "      <td>1</td>\n",
       "      <td>0</td>\n",
       "      <td>0</td>\n",
       "      <td>0</td>\n",
       "      <td>1050.0</td>\n",
       "      <td>656.0</td>\n",
       "      <td>1</td>\n",
       "      <td>0</td>\n",
       "      <td>0.0</td>\n",
       "      <td>0</td>\n",
       "      <td>188</td>\n",
       "    </tr>\n",
       "    <tr>\n",
       "      <th>4</th>\n",
       "      <td>Productivity this, productivity that — STOP!</td>\n",
       "      <td>The Startup</td>\n",
       "      <td>https://medium.com/swlh/productivity-this-prod...</td>\n",
       "      <td>Rebekah Whittle</td>\n",
       "      <td>61.0</td>\n",
       "      <td>4</td>\n",
       "      <td>48</td>\n",
       "      <td>I keep seeing all of these articles about prod...</td>\n",
       "      <td>11/10/2019</td>\n",
       "      <td>1</td>\n",
       "      <td>0</td>\n",
       "      <td>0</td>\n",
       "      <td>0</td>\n",
       "      <td>1050.0</td>\n",
       "      <td>1400.0</td>\n",
       "      <td>1</td>\n",
       "      <td>0</td>\n",
       "      <td>0.0</td>\n",
       "      <td>0</td>\n",
       "      <td>152</td>\n",
       "    </tr>\n",
       "    <tr>\n",
       "      <th>...</th>\n",
       "      <td>...</td>\n",
       "      <td>...</td>\n",
       "      <td>...</td>\n",
       "      <td>...</td>\n",
       "      <td>...</td>\n",
       "      <td>...</td>\n",
       "      <td>...</td>\n",
       "      <td>...</td>\n",
       "      <td>...</td>\n",
       "      <td>...</td>\n",
       "      <td>...</td>\n",
       "      <td>...</td>\n",
       "      <td>...</td>\n",
       "      <td>...</td>\n",
       "      <td>...</td>\n",
       "      <td>...</td>\n",
       "      <td>...</td>\n",
       "      <td>...</td>\n",
       "      <td>...</td>\n",
       "      <td>...</td>\n",
       "    </tr>\n",
       "    <tr>\n",
       "      <th>977</th>\n",
       "      <td>The Probability That You’re Alive</td>\n",
       "      <td>The Startup</td>\n",
       "      <td>https://medium.com/swlh/the-probability-that-y...</td>\n",
       "      <td>Esther Kwon</td>\n",
       "      <td>61.0</td>\n",
       "      <td>3</td>\n",
       "      <td>482</td>\n",
       "      <td>Besides what you’re super nice best friend mig...</td>\n",
       "      <td>23/10/2019</td>\n",
       "      <td>0</td>\n",
       "      <td>0</td>\n",
       "      <td>5</td>\n",
       "      <td>3</td>\n",
       "      <td>1050.0</td>\n",
       "      <td>736.0</td>\n",
       "      <td>2</td>\n",
       "      <td>0</td>\n",
       "      <td>0.0</td>\n",
       "      <td>4</td>\n",
       "      <td>86</td>\n",
       "    </tr>\n",
       "    <tr>\n",
       "      <th>978</th>\n",
       "      <td>Finding time to write: the deep worker</td>\n",
       "      <td>The Startup</td>\n",
       "      <td>https://medium.com/swlh/finding-time-to-write-...</td>\n",
       "      <td>Bec Evans</td>\n",
       "      <td>1400.0</td>\n",
       "      <td>6</td>\n",
       "      <td>1301</td>\n",
       "      <td>Deep workers book long session to binge write....</td>\n",
       "      <td>23/10/2019</td>\n",
       "      <td>0</td>\n",
       "      <td>0</td>\n",
       "      <td>7</td>\n",
       "      <td>7</td>\n",
       "      <td>300.0</td>\n",
       "      <td>300.0</td>\n",
       "      <td>1</td>\n",
       "      <td>1</td>\n",
       "      <td>0.0</td>\n",
       "      <td>8</td>\n",
       "      <td>289</td>\n",
       "    </tr>\n",
       "    <tr>\n",
       "      <th>979</th>\n",
       "      <td>Don’t Change Anything Until You Understand Som...</td>\n",
       "      <td>The Startup</td>\n",
       "      <td>https://medium.com/swlh/dont-change-anything-u...</td>\n",
       "      <td>Lacy Starling</td>\n",
       "      <td>402.0</td>\n",
       "      <td>6</td>\n",
       "      <td>1145</td>\n",
       "      <td>Talking to a friend at lunch last week, I hear...</td>\n",
       "      <td>23/10/2019</td>\n",
       "      <td>0</td>\n",
       "      <td>0</td>\n",
       "      <td>0</td>\n",
       "      <td>4</td>\n",
       "      <td>1050.0</td>\n",
       "      <td>692.0</td>\n",
       "      <td>3</td>\n",
       "      <td>0</td>\n",
       "      <td>0.0</td>\n",
       "      <td>6</td>\n",
       "      <td>118</td>\n",
       "    </tr>\n",
       "    <tr>\n",
       "      <th>980</th>\n",
       "      <td>Ghosting: Tips for when your doctor disappears</td>\n",
       "      <td>The Startup</td>\n",
       "      <td>https://medium.com/swlh/ghosting-tips-for-when...</td>\n",
       "      <td>Christina Beach Thielst</td>\n",
       "      <td>12.0</td>\n",
       "      <td>4</td>\n",
       "      <td>474</td>\n",
       "      <td>I recently learned about “ghosting patients” —...</td>\n",
       "      <td>04/06/2019</td>\n",
       "      <td>0</td>\n",
       "      <td>0</td>\n",
       "      <td>1</td>\n",
       "      <td>13</td>\n",
       "      <td>220.0</td>\n",
       "      <td>175.0</td>\n",
       "      <td>2</td>\n",
       "      <td>2</td>\n",
       "      <td>0.0</td>\n",
       "      <td>6</td>\n",
       "      <td>0</td>\n",
       "    </tr>\n",
       "    <tr>\n",
       "      <th>981</th>\n",
       "      <td>Mindfulness Is a Practical Matter Useful at Wo...</td>\n",
       "      <td>The Startup</td>\n",
       "      <td>https://medium.com/swlh/mindfulness-is-a-pract...</td>\n",
       "      <td>sleuth1</td>\n",
       "      <td>229.0</td>\n",
       "      <td>3</td>\n",
       "      <td>611</td>\n",
       "      <td>There is a rumor going around that you have to...</td>\n",
       "      <td>08/06/2019</td>\n",
       "      <td>0</td>\n",
       "      <td>0</td>\n",
       "      <td>3</td>\n",
       "      <td>19</td>\n",
       "      <td>1050.0</td>\n",
       "      <td>589.0</td>\n",
       "      <td>1</td>\n",
       "      <td>0</td>\n",
       "      <td>0.0</td>\n",
       "      <td>8</td>\n",
       "      <td>88</td>\n",
       "    </tr>\n",
       "  </tbody>\n",
       "</table>\n",
       "<p>982 rows × 20 columns</p>\n",
       "</div>"
      ],
      "text/plain": [
       "                                                 title  publication  \\\n",
       "0              Truthfully, we’re all pretty damn tired  The Startup   \n",
       "1               On Being Outed-NATIONAL COMING OUT DAY  The Startup   \n",
       "2       How NaNoWriMo Launched My Career as a Novelist  The Startup   \n",
       "3                                  Lost in translation  The Startup   \n",
       "4         Productivity this, productivity that — STOP!  The Startup   \n",
       "..                                                 ...          ...   \n",
       "977                  The Probability That You’re Alive  The Startup   \n",
       "978             Finding time to write: the deep worker  The Startup   \n",
       "979  Don’t Change Anything Until You Understand Som...  The Startup   \n",
       "980     Ghosting: Tips for when your doctor disappears  The Startup   \n",
       "981  Mindfulness Is a Practical Matter Useful at Wo...  The Startup   \n",
       "\n",
       "                                                  link  \\\n",
       "0    https://medium.com/swlh/truthfully-were-all-pr...   \n",
       "1    https://medium.com/swlh/on-being-outed-nationa...   \n",
       "2    https://medium.com/swlh/how-nanowrimo-launched...   \n",
       "3    https://medium.com/swlh/lost-in-translation-1e...   \n",
       "4    https://medium.com/swlh/productivity-this-prod...   \n",
       "..                                                 ...   \n",
       "977  https://medium.com/swlh/the-probability-that-y...   \n",
       "978  https://medium.com/swlh/finding-time-to-write-...   \n",
       "979  https://medium.com/swlh/dont-change-anything-u...   \n",
       "980  https://medium.com/swlh/ghosting-tips-for-when...   \n",
       "981  https://medium.com/swlh/mindfulness-is-a-pract...   \n",
       "\n",
       "                      author  followers  reading_time  n_words  \\\n",
       "0            Jeremy Divinity     1600.0             3      558   \n",
       "1              Will McMillan       81.0             2      411   \n",
       "2                 Claire Gem      172.0             4       64   \n",
       "3            Federico Antoni     1300.0             7       55   \n",
       "4            Rebekah Whittle       61.0             4       48   \n",
       "..                       ...        ...           ...      ...   \n",
       "977              Esther Kwon       61.0             3      482   \n",
       "978                Bec Evans     1400.0             6     1301   \n",
       "979            Lacy Starling      402.0             6     1145   \n",
       "980  Christina Beach Thielst       12.0             4      474   \n",
       "981                  sleuth1      229.0             3      611   \n",
       "\n",
       "                                             pure_text        date responses  \\\n",
       "0    “Always-on is weird. It’s not how humans thriv...  25/07/2019         0   \n",
       "1    I wish I could say that I came out, that I’d m...  11/10/2019         1   \n",
       "2    I’ll admit it . . . I got a late start as a wr...  11/10/2019         4   \n",
       "3    As my taxi made its way through São Paulo’s ur...  17/09/2019         1   \n",
       "4    I keep seeing all of these articles about prod...  11/10/2019         1   \n",
       "..                                                 ...         ...       ...   \n",
       "977  Besides what you’re super nice best friend mig...  23/10/2019         0   \n",
       "978  Deep workers book long session to binge write....  23/10/2019         0   \n",
       "979  Talking to a friend at lunch last week, I hear...  23/10/2019         0   \n",
       "980  I recently learned about “ghosting patients” —...  04/06/2019         0   \n",
       "981  There is a rumor going around that you have to...  08/06/2019         0   \n",
       "\n",
       "     n_code_chunks  bold_text_count  italic_text_count  mean_image_width  \\\n",
       "0                0                0                  0            1050.0   \n",
       "1                0                0                  0             640.0   \n",
       "2                0                0                  0            1050.0   \n",
       "3                0                0                  0            1050.0   \n",
       "4                0                0                  0            1050.0   \n",
       "..             ...              ...                ...               ...   \n",
       "977              0                5                  3            1050.0   \n",
       "978              0                7                  7             300.0   \n",
       "979              0                0                  4            1050.0   \n",
       "980              0                1                 13             220.0   \n",
       "981              0                3                 19            1050.0   \n",
       "\n",
       "     mean_image_height  n_images  n_lists  n_vids  n_links  claps  \n",
       "0                700.0         1        0     0.0        6      5  \n",
       "1                372.0         1        0     0.0        0    259  \n",
       "2                699.0         1        0     0.0        0    378  \n",
       "3                656.0         1        0     0.0        0    188  \n",
       "4               1400.0         1        0     0.0        0    152  \n",
       "..                 ...       ...      ...     ...      ...    ...  \n",
       "977              736.0         2        0     0.0        4     86  \n",
       "978              300.0         1        1     0.0        8    289  \n",
       "979              692.0         3        0     0.0        6    118  \n",
       "980              175.0         2        2     0.0        6      0  \n",
       "981              589.0         1        0     0.0        8     88  \n",
       "\n",
       "[982 rows x 20 columns]"
      ]
     },
     "execution_count": 141,
     "metadata": {},
     "output_type": "execute_result"
    }
   ],
   "source": [
    "df6.loc[df6[\"link\"].drop_duplicates().index, :]\n"
   ]
  },
  {
   "cell_type": "code",
   "execution_count": 142,
   "metadata": {},
   "outputs": [],
   "source": [
    "df_scrapped = pd.concat([df_scrapped, df6], ignore_index=True)"
   ]
  },
  {
   "cell_type": "code",
   "execution_count": 144,
   "metadata": {},
   "outputs": [
    {
     "data": {
      "text/html": [
       "<div>\n",
       "<style scoped>\n",
       "    .dataframe tbody tr th:only-of-type {\n",
       "        vertical-align: middle;\n",
       "    }\n",
       "\n",
       "    .dataframe tbody tr th {\n",
       "        vertical-align: top;\n",
       "    }\n",
       "\n",
       "    .dataframe thead th {\n",
       "        text-align: right;\n",
       "    }\n",
       "</style>\n",
       "<table border=\"1\" class=\"dataframe\">\n",
       "  <thead>\n",
       "    <tr style=\"text-align: right;\">\n",
       "      <th></th>\n",
       "      <th>title</th>\n",
       "      <th>publication</th>\n",
       "      <th>link</th>\n",
       "      <th>author</th>\n",
       "      <th>followers</th>\n",
       "      <th>reading_time</th>\n",
       "      <th>n_words</th>\n",
       "      <th>pure_text</th>\n",
       "      <th>date</th>\n",
       "      <th>responses</th>\n",
       "      <th>n_code_chunks</th>\n",
       "      <th>bold_text_count</th>\n",
       "      <th>italic_text_count</th>\n",
       "      <th>mean_image_width</th>\n",
       "      <th>mean_image_height</th>\n",
       "      <th>n_images</th>\n",
       "      <th>n_lists</th>\n",
       "      <th>n_vids</th>\n",
       "      <th>n_links</th>\n",
       "      <th>claps</th>\n",
       "    </tr>\n",
       "  </thead>\n",
       "  <tbody>\n",
       "    <tr>\n",
       "      <th>0</th>\n",
       "      <td>Hands-on Graph Neural Networks with PyTorch &amp; ...</td>\n",
       "      <td>Towards Data Science</td>\n",
       "      <td>https://towardsdatascience.com/hands-on-graph-...</td>\n",
       "      <td>Kung-Hsiang, Huang (Steeve)</td>\n",
       "      <td>3900.0</td>\n",
       "      <td>9.0</td>\n",
       "      <td>1615.0</td>\n",
       "      <td>In my last article, I introduced the concept o...</td>\n",
       "      <td>30/05/2019</td>\n",
       "      <td>17</td>\n",
       "      <td>5.0</td>\n",
       "      <td>7.0</td>\n",
       "      <td>32.0</td>\n",
       "      <td>744.0</td>\n",
       "      <td>302.0</td>\n",
       "      <td>12.0</td>\n",
       "      <td>10.0</td>\n",
       "      <td>0.0</td>\n",
       "      <td>10.0</td>\n",
       "      <td>1100.0</td>\n",
       "    </tr>\n",
       "    <tr>\n",
       "      <th>1</th>\n",
       "      <td>An Easy Introduction to SQL for Data Scientists</td>\n",
       "      <td>Towards Data Science</td>\n",
       "      <td>https://towardsdatascience.com/an-easy-introdu...</td>\n",
       "      <td>George Seif</td>\n",
       "      <td>21000.0</td>\n",
       "      <td>8.0</td>\n",
       "      <td>742.0</td>\n",
       "      <td>Want to be inspired? Come join my Super Quotes...</td>\n",
       "      <td>30/05/2019</td>\n",
       "      <td>1</td>\n",
       "      <td>14.0</td>\n",
       "      <td>1.0</td>\n",
       "      <td>5.0</td>\n",
       "      <td>1050.0</td>\n",
       "      <td>700.0</td>\n",
       "      <td>1.0</td>\n",
       "      <td>5.0</td>\n",
       "      <td>0.0</td>\n",
       "      <td>5.0</td>\n",
       "      <td>565.0</td>\n",
       "    </tr>\n",
       "    <tr>\n",
       "      <th>2</th>\n",
       "      <td>A Step-by-Step Implementation of Gradient Desc...</td>\n",
       "      <td>Towards Data Science</td>\n",
       "      <td>https://towardsdatascience.com/a-step-by-step-...</td>\n",
       "      <td>Yitong Ren</td>\n",
       "      <td>332.0</td>\n",
       "      <td>4.0</td>\n",
       "      <td>534.0</td>\n",
       "      <td>The original intention behind this post was me...</td>\n",
       "      <td>30/05/2019</td>\n",
       "      <td>4</td>\n",
       "      <td>1.0</td>\n",
       "      <td>4.0</td>\n",
       "      <td>5.0</td>\n",
       "      <td>1050.0</td>\n",
       "      <td>592.0</td>\n",
       "      <td>6.0</td>\n",
       "      <td>1.0</td>\n",
       "      <td>0.0</td>\n",
       "      <td>3.0</td>\n",
       "      <td>474.0</td>\n",
       "    </tr>\n",
       "    <tr>\n",
       "      <th>3</th>\n",
       "      <td>Introduction to Latent Matrix Factorization Re...</td>\n",
       "      <td>Towards Data Science</td>\n",
       "      <td>https://towardsdatascience.com/introduction-to...</td>\n",
       "      <td>Tumas Rackaitis</td>\n",
       "      <td>37.0</td>\n",
       "      <td>5.0</td>\n",
       "      <td>860.0</td>\n",
       "      <td>Latent Matrix Factorization is an incredibly p...</td>\n",
       "      <td>30/05/2019</td>\n",
       "      <td>2</td>\n",
       "      <td>1.0</td>\n",
       "      <td>11.0</td>\n",
       "      <td>12.0</td>\n",
       "      <td>813.0</td>\n",
       "      <td>470.0</td>\n",
       "      <td>3.0</td>\n",
       "      <td>0.0</td>\n",
       "      <td>0.0</td>\n",
       "      <td>9.0</td>\n",
       "      <td>214.0</td>\n",
       "    </tr>\n",
       "    <tr>\n",
       "      <th>4</th>\n",
       "      <td>Databricks: How to Save Data Frames as CSV Fil...</td>\n",
       "      <td>Towards Data Science</td>\n",
       "      <td>https://towardsdatascience.com/databricks-how-...</td>\n",
       "      <td>Deborah Kewon</td>\n",
       "      <td>129.0</td>\n",
       "      <td>4.0</td>\n",
       "      <td>633.0</td>\n",
       "      <td>When I work on Python projects dealing with la...</td>\n",
       "      <td>30/05/2019</td>\n",
       "      <td>4</td>\n",
       "      <td>2.0</td>\n",
       "      <td>6.0</td>\n",
       "      <td>2.0</td>\n",
       "      <td>1050.0</td>\n",
       "      <td>438.0</td>\n",
       "      <td>8.0</td>\n",
       "      <td>1.0</td>\n",
       "      <td>0.0</td>\n",
       "      <td>5.0</td>\n",
       "      <td>516.0</td>\n",
       "    </tr>\n",
       "    <tr>\n",
       "      <th>...</th>\n",
       "      <td>...</td>\n",
       "      <td>...</td>\n",
       "      <td>...</td>\n",
       "      <td>...</td>\n",
       "      <td>...</td>\n",
       "      <td>...</td>\n",
       "      <td>...</td>\n",
       "      <td>...</td>\n",
       "      <td>...</td>\n",
       "      <td>...</td>\n",
       "      <td>...</td>\n",
       "      <td>...</td>\n",
       "      <td>...</td>\n",
       "      <td>...</td>\n",
       "      <td>...</td>\n",
       "      <td>...</td>\n",
       "      <td>...</td>\n",
       "      <td>...</td>\n",
       "      <td>...</td>\n",
       "      <td>...</td>\n",
       "    </tr>\n",
       "    <tr>\n",
       "      <th>977</th>\n",
       "      <td>The Probability That You’re Alive</td>\n",
       "      <td>The Startup</td>\n",
       "      <td>https://medium.com/swlh/the-probability-that-y...</td>\n",
       "      <td>Esther Kwon</td>\n",
       "      <td>61.0</td>\n",
       "      <td>3.0</td>\n",
       "      <td>482.0</td>\n",
       "      <td>Besides what you’re super nice best friend mig...</td>\n",
       "      <td>23/10/2019</td>\n",
       "      <td>0</td>\n",
       "      <td>0.0</td>\n",
       "      <td>5.0</td>\n",
       "      <td>3.0</td>\n",
       "      <td>1050.0</td>\n",
       "      <td>736.0</td>\n",
       "      <td>2.0</td>\n",
       "      <td>0.0</td>\n",
       "      <td>0.0</td>\n",
       "      <td>4.0</td>\n",
       "      <td>86.0</td>\n",
       "    </tr>\n",
       "    <tr>\n",
       "      <th>978</th>\n",
       "      <td>Finding time to write: the deep worker</td>\n",
       "      <td>The Startup</td>\n",
       "      <td>https://medium.com/swlh/finding-time-to-write-...</td>\n",
       "      <td>Bec Evans</td>\n",
       "      <td>1400.0</td>\n",
       "      <td>6.0</td>\n",
       "      <td>1301.0</td>\n",
       "      <td>Deep workers book long session to binge write....</td>\n",
       "      <td>23/10/2019</td>\n",
       "      <td>0</td>\n",
       "      <td>0.0</td>\n",
       "      <td>7.0</td>\n",
       "      <td>7.0</td>\n",
       "      <td>300.0</td>\n",
       "      <td>300.0</td>\n",
       "      <td>1.0</td>\n",
       "      <td>1.0</td>\n",
       "      <td>0.0</td>\n",
       "      <td>8.0</td>\n",
       "      <td>289.0</td>\n",
       "    </tr>\n",
       "    <tr>\n",
       "      <th>979</th>\n",
       "      <td>Don’t Change Anything Until You Understand Som...</td>\n",
       "      <td>The Startup</td>\n",
       "      <td>https://medium.com/swlh/dont-change-anything-u...</td>\n",
       "      <td>Lacy Starling</td>\n",
       "      <td>402.0</td>\n",
       "      <td>6.0</td>\n",
       "      <td>1145.0</td>\n",
       "      <td>Talking to a friend at lunch last week, I hear...</td>\n",
       "      <td>23/10/2019</td>\n",
       "      <td>0</td>\n",
       "      <td>0.0</td>\n",
       "      <td>0.0</td>\n",
       "      <td>4.0</td>\n",
       "      <td>1050.0</td>\n",
       "      <td>692.0</td>\n",
       "      <td>3.0</td>\n",
       "      <td>0.0</td>\n",
       "      <td>0.0</td>\n",
       "      <td>6.0</td>\n",
       "      <td>118.0</td>\n",
       "    </tr>\n",
       "    <tr>\n",
       "      <th>980</th>\n",
       "      <td>Ghosting: Tips for when your doctor disappears</td>\n",
       "      <td>The Startup</td>\n",
       "      <td>https://medium.com/swlh/ghosting-tips-for-when...</td>\n",
       "      <td>Christina Beach Thielst</td>\n",
       "      <td>12.0</td>\n",
       "      <td>4.0</td>\n",
       "      <td>474.0</td>\n",
       "      <td>I recently learned about “ghosting patients” —...</td>\n",
       "      <td>04/06/2019</td>\n",
       "      <td>0</td>\n",
       "      <td>0.0</td>\n",
       "      <td>1.0</td>\n",
       "      <td>13.0</td>\n",
       "      <td>220.0</td>\n",
       "      <td>175.0</td>\n",
       "      <td>2.0</td>\n",
       "      <td>2.0</td>\n",
       "      <td>0.0</td>\n",
       "      <td>6.0</td>\n",
       "      <td>0.0</td>\n",
       "    </tr>\n",
       "    <tr>\n",
       "      <th>981</th>\n",
       "      <td>Mindfulness Is a Practical Matter Useful at Wo...</td>\n",
       "      <td>The Startup</td>\n",
       "      <td>https://medium.com/swlh/mindfulness-is-a-pract...</td>\n",
       "      <td>sleuth1</td>\n",
       "      <td>229.0</td>\n",
       "      <td>3.0</td>\n",
       "      <td>611.0</td>\n",
       "      <td>There is a rumor going around that you have to...</td>\n",
       "      <td>08/06/2019</td>\n",
       "      <td>0</td>\n",
       "      <td>0.0</td>\n",
       "      <td>3.0</td>\n",
       "      <td>19.0</td>\n",
       "      <td>1050.0</td>\n",
       "      <td>589.0</td>\n",
       "      <td>1.0</td>\n",
       "      <td>0.0</td>\n",
       "      <td>0.0</td>\n",
       "      <td>8.0</td>\n",
       "      <td>88.0</td>\n",
       "    </tr>\n",
       "  </tbody>\n",
       "</table>\n",
       "<p>6509 rows × 20 columns</p>\n",
       "</div>"
      ],
      "text/plain": [
       "                                                 title           publication  \\\n",
       "0    Hands-on Graph Neural Networks with PyTorch & ...  Towards Data Science   \n",
       "1      An Easy Introduction to SQL for Data Scientists  Towards Data Science   \n",
       "2    A Step-by-Step Implementation of Gradient Desc...  Towards Data Science   \n",
       "3    Introduction to Latent Matrix Factorization Re...  Towards Data Science   \n",
       "4    Databricks: How to Save Data Frames as CSV Fil...  Towards Data Science   \n",
       "..                                                 ...                   ...   \n",
       "977                  The Probability That You’re Alive           The Startup   \n",
       "978             Finding time to write: the deep worker           The Startup   \n",
       "979  Don’t Change Anything Until You Understand Som...           The Startup   \n",
       "980     Ghosting: Tips for when your doctor disappears           The Startup   \n",
       "981  Mindfulness Is a Practical Matter Useful at Wo...           The Startup   \n",
       "\n",
       "                                                  link  \\\n",
       "0    https://towardsdatascience.com/hands-on-graph-...   \n",
       "1    https://towardsdatascience.com/an-easy-introdu...   \n",
       "2    https://towardsdatascience.com/a-step-by-step-...   \n",
       "3    https://towardsdatascience.com/introduction-to...   \n",
       "4    https://towardsdatascience.com/databricks-how-...   \n",
       "..                                                 ...   \n",
       "977  https://medium.com/swlh/the-probability-that-y...   \n",
       "978  https://medium.com/swlh/finding-time-to-write-...   \n",
       "979  https://medium.com/swlh/dont-change-anything-u...   \n",
       "980  https://medium.com/swlh/ghosting-tips-for-when...   \n",
       "981  https://medium.com/swlh/mindfulness-is-a-pract...   \n",
       "\n",
       "                          author  followers  reading_time  n_words  \\\n",
       "0    Kung-Hsiang, Huang (Steeve)     3900.0           9.0   1615.0   \n",
       "1                    George Seif    21000.0           8.0    742.0   \n",
       "2                     Yitong Ren      332.0           4.0    534.0   \n",
       "3                Tumas Rackaitis       37.0           5.0    860.0   \n",
       "4                  Deborah Kewon      129.0           4.0    633.0   \n",
       "..                           ...        ...           ...      ...   \n",
       "977                  Esther Kwon       61.0           3.0    482.0   \n",
       "978                    Bec Evans     1400.0           6.0   1301.0   \n",
       "979                Lacy Starling      402.0           6.0   1145.0   \n",
       "980      Christina Beach Thielst       12.0           4.0    474.0   \n",
       "981                      sleuth1      229.0           3.0    611.0   \n",
       "\n",
       "                                             pure_text        date responses  \\\n",
       "0    In my last article, I introduced the concept o...  30/05/2019        17   \n",
       "1    Want to be inspired? Come join my Super Quotes...  30/05/2019         1   \n",
       "2    The original intention behind this post was me...  30/05/2019         4   \n",
       "3    Latent Matrix Factorization is an incredibly p...  30/05/2019         2   \n",
       "4    When I work on Python projects dealing with la...  30/05/2019         4   \n",
       "..                                                 ...         ...       ...   \n",
       "977  Besides what you’re super nice best friend mig...  23/10/2019         0   \n",
       "978  Deep workers book long session to binge write....  23/10/2019         0   \n",
       "979  Talking to a friend at lunch last week, I hear...  23/10/2019         0   \n",
       "980  I recently learned about “ghosting patients” —...  04/06/2019         0   \n",
       "981  There is a rumor going around that you have to...  08/06/2019         0   \n",
       "\n",
       "     n_code_chunks  bold_text_count  italic_text_count  mean_image_width  \\\n",
       "0              5.0              7.0               32.0             744.0   \n",
       "1             14.0              1.0                5.0            1050.0   \n",
       "2              1.0              4.0                5.0            1050.0   \n",
       "3              1.0             11.0               12.0             813.0   \n",
       "4              2.0              6.0                2.0            1050.0   \n",
       "..             ...              ...                ...               ...   \n",
       "977            0.0              5.0                3.0            1050.0   \n",
       "978            0.0              7.0                7.0             300.0   \n",
       "979            0.0              0.0                4.0            1050.0   \n",
       "980            0.0              1.0               13.0             220.0   \n",
       "981            0.0              3.0               19.0            1050.0   \n",
       "\n",
       "     mean_image_height  n_images  n_lists  n_vids  n_links   claps  \n",
       "0                302.0      12.0     10.0     0.0     10.0  1100.0  \n",
       "1                700.0       1.0      5.0     0.0      5.0   565.0  \n",
       "2                592.0       6.0      1.0     0.0      3.0   474.0  \n",
       "3                470.0       3.0      0.0     0.0      9.0   214.0  \n",
       "4                438.0       8.0      1.0     0.0      5.0   516.0  \n",
       "..                 ...       ...      ...     ...      ...     ...  \n",
       "977              736.0       2.0      0.0     0.0      4.0    86.0  \n",
       "978              300.0       1.0      1.0     0.0      8.0   289.0  \n",
       "979              692.0       3.0      0.0     0.0      6.0   118.0  \n",
       "980              175.0       2.0      2.0     0.0      6.0     0.0  \n",
       "981              589.0       1.0      0.0     0.0      8.0    88.0  \n",
       "\n",
       "[6509 rows x 20 columns]"
      ]
     },
     "execution_count": 144,
     "metadata": {},
     "output_type": "execute_result"
    }
   ],
   "source": [
    "df_scrapped"
   ]
  },
  {
   "cell_type": "code",
   "execution_count": 146,
   "metadata": {},
   "outputs": [],
   "source": [
    "df_scrapped.index = range(df_scrapped.shape[0])"
   ]
  },
  {
   "cell_type": "code",
   "execution_count": 147,
   "metadata": {},
   "outputs": [
    {
     "data": {
      "text/html": [
       "<div>\n",
       "<style scoped>\n",
       "    .dataframe tbody tr th:only-of-type {\n",
       "        vertical-align: middle;\n",
       "    }\n",
       "\n",
       "    .dataframe tbody tr th {\n",
       "        vertical-align: top;\n",
       "    }\n",
       "\n",
       "    .dataframe thead th {\n",
       "        text-align: right;\n",
       "    }\n",
       "</style>\n",
       "<table border=\"1\" class=\"dataframe\">\n",
       "  <thead>\n",
       "    <tr style=\"text-align: right;\">\n",
       "      <th></th>\n",
       "      <th>title</th>\n",
       "      <th>publication</th>\n",
       "      <th>link</th>\n",
       "      <th>author</th>\n",
       "      <th>followers</th>\n",
       "      <th>reading_time</th>\n",
       "      <th>n_words</th>\n",
       "      <th>pure_text</th>\n",
       "      <th>date</th>\n",
       "      <th>responses</th>\n",
       "      <th>n_code_chunks</th>\n",
       "      <th>bold_text_count</th>\n",
       "      <th>italic_text_count</th>\n",
       "      <th>mean_image_width</th>\n",
       "      <th>mean_image_height</th>\n",
       "      <th>n_images</th>\n",
       "      <th>n_lists</th>\n",
       "      <th>n_vids</th>\n",
       "      <th>n_links</th>\n",
       "      <th>claps</th>\n",
       "    </tr>\n",
       "  </thead>\n",
       "  <tbody>\n",
       "    <tr>\n",
       "      <th>0</th>\n",
       "      <td>Hands-on Graph Neural Networks with PyTorch &amp; ...</td>\n",
       "      <td>Towards Data Science</td>\n",
       "      <td>https://towardsdatascience.com/hands-on-graph-...</td>\n",
       "      <td>Kung-Hsiang, Huang (Steeve)</td>\n",
       "      <td>3900.0</td>\n",
       "      <td>9.0</td>\n",
       "      <td>1615.0</td>\n",
       "      <td>In my last article, I introduced the concept o...</td>\n",
       "      <td>30/05/2019</td>\n",
       "      <td>17</td>\n",
       "      <td>5.0</td>\n",
       "      <td>7.0</td>\n",
       "      <td>32.0</td>\n",
       "      <td>744.0</td>\n",
       "      <td>302.0</td>\n",
       "      <td>12.0</td>\n",
       "      <td>10.0</td>\n",
       "      <td>0.0</td>\n",
       "      <td>10.0</td>\n",
       "      <td>1100.0</td>\n",
       "    </tr>\n",
       "    <tr>\n",
       "      <th>1</th>\n",
       "      <td>An Easy Introduction to SQL for Data Scientists</td>\n",
       "      <td>Towards Data Science</td>\n",
       "      <td>https://towardsdatascience.com/an-easy-introdu...</td>\n",
       "      <td>George Seif</td>\n",
       "      <td>21000.0</td>\n",
       "      <td>8.0</td>\n",
       "      <td>742.0</td>\n",
       "      <td>Want to be inspired? Come join my Super Quotes...</td>\n",
       "      <td>30/05/2019</td>\n",
       "      <td>1</td>\n",
       "      <td>14.0</td>\n",
       "      <td>1.0</td>\n",
       "      <td>5.0</td>\n",
       "      <td>1050.0</td>\n",
       "      <td>700.0</td>\n",
       "      <td>1.0</td>\n",
       "      <td>5.0</td>\n",
       "      <td>0.0</td>\n",
       "      <td>5.0</td>\n",
       "      <td>565.0</td>\n",
       "    </tr>\n",
       "    <tr>\n",
       "      <th>2</th>\n",
       "      <td>A Step-by-Step Implementation of Gradient Desc...</td>\n",
       "      <td>Towards Data Science</td>\n",
       "      <td>https://towardsdatascience.com/a-step-by-step-...</td>\n",
       "      <td>Yitong Ren</td>\n",
       "      <td>332.0</td>\n",
       "      <td>4.0</td>\n",
       "      <td>534.0</td>\n",
       "      <td>The original intention behind this post was me...</td>\n",
       "      <td>30/05/2019</td>\n",
       "      <td>4</td>\n",
       "      <td>1.0</td>\n",
       "      <td>4.0</td>\n",
       "      <td>5.0</td>\n",
       "      <td>1050.0</td>\n",
       "      <td>592.0</td>\n",
       "      <td>6.0</td>\n",
       "      <td>1.0</td>\n",
       "      <td>0.0</td>\n",
       "      <td>3.0</td>\n",
       "      <td>474.0</td>\n",
       "    </tr>\n",
       "    <tr>\n",
       "      <th>3</th>\n",
       "      <td>Introduction to Latent Matrix Factorization Re...</td>\n",
       "      <td>Towards Data Science</td>\n",
       "      <td>https://towardsdatascience.com/introduction-to...</td>\n",
       "      <td>Tumas Rackaitis</td>\n",
       "      <td>37.0</td>\n",
       "      <td>5.0</td>\n",
       "      <td>860.0</td>\n",
       "      <td>Latent Matrix Factorization is an incredibly p...</td>\n",
       "      <td>30/05/2019</td>\n",
       "      <td>2</td>\n",
       "      <td>1.0</td>\n",
       "      <td>11.0</td>\n",
       "      <td>12.0</td>\n",
       "      <td>813.0</td>\n",
       "      <td>470.0</td>\n",
       "      <td>3.0</td>\n",
       "      <td>0.0</td>\n",
       "      <td>0.0</td>\n",
       "      <td>9.0</td>\n",
       "      <td>214.0</td>\n",
       "    </tr>\n",
       "    <tr>\n",
       "      <th>4</th>\n",
       "      <td>Databricks: How to Save Data Frames as CSV Fil...</td>\n",
       "      <td>Towards Data Science</td>\n",
       "      <td>https://towardsdatascience.com/databricks-how-...</td>\n",
       "      <td>Deborah Kewon</td>\n",
       "      <td>129.0</td>\n",
       "      <td>4.0</td>\n",
       "      <td>633.0</td>\n",
       "      <td>When I work on Python projects dealing with la...</td>\n",
       "      <td>30/05/2019</td>\n",
       "      <td>4</td>\n",
       "      <td>2.0</td>\n",
       "      <td>6.0</td>\n",
       "      <td>2.0</td>\n",
       "      <td>1050.0</td>\n",
       "      <td>438.0</td>\n",
       "      <td>8.0</td>\n",
       "      <td>1.0</td>\n",
       "      <td>0.0</td>\n",
       "      <td>5.0</td>\n",
       "      <td>516.0</td>\n",
       "    </tr>\n",
       "    <tr>\n",
       "      <th>...</th>\n",
       "      <td>...</td>\n",
       "      <td>...</td>\n",
       "      <td>...</td>\n",
       "      <td>...</td>\n",
       "      <td>...</td>\n",
       "      <td>...</td>\n",
       "      <td>...</td>\n",
       "      <td>...</td>\n",
       "      <td>...</td>\n",
       "      <td>...</td>\n",
       "      <td>...</td>\n",
       "      <td>...</td>\n",
       "      <td>...</td>\n",
       "      <td>...</td>\n",
       "      <td>...</td>\n",
       "      <td>...</td>\n",
       "      <td>...</td>\n",
       "      <td>...</td>\n",
       "      <td>...</td>\n",
       "      <td>...</td>\n",
       "    </tr>\n",
       "    <tr>\n",
       "      <th>6504</th>\n",
       "      <td>The Probability That You’re Alive</td>\n",
       "      <td>The Startup</td>\n",
       "      <td>https://medium.com/swlh/the-probability-that-y...</td>\n",
       "      <td>Esther Kwon</td>\n",
       "      <td>61.0</td>\n",
       "      <td>3.0</td>\n",
       "      <td>482.0</td>\n",
       "      <td>Besides what you’re super nice best friend mig...</td>\n",
       "      <td>23/10/2019</td>\n",
       "      <td>0</td>\n",
       "      <td>0.0</td>\n",
       "      <td>5.0</td>\n",
       "      <td>3.0</td>\n",
       "      <td>1050.0</td>\n",
       "      <td>736.0</td>\n",
       "      <td>2.0</td>\n",
       "      <td>0.0</td>\n",
       "      <td>0.0</td>\n",
       "      <td>4.0</td>\n",
       "      <td>86.0</td>\n",
       "    </tr>\n",
       "    <tr>\n",
       "      <th>6505</th>\n",
       "      <td>Finding time to write: the deep worker</td>\n",
       "      <td>The Startup</td>\n",
       "      <td>https://medium.com/swlh/finding-time-to-write-...</td>\n",
       "      <td>Bec Evans</td>\n",
       "      <td>1400.0</td>\n",
       "      <td>6.0</td>\n",
       "      <td>1301.0</td>\n",
       "      <td>Deep workers book long session to binge write....</td>\n",
       "      <td>23/10/2019</td>\n",
       "      <td>0</td>\n",
       "      <td>0.0</td>\n",
       "      <td>7.0</td>\n",
       "      <td>7.0</td>\n",
       "      <td>300.0</td>\n",
       "      <td>300.0</td>\n",
       "      <td>1.0</td>\n",
       "      <td>1.0</td>\n",
       "      <td>0.0</td>\n",
       "      <td>8.0</td>\n",
       "      <td>289.0</td>\n",
       "    </tr>\n",
       "    <tr>\n",
       "      <th>6506</th>\n",
       "      <td>Don’t Change Anything Until You Understand Som...</td>\n",
       "      <td>The Startup</td>\n",
       "      <td>https://medium.com/swlh/dont-change-anything-u...</td>\n",
       "      <td>Lacy Starling</td>\n",
       "      <td>402.0</td>\n",
       "      <td>6.0</td>\n",
       "      <td>1145.0</td>\n",
       "      <td>Talking to a friend at lunch last week, I hear...</td>\n",
       "      <td>23/10/2019</td>\n",
       "      <td>0</td>\n",
       "      <td>0.0</td>\n",
       "      <td>0.0</td>\n",
       "      <td>4.0</td>\n",
       "      <td>1050.0</td>\n",
       "      <td>692.0</td>\n",
       "      <td>3.0</td>\n",
       "      <td>0.0</td>\n",
       "      <td>0.0</td>\n",
       "      <td>6.0</td>\n",
       "      <td>118.0</td>\n",
       "    </tr>\n",
       "    <tr>\n",
       "      <th>6507</th>\n",
       "      <td>Ghosting: Tips for when your doctor disappears</td>\n",
       "      <td>The Startup</td>\n",
       "      <td>https://medium.com/swlh/ghosting-tips-for-when...</td>\n",
       "      <td>Christina Beach Thielst</td>\n",
       "      <td>12.0</td>\n",
       "      <td>4.0</td>\n",
       "      <td>474.0</td>\n",
       "      <td>I recently learned about “ghosting patients” —...</td>\n",
       "      <td>04/06/2019</td>\n",
       "      <td>0</td>\n",
       "      <td>0.0</td>\n",
       "      <td>1.0</td>\n",
       "      <td>13.0</td>\n",
       "      <td>220.0</td>\n",
       "      <td>175.0</td>\n",
       "      <td>2.0</td>\n",
       "      <td>2.0</td>\n",
       "      <td>0.0</td>\n",
       "      <td>6.0</td>\n",
       "      <td>0.0</td>\n",
       "    </tr>\n",
       "    <tr>\n",
       "      <th>6508</th>\n",
       "      <td>Mindfulness Is a Practical Matter Useful at Wo...</td>\n",
       "      <td>The Startup</td>\n",
       "      <td>https://medium.com/swlh/mindfulness-is-a-pract...</td>\n",
       "      <td>sleuth1</td>\n",
       "      <td>229.0</td>\n",
       "      <td>3.0</td>\n",
       "      <td>611.0</td>\n",
       "      <td>There is a rumor going around that you have to...</td>\n",
       "      <td>08/06/2019</td>\n",
       "      <td>0</td>\n",
       "      <td>0.0</td>\n",
       "      <td>3.0</td>\n",
       "      <td>19.0</td>\n",
       "      <td>1050.0</td>\n",
       "      <td>589.0</td>\n",
       "      <td>1.0</td>\n",
       "      <td>0.0</td>\n",
       "      <td>0.0</td>\n",
       "      <td>8.0</td>\n",
       "      <td>88.0</td>\n",
       "    </tr>\n",
       "  </tbody>\n",
       "</table>\n",
       "<p>6509 rows × 20 columns</p>\n",
       "</div>"
      ],
      "text/plain": [
       "                                                  title           publication  \\\n",
       "0     Hands-on Graph Neural Networks with PyTorch & ...  Towards Data Science   \n",
       "1       An Easy Introduction to SQL for Data Scientists  Towards Data Science   \n",
       "2     A Step-by-Step Implementation of Gradient Desc...  Towards Data Science   \n",
       "3     Introduction to Latent Matrix Factorization Re...  Towards Data Science   \n",
       "4     Databricks: How to Save Data Frames as CSV Fil...  Towards Data Science   \n",
       "...                                                 ...                   ...   \n",
       "6504                  The Probability That You’re Alive           The Startup   \n",
       "6505             Finding time to write: the deep worker           The Startup   \n",
       "6506  Don’t Change Anything Until You Understand Som...           The Startup   \n",
       "6507     Ghosting: Tips for when your doctor disappears           The Startup   \n",
       "6508  Mindfulness Is a Practical Matter Useful at Wo...           The Startup   \n",
       "\n",
       "                                                   link  \\\n",
       "0     https://towardsdatascience.com/hands-on-graph-...   \n",
       "1     https://towardsdatascience.com/an-easy-introdu...   \n",
       "2     https://towardsdatascience.com/a-step-by-step-...   \n",
       "3     https://towardsdatascience.com/introduction-to...   \n",
       "4     https://towardsdatascience.com/databricks-how-...   \n",
       "...                                                 ...   \n",
       "6504  https://medium.com/swlh/the-probability-that-y...   \n",
       "6505  https://medium.com/swlh/finding-time-to-write-...   \n",
       "6506  https://medium.com/swlh/dont-change-anything-u...   \n",
       "6507  https://medium.com/swlh/ghosting-tips-for-when...   \n",
       "6508  https://medium.com/swlh/mindfulness-is-a-pract...   \n",
       "\n",
       "                           author  followers  reading_time  n_words  \\\n",
       "0     Kung-Hsiang, Huang (Steeve)     3900.0           9.0   1615.0   \n",
       "1                     George Seif    21000.0           8.0    742.0   \n",
       "2                      Yitong Ren      332.0           4.0    534.0   \n",
       "3                 Tumas Rackaitis       37.0           5.0    860.0   \n",
       "4                   Deborah Kewon      129.0           4.0    633.0   \n",
       "...                           ...        ...           ...      ...   \n",
       "6504                  Esther Kwon       61.0           3.0    482.0   \n",
       "6505                    Bec Evans     1400.0           6.0   1301.0   \n",
       "6506                Lacy Starling      402.0           6.0   1145.0   \n",
       "6507      Christina Beach Thielst       12.0           4.0    474.0   \n",
       "6508                      sleuth1      229.0           3.0    611.0   \n",
       "\n",
       "                                              pure_text        date responses  \\\n",
       "0     In my last article, I introduced the concept o...  30/05/2019        17   \n",
       "1     Want to be inspired? Come join my Super Quotes...  30/05/2019         1   \n",
       "2     The original intention behind this post was me...  30/05/2019         4   \n",
       "3     Latent Matrix Factorization is an incredibly p...  30/05/2019         2   \n",
       "4     When I work on Python projects dealing with la...  30/05/2019         4   \n",
       "...                                                 ...         ...       ...   \n",
       "6504  Besides what you’re super nice best friend mig...  23/10/2019         0   \n",
       "6505  Deep workers book long session to binge write....  23/10/2019         0   \n",
       "6506  Talking to a friend at lunch last week, I hear...  23/10/2019         0   \n",
       "6507  I recently learned about “ghosting patients” —...  04/06/2019         0   \n",
       "6508  There is a rumor going around that you have to...  08/06/2019         0   \n",
       "\n",
       "      n_code_chunks  bold_text_count  italic_text_count  mean_image_width  \\\n",
       "0               5.0              7.0               32.0             744.0   \n",
       "1              14.0              1.0                5.0            1050.0   \n",
       "2               1.0              4.0                5.0            1050.0   \n",
       "3               1.0             11.0               12.0             813.0   \n",
       "4               2.0              6.0                2.0            1050.0   \n",
       "...             ...              ...                ...               ...   \n",
       "6504            0.0              5.0                3.0            1050.0   \n",
       "6505            0.0              7.0                7.0             300.0   \n",
       "6506            0.0              0.0                4.0            1050.0   \n",
       "6507            0.0              1.0               13.0             220.0   \n",
       "6508            0.0              3.0               19.0            1050.0   \n",
       "\n",
       "      mean_image_height  n_images  n_lists  n_vids  n_links   claps  \n",
       "0                 302.0      12.0     10.0     0.0     10.0  1100.0  \n",
       "1                 700.0       1.0      5.0     0.0      5.0   565.0  \n",
       "2                 592.0       6.0      1.0     0.0      3.0   474.0  \n",
       "3                 470.0       3.0      0.0     0.0      9.0   214.0  \n",
       "4                 438.0       8.0      1.0     0.0      5.0   516.0  \n",
       "...                 ...       ...      ...     ...      ...     ...  \n",
       "6504              736.0       2.0      0.0     0.0      4.0    86.0  \n",
       "6505              300.0       1.0      1.0     0.0      8.0   289.0  \n",
       "6506              692.0       3.0      0.0     0.0      6.0   118.0  \n",
       "6507              175.0       2.0      2.0     0.0      6.0     0.0  \n",
       "6508              589.0       1.0      0.0     0.0      8.0    88.0  \n",
       "\n",
       "[6509 rows x 20 columns]"
      ]
     },
     "execution_count": 147,
     "metadata": {},
     "output_type": "execute_result"
    }
   ],
   "source": [
    "df_scrapped"
   ]
  },
  {
   "cell_type": "code",
   "execution_count": 148,
   "metadata": {},
   "outputs": [],
   "source": [
    "df_scrapped.to_csv(\"scrapped_data/scrapped_data_async_final.csv\")"
   ]
  },
  {
   "cell_type": "code",
   "execution_count": 264,
   "metadata": {},
   "outputs": [],
   "source": [
    "df7 = pd.read_csv(\"./claps_predictor/scrapped_data/scrapped_data.csv\")"
   ]
  },
  {
   "cell_type": "code",
   "execution_count": 265,
   "metadata": {},
   "outputs": [
    {
     "data": {
      "text/html": [
       "<div>\n",
       "<style scoped>\n",
       "    .dataframe tbody tr th:only-of-type {\n",
       "        vertical-align: middle;\n",
       "    }\n",
       "\n",
       "    .dataframe tbody tr th {\n",
       "        vertical-align: top;\n",
       "    }\n",
       "\n",
       "    .dataframe thead th {\n",
       "        text-align: right;\n",
       "    }\n",
       "</style>\n",
       "<table border=\"1\" class=\"dataframe\">\n",
       "  <thead>\n",
       "    <tr style=\"text-align: right;\">\n",
       "      <th></th>\n",
       "      <th>title</th>\n",
       "      <th>publication</th>\n",
       "      <th>author</th>\n",
       "      <th>followers</th>\n",
       "      <th>reading_time</th>\n",
       "      <th>n_words</th>\n",
       "      <th>pure_text</th>\n",
       "      <th>date</th>\n",
       "      <th>responses</th>\n",
       "      <th>n_code_chunks</th>\n",
       "      <th>bold_text_count</th>\n",
       "      <th>italic_text_count</th>\n",
       "      <th>mean_image_width</th>\n",
       "      <th>mean_image_height</th>\n",
       "      <th>n_images</th>\n",
       "      <th>n_lists</th>\n",
       "      <th>n_vids</th>\n",
       "      <th>n_links</th>\n",
       "      <th>claps</th>\n",
       "    </tr>\n",
       "  </thead>\n",
       "  <tbody>\n",
       "    <tr>\n",
       "      <th>0</th>\n",
       "      <td>Understanding Variational Autoencoders (VAEs)</td>\n",
       "      <td>Towards Data Science</td>\n",
       "      <td>Joseph Rocca</td>\n",
       "      <td>4400.0</td>\n",
       "      <td>23.0</td>\n",
       "      <td>4892.0</td>\n",
       "      <td>This post was co-written with In the last few ...</td>\n",
       "      <td>24/09/2019</td>\n",
       "      <td>83.0</td>\n",
       "      <td>0.0</td>\n",
       "      <td>35.0</td>\n",
       "      <td>1.0</td>\n",
       "      <td>1053.0</td>\n",
       "      <td>386.0</td>\n",
       "      <td>30.0</td>\n",
       "      <td>3.0</td>\n",
       "      <td>0.0</td>\n",
       "      <td>14.0</td>\n",
       "      <td>10200.0</td>\n",
       "    </tr>\n",
       "    <tr>\n",
       "      <th>1</th>\n",
       "      <td>Using Mixed-Effects Models For Linear Regression</td>\n",
       "      <td>Towards Data Science</td>\n",
       "      <td>Guido Vivaldi</td>\n",
       "      <td>276.0</td>\n",
       "      <td>6.0</td>\n",
       "      <td>889.0</td>\n",
       "      <td>Mixed-effects regression models are a powerful...</td>\n",
       "      <td>18/05/2019</td>\n",
       "      <td>2.0</td>\n",
       "      <td>9.0</td>\n",
       "      <td>6.0</td>\n",
       "      <td>1.0</td>\n",
       "      <td>516.0</td>\n",
       "      <td>304.0</td>\n",
       "      <td>13.0</td>\n",
       "      <td>1.0</td>\n",
       "      <td>0.0</td>\n",
       "      <td>5.0</td>\n",
       "      <td>362.0</td>\n",
       "    </tr>\n",
       "    <tr>\n",
       "      <th>2</th>\n",
       "      <td>The New Moats</td>\n",
       "      <td>Greylock Perspectives</td>\n",
       "      <td>Jerry Chen</td>\n",
       "      <td>4700.0</td>\n",
       "      <td>11.0</td>\n",
       "      <td>2217.0</td>\n",
       "      <td>To build a sustainable and profitable business...</td>\n",
       "      <td>24/04/2017</td>\n",
       "      <td>48.0</td>\n",
       "      <td>0.0</td>\n",
       "      <td>5.0</td>\n",
       "      <td>27.0</td>\n",
       "      <td>935.0</td>\n",
       "      <td>544.0</td>\n",
       "      <td>6.0</td>\n",
       "      <td>2.0</td>\n",
       "      <td>0.0</td>\n",
       "      <td>24.0</td>\n",
       "      <td>3600.0</td>\n",
       "    </tr>\n",
       "    <tr>\n",
       "      <th>3</th>\n",
       "      <td>Region of Interest Pooling</td>\n",
       "      <td>Towards Data Science</td>\n",
       "      <td>Sambasivarao. K</td>\n",
       "      <td>280.0</td>\n",
       "      <td>4.0</td>\n",
       "      <td>523.0</td>\n",
       "      <td>The major hurdle for going from image classifi...</td>\n",
       "      <td>22/04/2019</td>\n",
       "      <td>9.0</td>\n",
       "      <td>4.0</td>\n",
       "      <td>5.0</td>\n",
       "      <td>0.0</td>\n",
       "      <td>753.0</td>\n",
       "      <td>512.0</td>\n",
       "      <td>2.0</td>\n",
       "      <td>2.0</td>\n",
       "      <td>0.0</td>\n",
       "      <td>3.0</td>\n",
       "      <td>355.0</td>\n",
       "    </tr>\n",
       "    <tr>\n",
       "      <th>4</th>\n",
       "      <td>Modern Gaussian Process Regression</td>\n",
       "      <td>Towards Data Science</td>\n",
       "      <td>Ryan Sander</td>\n",
       "      <td>235.0</td>\n",
       "      <td>10.0</td>\n",
       "      <td>1433.0</td>\n",
       "      <td>Ever wonder how you can create non-parametric ...</td>\n",
       "      <td>24/03/2021</td>\n",
       "      <td>3.0</td>\n",
       "      <td>2.0</td>\n",
       "      <td>96.0</td>\n",
       "      <td>15.0</td>\n",
       "      <td>620.0</td>\n",
       "      <td>266.0</td>\n",
       "      <td>14.0</td>\n",
       "      <td>4.0</td>\n",
       "      <td>0.0</td>\n",
       "      <td>35.0</td>\n",
       "      <td>132.0</td>\n",
       "    </tr>\n",
       "    <tr>\n",
       "      <th>...</th>\n",
       "      <td>...</td>\n",
       "      <td>...</td>\n",
       "      <td>...</td>\n",
       "      <td>...</td>\n",
       "      <td>...</td>\n",
       "      <td>...</td>\n",
       "      <td>...</td>\n",
       "      <td>...</td>\n",
       "      <td>...</td>\n",
       "      <td>...</td>\n",
       "      <td>...</td>\n",
       "      <td>...</td>\n",
       "      <td>...</td>\n",
       "      <td>...</td>\n",
       "      <td>...</td>\n",
       "      <td>...</td>\n",
       "      <td>...</td>\n",
       "      <td>...</td>\n",
       "      <td>...</td>\n",
       "    </tr>\n",
       "    <tr>\n",
       "      <th>3751</th>\n",
       "      <td>Nerves: “Gold Month of Exchanges” — listed on ...</td>\n",
       "      <td>Nerves Foundation</td>\n",
       "      <td>Nerves Foundation</td>\n",
       "      <td>1800.0</td>\n",
       "      <td>1.0</td>\n",
       "      <td>153.0</td>\n",
       "      <td>Dear Nervesians,Today is probably a special da...</td>\n",
       "      <td>21/09/2018</td>\n",
       "      <td>NaN</td>\n",
       "      <td>0.0</td>\n",
       "      <td>9.0</td>\n",
       "      <td>28.0</td>\n",
       "      <td>1050.0</td>\n",
       "      <td>537.0</td>\n",
       "      <td>1.0</td>\n",
       "      <td>0.0</td>\n",
       "      <td>0.0</td>\n",
       "      <td>9.0</td>\n",
       "      <td>169.0</td>\n",
       "    </tr>\n",
       "    <tr>\n",
       "      <th>3752</th>\n",
       "      <td>An introduction to ConvLSTM</td>\n",
       "      <td>Neuronio</td>\n",
       "      <td>Alexandre Xavier</td>\n",
       "      <td>142.0</td>\n",
       "      <td>6.0</td>\n",
       "      <td>1009.0</td>\n",
       "      <td>Note: a Portuguese version of this article is ...</td>\n",
       "      <td>25/03/2019</td>\n",
       "      <td>11.0</td>\n",
       "      <td>0.0</td>\n",
       "      <td>21.0</td>\n",
       "      <td>0.0</td>\n",
       "      <td>772.0</td>\n",
       "      <td>547.0</td>\n",
       "      <td>4.0</td>\n",
       "      <td>3.0</td>\n",
       "      <td>0.0</td>\n",
       "      <td>11.0</td>\n",
       "      <td>809.0</td>\n",
       "    </tr>\n",
       "    <tr>\n",
       "      <th>3753</th>\n",
       "      <td>Automatic Text Summarization Made Simple with ...</td>\n",
       "      <td>luisfredgs</td>\n",
       "      <td>Luís Gonçalves</td>\n",
       "      <td>351.0</td>\n",
       "      <td>4.0</td>\n",
       "      <td>632.0</td>\n",
       "      <td>Summarization condenses a longer document into...</td>\n",
       "      <td>19/04/2020</td>\n",
       "      <td>1.0</td>\n",
       "      <td>7.0</td>\n",
       "      <td>1.0</td>\n",
       "      <td>2.0</td>\n",
       "      <td>1050.0</td>\n",
       "      <td>607.0</td>\n",
       "      <td>1.0</td>\n",
       "      <td>1.0</td>\n",
       "      <td>0.0</td>\n",
       "      <td>4.0</td>\n",
       "      <td>145.0</td>\n",
       "    </tr>\n",
       "    <tr>\n",
       "      <th>3754</th>\n",
       "      <td>Multinomial Naive Bayes Classifier for Text An...</td>\n",
       "      <td>Towards Data Science</td>\n",
       "      <td>Syed Sadat Nazrul</td>\n",
       "      <td>2800.0</td>\n",
       "      <td>7.0</td>\n",
       "      <td>399.0</td>\n",
       "      <td>One of the most popular applications of machin...</td>\n",
       "      <td>09/04/2018</td>\n",
       "      <td>7.0</td>\n",
       "      <td>10.0</td>\n",
       "      <td>88.0</td>\n",
       "      <td>48.0</td>\n",
       "      <td>323.0</td>\n",
       "      <td>145.0</td>\n",
       "      <td>17.0</td>\n",
       "      <td>0.0</td>\n",
       "      <td>0.0</td>\n",
       "      <td>1.0</td>\n",
       "      <td>526.0</td>\n",
       "    </tr>\n",
       "    <tr>\n",
       "      <th>3755</th>\n",
       "      <td>Dropping Out Is Not Sexy!</td>\n",
       "      <td>NaN</td>\n",
       "      <td>Neha Tripathi</td>\n",
       "      <td>11.0</td>\n",
       "      <td>4.0</td>\n",
       "      <td>743.0</td>\n",
       "      <td>Hey,I am Neha, I dropped out of the MPhil prog...</td>\n",
       "      <td>27/06/2021</td>\n",
       "      <td>1.0</td>\n",
       "      <td>0.0</td>\n",
       "      <td>0.0</td>\n",
       "      <td>2.0</td>\n",
       "      <td>1050.0</td>\n",
       "      <td>1400.0</td>\n",
       "      <td>1.0</td>\n",
       "      <td>0.0</td>\n",
       "      <td>0.0</td>\n",
       "      <td>0.0</td>\n",
       "      <td>62.0</td>\n",
       "    </tr>\n",
       "  </tbody>\n",
       "</table>\n",
       "<p>3756 rows × 19 columns</p>\n",
       "</div>"
      ],
      "text/plain": [
       "                                                  title  \\\n",
       "0         Understanding Variational Autoencoders (VAEs)   \n",
       "1      Using Mixed-Effects Models For Linear Regression   \n",
       "2                                         The New Moats   \n",
       "3                            Region of Interest Pooling   \n",
       "4                    Modern Gaussian Process Regression   \n",
       "...                                                 ...   \n",
       "3751  Nerves: “Gold Month of Exchanges” — listed on ...   \n",
       "3752                        An introduction to ConvLSTM   \n",
       "3753  Automatic Text Summarization Made Simple with ...   \n",
       "3754  Multinomial Naive Bayes Classifier for Text An...   \n",
       "3755                          Dropping Out Is Not Sexy!   \n",
       "\n",
       "                publication             author  followers  reading_time  \\\n",
       "0      Towards Data Science       Joseph Rocca     4400.0          23.0   \n",
       "1      Towards Data Science      Guido Vivaldi      276.0           6.0   \n",
       "2     Greylock Perspectives         Jerry Chen     4700.0          11.0   \n",
       "3      Towards Data Science    Sambasivarao. K      280.0           4.0   \n",
       "4      Towards Data Science        Ryan Sander      235.0          10.0   \n",
       "...                     ...                ...        ...           ...   \n",
       "3751      Nerves Foundation  Nerves Foundation     1800.0           1.0   \n",
       "3752               Neuronio   Alexandre Xavier      142.0           6.0   \n",
       "3753             luisfredgs     Luís Gonçalves      351.0           4.0   \n",
       "3754   Towards Data Science  Syed Sadat Nazrul     2800.0           7.0   \n",
       "3755                    NaN      Neha Tripathi       11.0           4.0   \n",
       "\n",
       "      n_words                                          pure_text        date  \\\n",
       "0      4892.0  This post was co-written with In the last few ...  24/09/2019   \n",
       "1       889.0  Mixed-effects regression models are a powerful...  18/05/2019   \n",
       "2      2217.0  To build a sustainable and profitable business...  24/04/2017   \n",
       "3       523.0  The major hurdle for going from image classifi...  22/04/2019   \n",
       "4      1433.0  Ever wonder how you can create non-parametric ...  24/03/2021   \n",
       "...       ...                                                ...         ...   \n",
       "3751    153.0  Dear Nervesians,Today is probably a special da...  21/09/2018   \n",
       "3752   1009.0  Note: a Portuguese version of this article is ...  25/03/2019   \n",
       "3753    632.0  Summarization condenses a longer document into...  19/04/2020   \n",
       "3754    399.0  One of the most popular applications of machin...  09/04/2018   \n",
       "3755    743.0  Hey,I am Neha, I dropped out of the MPhil prog...  27/06/2021   \n",
       "\n",
       "      responses  n_code_chunks  bold_text_count  italic_text_count  \\\n",
       "0          83.0            0.0             35.0                1.0   \n",
       "1           2.0            9.0              6.0                1.0   \n",
       "2          48.0            0.0              5.0               27.0   \n",
       "3           9.0            4.0              5.0                0.0   \n",
       "4           3.0            2.0             96.0               15.0   \n",
       "...         ...            ...              ...                ...   \n",
       "3751        NaN            0.0              9.0               28.0   \n",
       "3752       11.0            0.0             21.0                0.0   \n",
       "3753        1.0            7.0              1.0                2.0   \n",
       "3754        7.0           10.0             88.0               48.0   \n",
       "3755        1.0            0.0              0.0                2.0   \n",
       "\n",
       "      mean_image_width  mean_image_height  n_images  n_lists  n_vids  n_links  \\\n",
       "0               1053.0              386.0      30.0      3.0     0.0     14.0   \n",
       "1                516.0              304.0      13.0      1.0     0.0      5.0   \n",
       "2                935.0              544.0       6.0      2.0     0.0     24.0   \n",
       "3                753.0              512.0       2.0      2.0     0.0      3.0   \n",
       "4                620.0              266.0      14.0      4.0     0.0     35.0   \n",
       "...                ...                ...       ...      ...     ...      ...   \n",
       "3751            1050.0              537.0       1.0      0.0     0.0      9.0   \n",
       "3752             772.0              547.0       4.0      3.0     0.0     11.0   \n",
       "3753            1050.0              607.0       1.0      1.0     0.0      4.0   \n",
       "3754             323.0              145.0      17.0      0.0     0.0      1.0   \n",
       "3755            1050.0             1400.0       1.0      0.0     0.0      0.0   \n",
       "\n",
       "        claps  \n",
       "0     10200.0  \n",
       "1       362.0  \n",
       "2      3600.0  \n",
       "3       355.0  \n",
       "4       132.0  \n",
       "...       ...  \n",
       "3751    169.0  \n",
       "3752    809.0  \n",
       "3753    145.0  \n",
       "3754    526.0  \n",
       "3755     62.0  \n",
       "\n",
       "[3756 rows x 19 columns]"
      ]
     },
     "execution_count": 265,
     "metadata": {},
     "output_type": "execute_result"
    }
   ],
   "source": [
    "df7"
   ]
  },
  {
   "cell_type": "code",
   "execution_count": 266,
   "metadata": {},
   "outputs": [],
   "source": [
    "df7.publication = df7.publication.fillna(df7.publication.mode()[0])"
   ]
  },
  {
   "cell_type": "code",
   "execution_count": 267,
   "metadata": {},
   "outputs": [],
   "source": [
    "df7 = df7.dropna(subset=[\"pure_text\"])"
   ]
  },
  {
   "cell_type": "code",
   "execution_count": 268,
   "metadata": {},
   "outputs": [
    {
     "data": {
      "text/plain": [
       "0       https://towardsdatascience.com/understanding-v...\n",
       "1       https://towardsdatascience.com/using-mixed-eff...\n",
       "2       https://news.greylock.com/the-new-moats-53f61a...\n",
       "3       https://towardsdatascience.com/region-of-inter...\n",
       "4       https://towardsdatascience.com/modern-gaussian...\n",
       "                              ...                        \n",
       "3751    https://medium.com/nerves-foundation/nerves-go...\n",
       "3752    https://medium.com/neuronio/an-introduction-to...\n",
       "3753    https://medium.com/luisfredgs/automatic-text-s...\n",
       "3754    https://towardsdatascience.com/multinomial-nai...\n",
       "3755    https://medium.com/@nehatripathii/dropping-out...\n",
       "Name: link, Length: 3697, dtype: object"
      ]
     },
     "execution_count": 268,
     "metadata": {},
     "output_type": "execute_result"
    }
   ],
   "source": [
    "df_check.loc[df7.index][\"link\"]"
   ]
  },
  {
   "cell_type": "code",
   "execution_count": 269,
   "metadata": {},
   "outputs": [],
   "source": [
    "df7[\"link\"] = df_check.loc[df7.index][\"link\"]"
   ]
  },
  {
   "cell_type": "code",
   "execution_count": 270,
   "metadata": {},
   "outputs": [
    {
     "data": {
      "text/plain": [
       "id                                                            329\n",
       "author                                              Stamen Design\n",
       "reading_time                                                    5\n",
       "link            https://hi.stamen.com/hindsights-20-20-as-it-t...\n",
       "title           Hindsight’s 20–20, as it turns out | by Stamen...\n",
       "text            Hi.Stamen\\nJul 11, 2007\\nby Eric Rodenbeck\\nHi...\n",
       "claps                                                         0.0\n",
       "Name: 329, dtype: object"
      ]
     },
     "execution_count": 270,
     "metadata": {},
     "output_type": "execute_result"
    }
   ],
   "source": [
    "df_check.loc[329]"
   ]
  },
  {
   "cell_type": "code",
   "execution_count": 271,
   "metadata": {},
   "outputs": [],
   "source": [
    "df7.followers = df7.followers.fillna(0)"
   ]
  },
  {
   "cell_type": "code",
   "execution_count": 272,
   "metadata": {},
   "outputs": [
    {
     "data": {
      "text/plain": [
       "254     https://msft.engineer/is-microsofts-new-search...\n",
       "594     https://blog.data.gov.sg/how-we-caught-the-cir...\n",
       "845     https://blog.hyperverge.co/understanding-compu...\n",
       "1095    https://msft.engineer/is-microsofts-new-search...\n",
       "2543    https://blog.chatteron.io/how-to-build-a-kick-...\n",
       "3256    https://squishturtle.com/video-game-classifica...\n",
       "3442    https://blog.data.gov.sg/how-we-caught-the-cir...\n",
       "Name: link, dtype: object"
      ]
     },
     "execution_count": 272,
     "metadata": {},
     "output_type": "execute_result"
    }
   ],
   "source": [
    "df7[df7.n_words.isna()][\"link\"]"
   ]
  },
  {
   "cell_type": "code",
   "execution_count": 273,
   "metadata": {},
   "outputs": [],
   "source": [
    "df7 = df7.dropna(subset=\"n_words\")"
   ]
  },
  {
   "cell_type": "code",
   "execution_count": 9,
   "metadata": {},
   "outputs": [],
   "source": [
    "import datetime"
   ]
  },
  {
   "cell_type": "code",
   "execution_count": 225,
   "metadata": {},
   "outputs": [
    {
     "data": {
      "text/plain": [
       "'07/01/2022'"
      ]
     },
     "execution_count": 225,
     "metadata": {},
     "output_type": "execute_result"
    }
   ],
   "source": [
    "datetime.datetime.strptime(\"Jan 07, 2022\", '%b %d, %Y').strftime('%d/%m/%Y')"
   ]
  },
  {
   "cell_type": "code",
   "execution_count": 274,
   "metadata": {},
   "outputs": [
    {
     "data": {
      "text/plain": [
       "{2857: '07/01/2022', 2990: '10/03/2022', 3645: '24/01/2022'}"
      ]
     },
     "execution_count": 274,
     "metadata": {},
     "output_type": "execute_result"
    }
   ],
   "source": [
    "#no written 2022\n",
    "idxs_date = {2857: datetime.datetime.strptime(\"Jan 07, 2022\", '%b %d, %Y').strftime('%d/%m/%Y'),\n",
    "            2990: datetime.datetime.strptime(\"Mar 10, 2022\", '%b %d, %Y').strftime('%d/%m/%Y'),\n",
    "            3645: datetime.datetime.strptime(\"Jan 24, 2022\", '%b %d, %Y').strftime('%d/%m/%Y')\n",
    "}\n",
    "idxs_date"
   ]
  },
  {
   "cell_type": "code",
   "execution_count": 464,
   "metadata": {},
   "outputs": [
    {
     "data": {
      "text/plain": [
       "dict_values(['07/01/2022', '10/03/2022', '24/01/2022'])"
      ]
     },
     "execution_count": 464,
     "metadata": {},
     "output_type": "execute_result"
    }
   ],
   "source": [
    "idxs_date.values()"
   ]
  },
  {
   "cell_type": "code",
   "execution_count": 465,
   "metadata": {},
   "outputs": [],
   "source": [
    "df7.loc[idxs_date.keys(), \"date\"] = list(idxs_date.values())"
   ]
  },
  {
   "cell_type": "code",
   "execution_count": 466,
   "metadata": {},
   "outputs": [
    {
     "data": {
      "text/plain": [
       "2857    07/01/2022\n",
       "2990    10/03/2022\n",
       "3645    24/01/2022\n",
       "Name: date, dtype: object"
      ]
     },
     "execution_count": 466,
     "metadata": {},
     "output_type": "execute_result"
    }
   ],
   "source": [
    "df7.loc[idxs_date.keys(), \"date\"]"
   ]
  },
  {
   "cell_type": "code",
   "execution_count": 276,
   "metadata": {},
   "outputs": [],
   "source": [
    "df7.dropna(subset=\"date\", inplace=True)"
   ]
  },
  {
   "cell_type": "code",
   "execution_count": 277,
   "metadata": {},
   "outputs": [],
   "source": [
    "df7.responses.fillna(0, inplace=True)"
   ]
  },
  {
   "cell_type": "code",
   "execution_count": 278,
   "metadata": {},
   "outputs": [
    {
     "data": {
      "text/plain": [
       "0"
      ]
     },
     "execution_count": 278,
     "metadata": {},
     "output_type": "execute_result"
    }
   ],
   "source": [
    "df7.responses.isna().sum()"
   ]
  },
  {
   "cell_type": "code",
   "execution_count": 279,
   "metadata": {},
   "outputs": [
    {
     "data": {
      "text/plain": [
       "0"
      ]
     },
     "execution_count": 279,
     "metadata": {},
     "output_type": "execute_result"
    }
   ],
   "source": [
    "df7.n_code_chunks.isna().sum()"
   ]
  },
  {
   "cell_type": "code",
   "execution_count": 246,
   "metadata": {},
   "outputs": [
    {
     "data": {
      "text/plain": [
       "0"
      ]
     },
     "execution_count": 246,
     "metadata": {},
     "output_type": "execute_result"
    }
   ],
   "source": [
    "df7.bold_text_count.isna().sum()"
   ]
  },
  {
   "cell_type": "code",
   "execution_count": 247,
   "metadata": {},
   "outputs": [
    {
     "data": {
      "text/plain": [
       "0"
      ]
     },
     "execution_count": 247,
     "metadata": {},
     "output_type": "execute_result"
    }
   ],
   "source": [
    "df7.italic_text_count.isna().sum()"
   ]
  },
  {
   "cell_type": "code",
   "execution_count": 306,
   "metadata": {},
   "outputs": [],
   "source": [
    "df7.loc[(df7.n_images == 0 & df7.mean_image_width.isna()), \"mean_image_width\"] = 0\n",
    "df7.loc[(df7.n_images == 0 & df7.mean_image_height.isna()), \"mean_image_height\"] = 0"
   ]
  },
  {
   "cell_type": "code",
   "execution_count": 315,
   "metadata": {},
   "outputs": [],
   "source": [
    "df7.mean_image_width.fillna(df7.mean_image_width.mean(), inplace=True)"
   ]
  },
  {
   "cell_type": "code",
   "execution_count": 316,
   "metadata": {},
   "outputs": [],
   "source": [
    "df7.mean_image_height.fillna(df7.mean_image_height.mean(), inplace=True)"
   ]
  },
  {
   "cell_type": "code",
   "execution_count": 318,
   "metadata": {},
   "outputs": [
    {
     "data": {
      "text/plain": [
       "(0, 0)"
      ]
     },
     "execution_count": 318,
     "metadata": {},
     "output_type": "execute_result"
    }
   ],
   "source": [
    "df7.mean_image_height.isna().sum(), df7.mean_image_width.isna().sum()"
   ]
  },
  {
   "cell_type": "code",
   "execution_count": 212,
   "metadata": {},
   "outputs": [
    {
     "data": {
      "text/plain": [
       "Index(['title', 'publication', 'author', 'followers', 'reading_time',\n",
       "       'n_words', 'pure_text', 'date', 'responses', 'n_code_chunks',\n",
       "       'bold_text_count', 'italic_text_count', 'mean_image_width',\n",
       "       'mean_image_height', 'n_images', 'n_lists', 'n_vids', 'n_links',\n",
       "       'claps', 'link'],\n",
       "      dtype='object')"
      ]
     },
     "execution_count": 212,
     "metadata": {},
     "output_type": "execute_result"
    }
   ],
   "source": [
    "df7.columns"
   ]
  },
  {
   "cell_type": "code",
   "execution_count": 319,
   "metadata": {},
   "outputs": [
    {
     "data": {
      "text/plain": [
       "0"
      ]
     },
     "execution_count": 319,
     "metadata": {},
     "output_type": "execute_result"
    }
   ],
   "source": [
    "df7.isna().sum().sum()"
   ]
  },
  {
   "cell_type": "code",
   "execution_count": 326,
   "metadata": {},
   "outputs": [
    {
     "data": {
      "text/html": [
       "<div>\n",
       "<style scoped>\n",
       "    .dataframe tbody tr th:only-of-type {\n",
       "        vertical-align: middle;\n",
       "    }\n",
       "\n",
       "    .dataframe tbody tr th {\n",
       "        vertical-align: top;\n",
       "    }\n",
       "\n",
       "    .dataframe thead th {\n",
       "        text-align: right;\n",
       "    }\n",
       "</style>\n",
       "<table border=\"1\" class=\"dataframe\">\n",
       "  <thead>\n",
       "    <tr style=\"text-align: right;\">\n",
       "      <th></th>\n",
       "      <th>title</th>\n",
       "      <th>publication</th>\n",
       "      <th>link</th>\n",
       "      <th>author</th>\n",
       "      <th>followers</th>\n",
       "      <th>reading_time</th>\n",
       "      <th>n_words</th>\n",
       "      <th>pure_text</th>\n",
       "      <th>date</th>\n",
       "      <th>responses</th>\n",
       "      <th>n_code_chunks</th>\n",
       "      <th>bold_text_count</th>\n",
       "      <th>italic_text_count</th>\n",
       "      <th>mean_image_width</th>\n",
       "      <th>mean_image_height</th>\n",
       "      <th>n_images</th>\n",
       "      <th>n_lists</th>\n",
       "      <th>n_vids</th>\n",
       "      <th>n_links</th>\n",
       "      <th>claps</th>\n",
       "    </tr>\n",
       "  </thead>\n",
       "  <tbody>\n",
       "    <tr>\n",
       "      <th>640</th>\n",
       "      <td>NaN</td>\n",
       "      <td>NaN</td>\n",
       "      <td>NaN</td>\n",
       "      <td>NaN</td>\n",
       "      <td>NaN</td>\n",
       "      <td>NaN</td>\n",
       "      <td>NaN</td>\n",
       "      <td>NaN</td>\n",
       "      <td>NaN</td>\n",
       "      <td>NaN</td>\n",
       "      <td>NaN</td>\n",
       "      <td>NaN</td>\n",
       "      <td>NaN</td>\n",
       "      <td>NaN</td>\n",
       "      <td>NaN</td>\n",
       "      <td>NaN</td>\n",
       "      <td>NaN</td>\n",
       "      <td>NaN</td>\n",
       "      <td>NaN</td>\n",
       "      <td>NaN</td>\n",
       "    </tr>\n",
       "  </tbody>\n",
       "</table>\n",
       "</div>"
      ],
      "text/plain": [
       "    title publication link author  followers  reading_time  n_words pure_text  \\\n",
       "640   NaN         NaN  NaN    NaN        NaN           NaN      NaN       NaN   \n",
       "\n",
       "    date responses  n_code_chunks  bold_text_count  italic_text_count  \\\n",
       "640  NaN       NaN            NaN              NaN                NaN   \n",
       "\n",
       "     mean_image_width  mean_image_height  n_images  n_lists  n_vids  n_links  \\\n",
       "640               NaN                NaN       NaN      NaN     NaN      NaN   \n",
       "\n",
       "     claps  \n",
       "640    NaN  "
      ]
     },
     "execution_count": 326,
     "metadata": {},
     "output_type": "execute_result"
    }
   ],
   "source": [
    "df_scrapped[df_scrapped.title.isna()]"
   ]
  },
  {
   "cell_type": "code",
   "execution_count": 328,
   "metadata": {},
   "outputs": [],
   "source": [
    "df_scrapped.dropna(subset=\"title\", inplace=True)"
   ]
  },
  {
   "cell_type": "code",
   "execution_count": 329,
   "metadata": {},
   "outputs": [
    {
     "data": {
      "text/plain": [
       "0"
      ]
     },
     "execution_count": 329,
     "metadata": {},
     "output_type": "execute_result"
    }
   ],
   "source": [
    "df_scrapped.title.isna().sum()"
   ]
  },
  {
   "cell_type": "code",
   "execution_count": 330,
   "metadata": {},
   "outputs": [
    {
     "data": {
      "text/plain": [
       "0"
      ]
     },
     "execution_count": 330,
     "metadata": {},
     "output_type": "execute_result"
    }
   ],
   "source": [
    "df_scrapped.publication.isna().sum()"
   ]
  },
  {
   "cell_type": "code",
   "execution_count": 331,
   "metadata": {},
   "outputs": [
    {
     "data": {
      "text/plain": [
       "0"
      ]
     },
     "execution_count": 331,
     "metadata": {},
     "output_type": "execute_result"
    }
   ],
   "source": [
    "df_scrapped.link.isna().sum()"
   ]
  },
  {
   "cell_type": "code",
   "execution_count": 336,
   "metadata": {},
   "outputs": [],
   "source": [
    "# df_scrapped[df_scrapped.author.isna()].link.values # they all deleted"
   ]
  },
  {
   "cell_type": "code",
   "execution_count": 338,
   "metadata": {},
   "outputs": [],
   "source": [
    "df_scrapped.dropna(subset=\"author\", inplace=True)"
   ]
  },
  {
   "cell_type": "code",
   "execution_count": 339,
   "metadata": {},
   "outputs": [
    {
     "data": {
      "text/plain": [
       "0"
      ]
     },
     "execution_count": 339,
     "metadata": {},
     "output_type": "execute_result"
    }
   ],
   "source": [
    "df_scrapped.author.isna().sum()"
   ]
  },
  {
   "cell_type": "code",
   "execution_count": 342,
   "metadata": {},
   "outputs": [
    {
     "data": {
      "text/plain": [
       "array(['https://towardsdatascience.com/where-to-coffee-like-an-istanbul-local-91522bbafa06',\n",
       "       'https://medium.com/datadriveninvestor/the-origin-of-artificial-intelligence-bb75340b932c',\n",
       "       'https://writingcooperative.com/confronting-the-consequence-1a78dfbc5caa',\n",
       "       'https://medium.com/datadriveninvestor/top-10-application-development-companies-in-the-uk-bf7f59bff5f7',\n",
       "       'https://medium.com/datadriveninvestor/artificial-neural-networks-definition-fundamentals-introduction-f4a077fc9d20',\n",
       "       'https://medium.com/datadriveninvestor/facts-before-fiction-setting-up-ai-for-marketing-success-d78828d8eed8',\n",
       "       'https://medium.com/datadriveninvestor/robots-are-coming-for-our-jobs-again-delivery-edition-7eeac581125f',\n",
       "       'https://medium.com/swlh/my-origin-story-46e93dd4cca'],\n",
       "      dtype=object)"
      ]
     },
     "execution_count": 342,
     "metadata": {},
     "output_type": "execute_result"
    }
   ],
   "source": [
    "df_scrapped[df_scrapped.followers.isna()].link.values #they all have 0 followers"
   ]
  },
  {
   "cell_type": "code",
   "execution_count": 346,
   "metadata": {},
   "outputs": [],
   "source": [
    "df_scrapped.followers.fillna(0, inplace=True)"
   ]
  },
  {
   "cell_type": "code",
   "execution_count": 347,
   "metadata": {},
   "outputs": [
    {
     "data": {
      "text/plain": [
       "0"
      ]
     },
     "execution_count": 347,
     "metadata": {},
     "output_type": "execute_result"
    }
   ],
   "source": [
    "df_scrapped.reading_time.isna().sum()"
   ]
  },
  {
   "cell_type": "code",
   "execution_count": 348,
   "metadata": {},
   "outputs": [
    {
     "data": {
      "text/plain": [
       "0"
      ]
     },
     "execution_count": 348,
     "metadata": {},
     "output_type": "execute_result"
    }
   ],
   "source": [
    "df_scrapped.n_words.isna().sum()"
   ]
  },
  {
   "cell_type": "code",
   "execution_count": 10,
   "metadata": {},
   "outputs": [],
   "source": [
    "from scrapping_tools import scrapper"
   ]
  },
  {
   "cell_type": "code",
   "execution_count": 361,
   "metadata": {},
   "outputs": [],
   "source": []
  },
  {
   "cell_type": "code",
   "execution_count": null,
   "metadata": {},
   "outputs": [],
   "source": []
  },
  {
   "cell_type": "code",
   "execution_count": 371,
   "metadata": {},
   "outputs": [],
   "source": [
    "links_to_scrap, idxs_na_texts = df_scrapped[df_scrapped.pure_text.isna()][\"link\"].values, df_scrapped[df_scrapped.pure_text.isna()][\"link\"].index"
   ]
  },
  {
   "cell_type": "code",
   "execution_count": 367,
   "metadata": {},
   "outputs": [],
   "source": [
    "scrapp = scrapper.ArticleScraper()"
   ]
  },
  {
   "cell_type": "code",
   "execution_count": 375,
   "metadata": {},
   "outputs": [],
   "source": [
    "texts = {}\n",
    "for link, idx in zip(links_to_scrap, idxs_na_texts):\n",
    "    texts[idx] = scrapp.get_pure_text_(link, options=options)"
   ]
  },
  {
   "cell_type": "code",
   "execution_count": 383,
   "metadata": {},
   "outputs": [],
   "source": [
    "df_scrapped.loc[texts.keys(), \"pure_text\"] = list(texts.values())"
   ]
  },
  {
   "cell_type": "code",
   "execution_count": 384,
   "metadata": {},
   "outputs": [
    {
     "data": {
      "text/plain": [
       "0"
      ]
     },
     "execution_count": 384,
     "metadata": {},
     "output_type": "execute_result"
    }
   ],
   "source": [
    "df_scrapped.pure_text.isna().sum()"
   ]
  },
  {
   "cell_type": "code",
   "execution_count": 385,
   "metadata": {},
   "outputs": [
    {
     "data": {
      "text/plain": [
       "0"
      ]
     },
     "execution_count": 385,
     "metadata": {},
     "output_type": "execute_result"
    }
   ],
   "source": [
    "df_scrapped.date.isna().sum()"
   ]
  },
  {
   "cell_type": "code",
   "execution_count": 404,
   "metadata": {},
   "outputs": [],
   "source": [
    "dates = [\n",
    "    datetime.datetime.strptime(\"2019-03-17\", '%Y-%m-%d').strftime('%d/%m/%Y'),\n",
    "    datetime.datetime.strptime(\"2019-03-17\", '%Y-%m-%d').strftime('%d/%m/%Y'),\n",
    "    datetime.datetime.strptime(\"2019-03-17\", '%Y-%m-%d').strftime('%d/%m/%Y'),\n",
    "    datetime.datetime.strptime(\"2019-11-09\", '%Y-%m-%d').strftime('%d/%m/%Y')\n",
    "]"
   ]
  },
  {
   "cell_type": "code",
   "execution_count": 405,
   "metadata": {},
   "outputs": [],
   "source": [
    "df_scrapped.loc[df_scrapped.date.str.contains('-'), \"date\"] = dates"
   ]
  },
  {
   "cell_type": "code",
   "execution_count": 406,
   "metadata": {},
   "outputs": [
    {
     "data": {
      "text/plain": [
       "0"
      ]
     },
     "execution_count": 406,
     "metadata": {},
     "output_type": "execute_result"
    }
   ],
   "source": [
    "df_scrapped.date.isna().sum()"
   ]
  },
  {
   "cell_type": "code",
   "execution_count": 407,
   "metadata": {},
   "outputs": [
    {
     "data": {
      "text/plain": [
       "0"
      ]
     },
     "execution_count": 407,
     "metadata": {},
     "output_type": "execute_result"
    }
   ],
   "source": [
    "df_scrapped.responses.isna().sum()"
   ]
  },
  {
   "cell_type": "code",
   "execution_count": 408,
   "metadata": {},
   "outputs": [
    {
     "data": {
      "text/plain": [
       "0"
      ]
     },
     "execution_count": 408,
     "metadata": {},
     "output_type": "execute_result"
    }
   ],
   "source": [
    "df_scrapped.n_code_chunks.isna().sum()"
   ]
  },
  {
   "cell_type": "code",
   "execution_count": 409,
   "metadata": {},
   "outputs": [
    {
     "data": {
      "text/plain": [
       "0"
      ]
     },
     "execution_count": 409,
     "metadata": {},
     "output_type": "execute_result"
    }
   ],
   "source": [
    "df_scrapped.bold_text_count.isna().sum()"
   ]
  },
  {
   "cell_type": "code",
   "execution_count": 410,
   "metadata": {},
   "outputs": [
    {
     "data": {
      "text/plain": [
       "0"
      ]
     },
     "execution_count": 410,
     "metadata": {},
     "output_type": "execute_result"
    }
   ],
   "source": [
    "df_scrapped.italic_text_count.isna().sum()"
   ]
  },
  {
   "cell_type": "code",
   "execution_count": 411,
   "metadata": {},
   "outputs": [
    {
     "data": {
      "text/plain": [
       "198"
      ]
     },
     "execution_count": 411,
     "metadata": {},
     "output_type": "execute_result"
    }
   ],
   "source": [
    "df_scrapped.mean_image_width.isna().sum()"
   ]
  },
  {
   "cell_type": "code",
   "execution_count": 414,
   "metadata": {},
   "outputs": [],
   "source": [
    "df_scrapped.loc[(df_scrapped.n_images == 0 & df_scrapped.mean_image_width.isna()), \"mean_image_width\"] = 0\n",
    "df_scrapped.loc[(df_scrapped.n_images == 0 & df_scrapped.mean_image_height.isna()), \"mean_image_height\"] = 0"
   ]
  },
  {
   "cell_type": "code",
   "execution_count": 423,
   "metadata": {},
   "outputs": [],
   "source": [
    "df_scrapped.mean_image_height.fillna(df_scrapped.mean_image_height.mean(), inplace=True)\n",
    "df_scrapped.mean_image_width.fillna(df_scrapped.mean_image_width.mean(), inplace=True)"
   ]
  },
  {
   "cell_type": "code",
   "execution_count": 424,
   "metadata": {},
   "outputs": [
    {
     "data": {
      "text/plain": [
       "0"
      ]
     },
     "execution_count": 424,
     "metadata": {},
     "output_type": "execute_result"
    }
   ],
   "source": [
    "df_scrapped.mean_image_width.isna().sum()\n"
   ]
  },
  {
   "cell_type": "code",
   "execution_count": 425,
   "metadata": {},
   "outputs": [
    {
     "data": {
      "text/plain": [
       "0"
      ]
     },
     "execution_count": 425,
     "metadata": {},
     "output_type": "execute_result"
    }
   ],
   "source": [
    "df_scrapped.mean_image_height.isna().sum()"
   ]
  },
  {
   "cell_type": "code",
   "execution_count": 426,
   "metadata": {},
   "outputs": [
    {
     "data": {
      "text/plain": [
       "0"
      ]
     },
     "execution_count": 426,
     "metadata": {},
     "output_type": "execute_result"
    }
   ],
   "source": [
    "df_scrapped.n_images.isna().sum()"
   ]
  },
  {
   "cell_type": "code",
   "execution_count": 427,
   "metadata": {},
   "outputs": [
    {
     "data": {
      "text/plain": [
       "0"
      ]
     },
     "execution_count": 427,
     "metadata": {},
     "output_type": "execute_result"
    }
   ],
   "source": [
    "df_scrapped.n_lists.isna().sum()"
   ]
  },
  {
   "cell_type": "code",
   "execution_count": 431,
   "metadata": {},
   "outputs": [
    {
     "data": {
      "text/plain": [
       "array(['https://writingcooperative.com/writing-blues-90de55c83cab',\n",
       "       'https://medium.com/datadriveninvestor/the-origin-of-artificial-intelligence-bb75340b932c',\n",
       "       'https://writingcooperative.com/course-correction-for-my-writing-a5877e501b92',\n",
       "       'https://towardsdatascience.com/the-crown-jewel-of-causal-inference-regression-discontinuity-design-rdd-bad37a68e786'],\n",
       "      dtype=object)"
      ]
     },
     "execution_count": 431,
     "metadata": {},
     "output_type": "execute_result"
    }
   ],
   "source": [
    "df_scrapped[df_scrapped.n_vids.isna()].link.values"
   ]
  },
  {
   "cell_type": "code",
   "execution_count": 435,
   "metadata": {},
   "outputs": [],
   "source": [
    "df_scrapped.n_vids.fillna(0, inplace=True)"
   ]
  },
  {
   "cell_type": "code",
   "execution_count": 436,
   "metadata": {},
   "outputs": [
    {
     "data": {
      "text/plain": [
       "0"
      ]
     },
     "execution_count": 436,
     "metadata": {},
     "output_type": "execute_result"
    }
   ],
   "source": [
    "df_scrapped.n_links.isna().sum()"
   ]
  },
  {
   "cell_type": "code",
   "execution_count": 437,
   "metadata": {},
   "outputs": [
    {
     "data": {
      "text/plain": [
       "0"
      ]
     },
     "execution_count": 437,
     "metadata": {},
     "output_type": "execute_result"
    }
   ],
   "source": [
    "df_scrapped.claps.isna().sum()"
   ]
  },
  {
   "cell_type": "code",
   "execution_count": 323,
   "metadata": {},
   "outputs": [
    {
     "data": {
      "text/plain": [
       "Index(['title', 'publication', 'link', 'author', 'followers', 'reading_time',\n",
       "       'n_words', 'pure_text', 'date', 'responses', 'n_code_chunks',\n",
       "       'bold_text_count', 'italic_text_count', 'mean_image_width',\n",
       "       'mean_image_height', 'n_images', 'n_lists', 'n_vids', 'n_links',\n",
       "       'claps'],\n",
       "      dtype='object')"
      ]
     },
     "execution_count": 323,
     "metadata": {},
     "output_type": "execute_result"
    }
   ],
   "source": [
    "df_scrapped.columns"
   ]
  },
  {
   "cell_type": "code",
   "execution_count": 467,
   "metadata": {},
   "outputs": [],
   "source": [
    "result_df = pd.concat([df_scrapped, df7])"
   ]
  },
  {
   "cell_type": "code",
   "execution_count": 468,
   "metadata": {},
   "outputs": [
    {
     "data": {
      "text/plain": [
       "0"
      ]
     },
     "execution_count": 468,
     "metadata": {},
     "output_type": "execute_result"
    }
   ],
   "source": [
    "result_df.isna().sum().sum()"
   ]
  },
  {
   "cell_type": "code",
   "execution_count": 469,
   "metadata": {},
   "outputs": [
    {
     "data": {
      "text/html": [
       "<div>\n",
       "<style scoped>\n",
       "    .dataframe tbody tr th:only-of-type {\n",
       "        vertical-align: middle;\n",
       "    }\n",
       "\n",
       "    .dataframe tbody tr th {\n",
       "        vertical-align: top;\n",
       "    }\n",
       "\n",
       "    .dataframe thead th {\n",
       "        text-align: right;\n",
       "    }\n",
       "</style>\n",
       "<table border=\"1\" class=\"dataframe\">\n",
       "  <thead>\n",
       "    <tr style=\"text-align: right;\">\n",
       "      <th></th>\n",
       "      <th>link</th>\n",
       "      <th>title</th>\n",
       "      <th>claps</th>\n",
       "      <th>responses</th>\n",
       "      <th>reading_time</th>\n",
       "      <th>publication</th>\n",
       "      <th>date</th>\n",
       "    </tr>\n",
       "    <tr>\n",
       "      <th>id</th>\n",
       "      <th></th>\n",
       "      <th></th>\n",
       "      <th></th>\n",
       "      <th></th>\n",
       "      <th></th>\n",
       "      <th></th>\n",
       "      <th></th>\n",
       "    </tr>\n",
       "  </thead>\n",
       "  <tbody>\n",
       "    <tr>\n",
       "      <th>6393</th>\n",
       "      <td>https://uxdesign.cc/please-please-please-tell-...</td>\n",
       "      <td>UX doesn’t discriminate, it targets behaviours</td>\n",
       "      <td>74</td>\n",
       "      <td>Read</td>\n",
       "      <td>5</td>\n",
       "      <td>UX Collective</td>\n",
       "      <td>2019-12-05</td>\n",
       "    </tr>\n",
       "  </tbody>\n",
       "</table>\n",
       "</div>"
      ],
      "text/plain": [
       "                                                   link  \\\n",
       "id                                                        \n",
       "6393  https://uxdesign.cc/please-please-please-tell-...   \n",
       "\n",
       "                                               title  claps responses  \\\n",
       "id                                                                      \n",
       "6393  UX doesn’t discriminate, it targets behaviours     74      Read   \n",
       "\n",
       "      reading_time    publication        date  \n",
       "id                                             \n",
       "6393             5  UX Collective  2019-12-05  "
      ]
     },
     "execution_count": 469,
     "metadata": {},
     "output_type": "execute_result"
    }
   ],
   "source": [
    "data[data[\"link\"] == 'https://uxdesign.cc/please-please-please-tell-me-that-you-forgot-the-who-between-old-and-are-and-are-not-455df3e3ce18']"
   ]
  },
  {
   "cell_type": "code",
   "execution_count": 470,
   "metadata": {},
   "outputs": [],
   "source": [
    "result_df.loc[result_df.responses == \"Read\", \"responses\"] = 0"
   ]
  },
  {
   "cell_type": "code",
   "execution_count": 471,
   "metadata": {},
   "outputs": [],
   "source": [
    "result_df.to_csv(\"scrapped_data/scrapped_data_final.csv\", index=False)"
   ]
  },
  {
   "cell_type": "code",
   "execution_count": 460,
   "metadata": {},
   "outputs": [
    {
     "data": {
      "text/html": [
       "<div>\n",
       "<style scoped>\n",
       "    .dataframe tbody tr th:only-of-type {\n",
       "        vertical-align: middle;\n",
       "    }\n",
       "\n",
       "    .dataframe tbody tr th {\n",
       "        vertical-align: top;\n",
       "    }\n",
       "\n",
       "    .dataframe thead th {\n",
       "        text-align: right;\n",
       "    }\n",
       "</style>\n",
       "<table border=\"1\" class=\"dataframe\">\n",
       "  <thead>\n",
       "    <tr style=\"text-align: right;\">\n",
       "      <th></th>\n",
       "      <th>title</th>\n",
       "      <th>publication</th>\n",
       "      <th>link</th>\n",
       "      <th>author</th>\n",
       "      <th>followers</th>\n",
       "      <th>reading_time</th>\n",
       "      <th>n_words</th>\n",
       "      <th>pure_text</th>\n",
       "      <th>date</th>\n",
       "      <th>responses</th>\n",
       "      <th>n_code_chunks</th>\n",
       "      <th>bold_text_count</th>\n",
       "      <th>italic_text_count</th>\n",
       "      <th>mean_image_width</th>\n",
       "      <th>mean_image_height</th>\n",
       "      <th>n_images</th>\n",
       "      <th>n_lists</th>\n",
       "      <th>n_vids</th>\n",
       "      <th>n_links</th>\n",
       "      <th>claps</th>\n",
       "    </tr>\n",
       "  </thead>\n",
       "  <tbody>\n",
       "    <tr>\n",
       "      <th>0</th>\n",
       "      <td>Hands-on Graph Neural Networks with PyTorch &amp; ...</td>\n",
       "      <td>Towards Data Science</td>\n",
       "      <td>https://towardsdatascience.com/hands-on-graph-...</td>\n",
       "      <td>Kung-Hsiang, Huang (Steeve)</td>\n",
       "      <td>3900.0</td>\n",
       "      <td>9.0</td>\n",
       "      <td>1615.0</td>\n",
       "      <td>In my last article, I introduced the concept o...</td>\n",
       "      <td>30/05/2019</td>\n",
       "      <td>17.0</td>\n",
       "      <td>5.0</td>\n",
       "      <td>7.0</td>\n",
       "      <td>32.0</td>\n",
       "      <td>744.0</td>\n",
       "      <td>302.0</td>\n",
       "      <td>12.0</td>\n",
       "      <td>10.0</td>\n",
       "      <td>0.0</td>\n",
       "      <td>10.0</td>\n",
       "      <td>1100.0</td>\n",
       "    </tr>\n",
       "    <tr>\n",
       "      <th>1</th>\n",
       "      <td>An Easy Introduction to SQL for Data Scientists</td>\n",
       "      <td>Towards Data Science</td>\n",
       "      <td>https://towardsdatascience.com/an-easy-introdu...</td>\n",
       "      <td>George Seif</td>\n",
       "      <td>21000.0</td>\n",
       "      <td>8.0</td>\n",
       "      <td>742.0</td>\n",
       "      <td>Want to be inspired? Come join my Super Quotes...</td>\n",
       "      <td>30/05/2019</td>\n",
       "      <td>1.0</td>\n",
       "      <td>14.0</td>\n",
       "      <td>1.0</td>\n",
       "      <td>5.0</td>\n",
       "      <td>1050.0</td>\n",
       "      <td>700.0</td>\n",
       "      <td>1.0</td>\n",
       "      <td>5.0</td>\n",
       "      <td>0.0</td>\n",
       "      <td>5.0</td>\n",
       "      <td>565.0</td>\n",
       "    </tr>\n",
       "    <tr>\n",
       "      <th>2</th>\n",
       "      <td>A Step-by-Step Implementation of Gradient Desc...</td>\n",
       "      <td>Towards Data Science</td>\n",
       "      <td>https://towardsdatascience.com/a-step-by-step-...</td>\n",
       "      <td>Yitong Ren</td>\n",
       "      <td>332.0</td>\n",
       "      <td>4.0</td>\n",
       "      <td>534.0</td>\n",
       "      <td>The original intention behind this post was me...</td>\n",
       "      <td>30/05/2019</td>\n",
       "      <td>4.0</td>\n",
       "      <td>1.0</td>\n",
       "      <td>4.0</td>\n",
       "      <td>5.0</td>\n",
       "      <td>1050.0</td>\n",
       "      <td>592.0</td>\n",
       "      <td>6.0</td>\n",
       "      <td>1.0</td>\n",
       "      <td>0.0</td>\n",
       "      <td>3.0</td>\n",
       "      <td>474.0</td>\n",
       "    </tr>\n",
       "    <tr>\n",
       "      <th>3</th>\n",
       "      <td>Introduction to Latent Matrix Factorization Re...</td>\n",
       "      <td>Towards Data Science</td>\n",
       "      <td>https://towardsdatascience.com/introduction-to...</td>\n",
       "      <td>Tumas Rackaitis</td>\n",
       "      <td>37.0</td>\n",
       "      <td>5.0</td>\n",
       "      <td>860.0</td>\n",
       "      <td>Latent Matrix Factorization is an incredibly p...</td>\n",
       "      <td>30/05/2019</td>\n",
       "      <td>2.0</td>\n",
       "      <td>1.0</td>\n",
       "      <td>11.0</td>\n",
       "      <td>12.0</td>\n",
       "      <td>813.0</td>\n",
       "      <td>470.0</td>\n",
       "      <td>3.0</td>\n",
       "      <td>0.0</td>\n",
       "      <td>0.0</td>\n",
       "      <td>9.0</td>\n",
       "      <td>214.0</td>\n",
       "    </tr>\n",
       "    <tr>\n",
       "      <th>4</th>\n",
       "      <td>Databricks: How to Save Data Frames as CSV Fil...</td>\n",
       "      <td>Towards Data Science</td>\n",
       "      <td>https://towardsdatascience.com/databricks-how-...</td>\n",
       "      <td>Deborah Kewon</td>\n",
       "      <td>129.0</td>\n",
       "      <td>4.0</td>\n",
       "      <td>633.0</td>\n",
       "      <td>When I work on Python projects dealing with la...</td>\n",
       "      <td>30/05/2019</td>\n",
       "      <td>4.0</td>\n",
       "      <td>2.0</td>\n",
       "      <td>6.0</td>\n",
       "      <td>2.0</td>\n",
       "      <td>1050.0</td>\n",
       "      <td>438.0</td>\n",
       "      <td>8.0</td>\n",
       "      <td>1.0</td>\n",
       "      <td>0.0</td>\n",
       "      <td>5.0</td>\n",
       "      <td>516.0</td>\n",
       "    </tr>\n",
       "    <tr>\n",
       "      <th>...</th>\n",
       "      <td>...</td>\n",
       "      <td>...</td>\n",
       "      <td>...</td>\n",
       "      <td>...</td>\n",
       "      <td>...</td>\n",
       "      <td>...</td>\n",
       "      <td>...</td>\n",
       "      <td>...</td>\n",
       "      <td>...</td>\n",
       "      <td>...</td>\n",
       "      <td>...</td>\n",
       "      <td>...</td>\n",
       "      <td>...</td>\n",
       "      <td>...</td>\n",
       "      <td>...</td>\n",
       "      <td>...</td>\n",
       "      <td>...</td>\n",
       "      <td>...</td>\n",
       "      <td>...</td>\n",
       "      <td>...</td>\n",
       "    </tr>\n",
       "    <tr>\n",
       "      <th>9814</th>\n",
       "      <td>Nerves: “Gold Month of Exchanges” — listed on ...</td>\n",
       "      <td>Nerves Foundation</td>\n",
       "      <td>https://medium.com/nerves-foundation/nerves-go...</td>\n",
       "      <td>Nerves Foundation</td>\n",
       "      <td>1800.0</td>\n",
       "      <td>1.0</td>\n",
       "      <td>153.0</td>\n",
       "      <td>Dear Nervesians,Today is probably a special da...</td>\n",
       "      <td>21/09/2018</td>\n",
       "      <td>0.0</td>\n",
       "      <td>0.0</td>\n",
       "      <td>9.0</td>\n",
       "      <td>28.0</td>\n",
       "      <td>1050.0</td>\n",
       "      <td>537.0</td>\n",
       "      <td>1.0</td>\n",
       "      <td>0.0</td>\n",
       "      <td>0.0</td>\n",
       "      <td>9.0</td>\n",
       "      <td>169.0</td>\n",
       "    </tr>\n",
       "    <tr>\n",
       "      <th>9815</th>\n",
       "      <td>An introduction to ConvLSTM</td>\n",
       "      <td>Neuronio</td>\n",
       "      <td>https://medium.com/neuronio/an-introduction-to...</td>\n",
       "      <td>Alexandre Xavier</td>\n",
       "      <td>142.0</td>\n",
       "      <td>6.0</td>\n",
       "      <td>1009.0</td>\n",
       "      <td>Note: a Portuguese version of this article is ...</td>\n",
       "      <td>25/03/2019</td>\n",
       "      <td>11.0</td>\n",
       "      <td>0.0</td>\n",
       "      <td>21.0</td>\n",
       "      <td>0.0</td>\n",
       "      <td>772.0</td>\n",
       "      <td>547.0</td>\n",
       "      <td>4.0</td>\n",
       "      <td>3.0</td>\n",
       "      <td>0.0</td>\n",
       "      <td>11.0</td>\n",
       "      <td>809.0</td>\n",
       "    </tr>\n",
       "    <tr>\n",
       "      <th>9816</th>\n",
       "      <td>Automatic Text Summarization Made Simple with ...</td>\n",
       "      <td>luisfredgs</td>\n",
       "      <td>https://medium.com/luisfredgs/automatic-text-s...</td>\n",
       "      <td>Luís Gonçalves</td>\n",
       "      <td>351.0</td>\n",
       "      <td>4.0</td>\n",
       "      <td>632.0</td>\n",
       "      <td>Summarization condenses a longer document into...</td>\n",
       "      <td>19/04/2020</td>\n",
       "      <td>1.0</td>\n",
       "      <td>7.0</td>\n",
       "      <td>1.0</td>\n",
       "      <td>2.0</td>\n",
       "      <td>1050.0</td>\n",
       "      <td>607.0</td>\n",
       "      <td>1.0</td>\n",
       "      <td>1.0</td>\n",
       "      <td>0.0</td>\n",
       "      <td>4.0</td>\n",
       "      <td>145.0</td>\n",
       "    </tr>\n",
       "    <tr>\n",
       "      <th>9817</th>\n",
       "      <td>Multinomial Naive Bayes Classifier for Text An...</td>\n",
       "      <td>Towards Data Science</td>\n",
       "      <td>https://towardsdatascience.com/multinomial-nai...</td>\n",
       "      <td>Syed Sadat Nazrul</td>\n",
       "      <td>2800.0</td>\n",
       "      <td>7.0</td>\n",
       "      <td>399.0</td>\n",
       "      <td>One of the most popular applications of machin...</td>\n",
       "      <td>09/04/2018</td>\n",
       "      <td>7.0</td>\n",
       "      <td>10.0</td>\n",
       "      <td>88.0</td>\n",
       "      <td>48.0</td>\n",
       "      <td>323.0</td>\n",
       "      <td>145.0</td>\n",
       "      <td>17.0</td>\n",
       "      <td>0.0</td>\n",
       "      <td>0.0</td>\n",
       "      <td>1.0</td>\n",
       "      <td>526.0</td>\n",
       "    </tr>\n",
       "    <tr>\n",
       "      <th>9818</th>\n",
       "      <td>Dropping Out Is Not Sexy!</td>\n",
       "      <td>Towards Data Science</td>\n",
       "      <td>https://medium.com/@nehatripathii/dropping-out...</td>\n",
       "      <td>Neha Tripathi</td>\n",
       "      <td>11.0</td>\n",
       "      <td>4.0</td>\n",
       "      <td>743.0</td>\n",
       "      <td>Hey,I am Neha, I dropped out of the MPhil prog...</td>\n",
       "      <td>27/06/2021</td>\n",
       "      <td>1.0</td>\n",
       "      <td>0.0</td>\n",
       "      <td>0.0</td>\n",
       "      <td>2.0</td>\n",
       "      <td>1050.0</td>\n",
       "      <td>1400.0</td>\n",
       "      <td>1.0</td>\n",
       "      <td>0.0</td>\n",
       "      <td>0.0</td>\n",
       "      <td>0.0</td>\n",
       "      <td>62.0</td>\n",
       "    </tr>\n",
       "  </tbody>\n",
       "</table>\n",
       "<p>9819 rows × 20 columns</p>\n",
       "</div>"
      ],
      "text/plain": [
       "                                                  title           publication  \\\n",
       "0     Hands-on Graph Neural Networks with PyTorch & ...  Towards Data Science   \n",
       "1       An Easy Introduction to SQL for Data Scientists  Towards Data Science   \n",
       "2     A Step-by-Step Implementation of Gradient Desc...  Towards Data Science   \n",
       "3     Introduction to Latent Matrix Factorization Re...  Towards Data Science   \n",
       "4     Databricks: How to Save Data Frames as CSV Fil...  Towards Data Science   \n",
       "...                                                 ...                   ...   \n",
       "9814  Nerves: “Gold Month of Exchanges” — listed on ...     Nerves Foundation   \n",
       "9815                        An introduction to ConvLSTM              Neuronio   \n",
       "9816  Automatic Text Summarization Made Simple with ...            luisfredgs   \n",
       "9817  Multinomial Naive Bayes Classifier for Text An...  Towards Data Science   \n",
       "9818                          Dropping Out Is Not Sexy!  Towards Data Science   \n",
       "\n",
       "                                                   link  \\\n",
       "0     https://towardsdatascience.com/hands-on-graph-...   \n",
       "1     https://towardsdatascience.com/an-easy-introdu...   \n",
       "2     https://towardsdatascience.com/a-step-by-step-...   \n",
       "3     https://towardsdatascience.com/introduction-to...   \n",
       "4     https://towardsdatascience.com/databricks-how-...   \n",
       "...                                                 ...   \n",
       "9814  https://medium.com/nerves-foundation/nerves-go...   \n",
       "9815  https://medium.com/neuronio/an-introduction-to...   \n",
       "9816  https://medium.com/luisfredgs/automatic-text-s...   \n",
       "9817  https://towardsdatascience.com/multinomial-nai...   \n",
       "9818  https://medium.com/@nehatripathii/dropping-out...   \n",
       "\n",
       "                           author  followers  reading_time  n_words  \\\n",
       "0     Kung-Hsiang, Huang (Steeve)     3900.0           9.0   1615.0   \n",
       "1                     George Seif    21000.0           8.0    742.0   \n",
       "2                      Yitong Ren      332.0           4.0    534.0   \n",
       "3                 Tumas Rackaitis       37.0           5.0    860.0   \n",
       "4                   Deborah Kewon      129.0           4.0    633.0   \n",
       "...                           ...        ...           ...      ...   \n",
       "9814            Nerves Foundation     1800.0           1.0    153.0   \n",
       "9815             Alexandre Xavier      142.0           6.0   1009.0   \n",
       "9816               Luís Gonçalves      351.0           4.0    632.0   \n",
       "9817            Syed Sadat Nazrul     2800.0           7.0    399.0   \n",
       "9818                Neha Tripathi       11.0           4.0    743.0   \n",
       "\n",
       "                                              pure_text        date  \\\n",
       "0     In my last article, I introduced the concept o...  30/05/2019   \n",
       "1     Want to be inspired? Come join my Super Quotes...  30/05/2019   \n",
       "2     The original intention behind this post was me...  30/05/2019   \n",
       "3     Latent Matrix Factorization is an incredibly p...  30/05/2019   \n",
       "4     When I work on Python projects dealing with la...  30/05/2019   \n",
       "...                                                 ...         ...   \n",
       "9814  Dear Nervesians,Today is probably a special da...  21/09/2018   \n",
       "9815  Note: a Portuguese version of this article is ...  25/03/2019   \n",
       "9816  Summarization condenses a longer document into...  19/04/2020   \n",
       "9817  One of the most popular applications of machin...  09/04/2018   \n",
       "9818  Hey,I am Neha, I dropped out of the MPhil prog...  27/06/2021   \n",
       "\n",
       "      responses  n_code_chunks  bold_text_count  italic_text_count  \\\n",
       "0          17.0            5.0              7.0               32.0   \n",
       "1           1.0           14.0              1.0                5.0   \n",
       "2           4.0            1.0              4.0                5.0   \n",
       "3           2.0            1.0             11.0               12.0   \n",
       "4           4.0            2.0              6.0                2.0   \n",
       "...         ...            ...              ...                ...   \n",
       "9814        0.0            0.0              9.0               28.0   \n",
       "9815       11.0            0.0             21.0                0.0   \n",
       "9816        1.0            7.0              1.0                2.0   \n",
       "9817        7.0           10.0             88.0               48.0   \n",
       "9818        1.0            0.0              0.0                2.0   \n",
       "\n",
       "      mean_image_width  mean_image_height  n_images  n_lists  n_vids  n_links  \\\n",
       "0                744.0              302.0      12.0     10.0     0.0     10.0   \n",
       "1               1050.0              700.0       1.0      5.0     0.0      5.0   \n",
       "2               1050.0              592.0       6.0      1.0     0.0      3.0   \n",
       "3                813.0              470.0       3.0      0.0     0.0      9.0   \n",
       "4               1050.0              438.0       8.0      1.0     0.0      5.0   \n",
       "...                ...                ...       ...      ...     ...      ...   \n",
       "9814            1050.0              537.0       1.0      0.0     0.0      9.0   \n",
       "9815             772.0              547.0       4.0      3.0     0.0     11.0   \n",
       "9816            1050.0              607.0       1.0      1.0     0.0      4.0   \n",
       "9817             323.0              145.0      17.0      0.0     0.0      1.0   \n",
       "9818            1050.0             1400.0       1.0      0.0     0.0      0.0   \n",
       "\n",
       "       claps  \n",
       "0     1100.0  \n",
       "1      565.0  \n",
       "2      474.0  \n",
       "3      214.0  \n",
       "4      516.0  \n",
       "...      ...  \n",
       "9814   169.0  \n",
       "9815   809.0  \n",
       "9816   145.0  \n",
       "9817   526.0  \n",
       "9818    62.0  \n",
       "\n",
       "[9819 rows x 20 columns]"
      ]
     },
     "execution_count": 460,
     "metadata": {},
     "output_type": "execute_result"
    }
   ],
   "source": [
    "pd.read_csv(\"scrapped_data/scrapped_data_final.csv\")"
   ]
  },
  {
   "cell_type": "code",
   "execution_count": 463,
   "metadata": {},
   "outputs": [
    {
     "data": {
      "text/plain": [
       "['17/03/2019', '17/03/2019', '17/03/2019', '09/11/2019']"
      ]
     },
     "execution_count": 463,
     "metadata": {},
     "output_type": "execute_result"
    }
   ],
   "source": [
    "dates"
   ]
  },
  {
   "cell_type": "code",
   "execution_count": 11,
   "metadata": {},
   "outputs": [],
   "source": [
    "import requests\n",
    "import lxml\n",
    "from bs4 import BeautifulSoup"
   ]
  },
  {
   "cell_type": "code",
   "execution_count": 476,
   "metadata": {},
   "outputs": [],
   "source": [
    "url = \"https://betterprogramming.pub/111-hand-picked-programming-articles-on-medium-january-2022-c35fc29ccf6\"\n",
    "page = requests.get(url).text"
   ]
  },
  {
   "cell_type": "code",
   "execution_count": 478,
   "metadata": {},
   "outputs": [],
   "source": [
    "soup = BeautifulSoup(page, \"lxml\")"
   ]
  },
  {
   "cell_type": "code",
   "execution_count": 490,
   "metadata": {},
   "outputs": [],
   "source": [
    "links_2022 = []\n",
    "for a in soup.find('section').find_all('a'):\n",
    "    link = a.get('href')\n",
    "    if link != None and link.__contains__('-'):\n",
    "        if link.__contains__(\"https\"):\n",
    "            links_2022.append(link)\n",
    "        else:\n",
    "            links_2022.append(\"https://betterprogramming.pub\" + link)"
   ]
  },
  {
   "cell_type": "code",
   "execution_count": 504,
   "metadata": {},
   "outputs": [],
   "source": [
    "import scrapping_tools"
   ]
  },
  {
   "cell_type": "code",
   "execution_count": 588,
   "metadata": {},
   "outputs": [],
   "source": [
    "scrapping_tools.utils.scrap_articles_async_list(links_2022, options, pools=14)"
   ]
  },
  {
   "cell_type": "code",
   "execution_count": 515,
   "metadata": {},
   "outputs": [],
   "source": [
    "df8 = pd.read_csv(\"./scrapped_data/scrapped_async_data_part7.csv\", header=None)\n",
    "df8.columns = columns"
   ]
  },
  {
   "cell_type": "code",
   "execution_count": 519,
   "metadata": {},
   "outputs": [],
   "source": [
    "df8.dropna(subset=\"title\", inplace=True)"
   ]
  },
  {
   "cell_type": "code",
   "execution_count": 522,
   "metadata": {},
   "outputs": [],
   "source": [
    "df8.dropna(subset=\"followers\", inplace=True)"
   ]
  },
  {
   "cell_type": "code",
   "execution_count": 528,
   "metadata": {},
   "outputs": [],
   "source": [
    "df8.loc[df8.claps.isna(), \"claps\"] = 1400"
   ]
  },
  {
   "cell_type": "code",
   "execution_count": 537,
   "metadata": {},
   "outputs": [
    {
     "data": {
      "text/plain": [
       "array(['https://betterprogramming.pub/train-lstm-with-mlcompute-on-ios-macos-8e9326ce948f',\n",
       "       'https://betterprogramming.pub/adding-a-watch-app-to-your-existing-ios-application-xcode-13-d229dd9422c5'],\n",
       "      dtype=object)"
      ]
     },
     "execution_count": 537,
     "metadata": {},
     "output_type": "execute_result"
    }
   ],
   "source": [
    "df8.dropna(subset=\"date\").link.values"
   ]
  },
  {
   "cell_type": "code",
   "execution_count": 539,
   "metadata": {},
   "outputs": [],
   "source": [
    "df8.responses.fillna(0, inplace=True)"
   ]
  },
  {
   "cell_type": "code",
   "execution_count": 544,
   "metadata": {},
   "outputs": [],
   "source": [
    "df8.publication.fillna(\"Medium\", inplace=True)"
   ]
  },
  {
   "cell_type": "code",
   "execution_count": 554,
   "metadata": {},
   "outputs": [],
   "source": [
    "df8.dropna(subset=\"pure_text\", inplace=True)"
   ]
  },
  {
   "cell_type": "code",
   "execution_count": 566,
   "metadata": {},
   "outputs": [],
   "source": [
    "links_date = df8.link.values\n",
    "idxs_dattes = df8.link.index"
   ]
  },
  {
   "cell_type": "code",
   "execution_count": 570,
   "metadata": {},
   "outputs": [],
   "source": [
    "scrapp = scrapper.ArticleScraper()"
   ]
  },
  {
   "cell_type": "code",
   "execution_count": 575,
   "metadata": {},
   "outputs": [
    {
     "data": {
      "text/plain": [
       "122"
      ]
     },
     "execution_count": 575,
     "metadata": {},
     "output_type": "execute_result"
    }
   ],
   "source": [
    "len(links_date)"
   ]
  },
  {
   "cell_type": "code",
   "execution_count": 576,
   "metadata": {},
   "outputs": [
    {
     "name": "stdout",
     "output_type": "stream",
     "text": [
      "Couldn't get date from article.\n",
      "Couldn't get date from article.\n",
      "Couldn't get date from article.\n",
      "Couldn't get date from article.\n",
      "Couldn't get date from article.\n",
      "Couldn't get date from article.\n"
     ]
    }
   ],
   "source": [
    "datttes = {}\n",
    "for idx, link in zip(idxs_dattes, links_date):\n",
    "    datttes[idx] = scrapp.get_date_current_year_(link, options)"
   ]
  },
  {
   "cell_type": "code",
   "execution_count": 579,
   "metadata": {},
   "outputs": [],
   "source": [
    "df8.loc[datttes.keys(), \"date\"] = list(datttes.values())"
   ]
  },
  {
   "cell_type": "code",
   "execution_count": 582,
   "metadata": {},
   "outputs": [],
   "source": [
    "df8.dropna(subset=\"date\", inplace=True)"
   ]
  },
  {
   "cell_type": "code",
   "execution_count": 587,
   "metadata": {},
   "outputs": [
    {
     "data": {
      "text/plain": [
       "title                0\n",
       "publication          0\n",
       "link                 0\n",
       "author               0\n",
       "followers            0\n",
       "reading_time         0\n",
       "n_words              0\n",
       "pure_text            0\n",
       "date                 0\n",
       "responses            0\n",
       "n_code_chunks        0\n",
       "bold_text_count      0\n",
       "italic_text_count    0\n",
       "mean_image_width     9\n",
       "mean_image_height    9\n",
       "n_images             0\n",
       "n_lists              0\n",
       "n_vids               0\n",
       "n_links              0\n",
       "claps                0\n",
       "dtype: int64"
      ]
     },
     "execution_count": 587,
     "metadata": {},
     "output_type": "execute_result"
    }
   ],
   "source": []
  },
  {
   "cell_type": "code",
   "execution_count": 589,
   "metadata": {},
   "outputs": [],
   "source": [
    "df8.loc[(df8.n_images == 0 & df8.mean_image_width.isna()), \"mean_image_width\"] = 0\n",
    "df8.loc[(df8.n_images == 0 & df8.mean_image_height.isna()), \"mean_image_height\"] = 0"
   ]
  },
  {
   "cell_type": "code",
   "execution_count": 594,
   "metadata": {},
   "outputs": [],
   "source": [
    "df8.mean_image_width.fillna(df8.mean_image_width.mean().round(0), inplace=True)\n",
    "df8.mean_image_height.fillna(df8.mean_image_height.mean().round(0), inplace=True)"
   ]
  },
  {
   "cell_type": "code",
   "execution_count": 595,
   "metadata": {},
   "outputs": [
    {
     "data": {
      "text/plain": [
       "title                0\n",
       "publication          0\n",
       "link                 0\n",
       "author               0\n",
       "followers            0\n",
       "reading_time         0\n",
       "n_words              0\n",
       "pure_text            0\n",
       "date                 0\n",
       "responses            0\n",
       "n_code_chunks        0\n",
       "bold_text_count      0\n",
       "italic_text_count    0\n",
       "mean_image_width     0\n",
       "mean_image_height    0\n",
       "n_images             0\n",
       "n_lists              0\n",
       "n_vids               0\n",
       "n_links              0\n",
       "claps                0\n",
       "dtype: int64"
      ]
     },
     "execution_count": 595,
     "metadata": {},
     "output_type": "execute_result"
    }
   ],
   "source": [
    "df8.isna().sum()"
   ]
  },
  {
   "cell_type": "code",
   "execution_count": 599,
   "metadata": {},
   "outputs": [],
   "source": [
    "pd.concat([result_df, df8]).to_csv(\"scrapped_data/scrapped_data_final.csv\", index=False)"
   ]
  },
  {
   "cell_type": "code",
   "execution_count": 38,
   "metadata": {},
   "outputs": [],
   "source": [
    "from tqdm import tqdm"
   ]
  },
  {
   "cell_type": "code",
   "execution_count": 131,
   "metadata": {},
   "outputs": [],
   "source": [
    "df = pd.read_csv(\"./scrapped_data/scrapped_data_extended.csv\")"
   ]
  },
  {
   "cell_type": "code",
   "execution_count": 132,
   "metadata": {},
   "outputs": [],
   "source": [
    "tts = df.pure_text.values.astype(str)"
   ]
  },
  {
   "cell_type": "code",
   "execution_count": 134,
   "metadata": {},
   "outputs": [
    {
     "name": "stderr",
     "output_type": "stream",
     "text": [
      "100%|██████████| 9935/9935 [00:25<00:00, 387.90it/s]\n"
     ]
    }
   ],
   "source": [
    "bad = []\n",
    "for i, text in tqdm(enumerate(tts), total=tts.shape[0]):\n",
    "    if text[:11].__contains__(\"dict_values\"):\n",
    "        bad.append(i)"
   ]
  },
  {
   "cell_type": "code",
   "execution_count": 135,
   "metadata": {},
   "outputs": [
    {
     "data": {
      "text/plain": [
       "[450,\n",
       " 453,\n",
       " 470,\n",
       " 591,\n",
       " 593,\n",
       " 594,\n",
       " 705,\n",
       " 1653,\n",
       " 2318,\n",
       " 3687,\n",
       " 4207,\n",
       " 4273,\n",
       " 4333,\n",
       " 4418,\n",
       " 4451,\n",
       " 4633,\n",
       " 5525,\n",
       " 5634]"
      ]
     },
     "execution_count": 135,
     "metadata": {},
     "output_type": "execute_result"
    }
   ],
   "source": [
    "bad"
   ]
  },
  {
   "cell_type": "code",
   "execution_count": 136,
   "metadata": {},
   "outputs": [],
   "source": [
    "links_last_scrap = df.loc[bad, :].link.values"
   ]
  },
  {
   "cell_type": "code",
   "execution_count": 137,
   "metadata": {},
   "outputs": [],
   "source": [
    "del tts "
   ]
  },
  {
   "cell_type": "code",
   "execution_count": 138,
   "metadata": {},
   "outputs": [],
   "source": [
    "scrapp = scrapper.ArticleScraper()"
   ]
  },
  {
   "cell_type": "code",
   "execution_count": 139,
   "metadata": {},
   "outputs": [
    {
     "name": "stderr",
     "output_type": "stream",
     "text": [
      "100%|██████████| 18/18 [02:22<00:00,  7.94s/it]\n"
     ]
    }
   ],
   "source": [
    "texts = {}\n",
    "for link, idx in tqdm(zip(links_last_scrap, bad), total=len(links_last_scrap)):\n",
    "    texts[idx] = scrapp.get_pure_text_(link, options=options)"
   ]
  },
  {
   "cell_type": "code",
   "execution_count": 140,
   "metadata": {},
   "outputs": [
    {
     "data": {
      "text/plain": [
       "0"
      ]
     },
     "execution_count": 140,
     "metadata": {},
     "output_type": "execute_result"
    }
   ],
   "source": [
    "df.isna().sum().sum()"
   ]
  },
  {
   "cell_type": "code",
   "execution_count": 143,
   "metadata": {},
   "outputs": [
    {
     "name": "stdout",
     "output_type": "stream",
     "text": [
      "450 For the pa\n",
      "453 The Justic\n",
      "470 Murder in \n",
      "591 I wish tha\n",
      "593 The term A\n",
      "594 Maybe it i\n",
      "705 \n",
      "1653 LeBron Jam\n",
      "2318 Tim Richar\n",
      "3687 We are awa\n",
      "4207 Why Harley\n",
      "4273 We have al\n",
      "4333 I’ve been \n",
      "4418 A few year\n",
      "4451 1st Octobe\n",
      "4633 Empathy! A\n",
      "5525 When I sta\n",
      "5634 \n"
     ]
    }
   ],
   "source": [
    "for key, text in texts.items():\n",
    "    print(key, text[:10])"
   ]
  },
  {
   "cell_type": "code",
   "execution_count": 146,
   "metadata": {},
   "outputs": [],
   "source": [
    "# del texts[705]\n",
    "del texts[5634]"
   ]
  },
  {
   "cell_type": "code",
   "execution_count": 147,
   "metadata": {},
   "outputs": [],
   "source": [
    "df.loc[texts.keys(), \"pure_text\"] = list(texts.values())"
   ]
  },
  {
   "cell_type": "code",
   "execution_count": 149,
   "metadata": {},
   "outputs": [
    {
     "data": {
      "text/plain": [
       "0"
      ]
     },
     "execution_count": 149,
     "metadata": {},
     "output_type": "execute_result"
    }
   ],
   "source": [
    "df.pure_text.isna().sum()"
   ]
  },
  {
   "cell_type": "code",
   "execution_count": 156,
   "metadata": {},
   "outputs": [],
   "source": [
    "df = df.drop([705, 5634])"
   ]
  },
  {
   "cell_type": "code",
   "execution_count": 157,
   "metadata": {},
   "outputs": [],
   "source": [
    "df.to_csv(\"./scrapped_data/scrapped_data_extended.csv\", index=False)"
   ]
  },
  {
   "cell_type": "code",
   "execution_count": 158,
   "metadata": {},
   "outputs": [
    {
     "data": {
      "text/plain": [
       "0"
      ]
     },
     "execution_count": 158,
     "metadata": {},
     "output_type": "execute_result"
    }
   ],
   "source": [
    "df.pure_text.isna().sum()"
   ]
  },
  {
   "cell_type": "code",
   "execution_count": 122,
   "metadata": {},
   "outputs": [],
   "source": [
    "df.index = range(df.shape[0])"
   ]
  },
  {
   "cell_type": "code",
   "execution_count": 123,
   "metadata": {},
   "outputs": [
    {
     "data": {
      "text/plain": [
       "0"
      ]
     },
     "execution_count": 123,
     "metadata": {},
     "output_type": "execute_result"
    }
   ],
   "source": [
    "df.isna().sum().sum()"
   ]
  },
  {
   "cell_type": "code",
   "execution_count": 124,
   "metadata": {},
   "outputs": [],
   "source": [
    "df.to_csv(\"./scrapped_data/scrapped_data_extended.csv\")"
   ]
  },
  {
   "cell_type": "code",
   "execution_count": 128,
   "metadata": {},
   "outputs": [
    {
     "data": {
      "text/plain": [
       "0"
      ]
     },
     "execution_count": 128,
     "metadata": {},
     "output_type": "execute_result"
    }
   ],
   "source": [
    "df.pure_text.isna().sum()"
   ]
  },
  {
   "cell_type": "code",
   "execution_count": 130,
   "metadata": {},
   "outputs": [
    {
     "data": {
      "text/plain": [
       "0"
      ]
     },
     "execution_count": 130,
     "metadata": {},
     "output_type": "execute_result"
    }
   ],
   "source": [
    "(df.pure_text.map(type)==float).sum()"
   ]
  },
  {
   "cell_type": "code",
   "execution_count": null,
   "metadata": {},
   "outputs": [],
   "source": []
  }
 ],
 "metadata": {
  "kernelspec": {
   "display_name": "Python 3",
   "language": "python",
   "name": "python3"
  },
  "language_info": {
   "codemirror_mode": {
    "name": "ipython",
    "version": 3
   },
   "file_extension": ".py",
   "mimetype": "text/x-python",
   "name": "python",
   "nbconvert_exporter": "python",
   "pygments_lexer": "ipython3",
   "version": "3.10.8"
  },
  "orig_nbformat": 4,
  "vscode": {
   "interpreter": {
    "hash": "7abe41bf88626c8179a12d706309ac1665b0164ec3bd4c11d7418ed9f0904ed3"
   }
  }
 },
 "nbformat": 4,
 "nbformat_minor": 2
}
