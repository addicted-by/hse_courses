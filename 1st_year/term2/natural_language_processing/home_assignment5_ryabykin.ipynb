{
 "cells": [
  {
   "attachments": {},
   "cell_type": "markdown",
   "metadata": {},
   "source": [
    "<h1 align=\"center\"> Natural Language Processing </h1>\n",
    "\n",
    "<a name=\"content\"> </a>\n",
    "## <font color=\"green\"> Home assignment 5 </font> Context-free grammars\n",
    "\n",
    "### Work has been done by: Ryabykin Aleksey\n",
    "---"
   ]
  },
  {
   "cell_type": "code",
   "execution_count": 1,
   "metadata": {},
   "outputs": [],
   "source": [
    "import nltk"
   ]
  },
  {
   "cell_type": "code",
   "execution_count": 2,
   "metadata": {},
   "outputs": [],
   "source": [
    "GRAMMAR_PATH = './grammar.fcfg'"
   ]
  },
  {
   "attachments": {},
   "cell_type": "markdown",
   "metadata": {},
   "source": [
    "# Task 1"
   ]
  },
  {
   "cell_type": "code",
   "execution_count": 3,
   "metadata": {},
   "outputs": [
    {
     "name": "stdout",
     "output_type": "stream",
     "text": [
      "% start S\n",
      "# Grammar Rules\n",
      "S[SEM = <app(?subj,?vp)>] -> NP[NUM=?n,SEM=?subj] VP[NUM=?n,SEM=?vp]\n",
      "NP[NUM=?n,SEM=<app(?det,?nom)> ] -> Det[NUM=?n,SEM=?det]  Nom[NUM=?n,SEM=?nom]\n",
      "NP[LOC=?l,NUM=?n,SEM=?np] -> PropN[LOC=?l,NUM=?n,SEM=?np]\n",
      "Nom[SEM=<app(?adj, ?nom)>] -> Adj[SEM=?adj]  N[NUM=?n,SEM=?nom]\n",
      "Nom[NUM=?n,SEM=?nom] -> N[NUM=?n,SEM=?nom]\n",
      "Nom[NUM=?n,SEM=<app(?pp,?nom)>] -> N[NUM=?n,SEM=?nom] PP[SEM=?pp]\n",
      "VP[NUM=?n,SEM=<app(?v,?obj)>] -> TV[NUM=?n,SEM=?v] NP[SEM=?obj]\n",
      "VP[NUM=?n,SEM=?v] -> IV[NUM=?n,SEM=?v]\n",
      "VP[NUM=?n,SEM=<app(?pp,?vp)>] -> VP[NUM=?n,SEM=?vp] PP[-PRED,SEM=?pp]\n",
      "PP[LOC=?l,PRED=?prd,SEM=<app(?p,?np)>] -> P[LOC=?l,PRED=?prd,SEM=?p] NP[LOC=?l,SEM=?np]\n",
      "# Lexical Rules\n",
      "PropN[-LOC,NUM=sg,SEM=<\\P.P(mouse)>] -> 'mouse'\n",
      "PropN[-LOC,NUM=sg,SEM=<\\P.P(kitten)>] -> 'kitten'\n",
      "Det[NUM=sg,SEM=<\\P Q.exists x.(P(x) & Q(x))>] -> 'a' | 'A'\n",
      "Det[NUM=sg,SEM=<\\P Q.exists x.((P(x) & Q(x)) & all y.(P(y) -> (x = y)))>] -> 'the' | 'The'\n",
      "N[NUM=sg,SEM=<\\x.kitten(x)>] -> 'kitten'\n",
      "N[NUM=sg,SEM=<\\x.mouse(x)>] -> 'mouse' \n",
      "N[NUM=sg,SEM=<\\x.jar(x)>] -> 'jar'\n",
      "# N[NUM=sg,SEM=<\\x.jar(x)>] -> 'flour'\n",
      "Adj[SEM=<\\P x.(black(x) & P(x))>] -> 'black'\n",
      "Adj[SEM=<\\P x.(white(x) & P(x))>] -> 'white'\n",
      "TV[NUM=sg,SEM=<\\X y.X(\\x.followed(y,x))>,tns=past] -> 'followed'\n",
      "TV[NUM=sg,SEM=<\\X y.X(\\x.saw(y,x))>,tns=past] -> 'saw'\n",
      "IV[NUM=sg,SEM=<\\x.rushed(x)>,tns=past] -> 'rushed'\n",
      "IV[NUM=sg,SEM=<\\x.jumped(x)>,tns=past] -> 'jumped'\n",
      "IV[NUM=sg,SEM=<\\x.played(x)>,tns=past] -> 'played'\n",
      "TV[NUM=sg,SEM=<\\X y.X(\\x.opened(y,x))>,tns=past] -> 'opened'\n",
      "TV[NUM=sg,SEM=<\\X y.X(\\x.closed(y,x))>,tns=past] -> 'closed'\n",
      "TV[NUM=sg,SEM=<\\X y.X(\\x.broke(y,x))>,tns=past] -> 'broke'\n",
      "TV[NUM=sg,SEM=<\\X y.X(\\x.fixed(y,x))>,tns=past] -> 'fixed'\n",
      "TV[NUM=sg,SEM=<\\X y.X(\\x.found(y,x))>,tns=past] -> 'found'\n",
      "TV[NUM=sg,SEM=<\\X y.X(\\x.held(y,x))>,tns=past] -> 'held'\n",
      "TV[NUM=sg,SEM=<\\X y.X(\\x.kicked(y,x))>,tns=past] -> 'kicked'\n",
      "TV[NUM=sg,SEM=<\\X y.X(\\x.moved(y,x))>,tns=past] -> 'moved'\n",
      "TV[NUM=sg,SEM=<\\X y.X(\\x.painted(y,x))>,tns=past] -> 'painted'\n",
      "TV[NUM=sg,SEM=<\\X y.X(\\x.read(y,x))>,tns=past] -> 'read'\n",
      "TV[NUM=sg,SEM=<\\X y.X(\\x.liked(y,x))>,tns=past] -> 'liked'\n",
      "TV[NUM=sg,SEM=<\\X y.X(\\x.loved(y,x))>,tns=past] -> 'loved'\n",
      "TV[NUM=sg,SEM=<\\X y.X(\\x.hated(y,x))>,tns=past] -> 'hated'\n",
      "P[PRED=<\\X Y.exists x.(X(x) & Y(x))>, LOC=<\\x.at(x,library)>] -> 'at'\n",
      "P[PRED=<\\X Y.exists x.(X(x) & Y(x))>, LOC=<\\x.in(x,library)>] -> 'in'\n",
      "P[PRED=<\\X Y.exists x.(X(x) & Y(x))>, LOC=<\\x.on(x,table)>] -> 'on'\n",
      "IV[NUM=sg,SEM=<\\x.got_out(x)>,tns=past] -> 'got' 'out'\n",
      "IV[NUM=sg,SEM=<\\x.ran_away(x)>,tns=past] -> 'ran' 'away'\n",
      "P[+LOC,-PRED,SEM=<\\X P x.X(\\y.(P(x) & of(x,y)))>] -> 'of'\n",
      "P[+LOC,-PRED,SEM=<\\X P x.X(\\y.(P(x) & into(x,y)))>] -> 'into'\n",
      "P[+LOC,-PRED,SEM=<\\X P x.X(\\y.(P(x) & after(x,y)))>] -> 'after'\n"
     ]
    }
   ],
   "source": [
    "grammar = nltk.load(GRAMMAR_PATH)\n",
    "nltk.data.show_cfg(GRAMMAR_PATH)"
   ]
  },
  {
   "cell_type": "code",
   "execution_count": 4,
   "metadata": {},
   "outputs": [],
   "source": [
    "sentences = [\n",
    "  'A black kitten saw a mouse',\n",
    "  'The kitten rushed after a mouse',\n",
    "  'The mouse jumped into a jar',\n",
    "  'The kitten followed a mouse',\n",
    "  'The mouse ran away',\n",
    "  'A white kitten got out of the jar'\n",
    "]"
   ]
  },
  {
   "cell_type": "code",
   "execution_count": 5,
   "metadata": {},
   "outputs": [],
   "source": [
    "from nltk.tokenize import WordPunctTokenizer\n",
    "tokenizer = WordPunctTokenizer()"
   ]
  },
  {
   "cell_type": "code",
   "execution_count": 6,
   "metadata": {},
   "outputs": [
    {
     "data": {
      "text/plain": [
       "[S[SEM=<?subj(?vp)>] -> NP[NUM=?n, SEM=?subj] VP[NUM=?n, SEM=?vp],\n",
       " NP[NUM=?n, SEM=<?det(?nom)>] -> Det[NUM=?n, SEM=?det] Nom[NUM=?n, SEM=?nom],\n",
       " NP[LOC=?l, NUM=?n, SEM=?np] -> PropN[LOC=?l, NUM=?n, SEM=?np],\n",
       " Nom[SEM=<?adj(?nom)>] -> Adj[SEM=?adj] N[NUM=?n, SEM=?nom],\n",
       " Nom[NUM=?n, SEM=?nom] -> N[NUM=?n, SEM=?nom],\n",
       " Nom[NUM=?n, SEM=<?pp(?nom)>] -> N[NUM=?n, SEM=?nom] PP[SEM=?pp],\n",
       " VP[NUM=?n, SEM=<?v(?obj)>] -> TV[NUM=?n, SEM=?v] NP[SEM=?obj],\n",
       " VP[NUM=?n, SEM=?v] -> IV[NUM=?n, SEM=?v],\n",
       " VP[NUM=?n, SEM=<?pp(?vp)>] -> VP[NUM=?n, SEM=?vp] PP[-PRED, SEM=?pp],\n",
       " PP[LOC=?l, PRED=?prd, SEM=<?p(?np)>] -> P[LOC=?l, PRED=?prd, SEM=?p] NP[LOC=?l, SEM=?np],\n",
       " PropN[-LOC, NUM='sg', SEM=<\\P.P(mouse)>] -> 'mouse',\n",
       " PropN[-LOC, NUM='sg', SEM=<\\P.P(kitten)>] -> 'kitten',\n",
       " Det[NUM='sg', SEM=<\\P Q.exists x.(P(x) & Q(x))>] -> 'a',\n",
       " Det[NUM='sg', SEM=<\\P Q.exists x.(P(x) & Q(x))>] -> 'A',\n",
       " Det[NUM='sg', SEM=<\\P Q.exists x.(P(x) & Q(x) & all y.(P(y) -> (x = y)))>] -> 'the',\n",
       " Det[NUM='sg', SEM=<\\P Q.exists x.(P(x) & Q(x) & all y.(P(y) -> (x = y)))>] -> 'The',\n",
       " N[NUM='sg', SEM=<\\x.kitten(x)>] -> 'kitten',\n",
       " N[NUM='sg', SEM=<\\x.mouse(x)>] -> 'mouse',\n",
       " N[NUM='sg', SEM=<\\x.jar(x)>] -> 'jar',\n",
       " Adj[SEM=<\\P x.(black(x) & P(x))>] -> 'black',\n",
       " Adj[SEM=<\\P x.(white(x) & P(x))>] -> 'white',\n",
       " TV[NUM='sg', SEM=<\\X y.X(\\x.followed(y,x))>, tns='past'] -> 'followed',\n",
       " TV[NUM='sg', SEM=<\\X y.X(\\x.saw(y,x))>, tns='past'] -> 'saw',\n",
       " IV[NUM='sg', SEM=<\\x.rushed(x)>, tns='past'] -> 'rushed',\n",
       " IV[NUM='sg', SEM=<\\x.jumped(x)>, tns='past'] -> 'jumped',\n",
       " IV[NUM='sg', SEM=<\\x.played(x)>, tns='past'] -> 'played',\n",
       " TV[NUM='sg', SEM=<\\X y.X(\\x.opened(y,x))>, tns='past'] -> 'opened',\n",
       " TV[NUM='sg', SEM=<\\X y.X(\\x.closed(y,x))>, tns='past'] -> 'closed',\n",
       " TV[NUM='sg', SEM=<\\X y.X(\\x.broke(y,x))>, tns='past'] -> 'broke',\n",
       " TV[NUM='sg', SEM=<\\X y.X(\\x.fixed(y,x))>, tns='past'] -> 'fixed',\n",
       " TV[NUM='sg', SEM=<\\X y.X(\\x.found(y,x))>, tns='past'] -> 'found',\n",
       " TV[NUM='sg', SEM=<\\X y.X(\\x.held(y,x))>, tns='past'] -> 'held',\n",
       " TV[NUM='sg', SEM=<\\X y.X(\\x.kicked(y,x))>, tns='past'] -> 'kicked',\n",
       " TV[NUM='sg', SEM=<\\X y.X(\\x.moved(y,x))>, tns='past'] -> 'moved',\n",
       " TV[NUM='sg', SEM=<\\X y.X(\\x.painted(y,x))>, tns='past'] -> 'painted',\n",
       " TV[NUM='sg', SEM=<\\X y.X(\\x.read(y,x))>, tns='past'] -> 'read',\n",
       " TV[NUM='sg', SEM=<\\X y.X(\\x.liked(y,x))>, tns='past'] -> 'liked',\n",
       " TV[NUM='sg', SEM=<\\X y.X(\\x.loved(y,x))>, tns='past'] -> 'loved',\n",
       " TV[NUM='sg', SEM=<\\X y.X(\\x.hated(y,x))>, tns='past'] -> 'hated',\n",
       " P[LOC=<\\x.at(x,library)>, PRED=<\\X Y.exists x.(X(x) & Y(x))>] -> 'at',\n",
       " P[LOC=<\\x.in(x,library)>, PRED=<\\X Y.exists x.(X(x) & Y(x))>] -> 'in',\n",
       " P[LOC=<\\x.on(x,table)>, PRED=<\\X Y.exists x.(X(x) & Y(x))>] -> 'on',\n",
       " IV[NUM='sg', SEM=<\\x.got_out(x)>, tns='past'] -> 'got' 'out',\n",
       " IV[NUM='sg', SEM=<\\x.ran_away(x)>, tns='past'] -> 'ran' 'away',\n",
       " P[+LOC, -PRED, SEM=<\\X P x.X(\\y.(P(x) & of(x,y)))>] -> 'of',\n",
       " P[+LOC, -PRED, SEM=<\\X P x.X(\\y.(P(x) & into(x,y)))>] -> 'into',\n",
       " P[+LOC, -PRED, SEM=<\\X P x.X(\\y.(P(x) & after(x,y)))>] -> 'after']"
      ]
     },
     "execution_count": 6,
     "metadata": {},
     "output_type": "execute_result"
    }
   ],
   "source": [
    "grammar.productions()"
   ]
  },
  {
   "cell_type": "code",
   "execution_count": 7,
   "metadata": {},
   "outputs": [
    {
     "name": "stdout",
     "output_type": "stream",
     "text": [
      "exists x.(black(x) & kitten(x) & exists z1.(mouse(z1) & saw(x,z1)))\n",
      "exists x.(kitten(x) & exists z2.(mouse(z2) & rushed(x) & after(x,z2)) & all y.(kitten(y) -> (x = y)))\n",
      "exists x.(mouse(x) & exists z3.(jar(z3) & jumped(x) & into(x,z3)) & all y.(mouse(y) -> (x = y)))\n",
      "exists x.(kitten(x) & exists z4.(mouse(z4) & followed(x,z4)) & all y.(kitten(y) -> (x = y)))\n",
      "exists x.(mouse(x) & ran_away(x) & all y.(mouse(y) -> (x = y)))\n",
      "exists x.(white(x) & kitten(x) & exists z5.(jar(z5) & got_out(x) & of(x,z5) & all y.(jar(y) -> (z5 = y))))\n"
     ]
    }
   ],
   "source": [
    "for sentence in sentences:\n",
    "    results = nltk.interpret_sents([sentence], grammar=nltk.grammar.FeatureGrammar(\n",
    "        start=grammar.start(), productions=grammar.productions()))[0]\n",
    "    print(results[0][-1].simplify())"
   ]
  },
  {
   "cell_type": "code",
   "execution_count": 8,
   "metadata": {},
   "outputs": [],
   "source": [
    "v = r\"\"\"\n",
    "    kitten => {k}\n",
    "    mouse => {m}\n",
    "    saw => {(k, m)}\n",
    "    rushed => {k}\n",
    "    after => {(k, m)}\n",
    "    jumped => {m}\n",
    "    into => {(m, j)}\n",
    "    jar => {j}\n",
    "    followed => {(k, m)}\n",
    "    ran_away => {m}\n",
    "    rushed_after => {(k, m)}\n",
    "    jumped_into => {(m, j)}\n",
    "    black => {k}\n",
    "    white => {k}\n",
    "    got_out => {k}\n",
    "    of => {(k,j)}\n",
    "    PRO => {k, m, j}\n",
    "\"\"\""
   ]
  },
  {
   "cell_type": "code",
   "execution_count": 9,
   "metadata": {},
   "outputs": [
    {
     "name": "stdout",
     "output_type": "stream",
     "text": [
      "Sentence:  A black kitten saw a mouse\n",
      "exists x.(black(x) & kitten(x) & exists z6.(mouse(z6) & saw(x,z6)))\n",
      "True\n",
      "Sentence:  The kitten rushed after a mouse\n",
      "exists x.(kitten(x) & exists z7.(mouse(z7) & rushed(x) & after(x,z7)) & all y.(kitten(y) -> (x = y)))\n",
      "True\n",
      "Sentence:  The mouse jumped into a jar\n",
      "exists x.(mouse(x) & exists z8.(jar(z8) & jumped(x) & into(x,z8)) & all y.(mouse(y) -> (x = y)))\n",
      "True\n",
      "Sentence:  The kitten followed a mouse\n",
      "exists x.(kitten(x) & exists z9.(mouse(z9) & followed(x,z9)) & all y.(kitten(y) -> (x = y)))\n",
      "True\n",
      "Sentence:  The mouse ran away\n",
      "exists x.(mouse(x) & ran_away(x) & all y.(mouse(y) -> (x = y)))\n",
      "True\n",
      "Sentence:  A white kitten got out of the jar\n",
      "exists x.(white(x) & kitten(x) & exists z10.(jar(z10) & got_out(x) & of(x,z10) & all y.(jar(y) -> (z10 = y))))\n",
      "True\n",
      "Everything is okay.\n"
     ]
    }
   ],
   "source": [
    "val = nltk.Valuation.fromstring(v)\n",
    "g = nltk.Assignment(val.domain)\n",
    "model = nltk.Model(val.domain, val)\n",
    "values = []\n",
    "for sentence in sentences:\n",
    "    results = nltk.evaluate_sents([sentence], grammar, model, g)[0]\n",
    "    _, semrep, value = results[0]\n",
    "    print(\"Sentence: \", sentence)\n",
    "    print(semrep)\n",
    "    print(value)\n",
    "    values.append(value)\n",
    "\n",
    "if all(values):\n",
    "    print(\"Everything is okay.\")"
   ]
  },
  {
   "attachments": {},
   "cell_type": "markdown",
   "metadata": {},
   "source": [
    "# Task 2"
   ]
  },
  {
   "cell_type": "code",
   "execution_count": 10,
   "metadata": {},
   "outputs": [
    {
     "data": {
      "text/plain": [
       "['A black kitten saw a mouse',\n",
       " 'The kitten rushed after a mouse',\n",
       " 'The mouse jumped into a jar',\n",
       " 'The kitten followed a mouse',\n",
       " 'The mouse ran away',\n",
       " 'A white kitten got out of the jar']"
      ]
     },
     "execution_count": 10,
     "metadata": {},
     "output_type": "execute_result"
    }
   ],
   "source": [
    "sentences"
   ]
  },
  {
   "cell_type": "code",
   "execution_count": 11,
   "metadata": {},
   "outputs": [],
   "source": [
    "drses = [\n",
    "    nltk.sem.DrtExpression.fromstring('([k, m], [kitten(k), mouse(m), black(k), saw(k, m)])'),\n",
    "    nltk.sem.DrtExpression.fromstring('([u, z], [PRO(u), PRO(z), rushed_after(u, z)])'),\n",
    "    nltk.sem.DrtExpression.fromstring('([j], [PRO(z), jar(j), jumped_into(z, j)])'),\n",
    "    nltk.sem.DrtExpression.fromstring('([], [PRO(u), PRO(z), followed(u, z)])'),\n",
    "    nltk.sem.DrtExpression.fromstring('([], [PRO(z), ran_away(z)])'),\n",
    "    nltk.sem.DrtExpression.fromstring('([],[white(k), of(k, j), got_out(k)])'),\n",
    "    nltk.sem.DrtExpression.fromstring('([], [(k = u), (m = z)])')\n",
    "]\n",
    "\n",
    "\n",
    "drses_sum = drses[0]\n",
    "for drs in drses[1:]:\n",
    "    drses_sum += drs"
   ]
  },
  {
   "cell_type": "code",
   "execution_count": 12,
   "metadata": {},
   "outputs": [
    {
     "data": {
      "text/plain": [
       "True"
      ]
     },
     "execution_count": 12,
     "metadata": {},
     "output_type": "execute_result"
    }
   ],
   "source": [
    "model.evaluate(str(drses_sum.simplify().eliminate_equality().fol()), g)"
   ]
  }
 ],
 "metadata": {
  "kernelspec": {
   "display_name": "Python 3",
   "language": "python",
   "name": "python3"
  },
  "language_info": {
   "codemirror_mode": {
    "name": "ipython",
    "version": 3
   },
   "file_extension": ".py",
   "mimetype": "text/x-python",
   "name": "python",
   "nbconvert_exporter": "python",
   "pygments_lexer": "ipython3",
   "version": "3.10.8"
  },
  "orig_nbformat": 4
 },
 "nbformat": 4,
 "nbformat_minor": 2
}
