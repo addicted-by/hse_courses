{
 "cells": [
  {
   "cell_type": "code",
   "execution_count": 53,
   "metadata": {},
   "outputs": [],
   "source": [
    "import os\n",
    "import pandas as pd \n",
    "\n",
    "DATA_PATH = \"./XRays.xlsx\"\n",
    "\n",
    "assert os.path.exists(DATA_PATH), f\"Check the path {DATA_PATH}\"\n",
    "\n",
    "df = pd.read_excel(DATA_PATH)"
   ]
  },
  {
   "cell_type": "code",
   "execution_count": 54,
   "metadata": {},
   "outputs": [
    {
     "data": {
      "text/plain": [
       "14.0"
      ]
     },
     "execution_count": 54,
     "metadata": {},
     "output_type": "execute_result"
    }
   ],
   "source": [
    "pd.concat([pd.Series(data=np.ones(len(df)), index=pd.to_datetime(df['dtBegin'])),\n",
    "           -pd.Series(data=np.ones(len(df)), index=pd.to_datetime(df['dtCompleted']))]).resample('30Min').sum().max()"
   ]
  },
  {
   "cell_type": "code",
   "execution_count": 7,
   "metadata": {},
   "outputs": [
    {
     "data": {
      "text/html": [
       "<div>\n",
       "<style scoped>\n",
       "    .dataframe tbody tr th:only-of-type {\n",
       "        vertical-align: middle;\n",
       "    }\n",
       "\n",
       "    .dataframe tbody tr th {\n",
       "        vertical-align: top;\n",
       "    }\n",
       "\n",
       "    .dataframe thead th {\n",
       "        text-align: right;\n",
       "    }\n",
       "</style>\n",
       "<table border=\"1\" class=\"dataframe\">\n",
       "  <thead>\n",
       "    <tr style=\"text-align: right;\">\n",
       "      <th></th>\n",
       "      <th>stMRN</th>\n",
       "      <th>dtArrive</th>\n",
       "      <th>dtBegin</th>\n",
       "      <th>dtCompleted</th>\n",
       "    </tr>\n",
       "  </thead>\n",
       "  <tbody>\n",
       "    <tr>\n",
       "      <th>0</th>\n",
       "      <td>12222732</td>\n",
       "      <td>2016-04-04 08:00:21</td>\n",
       "      <td>2016-04-04 08:04:56</td>\n",
       "      <td>2016-04-04 08:11:52</td>\n",
       "    </tr>\n",
       "    <tr>\n",
       "      <th>1</th>\n",
       "      <td>13510077</td>\n",
       "      <td>2016-04-04 08:21:54</td>\n",
       "      <td>2016-04-04 08:26:40</td>\n",
       "      <td>2016-04-04 08:39:12</td>\n",
       "    </tr>\n",
       "    <tr>\n",
       "      <th>2</th>\n",
       "      <td>11183882</td>\n",
       "      <td>2016-04-04 08:33:38</td>\n",
       "      <td>2016-04-04 08:44:53</td>\n",
       "      <td>2016-04-04 08:44:58</td>\n",
       "    </tr>\n",
       "    <tr>\n",
       "      <th>3</th>\n",
       "      <td>12949996</td>\n",
       "      <td>2016-04-04 08:38:16</td>\n",
       "      <td>2016-04-04 08:41:27</td>\n",
       "      <td>2016-04-04 08:47:34</td>\n",
       "    </tr>\n",
       "    <tr>\n",
       "      <th>4</th>\n",
       "      <td>11566221</td>\n",
       "      <td>2016-04-04 08:26:10</td>\n",
       "      <td>2016-04-04 08:33:21</td>\n",
       "      <td>2016-04-04 08:53:06</td>\n",
       "    </tr>\n",
       "  </tbody>\n",
       "</table>\n",
       "</div>"
      ],
      "text/plain": [
       "      stMRN            dtArrive             dtBegin         dtCompleted\n",
       "0  12222732 2016-04-04 08:00:21 2016-04-04 08:04:56 2016-04-04 08:11:52\n",
       "1  13510077 2016-04-04 08:21:54 2016-04-04 08:26:40 2016-04-04 08:39:12\n",
       "2  11183882 2016-04-04 08:33:38 2016-04-04 08:44:53 2016-04-04 08:44:58\n",
       "3  12949996 2016-04-04 08:38:16 2016-04-04 08:41:27 2016-04-04 08:47:34\n",
       "4  11566221 2016-04-04 08:26:10 2016-04-04 08:33:21 2016-04-04 08:53:06"
      ]
     },
     "execution_count": 7,
     "metadata": {},
     "output_type": "execute_result"
    }
   ],
   "source": [
    "df.head(5)"
   ]
  },
  {
   "cell_type": "code",
   "execution_count": 10,
   "metadata": {},
   "outputs": [
    {
     "data": {
      "text/plain": [
       "(13330, (21873, 4))"
      ]
     },
     "execution_count": 10,
     "metadata": {},
     "output_type": "execute_result"
    }
   ],
   "source": [
    "df.stMRN.nunique(), df.shape"
   ]
  },
  {
   "cell_type": "code",
   "execution_count": 29,
   "metadata": {},
   "outputs": [],
   "source": [
    "df['WaitingTime'] = (df['dtBegin'] - df['dtArrive']).dt.total_seconds() / 60"
   ]
  },
  {
   "cell_type": "code",
   "execution_count": 31,
   "metadata": {},
   "outputs": [
    {
     "data": {
      "text/plain": [
       "43746"
      ]
     },
     "execution_count": 31,
     "metadata": {},
     "output_type": "execute_result"
    }
   ],
   "source": [
    "pa"
   ]
  },
  {
   "cell_type": "code",
   "execution_count": 32,
   "metadata": {},
   "outputs": [],
   "source": [
    "timestamps = []\n",
    "\n",
    "for _, row in df.iterrows():\n",
    "    timestamps.append((row['dtArrive'], 1))       # Arrival (+1)\n",
    "    timestamps.append((row['dtCompleted'], -1))    # Completion (-1)\n",
    "\n",
    "timestamps.sort()\n",
    "\n",
    "current_patients = 0\n",
    "patients_in_hospital = []\n",
    "\n",
    "for timestamp in timestamps:\n",
    "    current_patients += timestamp[1]\n",
    "    patients_in_hospital.append(current_patients)\n",
    "\n",
    "timestamp_to_patients = dict(zip([ts[0] for ts in timestamps], patients_in_hospital))\n",
    "\n",
    "df['CurrentPatients'] = df['dtArrive'].map(timestamp_to_patients)"
   ]
  },
  {
   "cell_type": "code",
   "execution_count": 37,
   "metadata": {},
   "outputs": [
    {
     "data": {
      "text/html": [
       "<div>\n",
       "<style scoped>\n",
       "    .dataframe tbody tr th:only-of-type {\n",
       "        vertical-align: middle;\n",
       "    }\n",
       "\n",
       "    .dataframe tbody tr th {\n",
       "        vertical-align: top;\n",
       "    }\n",
       "\n",
       "    .dataframe thead th {\n",
       "        text-align: right;\n",
       "    }\n",
       "</style>\n",
       "<table border=\"1\" class=\"dataframe\">\n",
       "  <thead>\n",
       "    <tr style=\"text-align: right;\">\n",
       "      <th></th>\n",
       "      <th>stMRN</th>\n",
       "      <th>dtArrive</th>\n",
       "      <th>dtBegin</th>\n",
       "      <th>dtCompleted</th>\n",
       "      <th>WaitingTime</th>\n",
       "      <th>CurrentPatients</th>\n",
       "    </tr>\n",
       "  </thead>\n",
       "  <tbody>\n",
       "    <tr>\n",
       "      <th>0</th>\n",
       "      <td>12222732</td>\n",
       "      <td>2016-04-04 08:00:21</td>\n",
       "      <td>2016-04-04 08:04:56</td>\n",
       "      <td>2016-04-04 08:11:52</td>\n",
       "      <td>4.583333</td>\n",
       "      <td>1</td>\n",
       "    </tr>\n",
       "    <tr>\n",
       "      <th>1</th>\n",
       "      <td>13510077</td>\n",
       "      <td>2016-04-04 08:21:54</td>\n",
       "      <td>2016-04-04 08:26:40</td>\n",
       "      <td>2016-04-04 08:39:12</td>\n",
       "      <td>4.766667</td>\n",
       "      <td>1</td>\n",
       "    </tr>\n",
       "    <tr>\n",
       "      <th>2</th>\n",
       "      <td>11183882</td>\n",
       "      <td>2016-04-04 08:33:38</td>\n",
       "      <td>2016-04-04 08:44:53</td>\n",
       "      <td>2016-04-04 08:44:58</td>\n",
       "      <td>11.250000</td>\n",
       "      <td>3</td>\n",
       "    </tr>\n",
       "    <tr>\n",
       "      <th>3</th>\n",
       "      <td>12949996</td>\n",
       "      <td>2016-04-04 08:38:16</td>\n",
       "      <td>2016-04-04 08:41:27</td>\n",
       "      <td>2016-04-04 08:47:34</td>\n",
       "      <td>3.183333</td>\n",
       "      <td>4</td>\n",
       "    </tr>\n",
       "    <tr>\n",
       "      <th>4</th>\n",
       "      <td>11566221</td>\n",
       "      <td>2016-04-04 08:26:10</td>\n",
       "      <td>2016-04-04 08:33:21</td>\n",
       "      <td>2016-04-04 08:53:06</td>\n",
       "      <td>7.183333</td>\n",
       "      <td>2</td>\n",
       "    </tr>\n",
       "    <tr>\n",
       "      <th>...</th>\n",
       "      <td>...</td>\n",
       "      <td>...</td>\n",
       "      <td>...</td>\n",
       "      <td>...</td>\n",
       "      <td>...</td>\n",
       "      <td>...</td>\n",
       "    </tr>\n",
       "    <tr>\n",
       "      <th>21868</th>\n",
       "      <td>9672860</td>\n",
       "      <td>2016-11-15 11:02:54</td>\n",
       "      <td>2016-11-15 11:23:25</td>\n",
       "      <td>2016-11-15 11:43:01</td>\n",
       "      <td>20.516667</td>\n",
       "      <td>10</td>\n",
       "    </tr>\n",
       "    <tr>\n",
       "      <th>21869</th>\n",
       "      <td>12075344</td>\n",
       "      <td>2016-11-15 13:50:12</td>\n",
       "      <td>2016-11-15 14:01:03</td>\n",
       "      <td>2016-11-15 14:04:54</td>\n",
       "      <td>10.850000</td>\n",
       "      <td>1</td>\n",
       "    </tr>\n",
       "    <tr>\n",
       "      <th>21870</th>\n",
       "      <td>12490506</td>\n",
       "      <td>2016-11-15 15:43:48</td>\n",
       "      <td>2016-11-15 15:59:21</td>\n",
       "      <td>2016-11-15 16:19:31</td>\n",
       "      <td>15.550000</td>\n",
       "      <td>2</td>\n",
       "    </tr>\n",
       "    <tr>\n",
       "      <th>21871</th>\n",
       "      <td>12490506</td>\n",
       "      <td>2016-11-15 15:43:27</td>\n",
       "      <td>2016-11-15 15:59:01</td>\n",
       "      <td>2016-11-15 16:19:42</td>\n",
       "      <td>15.566667</td>\n",
       "      <td>1</td>\n",
       "    </tr>\n",
       "    <tr>\n",
       "      <th>21872</th>\n",
       "      <td>12943977</td>\n",
       "      <td>2016-11-16 16:20:49</td>\n",
       "      <td>2016-11-16 16:27:19</td>\n",
       "      <td>2016-11-16 16:32:55</td>\n",
       "      <td>6.500000</td>\n",
       "      <td>1</td>\n",
       "    </tr>\n",
       "  </tbody>\n",
       "</table>\n",
       "<p>21873 rows × 6 columns</p>\n",
       "</div>"
      ],
      "text/plain": [
       "          stMRN            dtArrive             dtBegin         dtCompleted  \\\n",
       "0      12222732 2016-04-04 08:00:21 2016-04-04 08:04:56 2016-04-04 08:11:52   \n",
       "1      13510077 2016-04-04 08:21:54 2016-04-04 08:26:40 2016-04-04 08:39:12   \n",
       "2      11183882 2016-04-04 08:33:38 2016-04-04 08:44:53 2016-04-04 08:44:58   \n",
       "3      12949996 2016-04-04 08:38:16 2016-04-04 08:41:27 2016-04-04 08:47:34   \n",
       "4      11566221 2016-04-04 08:26:10 2016-04-04 08:33:21 2016-04-04 08:53:06   \n",
       "...         ...                 ...                 ...                 ...   \n",
       "21868   9672860 2016-11-15 11:02:54 2016-11-15 11:23:25 2016-11-15 11:43:01   \n",
       "21869  12075344 2016-11-15 13:50:12 2016-11-15 14:01:03 2016-11-15 14:04:54   \n",
       "21870  12490506 2016-11-15 15:43:48 2016-11-15 15:59:21 2016-11-15 16:19:31   \n",
       "21871  12490506 2016-11-15 15:43:27 2016-11-15 15:59:01 2016-11-15 16:19:42   \n",
       "21872  12943977 2016-11-16 16:20:49 2016-11-16 16:27:19 2016-11-16 16:32:55   \n",
       "\n",
       "       WaitingTime  CurrentPatients  \n",
       "0         4.583333                1  \n",
       "1         4.766667                1  \n",
       "2        11.250000                3  \n",
       "3         3.183333                4  \n",
       "4         7.183333                2  \n",
       "...            ...              ...  \n",
       "21868    20.516667               10  \n",
       "21869    10.850000                1  \n",
       "21870    15.550000                2  \n",
       "21871    15.566667                1  \n",
       "21872     6.500000                1  \n",
       "\n",
       "[21873 rows x 6 columns]"
      ]
     },
     "execution_count": 37,
     "metadata": {},
     "output_type": "execute_result"
    }
   ],
   "source": [
    "df"
   ]
  },
  {
   "cell_type": "code",
   "execution_count": 42,
   "metadata": {},
   "outputs": [],
   "source": [
    "df[df['WaitingTime'] <= 0] = 0"
   ]
  },
  {
   "cell_type": "code",
   "execution_count": 46,
   "metadata": {},
   "outputs": [
    {
     "data": {
      "text/html": [
       "<div>\n",
       "<style scoped>\n",
       "    .dataframe tbody tr th:only-of-type {\n",
       "        vertical-align: middle;\n",
       "    }\n",
       "\n",
       "    .dataframe tbody tr th {\n",
       "        vertical-align: top;\n",
       "    }\n",
       "\n",
       "    .dataframe thead th {\n",
       "        text-align: right;\n",
       "    }\n",
       "</style>\n",
       "<table border=\"1\" class=\"dataframe\">\n",
       "  <thead>\n",
       "    <tr style=\"text-align: right;\">\n",
       "      <th></th>\n",
       "      <th>stMRN</th>\n",
       "      <th>dtArrive</th>\n",
       "      <th>dtBegin</th>\n",
       "      <th>dtCompleted</th>\n",
       "      <th>WaitingTime</th>\n",
       "      <th>CurrentPatients</th>\n",
       "    </tr>\n",
       "  </thead>\n",
       "  <tbody>\n",
       "    <tr>\n",
       "      <th>18380</th>\n",
       "      <td>11726583</td>\n",
       "      <td>2016-10-13 11:07:48</td>\n",
       "      <td>2016-10-13 11:19:46</td>\n",
       "      <td>2016-10-13 11:32:07</td>\n",
       "      <td>11.966667</td>\n",
       "      <td>44</td>\n",
       "    </tr>\n",
       "    <tr>\n",
       "      <th>18381</th>\n",
       "      <td>11726583</td>\n",
       "      <td>2016-10-13 11:07:28</td>\n",
       "      <td>2016-10-13 11:20:06</td>\n",
       "      <td>2016-10-13 11:32:17</td>\n",
       "      <td>12.633333</td>\n",
       "      <td>44</td>\n",
       "    </tr>\n",
       "    <tr>\n",
       "      <th>18408</th>\n",
       "      <td>11073307</td>\n",
       "      <td>2016-10-13 11:25:43</td>\n",
       "      <td>2016-10-13 12:35:11</td>\n",
       "      <td>2016-10-13 12:35:27</td>\n",
       "      <td>69.466667</td>\n",
       "      <td>44</td>\n",
       "    </tr>\n",
       "  </tbody>\n",
       "</table>\n",
       "</div>"
      ],
      "text/plain": [
       "          stMRN             dtArrive              dtBegin  \\\n",
       "18380  11726583  2016-10-13 11:07:48  2016-10-13 11:19:46   \n",
       "18381  11726583  2016-10-13 11:07:28  2016-10-13 11:20:06   \n",
       "18408  11073307  2016-10-13 11:25:43  2016-10-13 12:35:11   \n",
       "\n",
       "               dtCompleted  WaitingTime  CurrentPatients  \n",
       "18380  2016-10-13 11:32:07    11.966667               44  \n",
       "18381  2016-10-13 11:32:17    12.633333               44  \n",
       "18408  2016-10-13 12:35:27    69.466667               44  "
      ]
     },
     "execution_count": 46,
     "metadata": {},
     "output_type": "execute_result"
    }
   ],
   "source": [
    "df[df['CurrentPatients'] == df['CurrentPatients'].max()]"
   ]
  },
  {
   "cell_type": "code",
   "execution_count": 43,
   "metadata": {},
   "outputs": [
    {
     "data": {
      "text/plain": [
       "<matplotlib.collections.PathCollection at 0x1440737feb0>"
      ]
     },
     "execution_count": 43,
     "metadata": {},
     "output_type": "execute_result"
    },
    {
     "data": {
      "image/png": "[encoded data removed]",
      "text/plain": [
       "<Figure size 640x480 with 1 Axes>"
      ]
     },
     "metadata": {},
     "output_type": "display_data"
    }
   ],
   "source": [
    "import matplotlib.pyplot as plt\n",
    "\n",
    "plt.scatter(df['WaitingTime'], df['CurrentPatients'])"
   ]
  },
  {
   "cell_type": "code",
   "execution_count": 14,
   "metadata": {},
   "outputs": [],
   "source": [
    "count = 0\n",
    "max_count = 0\n",
    "for t, tip, id_ in timestamps:\n",
    "    if tip == 'start':\n",
    "        count += 1\n",
    "        max_count = max(max_count, count)\n",
    "    elif tip == 'end':\n",
    "        count = 0\n"
   ]
  },
  {
   "cell_type": "code",
   "execution_count": 48,
   "metadata": {},
   "outputs": [
    {
     "name": "stdout",
     "output_type": "stream",
     "text": [
      "Number of X-ray rooms in the facility: 11\n"
     ]
    }
   ],
   "source": [
    "timestamps = []\n",
    "timestamps.extend([(pd.to_datetime(row['dtBegin']), 'start', row['stMRN']) for _, row in df.iterrows()])\n",
    "timestamps.extend([(pd.to_datetime(row['dtCompleted']), 'end', row['stMRN']) for _, row in df.iterrows()])\n",
    "\n",
    "timestamps.sort()\n",
    "\n",
    "max_rooms = 0\n",
    "current_rooms = 0\n",
    "current_patients = 0\n",
    "max_patients = 0\n",
    "\n",
    "for timestamp, event, stmrn in timestamps:\n",
    "    if event == 'start':\n",
    "        current_rooms += 1\n",
    "        current_patients += 1\n",
    "        max_rooms = max(max_rooms, current_rooms)\n",
    "        max_patients = max(max_patients, current_patients)\n",
    "    else:\n",
    "        current_patients -= 1\n",
    "        current_rooms = 0\n",
    "\n",
    "xray_rooms = max_rooms\n",
    "print(\"Number of X-ray rooms in the facility:\", xray_rooms)"
   ]
  },
  {
   "cell_type": "code",
   "execution_count": 55,
   "metadata": {},
   "outputs": [
    {
     "data": {
      "text/plain": [
       "21"
      ]
     },
     "execution_count": 55,
     "metadata": {},
     "output_type": "execute_result"
    }
   ],
   "source": [
    "max_patients"
   ]
  },
  {
   "cell_type": "code",
   "execution_count": null,
   "metadata": {},
   "outputs": [],
   "source": []
  }
 ],
 "metadata": {
  "kernelspec": {
   "display_name": "Python 3",
   "language": "python",
   "name": "python3"
  },
  "language_info": {
   "codemirror_mode": {
    "name": "ipython",
    "version": 3
   },
   "file_extension": ".py",
   "mimetype": "text/x-python",
   "name": "python",
   "nbconvert_exporter": "python",
   "pygments_lexer": "ipython3",
   "version": "3.10.8"
  },
  "orig_nbformat": 4
 },
 "nbformat": 4,
 "nbformat_minor": 2
}
