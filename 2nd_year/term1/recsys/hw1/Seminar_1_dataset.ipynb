{
 "cells": [
  {
   "cell_type": "markdown",
   "metadata": {},
   "source": [
    "# CONTENT BASED MODELS"
   ]
  },
  {
   "cell_type": "markdown",
   "metadata": {},
   "source": [
    "Imagine, we have a service (like Youtbe, Netflix or whatever) and we have some new users. We want to recommend our users something they would like, but those users are new, so we know nothing about them. How to build recommender system in such situation? Another question is how to score and recommend new items with known features but without known ratings. \n",
    "\n",
    "The answer is simple: we have items (videos, movies, ect). Each item has some features and each item has its own rating (calculated based on the grades users or critics put). We want to recommend items with higher rating to our newbies. Below there are three ways how to do that.\n",
    "\n",
    "But firstly, let me show the datsets we are going to work with."
   ]
  },
  {
   "cell_type": "markdown",
   "metadata": {},
   "source": [
    "Download the preprocessed dataset [here](https://drive.google.com/drive/folders/1YPqWaZYW2axz91YKkaM7j_xPqF5rSVx2?usp=drive_link)."
   ]
  },
  {
   "cell_type": "code",
   "execution_count": 41,
   "metadata": {
    "id": "YFI-ui8K6uZN"
   },
   "outputs": [],
   "source": [
    "import os\n",
    "import ast\n",
    "import numpy as np\n",
    "import pandas as pd\n",
    "from scipy.sparse import diags\n",
    "from scipy.sparse.linalg import norm as sparse_norm\n",
    "\n",
    "from sklearn.feature_extraction.text import TfidfVectorizer, CountVectorizer\n",
    "from sklearn.linear_model import LinearRegression, LogisticRegression, Ridge\n",
    "from sklearn.metrics import accuracy_score\n",
    "from sklearn.pipeline import Pipeline, TransformerMixin\n",
    "from sklearn.preprocessing import StandardScaler\n",
    "\n",
    "import matplotlib.pyplot as plt\n",
    "import shap"
   ]
  },
  {
   "cell_type": "markdown",
   "metadata": {},
   "source": [
    "## Dataset\n",
    "\n",
    "### Reviews\n"
   ]
  },
  {
   "cell_type": "markdown",
   "metadata": {},
   "source": [
    "Lets have a look on our *reviews* dataset. In this dataset we need only four columns with titles *user_id*, *anime_id*, *favorites_anime* and *score*.\n",
    "\n",
    "- ***user_id*** User profile name. Some profile names are literally insane =)\n",
    "\n",
    "- ***anime_id*** The mapping of anime titles column onto integers.\n",
    "\n",
    "- ***score*** grade, how the user with the specific *user_id* evaluated the anime with specific *anime_id*.\n",
    "\n",
    "-  ***favorites_anime*** List of animes the user with the specific *user_id*  considered as his favourites. **ATTENTION** the animes from this list may not occur in user history (animes user graded). User may have mentioned some animes as favourites, but did not graded them. Automatically, we will consider that the score of favorite animes is **10**\n",
    "\n"
   ]
  },
  {
   "cell_type": "code",
   "execution_count": 3,
   "metadata": {},
   "outputs": [],
   "source": [
    "USER_COL = \"user_id\"\n",
    "ITEM_COL = \"anime_id\"\n",
    "RELEVANCE_COL = \"score\""
   ]
  },
  {
   "cell_type": "code",
   "execution_count": 4,
   "metadata": {},
   "outputs": [],
   "source": [
    "base_path = \"./anime_data\""
   ]
  },
  {
   "cell_type": "code",
   "execution_count": 5,
   "metadata": {},
   "outputs": [],
   "source": [
    "review_data = pd.read_csv(os.path.join(base_path, 'reviews.gz'))"
   ]
  },
  {
   "cell_type": "code",
   "execution_count": 6,
   "metadata": {},
   "outputs": [
    {
     "data": {
      "text/html": [
       "<div>\n",
       "<style scoped>\n",
       "    .dataframe tbody tr th:only-of-type {\n",
       "        vertical-align: middle;\n",
       "    }\n",
       "\n",
       "    .dataframe tbody tr th {\n",
       "        vertical-align: top;\n",
       "    }\n",
       "\n",
       "    .dataframe thead th {\n",
       "        text-align: right;\n",
       "    }\n",
       "</style>\n",
       "<table border=\"1\" class=\"dataframe\">\n",
       "  <thead>\n",
       "    <tr style=\"text-align: right;\">\n",
       "      <th></th>\n",
       "      <th>uid</th>\n",
       "      <th>user_id</th>\n",
       "      <th>anime_id</th>\n",
       "      <th>text</th>\n",
       "      <th>score</th>\n",
       "      <th>scores</th>\n",
       "      <th>link</th>\n",
       "    </tr>\n",
       "  </thead>\n",
       "  <tbody>\n",
       "    <tr>\n",
       "      <th>0</th>\n",
       "      <td>255938</td>\n",
       "      <td>DesolatePsyche</td>\n",
       "      <td>34096</td>\n",
       "      <td>First things first. My \"reviews\" system is exp...</td>\n",
       "      <td>8</td>\n",
       "      <td>{'Overall': '8', 'Story': '8', 'Animation': '8...</td>\n",
       "      <td>https://myanimelist.net/reviews.php?id=255938</td>\n",
       "    </tr>\n",
       "    <tr>\n",
       "      <th>1</th>\n",
       "      <td>259117</td>\n",
       "      <td>baekbeans</td>\n",
       "      <td>34599</td>\n",
       "      <td>Let me start off by saying that Made in Abyss ...</td>\n",
       "      <td>10</td>\n",
       "      <td>{'Overall': '10', 'Story': '10', 'Animation': ...</td>\n",
       "      <td>https://myanimelist.net/reviews.php?id=259117</td>\n",
       "    </tr>\n",
       "    <tr>\n",
       "      <th>2</th>\n",
       "      <td>253664</td>\n",
       "      <td>skrn</td>\n",
       "      <td>28891</td>\n",
       "      <td>Art 9/10: It is great, especially the actions ...</td>\n",
       "      <td>7</td>\n",
       "      <td>{'Overall': '7', 'Story': '7', 'Animation': '9...</td>\n",
       "      <td>https://myanimelist.net/reviews.php?id=253664</td>\n",
       "    </tr>\n",
       "    <tr>\n",
       "      <th>3</th>\n",
       "      <td>8254</td>\n",
       "      <td>edgewalker00</td>\n",
       "      <td>2904</td>\n",
       "      <td>Story \\r\\ntaking place 1 yr from where season ...</td>\n",
       "      <td>9</td>\n",
       "      <td>{'Overall': '9', 'Story': '9', 'Animation': '9...</td>\n",
       "      <td>https://myanimelist.net/reviews.php?id=8254</td>\n",
       "    </tr>\n",
       "    <tr>\n",
       "      <th>4</th>\n",
       "      <td>291149</td>\n",
       "      <td>aManOfCulture99</td>\n",
       "      <td>4181</td>\n",
       "      <td>Kyoto Animations greatest strength is being ab...</td>\n",
       "      <td>10</td>\n",
       "      <td>{'Overall': '10', 'Story': '10', 'Animation': ...</td>\n",
       "      <td>https://myanimelist.net/reviews.php?id=291149</td>\n",
       "    </tr>\n",
       "  </tbody>\n",
       "</table>\n",
       "</div>"
      ],
      "text/plain": [
       "      uid          user_id  anime_id  \\\n",
       "0  255938   DesolatePsyche     34096   \n",
       "1  259117        baekbeans     34599   \n",
       "2  253664             skrn     28891   \n",
       "3    8254     edgewalker00      2904   \n",
       "4  291149  aManOfCulture99      4181   \n",
       "\n",
       "                                                text  score  \\\n",
       "0  First things first. My \"reviews\" system is exp...      8   \n",
       "1  Let me start off by saying that Made in Abyss ...     10   \n",
       "2  Art 9/10: It is great, especially the actions ...      7   \n",
       "3  Story \\r\\ntaking place 1 yr from where season ...      9   \n",
       "4  Kyoto Animations greatest strength is being ab...     10   \n",
       "\n",
       "                                              scores  \\\n",
       "0  {'Overall': '8', 'Story': '8', 'Animation': '8...   \n",
       "1  {'Overall': '10', 'Story': '10', 'Animation': ...   \n",
       "2  {'Overall': '7', 'Story': '7', 'Animation': '9...   \n",
       "3  {'Overall': '9', 'Story': '9', 'Animation': '9...   \n",
       "4  {'Overall': '10', 'Story': '10', 'Animation': ...   \n",
       "\n",
       "                                            link  \n",
       "0  https://myanimelist.net/reviews.php?id=255938  \n",
       "1  https://myanimelist.net/reviews.php?id=259117  \n",
       "2  https://myanimelist.net/reviews.php?id=253664  \n",
       "3    https://myanimelist.net/reviews.php?id=8254  \n",
       "4  https://myanimelist.net/reviews.php?id=291149  "
      ]
     },
     "execution_count": 6,
     "metadata": {},
     "output_type": "execute_result"
    }
   ],
   "source": [
    "review_data.head()"
   ]
  },
  {
   "cell_type": "code",
   "execution_count": 7,
   "metadata": {},
   "outputs": [],
   "source": [
    "def get_log_info(log, user_id='user_id', item_id='item_id'):\n",
    "    print(f'Num reviews = {log.shape[0]},\\nnum users = {log[user_id].nunique()},\\nnum items = {log[item_id].nunique()}')"
   ]
  },
  {
   "cell_type": "code",
   "execution_count": 8,
   "metadata": {},
   "outputs": [
    {
     "name": "stdout",
     "output_type": "stream",
     "text": [
      "Num reviews = 109297,\n",
      "num users = 37458,\n",
      "num items = 7636\n"
     ]
    }
   ],
   "source": [
    "get_log_info(review_data, user_id=USER_COL, item_id=ITEM_COL)"
   ]
  },
  {
   "cell_type": "code",
   "execution_count": 9,
   "metadata": {},
   "outputs": [
    {
     "data": {
      "image/png": "[encoded data removed]",
      "text/plain": [
       "<Figure size 1000x500 with 1 Axes>"
      ]
     },
     "metadata": {},
     "output_type": "display_data"
    }
   ],
   "source": [
    "review_data[RELEVANCE_COL].plot.hist(bins=10, figsize=(10, 5), title='Scores distibution from user reviews');"
   ]
  },
  {
   "cell_type": "markdown",
   "metadata": {},
   "source": [
    "#### How does the distribution of ratings change if we have, for example, a marketplace data?"
   ]
  },
  {
   "cell_type": "code",
   "execution_count": 10,
   "metadata": {},
   "outputs": [],
   "source": [
    "def group_by_and_plot(df, group_by_name, rating_col_name, quantile=0.99, title=''):\n",
    "    grouped = df.groupby(group_by_name)[rating_col_name].count()\n",
    "    print(grouped.describe(percentiles=[0.05, .25, .5, .75, 0.95]))\n",
    "    grouped[grouped < grouped.quantile(quantile)].plot(kind='hist', bins=20, figsize=(10, 5), title=title)\n",
    "    return grouped"
   ]
  },
  {
   "cell_type": "code",
   "execution_count": 11,
   "metadata": {},
   "outputs": [
    {
     "name": "stdout",
     "output_type": "stream",
     "text": [
      "count    37458.000000\n",
      "mean         2.917855\n",
      "std          7.985410\n",
      "min          1.000000\n",
      "5%           1.000000\n",
      "25%          1.000000\n",
      "50%          1.000000\n",
      "75%          3.000000\n",
      "95%          9.000000\n",
      "max        537.000000\n",
      "Name: score, dtype: float64\n"
     ]
    },
    {
     "data": {
      "image/png": "[encoded data removed]",
      "text/plain": [
       "<Figure size 1000x500 with 1 Axes>"
      ]
     },
     "metadata": {},
     "output_type": "display_data"
    }
   ],
   "source": [
    "group_by_and_plot(review_data, group_by_name=USER_COL, rating_col_name=RELEVANCE_COL, quantile=0.99, title='Num reviews per user');"
   ]
  },
  {
   "cell_type": "code",
   "execution_count": 12,
   "metadata": {},
   "outputs": [
    {
     "name": "stdout",
     "output_type": "stream",
     "text": [
      "count    7636.000000\n",
      "mean       14.313384\n",
      "std        39.704994\n",
      "min         1.000000\n",
      "5%          1.000000\n",
      "25%         1.000000\n",
      "50%         3.000000\n",
      "75%        11.000000\n",
      "95%        59.000000\n",
      "max      1080.000000\n",
      "Name: score, dtype: float64\n"
     ]
    },
    {
     "data": {
      "image/png": "[encoded data removed]",
      "text/plain": [
       "<Figure size 1000x500 with 1 Axes>"
      ]
     },
     "metadata": {},
     "output_type": "display_data"
    }
   ],
   "source": [
    "group_by_and_plot(review_data, group_by_name=ITEM_COL, rating_col_name=RELEVANCE_COL, quantile=0.99, title='Num reviews per anime');"
   ]
  },
  {
   "cell_type": "markdown",
   "metadata": {},
   "source": [
    "#### How many animes could we reliably recommend using popularity-based methods? "
   ]
  },
  {
   "cell_type": "markdown",
   "metadata": {},
   "source": [
    "### Animes\n"
   ]
  },
  {
   "cell_type": "markdown",
   "metadata": {},
   "source": [
    "The main columns for us are:\n",
    "\n",
    "- ***anime_id*** - the same id we have in the table above.\n",
    "\n",
    "- ***synopsis*** - the description of the anime with a specific **anime_id**\n",
    "\n",
    "- ***score*** - average score over all the grades users or critics  put to the corresponding anime\n"
   ]
  },
  {
   "cell_type": "code",
   "execution_count": 13,
   "metadata": {},
   "outputs": [],
   "source": [
    "anime_data = pd.read_csv(os.path.join(base_path, 'animes.gz'), na_filter=False)"
   ]
  },
  {
   "cell_type": "code",
   "execution_count": 14,
   "metadata": {},
   "outputs": [
    {
     "data": {
      "text/html": [
       "<div>\n",
       "<style scoped>\n",
       "    .dataframe tbody tr th:only-of-type {\n",
       "        vertical-align: middle;\n",
       "    }\n",
       "\n",
       "    .dataframe tbody tr th {\n",
       "        vertical-align: top;\n",
       "    }\n",
       "\n",
       "    .dataframe thead th {\n",
       "        text-align: right;\n",
       "    }\n",
       "</style>\n",
       "<table border=\"1\" class=\"dataframe\">\n",
       "  <thead>\n",
       "    <tr style=\"text-align: right;\">\n",
       "      <th></th>\n",
       "      <th>0</th>\n",
       "    </tr>\n",
       "  </thead>\n",
       "  <tbody>\n",
       "    <tr>\n",
       "      <th>anime_id</th>\n",
       "      <td>1</td>\n",
       "    </tr>\n",
       "    <tr>\n",
       "      <th>title</th>\n",
       "      <td>Cowboy Bebop</td>\n",
       "    </tr>\n",
       "    <tr>\n",
       "      <th>synopsis</th>\n",
       "      <td>In the year 2071, humanity has colonized sever...</td>\n",
       "    </tr>\n",
       "    <tr>\n",
       "      <th>genre</th>\n",
       "      <td>Action, Adventure, Comedy, Drama, Sci-Fi, Space</td>\n",
       "    </tr>\n",
       "    <tr>\n",
       "      <th>aired</th>\n",
       "      <td>Apr 3, 1998 to Apr 24, 1999</td>\n",
       "    </tr>\n",
       "    <tr>\n",
       "      <th>episodes</th>\n",
       "      <td>26</td>\n",
       "    </tr>\n",
       "    <tr>\n",
       "      <th>members</th>\n",
       "      <td>930311</td>\n",
       "    </tr>\n",
       "    <tr>\n",
       "      <th>popularity</th>\n",
       "      <td>39</td>\n",
       "    </tr>\n",
       "    <tr>\n",
       "      <th>ranked</th>\n",
       "      <td>26.0</td>\n",
       "    </tr>\n",
       "    <tr>\n",
       "      <th>score</th>\n",
       "      <td>8.81</td>\n",
       "    </tr>\n",
       "    <tr>\n",
       "      <th>img_url</th>\n",
       "      <td>https://cdn.myanimelist.net/images/anime/4/196...</td>\n",
       "    </tr>\n",
       "    <tr>\n",
       "      <th>link</th>\n",
       "      <td>https://myanimelist.net/anime/1/Cowboy_Bebop</td>\n",
       "    </tr>\n",
       "  </tbody>\n",
       "</table>\n",
       "</div>"
      ],
      "text/plain": [
       "                                                            0\n",
       "anime_id                                                    1\n",
       "title                                            Cowboy Bebop\n",
       "synopsis    In the year 2071, humanity has colonized sever...\n",
       "genre         Action, Adventure, Comedy, Drama, Sci-Fi, Space\n",
       "aired                             Apr 3, 1998 to Apr 24, 1999\n",
       "episodes                                                   26\n",
       "members                                                930311\n",
       "popularity                                                 39\n",
       "ranked                                                   26.0\n",
       "score                                                    8.81\n",
       "img_url     https://cdn.myanimelist.net/images/anime/4/196...\n",
       "link             https://myanimelist.net/anime/1/Cowboy_Bebop"
      ]
     },
     "execution_count": 14,
     "metadata": {},
     "output_type": "execute_result"
    }
   ],
   "source": [
    "anime_data.head(1).T"
   ]
  },
  {
   "cell_type": "code",
   "execution_count": 15,
   "metadata": {},
   "outputs": [
    {
     "data": {
      "text/plain": [
       "genre\n",
       "Comedy           5640\n",
       "Action           3572\n",
       "Fantasy          2971\n",
       "Adventure        2753\n",
       "Sci-Fi           2462\n",
       "Kids             2458\n",
       "Drama            2457\n",
       "Shounen          1915\n",
       "Music            1863\n",
       "Romance          1762\n",
       "Slice of Life    1744\n",
       "School           1567\n",
       "Supernatural     1358\n",
       "Hentai           1295\n",
       "Mecha            1060\n",
       "Historical       1051\n",
       "Magic            1013\n",
       "Seinen            805\n",
       "Ecchi             740\n",
       "Sports            679\n",
       "Mystery           674\n",
       "Shoujo            668\n",
       "Parody            619\n",
       "Super Power       600\n",
       "Military          541\n",
       "Space             475\n",
       "Demons            453\n",
       "Horror            434\n",
       "Dementia          402\n",
       "Harem             374\n",
       "Martial Arts      367\n",
       "Game              348\n",
       "Psychological     322\n",
       "Police            239\n",
       "Samurai           199\n",
       "Vampire           135\n",
       "Thriller          120\n",
       "Cars              117\n",
       "Josei              93\n",
       "Shounen Ai         91\n",
       "                   75\n",
       "Shoujo Ai          73\n",
       "Yuri               40\n",
       "Yaoi               40\n",
       "Name: count, dtype: int64"
      ]
     },
     "execution_count": 15,
     "metadata": {},
     "output_type": "execute_result"
    }
   ],
   "source": [
    "anime_data['genre'].str.strip().str.split(\", \").explode().value_counts()"
   ]
  },
  {
   "cell_type": "code",
   "execution_count": 16,
   "metadata": {},
   "outputs": [
    {
     "data": {
      "text/plain": [
       "(16216, 12)"
      ]
     },
     "execution_count": 16,
     "metadata": {},
     "output_type": "execute_result"
    }
   ],
   "source": [
    "anime_data.shape # 7636 in reviews, the rest won't be covered by the popularity-based models"
   ]
  },
  {
   "cell_type": "code",
   "execution_count": 17,
   "metadata": {},
   "outputs": [
    {
     "data": {
      "image/png": "[encoded data removed]",
      "text/plain": [
       "<Figure size 1000x500 with 1 Axes>"
      ]
     },
     "metadata": {},
     "output_type": "display_data"
    }
   ],
   "source": [
    "anime_data[RELEVANCE_COL].plot.hist(bins=10, title='Score distibution from item features', figsize=(10, 5));"
   ]
  },
  {
   "cell_type": "code",
   "execution_count": 18,
   "metadata": {},
   "outputs": [
    {
     "data": {
      "text/plain": [
       "15875"
      ]
     },
     "execution_count": 18,
     "metadata": {},
     "output_type": "execute_result"
    }
   ],
   "source": [
    "(anime_data[RELEVANCE_COL] > 0).sum()"
   ]
  },
  {
   "cell_type": "code",
   "execution_count": 19,
   "metadata": {},
   "outputs": [],
   "source": [
    "all_anime_data = (\n",
    "    anime_data[['anime_id', 'score']]\n",
    "    .assign(tokens=anime_data[['title', 'genre', 'synopsis']].apply('; '.join, axis=1))\n",
    "    .set_index('anime_id')\n",
    "    # ['tokens']\n",
    ")"
   ]
  },
  {
   "cell_type": "code",
   "execution_count": 20,
   "metadata": {},
   "outputs": [
    {
     "data": {
      "text/html": [
       "<div>\n",
       "<style scoped>\n",
       "    .dataframe tbody tr th:only-of-type {\n",
       "        vertical-align: middle;\n",
       "    }\n",
       "\n",
       "    .dataframe tbody tr th {\n",
       "        vertical-align: top;\n",
       "    }\n",
       "\n",
       "    .dataframe thead th {\n",
       "        text-align: right;\n",
       "    }\n",
       "</style>\n",
       "<table border=\"1\" class=\"dataframe\">\n",
       "  <thead>\n",
       "    <tr style=\"text-align: right;\">\n",
       "      <th></th>\n",
       "      <th>score</th>\n",
       "      <th>tokens</th>\n",
       "    </tr>\n",
       "    <tr>\n",
       "      <th>anime_id</th>\n",
       "      <th></th>\n",
       "      <th></th>\n",
       "    </tr>\n",
       "  </thead>\n",
       "  <tbody>\n",
       "    <tr>\n",
       "      <th>1</th>\n",
       "      <td>8.81</td>\n",
       "      <td>Cowboy Bebop; Action, Adventure, Comedy, Drama...</td>\n",
       "    </tr>\n",
       "    <tr>\n",
       "      <th>5</th>\n",
       "      <td>8.40</td>\n",
       "      <td>Cowboy Bebop: Tengoku no Tobira; Action, Drama...</td>\n",
       "    </tr>\n",
       "    <tr>\n",
       "      <th>6</th>\n",
       "      <td>8.28</td>\n",
       "      <td>Trigun; Action, Sci-Fi, Adventure, Comedy, Dra...</td>\n",
       "    </tr>\n",
       "    <tr>\n",
       "      <th>7</th>\n",
       "      <td>7.32</td>\n",
       "      <td>Witch Hunter Robin; Action, Magic, Police, Sup...</td>\n",
       "    </tr>\n",
       "    <tr>\n",
       "      <th>8</th>\n",
       "      <td>7.02</td>\n",
       "      <td>Bouken Ou Beet; Adventure, Fantasy, Shounen, S...</td>\n",
       "    </tr>\n",
       "  </tbody>\n",
       "</table>\n",
       "</div>"
      ],
      "text/plain": [
       "          score                                             tokens\n",
       "anime_id                                                          \n",
       "1          8.81  Cowboy Bebop; Action, Adventure, Comedy, Drama...\n",
       "5          8.40  Cowboy Bebop: Tengoku no Tobira; Action, Drama...\n",
       "6          8.28  Trigun; Action, Sci-Fi, Adventure, Comedy, Dra...\n",
       "7          7.32  Witch Hunter Robin; Action, Magic, Police, Sup...\n",
       "8          7.02  Bouken Ou Beet; Adventure, Fantasy, Shounen, S..."
      ]
     },
     "execution_count": 20,
     "metadata": {},
     "output_type": "execute_result"
    }
   ],
   "source": [
    "all_anime_data.head()"
   ]
  },
  {
   "cell_type": "markdown",
   "metadata": {},
   "source": [
    "#### What can we do with these tokens?"
   ]
  },
  {
   "cell_type": "markdown",
   "metadata": {},
   "source": [
    "### User profiles"
   ]
  },
  {
   "cell_type": "markdown",
   "metadata": {},
   "source": [
    "This dataset contains additional information about users, including their favorite anime.\n",
    "\n",
    "- ***user_id*** - the same user id as in the reviews table.\n",
    "\n",
    "- ***gender*** - user gender\n",
    "\n",
    "- ***birthday*** - user birthday\n",
    "\n",
    "- ***favorites_anime*** - a list of user favorites\n"
   ]
  },
  {
   "cell_type": "code",
   "execution_count": 21,
   "metadata": {},
   "outputs": [],
   "source": [
    "profile_data = pd.read_csv(os.path.join(base_path, 'profiles.gz'), converters={'favorites_anime': ast.literal_eval})"
   ]
  },
  {
   "cell_type": "code",
   "execution_count": 22,
   "metadata": {},
   "outputs": [
    {
     "data": {
      "text/html": [
       "<div>\n",
       "<style scoped>\n",
       "    .dataframe tbody tr th:only-of-type {\n",
       "        vertical-align: middle;\n",
       "    }\n",
       "\n",
       "    .dataframe tbody tr th {\n",
       "        vertical-align: top;\n",
       "    }\n",
       "\n",
       "    .dataframe thead th {\n",
       "        text-align: right;\n",
       "    }\n",
       "</style>\n",
       "<table border=\"1\" class=\"dataframe\">\n",
       "  <thead>\n",
       "    <tr style=\"text-align: right;\">\n",
       "      <th></th>\n",
       "      <th>user_id</th>\n",
       "      <th>gender</th>\n",
       "      <th>birthday</th>\n",
       "      <th>favorites_anime</th>\n",
       "      <th>link</th>\n",
       "    </tr>\n",
       "  </thead>\n",
       "  <tbody>\n",
       "    <tr>\n",
       "      <th>0</th>\n",
       "      <td>DesolatePsyche</td>\n",
       "      <td>Male</td>\n",
       "      <td>Oct 2, 1994</td>\n",
       "      <td>[226, 235, 269, 457, 1482, 1698, 2904, 4981, 5...</td>\n",
       "      <td>https://myanimelist.net/profile/DesolatePsyche</td>\n",
       "    </tr>\n",
       "    <tr>\n",
       "      <th>1</th>\n",
       "      <td>baekbeans</td>\n",
       "      <td>Female</td>\n",
       "      <td>Nov 10, 2000</td>\n",
       "      <td>[853, 918, 3588, 6956, 9253, 11061, 13601, 205...</td>\n",
       "      <td>https://myanimelist.net/profile/baekbeans</td>\n",
       "    </tr>\n",
       "    <tr>\n",
       "      <th>2</th>\n",
       "      <td>skrn</td>\n",
       "      <td>NaN</td>\n",
       "      <td>NaN</td>\n",
       "      <td>[512, 918, 1943, 2904, 9989, 11741, 17074, 232...</td>\n",
       "      <td>https://myanimelist.net/profile/skrn</td>\n",
       "    </tr>\n",
       "    <tr>\n",
       "      <th>3</th>\n",
       "      <td>edgewalker00</td>\n",
       "      <td>Male</td>\n",
       "      <td>Sep 5</td>\n",
       "      <td>[849, 2904, 3588, 5680, 37349]</td>\n",
       "      <td>https://myanimelist.net/profile/edgewalker00</td>\n",
       "    </tr>\n",
       "    <tr>\n",
       "      <th>4</th>\n",
       "      <td>aManOfCulture99</td>\n",
       "      <td>Male</td>\n",
       "      <td>Oct 30, 1999</td>\n",
       "      <td>[235, 849, 2167, 4181, 4382, 5680, 7791, 9617,...</td>\n",
       "      <td>https://myanimelist.net/profile/aManOfCulture99</td>\n",
       "    </tr>\n",
       "  </tbody>\n",
       "</table>\n",
       "</div>"
      ],
      "text/plain": [
       "           user_id  gender      birthday  \\\n",
       "0   DesolatePsyche    Male   Oct 2, 1994   \n",
       "1        baekbeans  Female  Nov 10, 2000   \n",
       "2             skrn     NaN           NaN   \n",
       "3     edgewalker00    Male         Sep 5   \n",
       "4  aManOfCulture99    Male  Oct 30, 1999   \n",
       "\n",
       "                                     favorites_anime  \\\n",
       "0  [226, 235, 269, 457, 1482, 1698, 2904, 4981, 5...   \n",
       "1  [853, 918, 3588, 6956, 9253, 11061, 13601, 205...   \n",
       "2  [512, 918, 1943, 2904, 9989, 11741, 17074, 232...   \n",
       "3                     [849, 2904, 3588, 5680, 37349]   \n",
       "4  [235, 849, 2167, 4181, 4382, 5680, 7791, 9617,...   \n",
       "\n",
       "                                              link  \n",
       "0   https://myanimelist.net/profile/DesolatePsyche  \n",
       "1        https://myanimelist.net/profile/baekbeans  \n",
       "2             https://myanimelist.net/profile/skrn  \n",
       "3     https://myanimelist.net/profile/edgewalker00  \n",
       "4  https://myanimelist.net/profile/aManOfCulture99  "
      ]
     },
     "execution_count": 22,
     "metadata": {},
     "output_type": "execute_result"
    }
   ],
   "source": [
    "profile_data.head()"
   ]
  },
  {
   "cell_type": "code",
   "execution_count": 23,
   "metadata": {},
   "outputs": [
    {
     "data": {
      "text/plain": [
       "(37458, 5)"
      ]
     },
     "execution_count": 23,
     "metadata": {},
     "output_type": "execute_result"
    }
   ],
   "source": [
    "profile_data.shape"
   ]
  },
  {
   "cell_type": "code",
   "execution_count": 24,
   "metadata": {},
   "outputs": [
    {
     "data": {
      "image/png": "[encoded data removed]",
      "text/plain": [
       "<Figure size 1000x500 with 1 Axes>"
      ]
     },
     "metadata": {},
     "output_type": "display_data"
    }
   ],
   "source": [
    "(\n",
    "    profile_data['favorites_anime']\n",
    "    .apply(len)\n",
    "    .value_counts(sort=False).sort_index()#.cumsum()\n",
    "    .plot.bar(\n",
    "        logy=True,\n",
    "        rot=0,\n",
    "        xlabel='# favorites',\n",
    "        ylabel='frequency',\n",
    "        title='Amount of favorites in user profiles',\n",
    "        figsize=(10, 5)\n",
    "    )\n",
    ");"
   ]
  },
  {
   "cell_type": "markdown",
   "metadata": {},
   "source": [
    "### Favorites ratings"
   ]
  },
  {
   "cell_type": "code",
   "execution_count": 25,
   "metadata": {},
   "outputs": [
    {
     "name": "stdout",
     "output_type": "stream",
     "text": [
      "Fraction of favorites without the rating: 93%\n"
     ]
    }
   ],
   "source": [
    "favorites_data = profile_data.set_index('user_id')['favorites_anime']\n",
    "favorites_scores = pd.merge(\n",
    "    favorites_data.explode().rename('anime_id').reset_index(),\n",
    "    review_data[['user_id', 'anime_id', 'score']],\n",
    "    on = ['user_id', 'anime_id'],\n",
    "    how = 'left'\n",
    ")['score']\n",
    "\n",
    "print(f'Fraction of favorites without the rating: {favorites_scores.isnull().mean():.0%}')"
   ]
  },
  {
   "cell_type": "markdown",
   "metadata": {},
   "source": [
    "- Most of the favorites do not have ratings info.\n",
    "- For the sake of evaluation in this excercise, we will make two assumptions:\n",
    "  - favorites are of the highest interest to users,\n",
    "  - other animes that users rate highly should be somewhat similar to their favorites."
   ]
  },
  {
   "cell_type": "markdown",
   "metadata": {},
   "source": [
    "# Data split\n"
   ]
  },
  {
   "cell_type": "markdown",
   "metadata": {},
   "source": [
    "- In order to construct test set we use the users who have some anime in their favourites list.\n",
    "- For these users we take **n_pairs** animes a user liked and **n_pairs** animes the user disliked from their anime reviews.\n",
    "  - We assume the user liked anime if he put the grade no less than some *score_cutoff* value.\n",
    "- The quality of predictions is then evaluated by comparing how close the liked animes to the favorites based on the predicted scores."
   ]
  },
  {
   "cell_type": "code",
   "execution_count": 26,
   "metadata": {
    "id": "E60Q3lM1TSx3"
   },
   "outputs": [],
   "source": [
    "def get_test_pairs(reviews, favorites, n_pairs, score_cutoff, seed):\n",
    "    '''\n",
    "    Construct a dataset consisting of pairs of liked and disliked animes. The likes and dislikes\n",
    "    are defined by the ratings value: everything below threshold is a dislike, the rest are likes.\n",
    "        \n",
    "    The function ensures that the amount of likes and dislikes is the same per each user in data.\n",
    "    The users that do not contain enough likes or dislikes are discarded from the result.\n",
    "    The result is to be used for evaluating the quality of recommendations by some algorithms.\n",
    "    Hence, user favorites are excluded to ensure that there is no trivial solution.\n",
    "    '''\n",
    "    rng = np.random.default_rng(seed)\n",
    "    def strict_sample_no_favs(series):\n",
    "        # sample `n_pairs` elements from `series`, if not enough data - return empty list,\n",
    "        # discard favorites, otherwise the evaluation on test pairs against favorites makes no sense\n",
    "        above_cutoff, user_id = series.name\n",
    "        allowed_items = np.setdiff1d(series.values, favorites.loc[user_id])\n",
    "        return rng.choice(allowed_items, n_pairs, replace=False) if len(allowed_items)>=n_pairs else []\n",
    "    \n",
    "    test_pairs = (\n",
    "        reviews\n",
    "         # split by likes and dislikes, group by users\n",
    "        .groupby([(reviews[\"score\"] >= score_cutoff), 'user_id'])\n",
    "        # sample `n_pairs` items (both likes and dislikes), disregard user favorites\n",
    "        ['anime_id'].apply(strict_sample_no_favs)\n",
    "         # disregard users that have not enough items\n",
    "        .loc[lambda x: x.apply(len) > 0]\n",
    "         # make two columns of likes and dislikes\n",
    "        .unstack('score')\n",
    "        # ensure each user has both likes and dislikes\n",
    "        .dropna()\n",
    "         # rename by rule `score >= score_cutoff`\n",
    "        .rename(columns={False: 'dislikes', True: 'likes'})\n",
    "    )\n",
    "    return test_pairs"
   ]
  },
  {
   "cell_type": "markdown",
   "metadata": {},
   "source": [
    "We will generate the training data by excluding animes from the pairs of likes and dislikes contained in the test data. "
   ]
  },
  {
   "cell_type": "code",
   "execution_count": 27,
   "metadata": {
    "id": "QU5IadBOFvVx"
   },
   "outputs": [],
   "source": [
    "def split_anime_train_test_data(reviews, favorites, anime, *, n_pairs=3, score_cutoff=5, seed=0):\n",
    "    '''\n",
    "    Function to construct train dataset. It deletes animes that occured in the test set\n",
    "    to prevent information leakage from test to train.\n",
    "    '''\n",
    "    test_data = get_test_pairs(reviews, favorites, n_pairs, score_cutoff, seed)\n",
    "    test_anime_set = (\n",
    "        test_data\n",
    "        .melt(value_name='animes') # reshape 2 columns into signle column\n",
    "        ['animes'].explode() # flatten all lists into a single long 1d array\n",
    "        .unique() # get only unique values\n",
    "    )\n",
    "    train_data = (\n",
    "        anime\n",
    "        # only use known score - to be used as the prediction target,\n",
    "        # also prevent test data leaks into training\n",
    "        .query('score > 0 and anime_id not in @test_anime_set')\n",
    "        # combine several text fields into a unified feature view\n",
    "        .assign(tokens = lambda x: x[['title', 'genre', 'synopsis']].apply('; '.join, axis=1))\n",
    "        # only take necessary fields\n",
    "        .loc[:, ['anime_id', 'tokens', 'score']]\n",
    "    )\n",
    "    return train_data, test_data"
   ]
  },
  {
   "cell_type": "code",
   "execution_count": 28,
   "metadata": {
    "id": "MCyJAnMyF0Gd"
   },
   "outputs": [],
   "source": [
    "anime_train, anime_test = split_anime_train_test_data(\n",
    "    review_data, favorites_data, anime_data, score_cutoff=5\n",
    ")"
   ]
  },
  {
   "cell_type": "code",
   "execution_count": 29,
   "metadata": {},
   "outputs": [
    {
     "data": {
      "text/html": [
       "<div>\n",
       "<style scoped>\n",
       "    .dataframe tbody tr th:only-of-type {\n",
       "        vertical-align: middle;\n",
       "    }\n",
       "\n",
       "    .dataframe tbody tr th {\n",
       "        vertical-align: top;\n",
       "    }\n",
       "\n",
       "    .dataframe thead th {\n",
       "        text-align: right;\n",
       "    }\n",
       "</style>\n",
       "<table border=\"1\" class=\"dataframe\">\n",
       "  <thead>\n",
       "    <tr style=\"text-align: right;\">\n",
       "      <th></th>\n",
       "      <th>anime_id</th>\n",
       "      <th>tokens</th>\n",
       "      <th>score</th>\n",
       "    </tr>\n",
       "  </thead>\n",
       "  <tbody>\n",
       "    <tr>\n",
       "      <th>1</th>\n",
       "      <td>5</td>\n",
       "      <td>Cowboy Bebop: Tengoku no Tobira; Action, Drama...</td>\n",
       "      <td>8.40</td>\n",
       "    </tr>\n",
       "    <tr>\n",
       "      <th>4</th>\n",
       "      <td>8</td>\n",
       "      <td>Bouken Ou Beet; Adventure, Fantasy, Shounen, S...</td>\n",
       "      <td>7.02</td>\n",
       "    </tr>\n",
       "    <tr>\n",
       "      <th>5</th>\n",
       "      <td>15</td>\n",
       "      <td>Eyeshield 21; Action, Sports, Comedy, Shounen;...</td>\n",
       "      <td>8.02</td>\n",
       "    </tr>\n",
       "    <tr>\n",
       "      <th>7</th>\n",
       "      <td>17</td>\n",
       "      <td>Hungry Heart: Wild Striker; Slice of Life, Com...</td>\n",
       "      <td>7.65</td>\n",
       "    </tr>\n",
       "    <tr>\n",
       "      <th>8</th>\n",
       "      <td>18</td>\n",
       "      <td>Initial D Fourth Stage; Action, Cars, Sports, ...</td>\n",
       "      <td>8.18</td>\n",
       "    </tr>\n",
       "  </tbody>\n",
       "</table>\n",
       "</div>"
      ],
      "text/plain": [
       "   anime_id                                             tokens  score\n",
       "1         5  Cowboy Bebop: Tengoku no Tobira; Action, Drama...   8.40\n",
       "4         8  Bouken Ou Beet; Adventure, Fantasy, Shounen, S...   7.02\n",
       "5        15  Eyeshield 21; Action, Sports, Comedy, Shounen;...   8.02\n",
       "7        17  Hungry Heart: Wild Striker; Slice of Life, Com...   7.65\n",
       "8        18  Initial D Fourth Stage; Action, Cars, Sports, ...   8.18"
      ]
     },
     "execution_count": 29,
     "metadata": {},
     "output_type": "execute_result"
    }
   ],
   "source": [
    "anime_train.head()"
   ]
  },
  {
   "cell_type": "code",
   "execution_count": 30,
   "metadata": {},
   "outputs": [],
   "source": [
    "# to evaluate classification/regression metrics\n",
    "\n",
    "test_animes = (anime_test\n",
    "        .melt(value_name='animes') # reshape 2 columns into signle column\n",
    "        ['animes'].explode() # flatten all lists into a single long 1d array\n",
    "        .unique()) # get only unique values\n",
    "\n",
    "anime_test_animes = anime_data.query('score > 0 and anime_id in @test_animes') \\\n",
    "        .assign(tokens = lambda x: x[['title', 'genre', 'synopsis']].apply('; '.join, axis=1)) \\\n",
    "        .loc[:, ['anime_id', 'tokens', 'score']]"
   ]
  },
  {
   "cell_type": "code",
   "execution_count": 31,
   "metadata": {},
   "outputs": [
    {
     "data": {
      "text/plain": [
       "((15875, 12), 15875)"
      ]
     },
     "execution_count": 31,
     "metadata": {},
     "output_type": "execute_result"
    }
   ],
   "source": [
    "anime_data.query('score > 0').shape, anime_train.shape[0] + anime_test_animes.shape[0]"
   ]
  },
  {
   "cell_type": "code",
   "execution_count": 32,
   "metadata": {},
   "outputs": [
    {
     "data": {
      "text/html": [
       "<div>\n",
       "<style scoped>\n",
       "    .dataframe tbody tr th:only-of-type {\n",
       "        vertical-align: middle;\n",
       "    }\n",
       "\n",
       "    .dataframe tbody tr th {\n",
       "        vertical-align: top;\n",
       "    }\n",
       "\n",
       "    .dataframe thead th {\n",
       "        text-align: right;\n",
       "    }\n",
       "</style>\n",
       "<table border=\"1\" class=\"dataframe\">\n",
       "  <thead>\n",
       "    <tr style=\"text-align: right;\">\n",
       "      <th>score</th>\n",
       "      <th>dislikes</th>\n",
       "      <th>likes</th>\n",
       "    </tr>\n",
       "    <tr>\n",
       "      <th>user_id</th>\n",
       "      <th></th>\n",
       "      <th></th>\n",
       "    </tr>\n",
       "  </thead>\n",
       "  <tbody>\n",
       "    <tr>\n",
       "      <th>-Ereya-</th>\n",
       "      <td>[6747, 169, 5525]</td>\n",
       "      <td>[12413, 15613, 9989]</td>\n",
       "    </tr>\n",
       "    <tr>\n",
       "      <th>-HippySnob-</th>\n",
       "      <td>[31245, 36516, 31804]</td>\n",
       "      <td>[16355, 39456, 37021]</td>\n",
       "    </tr>\n",
       "    <tr>\n",
       "      <th>-Remix-</th>\n",
       "      <td>[31043, 31914, 28171]</td>\n",
       "      <td>[29787, 15225, 11889]</td>\n",
       "    </tr>\n",
       "    <tr>\n",
       "      <th>-Ryu</th>\n",
       "      <td>[10620, 35849, 16762]</td>\n",
       "      <td>[36475, 401, 31904]</td>\n",
       "    </tr>\n",
       "    <tr>\n",
       "      <th>0MAN0</th>\n",
       "      <td>[17265, 226, 4382]</td>\n",
       "      <td>[15809, 10620, 849]</td>\n",
       "    </tr>\n",
       "  </tbody>\n",
       "</table>\n",
       "</div>"
      ],
      "text/plain": [
       "score                     dislikes                  likes\n",
       "user_id                                                  \n",
       "-Ereya-          [6747, 169, 5525]   [12413, 15613, 9989]\n",
       "-HippySnob-  [31245, 36516, 31804]  [16355, 39456, 37021]\n",
       "-Remix-      [31043, 31914, 28171]  [29787, 15225, 11889]\n",
       "-Ryu         [10620, 35849, 16762]    [36475, 401, 31904]\n",
       "0MAN0           [17265, 226, 4382]    [15809, 10620, 849]"
      ]
     },
     "execution_count": 32,
     "metadata": {},
     "output_type": "execute_result"
    }
   ],
   "source": [
    "anime_test.head()"
   ]
  },
  {
   "cell_type": "code",
   "execution_count": 33,
   "metadata": {},
   "outputs": [
    {
     "data": {
      "text/html": [
       "<div>\n",
       "<style scoped>\n",
       "    .dataframe tbody tr th:only-of-type {\n",
       "        vertical-align: middle;\n",
       "    }\n",
       "\n",
       "    .dataframe tbody tr th {\n",
       "        vertical-align: top;\n",
       "    }\n",
       "\n",
       "    .dataframe thead th {\n",
       "        text-align: right;\n",
       "    }\n",
       "</style>\n",
       "<table border=\"1\" class=\"dataframe\">\n",
       "  <thead>\n",
       "    <tr style=\"text-align: right;\">\n",
       "      <th></th>\n",
       "      <th>anime_id</th>\n",
       "      <th>tokens</th>\n",
       "      <th>score</th>\n",
       "    </tr>\n",
       "  </thead>\n",
       "  <tbody>\n",
       "    <tr>\n",
       "      <th>0</th>\n",
       "      <td>1</td>\n",
       "      <td>Cowboy Bebop; Action, Adventure, Comedy, Drama...</td>\n",
       "      <td>8.81</td>\n",
       "    </tr>\n",
       "    <tr>\n",
       "      <th>2</th>\n",
       "      <td>6</td>\n",
       "      <td>Trigun; Action, Sci-Fi, Adventure, Comedy, Dra...</td>\n",
       "      <td>8.28</td>\n",
       "    </tr>\n",
       "  </tbody>\n",
       "</table>\n",
       "</div>"
      ],
      "text/plain": [
       "   anime_id                                             tokens  score\n",
       "0         1  Cowboy Bebop; Action, Adventure, Comedy, Drama...   8.81\n",
       "2         6  Trigun; Action, Sci-Fi, Adventure, Comedy, Dra...   8.28"
      ]
     },
     "execution_count": 33,
     "metadata": {},
     "output_type": "execute_result"
    }
   ],
   "source": [
    "anime_test_animes.head(2)"
   ]
  },
  {
   "cell_type": "code",
   "execution_count": 34,
   "metadata": {},
   "outputs": [
    {
     "data": {
      "text/plain": [
       "(696, 2)"
      ]
     },
     "execution_count": 34,
     "metadata": {},
     "output_type": "execute_result"
    }
   ],
   "source": [
    "anime_test.shape"
   ]
  },
  {
   "cell_type": "code",
   "execution_count": 35,
   "metadata": {},
   "outputs": [
    {
     "name": "stdout",
     "output_type": "stream",
     "text": [
      "count    696.000000\n",
      "mean      29.778736\n",
      "std       43.207512\n",
      "min        6.000000\n",
      "5%         7.000000\n",
      "25%       10.000000\n",
      "50%       16.000000\n",
      "75%       32.000000\n",
      "95%       89.500000\n",
      "max      537.000000\n",
      "Name: anime_id, dtype: float64\n"
     ]
    },
    {
     "data": {
      "image/png": "[encoded data removed]",
      "text/plain": [
       "<Figure size 1000x500 with 1 Axes>"
      ]
     },
     "metadata": {},
     "output_type": "display_data"
    }
   ],
   "source": [
    "group_by_and_plot(review_data.query('user_id in @anime_test.index.values'), group_by_name=USER_COL, rating_col_name=ITEM_COL, quantile=0.99, title='Num reviews per test user');"
   ]
  },
  {
   "cell_type": "markdown",
   "metadata": {},
   "source": [
    "You will need to build a personalized models for those users in your HW. Do you have enough data? "
   ]
  },
  {
   "cell_type": "code",
   "execution_count": 36,
   "metadata": {},
   "outputs": [
    {
     "data": {
      "text/plain": [
       "user_id\n",
       "DesolatePsyche     [226, 235, 269, 457, 1482, 1698, 2904, 4981, 5...\n",
       "baekbeans          [853, 918, 3588, 6956, 9253, 11061, 13601, 205...\n",
       "skrn               [512, 918, 1943, 2904, 9989, 11741, 17074, 232...\n",
       "edgewalker00                          [849, 2904, 3588, 5680, 37349]\n",
       "aManOfCulture99    [235, 849, 2167, 4181, 4382, 5680, 7791, 9617,...\n",
       "Name: favorites_anime, dtype: object"
      ]
     },
     "execution_count": 36,
     "metadata": {},
     "output_type": "execute_result"
    }
   ],
   "source": [
    "favorites_data.head()"
   ]
  },
  {
   "cell_type": "code",
   "execution_count": null,
   "metadata": {},
   "outputs": [],
   "source": []
  }
 ],
 "metadata": {
  "colab": {
   "provenance": []
  },
  "kernelspec": {
   "display_name": "Python 3 (ipykernel)",
   "language": "python",
   "name": "python3"
  },
  "language_info": {
   "codemirror_mode": {
    "name": "ipython",
    "version": 3
   },
   "file_extension": ".py",
   "mimetype": "text/x-python",
   "name": "python",
   "nbconvert_exporter": "python",
   "pygments_lexer": "ipython3",
   "version": "3.9.7"
  }
 },
 "nbformat": 4,
 "nbformat_minor": 4
}
