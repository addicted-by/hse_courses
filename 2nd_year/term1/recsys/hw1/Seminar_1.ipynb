{
 "cells": [
  {
   "cell_type": "markdown",
   "metadata": {},
   "source": [
    "# CONTENT BASED MODELS"
   ]
  },
  {
   "cell_type": "markdown",
   "metadata": {},
   "source": [
    "Imagine, we have a service (like Youtbe, Netflix or whatever) and we have some new users. We want to recommend our users something they would like, but those users are new, so we know nothing about them. How to build recommender system in such situation? Another question is how to score and recommend new items with known features but without known ratings. \n",
    "\n",
    "The answer is simple: we have items (videos, movies, ect). Each item has some features and each item has its own rating (calculated based on the grades users or critics put). We want to recommend items with higher rating to our newbies. Below there are three ways how to do that.\n",
    "\n",
    "But firstly, let me show the datsets we are going to work with."
   ]
  },
  {
   "cell_type": "markdown",
   "metadata": {},
   "source": [
    "Download the preprocessed dataset [here](https://drive.google.com/drive/folders/1YPqWaZYW2axz91YKkaM7j_xPqF5rSVx2?usp=drive_link)."
   ]
  },
  {
   "cell_type": "code",
   "execution_count": 1,
   "metadata": {
    "id": "YFI-ui8K6uZN"
   },
   "outputs": [
    {
     "name": "stderr",
     "output_type": "stream",
     "text": [
      "Using `tqdm.autonotebook.tqdm` in notebook mode. Use `tqdm.tqdm` instead to force console mode (e.g. in jupyter console)\n"
     ]
    }
   ],
   "source": [
    "import os\n",
    "import ast\n",
    "import numpy as np\n",
    "import pandas as pd\n",
    "from scipy.sparse import diags\n",
    "from scipy.sparse.linalg import norm as sparse_norm\n",
    "\n",
    "from sklearn.feature_extraction.text import TfidfVectorizer, CountVectorizer\n",
    "from sklearn.linear_model import LinearRegression, LogisticRegression, Ridge\n",
    "from sklearn.metrics import accuracy_score\n",
    "from sklearn.pipeline import Pipeline, TransformerMixin\n",
    "from sklearn.preprocessing import StandardScaler\n",
    "\n",
    "import matplotlib.pyplot as plt\n",
    "import shap"
   ]
  },
  {
   "cell_type": "markdown",
   "metadata": {},
   "source": [
    "## Dataset\n",
    "\n",
    "### Reviews\n"
   ]
  },
  {
   "cell_type": "markdown",
   "metadata": {},
   "source": [
    "Lets have a look on our *reviews* dataset. In this dataset we need only four columns with titles *user_id*, *anime_id*, *favorites_anime* and *score*.\n",
    "\n",
    "- ***user_id*** User profile name. Some profile names are literally insane =)\n",
    "\n",
    "- ***anime_id*** The mapping of anime titles column onto integers.\n",
    "\n",
    "- ***score*** grade, how the user with the specific *user_id* evaluated the anime with specific *anime_id*.\n",
    "\n",
    "-  ***favorites_anime*** List of animes the user with the specific *user_id*  considered as his favourites. **ATTENTION** the animes from this list may not occur in user history (animes user graded). User may have mentioned some animes as favourites, but did not graded them. Automatically, we will consider that the score of favorite animes is **10**\n",
    "\n"
   ]
  },
  {
   "cell_type": "code",
   "execution_count": 2,
   "metadata": {},
   "outputs": [],
   "source": [
    "USER_COL = \"user_id\"\n",
    "ITEM_COL = \"anime_id\"\n",
    "RELEVANCE_COL = \"score\""
   ]
  },
  {
   "cell_type": "code",
   "execution_count": 3,
   "metadata": {},
   "outputs": [],
   "source": [
    "base_path = \"./anime_data\""
   ]
  },
  {
   "cell_type": "code",
   "execution_count": 4,
   "metadata": {},
   "outputs": [],
   "source": [
    "review_data = pd.read_csv(os.path.join(base_path, 'reviews.gz'))"
   ]
  },
  {
   "cell_type": "code",
   "execution_count": 5,
   "metadata": {},
   "outputs": [
    {
     "data": {
      "text/html": [
       "<div>\n",
       "<style scoped>\n",
       "    .dataframe tbody tr th:only-of-type {\n",
       "        vertical-align: middle;\n",
       "    }\n",
       "\n",
       "    .dataframe tbody tr th {\n",
       "        vertical-align: top;\n",
       "    }\n",
       "\n",
       "    .dataframe thead th {\n",
       "        text-align: right;\n",
       "    }\n",
       "</style>\n",
       "<table border=\"1\" class=\"dataframe\">\n",
       "  <thead>\n",
       "    <tr style=\"text-align: right;\">\n",
       "      <th></th>\n",
       "      <th>uid</th>\n",
       "      <th>user_id</th>\n",
       "      <th>anime_id</th>\n",
       "      <th>text</th>\n",
       "      <th>score</th>\n",
       "      <th>scores</th>\n",
       "      <th>link</th>\n",
       "    </tr>\n",
       "  </thead>\n",
       "  <tbody>\n",
       "    <tr>\n",
       "      <th>0</th>\n",
       "      <td>255938</td>\n",
       "      <td>DesolatePsyche</td>\n",
       "      <td>34096</td>\n",
       "      <td>First things first. My \"reviews\" system is exp...</td>\n",
       "      <td>8</td>\n",
       "      <td>{'Overall': '8', 'Story': '8', 'Animation': '8...</td>\n",
       "      <td>https://myanimelist.net/reviews.php?id=255938</td>\n",
       "    </tr>\n",
       "    <tr>\n",
       "      <th>1</th>\n",
       "      <td>259117</td>\n",
       "      <td>baekbeans</td>\n",
       "      <td>34599</td>\n",
       "      <td>Let me start off by saying that Made in Abyss ...</td>\n",
       "      <td>10</td>\n",
       "      <td>{'Overall': '10', 'Story': '10', 'Animation': ...</td>\n",
       "      <td>https://myanimelist.net/reviews.php?id=259117</td>\n",
       "    </tr>\n",
       "    <tr>\n",
       "      <th>2</th>\n",
       "      <td>253664</td>\n",
       "      <td>skrn</td>\n",
       "      <td>28891</td>\n",
       "      <td>Art 9/10: It is great, especially the actions ...</td>\n",
       "      <td>7</td>\n",
       "      <td>{'Overall': '7', 'Story': '7', 'Animation': '9...</td>\n",
       "      <td>https://myanimelist.net/reviews.php?id=253664</td>\n",
       "    </tr>\n",
       "    <tr>\n",
       "      <th>3</th>\n",
       "      <td>8254</td>\n",
       "      <td>edgewalker00</td>\n",
       "      <td>2904</td>\n",
       "      <td>Story \\r\\ntaking place 1 yr from where season ...</td>\n",
       "      <td>9</td>\n",
       "      <td>{'Overall': '9', 'Story': '9', 'Animation': '9...</td>\n",
       "      <td>https://myanimelist.net/reviews.php?id=8254</td>\n",
       "    </tr>\n",
       "    <tr>\n",
       "      <th>4</th>\n",
       "      <td>291149</td>\n",
       "      <td>aManOfCulture99</td>\n",
       "      <td>4181</td>\n",
       "      <td>Kyoto Animations greatest strength is being ab...</td>\n",
       "      <td>10</td>\n",
       "      <td>{'Overall': '10', 'Story': '10', 'Animation': ...</td>\n",
       "      <td>https://myanimelist.net/reviews.php?id=291149</td>\n",
       "    </tr>\n",
       "  </tbody>\n",
       "</table>\n",
       "</div>"
      ],
      "text/plain": [
       "      uid          user_id  anime_id  \\\n",
       "0  255938   DesolatePsyche     34096   \n",
       "1  259117        baekbeans     34599   \n",
       "2  253664             skrn     28891   \n",
       "3    8254     edgewalker00      2904   \n",
       "4  291149  aManOfCulture99      4181   \n",
       "\n",
       "                                                text  score  \\\n",
       "0  First things first. My \"reviews\" system is exp...      8   \n",
       "1  Let me start off by saying that Made in Abyss ...     10   \n",
       "2  Art 9/10: It is great, especially the actions ...      7   \n",
       "3  Story \\r\\ntaking place 1 yr from where season ...      9   \n",
       "4  Kyoto Animations greatest strength is being ab...     10   \n",
       "\n",
       "                                              scores  \\\n",
       "0  {'Overall': '8', 'Story': '8', 'Animation': '8...   \n",
       "1  {'Overall': '10', 'Story': '10', 'Animation': ...   \n",
       "2  {'Overall': '7', 'Story': '7', 'Animation': '9...   \n",
       "3  {'Overall': '9', 'Story': '9', 'Animation': '9...   \n",
       "4  {'Overall': '10', 'Story': '10', 'Animation': ...   \n",
       "\n",
       "                                            link  \n",
       "0  https://myanimelist.net/reviews.php?id=255938  \n",
       "1  https://myanimelist.net/reviews.php?id=259117  \n",
       "2  https://myanimelist.net/reviews.php?id=253664  \n",
       "3    https://myanimelist.net/reviews.php?id=8254  \n",
       "4  https://myanimelist.net/reviews.php?id=291149  "
      ]
     },
     "execution_count": 5,
     "metadata": {},
     "output_type": "execute_result"
    }
   ],
   "source": [
    "review_data.head()"
   ]
  },
  {
   "cell_type": "markdown",
   "metadata": {},
   "source": [
    "#### Do you remember what is the difference between explicit and implicit feedback?"
   ]
  },
  {
   "cell_type": "code",
   "execution_count": 6,
   "metadata": {},
   "outputs": [],
   "source": [
    "def get_log_info(log, user_id='user_id', item_id='item_id'):\n",
    "    print(f'Num reviews = {log.shape[0]},\\nnum users = {log[user_id].nunique()},\\nnum items = {log[item_id].nunique()}')"
   ]
  },
  {
   "cell_type": "code",
   "execution_count": 7,
   "metadata": {},
   "outputs": [
    {
     "name": "stdout",
     "output_type": "stream",
     "text": [
      "Num reviews = 109297,\n",
      "num users = 37458,\n",
      "num items = 7636\n"
     ]
    }
   ],
   "source": [
    "get_log_info(review_data, user_id=USER_COL, item_id=ITEM_COL)"
   ]
  },
  {
   "cell_type": "code",
   "execution_count": 8,
   "metadata": {},
   "outputs": [
    {
     "data": {
      "image/png": "[encoded data removed]",
      "text/plain": [
       "<Figure size 1000x500 with 1 Axes>"
      ]
     },
     "metadata": {},
     "output_type": "display_data"
    }
   ],
   "source": [
    "review_data[RELEVANCE_COL].plot.hist(bins=10, figsize=(10, 5), title='Scores distibution from user reviews');"
   ]
  },
  {
   "cell_type": "markdown",
   "metadata": {},
   "source": [
    "#### How does the distribution of ratings change if we have, for example, a marketplace data?"
   ]
  },
  {
   "cell_type": "code",
   "execution_count": 9,
   "metadata": {},
   "outputs": [],
   "source": [
    "def group_by_and_plot(df, group_by_name, rating_col_name, quantile=0.99, title=''):\n",
    "    grouped = df.groupby(group_by_name)[rating_col_name].count()\n",
    "    print(grouped.describe(percentiles=[0.05, .25, .5, .75, 0.95]))\n",
    "    grouped[grouped < grouped.quantile(quantile)].plot(kind='hist', bins=20, figsize=(10, 5), title=title)\n",
    "    return grouped"
   ]
  },
  {
   "cell_type": "code",
   "execution_count": 10,
   "metadata": {},
   "outputs": [
    {
     "name": "stdout",
     "output_type": "stream",
     "text": [
      "count    37458.000000\n",
      "mean         2.917855\n",
      "std          7.985410\n",
      "min          1.000000\n",
      "5%           1.000000\n",
      "25%          1.000000\n",
      "50%          1.000000\n",
      "75%          3.000000\n",
      "95%          9.000000\n",
      "max        537.000000\n",
      "Name: score, dtype: float64\n"
     ]
    },
    {
     "data": {
      "image/png": "[encoded data removed]",
      "text/plain": [
       "<Figure size 1000x500 with 1 Axes>"
      ]
     },
     "metadata": {},
     "output_type": "display_data"
    }
   ],
   "source": [
    "group_by_and_plot(review_data, group_by_name=USER_COL, rating_col_name=RELEVANCE_COL, quantile=0.99, title='Num reviews per user');"
   ]
  },
  {
   "cell_type": "code",
   "execution_count": 11,
   "metadata": {},
   "outputs": [
    {
     "name": "stdout",
     "output_type": "stream",
     "text": [
      "count    7636.000000\n",
      "mean       14.313384\n",
      "std        39.704994\n",
      "min         1.000000\n",
      "5%          1.000000\n",
      "25%         1.000000\n",
      "50%         3.000000\n",
      "75%        11.000000\n",
      "95%        59.000000\n",
      "max      1080.000000\n",
      "Name: score, dtype: float64\n"
     ]
    },
    {
     "data": {
      "image/png": "[encoded data removed]",
      "text/plain": [
       "<Figure size 1000x500 with 1 Axes>"
      ]
     },
     "metadata": {},
     "output_type": "display_data"
    }
   ],
   "source": [
    "group_by_and_plot(review_data, group_by_name=ITEM_COL, rating_col_name=RELEVANCE_COL, quantile=0.99, title='Num reviews per anime');"
   ]
  },
  {
   "cell_type": "markdown",
   "metadata": {},
   "source": [
    "#### How many animes could we reliably recommend using popularity-based methods? "
   ]
  },
  {
   "cell_type": "markdown",
   "metadata": {},
   "source": [
    "### Animes\n"
   ]
  },
  {
   "cell_type": "markdown",
   "metadata": {},
   "source": [
    "The main columns for us are:\n",
    "\n",
    "- ***anime_id*** - the same id we have in the table above.\n",
    "\n",
    "- ***synopsis*** - the description of the anime with a specific **anime_id**\n",
    "\n",
    "- ***score*** - average score over all the grades users or critics  put to the corresponding anime\n"
   ]
  },
  {
   "cell_type": "code",
   "execution_count": 12,
   "metadata": {},
   "outputs": [],
   "source": [
    "anime_data = pd.read_csv(os.path.join(base_path, 'animes.gz'), na_filter=False)"
   ]
  },
  {
   "cell_type": "code",
   "execution_count": 13,
   "metadata": {},
   "outputs": [
    {
     "data": {
      "text/html": [
       "<div>\n",
       "<style scoped>\n",
       "    .dataframe tbody tr th:only-of-type {\n",
       "        vertical-align: middle;\n",
       "    }\n",
       "\n",
       "    .dataframe tbody tr th {\n",
       "        vertical-align: top;\n",
       "    }\n",
       "\n",
       "    .dataframe thead th {\n",
       "        text-align: right;\n",
       "    }\n",
       "</style>\n",
       "<table border=\"1\" class=\"dataframe\">\n",
       "  <thead>\n",
       "    <tr style=\"text-align: right;\">\n",
       "      <th></th>\n",
       "      <th>0</th>\n",
       "    </tr>\n",
       "  </thead>\n",
       "  <tbody>\n",
       "    <tr>\n",
       "      <th>anime_id</th>\n",
       "      <td>1</td>\n",
       "    </tr>\n",
       "    <tr>\n",
       "      <th>title</th>\n",
       "      <td>Cowboy Bebop</td>\n",
       "    </tr>\n",
       "    <tr>\n",
       "      <th>synopsis</th>\n",
       "      <td>In the year 2071, humanity has colonized sever...</td>\n",
       "    </tr>\n",
       "    <tr>\n",
       "      <th>genre</th>\n",
       "      <td>Action, Adventure, Comedy, Drama, Sci-Fi, Space</td>\n",
       "    </tr>\n",
       "    <tr>\n",
       "      <th>aired</th>\n",
       "      <td>Apr 3, 1998 to Apr 24, 1999</td>\n",
       "    </tr>\n",
       "    <tr>\n",
       "      <th>episodes</th>\n",
       "      <td>26</td>\n",
       "    </tr>\n",
       "    <tr>\n",
       "      <th>members</th>\n",
       "      <td>930311</td>\n",
       "    </tr>\n",
       "    <tr>\n",
       "      <th>popularity</th>\n",
       "      <td>39</td>\n",
       "    </tr>\n",
       "    <tr>\n",
       "      <th>ranked</th>\n",
       "      <td>26.0</td>\n",
       "    </tr>\n",
       "    <tr>\n",
       "      <th>score</th>\n",
       "      <td>8.81</td>\n",
       "    </tr>\n",
       "    <tr>\n",
       "      <th>img_url</th>\n",
       "      <td>https://cdn.myanimelist.net/images/anime/4/196...</td>\n",
       "    </tr>\n",
       "    <tr>\n",
       "      <th>link</th>\n",
       "      <td>https://myanimelist.net/anime/1/Cowboy_Bebop</td>\n",
       "    </tr>\n",
       "  </tbody>\n",
       "</table>\n",
       "</div>"
      ],
      "text/plain": [
       "                                                            0\n",
       "anime_id                                                    1\n",
       "title                                            Cowboy Bebop\n",
       "synopsis    In the year 2071, humanity has colonized sever...\n",
       "genre         Action, Adventure, Comedy, Drama, Sci-Fi, Space\n",
       "aired                             Apr 3, 1998 to Apr 24, 1999\n",
       "episodes                                                   26\n",
       "members                                                930311\n",
       "popularity                                                 39\n",
       "ranked                                                   26.0\n",
       "score                                                    8.81\n",
       "img_url     https://cdn.myanimelist.net/images/anime/4/196...\n",
       "link             https://myanimelist.net/anime/1/Cowboy_Bebop"
      ]
     },
     "execution_count": 13,
     "metadata": {},
     "output_type": "execute_result"
    }
   ],
   "source": [
    "anime_data.head(1).T"
   ]
  },
  {
   "cell_type": "code",
   "execution_count": 14,
   "metadata": {},
   "outputs": [
    {
     "data": {
      "text/plain": [
       "genre\n",
       "Comedy           5640\n",
       "Action           3572\n",
       "Fantasy          2971\n",
       "Adventure        2753\n",
       "Sci-Fi           2462\n",
       "Kids             2458\n",
       "Drama            2457\n",
       "Shounen          1915\n",
       "Music            1863\n",
       "Romance          1762\n",
       "Slice of Life    1744\n",
       "School           1567\n",
       "Supernatural     1358\n",
       "Hentai           1295\n",
       "Mecha            1060\n",
       "Historical       1051\n",
       "Magic            1013\n",
       "Seinen            805\n",
       "Ecchi             740\n",
       "Sports            679\n",
       "Mystery           674\n",
       "Shoujo            668\n",
       "Parody            619\n",
       "Super Power       600\n",
       "Military          541\n",
       "Space             475\n",
       "Demons            453\n",
       "Horror            434\n",
       "Dementia          402\n",
       "Harem             374\n",
       "Martial Arts      367\n",
       "Game              348\n",
       "Psychological     322\n",
       "Police            239\n",
       "Samurai           199\n",
       "Vampire           135\n",
       "Thriller          120\n",
       "Cars              117\n",
       "Josei              93\n",
       "Shounen Ai         91\n",
       "                   75\n",
       "Shoujo Ai          73\n",
       "Yuri               40\n",
       "Yaoi               40\n",
       "Name: count, dtype: int64"
      ]
     },
     "execution_count": 14,
     "metadata": {},
     "output_type": "execute_result"
    }
   ],
   "source": [
    "anime_data['genre'].str.strip().str.split(\", \").explode().value_counts()"
   ]
  },
  {
   "cell_type": "code",
   "execution_count": 15,
   "metadata": {},
   "outputs": [
    {
     "data": {
      "text/plain": [
       "(16216, 12)"
      ]
     },
     "execution_count": 15,
     "metadata": {},
     "output_type": "execute_result"
    }
   ],
   "source": [
    "anime_data.shape # 7636 in reviews, the rest won't be covered by the popularity-based models"
   ]
  },
  {
   "cell_type": "code",
   "execution_count": 16,
   "metadata": {},
   "outputs": [
    {
     "data": {
      "image/png": "[encoded data removed]",
      "text/plain": [
       "<Figure size 1000x500 with 1 Axes>"
      ]
     },
     "metadata": {},
     "output_type": "display_data"
    }
   ],
   "source": [
    "anime_data[RELEVANCE_COL].plot.hist(bins=10, title='Score distibution from item features', figsize=(10, 5));"
   ]
  },
  {
   "cell_type": "code",
   "execution_count": 17,
   "metadata": {},
   "outputs": [
    {
     "data": {
      "text/plain": [
       "15875"
      ]
     },
     "execution_count": 17,
     "metadata": {},
     "output_type": "execute_result"
    }
   ],
   "source": [
    "(anime_data[RELEVANCE_COL] > 0).sum()"
   ]
  },
  {
   "cell_type": "code",
   "execution_count": 18,
   "metadata": {},
   "outputs": [],
   "source": [
    "all_anime_data = (\n",
    "    anime_data[['anime_id', 'score']]\n",
    "    .assign(tokens=anime_data[['title', 'genre', 'synopsis']].apply('; '.join, axis=1))\n",
    "    .set_index('anime_id')\n",
    "    # ['tokens']\n",
    ")"
   ]
  },
  {
   "cell_type": "code",
   "execution_count": 19,
   "metadata": {},
   "outputs": [
    {
     "data": {
      "text/html": [
       "<div>\n",
       "<style scoped>\n",
       "    .dataframe tbody tr th:only-of-type {\n",
       "        vertical-align: middle;\n",
       "    }\n",
       "\n",
       "    .dataframe tbody tr th {\n",
       "        vertical-align: top;\n",
       "    }\n",
       "\n",
       "    .dataframe thead th {\n",
       "        text-align: right;\n",
       "    }\n",
       "</style>\n",
       "<table border=\"1\" class=\"dataframe\">\n",
       "  <thead>\n",
       "    <tr style=\"text-align: right;\">\n",
       "      <th></th>\n",
       "      <th>score</th>\n",
       "      <th>tokens</th>\n",
       "    </tr>\n",
       "    <tr>\n",
       "      <th>anime_id</th>\n",
       "      <th></th>\n",
       "      <th></th>\n",
       "    </tr>\n",
       "  </thead>\n",
       "  <tbody>\n",
       "    <tr>\n",
       "      <th>1</th>\n",
       "      <td>8.81</td>\n",
       "      <td>Cowboy Bebop; Action, Adventure, Comedy, Drama...</td>\n",
       "    </tr>\n",
       "    <tr>\n",
       "      <th>5</th>\n",
       "      <td>8.40</td>\n",
       "      <td>Cowboy Bebop: Tengoku no Tobira; Action, Drama...</td>\n",
       "    </tr>\n",
       "    <tr>\n",
       "      <th>6</th>\n",
       "      <td>8.28</td>\n",
       "      <td>Trigun; Action, Sci-Fi, Adventure, Comedy, Dra...</td>\n",
       "    </tr>\n",
       "    <tr>\n",
       "      <th>7</th>\n",
       "      <td>7.32</td>\n",
       "      <td>Witch Hunter Robin; Action, Magic, Police, Sup...</td>\n",
       "    </tr>\n",
       "    <tr>\n",
       "      <th>8</th>\n",
       "      <td>7.02</td>\n",
       "      <td>Bouken Ou Beet; Adventure, Fantasy, Shounen, S...</td>\n",
       "    </tr>\n",
       "  </tbody>\n",
       "</table>\n",
       "</div>"
      ],
      "text/plain": [
       "          score                                             tokens\n",
       "anime_id                                                          \n",
       "1          8.81  Cowboy Bebop; Action, Adventure, Comedy, Drama...\n",
       "5          8.40  Cowboy Bebop: Tengoku no Tobira; Action, Drama...\n",
       "6          8.28  Trigun; Action, Sci-Fi, Adventure, Comedy, Dra...\n",
       "7          7.32  Witch Hunter Robin; Action, Magic, Police, Sup...\n",
       "8          7.02  Bouken Ou Beet; Adventure, Fantasy, Shounen, S..."
      ]
     },
     "execution_count": 19,
     "metadata": {},
     "output_type": "execute_result"
    }
   ],
   "source": [
    "all_anime_data.head()"
   ]
  },
  {
   "cell_type": "markdown",
   "metadata": {},
   "source": [
    "#### What can we do with these tokens?"
   ]
  },
  {
   "cell_type": "markdown",
   "metadata": {},
   "source": [
    "### User profiles"
   ]
  },
  {
   "cell_type": "markdown",
   "metadata": {},
   "source": [
    "This dataset contains additional information about users, including their favorite anime.\n",
    "\n",
    "- ***user_id*** - the same user id as in the reviews table.\n",
    "\n",
    "- ***gender*** - user gender\n",
    "\n",
    "- ***birthday*** - user birthday\n",
    "\n",
    "- ***favorites_anime*** - a list of user favorites\n"
   ]
  },
  {
   "cell_type": "code",
   "execution_count": 20,
   "metadata": {},
   "outputs": [],
   "source": [
    "profile_data = pd.read_csv(os.path.join(base_path, 'profiles.gz'), converters={'favorites_anime': ast.literal_eval})"
   ]
  },
  {
   "cell_type": "code",
   "execution_count": 21,
   "metadata": {},
   "outputs": [
    {
     "data": {
      "text/html": [
       "<div>\n",
       "<style scoped>\n",
       "    .dataframe tbody tr th:only-of-type {\n",
       "        vertical-align: middle;\n",
       "    }\n",
       "\n",
       "    .dataframe tbody tr th {\n",
       "        vertical-align: top;\n",
       "    }\n",
       "\n",
       "    .dataframe thead th {\n",
       "        text-align: right;\n",
       "    }\n",
       "</style>\n",
       "<table border=\"1\" class=\"dataframe\">\n",
       "  <thead>\n",
       "    <tr style=\"text-align: right;\">\n",
       "      <th></th>\n",
       "      <th>user_id</th>\n",
       "      <th>gender</th>\n",
       "      <th>birthday</th>\n",
       "      <th>favorites_anime</th>\n",
       "      <th>link</th>\n",
       "    </tr>\n",
       "  </thead>\n",
       "  <tbody>\n",
       "    <tr>\n",
       "      <th>0</th>\n",
       "      <td>DesolatePsyche</td>\n",
       "      <td>Male</td>\n",
       "      <td>Oct 2, 1994</td>\n",
       "      <td>[226, 235, 269, 457, 1482, 1698, 2904, 4981, 5...</td>\n",
       "      <td>https://myanimelist.net/profile/DesolatePsyche</td>\n",
       "    </tr>\n",
       "    <tr>\n",
       "      <th>1</th>\n",
       "      <td>baekbeans</td>\n",
       "      <td>Female</td>\n",
       "      <td>Nov 10, 2000</td>\n",
       "      <td>[853, 918, 3588, 6956, 9253, 11061, 13601, 205...</td>\n",
       "      <td>https://myanimelist.net/profile/baekbeans</td>\n",
       "    </tr>\n",
       "    <tr>\n",
       "      <th>2</th>\n",
       "      <td>skrn</td>\n",
       "      <td>NaN</td>\n",
       "      <td>NaN</td>\n",
       "      <td>[512, 918, 1943, 2904, 9989, 11741, 17074, 232...</td>\n",
       "      <td>https://myanimelist.net/profile/skrn</td>\n",
       "    </tr>\n",
       "    <tr>\n",
       "      <th>3</th>\n",
       "      <td>edgewalker00</td>\n",
       "      <td>Male</td>\n",
       "      <td>Sep 5</td>\n",
       "      <td>[849, 2904, 3588, 5680, 37349]</td>\n",
       "      <td>https://myanimelist.net/profile/edgewalker00</td>\n",
       "    </tr>\n",
       "    <tr>\n",
       "      <th>4</th>\n",
       "      <td>aManOfCulture99</td>\n",
       "      <td>Male</td>\n",
       "      <td>Oct 30, 1999</td>\n",
       "      <td>[235, 849, 2167, 4181, 4382, 5680, 7791, 9617,...</td>\n",
       "      <td>https://myanimelist.net/profile/aManOfCulture99</td>\n",
       "    </tr>\n",
       "  </tbody>\n",
       "</table>\n",
       "</div>"
      ],
      "text/plain": [
       "           user_id  gender      birthday  \\\n",
       "0   DesolatePsyche    Male   Oct 2, 1994   \n",
       "1        baekbeans  Female  Nov 10, 2000   \n",
       "2             skrn     NaN           NaN   \n",
       "3     edgewalker00    Male         Sep 5   \n",
       "4  aManOfCulture99    Male  Oct 30, 1999   \n",
       "\n",
       "                                     favorites_anime  \\\n",
       "0  [226, 235, 269, 457, 1482, 1698, 2904, 4981, 5...   \n",
       "1  [853, 918, 3588, 6956, 9253, 11061, 13601, 205...   \n",
       "2  [512, 918, 1943, 2904, 9989, 11741, 17074, 232...   \n",
       "3                     [849, 2904, 3588, 5680, 37349]   \n",
       "4  [235, 849, 2167, 4181, 4382, 5680, 7791, 9617,...   \n",
       "\n",
       "                                              link  \n",
       "0   https://myanimelist.net/profile/DesolatePsyche  \n",
       "1        https://myanimelist.net/profile/baekbeans  \n",
       "2             https://myanimelist.net/profile/skrn  \n",
       "3     https://myanimelist.net/profile/edgewalker00  \n",
       "4  https://myanimelist.net/profile/aManOfCulture99  "
      ]
     },
     "execution_count": 21,
     "metadata": {},
     "output_type": "execute_result"
    }
   ],
   "source": [
    "profile_data.head()"
   ]
  },
  {
   "cell_type": "code",
   "execution_count": 22,
   "metadata": {},
   "outputs": [
    {
     "data": {
      "text/plain": [
       "(37458, 5)"
      ]
     },
     "execution_count": 22,
     "metadata": {},
     "output_type": "execute_result"
    }
   ],
   "source": [
    "profile_data.shape"
   ]
  },
  {
   "cell_type": "code",
   "execution_count": 23,
   "metadata": {},
   "outputs": [
    {
     "data": {
      "image/png": "[encoded data removed]",
      "text/plain": [
       "<Figure size 1000x500 with 1 Axes>"
      ]
     },
     "metadata": {},
     "output_type": "display_data"
    }
   ],
   "source": [
    "(\n",
    "    profile_data['favorites_anime']\n",
    "    .apply(len)\n",
    "    .value_counts(sort=False).sort_index()#.cumsum()\n",
    "    .plot.bar(\n",
    "        logy=True,\n",
    "        rot=0,\n",
    "        xlabel='# favorites',\n",
    "        ylabel='frequency',\n",
    "        title='Amount of favorites in user profiles',\n",
    "        figsize=(10, 5)\n",
    "    )\n",
    ");"
   ]
  },
  {
   "cell_type": "markdown",
   "metadata": {},
   "source": [
    "### Favorites ratings"
   ]
  },
  {
   "cell_type": "code",
   "execution_count": 24,
   "metadata": {},
   "outputs": [
    {
     "name": "stdout",
     "output_type": "stream",
     "text": [
      "Fraction of favorites without the rating: 93%\n"
     ]
    }
   ],
   "source": [
    "favorites_data = profile_data.set_index('user_id')['favorites_anime']\n",
    "favorites_scores = pd.merge(\n",
    "    favorites_data.explode().rename('anime_id').reset_index(),\n",
    "    review_data[['user_id', 'anime_id', 'score']],\n",
    "    on = ['user_id', 'anime_id'],\n",
    "    how = 'left'\n",
    ")['score']\n",
    "\n",
    "print(f'Fraction of favorites without the rating: {favorites_scores.isnull().mean():.0%}')"
   ]
  },
  {
   "cell_type": "markdown",
   "metadata": {},
   "source": [
    "- Most of the favorites do not have ratings info.\n",
    "- For the sake of evaluation in this excercise, we will make two assumptions:\n",
    "  - favorites are of the highest interest to users,\n",
    "  - other animes that users rate highly should be somewhat similar to their favorites."
   ]
  },
  {
   "cell_type": "markdown",
   "metadata": {},
   "source": [
    "# Data split\n"
   ]
  },
  {
   "cell_type": "markdown",
   "metadata": {},
   "source": [
    "- In order to construct test set we use the users who have some anime in their favourites list.\n",
    "- For these users we take **n_pairs** animes a user liked and **n_pairs** animes the user disliked from their anime reviews.\n",
    "  - We assume the user liked anime if he put the grade no less than some *score_cutoff* value.\n",
    "- The quality of predictions is then evaluated by comparing how close the liked animes to the favorites based on the predicted scores."
   ]
  },
  {
   "cell_type": "code",
   "execution_count": 25,
   "metadata": {
    "id": "E60Q3lM1TSx3"
   },
   "outputs": [],
   "source": [
    "def get_test_pairs(reviews, favorites, n_pairs, score_cutoff, seed):\n",
    "    '''\n",
    "    Construct a dataset consisting of pairs of liked and disliked animes. The likes and dislikes\n",
    "    are defined by the ratings value: everything below threshold is a dislike, the rest are likes.\n",
    "        \n",
    "    The function ensures that the amount of likes and dislikes is the same per each user in data.\n",
    "    The users that do not contain enough likes or dislikes are discarded from the result.\n",
    "    The result is to be used for evaluating the quality of recommendations by some algorithms.\n",
    "    Hence, user favorites are excluded to ensure that there is no trivial solution.\n",
    "    '''\n",
    "    rng = np.random.default_rng(seed)\n",
    "    def strict_sample_no_favs(series):\n",
    "        # sample `n_pairs` elements from `series`, if not enough data - return empty list,\n",
    "        # discard favorites, otherwise the evaluation on test pairs against favorites makes no sense\n",
    "        above_cutoff, user_id = series.name\n",
    "        allowed_items = np.setdiff1d(series.values, favorites.loc[user_id])\n",
    "        return rng.choice(allowed_items, n_pairs, replace=False) if len(allowed_items)>=n_pairs else []\n",
    "    \n",
    "    test_pairs = (\n",
    "        reviews\n",
    "         # split by likes and dislikes, group by users\n",
    "        .groupby([(reviews[\"score\"] >= score_cutoff), 'user_id'])\n",
    "        # sample `n_pairs` items (both likes and dislikes), disregard user favorites\n",
    "        ['anime_id'].apply(strict_sample_no_favs)\n",
    "         # disregard users that have not enough items\n",
    "        .loc[lambda x: x.apply(len) > 0]\n",
    "         # make two columns of likes and dislikes\n",
    "        .unstack('score')\n",
    "        # ensure each user has both likes and dislikes\n",
    "        .dropna()\n",
    "         # rename by\n",
    "         # \n",
    "         # \n",
    "         #  rule `score >= score_cutoff`\n",
    "        .rename(columns={False: 'dislikes', True: 'likes'})\n",
    "    )\n",
    "    return test_pairs"
   ]
  },
  {
   "cell_type": "markdown",
   "metadata": {},
   "source": [
    "We will generate the training data by excluding animes from the pairs of likes and dislikes contained in the test data. "
   ]
  },
  {
   "cell_type": "code",
   "execution_count": 26,
   "metadata": {
    "id": "QU5IadBOFvVx"
   },
   "outputs": [],
   "source": [
    "def split_anime_train_test_data(reviews, favorites, anime, *, n_pairs=3, score_cutoff=5, seed=0):\n",
    "    '''\n",
    "    Function to construct train dataset. It deletes animes that occured in the test set\n",
    "    to prevent information leakage from test to train.\n",
    "    '''\n",
    "    test_data = get_test_pairs(reviews, favorites, n_pairs, score_cutoff, seed)\n",
    "    test_anime_set = (\n",
    "        test_data\n",
    "        .melt(value_name='animes') # reshape 2 columns into signle column\n",
    "        ['animes'].explode() # flatten all lists into a single long 1d array\n",
    "        .unique() # get only unique values\n",
    "    )\n",
    "    train_data = (\n",
    "        anime\n",
    "        # only use known score - to be used as the prediction target,\n",
    "        # also prevent test data leaks into training\n",
    "        .query('score > 0 and anime_id not in @test_anime_set')\n",
    "        # combine several text fields into a unified feature view\n",
    "        .assign(tokens = lambda x: x[['title', 'genre', 'synopsis']].apply('; '.join, axis=1))\n",
    "        # only take necessary fields\n",
    "        .loc[:, ['anime_id', 'tokens', 'score']]\n",
    "    )\n",
    "    return train_data, test_data"
   ]
  },
  {
   "cell_type": "code",
   "execution_count": 27,
   "metadata": {
    "id": "MCyJAnMyF0Gd"
   },
   "outputs": [],
   "source": [
    "anime_train, anime_test = split_anime_train_test_data(\n",
    "    review_data, favorites_data, anime_data, score_cutoff=5\n",
    ")"
   ]
  },
  {
   "cell_type": "code",
   "execution_count": 28,
   "metadata": {},
   "outputs": [
    {
     "data": {
      "text/html": [
       "<div>\n",
       "<style scoped>\n",
       "    .dataframe tbody tr th:only-of-type {\n",
       "        vertical-align: middle;\n",
       "    }\n",
       "\n",
       "    .dataframe tbody tr th {\n",
       "        vertical-align: top;\n",
       "    }\n",
       "\n",
       "    .dataframe thead th {\n",
       "        text-align: right;\n",
       "    }\n",
       "</style>\n",
       "<table border=\"1\" class=\"dataframe\">\n",
       "  <thead>\n",
       "    <tr style=\"text-align: right;\">\n",
       "      <th></th>\n",
       "      <th>anime_id</th>\n",
       "      <th>tokens</th>\n",
       "      <th>score</th>\n",
       "    </tr>\n",
       "  </thead>\n",
       "  <tbody>\n",
       "    <tr>\n",
       "      <th>1</th>\n",
       "      <td>5</td>\n",
       "      <td>Cowboy Bebop: Tengoku no Tobira; Action, Drama...</td>\n",
       "      <td>8.40</td>\n",
       "    </tr>\n",
       "    <tr>\n",
       "      <th>4</th>\n",
       "      <td>8</td>\n",
       "      <td>Bouken Ou Beet; Adventure, Fantasy, Shounen, S...</td>\n",
       "      <td>7.02</td>\n",
       "    </tr>\n",
       "    <tr>\n",
       "      <th>5</th>\n",
       "      <td>15</td>\n",
       "      <td>Eyeshield 21; Action, Sports, Comedy, Shounen;...</td>\n",
       "      <td>8.02</td>\n",
       "    </tr>\n",
       "    <tr>\n",
       "      <th>7</th>\n",
       "      <td>17</td>\n",
       "      <td>Hungry Heart: Wild Striker; Slice of Life, Com...</td>\n",
       "      <td>7.65</td>\n",
       "    </tr>\n",
       "    <tr>\n",
       "      <th>8</th>\n",
       "      <td>18</td>\n",
       "      <td>Initial D Fourth Stage; Action, Cars, Sports, ...</td>\n",
       "      <td>8.18</td>\n",
       "    </tr>\n",
       "  </tbody>\n",
       "</table>\n",
       "</div>"
      ],
      "text/plain": [
       "   anime_id                                             tokens  score\n",
       "1         5  Cowboy Bebop: Tengoku no Tobira; Action, Drama...   8.40\n",
       "4         8  Bouken Ou Beet; Adventure, Fantasy, Shounen, S...   7.02\n",
       "5        15  Eyeshield 21; Action, Sports, Comedy, Shounen;...   8.02\n",
       "7        17  Hungry Heart: Wild Striker; Slice of Life, Com...   7.65\n",
       "8        18  Initial D Fourth Stage; Action, Cars, Sports, ...   8.18"
      ]
     },
     "execution_count": 28,
     "metadata": {},
     "output_type": "execute_result"
    }
   ],
   "source": [
    "anime_train.head()"
   ]
  },
  {
   "cell_type": "code",
   "execution_count": 29,
   "metadata": {},
   "outputs": [],
   "source": [
    "# to evaluate classification/regression metrics\n",
    "\n",
    "test_animes = (anime_test\n",
    "        .melt(value_name='animes') # reshape 2 columns into signle column\n",
    "        ['animes'].explode() # flatten all lists into a single long 1d array\n",
    "        .unique()) # get only unique values\n",
    "\n",
    "anime_test_animes = anime_data.query('score > 0 and anime_id in @test_animes') \\\n",
    "        .assign(tokens = lambda x: x[['title', 'genre', 'synopsis']].apply('; '.join, axis=1)) \\\n",
    "        .loc[:, ['anime_id', 'tokens', 'score']]"
   ]
  },
  {
   "cell_type": "code",
   "execution_count": 30,
   "metadata": {},
   "outputs": [
    {
     "data": {
      "text/plain": [
       "((15875, 12), 15875)"
      ]
     },
     "execution_count": 30,
     "metadata": {},
     "output_type": "execute_result"
    }
   ],
   "source": [
    "anime_data.query('score > 0').shape, anime_train.shape[0] + anime_test_animes.shape[0]"
   ]
  },
  {
   "cell_type": "code",
   "execution_count": 31,
   "metadata": {},
   "outputs": [
    {
     "data": {
      "text/html": [
       "<div>\n",
       "<style scoped>\n",
       "    .dataframe tbody tr th:only-of-type {\n",
       "        vertical-align: middle;\n",
       "    }\n",
       "\n",
       "    .dataframe tbody tr th {\n",
       "        vertical-align: top;\n",
       "    }\n",
       "\n",
       "    .dataframe thead th {\n",
       "        text-align: right;\n",
       "    }\n",
       "</style>\n",
       "<table border=\"1\" class=\"dataframe\">\n",
       "  <thead>\n",
       "    <tr style=\"text-align: right;\">\n",
       "      <th>score</th>\n",
       "      <th>dislikes</th>\n",
       "      <th>likes</th>\n",
       "    </tr>\n",
       "    <tr>\n",
       "      <th>user_id</th>\n",
       "      <th></th>\n",
       "      <th></th>\n",
       "    </tr>\n",
       "  </thead>\n",
       "  <tbody>\n",
       "    <tr>\n",
       "      <th>-Ereya-</th>\n",
       "      <td>[6747, 169, 5525]</td>\n",
       "      <td>[12413, 15613, 9989]</td>\n",
       "    </tr>\n",
       "    <tr>\n",
       "      <th>-HippySnob-</th>\n",
       "      <td>[31245, 36516, 31804]</td>\n",
       "      <td>[16355, 39456, 37021]</td>\n",
       "    </tr>\n",
       "    <tr>\n",
       "      <th>-Remix-</th>\n",
       "      <td>[31043, 31914, 28171]</td>\n",
       "      <td>[29787, 15225, 11889]</td>\n",
       "    </tr>\n",
       "    <tr>\n",
       "      <th>-Ryu</th>\n",
       "      <td>[10620, 35849, 16762]</td>\n",
       "      <td>[36475, 401, 31904]</td>\n",
       "    </tr>\n",
       "    <tr>\n",
       "      <th>0MAN0</th>\n",
       "      <td>[17265, 226, 4382]</td>\n",
       "      <td>[15809, 10620, 849]</td>\n",
       "    </tr>\n",
       "  </tbody>\n",
       "</table>\n",
       "</div>"
      ],
      "text/plain": [
       "score                     dislikes                  likes\n",
       "user_id                                                  \n",
       "-Ereya-          [6747, 169, 5525]   [12413, 15613, 9989]\n",
       "-HippySnob-  [31245, 36516, 31804]  [16355, 39456, 37021]\n",
       "-Remix-      [31043, 31914, 28171]  [29787, 15225, 11889]\n",
       "-Ryu         [10620, 35849, 16762]    [36475, 401, 31904]\n",
       "0MAN0           [17265, 226, 4382]    [15809, 10620, 849]"
      ]
     },
     "execution_count": 31,
     "metadata": {},
     "output_type": "execute_result"
    }
   ],
   "source": [
    "anime_test.head()"
   ]
  },
  {
   "cell_type": "code",
   "execution_count": 32,
   "metadata": {},
   "outputs": [
    {
     "data": {
      "text/html": [
       "<div>\n",
       "<style scoped>\n",
       "    .dataframe tbody tr th:only-of-type {\n",
       "        vertical-align: middle;\n",
       "    }\n",
       "\n",
       "    .dataframe tbody tr th {\n",
       "        vertical-align: top;\n",
       "    }\n",
       "\n",
       "    .dataframe thead th {\n",
       "        text-align: right;\n",
       "    }\n",
       "</style>\n",
       "<table border=\"1\" class=\"dataframe\">\n",
       "  <thead>\n",
       "    <tr style=\"text-align: right;\">\n",
       "      <th></th>\n",
       "      <th>anime_id</th>\n",
       "      <th>tokens</th>\n",
       "      <th>score</th>\n",
       "    </tr>\n",
       "  </thead>\n",
       "  <tbody>\n",
       "    <tr>\n",
       "      <th>0</th>\n",
       "      <td>1</td>\n",
       "      <td>Cowboy Bebop; Action, Adventure, Comedy, Drama...</td>\n",
       "      <td>8.81</td>\n",
       "    </tr>\n",
       "    <tr>\n",
       "      <th>2</th>\n",
       "      <td>6</td>\n",
       "      <td>Trigun; Action, Sci-Fi, Adventure, Comedy, Dra...</td>\n",
       "      <td>8.28</td>\n",
       "    </tr>\n",
       "  </tbody>\n",
       "</table>\n",
       "</div>"
      ],
      "text/plain": [
       "   anime_id                                             tokens  score\n",
       "0         1  Cowboy Bebop; Action, Adventure, Comedy, Drama...   8.81\n",
       "2         6  Trigun; Action, Sci-Fi, Adventure, Comedy, Dra...   8.28"
      ]
     },
     "execution_count": 32,
     "metadata": {},
     "output_type": "execute_result"
    }
   ],
   "source": [
    "anime_test_animes.head(2)"
   ]
  },
  {
   "cell_type": "code",
   "execution_count": 33,
   "metadata": {},
   "outputs": [
    {
     "data": {
      "text/plain": [
       "(696, 2)"
      ]
     },
     "execution_count": 33,
     "metadata": {},
     "output_type": "execute_result"
    }
   ],
   "source": [
    "anime_test.shape"
   ]
  },
  {
   "cell_type": "code",
   "execution_count": 34,
   "metadata": {},
   "outputs": [
    {
     "name": "stdout",
     "output_type": "stream",
     "text": [
      "count    696.000000\n",
      "mean      29.778736\n",
      "std       43.207512\n",
      "min        6.000000\n",
      "5%         7.000000\n",
      "25%       10.000000\n",
      "50%       16.000000\n",
      "75%       32.000000\n",
      "95%       89.500000\n",
      "max      537.000000\n",
      "Name: anime_id, dtype: float64\n"
     ]
    },
    {
     "data": {
      "image/png": "[encoded data removed]",
      "text/plain": [
       "<Figure size 1000x500 with 1 Axes>"
      ]
     },
     "metadata": {},
     "output_type": "display_data"
    }
   ],
   "source": [
    "group_by_and_plot(review_data.query('user_id in @anime_test.index.values'), group_by_name=USER_COL, rating_col_name=ITEM_COL, quantile=0.99, title='Num reviews per test user');"
   ]
  },
  {
   "cell_type": "markdown",
   "metadata": {},
   "source": [
    "You will need to build a personalized models for those users in your HW. Do you have enough data? "
   ]
  },
  {
   "cell_type": "code",
   "execution_count": 35,
   "metadata": {},
   "outputs": [
    {
     "data": {
      "text/plain": [
       "user_id\n",
       "DesolatePsyche     [226, 235, 269, 457, 1482, 1698, 2904, 4981, 5...\n",
       "baekbeans          [853, 918, 3588, 6956, 9253, 11061, 13601, 205...\n",
       "skrn               [512, 918, 1943, 2904, 9989, 11741, 17074, 232...\n",
       "edgewalker00                          [849, 2904, 3588, 5680, 37349]\n",
       "aManOfCulture99    [235, 849, 2167, 4181, 4382, 5680, 7791, 9617,...\n",
       "Name: favorites_anime, dtype: object"
      ]
     },
     "execution_count": 35,
     "metadata": {},
     "output_type": "execute_result"
    }
   ],
   "source": [
    "favorites_data.head()"
   ]
  },
  {
   "cell_type": "markdown",
   "metadata": {
    "id": "D97CoFjUdjgJ"
   },
   "source": [
    "# Regression model"
   ]
  },
  {
   "cell_type": "markdown",
   "metadata": {
    "id": "qz7dE2lFf5gN"
   },
   "source": [
    "<!-- ## PURE CONTENT BASED MODELS\n",
    "\n",
    "We will explore application of regression and classification approaches.\n",
    " -->\n",
    "In regression task (in its straightforward implementation) we want to predict average score based on any parameter (parameters) of anime. Here we will use binary vectors of synopsis of each anime\n",
    "\n",
    "$$\n",
    "S = W * x +W_0\n",
    "$$\n",
    "\n",
    "where $x$ - text representation $S$ -predicted scores, $W_0$ -bias"
   ]
  },
  {
   "cell_type": "markdown",
   "metadata": {},
   "source": [
    "In our case we need any representation of textual information. In first we will use a binary representation (if the word presents in text) and than will apply TFIDF representation."
   ]
  },
  {
   "cell_type": "markdown",
   "metadata": {},
   "source": [
    "## Task\n",
    "\n",
    "Here we need to predict anime's rating. For this purpose we are going to use ***regression model***. The simplest regression model is ***Linear regression***.\n",
    "\n",
    "\n",
    "$$\n",
    "S = W * x +W_0\n",
    "$$\n",
    "\n",
    "\n",
    "Where **S** is predicted scores, **x** is our text representation and **W** is model weights"
   ]
  },
  {
   "cell_type": "markdown",
   "metadata": {},
   "source": [
    "## Pipeline"
   ]
  },
  {
   "cell_type": "markdown",
   "metadata": {},
   "source": [
    "Below you can see a simple pipeline for this task. Later we're going to extend it during our course.\n",
    "\n",
    "- ***build_cb_model*** - this function constructs the model we need. As a rating predictor we use Linear regression.  The entries of this function is model config, trainset_description and trainset which we build above\n",
    "\n",
    "- ***generate_features*** - applies CountVectorizer or TfidfVectorizer for items' descriptions\n",
    " \n",
    "- ***cb_model_scoring*** - provides the scores for  the entry set of data. This function uses parameters which were defined in ***build_cb_model*** \n",
    "\n",
    "- ***cb_config*** - defines parameters of the model\n",
    "\n",
    "- ***transform_predict*** - unified function to generate recommendations\n",
    "\n",
    "- ***anime_description*** - maps names of features we use in ***build_cb_model***/***cb_model_scoring*** to column names, used for convenience."
   ]
  },
  {
   "cell_type": "code",
   "execution_count": 37,
   "metadata": {},
   "outputs": [],
   "source": [
    "class DenseTransformer(TransformerMixin):\n",
    "    \"\"\"\n",
    "    Convert sparse matrix to dense np array to apply standard scaler with mean.\n",
    "    \"\"\"\n",
    "\n",
    "    def fit(self, X, y=None, **fit_params):\n",
    "        return self\n",
    "\n",
    "    def transform(self, X, y=None, **fit_params):\n",
    "        return X.toarray()"
   ]
  },
  {
   "cell_type": "code",
   "execution_count": 38,
   "metadata": {
    "id": "Bqwjwe8DLdzr"
   },
   "outputs": [],
   "source": [
    "def build_cb_model(config, trainset, trainset_description, logistic=False, binary_vectorizer=True):\n",
    "    \"\"\"\n",
    "    Config and fit cb model\n",
    "    \"\"\"\n",
    "    feature_matrix, word_vectorizer = generate_features(config, trainset, trainset_description, binary_vectorizer)\n",
    "    if logistic:\n",
    "        regressor = LogisticRegression\n",
    "    elif 'alpha' in config['model']:\n",
    "        regressor = Ridge\n",
    "    else:\n",
    "        regressor = LinearRegression\n",
    "    target_column = trainset_description['feedback']\n",
    "    model = regressor(**config['model']).fit(feature_matrix, trainset[target_column])\n",
    "    return model, word_vectorizer\n",
    "\n",
    "def generate_features(config, trainset, trainset_description, binary_vectorizer):\n",
    "    \"\"\"\n",
    "    Config and fit text vectorizer\n",
    "    \"\"\"\n",
    "    if binary_vectorizer:\n",
    "        word_vectorizer = CountVectorizer(**config['vectorizer']['binary'])\n",
    "    else:\n",
    "        word_vectorizer = Pipeline([(\"tfidf\", TfidfVectorizer(**config['vectorizer']['tfidf'])), \n",
    "                                    ('dense', DenseTransformer()), \n",
    "                                    (\"scaler\", StandardScaler())])\n",
    "    features_column = trainset_description['item_features']\n",
    "    feature_matrix = word_vectorizer.fit_transform(trainset[features_column])\n",
    "    return feature_matrix, word_vectorizer\n",
    "\n",
    "\n",
    "def transform_predict(params, tokens):\n",
    "    \"\"\"\n",
    "    Get recommendations from either classification or regression model\n",
    "    \"\"\"\n",
    "    model, word_vectorizer = params\n",
    "    tokens_encoded = word_vectorizer.transform(tokens)\n",
    "    try: # handle classification models\n",
    "        predictor = model.predict_proba\n",
    "    except AttributeError:\n",
    "        predictor = model.predict\n",
    "    scores = predictor(tokens_encoded)\n",
    "    if scores.ndim > 1: # handle classification\n",
    "        scores = scores[:, 1] # take class 1\n",
    "    return scores\n",
    "\n",
    "def cb_model_scoring(params, testset, testset_description):\n",
    "    \"\"\"\n",
    "    Select necessary features and get recommendations with the fitted pipeline\n",
    "    \"\"\"\n",
    "    tokens = testset[testset_description['item_features']]\n",
    "    scores = transform_predict(params, tokens)\n",
    "    return scores\n"
   ]
  },
  {
   "cell_type": "markdown",
   "metadata": {},
   "source": [
    "## Linear regression with the binary text vectorization"
   ]
  },
  {
   "cell_type": "code",
   "execution_count": 127,
   "metadata": {
    "id": "cXTusBqZLdrX"
   },
   "outputs": [],
   "source": [
    "cb_config = {\n",
    "    \"model\": dict(),\n",
    "    \"vectorizer\":{\n",
    "        \"binary\": dict( # simple binary token encoder\n",
    "            min_df = 5,\n",
    "            max_df = 0.9,\n",
    "            strip_accents='unicode',\n",
    "            stop_words = 'english',\n",
    "            analyzer = 'word',\n",
    "            binary = True,\n",
    "        ),\n",
    "        \"tfidf\": dict( # TfIDF Vectorizer\n",
    "            min_df = 5,\n",
    "            max_df = 0.9,\n",
    "            strip_accents='unicode',\n",
    "            stop_words = 'english',\n",
    "            analyzer = 'word',\n",
    "            use_idf = True,\n",
    "            smooth_idf = True,\n",
    "            sublinear_tf = True,\n",
    "            binary = False,\n",
    "            norm=\"l2\",\n",
    "        ),\n",
    "    }\n",
    "}\n",
    "# we also define a general representation of our dataset\n",
    "anime_description = {\n",
    "    'feedback' : \"score\",\n",
    "    \"item_features\": \"tokens\",\n",
    "}"
   ]
  },
  {
   "cell_type": "code",
   "execution_count": 40,
   "metadata": {
    "id": "AbIQVutcLdpB"
   },
   "outputs": [],
   "source": [
    "reg_params = build_cb_model(cb_config, anime_train, anime_description)\n",
    "reg_scores = cb_model_scoring(reg_params, anime_train, anime_description)\n",
    "reg_scores_test_anime = cb_model_scoring(reg_params, anime_test_animes, anime_description)"
   ]
  },
  {
   "cell_type": "code",
   "execution_count": 41,
   "metadata": {},
   "outputs": [
    {
     "data": {
      "text/html": [
       "<style>#sk-container-id-1 {color: black;}#sk-container-id-1 pre{padding: 0;}#sk-container-id-1 div.sk-toggleable {background-color: white;}#sk-container-id-1 label.sk-toggleable__label {cursor: pointer;display: block;width: 100%;margin-bottom: 0;padding: 0.3em;box-sizing: border-box;text-align: center;}#sk-container-id-1 label.sk-toggleable__label-arrow:before {content: \"▸\";float: left;margin-right: 0.25em;color: #696969;}#sk-container-id-1 label.sk-toggleable__label-arrow:hover:before {color: black;}#sk-container-id-1 div.sk-estimator:hover label.sk-toggleable__label-arrow:before {color: black;}#sk-container-id-1 div.sk-toggleable__content {max-height: 0;max-width: 0;overflow: hidden;text-align: left;background-color: #f0f8ff;}#sk-container-id-1 div.sk-toggleable__content pre {margin: 0.2em;color: black;border-radius: 0.25em;background-color: #f0f8ff;}#sk-container-id-1 input.sk-toggleable__control:checked~div.sk-toggleable__content {max-height: 200px;max-width: 100%;overflow: auto;}#sk-container-id-1 input.sk-toggleable__control:checked~label.sk-toggleable__label-arrow:before {content: \"▾\";}#sk-container-id-1 div.sk-estimator input.sk-toggleable__control:checked~label.sk-toggleable__label {background-color: #d4ebff;}#sk-container-id-1 div.sk-label input.sk-toggleable__control:checked~label.sk-toggleable__label {background-color: #d4ebff;}#sk-container-id-1 input.sk-hidden--visually {border: 0;clip: rect(1px 1px 1px 1px);clip: rect(1px, 1px, 1px, 1px);height: 1px;margin: -1px;overflow: hidden;padding: 0;position: absolute;width: 1px;}#sk-container-id-1 div.sk-estimator {font-family: monospace;background-color: #f0f8ff;border: 1px dotted black;border-radius: 0.25em;box-sizing: border-box;margin-bottom: 0.5em;}#sk-container-id-1 div.sk-estimator:hover {background-color: #d4ebff;}#sk-container-id-1 div.sk-parallel-item::after {content: \"\";width: 100%;border-bottom: 1px solid gray;flex-grow: 1;}#sk-container-id-1 div.sk-label:hover label.sk-toggleable__label {background-color: #d4ebff;}#sk-container-id-1 div.sk-serial::before {content: \"\";position: absolute;border-left: 1px solid gray;box-sizing: border-box;top: 0;bottom: 0;left: 50%;z-index: 0;}#sk-container-id-1 div.sk-serial {display: flex;flex-direction: column;align-items: center;background-color: white;padding-right: 0.2em;padding-left: 0.2em;position: relative;}#sk-container-id-1 div.sk-item {position: relative;z-index: 1;}#sk-container-id-1 div.sk-parallel {display: flex;align-items: stretch;justify-content: center;background-color: white;position: relative;}#sk-container-id-1 div.sk-item::before, #sk-container-id-1 div.sk-parallel-item::before {content: \"\";position: absolute;border-left: 1px solid gray;box-sizing: border-box;top: 0;bottom: 0;left: 50%;z-index: -1;}#sk-container-id-1 div.sk-parallel-item {display: flex;flex-direction: column;z-index: 1;position: relative;background-color: white;}#sk-container-id-1 div.sk-parallel-item:first-child::after {align-self: flex-end;width: 50%;}#sk-container-id-1 div.sk-parallel-item:last-child::after {align-self: flex-start;width: 50%;}#sk-container-id-1 div.sk-parallel-item:only-child::after {width: 0;}#sk-container-id-1 div.sk-dashed-wrapped {border: 1px dashed gray;margin: 0 0.4em 0.5em 0.4em;box-sizing: border-box;padding-bottom: 0.4em;background-color: white;}#sk-container-id-1 div.sk-label label {font-family: monospace;font-weight: bold;display: inline-block;line-height: 1.2em;}#sk-container-id-1 div.sk-label-container {text-align: center;}#sk-container-id-1 div.sk-container {/* jupyter's `normalize.less` sets `[hidden] { display: none; }` but bootstrap.min.css set `[hidden] { display: none !important; }` so we also need the `!important` here to be able to override the default hidden behavior on the sphinx rendered scikit-learn.org. See: https://github.com/scikit-learn/scikit-learn/issues/21755 */display: inline-block !important;position: relative;}#sk-container-id-1 div.sk-text-repr-fallback {display: none;}</style><div id=\"sk-container-id-1\" class=\"sk-top-container\"><div class=\"sk-text-repr-fallback\"><pre>CountVectorizer(binary=True, max_df=0.9, min_df=5, stop_words=&#x27;english&#x27;,\n",
       "                strip_accents=&#x27;unicode&#x27;)</pre><b>In a Jupyter environment, please rerun this cell to show the HTML representation or trust the notebook. <br />On GitHub, the HTML representation is unable to render, please try loading this page with nbviewer.org.</b></div><div class=\"sk-container\" hidden><div class=\"sk-item\"><div class=\"sk-estimator sk-toggleable\"><input class=\"sk-toggleable__control sk-hidden--visually\" id=\"sk-estimator-id-1\" type=\"checkbox\" checked><label for=\"sk-estimator-id-1\" class=\"sk-toggleable__label sk-toggleable__label-arrow\">CountVectorizer</label><div class=\"sk-toggleable__content\"><pre>CountVectorizer(binary=True, max_df=0.9, min_df=5, stop_words=&#x27;english&#x27;,\n",
       "                strip_accents=&#x27;unicode&#x27;)</pre></div></div></div></div></div>"
      ],
      "text/plain": [
       "CountVectorizer(binary=True, max_df=0.9, min_df=5, stop_words='english',\n",
       "                strip_accents='unicode')"
      ]
     },
     "execution_count": 41,
     "metadata": {},
     "output_type": "execute_result"
    }
   ],
   "source": [
    "reg_params[1]"
   ]
  },
  {
   "cell_type": "code",
   "execution_count": 42,
   "metadata": {},
   "outputs": [
    {
     "data": {
      "text/html": [
       "<style>#sk-container-id-2 {color: black;}#sk-container-id-2 pre{padding: 0;}#sk-container-id-2 div.sk-toggleable {background-color: white;}#sk-container-id-2 label.sk-toggleable__label {cursor: pointer;display: block;width: 100%;margin-bottom: 0;padding: 0.3em;box-sizing: border-box;text-align: center;}#sk-container-id-2 label.sk-toggleable__label-arrow:before {content: \"▸\";float: left;margin-right: 0.25em;color: #696969;}#sk-container-id-2 label.sk-toggleable__label-arrow:hover:before {color: black;}#sk-container-id-2 div.sk-estimator:hover label.sk-toggleable__label-arrow:before {color: black;}#sk-container-id-2 div.sk-toggleable__content {max-height: 0;max-width: 0;overflow: hidden;text-align: left;background-color: #f0f8ff;}#sk-container-id-2 div.sk-toggleable__content pre {margin: 0.2em;color: black;border-radius: 0.25em;background-color: #f0f8ff;}#sk-container-id-2 input.sk-toggleable__control:checked~div.sk-toggleable__content {max-height: 200px;max-width: 100%;overflow: auto;}#sk-container-id-2 input.sk-toggleable__control:checked~label.sk-toggleable__label-arrow:before {content: \"▾\";}#sk-container-id-2 div.sk-estimator input.sk-toggleable__control:checked~label.sk-toggleable__label {background-color: #d4ebff;}#sk-container-id-2 div.sk-label input.sk-toggleable__control:checked~label.sk-toggleable__label {background-color: #d4ebff;}#sk-container-id-2 input.sk-hidden--visually {border: 0;clip: rect(1px 1px 1px 1px);clip: rect(1px, 1px, 1px, 1px);height: 1px;margin: -1px;overflow: hidden;padding: 0;position: absolute;width: 1px;}#sk-container-id-2 div.sk-estimator {font-family: monospace;background-color: #f0f8ff;border: 1px dotted black;border-radius: 0.25em;box-sizing: border-box;margin-bottom: 0.5em;}#sk-container-id-2 div.sk-estimator:hover {background-color: #d4ebff;}#sk-container-id-2 div.sk-parallel-item::after {content: \"\";width: 100%;border-bottom: 1px solid gray;flex-grow: 1;}#sk-container-id-2 div.sk-label:hover label.sk-toggleable__label {background-color: #d4ebff;}#sk-container-id-2 div.sk-serial::before {content: \"\";position: absolute;border-left: 1px solid gray;box-sizing: border-box;top: 0;bottom: 0;left: 50%;z-index: 0;}#sk-container-id-2 div.sk-serial {display: flex;flex-direction: column;align-items: center;background-color: white;padding-right: 0.2em;padding-left: 0.2em;position: relative;}#sk-container-id-2 div.sk-item {position: relative;z-index: 1;}#sk-container-id-2 div.sk-parallel {display: flex;align-items: stretch;justify-content: center;background-color: white;position: relative;}#sk-container-id-2 div.sk-item::before, #sk-container-id-2 div.sk-parallel-item::before {content: \"\";position: absolute;border-left: 1px solid gray;box-sizing: border-box;top: 0;bottom: 0;left: 50%;z-index: -1;}#sk-container-id-2 div.sk-parallel-item {display: flex;flex-direction: column;z-index: 1;position: relative;background-color: white;}#sk-container-id-2 div.sk-parallel-item:first-child::after {align-self: flex-end;width: 50%;}#sk-container-id-2 div.sk-parallel-item:last-child::after {align-self: flex-start;width: 50%;}#sk-container-id-2 div.sk-parallel-item:only-child::after {width: 0;}#sk-container-id-2 div.sk-dashed-wrapped {border: 1px dashed gray;margin: 0 0.4em 0.5em 0.4em;box-sizing: border-box;padding-bottom: 0.4em;background-color: white;}#sk-container-id-2 div.sk-label label {font-family: monospace;font-weight: bold;display: inline-block;line-height: 1.2em;}#sk-container-id-2 div.sk-label-container {text-align: center;}#sk-container-id-2 div.sk-container {/* jupyter's `normalize.less` sets `[hidden] { display: none; }` but bootstrap.min.css set `[hidden] { display: none !important; }` so we also need the `!important` here to be able to override the default hidden behavior on the sphinx rendered scikit-learn.org. See: https://github.com/scikit-learn/scikit-learn/issues/21755 */display: inline-block !important;position: relative;}#sk-container-id-2 div.sk-text-repr-fallback {display: none;}</style><div id=\"sk-container-id-2\" class=\"sk-top-container\"><div class=\"sk-text-repr-fallback\"><pre>LinearRegression()</pre><b>In a Jupyter environment, please rerun this cell to show the HTML representation or trust the notebook. <br />On GitHub, the HTML representation is unable to render, please try loading this page with nbviewer.org.</b></div><div class=\"sk-container\" hidden><div class=\"sk-item\"><div class=\"sk-estimator sk-toggleable\"><input class=\"sk-toggleable__control sk-hidden--visually\" id=\"sk-estimator-id-2\" type=\"checkbox\" checked><label for=\"sk-estimator-id-2\" class=\"sk-toggleable__label sk-toggleable__label-arrow\">LinearRegression</label><div class=\"sk-toggleable__content\"><pre>LinearRegression()</pre></div></div></div></div></div>"
      ],
      "text/plain": [
       "LinearRegression()"
      ]
     },
     "execution_count": 42,
     "metadata": {},
     "output_type": "execute_result"
    }
   ],
   "source": [
    "reg_params[0]"
   ]
  },
  {
   "cell_type": "code",
   "execution_count": 43,
   "metadata": {},
   "outputs": [
    {
     "data": {
      "text/plain": [
       "(10571, 13791)"
      ]
     },
     "execution_count": 43,
     "metadata": {},
     "output_type": "execute_result"
    }
   ],
   "source": [
    "len(reg_params[1].vocabulary_), anime_train.shape[0]"
   ]
  },
  {
   "cell_type": "markdown",
   "metadata": {},
   "source": [
    "Any conserns?"
   ]
  },
  {
   "cell_type": "code",
   "execution_count": 44,
   "metadata": {},
   "outputs": [
    {
     "data": {
      "text/plain": [
       "(10571, 90.98839087490009)"
      ]
     },
     "execution_count": 44,
     "metadata": {},
     "output_type": "execute_result"
    }
   ],
   "source": [
    "len(reg_params[0].coef_), np.linalg.norm(reg_params[0].coef_)"
   ]
  },
  {
   "cell_type": "code",
   "execution_count": 45,
   "metadata": {},
   "outputs": [
    {
     "data": {
      "text/plain": [
       "5.795872748629343"
      ]
     },
     "execution_count": 45,
     "metadata": {},
     "output_type": "execute_result"
    }
   ],
   "source": [
    "reg_params[0].intercept_"
   ]
  },
  {
   "cell_type": "markdown",
   "metadata": {},
   "source": [
    "#### TO DO: build a CountVectorizer + LinearRegression model without given functions, fit it with `anime_train` and get the scores for `anime_test_animes`."
   ]
  },
  {
   "cell_type": "code",
   "execution_count": null,
   "metadata": {},
   "outputs": [],
   "source": [
    "# YOUR CODE HERE"
   ]
  },
  {
   "cell_type": "code",
   "execution_count": null,
   "metadata": {},
   "outputs": [],
   "source": []
  },
  {
   "cell_type": "code",
   "execution_count": null,
   "metadata": {},
   "outputs": [],
   "source": []
  },
  {
   "cell_type": "markdown",
   "metadata": {},
   "source": [
    "## Simple evaluation of our model\n",
    "\n",
    "Here we compare predicted scores to the ground truth using MAE and RMSE metrics.\n",
    "\n"
   ]
  },
  {
   "cell_type": "code",
   "execution_count": 84,
   "metadata": {},
   "outputs": [],
   "source": [
    "def calc_rmse_mae(predicted_scores, gt_scores):\n",
    "    rmse = np.sqrt(np.mean((predicted_scores - gt_scores)**2))\n",
    "    mae = np.mean(np.abs(predicted_scores - gt_scores))\n",
    "    print(f'{rmse=:.4f}, {mae=:.4f}')"
   ]
  },
  {
   "cell_type": "markdown",
   "metadata": {},
   "source": [
    "#### train scores"
   ]
  },
  {
   "cell_type": "code",
   "execution_count": 85,
   "metadata": {},
   "outputs": [
    {
     "name": "stdout",
     "output_type": "stream",
     "text": [
      "rmse=0.3107, mae=0.2143\n"
     ]
    }
   ],
   "source": [
    "calc_rmse_mae(anime_train['score'].values, reg_scores)"
   ]
  },
  {
   "cell_type": "markdown",
   "metadata": {},
   "source": [
    "#### test scores"
   ]
  },
  {
   "cell_type": "code",
   "execution_count": 86,
   "metadata": {},
   "outputs": [
    {
     "name": "stdout",
     "output_type": "stream",
     "text": [
      "rmse=3.5310, mae=2.6825\n"
     ]
    }
   ],
   "source": [
    "calc_rmse_mae(anime_test_animes['score'].values, reg_scores_test_anime)"
   ]
  },
  {
   "cell_type": "markdown",
   "metadata": {
    "id": "om74aDKBeGMN"
   },
   "source": [
    "## A little bit of analysis"
   ]
  },
  {
   "cell_type": "markdown",
   "metadata": {},
   "source": [
    "Let's look at the significant features of our model"
   ]
  },
  {
   "cell_type": "code",
   "execution_count": 87,
   "metadata": {
    "id": "0f8tIiJnLdmL"
   },
   "outputs": [],
   "source": [
    "def top_idx(a, topk):\n",
    "    # idx of top-k with the biggest scores\n",
    "    parted = np.argpartition(a, -topk)[-topk:]\n",
    "    # idx of top-k sorted descending by relevance \n",
    "    return parted[np.argsort(-a[parted])]"
   ]
  },
  {
   "cell_type": "code",
   "execution_count": 88,
   "metadata": {
    "id": "PFoHIbxRNvi7"
   },
   "outputs": [],
   "source": [
    "def significant_features(params, topn=10, reverse=False):\n",
    "    reg, word_vectorizer = params\n",
    "    features_weights = reg.coef_.squeeze()\n",
    "    if reverse:\n",
    "        features_weights = -features_weights\n",
    "    top_features_idx = top_idx(features_weights, topn)\n",
    "    if isinstance(word_vectorizer, Pipeline):\n",
    "        word_vectorizer = word_vectorizer[0]\n",
    "    try: # handle API changes in different versions of sklearn\n",
    "        features = word_vectorizer.get_feature_names()\n",
    "    except AttributeError:\n",
    "        features = word_vectorizer.get_feature_names_out()\n",
    "\n",
    "    feature_scores = pd.DataFrame(\n",
    "        zip(np.array(features)[top_features_idx], np.array(features_weights)[top_features_idx]),\n",
    "        columns = ['feature', 'weight']\n",
    "    )\n",
    "    return feature_scores"
   ]
  },
  {
   "cell_type": "markdown",
   "metadata": {},
   "source": [
    "### Linear regression feature importance"
   ]
  },
  {
   "cell_type": "code",
   "execution_count": 89,
   "metadata": {
    "colab": {
     "base_uri": "https://localhost:8080/",
     "height": 363
    },
    "id": "xps3UsRELdbn",
    "outputId": "2f7dc9b0-0f10-42f2-9d07-dc2731b6ae86"
   },
   "outputs": [
    {
     "data": {
      "text/html": [
       "<div>\n",
       "<style scoped>\n",
       "    .dataframe tbody tr th:only-of-type {\n",
       "        vertical-align: middle;\n",
       "    }\n",
       "\n",
       "    .dataframe tbody tr th {\n",
       "        vertical-align: top;\n",
       "    }\n",
       "\n",
       "    .dataframe thead th {\n",
       "        text-align: right;\n",
       "    }\n",
       "</style>\n",
       "<table border=\"1\" class=\"dataframe\">\n",
       "  <thead>\n",
       "    <tr style=\"text-align: right;\">\n",
       "      <th></th>\n",
       "      <th>feature</th>\n",
       "      <th>weight</th>\n",
       "    </tr>\n",
       "  </thead>\n",
       "  <tbody>\n",
       "    <tr>\n",
       "      <th>0</th>\n",
       "      <td>ryougi</td>\n",
       "      <td>10.479061</td>\n",
       "    </tr>\n",
       "    <tr>\n",
       "      <th>1</th>\n",
       "      <td>uncanny</td>\n",
       "      <td>5.399961</td>\n",
       "    </tr>\n",
       "    <tr>\n",
       "      <th>2</th>\n",
       "      <td>gunsou</td>\n",
       "      <td>5.296858</td>\n",
       "    </tr>\n",
       "    <tr>\n",
       "      <th>3</th>\n",
       "      <td>reinhard</td>\n",
       "      <td>5.115094</td>\n",
       "    </tr>\n",
       "    <tr>\n",
       "      <th>4</th>\n",
       "      <td>regime</td>\n",
       "      <td>5.088117</td>\n",
       "    </tr>\n",
       "    <tr>\n",
       "      <th>5</th>\n",
       "      <td>literal</td>\n",
       "      <td>4.789931</td>\n",
       "    </tr>\n",
       "    <tr>\n",
       "      <th>6</th>\n",
       "      <td>html</td>\n",
       "      <td>4.770608</td>\n",
       "    </tr>\n",
       "    <tr>\n",
       "      <th>7</th>\n",
       "      <td>endlessly</td>\n",
       "      <td>4.742725</td>\n",
       "    </tr>\n",
       "    <tr>\n",
       "      <th>8</th>\n",
       "      <td>penelope</td>\n",
       "      <td>4.661494</td>\n",
       "    </tr>\n",
       "    <tr>\n",
       "      <th>9</th>\n",
       "      <td>manipulated</td>\n",
       "      <td>4.284525</td>\n",
       "    </tr>\n",
       "  </tbody>\n",
       "</table>\n",
       "</div>"
      ],
      "text/plain": [
       "       feature     weight\n",
       "0       ryougi  10.479061\n",
       "1      uncanny   5.399961\n",
       "2       gunsou   5.296858\n",
       "3     reinhard   5.115094\n",
       "4       regime   5.088117\n",
       "5      literal   4.789931\n",
       "6         html   4.770608\n",
       "7    endlessly   4.742725\n",
       "8     penelope   4.661494\n",
       "9  manipulated   4.284525"
      ]
     },
     "execution_count": 89,
     "metadata": {},
     "output_type": "execute_result"
    }
   ],
   "source": [
    "# features with the most positive impact\n",
    "significant_features(reg_params)"
   ]
  },
  {
   "cell_type": "code",
   "execution_count": 90,
   "metadata": {
    "colab": {
     "base_uri": "https://localhost:8080/",
     "height": 363
    },
    "id": "HoTaW2hwN7Jq",
    "outputId": "af349aed-c6c3-49f2-d5f2-7f83147ba312"
   },
   "outputs": [
    {
     "data": {
      "text/html": [
       "<div>\n",
       "<style scoped>\n",
       "    .dataframe tbody tr th:only-of-type {\n",
       "        vertical-align: middle;\n",
       "    }\n",
       "\n",
       "    .dataframe tbody tr th {\n",
       "        vertical-align: top;\n",
       "    }\n",
       "\n",
       "    .dataframe thead th {\n",
       "        text-align: right;\n",
       "    }\n",
       "</style>\n",
       "<table border=\"1\" class=\"dataframe\">\n",
       "  <thead>\n",
       "    <tr style=\"text-align: right;\">\n",
       "      <th></th>\n",
       "      <th>feature</th>\n",
       "      <th>weight</th>\n",
       "    </tr>\n",
       "  </thead>\n",
       "  <tbody>\n",
       "    <tr>\n",
       "      <th>0</th>\n",
       "      <td>kokutou</td>\n",
       "      <td>6.699369</td>\n",
       "    </tr>\n",
       "    <tr>\n",
       "      <th>1</th>\n",
       "      <td>musel</td>\n",
       "      <td>6.410291</td>\n",
       "    </tr>\n",
       "    <tr>\n",
       "      <th>2</th>\n",
       "      <td>furinkan</td>\n",
       "      <td>5.277603</td>\n",
       "    </tr>\n",
       "    <tr>\n",
       "      <th>3</th>\n",
       "      <td>overwhelm</td>\n",
       "      <td>5.147471</td>\n",
       "    </tr>\n",
       "    <tr>\n",
       "      <th>4</th>\n",
       "      <td>mikiya</td>\n",
       "      <td>5.046363</td>\n",
       "    </tr>\n",
       "    <tr>\n",
       "      <th>5</th>\n",
       "      <td>intensified</td>\n",
       "      <td>4.835792</td>\n",
       "    </tr>\n",
       "    <tr>\n",
       "      <th>6</th>\n",
       "      <td>keroro</td>\n",
       "      <td>4.699940</td>\n",
       "    </tr>\n",
       "    <tr>\n",
       "      <th>7</th>\n",
       "      <td>inhuman</td>\n",
       "      <td>4.655005</td>\n",
       "    </tr>\n",
       "    <tr>\n",
       "      <th>8</th>\n",
       "      <td>ukkari</td>\n",
       "      <td>4.551105</td>\n",
       "    </tr>\n",
       "    <tr>\n",
       "      <th>9</th>\n",
       "      <td>aozaki</td>\n",
       "      <td>4.520563</td>\n",
       "    </tr>\n",
       "  </tbody>\n",
       "</table>\n",
       "</div>"
      ],
      "text/plain": [
       "       feature    weight\n",
       "0      kokutou  6.699369\n",
       "1        musel  6.410291\n",
       "2     furinkan  5.277603\n",
       "3    overwhelm  5.147471\n",
       "4       mikiya  5.046363\n",
       "5  intensified  4.835792\n",
       "6       keroro  4.699940\n",
       "7      inhuman  4.655005\n",
       "8       ukkari  4.551105\n",
       "9       aozaki  4.520563"
      ]
     },
     "execution_count": 90,
     "metadata": {},
     "output_type": "execute_result"
    }
   ],
   "source": [
    "# features with the most negative impact\n",
    "significant_features(reg_params, reverse=True)"
   ]
  },
  {
   "cell_type": "code",
   "execution_count": 91,
   "metadata": {},
   "outputs": [],
   "source": [
    "the_anime_name = \"Kara no Kyoukai\"\n",
    "the_anime_series = anime_data[anime_data['title'].str.contains(the_anime_name)].anime_id.unique()\n",
    "the_anime_reviews = review_data[(review_data['anime_id'].isin(the_anime_series))].copy()\n",
    "the_anime_reviews.loc[:, 'text'] = the_anime_reviews['text'].str.lower()\n",
    "ryougi = the_anime_reviews[the_anime_reviews['text'].str.contains(\"ryougi\")].shape[0]\n",
    "kokutou = the_anime_reviews[the_anime_reviews['text'].str.contains(\"kokutou\")].shape[0]\n",
    "both = the_anime_reviews[(the_anime_reviews['text'].str.contains(\"kokutou\")) \n",
    "       & (the_anime_reviews['text'].str.contains(\"ryougi\"))].shape[0]"
   ]
  },
  {
   "cell_type": "code",
   "execution_count": 92,
   "metadata": {},
   "outputs": [
    {
     "name": "stdout",
     "output_type": "stream",
     "text": [
      "Num reviews for Kara no Kyoukai with ryougi = 28 with kokutou = 24, with both = 13\n"
     ]
    }
   ],
   "source": [
    "print(f\"Num reviews for {the_anime_name} with {ryougi = } with {kokutou = }, with {both = }\")"
   ]
  },
  {
   "cell_type": "markdown",
   "metadata": {},
   "source": [
    "Also gunsou (2-nd positive) keroro (6-th negative) is a name of an anime.\n",
    "\n",
    "#### What could be the reason? "
   ]
  },
  {
   "cell_type": "markdown",
   "metadata": {},
   "source": [
    "## Ridge regression with the binary text vectorization"
   ]
  },
  {
   "cell_type": "code",
   "execution_count": 93,
   "metadata": {
    "id": "cXTusBqZLdrX"
   },
   "outputs": [],
   "source": [
    "cb_config[\"model\"] = {\"alpha\": 100}"
   ]
  },
  {
   "cell_type": "code",
   "execution_count": 94,
   "metadata": {
    "id": "AbIQVutcLdpB"
   },
   "outputs": [],
   "source": [
    "ridge_reg_params = build_cb_model(cb_config, anime_train, anime_description)\n",
    "ridge_reg_scores = cb_model_scoring(ridge_reg_params, anime_train, anime_description)\n",
    "ridge_reg_scores_test_anime = cb_model_scoring(ridge_reg_params, anime_test_animes, anime_description)"
   ]
  },
  {
   "cell_type": "code",
   "execution_count": 95,
   "metadata": {},
   "outputs": [
    {
     "data": {
      "text/html": [
       "<style>#sk-container-id-5 {color: black;}#sk-container-id-5 pre{padding: 0;}#sk-container-id-5 div.sk-toggleable {background-color: white;}#sk-container-id-5 label.sk-toggleable__label {cursor: pointer;display: block;width: 100%;margin-bottom: 0;padding: 0.3em;box-sizing: border-box;text-align: center;}#sk-container-id-5 label.sk-toggleable__label-arrow:before {content: \"▸\";float: left;margin-right: 0.25em;color: #696969;}#sk-container-id-5 label.sk-toggleable__label-arrow:hover:before {color: black;}#sk-container-id-5 div.sk-estimator:hover label.sk-toggleable__label-arrow:before {color: black;}#sk-container-id-5 div.sk-toggleable__content {max-height: 0;max-width: 0;overflow: hidden;text-align: left;background-color: #f0f8ff;}#sk-container-id-5 div.sk-toggleable__content pre {margin: 0.2em;color: black;border-radius: 0.25em;background-color: #f0f8ff;}#sk-container-id-5 input.sk-toggleable__control:checked~div.sk-toggleable__content {max-height: 200px;max-width: 100%;overflow: auto;}#sk-container-id-5 input.sk-toggleable__control:checked~label.sk-toggleable__label-arrow:before {content: \"▾\";}#sk-container-id-5 div.sk-estimator input.sk-toggleable__control:checked~label.sk-toggleable__label {background-color: #d4ebff;}#sk-container-id-5 div.sk-label input.sk-toggleable__control:checked~label.sk-toggleable__label {background-color: #d4ebff;}#sk-container-id-5 input.sk-hidden--visually {border: 0;clip: rect(1px 1px 1px 1px);clip: rect(1px, 1px, 1px, 1px);height: 1px;margin: -1px;overflow: hidden;padding: 0;position: absolute;width: 1px;}#sk-container-id-5 div.sk-estimator {font-family: monospace;background-color: #f0f8ff;border: 1px dotted black;border-radius: 0.25em;box-sizing: border-box;margin-bottom: 0.5em;}#sk-container-id-5 div.sk-estimator:hover {background-color: #d4ebff;}#sk-container-id-5 div.sk-parallel-item::after {content: \"\";width: 100%;border-bottom: 1px solid gray;flex-grow: 1;}#sk-container-id-5 div.sk-label:hover label.sk-toggleable__label {background-color: #d4ebff;}#sk-container-id-5 div.sk-serial::before {content: \"\";position: absolute;border-left: 1px solid gray;box-sizing: border-box;top: 0;bottom: 0;left: 50%;z-index: 0;}#sk-container-id-5 div.sk-serial {display: flex;flex-direction: column;align-items: center;background-color: white;padding-right: 0.2em;padding-left: 0.2em;position: relative;}#sk-container-id-5 div.sk-item {position: relative;z-index: 1;}#sk-container-id-5 div.sk-parallel {display: flex;align-items: stretch;justify-content: center;background-color: white;position: relative;}#sk-container-id-5 div.sk-item::before, #sk-container-id-5 div.sk-parallel-item::before {content: \"\";position: absolute;border-left: 1px solid gray;box-sizing: border-box;top: 0;bottom: 0;left: 50%;z-index: -1;}#sk-container-id-5 div.sk-parallel-item {display: flex;flex-direction: column;z-index: 1;position: relative;background-color: white;}#sk-container-id-5 div.sk-parallel-item:first-child::after {align-self: flex-end;width: 50%;}#sk-container-id-5 div.sk-parallel-item:last-child::after {align-self: flex-start;width: 50%;}#sk-container-id-5 div.sk-parallel-item:only-child::after {width: 0;}#sk-container-id-5 div.sk-dashed-wrapped {border: 1px dashed gray;margin: 0 0.4em 0.5em 0.4em;box-sizing: border-box;padding-bottom: 0.4em;background-color: white;}#sk-container-id-5 div.sk-label label {font-family: monospace;font-weight: bold;display: inline-block;line-height: 1.2em;}#sk-container-id-5 div.sk-label-container {text-align: center;}#sk-container-id-5 div.sk-container {/* jupyter's `normalize.less` sets `[hidden] { display: none; }` but bootstrap.min.css set `[hidden] { display: none !important; }` so we also need the `!important` here to be able to override the default hidden behavior on the sphinx rendered scikit-learn.org. See: https://github.com/scikit-learn/scikit-learn/issues/21755 */display: inline-block !important;position: relative;}#sk-container-id-5 div.sk-text-repr-fallback {display: none;}</style><div id=\"sk-container-id-5\" class=\"sk-top-container\"><div class=\"sk-text-repr-fallback\"><pre>CountVectorizer(binary=True, max_df=0.9, min_df=5, stop_words=&#x27;english&#x27;,\n",
       "                strip_accents=&#x27;unicode&#x27;)</pre><b>In a Jupyter environment, please rerun this cell to show the HTML representation or trust the notebook. <br />On GitHub, the HTML representation is unable to render, please try loading this page with nbviewer.org.</b></div><div class=\"sk-container\" hidden><div class=\"sk-item\"><div class=\"sk-estimator sk-toggleable\"><input class=\"sk-toggleable__control sk-hidden--visually\" id=\"sk-estimator-id-5\" type=\"checkbox\" checked><label for=\"sk-estimator-id-5\" class=\"sk-toggleable__label sk-toggleable__label-arrow\">CountVectorizer</label><div class=\"sk-toggleable__content\"><pre>CountVectorizer(binary=True, max_df=0.9, min_df=5, stop_words=&#x27;english&#x27;,\n",
       "                strip_accents=&#x27;unicode&#x27;)</pre></div></div></div></div></div>"
      ],
      "text/plain": [
       "CountVectorizer(binary=True, max_df=0.9, min_df=5, stop_words='english',\n",
       "                strip_accents='unicode')"
      ]
     },
     "execution_count": 95,
     "metadata": {},
     "output_type": "execute_result"
    }
   ],
   "source": [
    "ridge_reg_params[1]"
   ]
  },
  {
   "cell_type": "code",
   "execution_count": 96,
   "metadata": {},
   "outputs": [
    {
     "data": {
      "text/html": [
       "<style>#sk-container-id-6 {color: black;}#sk-container-id-6 pre{padding: 0;}#sk-container-id-6 div.sk-toggleable {background-color: white;}#sk-container-id-6 label.sk-toggleable__label {cursor: pointer;display: block;width: 100%;margin-bottom: 0;padding: 0.3em;box-sizing: border-box;text-align: center;}#sk-container-id-6 label.sk-toggleable__label-arrow:before {content: \"▸\";float: left;margin-right: 0.25em;color: #696969;}#sk-container-id-6 label.sk-toggleable__label-arrow:hover:before {color: black;}#sk-container-id-6 div.sk-estimator:hover label.sk-toggleable__label-arrow:before {color: black;}#sk-container-id-6 div.sk-toggleable__content {max-height: 0;max-width: 0;overflow: hidden;text-align: left;background-color: #f0f8ff;}#sk-container-id-6 div.sk-toggleable__content pre {margin: 0.2em;color: black;border-radius: 0.25em;background-color: #f0f8ff;}#sk-container-id-6 input.sk-toggleable__control:checked~div.sk-toggleable__content {max-height: 200px;max-width: 100%;overflow: auto;}#sk-container-id-6 input.sk-toggleable__control:checked~label.sk-toggleable__label-arrow:before {content: \"▾\";}#sk-container-id-6 div.sk-estimator input.sk-toggleable__control:checked~label.sk-toggleable__label {background-color: #d4ebff;}#sk-container-id-6 div.sk-label input.sk-toggleable__control:checked~label.sk-toggleable__label {background-color: #d4ebff;}#sk-container-id-6 input.sk-hidden--visually {border: 0;clip: rect(1px 1px 1px 1px);clip: rect(1px, 1px, 1px, 1px);height: 1px;margin: -1px;overflow: hidden;padding: 0;position: absolute;width: 1px;}#sk-container-id-6 div.sk-estimator {font-family: monospace;background-color: #f0f8ff;border: 1px dotted black;border-radius: 0.25em;box-sizing: border-box;margin-bottom: 0.5em;}#sk-container-id-6 div.sk-estimator:hover {background-color: #d4ebff;}#sk-container-id-6 div.sk-parallel-item::after {content: \"\";width: 100%;border-bottom: 1px solid gray;flex-grow: 1;}#sk-container-id-6 div.sk-label:hover label.sk-toggleable__label {background-color: #d4ebff;}#sk-container-id-6 div.sk-serial::before {content: \"\";position: absolute;border-left: 1px solid gray;box-sizing: border-box;top: 0;bottom: 0;left: 50%;z-index: 0;}#sk-container-id-6 div.sk-serial {display: flex;flex-direction: column;align-items: center;background-color: white;padding-right: 0.2em;padding-left: 0.2em;position: relative;}#sk-container-id-6 div.sk-item {position: relative;z-index: 1;}#sk-container-id-6 div.sk-parallel {display: flex;align-items: stretch;justify-content: center;background-color: white;position: relative;}#sk-container-id-6 div.sk-item::before, #sk-container-id-6 div.sk-parallel-item::before {content: \"\";position: absolute;border-left: 1px solid gray;box-sizing: border-box;top: 0;bottom: 0;left: 50%;z-index: -1;}#sk-container-id-6 div.sk-parallel-item {display: flex;flex-direction: column;z-index: 1;position: relative;background-color: white;}#sk-container-id-6 div.sk-parallel-item:first-child::after {align-self: flex-end;width: 50%;}#sk-container-id-6 div.sk-parallel-item:last-child::after {align-self: flex-start;width: 50%;}#sk-container-id-6 div.sk-parallel-item:only-child::after {width: 0;}#sk-container-id-6 div.sk-dashed-wrapped {border: 1px dashed gray;margin: 0 0.4em 0.5em 0.4em;box-sizing: border-box;padding-bottom: 0.4em;background-color: white;}#sk-container-id-6 div.sk-label label {font-family: monospace;font-weight: bold;display: inline-block;line-height: 1.2em;}#sk-container-id-6 div.sk-label-container {text-align: center;}#sk-container-id-6 div.sk-container {/* jupyter's `normalize.less` sets `[hidden] { display: none; }` but bootstrap.min.css set `[hidden] { display: none !important; }` so we also need the `!important` here to be able to override the default hidden behavior on the sphinx rendered scikit-learn.org. See: https://github.com/scikit-learn/scikit-learn/issues/21755 */display: inline-block !important;position: relative;}#sk-container-id-6 div.sk-text-repr-fallback {display: none;}</style><div id=\"sk-container-id-6\" class=\"sk-top-container\"><div class=\"sk-text-repr-fallback\"><pre>Ridge(alpha=100)</pre><b>In a Jupyter environment, please rerun this cell to show the HTML representation or trust the notebook. <br />On GitHub, the HTML representation is unable to render, please try loading this page with nbviewer.org.</b></div><div class=\"sk-container\" hidden><div class=\"sk-item\"><div class=\"sk-estimator sk-toggleable\"><input class=\"sk-toggleable__control sk-hidden--visually\" id=\"sk-estimator-id-6\" type=\"checkbox\" checked><label for=\"sk-estimator-id-6\" class=\"sk-toggleable__label sk-toggleable__label-arrow\">Ridge</label><div class=\"sk-toggleable__content\"><pre>Ridge(alpha=100)</pre></div></div></div></div></div>"
      ],
      "text/plain": [
       "Ridge(alpha=100)"
      ]
     },
     "execution_count": 96,
     "metadata": {},
     "output_type": "execute_result"
    }
   ],
   "source": [
    "ridge_reg_params[0]"
   ]
  },
  {
   "cell_type": "code",
   "execution_count": 97,
   "metadata": {},
   "outputs": [
    {
     "data": {
      "text/plain": [
       "2.900354550059406"
      ]
     },
     "execution_count": 97,
     "metadata": {},
     "output_type": "execute_result"
    }
   ],
   "source": [
    "np.linalg.norm(ridge_reg_params[0].coef_)"
   ]
  },
  {
   "cell_type": "code",
   "execution_count": 98,
   "metadata": {},
   "outputs": [
    {
     "data": {
      "text/plain": [
       "5.747807261296664"
      ]
     },
     "execution_count": 98,
     "metadata": {},
     "output_type": "execute_result"
    }
   ],
   "source": [
    "ridge_reg_params[0].intercept_"
   ]
  },
  {
   "cell_type": "markdown",
   "metadata": {},
   "source": [
    "#### train scores"
   ]
  },
  {
   "cell_type": "code",
   "execution_count": 99,
   "metadata": {},
   "outputs": [
    {
     "name": "stdout",
     "output_type": "stream",
     "text": [
      "rmse=0.6332, mae=0.4866\n"
     ]
    }
   ],
   "source": [
    "calc_rmse_mae(anime_train['score'].values, ridge_reg_scores)"
   ]
  },
  {
   "cell_type": "markdown",
   "metadata": {},
   "source": [
    "#### test scores"
   ]
  },
  {
   "cell_type": "code",
   "execution_count": 100,
   "metadata": {},
   "outputs": [
    {
     "name": "stdout",
     "output_type": "stream",
     "text": [
      "rmse=0.8467, mae=0.6509\n"
     ]
    }
   ],
   "source": [
    "calc_rmse_mae(anime_test_animes['score'].values, ridge_reg_scores_test_anime)"
   ]
  },
  {
   "cell_type": "markdown",
   "metadata": {},
   "source": [
    "### Ridge regression feature importance"
   ]
  },
  {
   "cell_type": "code",
   "execution_count": 101,
   "metadata": {
    "colab": {
     "base_uri": "https://localhost:8080/",
     "height": 363
    },
    "id": "xps3UsRELdbn",
    "outputId": "2f7dc9b0-0f10-42f2-9d07-dc2731b6ae86"
   },
   "outputs": [
    {
     "data": {
      "text/html": [
       "<div>\n",
       "<style scoped>\n",
       "    .dataframe tbody tr th:only-of-type {\n",
       "        vertical-align: middle;\n",
       "    }\n",
       "\n",
       "    .dataframe tbody tr th {\n",
       "        vertical-align: top;\n",
       "    }\n",
       "\n",
       "    .dataframe thead th {\n",
       "        text-align: right;\n",
       "    }\n",
       "</style>\n",
       "<table border=\"1\" class=\"dataframe\">\n",
       "  <thead>\n",
       "    <tr style=\"text-align: right;\">\n",
       "      <th></th>\n",
       "      <th>feature</th>\n",
       "      <th>weight</th>\n",
       "    </tr>\n",
       "  </thead>\n",
       "  <tbody>\n",
       "    <tr>\n",
       "      <th>0</th>\n",
       "      <td>shounen</td>\n",
       "      <td>0.319995</td>\n",
       "    </tr>\n",
       "    <tr>\n",
       "      <th>1</th>\n",
       "      <td>educational</td>\n",
       "      <td>0.299922</td>\n",
       "    </tr>\n",
       "    <tr>\n",
       "      <th>2</th>\n",
       "      <td>drama</td>\n",
       "      <td>0.291169</td>\n",
       "    </tr>\n",
       "    <tr>\n",
       "      <th>3</th>\n",
       "      <td>mystery</td>\n",
       "      <td>0.262992</td>\n",
       "    </tr>\n",
       "    <tr>\n",
       "      <th>4</th>\n",
       "      <td>seinen</td>\n",
       "      <td>0.256544</td>\n",
       "    </tr>\n",
       "    <tr>\n",
       "      <th>5</th>\n",
       "      <td>written</td>\n",
       "      <td>0.236287</td>\n",
       "    </tr>\n",
       "    <tr>\n",
       "      <th>6</th>\n",
       "      <td>safety</td>\n",
       "      <td>0.227829</td>\n",
       "    </tr>\n",
       "    <tr>\n",
       "      <th>7</th>\n",
       "      <td>hen</td>\n",
       "      <td>0.192995</td>\n",
       "    </tr>\n",
       "    <tr>\n",
       "      <th>8</th>\n",
       "      <td>shoujo</td>\n",
       "      <td>0.190023</td>\n",
       "    </tr>\n",
       "    <tr>\n",
       "      <th>9</th>\n",
       "      <td>romance</td>\n",
       "      <td>0.189459</td>\n",
       "    </tr>\n",
       "  </tbody>\n",
       "</table>\n",
       "</div>"
      ],
      "text/plain": [
       "       feature    weight\n",
       "0      shounen  0.319995\n",
       "1  educational  0.299922\n",
       "2        drama  0.291169\n",
       "3      mystery  0.262992\n",
       "4       seinen  0.256544\n",
       "5      written  0.236287\n",
       "6       safety  0.227829\n",
       "7          hen  0.192995\n",
       "8       shoujo  0.190023\n",
       "9      romance  0.189459"
      ]
     },
     "execution_count": 101,
     "metadata": {},
     "output_type": "execute_result"
    }
   ],
   "source": [
    "# features with the most positive impact\n",
    "significant_features(ridge_reg_params)"
   ]
  },
  {
   "cell_type": "code",
   "execution_count": 102,
   "metadata": {
    "colab": {
     "base_uri": "https://localhost:8080/",
     "height": 363
    },
    "id": "HoTaW2hwN7Jq",
    "outputId": "af349aed-c6c3-49f2-d5f2-7f83147ba312"
   },
   "outputs": [
    {
     "data": {
      "text/html": [
       "<div>\n",
       "<style scoped>\n",
       "    .dataframe tbody tr th:only-of-type {\n",
       "        vertical-align: middle;\n",
       "    }\n",
       "\n",
       "    .dataframe tbody tr th {\n",
       "        vertical-align: top;\n",
       "    }\n",
       "\n",
       "    .dataframe thead th {\n",
       "        text-align: right;\n",
       "    }\n",
       "</style>\n",
       "<table border=\"1\" class=\"dataframe\">\n",
       "  <thead>\n",
       "    <tr style=\"text-align: right;\">\n",
       "      <th></th>\n",
       "      <th>feature</th>\n",
       "      <th>weight</th>\n",
       "    </tr>\n",
       "  </thead>\n",
       "  <tbody>\n",
       "    <tr>\n",
       "      <th>0</th>\n",
       "      <td>dementia</td>\n",
       "      <td>0.515811</td>\n",
       "    </tr>\n",
       "    <tr>\n",
       "      <th>1</th>\n",
       "      <td>korean</td>\n",
       "      <td>0.290742</td>\n",
       "    </tr>\n",
       "    <tr>\n",
       "      <th>2</th>\n",
       "      <td>horror</td>\n",
       "      <td>0.194687</td>\n",
       "    </tr>\n",
       "    <tr>\n",
       "      <th>3</th>\n",
       "      <td>zhu</td>\n",
       "      <td>0.193724</td>\n",
       "    </tr>\n",
       "    <tr>\n",
       "      <th>4</th>\n",
       "      <td>commercial</td>\n",
       "      <td>0.182028</td>\n",
       "    </tr>\n",
       "    <tr>\n",
       "      <th>5</th>\n",
       "      <td>collaboration</td>\n",
       "      <td>0.180758</td>\n",
       "    </tr>\n",
       "    <tr>\n",
       "      <th>6</th>\n",
       "      <td>peeping</td>\n",
       "      <td>0.172743</td>\n",
       "    </tr>\n",
       "    <tr>\n",
       "      <th>7</th>\n",
       "      <td>xia</td>\n",
       "      <td>0.172308</td>\n",
       "    </tr>\n",
       "    <tr>\n",
       "      <th>8</th>\n",
       "      <td>music</td>\n",
       "      <td>0.161226</td>\n",
       "    </tr>\n",
       "    <tr>\n",
       "      <th>9</th>\n",
       "      <td>prefecture</td>\n",
       "      <td>0.158309</td>\n",
       "    </tr>\n",
       "  </tbody>\n",
       "</table>\n",
       "</div>"
      ],
      "text/plain": [
       "         feature    weight\n",
       "0       dementia  0.515811\n",
       "1         korean  0.290742\n",
       "2         horror  0.194687\n",
       "3            zhu  0.193724\n",
       "4     commercial  0.182028\n",
       "5  collaboration  0.180758\n",
       "6        peeping  0.172743\n",
       "7            xia  0.172308\n",
       "8          music  0.161226\n",
       "9     prefecture  0.158309"
      ]
     },
     "execution_count": 102,
     "metadata": {},
     "output_type": "execute_result"
    }
   ],
   "source": [
    "# features with the most negative impact\n",
    "significant_features(ridge_reg_params, reverse=True)"
   ]
  },
  {
   "cell_type": "markdown",
   "metadata": {},
   "source": [
    "#### Think, does it make sense to use this kind of analysis of significant features in the case of non-binary feature matrix?"
   ]
  },
  {
   "cell_type": "markdown",
   "metadata": {},
   "source": [
    "#### scores distribution"
   ]
  },
  {
   "cell_type": "code",
   "execution_count": 103,
   "metadata": {},
   "outputs": [
    {
     "data": {
      "image/png": "[encoded data removed]",
      "text/plain": [
       "<Figure size 640x480 with 1 Axes>"
      ]
     },
     "metadata": {},
     "output_type": "display_data"
    }
   ],
   "source": [
    "bins = np.linspace(-10, 20, 100)\n",
    "plt.hist(reg_scores_test_anime, bins=bins, alpha=0.5, label='linear');\n",
    "plt.hist(anime_test_animes['score'].values, bins=bins, alpha=0.5, label='gt');\n",
    "plt.hist(ridge_reg_scores_test_anime, bins=bins, alpha=0.5, label='ridge');\n",
    "\n",
    "plt.title(\"Distribution of ground truth and predicted test scores\")\n",
    "plt.legend(loc='upper right')\n",
    "plt.show()"
   ]
  },
  {
   "cell_type": "markdown",
   "metadata": {},
   "source": [
    "**Remark** \n",
    "\n",
    "Do not forget to regularize your models)\n",
    "\n",
    "During the cource we will move from content-based models to the models, build on top os users interactions with the items. Items could also be pretty similar and appear in groups, leading to multicollinearity. Regularization will appear as one of the important success factors for collaborative filtering models."
   ]
  },
  {
   "cell_type": "markdown",
   "metadata": {},
   "source": [
    "## EVALUATION"
   ]
  },
  {
   "cell_type": "markdown",
   "metadata": {},
   "source": [
    "Imagine, we don't have exact anime rating. How to understand whether our model is sane or not? Let's refresh all the info we have for users $u\\in\\mathcal{U}$.\n",
    "\n",
    "For each user we have:\n",
    "- predicted scores $r_i$ for a user $u$ likes ($i\\in\\mathcal{I}_u^+$)\n",
    "- predicted scores $r_j$ for a user $u$ dislikes ($j\\in\\mathcal{I}_u^-$)\n",
    "- predicted scores $r_k$ for user favourites ($k\\in\\mathcal{I}_u^f$)\n",
    "\n",
    "By construction, the set of user favorites is disjoint from the items in the test user preferences $(\\mathcal{I}_u^+ \\cup \\mathcal{I}_u^-)\\cap\\mathcal{I}_u^f=\\emptyset$   (see `get_test_pairs` function).\n",
    "\n",
    "Intuitively, the predicted scores on a user's favourite animes should be (on average) closer to the predicted scores on the user's likes rather than on dislikes. So, the evaluation is based on the following \"closeness-rate\" metric:\n",
    "$$\n",
    "CR = \\frac{1}{|\\mathcal{U}|}\\sum_{u\\in\\mathcal{U}}\\frac{1}{|\\mathcal{I^f_u}|}\\sum_{k\\in\\mathcal{I}_u^f}\\mathbb{I}\\left(\\text{dist}(k,\\mathcal{I_u^+})<\\text{dist}(k,\\mathcal{I_u^-})\\right),\n",
    "$$\n",
    "where $\\mathbb{I}(\\cdot)$ is an indicator function that returns 1 or 0 depending on whether its argument is true or not. The distances can be mesured, for example, simply as\n",
    "$$\n",
    "\\text{dist}(k,\\mathcal{I_u^+}) = \\frac{1}{|\\mathcal{I_u^+}|}{\\sum_{i\\in\\mathcal{I_u^+}}(r_i - r_k)^2}, \\\\\n",
    "\\text{dist}(k,\\mathcal{I_u^-}) = \\frac{1}{|\\mathcal{I_u^-}|}\\sum_{j\\in\\mathcal{I_{u}^-}}{(r_j - r_k)^2}.\n",
    "$$\n",
    "\n",
    "In short, *the deviation of the predicted scores on favorite items from the predcited scores of liked items must be lower then that of the disliked items*. Note that in our setup $|\\mathcal{I}_u^+|=|\\mathcal{I}_u^-|=n\\_pairs$.\n",
    "\n",
    "Think of other possible functions for the distance estimation.\n"
   ]
  },
  {
   "cell_type": "code",
   "execution_count": 104,
   "metadata": {
    "id": "JsreQWZeZ5BA"
   },
   "outputs": [],
   "source": [
    "def cb_model_evaluation(params, test_pairs, favorites, anime_features, distance_function):\n",
    "    positive_is_closer = []\n",
    "    for user_id, likes, dislikes in test_pairs[['likes', 'dislikes']].itertuples(name=None):\n",
    "        pos_distance, neg_distance = distance_function(user_id, likes, dislikes, params, favorites, anime_features)\n",
    "        positive_is_closer.append((pos_distance < neg_distance).mean())\n",
    "    return np.mean(positive_is_closer)\n",
    "\n",
    "\n",
    "def cb_distances(user_id, likes, dislikes, params, favorites, anime_features):\n",
    "    \"\"\"\n",
    "    Caclulate the distance between user's favorites and likes, \n",
    "    as well as between user's favorites and dislikes based on scores of a regression model\n",
    "    \"\"\"\n",
    "    user_favorites = favorites[user_id]\n",
    "    # (n_positives,)\n",
    "    scores_pos = transform_predict(params, anime_features.loc[likes, 'tokens'])\n",
    "    scores_neg = transform_predict(params, anime_features.loc[dislikes, 'tokens'])\n",
    "    # (n_favorites,)\n",
    "    scores_fav = transform_predict(params, anime_features.loc[user_favorites, 'tokens'])\n",
    "    # (n_positives, n_favorites) -> (n_favorites), mean distance between the favorite and all users' positives\n",
    "    pos_deviation = np.power(np.subtract.outer(scores_pos, scores_fav), 2).mean(axis=0)\n",
    "    neg_deviation = np.power(np.subtract.outer(scores_neg, scores_fav), 2).mean(axis=0)\n",
    "    return pos_deviation,neg_deviation"
   ]
  },
  {
   "cell_type": "code",
   "execution_count": 105,
   "metadata": {
    "colab": {
     "base_uri": "https://localhost:8080/"
    },
    "id": "6UHJrNY0d8t1",
    "outputId": "e8dc4733-5f15-4f09-fba8-ce3946c7e051"
   },
   "outputs": [
    {
     "data": {
      "text/plain": [
       "0.4507185417270356"
      ]
     },
     "execution_count": 105,
     "metadata": {},
     "output_type": "execute_result"
    }
   ],
   "source": [
    "cb_model_evaluation(reg_params, anime_test, favorites_data, all_anime_data, cb_distances)"
   ]
  },
  {
   "cell_type": "code",
   "execution_count": 106,
   "metadata": {},
   "outputs": [
    {
     "data": {
      "text/plain": [
       "0.5661421273490238"
      ]
     },
     "execution_count": 106,
     "metadata": {},
     "output_type": "execute_result"
    }
   ],
   "source": [
    "cb_model_evaluation(ridge_reg_params, anime_test, favorites_data, all_anime_data, cb_distances)"
   ]
  },
  {
   "cell_type": "markdown",
   "metadata": {},
   "source": [
    "Is this result good or bad? Let's compare it to the random prediction."
   ]
  },
  {
   "cell_type": "markdown",
   "metadata": {},
   "source": [
    "## Random prediction baseline"
   ]
  },
  {
   "cell_type": "code",
   "execution_count": 107,
   "metadata": {},
   "outputs": [],
   "source": [
    "class RandomPredictor:\n",
    "    def __init__(self, seed):\n",
    "        self.rng = np.random.default_rng(seed)\n",
    "\n",
    "    def predict(self, tokens_encoded):\n",
    "        return self.rng.standard_normal(tokens_encoded.shape[0])"
   ]
  },
  {
   "cell_type": "code",
   "execution_count": 108,
   "metadata": {},
   "outputs": [
    {
     "name": "stdout",
     "output_type": "stream",
     "text": [
      "Random model result: 0.4971+-0.0145\n"
     ]
    }
   ],
   "source": [
    "rnd_res = []\n",
    "n_tries = 5\n",
    "for seed in np.random.SeedSequence().generate_state(n_tries):\n",
    "    rnd_params = (RandomPredictor(seed), reg_params[1])\n",
    "    rnd_res.append(cb_model_evaluation(rnd_params, anime_test, favorites_data, all_anime_data, cb_distances))\n",
    "\n",
    "print(f'Random model result: {np.mean(rnd_res):.4f}+-{np.std(rnd_res):.4f}')"
   ]
  },
  {
   "cell_type": "markdown",
   "metadata": {},
   "source": [
    "## Ridge regression with the TF-IDF text representation"
   ]
  },
  {
   "cell_type": "markdown",
   "metadata": {},
   "source": [
    "### TFIDF"
   ]
  },
  {
   "cell_type": "markdown",
   "metadata": {},
   "source": [
    "According the wikipedia TFIDF is a numerical statistic that is intended to reflect how important a word is to a document in a collection or corpus. We wll use TFIDF for this purpose.\n",
    "\n",
    "\n"
   ]
  },
  {
   "cell_type": "markdown",
   "metadata": {},
   "source": [
    "TFIDF constructs the representation of the text as a multiplication of two statistics : \n",
    "\n",
    "- ***Term frequency***, wich shows how many times a specific word (term) $t$ happens in the document (synopsis in our case) $d$\n",
    "\n",
    "$$tf (t,f) = \\frac{f(t,d)}{\\sum_{t' \\in d}{f(t',d)}}$$\n",
    "\n",
    "\n",
    "- ***Inverse document frequency*** shows how common or rare the word (term) across all documents.\n",
    "\n",
    "$$idf(t, D) = \\log{\\frac{|D|}{|d \\in D; t\\in d |}}$$\n",
    "\n",
    "\n",
    "So the resulting metric is just a multiplication of $tf$ and $idf$. This metrics automatically provides more attention to the words that are more important for document claclassification."
   ]
  },
  {
   "cell_type": "markdown",
   "metadata": {},
   "source": [
    "### \"alpha\": 10"
   ]
  },
  {
   "cell_type": "code",
   "execution_count": 128,
   "metadata": {
    "id": "cXTusBqZLdrX"
   },
   "outputs": [],
   "source": [
    "cb_config[\"model\"] = {\"alpha\": 10}"
   ]
  },
  {
   "cell_type": "code",
   "execution_count": 129,
   "metadata": {
    "id": "AbIQVutcLdpB"
   },
   "outputs": [
    {
     "name": "stdout",
     "output_type": "stream",
     "text": [
      "CPU times: user 1min 15s, sys: 11.8 s, total: 1min 27s\n",
      "Wall time: 36.1 s\n"
     ]
    }
   ],
   "source": [
    "%%time\n",
    "tfidf_reg_params = build_cb_model(cb_config, anime_train, anime_description, binary_vectorizer=False)\n",
    "tfidf_reg_scores = cb_model_scoring(tfidf_reg_params, anime_train, anime_description)\n",
    "tfidf_reg_scores_test_anime = cb_model_scoring(tfidf_reg_params, anime_test_animes, anime_description)"
   ]
  },
  {
   "cell_type": "code",
   "execution_count": 130,
   "metadata": {},
   "outputs": [
    {
     "data": {
      "text/html": [
       "<style>#sk-container-id-9 {color: black;}#sk-container-id-9 pre{padding: 0;}#sk-container-id-9 div.sk-toggleable {background-color: white;}#sk-container-id-9 label.sk-toggleable__label {cursor: pointer;display: block;width: 100%;margin-bottom: 0;padding: 0.3em;box-sizing: border-box;text-align: center;}#sk-container-id-9 label.sk-toggleable__label-arrow:before {content: \"▸\";float: left;margin-right: 0.25em;color: #696969;}#sk-container-id-9 label.sk-toggleable__label-arrow:hover:before {color: black;}#sk-container-id-9 div.sk-estimator:hover label.sk-toggleable__label-arrow:before {color: black;}#sk-container-id-9 div.sk-toggleable__content {max-height: 0;max-width: 0;overflow: hidden;text-align: left;background-color: #f0f8ff;}#sk-container-id-9 div.sk-toggleable__content pre {margin: 0.2em;color: black;border-radius: 0.25em;background-color: #f0f8ff;}#sk-container-id-9 input.sk-toggleable__control:checked~div.sk-toggleable__content {max-height: 200px;max-width: 100%;overflow: auto;}#sk-container-id-9 input.sk-toggleable__control:checked~label.sk-toggleable__label-arrow:before {content: \"▾\";}#sk-container-id-9 div.sk-estimator input.sk-toggleable__control:checked~label.sk-toggleable__label {background-color: #d4ebff;}#sk-container-id-9 div.sk-label input.sk-toggleable__control:checked~label.sk-toggleable__label {background-color: #d4ebff;}#sk-container-id-9 input.sk-hidden--visually {border: 0;clip: rect(1px 1px 1px 1px);clip: rect(1px, 1px, 1px, 1px);height: 1px;margin: -1px;overflow: hidden;padding: 0;position: absolute;width: 1px;}#sk-container-id-9 div.sk-estimator {font-family: monospace;background-color: #f0f8ff;border: 1px dotted black;border-radius: 0.25em;box-sizing: border-box;margin-bottom: 0.5em;}#sk-container-id-9 div.sk-estimator:hover {background-color: #d4ebff;}#sk-container-id-9 div.sk-parallel-item::after {content: \"\";width: 100%;border-bottom: 1px solid gray;flex-grow: 1;}#sk-container-id-9 div.sk-label:hover label.sk-toggleable__label {background-color: #d4ebff;}#sk-container-id-9 div.sk-serial::before {content: \"\";position: absolute;border-left: 1px solid gray;box-sizing: border-box;top: 0;bottom: 0;left: 50%;z-index: 0;}#sk-container-id-9 div.sk-serial {display: flex;flex-direction: column;align-items: center;background-color: white;padding-right: 0.2em;padding-left: 0.2em;position: relative;}#sk-container-id-9 div.sk-item {position: relative;z-index: 1;}#sk-container-id-9 div.sk-parallel {display: flex;align-items: stretch;justify-content: center;background-color: white;position: relative;}#sk-container-id-9 div.sk-item::before, #sk-container-id-9 div.sk-parallel-item::before {content: \"\";position: absolute;border-left: 1px solid gray;box-sizing: border-box;top: 0;bottom: 0;left: 50%;z-index: -1;}#sk-container-id-9 div.sk-parallel-item {display: flex;flex-direction: column;z-index: 1;position: relative;background-color: white;}#sk-container-id-9 div.sk-parallel-item:first-child::after {align-self: flex-end;width: 50%;}#sk-container-id-9 div.sk-parallel-item:last-child::after {align-self: flex-start;width: 50%;}#sk-container-id-9 div.sk-parallel-item:only-child::after {width: 0;}#sk-container-id-9 div.sk-dashed-wrapped {border: 1px dashed gray;margin: 0 0.4em 0.5em 0.4em;box-sizing: border-box;padding-bottom: 0.4em;background-color: white;}#sk-container-id-9 div.sk-label label {font-family: monospace;font-weight: bold;display: inline-block;line-height: 1.2em;}#sk-container-id-9 div.sk-label-container {text-align: center;}#sk-container-id-9 div.sk-container {/* jupyter's `normalize.less` sets `[hidden] { display: none; }` but bootstrap.min.css set `[hidden] { display: none !important; }` so we also need the `!important` here to be able to override the default hidden behavior on the sphinx rendered scikit-learn.org. See: https://github.com/scikit-learn/scikit-learn/issues/21755 */display: inline-block !important;position: relative;}#sk-container-id-9 div.sk-text-repr-fallback {display: none;}</style><div id=\"sk-container-id-9\" class=\"sk-top-container\"><div class=\"sk-text-repr-fallback\"><pre>Pipeline(steps=[(&#x27;tfidf&#x27;,\n",
       "                 TfidfVectorizer(max_df=0.9, min_df=5, stop_words=&#x27;english&#x27;,\n",
       "                                 strip_accents=&#x27;unicode&#x27;, sublinear_tf=True)),\n",
       "                (&#x27;dense&#x27;, &lt;__main__.DenseTransformer object at 0x1341ef1f0&gt;),\n",
       "                (&#x27;scaler&#x27;, StandardScaler())])</pre><b>In a Jupyter environment, please rerun this cell to show the HTML representation or trust the notebook. <br />On GitHub, the HTML representation is unable to render, please try loading this page with nbviewer.org.</b></div><div class=\"sk-container\" hidden><div class=\"sk-item sk-dashed-wrapped\"><div class=\"sk-label-container\"><div class=\"sk-label sk-toggleable\"><input class=\"sk-toggleable__control sk-hidden--visually\" id=\"sk-estimator-id-12\" type=\"checkbox\" ><label for=\"sk-estimator-id-12\" class=\"sk-toggleable__label sk-toggleable__label-arrow\">Pipeline</label><div class=\"sk-toggleable__content\"><pre>Pipeline(steps=[(&#x27;tfidf&#x27;,\n",
       "                 TfidfVectorizer(max_df=0.9, min_df=5, stop_words=&#x27;english&#x27;,\n",
       "                                 strip_accents=&#x27;unicode&#x27;, sublinear_tf=True)),\n",
       "                (&#x27;dense&#x27;, &lt;__main__.DenseTransformer object at 0x1341ef1f0&gt;),\n",
       "                (&#x27;scaler&#x27;, StandardScaler())])</pre></div></div></div><div class=\"sk-serial\"><div class=\"sk-item\"><div class=\"sk-estimator sk-toggleable\"><input class=\"sk-toggleable__control sk-hidden--visually\" id=\"sk-estimator-id-13\" type=\"checkbox\" ><label for=\"sk-estimator-id-13\" class=\"sk-toggleable__label sk-toggleable__label-arrow\">TfidfVectorizer</label><div class=\"sk-toggleable__content\"><pre>TfidfVectorizer(max_df=0.9, min_df=5, stop_words=&#x27;english&#x27;,\n",
       "                strip_accents=&#x27;unicode&#x27;, sublinear_tf=True)</pre></div></div></div><div class=\"sk-item\"><div class=\"sk-estimator sk-toggleable\"><input class=\"sk-toggleable__control sk-hidden--visually\" id=\"sk-estimator-id-14\" type=\"checkbox\" ><label for=\"sk-estimator-id-14\" class=\"sk-toggleable__label sk-toggleable__label-arrow\">DenseTransformer</label><div class=\"sk-toggleable__content\"><pre>&lt;__main__.DenseTransformer object at 0x1341ef1f0&gt;</pre></div></div></div><div class=\"sk-item\"><div class=\"sk-estimator sk-toggleable\"><input class=\"sk-toggleable__control sk-hidden--visually\" id=\"sk-estimator-id-15\" type=\"checkbox\" ><label for=\"sk-estimator-id-15\" class=\"sk-toggleable__label sk-toggleable__label-arrow\">StandardScaler</label><div class=\"sk-toggleable__content\"><pre>StandardScaler()</pre></div></div></div></div></div></div></div>"
      ],
      "text/plain": [
       "Pipeline(steps=[('tfidf',\n",
       "                 TfidfVectorizer(max_df=0.9, min_df=5, stop_words='english',\n",
       "                                 strip_accents='unicode', sublinear_tf=True)),\n",
       "                ('dense', <__main__.DenseTransformer object at 0x1341ef1f0>),\n",
       "                ('scaler', StandardScaler())])"
      ]
     },
     "execution_count": 130,
     "metadata": {},
     "output_type": "execute_result"
    }
   ],
   "source": [
    "tfidf_reg_params[1]"
   ]
  },
  {
   "cell_type": "code",
   "execution_count": 131,
   "metadata": {},
   "outputs": [
    {
     "data": {
      "text/html": [
       "<style>#sk-container-id-10 {color: black;}#sk-container-id-10 pre{padding: 0;}#sk-container-id-10 div.sk-toggleable {background-color: white;}#sk-container-id-10 label.sk-toggleable__label {cursor: pointer;display: block;width: 100%;margin-bottom: 0;padding: 0.3em;box-sizing: border-box;text-align: center;}#sk-container-id-10 label.sk-toggleable__label-arrow:before {content: \"▸\";float: left;margin-right: 0.25em;color: #696969;}#sk-container-id-10 label.sk-toggleable__label-arrow:hover:before {color: black;}#sk-container-id-10 div.sk-estimator:hover label.sk-toggleable__label-arrow:before {color: black;}#sk-container-id-10 div.sk-toggleable__content {max-height: 0;max-width: 0;overflow: hidden;text-align: left;background-color: #f0f8ff;}#sk-container-id-10 div.sk-toggleable__content pre {margin: 0.2em;color: black;border-radius: 0.25em;background-color: #f0f8ff;}#sk-container-id-10 input.sk-toggleable__control:checked~div.sk-toggleable__content {max-height: 200px;max-width: 100%;overflow: auto;}#sk-container-id-10 input.sk-toggleable__control:checked~label.sk-toggleable__label-arrow:before {content: \"▾\";}#sk-container-id-10 div.sk-estimator input.sk-toggleable__control:checked~label.sk-toggleable__label {background-color: #d4ebff;}#sk-container-id-10 div.sk-label input.sk-toggleable__control:checked~label.sk-toggleable__label {background-color: #d4ebff;}#sk-container-id-10 input.sk-hidden--visually {border: 0;clip: rect(1px 1px 1px 1px);clip: rect(1px, 1px, 1px, 1px);height: 1px;margin: -1px;overflow: hidden;padding: 0;position: absolute;width: 1px;}#sk-container-id-10 div.sk-estimator {font-family: monospace;background-color: #f0f8ff;border: 1px dotted black;border-radius: 0.25em;box-sizing: border-box;margin-bottom: 0.5em;}#sk-container-id-10 div.sk-estimator:hover {background-color: #d4ebff;}#sk-container-id-10 div.sk-parallel-item::after {content: \"\";width: 100%;border-bottom: 1px solid gray;flex-grow: 1;}#sk-container-id-10 div.sk-label:hover label.sk-toggleable__label {background-color: #d4ebff;}#sk-container-id-10 div.sk-serial::before {content: \"\";position: absolute;border-left: 1px solid gray;box-sizing: border-box;top: 0;bottom: 0;left: 50%;z-index: 0;}#sk-container-id-10 div.sk-serial {display: flex;flex-direction: column;align-items: center;background-color: white;padding-right: 0.2em;padding-left: 0.2em;position: relative;}#sk-container-id-10 div.sk-item {position: relative;z-index: 1;}#sk-container-id-10 div.sk-parallel {display: flex;align-items: stretch;justify-content: center;background-color: white;position: relative;}#sk-container-id-10 div.sk-item::before, #sk-container-id-10 div.sk-parallel-item::before {content: \"\";position: absolute;border-left: 1px solid gray;box-sizing: border-box;top: 0;bottom: 0;left: 50%;z-index: -1;}#sk-container-id-10 div.sk-parallel-item {display: flex;flex-direction: column;z-index: 1;position: relative;background-color: white;}#sk-container-id-10 div.sk-parallel-item:first-child::after {align-self: flex-end;width: 50%;}#sk-container-id-10 div.sk-parallel-item:last-child::after {align-self: flex-start;width: 50%;}#sk-container-id-10 div.sk-parallel-item:only-child::after {width: 0;}#sk-container-id-10 div.sk-dashed-wrapped {border: 1px dashed gray;margin: 0 0.4em 0.5em 0.4em;box-sizing: border-box;padding-bottom: 0.4em;background-color: white;}#sk-container-id-10 div.sk-label label {font-family: monospace;font-weight: bold;display: inline-block;line-height: 1.2em;}#sk-container-id-10 div.sk-label-container {text-align: center;}#sk-container-id-10 div.sk-container {/* jupyter's `normalize.less` sets `[hidden] { display: none; }` but bootstrap.min.css set `[hidden] { display: none !important; }` so we also need the `!important` here to be able to override the default hidden behavior on the sphinx rendered scikit-learn.org. See: https://github.com/scikit-learn/scikit-learn/issues/21755 */display: inline-block !important;position: relative;}#sk-container-id-10 div.sk-text-repr-fallback {display: none;}</style><div id=\"sk-container-id-10\" class=\"sk-top-container\"><div class=\"sk-text-repr-fallback\"><pre>Ridge(alpha=10)</pre><b>In a Jupyter environment, please rerun this cell to show the HTML representation or trust the notebook. <br />On GitHub, the HTML representation is unable to render, please try loading this page with nbviewer.org.</b></div><div class=\"sk-container\" hidden><div class=\"sk-item\"><div class=\"sk-estimator sk-toggleable\"><input class=\"sk-toggleable__control sk-hidden--visually\" id=\"sk-estimator-id-16\" type=\"checkbox\" checked><label for=\"sk-estimator-id-16\" class=\"sk-toggleable__label sk-toggleable__label-arrow\">Ridge</label><div class=\"sk-toggleable__content\"><pre>Ridge(alpha=10)</pre></div></div></div></div></div>"
      ],
      "text/plain": [
       "Ridge(alpha=10)"
      ]
     },
     "execution_count": 131,
     "metadata": {},
     "output_type": "execute_result"
    }
   ],
   "source": [
    "tfidf_reg_params[0]"
   ]
  },
  {
   "cell_type": "code",
   "execution_count": 140,
   "metadata": {},
   "outputs": [
    {
     "data": {
      "text/plain": [
       "(-0.7139781526638164, 166.79069277810825)"
      ]
     },
     "execution_count": 140,
     "metadata": {},
     "output_type": "execute_result"
    }
   ],
   "source": [
    "# sublinear TF causes negative scores\n",
    "np.min(tfidf_reg_params[1].transform(anime_test_animes['tokens'])), np.max(tfidf_reg_params[1].transform(anime_test_animes['tokens']))"
   ]
  },
  {
   "cell_type": "code",
   "execution_count": 141,
   "metadata": {},
   "outputs": [
    {
     "data": {
      "text/plain": [
       "(10571, 1.6105880952955995)"
      ]
     },
     "execution_count": 141,
     "metadata": {},
     "output_type": "execute_result"
    }
   ],
   "source": [
    "len(tfidf_reg_params[0].coef_), np.linalg.norm(tfidf_reg_params[0].coef_)"
   ]
  },
  {
   "cell_type": "code",
   "execution_count": 142,
   "metadata": {},
   "outputs": [
    {
     "data": {
      "text/plain": [
       "6.2428185048219875"
      ]
     },
     "execution_count": 142,
     "metadata": {},
     "output_type": "execute_result"
    }
   ],
   "source": [
    "tfidf_reg_params[0].intercept_"
   ]
  },
  {
   "cell_type": "markdown",
   "metadata": {},
   "source": [
    "#### train scores"
   ]
  },
  {
   "cell_type": "code",
   "execution_count": 143,
   "metadata": {},
   "outputs": [
    {
     "name": "stdout",
     "output_type": "stream",
     "text": [
      "rmse=0.3022, mae=0.2219\n"
     ]
    }
   ],
   "source": [
    "calc_rmse_mae(anime_train['score'].values, tfidf_reg_scores)"
   ]
  },
  {
   "cell_type": "markdown",
   "metadata": {},
   "source": [
    "#### test scores"
   ]
  },
  {
   "cell_type": "code",
   "execution_count": 144,
   "metadata": {},
   "outputs": [
    {
     "name": "stdout",
     "output_type": "stream",
     "text": [
      "rmse=1.9960, mae=1.5658\n"
     ]
    }
   ],
   "source": [
    "calc_rmse_mae(anime_test_animes['score'].values, tfidf_reg_scores_test_anime)"
   ]
  },
  {
   "cell_type": "markdown",
   "metadata": {},
   "source": [
    "#### Ridge regression feature importance with TFIDF"
   ]
  },
  {
   "cell_type": "code",
   "execution_count": 145,
   "metadata": {
    "colab": {
     "base_uri": "https://localhost:8080/",
     "height": 363
    },
    "id": "xps3UsRELdbn",
    "outputId": "2f7dc9b0-0f10-42f2-9d07-dc2731b6ae86"
   },
   "outputs": [
    {
     "data": {
      "text/html": [
       "<div>\n",
       "<style scoped>\n",
       "    .dataframe tbody tr th:only-of-type {\n",
       "        vertical-align: middle;\n",
       "    }\n",
       "\n",
       "    .dataframe tbody tr th {\n",
       "        vertical-align: top;\n",
       "    }\n",
       "\n",
       "    .dataframe thead th {\n",
       "        text-align: right;\n",
       "    }\n",
       "</style>\n",
       "<table border=\"1\" class=\"dataframe\">\n",
       "  <thead>\n",
       "    <tr style=\"text-align: right;\">\n",
       "      <th></th>\n",
       "      <th>feature</th>\n",
       "      <th>weight</th>\n",
       "    </tr>\n",
       "  </thead>\n",
       "  <tbody>\n",
       "    <tr>\n",
       "      <th>0</th>\n",
       "      <td>rantarou</td>\n",
       "      <td>0.151859</td>\n",
       "    </tr>\n",
       "    <tr>\n",
       "      <th>1</th>\n",
       "      <td>symphogear</td>\n",
       "      <td>0.133631</td>\n",
       "    </tr>\n",
       "    <tr>\n",
       "      <th>2</th>\n",
       "      <td>ryougi</td>\n",
       "      <td>0.106210</td>\n",
       "    </tr>\n",
       "    <tr>\n",
       "      <th>3</th>\n",
       "      <td>arts</td>\n",
       "      <td>0.092314</td>\n",
       "    </tr>\n",
       "    <tr>\n",
       "      <th>4</th>\n",
       "      <td>fi</td>\n",
       "      <td>0.090388</td>\n",
       "    </tr>\n",
       "    <tr>\n",
       "      <th>5</th>\n",
       "      <td>lagann</td>\n",
       "      <td>0.089279</td>\n",
       "    </tr>\n",
       "    <tr>\n",
       "      <th>6</th>\n",
       "      <td>cofun</td>\n",
       "      <td>0.074564</td>\n",
       "    </tr>\n",
       "    <tr>\n",
       "      <th>7</th>\n",
       "      <td>bramble</td>\n",
       "      <td>0.071056</td>\n",
       "    </tr>\n",
       "    <tr>\n",
       "      <th>8</th>\n",
       "      <td>keiichi</td>\n",
       "      <td>0.068374</td>\n",
       "    </tr>\n",
       "    <tr>\n",
       "      <th>9</th>\n",
       "      <td>taku</td>\n",
       "      <td>0.064839</td>\n",
       "    </tr>\n",
       "  </tbody>\n",
       "</table>\n",
       "</div>"
      ],
      "text/plain": [
       "      feature    weight\n",
       "0    rantarou  0.151859\n",
       "1  symphogear  0.133631\n",
       "2      ryougi  0.106210\n",
       "3        arts  0.092314\n",
       "4          fi  0.090388\n",
       "5      lagann  0.089279\n",
       "6       cofun  0.074564\n",
       "7     bramble  0.071056\n",
       "8     keiichi  0.068374\n",
       "9        taku  0.064839"
      ]
     },
     "execution_count": 145,
     "metadata": {},
     "output_type": "execute_result"
    }
   ],
   "source": [
    "# features with the most positive impact\n",
    "significant_features(tfidf_reg_params)"
   ]
  },
  {
   "cell_type": "code",
   "execution_count": 146,
   "metadata": {
    "colab": {
     "base_uri": "https://localhost:8080/",
     "height": 363
    },
    "id": "HoTaW2hwN7Jq",
    "outputId": "af349aed-c6c3-49f2-d5f2-7f83147ba312"
   },
   "outputs": [
    {
     "data": {
      "text/html": [
       "<div>\n",
       "<style scoped>\n",
       "    .dataframe tbody tr th:only-of-type {\n",
       "        vertical-align: middle;\n",
       "    }\n",
       "\n",
       "    .dataframe tbody tr th {\n",
       "        vertical-align: top;\n",
       "    }\n",
       "\n",
       "    .dataframe thead th {\n",
       "        text-align: right;\n",
       "    }\n",
       "</style>\n",
       "<table border=\"1\" class=\"dataframe\">\n",
       "  <thead>\n",
       "    <tr style=\"text-align: right;\">\n",
       "      <th></th>\n",
       "      <th>feature</th>\n",
       "      <th>weight</th>\n",
       "    </tr>\n",
       "  </thead>\n",
       "  <tbody>\n",
       "    <tr>\n",
       "      <th>0</th>\n",
       "      <td>nintama</td>\n",
       "      <td>0.135022</td>\n",
       "    </tr>\n",
       "    <tr>\n",
       "      <th>1</th>\n",
       "      <td>zesshou</td>\n",
       "      <td>0.112227</td>\n",
       "    </tr>\n",
       "    <tr>\n",
       "      <th>2</th>\n",
       "      <td>furukawa</td>\n",
       "      <td>0.083272</td>\n",
       "    </tr>\n",
       "    <tr>\n",
       "      <th>3</th>\n",
       "      <td>tanaami</td>\n",
       "      <td>0.079853</td>\n",
       "    </tr>\n",
       "    <tr>\n",
       "      <th>4</th>\n",
       "      <td>coffy</td>\n",
       "      <td>0.078917</td>\n",
       "    </tr>\n",
       "    <tr>\n",
       "      <th>5</th>\n",
       "      <td>briar</td>\n",
       "      <td>0.077880</td>\n",
       "    </tr>\n",
       "    <tr>\n",
       "      <th>6</th>\n",
       "      <td>martial</td>\n",
       "      <td>0.076273</td>\n",
       "    </tr>\n",
       "    <tr>\n",
       "      <th>7</th>\n",
       "      <td>kameari</td>\n",
       "      <td>0.076246</td>\n",
       "    </tr>\n",
       "    <tr>\n",
       "      <th>8</th>\n",
       "      <td>sci</td>\n",
       "      <td>0.072962</td>\n",
       "    </tr>\n",
       "    <tr>\n",
       "      <th>9</th>\n",
       "      <td>zhu</td>\n",
       "      <td>0.070020</td>\n",
       "    </tr>\n",
       "  </tbody>\n",
       "</table>\n",
       "</div>"
      ],
      "text/plain": [
       "    feature    weight\n",
       "0   nintama  0.135022\n",
       "1   zesshou  0.112227\n",
       "2  furukawa  0.083272\n",
       "3   tanaami  0.079853\n",
       "4     coffy  0.078917\n",
       "5     briar  0.077880\n",
       "6   martial  0.076273\n",
       "7   kameari  0.076246\n",
       "8       sci  0.072962\n",
       "9       zhu  0.070020"
      ]
     },
     "execution_count": 146,
     "metadata": {},
     "output_type": "execute_result"
    }
   ],
   "source": [
    "# features with the most negative impact\n",
    "significant_features(tfidf_reg_params, reverse=True)"
   ]
  },
  {
   "cell_type": "code",
   "execution_count": 147,
   "metadata": {},
   "outputs": [
    {
     "data": {
      "text/plain": [
       "0.5012938778785635"
      ]
     },
     "execution_count": 147,
     "metadata": {},
     "output_type": "execute_result"
    }
   ],
   "source": [
    "cb_model_evaluation(tfidf_reg_params, anime_test, favorites_data, all_anime_data, cb_distances)"
   ]
  },
  {
   "cell_type": "markdown",
   "metadata": {},
   "source": [
    "### \"alpha\": 20000"
   ]
  },
  {
   "cell_type": "code",
   "execution_count": 148,
   "metadata": {
    "id": "cXTusBqZLdrX"
   },
   "outputs": [],
   "source": [
    "cb_config[\"model\"] = {\"alpha\": 20000}"
   ]
  },
  {
   "cell_type": "code",
   "execution_count": 149,
   "metadata": {
    "id": "AbIQVutcLdpB"
   },
   "outputs": [
    {
     "name": "stdout",
     "output_type": "stream",
     "text": [
      "CPU times: user 1min 31s, sys: 13.6 s, total: 1min 45s\n",
      "Wall time: 45.9 s\n"
     ]
    }
   ],
   "source": [
    "%%time\n",
    "tfidf_reg_params = build_cb_model(cb_config, anime_train, anime_description, binary_vectorizer=False)\n",
    "tfidf_reg_scores = cb_model_scoring(tfidf_reg_params, anime_train, anime_description)\n",
    "tfidf_reg_scores_test_anime = cb_model_scoring(tfidf_reg_params, anime_test_animes, anime_description)"
   ]
  },
  {
   "cell_type": "code",
   "execution_count": 150,
   "metadata": {},
   "outputs": [
    {
     "data": {
      "text/html": [
       "<style>#sk-container-id-13 {color: black;}#sk-container-id-13 pre{padding: 0;}#sk-container-id-13 div.sk-toggleable {background-color: white;}#sk-container-id-13 label.sk-toggleable__label {cursor: pointer;display: block;width: 100%;margin-bottom: 0;padding: 0.3em;box-sizing: border-box;text-align: center;}#sk-container-id-13 label.sk-toggleable__label-arrow:before {content: \"▸\";float: left;margin-right: 0.25em;color: #696969;}#sk-container-id-13 label.sk-toggleable__label-arrow:hover:before {color: black;}#sk-container-id-13 div.sk-estimator:hover label.sk-toggleable__label-arrow:before {color: black;}#sk-container-id-13 div.sk-toggleable__content {max-height: 0;max-width: 0;overflow: hidden;text-align: left;background-color: #f0f8ff;}#sk-container-id-13 div.sk-toggleable__content pre {margin: 0.2em;color: black;border-radius: 0.25em;background-color: #f0f8ff;}#sk-container-id-13 input.sk-toggleable__control:checked~div.sk-toggleable__content {max-height: 200px;max-width: 100%;overflow: auto;}#sk-container-id-13 input.sk-toggleable__control:checked~label.sk-toggleable__label-arrow:before {content: \"▾\";}#sk-container-id-13 div.sk-estimator input.sk-toggleable__control:checked~label.sk-toggleable__label {background-color: #d4ebff;}#sk-container-id-13 div.sk-label input.sk-toggleable__control:checked~label.sk-toggleable__label {background-color: #d4ebff;}#sk-container-id-13 input.sk-hidden--visually {border: 0;clip: rect(1px 1px 1px 1px);clip: rect(1px, 1px, 1px, 1px);height: 1px;margin: -1px;overflow: hidden;padding: 0;position: absolute;width: 1px;}#sk-container-id-13 div.sk-estimator {font-family: monospace;background-color: #f0f8ff;border: 1px dotted black;border-radius: 0.25em;box-sizing: border-box;margin-bottom: 0.5em;}#sk-container-id-13 div.sk-estimator:hover {background-color: #d4ebff;}#sk-container-id-13 div.sk-parallel-item::after {content: \"\";width: 100%;border-bottom: 1px solid gray;flex-grow: 1;}#sk-container-id-13 div.sk-label:hover label.sk-toggleable__label {background-color: #d4ebff;}#sk-container-id-13 div.sk-serial::before {content: \"\";position: absolute;border-left: 1px solid gray;box-sizing: border-box;top: 0;bottom: 0;left: 50%;z-index: 0;}#sk-container-id-13 div.sk-serial {display: flex;flex-direction: column;align-items: center;background-color: white;padding-right: 0.2em;padding-left: 0.2em;position: relative;}#sk-container-id-13 div.sk-item {position: relative;z-index: 1;}#sk-container-id-13 div.sk-parallel {display: flex;align-items: stretch;justify-content: center;background-color: white;position: relative;}#sk-container-id-13 div.sk-item::before, #sk-container-id-13 div.sk-parallel-item::before {content: \"\";position: absolute;border-left: 1px solid gray;box-sizing: border-box;top: 0;bottom: 0;left: 50%;z-index: -1;}#sk-container-id-13 div.sk-parallel-item {display: flex;flex-direction: column;z-index: 1;position: relative;background-color: white;}#sk-container-id-13 div.sk-parallel-item:first-child::after {align-self: flex-end;width: 50%;}#sk-container-id-13 div.sk-parallel-item:last-child::after {align-self: flex-start;width: 50%;}#sk-container-id-13 div.sk-parallel-item:only-child::after {width: 0;}#sk-container-id-13 div.sk-dashed-wrapped {border: 1px dashed gray;margin: 0 0.4em 0.5em 0.4em;box-sizing: border-box;padding-bottom: 0.4em;background-color: white;}#sk-container-id-13 div.sk-label label {font-family: monospace;font-weight: bold;display: inline-block;line-height: 1.2em;}#sk-container-id-13 div.sk-label-container {text-align: center;}#sk-container-id-13 div.sk-container {/* jupyter's `normalize.less` sets `[hidden] { display: none; }` but bootstrap.min.css set `[hidden] { display: none !important; }` so we also need the `!important` here to be able to override the default hidden behavior on the sphinx rendered scikit-learn.org. See: https://github.com/scikit-learn/scikit-learn/issues/21755 */display: inline-block !important;position: relative;}#sk-container-id-13 div.sk-text-repr-fallback {display: none;}</style><div id=\"sk-container-id-13\" class=\"sk-top-container\"><div class=\"sk-text-repr-fallback\"><pre>Pipeline(steps=[(&#x27;tfidf&#x27;,\n",
       "                 TfidfVectorizer(max_df=0.9, min_df=5, stop_words=&#x27;english&#x27;,\n",
       "                                 strip_accents=&#x27;unicode&#x27;, sublinear_tf=True)),\n",
       "                (&#x27;dense&#x27;, &lt;__main__.DenseTransformer object at 0x136a941f0&gt;),\n",
       "                (&#x27;scaler&#x27;, StandardScaler())])</pre><b>In a Jupyter environment, please rerun this cell to show the HTML representation or trust the notebook. <br />On GitHub, the HTML representation is unable to render, please try loading this page with nbviewer.org.</b></div><div class=\"sk-container\" hidden><div class=\"sk-item sk-dashed-wrapped\"><div class=\"sk-label-container\"><div class=\"sk-label sk-toggleable\"><input class=\"sk-toggleable__control sk-hidden--visually\" id=\"sk-estimator-id-22\" type=\"checkbox\" ><label for=\"sk-estimator-id-22\" class=\"sk-toggleable__label sk-toggleable__label-arrow\">Pipeline</label><div class=\"sk-toggleable__content\"><pre>Pipeline(steps=[(&#x27;tfidf&#x27;,\n",
       "                 TfidfVectorizer(max_df=0.9, min_df=5, stop_words=&#x27;english&#x27;,\n",
       "                                 strip_accents=&#x27;unicode&#x27;, sublinear_tf=True)),\n",
       "                (&#x27;dense&#x27;, &lt;__main__.DenseTransformer object at 0x136a941f0&gt;),\n",
       "                (&#x27;scaler&#x27;, StandardScaler())])</pre></div></div></div><div class=\"sk-serial\"><div class=\"sk-item\"><div class=\"sk-estimator sk-toggleable\"><input class=\"sk-toggleable__control sk-hidden--visually\" id=\"sk-estimator-id-23\" type=\"checkbox\" ><label for=\"sk-estimator-id-23\" class=\"sk-toggleable__label sk-toggleable__label-arrow\">TfidfVectorizer</label><div class=\"sk-toggleable__content\"><pre>TfidfVectorizer(max_df=0.9, min_df=5, stop_words=&#x27;english&#x27;,\n",
       "                strip_accents=&#x27;unicode&#x27;, sublinear_tf=True)</pre></div></div></div><div class=\"sk-item\"><div class=\"sk-estimator sk-toggleable\"><input class=\"sk-toggleable__control sk-hidden--visually\" id=\"sk-estimator-id-24\" type=\"checkbox\" ><label for=\"sk-estimator-id-24\" class=\"sk-toggleable__label sk-toggleable__label-arrow\">DenseTransformer</label><div class=\"sk-toggleable__content\"><pre>&lt;__main__.DenseTransformer object at 0x136a941f0&gt;</pre></div></div></div><div class=\"sk-item\"><div class=\"sk-estimator sk-toggleable\"><input class=\"sk-toggleable__control sk-hidden--visually\" id=\"sk-estimator-id-25\" type=\"checkbox\" ><label for=\"sk-estimator-id-25\" class=\"sk-toggleable__label sk-toggleable__label-arrow\">StandardScaler</label><div class=\"sk-toggleable__content\"><pre>StandardScaler()</pre></div></div></div></div></div></div></div>"
      ],
      "text/plain": [
       "Pipeline(steps=[('tfidf',\n",
       "                 TfidfVectorizer(max_df=0.9, min_df=5, stop_words='english',\n",
       "                                 strip_accents='unicode', sublinear_tf=True)),\n",
       "                ('dense', <__main__.DenseTransformer object at 0x136a941f0>),\n",
       "                ('scaler', StandardScaler())])"
      ]
     },
     "execution_count": 150,
     "metadata": {},
     "output_type": "execute_result"
    }
   ],
   "source": [
    "tfidf_reg_params[1]"
   ]
  },
  {
   "cell_type": "code",
   "execution_count": 151,
   "metadata": {},
   "outputs": [
    {
     "data": {
      "text/html": [
       "<style>#sk-container-id-14 {color: black;}#sk-container-id-14 pre{padding: 0;}#sk-container-id-14 div.sk-toggleable {background-color: white;}#sk-container-id-14 label.sk-toggleable__label {cursor: pointer;display: block;width: 100%;margin-bottom: 0;padding: 0.3em;box-sizing: border-box;text-align: center;}#sk-container-id-14 label.sk-toggleable__label-arrow:before {content: \"▸\";float: left;margin-right: 0.25em;color: #696969;}#sk-container-id-14 label.sk-toggleable__label-arrow:hover:before {color: black;}#sk-container-id-14 div.sk-estimator:hover label.sk-toggleable__label-arrow:before {color: black;}#sk-container-id-14 div.sk-toggleable__content {max-height: 0;max-width: 0;overflow: hidden;text-align: left;background-color: #f0f8ff;}#sk-container-id-14 div.sk-toggleable__content pre {margin: 0.2em;color: black;border-radius: 0.25em;background-color: #f0f8ff;}#sk-container-id-14 input.sk-toggleable__control:checked~div.sk-toggleable__content {max-height: 200px;max-width: 100%;overflow: auto;}#sk-container-id-14 input.sk-toggleable__control:checked~label.sk-toggleable__label-arrow:before {content: \"▾\";}#sk-container-id-14 div.sk-estimator input.sk-toggleable__control:checked~label.sk-toggleable__label {background-color: #d4ebff;}#sk-container-id-14 div.sk-label input.sk-toggleable__control:checked~label.sk-toggleable__label {background-color: #d4ebff;}#sk-container-id-14 input.sk-hidden--visually {border: 0;clip: rect(1px 1px 1px 1px);clip: rect(1px, 1px, 1px, 1px);height: 1px;margin: -1px;overflow: hidden;padding: 0;position: absolute;width: 1px;}#sk-container-id-14 div.sk-estimator {font-family: monospace;background-color: #f0f8ff;border: 1px dotted black;border-radius: 0.25em;box-sizing: border-box;margin-bottom: 0.5em;}#sk-container-id-14 div.sk-estimator:hover {background-color: #d4ebff;}#sk-container-id-14 div.sk-parallel-item::after {content: \"\";width: 100%;border-bottom: 1px solid gray;flex-grow: 1;}#sk-container-id-14 div.sk-label:hover label.sk-toggleable__label {background-color: #d4ebff;}#sk-container-id-14 div.sk-serial::before {content: \"\";position: absolute;border-left: 1px solid gray;box-sizing: border-box;top: 0;bottom: 0;left: 50%;z-index: 0;}#sk-container-id-14 div.sk-serial {display: flex;flex-direction: column;align-items: center;background-color: white;padding-right: 0.2em;padding-left: 0.2em;position: relative;}#sk-container-id-14 div.sk-item {position: relative;z-index: 1;}#sk-container-id-14 div.sk-parallel {display: flex;align-items: stretch;justify-content: center;background-color: white;position: relative;}#sk-container-id-14 div.sk-item::before, #sk-container-id-14 div.sk-parallel-item::before {content: \"\";position: absolute;border-left: 1px solid gray;box-sizing: border-box;top: 0;bottom: 0;left: 50%;z-index: -1;}#sk-container-id-14 div.sk-parallel-item {display: flex;flex-direction: column;z-index: 1;position: relative;background-color: white;}#sk-container-id-14 div.sk-parallel-item:first-child::after {align-self: flex-end;width: 50%;}#sk-container-id-14 div.sk-parallel-item:last-child::after {align-self: flex-start;width: 50%;}#sk-container-id-14 div.sk-parallel-item:only-child::after {width: 0;}#sk-container-id-14 div.sk-dashed-wrapped {border: 1px dashed gray;margin: 0 0.4em 0.5em 0.4em;box-sizing: border-box;padding-bottom: 0.4em;background-color: white;}#sk-container-id-14 div.sk-label label {font-family: monospace;font-weight: bold;display: inline-block;line-height: 1.2em;}#sk-container-id-14 div.sk-label-container {text-align: center;}#sk-container-id-14 div.sk-container {/* jupyter's `normalize.less` sets `[hidden] { display: none; }` but bootstrap.min.css set `[hidden] { display: none !important; }` so we also need the `!important` here to be able to override the default hidden behavior on the sphinx rendered scikit-learn.org. See: https://github.com/scikit-learn/scikit-learn/issues/21755 */display: inline-block !important;position: relative;}#sk-container-id-14 div.sk-text-repr-fallback {display: none;}</style><div id=\"sk-container-id-14\" class=\"sk-top-container\"><div class=\"sk-text-repr-fallback\"><pre>Ridge(alpha=20000)</pre><b>In a Jupyter environment, please rerun this cell to show the HTML representation or trust the notebook. <br />On GitHub, the HTML representation is unable to render, please try loading this page with nbviewer.org.</b></div><div class=\"sk-container\" hidden><div class=\"sk-item\"><div class=\"sk-estimator sk-toggleable\"><input class=\"sk-toggleable__control sk-hidden--visually\" id=\"sk-estimator-id-26\" type=\"checkbox\" checked><label for=\"sk-estimator-id-26\" class=\"sk-toggleable__label sk-toggleable__label-arrow\">Ridge</label><div class=\"sk-toggleable__content\"><pre>Ridge(alpha=20000)</pre></div></div></div></div></div>"
      ],
      "text/plain": [
       "Ridge(alpha=20000)"
      ]
     },
     "execution_count": 151,
     "metadata": {},
     "output_type": "execute_result"
    }
   ],
   "source": [
    "tfidf_reg_params[0]"
   ]
  },
  {
   "cell_type": "code",
   "execution_count": 92,
   "metadata": {},
   "outputs": [
    {
     "data": {
      "text/plain": [
       "array([ 4.14554288e+01,  3.66008830e+01,  2.54790056e+01, ...,\n",
       "       -2.38940715e-02,  2.86276069e+01,  4.75399038e+01])"
      ]
     },
     "execution_count": 92,
     "metadata": {},
     "output_type": "execute_result"
    }
   ],
   "source": [
    "np.max(tfidf_reg_params[1].transform(anime_test_animes['tokens']), axis=0)"
   ]
  },
  {
   "cell_type": "code",
   "execution_count": 93,
   "metadata": {},
   "outputs": [
    {
     "data": {
      "text/plain": [
       "(10571, 0.29993991347422755)"
      ]
     },
     "execution_count": 93,
     "metadata": {},
     "output_type": "execute_result"
    }
   ],
   "source": [
    "len(tfidf_reg_params[0].coef_), np.linalg.norm(tfidf_reg_params[0].coef_)"
   ]
  },
  {
   "cell_type": "code",
   "execution_count": 94,
   "metadata": {},
   "outputs": [
    {
     "data": {
      "text/plain": [
       "6.242818504821986"
      ]
     },
     "execution_count": 94,
     "metadata": {},
     "output_type": "execute_result"
    }
   ],
   "source": [
    "tfidf_reg_params[0].intercept_"
   ]
  },
  {
   "cell_type": "markdown",
   "metadata": {},
   "source": [
    "#### train scores"
   ]
  },
  {
   "cell_type": "code",
   "execution_count": 153,
   "metadata": {},
   "outputs": [
    {
     "name": "stdout",
     "output_type": "stream",
     "text": [
      "rmse=0.5441, mae=0.4183\n"
     ]
    }
   ],
   "source": [
    "calc_rmse_mae(anime_train['score'].values, tfidf_reg_scores)"
   ]
  },
  {
   "cell_type": "markdown",
   "metadata": {},
   "source": [
    "#### test scores"
   ]
  },
  {
   "cell_type": "code",
   "execution_count": 154,
   "metadata": {},
   "outputs": [
    {
     "name": "stdout",
     "output_type": "stream",
     "text": [
      "rmse=0.9044, mae=0.7091\n"
     ]
    }
   ],
   "source": [
    "calc_rmse_mae(anime_test_animes['score'].values, tfidf_reg_scores_test_anime)"
   ]
  },
  {
   "cell_type": "markdown",
   "metadata": {},
   "source": [
    "#### Ridge regression feature importance with TFIDF"
   ]
  },
  {
   "cell_type": "code",
   "execution_count": 155,
   "metadata": {
    "colab": {
     "base_uri": "https://localhost:8080/",
     "height": 363
    },
    "id": "xps3UsRELdbn",
    "outputId": "2f7dc9b0-0f10-42f2-9d07-dc2731b6ae86"
   },
   "outputs": [
    {
     "data": {
      "text/html": [
       "<div>\n",
       "<style scoped>\n",
       "    .dataframe tbody tr th:only-of-type {\n",
       "        vertical-align: middle;\n",
       "    }\n",
       "\n",
       "    .dataframe tbody tr th {\n",
       "        vertical-align: top;\n",
       "    }\n",
       "\n",
       "    .dataframe thead th {\n",
       "        text-align: right;\n",
       "    }\n",
       "</style>\n",
       "<table border=\"1\" class=\"dataframe\">\n",
       "  <thead>\n",
       "    <tr style=\"text-align: right;\">\n",
       "      <th></th>\n",
       "      <th>feature</th>\n",
       "      <th>weight</th>\n",
       "    </tr>\n",
       "  </thead>\n",
       "  <tbody>\n",
       "    <tr>\n",
       "      <th>0</th>\n",
       "      <td>drama</td>\n",
       "      <td>0.026387</td>\n",
       "    </tr>\n",
       "    <tr>\n",
       "      <th>1</th>\n",
       "      <td>shounen</td>\n",
       "      <td>0.024378</td>\n",
       "    </tr>\n",
       "    <tr>\n",
       "      <th>2</th>\n",
       "      <td>rewrite</td>\n",
       "      <td>0.024182</td>\n",
       "    </tr>\n",
       "    <tr>\n",
       "      <th>3</th>\n",
       "      <td>romance</td>\n",
       "      <td>0.024128</td>\n",
       "    </tr>\n",
       "    <tr>\n",
       "      <th>4</th>\n",
       "      <td>written</td>\n",
       "      <td>0.023338</td>\n",
       "    </tr>\n",
       "    <tr>\n",
       "      <th>5</th>\n",
       "      <td>mal</td>\n",
       "      <td>0.021433</td>\n",
       "    </tr>\n",
       "    <tr>\n",
       "      <th>6</th>\n",
       "      <td>school</td>\n",
       "      <td>0.019090</td>\n",
       "    </tr>\n",
       "    <tr>\n",
       "      <th>7</th>\n",
       "      <td>mystery</td>\n",
       "      <td>0.017683</td>\n",
       "    </tr>\n",
       "    <tr>\n",
       "      <th>8</th>\n",
       "      <td>gintama</td>\n",
       "      <td>0.017345</td>\n",
       "    </tr>\n",
       "    <tr>\n",
       "      <th>9</th>\n",
       "      <td>fantasy</td>\n",
       "      <td>0.016858</td>\n",
       "    </tr>\n",
       "  </tbody>\n",
       "</table>\n",
       "</div>"
      ],
      "text/plain": [
       "   feature    weight\n",
       "0    drama  0.026387\n",
       "1  shounen  0.024378\n",
       "2  rewrite  0.024182\n",
       "3  romance  0.024128\n",
       "4  written  0.023338\n",
       "5      mal  0.021433\n",
       "6   school  0.019090\n",
       "7  mystery  0.017683\n",
       "8  gintama  0.017345\n",
       "9  fantasy  0.016858"
      ]
     },
     "execution_count": 155,
     "metadata": {},
     "output_type": "execute_result"
    }
   ],
   "source": [
    "# features with the most positive impact\n",
    "significant_features(tfidf_reg_params)"
   ]
  },
  {
   "cell_type": "code",
   "execution_count": 156,
   "metadata": {
    "colab": {
     "base_uri": "https://localhost:8080/",
     "height": 363
    },
    "id": "HoTaW2hwN7Jq",
    "outputId": "af349aed-c6c3-49f2-d5f2-7f83147ba312"
   },
   "outputs": [
    {
     "data": {
      "text/html": [
       "<div>\n",
       "<style scoped>\n",
       "    .dataframe tbody tr th:only-of-type {\n",
       "        vertical-align: middle;\n",
       "    }\n",
       "\n",
       "    .dataframe tbody tr th {\n",
       "        vertical-align: top;\n",
       "    }\n",
       "\n",
       "    .dataframe thead th {\n",
       "        text-align: right;\n",
       "    }\n",
       "</style>\n",
       "<table border=\"1\" class=\"dataframe\">\n",
       "  <thead>\n",
       "    <tr style=\"text-align: right;\">\n",
       "      <th></th>\n",
       "      <th>feature</th>\n",
       "      <th>weight</th>\n",
       "    </tr>\n",
       "  </thead>\n",
       "  <tbody>\n",
       "    <tr>\n",
       "      <th>0</th>\n",
       "      <td>dementia</td>\n",
       "      <td>0.037829</td>\n",
       "    </tr>\n",
       "    <tr>\n",
       "      <th>1</th>\n",
       "      <td>music</td>\n",
       "      <td>0.028015</td>\n",
       "    </tr>\n",
       "    <tr>\n",
       "      <th>2</th>\n",
       "      <td>short</td>\n",
       "      <td>0.021413</td>\n",
       "    </tr>\n",
       "    <tr>\n",
       "      <th>3</th>\n",
       "      <td>song</td>\n",
       "      <td>0.019825</td>\n",
       "    </tr>\n",
       "    <tr>\n",
       "      <th>4</th>\n",
       "      <td>zhu</td>\n",
       "      <td>0.016772</td>\n",
       "    </tr>\n",
       "    <tr>\n",
       "      <th>5</th>\n",
       "      <td>korean</td>\n",
       "      <td>0.016440</td>\n",
       "    </tr>\n",
       "    <tr>\n",
       "      <th>6</th>\n",
       "      <td>kids</td>\n",
       "      <td>0.016178</td>\n",
       "    </tr>\n",
       "    <tr>\n",
       "      <th>7</th>\n",
       "      <td>video</td>\n",
       "      <td>0.016035</td>\n",
       "    </tr>\n",
       "    <tr>\n",
       "      <th>8</th>\n",
       "      <td>uta</td>\n",
       "      <td>0.014291</td>\n",
       "    </tr>\n",
       "    <tr>\n",
       "      <th>9</th>\n",
       "      <td>tanaami</td>\n",
       "      <td>0.014044</td>\n",
       "    </tr>\n",
       "  </tbody>\n",
       "</table>\n",
       "</div>"
      ],
      "text/plain": [
       "    feature    weight\n",
       "0  dementia  0.037829\n",
       "1     music  0.028015\n",
       "2     short  0.021413\n",
       "3      song  0.019825\n",
       "4       zhu  0.016772\n",
       "5    korean  0.016440\n",
       "6      kids  0.016178\n",
       "7     video  0.016035\n",
       "8       uta  0.014291\n",
       "9   tanaami  0.014044"
      ]
     },
     "execution_count": 156,
     "metadata": {},
     "output_type": "execute_result"
    }
   ],
   "source": [
    "# features with the most negative impact\n",
    "significant_features(tfidf_reg_params, reverse=True)"
   ]
  },
  {
   "cell_type": "code",
   "execution_count": 157,
   "metadata": {},
   "outputs": [
    {
     "data": {
      "text/plain": [
       "0.5346310909856803"
      ]
     },
     "execution_count": 157,
     "metadata": {},
     "output_type": "execute_result"
    }
   ],
   "source": [
    "cb_model_evaluation(tfidf_reg_params, anime_test, favorites_data, all_anime_data, cb_distances)"
   ]
  },
  {
   "cell_type": "markdown",
   "metadata": {},
   "source": [
    "### Shap values for Ridge regression with TFIDF"
   ]
  },
  {
   "cell_type": "code",
   "execution_count": 159,
   "metadata": {},
   "outputs": [
    {
     "data": {
      "text/html": [
       "<div>\n",
       "<style scoped>\n",
       "    .dataframe tbody tr th:only-of-type {\n",
       "        vertical-align: middle;\n",
       "    }\n",
       "\n",
       "    .dataframe tbody tr th {\n",
       "        vertical-align: top;\n",
       "    }\n",
       "\n",
       "    .dataframe thead th {\n",
       "        text-align: right;\n",
       "    }\n",
       "</style>\n",
       "<table border=\"1\" class=\"dataframe\">\n",
       "  <thead>\n",
       "    <tr style=\"text-align: right;\">\n",
       "      <th></th>\n",
       "      <th>anime_id</th>\n",
       "      <th>tokens</th>\n",
       "      <th>score</th>\n",
       "    </tr>\n",
       "  </thead>\n",
       "  <tbody>\n",
       "    <tr>\n",
       "      <th>1</th>\n",
       "      <td>5</td>\n",
       "      <td>Cowboy Bebop: Tengoku no Tobira; Action, Drama...</td>\n",
       "      <td>8.40</td>\n",
       "    </tr>\n",
       "    <tr>\n",
       "      <th>4</th>\n",
       "      <td>8</td>\n",
       "      <td>Bouken Ou Beet; Adventure, Fantasy, Shounen, S...</td>\n",
       "      <td>7.02</td>\n",
       "    </tr>\n",
       "  </tbody>\n",
       "</table>\n",
       "</div>"
      ],
      "text/plain": [
       "   anime_id                                             tokens  score\n",
       "1         5  Cowboy Bebop: Tengoku no Tobira; Action, Drama...   8.40\n",
       "4         8  Bouken Ou Beet; Adventure, Fantasy, Shounen, S...   7.02"
      ]
     },
     "execution_count": 159,
     "metadata": {},
     "output_type": "execute_result"
    }
   ],
   "source": [
    "anime_train.head(2)"
   ]
  },
  {
   "cell_type": "code",
   "execution_count": 171,
   "metadata": {},
   "outputs": [],
   "source": [
    "cb_config[\"model\"] = {\"alpha\": 10}"
   ]
  },
  {
   "cell_type": "code",
   "execution_count": 172,
   "metadata": {},
   "outputs": [],
   "source": [
    "tf_idf = TfidfVectorizer(**cb_config[\"vectorizer\"][\"tfidf\"])"
   ]
  },
  {
   "cell_type": "code",
   "execution_count": 173,
   "metadata": {},
   "outputs": [],
   "source": [
    "train_vectorized = tf_idf.fit_transform(anime_train[\"tokens\"]).toarray()"
   ]
  },
  {
   "cell_type": "code",
   "execution_count": 174,
   "metadata": {},
   "outputs": [],
   "source": [
    "ridge_tf_idf = Ridge(**cb_config[\"model\"])"
   ]
  },
  {
   "cell_type": "code",
   "execution_count": 175,
   "metadata": {},
   "outputs": [
    {
     "data": {
      "text/html": [
       "<style>#sk-container-id-16 {color: black;}#sk-container-id-16 pre{padding: 0;}#sk-container-id-16 div.sk-toggleable {background-color: white;}#sk-container-id-16 label.sk-toggleable__label {cursor: pointer;display: block;width: 100%;margin-bottom: 0;padding: 0.3em;box-sizing: border-box;text-align: center;}#sk-container-id-16 label.sk-toggleable__label-arrow:before {content: \"▸\";float: left;margin-right: 0.25em;color: #696969;}#sk-container-id-16 label.sk-toggleable__label-arrow:hover:before {color: black;}#sk-container-id-16 div.sk-estimator:hover label.sk-toggleable__label-arrow:before {color: black;}#sk-container-id-16 div.sk-toggleable__content {max-height: 0;max-width: 0;overflow: hidden;text-align: left;background-color: #f0f8ff;}#sk-container-id-16 div.sk-toggleable__content pre {margin: 0.2em;color: black;border-radius: 0.25em;background-color: #f0f8ff;}#sk-container-id-16 input.sk-toggleable__control:checked~div.sk-toggleable__content {max-height: 200px;max-width: 100%;overflow: auto;}#sk-container-id-16 input.sk-toggleable__control:checked~label.sk-toggleable__label-arrow:before {content: \"▾\";}#sk-container-id-16 div.sk-estimator input.sk-toggleable__control:checked~label.sk-toggleable__label {background-color: #d4ebff;}#sk-container-id-16 div.sk-label input.sk-toggleable__control:checked~label.sk-toggleable__label {background-color: #d4ebff;}#sk-container-id-16 input.sk-hidden--visually {border: 0;clip: rect(1px 1px 1px 1px);clip: rect(1px, 1px, 1px, 1px);height: 1px;margin: -1px;overflow: hidden;padding: 0;position: absolute;width: 1px;}#sk-container-id-16 div.sk-estimator {font-family: monospace;background-color: #f0f8ff;border: 1px dotted black;border-radius: 0.25em;box-sizing: border-box;margin-bottom: 0.5em;}#sk-container-id-16 div.sk-estimator:hover {background-color: #d4ebff;}#sk-container-id-16 div.sk-parallel-item::after {content: \"\";width: 100%;border-bottom: 1px solid gray;flex-grow: 1;}#sk-container-id-16 div.sk-label:hover label.sk-toggleable__label {background-color: #d4ebff;}#sk-container-id-16 div.sk-serial::before {content: \"\";position: absolute;border-left: 1px solid gray;box-sizing: border-box;top: 0;bottom: 0;left: 50%;z-index: 0;}#sk-container-id-16 div.sk-serial {display: flex;flex-direction: column;align-items: center;background-color: white;padding-right: 0.2em;padding-left: 0.2em;position: relative;}#sk-container-id-16 div.sk-item {position: relative;z-index: 1;}#sk-container-id-16 div.sk-parallel {display: flex;align-items: stretch;justify-content: center;background-color: white;position: relative;}#sk-container-id-16 div.sk-item::before, #sk-container-id-16 div.sk-parallel-item::before {content: \"\";position: absolute;border-left: 1px solid gray;box-sizing: border-box;top: 0;bottom: 0;left: 50%;z-index: -1;}#sk-container-id-16 div.sk-parallel-item {display: flex;flex-direction: column;z-index: 1;position: relative;background-color: white;}#sk-container-id-16 div.sk-parallel-item:first-child::after {align-self: flex-end;width: 50%;}#sk-container-id-16 div.sk-parallel-item:last-child::after {align-self: flex-start;width: 50%;}#sk-container-id-16 div.sk-parallel-item:only-child::after {width: 0;}#sk-container-id-16 div.sk-dashed-wrapped {border: 1px dashed gray;margin: 0 0.4em 0.5em 0.4em;box-sizing: border-box;padding-bottom: 0.4em;background-color: white;}#sk-container-id-16 div.sk-label label {font-family: monospace;font-weight: bold;display: inline-block;line-height: 1.2em;}#sk-container-id-16 div.sk-label-container {text-align: center;}#sk-container-id-16 div.sk-container {/* jupyter's `normalize.less` sets `[hidden] { display: none; }` but bootstrap.min.css set `[hidden] { display: none !important; }` so we also need the `!important` here to be able to override the default hidden behavior on the sphinx rendered scikit-learn.org. See: https://github.com/scikit-learn/scikit-learn/issues/21755 */display: inline-block !important;position: relative;}#sk-container-id-16 div.sk-text-repr-fallback {display: none;}</style><div id=\"sk-container-id-16\" class=\"sk-top-container\"><div class=\"sk-text-repr-fallback\"><pre>Ridge(alpha=10)</pre><b>In a Jupyter environment, please rerun this cell to show the HTML representation or trust the notebook. <br />On GitHub, the HTML representation is unable to render, please try loading this page with nbviewer.org.</b></div><div class=\"sk-container\" hidden><div class=\"sk-item\"><div class=\"sk-estimator sk-toggleable\"><input class=\"sk-toggleable__control sk-hidden--visually\" id=\"sk-estimator-id-28\" type=\"checkbox\" checked><label for=\"sk-estimator-id-28\" class=\"sk-toggleable__label sk-toggleable__label-arrow\">Ridge</label><div class=\"sk-toggleable__content\"><pre>Ridge(alpha=10)</pre></div></div></div></div></div>"
      ],
      "text/plain": [
       "Ridge(alpha=10)"
      ]
     },
     "execution_count": 175,
     "metadata": {},
     "output_type": "execute_result"
    }
   ],
   "source": [
    "ridge_tf_idf.fit(train_vectorized, anime_train[\"score\"])"
   ]
  },
  {
   "cell_type": "code",
   "execution_count": 176,
   "metadata": {},
   "outputs": [
    {
     "data": {
      "text/plain": [
       "6122"
      ]
     },
     "execution_count": 176,
     "metadata": {},
     "output_type": "execute_result"
    }
   ],
   "source": [
    "tf_idf.vocabulary_[\"music\"]"
   ]
  },
  {
   "cell_type": "code",
   "execution_count": 177,
   "metadata": {},
   "outputs": [],
   "source": [
    "train_preds_tf_idf = ridge_tf_idf.predict(train_vectorized)"
   ]
  },
  {
   "cell_type": "code",
   "execution_count": 178,
   "metadata": {},
   "outputs": [],
   "source": [
    "# explain the model's predictions using SHAP\n",
    "explainer = shap.explainers.Linear(ridge_tf_idf, train_vectorized)\n",
    "shap_values = explainer(train_vectorized)"
   ]
  },
  {
   "cell_type": "code",
   "execution_count": 179,
   "metadata": {},
   "outputs": [],
   "source": [
    "# we add back the feature names stripped by the TfidfVectorizer\n",
    "for word,idx in tf_idf.vocabulary_.items():\n",
    "    shap_values.feature_names[idx] = word"
   ]
  },
  {
   "cell_type": "code",
   "execution_count": 180,
   "metadata": {},
   "outputs": [
    {
     "name": "stderr",
     "output_type": "stream",
     "text": [
      "No data for colormapping provided via 'c'. Parameters 'vmin', 'vmax' will be ignored\n"
     ]
    },
    {
     "data": {
      "image/png": "[encoded data removed]",
      "text/plain": [
       "<Figure size 800x950 with 2 Axes>"
      ]
     },
     "metadata": {},
     "output_type": "display_data"
    }
   ],
   "source": [
    "shap.plots.beeswarm(shap_values, max_display=20)"
   ]
  },
  {
   "cell_type": "code",
   "execution_count": 181,
   "metadata": {},
   "outputs": [
    {
     "data": {
      "image/png": "[encoded data removed]",
      "text/plain": [
       "<Figure size 800x1150 with 3 Axes>"
      ]
     },
     "metadata": {},
     "output_type": "display_data"
    }
   ],
   "source": [
    "shap.plots.waterfall(shap_values[0], max_display=20)"
   ]
  },
  {
   "cell_type": "markdown",
   "metadata": {
    "id": "-MCKd6AVOTph"
   },
   "source": [
    "# Classification Task"
   ]
  },
  {
   "cell_type": "markdown",
   "metadata": {
    "id": "cv0mpSaxOTe9"
   },
   "source": [
    "- Your task is to turn regression model into classification model.\n",
    "- Use `LogisitcRegression` class from `sklearn` fro this.\n",
    "- adopt previously derived functions for the new approach.\n",
    "\n",
    "- try using more than 2 classes (i.e., not just binary)"
   ]
  },
  {
   "cell_type": "markdown",
   "metadata": {
    "id": "2IqwiPqpOTXT"
   },
   "source": [
    "In classification task we predict any category (label). Here we will predict whether the  anime can be recommended or not. We will do it in simple way. For example LogReg\n",
    "\n",
    "\n",
    "$$\n",
    "y_{pred} = \\frac{1}{1+e^{W*x +W_0}}\n",
    "$$\n",
    "\n",
    "But first of all we need to label our dataset. Let's take a look at the scores"
   ]
  },
  {
   "cell_type": "code",
   "execution_count": 183,
   "metadata": {
    "colab": {
     "base_uri": "https://localhost:8080/",
     "height": 283
    },
    "id": "HjZu4rYJOfTP",
    "outputId": "c6d5b066-1262-4dd1-f3fa-92e8082ccb1d"
   },
   "outputs": [
    {
     "data": {
      "image/png": "[encoded data removed]",
      "text/plain": [
       "<Figure size 640x480 with 1 Axes>"
      ]
     },
     "metadata": {},
     "output_type": "display_data"
    }
   ],
   "source": [
    "anime_train.query('score>0').score.hist(bins=10);"
   ]
  },
  {
   "cell_type": "code",
   "execution_count": 184,
   "metadata": {
    "colab": {
     "base_uri": "https://localhost:8080/"
    },
    "id": "7mjpZlG6OhzB",
    "outputId": "c8f1fd71-7728-46c9-ae36-716b65dfcdc1"
   },
   "outputs": [
    {
     "data": {
      "text/plain": [
       "6.242818504821985"
      ]
     },
     "execution_count": 184,
     "metadata": {},
     "output_type": "execute_result"
    }
   ],
   "source": [
    "anime_train.query('score>0').score.mean()"
   ]
  },
  {
   "cell_type": "markdown",
   "metadata": {
    "id": "k1OyTb8UOTQM"
   },
   "source": [
    "The histogram shows that the mean of our average score distribution is a little bit disolased.\n",
    "So we can take its mean as a borderline and say, that all the animes with average score < 6.24 are lame,  and all the animes with scores above this value are lit"
   ]
  },
  {
   "cell_type": "markdown",
   "metadata": {},
   "source": [
    "#### What kind of interactions data could we get and how could we transform the target to get binary targets?"
   ]
  },
  {
   "cell_type": "code",
   "execution_count": 187,
   "metadata": {
    "id": "tV7_WEO0O1Em"
   },
   "outputs": [],
   "source": [
    "def assign_labels(data, cutoff):\n",
    "    '''Add the binary `recommend` field based on the score cutoff value'''\n",
    "    labeled_df = data.assign(\n",
    "        recommend = lambda x: x['score'].ge(cutoff).astype(int)\n",
    "    )\n",
    "    return labeled_df"
   ]
  },
  {
   "cell_type": "markdown",
   "metadata": {},
   "source": [
    "### Logistic regression with binary features"
   ]
  },
  {
   "cell_type": "code",
   "execution_count": 188,
   "metadata": {},
   "outputs": [],
   "source": [
    "cb_config[\"model\"] = {\"C\": 0.1, \n",
    "                      \"max_iter\": 1000, \n",
    "                      \"class_weight\": \"balanced\"\n",
    "                     }"
   ]
  },
  {
   "cell_type": "code",
   "execution_count": 190,
   "metadata": {},
   "outputs": [
    {
     "data": {
      "text/plain": [
       "0.5217170618519325"
      ]
     },
     "execution_count": 190,
     "metadata": {},
     "output_type": "execute_result"
    }
   ],
   "source": [
    "score_cutoff = 6.24\n",
    "\n",
    "gt_label = assign_labels(anime_train, score_cutoff)\n",
    "gt_label[\"recommend\"].mean()"
   ]
  },
  {
   "cell_type": "code",
   "execution_count": 191,
   "metadata": {
    "id": "SAbkP0c_O8tw"
   },
   "outputs": [],
   "source": [
    "logreg_params = build_cb_model(\n",
    "    cb_config,\n",
    "    # extend dataset with class labels\n",
    "    gt_label,\n",
    "     # target 0/1 instead of raw scores\n",
    "    {**anime_description, **{'feedback': 'recommend'}},\n",
    "    # use logistic regression instead of LR \n",
    "    logistic = True,\n",
    "    binary_vectorizer = True\n",
    ")"
   ]
  },
  {
   "cell_type": "code",
   "execution_count": 192,
   "metadata": {},
   "outputs": [
    {
     "data": {
      "text/html": [
       "<style>#sk-container-id-17 {color: black;}#sk-container-id-17 pre{padding: 0;}#sk-container-id-17 div.sk-toggleable {background-color: white;}#sk-container-id-17 label.sk-toggleable__label {cursor: pointer;display: block;width: 100%;margin-bottom: 0;padding: 0.3em;box-sizing: border-box;text-align: center;}#sk-container-id-17 label.sk-toggleable__label-arrow:before {content: \"▸\";float: left;margin-right: 0.25em;color: #696969;}#sk-container-id-17 label.sk-toggleable__label-arrow:hover:before {color: black;}#sk-container-id-17 div.sk-estimator:hover label.sk-toggleable__label-arrow:before {color: black;}#sk-container-id-17 div.sk-toggleable__content {max-height: 0;max-width: 0;overflow: hidden;text-align: left;background-color: #f0f8ff;}#sk-container-id-17 div.sk-toggleable__content pre {margin: 0.2em;color: black;border-radius: 0.25em;background-color: #f0f8ff;}#sk-container-id-17 input.sk-toggleable__control:checked~div.sk-toggleable__content {max-height: 200px;max-width: 100%;overflow: auto;}#sk-container-id-17 input.sk-toggleable__control:checked~label.sk-toggleable__label-arrow:before {content: \"▾\";}#sk-container-id-17 div.sk-estimator input.sk-toggleable__control:checked~label.sk-toggleable__label {background-color: #d4ebff;}#sk-container-id-17 div.sk-label input.sk-toggleable__control:checked~label.sk-toggleable__label {background-color: #d4ebff;}#sk-container-id-17 input.sk-hidden--visually {border: 0;clip: rect(1px 1px 1px 1px);clip: rect(1px, 1px, 1px, 1px);height: 1px;margin: -1px;overflow: hidden;padding: 0;position: absolute;width: 1px;}#sk-container-id-17 div.sk-estimator {font-family: monospace;background-color: #f0f8ff;border: 1px dotted black;border-radius: 0.25em;box-sizing: border-box;margin-bottom: 0.5em;}#sk-container-id-17 div.sk-estimator:hover {background-color: #d4ebff;}#sk-container-id-17 div.sk-parallel-item::after {content: \"\";width: 100%;border-bottom: 1px solid gray;flex-grow: 1;}#sk-container-id-17 div.sk-label:hover label.sk-toggleable__label {background-color: #d4ebff;}#sk-container-id-17 div.sk-serial::before {content: \"\";position: absolute;border-left: 1px solid gray;box-sizing: border-box;top: 0;bottom: 0;left: 50%;z-index: 0;}#sk-container-id-17 div.sk-serial {display: flex;flex-direction: column;align-items: center;background-color: white;padding-right: 0.2em;padding-left: 0.2em;position: relative;}#sk-container-id-17 div.sk-item {position: relative;z-index: 1;}#sk-container-id-17 div.sk-parallel {display: flex;align-items: stretch;justify-content: center;background-color: white;position: relative;}#sk-container-id-17 div.sk-item::before, #sk-container-id-17 div.sk-parallel-item::before {content: \"\";position: absolute;border-left: 1px solid gray;box-sizing: border-box;top: 0;bottom: 0;left: 50%;z-index: -1;}#sk-container-id-17 div.sk-parallel-item {display: flex;flex-direction: column;z-index: 1;position: relative;background-color: white;}#sk-container-id-17 div.sk-parallel-item:first-child::after {align-self: flex-end;width: 50%;}#sk-container-id-17 div.sk-parallel-item:last-child::after {align-self: flex-start;width: 50%;}#sk-container-id-17 div.sk-parallel-item:only-child::after {width: 0;}#sk-container-id-17 div.sk-dashed-wrapped {border: 1px dashed gray;margin: 0 0.4em 0.5em 0.4em;box-sizing: border-box;padding-bottom: 0.4em;background-color: white;}#sk-container-id-17 div.sk-label label {font-family: monospace;font-weight: bold;display: inline-block;line-height: 1.2em;}#sk-container-id-17 div.sk-label-container {text-align: center;}#sk-container-id-17 div.sk-container {/* jupyter's `normalize.less` sets `[hidden] { display: none; }` but bootstrap.min.css set `[hidden] { display: none !important; }` so we also need the `!important` here to be able to override the default hidden behavior on the sphinx rendered scikit-learn.org. See: https://github.com/scikit-learn/scikit-learn/issues/21755 */display: inline-block !important;position: relative;}#sk-container-id-17 div.sk-text-repr-fallback {display: none;}</style><div id=\"sk-container-id-17\" class=\"sk-top-container\"><div class=\"sk-text-repr-fallback\"><pre>CountVectorizer(binary=True, max_df=0.9, min_df=5, stop_words=&#x27;english&#x27;,\n",
       "                strip_accents=&#x27;unicode&#x27;)</pre><b>In a Jupyter environment, please rerun this cell to show the HTML representation or trust the notebook. <br />On GitHub, the HTML representation is unable to render, please try loading this page with nbviewer.org.</b></div><div class=\"sk-container\" hidden><div class=\"sk-item\"><div class=\"sk-estimator sk-toggleable\"><input class=\"sk-toggleable__control sk-hidden--visually\" id=\"sk-estimator-id-29\" type=\"checkbox\" checked><label for=\"sk-estimator-id-29\" class=\"sk-toggleable__label sk-toggleable__label-arrow\">CountVectorizer</label><div class=\"sk-toggleable__content\"><pre>CountVectorizer(binary=True, max_df=0.9, min_df=5, stop_words=&#x27;english&#x27;,\n",
       "                strip_accents=&#x27;unicode&#x27;)</pre></div></div></div></div></div>"
      ],
      "text/plain": [
       "CountVectorizer(binary=True, max_df=0.9, min_df=5, stop_words='english',\n",
       "                strip_accents='unicode')"
      ]
     },
     "execution_count": 192,
     "metadata": {},
     "output_type": "execute_result"
    }
   ],
   "source": [
    "logreg_params[1]"
   ]
  },
  {
   "cell_type": "code",
   "execution_count": 193,
   "metadata": {},
   "outputs": [
    {
     "data": {
      "text/html": [
       "<style>#sk-container-id-18 {color: black;}#sk-container-id-18 pre{padding: 0;}#sk-container-id-18 div.sk-toggleable {background-color: white;}#sk-container-id-18 label.sk-toggleable__label {cursor: pointer;display: block;width: 100%;margin-bottom: 0;padding: 0.3em;box-sizing: border-box;text-align: center;}#sk-container-id-18 label.sk-toggleable__label-arrow:before {content: \"▸\";float: left;margin-right: 0.25em;color: #696969;}#sk-container-id-18 label.sk-toggleable__label-arrow:hover:before {color: black;}#sk-container-id-18 div.sk-estimator:hover label.sk-toggleable__label-arrow:before {color: black;}#sk-container-id-18 div.sk-toggleable__content {max-height: 0;max-width: 0;overflow: hidden;text-align: left;background-color: #f0f8ff;}#sk-container-id-18 div.sk-toggleable__content pre {margin: 0.2em;color: black;border-radius: 0.25em;background-color: #f0f8ff;}#sk-container-id-18 input.sk-toggleable__control:checked~div.sk-toggleable__content {max-height: 200px;max-width: 100%;overflow: auto;}#sk-container-id-18 input.sk-toggleable__control:checked~label.sk-toggleable__label-arrow:before {content: \"▾\";}#sk-container-id-18 div.sk-estimator input.sk-toggleable__control:checked~label.sk-toggleable__label {background-color: #d4ebff;}#sk-container-id-18 div.sk-label input.sk-toggleable__control:checked~label.sk-toggleable__label {background-color: #d4ebff;}#sk-container-id-18 input.sk-hidden--visually {border: 0;clip: rect(1px 1px 1px 1px);clip: rect(1px, 1px, 1px, 1px);height: 1px;margin: -1px;overflow: hidden;padding: 0;position: absolute;width: 1px;}#sk-container-id-18 div.sk-estimator {font-family: monospace;background-color: #f0f8ff;border: 1px dotted black;border-radius: 0.25em;box-sizing: border-box;margin-bottom: 0.5em;}#sk-container-id-18 div.sk-estimator:hover {background-color: #d4ebff;}#sk-container-id-18 div.sk-parallel-item::after {content: \"\";width: 100%;border-bottom: 1px solid gray;flex-grow: 1;}#sk-container-id-18 div.sk-label:hover label.sk-toggleable__label {background-color: #d4ebff;}#sk-container-id-18 div.sk-serial::before {content: \"\";position: absolute;border-left: 1px solid gray;box-sizing: border-box;top: 0;bottom: 0;left: 50%;z-index: 0;}#sk-container-id-18 div.sk-serial {display: flex;flex-direction: column;align-items: center;background-color: white;padding-right: 0.2em;padding-left: 0.2em;position: relative;}#sk-container-id-18 div.sk-item {position: relative;z-index: 1;}#sk-container-id-18 div.sk-parallel {display: flex;align-items: stretch;justify-content: center;background-color: white;position: relative;}#sk-container-id-18 div.sk-item::before, #sk-container-id-18 div.sk-parallel-item::before {content: \"\";position: absolute;border-left: 1px solid gray;box-sizing: border-box;top: 0;bottom: 0;left: 50%;z-index: -1;}#sk-container-id-18 div.sk-parallel-item {display: flex;flex-direction: column;z-index: 1;position: relative;background-color: white;}#sk-container-id-18 div.sk-parallel-item:first-child::after {align-self: flex-end;width: 50%;}#sk-container-id-18 div.sk-parallel-item:last-child::after {align-self: flex-start;width: 50%;}#sk-container-id-18 div.sk-parallel-item:only-child::after {width: 0;}#sk-container-id-18 div.sk-dashed-wrapped {border: 1px dashed gray;margin: 0 0.4em 0.5em 0.4em;box-sizing: border-box;padding-bottom: 0.4em;background-color: white;}#sk-container-id-18 div.sk-label label {font-family: monospace;font-weight: bold;display: inline-block;line-height: 1.2em;}#sk-container-id-18 div.sk-label-container {text-align: center;}#sk-container-id-18 div.sk-container {/* jupyter's `normalize.less` sets `[hidden] { display: none; }` but bootstrap.min.css set `[hidden] { display: none !important; }` so we also need the `!important` here to be able to override the default hidden behavior on the sphinx rendered scikit-learn.org. See: https://github.com/scikit-learn/scikit-learn/issues/21755 */display: inline-block !important;position: relative;}#sk-container-id-18 div.sk-text-repr-fallback {display: none;}</style><div id=\"sk-container-id-18\" class=\"sk-top-container\"><div class=\"sk-text-repr-fallback\"><pre>LogisticRegression(C=0.1, class_weight=&#x27;balanced&#x27;, max_iter=1000)</pre><b>In a Jupyter environment, please rerun this cell to show the HTML representation or trust the notebook. <br />On GitHub, the HTML representation is unable to render, please try loading this page with nbviewer.org.</b></div><div class=\"sk-container\" hidden><div class=\"sk-item\"><div class=\"sk-estimator sk-toggleable\"><input class=\"sk-toggleable__control sk-hidden--visually\" id=\"sk-estimator-id-30\" type=\"checkbox\" checked><label for=\"sk-estimator-id-30\" class=\"sk-toggleable__label sk-toggleable__label-arrow\">LogisticRegression</label><div class=\"sk-toggleable__content\"><pre>LogisticRegression(C=0.1, class_weight=&#x27;balanced&#x27;, max_iter=1000)</pre></div></div></div></div></div>"
      ],
      "text/plain": [
       "LogisticRegression(C=0.1, class_weight='balanced', max_iter=1000)"
      ]
     },
     "execution_count": 193,
     "metadata": {},
     "output_type": "execute_result"
    }
   ],
   "source": [
    "logreg_params[0]"
   ]
  },
  {
   "cell_type": "code",
   "execution_count": 194,
   "metadata": {},
   "outputs": [],
   "source": [
    "logreg_scores = cb_model_scoring(logreg_params, anime_train, anime_description)\n",
    "logreg_scores_test_anime = cb_model_scoring(logreg_params, anime_test_animes, anime_description)"
   ]
  },
  {
   "cell_type": "code",
   "execution_count": 195,
   "metadata": {},
   "outputs": [
    {
     "data": {
      "text/plain": [
       "0.8397312859884837"
      ]
     },
     "execution_count": 195,
     "metadata": {},
     "output_type": "execute_result"
    }
   ],
   "source": [
    "(logreg_scores_test_anime >= 0.5).astype(int).mean()"
   ]
  },
  {
   "cell_type": "code",
   "execution_count": 196,
   "metadata": {},
   "outputs": [
    {
     "data": {
      "text/plain": [
       "0.8354724095424553"
      ]
     },
     "execution_count": 196,
     "metadata": {},
     "output_type": "execute_result"
    }
   ],
   "source": [
    "accuracy_score(y_true=assign_labels(anime_train, score_cutoff)['recommend'], y_pred=(logreg_scores >= 0.5).astype(int))"
   ]
  },
  {
   "cell_type": "code",
   "execution_count": 197,
   "metadata": {},
   "outputs": [
    {
     "data": {
      "text/plain": [
       "0.8166986564299424"
      ]
     },
     "execution_count": 197,
     "metadata": {},
     "output_type": "execute_result"
    }
   ],
   "source": [
    "accuracy_score(y_true=assign_labels(anime_test_animes, score_cutoff)['recommend'], y_pred=(logreg_scores_test_anime >= 0.5).astype(int))"
   ]
  },
  {
   "cell_type": "code",
   "execution_count": 198,
   "metadata": {
    "colab": {
     "base_uri": "https://localhost:8080/"
    },
    "id": "K4AOtfJFQP9x",
    "outputId": "ec9250af-8968-4d29-fded-8bbed9fab915"
   },
   "outputs": [
    {
     "data": {
      "text/plain": [
       "0.5631352523593903"
      ]
     },
     "execution_count": 198,
     "metadata": {},
     "output_type": "execute_result"
    }
   ],
   "source": [
    "cb_model_evaluation(logreg_params, anime_test, favorites_data, all_anime_data, cb_distances)"
   ]
  },
  {
   "cell_type": "markdown",
   "metadata": {},
   "source": [
    "#### Logistic regression feature importance"
   ]
  },
  {
   "cell_type": "code",
   "execution_count": 199,
   "metadata": {
    "colab": {
     "base_uri": "https://localhost:8080/",
     "height": 363
    },
    "id": "xps3UsRELdbn",
    "outputId": "2f7dc9b0-0f10-42f2-9d07-dc2731b6ae86"
   },
   "outputs": [
    {
     "data": {
      "text/html": [
       "<div>\n",
       "<style scoped>\n",
       "    .dataframe tbody tr th:only-of-type {\n",
       "        vertical-align: middle;\n",
       "    }\n",
       "\n",
       "    .dataframe tbody tr th {\n",
       "        vertical-align: top;\n",
       "    }\n",
       "\n",
       "    .dataframe thead th {\n",
       "        text-align: right;\n",
       "    }\n",
       "</style>\n",
       "<table border=\"1\" class=\"dataframe\">\n",
       "  <thead>\n",
       "    <tr style=\"text-align: right;\">\n",
       "      <th></th>\n",
       "      <th>feature</th>\n",
       "      <th>weight</th>\n",
       "    </tr>\n",
       "  </thead>\n",
       "  <tbody>\n",
       "    <tr>\n",
       "      <th>0</th>\n",
       "      <td>shounen</td>\n",
       "      <td>0.829396</td>\n",
       "    </tr>\n",
       "    <tr>\n",
       "      <th>1</th>\n",
       "      <td>pokemon</td>\n",
       "      <td>0.822931</td>\n",
       "    </tr>\n",
       "    <tr>\n",
       "      <th>2</th>\n",
       "      <td>drama</td>\n",
       "      <td>0.733493</td>\n",
       "    </tr>\n",
       "    <tr>\n",
       "      <th>3</th>\n",
       "      <td>educational</td>\n",
       "      <td>0.726445</td>\n",
       "    </tr>\n",
       "    <tr>\n",
       "      <th>4</th>\n",
       "      <td>doraemon</td>\n",
       "      <td>0.713337</td>\n",
       "    </tr>\n",
       "    <tr>\n",
       "      <th>5</th>\n",
       "      <td>mystery</td>\n",
       "      <td>0.697984</td>\n",
       "    </tr>\n",
       "    <tr>\n",
       "      <th>6</th>\n",
       "      <td>seinen</td>\n",
       "      <td>0.689838</td>\n",
       "    </tr>\n",
       "    <tr>\n",
       "      <th>7</th>\n",
       "      <td>idolish7</td>\n",
       "      <td>0.667570</td>\n",
       "    </tr>\n",
       "    <tr>\n",
       "      <th>8</th>\n",
       "      <td>safety</td>\n",
       "      <td>0.650247</td>\n",
       "    </tr>\n",
       "    <tr>\n",
       "      <th>9</th>\n",
       "      <td>harem</td>\n",
       "      <td>0.646360</td>\n",
       "    </tr>\n",
       "  </tbody>\n",
       "</table>\n",
       "</div>"
      ],
      "text/plain": [
       "       feature    weight\n",
       "0      shounen  0.829396\n",
       "1      pokemon  0.822931\n",
       "2        drama  0.733493\n",
       "3  educational  0.726445\n",
       "4     doraemon  0.713337\n",
       "5      mystery  0.697984\n",
       "6       seinen  0.689838\n",
       "7     idolish7  0.667570\n",
       "8       safety  0.650247\n",
       "9        harem  0.646360"
      ]
     },
     "execution_count": 199,
     "metadata": {},
     "output_type": "execute_result"
    }
   ],
   "source": [
    "# features with the most positive impact\n",
    "significant_features(logreg_params)"
   ]
  },
  {
   "cell_type": "code",
   "execution_count": 200,
   "metadata": {
    "colab": {
     "base_uri": "https://localhost:8080/",
     "height": 363
    },
    "id": "HoTaW2hwN7Jq",
    "outputId": "af349aed-c6c3-49f2-d5f2-7f83147ba312"
   },
   "outputs": [
    {
     "data": {
      "text/html": [
       "<div>\n",
       "<style scoped>\n",
       "    .dataframe tbody tr th:only-of-type {\n",
       "        vertical-align: middle;\n",
       "    }\n",
       "\n",
       "    .dataframe tbody tr th {\n",
       "        vertical-align: top;\n",
       "    }\n",
       "\n",
       "    .dataframe thead th {\n",
       "        text-align: right;\n",
       "    }\n",
       "</style>\n",
       "<table border=\"1\" class=\"dataframe\">\n",
       "  <thead>\n",
       "    <tr style=\"text-align: right;\">\n",
       "      <th></th>\n",
       "      <th>feature</th>\n",
       "      <th>weight</th>\n",
       "    </tr>\n",
       "  </thead>\n",
       "  <tbody>\n",
       "    <tr>\n",
       "      <th>0</th>\n",
       "      <td>dementia</td>\n",
       "      <td>1.081195</td>\n",
       "    </tr>\n",
       "    <tr>\n",
       "      <th>1</th>\n",
       "      <td>korean</td>\n",
       "      <td>0.887100</td>\n",
       "    </tr>\n",
       "    <tr>\n",
       "      <th>2</th>\n",
       "      <td>commercial</td>\n",
       "      <td>0.645749</td>\n",
       "    </tr>\n",
       "    <tr>\n",
       "      <th>3</th>\n",
       "      <td>peeping</td>\n",
       "      <td>0.642091</td>\n",
       "    </tr>\n",
       "    <tr>\n",
       "      <th>4</th>\n",
       "      <td>era</td>\n",
       "      <td>0.600385</td>\n",
       "    </tr>\n",
       "    <tr>\n",
       "      <th>5</th>\n",
       "      <td>promoting</td>\n",
       "      <td>0.598940</td>\n",
       "    </tr>\n",
       "    <tr>\n",
       "      <th>6</th>\n",
       "      <td>prefecture</td>\n",
       "      <td>0.557101</td>\n",
       "    </tr>\n",
       "    <tr>\n",
       "      <th>7</th>\n",
       "      <td>horror</td>\n",
       "      <td>0.547055</td>\n",
       "    </tr>\n",
       "    <tr>\n",
       "      <th>8</th>\n",
       "      <td>duel</td>\n",
       "      <td>0.541816</td>\n",
       "    </tr>\n",
       "    <tr>\n",
       "      <th>9</th>\n",
       "      <td>promotional</td>\n",
       "      <td>0.519528</td>\n",
       "    </tr>\n",
       "  </tbody>\n",
       "</table>\n",
       "</div>"
      ],
      "text/plain": [
       "       feature    weight\n",
       "0     dementia  1.081195\n",
       "1       korean  0.887100\n",
       "2   commercial  0.645749\n",
       "3      peeping  0.642091\n",
       "4          era  0.600385\n",
       "5    promoting  0.598940\n",
       "6   prefecture  0.557101\n",
       "7       horror  0.547055\n",
       "8         duel  0.541816\n",
       "9  promotional  0.519528"
      ]
     },
     "execution_count": 200,
     "metadata": {},
     "output_type": "execute_result"
    }
   ],
   "source": [
    "# features with the most negative impact\n",
    "significant_features(logreg_params, reverse=True)"
   ]
  },
  {
   "cell_type": "markdown",
   "metadata": {},
   "source": [
    "### Logistic regression with TFIDF features"
   ]
  },
  {
   "cell_type": "code",
   "execution_count": 201,
   "metadata": {},
   "outputs": [],
   "source": [
    "cb_config[\"model\"] = {\"C\": 0.0001, \n",
    "                      \"max_iter\": 1000, \n",
    "                      \"class_weight\": \"balanced\"\n",
    "                     }"
   ]
  },
  {
   "cell_type": "code",
   "execution_count": 202,
   "metadata": {
    "id": "SAbkP0c_O8tw"
   },
   "outputs": [],
   "source": [
    "logreg_params = build_cb_model(\n",
    "    cb_config,\n",
    "    # extend dataset with class labels\n",
    "    gt_label,\n",
    "     # target 0/1 instead of raw scores\n",
    "    {**anime_description, **{'feedback': 'recommend'}},\n",
    "    # use logistic regression instead of LR \n",
    "    logistic = True,\n",
    "    binary_vectorizer = False\n",
    ")"
   ]
  },
  {
   "cell_type": "code",
   "execution_count": 203,
   "metadata": {},
   "outputs": [
    {
     "data": {
      "text/html": [
       "<style>#sk-container-id-19 {color: black;}#sk-container-id-19 pre{padding: 0;}#sk-container-id-19 div.sk-toggleable {background-color: white;}#sk-container-id-19 label.sk-toggleable__label {cursor: pointer;display: block;width: 100%;margin-bottom: 0;padding: 0.3em;box-sizing: border-box;text-align: center;}#sk-container-id-19 label.sk-toggleable__label-arrow:before {content: \"▸\";float: left;margin-right: 0.25em;color: #696969;}#sk-container-id-19 label.sk-toggleable__label-arrow:hover:before {color: black;}#sk-container-id-19 div.sk-estimator:hover label.sk-toggleable__label-arrow:before {color: black;}#sk-container-id-19 div.sk-toggleable__content {max-height: 0;max-width: 0;overflow: hidden;text-align: left;background-color: #f0f8ff;}#sk-container-id-19 div.sk-toggleable__content pre {margin: 0.2em;color: black;border-radius: 0.25em;background-color: #f0f8ff;}#sk-container-id-19 input.sk-toggleable__control:checked~div.sk-toggleable__content {max-height: 200px;max-width: 100%;overflow: auto;}#sk-container-id-19 input.sk-toggleable__control:checked~label.sk-toggleable__label-arrow:before {content: \"▾\";}#sk-container-id-19 div.sk-estimator input.sk-toggleable__control:checked~label.sk-toggleable__label {background-color: #d4ebff;}#sk-container-id-19 div.sk-label input.sk-toggleable__control:checked~label.sk-toggleable__label {background-color: #d4ebff;}#sk-container-id-19 input.sk-hidden--visually {border: 0;clip: rect(1px 1px 1px 1px);clip: rect(1px, 1px, 1px, 1px);height: 1px;margin: -1px;overflow: hidden;padding: 0;position: absolute;width: 1px;}#sk-container-id-19 div.sk-estimator {font-family: monospace;background-color: #f0f8ff;border: 1px dotted black;border-radius: 0.25em;box-sizing: border-box;margin-bottom: 0.5em;}#sk-container-id-19 div.sk-estimator:hover {background-color: #d4ebff;}#sk-container-id-19 div.sk-parallel-item::after {content: \"\";width: 100%;border-bottom: 1px solid gray;flex-grow: 1;}#sk-container-id-19 div.sk-label:hover label.sk-toggleable__label {background-color: #d4ebff;}#sk-container-id-19 div.sk-serial::before {content: \"\";position: absolute;border-left: 1px solid gray;box-sizing: border-box;top: 0;bottom: 0;left: 50%;z-index: 0;}#sk-container-id-19 div.sk-serial {display: flex;flex-direction: column;align-items: center;background-color: white;padding-right: 0.2em;padding-left: 0.2em;position: relative;}#sk-container-id-19 div.sk-item {position: relative;z-index: 1;}#sk-container-id-19 div.sk-parallel {display: flex;align-items: stretch;justify-content: center;background-color: white;position: relative;}#sk-container-id-19 div.sk-item::before, #sk-container-id-19 div.sk-parallel-item::before {content: \"\";position: absolute;border-left: 1px solid gray;box-sizing: border-box;top: 0;bottom: 0;left: 50%;z-index: -1;}#sk-container-id-19 div.sk-parallel-item {display: flex;flex-direction: column;z-index: 1;position: relative;background-color: white;}#sk-container-id-19 div.sk-parallel-item:first-child::after {align-self: flex-end;width: 50%;}#sk-container-id-19 div.sk-parallel-item:last-child::after {align-self: flex-start;width: 50%;}#sk-container-id-19 div.sk-parallel-item:only-child::after {width: 0;}#sk-container-id-19 div.sk-dashed-wrapped {border: 1px dashed gray;margin: 0 0.4em 0.5em 0.4em;box-sizing: border-box;padding-bottom: 0.4em;background-color: white;}#sk-container-id-19 div.sk-label label {font-family: monospace;font-weight: bold;display: inline-block;line-height: 1.2em;}#sk-container-id-19 div.sk-label-container {text-align: center;}#sk-container-id-19 div.sk-container {/* jupyter's `normalize.less` sets `[hidden] { display: none; }` but bootstrap.min.css set `[hidden] { display: none !important; }` so we also need the `!important` here to be able to override the default hidden behavior on the sphinx rendered scikit-learn.org. See: https://github.com/scikit-learn/scikit-learn/issues/21755 */display: inline-block !important;position: relative;}#sk-container-id-19 div.sk-text-repr-fallback {display: none;}</style><div id=\"sk-container-id-19\" class=\"sk-top-container\"><div class=\"sk-text-repr-fallback\"><pre>Pipeline(steps=[(&#x27;tfidf&#x27;,\n",
       "                 TfidfVectorizer(max_df=0.9, min_df=5, stop_words=&#x27;english&#x27;,\n",
       "                                 strip_accents=&#x27;unicode&#x27;, sublinear_tf=True)),\n",
       "                (&#x27;dense&#x27;, &lt;__main__.DenseTransformer object at 0x13975fe80&gt;),\n",
       "                (&#x27;scaler&#x27;, StandardScaler())])</pre><b>In a Jupyter environment, please rerun this cell to show the HTML representation or trust the notebook. <br />On GitHub, the HTML representation is unable to render, please try loading this page with nbviewer.org.</b></div><div class=\"sk-container\" hidden><div class=\"sk-item sk-dashed-wrapped\"><div class=\"sk-label-container\"><div class=\"sk-label sk-toggleable\"><input class=\"sk-toggleable__control sk-hidden--visually\" id=\"sk-estimator-id-31\" type=\"checkbox\" ><label for=\"sk-estimator-id-31\" class=\"sk-toggleable__label sk-toggleable__label-arrow\">Pipeline</label><div class=\"sk-toggleable__content\"><pre>Pipeline(steps=[(&#x27;tfidf&#x27;,\n",
       "                 TfidfVectorizer(max_df=0.9, min_df=5, stop_words=&#x27;english&#x27;,\n",
       "                                 strip_accents=&#x27;unicode&#x27;, sublinear_tf=True)),\n",
       "                (&#x27;dense&#x27;, &lt;__main__.DenseTransformer object at 0x13975fe80&gt;),\n",
       "                (&#x27;scaler&#x27;, StandardScaler())])</pre></div></div></div><div class=\"sk-serial\"><div class=\"sk-item\"><div class=\"sk-estimator sk-toggleable\"><input class=\"sk-toggleable__control sk-hidden--visually\" id=\"sk-estimator-id-32\" type=\"checkbox\" ><label for=\"sk-estimator-id-32\" class=\"sk-toggleable__label sk-toggleable__label-arrow\">TfidfVectorizer</label><div class=\"sk-toggleable__content\"><pre>TfidfVectorizer(max_df=0.9, min_df=5, stop_words=&#x27;english&#x27;,\n",
       "                strip_accents=&#x27;unicode&#x27;, sublinear_tf=True)</pre></div></div></div><div class=\"sk-item\"><div class=\"sk-estimator sk-toggleable\"><input class=\"sk-toggleable__control sk-hidden--visually\" id=\"sk-estimator-id-33\" type=\"checkbox\" ><label for=\"sk-estimator-id-33\" class=\"sk-toggleable__label sk-toggleable__label-arrow\">DenseTransformer</label><div class=\"sk-toggleable__content\"><pre>&lt;__main__.DenseTransformer object at 0x13975fe80&gt;</pre></div></div></div><div class=\"sk-item\"><div class=\"sk-estimator sk-toggleable\"><input class=\"sk-toggleable__control sk-hidden--visually\" id=\"sk-estimator-id-34\" type=\"checkbox\" ><label for=\"sk-estimator-id-34\" class=\"sk-toggleable__label sk-toggleable__label-arrow\">StandardScaler</label><div class=\"sk-toggleable__content\"><pre>StandardScaler()</pre></div></div></div></div></div></div></div>"
      ],
      "text/plain": [
       "Pipeline(steps=[('tfidf',\n",
       "                 TfidfVectorizer(max_df=0.9, min_df=5, stop_words='english',\n",
       "                                 strip_accents='unicode', sublinear_tf=True)),\n",
       "                ('dense', <__main__.DenseTransformer object at 0x13975fe80>),\n",
       "                ('scaler', StandardScaler())])"
      ]
     },
     "execution_count": 203,
     "metadata": {},
     "output_type": "execute_result"
    }
   ],
   "source": [
    "logreg_params[1]"
   ]
  },
  {
   "cell_type": "code",
   "execution_count": 204,
   "metadata": {},
   "outputs": [
    {
     "data": {
      "text/html": [
       "<style>#sk-container-id-20 {color: black;}#sk-container-id-20 pre{padding: 0;}#sk-container-id-20 div.sk-toggleable {background-color: white;}#sk-container-id-20 label.sk-toggleable__label {cursor: pointer;display: block;width: 100%;margin-bottom: 0;padding: 0.3em;box-sizing: border-box;text-align: center;}#sk-container-id-20 label.sk-toggleable__label-arrow:before {content: \"▸\";float: left;margin-right: 0.25em;color: #696969;}#sk-container-id-20 label.sk-toggleable__label-arrow:hover:before {color: black;}#sk-container-id-20 div.sk-estimator:hover label.sk-toggleable__label-arrow:before {color: black;}#sk-container-id-20 div.sk-toggleable__content {max-height: 0;max-width: 0;overflow: hidden;text-align: left;background-color: #f0f8ff;}#sk-container-id-20 div.sk-toggleable__content pre {margin: 0.2em;color: black;border-radius: 0.25em;background-color: #f0f8ff;}#sk-container-id-20 input.sk-toggleable__control:checked~div.sk-toggleable__content {max-height: 200px;max-width: 100%;overflow: auto;}#sk-container-id-20 input.sk-toggleable__control:checked~label.sk-toggleable__label-arrow:before {content: \"▾\";}#sk-container-id-20 div.sk-estimator input.sk-toggleable__control:checked~label.sk-toggleable__label {background-color: #d4ebff;}#sk-container-id-20 div.sk-label input.sk-toggleable__control:checked~label.sk-toggleable__label {background-color: #d4ebff;}#sk-container-id-20 input.sk-hidden--visually {border: 0;clip: rect(1px 1px 1px 1px);clip: rect(1px, 1px, 1px, 1px);height: 1px;margin: -1px;overflow: hidden;padding: 0;position: absolute;width: 1px;}#sk-container-id-20 div.sk-estimator {font-family: monospace;background-color: #f0f8ff;border: 1px dotted black;border-radius: 0.25em;box-sizing: border-box;margin-bottom: 0.5em;}#sk-container-id-20 div.sk-estimator:hover {background-color: #d4ebff;}#sk-container-id-20 div.sk-parallel-item::after {content: \"\";width: 100%;border-bottom: 1px solid gray;flex-grow: 1;}#sk-container-id-20 div.sk-label:hover label.sk-toggleable__label {background-color: #d4ebff;}#sk-container-id-20 div.sk-serial::before {content: \"\";position: absolute;border-left: 1px solid gray;box-sizing: border-box;top: 0;bottom: 0;left: 50%;z-index: 0;}#sk-container-id-20 div.sk-serial {display: flex;flex-direction: column;align-items: center;background-color: white;padding-right: 0.2em;padding-left: 0.2em;position: relative;}#sk-container-id-20 div.sk-item {position: relative;z-index: 1;}#sk-container-id-20 div.sk-parallel {display: flex;align-items: stretch;justify-content: center;background-color: white;position: relative;}#sk-container-id-20 div.sk-item::before, #sk-container-id-20 div.sk-parallel-item::before {content: \"\";position: absolute;border-left: 1px solid gray;box-sizing: border-box;top: 0;bottom: 0;left: 50%;z-index: -1;}#sk-container-id-20 div.sk-parallel-item {display: flex;flex-direction: column;z-index: 1;position: relative;background-color: white;}#sk-container-id-20 div.sk-parallel-item:first-child::after {align-self: flex-end;width: 50%;}#sk-container-id-20 div.sk-parallel-item:last-child::after {align-self: flex-start;width: 50%;}#sk-container-id-20 div.sk-parallel-item:only-child::after {width: 0;}#sk-container-id-20 div.sk-dashed-wrapped {border: 1px dashed gray;margin: 0 0.4em 0.5em 0.4em;box-sizing: border-box;padding-bottom: 0.4em;background-color: white;}#sk-container-id-20 div.sk-label label {font-family: monospace;font-weight: bold;display: inline-block;line-height: 1.2em;}#sk-container-id-20 div.sk-label-container {text-align: center;}#sk-container-id-20 div.sk-container {/* jupyter's `normalize.less` sets `[hidden] { display: none; }` but bootstrap.min.css set `[hidden] { display: none !important; }` so we also need the `!important` here to be able to override the default hidden behavior on the sphinx rendered scikit-learn.org. See: https://github.com/scikit-learn/scikit-learn/issues/21755 */display: inline-block !important;position: relative;}#sk-container-id-20 div.sk-text-repr-fallback {display: none;}</style><div id=\"sk-container-id-20\" class=\"sk-top-container\"><div class=\"sk-text-repr-fallback\"><pre>LogisticRegression(C=0.0001, class_weight=&#x27;balanced&#x27;, max_iter=1000)</pre><b>In a Jupyter environment, please rerun this cell to show the HTML representation or trust the notebook. <br />On GitHub, the HTML representation is unable to render, please try loading this page with nbviewer.org.</b></div><div class=\"sk-container\" hidden><div class=\"sk-item\"><div class=\"sk-estimator sk-toggleable\"><input class=\"sk-toggleable__control sk-hidden--visually\" id=\"sk-estimator-id-35\" type=\"checkbox\" checked><label for=\"sk-estimator-id-35\" class=\"sk-toggleable__label sk-toggleable__label-arrow\">LogisticRegression</label><div class=\"sk-toggleable__content\"><pre>LogisticRegression(C=0.0001, class_weight=&#x27;balanced&#x27;, max_iter=1000)</pre></div></div></div></div></div>"
      ],
      "text/plain": [
       "LogisticRegression(C=0.0001, class_weight='balanced', max_iter=1000)"
      ]
     },
     "execution_count": 204,
     "metadata": {},
     "output_type": "execute_result"
    }
   ],
   "source": [
    "logreg_params[0]"
   ]
  },
  {
   "cell_type": "code",
   "execution_count": 205,
   "metadata": {},
   "outputs": [],
   "source": [
    "logreg_scores = cb_model_scoring(logreg_params, anime_train, anime_description)\n",
    "logreg_scores_test_anime = cb_model_scoring(logreg_params, anime_test_animes, anime_description)"
   ]
  },
  {
   "cell_type": "code",
   "execution_count": 206,
   "metadata": {
    "colab": {
     "base_uri": "https://localhost:8080/"
    },
    "id": "K4AOtfJFQP9x",
    "outputId": "ec9250af-8968-4d29-fded-8bbed9fab915"
   },
   "outputs": [
    {
     "data": {
      "text/plain": [
       "0.5441399744328244"
      ]
     },
     "execution_count": 206,
     "metadata": {},
     "output_type": "execute_result"
    }
   ],
   "source": [
    "cb_model_evaluation(logreg_params, anime_test, favorites_data, all_anime_data, cb_distances)"
   ]
  },
  {
   "cell_type": "markdown",
   "metadata": {},
   "source": [
    "#### Logistic regression feature importance"
   ]
  },
  {
   "cell_type": "code",
   "execution_count": 207,
   "metadata": {
    "colab": {
     "base_uri": "https://localhost:8080/",
     "height": 363
    },
    "id": "xps3UsRELdbn",
    "outputId": "2f7dc9b0-0f10-42f2-9d07-dc2731b6ae86"
   },
   "outputs": [
    {
     "data": {
      "text/html": [
       "<div>\n",
       "<style scoped>\n",
       "    .dataframe tbody tr th:only-of-type {\n",
       "        vertical-align: middle;\n",
       "    }\n",
       "\n",
       "    .dataframe tbody tr th {\n",
       "        vertical-align: top;\n",
       "    }\n",
       "\n",
       "    .dataframe thead th {\n",
       "        text-align: right;\n",
       "    }\n",
       "</style>\n",
       "<table border=\"1\" class=\"dataframe\">\n",
       "  <thead>\n",
       "    <tr style=\"text-align: right;\">\n",
       "      <th></th>\n",
       "      <th>feature</th>\n",
       "      <th>weight</th>\n",
       "    </tr>\n",
       "  </thead>\n",
       "  <tbody>\n",
       "    <tr>\n",
       "      <th>0</th>\n",
       "      <td>romance</td>\n",
       "      <td>0.039710</td>\n",
       "    </tr>\n",
       "    <tr>\n",
       "      <th>1</th>\n",
       "      <td>drama</td>\n",
       "      <td>0.039530</td>\n",
       "    </tr>\n",
       "    <tr>\n",
       "      <th>2</th>\n",
       "      <td>shounen</td>\n",
       "      <td>0.039207</td>\n",
       "    </tr>\n",
       "    <tr>\n",
       "      <th>3</th>\n",
       "      <td>school</td>\n",
       "      <td>0.034366</td>\n",
       "    </tr>\n",
       "    <tr>\n",
       "      <th>4</th>\n",
       "      <td>rewrite</td>\n",
       "      <td>0.033157</td>\n",
       "    </tr>\n",
       "    <tr>\n",
       "      <th>5</th>\n",
       "      <td>written</td>\n",
       "      <td>0.032244</td>\n",
       "    </tr>\n",
       "    <tr>\n",
       "      <th>6</th>\n",
       "      <td>mal</td>\n",
       "      <td>0.029859</td>\n",
       "    </tr>\n",
       "    <tr>\n",
       "      <th>7</th>\n",
       "      <td>mystery</td>\n",
       "      <td>0.024898</td>\n",
       "    </tr>\n",
       "    <tr>\n",
       "      <th>8</th>\n",
       "      <td>adventure</td>\n",
       "      <td>0.024843</td>\n",
       "    </tr>\n",
       "    <tr>\n",
       "      <th>9</th>\n",
       "      <td>doraemon</td>\n",
       "      <td>0.024455</td>\n",
       "    </tr>\n",
       "  </tbody>\n",
       "</table>\n",
       "</div>"
      ],
      "text/plain": [
       "     feature    weight\n",
       "0    romance  0.039710\n",
       "1      drama  0.039530\n",
       "2    shounen  0.039207\n",
       "3     school  0.034366\n",
       "4    rewrite  0.033157\n",
       "5    written  0.032244\n",
       "6        mal  0.029859\n",
       "7    mystery  0.024898\n",
       "8  adventure  0.024843\n",
       "9   doraemon  0.024455"
      ]
     },
     "execution_count": 207,
     "metadata": {},
     "output_type": "execute_result"
    }
   ],
   "source": [
    "# features with the most positive impact\n",
    "significant_features(logreg_params)"
   ]
  },
  {
   "cell_type": "code",
   "execution_count": 208,
   "metadata": {
    "colab": {
     "base_uri": "https://localhost:8080/",
     "height": 363
    },
    "id": "HoTaW2hwN7Jq",
    "outputId": "af349aed-c6c3-49f2-d5f2-7f83147ba312"
   },
   "outputs": [
    {
     "data": {
      "text/html": [
       "<div>\n",
       "<style scoped>\n",
       "    .dataframe tbody tr th:only-of-type {\n",
       "        vertical-align: middle;\n",
       "    }\n",
       "\n",
       "    .dataframe tbody tr th {\n",
       "        vertical-align: top;\n",
       "    }\n",
       "\n",
       "    .dataframe thead th {\n",
       "        text-align: right;\n",
       "    }\n",
       "</style>\n",
       "<table border=\"1\" class=\"dataframe\">\n",
       "  <thead>\n",
       "    <tr style=\"text-align: right;\">\n",
       "      <th></th>\n",
       "      <th>feature</th>\n",
       "      <th>weight</th>\n",
       "    </tr>\n",
       "  </thead>\n",
       "  <tbody>\n",
       "    <tr>\n",
       "      <th>0</th>\n",
       "      <td>music</td>\n",
       "      <td>0.047537</td>\n",
       "    </tr>\n",
       "    <tr>\n",
       "      <th>1</th>\n",
       "      <td>song</td>\n",
       "      <td>0.038225</td>\n",
       "    </tr>\n",
       "    <tr>\n",
       "      <th>2</th>\n",
       "      <td>dementia</td>\n",
       "      <td>0.037928</td>\n",
       "    </tr>\n",
       "    <tr>\n",
       "      <th>3</th>\n",
       "      <td>video</td>\n",
       "      <td>0.037832</td>\n",
       "    </tr>\n",
       "    <tr>\n",
       "      <th>4</th>\n",
       "      <td>kids</td>\n",
       "      <td>0.026110</td>\n",
       "    </tr>\n",
       "    <tr>\n",
       "      <th>5</th>\n",
       "      <td>short</td>\n",
       "      <td>0.025834</td>\n",
       "    </tr>\n",
       "    <tr>\n",
       "      <th>6</th>\n",
       "      <td>uta</td>\n",
       "      <td>0.022615</td>\n",
       "    </tr>\n",
       "    <tr>\n",
       "      <th>7</th>\n",
       "      <td>anidb</td>\n",
       "      <td>0.021844</td>\n",
       "    </tr>\n",
       "    <tr>\n",
       "      <th>8</th>\n",
       "      <td>official</td>\n",
       "      <td>0.020216</td>\n",
       "    </tr>\n",
       "    <tr>\n",
       "      <th>9</th>\n",
       "      <td>minna</td>\n",
       "      <td>0.020167</td>\n",
       "    </tr>\n",
       "  </tbody>\n",
       "</table>\n",
       "</div>"
      ],
      "text/plain": [
       "    feature    weight\n",
       "0     music  0.047537\n",
       "1      song  0.038225\n",
       "2  dementia  0.037928\n",
       "3     video  0.037832\n",
       "4      kids  0.026110\n",
       "5     short  0.025834\n",
       "6       uta  0.022615\n",
       "7     anidb  0.021844\n",
       "8  official  0.020216\n",
       "9     minna  0.020167"
      ]
     },
     "execution_count": 208,
     "metadata": {},
     "output_type": "execute_result"
    }
   ],
   "source": [
    "# features with the most negative impact\n",
    "significant_features(logreg_params, reverse=True)"
   ]
  },
  {
   "cell_type": "markdown",
   "metadata": {
    "id": "omzbcLvoY9-H"
   },
   "source": [
    "# Content-based similarity models"
   ]
  },
  {
   "cell_type": "markdown",
   "metadata": {},
   "source": [
    "We will build so called ***user profile***  - the weighted vector of user's preferences. This way, user represented as a vector of consolidated item features. "
   ]
  },
  {
   "cell_type": "markdown",
   "metadata": {
    "id": "8TtGzITjftru"
   },
   "source": [
    "### User profile construction\n",
    "\n",
    "Assuming we have a user $u$, who gave ratings $r_i$ to each anime $i\\in\\mathcal{I_u}$, represented by feature vector $a_i$,  the corresponding user feature profile vector is then defined as:\n",
    "\n",
    "$$\n",
    "v_{\\mathcal{I}_u} = \\frac{\\sum_{i\\in\\mathcal{I_u}} (r_i \\cdot a_{i})}{\\sum_{i\\in\\mathcal{I_u}} r_i}\n",
    "$$\n",
    "\n",
    "In order to provide recommendations for the specific user we are going to compare an anime vector representation to user profile vector, which will indicate how close this anime to user preferences from $\\mathcal{I_u}$."
   ]
  },
  {
   "attachments": {},
   "cell_type": "markdown",
   "metadata": {},
   "source": [
    "#### What are the other ways to construct a user profile? What could a the problem in the above formula?"
   ]
  },
  {
   "cell_type": "markdown",
   "metadata": {},
   "source": [
    "### The model"
   ]
  },
  {
   "cell_type": "code",
   "execution_count": 209,
   "metadata": {
    "id": "I-sA4590aQZ5"
   },
   "outputs": [],
   "source": [
    "def build_sim_model(config, trainset, trainset_description, binary_vectorizer=True):\n",
    "    _, word_vectorizer = generate_features(config, trainset, trainset_description, binary_vectorizer)\n",
    "    return None, word_vectorizer"
   ]
  },
  {
   "cell_type": "code",
   "execution_count": 210,
   "metadata": {
    "id": "QGHtFF-lB7NC"
   },
   "outputs": [],
   "source": [
    "sim_config = {\n",
    "    'vectorizer': cb_config['vectorizer'].copy()\n",
    "}"
   ]
  },
  {
   "cell_type": "code",
   "execution_count": 211,
   "metadata": {
    "colab": {
     "base_uri": "https://localhost:8080/"
    },
    "id": "QUREf_ytB7Jz",
    "outputId": "c0964ad3-aaca-4d2c-a3af-60a50f502396"
   },
   "outputs": [],
   "source": [
    "sim_params = build_sim_model(sim_config, anime_train, anime_description)"
   ]
  },
  {
   "cell_type": "code",
   "execution_count": 212,
   "metadata": {},
   "outputs": [
    {
     "data": {
      "text/plain": [
       "(None,\n",
       " CountVectorizer(binary=True, max_df=0.9, min_df=5, stop_words='english',\n",
       "                 strip_accents='unicode'))"
      ]
     },
     "execution_count": 212,
     "metadata": {},
     "output_type": "execute_result"
    }
   ],
   "source": [
    "sim_params"
   ]
  },
  {
   "cell_type": "markdown",
   "metadata": {},
   "source": [
    "### Evaluation"
   ]
  },
  {
   "cell_type": "markdown",
   "metadata": {},
   "source": [
    "For the evaluation purpose we are going to measure distances between vector representation of user's favourites and the user's likes and dislikes. We assume that cosine similarity of 1st pair of vectors is greater than cosine similarity of 2nd pair of vectors. Accordingly, the distance functions in the evaluation of CR metric can be set as:\n",
    "$$\n",
    "\\text{dist}(k,\\mathcal{I_u^+}) = 1-\\text{sim}(v_{\\mathcal{I}_u^+}, v_k), \\\\\n",
    "\\text{dist}(k,\\mathcal{I_u^-}) = 1-\\text{sim}(v_{\\mathcal{I}_u^-}, v_k),\n",
    "$$\n",
    "where $v_{I_u^+}$ and $v_{I_u^-}$ are user feature profiles (consolidated based on features of liked and disliked items) and $v_k$ is a favorite item feature vector."
   ]
  },
  {
   "cell_type": "markdown",
   "metadata": {},
   "source": [
    "#### Is cosine similarity better than dot product? What is be the difference?"
   ]
  },
  {
   "cell_type": "code",
   "execution_count": 213,
   "metadata": {},
   "outputs": [],
   "source": [
    "def sim_distances(user_id, likes, dislikes, params, favorites, anime_features):\n",
    "    \"\"\"\n",
    "    Caclulate the distance between user's favorites and likes, \n",
    "    as well as between user's favorites and dislikes based on scores of a content-based similarity model\n",
    "    \"\"\"\n",
    "    _, word_vectorizer = params\n",
    "    # get favorite items features representation\n",
    "    # (n_favorites, vocabulary size)\n",
    "    favorites_features = word_vectorizer.transform(anime_features.loc[favorites[user_id], 'tokens'].values)\n",
    "    # get user representation\n",
    "    user_profile_pos = generate_feature_profile(likes, word_vectorizer, anime_features)\n",
    "    # calculate distance from liked items to favorites\n",
    "    similarity_pos = feature_similarity(favorites_features, user_profile_pos)\n",
    "    # calculate distance from disliked items to favorites\n",
    "    user_profile_neg = generate_feature_profile(dislikes, word_vectorizer, anime_features)\n",
    "    similarity_neg = feature_similarity(favorites_features, user_profile_neg)\n",
    "    return 1-similarity_pos, 1-similarity_neg\n",
    "        \n",
    "def generate_feature_profile(items, word_vectorizer, item_features):\n",
    "    \"\"\"\n",
    "    Feature profile of a user\n",
    "    \"\"\"\n",
    "    scores = item_features.loc[items, 'score'].values\n",
    "    tokens = item_features.loc[items, 'tokens'].values\n",
    "    # (n_items, vocabulary size)\n",
    "    feature_matrix = word_vectorizer.transform(tokens)\n",
    "    # (n_items,)\n",
    "    weights = scores / np.sum(scores)\n",
    "    # (vocabulary size, )\n",
    "    return feature_matrix.T.dot(weights)\n",
    "\n",
    "def feature_similarity(feature_matrix, feature_profile):\n",
    "    \"\"\"\n",
    "    Caclulate the similarity between user's favorites and likes/dislikes, \n",
    "    based on content-based cosine similarity\n",
    "    \"\"\"\n",
    "    # (n_favorites, vocabulary size) @ (vocabulary size)\n",
    "    similarity = feature_matrix.dot(feature_profile)\n",
    "    weights = sparse_norm(feature_matrix, axis=1) * np.linalg.norm(feature_profile)\n",
    "    similarity /= weights\n",
    "    return similarity"
   ]
  },
  {
   "cell_type": "code",
   "execution_count": 214,
   "metadata": {},
   "outputs": [
    {
     "data": {
      "text/plain": [
       "0.5676271233414996"
      ]
     },
     "execution_count": 214,
     "metadata": {},
     "output_type": "execute_result"
    }
   ],
   "source": [
    "cb_model_evaluation(sim_params, anime_test, favorites_data, all_anime_data, sim_distances)"
   ]
  },
  {
   "cell_type": "markdown",
   "metadata": {},
   "source": [
    "#### TO DO: get the recommendation to the user by building the user's vector from his positives and finding the closest items"
   ]
  },
  {
   "cell_type": "code",
   "execution_count": 215,
   "metadata": {},
   "outputs": [
    {
     "data": {
      "text/plain": [
       "array([13759, 28817, 18679])"
      ]
     },
     "execution_count": 215,
     "metadata": {},
     "output_type": "execute_result"
    }
   ],
   "source": [
    "the_user_positives  = anime_test.loc[\"King_Of_Light\", :][\"likes\"]\n",
    "the_user_positives"
   ]
  },
  {
   "cell_type": "code",
   "execution_count": 217,
   "metadata": {},
   "outputs": [
    {
     "data": {
      "text/html": [
       "<div>\n",
       "<style scoped>\n",
       "    .dataframe tbody tr th:only-of-type {\n",
       "        vertical-align: middle;\n",
       "    }\n",
       "\n",
       "    .dataframe tbody tr th {\n",
       "        vertical-align: top;\n",
       "    }\n",
       "\n",
       "    .dataframe thead th {\n",
       "        text-align: right;\n",
       "    }\n",
       "</style>\n",
       "<table border=\"1\" class=\"dataframe\">\n",
       "  <thead>\n",
       "    <tr style=\"text-align: right;\">\n",
       "      <th></th>\n",
       "      <th>anime_id</th>\n",
       "      <th>title</th>\n",
       "      <th>synopsis</th>\n",
       "      <th>genre</th>\n",
       "    </tr>\n",
       "  </thead>\n",
       "  <tbody>\n",
       "    <tr>\n",
       "      <th>6991</th>\n",
       "      <td>13759</td>\n",
       "      <td>Sakura-sou no Pet na Kanojo</td>\n",
       "      <td>When abandoned kittens and his good conscience...</td>\n",
       "      <td>Slice of Life, Comedy, Drama, Romance, School</td>\n",
       "    </tr>\n",
       "    <tr>\n",
       "      <th>7891</th>\n",
       "      <td>18679</td>\n",
       "      <td>Kill la Kill</td>\n",
       "      <td>After the murder of her father, Ryuuko Matoi h...</td>\n",
       "      <td>Action, Comedy, Super Power, Ecchi, School</td>\n",
       "    </tr>\n",
       "    <tr>\n",
       "      <th>9813</th>\n",
       "      <td>28817</td>\n",
       "      <td>Mikagura Gakuen Kumikyoku (TV)</td>\n",
       "      <td>To be around cute girls wearing cute clothing ...</td>\n",
       "      <td>Action, Comedy, School, Shoujo Ai</td>\n",
       "    </tr>\n",
       "  </tbody>\n",
       "</table>\n",
       "</div>"
      ],
      "text/plain": [
       "      anime_id                           title  \\\n",
       "6991     13759     Sakura-sou no Pet na Kanojo   \n",
       "7891     18679                    Kill la Kill   \n",
       "9813     28817  Mikagura Gakuen Kumikyoku (TV)   \n",
       "\n",
       "                                               synopsis  \\\n",
       "6991  When abandoned kittens and his good conscience...   \n",
       "7891  After the murder of her father, Ryuuko Matoi h...   \n",
       "9813  To be around cute girls wearing cute clothing ...   \n",
       "\n",
       "                                              genre  \n",
       "6991  Slice of Life, Comedy, Drama, Romance, School  \n",
       "7891     Action, Comedy, Super Power, Ecchi, School  \n",
       "9813              Action, Comedy, School, Shoujo Ai  "
      ]
     },
     "execution_count": 217,
     "metadata": {},
     "output_type": "execute_result"
    }
   ],
   "source": [
    "anime_data.query(\"anime_id in @the_user_positives\")[[\"anime_id\", \"title\", \"synopsis\", \"genre\"]]"
   ]
  },
  {
   "cell_type": "code",
   "execution_count": 220,
   "metadata": {},
   "outputs": [
    {
     "data": {
      "text/plain": [
       "anime_id\n",
       "1    Cowboy Bebop; Action, Adventure, Comedy, Drama...\n",
       "5    Cowboy Bebop: Tengoku no Tobira; Action, Drama...\n",
       "Name: tokens, dtype: object"
      ]
     },
     "execution_count": 220,
     "metadata": {},
     "output_type": "execute_result"
    }
   ],
   "source": [
    "all_anime_data[\"tokens\"].head(2)"
   ]
  },
  {
   "cell_type": "code",
   "execution_count": 218,
   "metadata": {},
   "outputs": [],
   "source": [
    "# anime_data['anime_id'] == all_anime_data.index"
   ]
  },
  {
   "cell_type": "code",
   "execution_count": 1,
   "metadata": {},
   "outputs": [],
   "source": [
    "# Construct the user's vector\n",
    "# user_vector = "
   ]
  },
  {
   "cell_type": "code",
   "execution_count": 221,
   "metadata": {},
   "outputs": [
    {
     "data": {
      "text/plain": [
       "<16216x10571 sparse matrix of type '<class 'numpy.int64'>'\n",
       "\twith 494862 stored elements in Compressed Sparse Row format>"
      ]
     },
     "execution_count": 221,
     "metadata": {},
     "output_type": "execute_result"
    }
   ],
   "source": [
    "full_item_feature_matrix = sim_params[1].transform(all_anime_data[\"tokens\"])\n",
    "full_item_feature_matrix"
   ]
  },
  {
   "cell_type": "code",
   "execution_count": 3,
   "metadata": {},
   "outputs": [],
   "source": [
    "weights = sparse_norm(full_item_feature_matrix, axis=1) * np.linalg.norm(user_vector)\n",
    "weights"
   ]
  },
  {
   "cell_type": "code",
   "execution_count": 4,
   "metadata": {},
   "outputs": [],
   "source": [
    "# get the scores\n",
    "# scores = "
   ]
  },
  {
   "cell_type": "code",
   "execution_count": null,
   "metadata": {},
   "outputs": [],
   "source": []
  },
  {
   "cell_type": "code",
   "execution_count": 225,
   "metadata": {},
   "outputs": [
    {
     "data": {
      "text/html": [
       "<div>\n",
       "<style scoped>\n",
       "    .dataframe tbody tr th:only-of-type {\n",
       "        vertical-align: middle;\n",
       "    }\n",
       "\n",
       "    .dataframe tbody tr th {\n",
       "        vertical-align: top;\n",
       "    }\n",
       "\n",
       "    .dataframe thead th {\n",
       "        text-align: right;\n",
       "    }\n",
       "</style>\n",
       "<table border=\"1\" class=\"dataframe\">\n",
       "  <thead>\n",
       "    <tr style=\"text-align: right;\">\n",
       "      <th></th>\n",
       "      <th>anime_idx</th>\n",
       "      <th>score</th>\n",
       "      <th>anime_id</th>\n",
       "      <th>title</th>\n",
       "      <th>synopsis</th>\n",
       "      <th>genre</th>\n",
       "    </tr>\n",
       "  </thead>\n",
       "  <tbody>\n",
       "    <tr>\n",
       "      <th>0</th>\n",
       "      <td>6991</td>\n",
       "      <td>0.709211</td>\n",
       "      <td>13759</td>\n",
       "      <td>Sakura-sou no Pet na Kanojo</td>\n",
       "      <td>When abandoned kittens and his good conscience...</td>\n",
       "      <td>Slice of Life, Comedy, Drama, Romance, School</td>\n",
       "    </tr>\n",
       "    <tr>\n",
       "      <th>1</th>\n",
       "      <td>7891</td>\n",
       "      <td>0.647430</td>\n",
       "      <td>18679</td>\n",
       "      <td>Kill la Kill</td>\n",
       "      <td>After the murder of her father, Ryuuko Matoi h...</td>\n",
       "      <td>Action, Comedy, Super Power, Ecchi, School</td>\n",
       "    </tr>\n",
       "    <tr>\n",
       "      <th>2</th>\n",
       "      <td>9813</td>\n",
       "      <td>0.581300</td>\n",
       "      <td>28817</td>\n",
       "      <td>Mikagura Gakuen Kumikyoku (TV)</td>\n",
       "      <td>To be around cute girls wearing cute clothing ...</td>\n",
       "      <td>Action, Comedy, School, Shoujo Ai</td>\n",
       "    </tr>\n",
       "    <tr>\n",
       "      <th>3</th>\n",
       "      <td>10876</td>\n",
       "      <td>0.283980</td>\n",
       "      <td>31439</td>\n",
       "      <td>Wagamama High Spec</td>\n",
       "      <td>The adorable girls of Ousui Academy's student ...</td>\n",
       "      <td>Comedy, School</td>\n",
       "    </tr>\n",
       "    <tr>\n",
       "      <th>4</th>\n",
       "      <td>10421</td>\n",
       "      <td>0.278473</td>\n",
       "      <td>30355</td>\n",
       "      <td>Wakaba*Girl</td>\n",
       "      <td>Wakaba Kohashi, a sheltered rich girl, dreams ...</td>\n",
       "      <td>Comedy, School, Slice of Life</td>\n",
       "    </tr>\n",
       "    <tr>\n",
       "      <th>5</th>\n",
       "      <td>8442</td>\n",
       "      <td>0.273352</td>\n",
       "      <td>21635</td>\n",
       "      <td>GJ-bu@</td>\n",
       "      <td>During the school's spring break, Kyouya \"Kyor...</td>\n",
       "      <td>Comedy, School, Slice of Life</td>\n",
       "    </tr>\n",
       "    <tr>\n",
       "      <th>6</th>\n",
       "      <td>54</td>\n",
       "      <td>0.268745</td>\n",
       "      <td>74</td>\n",
       "      <td>Gakuen Alice</td>\n",
       "      <td>Mikan Sakura is a normal 10-year-old girl. Opt...</td>\n",
       "      <td>Comedy, School, Shoujo, Super Power</td>\n",
       "    </tr>\n",
       "    <tr>\n",
       "      <th>7</th>\n",
       "      <td>6916</td>\n",
       "      <td>0.267355</td>\n",
       "      <td>13367</td>\n",
       "      <td>Kono Naka ni Hitori, Imouto ga Iru!</td>\n",
       "      <td>Shougo Mikadono's father has just passed away,...</td>\n",
       "      <td>Comedy, Ecchi, Harem, Mystery, Romance, School</td>\n",
       "    </tr>\n",
       "    <tr>\n",
       "      <th>8</th>\n",
       "      <td>14729</td>\n",
       "      <td>0.262539</td>\n",
       "      <td>38295</td>\n",
       "      <td>Joshikausei</td>\n",
       "      <td>Momoko Futo is an average high-school girl goi...</td>\n",
       "      <td>Comedy, School, Slice of Life</td>\n",
       "    </tr>\n",
       "    <tr>\n",
       "      <th>9</th>\n",
       "      <td>15583</td>\n",
       "      <td>0.261950</td>\n",
       "      <td>39570</td>\n",
       "      <td>High Score Girl II</td>\n",
       "      <td>The year is 1996, and second-year high school ...</td>\n",
       "      <td>Comedy, Game, Romance, School, Seinen</td>\n",
       "    </tr>\n",
       "  </tbody>\n",
       "</table>\n",
       "</div>"
      ],
      "text/plain": [
       "   anime_idx     score  anime_id                                title  \\\n",
       "0       6991  0.709211     13759          Sakura-sou no Pet na Kanojo   \n",
       "1       7891  0.647430     18679                         Kill la Kill   \n",
       "2       9813  0.581300     28817       Mikagura Gakuen Kumikyoku (TV)   \n",
       "3      10876  0.283980     31439                   Wagamama High Spec   \n",
       "4      10421  0.278473     30355                          Wakaba*Girl   \n",
       "5       8442  0.273352     21635                               GJ-bu@   \n",
       "6         54  0.268745        74                         Gakuen Alice   \n",
       "7       6916  0.267355     13367  Kono Naka ni Hitori, Imouto ga Iru!   \n",
       "8      14729  0.262539     38295                          Joshikausei   \n",
       "9      15583  0.261950     39570                   High Score Girl II   \n",
       "\n",
       "                                            synopsis  \\\n",
       "0  When abandoned kittens and his good conscience...   \n",
       "1  After the murder of her father, Ryuuko Matoi h...   \n",
       "2  To be around cute girls wearing cute clothing ...   \n",
       "3  The adorable girls of Ousui Academy's student ...   \n",
       "4  Wakaba Kohashi, a sheltered rich girl, dreams ...   \n",
       "5  During the school's spring break, Kyouya \"Kyor...   \n",
       "6  Mikan Sakura is a normal 10-year-old girl. Opt...   \n",
       "7  Shougo Mikadono's father has just passed away,...   \n",
       "8  Momoko Futo is an average high-school girl goi...   \n",
       "9  The year is 1996, and second-year high school ...   \n",
       "\n",
       "                                            genre  \n",
       "0   Slice of Life, Comedy, Drama, Romance, School  \n",
       "1      Action, Comedy, Super Power, Ecchi, School  \n",
       "2               Action, Comedy, School, Shoujo Ai  \n",
       "3                                  Comedy, School  \n",
       "4                   Comedy, School, Slice of Life  \n",
       "5                   Comedy, School, Slice of Life  \n",
       "6             Comedy, School, Shoujo, Super Power  \n",
       "7  Comedy, Ecchi, Harem, Mystery, Romance, School  \n",
       "8                   Comedy, School, Slice of Life  \n",
       "9           Comedy, Game, Romance, School, Seinen  "
      ]
     },
     "execution_count": 225,
     "metadata": {},
     "output_type": "execute_result"
    }
   ],
   "source": [
    "the_user_pred = top_idx(scores, topk=10)\n",
    "\n",
    "\n",
    "pd.DataFrame({\"anime_idx\": the_user_pred, \"score\": scores[the_user_pred]}).merge(anime_data[[\"anime_id\", \"title\", \"synopsis\", \"genre\"]], left_on=\"anime_idx\", right_index=True)"
   ]
  },
  {
   "cell_type": "markdown",
   "metadata": {},
   "source": [
    "#### Is this evaluation by favorite genres completly fair? "
   ]
  },
  {
   "cell_type": "code",
   "execution_count": null,
   "metadata": {},
   "outputs": [],
   "source": []
  }
 ],
 "metadata": {
  "colab": {
   "provenance": []
  },
  "kernelspec": {
   "display_name": "Python 3 (ipykernel)",
   "language": "python",
   "name": "python3"
  },
  "language_info": {
   "codemirror_mode": {
    "name": "ipython",
    "version": 3
   },
   "file_extension": ".py",
   "mimetype": "text/x-python",
   "name": "python",
   "nbconvert_exporter": "python",
   "pygments_lexer": "ipython3",
   "version": "3.9.7"
  }
 },
 "nbformat": 4,
 "nbformat_minor": 4
}
